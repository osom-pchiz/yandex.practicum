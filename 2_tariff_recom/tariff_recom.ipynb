{
 "cells": [
  {
   "cell_type": "markdown",
   "metadata": {},
   "source": [
    "# Рекомендация тарифов"
   ]
  },
  {
   "cell_type": "markdown",
   "metadata": {},
   "source": [
    "В вашем распоряжении данные о поведении клиентов, которые уже перешли на эти тарифы (из проекта курса «Статистический анализ данных»). Нужно построить модель для задачи классификации, которая выберет подходящий тариф. Предобработка данных не понадобится — вы её уже сделали.\n",
    "\n",
    "Постройте модель с максимально большим значением *accuracy*. Чтобы сдать проект успешно, нужно довести долю правильных ответов по крайней мере до 0.75. Проверьте *accuracy* на тестовой выборке самостоятельно."
   ]
  },
  {
   "cell_type": "markdown",
   "metadata": {},
   "source": [
    "---\n",
    "<h1>Содержание</h1>\n",
    "<li><span><a href=\"#Открытие-и-изучение-файла-с-датасетом\" data-toc-modified-id=\"Открытие-и-изучение-файла-с-датасетом-1\"><span class=\"toc-item-num\">1&nbsp;&nbsp;</span>Открытие и изучение файла с датасетом</a></span></li>\n",
    "<li><span><a href=\"#Разбивка-данных-на-выборки\" data-toc-modified-id=\"Разбивка-данных-на-выборки-2\"><span class=\"toc-item-num\">2&nbsp;&nbsp;</span>Разбивка данных на выборки</a></span></li>\n",
    "<li><span><a href=\"#Исследование-моделей\" data-toc-modified-id=\"Исследование-моделей-3\"><span class=\"toc-item-num\">3&nbsp;&nbsp;</span>Исследование моделей</a></span></li>\n",
    "<li><span><a href=\"#Проверьте-модель-на-тестовой-выборке\" data-toc-modified-id=\"Проверьте-модель-на-тестовой-выборке-4\"><span class=\"toc-item-num\">4&nbsp;&nbsp;</span>Проверьте модель на тестовой выборке</a></span></li></ul></div>\n",
    "<li><span><a href=\"#Проверка-модели-на-адекватность\" data-toc-modified-id=\"Проверка-модели-на-адекватность-5\"><span class=\"toc-item-num\">5&nbsp;&nbsp;</span>Проверка модели на адекватность</a></span></li>\n",
    "<li><span><a href=\"#Общий-вывод\" data-toc-modified-id=\"Общий-вывод-6\"><span class=\"toc-item-num\">6&nbsp;&nbsp;</span>Общий вывод</a></span></li>\n",
    "<li><span><a href=\"#Чек-лист-готовности-проекта\" data-toc-modified-id=\"Чек-лист-готовности-проекта-7\"><span class=\"toc-item-num\">7&nbsp;&nbsp;</span>Чек-лист готовности проекта</a></span></li>"
   ]
  },
  {
   "cell_type": "markdown",
   "metadata": {},
   "source": [
    "---\n",
    "## Открытие и изучение файла с датасетом\n",
    "[К содержанию](#Содержание)"
   ]
  },
  {
   "cell_type": "markdown",
   "metadata": {},
   "source": [
    "Сначала импортируем всё, что нам может понадобиться при рассчетах."
   ]
  },
  {
   "cell_type": "code",
   "execution_count": 1,
   "metadata": {},
   "outputs": [],
   "source": [
    "import pandas as pd\n",
    "from sklearn.model_selection import train_test_split\n",
    "\n",
    "from sklearn.tree import DecisionTreeClassifier\n",
    "from sklearn.ensemble import RandomForestClassifier\n",
    "from sklearn.linear_model import LogisticRegression\n",
    "\n",
    "from sklearn.dummy import DummyRegressor\n",
    "from sklearn.dummy import DummyClassifier\n",
    "\n",
    "from sklearn.metrics import accuracy_score\n",
    "from sklearn.metrics import mean_squared_error\n",
    "\n",
    "rs = 12345 #зададим значение random_state один раз и на весь проект"
   ]
  },
  {
   "cell_type": "markdown",
   "metadata": {},
   "source": [
    "Изучим исходные данные."
   ]
  },
  {
   "cell_type": "code",
   "execution_count": 2,
   "metadata": {},
   "outputs": [
    {
     "name": "stdout",
     "output_type": "stream",
     "text": [
      "<class 'pandas.core.frame.DataFrame'>\n",
      "RangeIndex: 3214 entries, 0 to 3213\n",
      "Data columns (total 5 columns):\n",
      "calls       3214 non-null float64\n",
      "minutes     3214 non-null float64\n",
      "messages    3214 non-null float64\n",
      "mb_used     3214 non-null float64\n",
      "is_ultra    3214 non-null int64\n",
      "dtypes: float64(4), int64(1)\n",
      "memory usage: 125.7 KB\n"
     ]
    },
    {
     "data": {
      "text/html": [
       "<div>\n",
       "<style scoped>\n",
       "    .dataframe tbody tr th:only-of-type {\n",
       "        vertical-align: middle;\n",
       "    }\n",
       "\n",
       "    .dataframe tbody tr th {\n",
       "        vertical-align: top;\n",
       "    }\n",
       "\n",
       "    .dataframe thead th {\n",
       "        text-align: right;\n",
       "    }\n",
       "</style>\n",
       "<table border=\"1\" class=\"dataframe\">\n",
       "  <thead>\n",
       "    <tr style=\"text-align: right;\">\n",
       "      <th></th>\n",
       "      <th>calls</th>\n",
       "      <th>minutes</th>\n",
       "      <th>messages</th>\n",
       "      <th>mb_used</th>\n",
       "      <th>is_ultra</th>\n",
       "    </tr>\n",
       "  </thead>\n",
       "  <tbody>\n",
       "    <tr>\n",
       "      <td>0</td>\n",
       "      <td>40.0</td>\n",
       "      <td>311.90</td>\n",
       "      <td>83.0</td>\n",
       "      <td>19915.42</td>\n",
       "      <td>0</td>\n",
       "    </tr>\n",
       "    <tr>\n",
       "      <td>1</td>\n",
       "      <td>85.0</td>\n",
       "      <td>516.75</td>\n",
       "      <td>56.0</td>\n",
       "      <td>22696.96</td>\n",
       "      <td>0</td>\n",
       "    </tr>\n",
       "    <tr>\n",
       "      <td>2</td>\n",
       "      <td>77.0</td>\n",
       "      <td>467.66</td>\n",
       "      <td>86.0</td>\n",
       "      <td>21060.45</td>\n",
       "      <td>0</td>\n",
       "    </tr>\n",
       "    <tr>\n",
       "      <td>3</td>\n",
       "      <td>106.0</td>\n",
       "      <td>745.53</td>\n",
       "      <td>81.0</td>\n",
       "      <td>8437.39</td>\n",
       "      <td>1</td>\n",
       "    </tr>\n",
       "    <tr>\n",
       "      <td>4</td>\n",
       "      <td>66.0</td>\n",
       "      <td>418.74</td>\n",
       "      <td>1.0</td>\n",
       "      <td>14502.75</td>\n",
       "      <td>0</td>\n",
       "    </tr>\n",
       "    <tr>\n",
       "      <td>5</td>\n",
       "      <td>58.0</td>\n",
       "      <td>344.56</td>\n",
       "      <td>21.0</td>\n",
       "      <td>15823.37</td>\n",
       "      <td>0</td>\n",
       "    </tr>\n",
       "    <tr>\n",
       "      <td>6</td>\n",
       "      <td>57.0</td>\n",
       "      <td>431.64</td>\n",
       "      <td>20.0</td>\n",
       "      <td>3738.90</td>\n",
       "      <td>1</td>\n",
       "    </tr>\n",
       "    <tr>\n",
       "      <td>7</td>\n",
       "      <td>15.0</td>\n",
       "      <td>132.40</td>\n",
       "      <td>6.0</td>\n",
       "      <td>21911.60</td>\n",
       "      <td>0</td>\n",
       "    </tr>\n",
       "    <tr>\n",
       "      <td>8</td>\n",
       "      <td>7.0</td>\n",
       "      <td>43.39</td>\n",
       "      <td>3.0</td>\n",
       "      <td>2538.67</td>\n",
       "      <td>1</td>\n",
       "    </tr>\n",
       "    <tr>\n",
       "      <td>9</td>\n",
       "      <td>90.0</td>\n",
       "      <td>665.41</td>\n",
       "      <td>38.0</td>\n",
       "      <td>17358.61</td>\n",
       "      <td>0</td>\n",
       "    </tr>\n",
       "  </tbody>\n",
       "</table>\n",
       "</div>"
      ],
      "text/plain": [
       "   calls  minutes  messages   mb_used  is_ultra\n",
       "0   40.0   311.90      83.0  19915.42         0\n",
       "1   85.0   516.75      56.0  22696.96         0\n",
       "2   77.0   467.66      86.0  21060.45         0\n",
       "3  106.0   745.53      81.0   8437.39         1\n",
       "4   66.0   418.74       1.0  14502.75         0\n",
       "5   58.0   344.56      21.0  15823.37         0\n",
       "6   57.0   431.64      20.0   3738.90         1\n",
       "7   15.0   132.40       6.0  21911.60         0\n",
       "8    7.0    43.39       3.0   2538.67         1\n",
       "9   90.0   665.41      38.0  17358.61         0"
      ]
     },
     "execution_count": 2,
     "metadata": {},
     "output_type": "execute_result"
    }
   ],
   "source": [
    "df = pd.read_csv('/datasets/users_behavior.csv')\n",
    "df.info()\n",
    "df.head(10)"
   ]
  },
  {
   "cell_type": "markdown",
   "metadata": {},
   "source": [
    "Всего 3214 объектов с 5 признаками. Так как нам нужно понять, кому из клиентов стоит порекомендовать тариф \"Ультра\", целевым признаком у нас будет являться значение столбца is_ultra. Так как вариантов столбца всего два - мы будем решать задачу бинарной классификации.\n",
    "\n",
    "Предоставленные данные уже были предобработаны, в них отсутствуют пропуски. Типы данных можно было бы заменить (количество звонков \"calls\" и количество сообщений \"messages\" на целочисленные int, а is_ultra на булев bool), однако для нашей работы подойдут и данные имеющихся типов.\n",
    "\n",
    "Посмотрим, сколько у нас пользователей тарифа \"Ультра\" в датасете:"
   ]
  },
  {
   "cell_type": "code",
   "execution_count": 3,
   "metadata": {},
   "outputs": [
    {
     "data": {
      "text/plain": [
       "0.30647168637212197"
      ]
     },
     "execution_count": 3,
     "metadata": {},
     "output_type": "execute_result"
    }
   ],
   "source": [
    "len(df[df['is_ultra'] == 1])/len(df)"
   ]
  },
  {
   "cell_type": "markdown",
   "metadata": {},
   "source": [
    "Примерно 30.65%."
   ]
  },
  {
   "cell_type": "markdown",
   "metadata": {},
   "source": [
    "---\n",
    "## Разбивка данных на выборки\n",
    "[К содержанию](#Содержание)"
   ]
  },
  {
   "cell_type": "markdown",
   "metadata": {},
   "source": [
    "Разобьем данные сначала на датасет с целевыми и прочими признаками. А затем разобьем эти датасеты на три части: учебную, валидационную и тестовую. Так как функции для разбивки на три части мне найти не удалось, просто применим разбивку на две части дважды.\n",
    "\n",
    "Сначала разобьем датасет на две части в 20% и 80% от исходного датасета. Затем разобьем полученные 80% в пропорции 25% и 75%.  \n",
    "Таким образом мы получим три выборки:\n",
    "\n",
    "* учебную, составляющую 60% от исходного датасета\n",
    "* валидационную, 20% от исходного датасета\n",
    "* тестовую, 20% от исходного датасета"
   ]
  },
  {
   "cell_type": "code",
   "execution_count": 4,
   "metadata": {},
   "outputs": [
    {
     "name": "stdout",
     "output_type": "stream",
     "text": [
      "Размер обучающей выборки относительно всего датасета 60.0% \n",
      "Размер валидационной выборки относительно всего датасета 20.0% \n",
      "Размер тестовой выборки относительно всего датасета 20.0% \n"
     ]
    }
   ],
   "source": [
    "features = df.drop('is_ultra', axis=1)\n",
    "target = df['is_ultra']\n",
    "\n",
    "features_train_test, features_valid, target_train_test, target_valid = train_test_split(\n",
    "    features,\n",
    "    target,\n",
    "    test_size=.20,\n",
    "    random_state=rs)\n",
    "\n",
    "features_train, features_test, target_train, target_test = train_test_split(\n",
    "    features_train_test,\n",
    "    target_train_test,\n",
    "    test_size=.25,\n",
    "    random_state=rs)\n",
    "\n",
    "print('Размер обучающей выборки относительно всего датасета {:.1%} '.format(len(features_train)/len(df)))\n",
    "print('Размер валидационной выборки относительно всего датасета {:.1%} '.format(len(features_valid)/len(df)))\n",
    "print('Размер тестовой выборки относительно всего датасета {:.1%} '.format(len(features_test)/len(df)))"
   ]
  },
  {
   "cell_type": "markdown",
   "metadata": {},
   "source": [
    "---\n",
    "## Исследование моделей\n",
    "[К содержанию](#Содержание)"
   ]
  },
  {
   "cell_type": "markdown",
   "metadata": {},
   "source": [
    "Исследуем каждую из трех моделей, изученных в курсе, подобрав в циклах оптимальные гипермараметры чтобы получить максимально возможное качество модели. Для определения качества мы будем использовать метрику <b>accuracy</b>, доля правильных ответов, данных моделью."
   ]
  },
  {
   "cell_type": "markdown",
   "metadata": {},
   "source": [
    "### Классификация древом решений"
   ]
  },
  {
   "cell_type": "markdown",
   "metadata": {},
   "source": [
    "Начнем с классификации с помощью модели древа решений. Тут мы будем в цикле подбирать глубину max_depth. Если выбрать слишком малое значение, мождель получится недообученной, а если слишком высокое - переобученной. В цикле создадим и обучим модели с глубиной от 1 до 10 и сравним accuracy каждой из десяти. Выведем на экран все десять возможных вариантов с величиной их accuracy. Кроме того определим, при каком значении гиперпараметра модель получается наиболее точная."
   ]
  },
  {
   "cell_type": "code",
   "execution_count": 5,
   "metadata": {},
   "outputs": [
    {
     "name": "stdout",
     "output_type": "stream",
     "text": [
      "При max_depth = 1  accuracy модели: 0.7480559875583204\n",
      "При max_depth = 2  accuracy модели: 0.7838258164852255\n",
      "При max_depth = 3  accuracy модели: 0.7869362363919129\n",
      "При max_depth = 4  accuracy модели: 0.7869362363919129\n",
      "При max_depth = 5  accuracy модели: 0.7884914463452566\n",
      "При max_depth = 6  accuracy модели: 0.7791601866251944\n",
      "При max_depth = 7  accuracy модели: 0.7884914463452566\n",
      "При max_depth = 8  accuracy модели: 0.7807153965785381\n",
      "При max_depth = 9  accuracy модели: 0.7776049766718507\n",
      "При max_depth = 10  accuracy модели: 0.7713841368584758\n",
      "\n",
      "Оптимальное значение max_depth = 5  accuracy модели при этом: 0.7884914463452566\n"
     ]
    }
   ],
   "source": [
    "accuracy_tree_best = 0\n",
    "i_tree_best = 0\n",
    "for i in range(1, 11):\n",
    "    model_tree = DecisionTreeClassifier(random_state=rs, max_depth=i)\n",
    "    model_tree.fit(features_train, target_train)\n",
    "    train_predictions = model_tree.predict(features_valid)\n",
    "    accuracy = accuracy_score(target_valid, train_predictions)\n",
    "    print('При max_depth =', i, ' accuracy модели:', accuracy)\n",
    "    if accuracy > accuracy_tree_best:\n",
    "        accuracy_tree_best = accuracy\n",
    "        i_tree_best = i\n",
    "print()\n",
    "print('Оптимальное значение max_depth =', i_tree_best, ' accuracy модели при этом:', accuracy_tree_best)"
   ]
  },
  {
   "cell_type": "markdown",
   "metadata": {},
   "source": [
    "Максимально возможное accuracy классификации моделью древа решений 78.85% при глубине дерева в 5.\n",
    "\n",
    "В работе я показываю проверку значений гиперпараметра до 10. Однако, я проверил, что получается при значении выше, до 50. Наибольшее accuracy модели при имеющихся исходных данных и значении random_state получается именно при глубине 5. Чтобы не перегружать работу, я не стал показывать этот перебор."
   ]
  },
  {
   "cell_type": "markdown",
   "metadata": {},
   "source": [
    "### Классификация моделью случайного леса"
   ]
  },
  {
   "cell_type": "markdown",
   "metadata": {},
   "source": [
    "Далее исследуем классификацию моделью случайного леса. Тут мы будем подбирать два гиперпараметра: кроме глубины max_depth мы будем подбирать количество деревьев в лесу n_estimators. В цикле создадим и обучим модели с глубиной от 1 до 10 и с количеством деревьев от 10 до 50 с шагом в 10. Так как возможных комбинаций получается 50 штук, мы не будем выводить все на экран, а выведем только комбинацию с максимальным accuracy."
   ]
  },
  {
   "cell_type": "code",
   "execution_count": 6,
   "metadata": {},
   "outputs": [
    {
     "name": "stdout",
     "output_type": "stream",
     "text": [
      "Оптимальное значение max_depth = 6  и n_estimators = 20 , accuracy модели при этом: 0.8009331259720062\n"
     ]
    }
   ],
   "source": [
    "accuracy_forest_best = 0\n",
    "i_forest_best = 0\n",
    "es_forest_best = 0\n",
    "for i in range(1, 11):\n",
    "    for es in range(10, 51, 10):\n",
    "        model_forest = RandomForestClassifier(random_state=rs, n_estimators=es, max_depth=i)\n",
    "        model_forest.fit(features_train, target_train)\n",
    "        train_predictions = model_forest.predict(features_valid)\n",
    "        accuracy = accuracy_score(target_valid, train_predictions)\n",
    "        #print('При max_depth =', i, ' и n_estimators=', es, ' accuracy модели:', accuracy)\n",
    "        if accuracy > accuracy_forest_best:\n",
    "            accuracy_forest_best = accuracy\n",
    "            i_forest_best = i\n",
    "            es_forest_best = es\n",
    "print('Оптимальное значение max_depth =', i_forest_best, ' и n_estimators =', es_forest_best, ', accuracy модели при этом:', accuracy_forest_best)"
   ]
  },
  {
   "cell_type": "markdown",
   "metadata": {},
   "source": [
    "Максимальное accuracy модели случайного леса в 80.10% достигается при глубине 6 и количестве деревьев равном 20.\n",
    "\n",
    "Я так же проверил accuracy модели при более широких диапазонах гиперпараметров. Существуют комбинации с более высоким accuracy (например, при n_estimators=100 и max_depth=9 accuracy модели составляет 80.40%), однако я посчитал, что десятые доли процента метрики не стоят того времени, которое требуется для их рассчета, поэтому в данном проекте я ограничился величинами, указанными в коде выше."
   ]
  },
  {
   "cell_type": "markdown",
   "metadata": {},
   "source": [
    "### Классификация моделью логистической регрессии"
   ]
  },
  {
   "cell_type": "markdown",
   "metadata": {},
   "source": [
    "И наконец посмотрим accuracy при классификации моделью логистической регрессии. К сожалению, я не смог разобраться даже с помощью [документации](https://scikit-learn.org/stable/modules/generated/sklearn.linear_model.LogisticRegression.html?highlight=logisticregression#sklearn-linear-model-logisticregression), как работает этот \"черный ящик\". У него есть ряд гиперпараметров, некоторые я пробовал изменять, но это не помогло мне улучшить accuracy модели. Видимо, для этого нужно глубже понимать, как работает сама модель. Так что я просто обучил модель и проанализировал результат."
   ]
  },
  {
   "cell_type": "code",
   "execution_count": 7,
   "metadata": {},
   "outputs": [
    {
     "name": "stdout",
     "output_type": "stream",
     "text": [
      "Accuracy при классификации моделью логистической регрессии: 0.7589424572317263\n"
     ]
    }
   ],
   "source": [
    "model_logistic = LogisticRegression(random_state=rs, solver='lbfgs', max_iter=200)\n",
    "model_logistic.fit(features_train, target_train)\n",
    "train_predictions = model_logistic.predict(features_valid)\n",
    "accuracy_logistic = accuracy_score(target_valid, train_predictions)\n",
    "print('Accuracy при классификации моделью логистической регрессии:', accuracy_logistic)\n"
   ]
  },
  {
   "cell_type": "markdown",
   "metadata": {},
   "source": [
    "Качество модели логистической регрессии равно 75.89%."
   ]
  },
  {
   "cell_type": "markdown",
   "metadata": {},
   "source": [
    "### Вывод из исследования моделей"
   ]
  },
  {
   "cell_type": "markdown",
   "metadata": {},
   "source": [
    "Таким образом, проверив три модели, изученные в курсе, мы определили параметры каждой из них, при которых accuracy моделей на имеющихся данных максимально.\n",
    "\n",
    "|Модель |Accuracy|Примечание|\n",
    "|:-----|----:|:----|\n",
    "|Древо решений |78.85% |При max_depth = 5|\n",
    "|Случайный лес |80.10% |При max_depth = 6  и n_estimators = 20|\n",
    "|Логистическая регрессия |75.89% |-|\n",
    "\n",
    "На наших данных наилучшее значение метрики показала модель случайного леса, её мы и будем проверять на тестовой выборке.\n"
   ]
  },
  {
   "cell_type": "markdown",
   "metadata": {},
   "source": [
    "---\n",
    "## Проверьте модель на тестовой выборке\n",
    "[К содержанию](#Содержание)"
   ]
  },
  {
   "cell_type": "markdown",
   "metadata": {},
   "source": [
    "Возьмем выбранную модель с оптимальными параметрами и проверим её на тестовой выборке, созданной во втором разделе проекта.  \n",
    "Используем гиперпараметры модели, при котор на наших учебных данных модель обучалась с максимальным значением accuracy."
   ]
  },
  {
   "cell_type": "code",
   "execution_count": 8,
   "metadata": {
    "scrolled": false
   },
   "outputs": [
    {
     "name": "stdout",
     "output_type": "stream",
     "text": [
      "Accuracy модели на тестовых данных 0.7853810264385692\n"
     ]
    }
   ],
   "source": [
    "model_test = RandomForestClassifier(random_state=rs, n_estimators=es_forest_best, max_depth=i_forest_best)\n",
    "model_test.fit(features_train, target_train)\n",
    "train_predictions_test = model_test.predict(features_test)\n",
    "accuracy_test = accuracy_score(target_test, train_predictions_test)\n",
    "print('Accuracy модели на тестовых данных', accuracy_test)        "
   ]
  },
  {
   "cell_type": "markdown",
   "metadata": {},
   "source": [
    "На тестовом датасете наша модель демонстрирует accuracy 78.54%. Это приемлимо, согласно условий задания необходимо получить значение как минимум в 75%."
   ]
  },
  {
   "cell_type": "markdown",
   "metadata": {},
   "source": [
    "---\n",
    "## Проверка модели на адекватность\n",
    "[К содержанию](#Содержание)"
   ]
  },
  {
   "cell_type": "code",
   "execution_count": 16,
   "metadata": {},
   "outputs": [
    {
     "name": "stdout",
     "output_type": "stream",
     "text": [
      "Accuracy константной модели на тестовых данных 0.6889580093312597\n"
     ]
    }
   ],
   "source": [
    "dummy = DummyClassifier(strategy='most_frequent')\n",
    "dummy.fit(features_train, target_train)\n",
    "\n",
    "dummy_predictions = dummy.predict(features_test)\n",
    "accuracy_dummy = accuracy_score(target_test, dummy_predictions)\n",
    "print('Accuracy константной модели на тестовых данных', accuracy_dummy) "
   ]
  },
  {
   "cell_type": "markdown",
   "metadata": {},
   "source": [
    "Accuracy модели, обученной нами выше accuracy константной модели, а следовательно наша модель адекватна."
   ]
  },
  {
   "cell_type": "markdown",
   "metadata": {},
   "source": [
    "___"
   ]
  },
  {
   "cell_type": "markdown",
   "metadata": {},
   "source": [
    "## Общий вывод\n",
    "[К содержанию](#Содержание)"
   ]
  },
  {
   "cell_type": "markdown",
   "metadata": {},
   "source": [
    "В ходе работы мы ознакомились с данными, проанализировали их и построили на их основе несколько моделей, подбирая наиболее эффективную на данном датасете.\n",
    "\n",
    "В итоге лучше всего себя показала модель случайного леса, которую мы и протестировали на специально выделенной части данных.\n",
    "\n",
    "Полученная модель на тестовых данных показала accuracy в 78.54%, что лучше минимально необходимого значения в 75%.\n",
    "\n",
    "Это значит, что обученная модель пригодна для определения подходящего пользователю тарифа.\n",
    "\n",
    "Кроме того, модель была проверена на адекватность путем сравнения accuracy модели со значением той же метрики для константной модели. Accuracy константной модели оказалось ниже, что значит наша модель адекватна."
   ]
  },
  {
   "cell_type": "code",
   "execution_count": null,
   "metadata": {},
   "outputs": [],
   "source": []
  }
 ],
 "metadata": {
  "ExecuteTimeLog": [
   {
    "duration": 545,
    "start_time": "2021-09-19T08:18:31.559Z"
   },
   {
    "duration": 5,
    "start_time": "2021-09-19T08:24:01.909Z"
   },
   {
    "duration": 601,
    "start_time": "2021-09-19T08:24:42.179Z"
   },
   {
    "duration": 5412,
    "start_time": "2021-09-19T08:24:52.493Z"
   },
   {
    "duration": 180,
    "start_time": "2021-09-19T08:25:16.395Z"
   },
   {
    "duration": 4,
    "start_time": "2021-09-19T08:25:22.403Z"
   },
   {
    "duration": 5,
    "start_time": "2021-09-19T08:25:39.075Z"
   },
   {
    "duration": 3,
    "start_time": "2021-09-19T08:25:51.748Z"
   },
   {
    "duration": 13,
    "start_time": "2021-09-19T08:27:39.485Z"
   },
   {
    "duration": 14,
    "start_time": "2021-09-19T08:27:56.331Z"
   },
   {
    "duration": 12,
    "start_time": "2021-09-19T08:28:29.376Z"
   },
   {
    "duration": 325,
    "start_time": "2021-09-19T08:47:35.224Z"
   },
   {
    "duration": 240,
    "start_time": "2021-09-19T08:47:59.451Z"
   },
   {
    "duration": 407,
    "start_time": "2021-09-19T08:48:29.954Z"
   },
   {
    "duration": 374,
    "start_time": "2021-09-19T08:48:53.747Z"
   },
   {
    "duration": 362,
    "start_time": "2021-09-19T08:49:16.040Z"
   },
   {
    "duration": 222,
    "start_time": "2021-09-19T12:36:52.516Z"
   },
   {
    "duration": 383,
    "start_time": "2021-09-19T12:37:04.714Z"
   },
   {
    "duration": 11,
    "start_time": "2021-09-19T12:37:10.358Z"
   },
   {
    "duration": 982,
    "start_time": "2021-09-19T12:47:44.256Z"
   },
   {
    "duration": 9,
    "start_time": "2021-09-19T12:47:45.240Z"
   },
   {
    "duration": 4,
    "start_time": "2021-09-19T12:47:45.251Z"
   },
   {
    "duration": 5,
    "start_time": "2021-09-19T12:47:45.257Z"
   },
   {
    "duration": 13,
    "start_time": "2021-09-19T12:48:21.703Z"
   },
   {
    "duration": 6,
    "start_time": "2021-09-19T12:48:36.815Z"
   },
   {
    "duration": 5,
    "start_time": "2021-09-19T12:50:00.702Z"
   },
   {
    "duration": 6,
    "start_time": "2021-09-19T12:53:46.036Z"
   },
   {
    "duration": 1091,
    "start_time": "2021-09-19T12:54:32.454Z"
   },
   {
    "duration": 183,
    "start_time": "2021-09-19T12:55:02.781Z"
   },
   {
    "duration": 6,
    "start_time": "2021-09-19T12:55:19.220Z"
   },
   {
    "duration": 6,
    "start_time": "2021-09-19T12:55:35.856Z"
   },
   {
    "duration": 5,
    "start_time": "2021-09-19T12:55:48.335Z"
   },
   {
    "duration": 1113,
    "start_time": "2021-09-19T13:00:56.976Z"
   },
   {
    "duration": 4,
    "start_time": "2021-09-19T13:00:58.091Z"
   },
   {
    "duration": 18,
    "start_time": "2021-09-19T13:00:58.097Z"
   },
   {
    "duration": 4,
    "start_time": "2021-09-19T13:00:58.116Z"
   },
   {
    "duration": 18,
    "start_time": "2021-09-19T13:00:58.122Z"
   },
   {
    "duration": 270,
    "start_time": "2021-09-19T13:00:58.142Z"
   },
   {
    "duration": 3,
    "start_time": "2021-09-19T13:01:45.663Z"
   },
   {
    "duration": 176,
    "start_time": "2021-09-19T13:02:10.923Z"
   },
   {
    "duration": 19,
    "start_time": "2021-09-19T13:03:42.689Z"
   },
   {
    "duration": 4,
    "start_time": "2021-09-19T13:03:47.768Z"
   },
   {
    "duration": 18,
    "start_time": "2021-09-19T13:04:14.505Z"
   },
   {
    "duration": 4,
    "start_time": "2021-09-19T13:04:15.239Z"
   },
   {
    "duration": 176,
    "start_time": "2021-09-19T13:04:16.057Z"
   },
   {
    "duration": 1009,
    "start_time": "2021-09-19T13:04:23.574Z"
   },
   {
    "duration": 5,
    "start_time": "2021-09-19T13:04:24.585Z"
   },
   {
    "duration": 21,
    "start_time": "2021-09-19T13:04:24.592Z"
   },
   {
    "duration": 4,
    "start_time": "2021-09-19T13:04:24.616Z"
   },
   {
    "duration": 5,
    "start_time": "2021-09-19T13:04:24.622Z"
   },
   {
    "duration": 18,
    "start_time": "2021-09-19T13:04:24.629Z"
   },
   {
    "duration": 3,
    "start_time": "2021-09-19T13:04:24.648Z"
   },
   {
    "duration": 5,
    "start_time": "2021-09-19T13:04:24.653Z"
   },
   {
    "duration": 4,
    "start_time": "2021-09-19T13:05:03.390Z"
   },
   {
    "duration": 18,
    "start_time": "2021-09-19T13:09:12.311Z"
   },
   {
    "duration": 4,
    "start_time": "2021-09-19T13:09:13.074Z"
   },
   {
    "duration": 4,
    "start_time": "2021-09-19T13:09:13.689Z"
   },
   {
    "duration": 20,
    "start_time": "2021-09-19T13:09:25.407Z"
   },
   {
    "duration": 4,
    "start_time": "2021-09-19T13:09:25.992Z"
   },
   {
    "duration": 5,
    "start_time": "2021-09-19T13:09:26.591Z"
   },
   {
    "duration": 1114,
    "start_time": "2021-09-19T13:10:31.014Z"
   },
   {
    "duration": 6,
    "start_time": "2021-09-19T13:10:32.130Z"
   },
   {
    "duration": 10,
    "start_time": "2021-09-19T13:10:32.140Z"
   },
   {
    "duration": 3,
    "start_time": "2021-09-19T13:10:32.152Z"
   },
   {
    "duration": 12,
    "start_time": "2021-09-19T13:10:32.157Z"
   },
   {
    "duration": 40,
    "start_time": "2021-09-19T13:10:32.170Z"
   },
   {
    "duration": 5,
    "start_time": "2021-09-19T13:10:32.213Z"
   },
   {
    "duration": 347,
    "start_time": "2021-09-19T13:10:32.219Z"
   },
   {
    "duration": 182,
    "start_time": "2021-09-19T13:10:52.023Z"
   },
   {
    "duration": 3,
    "start_time": "2021-09-19T13:11:32.549Z"
   },
   {
    "duration": 4,
    "start_time": "2021-09-19T13:11:34.690Z"
   },
   {
    "duration": 5,
    "start_time": "2021-09-19T13:11:41.434Z"
   },
   {
    "duration": 1004,
    "start_time": "2021-09-19T13:11:47.156Z"
   },
   {
    "duration": 5,
    "start_time": "2021-09-19T13:11:48.162Z"
   },
   {
    "duration": 14,
    "start_time": "2021-09-19T13:11:48.170Z"
   },
   {
    "duration": 4,
    "start_time": "2021-09-19T13:11:48.186Z"
   },
   {
    "duration": 19,
    "start_time": "2021-09-19T13:11:48.192Z"
   },
   {
    "duration": 23,
    "start_time": "2021-09-19T13:11:48.213Z"
   },
   {
    "duration": 5,
    "start_time": "2021-09-19T13:11:48.244Z"
   },
   {
    "duration": 6,
    "start_time": "2021-09-19T13:11:48.252Z"
   },
   {
    "duration": 1166,
    "start_time": "2021-09-19T13:14:31.904Z"
   },
   {
    "duration": 5,
    "start_time": "2021-09-19T13:14:33.071Z"
   },
   {
    "duration": 11,
    "start_time": "2021-09-19T13:14:33.078Z"
   },
   {
    "duration": 3,
    "start_time": "2021-09-19T13:14:33.091Z"
   },
   {
    "duration": 8,
    "start_time": "2021-09-19T13:14:33.101Z"
   },
   {
    "duration": 17,
    "start_time": "2021-09-19T13:14:33.113Z"
   },
   {
    "duration": 9,
    "start_time": "2021-09-19T13:14:33.132Z"
   },
   {
    "duration": 18,
    "start_time": "2021-09-19T13:14:33.143Z"
   },
   {
    "duration": 5,
    "start_time": "2021-09-19T13:14:33.162Z"
   },
   {
    "duration": 6,
    "start_time": "2021-09-19T13:19:55.519Z"
   },
   {
    "duration": 1062,
    "start_time": "2021-09-19T13:20:01.831Z"
   },
   {
    "duration": 7,
    "start_time": "2021-09-19T13:20:02.896Z"
   },
   {
    "duration": 15,
    "start_time": "2021-09-19T13:20:02.906Z"
   },
   {
    "duration": 3,
    "start_time": "2021-09-19T13:20:02.924Z"
   },
   {
    "duration": 5,
    "start_time": "2021-09-19T13:20:02.929Z"
   },
   {
    "duration": 16,
    "start_time": "2021-09-19T13:20:02.936Z"
   },
   {
    "duration": 6,
    "start_time": "2021-09-19T13:20:02.954Z"
   },
   {
    "duration": 59,
    "start_time": "2021-09-19T13:20:02.963Z"
   },
   {
    "duration": 5,
    "start_time": "2021-09-19T13:20:03.025Z"
   },
   {
    "duration": 11,
    "start_time": "2021-09-19T13:20:32.905Z"
   },
   {
    "duration": 20,
    "start_time": "2021-09-19T13:20:43.559Z"
   },
   {
    "duration": 7,
    "start_time": "2021-09-19T13:20:44.168Z"
   },
   {
    "duration": 16,
    "start_time": "2021-09-19T13:20:53.678Z"
   },
   {
    "duration": 6,
    "start_time": "2021-09-19T13:20:54.216Z"
   },
   {
    "duration": 16,
    "start_time": "2021-09-19T13:21:01.487Z"
   },
   {
    "duration": 6,
    "start_time": "2021-09-19T13:21:01.941Z"
   },
   {
    "duration": 8,
    "start_time": "2021-09-19T13:21:12.751Z"
   },
   {
    "duration": 15,
    "start_time": "2021-09-19T13:21:24.269Z"
   },
   {
    "duration": 6,
    "start_time": "2021-09-19T13:21:25.523Z"
   },
   {
    "duration": 19,
    "start_time": "2021-09-19T13:21:29.939Z"
   },
   {
    "duration": 7,
    "start_time": "2021-09-19T13:21:31.490Z"
   },
   {
    "duration": 49,
    "start_time": "2021-09-19T13:21:43.217Z"
   },
   {
    "duration": 21,
    "start_time": "2021-09-19T13:22:32.311Z"
   },
   {
    "duration": 7,
    "start_time": "2021-09-19T13:22:34.613Z"
   },
   {
    "duration": 1022,
    "start_time": "2021-09-19T13:28:12.960Z"
   },
   {
    "duration": 5,
    "start_time": "2021-09-19T13:28:13.984Z"
   },
   {
    "duration": 13,
    "start_time": "2021-09-19T13:28:13.991Z"
   },
   {
    "duration": 5,
    "start_time": "2021-09-19T13:28:14.007Z"
   },
   {
    "duration": 6,
    "start_time": "2021-09-19T13:28:14.014Z"
   },
   {
    "duration": 17,
    "start_time": "2021-09-19T13:28:14.022Z"
   },
   {
    "duration": 4,
    "start_time": "2021-09-19T13:28:14.041Z"
   },
   {
    "duration": 19,
    "start_time": "2021-09-19T13:28:14.047Z"
   },
   {
    "duration": 38,
    "start_time": "2021-09-19T13:28:14.068Z"
   },
   {
    "duration": 289,
    "start_time": "2021-09-19T13:28:14.108Z"
   },
   {
    "duration": 2070,
    "start_time": "2021-09-19T13:28:12.330Z"
   },
   {
    "duration": 168,
    "start_time": "2021-09-19T13:29:38.356Z"
   },
   {
    "duration": 1038,
    "start_time": "2021-09-19T13:29:44.433Z"
   },
   {
    "duration": 5,
    "start_time": "2021-09-19T13:29:45.473Z"
   },
   {
    "duration": 11,
    "start_time": "2021-09-19T13:29:45.479Z"
   },
   {
    "duration": 8,
    "start_time": "2021-09-19T13:29:45.492Z"
   },
   {
    "duration": 9,
    "start_time": "2021-09-19T13:29:45.502Z"
   },
   {
    "duration": 17,
    "start_time": "2021-09-19T13:29:45.514Z"
   },
   {
    "duration": 5,
    "start_time": "2021-09-19T13:29:45.533Z"
   },
   {
    "duration": 19,
    "start_time": "2021-09-19T13:29:45.540Z"
   },
   {
    "duration": 4,
    "start_time": "2021-09-19T13:29:45.561Z"
   },
   {
    "duration": 56,
    "start_time": "2021-09-19T13:29:45.567Z"
   },
   {
    "duration": 96,
    "start_time": "2021-09-19T13:29:45.625Z"
   },
   {
    "duration": 11,
    "start_time": "2021-09-19T13:30:06.428Z"
   },
   {
    "duration": 19,
    "start_time": "2021-09-19T13:30:44.100Z"
   },
   {
    "duration": 301,
    "start_time": "2021-09-19T13:32:31.507Z"
   },
   {
    "duration": 5,
    "start_time": "2021-09-19T13:32:32.162Z"
   },
   {
    "duration": 1237,
    "start_time": "2021-09-19T13:32:37.237Z"
   },
   {
    "duration": 4,
    "start_time": "2021-09-19T13:32:38.476Z"
   },
   {
    "duration": 13,
    "start_time": "2021-09-19T13:32:38.482Z"
   },
   {
    "duration": 8,
    "start_time": "2021-09-19T13:32:38.497Z"
   },
   {
    "duration": 12,
    "start_time": "2021-09-19T13:32:38.507Z"
   },
   {
    "duration": 27,
    "start_time": "2021-09-19T13:32:38.520Z"
   },
   {
    "duration": 4,
    "start_time": "2021-09-19T13:32:38.549Z"
   },
   {
    "duration": 23,
    "start_time": "2021-09-19T13:32:38.555Z"
   },
   {
    "duration": 4,
    "start_time": "2021-09-19T13:32:38.580Z"
   },
   {
    "duration": 421,
    "start_time": "2021-09-19T13:32:38.586Z"
   },
   {
    "duration": 9,
    "start_time": "2021-09-19T13:32:39.009Z"
   },
   {
    "duration": 12,
    "start_time": "2021-09-19T13:34:28.339Z"
   },
   {
    "duration": 6,
    "start_time": "2021-09-19T13:34:28.987Z"
   },
   {
    "duration": 33,
    "start_time": "2021-09-19T13:34:33.667Z"
   },
   {
    "duration": 5,
    "start_time": "2021-09-19T13:34:36.483Z"
   },
   {
    "duration": 717,
    "start_time": "2021-09-19T13:38:37.205Z"
   },
   {
    "duration": 278,
    "start_time": "2021-09-19T13:38:51.507Z"
   },
   {
    "duration": 478,
    "start_time": "2021-09-19T13:40:22.105Z"
   },
   {
    "duration": 510,
    "start_time": "2021-09-19T13:41:01.250Z"
   },
   {
    "duration": 23314,
    "start_time": "2021-09-19T13:41:57.789Z"
   },
   {
    "duration": 13766,
    "start_time": "2021-09-19T13:42:40.001Z"
   },
   {
    "duration": 12883,
    "start_time": "2021-09-19T13:45:23.691Z"
   },
   {
    "duration": 2347,
    "start_time": "2021-09-19T13:46:36.705Z"
   },
   {
    "duration": 6145,
    "start_time": "2021-09-19T13:46:53.440Z"
   },
   {
    "duration": 38595,
    "start_time": "2021-09-19T13:47:12.982Z"
   },
   {
    "duration": 9800,
    "start_time": "2021-09-19T13:47:59.287Z"
   },
   {
    "duration": 27186,
    "start_time": "2021-09-19T13:48:16.654Z"
   },
   {
    "duration": 2299,
    "start_time": "2021-09-19T13:48:53.735Z"
   },
   {
    "duration": 4079,
    "start_time": "2021-09-19T13:49:26.303Z"
   },
   {
    "duration": 104,
    "start_time": "2021-09-19T14:31:54.868Z"
   },
   {
    "duration": 213,
    "start_time": "2021-09-19T14:32:13.220Z"
   },
   {
    "duration": 229,
    "start_time": "2021-09-19T14:33:55.964Z"
   },
   {
    "duration": 70,
    "start_time": "2021-09-19T14:34:14.765Z"
   },
   {
    "duration": 289,
    "start_time": "2021-09-19T14:34:35.451Z"
   },
   {
    "duration": 529,
    "start_time": "2021-09-19T14:34:57.935Z"
   },
   {
    "duration": 69,
    "start_time": "2021-09-19T14:35:23.194Z"
   },
   {
    "duration": 210,
    "start_time": "2021-09-19T14:36:30.547Z"
   },
   {
    "duration": 77,
    "start_time": "2021-09-19T14:36:40.707Z"
   },
   {
    "duration": 67,
    "start_time": "2021-09-19T14:37:17.255Z"
   },
   {
    "duration": 65,
    "start_time": "2021-09-19T14:38:19.447Z"
   },
   {
    "duration": 6,
    "start_time": "2021-09-19T14:38:28.234Z"
   },
   {
    "duration": 1140,
    "start_time": "2021-09-19T14:40:52.606Z"
   },
   {
    "duration": 64,
    "start_time": "2021-09-19T14:41:05.645Z"
   },
   {
    "duration": 134,
    "start_time": "2021-09-19T14:43:53.621Z"
   },
   {
    "duration": 11694,
    "start_time": "2021-09-19T14:45:16.714Z"
   },
   {
    "duration": 85431,
    "start_time": "2021-09-19T14:46:41.170Z"
   },
   {
    "duration": 2534,
    "start_time": "2021-09-19T14:57:11.972Z"
   },
   {
    "duration": 3503,
    "start_time": "2021-09-19T15:16:11.729Z"
   },
   {
    "duration": 29058,
    "start_time": "2021-09-19T15:16:31.654Z"
   },
   {
    "duration": 3613,
    "start_time": "2021-09-19T15:17:36.008Z"
   },
   {
    "duration": 12981,
    "start_time": "2021-09-19T15:18:14.940Z"
   },
   {
    "duration": 3501,
    "start_time": "2021-09-19T15:19:52.963Z"
   },
   {
    "duration": 5008,
    "start_time": "2021-09-19T15:23:42.447Z"
   },
   {
    "duration": 3578,
    "start_time": "2021-09-19T15:24:06.527Z"
   },
   {
    "duration": 2430,
    "start_time": "2021-09-19T15:33:17.175Z"
   },
   {
    "duration": 1015,
    "start_time": "2021-09-19T15:36:03.944Z"
   },
   {
    "duration": 5,
    "start_time": "2021-09-19T15:36:04.961Z"
   },
   {
    "duration": 11,
    "start_time": "2021-09-19T15:36:04.967Z"
   },
   {
    "duration": 3,
    "start_time": "2021-09-19T15:36:04.979Z"
   },
   {
    "duration": 15,
    "start_time": "2021-09-19T15:36:04.984Z"
   },
   {
    "duration": 66,
    "start_time": "2021-09-19T15:36:05.001Z"
   },
   {
    "duration": 3551,
    "start_time": "2021-09-19T15:36:05.069Z"
   },
   {
    "duration": 2678,
    "start_time": "2021-09-19T15:36:08.622Z"
   },
   {
    "duration": 1126,
    "start_time": "2021-09-19T15:36:11.303Z"
   },
   {
    "duration": -3,
    "start_time": "2021-09-19T15:36:12.434Z"
   },
   {
    "duration": 181,
    "start_time": "2021-09-19T15:42:19.510Z"
   },
   {
    "duration": 174,
    "start_time": "2021-09-19T15:42:33.083Z"
   },
   {
    "duration": 170,
    "start_time": "2021-09-19T15:43:11.032Z"
   },
   {
    "duration": 45,
    "start_time": "2021-09-19T15:44:02.562Z"
   },
   {
    "duration": 3580,
    "start_time": "2021-09-19T16:07:06.718Z"
   },
   {
    "duration": 66,
    "start_time": "2021-09-19T16:09:52.476Z"
   },
   {
    "duration": 174,
    "start_time": "2021-09-19T16:10:21.632Z"
   },
   {
    "duration": 3583,
    "start_time": "2021-09-19T16:18:27.641Z"
   },
   {
    "duration": 1024,
    "start_time": "2021-09-19T16:21:02.623Z"
   },
   {
    "duration": 5,
    "start_time": "2021-09-19T16:21:03.649Z"
   },
   {
    "duration": 13,
    "start_time": "2021-09-19T16:21:03.655Z"
   },
   {
    "duration": 4,
    "start_time": "2021-09-19T16:21:03.670Z"
   },
   {
    "duration": 11,
    "start_time": "2021-09-19T16:21:03.676Z"
   },
   {
    "duration": 67,
    "start_time": "2021-09-19T16:21:03.688Z"
   },
   {
    "duration": 3509,
    "start_time": "2021-09-19T16:21:03.756Z"
   },
   {
    "duration": 142,
    "start_time": "2021-09-19T16:21:07.267Z"
   },
   {
    "duration": 4130,
    "start_time": "2021-09-19T16:21:07.501Z"
   },
   {
    "duration": 1076,
    "start_time": "2021-09-19T16:27:04.492Z"
   },
   {
    "duration": 5,
    "start_time": "2021-09-19T16:27:05.569Z"
   },
   {
    "duration": 11,
    "start_time": "2021-09-19T16:27:05.576Z"
   },
   {
    "duration": 70,
    "start_time": "2021-09-19T16:27:05.589Z"
   },
   {
    "duration": 3512,
    "start_time": "2021-09-19T16:27:05.660Z"
   },
   {
    "duration": 135,
    "start_time": "2021-09-19T16:27:09.174Z"
   },
   {
    "duration": 4179,
    "start_time": "2021-09-19T16:27:09.404Z"
   },
   {
    "duration": 7,
    "start_time": "2021-09-19T16:29:01.793Z"
   },
   {
    "duration": 1029,
    "start_time": "2021-09-19T16:31:44.626Z"
   },
   {
    "duration": 5,
    "start_time": "2021-09-19T16:31:45.656Z"
   },
   {
    "duration": 6,
    "start_time": "2021-09-19T16:31:45.664Z"
   },
   {
    "duration": 75,
    "start_time": "2021-09-19T16:31:45.671Z"
   },
   {
    "duration": 3569,
    "start_time": "2021-09-19T16:31:45.747Z"
   },
   {
    "duration": 184,
    "start_time": "2021-09-19T16:31:49.317Z"
   },
   {
    "duration": 4139,
    "start_time": "2021-09-19T16:31:49.504Z"
   },
   {
    "duration": 1040,
    "start_time": "2021-09-19T16:32:14.010Z"
   },
   {
    "duration": 5,
    "start_time": "2021-09-19T16:32:15.052Z"
   },
   {
    "duration": 7,
    "start_time": "2021-09-19T16:32:15.059Z"
   },
   {
    "duration": 68,
    "start_time": "2021-09-19T16:32:15.067Z"
   },
   {
    "duration": 3609,
    "start_time": "2021-09-19T16:32:15.137Z"
   },
   {
    "duration": 654,
    "start_time": "2021-09-19T16:32:18.747Z"
   },
   {
    "duration": 4232,
    "start_time": "2021-09-19T16:32:19.404Z"
   },
   {
    "duration": 30,
    "start_time": "2021-09-19T16:33:07.647Z"
   },
   {
    "duration": 1004,
    "start_time": "2021-09-19T16:33:10.851Z"
   },
   {
    "duration": 4,
    "start_time": "2021-09-19T16:33:11.857Z"
   },
   {
    "duration": 6,
    "start_time": "2021-09-19T16:33:11.863Z"
   },
   {
    "duration": 66,
    "start_time": "2021-09-19T16:33:11.871Z"
   },
   {
    "duration": 3534,
    "start_time": "2021-09-19T16:33:11.938Z"
   },
   {
    "duration": 135,
    "start_time": "2021-09-19T16:33:15.474Z"
   },
   {
    "duration": 4226,
    "start_time": "2021-09-19T16:33:15.701Z"
   },
   {
    "duration": 65,
    "start_time": "2021-09-19T16:35:17.673Z"
   },
   {
    "duration": 3560,
    "start_time": "2021-09-19T16:36:10.720Z"
   },
   {
    "duration": 48,
    "start_time": "2021-09-19T16:36:40.060Z"
   },
   {
    "duration": 71,
    "start_time": "2021-09-19T16:40:32.338Z"
   },
   {
    "duration": 72,
    "start_time": "2021-09-19T16:48:03.735Z"
   },
   {
    "duration": 3,
    "start_time": "2021-09-19T16:51:20.570Z"
   },
   {
    "duration": 2,
    "start_time": "2021-09-19T16:52:10.350Z"
   },
   {
    "duration": 3,
    "start_time": "2021-09-19T16:52:28.345Z"
   },
   {
    "duration": 6,
    "start_time": "2021-09-19T16:52:41.132Z"
   },
   {
    "duration": 1089,
    "start_time": "2021-09-20T15:36:10.919Z"
   },
   {
    "duration": 6,
    "start_time": "2021-09-20T15:36:12.009Z"
   },
   {
    "duration": 12,
    "start_time": "2021-09-20T15:36:12.017Z"
   },
   {
    "duration": 85,
    "start_time": "2021-09-20T15:36:12.031Z"
   },
   {
    "duration": 3892,
    "start_time": "2021-09-20T15:36:12.118Z"
   },
   {
    "duration": 996,
    "start_time": "2021-09-20T15:36:16.012Z"
   },
   {
    "duration": 234,
    "start_time": "2021-09-20T15:36:17.011Z"
   },
   {
    "duration": 1109,
    "start_time": "2021-09-20T15:38:54.788Z"
   },
   {
    "duration": 5,
    "start_time": "2021-09-20T15:38:55.900Z"
   },
   {
    "duration": 17,
    "start_time": "2021-09-20T15:38:55.908Z"
   },
   {
    "duration": 92,
    "start_time": "2021-09-20T15:38:55.926Z"
   },
   {
    "duration": 3243,
    "start_time": "2021-09-20T15:38:56.020Z"
   },
   {
    "duration": 45,
    "start_time": "2021-09-20T15:38:59.265Z"
   },
   {
    "duration": 55,
    "start_time": "2021-09-20T15:38:59.311Z"
   },
   {
    "duration": 1031,
    "start_time": "2021-09-20T15:49:19.460Z"
   },
   {
    "duration": 5,
    "start_time": "2021-09-20T15:49:20.493Z"
   },
   {
    "duration": 10,
    "start_time": "2021-09-20T15:49:20.500Z"
   },
   {
    "duration": 62,
    "start_time": "2021-09-20T15:49:20.512Z"
   },
   {
    "duration": 3305,
    "start_time": "2021-09-20T15:49:20.576Z"
   },
   {
    "duration": 41,
    "start_time": "2021-09-20T15:49:23.883Z"
   },
   {
    "duration": 58,
    "start_time": "2021-09-20T15:49:23.926Z"
   },
   {
    "duration": 251,
    "start_time": "2021-09-20T16:02:37.782Z"
   },
   {
    "duration": 538,
    "start_time": "2021-09-20T16:02:48.100Z"
   },
   {
    "duration": 59,
    "start_time": "2021-09-20T16:03:09.491Z"
   },
   {
    "duration": 13364,
    "start_time": "2021-09-20T16:04:46.401Z"
   },
   {
    "duration": 49080,
    "start_time": "2021-09-20T16:05:17.974Z"
   },
   {
    "duration": 3220,
    "start_time": "2021-09-20T16:06:45.979Z"
   },
   {
    "duration": 12,
    "start_time": "2021-09-20T16:10:51.137Z"
   },
   {
    "duration": 32,
    "start_time": "2021-09-20T16:11:05.335Z"
   },
   {
    "duration": 32,
    "start_time": "2021-09-20T16:11:12.541Z"
   },
   {
    "duration": 32,
    "start_time": "2021-09-20T16:11:20.711Z"
   },
   {
    "duration": 32,
    "start_time": "2021-09-20T16:11:25.916Z"
   },
   {
    "duration": 30,
    "start_time": "2021-09-20T16:11:34.500Z"
   },
   {
    "duration": 11,
    "start_time": "2021-09-20T16:11:40.814Z"
   },
   {
    "duration": 32,
    "start_time": "2021-09-20T16:11:44.837Z"
   },
   {
    "duration": 44,
    "start_time": "2021-09-20T16:11:53.962Z"
   },
   {
    "duration": 49,
    "start_time": "2021-09-20T16:12:01.074Z"
   },
   {
    "duration": 31,
    "start_time": "2021-09-20T16:12:09.487Z"
   },
   {
    "duration": 14,
    "start_time": "2021-09-20T16:17:07.760Z"
   },
   {
    "duration": 10,
    "start_time": "2021-09-20T16:18:24.657Z"
   },
   {
    "duration": 10,
    "start_time": "2021-09-20T16:18:50.772Z"
   },
   {
    "duration": 34,
    "start_time": "2021-09-20T16:18:54.510Z"
   },
   {
    "duration": 32,
    "start_time": "2021-09-20T16:31:25.270Z"
   },
   {
    "duration": 31,
    "start_time": "2021-09-20T16:34:09.843Z"
   },
   {
    "duration": 36,
    "start_time": "2021-09-20T16:34:14.161Z"
   },
   {
    "duration": 1006,
    "start_time": "2021-09-20T16:39:48.652Z"
   },
   {
    "duration": 5,
    "start_time": "2021-09-20T16:39:49.660Z"
   },
   {
    "duration": 9,
    "start_time": "2021-09-20T16:39:49.667Z"
   },
   {
    "duration": 61,
    "start_time": "2021-09-20T16:39:49.678Z"
   },
   {
    "duration": 3144,
    "start_time": "2021-09-20T16:39:49.741Z"
   },
   {
    "duration": 39,
    "start_time": "2021-09-20T16:39:52.887Z"
   },
   {
    "duration": 49,
    "start_time": "2021-09-20T16:39:52.927Z"
   },
   {
    "duration": 1000,
    "start_time": "2021-09-20T17:33:43.448Z"
   },
   {
    "duration": 6,
    "start_time": "2021-09-20T17:33:44.451Z"
   },
   {
    "duration": 10,
    "start_time": "2021-09-20T17:33:44.459Z"
   },
   {
    "duration": 69,
    "start_time": "2021-09-20T17:33:44.471Z"
   },
   {
    "duration": 3112,
    "start_time": "2021-09-20T17:33:44.542Z"
   },
   {
    "duration": 44,
    "start_time": "2021-09-20T17:33:47.656Z"
   },
   {
    "duration": 53,
    "start_time": "2021-09-20T17:33:47.702Z"
   },
   {
    "duration": 1064,
    "start_time": "2021-09-20T17:34:21.799Z"
   },
   {
    "duration": 5,
    "start_time": "2021-09-20T17:34:22.865Z"
   },
   {
    "duration": 14,
    "start_time": "2021-09-20T17:34:22.871Z"
   },
   {
    "duration": 63,
    "start_time": "2021-09-20T17:34:22.887Z"
   },
   {
    "duration": 3171,
    "start_time": "2021-09-20T17:34:22.952Z"
   },
   {
    "duration": 31,
    "start_time": "2021-09-20T17:34:26.124Z"
   },
   {
    "duration": 67,
    "start_time": "2021-09-20T17:34:26.157Z"
   },
   {
    "duration": 1027,
    "start_time": "2021-09-20T17:35:15.313Z"
   },
   {
    "duration": 35,
    "start_time": "2021-09-20T17:35:16.342Z"
   },
   {
    "duration": 5,
    "start_time": "2021-09-20T17:35:16.379Z"
   },
   {
    "duration": 18,
    "start_time": "2021-09-20T17:35:16.386Z"
   },
   {
    "duration": 62,
    "start_time": "2021-09-20T17:35:16.406Z"
   },
   {
    "duration": 3340,
    "start_time": "2021-09-20T17:35:16.470Z"
   },
   {
    "duration": 32,
    "start_time": "2021-09-20T17:35:19.812Z"
   },
   {
    "duration": 67,
    "start_time": "2021-09-20T17:35:19.846Z"
   },
   {
    "duration": 26,
    "start_time": "2021-09-20T17:36:37.848Z"
   },
   {
    "duration": 27,
    "start_time": "2021-09-20T17:36:46.350Z"
   },
   {
    "duration": 57,
    "start_time": "2021-09-20T17:54:17.203Z"
   },
   {
    "duration": 264,
    "start_time": "2021-09-20T17:54:25.799Z"
   },
   {
    "duration": 178,
    "start_time": "2021-09-20T17:54:35.026Z"
   },
   {
    "duration": 677,
    "start_time": "2021-09-20T17:58:01.441Z"
   },
   {
    "duration": 678,
    "start_time": "2021-09-20T17:58:19.299Z"
   },
   {
    "duration": 12,
    "start_time": "2021-09-20T17:58:41.807Z"
   },
   {
    "duration": 10,
    "start_time": "2021-09-20T17:58:56.255Z"
   },
   {
    "duration": 9,
    "start_time": "2021-09-20T17:59:09.101Z"
   },
   {
    "duration": 179,
    "start_time": "2021-09-20T18:00:13.493Z"
   },
   {
    "duration": 10,
    "start_time": "2021-09-20T18:00:32.835Z"
   },
   {
    "duration": 12,
    "start_time": "2021-09-20T18:00:42.067Z"
   },
   {
    "duration": 6,
    "start_time": "2021-09-20T18:00:57.575Z"
   },
   {
    "duration": 6,
    "start_time": "2021-09-20T18:01:22.670Z"
   },
   {
    "duration": 6,
    "start_time": "2021-09-20T18:02:03.777Z"
   },
   {
    "duration": 64,
    "start_time": "2021-09-20T18:08:06.762Z"
   },
   {
    "duration": 60,
    "start_time": "2021-09-20T18:08:24.472Z"
   },
   {
    "duration": 5,
    "start_time": "2021-09-20T18:08:58.692Z"
   },
   {
    "duration": 1022,
    "start_time": "2021-09-25T08:16:54.698Z"
   },
   {
    "duration": 1479,
    "start_time": "2021-09-25T08:17:01.388Z"
   },
   {
    "duration": 46,
    "start_time": "2021-09-25T08:17:02.870Z"
   },
   {
    "duration": 9,
    "start_time": "2021-09-25T08:17:02.919Z"
   },
   {
    "duration": 42,
    "start_time": "2021-09-25T08:17:02.931Z"
   },
   {
    "duration": 111,
    "start_time": "2021-09-25T08:17:02.976Z"
   },
   {
    "duration": 5160,
    "start_time": "2021-09-25T08:17:03.089Z"
   },
   {
    "duration": 56,
    "start_time": "2021-09-25T08:17:08.251Z"
   },
   {
    "duration": 99,
    "start_time": "2021-09-25T08:17:08.311Z"
   },
   {
    "duration": 3,
    "start_time": "2021-09-25T08:17:08.413Z"
   },
   {
    "duration": 975,
    "start_time": "2021-09-25T08:17:08.419Z"
   },
   {
    "duration": 8,
    "start_time": "2021-09-25T08:18:59.408Z"
   },
   {
    "duration": 10,
    "start_time": "2021-09-25T08:19:29.341Z"
   },
   {
    "duration": 8,
    "start_time": "2021-09-25T08:19:54.091Z"
   },
   {
    "duration": 7,
    "start_time": "2021-09-25T08:22:58.361Z"
   },
   {
    "duration": 8,
    "start_time": "2021-09-25T08:23:40.116Z"
   },
   {
    "duration": 10,
    "start_time": "2021-09-25T08:23:45.003Z"
   }
  ],
  "kernelspec": {
   "display_name": "Python 3 (ipykernel)",
   "language": "python",
   "name": "python3"
  },
  "language_info": {
   "codemirror_mode": {
    "name": "ipython",
    "version": 3
   },
   "file_extension": ".py",
   "mimetype": "text/x-python",
   "name": "python",
   "nbconvert_exporter": "python",
   "pygments_lexer": "ipython3",
   "version": "3.9.7"
  },
  "toc": {
   "base_numbering": 1,
   "nav_menu": {},
   "number_sections": true,
   "sideBar": true,
   "skip_h1_title": true,
   "title_cell": "Table of Contents",
   "title_sidebar": "Contents",
   "toc_cell": false,
   "toc_position": {},
   "toc_section_display": true,
   "toc_window_display": false
  }
 },
 "nbformat": 4,
 "nbformat_minor": 2
}
