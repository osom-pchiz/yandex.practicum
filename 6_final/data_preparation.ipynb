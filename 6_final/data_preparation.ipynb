{
 "cells": [
  {
   "cell_type": "markdown",
   "id": "f9ac2a09",
   "metadata": {},
   "source": [
    "# Содержание\n",
    "1. [Импорты](#Импорты)\n",
    "2. [Предварительная обработка и анализ данных](#Предварительная-обработка-и-анализ-данных)  \n",
    "    2.1. [Данные об электродах — data_arc.csv](#data_arc.csv)  \n",
    "    2.2. [Данные о подаче сыпучих материалов (объём) — data_bulk.csv](#data_bulk.csv)   \n",
    "    2.3. [Данные о подаче сыпучих материалов (время) — data_bulk_time.csv](#data_bulk_time.csv)  \n",
    "    2.4. [Данные о проволочных материалах (объём) — data_wire.csv](#data_wire.csv)  \n",
    "    2.5. [Данные о проволочных материалах (время) — data_wire_time.csv](#data_wire_time.csv)  \n",
    "    2.6. [Данные о продувке сплава газом — data_gas.csv](#data_gas.csv)  \n",
    "    2.7. [Результаты измерения температуры — data_temp.csv](#data_temp.csv)  \n",
    "3. [Отбор подходящих партий](#Отбор-подходящих-партий)\n",
    "4. [Создание таблицы признаков для машинного обучения](#Создание-таблицы-признаков-для-машинного-обучения)\n",
    "5. [План дальнейших действий](#План-дальнейших-действий)\n",
    "6. [Вопросы к тимлиду](#Вопросы-к-тимлиду)"
   ]
  },
  {
   "cell_type": "markdown",
   "id": "6662e207",
   "metadata": {},
   "source": [
    "### Импорты"
   ]
  },
  {
   "cell_type": "code",
   "execution_count": 1,
   "id": "953ed472",
   "metadata": {},
   "outputs": [],
   "source": [
    "import os\n",
    "import pandas as pd\n",
    "import numpy as np\n",
    "import seaborn as sns\n",
    "from scipy import stats as st\n",
    "import matplotlib.pyplot as plt"
   ]
  },
  {
   "cell_type": "markdown",
   "id": "6114dbd7",
   "metadata": {},
   "source": [
    "---"
   ]
  },
  {
   "cell_type": "markdown",
   "id": "9606417c",
   "metadata": {},
   "source": [
    "### Предварительная обработка и анализ данных\n",
    "[вернуться к содержанию](#Содержание)"
   ]
  },
  {
   "cell_type": "code",
   "execution_count": 2,
   "id": "ec0362c2",
   "metadata": {},
   "outputs": [],
   "source": [
    "#path = 'C:/Users/Vladimir/Documents/Jupiter/Projects/Final/final_steel/final_steel/' # когда делаешь дома\n",
    "path = '/datasets/final_steel/' # когда делаешь через ЯП"
   ]
  },
  {
   "cell_type": "code",
   "execution_count": 3,
   "id": "09b04a51",
   "metadata": {},
   "outputs": [
    {
     "name": "stdout",
     "output_type": "stream",
     "text": [
      "data_gas.csv\n",
      "data_bulk.csv\n",
      "data_bulk_time.csv\n",
      "data_wire_time.csv\n",
      "data_arc.csv\n",
      "data_temp.csv\n",
      "data_wire.csv\n"
     ]
    }
   ],
   "source": [
    "for filename in os.listdir(path):\n",
    "    print(filename)"
   ]
  },
  {
   "cell_type": "markdown",
   "id": "9cdc5c66",
   "metadata": {},
   "source": [
    "---"
   ]
  },
  {
   "cell_type": "markdown",
   "id": "ef8bf476",
   "metadata": {},
   "source": [
    "#### data_arc.csv\n",
    "<b>Данные об электродах</b>\n",
    "\n",
    "\n",
    "[вернуться к содержанию](#Содержание)"
   ]
  },
  {
   "cell_type": "code",
   "execution_count": 4,
   "id": "bdffe9bd",
   "metadata": {
    "scrolled": false
   },
   "outputs": [
    {
     "name": "stdout",
     "output_type": "stream",
     "text": [
      "<class 'pandas.core.frame.DataFrame'>\n",
      "RangeIndex: 14876 entries, 0 to 14875\n",
      "Data columns (total 5 columns):\n",
      "key                     14876 non-null int64\n",
      "Начало нагрева дугой    14876 non-null object\n",
      "Конец нагрева дугой     14876 non-null object\n",
      "Активная мощность       14876 non-null float64\n",
      "Реактивная мощность     14876 non-null float64\n",
      "dtypes: float64(2), int64(1), object(2)\n",
      "memory usage: 581.2+ KB\n"
     ]
    },
    {
     "data": {
      "text/html": [
       "<div>\n",
       "<style scoped>\n",
       "    .dataframe tbody tr th:only-of-type {\n",
       "        vertical-align: middle;\n",
       "    }\n",
       "\n",
       "    .dataframe tbody tr th {\n",
       "        vertical-align: top;\n",
       "    }\n",
       "\n",
       "    .dataframe thead th {\n",
       "        text-align: right;\n",
       "    }\n",
       "</style>\n",
       "<table border=\"1\" class=\"dataframe\">\n",
       "  <thead>\n",
       "    <tr style=\"text-align: right;\">\n",
       "      <th></th>\n",
       "      <th>key</th>\n",
       "      <th>Начало нагрева дугой</th>\n",
       "      <th>Конец нагрева дугой</th>\n",
       "      <th>Активная мощность</th>\n",
       "      <th>Реактивная мощность</th>\n",
       "    </tr>\n",
       "  </thead>\n",
       "  <tbody>\n",
       "    <tr>\n",
       "      <td>0</td>\n",
       "      <td>1</td>\n",
       "      <td>2019-05-03 11:02:14</td>\n",
       "      <td>2019-05-03 11:06:02</td>\n",
       "      <td>0.976059</td>\n",
       "      <td>0.687084</td>\n",
       "    </tr>\n",
       "    <tr>\n",
       "      <td>1</td>\n",
       "      <td>1</td>\n",
       "      <td>2019-05-03 11:07:28</td>\n",
       "      <td>2019-05-03 11:10:33</td>\n",
       "      <td>0.805607</td>\n",
       "      <td>0.520285</td>\n",
       "    </tr>\n",
       "    <tr>\n",
       "      <td>2</td>\n",
       "      <td>1</td>\n",
       "      <td>2019-05-03 11:11:44</td>\n",
       "      <td>2019-05-03 11:14:36</td>\n",
       "      <td>0.744363</td>\n",
       "      <td>0.498805</td>\n",
       "    </tr>\n",
       "    <tr>\n",
       "      <td>3</td>\n",
       "      <td>1</td>\n",
       "      <td>2019-05-03 11:18:14</td>\n",
       "      <td>2019-05-03 11:24:19</td>\n",
       "      <td>1.659363</td>\n",
       "      <td>1.062669</td>\n",
       "    </tr>\n",
       "    <tr>\n",
       "      <td>4</td>\n",
       "      <td>1</td>\n",
       "      <td>2019-05-03 11:26:09</td>\n",
       "      <td>2019-05-03 11:28:37</td>\n",
       "      <td>0.692755</td>\n",
       "      <td>0.414397</td>\n",
       "    </tr>\n",
       "  </tbody>\n",
       "</table>\n",
       "</div>"
      ],
      "text/plain": [
       "   key Начало нагрева дугой  Конец нагрева дугой  Активная мощность  \\\n",
       "0    1  2019-05-03 11:02:14  2019-05-03 11:06:02           0.976059   \n",
       "1    1  2019-05-03 11:07:28  2019-05-03 11:10:33           0.805607   \n",
       "2    1  2019-05-03 11:11:44  2019-05-03 11:14:36           0.744363   \n",
       "3    1  2019-05-03 11:18:14  2019-05-03 11:24:19           1.659363   \n",
       "4    1  2019-05-03 11:26:09  2019-05-03 11:28:37           0.692755   \n",
       "\n",
       "   Реактивная мощность  \n",
       "0             0.687084  \n",
       "1             0.520285  \n",
       "2             0.498805  \n",
       "3             1.062669  \n",
       "4             0.414397  "
      ]
     },
     "execution_count": 4,
     "metadata": {},
     "output_type": "execute_result"
    }
   ],
   "source": [
    "data_arc = pd.read_csv(path+'data_arc.csv')\n",
    "data_arc.info()\n",
    "data_arc.head()"
   ]
  },
  {
   "cell_type": "code",
   "execution_count": 5,
   "id": "450acc30",
   "metadata": {},
   "outputs": [
    {
     "data": {
      "image/png": "[encoded data removed]",
      "text/plain": [
       "<Figure size 432x288 with 1 Axes>"
      ]
     },
     "metadata": {
      "needs_background": "light"
     },
     "output_type": "display_data"
    },
    {
     "data": {
      "image/png": "[encoded data removed]",
      "text/plain": [
       "<Figure size 432x288 with 1 Axes>"
      ]
     },
     "metadata": {
      "needs_background": "light"
     },
     "output_type": "display_data"
    },
    {
     "data": {
      "text/html": [
       "<div>\n",
       "<style scoped>\n",
       "    .dataframe tbody tr th:only-of-type {\n",
       "        vertical-align: middle;\n",
       "    }\n",
       "\n",
       "    .dataframe tbody tr th {\n",
       "        vertical-align: top;\n",
       "    }\n",
       "\n",
       "    .dataframe thead th {\n",
       "        text-align: right;\n",
       "    }\n",
       "</style>\n",
       "<table border=\"1\" class=\"dataframe\">\n",
       "  <thead>\n",
       "    <tr style=\"text-align: right;\">\n",
       "      <th></th>\n",
       "      <th>key</th>\n",
       "      <th>Активная мощность</th>\n",
       "      <th>Реактивная мощность</th>\n",
       "    </tr>\n",
       "  </thead>\n",
       "  <tbody>\n",
       "    <tr>\n",
       "      <td>count</td>\n",
       "      <td>14876.000000</td>\n",
       "      <td>14876.000000</td>\n",
       "      <td>14876.000000</td>\n",
       "    </tr>\n",
       "    <tr>\n",
       "      <td>mean</td>\n",
       "      <td>1615.220422</td>\n",
       "      <td>0.670441</td>\n",
       "      <td>0.452592</td>\n",
       "    </tr>\n",
       "    <tr>\n",
       "      <td>std</td>\n",
       "      <td>934.571502</td>\n",
       "      <td>0.408159</td>\n",
       "      <td>5.878702</td>\n",
       "    </tr>\n",
       "    <tr>\n",
       "      <td>min</td>\n",
       "      <td>1.000000</td>\n",
       "      <td>0.030002</td>\n",
       "      <td>-715.504924</td>\n",
       "    </tr>\n",
       "    <tr>\n",
       "      <td>1%</td>\n",
       "      <td>33.000000</td>\n",
       "      <td>0.112734</td>\n",
       "      <td>0.080714</td>\n",
       "    </tr>\n",
       "    <tr>\n",
       "      <td>25%</td>\n",
       "      <td>806.000000</td>\n",
       "      <td>0.395297</td>\n",
       "      <td>0.290991</td>\n",
       "    </tr>\n",
       "    <tr>\n",
       "      <td>50%</td>\n",
       "      <td>1617.000000</td>\n",
       "      <td>0.555517</td>\n",
       "      <td>0.415962</td>\n",
       "    </tr>\n",
       "    <tr>\n",
       "      <td>75%</td>\n",
       "      <td>2429.000000</td>\n",
       "      <td>0.857034</td>\n",
       "      <td>0.637371</td>\n",
       "    </tr>\n",
       "    <tr>\n",
       "      <td>99%</td>\n",
       "      <td>3205.000000</td>\n",
       "      <td>2.079994</td>\n",
       "      <td>1.592817</td>\n",
       "    </tr>\n",
       "    <tr>\n",
       "      <td>max</td>\n",
       "      <td>3241.000000</td>\n",
       "      <td>3.731596</td>\n",
       "      <td>2.676388</td>\n",
       "    </tr>\n",
       "  </tbody>\n",
       "</table>\n",
       "</div>"
      ],
      "text/plain": [
       "                key  Активная мощность  Реактивная мощность\n",
       "count  14876.000000       14876.000000         14876.000000\n",
       "mean    1615.220422           0.670441             0.452592\n",
       "std      934.571502           0.408159             5.878702\n",
       "min        1.000000           0.030002          -715.504924\n",
       "1%        33.000000           0.112734             0.080714\n",
       "25%      806.000000           0.395297             0.290991\n",
       "50%     1617.000000           0.555517             0.415962\n",
       "75%     2429.000000           0.857034             0.637371\n",
       "99%     3205.000000           2.079994             1.592817\n",
       "max     3241.000000           3.731596             2.676388"
      ]
     },
     "execution_count": 5,
     "metadata": {},
     "output_type": "execute_result"
    }
   ],
   "source": [
    "data_arc['Активная мощность'].plot(kind='hist', title='Распределение значений в столбце Активная мощность', bins=100)\n",
    "plt.show()\n",
    "data_arc['Реактивная мощность'].plot(kind='hist', title='Распределение значений в столбце Реактивная мощность', bins=100)\n",
    "plt.show()\n",
    "data_arc.describe(percentiles=[.01, .25, .5, .75, .99])"
   ]
  },
  {
   "cell_type": "markdown",
   "id": "7eac5a96",
   "metadata": {},
   "source": [
    "Пропусков в данных нет. В столбце \"Активная мощность\" данные в порядке. Среднее значение больше медианы, значит данные скошены, что видно и на гистограмме плотности. \n",
    "\n",
    "В столбце \"Реактивная мощность\" есть ошибочно введенные данные, ведь в данном мощность не может быть отрицательной, к тому же значение на несколько порядков больше остальных по модулю. Анализировать медиану и среднее нельзя, такое большое отрицательное значение искажает среднее значение по датасету, так что от него необходимо избавиться.\n",
    "\n",
    "Но предварительно переименуем столбцы для удобства работы с ними."
   ]
  },
  {
   "cell_type": "code",
   "execution_count": 6,
   "id": "5e7bdcd5",
   "metadata": {},
   "outputs": [],
   "source": [
    "# переименование столбцов на латинице, перевод названий столбцов в нижний регистр\n",
    "data_arc.columns = ['key', 'heat_start', 'heat_finish', 'active_power', 'reactive_power']\n",
    "\n",
    "# смена типа данных на datetime в столбцах с датой\n",
    "data_arc['heat_start'] = pd.to_datetime(data_arc['heat_start'], format='%Y-%m-%d %H:%M:%S') \n",
    "data_arc['heat_finish'] = pd.to_datetime(data_arc['heat_finish'], format='%Y-%m-%d %H:%M:%S')"
   ]
  },
  {
   "cell_type": "markdown",
   "id": "5f40a983",
   "metadata": {},
   "source": [
    "Теперь посмотрим на ошибочное значение."
   ]
  },
  {
   "cell_type": "code",
   "execution_count": 7,
   "id": "7fe08901",
   "metadata": {},
   "outputs": [
    {
     "data": {
      "text/html": [
       "<div>\n",
       "<style scoped>\n",
       "    .dataframe tbody tr th:only-of-type {\n",
       "        vertical-align: middle;\n",
       "    }\n",
       "\n",
       "    .dataframe tbody tr th {\n",
       "        vertical-align: top;\n",
       "    }\n",
       "\n",
       "    .dataframe thead th {\n",
       "        text-align: right;\n",
       "    }\n",
       "</style>\n",
       "<table border=\"1\" class=\"dataframe\">\n",
       "  <thead>\n",
       "    <tr style=\"text-align: right;\">\n",
       "      <th></th>\n",
       "      <th>key</th>\n",
       "      <th>heat_start</th>\n",
       "      <th>heat_finish</th>\n",
       "      <th>active_power</th>\n",
       "      <th>reactive_power</th>\n",
       "    </tr>\n",
       "  </thead>\n",
       "  <tbody>\n",
       "    <tr>\n",
       "      <td>9780</td>\n",
       "      <td>2116</td>\n",
       "      <td>2019-07-24 00:44:48</td>\n",
       "      <td>2019-07-24 00:46:37</td>\n",
       "      <td>0.495782</td>\n",
       "      <td>-715.504924</td>\n",
       "    </tr>\n",
       "  </tbody>\n",
       "</table>\n",
       "</div>"
      ],
      "text/plain": [
       "       key          heat_start         heat_finish  active_power  \\\n",
       "9780  2116 2019-07-24 00:44:48 2019-07-24 00:46:37      0.495782   \n",
       "\n",
       "      reactive_power  \n",
       "9780     -715.504924  "
      ]
     },
     "execution_count": 7,
     "metadata": {},
     "output_type": "execute_result"
    }
   ],
   "source": [
    "data_arc[data_arc['reactive_power'] < 0]"
   ]
  },
  {
   "cell_type": "markdown",
   "id": "4ab07410",
   "metadata": {},
   "source": [
    "Всего одно значение. При этом значение активной мощности в этом наблюдении близко к медианному. Заменим ошибочное значение реактивной мощности медианным значением этого признака."
   ]
  },
  {
   "cell_type": "code",
   "execution_count": 8,
   "id": "4b4c44aa",
   "metadata": {},
   "outputs": [],
   "source": [
    "data_arc.loc[data_arc[data_arc['reactive_power'] < 0].index, 'reactive_power'] = data_arc['reactive_power'].median()"
   ]
  },
  {
   "cell_type": "markdown",
   "id": "ce4ae74b",
   "metadata": {},
   "source": [
    "Взглянем на распределение и описание данных снова."
   ]
  },
  {
   "cell_type": "code",
   "execution_count": 9,
   "id": "cbbabaa7",
   "metadata": {},
   "outputs": [
    {
     "data": {
      "image/png": "[encoded data removed]",
      "text/plain": [
       "<Figure size 432x288 with 1 Axes>"
      ]
     },
     "metadata": {
      "needs_background": "light"
     },
     "output_type": "display_data"
    },
    {
     "data": {
      "text/plain": [
       "count    14876.000000\n",
       "mean         0.500718\n",
       "std          0.310871\n",
       "min          0.020806\n",
       "1%           0.080798\n",
       "25%          0.291008\n",
       "50%          0.415973\n",
       "75%          0.637371\n",
       "99%          1.592817\n",
       "max          2.676388\n",
       "Name: reactive_power, dtype: float64"
      ]
     },
     "execution_count": 9,
     "metadata": {},
     "output_type": "execute_result"
    }
   ],
   "source": [
    "data_arc['reactive_power'].plot(kind='hist', title='Распределение значений в столбце reactive_power', bins=100)\n",
    "plt.show()\n",
    "data_arc['reactive_power'].describe(percentiles=[.01, .25, .5, .75, .99])"
   ]
  },
  {
   "cell_type": "markdown",
   "id": "79f9e796",
   "metadata": {},
   "source": [
    "Ошибочных данных не видно. Среднее значение действительно заметно увеличилось."
   ]
  },
  {
   "cell_type": "markdown",
   "id": "8efb82b3",
   "metadata": {},
   "source": [
    "Суммарное количество затраченной на нагрев партии мощности будет одним из признаков, на которых мы будем строить модель, посчитаем суммарные активную и реактивную мощности по каждой партии."
   ]
  },
  {
   "cell_type": "code",
   "execution_count": 10,
   "id": "56b923fe",
   "metadata": {},
   "outputs": [],
   "source": [
    "powers_sum = data_arc.pivot_table(values=['active_power', 'reactive_power'], index='key', aggfunc=['sum'])\n",
    "powers_sum.columns = ['active_power', 'reactive_power']"
   ]
  },
  {
   "cell_type": "code",
   "execution_count": 11,
   "id": "c7407a9d",
   "metadata": {},
   "outputs": [
    {
     "data": {
      "text/html": [
       "<div>\n",
       "<style scoped>\n",
       "    .dataframe tbody tr th:only-of-type {\n",
       "        vertical-align: middle;\n",
       "    }\n",
       "\n",
       "    .dataframe tbody tr th {\n",
       "        vertical-align: top;\n",
       "    }\n",
       "\n",
       "    .dataframe thead th {\n",
       "        text-align: right;\n",
       "    }\n",
       "</style>\n",
       "<table border=\"1\" class=\"dataframe\">\n",
       "  <thead>\n",
       "    <tr style=\"text-align: right;\">\n",
       "      <th></th>\n",
       "      <th>active_power</th>\n",
       "      <th>reactive_power</th>\n",
       "    </tr>\n",
       "  </thead>\n",
       "  <tbody>\n",
       "    <tr>\n",
       "      <td>count</td>\n",
       "      <td>3214.000000</td>\n",
       "      <td>3214.000000</td>\n",
       "    </tr>\n",
       "    <tr>\n",
       "      <td>mean</td>\n",
       "      <td>3.103138</td>\n",
       "      <td>2.317572</td>\n",
       "    </tr>\n",
       "    <tr>\n",
       "      <td>std</td>\n",
       "      <td>1.397390</td>\n",
       "      <td>1.054169</td>\n",
       "    </tr>\n",
       "    <tr>\n",
       "      <td>min</td>\n",
       "      <td>0.186226</td>\n",
       "      <td>0.158247</td>\n",
       "    </tr>\n",
       "    <tr>\n",
       "      <td>1%</td>\n",
       "      <td>0.570899</td>\n",
       "      <td>0.401643</td>\n",
       "    </tr>\n",
       "    <tr>\n",
       "      <td>25%</td>\n",
       "      <td>2.126339</td>\n",
       "      <td>1.599018</td>\n",
       "    </tr>\n",
       "    <tr>\n",
       "      <td>50%</td>\n",
       "      <td>2.990537</td>\n",
       "      <td>2.229869</td>\n",
       "    </tr>\n",
       "    <tr>\n",
       "      <td>75%</td>\n",
       "      <td>3.901147</td>\n",
       "      <td>2.899141</td>\n",
       "    </tr>\n",
       "    <tr>\n",
       "      <td>99%</td>\n",
       "      <td>6.927170</td>\n",
       "      <td>5.375642</td>\n",
       "    </tr>\n",
       "    <tr>\n",
       "      <td>max</td>\n",
       "      <td>17.496497</td>\n",
       "      <td>12.587990</td>\n",
       "    </tr>\n",
       "  </tbody>\n",
       "</table>\n",
       "</div>"
      ],
      "text/plain": [
       "       active_power  reactive_power\n",
       "count   3214.000000     3214.000000\n",
       "mean       3.103138        2.317572\n",
       "std        1.397390        1.054169\n",
       "min        0.186226        0.158247\n",
       "1%         0.570899        0.401643\n",
       "25%        2.126339        1.599018\n",
       "50%        2.990537        2.229869\n",
       "75%        3.901147        2.899141\n",
       "99%        6.927170        5.375642\n",
       "max       17.496497       12.587990"
      ]
     },
     "execution_count": 11,
     "metadata": {},
     "output_type": "execute_result"
    }
   ],
   "source": [
    "powers_sum.describe(percentiles=[.01, .25, .5, .75, .99])"
   ]
  },
  {
   "cell_type": "code",
   "execution_count": 12,
   "id": "d7cac4c4",
   "metadata": {},
   "outputs": [
    {
     "data": {
      "text/html": [
       "<div>\n",
       "<style scoped>\n",
       "    .dataframe tbody tr th:only-of-type {\n",
       "        vertical-align: middle;\n",
       "    }\n",
       "\n",
       "    .dataframe tbody tr th {\n",
       "        vertical-align: top;\n",
       "    }\n",
       "\n",
       "    .dataframe thead th {\n",
       "        text-align: right;\n",
       "    }\n",
       "</style>\n",
       "<table border=\"1\" class=\"dataframe\">\n",
       "  <thead>\n",
       "    <tr style=\"text-align: right;\">\n",
       "      <th></th>\n",
       "      <th>active_power</th>\n",
       "      <th>reactive_power</th>\n",
       "    </tr>\n",
       "  </thead>\n",
       "  <tbody>\n",
       "    <tr>\n",
       "      <td>active_power</td>\n",
       "      <td>1.000000</td>\n",
       "      <td>0.957882</td>\n",
       "    </tr>\n",
       "    <tr>\n",
       "      <td>reactive_power</td>\n",
       "      <td>0.957882</td>\n",
       "      <td>1.000000</td>\n",
       "    </tr>\n",
       "  </tbody>\n",
       "</table>\n",
       "</div>"
      ],
      "text/plain": [
       "                active_power  reactive_power\n",
       "active_power        1.000000        0.957882\n",
       "reactive_power      0.957882        1.000000"
      ]
     },
     "execution_count": 12,
     "metadata": {},
     "output_type": "execute_result"
    }
   ],
   "source": [
    "powers_sum.corr()"
   ]
  },
  {
   "cell_type": "markdown",
   "id": "73c18080",
   "metadata": {},
   "source": [
    "Между двумя мощностями есть сильная корреляция. Это логично, чем больше \"полезная\" мощность (активная), тем больше и \"бесполезная\" (реактивная) мощность. Они подчиняются треугольнику мощностей и завият от общей мощности и фазового угла.\n",
    "\n",
    "Не вдаваясь в физические подробности, корелляция между этими двумя величинами ожидаема, а значит можем отказаться от \"бесполезной\" реактивной, используя в дальнейшем только активную."
   ]
  },
  {
   "cell_type": "code",
   "execution_count": 13,
   "id": "206c00b1",
   "metadata": {},
   "outputs": [],
   "source": [
    "powers_sum = powers_sum.drop('reactive_power', axis=1)"
   ]
  },
  {
   "cell_type": "markdown",
   "id": "270d1ac4",
   "metadata": {},
   "source": [
    "Так же для того, чтобы выделить партии, в которые после измерения температуры не вносились какие-то изменения (подогрев, введение сыпучих и проволочных материалов), нам необходимо отобрать наиболее позднее время окончания подогрева каждой партии для последующего сравнения с временем последнего измерения температуры партии. Сохраним список партий и время их последнего подогрева в отдельную переменную."
   ]
  },
  {
   "cell_type": "code",
   "execution_count": 14,
   "id": "3d49fbab",
   "metadata": {},
   "outputs": [
    {
     "data": {
      "text/html": [
       "<div>\n",
       "<style scoped>\n",
       "    .dataframe tbody tr th:only-of-type {\n",
       "        vertical-align: middle;\n",
       "    }\n",
       "\n",
       "    .dataframe tbody tr th {\n",
       "        vertical-align: top;\n",
       "    }\n",
       "\n",
       "    .dataframe thead th {\n",
       "        text-align: right;\n",
       "    }\n",
       "</style>\n",
       "<table border=\"1\" class=\"dataframe\">\n",
       "  <thead>\n",
       "    <tr style=\"text-align: right;\">\n",
       "      <th></th>\n",
       "      <th>heat_finish_time</th>\n",
       "    </tr>\n",
       "    <tr>\n",
       "      <th>key</th>\n",
       "      <th></th>\n",
       "    </tr>\n",
       "  </thead>\n",
       "  <tbody>\n",
       "    <tr>\n",
       "      <td>1</td>\n",
       "      <td>2019-05-03 11:28:37</td>\n",
       "    </tr>\n",
       "    <tr>\n",
       "      <td>2</td>\n",
       "      <td>2019-05-03 11:53:18</td>\n",
       "    </tr>\n",
       "    <tr>\n",
       "      <td>3</td>\n",
       "      <td>2019-05-03 12:32:19</td>\n",
       "    </tr>\n",
       "    <tr>\n",
       "      <td>4</td>\n",
       "      <td>2019-05-03 12:57:50</td>\n",
       "    </tr>\n",
       "    <tr>\n",
       "      <td>5</td>\n",
       "      <td>2019-05-03 13:33:55</td>\n",
       "    </tr>\n",
       "    <tr>\n",
       "      <td>...</td>\n",
       "      <td>...</td>\n",
       "    </tr>\n",
       "    <tr>\n",
       "      <td>3237</td>\n",
       "      <td>2019-08-31 23:03:48</td>\n",
       "    </tr>\n",
       "    <tr>\n",
       "      <td>3238</td>\n",
       "      <td>2019-08-31 23:41:28</td>\n",
       "    </tr>\n",
       "    <tr>\n",
       "      <td>3239</td>\n",
       "      <td>2019-09-01 02:15:43</td>\n",
       "    </tr>\n",
       "    <tr>\n",
       "      <td>3240</td>\n",
       "      <td>2019-09-01 03:34:08</td>\n",
       "    </tr>\n",
       "    <tr>\n",
       "      <td>3241</td>\n",
       "      <td>2019-09-01 04:36:08</td>\n",
       "    </tr>\n",
       "  </tbody>\n",
       "</table>\n",
       "<p>3214 rows × 1 columns</p>\n",
       "</div>"
      ],
      "text/plain": [
       "        heat_finish_time\n",
       "key                     \n",
       "1    2019-05-03 11:28:37\n",
       "2    2019-05-03 11:53:18\n",
       "3    2019-05-03 12:32:19\n",
       "4    2019-05-03 12:57:50\n",
       "5    2019-05-03 13:33:55\n",
       "...                  ...\n",
       "3237 2019-08-31 23:03:48\n",
       "3238 2019-08-31 23:41:28\n",
       "3239 2019-09-01 02:15:43\n",
       "3240 2019-09-01 03:34:08\n",
       "3241 2019-09-01 04:36:08\n",
       "\n",
       "[3214 rows x 1 columns]"
      ]
     },
     "execution_count": 14,
     "metadata": {},
     "output_type": "execute_result"
    }
   ],
   "source": [
    "heat_last = data_arc.pivot_table(values=['heat_finish'], index='key', columns=None, aggfunc=['max'])\n",
    "heat_last.columns = ['heat_finish_time']\n",
    "heat_last"
   ]
  },
  {
   "cell_type": "markdown",
   "id": "fc41dd51",
   "metadata": {},
   "source": [
    "Результат:\n",
    "* данные проанализированы и очищены от ошибок и выбросов;\n",
    "* типы данных преобразованы;\n",
    "* создана отдельная переменная окончания подогрева."
   ]
  },
  {
   "cell_type": "markdown",
   "id": "1ec2c1db",
   "metadata": {},
   "source": [
    "---"
   ]
  },
  {
   "cell_type": "markdown",
   "id": "e4d89aa5",
   "metadata": {},
   "source": [
    "#### data_bulk.csv\n",
    "<b>Данные о подаче сыпучих материалов (объём)</b>\n",
    "\n",
    "    \n",
    "[вернуться к содержанию](#Содержание)"
   ]
  },
  {
   "cell_type": "code",
   "execution_count": 15,
   "id": "3f81a53a",
   "metadata": {
    "scrolled": false
   },
   "outputs": [
    {
     "name": "stdout",
     "output_type": "stream",
     "text": [
      "<class 'pandas.core.frame.DataFrame'>\n",
      "RangeIndex: 3129 entries, 0 to 3128\n",
      "Data columns (total 16 columns):\n",
      "key        3129 non-null int64\n",
      "Bulk 1     252 non-null float64\n",
      "Bulk 2     22 non-null float64\n",
      "Bulk 3     1298 non-null float64\n",
      "Bulk 4     1014 non-null float64\n",
      "Bulk 5     77 non-null float64\n",
      "Bulk 6     576 non-null float64\n",
      "Bulk 7     25 non-null float64\n",
      "Bulk 8     1 non-null float64\n",
      "Bulk 9     19 non-null float64\n",
      "Bulk 10    176 non-null float64\n",
      "Bulk 11    177 non-null float64\n",
      "Bulk 12    2450 non-null float64\n",
      "Bulk 13    18 non-null float64\n",
      "Bulk 14    2806 non-null float64\n",
      "Bulk 15    2248 non-null float64\n",
      "dtypes: float64(15), int64(1)\n",
      "memory usage: 391.2 KB\n"
     ]
    },
    {
     "data": {
      "text/html": [
       "<div>\n",
       "<style scoped>\n",
       "    .dataframe tbody tr th:only-of-type {\n",
       "        vertical-align: middle;\n",
       "    }\n",
       "\n",
       "    .dataframe tbody tr th {\n",
       "        vertical-align: top;\n",
       "    }\n",
       "\n",
       "    .dataframe thead th {\n",
       "        text-align: right;\n",
       "    }\n",
       "</style>\n",
       "<table border=\"1\" class=\"dataframe\">\n",
       "  <thead>\n",
       "    <tr style=\"text-align: right;\">\n",
       "      <th></th>\n",
       "      <th>key</th>\n",
       "      <th>Bulk 1</th>\n",
       "      <th>Bulk 2</th>\n",
       "      <th>Bulk 3</th>\n",
       "      <th>Bulk 4</th>\n",
       "      <th>Bulk 5</th>\n",
       "      <th>Bulk 6</th>\n",
       "      <th>Bulk 7</th>\n",
       "      <th>Bulk 8</th>\n",
       "      <th>Bulk 9</th>\n",
       "      <th>Bulk 10</th>\n",
       "      <th>Bulk 11</th>\n",
       "      <th>Bulk 12</th>\n",
       "      <th>Bulk 13</th>\n",
       "      <th>Bulk 14</th>\n",
       "      <th>Bulk 15</th>\n",
       "    </tr>\n",
       "  </thead>\n",
       "  <tbody>\n",
       "    <tr>\n",
       "      <td>0</td>\n",
       "      <td>1</td>\n",
       "      <td>NaN</td>\n",
       "      <td>NaN</td>\n",
       "      <td>NaN</td>\n",
       "      <td>43.0</td>\n",
       "      <td>NaN</td>\n",
       "      <td>NaN</td>\n",
       "      <td>NaN</td>\n",
       "      <td>NaN</td>\n",
       "      <td>NaN</td>\n",
       "      <td>NaN</td>\n",
       "      <td>NaN</td>\n",
       "      <td>206.0</td>\n",
       "      <td>NaN</td>\n",
       "      <td>150.0</td>\n",
       "      <td>154.0</td>\n",
       "    </tr>\n",
       "    <tr>\n",
       "      <td>1</td>\n",
       "      <td>2</td>\n",
       "      <td>NaN</td>\n",
       "      <td>NaN</td>\n",
       "      <td>NaN</td>\n",
       "      <td>73.0</td>\n",
       "      <td>NaN</td>\n",
       "      <td>NaN</td>\n",
       "      <td>NaN</td>\n",
       "      <td>NaN</td>\n",
       "      <td>NaN</td>\n",
       "      <td>NaN</td>\n",
       "      <td>NaN</td>\n",
       "      <td>206.0</td>\n",
       "      <td>NaN</td>\n",
       "      <td>149.0</td>\n",
       "      <td>154.0</td>\n",
       "    </tr>\n",
       "    <tr>\n",
       "      <td>2</td>\n",
       "      <td>3</td>\n",
       "      <td>NaN</td>\n",
       "      <td>NaN</td>\n",
       "      <td>NaN</td>\n",
       "      <td>34.0</td>\n",
       "      <td>NaN</td>\n",
       "      <td>NaN</td>\n",
       "      <td>NaN</td>\n",
       "      <td>NaN</td>\n",
       "      <td>NaN</td>\n",
       "      <td>NaN</td>\n",
       "      <td>NaN</td>\n",
       "      <td>205.0</td>\n",
       "      <td>NaN</td>\n",
       "      <td>152.0</td>\n",
       "      <td>153.0</td>\n",
       "    </tr>\n",
       "    <tr>\n",
       "      <td>3</td>\n",
       "      <td>4</td>\n",
       "      <td>NaN</td>\n",
       "      <td>NaN</td>\n",
       "      <td>NaN</td>\n",
       "      <td>81.0</td>\n",
       "      <td>NaN</td>\n",
       "      <td>NaN</td>\n",
       "      <td>NaN</td>\n",
       "      <td>NaN</td>\n",
       "      <td>NaN</td>\n",
       "      <td>NaN</td>\n",
       "      <td>NaN</td>\n",
       "      <td>207.0</td>\n",
       "      <td>NaN</td>\n",
       "      <td>153.0</td>\n",
       "      <td>154.0</td>\n",
       "    </tr>\n",
       "    <tr>\n",
       "      <td>4</td>\n",
       "      <td>5</td>\n",
       "      <td>NaN</td>\n",
       "      <td>NaN</td>\n",
       "      <td>NaN</td>\n",
       "      <td>78.0</td>\n",
       "      <td>NaN</td>\n",
       "      <td>NaN</td>\n",
       "      <td>NaN</td>\n",
       "      <td>NaN</td>\n",
       "      <td>NaN</td>\n",
       "      <td>NaN</td>\n",
       "      <td>NaN</td>\n",
       "      <td>203.0</td>\n",
       "      <td>NaN</td>\n",
       "      <td>151.0</td>\n",
       "      <td>152.0</td>\n",
       "    </tr>\n",
       "  </tbody>\n",
       "</table>\n",
       "</div>"
      ],
      "text/plain": [
       "   key  Bulk 1  Bulk 2  Bulk 3  Bulk 4  Bulk 5  Bulk 6  Bulk 7  Bulk 8  \\\n",
       "0    1     NaN     NaN     NaN    43.0     NaN     NaN     NaN     NaN   \n",
       "1    2     NaN     NaN     NaN    73.0     NaN     NaN     NaN     NaN   \n",
       "2    3     NaN     NaN     NaN    34.0     NaN     NaN     NaN     NaN   \n",
       "3    4     NaN     NaN     NaN    81.0     NaN     NaN     NaN     NaN   \n",
       "4    5     NaN     NaN     NaN    78.0     NaN     NaN     NaN     NaN   \n",
       "\n",
       "   Bulk 9  Bulk 10  Bulk 11  Bulk 12  Bulk 13  Bulk 14  Bulk 15  \n",
       "0     NaN      NaN      NaN    206.0      NaN    150.0    154.0  \n",
       "1     NaN      NaN      NaN    206.0      NaN    149.0    154.0  \n",
       "2     NaN      NaN      NaN    205.0      NaN    152.0    153.0  \n",
       "3     NaN      NaN      NaN    207.0      NaN    153.0    154.0  \n",
       "4     NaN      NaN      NaN    203.0      NaN    151.0    152.0  "
      ]
     },
     "execution_count": 15,
     "metadata": {},
     "output_type": "execute_result"
    }
   ],
   "source": [
    "data_bulk = pd.read_csv(path+'data_bulk.csv')\n",
    "data_bulk.info()\n",
    "data_bulk.head()"
   ]
  },
  {
   "cell_type": "code",
   "execution_count": 16,
   "id": "7b619a7c",
   "metadata": {},
   "outputs": [
    {
     "data": {
      "text/html": [
       "<div>\n",
       "<style scoped>\n",
       "    .dataframe tbody tr th:only-of-type {\n",
       "        vertical-align: middle;\n",
       "    }\n",
       "\n",
       "    .dataframe tbody tr th {\n",
       "        vertical-align: top;\n",
       "    }\n",
       "\n",
       "    .dataframe thead th {\n",
       "        text-align: right;\n",
       "    }\n",
       "</style>\n",
       "<table border=\"1\" class=\"dataframe\">\n",
       "  <thead>\n",
       "    <tr style=\"text-align: right;\">\n",
       "      <th></th>\n",
       "      <th>key</th>\n",
       "      <th>Bulk 1</th>\n",
       "      <th>Bulk 2</th>\n",
       "      <th>Bulk 3</th>\n",
       "      <th>Bulk 4</th>\n",
       "      <th>Bulk 5</th>\n",
       "      <th>Bulk 6</th>\n",
       "      <th>Bulk 7</th>\n",
       "      <th>Bulk 8</th>\n",
       "      <th>Bulk 9</th>\n",
       "      <th>Bulk 10</th>\n",
       "      <th>Bulk 11</th>\n",
       "      <th>Bulk 12</th>\n",
       "      <th>Bulk 13</th>\n",
       "      <th>Bulk 14</th>\n",
       "      <th>Bulk 15</th>\n",
       "    </tr>\n",
       "  </thead>\n",
       "  <tbody>\n",
       "    <tr>\n",
       "      <td>count</td>\n",
       "      <td>3129.000000</td>\n",
       "      <td>252.000000</td>\n",
       "      <td>22.000000</td>\n",
       "      <td>1298.000000</td>\n",
       "      <td>1014.000000</td>\n",
       "      <td>77.000000</td>\n",
       "      <td>576.000000</td>\n",
       "      <td>25.000000</td>\n",
       "      <td>1.0</td>\n",
       "      <td>19.000000</td>\n",
       "      <td>176.000000</td>\n",
       "      <td>177.000000</td>\n",
       "      <td>2450.000000</td>\n",
       "      <td>18.000000</td>\n",
       "      <td>2806.000000</td>\n",
       "      <td>2248.000000</td>\n",
       "    </tr>\n",
       "    <tr>\n",
       "      <td>mean</td>\n",
       "      <td>1624.383509</td>\n",
       "      <td>39.242063</td>\n",
       "      <td>253.045455</td>\n",
       "      <td>113.879045</td>\n",
       "      <td>104.394477</td>\n",
       "      <td>107.025974</td>\n",
       "      <td>118.925347</td>\n",
       "      <td>305.600000</td>\n",
       "      <td>49.0</td>\n",
       "      <td>76.315789</td>\n",
       "      <td>83.284091</td>\n",
       "      <td>76.819209</td>\n",
       "      <td>260.471020</td>\n",
       "      <td>181.111111</td>\n",
       "      <td>170.284747</td>\n",
       "      <td>160.513345</td>\n",
       "    </tr>\n",
       "    <tr>\n",
       "      <td>std</td>\n",
       "      <td>933.337642</td>\n",
       "      <td>18.277654</td>\n",
       "      <td>21.180578</td>\n",
       "      <td>75.483494</td>\n",
       "      <td>48.184126</td>\n",
       "      <td>81.790646</td>\n",
       "      <td>72.057776</td>\n",
       "      <td>191.022904</td>\n",
       "      <td>NaN</td>\n",
       "      <td>21.720581</td>\n",
       "      <td>26.060347</td>\n",
       "      <td>59.655365</td>\n",
       "      <td>120.649269</td>\n",
       "      <td>46.088009</td>\n",
       "      <td>65.868652</td>\n",
       "      <td>51.765319</td>\n",
       "    </tr>\n",
       "    <tr>\n",
       "      <td>min</td>\n",
       "      <td>1.000000</td>\n",
       "      <td>10.000000</td>\n",
       "      <td>228.000000</td>\n",
       "      <td>6.000000</td>\n",
       "      <td>12.000000</td>\n",
       "      <td>11.000000</td>\n",
       "      <td>17.000000</td>\n",
       "      <td>47.000000</td>\n",
       "      <td>49.0</td>\n",
       "      <td>63.000000</td>\n",
       "      <td>24.000000</td>\n",
       "      <td>8.000000</td>\n",
       "      <td>53.000000</td>\n",
       "      <td>151.000000</td>\n",
       "      <td>16.000000</td>\n",
       "      <td>1.000000</td>\n",
       "    </tr>\n",
       "    <tr>\n",
       "      <td>1%</td>\n",
       "      <td>32.280000</td>\n",
       "      <td>17.530000</td>\n",
       "      <td>228.000000</td>\n",
       "      <td>19.000000</td>\n",
       "      <td>19.000000</td>\n",
       "      <td>16.320000</td>\n",
       "      <td>25.000000</td>\n",
       "      <td>47.720000</td>\n",
       "      <td>49.0</td>\n",
       "      <td>63.360000</td>\n",
       "      <td>27.500000</td>\n",
       "      <td>14.000000</td>\n",
       "      <td>103.000000</td>\n",
       "      <td>151.170000</td>\n",
       "      <td>90.000000</td>\n",
       "      <td>54.000000</td>\n",
       "    </tr>\n",
       "    <tr>\n",
       "      <td>25%</td>\n",
       "      <td>816.000000</td>\n",
       "      <td>27.000000</td>\n",
       "      <td>242.000000</td>\n",
       "      <td>58.000000</td>\n",
       "      <td>72.000000</td>\n",
       "      <td>70.000000</td>\n",
       "      <td>69.750000</td>\n",
       "      <td>155.000000</td>\n",
       "      <td>49.0</td>\n",
       "      <td>66.000000</td>\n",
       "      <td>64.000000</td>\n",
       "      <td>25.000000</td>\n",
       "      <td>204.000000</td>\n",
       "      <td>153.250000</td>\n",
       "      <td>119.000000</td>\n",
       "      <td>105.000000</td>\n",
       "    </tr>\n",
       "    <tr>\n",
       "      <td>50%</td>\n",
       "      <td>1622.000000</td>\n",
       "      <td>31.000000</td>\n",
       "      <td>251.500000</td>\n",
       "      <td>97.500000</td>\n",
       "      <td>102.000000</td>\n",
       "      <td>86.000000</td>\n",
       "      <td>100.000000</td>\n",
       "      <td>298.000000</td>\n",
       "      <td>49.0</td>\n",
       "      <td>68.000000</td>\n",
       "      <td>86.500000</td>\n",
       "      <td>64.000000</td>\n",
       "      <td>208.000000</td>\n",
       "      <td>155.500000</td>\n",
       "      <td>151.000000</td>\n",
       "      <td>160.000000</td>\n",
       "    </tr>\n",
       "    <tr>\n",
       "      <td>75%</td>\n",
       "      <td>2431.000000</td>\n",
       "      <td>46.000000</td>\n",
       "      <td>257.750000</td>\n",
       "      <td>152.000000</td>\n",
       "      <td>133.000000</td>\n",
       "      <td>132.000000</td>\n",
       "      <td>157.000000</td>\n",
       "      <td>406.000000</td>\n",
       "      <td>49.0</td>\n",
       "      <td>70.500000</td>\n",
       "      <td>102.000000</td>\n",
       "      <td>106.000000</td>\n",
       "      <td>316.000000</td>\n",
       "      <td>203.500000</td>\n",
       "      <td>205.750000</td>\n",
       "      <td>205.000000</td>\n",
       "    </tr>\n",
       "    <tr>\n",
       "      <td>99%</td>\n",
       "      <td>3208.720000</td>\n",
       "      <td>98.900000</td>\n",
       "      <td>315.970000</td>\n",
       "      <td>343.180000</td>\n",
       "      <td>239.000000</td>\n",
       "      <td>367.400000</td>\n",
       "      <td>351.750000</td>\n",
       "      <td>724.960000</td>\n",
       "      <td>49.0</td>\n",
       "      <td>140.520000</td>\n",
       "      <td>148.750000</td>\n",
       "      <td>229.840000</td>\n",
       "      <td>570.000000</td>\n",
       "      <td>300.410000</td>\n",
       "      <td>374.800000</td>\n",
       "      <td>240.000000</td>\n",
       "    </tr>\n",
       "    <tr>\n",
       "      <td>max</td>\n",
       "      <td>3241.000000</td>\n",
       "      <td>185.000000</td>\n",
       "      <td>325.000000</td>\n",
       "      <td>454.000000</td>\n",
       "      <td>281.000000</td>\n",
       "      <td>603.000000</td>\n",
       "      <td>503.000000</td>\n",
       "      <td>772.000000</td>\n",
       "      <td>49.0</td>\n",
       "      <td>147.000000</td>\n",
       "      <td>159.000000</td>\n",
       "      <td>313.000000</td>\n",
       "      <td>1849.000000</td>\n",
       "      <td>305.000000</td>\n",
       "      <td>636.000000</td>\n",
       "      <td>405.000000</td>\n",
       "    </tr>\n",
       "  </tbody>\n",
       "</table>\n",
       "</div>"
      ],
      "text/plain": [
       "               key      Bulk 1      Bulk 2       Bulk 3       Bulk 4  \\\n",
       "count  3129.000000  252.000000   22.000000  1298.000000  1014.000000   \n",
       "mean   1624.383509   39.242063  253.045455   113.879045   104.394477   \n",
       "std     933.337642   18.277654   21.180578    75.483494    48.184126   \n",
       "min       1.000000   10.000000  228.000000     6.000000    12.000000   \n",
       "1%       32.280000   17.530000  228.000000    19.000000    19.000000   \n",
       "25%     816.000000   27.000000  242.000000    58.000000    72.000000   \n",
       "50%    1622.000000   31.000000  251.500000    97.500000   102.000000   \n",
       "75%    2431.000000   46.000000  257.750000   152.000000   133.000000   \n",
       "99%    3208.720000   98.900000  315.970000   343.180000   239.000000   \n",
       "max    3241.000000  185.000000  325.000000   454.000000   281.000000   \n",
       "\n",
       "           Bulk 5      Bulk 6      Bulk 7  Bulk 8      Bulk 9     Bulk 10  \\\n",
       "count   77.000000  576.000000   25.000000     1.0   19.000000  176.000000   \n",
       "mean   107.025974  118.925347  305.600000    49.0   76.315789   83.284091   \n",
       "std     81.790646   72.057776  191.022904     NaN   21.720581   26.060347   \n",
       "min     11.000000   17.000000   47.000000    49.0   63.000000   24.000000   \n",
       "1%      16.320000   25.000000   47.720000    49.0   63.360000   27.500000   \n",
       "25%     70.000000   69.750000  155.000000    49.0   66.000000   64.000000   \n",
       "50%     86.000000  100.000000  298.000000    49.0   68.000000   86.500000   \n",
       "75%    132.000000  157.000000  406.000000    49.0   70.500000  102.000000   \n",
       "99%    367.400000  351.750000  724.960000    49.0  140.520000  148.750000   \n",
       "max    603.000000  503.000000  772.000000    49.0  147.000000  159.000000   \n",
       "\n",
       "          Bulk 11      Bulk 12     Bulk 13      Bulk 14      Bulk 15  \n",
       "count  177.000000  2450.000000   18.000000  2806.000000  2248.000000  \n",
       "mean    76.819209   260.471020  181.111111   170.284747   160.513345  \n",
       "std     59.655365   120.649269   46.088009    65.868652    51.765319  \n",
       "min      8.000000    53.000000  151.000000    16.000000     1.000000  \n",
       "1%      14.000000   103.000000  151.170000    90.000000    54.000000  \n",
       "25%     25.000000   204.000000  153.250000   119.000000   105.000000  \n",
       "50%     64.000000   208.000000  155.500000   151.000000   160.000000  \n",
       "75%    106.000000   316.000000  203.500000   205.750000   205.000000  \n",
       "99%    229.840000   570.000000  300.410000   374.800000   240.000000  \n",
       "max    313.000000  1849.000000  305.000000   636.000000   405.000000  "
      ]
     },
     "execution_count": 16,
     "metadata": {},
     "output_type": "execute_result"
    }
   ],
   "source": [
    "data_bulk.describe(percentiles=[.01, .25, .5, .75, .99])"
   ]
  },
  {
   "cell_type": "markdown",
   "id": "5694a845",
   "metadata": {},
   "source": [
    "В очень большой части партий применялись присадки 12, 14 и 15. Видимо, это какие-то обязательные необходимые элементы и вещества. Количество остальных очень разнится. К примеру, присадка под номером 8 за имеющееся время наблюдений применялась всего единожды.\n",
    "\n",
    "Наименования столбцов необходимо привести в нижний регистр и убрать из них пробелы. Кроме того в данных огромное количество пропусков. Было установлено, что пропуски возникали потому что в конкретную партию не добавлялась конкретная присадка. В таком случае не будет ошибкой заменить пропуски в этой таблице нулями."
   ]
  },
  {
   "cell_type": "code",
   "execution_count": 17,
   "id": "d89ac0a4",
   "metadata": {},
   "outputs": [],
   "source": [
    "# перевод названий столбцов в нижний регистр и замена пробелов подчеркиванием\n",
    "data_bulk_columns = ['key']\n",
    "for i in range(len(data_bulk.columns)-1):\n",
    "    data_bulk_columns.append('bulk_'+str(i+1))\n",
    "data_bulk.columns = data_bulk_columns\n",
    "\n",
    "# замена пропущеных значений нулями\n",
    "data_bulk = data_bulk.fillna(0)"
   ]
  },
  {
   "cell_type": "markdown",
   "id": "5ca50a64",
   "metadata": {},
   "source": [
    "Результат:\n",
    "* данные обработаны, очищены от пропусков\n",
    "* приведены к виду, в котором будут использованы при обучении модели"
   ]
  },
  {
   "cell_type": "code",
   "execution_count": 18,
   "id": "97d4fdf2",
   "metadata": {},
   "outputs": [
    {
     "name": "stdout",
     "output_type": "stream",
     "text": [
      "<class 'pandas.core.frame.DataFrame'>\n",
      "RangeIndex: 3129 entries, 0 to 3128\n",
      "Data columns (total 16 columns):\n",
      "key        3129 non-null int64\n",
      "bulk_1     3129 non-null float64\n",
      "bulk_2     3129 non-null float64\n",
      "bulk_3     3129 non-null float64\n",
      "bulk_4     3129 non-null float64\n",
      "bulk_5     3129 non-null float64\n",
      "bulk_6     3129 non-null float64\n",
      "bulk_7     3129 non-null float64\n",
      "bulk_8     3129 non-null float64\n",
      "bulk_9     3129 non-null float64\n",
      "bulk_10    3129 non-null float64\n",
      "bulk_11    3129 non-null float64\n",
      "bulk_12    3129 non-null float64\n",
      "bulk_13    3129 non-null float64\n",
      "bulk_14    3129 non-null float64\n",
      "bulk_15    3129 non-null float64\n",
      "dtypes: float64(15), int64(1)\n",
      "memory usage: 391.2 KB\n"
     ]
    },
    {
     "data": {
      "text/html": [
       "<div>\n",
       "<style scoped>\n",
       "    .dataframe tbody tr th:only-of-type {\n",
       "        vertical-align: middle;\n",
       "    }\n",
       "\n",
       "    .dataframe tbody tr th {\n",
       "        vertical-align: top;\n",
       "    }\n",
       "\n",
       "    .dataframe thead th {\n",
       "        text-align: right;\n",
       "    }\n",
       "</style>\n",
       "<table border=\"1\" class=\"dataframe\">\n",
       "  <thead>\n",
       "    <tr style=\"text-align: right;\">\n",
       "      <th></th>\n",
       "      <th>key</th>\n",
       "      <th>bulk_1</th>\n",
       "      <th>bulk_2</th>\n",
       "      <th>bulk_3</th>\n",
       "      <th>bulk_4</th>\n",
       "      <th>bulk_5</th>\n",
       "      <th>bulk_6</th>\n",
       "      <th>bulk_7</th>\n",
       "      <th>bulk_8</th>\n",
       "      <th>bulk_9</th>\n",
       "      <th>bulk_10</th>\n",
       "      <th>bulk_11</th>\n",
       "      <th>bulk_12</th>\n",
       "      <th>bulk_13</th>\n",
       "      <th>bulk_14</th>\n",
       "      <th>bulk_15</th>\n",
       "    </tr>\n",
       "  </thead>\n",
       "  <tbody>\n",
       "    <tr>\n",
       "      <td>0</td>\n",
       "      <td>1</td>\n",
       "      <td>0.0</td>\n",
       "      <td>0.0</td>\n",
       "      <td>0.0</td>\n",
       "      <td>43.0</td>\n",
       "      <td>0.0</td>\n",
       "      <td>0.0</td>\n",
       "      <td>0.0</td>\n",
       "      <td>0.0</td>\n",
       "      <td>0.0</td>\n",
       "      <td>0.0</td>\n",
       "      <td>0.0</td>\n",
       "      <td>206.0</td>\n",
       "      <td>0.0</td>\n",
       "      <td>150.0</td>\n",
       "      <td>154.0</td>\n",
       "    </tr>\n",
       "    <tr>\n",
       "      <td>1</td>\n",
       "      <td>2</td>\n",
       "      <td>0.0</td>\n",
       "      <td>0.0</td>\n",
       "      <td>0.0</td>\n",
       "      <td>73.0</td>\n",
       "      <td>0.0</td>\n",
       "      <td>0.0</td>\n",
       "      <td>0.0</td>\n",
       "      <td>0.0</td>\n",
       "      <td>0.0</td>\n",
       "      <td>0.0</td>\n",
       "      <td>0.0</td>\n",
       "      <td>206.0</td>\n",
       "      <td>0.0</td>\n",
       "      <td>149.0</td>\n",
       "      <td>154.0</td>\n",
       "    </tr>\n",
       "  </tbody>\n",
       "</table>\n",
       "</div>"
      ],
      "text/plain": [
       "   key  bulk_1  bulk_2  bulk_3  bulk_4  bulk_5  bulk_6  bulk_7  bulk_8  \\\n",
       "0    1     0.0     0.0     0.0    43.0     0.0     0.0     0.0     0.0   \n",
       "1    2     0.0     0.0     0.0    73.0     0.0     0.0     0.0     0.0   \n",
       "\n",
       "   bulk_9  bulk_10  bulk_11  bulk_12  bulk_13  bulk_14  bulk_15  \n",
       "0     0.0      0.0      0.0    206.0      0.0    150.0    154.0  \n",
       "1     0.0      0.0      0.0    206.0      0.0    149.0    154.0  "
      ]
     },
     "execution_count": 18,
     "metadata": {},
     "output_type": "execute_result"
    }
   ],
   "source": [
    "data_bulk.info()\n",
    "data_bulk.head(2)"
   ]
  },
  {
   "cell_type": "markdown",
   "id": "1298e89b",
   "metadata": {},
   "source": [
    "Так как данных очень много, оценим корреляцию графически. На графике ниже нулевому столбцу соответствует столбец с ключами, корреляции там мы не ищем. Остальные номера столбцов соответствуют номерам присадок."
   ]
  },
  {
   "cell_type": "code",
   "execution_count": 19,
   "id": "66475560",
   "metadata": {
    "scrolled": true
   },
   "outputs": [
    {
     "data": {
      "image/png": "[encoded data removed]",
      "text/plain": [
       "<Figure size 288x288 with 1 Axes>"
      ]
     },
     "metadata": {
      "needs_background": "light"
     },
     "output_type": "display_data"
    }
   ],
   "source": [
    "plt.matshow(data_bulk.corr())\n",
    "plt.show()"
   ]
  },
  {
   "cell_type": "markdown",
   "id": "af92fa42",
   "metadata": {},
   "source": [
    "Есть очень сильная корреляция между 2 и 7 присадками. Моя версия - эта комбинация присадок подается в какой-то сплав, и отсутстствует в остальных. Кроме-то сильно коррелируют 12, 14 и 15 присадки, это связано с тем, что они присутствуют в большинстве партий."
   ]
  },
  {
   "cell_type": "markdown",
   "id": "4e42e0b0",
   "metadata": {},
   "source": [
    "---"
   ]
  },
  {
   "cell_type": "markdown",
   "id": "437aef49",
   "metadata": {},
   "source": [
    "#### data_bulk_time.csv\n",
    "<b>Данные о подаче сыпучих материалов (время)</b>\n",
    "\n",
    "    \n",
    "[вернуться к содержанию](#Содержание)"
   ]
  },
  {
   "cell_type": "code",
   "execution_count": 20,
   "id": "f4e3bd9e",
   "metadata": {},
   "outputs": [
    {
     "name": "stdout",
     "output_type": "stream",
     "text": [
      "<class 'pandas.core.frame.DataFrame'>\n",
      "RangeIndex: 3129 entries, 0 to 3128\n",
      "Data columns (total 16 columns):\n",
      "key        3129 non-null int64\n",
      "Bulk 1     252 non-null object\n",
      "Bulk 2     22 non-null object\n",
      "Bulk 3     1298 non-null object\n",
      "Bulk 4     1014 non-null object\n",
      "Bulk 5     77 non-null object\n",
      "Bulk 6     576 non-null object\n",
      "Bulk 7     25 non-null object\n",
      "Bulk 8     1 non-null object\n",
      "Bulk 9     19 non-null object\n",
      "Bulk 10    176 non-null object\n",
      "Bulk 11    177 non-null object\n",
      "Bulk 12    2450 non-null object\n",
      "Bulk 13    18 non-null object\n",
      "Bulk 14    2806 non-null object\n",
      "Bulk 15    2248 non-null object\n",
      "dtypes: int64(1), object(15)\n",
      "memory usage: 391.2+ KB\n"
     ]
    },
    {
     "data": {
      "text/html": [
       "<div>\n",
       "<style scoped>\n",
       "    .dataframe tbody tr th:only-of-type {\n",
       "        vertical-align: middle;\n",
       "    }\n",
       "\n",
       "    .dataframe tbody tr th {\n",
       "        vertical-align: top;\n",
       "    }\n",
       "\n",
       "    .dataframe thead th {\n",
       "        text-align: right;\n",
       "    }\n",
       "</style>\n",
       "<table border=\"1\" class=\"dataframe\">\n",
       "  <thead>\n",
       "    <tr style=\"text-align: right;\">\n",
       "      <th></th>\n",
       "      <th>key</th>\n",
       "      <th>Bulk 1</th>\n",
       "      <th>Bulk 2</th>\n",
       "      <th>Bulk 3</th>\n",
       "      <th>Bulk 4</th>\n",
       "      <th>Bulk 5</th>\n",
       "      <th>Bulk 6</th>\n",
       "      <th>Bulk 7</th>\n",
       "      <th>Bulk 8</th>\n",
       "      <th>Bulk 9</th>\n",
       "      <th>Bulk 10</th>\n",
       "      <th>Bulk 11</th>\n",
       "      <th>Bulk 12</th>\n",
       "      <th>Bulk 13</th>\n",
       "      <th>Bulk 14</th>\n",
       "      <th>Bulk 15</th>\n",
       "    </tr>\n",
       "  </thead>\n",
       "  <tbody>\n",
       "    <tr>\n",
       "      <td>0</td>\n",
       "      <td>1</td>\n",
       "      <td>NaN</td>\n",
       "      <td>NaN</td>\n",
       "      <td>NaN</td>\n",
       "      <td>2019-05-03 11:21:30</td>\n",
       "      <td>NaN</td>\n",
       "      <td>NaN</td>\n",
       "      <td>NaN</td>\n",
       "      <td>NaN</td>\n",
       "      <td>NaN</td>\n",
       "      <td>NaN</td>\n",
       "      <td>NaN</td>\n",
       "      <td>2019-05-03 11:03:52</td>\n",
       "      <td>NaN</td>\n",
       "      <td>2019-05-03 11:03:52</td>\n",
       "      <td>2019-05-03 11:03:52</td>\n",
       "    </tr>\n",
       "    <tr>\n",
       "      <td>1</td>\n",
       "      <td>2</td>\n",
       "      <td>NaN</td>\n",
       "      <td>NaN</td>\n",
       "      <td>NaN</td>\n",
       "      <td>2019-05-03 11:46:38</td>\n",
       "      <td>NaN</td>\n",
       "      <td>NaN</td>\n",
       "      <td>NaN</td>\n",
       "      <td>NaN</td>\n",
       "      <td>NaN</td>\n",
       "      <td>NaN</td>\n",
       "      <td>NaN</td>\n",
       "      <td>2019-05-03 11:40:20</td>\n",
       "      <td>NaN</td>\n",
       "      <td>2019-05-03 11:40:20</td>\n",
       "      <td>2019-05-03 11:40:20</td>\n",
       "    </tr>\n",
       "    <tr>\n",
       "      <td>2</td>\n",
       "      <td>3</td>\n",
       "      <td>NaN</td>\n",
       "      <td>NaN</td>\n",
       "      <td>NaN</td>\n",
       "      <td>2019-05-03 12:31:06</td>\n",
       "      <td>NaN</td>\n",
       "      <td>NaN</td>\n",
       "      <td>NaN</td>\n",
       "      <td>NaN</td>\n",
       "      <td>NaN</td>\n",
       "      <td>NaN</td>\n",
       "      <td>NaN</td>\n",
       "      <td>2019-05-03 12:09:40</td>\n",
       "      <td>NaN</td>\n",
       "      <td>2019-05-03 12:09:40</td>\n",
       "      <td>2019-05-03 12:09:40</td>\n",
       "    </tr>\n",
       "    <tr>\n",
       "      <td>3</td>\n",
       "      <td>4</td>\n",
       "      <td>NaN</td>\n",
       "      <td>NaN</td>\n",
       "      <td>NaN</td>\n",
       "      <td>2019-05-03 12:48:43</td>\n",
       "      <td>NaN</td>\n",
       "      <td>NaN</td>\n",
       "      <td>NaN</td>\n",
       "      <td>NaN</td>\n",
       "      <td>NaN</td>\n",
       "      <td>NaN</td>\n",
       "      <td>NaN</td>\n",
       "      <td>2019-05-03 12:41:24</td>\n",
       "      <td>NaN</td>\n",
       "      <td>2019-05-03 12:41:24</td>\n",
       "      <td>2019-05-03 12:41:24</td>\n",
       "    </tr>\n",
       "    <tr>\n",
       "      <td>4</td>\n",
       "      <td>5</td>\n",
       "      <td>NaN</td>\n",
       "      <td>NaN</td>\n",
       "      <td>NaN</td>\n",
       "      <td>2019-05-03 13:18:50</td>\n",
       "      <td>NaN</td>\n",
       "      <td>NaN</td>\n",
       "      <td>NaN</td>\n",
       "      <td>NaN</td>\n",
       "      <td>NaN</td>\n",
       "      <td>NaN</td>\n",
       "      <td>NaN</td>\n",
       "      <td>2019-05-03 13:12:56</td>\n",
       "      <td>NaN</td>\n",
       "      <td>2019-05-03 13:12:56</td>\n",
       "      <td>2019-05-03 13:12:56</td>\n",
       "    </tr>\n",
       "  </tbody>\n",
       "</table>\n",
       "</div>"
      ],
      "text/plain": [
       "   key Bulk 1 Bulk 2 Bulk 3               Bulk 4 Bulk 5 Bulk 6 Bulk 7 Bulk 8  \\\n",
       "0    1    NaN    NaN    NaN  2019-05-03 11:21:30    NaN    NaN    NaN    NaN   \n",
       "1    2    NaN    NaN    NaN  2019-05-03 11:46:38    NaN    NaN    NaN    NaN   \n",
       "2    3    NaN    NaN    NaN  2019-05-03 12:31:06    NaN    NaN    NaN    NaN   \n",
       "3    4    NaN    NaN    NaN  2019-05-03 12:48:43    NaN    NaN    NaN    NaN   \n",
       "4    5    NaN    NaN    NaN  2019-05-03 13:18:50    NaN    NaN    NaN    NaN   \n",
       "\n",
       "  Bulk 9 Bulk 10 Bulk 11              Bulk 12 Bulk 13              Bulk 14  \\\n",
       "0    NaN     NaN     NaN  2019-05-03 11:03:52     NaN  2019-05-03 11:03:52   \n",
       "1    NaN     NaN     NaN  2019-05-03 11:40:20     NaN  2019-05-03 11:40:20   \n",
       "2    NaN     NaN     NaN  2019-05-03 12:09:40     NaN  2019-05-03 12:09:40   \n",
       "3    NaN     NaN     NaN  2019-05-03 12:41:24     NaN  2019-05-03 12:41:24   \n",
       "4    NaN     NaN     NaN  2019-05-03 13:12:56     NaN  2019-05-03 13:12:56   \n",
       "\n",
       "               Bulk 15  \n",
       "0  2019-05-03 11:03:52  \n",
       "1  2019-05-03 11:40:20  \n",
       "2  2019-05-03 12:09:40  \n",
       "3  2019-05-03 12:41:24  \n",
       "4  2019-05-03 13:12:56  "
      ]
     },
     "execution_count": 20,
     "metadata": {},
     "output_type": "execute_result"
    }
   ],
   "source": [
    "data_bulk_time = pd.read_csv(path+'data_bulk_time.csv')\n",
    "data_bulk_time.info()\n",
    "data_bulk_time.head()"
   ]
  },
  {
   "cell_type": "markdown",
   "id": "b6a31284",
   "metadata": {},
   "source": [
    "Аналогично прошлой таблице, преобразуем названия столбцов. Кроме того изменим тип данных и тип пропусков для того, чтобы иметь возможность сравнивать значения."
   ]
  },
  {
   "cell_type": "code",
   "execution_count": 21,
   "id": "59102f3c",
   "metadata": {},
   "outputs": [],
   "source": [
    "# перевод названий столбцов в нижний регистр и замена пробелов подчеркиванием\n",
    "data_bulk_time_columns = ['key']\n",
    "for i in range(len(data_bulk_time.columns)-1):\n",
    "    data_bulk_time_columns.append('bulk_'+str(i+1))\n",
    "data_bulk_time.columns = data_bulk_time_columns\n",
    "\n",
    "# смена типа данных на datetime в столбцах с датой\n",
    "for i in data_bulk_time.columns[1:]:\n",
    "    data_bulk_time[i] = pd.to_datetime(data_bulk_time[i], format='%Y-%m-%d %H:%M:%S', errors='coerce')"
   ]
  },
  {
   "cell_type": "markdown",
   "id": "ad1db663",
   "metadata": {},
   "source": [
    "Для нашей работы необходимо будет проверить, чтобы в партию не вносились какие-то изменения (подогрев, введение сыпучих и проволочных материалов) после последнего измерения температуры партии. \n",
    "Для этого определим время последнего введения в партию сыпучих присадок и сохраним список дат и номера партий в переменную для дальнейшего использования."
   ]
  },
  {
   "cell_type": "code",
   "execution_count": 22,
   "id": "33b27c70",
   "metadata": {},
   "outputs": [],
   "source": [
    "data_bulk_time['bulk_time'] = data_bulk_time[data_bulk_time_columns[1:]].max(axis=1)\n",
    "data_bulk_time = data_bulk_time.drop(data_bulk_time_columns[1:], axis=1)"
   ]
  },
  {
   "cell_type": "markdown",
   "id": "8d929e00",
   "metadata": {},
   "source": [
    "Результат:\n",
    "* данные исследованы, определено время последнего введения сыпучих присадок в состав каждой партии и сохранено для дальнейшего использования"
   ]
  },
  {
   "cell_type": "code",
   "execution_count": 23,
   "id": "756a1847",
   "metadata": {},
   "outputs": [
    {
     "name": "stdout",
     "output_type": "stream",
     "text": [
      "<class 'pandas.core.frame.DataFrame'>\n",
      "RangeIndex: 3129 entries, 0 to 3128\n",
      "Data columns (total 2 columns):\n",
      "key          3129 non-null int64\n",
      "bulk_time    3129 non-null datetime64[ns]\n",
      "dtypes: datetime64[ns](1), int64(1)\n",
      "memory usage: 49.0 KB\n"
     ]
    },
    {
     "data": {
      "text/html": [
       "<div>\n",
       "<style scoped>\n",
       "    .dataframe tbody tr th:only-of-type {\n",
       "        vertical-align: middle;\n",
       "    }\n",
       "\n",
       "    .dataframe tbody tr th {\n",
       "        vertical-align: top;\n",
       "    }\n",
       "\n",
       "    .dataframe thead th {\n",
       "        text-align: right;\n",
       "    }\n",
       "</style>\n",
       "<table border=\"1\" class=\"dataframe\">\n",
       "  <thead>\n",
       "    <tr style=\"text-align: right;\">\n",
       "      <th></th>\n",
       "      <th>key</th>\n",
       "      <th>bulk_time</th>\n",
       "    </tr>\n",
       "  </thead>\n",
       "  <tbody>\n",
       "    <tr>\n",
       "      <td>0</td>\n",
       "      <td>1</td>\n",
       "      <td>2019-05-03 11:21:30</td>\n",
       "    </tr>\n",
       "    <tr>\n",
       "      <td>1</td>\n",
       "      <td>2</td>\n",
       "      <td>2019-05-03 11:46:38</td>\n",
       "    </tr>\n",
       "    <tr>\n",
       "      <td>2</td>\n",
       "      <td>3</td>\n",
       "      <td>2019-05-03 12:31:06</td>\n",
       "    </tr>\n",
       "    <tr>\n",
       "      <td>3</td>\n",
       "      <td>4</td>\n",
       "      <td>2019-05-03 12:48:43</td>\n",
       "    </tr>\n",
       "    <tr>\n",
       "      <td>4</td>\n",
       "      <td>5</td>\n",
       "      <td>2019-05-03 13:18:50</td>\n",
       "    </tr>\n",
       "  </tbody>\n",
       "</table>\n",
       "</div>"
      ],
      "text/plain": [
       "   key           bulk_time\n",
       "0    1 2019-05-03 11:21:30\n",
       "1    2 2019-05-03 11:46:38\n",
       "2    3 2019-05-03 12:31:06\n",
       "3    4 2019-05-03 12:48:43\n",
       "4    5 2019-05-03 13:18:50"
      ]
     },
     "execution_count": 23,
     "metadata": {},
     "output_type": "execute_result"
    }
   ],
   "source": [
    "data_bulk_time.info()\n",
    "data_bulk_time.head(5)"
   ]
  },
  {
   "cell_type": "markdown",
   "id": "81047193",
   "metadata": {},
   "source": [
    "---"
   ]
  },
  {
   "cell_type": "markdown",
   "id": "0fe2db61",
   "metadata": {},
   "source": [
    "#### data_wire.csv\n",
    "<b>Данные о проволочных материалах (объём)</b>\n",
    "\n",
    "    \n",
    "[вернуться к содержанию](#Содержание)"
   ]
  },
  {
   "cell_type": "code",
   "execution_count": 24,
   "id": "c67de0b5",
   "metadata": {},
   "outputs": [
    {
     "name": "stdout",
     "output_type": "stream",
     "text": [
      "<class 'pandas.core.frame.DataFrame'>\n",
      "RangeIndex: 3081 entries, 0 to 3080\n",
      "Data columns (total 10 columns):\n",
      "key       3081 non-null int64\n",
      "Wire 1    3055 non-null float64\n",
      "Wire 2    1079 non-null float64\n",
      "Wire 3    63 non-null float64\n",
      "Wire 4    14 non-null float64\n",
      "Wire 5    1 non-null float64\n",
      "Wire 6    73 non-null float64\n",
      "Wire 7    11 non-null float64\n",
      "Wire 8    19 non-null float64\n",
      "Wire 9    29 non-null float64\n",
      "dtypes: float64(9), int64(1)\n",
      "memory usage: 240.8 KB\n"
     ]
    },
    {
     "data": {
      "text/html": [
       "<div>\n",
       "<style scoped>\n",
       "    .dataframe tbody tr th:only-of-type {\n",
       "        vertical-align: middle;\n",
       "    }\n",
       "\n",
       "    .dataframe tbody tr th {\n",
       "        vertical-align: top;\n",
       "    }\n",
       "\n",
       "    .dataframe thead th {\n",
       "        text-align: right;\n",
       "    }\n",
       "</style>\n",
       "<table border=\"1\" class=\"dataframe\">\n",
       "  <thead>\n",
       "    <tr style=\"text-align: right;\">\n",
       "      <th></th>\n",
       "      <th>key</th>\n",
       "      <th>Wire 1</th>\n",
       "      <th>Wire 2</th>\n",
       "      <th>Wire 3</th>\n",
       "      <th>Wire 4</th>\n",
       "      <th>Wire 5</th>\n",
       "      <th>Wire 6</th>\n",
       "      <th>Wire 7</th>\n",
       "      <th>Wire 8</th>\n",
       "      <th>Wire 9</th>\n",
       "    </tr>\n",
       "  </thead>\n",
       "  <tbody>\n",
       "    <tr>\n",
       "      <td>0</td>\n",
       "      <td>1</td>\n",
       "      <td>60.059998</td>\n",
       "      <td>NaN</td>\n",
       "      <td>NaN</td>\n",
       "      <td>NaN</td>\n",
       "      <td>NaN</td>\n",
       "      <td>NaN</td>\n",
       "      <td>NaN</td>\n",
       "      <td>NaN</td>\n",
       "      <td>NaN</td>\n",
       "    </tr>\n",
       "    <tr>\n",
       "      <td>1</td>\n",
       "      <td>2</td>\n",
       "      <td>96.052315</td>\n",
       "      <td>NaN</td>\n",
       "      <td>NaN</td>\n",
       "      <td>NaN</td>\n",
       "      <td>NaN</td>\n",
       "      <td>NaN</td>\n",
       "      <td>NaN</td>\n",
       "      <td>NaN</td>\n",
       "      <td>NaN</td>\n",
       "    </tr>\n",
       "    <tr>\n",
       "      <td>2</td>\n",
       "      <td>3</td>\n",
       "      <td>91.160157</td>\n",
       "      <td>NaN</td>\n",
       "      <td>NaN</td>\n",
       "      <td>NaN</td>\n",
       "      <td>NaN</td>\n",
       "      <td>NaN</td>\n",
       "      <td>NaN</td>\n",
       "      <td>NaN</td>\n",
       "      <td>NaN</td>\n",
       "    </tr>\n",
       "    <tr>\n",
       "      <td>3</td>\n",
       "      <td>4</td>\n",
       "      <td>89.063515</td>\n",
       "      <td>NaN</td>\n",
       "      <td>NaN</td>\n",
       "      <td>NaN</td>\n",
       "      <td>NaN</td>\n",
       "      <td>NaN</td>\n",
       "      <td>NaN</td>\n",
       "      <td>NaN</td>\n",
       "      <td>NaN</td>\n",
       "    </tr>\n",
       "    <tr>\n",
       "      <td>4</td>\n",
       "      <td>5</td>\n",
       "      <td>89.238236</td>\n",
       "      <td>9.11456</td>\n",
       "      <td>NaN</td>\n",
       "      <td>NaN</td>\n",
       "      <td>NaN</td>\n",
       "      <td>NaN</td>\n",
       "      <td>NaN</td>\n",
       "      <td>NaN</td>\n",
       "      <td>NaN</td>\n",
       "    </tr>\n",
       "  </tbody>\n",
       "</table>\n",
       "</div>"
      ],
      "text/plain": [
       "   key     Wire 1   Wire 2  Wire 3  Wire 4  Wire 5  Wire 6  Wire 7  Wire 8  \\\n",
       "0    1  60.059998      NaN     NaN     NaN     NaN     NaN     NaN     NaN   \n",
       "1    2  96.052315      NaN     NaN     NaN     NaN     NaN     NaN     NaN   \n",
       "2    3  91.160157      NaN     NaN     NaN     NaN     NaN     NaN     NaN   \n",
       "3    4  89.063515      NaN     NaN     NaN     NaN     NaN     NaN     NaN   \n",
       "4    5  89.238236  9.11456     NaN     NaN     NaN     NaN     NaN     NaN   \n",
       "\n",
       "   Wire 9  \n",
       "0     NaN  \n",
       "1     NaN  \n",
       "2     NaN  \n",
       "3     NaN  \n",
       "4     NaN  "
      ]
     },
     "execution_count": 24,
     "metadata": {},
     "output_type": "execute_result"
    }
   ],
   "source": [
    "data_wire = pd.read_csv(path+'data_wire.csv')\n",
    "data_wire.info()\n",
    "data_wire.head()"
   ]
  },
  {
   "cell_type": "code",
   "execution_count": 25,
   "id": "57f142ee",
   "metadata": {},
   "outputs": [
    {
     "data": {
      "text/html": [
       "<div>\n",
       "<style scoped>\n",
       "    .dataframe tbody tr th:only-of-type {\n",
       "        vertical-align: middle;\n",
       "    }\n",
       "\n",
       "    .dataframe tbody tr th {\n",
       "        vertical-align: top;\n",
       "    }\n",
       "\n",
       "    .dataframe thead th {\n",
       "        text-align: right;\n",
       "    }\n",
       "</style>\n",
       "<table border=\"1\" class=\"dataframe\">\n",
       "  <thead>\n",
       "    <tr style=\"text-align: right;\">\n",
       "      <th></th>\n",
       "      <th>key</th>\n",
       "      <th>Wire 1</th>\n",
       "      <th>Wire 2</th>\n",
       "      <th>Wire 3</th>\n",
       "      <th>Wire 4</th>\n",
       "      <th>Wire 5</th>\n",
       "      <th>Wire 6</th>\n",
       "      <th>Wire 7</th>\n",
       "      <th>Wire 8</th>\n",
       "      <th>Wire 9</th>\n",
       "    </tr>\n",
       "  </thead>\n",
       "  <tbody>\n",
       "    <tr>\n",
       "      <td>count</td>\n",
       "      <td>3081.000000</td>\n",
       "      <td>3055.000000</td>\n",
       "      <td>1079.000000</td>\n",
       "      <td>63.000000</td>\n",
       "      <td>14.000000</td>\n",
       "      <td>1.000</td>\n",
       "      <td>73.000000</td>\n",
       "      <td>11.000000</td>\n",
       "      <td>19.000000</td>\n",
       "      <td>29.000000</td>\n",
       "    </tr>\n",
       "    <tr>\n",
       "      <td>mean</td>\n",
       "      <td>1623.426485</td>\n",
       "      <td>100.895853</td>\n",
       "      <td>50.577323</td>\n",
       "      <td>189.482681</td>\n",
       "      <td>57.442841</td>\n",
       "      <td>15.132</td>\n",
       "      <td>48.016974</td>\n",
       "      <td>10.039007</td>\n",
       "      <td>53.625193</td>\n",
       "      <td>34.155752</td>\n",
       "    </tr>\n",
       "    <tr>\n",
       "      <td>std</td>\n",
       "      <td>932.996726</td>\n",
       "      <td>42.012518</td>\n",
       "      <td>39.320216</td>\n",
       "      <td>99.513444</td>\n",
       "      <td>28.824667</td>\n",
       "      <td>NaN</td>\n",
       "      <td>33.919845</td>\n",
       "      <td>8.610584</td>\n",
       "      <td>16.881728</td>\n",
       "      <td>19.931616</td>\n",
       "    </tr>\n",
       "    <tr>\n",
       "      <td>min</td>\n",
       "      <td>1.000000</td>\n",
       "      <td>1.918800</td>\n",
       "      <td>0.030160</td>\n",
       "      <td>0.144144</td>\n",
       "      <td>24.148801</td>\n",
       "      <td>15.132</td>\n",
       "      <td>0.034320</td>\n",
       "      <td>0.234208</td>\n",
       "      <td>45.076721</td>\n",
       "      <td>4.622800</td>\n",
       "    </tr>\n",
       "    <tr>\n",
       "      <td>1%</td>\n",
       "      <td>31.800000</td>\n",
       "      <td>13.060320</td>\n",
       "      <td>4.125285</td>\n",
       "      <td>0.144144</td>\n",
       "      <td>24.276700</td>\n",
       "      <td>15.132</td>\n",
       "      <td>0.108451</td>\n",
       "      <td>0.316181</td>\n",
       "      <td>45.076721</td>\n",
       "      <td>5.499313</td>\n",
       "    </tr>\n",
       "    <tr>\n",
       "      <td>25%</td>\n",
       "      <td>823.000000</td>\n",
       "      <td>72.115684</td>\n",
       "      <td>20.193680</td>\n",
       "      <td>95.135044</td>\n",
       "      <td>40.807002</td>\n",
       "      <td>15.132</td>\n",
       "      <td>25.053600</td>\n",
       "      <td>6.762756</td>\n",
       "      <td>46.094879</td>\n",
       "      <td>22.058401</td>\n",
       "    </tr>\n",
       "    <tr>\n",
       "      <td>50%</td>\n",
       "      <td>1619.000000</td>\n",
       "      <td>100.158234</td>\n",
       "      <td>40.142956</td>\n",
       "      <td>235.194977</td>\n",
       "      <td>45.234282</td>\n",
       "      <td>15.132</td>\n",
       "      <td>42.076324</td>\n",
       "      <td>9.017009</td>\n",
       "      <td>46.279999</td>\n",
       "      <td>30.066399</td>\n",
       "    </tr>\n",
       "    <tr>\n",
       "      <td>75%</td>\n",
       "      <td>2434.000000</td>\n",
       "      <td>126.060484</td>\n",
       "      <td>70.227558</td>\n",
       "      <td>276.252014</td>\n",
       "      <td>76.124619</td>\n",
       "      <td>15.132</td>\n",
       "      <td>64.212723</td>\n",
       "      <td>11.886057</td>\n",
       "      <td>48.089603</td>\n",
       "      <td>43.862003</td>\n",
       "    </tr>\n",
       "    <tr>\n",
       "      <td>99%</td>\n",
       "      <td>3210.200000</td>\n",
       "      <td>209.267394</td>\n",
       "      <td>181.311065</td>\n",
       "      <td>349.188221</td>\n",
       "      <td>111.905543</td>\n",
       "      <td>15.132</td>\n",
       "      <td>155.027565</td>\n",
       "      <td>30.798354</td>\n",
       "      <td>101.409133</td>\n",
       "      <td>82.491139</td>\n",
       "    </tr>\n",
       "    <tr>\n",
       "      <td>max</td>\n",
       "      <td>3241.000000</td>\n",
       "      <td>330.314424</td>\n",
       "      <td>282.780152</td>\n",
       "      <td>385.008668</td>\n",
       "      <td>113.231044</td>\n",
       "      <td>15.132</td>\n",
       "      <td>180.454575</td>\n",
       "      <td>32.847674</td>\n",
       "      <td>102.762401</td>\n",
       "      <td>90.053604</td>\n",
       "    </tr>\n",
       "  </tbody>\n",
       "</table>\n",
       "</div>"
      ],
      "text/plain": [
       "               key       Wire 1       Wire 2      Wire 3      Wire 4  Wire 5  \\\n",
       "count  3081.000000  3055.000000  1079.000000   63.000000   14.000000   1.000   \n",
       "mean   1623.426485   100.895853    50.577323  189.482681   57.442841  15.132   \n",
       "std     932.996726    42.012518    39.320216   99.513444   28.824667     NaN   \n",
       "min       1.000000     1.918800     0.030160    0.144144   24.148801  15.132   \n",
       "1%       31.800000    13.060320     4.125285    0.144144   24.276700  15.132   \n",
       "25%     823.000000    72.115684    20.193680   95.135044   40.807002  15.132   \n",
       "50%    1619.000000   100.158234    40.142956  235.194977   45.234282  15.132   \n",
       "75%    2434.000000   126.060484    70.227558  276.252014   76.124619  15.132   \n",
       "99%    3210.200000   209.267394   181.311065  349.188221  111.905543  15.132   \n",
       "max    3241.000000   330.314424   282.780152  385.008668  113.231044  15.132   \n",
       "\n",
       "           Wire 6     Wire 7      Wire 8     Wire 9  \n",
       "count   73.000000  11.000000   19.000000  29.000000  \n",
       "mean    48.016974  10.039007   53.625193  34.155752  \n",
       "std     33.919845   8.610584   16.881728  19.931616  \n",
       "min      0.034320   0.234208   45.076721   4.622800  \n",
       "1%       0.108451   0.316181   45.076721   5.499313  \n",
       "25%     25.053600   6.762756   46.094879  22.058401  \n",
       "50%     42.076324   9.017009   46.279999  30.066399  \n",
       "75%     64.212723  11.886057   48.089603  43.862003  \n",
       "99%    155.027565  30.798354  101.409133  82.491139  \n",
       "max    180.454575  32.847674  102.762401  90.053604  "
      ]
     },
     "execution_count": 25,
     "metadata": {},
     "output_type": "execute_result"
    }
   ],
   "source": [
    "data_wire.describe(percentiles=[.01, .25, .5, .75, .99])"
   ]
  },
  {
   "cell_type": "markdown",
   "id": "009581b9",
   "metadata": {},
   "source": [
    "Как и в таблице с объемами сыпучих матреиалов, наименования столбцов необходимо привести в нижний регистр и убрать из них пробелы. Кроме того в данных огромное количество пропусков. Было установлено, что пропуски возникали потому что в конкретную партию не добавлялась конкретная присадка. В таком случае не будет ошибкой заменить пропуски в этой таблице нулями."
   ]
  },
  {
   "cell_type": "code",
   "execution_count": 26,
   "id": "cf3f15b8",
   "metadata": {},
   "outputs": [],
   "source": [
    "# перевод названий столбцов в нижний регистр и замена пробелов подчеркиванием\n",
    "data_wire_columns = ['key']\n",
    "for i in range(len(data_wire.columns)-1):\n",
    "    data_wire_columns.append('wire_'+str(i+1))\n",
    "data_wire.columns = data_wire_columns\n",
    "\n",
    "# замена пропущеных значений нулями\n",
    "data_wire = data_wire.fillna(0)"
   ]
  },
  {
   "cell_type": "markdown",
   "id": "e1301c69",
   "metadata": {},
   "source": [
    "Результат:\n",
    "* данные обработаны, очищены от пропусков\n",
    "* приведены к виду, в котором будут использованы при обучении модели"
   ]
  },
  {
   "cell_type": "code",
   "execution_count": 27,
   "id": "55c28f7f",
   "metadata": {},
   "outputs": [
    {
     "name": "stdout",
     "output_type": "stream",
     "text": [
      "<class 'pandas.core.frame.DataFrame'>\n",
      "RangeIndex: 3081 entries, 0 to 3080\n",
      "Data columns (total 10 columns):\n",
      "key       3081 non-null int64\n",
      "wire_1    3081 non-null float64\n",
      "wire_2    3081 non-null float64\n",
      "wire_3    3081 non-null float64\n",
      "wire_4    3081 non-null float64\n",
      "wire_5    3081 non-null float64\n",
      "wire_6    3081 non-null float64\n",
      "wire_7    3081 non-null float64\n",
      "wire_8    3081 non-null float64\n",
      "wire_9    3081 non-null float64\n",
      "dtypes: float64(9), int64(1)\n",
      "memory usage: 240.8 KB\n"
     ]
    },
    {
     "data": {
      "text/html": [
       "<div>\n",
       "<style scoped>\n",
       "    .dataframe tbody tr th:only-of-type {\n",
       "        vertical-align: middle;\n",
       "    }\n",
       "\n",
       "    .dataframe tbody tr th {\n",
       "        vertical-align: top;\n",
       "    }\n",
       "\n",
       "    .dataframe thead th {\n",
       "        text-align: right;\n",
       "    }\n",
       "</style>\n",
       "<table border=\"1\" class=\"dataframe\">\n",
       "  <thead>\n",
       "    <tr style=\"text-align: right;\">\n",
       "      <th></th>\n",
       "      <th>key</th>\n",
       "      <th>wire_1</th>\n",
       "      <th>wire_2</th>\n",
       "      <th>wire_3</th>\n",
       "      <th>wire_4</th>\n",
       "      <th>wire_5</th>\n",
       "      <th>wire_6</th>\n",
       "      <th>wire_7</th>\n",
       "      <th>wire_8</th>\n",
       "      <th>wire_9</th>\n",
       "    </tr>\n",
       "  </thead>\n",
       "  <tbody>\n",
       "    <tr>\n",
       "      <td>0</td>\n",
       "      <td>1</td>\n",
       "      <td>60.059998</td>\n",
       "      <td>0.0</td>\n",
       "      <td>0.0</td>\n",
       "      <td>0.0</td>\n",
       "      <td>0.0</td>\n",
       "      <td>0.0</td>\n",
       "      <td>0.0</td>\n",
       "      <td>0.0</td>\n",
       "      <td>0.0</td>\n",
       "    </tr>\n",
       "    <tr>\n",
       "      <td>1</td>\n",
       "      <td>2</td>\n",
       "      <td>96.052315</td>\n",
       "      <td>0.0</td>\n",
       "      <td>0.0</td>\n",
       "      <td>0.0</td>\n",
       "      <td>0.0</td>\n",
       "      <td>0.0</td>\n",
       "      <td>0.0</td>\n",
       "      <td>0.0</td>\n",
       "      <td>0.0</td>\n",
       "    </tr>\n",
       "  </tbody>\n",
       "</table>\n",
       "</div>"
      ],
      "text/plain": [
       "   key     wire_1  wire_2  wire_3  wire_4  wire_5  wire_6  wire_7  wire_8  \\\n",
       "0    1  60.059998     0.0     0.0     0.0     0.0     0.0     0.0     0.0   \n",
       "1    2  96.052315     0.0     0.0     0.0     0.0     0.0     0.0     0.0   \n",
       "\n",
       "   wire_9  \n",
       "0     0.0  \n",
       "1     0.0  "
      ]
     },
     "execution_count": 27,
     "metadata": {},
     "output_type": "execute_result"
    }
   ],
   "source": [
    "data_wire.info()\n",
    "data_wire.head(2)"
   ]
  },
  {
   "cell_type": "markdown",
   "id": "f2d76e08",
   "metadata": {},
   "source": [
    "Изучим корреляцию проводных присадок. Как и ранее, столбец под номером 0 на графике обозначает столбец с \"ключами\" партий и не несет полезной информации."
   ]
  },
  {
   "cell_type": "code",
   "execution_count": 28,
   "id": "ca1f08bc",
   "metadata": {},
   "outputs": [
    {
     "data": {
      "image/png": "[encoded data removed]",
      "text/plain": [
       "<Figure size 288x288 with 1 Axes>"
      ]
     },
     "metadata": {
      "needs_background": "light"
     },
     "output_type": "display_data"
    }
   ],
   "source": [
    "plt.matshow(data_wire.corr())\n",
    "plt.show()"
   ]
  },
  {
   "cell_type": "markdown",
   "id": "7c4bc305",
   "metadata": {},
   "source": [
    "В отличие от сыпучих добавок, тут матрица почти вся \"холодная\", проводные присадки слабо коррелируют друг с другом и не показывают закономерностей."
   ]
  },
  {
   "cell_type": "markdown",
   "id": "c1166b5f",
   "metadata": {},
   "source": [
    "---"
   ]
  },
  {
   "cell_type": "markdown",
   "id": "0f7ad493",
   "metadata": {},
   "source": [
    "#### data_wire_time.csv\n",
    "<b>Данные о проволочных материалах (время)</b>\n",
    "\n",
    "    \n",
    "[вернуться к содержанию](#Содержание)"
   ]
  },
  {
   "cell_type": "code",
   "execution_count": 29,
   "id": "522e5d5f",
   "metadata": {},
   "outputs": [
    {
     "name": "stdout",
     "output_type": "stream",
     "text": [
      "<class 'pandas.core.frame.DataFrame'>\n",
      "RangeIndex: 3081 entries, 0 to 3080\n",
      "Data columns (total 10 columns):\n",
      "key       3081 non-null int64\n",
      "Wire 1    3055 non-null object\n",
      "Wire 2    1079 non-null object\n",
      "Wire 3    63 non-null object\n",
      "Wire 4    14 non-null object\n",
      "Wire 5    1 non-null object\n",
      "Wire 6    73 non-null object\n",
      "Wire 7    11 non-null object\n",
      "Wire 8    19 non-null object\n",
      "Wire 9    29 non-null object\n",
      "dtypes: int64(1), object(9)\n",
      "memory usage: 240.8+ KB\n"
     ]
    },
    {
     "data": {
      "text/html": [
       "<div>\n",
       "<style scoped>\n",
       "    .dataframe tbody tr th:only-of-type {\n",
       "        vertical-align: middle;\n",
       "    }\n",
       "\n",
       "    .dataframe tbody tr th {\n",
       "        vertical-align: top;\n",
       "    }\n",
       "\n",
       "    .dataframe thead th {\n",
       "        text-align: right;\n",
       "    }\n",
       "</style>\n",
       "<table border=\"1\" class=\"dataframe\">\n",
       "  <thead>\n",
       "    <tr style=\"text-align: right;\">\n",
       "      <th></th>\n",
       "      <th>key</th>\n",
       "      <th>Wire 1</th>\n",
       "      <th>Wire 2</th>\n",
       "      <th>Wire 3</th>\n",
       "      <th>Wire 4</th>\n",
       "      <th>Wire 5</th>\n",
       "      <th>Wire 6</th>\n",
       "      <th>Wire 7</th>\n",
       "      <th>Wire 8</th>\n",
       "      <th>Wire 9</th>\n",
       "    </tr>\n",
       "  </thead>\n",
       "  <tbody>\n",
       "    <tr>\n",
       "      <td>0</td>\n",
       "      <td>1</td>\n",
       "      <td>2019-05-03 11:11:41</td>\n",
       "      <td>NaN</td>\n",
       "      <td>NaN</td>\n",
       "      <td>NaN</td>\n",
       "      <td>NaN</td>\n",
       "      <td>NaN</td>\n",
       "      <td>NaN</td>\n",
       "      <td>NaN</td>\n",
       "      <td>NaN</td>\n",
       "    </tr>\n",
       "    <tr>\n",
       "      <td>1</td>\n",
       "      <td>2</td>\n",
       "      <td>2019-05-03 11:46:10</td>\n",
       "      <td>NaN</td>\n",
       "      <td>NaN</td>\n",
       "      <td>NaN</td>\n",
       "      <td>NaN</td>\n",
       "      <td>NaN</td>\n",
       "      <td>NaN</td>\n",
       "      <td>NaN</td>\n",
       "      <td>NaN</td>\n",
       "    </tr>\n",
       "    <tr>\n",
       "      <td>2</td>\n",
       "      <td>3</td>\n",
       "      <td>2019-05-03 12:13:47</td>\n",
       "      <td>NaN</td>\n",
       "      <td>NaN</td>\n",
       "      <td>NaN</td>\n",
       "      <td>NaN</td>\n",
       "      <td>NaN</td>\n",
       "      <td>NaN</td>\n",
       "      <td>NaN</td>\n",
       "      <td>NaN</td>\n",
       "    </tr>\n",
       "    <tr>\n",
       "      <td>3</td>\n",
       "      <td>4</td>\n",
       "      <td>2019-05-03 12:48:05</td>\n",
       "      <td>NaN</td>\n",
       "      <td>NaN</td>\n",
       "      <td>NaN</td>\n",
       "      <td>NaN</td>\n",
       "      <td>NaN</td>\n",
       "      <td>NaN</td>\n",
       "      <td>NaN</td>\n",
       "      <td>NaN</td>\n",
       "    </tr>\n",
       "    <tr>\n",
       "      <td>4</td>\n",
       "      <td>5</td>\n",
       "      <td>2019-05-03 13:18:15</td>\n",
       "      <td>2019-05-03 13:32:06</td>\n",
       "      <td>NaN</td>\n",
       "      <td>NaN</td>\n",
       "      <td>NaN</td>\n",
       "      <td>NaN</td>\n",
       "      <td>NaN</td>\n",
       "      <td>NaN</td>\n",
       "      <td>NaN</td>\n",
       "    </tr>\n",
       "  </tbody>\n",
       "</table>\n",
       "</div>"
      ],
      "text/plain": [
       "   key               Wire 1               Wire 2 Wire 3 Wire 4 Wire 5 Wire 6  \\\n",
       "0    1  2019-05-03 11:11:41                  NaN    NaN    NaN    NaN    NaN   \n",
       "1    2  2019-05-03 11:46:10                  NaN    NaN    NaN    NaN    NaN   \n",
       "2    3  2019-05-03 12:13:47                  NaN    NaN    NaN    NaN    NaN   \n",
       "3    4  2019-05-03 12:48:05                  NaN    NaN    NaN    NaN    NaN   \n",
       "4    5  2019-05-03 13:18:15  2019-05-03 13:32:06    NaN    NaN    NaN    NaN   \n",
       "\n",
       "  Wire 7 Wire 8 Wire 9  \n",
       "0    NaN    NaN    NaN  \n",
       "1    NaN    NaN    NaN  \n",
       "2    NaN    NaN    NaN  \n",
       "3    NaN    NaN    NaN  \n",
       "4    NaN    NaN    NaN  "
      ]
     },
     "execution_count": 29,
     "metadata": {},
     "output_type": "execute_result"
    }
   ],
   "source": [
    "data_wire_time = pd.read_csv(path+'data_wire_time.csv')\n",
    "data_wire_time.info()\n",
    "data_wire_time.head()"
   ]
  },
  {
   "cell_type": "markdown",
   "id": "3bdaa203",
   "metadata": {},
   "source": [
    "Так же как и в данных о сыпучих материалах, преобразуем названия столбцов. Кроме того изменим тип данных и тип пропусков для того, чтобы иметь возможность сравнивать значения."
   ]
  },
  {
   "cell_type": "code",
   "execution_count": 30,
   "id": "cafd1e05",
   "metadata": {},
   "outputs": [],
   "source": [
    "# перевод названий столбцов в нижний регистр и замена пробелов подчеркиванием\n",
    "data_wire_time_columns = ['key']\n",
    "for i in range(len(data_wire_time.columns)-1):\n",
    "    data_wire_time_columns.append('wire_'+str(i+1))\n",
    "data_wire_time.columns = data_wire_time_columns\n",
    "\n",
    "# смена типа данных на datetime в столбцах с датой\n",
    "for i in data_wire_time.columns[1:]:\n",
    "    data_wire_time[i] = pd.to_datetime(data_wire_time[i], format='%Y-%m-%d %H:%M:%S', errors='coerce')"
   ]
  },
  {
   "cell_type": "markdown",
   "id": "980958c1",
   "metadata": {},
   "source": [
    "И вновь получим время последнего введения присадки (в данном случае проволоки) для каждой партии. Полученый результат перезапишем в переменную, она пригодится нам для сравнения, о котором я писал ранее."
   ]
  },
  {
   "cell_type": "code",
   "execution_count": 31,
   "id": "5eca7861",
   "metadata": {},
   "outputs": [],
   "source": [
    "data_wire_time['wire_time'] = data_wire_time[data_wire_time_columns[1:]].max(axis=1)\n",
    "data_wire_time = data_wire_time.drop(data_wire_time_columns[1:], axis=1)"
   ]
  },
  {
   "cell_type": "markdown",
   "id": "cac60201",
   "metadata": {},
   "source": [
    "Результат:\n",
    "* данные исследованы, определено время последнего вмешательства в состав каждой партии и сохранено для дальнейшего использования"
   ]
  },
  {
   "cell_type": "code",
   "execution_count": 32,
   "id": "a50c174d",
   "metadata": {},
   "outputs": [
    {
     "name": "stdout",
     "output_type": "stream",
     "text": [
      "<class 'pandas.core.frame.DataFrame'>\n",
      "RangeIndex: 3081 entries, 0 to 3080\n",
      "Data columns (total 2 columns):\n",
      "key          3081 non-null int64\n",
      "wire_time    3081 non-null datetime64[ns]\n",
      "dtypes: datetime64[ns](1), int64(1)\n",
      "memory usage: 48.3 KB\n"
     ]
    },
    {
     "data": {
      "text/html": [
       "<div>\n",
       "<style scoped>\n",
       "    .dataframe tbody tr th:only-of-type {\n",
       "        vertical-align: middle;\n",
       "    }\n",
       "\n",
       "    .dataframe tbody tr th {\n",
       "        vertical-align: top;\n",
       "    }\n",
       "\n",
       "    .dataframe thead th {\n",
       "        text-align: right;\n",
       "    }\n",
       "</style>\n",
       "<table border=\"1\" class=\"dataframe\">\n",
       "  <thead>\n",
       "    <tr style=\"text-align: right;\">\n",
       "      <th></th>\n",
       "      <th>key</th>\n",
       "      <th>wire_time</th>\n",
       "    </tr>\n",
       "  </thead>\n",
       "  <tbody>\n",
       "    <tr>\n",
       "      <td>0</td>\n",
       "      <td>1</td>\n",
       "      <td>2019-05-03 11:11:41</td>\n",
       "    </tr>\n",
       "    <tr>\n",
       "      <td>1</td>\n",
       "      <td>2</td>\n",
       "      <td>2019-05-03 11:46:10</td>\n",
       "    </tr>\n",
       "    <tr>\n",
       "      <td>2</td>\n",
       "      <td>3</td>\n",
       "      <td>2019-05-03 12:13:47</td>\n",
       "    </tr>\n",
       "    <tr>\n",
       "      <td>3</td>\n",
       "      <td>4</td>\n",
       "      <td>2019-05-03 12:48:05</td>\n",
       "    </tr>\n",
       "    <tr>\n",
       "      <td>4</td>\n",
       "      <td>5</td>\n",
       "      <td>2019-05-03 13:32:06</td>\n",
       "    </tr>\n",
       "  </tbody>\n",
       "</table>\n",
       "</div>"
      ],
      "text/plain": [
       "   key           wire_time\n",
       "0    1 2019-05-03 11:11:41\n",
       "1    2 2019-05-03 11:46:10\n",
       "2    3 2019-05-03 12:13:47\n",
       "3    4 2019-05-03 12:48:05\n",
       "4    5 2019-05-03 13:32:06"
      ]
     },
     "execution_count": 32,
     "metadata": {},
     "output_type": "execute_result"
    }
   ],
   "source": [
    "data_wire_time.info()\n",
    "data_wire_time.head(5)"
   ]
  },
  {
   "cell_type": "markdown",
   "id": "5a7ea9fa",
   "metadata": {},
   "source": [
    "---"
   ]
  },
  {
   "cell_type": "markdown",
   "id": "ec0a2b29",
   "metadata": {},
   "source": [
    "#### data_gas.csv\n",
    "<b>Данные о продувке сплава газом</b>\n",
    "\n",
    "    \n",
    "[вернуться к содержанию](#Содержание)"
   ]
  },
  {
   "cell_type": "code",
   "execution_count": 33,
   "id": "15f8620e",
   "metadata": {},
   "outputs": [
    {
     "name": "stdout",
     "output_type": "stream",
     "text": [
      "<class 'pandas.core.frame.DataFrame'>\n",
      "RangeIndex: 3239 entries, 0 to 3238\n",
      "Data columns (total 2 columns):\n",
      "key      3239 non-null int64\n",
      "Газ 1    3239 non-null float64\n",
      "dtypes: float64(1), int64(1)\n",
      "memory usage: 50.7 KB\n"
     ]
    },
    {
     "data": {
      "text/html": [
       "<div>\n",
       "<style scoped>\n",
       "    .dataframe tbody tr th:only-of-type {\n",
       "        vertical-align: middle;\n",
       "    }\n",
       "\n",
       "    .dataframe tbody tr th {\n",
       "        vertical-align: top;\n",
       "    }\n",
       "\n",
       "    .dataframe thead th {\n",
       "        text-align: right;\n",
       "    }\n",
       "</style>\n",
       "<table border=\"1\" class=\"dataframe\">\n",
       "  <thead>\n",
       "    <tr style=\"text-align: right;\">\n",
       "      <th></th>\n",
       "      <th>key</th>\n",
       "      <th>Газ 1</th>\n",
       "    </tr>\n",
       "  </thead>\n",
       "  <tbody>\n",
       "    <tr>\n",
       "      <td>0</td>\n",
       "      <td>1</td>\n",
       "      <td>29.749986</td>\n",
       "    </tr>\n",
       "    <tr>\n",
       "      <td>1</td>\n",
       "      <td>2</td>\n",
       "      <td>12.555561</td>\n",
       "    </tr>\n",
       "    <tr>\n",
       "      <td>2</td>\n",
       "      <td>3</td>\n",
       "      <td>28.554793</td>\n",
       "    </tr>\n",
       "    <tr>\n",
       "      <td>3</td>\n",
       "      <td>4</td>\n",
       "      <td>18.841219</td>\n",
       "    </tr>\n",
       "    <tr>\n",
       "      <td>4</td>\n",
       "      <td>5</td>\n",
       "      <td>5.413692</td>\n",
       "    </tr>\n",
       "  </tbody>\n",
       "</table>\n",
       "</div>"
      ],
      "text/plain": [
       "   key      Газ 1\n",
       "0    1  29.749986\n",
       "1    2  12.555561\n",
       "2    3  28.554793\n",
       "3    4  18.841219\n",
       "4    5   5.413692"
      ]
     },
     "execution_count": 33,
     "metadata": {},
     "output_type": "execute_result"
    }
   ],
   "source": [
    "data_gas = pd.read_csv(path+'data_gas.csv')\n",
    "data_gas.info()\n",
    "data_gas.head()"
   ]
  },
  {
   "cell_type": "code",
   "execution_count": 34,
   "id": "9d7e43e6",
   "metadata": {},
   "outputs": [
    {
     "data": {
      "image/png": "[encoded data removed]",
      "text/plain": [
       "<Figure size 432x288 with 1 Axes>"
      ]
     },
     "metadata": {
      "needs_background": "light"
     },
     "output_type": "display_data"
    },
    {
     "data": {
      "text/html": [
       "<div>\n",
       "<style scoped>\n",
       "    .dataframe tbody tr th:only-of-type {\n",
       "        vertical-align: middle;\n",
       "    }\n",
       "\n",
       "    .dataframe tbody tr th {\n",
       "        vertical-align: top;\n",
       "    }\n",
       "\n",
       "    .dataframe thead th {\n",
       "        text-align: right;\n",
       "    }\n",
       "</style>\n",
       "<table border=\"1\" class=\"dataframe\">\n",
       "  <thead>\n",
       "    <tr style=\"text-align: right;\">\n",
       "      <th></th>\n",
       "      <th>key</th>\n",
       "      <th>Газ 1</th>\n",
       "    </tr>\n",
       "  </thead>\n",
       "  <tbody>\n",
       "    <tr>\n",
       "      <td>count</td>\n",
       "      <td>3239.000000</td>\n",
       "      <td>3239.000000</td>\n",
       "    </tr>\n",
       "    <tr>\n",
       "      <td>mean</td>\n",
       "      <td>1621.861377</td>\n",
       "      <td>11.002062</td>\n",
       "    </tr>\n",
       "    <tr>\n",
       "      <td>std</td>\n",
       "      <td>935.386334</td>\n",
       "      <td>6.220327</td>\n",
       "    </tr>\n",
       "    <tr>\n",
       "      <td>min</td>\n",
       "      <td>1.000000</td>\n",
       "      <td>0.008399</td>\n",
       "    </tr>\n",
       "    <tr>\n",
       "      <td>1%</td>\n",
       "      <td>33.380000</td>\n",
       "      <td>1.132655</td>\n",
       "    </tr>\n",
       "    <tr>\n",
       "      <td>25%</td>\n",
       "      <td>812.500000</td>\n",
       "      <td>7.043089</td>\n",
       "    </tr>\n",
       "    <tr>\n",
       "      <td>50%</td>\n",
       "      <td>1622.000000</td>\n",
       "      <td>9.836267</td>\n",
       "    </tr>\n",
       "    <tr>\n",
       "      <td>75%</td>\n",
       "      <td>2431.500000</td>\n",
       "      <td>13.769915</td>\n",
       "    </tr>\n",
       "    <tr>\n",
       "      <td>99%</td>\n",
       "      <td>3208.620000</td>\n",
       "      <td>31.558630</td>\n",
       "    </tr>\n",
       "    <tr>\n",
       "      <td>max</td>\n",
       "      <td>3241.000000</td>\n",
       "      <td>77.995040</td>\n",
       "    </tr>\n",
       "  </tbody>\n",
       "</table>\n",
       "</div>"
      ],
      "text/plain": [
       "               key        Газ 1\n",
       "count  3239.000000  3239.000000\n",
       "mean   1621.861377    11.002062\n",
       "std     935.386334     6.220327\n",
       "min       1.000000     0.008399\n",
       "1%       33.380000     1.132655\n",
       "25%     812.500000     7.043089\n",
       "50%    1622.000000     9.836267\n",
       "75%    2431.500000    13.769915\n",
       "99%    3208.620000    31.558630\n",
       "max    3241.000000    77.995040"
      ]
     },
     "execution_count": 34,
     "metadata": {},
     "output_type": "execute_result"
    }
   ],
   "source": [
    "data_gas['Газ 1'].plot(kind='hist', title='Распределение значений в столбце Газ 1', bins=100)\n",
    "plt.show()\n",
    "data_gas.describe(percentiles=[.01, .25, .5, .75, .99])"
   ]
  },
  {
   "cell_type": "markdown",
   "id": "9791c6ec",
   "metadata": {},
   "source": [
    "Необходимо привести наименование столбцов к нижнему регистру на латинице, заменить пробелы подчеркиванием. \n",
    "\n",
    "Пропуски в данных отсутствуют. Откровенных ошибок в данных нет."
   ]
  },
  {
   "cell_type": "code",
   "execution_count": 35,
   "id": "2c54dfc3",
   "metadata": {},
   "outputs": [],
   "source": [
    "# перевод названий столбцов в нижний регистр и замена пробелов подчеркиванием\n",
    "data_gas_columns = ['key']\n",
    "for i in range(len(data_gas.columns)-1):\n",
    "    data_gas_columns.append('gas_'+str(i+1))\n",
    "data_gas.columns = data_gas_columns"
   ]
  },
  {
   "cell_type": "code",
   "execution_count": 36,
   "id": "b4b11ea7",
   "metadata": {},
   "outputs": [
    {
     "data": {
      "text/html": [
       "<div>\n",
       "<style scoped>\n",
       "    .dataframe tbody tr th:only-of-type {\n",
       "        vertical-align: middle;\n",
       "    }\n",
       "\n",
       "    .dataframe tbody tr th {\n",
       "        vertical-align: top;\n",
       "    }\n",
       "\n",
       "    .dataframe thead th {\n",
       "        text-align: right;\n",
       "    }\n",
       "</style>\n",
       "<table border=\"1\" class=\"dataframe\">\n",
       "  <thead>\n",
       "    <tr style=\"text-align: right;\">\n",
       "      <th></th>\n",
       "      <th>key</th>\n",
       "      <th>gas_1</th>\n",
       "    </tr>\n",
       "  </thead>\n",
       "  <tbody>\n",
       "    <tr>\n",
       "      <td>0</td>\n",
       "      <td>1</td>\n",
       "      <td>29.749986</td>\n",
       "    </tr>\n",
       "    <tr>\n",
       "      <td>1</td>\n",
       "      <td>2</td>\n",
       "      <td>12.555561</td>\n",
       "    </tr>\n",
       "    <tr>\n",
       "      <td>2</td>\n",
       "      <td>3</td>\n",
       "      <td>28.554793</td>\n",
       "    </tr>\n",
       "    <tr>\n",
       "      <td>3</td>\n",
       "      <td>4</td>\n",
       "      <td>18.841219</td>\n",
       "    </tr>\n",
       "    <tr>\n",
       "      <td>4</td>\n",
       "      <td>5</td>\n",
       "      <td>5.413692</td>\n",
       "    </tr>\n",
       "  </tbody>\n",
       "</table>\n",
       "</div>"
      ],
      "text/plain": [
       "   key      gas_1\n",
       "0    1  29.749986\n",
       "1    2  12.555561\n",
       "2    3  28.554793\n",
       "3    4  18.841219\n",
       "4    5   5.413692"
      ]
     },
     "execution_count": 36,
     "metadata": {},
     "output_type": "execute_result"
    }
   ],
   "source": [
    "data_gas.head()"
   ]
  },
  {
   "cell_type": "markdown",
   "id": "a0ce77c3",
   "metadata": {},
   "source": [
    "---"
   ]
  },
  {
   "cell_type": "markdown",
   "id": "6a55f914",
   "metadata": {},
   "source": [
    "#### data_temp.csv\n",
    "<b>Результаты измерения температуры</b>\n",
    "\n",
    "    \n",
    "[вернуться к содержанию](#Содержание)"
   ]
  },
  {
   "cell_type": "code",
   "execution_count": 37,
   "id": "50eae8c8",
   "metadata": {},
   "outputs": [
    {
     "name": "stdout",
     "output_type": "stream",
     "text": [
      "<class 'pandas.core.frame.DataFrame'>\n",
      "RangeIndex: 15907 entries, 0 to 15906\n",
      "Data columns (total 3 columns):\n",
      "key             15907 non-null int64\n",
      "Время замера    15907 non-null object\n",
      "Температура     13006 non-null float64\n",
      "dtypes: float64(1), int64(1), object(1)\n",
      "memory usage: 372.9+ KB\n"
     ]
    },
    {
     "data": {
      "text/html": [
       "<div>\n",
       "<style scoped>\n",
       "    .dataframe tbody tr th:only-of-type {\n",
       "        vertical-align: middle;\n",
       "    }\n",
       "\n",
       "    .dataframe tbody tr th {\n",
       "        vertical-align: top;\n",
       "    }\n",
       "\n",
       "    .dataframe thead th {\n",
       "        text-align: right;\n",
       "    }\n",
       "</style>\n",
       "<table border=\"1\" class=\"dataframe\">\n",
       "  <thead>\n",
       "    <tr style=\"text-align: right;\">\n",
       "      <th></th>\n",
       "      <th>key</th>\n",
       "      <th>Время замера</th>\n",
       "      <th>Температура</th>\n",
       "    </tr>\n",
       "  </thead>\n",
       "  <tbody>\n",
       "    <tr>\n",
       "      <td>0</td>\n",
       "      <td>1</td>\n",
       "      <td>2019-05-03 11:16:18</td>\n",
       "      <td>1571.0</td>\n",
       "    </tr>\n",
       "    <tr>\n",
       "      <td>1</td>\n",
       "      <td>1</td>\n",
       "      <td>2019-05-03 11:25:53</td>\n",
       "      <td>1604.0</td>\n",
       "    </tr>\n",
       "    <tr>\n",
       "      <td>2</td>\n",
       "      <td>1</td>\n",
       "      <td>2019-05-03 11:29:11</td>\n",
       "      <td>1618.0</td>\n",
       "    </tr>\n",
       "    <tr>\n",
       "      <td>3</td>\n",
       "      <td>1</td>\n",
       "      <td>2019-05-03 11:30:01</td>\n",
       "      <td>1601.0</td>\n",
       "    </tr>\n",
       "    <tr>\n",
       "      <td>4</td>\n",
       "      <td>1</td>\n",
       "      <td>2019-05-03 11:30:39</td>\n",
       "      <td>1613.0</td>\n",
       "    </tr>\n",
       "  </tbody>\n",
       "</table>\n",
       "</div>"
      ],
      "text/plain": [
       "   key         Время замера  Температура\n",
       "0    1  2019-05-03 11:16:18       1571.0\n",
       "1    1  2019-05-03 11:25:53       1604.0\n",
       "2    1  2019-05-03 11:29:11       1618.0\n",
       "3    1  2019-05-03 11:30:01       1601.0\n",
       "4    1  2019-05-03 11:30:39       1613.0"
      ]
     },
     "execution_count": 37,
     "metadata": {},
     "output_type": "execute_result"
    }
   ],
   "source": [
    "data_temp = pd.read_csv(path+'data_temp.csv')\n",
    "data_temp.info()\n",
    "data_temp.head()"
   ]
  },
  {
   "cell_type": "markdown",
   "id": "725dffe5",
   "metadata": {},
   "source": [
    "Столбцы в данных необходимо переименовать на латинице в нижнем регистре, заменить пробелы на подчеркивания. Тип данных в стобце времени изменить на datetime. Кроме того, в данных большое количество пропусков. Все эти пропуски выглядят так, будто бы у партии была измерена первичная температура, затем внесены какие-то изменения состава, но последующих измерений не проводилось. Почему так происходило, я так и не разобрался, вынес этот вопрос в конец, в вопросы тимлиду. Сами пропуски в данных на текущий момент я обработал дальше, когда сгрупировал их в отдельную таблицу."
   ]
  },
  {
   "cell_type": "code",
   "execution_count": 38,
   "id": "8dda3c77",
   "metadata": {},
   "outputs": [],
   "source": [
    "# переименование столбцов на латинице, перевод названий столбцов в нижний регистр\n",
    "data_temp.columns = ['key', 'time', 'temp']\n",
    "\n",
    "# смена типа данных на datetime в столбцах с датой\n",
    "data_temp['time'] = pd.to_datetime(data_temp['time'], format='%Y-%m-%d %H:%M:%S')"
   ]
  },
  {
   "cell_type": "code",
   "execution_count": 39,
   "id": "43388700",
   "metadata": {},
   "outputs": [
    {
     "name": "stdout",
     "output_type": "stream",
     "text": [
      "<class 'pandas.core.frame.DataFrame'>\n",
      "RangeIndex: 15907 entries, 0 to 15906\n",
      "Data columns (total 3 columns):\n",
      "key     15907 non-null int64\n",
      "time    15907 non-null datetime64[ns]\n",
      "temp    13006 non-null float64\n",
      "dtypes: datetime64[ns](1), float64(1), int64(1)\n",
      "memory usage: 372.9 KB\n"
     ]
    },
    {
     "data": {
      "text/html": [
       "<div>\n",
       "<style scoped>\n",
       "    .dataframe tbody tr th:only-of-type {\n",
       "        vertical-align: middle;\n",
       "    }\n",
       "\n",
       "    .dataframe tbody tr th {\n",
       "        vertical-align: top;\n",
       "    }\n",
       "\n",
       "    .dataframe thead th {\n",
       "        text-align: right;\n",
       "    }\n",
       "</style>\n",
       "<table border=\"1\" class=\"dataframe\">\n",
       "  <thead>\n",
       "    <tr style=\"text-align: right;\">\n",
       "      <th></th>\n",
       "      <th>key</th>\n",
       "      <th>time</th>\n",
       "      <th>temp</th>\n",
       "    </tr>\n",
       "  </thead>\n",
       "  <tbody>\n",
       "    <tr>\n",
       "      <td>0</td>\n",
       "      <td>1</td>\n",
       "      <td>2019-05-03 11:16:18</td>\n",
       "      <td>1571.0</td>\n",
       "    </tr>\n",
       "    <tr>\n",
       "      <td>1</td>\n",
       "      <td>1</td>\n",
       "      <td>2019-05-03 11:25:53</td>\n",
       "      <td>1604.0</td>\n",
       "    </tr>\n",
       "  </tbody>\n",
       "</table>\n",
       "</div>"
      ],
      "text/plain": [
       "   key                time    temp\n",
       "0    1 2019-05-03 11:16:18  1571.0\n",
       "1    1 2019-05-03 11:25:53  1604.0"
      ]
     },
     "execution_count": 39,
     "metadata": {},
     "output_type": "execute_result"
    }
   ],
   "source": [
    "data_temp.info()\n",
    "data_temp.head(2)"
   ]
  },
  {
   "cell_type": "markdown",
   "id": "68beb613",
   "metadata": {},
   "source": [
    "Теперь, когда данные проебразованы для удобства работы, выделим из них необходимые нам. Для начала проверим одну теорию. Так как партии не обрабатывались одновременно, а внутри каждой партии измерения температуры не происходили одновременно, есть гипотеза, что в этой таблице каждая отметка времени - уникальна и может быть в дальнейшем для нахождения нужной температуры. Проверим эту гипотезу:"
   ]
  },
  {
   "cell_type": "code",
   "execution_count": 40,
   "id": "a729a7e9",
   "metadata": {
    "scrolled": true
   },
   "outputs": [
    {
     "data": {
      "text/plain": [
       "2019-08-28 20:36:18    1\n",
       "2019-06-13 00:35:03    1\n",
       "2019-08-06 02:04:21    1\n",
       "2019-06-12 05:55:41    1\n",
       "2019-08-02 21:06:00    1\n",
       "                      ..\n",
       "2019-07-30 04:16:22    1\n",
       "2019-08-30 10:22:56    1\n",
       "2019-05-05 21:57:17    1\n",
       "2019-05-31 03:54:21    1\n",
       "2019-05-09 08:58:14    1\n",
       "Name: time, Length: 15907, dtype: int64"
      ]
     },
     "execution_count": 40,
     "metadata": {},
     "output_type": "execute_result"
    }
   ],
   "source": [
    "data_temp['time'].value_counts()"
   ]
  },
  {
   "cell_type": "markdown",
   "id": "fc89424b",
   "metadata": {},
   "source": [
    "Так и есть, каждая отметка времени из 15907 уникальна. Это значит, что по ним как по индексам можно будет отбирать данные. Отберем температруры каждой партии в начале обработки, так как это значение может быть одним из признаков при создании модели.\n",
    "\n",
    "Для этого сначала отбереме минимальное (то есть наиболее раннее время) измерения каждой партии, а затем по этим датам выберем температуры."
   ]
  },
  {
   "cell_type": "code",
   "execution_count": 41,
   "id": "f454f20f",
   "metadata": {
    "scrolled": true
   },
   "outputs": [],
   "source": [
    "start_dates_temp = data_temp.pivot_table(values='time', index='key', columns=None, aggfunc=['min'])\n",
    "start_dates_temp.columns = ['time']"
   ]
  },
  {
   "cell_type": "code",
   "execution_count": 42,
   "id": "06ae290a",
   "metadata": {
    "scrolled": false
   },
   "outputs": [],
   "source": [
    "start_temp = pd.merge(start_dates_temp,\n",
    "                      data_temp,\n",
    "                      on='time',\n",
    "                      how='left')\n",
    "start_temp.columns = ['first_measure_time', 'key', 'start_temp']"
   ]
  },
  {
   "cell_type": "code",
   "execution_count": 43,
   "id": "c48ce368",
   "metadata": {},
   "outputs": [
    {
     "data": {
      "text/html": [
       "<div>\n",
       "<style scoped>\n",
       "    .dataframe tbody tr th:only-of-type {\n",
       "        vertical-align: middle;\n",
       "    }\n",
       "\n",
       "    .dataframe tbody tr th {\n",
       "        vertical-align: top;\n",
       "    }\n",
       "\n",
       "    .dataframe thead th {\n",
       "        text-align: right;\n",
       "    }\n",
       "</style>\n",
       "<table border=\"1\" class=\"dataframe\">\n",
       "  <thead>\n",
       "    <tr style=\"text-align: right;\">\n",
       "      <th></th>\n",
       "      <th>key</th>\n",
       "      <th>start_temp</th>\n",
       "    </tr>\n",
       "  </thead>\n",
       "  <tbody>\n",
       "    <tr>\n",
       "      <td>0</td>\n",
       "      <td>1</td>\n",
       "      <td>1571.0</td>\n",
       "    </tr>\n",
       "    <tr>\n",
       "      <td>1</td>\n",
       "      <td>2</td>\n",
       "      <td>1581.0</td>\n",
       "    </tr>\n",
       "    <tr>\n",
       "      <td>2</td>\n",
       "      <td>3</td>\n",
       "      <td>1596.0</td>\n",
       "    </tr>\n",
       "    <tr>\n",
       "      <td>3</td>\n",
       "      <td>4</td>\n",
       "      <td>1601.0</td>\n",
       "    </tr>\n",
       "    <tr>\n",
       "      <td>4</td>\n",
       "      <td>5</td>\n",
       "      <td>1576.0</td>\n",
       "    </tr>\n",
       "    <tr>\n",
       "      <td>...</td>\n",
       "      <td>...</td>\n",
       "      <td>...</td>\n",
       "    </tr>\n",
       "    <tr>\n",
       "      <td>3211</td>\n",
       "      <td>3237</td>\n",
       "      <td>1569.0</td>\n",
       "    </tr>\n",
       "    <tr>\n",
       "      <td>3212</td>\n",
       "      <td>3238</td>\n",
       "      <td>1584.0</td>\n",
       "    </tr>\n",
       "    <tr>\n",
       "      <td>3213</td>\n",
       "      <td>3239</td>\n",
       "      <td>1598.0</td>\n",
       "    </tr>\n",
       "    <tr>\n",
       "      <td>3214</td>\n",
       "      <td>3240</td>\n",
       "      <td>1617.0</td>\n",
       "    </tr>\n",
       "    <tr>\n",
       "      <td>3215</td>\n",
       "      <td>3241</td>\n",
       "      <td>1586.0</td>\n",
       "    </tr>\n",
       "  </tbody>\n",
       "</table>\n",
       "<p>3216 rows × 2 columns</p>\n",
       "</div>"
      ],
      "text/plain": [
       "       key  start_temp\n",
       "0        1      1571.0\n",
       "1        2      1581.0\n",
       "2        3      1596.0\n",
       "3        4      1601.0\n",
       "4        5      1576.0\n",
       "...    ...         ...\n",
       "3211  3237      1569.0\n",
       "3212  3238      1584.0\n",
       "3213  3239      1598.0\n",
       "3214  3240      1617.0\n",
       "3215  3241      1586.0\n",
       "\n",
       "[3216 rows x 2 columns]"
      ]
     },
     "execution_count": 43,
     "metadata": {},
     "output_type": "execute_result"
    }
   ],
   "source": [
    "start_temp = start_temp.drop('first_measure_time', axis=1)\n",
    "start_temp"
   ]
  },
  {
   "cell_type": "markdown",
   "id": "3dcae437",
   "metadata": {},
   "source": [
    "Кроме того нам необходимо проверить, чтобы последнее измерение температуры партии происходило после всех остальных операций (подогрев, введение сыпучих и проволочных материалов). Это будет означать, что это температура сырья непосредственно перед розливом. Для этого нам необходимы даты последних измерений температур партий (то есть \"максимальное\" время измерения температуры партии)."
   ]
  },
  {
   "cell_type": "code",
   "execution_count": 44,
   "id": "4ec41444",
   "metadata": {},
   "outputs": [],
   "source": [
    "finish_dates_temp = data_temp.pivot_table(values='time', index='key', columns=None, aggfunc=['max'])\n",
    "finish_dates_temp.columns = ['time']"
   ]
  },
  {
   "cell_type": "code",
   "execution_count": 45,
   "id": "62e80731",
   "metadata": {},
   "outputs": [],
   "source": [
    "finish_temp = pd.merge(finish_dates_temp,\n",
    "                      data_temp,\n",
    "                      on='time',\n",
    "                      how='left')\n",
    "\n",
    "finish_temp.columns = ['last_measure_time', 'key', 'target_temp']"
   ]
  },
  {
   "cell_type": "markdown",
   "id": "fd88ab71",
   "metadata": {},
   "source": [
    "Кроме того, последнее измерение температуры партии является нашим целевым признаком. А значит мы используем эту таблицу в дальнейшем, оставив температуры. Как можно увидеть ниже, не у всех партий была измерена температура, из-за этого в данных возникли пропуски. Я не смог разобраться, почему не проводились измерения, и об этом задал вопрос тимлиду ниже. Таким образом у данных партий целевой признак отсутствует, а значит их нельзя использовать для обучения модели. Поэтому я решил исключить это партии из данных. "
   ]
  },
  {
   "cell_type": "code",
   "execution_count": 46,
   "id": "bc886e72",
   "metadata": {},
   "outputs": [
    {
     "name": "stdout",
     "output_type": "stream",
     "text": [
      "<class 'pandas.core.frame.DataFrame'>\n",
      "Int64Index: 3216 entries, 0 to 3215\n",
      "Data columns (total 3 columns):\n",
      "last_measure_time    3216 non-null datetime64[ns]\n",
      "key                  3216 non-null int64\n",
      "target_temp          2477 non-null float64\n",
      "dtypes: datetime64[ns](1), float64(1), int64(1)\n",
      "memory usage: 100.5 KB\n"
     ]
    }
   ],
   "source": [
    "finish_temp.info()"
   ]
  },
  {
   "cell_type": "code",
   "execution_count": 47,
   "id": "2021765b",
   "metadata": {},
   "outputs": [
    {
     "data": {
      "text/html": [
       "<div>\n",
       "<style scoped>\n",
       "    .dataframe tbody tr th:only-of-type {\n",
       "        vertical-align: middle;\n",
       "    }\n",
       "\n",
       "    .dataframe tbody tr th {\n",
       "        vertical-align: top;\n",
       "    }\n",
       "\n",
       "    .dataframe thead th {\n",
       "        text-align: right;\n",
       "    }\n",
       "</style>\n",
       "<table border=\"1\" class=\"dataframe\">\n",
       "  <thead>\n",
       "    <tr style=\"text-align: right;\">\n",
       "      <th></th>\n",
       "      <th>last_measure_time</th>\n",
       "      <th>key</th>\n",
       "      <th>target_temp</th>\n",
       "    </tr>\n",
       "  </thead>\n",
       "  <tbody>\n",
       "    <tr>\n",
       "      <td>0</td>\n",
       "      <td>2019-05-03 11:30:39</td>\n",
       "      <td>1</td>\n",
       "      <td>1613.0</td>\n",
       "    </tr>\n",
       "    <tr>\n",
       "      <td>1</td>\n",
       "      <td>2019-05-03 11:59:12</td>\n",
       "      <td>2</td>\n",
       "      <td>1602.0</td>\n",
       "    </tr>\n",
       "    <tr>\n",
       "      <td>2</td>\n",
       "      <td>2019-05-03 12:34:57</td>\n",
       "      <td>3</td>\n",
       "      <td>1599.0</td>\n",
       "    </tr>\n",
       "    <tr>\n",
       "      <td>3</td>\n",
       "      <td>2019-05-03 12:59:25</td>\n",
       "      <td>4</td>\n",
       "      <td>1625.0</td>\n",
       "    </tr>\n",
       "    <tr>\n",
       "      <td>4</td>\n",
       "      <td>2019-05-03 13:36:01</td>\n",
       "      <td>5</td>\n",
       "      <td>1602.0</td>\n",
       "    </tr>\n",
       "    <tr>\n",
       "      <td>...</td>\n",
       "      <td>...</td>\n",
       "      <td>...</td>\n",
       "      <td>...</td>\n",
       "    </tr>\n",
       "    <tr>\n",
       "      <td>2472</td>\n",
       "      <td>2019-08-06 00:54:42</td>\n",
       "      <td>2495</td>\n",
       "      <td>1591.0</td>\n",
       "    </tr>\n",
       "    <tr>\n",
       "      <td>2473</td>\n",
       "      <td>2019-08-06 01:29:52</td>\n",
       "      <td>2496</td>\n",
       "      <td>1591.0</td>\n",
       "    </tr>\n",
       "    <tr>\n",
       "      <td>2474</td>\n",
       "      <td>2019-08-06 01:53:50</td>\n",
       "      <td>2497</td>\n",
       "      <td>1589.0</td>\n",
       "    </tr>\n",
       "    <tr>\n",
       "      <td>2475</td>\n",
       "      <td>2019-08-06 02:25:31</td>\n",
       "      <td>2498</td>\n",
       "      <td>1594.0</td>\n",
       "    </tr>\n",
       "    <tr>\n",
       "      <td>2476</td>\n",
       "      <td>2019-08-06 03:00:28</td>\n",
       "      <td>2499</td>\n",
       "      <td>1603.0</td>\n",
       "    </tr>\n",
       "  </tbody>\n",
       "</table>\n",
       "<p>2477 rows × 3 columns</p>\n",
       "</div>"
      ],
      "text/plain": [
       "       last_measure_time   key  target_temp\n",
       "0    2019-05-03 11:30:39     1       1613.0\n",
       "1    2019-05-03 11:59:12     2       1602.0\n",
       "2    2019-05-03 12:34:57     3       1599.0\n",
       "3    2019-05-03 12:59:25     4       1625.0\n",
       "4    2019-05-03 13:36:01     5       1602.0\n",
       "...                  ...   ...          ...\n",
       "2472 2019-08-06 00:54:42  2495       1591.0\n",
       "2473 2019-08-06 01:29:52  2496       1591.0\n",
       "2474 2019-08-06 01:53:50  2497       1589.0\n",
       "2475 2019-08-06 02:25:31  2498       1594.0\n",
       "2476 2019-08-06 03:00:28  2499       1603.0\n",
       "\n",
       "[2477 rows x 3 columns]"
      ]
     },
     "execution_count": 47,
     "metadata": {},
     "output_type": "execute_result"
    }
   ],
   "source": [
    "finish_temp = finish_temp.dropna()\n",
    "finish_temp"
   ]
  },
  {
   "cell_type": "code",
   "execution_count": 48,
   "id": "51b47580",
   "metadata": {},
   "outputs": [
    {
     "name": "stdout",
     "output_type": "stream",
     "text": [
      "<class 'pandas.core.frame.DataFrame'>\n",
      "Int64Index: 2477 entries, 0 to 2476\n",
      "Data columns (total 3 columns):\n",
      "last_measure_time    2477 non-null datetime64[ns]\n",
      "key                  2477 non-null int64\n",
      "target_temp          2477 non-null float64\n",
      "dtypes: datetime64[ns](1), float64(1), int64(1)\n",
      "memory usage: 77.4 KB\n"
     ]
    }
   ],
   "source": [
    "finish_temp.info()"
   ]
  },
  {
   "cell_type": "markdown",
   "id": "4bc1389c",
   "metadata": {},
   "source": [
    "---"
   ]
  },
  {
   "cell_type": "markdown",
   "id": "e0535f62",
   "metadata": {},
   "source": [
    "### Отбор подходящих партий\n",
    "[вернуться к содержанию](#Содержание)"
   ]
  },
  {
   "cell_type": "markdown",
   "id": "ed5f5e08",
   "metadata": {},
   "source": [
    "Создадим сводную таблицу для сравнения времени последнего измерения температуры партии и внесения изменений в партию."
   ]
  },
  {
   "cell_type": "code",
   "execution_count": 49,
   "id": "a03ff82f",
   "metadata": {},
   "outputs": [],
   "source": [
    "timings = heat_last\n",
    "timings = pd.merge(timings,\n",
    "                   data_bulk_time,\n",
    "                   on='key',\n",
    "                   how='left')\n",
    "timings = pd.merge(timings,\n",
    "                   data_wire_time,\n",
    "                   on='key',\n",
    "                   how='left')\n",
    "timings = pd.merge(timings,\n",
    "                   finish_temp.drop('target_temp', axis=1),\n",
    "                   on='key',\n",
    "                   how='left')"
   ]
  },
  {
   "cell_type": "code",
   "execution_count": 50,
   "id": "5388465b",
   "metadata": {},
   "outputs": [
    {
     "name": "stdout",
     "output_type": "stream",
     "text": [
      "<class 'pandas.core.frame.DataFrame'>\n",
      "Int64Index: 3214 entries, 0 to 3213\n",
      "Data columns (total 5 columns):\n",
      "key                  3214 non-null int64\n",
      "heat_finish_time     3214 non-null datetime64[ns]\n",
      "bulk_time            3128 non-null datetime64[ns]\n",
      "wire_time            3080 non-null datetime64[ns]\n",
      "last_measure_time    2475 non-null datetime64[ns]\n",
      "dtypes: datetime64[ns](4), int64(1)\n",
      "memory usage: 150.7 KB\n"
     ]
    }
   ],
   "source": [
    "timings.info()"
   ]
  },
  {
   "cell_type": "markdown",
   "id": "e375d201",
   "metadata": {},
   "source": [
    "Из-за того, что по некоторым партиям у нас отсутствовало время последнего измерения температуры или введения той или иной присадки, в итоговой таблице есть пропуски, проверить данные по этим партиям мы, к сожалению, не сможем. Поэтому их тоже проидется изключить из иготового датасета."
   ]
  },
  {
   "cell_type": "code",
   "execution_count": 51,
   "id": "1bdf5c7b",
   "metadata": {},
   "outputs": [
    {
     "name": "stdout",
     "output_type": "stream",
     "text": [
      "<class 'pandas.core.frame.DataFrame'>\n",
      "Int64Index: 2331 entries, 0 to 2474\n",
      "Data columns (total 5 columns):\n",
      "key                  2331 non-null int64\n",
      "heat_finish_time     2331 non-null datetime64[ns]\n",
      "bulk_time            2331 non-null datetime64[ns]\n",
      "wire_time            2331 non-null datetime64[ns]\n",
      "last_measure_time    2331 non-null datetime64[ns]\n",
      "dtypes: datetime64[ns](4), int64(1)\n",
      "memory usage: 109.3 KB\n"
     ]
    }
   ],
   "source": [
    "timings = timings.dropna()\n",
    "timings.info()"
   ]
  },
  {
   "cell_type": "code",
   "execution_count": 52,
   "id": "380f308e",
   "metadata": {},
   "outputs": [],
   "source": [
    "keys = []\n",
    "for i in timings.index:\n",
    "    if (timings.loc[i, 'last_measure_time'] > timings.loc[i,'bulk_time']) and (timings.loc[i, 'last_measure_time'] > timings.loc[i,'wire_time']) and (timings.loc[i, 'last_measure_time'] > timings.loc[i,'heat_finish_time']):\n",
    "        keys.append(timings.loc[i, 'key'])"
   ]
  },
  {
   "cell_type": "markdown",
   "id": "87196258",
   "metadata": {},
   "source": [
    "В результате мы получили список \"ключей\" партий, которые и будем использовать для обучения модели. "
   ]
  },
  {
   "cell_type": "code",
   "execution_count": 53,
   "id": "d3a46b30",
   "metadata": {
    "scrolled": true
   },
   "outputs": [
    {
     "data": {
      "text/plain": [
       "2208"
      ]
     },
     "execution_count": 53,
     "metadata": {},
     "output_type": "execute_result"
    }
   ],
   "source": [
    "len(keys)"
   ]
  },
  {
   "cell_type": "markdown",
   "id": "bbd0c1b4",
   "metadata": {},
   "source": [
    "---"
   ]
  },
  {
   "cell_type": "markdown",
   "id": "73b74f64",
   "metadata": {},
   "source": [
    "### Создание таблицы признаков для машинного обучения\n",
    "[вернуться к содержанию](#Содержание)"
   ]
  },
  {
   "cell_type": "markdown",
   "id": "83f39ce2",
   "metadata": {},
   "source": [
    "По списку партий, подходящих по времени, соберем датасет признаков."
   ]
  },
  {
   "cell_type": "code",
   "execution_count": 54,
   "id": "021ef96a",
   "metadata": {},
   "outputs": [],
   "source": [
    "features = pd.DataFrame(data=keys, columns=['key'])\n",
    "features = pd.merge(features,\n",
    "                    powers_sum,\n",
    "                    on='key',\n",
    "                    how='left')\n",
    "features = pd.merge(features,\n",
    "                    data_bulk,\n",
    "                    on='key',\n",
    "                    how='left')\n",
    "features = pd.merge(features,\n",
    "                    data_wire,\n",
    "                    on='key',\n",
    "                    how='left')\n",
    "features = pd.merge(features,\n",
    "                    data_gas,\n",
    "                    on='key',\n",
    "                    how='left')\n",
    "features = pd.merge(features,\n",
    "                    start_temp,\n",
    "                    on='key',\n",
    "                    how='left')\n",
    "features = pd.merge(features,\n",
    "                    finish_temp,\n",
    "                    on='key',\n",
    "                    how='left')"
   ]
  },
  {
   "cell_type": "code",
   "execution_count": 55,
   "id": "fb0ad6a1",
   "metadata": {
    "scrolled": false
   },
   "outputs": [
    {
     "name": "stdout",
     "output_type": "stream",
     "text": [
      "<class 'pandas.core.frame.DataFrame'>\n",
      "Int64Index: 2208 entries, 0 to 2207\n",
      "Data columns (total 30 columns):\n",
      "key                  2208 non-null int64\n",
      "active_power         2208 non-null float64\n",
      "bulk_1               2208 non-null float64\n",
      "bulk_2               2208 non-null float64\n",
      "bulk_3               2208 non-null float64\n",
      "bulk_4               2208 non-null float64\n",
      "bulk_5               2208 non-null float64\n",
      "bulk_6               2208 non-null float64\n",
      "bulk_7               2208 non-null float64\n",
      "bulk_8               2208 non-null float64\n",
      "bulk_9               2208 non-null float64\n",
      "bulk_10              2208 non-null float64\n",
      "bulk_11              2208 non-null float64\n",
      "bulk_12              2208 non-null float64\n",
      "bulk_13              2208 non-null float64\n",
      "bulk_14              2208 non-null float64\n",
      "bulk_15              2208 non-null float64\n",
      "wire_1               2208 non-null float64\n",
      "wire_2               2208 non-null float64\n",
      "wire_3               2208 non-null float64\n",
      "wire_4               2208 non-null float64\n",
      "wire_5               2208 non-null float64\n",
      "wire_6               2208 non-null float64\n",
      "wire_7               2208 non-null float64\n",
      "wire_8               2208 non-null float64\n",
      "wire_9               2208 non-null float64\n",
      "gas_1                2206 non-null float64\n",
      "start_temp           2208 non-null float64\n",
      "last_measure_time    2208 non-null datetime64[ns]\n",
      "target_temp          2208 non-null float64\n",
      "dtypes: datetime64[ns](1), float64(28), int64(1)\n",
      "memory usage: 534.8 KB\n"
     ]
    }
   ],
   "source": [
    "features.info()"
   ]
  },
  {
   "cell_type": "markdown",
   "id": "b1cbb6f2",
   "metadata": {},
   "source": [
    "Два пропуска в данных по газу: из всех отобранных партий у двух отсутствует информация по обработке газом. Сложно сказать, связано это с тем, что газ не подавался или данные просто не внесли. Проще всего будет просто удалить эти две партии.\n",
    "\n",
    "Наведем лоску на нашу таблицу признаков: уберем номера партий из содержимого датасета в его индексы и удалим столбец с датой измерения последней температуры."
   ]
  },
  {
   "cell_type": "code",
   "execution_count": 56,
   "id": "321f1040",
   "metadata": {},
   "outputs": [],
   "source": [
    "features.index = features['key']\n",
    "features = features.dropna().drop(['key', 'last_measure_time'], axis=1)"
   ]
  },
  {
   "cell_type": "code",
   "execution_count": 57,
   "id": "ec8bcf18",
   "metadata": {
    "scrolled": true
   },
   "outputs": [
    {
     "data": {
      "text/html": [
       "<div>\n",
       "<style scoped>\n",
       "    .dataframe tbody tr th:only-of-type {\n",
       "        vertical-align: middle;\n",
       "    }\n",
       "\n",
       "    .dataframe tbody tr th {\n",
       "        vertical-align: top;\n",
       "    }\n",
       "\n",
       "    .dataframe thead th {\n",
       "        text-align: right;\n",
       "    }\n",
       "</style>\n",
       "<table border=\"1\" class=\"dataframe\">\n",
       "  <thead>\n",
       "    <tr style=\"text-align: right;\">\n",
       "      <th></th>\n",
       "      <th>active_power</th>\n",
       "      <th>bulk_1</th>\n",
       "      <th>bulk_2</th>\n",
       "      <th>bulk_3</th>\n",
       "      <th>bulk_4</th>\n",
       "      <th>bulk_5</th>\n",
       "      <th>bulk_6</th>\n",
       "      <th>bulk_7</th>\n",
       "      <th>bulk_8</th>\n",
       "      <th>bulk_9</th>\n",
       "      <th>...</th>\n",
       "      <th>wire_3</th>\n",
       "      <th>wire_4</th>\n",
       "      <th>wire_5</th>\n",
       "      <th>wire_6</th>\n",
       "      <th>wire_7</th>\n",
       "      <th>wire_8</th>\n",
       "      <th>wire_9</th>\n",
       "      <th>gas_1</th>\n",
       "      <th>start_temp</th>\n",
       "      <th>target_temp</th>\n",
       "    </tr>\n",
       "    <tr>\n",
       "      <th>key</th>\n",
       "      <th></th>\n",
       "      <th></th>\n",
       "      <th></th>\n",
       "      <th></th>\n",
       "      <th></th>\n",
       "      <th></th>\n",
       "      <th></th>\n",
       "      <th></th>\n",
       "      <th></th>\n",
       "      <th></th>\n",
       "      <th></th>\n",
       "      <th></th>\n",
       "      <th></th>\n",
       "      <th></th>\n",
       "      <th></th>\n",
       "      <th></th>\n",
       "      <th></th>\n",
       "      <th></th>\n",
       "      <th></th>\n",
       "      <th></th>\n",
       "      <th></th>\n",
       "    </tr>\n",
       "  </thead>\n",
       "  <tbody>\n",
       "    <tr>\n",
       "      <td>1</td>\n",
       "      <td>4.878147</td>\n",
       "      <td>0.0</td>\n",
       "      <td>0.0</td>\n",
       "      <td>0.0</td>\n",
       "      <td>43.0</td>\n",
       "      <td>0.0</td>\n",
       "      <td>0.0</td>\n",
       "      <td>0.0</td>\n",
       "      <td>0.0</td>\n",
       "      <td>0.0</td>\n",
       "      <td>...</td>\n",
       "      <td>0.0</td>\n",
       "      <td>0.0</td>\n",
       "      <td>0.0</td>\n",
       "      <td>0.0</td>\n",
       "      <td>0.0</td>\n",
       "      <td>0.0</td>\n",
       "      <td>0.0</td>\n",
       "      <td>29.749986</td>\n",
       "      <td>1571.0</td>\n",
       "      <td>1613.0</td>\n",
       "    </tr>\n",
       "    <tr>\n",
       "      <td>2</td>\n",
       "      <td>3.052598</td>\n",
       "      <td>0.0</td>\n",
       "      <td>0.0</td>\n",
       "      <td>0.0</td>\n",
       "      <td>73.0</td>\n",
       "      <td>0.0</td>\n",
       "      <td>0.0</td>\n",
       "      <td>0.0</td>\n",
       "      <td>0.0</td>\n",
       "      <td>0.0</td>\n",
       "      <td>...</td>\n",
       "      <td>0.0</td>\n",
       "      <td>0.0</td>\n",
       "      <td>0.0</td>\n",
       "      <td>0.0</td>\n",
       "      <td>0.0</td>\n",
       "      <td>0.0</td>\n",
       "      <td>0.0</td>\n",
       "      <td>12.555561</td>\n",
       "      <td>1581.0</td>\n",
       "      <td>1602.0</td>\n",
       "    </tr>\n",
       "    <tr>\n",
       "      <td>3</td>\n",
       "      <td>2.525882</td>\n",
       "      <td>0.0</td>\n",
       "      <td>0.0</td>\n",
       "      <td>0.0</td>\n",
       "      <td>34.0</td>\n",
       "      <td>0.0</td>\n",
       "      <td>0.0</td>\n",
       "      <td>0.0</td>\n",
       "      <td>0.0</td>\n",
       "      <td>0.0</td>\n",
       "      <td>...</td>\n",
       "      <td>0.0</td>\n",
       "      <td>0.0</td>\n",
       "      <td>0.0</td>\n",
       "      <td>0.0</td>\n",
       "      <td>0.0</td>\n",
       "      <td>0.0</td>\n",
       "      <td>0.0</td>\n",
       "      <td>28.554793</td>\n",
       "      <td>1596.0</td>\n",
       "      <td>1599.0</td>\n",
       "    </tr>\n",
       "    <tr>\n",
       "      <td>4</td>\n",
       "      <td>3.209250</td>\n",
       "      <td>0.0</td>\n",
       "      <td>0.0</td>\n",
       "      <td>0.0</td>\n",
       "      <td>81.0</td>\n",
       "      <td>0.0</td>\n",
       "      <td>0.0</td>\n",
       "      <td>0.0</td>\n",
       "      <td>0.0</td>\n",
       "      <td>0.0</td>\n",
       "      <td>...</td>\n",
       "      <td>0.0</td>\n",
       "      <td>0.0</td>\n",
       "      <td>0.0</td>\n",
       "      <td>0.0</td>\n",
       "      <td>0.0</td>\n",
       "      <td>0.0</td>\n",
       "      <td>0.0</td>\n",
       "      <td>18.841219</td>\n",
       "      <td>1601.0</td>\n",
       "      <td>1625.0</td>\n",
       "    </tr>\n",
       "    <tr>\n",
       "      <td>5</td>\n",
       "      <td>3.347173</td>\n",
       "      <td>0.0</td>\n",
       "      <td>0.0</td>\n",
       "      <td>0.0</td>\n",
       "      <td>78.0</td>\n",
       "      <td>0.0</td>\n",
       "      <td>0.0</td>\n",
       "      <td>0.0</td>\n",
       "      <td>0.0</td>\n",
       "      <td>0.0</td>\n",
       "      <td>...</td>\n",
       "      <td>0.0</td>\n",
       "      <td>0.0</td>\n",
       "      <td>0.0</td>\n",
       "      <td>0.0</td>\n",
       "      <td>0.0</td>\n",
       "      <td>0.0</td>\n",
       "      <td>0.0</td>\n",
       "      <td>5.413692</td>\n",
       "      <td>1576.0</td>\n",
       "      <td>1602.0</td>\n",
       "    </tr>\n",
       "  </tbody>\n",
       "</table>\n",
       "<p>5 rows × 28 columns</p>\n",
       "</div>"
      ],
      "text/plain": [
       "     active_power  bulk_1  bulk_2  bulk_3  bulk_4  bulk_5  bulk_6  bulk_7  \\\n",
       "key                                                                         \n",
       "1        4.878147     0.0     0.0     0.0    43.0     0.0     0.0     0.0   \n",
       "2        3.052598     0.0     0.0     0.0    73.0     0.0     0.0     0.0   \n",
       "3        2.525882     0.0     0.0     0.0    34.0     0.0     0.0     0.0   \n",
       "4        3.209250     0.0     0.0     0.0    81.0     0.0     0.0     0.0   \n",
       "5        3.347173     0.0     0.0     0.0    78.0     0.0     0.0     0.0   \n",
       "\n",
       "     bulk_8  bulk_9  ...  wire_3  wire_4  wire_5  wire_6  wire_7  wire_8  \\\n",
       "key                  ...                                                   \n",
       "1       0.0     0.0  ...     0.0     0.0     0.0     0.0     0.0     0.0   \n",
       "2       0.0     0.0  ...     0.0     0.0     0.0     0.0     0.0     0.0   \n",
       "3       0.0     0.0  ...     0.0     0.0     0.0     0.0     0.0     0.0   \n",
       "4       0.0     0.0  ...     0.0     0.0     0.0     0.0     0.0     0.0   \n",
       "5       0.0     0.0  ...     0.0     0.0     0.0     0.0     0.0     0.0   \n",
       "\n",
       "     wire_9      gas_1  start_temp  target_temp  \n",
       "key                                              \n",
       "1       0.0  29.749986      1571.0       1613.0  \n",
       "2       0.0  12.555561      1581.0       1602.0  \n",
       "3       0.0  28.554793      1596.0       1599.0  \n",
       "4       0.0  18.841219      1601.0       1625.0  \n",
       "5       0.0   5.413692      1576.0       1602.0  \n",
       "\n",
       "[5 rows x 28 columns]"
      ]
     },
     "execution_count": 57,
     "metadata": {},
     "output_type": "execute_result"
    }
   ],
   "source": [
    "features.head(5)"
   ]
  },
  {
   "cell_type": "markdown",
   "id": "04c7b1a0",
   "metadata": {},
   "source": [
    "Посомтроим на корреляцию итоговых признаков. \n",
    "\n",
    "Для понимания графика корреляции ниже требуется знать следующее:\n",
    "* ряд номер 0 обозначает активную мощность;\n",
    "* ряды с 1 по 15 включительно содержат корреляции по сыпучим присадкам;\n",
    "* ряды с 16 по 24 включительно содержат корреляции по присадкам, подаваемым в виде провода;\n",
    "* ряд 25 это информация о корелляции других признаков с поданным количеством инертного газа;\n",
    "* ряд 26 обозначает корреляции с изначальной температурой партии;\n",
    "* ряд 27 показывает корреляции признаков с финальной температурой партии."
   ]
  },
  {
   "cell_type": "code",
   "execution_count": 58,
   "id": "02be5234",
   "metadata": {},
   "outputs": [
    {
     "data": {
      "image/png": "[encoded data removed]",
      "text/plain": [
       "<Figure size 288x288 with 1 Axes>"
      ]
     },
     "metadata": {
      "needs_background": "light"
     },
     "output_type": "display_data"
    }
   ],
   "source": [
    "plt.matshow(features.corr())\n",
    "plt.show()"
   ]
  },
  {
   "cell_type": "markdown",
   "id": "7b220564",
   "metadata": {},
   "source": [
    "Белая полоса на графике означает что по кабельной присадке номер 5 все данные равны нулю. Так получилось из-за того, что изначально там было всего одно значение, и, судя по всему оно потерялось при отсеве не подходящих партий. \n",
    "\n",
    "Еще на графике можно увидеть очень сильную корреляцию между сыпучей присадкой 9 и кабельной присадкой номер 8. Моя версия, это значит что эти две присадки всегда применяются вместе. Вообще таких комбинаций довольно много, но там корреляции не такие сильные. К примеру, у сыпучих присадок номер 2 и 7 высока корреляция с кабельной присадкой номер 4."
   ]
  },
  {
   "cell_type": "markdown",
   "id": "2089ca26",
   "metadata": {},
   "source": [
    "---"
   ]
  },
  {
   "cell_type": "markdown",
   "id": "5759a4ad",
   "metadata": {},
   "source": [
    "### План дальнейших действий\n",
    "[вернуться к содержанию](#Содержание)"
   ]
  },
  {
   "cell_type": "markdown",
   "id": "e14eead4",
   "metadata": {},
   "source": [
    "1. <b>Подготовка признаков.</b> Полученные данные я разделю на обучающие признаки и целевой. Целевым признаком будет являться окончательная температура стали перед розливом.\n",
    "2. <b>Выбор набора моделей.</b> Я возьму несколько регрессионных моделей, использующих разные алгоритмы (линейные, древо решений, ансамблевые модели, метод ближайших соседей). Так же попробую модели с применением градиентного бустинга.\n",
    "3. <b>Подбор оптимальных гиперпараметров моделей и определение их качества.</b> Используя кросс-валидацию, подберу оптимальные гиперпараметры каждой модели и определю качество каждой модели согласно требуемой метрики.\n",
    "4. <b>Выбор и анализ наилучшей модели.</b> Сравню качесвто моделей используя требуемую метрику и выберу модель наиболее подходящую к задаче. Проанализирую веса признаков, определенные моделью, сделаю выводы, возможно оптимизирую процесс обработки признаков."
   ]
  },
  {
   "cell_type": "markdown",
   "id": "72cb1008",
   "metadata": {},
   "source": [
    "---"
   ]
  },
  {
   "cell_type": "code",
   "execution_count": 60,
   "id": "7ab48a39",
   "metadata": {},
   "outputs": [],
   "source": [
    "features.to_csv('steel_features.csv')"
   ]
  }
 ],
 "metadata": {
  "ExecuteTimeLog": [
   {
    "duration": 3,
    "start_time": "2022-02-22T17:46:19.343Z"
   },
   {
    "duration": 245,
    "start_time": "2022-02-22T17:46:20.004Z"
   },
   {
    "duration": 1173,
    "start_time": "2022-02-22T17:46:24.610Z"
   },
   {
    "duration": 4,
    "start_time": "2022-02-22T17:46:29.014Z"
   },
   {
    "duration": 290,
    "start_time": "2022-02-22T17:46:29.524Z"
   },
   {
    "duration": 3,
    "start_time": "2022-02-22T17:48:45.930Z"
   },
   {
    "duration": 19,
    "start_time": "2022-02-22T17:48:46.666Z"
   },
   {
    "duration": 1216,
    "start_time": "2022-02-22T17:48:53.642Z"
   },
   {
    "duration": 3,
    "start_time": "2022-02-22T17:50:29.160Z"
   },
   {
    "duration": 22,
    "start_time": "2022-02-22T17:50:29.937Z"
   },
   {
    "duration": 49,
    "start_time": "2022-02-22T17:50:32.728Z"
   },
   {
    "duration": 1500,
    "start_time": "2022-02-23T04:04:14.007Z"
   },
   {
    "duration": 4,
    "start_time": "2022-02-23T04:04:15.511Z"
   },
   {
    "duration": 33,
    "start_time": "2022-02-23T04:04:15.519Z"
   },
   {
    "duration": 134,
    "start_time": "2022-02-23T04:04:15.555Z"
   },
   {
    "duration": 17,
    "start_time": "2022-02-23T04:04:15.691Z"
   },
   {
    "duration": 17,
    "start_time": "2022-02-23T04:04:15.710Z"
   },
   {
    "duration": 64,
    "start_time": "2022-02-23T04:04:15.730Z"
   },
   {
    "duration": 5,
    "start_time": "2022-02-23T04:04:15.797Z"
   },
   {
    "duration": 41,
    "start_time": "2022-02-23T04:04:15.805Z"
   },
   {
    "duration": 65,
    "start_time": "2022-02-23T04:04:15.848Z"
   },
   {
    "duration": 4,
    "start_time": "2022-02-23T04:04:15.916Z"
   },
   {
    "duration": 7,
    "start_time": "2022-02-23T04:04:15.923Z"
   },
   {
    "duration": 64,
    "start_time": "2022-02-23T04:04:15.932Z"
   },
   {
    "duration": 32,
    "start_time": "2022-02-23T04:04:15.998Z"
   },
   {
    "duration": 73,
    "start_time": "2022-02-23T04:04:16.032Z"
   },
   {
    "duration": 11,
    "start_time": "2022-02-23T04:04:16.108Z"
   },
   {
    "duration": 15,
    "start_time": "2022-02-23T04:04:16.121Z"
   },
   {
    "duration": 12,
    "start_time": "2022-02-23T04:04:16.138Z"
   },
   {
    "duration": 46,
    "start_time": "2022-02-23T04:04:16.152Z"
   },
   {
    "duration": 473,
    "start_time": "2022-02-23T04:04:16.200Z"
   },
   {
    "duration": -55,
    "start_time": "2022-02-23T04:04:16.731Z"
   },
   {
    "duration": -63,
    "start_time": "2022-02-23T04:04:16.740Z"
   },
   {
    "duration": -88,
    "start_time": "2022-02-23T04:04:16.766Z"
   },
   {
    "duration": 1358,
    "start_time": "2022-02-23T04:04:49.441Z"
   },
   {
    "duration": 3,
    "start_time": "2022-02-23T04:04:50.801Z"
   },
   {
    "duration": 28,
    "start_time": "2022-02-23T04:04:50.809Z"
   },
   {
    "duration": 55,
    "start_time": "2022-02-23T04:04:50.839Z"
   },
   {
    "duration": 19,
    "start_time": "2022-02-23T04:04:50.897Z"
   },
   {
    "duration": 26,
    "start_time": "2022-02-23T04:04:50.918Z"
   },
   {
    "duration": 61,
    "start_time": "2022-02-23T04:04:50.946Z"
   },
   {
    "duration": 5,
    "start_time": "2022-02-23T04:04:51.011Z"
   },
   {
    "duration": 32,
    "start_time": "2022-02-23T04:04:51.019Z"
   },
   {
    "duration": 82,
    "start_time": "2022-02-23T04:04:51.053Z"
   },
   {
    "duration": 5,
    "start_time": "2022-02-23T04:04:51.138Z"
   },
   {
    "duration": 8,
    "start_time": "2022-02-23T04:04:51.146Z"
   },
   {
    "duration": 56,
    "start_time": "2022-02-23T04:04:51.156Z"
   },
   {
    "duration": 20,
    "start_time": "2022-02-23T04:04:51.215Z"
   },
   {
    "duration": 58,
    "start_time": "2022-02-23T04:04:51.237Z"
   },
   {
    "duration": 11,
    "start_time": "2022-02-23T04:04:51.297Z"
   },
   {
    "duration": 19,
    "start_time": "2022-02-23T04:04:51.311Z"
   },
   {
    "duration": 12,
    "start_time": "2022-02-23T04:04:51.333Z"
   },
   {
    "duration": 49,
    "start_time": "2022-02-23T04:04:51.347Z"
   },
   {
    "duration": 36,
    "start_time": "2022-02-23T04:04:51.399Z"
   },
   {
    "duration": 59,
    "start_time": "2022-02-23T04:04:51.438Z"
   },
   {
    "duration": 62,
    "start_time": "2022-02-23T04:04:51.499Z"
   },
   {
    "duration": 14,
    "start_time": "2022-02-23T04:08:10.231Z"
   },
   {
    "duration": 13,
    "start_time": "2022-02-23T04:08:18.269Z"
   },
   {
    "duration": 25,
    "start_time": "2022-02-23T04:14:15.831Z"
   },
   {
    "duration": 78,
    "start_time": "2022-02-23T04:15:04.766Z"
   },
   {
    "duration": 26,
    "start_time": "2022-02-23T04:15:43.370Z"
   },
   {
    "duration": 366,
    "start_time": "2022-02-23T04:16:55.716Z"
   },
   {
    "duration": 11,
    "start_time": "2022-02-23T04:17:01.350Z"
   },
   {
    "duration": 25,
    "start_time": "2022-02-23T04:20:41.922Z"
   },
   {
    "duration": 241,
    "start_time": "2022-02-23T04:23:02.847Z"
   },
   {
    "duration": 23,
    "start_time": "2022-02-23T04:38:37.002Z"
   },
   {
    "duration": 238,
    "start_time": "2022-02-23T04:41:37.426Z"
   },
   {
    "duration": 245,
    "start_time": "2022-02-23T04:41:53.058Z"
   },
   {
    "duration": 245,
    "start_time": "2022-02-23T04:42:09.255Z"
   },
   {
    "duration": 243,
    "start_time": "2022-02-23T04:42:18.681Z"
   },
   {
    "duration": 243,
    "start_time": "2022-02-23T04:43:20.614Z"
   },
   {
    "duration": 23,
    "start_time": "2022-02-23T04:43:43.047Z"
   },
   {
    "duration": 17,
    "start_time": "2022-02-23T04:44:25.652Z"
   },
   {
    "duration": 71,
    "start_time": "2022-02-23T04:44:25.672Z"
   },
   {
    "duration": 4,
    "start_time": "2022-02-23T04:44:30.598Z"
   },
   {
    "duration": 12,
    "start_time": "2022-02-23T04:44:35.042Z"
   },
   {
    "duration": 13,
    "start_time": "2022-02-23T04:44:50.809Z"
   },
   {
    "duration": 14,
    "start_time": "2022-02-23T04:44:56.757Z"
   },
   {
    "duration": 13,
    "start_time": "2022-02-23T04:45:20.172Z"
   },
   {
    "duration": 17,
    "start_time": "2022-02-23T04:46:41.043Z"
   },
   {
    "duration": 12,
    "start_time": "2022-02-23T04:46:42.511Z"
   },
   {
    "duration": 15,
    "start_time": "2022-02-23T04:46:43.860Z"
   },
   {
    "duration": 19,
    "start_time": "2022-02-23T04:49:39.412Z"
   },
   {
    "duration": 10,
    "start_time": "2022-02-23T04:50:00.574Z"
   },
   {
    "duration": 5958,
    "start_time": "2022-02-23T04:50:17.594Z"
   },
   {
    "duration": 6,
    "start_time": "2022-02-23T04:50:41.640Z"
   },
   {
    "duration": 13,
    "start_time": "2022-02-23T04:50:47.138Z"
   },
   {
    "duration": 16,
    "start_time": "2022-02-23T04:51:14.551Z"
   },
   {
    "duration": 10,
    "start_time": "2022-02-23T04:51:17.518Z"
   },
   {
    "duration": 228,
    "start_time": "2022-02-23T04:51:18.748Z"
   },
   {
    "duration": 21,
    "start_time": "2022-02-23T04:51:24.513Z"
   },
   {
    "duration": 13,
    "start_time": "2022-02-23T04:51:27.071Z"
   },
   {
    "duration": 15,
    "start_time": "2022-02-23T04:51:28.055Z"
   },
   {
    "duration": 13,
    "start_time": "2022-02-23T04:51:46.997Z"
   },
   {
    "duration": 19,
    "start_time": "2022-02-23T04:52:29.714Z"
   },
   {
    "duration": 13,
    "start_time": "2022-02-23T04:52:37.812Z"
   },
   {
    "duration": 15,
    "start_time": "2022-02-23T04:52:50.737Z"
   },
   {
    "duration": 13,
    "start_time": "2022-02-23T04:53:03.684Z"
   },
   {
    "duration": 6280,
    "start_time": "2022-02-23T04:55:00.677Z"
   },
   {
    "duration": 293,
    "start_time": "2022-02-23T04:55:12.565Z"
   },
   {
    "duration": 247,
    "start_time": "2022-02-23T04:55:22.136Z"
   },
   {
    "duration": 244,
    "start_time": "2022-02-23T04:55:33.064Z"
   },
   {
    "duration": 245,
    "start_time": "2022-02-23T05:02:57.317Z"
   },
   {
    "duration": 5793,
    "start_time": "2022-02-23T05:04:13.157Z"
   },
   {
    "duration": 2303,
    "start_time": "2022-02-23T05:04:33.317Z"
   },
   {
    "duration": 77,
    "start_time": "2022-02-23T05:04:44.657Z"
   },
   {
    "duration": 253,
    "start_time": "2022-02-23T05:04:49.732Z"
   },
   {
    "duration": 115,
    "start_time": "2022-02-23T05:05:00.658Z"
   },
   {
    "duration": 1624,
    "start_time": "2022-02-23T05:05:04.299Z"
   },
   {
    "duration": 275,
    "start_time": "2022-02-23T05:05:15.578Z"
   },
   {
    "duration": 244,
    "start_time": "2022-02-23T05:08:33.149Z"
   },
   {
    "duration": 7,
    "start_time": "2022-02-23T05:08:39.795Z"
   },
   {
    "duration": 227,
    "start_time": "2022-02-23T05:08:50.728Z"
   },
   {
    "duration": 8,
    "start_time": "2022-02-23T05:09:46.069Z"
   },
   {
    "duration": 12,
    "start_time": "2022-02-23T05:10:10.630Z"
   },
   {
    "duration": 6334,
    "start_time": "2022-02-23T05:16:13.667Z"
   },
   {
    "duration": 5580,
    "start_time": "2022-02-23T05:17:39.962Z"
   },
   {
    "duration": 12,
    "start_time": "2022-02-23T05:20:10.885Z"
   },
   {
    "duration": 32,
    "start_time": "2022-02-23T05:20:13.682Z"
   },
   {
    "duration": 5376,
    "start_time": "2022-02-23T05:20:52.616Z"
   },
   {
    "duration": 262,
    "start_time": "2022-02-23T05:21:10.104Z"
   },
   {
    "duration": 229,
    "start_time": "2022-02-23T05:21:31.847Z"
   },
   {
    "duration": 8,
    "start_time": "2022-02-23T05:21:41.036Z"
   },
   {
    "duration": 6,
    "start_time": "2022-02-23T05:22:11.729Z"
   },
   {
    "duration": 5,
    "start_time": "2022-02-23T05:22:19.006Z"
   },
   {
    "duration": 6,
    "start_time": "2022-02-23T05:22:25.712Z"
   },
   {
    "duration": 6,
    "start_time": "2022-02-23T05:22:32.669Z"
   },
   {
    "duration": 6,
    "start_time": "2022-02-23T05:22:42.988Z"
   },
   {
    "duration": 6,
    "start_time": "2022-02-23T05:22:50.852Z"
   },
   {
    "duration": 52,
    "start_time": "2022-02-23T05:23:30.049Z"
   },
   {
    "duration": 30,
    "start_time": "2022-02-23T05:23:33.232Z"
   },
   {
    "duration": 33,
    "start_time": "2022-02-23T05:28:50.904Z"
   },
   {
    "duration": 26,
    "start_time": "2022-02-23T05:28:51.697Z"
   },
   {
    "duration": 24,
    "start_time": "2022-02-23T05:29:04.097Z"
   },
   {
    "duration": 51,
    "start_time": "2022-02-23T05:35:33.981Z"
   },
   {
    "duration": 42,
    "start_time": "2022-02-23T05:35:37.463Z"
   },
   {
    "duration": 34,
    "start_time": "2022-02-23T05:35:38.248Z"
   },
   {
    "duration": 26,
    "start_time": "2022-02-23T05:35:39.901Z"
   },
   {
    "duration": 23,
    "start_time": "2022-02-23T05:36:29.582Z"
   },
   {
    "duration": 12,
    "start_time": "2022-02-23T05:36:48.696Z"
   },
   {
    "duration": 224,
    "start_time": "2022-02-23T05:37:09.777Z"
   },
   {
    "duration": 10,
    "start_time": "2022-02-23T05:37:15.419Z"
   },
   {
    "duration": 7,
    "start_time": "2022-02-23T05:38:09.057Z"
   },
   {
    "duration": 26,
    "start_time": "2022-02-23T05:38:13.102Z"
   },
   {
    "duration": 7,
    "start_time": "2022-02-23T05:40:49.719Z"
   },
   {
    "duration": 230,
    "start_time": "2022-02-23T05:40:50.895Z"
   },
   {
    "duration": 24,
    "start_time": "2022-02-23T05:40:55.565Z"
   },
   {
    "duration": 46,
    "start_time": "2022-02-23T05:41:02.435Z"
   },
   {
    "duration": 32,
    "start_time": "2022-02-23T05:41:05.228Z"
   },
   {
    "duration": 8,
    "start_time": "2022-02-23T05:41:06.315Z"
   },
   {
    "duration": 31,
    "start_time": "2022-02-23T05:41:08.713Z"
   },
   {
    "duration": 15,
    "start_time": "2022-02-23T05:41:55.315Z"
   },
   {
    "duration": 10,
    "start_time": "2022-02-23T05:42:14.327Z"
   },
   {
    "duration": 14,
    "start_time": "2022-02-23T05:42:22.039Z"
   },
   {
    "duration": 20,
    "start_time": "2022-02-23T05:43:30.744Z"
   },
   {
    "duration": 18,
    "start_time": "2022-02-23T05:45:10.151Z"
   },
   {
    "duration": 16,
    "start_time": "2022-02-23T05:49:50.170Z"
   },
   {
    "duration": 13,
    "start_time": "2022-02-23T05:49:52.513Z"
   },
   {
    "duration": 16,
    "start_time": "2022-02-23T05:49:57.141Z"
   },
   {
    "duration": 9,
    "start_time": "2022-02-23T05:50:08.573Z"
   },
   {
    "duration": 15,
    "start_time": "2022-02-23T05:50:57.744Z"
   },
   {
    "duration": 7,
    "start_time": "2022-02-23T05:53:34.256Z"
   },
   {
    "duration": 14,
    "start_time": "2022-02-23T05:53:35.371Z"
   },
   {
    "duration": 8,
    "start_time": "2022-02-23T05:54:54.675Z"
   },
   {
    "duration": 14,
    "start_time": "2022-02-23T05:54:56.832Z"
   },
   {
    "duration": 231,
    "start_time": "2022-02-23T06:00:16.462Z"
   },
   {
    "duration": 24,
    "start_time": "2022-02-23T06:00:25.836Z"
   },
   {
    "duration": 25,
    "start_time": "2022-02-23T06:00:49.273Z"
   },
   {
    "duration": 24,
    "start_time": "2022-02-23T06:01:59.710Z"
   },
   {
    "duration": 37,
    "start_time": "2022-02-23T06:02:08.530Z"
   },
   {
    "duration": 15,
    "start_time": "2022-02-23T06:04:41.639Z"
   },
   {
    "duration": 14,
    "start_time": "2022-02-23T06:04:46.963Z"
   },
   {
    "duration": 15,
    "start_time": "2022-02-23T06:09:38.520Z"
   },
   {
    "duration": 15,
    "start_time": "2022-02-23T06:09:59.210Z"
   },
   {
    "duration": 25,
    "start_time": "2022-02-23T06:10:21.424Z"
   },
   {
    "duration": 23,
    "start_time": "2022-02-23T06:10:55.269Z"
   },
   {
    "duration": 14,
    "start_time": "2022-02-23T06:13:44.630Z"
   },
   {
    "duration": 14,
    "start_time": "2022-02-23T06:15:19.452Z"
   },
   {
    "duration": 1441,
    "start_time": "2022-02-23T06:18:40.142Z"
   },
   {
    "duration": 3,
    "start_time": "2022-02-23T06:18:41.585Z"
   },
   {
    "duration": 52,
    "start_time": "2022-02-23T06:18:41.595Z"
   },
   {
    "duration": 57,
    "start_time": "2022-02-23T06:18:41.650Z"
   },
   {
    "duration": 17,
    "start_time": "2022-02-23T06:18:41.710Z"
   },
   {
    "duration": 20,
    "start_time": "2022-02-23T06:18:41.730Z"
   },
   {
    "duration": 41,
    "start_time": "2022-02-23T06:18:41.752Z"
   },
   {
    "duration": 23,
    "start_time": "2022-02-23T06:18:41.797Z"
   },
   {
    "duration": 18,
    "start_time": "2022-02-23T06:18:41.823Z"
   },
   {
    "duration": 79,
    "start_time": "2022-02-23T06:18:41.843Z"
   },
   {
    "duration": 8,
    "start_time": "2022-02-23T06:18:41.925Z"
   },
   {
    "duration": 60,
    "start_time": "2022-02-23T06:18:41.936Z"
   },
   {
    "duration": 76,
    "start_time": "2022-02-23T06:18:41.999Z"
   },
   {
    "duration": 63,
    "start_time": "2022-02-23T06:18:42.078Z"
   },
   {
    "duration": 13,
    "start_time": "2022-02-23T06:18:42.144Z"
   },
   {
    "duration": 38,
    "start_time": "2022-02-23T06:18:42.159Z"
   },
   {
    "duration": 29,
    "start_time": "2022-02-23T06:18:42.200Z"
   },
   {
    "duration": 37,
    "start_time": "2022-02-23T06:18:42.231Z"
   },
   {
    "duration": 35,
    "start_time": "2022-02-23T06:18:42.294Z"
   },
   {
    "duration": 9,
    "start_time": "2022-02-23T06:18:42.332Z"
   },
   {
    "duration": 14,
    "start_time": "2022-02-23T06:18:42.344Z"
   },
   {
    "duration": 53,
    "start_time": "2022-02-23T06:18:42.360Z"
   },
   {
    "duration": 33,
    "start_time": "2022-02-23T06:18:42.419Z"
   },
   {
    "duration": 39,
    "start_time": "2022-02-23T06:18:42.454Z"
   },
   {
    "duration": 24,
    "start_time": "2022-02-23T06:18:42.496Z"
   },
   {
    "duration": 14,
    "start_time": "2022-02-23T06:18:42.523Z"
   },
   {
    "duration": 7,
    "start_time": "2022-02-23T06:18:42.539Z"
   },
   {
    "duration": 20,
    "start_time": "2022-02-23T06:18:42.548Z"
   },
   {
    "duration": 30,
    "start_time": "2022-02-23T06:18:42.570Z"
   },
   {
    "duration": 14,
    "start_time": "2022-02-23T06:18:42.603Z"
   },
   {
    "duration": 12,
    "start_time": "2022-02-23T06:18:42.620Z"
   },
   {
    "duration": 14,
    "start_time": "2022-02-23T06:18:42.634Z"
   },
   {
    "duration": 52,
    "start_time": "2022-02-23T06:18:42.650Z"
   },
   {
    "duration": 12,
    "start_time": "2022-02-23T06:18:42.704Z"
   },
   {
    "duration": 17,
    "start_time": "2022-02-23T06:18:42.718Z"
   },
   {
    "duration": 10,
    "start_time": "2022-02-23T06:21:55.698Z"
   },
   {
    "duration": 15,
    "start_time": "2022-02-23T06:21:56.466Z"
   },
   {
    "duration": 16,
    "start_time": "2022-02-23T06:22:16.322Z"
   },
   {
    "duration": 19,
    "start_time": "2022-02-23T06:22:17.198Z"
   },
   {
    "duration": 1489,
    "start_time": "2022-02-23T06:23:02.698Z"
   },
   {
    "duration": 5,
    "start_time": "2022-02-23T06:23:04.189Z"
   },
   {
    "duration": 24,
    "start_time": "2022-02-23T06:23:04.198Z"
   },
   {
    "duration": 70,
    "start_time": "2022-02-23T06:23:04.225Z"
   },
   {
    "duration": 17,
    "start_time": "2022-02-23T06:23:04.298Z"
   },
   {
    "duration": 17,
    "start_time": "2022-02-23T06:23:04.317Z"
   },
   {
    "duration": 13,
    "start_time": "2022-02-23T06:23:04.336Z"
   },
   {
    "duration": 61,
    "start_time": "2022-02-23T06:23:04.353Z"
   },
   {
    "duration": 17,
    "start_time": "2022-02-23T06:23:04.417Z"
   },
   {
    "duration": 64,
    "start_time": "2022-02-23T06:23:04.436Z"
   },
   {
    "duration": 6,
    "start_time": "2022-02-23T06:23:04.502Z"
   },
   {
    "duration": 31,
    "start_time": "2022-02-23T06:23:04.511Z"
   },
   {
    "duration": 82,
    "start_time": "2022-02-23T06:23:04.544Z"
   },
   {
    "duration": 65,
    "start_time": "2022-02-23T06:23:04.628Z"
   },
   {
    "duration": 12,
    "start_time": "2022-02-23T06:23:04.696Z"
   },
   {
    "duration": 15,
    "start_time": "2022-02-23T06:23:04.710Z"
   },
   {
    "duration": 37,
    "start_time": "2022-02-23T06:23:04.727Z"
   },
   {
    "duration": 41,
    "start_time": "2022-02-23T06:23:04.793Z"
   },
   {
    "duration": 31,
    "start_time": "2022-02-23T06:23:04.836Z"
   },
   {
    "duration": 31,
    "start_time": "2022-02-23T06:23:04.870Z"
   },
   {
    "duration": 14,
    "start_time": "2022-02-23T06:23:04.904Z"
   },
   {
    "duration": 21,
    "start_time": "2022-02-23T06:23:04.920Z"
   },
   {
    "duration": 65,
    "start_time": "2022-02-23T06:23:04.946Z"
   },
   {
    "duration": 10,
    "start_time": "2022-02-23T06:23:05.014Z"
   },
   {
    "duration": 26,
    "start_time": "2022-02-23T06:23:05.026Z"
   },
   {
    "duration": 13,
    "start_time": "2022-02-23T06:23:05.054Z"
   },
   {
    "duration": 6,
    "start_time": "2022-02-23T06:23:05.094Z"
   },
   {
    "duration": 18,
    "start_time": "2022-02-23T06:23:05.103Z"
   },
   {
    "duration": 10,
    "start_time": "2022-02-23T06:23:05.123Z"
   },
   {
    "duration": 15,
    "start_time": "2022-02-23T06:23:05.135Z"
   },
   {
    "duration": 49,
    "start_time": "2022-02-23T06:23:05.153Z"
   },
   {
    "duration": 25,
    "start_time": "2022-02-23T06:23:05.205Z"
   },
   {
    "duration": 17,
    "start_time": "2022-02-23T06:23:05.232Z"
   },
   {
    "duration": 12,
    "start_time": "2022-02-23T06:23:05.251Z"
   },
   {
    "duration": 35,
    "start_time": "2022-02-23T06:23:05.266Z"
   },
   {
    "duration": 17,
    "start_time": "2022-02-23T06:23:05.304Z"
   },
   {
    "duration": 17,
    "start_time": "2022-02-23T06:23:05.323Z"
   },
   {
    "duration": 23,
    "start_time": "2022-02-23T06:24:18.647Z"
   },
   {
    "duration": 20,
    "start_time": "2022-02-23T06:24:19.499Z"
   },
   {
    "duration": 30,
    "start_time": "2022-02-23T06:24:40.109Z"
   },
   {
    "duration": 22,
    "start_time": "2022-02-23T06:24:40.784Z"
   },
   {
    "duration": 1534,
    "start_time": "2022-02-23T08:10:50.469Z"
   },
   {
    "duration": 4,
    "start_time": "2022-02-23T08:10:52.007Z"
   },
   {
    "duration": 25,
    "start_time": "2022-02-23T08:10:52.014Z"
   },
   {
    "duration": 72,
    "start_time": "2022-02-23T08:10:52.042Z"
   },
   {
    "duration": 17,
    "start_time": "2022-02-23T08:10:52.116Z"
   },
   {
    "duration": 20,
    "start_time": "2022-02-23T08:10:52.135Z"
   },
   {
    "duration": 54,
    "start_time": "2022-02-23T08:10:52.157Z"
   },
   {
    "duration": 23,
    "start_time": "2022-02-23T08:10:52.217Z"
   },
   {
    "duration": 16,
    "start_time": "2022-02-23T08:10:52.243Z"
   },
   {
    "duration": 71,
    "start_time": "2022-02-23T08:10:52.261Z"
   },
   {
    "duration": 6,
    "start_time": "2022-02-23T08:10:52.334Z"
   },
   {
    "duration": 30,
    "start_time": "2022-02-23T08:10:52.342Z"
   },
   {
    "duration": 56,
    "start_time": "2022-02-23T08:10:52.396Z"
   },
   {
    "duration": 76,
    "start_time": "2022-02-23T08:10:52.454Z"
   },
   {
    "duration": 11,
    "start_time": "2022-02-23T08:10:52.532Z"
   },
   {
    "duration": 18,
    "start_time": "2022-02-23T08:10:52.545Z"
   },
   {
    "duration": 54,
    "start_time": "2022-02-23T08:10:52.566Z"
   },
   {
    "duration": 40,
    "start_time": "2022-02-23T08:10:52.622Z"
   },
   {
    "duration": 62,
    "start_time": "2022-02-23T08:10:52.665Z"
   },
   {
    "duration": 9,
    "start_time": "2022-02-23T08:10:52.729Z"
   },
   {
    "duration": 15,
    "start_time": "2022-02-23T08:10:52.740Z"
   },
   {
    "duration": 50,
    "start_time": "2022-02-23T08:10:52.757Z"
   },
   {
    "duration": 31,
    "start_time": "2022-02-23T08:10:52.812Z"
   },
   {
    "duration": 11,
    "start_time": "2022-02-23T08:10:52.846Z"
   },
   {
    "duration": 47,
    "start_time": "2022-02-23T08:10:52.859Z"
   },
   {
    "duration": 12,
    "start_time": "2022-02-23T08:10:52.909Z"
   },
   {
    "duration": 11,
    "start_time": "2022-02-23T08:10:52.924Z"
   },
   {
    "duration": 20,
    "start_time": "2022-02-23T08:10:52.937Z"
   },
   {
    "duration": 42,
    "start_time": "2022-02-23T08:10:52.959Z"
   },
   {
    "duration": 20,
    "start_time": "2022-02-23T08:10:53.004Z"
   },
   {
    "duration": 14,
    "start_time": "2022-02-23T08:10:53.026Z"
   },
   {
    "duration": 16,
    "start_time": "2022-02-23T08:10:53.042Z"
   },
   {
    "duration": 20,
    "start_time": "2022-02-23T08:10:53.094Z"
   },
   {
    "duration": 13,
    "start_time": "2022-02-23T08:10:53.117Z"
   },
   {
    "duration": 15,
    "start_time": "2022-02-23T08:10:53.133Z"
   },
   {
    "duration": 65,
    "start_time": "2022-02-23T08:10:53.150Z"
   },
   {
    "duration": 19,
    "start_time": "2022-02-23T08:10:53.218Z"
   },
   {
    "duration": 1490,
    "start_time": "2022-02-23T08:14:39.808Z"
   },
   {
    "duration": 4,
    "start_time": "2022-02-23T08:14:41.302Z"
   },
   {
    "duration": 28,
    "start_time": "2022-02-23T08:14:41.311Z"
   },
   {
    "duration": 64,
    "start_time": "2022-02-23T08:14:41.341Z"
   },
   {
    "duration": 19,
    "start_time": "2022-02-23T08:14:41.408Z"
   },
   {
    "duration": 20,
    "start_time": "2022-02-23T08:14:41.429Z"
   },
   {
    "duration": 53,
    "start_time": "2022-02-23T08:14:41.452Z"
   },
   {
    "duration": 23,
    "start_time": "2022-02-23T08:14:41.511Z"
   },
   {
    "duration": 16,
    "start_time": "2022-02-23T08:14:41.537Z"
   },
   {
    "duration": 79,
    "start_time": "2022-02-23T08:14:41.555Z"
   },
   {
    "duration": 6,
    "start_time": "2022-02-23T08:14:41.637Z"
   },
   {
    "duration": 49,
    "start_time": "2022-02-23T08:14:41.645Z"
   },
   {
    "duration": 63,
    "start_time": "2022-02-23T08:14:41.698Z"
   },
   {
    "duration": 73,
    "start_time": "2022-02-23T08:14:41.764Z"
   },
   {
    "duration": 10,
    "start_time": "2022-02-23T08:14:41.840Z"
   },
   {
    "duration": 14,
    "start_time": "2022-02-23T08:14:41.852Z"
   },
   {
    "duration": 65,
    "start_time": "2022-02-23T08:14:41.868Z"
   },
   {
    "duration": 45,
    "start_time": "2022-02-23T08:14:41.936Z"
   },
   {
    "duration": 47,
    "start_time": "2022-02-23T08:14:41.995Z"
   },
   {
    "duration": 10,
    "start_time": "2022-02-23T08:14:42.044Z"
   },
   {
    "duration": 45,
    "start_time": "2022-02-23T08:14:42.057Z"
   },
   {
    "duration": 26,
    "start_time": "2022-02-23T08:14:42.105Z"
   },
   {
    "duration": 61,
    "start_time": "2022-02-23T08:14:42.135Z"
   },
   {
    "duration": 16,
    "start_time": "2022-02-23T08:14:42.199Z"
   },
   {
    "duration": 23,
    "start_time": "2022-02-23T08:14:42.218Z"
   },
   {
    "duration": 14,
    "start_time": "2022-02-23T08:14:42.243Z"
   },
   {
    "duration": 42,
    "start_time": "2022-02-23T08:14:42.260Z"
   },
   {
    "duration": 20,
    "start_time": "2022-02-23T08:14:42.305Z"
   },
   {
    "duration": 10,
    "start_time": "2022-02-23T08:14:42.328Z"
   },
   {
    "duration": 53,
    "start_time": "2022-02-23T08:14:42.341Z"
   },
   {
    "duration": 19,
    "start_time": "2022-02-23T08:14:42.397Z"
   },
   {
    "duration": 16,
    "start_time": "2022-02-23T08:14:42.418Z"
   },
   {
    "duration": 16,
    "start_time": "2022-02-23T08:14:42.436Z"
   },
   {
    "duration": 49,
    "start_time": "2022-02-23T08:14:42.454Z"
   },
   {
    "duration": 18,
    "start_time": "2022-02-23T08:14:42.506Z"
   },
   {
    "duration": 41,
    "start_time": "2022-02-23T08:14:42.527Z"
   },
   {
    "duration": 47,
    "start_time": "2022-02-23T08:14:42.570Z"
   },
   {
    "duration": 9,
    "start_time": "2022-02-23T08:14:55.404Z"
   },
   {
    "duration": 18,
    "start_time": "2022-02-23T08:15:12.772Z"
   },
   {
    "duration": 13,
    "start_time": "2022-02-23T08:15:25.795Z"
   },
   {
    "duration": 24,
    "start_time": "2022-02-23T08:17:19.710Z"
   },
   {
    "duration": 10,
    "start_time": "2022-02-23T08:17:20.660Z"
   },
   {
    "duration": 18,
    "start_time": "2022-02-23T08:17:24.914Z"
   },
   {
    "duration": 1471,
    "start_time": "2022-02-23T08:17:48.748Z"
   },
   {
    "duration": 3,
    "start_time": "2022-02-23T08:17:50.221Z"
   },
   {
    "duration": 46,
    "start_time": "2022-02-23T08:17:50.228Z"
   },
   {
    "duration": 62,
    "start_time": "2022-02-23T08:17:50.277Z"
   },
   {
    "duration": 17,
    "start_time": "2022-02-23T08:17:50.341Z"
   },
   {
    "duration": 45,
    "start_time": "2022-02-23T08:17:50.361Z"
   },
   {
    "duration": 13,
    "start_time": "2022-02-23T08:17:50.410Z"
   },
   {
    "duration": 26,
    "start_time": "2022-02-23T08:17:50.429Z"
   },
   {
    "duration": 58,
    "start_time": "2022-02-23T08:17:50.459Z"
   },
   {
    "duration": 41,
    "start_time": "2022-02-23T08:17:50.519Z"
   },
   {
    "duration": 5,
    "start_time": "2022-02-23T08:17:50.563Z"
   },
   {
    "duration": 37,
    "start_time": "2022-02-23T08:17:50.594Z"
   },
   {
    "duration": 74,
    "start_time": "2022-02-23T08:17:50.633Z"
   },
   {
    "duration": 52,
    "start_time": "2022-02-23T08:17:50.710Z"
   },
   {
    "duration": 35,
    "start_time": "2022-02-23T08:17:50.764Z"
   },
   {
    "duration": 16,
    "start_time": "2022-02-23T08:17:50.802Z"
   },
   {
    "duration": 27,
    "start_time": "2022-02-23T08:17:50.821Z"
   },
   {
    "duration": 78,
    "start_time": "2022-02-23T08:17:50.850Z"
   },
   {
    "duration": 32,
    "start_time": "2022-02-23T08:17:50.930Z"
   },
   {
    "duration": 33,
    "start_time": "2022-02-23T08:17:50.964Z"
   },
   {
    "duration": 17,
    "start_time": "2022-02-23T08:17:51.000Z"
   },
   {
    "duration": 21,
    "start_time": "2022-02-23T08:17:51.020Z"
   },
   {
    "duration": 80,
    "start_time": "2022-02-23T08:17:51.047Z"
   },
   {
    "duration": 10,
    "start_time": "2022-02-23T08:17:51.129Z"
   },
   {
    "duration": 20,
    "start_time": "2022-02-23T08:17:51.142Z"
   },
   {
    "duration": 36,
    "start_time": "2022-02-23T08:17:51.164Z"
   },
   {
    "duration": 16,
    "start_time": "2022-02-23T08:17:51.203Z"
   },
   {
    "duration": 21,
    "start_time": "2022-02-23T08:17:51.222Z"
   },
   {
    "duration": 10,
    "start_time": "2022-02-23T08:17:51.245Z"
   },
   {
    "duration": 40,
    "start_time": "2022-02-23T08:17:51.258Z"
   },
   {
    "duration": 16,
    "start_time": "2022-02-23T08:17:51.302Z"
   },
   {
    "duration": 14,
    "start_time": "2022-02-23T08:17:51.320Z"
   },
   {
    "duration": 15,
    "start_time": "2022-02-23T08:17:51.337Z"
   },
   {
    "duration": 46,
    "start_time": "2022-02-23T08:17:51.354Z"
   },
   {
    "duration": 18,
    "start_time": "2022-02-23T08:17:51.403Z"
   },
   {
    "duration": 24,
    "start_time": "2022-02-23T08:17:51.423Z"
   },
   {
    "duration": 57,
    "start_time": "2022-02-23T08:17:51.450Z"
   },
   {
    "duration": 87,
    "start_time": "2022-02-23T08:27:25.683Z"
   },
   {
    "duration": 118,
    "start_time": "2022-02-23T08:49:09.711Z"
   },
   {
    "duration": 284,
    "start_time": "2022-02-23T08:49:33.243Z"
   },
   {
    "duration": 13,
    "start_time": "2022-02-23T08:49:41.302Z"
   },
   {
    "duration": 5,
    "start_time": "2022-02-23T08:49:56.534Z"
   },
   {
    "duration": 310,
    "start_time": "2022-02-23T08:52:49.279Z"
   },
   {
    "duration": 6,
    "start_time": "2022-02-23T08:52:50.369Z"
   },
   {
    "duration": 363,
    "start_time": "2022-02-23T08:54:37.672Z"
   },
   {
    "duration": 5,
    "start_time": "2022-02-23T08:54:38.664Z"
   },
   {
    "duration": 124,
    "start_time": "2022-02-23T09:12:16.491Z"
   },
   {
    "duration": 84,
    "start_time": "2022-02-23T09:12:22.978Z"
   },
   {
    "duration": 15,
    "start_time": "2022-02-23T09:13:12.462Z"
   },
   {
    "duration": 412,
    "start_time": "2022-02-23T09:13:22.507Z"
   },
   {
    "duration": 385,
    "start_time": "2022-02-23T09:13:28.371Z"
   },
   {
    "duration": 243,
    "start_time": "2022-02-23T09:13:36.307Z"
   },
   {
    "duration": 15,
    "start_time": "2022-02-23T09:17:27.929Z"
   },
   {
    "duration": 21,
    "start_time": "2022-02-23T09:17:39.582Z"
   },
   {
    "duration": 10,
    "start_time": "2022-02-23T09:18:00.476Z"
   },
   {
    "duration": 21,
    "start_time": "2022-02-23T09:18:04.438Z"
   },
   {
    "duration": 10,
    "start_time": "2022-02-23T09:18:11.942Z"
   },
   {
    "duration": 21,
    "start_time": "2022-02-23T09:18:19.314Z"
   },
   {
    "duration": 77,
    "start_time": "2022-02-23T09:21:19.919Z"
   },
   {
    "duration": 70,
    "start_time": "2022-02-23T09:21:54.555Z"
   },
   {
    "duration": 27,
    "start_time": "2022-02-23T09:22:03.865Z"
   },
   {
    "duration": 65,
    "start_time": "2022-02-23T09:23:28.383Z"
   },
   {
    "duration": 17,
    "start_time": "2022-02-23T09:23:31.613Z"
   },
   {
    "duration": 30,
    "start_time": "2022-02-23T09:23:33.408Z"
   },
   {
    "duration": 60,
    "start_time": "2022-02-23T09:23:39.207Z"
   },
   {
    "duration": 37,
    "start_time": "2022-02-23T09:23:42.178Z"
   },
   {
    "duration": 6246,
    "start_time": "2022-02-23T09:29:57.685Z"
   },
   {
    "duration": 16,
    "start_time": "2022-02-23T09:30:11.544Z"
   },
   {
    "duration": 326,
    "start_time": "2022-02-23T09:30:13.538Z"
   },
   {
    "duration": 326,
    "start_time": "2022-02-23T09:30:21.300Z"
   },
   {
    "duration": 320,
    "start_time": "2022-02-23T09:30:33.077Z"
   },
   {
    "duration": 333,
    "start_time": "2022-02-23T09:34:16.130Z"
   },
   {
    "duration": 372,
    "start_time": "2022-02-23T09:34:30.749Z"
   },
   {
    "duration": 698,
    "start_time": "2022-02-23T09:34:53.410Z"
   },
   {
    "duration": 664,
    "start_time": "2022-02-23T09:36:02.283Z"
   },
   {
    "duration": 1105,
    "start_time": "2022-02-23T09:36:14.293Z"
   },
   {
    "duration": 1564,
    "start_time": "2022-02-23T09:36:35.055Z"
   },
   {
    "duration": 1278,
    "start_time": "2022-02-23T09:36:45.454Z"
   },
   {
    "duration": 1226,
    "start_time": "2022-02-23T09:37:29.443Z"
   },
   {
    "duration": 1499,
    "start_time": "2022-02-23T09:38:22.139Z"
   },
   {
    "duration": 3,
    "start_time": "2022-02-23T09:38:23.641Z"
   },
   {
    "duration": 24,
    "start_time": "2022-02-23T09:38:23.648Z"
   },
   {
    "duration": 61,
    "start_time": "2022-02-23T09:38:23.675Z"
   },
   {
    "duration": 1162,
    "start_time": "2022-02-23T09:38:23.738Z"
   },
   {
    "duration": 17,
    "start_time": "2022-02-23T09:38:24.903Z"
   },
   {
    "duration": 19,
    "start_time": "2022-02-23T09:38:24.922Z"
   },
   {
    "duration": 12,
    "start_time": "2022-02-23T09:38:24.946Z"
   },
   {
    "duration": 42,
    "start_time": "2022-02-23T09:38:24.963Z"
   },
   {
    "duration": 18,
    "start_time": "2022-02-23T09:38:25.008Z"
   },
   {
    "duration": 57,
    "start_time": "2022-02-23T09:38:25.029Z"
   },
   {
    "duration": 7,
    "start_time": "2022-02-23T09:38:25.089Z"
   },
   {
    "duration": 33,
    "start_time": "2022-02-23T09:38:25.098Z"
   },
   {
    "duration": 62,
    "start_time": "2022-02-23T09:38:25.134Z"
   },
   {
    "duration": 54,
    "start_time": "2022-02-23T09:38:25.199Z"
   },
   {
    "duration": 11,
    "start_time": "2022-02-23T09:38:25.256Z"
   },
   {
    "duration": 14,
    "start_time": "2022-02-23T09:38:25.270Z"
   },
   {
    "duration": 37,
    "start_time": "2022-02-23T09:38:25.287Z"
   },
   {
    "duration": 41,
    "start_time": "2022-02-23T09:38:25.327Z"
   },
   {
    "duration": 33,
    "start_time": "2022-02-23T09:38:25.371Z"
   },
   {
    "duration": 16,
    "start_time": "2022-02-23T09:38:25.406Z"
   },
   {
    "duration": 14,
    "start_time": "2022-02-23T09:38:25.425Z"
   },
   {
    "duration": 42,
    "start_time": "2022-02-23T09:38:25.444Z"
   },
   {
    "duration": 41,
    "start_time": "2022-02-23T09:38:25.490Z"
   },
   {
    "duration": 11,
    "start_time": "2022-02-23T09:38:25.533Z"
   },
   {
    "duration": 19,
    "start_time": "2022-02-23T09:38:25.611Z"
   },
   {
    "duration": 13,
    "start_time": "2022-02-23T09:38:25.633Z"
   },
   {
    "duration": 10,
    "start_time": "2022-02-23T09:38:25.649Z"
   },
   {
    "duration": 45,
    "start_time": "2022-02-23T09:38:25.661Z"
   },
   {
    "duration": 15,
    "start_time": "2022-02-23T09:38:25.709Z"
   },
   {
    "duration": 18,
    "start_time": "2022-02-23T09:38:25.727Z"
   },
   {
    "duration": 14,
    "start_time": "2022-02-23T09:38:25.748Z"
   },
   {
    "duration": 30,
    "start_time": "2022-02-23T09:38:25.765Z"
   },
   {
    "duration": 24,
    "start_time": "2022-02-23T09:38:25.799Z"
   },
   {
    "duration": 12,
    "start_time": "2022-02-23T09:38:25.826Z"
   },
   {
    "duration": 56,
    "start_time": "2022-02-23T09:38:25.841Z"
   },
   {
    "duration": 33,
    "start_time": "2022-02-23T09:38:25.901Z"
   },
   {
    "duration": 76,
    "start_time": "2022-02-23T09:38:25.938Z"
   },
   {
    "duration": 88,
    "start_time": "2022-02-23T09:38:26.017Z"
   },
   {
    "duration": -123,
    "start_time": "2022-02-23T09:38:26.230Z"
   },
   {
    "duration": -128,
    "start_time": "2022-02-23T09:38:26.237Z"
   },
   {
    "duration": -130,
    "start_time": "2022-02-23T09:38:26.241Z"
   },
   {
    "duration": -132,
    "start_time": "2022-02-23T09:38:26.245Z"
   },
   {
    "duration": 75,
    "start_time": "2022-02-23T09:38:33.138Z"
   },
   {
    "duration": 305,
    "start_time": "2022-02-23T09:38:37.691Z"
   },
   {
    "duration": 26,
    "start_time": "2022-02-23T09:38:38.646Z"
   },
   {
    "duration": 23,
    "start_time": "2022-02-23T09:38:40.504Z"
   },
   {
    "duration": 154,
    "start_time": "2022-02-23T09:42:04.029Z"
   },
   {
    "duration": 14,
    "start_time": "2022-02-23T09:42:21.191Z"
   },
   {
    "duration": 14,
    "start_time": "2022-02-23T09:42:37.208Z"
   },
   {
    "duration": 9,
    "start_time": "2022-02-23T09:47:11.396Z"
   },
   {
    "duration": 8,
    "start_time": "2022-02-23T09:48:40.691Z"
   },
   {
    "duration": 576,
    "start_time": "2022-02-23T09:49:40.725Z"
   },
   {
    "duration": 15,
    "start_time": "2022-02-23T09:50:53.066Z"
   },
   {
    "duration": 14,
    "start_time": "2022-02-23T09:50:55.385Z"
   },
   {
    "duration": 8,
    "start_time": "2022-02-23T09:54:35.503Z"
   },
   {
    "duration": 7,
    "start_time": "2022-02-23T09:58:16.363Z"
   },
   {
    "duration": 29,
    "start_time": "2022-02-23T09:58:18.694Z"
   },
   {
    "duration": 87,
    "start_time": "2022-02-23T10:09:09.097Z"
   },
   {
    "duration": 6639,
    "start_time": "2022-02-23T10:10:59.605Z"
   },
   {
    "duration": 8825,
    "start_time": "2022-02-23T10:11:38.444Z"
   },
   {
    "duration": 67,
    "start_time": "2022-02-23T10:12:17.323Z"
   },
   {
    "duration": 5,
    "start_time": "2022-02-23T10:12:20.165Z"
   },
   {
    "duration": 9165,
    "start_time": "2022-02-23T10:12:22.257Z"
   },
   {
    "duration": 52,
    "start_time": "2022-02-23T10:12:59.259Z"
   },
   {
    "duration": 81,
    "start_time": "2022-02-23T10:13:11.222Z"
   },
   {
    "duration": 105,
    "start_time": "2022-02-23T10:13:42.116Z"
   },
   {
    "duration": 52,
    "start_time": "2022-02-23T10:14:15.961Z"
   },
   {
    "duration": 90,
    "start_time": "2022-02-23T10:14:16.952Z"
   },
   {
    "duration": 99,
    "start_time": "2022-02-23T10:26:55.551Z"
   },
   {
    "duration": 1048,
    "start_time": "2022-02-23T10:27:13.796Z"
   },
   {
    "duration": 6,
    "start_time": "2022-02-23T10:27:41.208Z"
   },
   {
    "duration": 23,
    "start_time": "2022-02-23T10:27:54.070Z"
   },
   {
    "duration": 79,
    "start_time": "2022-02-23T10:30:42.379Z"
   },
   {
    "duration": 22,
    "start_time": "2022-02-23T11:10:32.304Z"
   },
   {
    "duration": 961,
    "start_time": "2022-02-23T11:12:20.466Z"
   },
   {
    "duration": 12,
    "start_time": "2022-02-23T11:12:59.402Z"
   },
   {
    "duration": 11,
    "start_time": "2022-02-23T11:13:09.552Z"
   },
   {
    "duration": 13,
    "start_time": "2022-02-23T11:13:21.418Z"
   },
   {
    "duration": 18,
    "start_time": "2022-02-23T11:13:33.041Z"
   },
   {
    "duration": 5,
    "start_time": "2022-02-23T11:21:16.769Z"
   },
   {
    "duration": 12,
    "start_time": "2022-02-23T11:21:17.679Z"
   },
   {
    "duration": 1641,
    "start_time": "2022-02-23T12:06:22.304Z"
   },
   {
    "duration": 3,
    "start_time": "2022-02-23T12:06:23.948Z"
   },
   {
    "duration": 59,
    "start_time": "2022-02-23T12:06:23.955Z"
   },
   {
    "duration": 58,
    "start_time": "2022-02-23T12:06:24.017Z"
   },
   {
    "duration": 1288,
    "start_time": "2022-02-23T12:06:24.078Z"
   },
   {
    "duration": 16,
    "start_time": "2022-02-23T12:06:25.369Z"
   },
   {
    "duration": 18,
    "start_time": "2022-02-23T12:06:25.393Z"
   },
   {
    "duration": 12,
    "start_time": "2022-02-23T12:06:25.415Z"
   },
   {
    "duration": 864,
    "start_time": "2022-02-23T12:06:25.434Z"
   },
   {
    "duration": 22,
    "start_time": "2022-02-23T12:06:26.301Z"
   },
   {
    "duration": 13,
    "start_time": "2022-02-23T12:06:26.325Z"
   },
   {
    "duration": 66,
    "start_time": "2022-02-23T12:06:26.341Z"
   },
   {
    "duration": 24,
    "start_time": "2022-02-23T12:06:26.410Z"
   },
   {
    "duration": 7,
    "start_time": "2022-02-23T12:06:26.437Z"
   },
   {
    "duration": 84,
    "start_time": "2022-02-23T12:06:26.446Z"
   },
   {
    "duration": 110,
    "start_time": "2022-02-23T12:06:26.533Z"
   },
   {
    "duration": 7,
    "start_time": "2022-02-23T12:06:26.646Z"
   },
   {
    "duration": 61,
    "start_time": "2022-02-23T12:06:26.656Z"
   },
   {
    "duration": 62,
    "start_time": "2022-02-23T12:06:26.720Z"
   },
   {
    "duration": 71,
    "start_time": "2022-02-23T12:06:26.785Z"
   },
   {
    "duration": 12,
    "start_time": "2022-02-23T12:06:26.859Z"
   },
   {
    "duration": 40,
    "start_time": "2022-02-23T12:06:26.874Z"
   },
   {
    "duration": 44,
    "start_time": "2022-02-23T12:06:26.921Z"
   },
   {
    "duration": 90,
    "start_time": "2022-02-23T12:06:26.969Z"
   },
   {
    "duration": 8,
    "start_time": "2022-02-23T12:06:27.062Z"
   },
   {
    "duration": 36,
    "start_time": "2022-02-23T12:06:27.094Z"
   },
   {
    "duration": 44,
    "start_time": "2022-02-23T12:06:27.132Z"
   },
   {
    "duration": 41,
    "start_time": "2022-02-23T12:06:27.195Z"
   },
   {
    "duration": 13,
    "start_time": "2022-02-23T12:06:27.239Z"
   },
   {
    "duration": 47,
    "start_time": "2022-02-23T12:06:27.255Z"
   },
   {
    "duration": 51,
    "start_time": "2022-02-23T12:06:27.305Z"
   },
   {
    "duration": 705,
    "start_time": "2022-02-23T12:06:27.358Z"
   },
   {
    "duration": 4,
    "start_time": "2022-02-23T12:06:28.066Z"
   },
   {
    "duration": 28,
    "start_time": "2022-02-23T12:06:28.072Z"
   },
   {
    "duration": 47,
    "start_time": "2022-02-23T12:06:28.103Z"
   },
   {
    "duration": 10,
    "start_time": "2022-02-23T12:06:28.153Z"
   },
   {
    "duration": 48,
    "start_time": "2022-02-23T12:06:28.166Z"
   },
   {
    "duration": 13,
    "start_time": "2022-02-23T12:06:28.217Z"
   },
   {
    "duration": 11,
    "start_time": "2022-02-23T12:06:28.233Z"
   },
   {
    "duration": 56,
    "start_time": "2022-02-23T12:06:28.247Z"
   },
   {
    "duration": 13,
    "start_time": "2022-02-23T12:06:28.307Z"
   },
   {
    "duration": 15,
    "start_time": "2022-02-23T12:06:28.323Z"
   },
   {
    "duration": 13,
    "start_time": "2022-02-23T12:06:28.340Z"
   },
   {
    "duration": 60,
    "start_time": "2022-02-23T12:06:28.356Z"
   },
   {
    "duration": 18,
    "start_time": "2022-02-23T12:06:28.418Z"
   },
   {
    "duration": 12,
    "start_time": "2022-02-23T12:06:28.439Z"
   },
   {
    "duration": 42,
    "start_time": "2022-02-23T12:06:28.453Z"
   },
   {
    "duration": 25,
    "start_time": "2022-02-23T12:06:28.498Z"
   },
   {
    "duration": 23,
    "start_time": "2022-02-23T12:06:28.526Z"
   },
   {
    "duration": 373,
    "start_time": "2022-02-23T12:06:28.552Z"
   },
   {
    "duration": 33,
    "start_time": "2022-02-23T12:06:28.927Z"
   },
   {
    "duration": 40,
    "start_time": "2022-02-23T12:06:28.962Z"
   },
   {
    "duration": 13,
    "start_time": "2022-02-23T12:07:33.752Z"
   },
   {
    "duration": 558,
    "start_time": "2022-02-24T08:02:21.212Z"
   },
   {
    "duration": 1134,
    "start_time": "2022-02-24T08:02:26.195Z"
   },
   {
    "duration": 2,
    "start_time": "2022-02-24T08:02:27.331Z"
   },
   {
    "duration": 52,
    "start_time": "2022-02-24T08:02:27.337Z"
   },
   {
    "duration": 206,
    "start_time": "2022-02-24T08:02:27.390Z"
   },
   {
    "duration": 733,
    "start_time": "2022-02-24T08:02:27.598Z"
   },
   {
    "duration": 10,
    "start_time": "2022-02-24T08:02:28.333Z"
   },
   {
    "duration": 8,
    "start_time": "2022-02-24T08:02:28.345Z"
   },
   {
    "duration": 4,
    "start_time": "2022-02-24T08:02:28.355Z"
   },
   {
    "duration": 722,
    "start_time": "2022-02-24T08:02:28.360Z"
   },
   {
    "duration": 1452,
    "start_time": "2022-02-24T08:02:27.632Z"
   },
   {
    "duration": 1427,
    "start_time": "2022-02-24T08:02:27.658Z"
   },
   {
    "duration": 1420,
    "start_time": "2022-02-24T08:02:27.666Z"
   },
   {
    "duration": 1412,
    "start_time": "2022-02-24T08:02:27.675Z"
   },
   {
    "duration": 1406,
    "start_time": "2022-02-24T08:02:27.682Z"
   },
   {
    "duration": 1395,
    "start_time": "2022-02-24T08:02:27.694Z"
   },
   {
    "duration": 1388,
    "start_time": "2022-02-24T08:02:27.702Z"
   },
   {
    "duration": 1382,
    "start_time": "2022-02-24T08:02:27.709Z"
   },
   {
    "duration": 1376,
    "start_time": "2022-02-24T08:02:27.716Z"
   },
   {
    "duration": 1369,
    "start_time": "2022-02-24T08:02:27.723Z"
   },
   {
    "duration": 1364,
    "start_time": "2022-02-24T08:02:27.729Z"
   },
   {
    "duration": 1357,
    "start_time": "2022-02-24T08:02:27.737Z"
   },
   {
    "duration": 1352,
    "start_time": "2022-02-24T08:02:27.743Z"
   },
   {
    "duration": 1344,
    "start_time": "2022-02-24T08:02:27.752Z"
   },
   {
    "duration": 1326,
    "start_time": "2022-02-24T08:02:27.771Z"
   },
   {
    "duration": 1319,
    "start_time": "2022-02-24T08:02:27.779Z"
   },
   {
    "duration": 1313,
    "start_time": "2022-02-24T08:02:27.786Z"
   },
   {
    "duration": 1307,
    "start_time": "2022-02-24T08:02:27.793Z"
   },
   {
    "duration": 1301,
    "start_time": "2022-02-24T08:02:27.800Z"
   },
   {
    "duration": 1294,
    "start_time": "2022-02-24T08:02:27.808Z"
   },
   {
    "duration": 1288,
    "start_time": "2022-02-24T08:02:27.815Z"
   },
   {
    "duration": 1281,
    "start_time": "2022-02-24T08:02:27.823Z"
   },
   {
    "duration": 1275,
    "start_time": "2022-02-24T08:02:27.830Z"
   },
   {
    "duration": 1268,
    "start_time": "2022-02-24T08:02:27.837Z"
   },
   {
    "duration": 1261,
    "start_time": "2022-02-24T08:02:27.845Z"
   },
   {
    "duration": 1255,
    "start_time": "2022-02-24T08:02:27.852Z"
   },
   {
    "duration": 1249,
    "start_time": "2022-02-24T08:02:27.859Z"
   },
   {
    "duration": 1242,
    "start_time": "2022-02-24T08:02:27.867Z"
   },
   {
    "duration": 1224,
    "start_time": "2022-02-24T08:02:27.886Z"
   },
   {
    "duration": 1216,
    "start_time": "2022-02-24T08:02:27.895Z"
   },
   {
    "duration": 1210,
    "start_time": "2022-02-24T08:02:27.901Z"
   },
   {
    "duration": 1203,
    "start_time": "2022-02-24T08:02:27.909Z"
   },
   {
    "duration": 1197,
    "start_time": "2022-02-24T08:02:27.916Z"
   },
   {
    "duration": 1191,
    "start_time": "2022-02-24T08:02:27.923Z"
   },
   {
    "duration": 1185,
    "start_time": "2022-02-24T08:02:27.930Z"
   },
   {
    "duration": 1179,
    "start_time": "2022-02-24T08:02:27.937Z"
   },
   {
    "duration": 1172,
    "start_time": "2022-02-24T08:02:27.945Z"
   },
   {
    "duration": 1164,
    "start_time": "2022-02-24T08:02:27.954Z"
   },
   {
    "duration": 1160,
    "start_time": "2022-02-24T08:02:27.960Z"
   },
   {
    "duration": 1153,
    "start_time": "2022-02-24T08:02:27.968Z"
   },
   {
    "duration": 1148,
    "start_time": "2022-02-24T08:02:27.974Z"
   },
   {
    "duration": 1141,
    "start_time": "2022-02-24T08:02:27.981Z"
   },
   {
    "duration": 1123,
    "start_time": "2022-02-24T08:02:28.000Z"
   },
   {
    "duration": 362,
    "start_time": "2022-02-24T08:03:05.744Z"
   },
   {
    "duration": 1131,
    "start_time": "2022-02-24T08:07:19.405Z"
   },
   {
    "duration": 2,
    "start_time": "2022-02-24T08:07:20.538Z"
   },
   {
    "duration": 40,
    "start_time": "2022-02-24T08:07:20.542Z"
   },
   {
    "duration": 34,
    "start_time": "2022-02-24T08:07:20.584Z"
   },
   {
    "duration": 676,
    "start_time": "2022-02-24T08:07:20.620Z"
   },
   {
    "duration": 16,
    "start_time": "2022-02-24T08:07:21.297Z"
   },
   {
    "duration": 25,
    "start_time": "2022-02-24T08:07:21.315Z"
   },
   {
    "duration": 5,
    "start_time": "2022-02-24T08:07:21.342Z"
   },
   {
    "duration": 313,
    "start_time": "2022-02-24T08:07:21.349Z"
   },
   {
    "duration": 9,
    "start_time": "2022-02-24T08:07:21.663Z"
   },
   {
    "duration": 7,
    "start_time": "2022-02-24T08:07:21.673Z"
   },
   {
    "duration": 13,
    "start_time": "2022-02-24T08:07:21.681Z"
   },
   {
    "duration": 9,
    "start_time": "2022-02-24T08:07:21.695Z"
   },
   {
    "duration": 29,
    "start_time": "2022-02-24T08:07:21.706Z"
   },
   {
    "duration": 121,
    "start_time": "2022-02-24T08:07:21.736Z"
   },
   {
    "duration": 47,
    "start_time": "2022-02-24T08:07:21.858Z"
   },
   {
    "duration": 4,
    "start_time": "2022-02-24T08:07:21.907Z"
   },
   {
    "duration": 25,
    "start_time": "2022-02-24T08:07:21.912Z"
   },
   {
    "duration": 160,
    "start_time": "2022-02-24T08:07:21.938Z"
   },
   {
    "duration": 30,
    "start_time": "2022-02-24T08:07:22.100Z"
   },
   {
    "duration": 8,
    "start_time": "2022-02-24T08:07:22.131Z"
   },
   {
    "duration": 9,
    "start_time": "2022-02-24T08:07:22.140Z"
   },
   {
    "duration": 86,
    "start_time": "2022-02-24T08:07:22.152Z"
   },
   {
    "duration": 31,
    "start_time": "2022-02-24T08:07:22.240Z"
   },
   {
    "duration": 4,
    "start_time": "2022-02-24T08:07:22.272Z"
   },
   {
    "duration": 14,
    "start_time": "2022-02-24T08:07:22.277Z"
   },
   {
    "duration": 77,
    "start_time": "2022-02-24T08:07:22.293Z"
   },
   {
    "duration": 18,
    "start_time": "2022-02-24T08:07:22.372Z"
   },
   {
    "duration": 11,
    "start_time": "2022-02-24T08:07:22.391Z"
   },
   {
    "duration": 18,
    "start_time": "2022-02-24T08:07:22.404Z"
   },
   {
    "duration": 86,
    "start_time": "2022-02-24T08:07:22.424Z"
   },
   {
    "duration": 397,
    "start_time": "2022-02-24T08:07:22.511Z"
   },
   {
    "duration": 3,
    "start_time": "2022-02-24T08:07:22.910Z"
   },
   {
    "duration": 32,
    "start_time": "2022-02-24T08:07:22.915Z"
   },
   {
    "duration": 157,
    "start_time": "2022-02-24T08:07:22.949Z"
   },
   {
    "duration": 6,
    "start_time": "2022-02-24T08:07:23.108Z"
   },
   {
    "duration": 46,
    "start_time": "2022-02-24T08:07:23.116Z"
   },
   {
    "duration": 15,
    "start_time": "2022-02-24T08:07:23.163Z"
   },
   {
    "duration": 40,
    "start_time": "2022-02-24T08:07:23.180Z"
   },
   {
    "duration": 25,
    "start_time": "2022-02-24T08:07:23.222Z"
   },
   {
    "duration": 56,
    "start_time": "2022-02-24T08:07:23.249Z"
   },
   {
    "duration": 49,
    "start_time": "2022-02-24T08:07:23.307Z"
   },
   {
    "duration": 17,
    "start_time": "2022-02-24T08:07:23.357Z"
   },
   {
    "duration": 36,
    "start_time": "2022-02-24T08:07:23.375Z"
   },
   {
    "duration": 31,
    "start_time": "2022-02-24T08:07:23.412Z"
   },
   {
    "duration": 22,
    "start_time": "2022-02-24T08:07:23.444Z"
   },
   {
    "duration": 55,
    "start_time": "2022-02-24T08:07:23.468Z"
   },
   {
    "duration": 61,
    "start_time": "2022-02-24T08:07:23.525Z"
   },
   {
    "duration": 20,
    "start_time": "2022-02-24T08:07:23.588Z"
   },
   {
    "duration": 206,
    "start_time": "2022-02-24T08:07:23.610Z"
   },
   {
    "duration": 15,
    "start_time": "2022-02-24T08:07:23.817Z"
   },
   {
    "duration": 23,
    "start_time": "2022-02-24T08:07:23.834Z"
   },
   {
    "duration": 14,
    "start_time": "2022-02-24T08:15:50.903Z"
   },
   {
    "duration": 6,
    "start_time": "2022-02-24T08:36:43.538Z"
   },
   {
    "duration": 10,
    "start_time": "2022-02-24T08:36:51.678Z"
   },
   {
    "duration": 5,
    "start_time": "2022-02-24T08:37:51.231Z"
   },
   {
    "duration": 13,
    "start_time": "2022-02-24T08:38:07.903Z"
   },
   {
    "duration": 8,
    "start_time": "2022-02-24T08:38:37.495Z"
   },
   {
    "duration": 8,
    "start_time": "2022-02-24T08:43:41.140Z"
   },
   {
    "duration": 9,
    "start_time": "2022-02-24T09:10:53.309Z"
   },
   {
    "duration": 4,
    "start_time": "2022-02-24T09:11:05.350Z"
   },
   {
    "duration": 15,
    "start_time": "2022-02-24T09:11:18.440Z"
   },
   {
    "duration": 15,
    "start_time": "2022-02-24T09:12:02.898Z"
   },
   {
    "duration": 8,
    "start_time": "2022-02-24T09:14:55.355Z"
   },
   {
    "duration": 160,
    "start_time": "2022-02-24T09:18:04.718Z"
   },
   {
    "duration": 6,
    "start_time": "2022-02-24T09:20:25.943Z"
   },
   {
    "duration": 24,
    "start_time": "2022-02-24T09:21:00.097Z"
   },
   {
    "duration": 7,
    "start_time": "2022-02-24T09:21:06.608Z"
   },
   {
    "duration": 678,
    "start_time": "2022-02-24T09:21:41.344Z"
   },
   {
    "duration": 552,
    "start_time": "2022-02-24T09:21:49.989Z"
   },
   {
    "duration": 539,
    "start_time": "2022-02-24T09:22:08.266Z"
   },
   {
    "duration": 23,
    "start_time": "2022-02-24T09:22:15.889Z"
   },
   {
    "duration": 9,
    "start_time": "2022-02-24T09:22:19.354Z"
   },
   {
    "duration": 4,
    "start_time": "2022-02-24T09:22:55.901Z"
   },
   {
    "duration": 546,
    "start_time": "2022-02-24T09:23:26.735Z"
   },
   {
    "duration": 1135,
    "start_time": "2022-02-24T09:24:50.753Z"
   },
   {
    "duration": 620,
    "start_time": "2022-02-24T09:26:26.337Z"
   },
   {
    "duration": 539,
    "start_time": "2022-02-24T09:26:31.994Z"
   },
   {
    "duration": 22,
    "start_time": "2022-02-24T09:27:55.096Z"
   },
   {
    "duration": 8,
    "start_time": "2022-02-24T09:27:57.886Z"
   },
   {
    "duration": 461,
    "start_time": "2022-02-24T09:28:11.802Z"
   },
   {
    "duration": 8,
    "start_time": "2022-02-24T09:28:24.794Z"
   },
   {
    "duration": 9,
    "start_time": "2022-02-24T09:29:45.064Z"
   },
   {
    "duration": 15,
    "start_time": "2022-02-24T09:30:24.782Z"
   },
   {
    "duration": 17,
    "start_time": "2022-02-24T09:30:34.834Z"
   },
   {
    "duration": 25,
    "start_time": "2022-02-24T09:31:25.323Z"
   },
   {
    "duration": 27,
    "start_time": "2022-02-24T09:31:49.694Z"
   },
   {
    "duration": 27,
    "start_time": "2022-02-24T09:32:36.640Z"
   },
   {
    "duration": 23,
    "start_time": "2022-02-24T09:34:23.841Z"
   },
   {
    "duration": 114,
    "start_time": "2022-02-24T09:34:27.747Z"
   },
   {
    "duration": 5,
    "start_time": "2022-02-24T09:34:35.483Z"
   },
   {
    "duration": 117,
    "start_time": "2022-02-24T09:34:44.984Z"
   },
   {
    "duration": 21,
    "start_time": "2022-02-24T09:34:55.404Z"
   },
   {
    "duration": 7,
    "start_time": "2022-02-24T09:34:56.146Z"
   },
   {
    "duration": 22,
    "start_time": "2022-02-24T09:35:13.391Z"
   },
   {
    "duration": 7,
    "start_time": "2022-02-24T09:35:15.597Z"
   },
   {
    "duration": 356,
    "start_time": "2022-02-24T09:36:51.045Z"
   },
   {
    "duration": 28,
    "start_time": "2022-02-24T09:38:00.454Z"
   },
   {
    "duration": 39,
    "start_time": "2022-02-24T09:38:41.487Z"
   },
   {
    "duration": 10,
    "start_time": "2022-02-24T09:39:36.043Z"
   },
   {
    "duration": 8,
    "start_time": "2022-02-24T09:39:48.604Z"
   },
   {
    "duration": 4,
    "start_time": "2022-02-24T09:46:10.754Z"
   },
   {
    "duration": 19,
    "start_time": "2022-02-24T09:49:51.478Z"
   },
   {
    "duration": 53,
    "start_time": "2022-02-24T09:50:12.471Z"
   },
   {
    "duration": 9,
    "start_time": "2022-02-24T09:51:38.132Z"
   },
   {
    "duration": 46,
    "start_time": "2022-02-24T09:51:45.687Z"
   },
   {
    "duration": 6,
    "start_time": "2022-02-24T10:34:25.527Z"
   },
   {
    "duration": 7,
    "start_time": "2022-02-24T10:36:34.194Z"
   },
   {
    "duration": 9,
    "start_time": "2022-02-24T10:36:45.593Z"
   },
   {
    "duration": 8,
    "start_time": "2022-02-24T10:38:33.482Z"
   },
   {
    "duration": 7,
    "start_time": "2022-02-24T10:38:58.179Z"
   },
   {
    "duration": 15,
    "start_time": "2022-02-24T10:40:07.751Z"
   },
   {
    "duration": 7,
    "start_time": "2022-02-24T10:40:08.535Z"
   },
   {
    "duration": 7,
    "start_time": "2022-02-24T10:40:09.029Z"
   },
   {
    "duration": 9,
    "start_time": "2022-02-24T10:40:09.816Z"
   },
   {
    "duration": 12,
    "start_time": "2022-02-24T10:40:10.284Z"
   },
   {
    "duration": 9,
    "start_time": "2022-02-24T10:40:28.860Z"
   },
   {
    "duration": 7,
    "start_time": "2022-02-24T10:40:34.727Z"
   },
   {
    "duration": 14,
    "start_time": "2022-02-24T10:40:37.862Z"
   },
   {
    "duration": 7,
    "start_time": "2022-02-24T10:40:44.761Z"
   },
   {
    "duration": 7,
    "start_time": "2022-02-24T10:40:45.425Z"
   },
   {
    "duration": 9,
    "start_time": "2022-02-24T10:40:46.367Z"
   },
   {
    "duration": 10,
    "start_time": "2022-02-24T10:40:49.366Z"
   },
   {
    "duration": 60,
    "start_time": "2022-02-24T10:43:06.358Z"
   },
   {
    "duration": 46,
    "start_time": "2022-02-24T10:43:13.616Z"
   },
   {
    "duration": 13,
    "start_time": "2022-02-24T10:43:26.262Z"
   },
   {
    "duration": 10,
    "start_time": "2022-02-24T10:43:27.247Z"
   },
   {
    "duration": 10,
    "start_time": "2022-02-24T11:04:10.489Z"
   },
   {
    "duration": 8,
    "start_time": "2022-02-24T11:04:23.001Z"
   },
   {
    "duration": 16,
    "start_time": "2022-02-24T11:04:23.824Z"
   },
   {
    "duration": 10,
    "start_time": "2022-02-24T11:04:24.472Z"
   },
   {
    "duration": 10,
    "start_time": "2022-02-24T11:04:25.045Z"
   },
   {
    "duration": 11,
    "start_time": "2022-02-24T11:04:25.588Z"
   },
   {
    "duration": 8,
    "start_time": "2022-02-24T11:05:51.309Z"
   },
   {
    "duration": 8,
    "start_time": "2022-02-24T11:06:06.605Z"
   },
   {
    "duration": 9,
    "start_time": "2022-02-24T11:06:06.995Z"
   },
   {
    "duration": 7,
    "start_time": "2022-02-24T11:06:07.572Z"
   },
   {
    "duration": 8,
    "start_time": "2022-02-24T11:06:08.107Z"
   },
   {
    "duration": 43,
    "start_time": "2022-02-24T11:06:24.451Z"
   },
   {
    "duration": 8,
    "start_time": "2022-02-24T11:06:34.338Z"
   },
   {
    "duration": 7,
    "start_time": "2022-02-24T11:06:50.717Z"
   },
   {
    "duration": 8,
    "start_time": "2022-02-24T11:06:54.452Z"
   },
   {
    "duration": 2,
    "start_time": "2022-02-24T11:07:30.256Z"
   },
   {
    "duration": 8,
    "start_time": "2022-02-24T11:07:30.887Z"
   },
   {
    "duration": 13,
    "start_time": "2022-02-24T11:07:31.121Z"
   },
   {
    "duration": 11,
    "start_time": "2022-02-24T11:07:31.392Z"
   },
   {
    "duration": 10,
    "start_time": "2022-02-24T11:07:31.639Z"
   },
   {
    "duration": 2,
    "start_time": "2022-02-24T11:09:44.299Z"
   },
   {
    "duration": 9,
    "start_time": "2022-02-24T11:09:44.546Z"
   },
   {
    "duration": 13,
    "start_time": "2022-02-24T11:09:44.771Z"
   },
   {
    "duration": 10,
    "start_time": "2022-02-24T11:09:45.012Z"
   },
   {
    "duration": 10,
    "start_time": "2022-02-24T11:09:45.180Z"
   },
   {
    "duration": 9,
    "start_time": "2022-02-24T11:10:35.700Z"
   },
   {
    "duration": 10,
    "start_time": "2022-02-24T11:10:49.587Z"
   },
   {
    "duration": 8,
    "start_time": "2022-02-24T11:11:06.986Z"
   },
   {
    "duration": 10,
    "start_time": "2022-02-24T11:11:15.083Z"
   },
   {
    "duration": 6,
    "start_time": "2022-02-24T11:11:27.357Z"
   },
   {
    "duration": 213,
    "start_time": "2022-02-26T08:39:03.573Z"
   },
   {
    "duration": 1156,
    "start_time": "2022-02-26T08:39:08.168Z"
   },
   {
    "duration": 3,
    "start_time": "2022-02-26T08:39:09.325Z"
   },
   {
    "duration": 27,
    "start_time": "2022-02-26T08:39:09.330Z"
   },
   {
    "duration": 69,
    "start_time": "2022-02-26T08:39:09.359Z"
   },
   {
    "duration": 745,
    "start_time": "2022-02-26T08:39:09.430Z"
   },
   {
    "duration": 11,
    "start_time": "2022-02-26T08:39:10.177Z"
   },
   {
    "duration": 23,
    "start_time": "2022-02-26T08:39:10.190Z"
   },
   {
    "duration": 6,
    "start_time": "2022-02-26T08:39:10.216Z"
   },
   {
    "duration": 360,
    "start_time": "2022-02-26T08:39:10.224Z"
   },
   {
    "duration": 11,
    "start_time": "2022-02-26T08:39:10.586Z"
   },
   {
    "duration": 16,
    "start_time": "2022-02-26T08:39:10.611Z"
   },
   {
    "duration": 16,
    "start_time": "2022-02-26T08:39:10.629Z"
   },
   {
    "duration": 78,
    "start_time": "2022-02-26T08:39:10.646Z"
   },
   {
    "duration": 57,
    "start_time": "2022-02-26T08:39:10.725Z"
   },
   {
    "duration": 4,
    "start_time": "2022-02-26T08:39:10.784Z"
   },
   {
    "duration": 23,
    "start_time": "2022-02-26T08:39:10.811Z"
   },
   {
    "duration": 93,
    "start_time": "2022-02-26T08:39:10.835Z"
   },
   {
    "duration": 33,
    "start_time": "2022-02-26T08:39:10.930Z"
   },
   {
    "duration": 9,
    "start_time": "2022-02-26T08:39:10.966Z"
   },
   {
    "duration": 35,
    "start_time": "2022-02-26T08:39:10.977Z"
   },
   {
    "duration": 26,
    "start_time": "2022-02-26T08:39:11.015Z"
   },
   {
    "duration": 41,
    "start_time": "2022-02-26T08:39:11.043Z"
   },
   {
    "duration": 25,
    "start_time": "2022-02-26T08:39:11.088Z"
   },
   {
    "duration": 22,
    "start_time": "2022-02-26T08:39:11.115Z"
   },
   {
    "duration": 29,
    "start_time": "2022-02-26T08:39:11.138Z"
   },
   {
    "duration": 43,
    "start_time": "2022-02-26T08:39:11.169Z"
   },
   {
    "duration": 8,
    "start_time": "2022-02-26T08:39:11.214Z"
   },
   {
    "duration": 11,
    "start_time": "2022-02-26T08:39:11.224Z"
   },
   {
    "duration": 46,
    "start_time": "2022-02-26T08:39:11.236Z"
   },
   {
    "duration": 489,
    "start_time": "2022-02-26T08:39:11.284Z"
   },
   {
    "duration": 4,
    "start_time": "2022-02-26T08:39:11.775Z"
   },
   {
    "duration": 21,
    "start_time": "2022-02-26T08:39:11.781Z"
   },
   {
    "duration": 45,
    "start_time": "2022-02-26T08:39:11.804Z"
   },
   {
    "duration": 7,
    "start_time": "2022-02-26T08:39:11.851Z"
   },
   {
    "duration": 17,
    "start_time": "2022-02-26T08:39:11.860Z"
   },
   {
    "duration": 2,
    "start_time": "2022-02-26T08:39:11.879Z"
   },
   {
    "duration": 11,
    "start_time": "2022-02-26T08:39:11.883Z"
   },
   {
    "duration": 21,
    "start_time": "2022-02-26T08:39:11.896Z"
   },
   {
    "duration": 12,
    "start_time": "2022-02-26T08:39:11.919Z"
   },
   {
    "duration": 11,
    "start_time": "2022-02-26T08:39:11.933Z"
   },
   {
    "duration": 7,
    "start_time": "2022-02-26T08:39:11.946Z"
   },
   {
    "duration": 15,
    "start_time": "2022-02-26T08:39:11.955Z"
   },
   {
    "duration": 43,
    "start_time": "2022-02-26T08:39:11.972Z"
   },
   {
    "duration": 16,
    "start_time": "2022-02-26T08:39:12.017Z"
   },
   {
    "duration": 12,
    "start_time": "2022-02-26T08:39:12.036Z"
   },
   {
    "duration": 14,
    "start_time": "2022-02-26T08:39:12.050Z"
   },
   {
    "duration": 33,
    "start_time": "2022-02-26T08:39:12.066Z"
   },
   {
    "duration": 14,
    "start_time": "2022-02-26T08:39:12.100Z"
   },
   {
    "duration": 25,
    "start_time": "2022-02-26T08:39:12.116Z"
   },
   {
    "duration": 14,
    "start_time": "2022-02-26T08:39:12.143Z"
   },
   {
    "duration": 17,
    "start_time": "2022-02-26T08:39:12.159Z"
   },
   {
    "duration": 178,
    "start_time": "2022-02-26T08:39:12.178Z"
   },
   {
    "duration": 3,
    "start_time": "2022-02-26T08:39:12.358Z"
   },
   {
    "duration": 14,
    "start_time": "2022-02-26T08:40:31.064Z"
   },
   {
    "duration": 34,
    "start_time": "2022-02-26T08:41:13.929Z"
   },
   {
    "duration": 8,
    "start_time": "2022-02-26T08:41:28.497Z"
   },
   {
    "duration": 15,
    "start_time": "2022-02-26T08:41:29.445Z"
   },
   {
    "duration": 12,
    "start_time": "2022-02-26T08:41:39.608Z"
   },
   {
    "duration": 17,
    "start_time": "2022-02-26T08:42:04.653Z"
   },
   {
    "duration": 9,
    "start_time": "2022-02-26T08:44:20.004Z"
   },
   {
    "duration": 275,
    "start_time": "2022-02-26T08:50:08.498Z"
   },
   {
    "duration": 4,
    "start_time": "2022-02-26T08:50:12.757Z"
   },
   {
    "duration": 246,
    "start_time": "2022-02-26T08:50:19.133Z"
   },
   {
    "duration": 10,
    "start_time": "2022-02-26T08:50:25.021Z"
   },
   {
    "duration": 12,
    "start_time": "2022-02-26T08:50:25.824Z"
   },
   {
    "duration": 11,
    "start_time": "2022-02-26T08:53:08.661Z"
   },
   {
    "duration": 10,
    "start_time": "2022-02-26T08:54:05.305Z"
   },
   {
    "duration": 7,
    "start_time": "2022-02-26T08:54:08.367Z"
   },
   {
    "duration": 15,
    "start_time": "2022-02-26T08:54:17.868Z"
   },
   {
    "duration": 13,
    "start_time": "2022-02-26T08:54:21.023Z"
   },
   {
    "duration": 9,
    "start_time": "2022-02-26T08:55:07.852Z"
   },
   {
    "duration": 11,
    "start_time": "2022-02-26T08:55:08.557Z"
   },
   {
    "duration": 16,
    "start_time": "2022-02-26T08:55:11.469Z"
   },
   {
    "duration": 15,
    "start_time": "2022-02-26T08:55:14.783Z"
   },
   {
    "duration": 7,
    "start_time": "2022-02-26T08:56:33.931Z"
   },
   {
    "duration": 13,
    "start_time": "2022-02-26T09:03:07.823Z"
   },
   {
    "duration": 7,
    "start_time": "2022-02-26T09:03:10.100Z"
   },
   {
    "duration": 15,
    "start_time": "2022-02-26T09:03:27.696Z"
   },
   {
    "duration": 13,
    "start_time": "2022-02-26T09:03:29.106Z"
   },
   {
    "duration": 10,
    "start_time": "2022-02-26T09:04:52.965Z"
   },
   {
    "duration": 9,
    "start_time": "2022-02-26T09:09:59.881Z"
   },
   {
    "duration": 122,
    "start_time": "2022-02-26T09:11:17.325Z"
   },
   {
    "duration": 4,
    "start_time": "2022-02-26T09:11:18.050Z"
   },
   {
    "duration": 141,
    "start_time": "2022-02-26T09:11:45.708Z"
   },
   {
    "duration": 17,
    "start_time": "2022-02-26T09:11:46.534Z"
   },
   {
    "duration": 191,
    "start_time": "2022-02-26T09:12:09.597Z"
   },
   {
    "duration": 3,
    "start_time": "2022-02-26T09:14:45.586Z"
   },
   {
    "duration": 3,
    "start_time": "2022-02-26T09:14:54.592Z"
   },
   {
    "duration": 7,
    "start_time": "2022-02-26T09:14:58.362Z"
   },
   {
    "duration": 5,
    "start_time": "2022-02-26T09:17:21.509Z"
   },
   {
    "duration": 8,
    "start_time": "2022-02-26T09:17:30.080Z"
   },
   {
    "duration": 333,
    "start_time": "2022-02-26T09:17:49.056Z"
   },
   {
    "duration": 4,
    "start_time": "2022-02-26T09:17:54.347Z"
   },
   {
    "duration": 7,
    "start_time": "2022-02-26T09:17:57.758Z"
   },
   {
    "duration": 5,
    "start_time": "2022-02-26T09:18:06.701Z"
   },
   {
    "duration": 8,
    "start_time": "2022-02-26T09:18:09.265Z"
   },
   {
    "duration": 180,
    "start_time": "2022-02-26T09:19:27.795Z"
   },
   {
    "duration": 7,
    "start_time": "2022-02-26T09:19:47.565Z"
   },
   {
    "duration": 11,
    "start_time": "2022-02-26T09:19:56.985Z"
   },
   {
    "duration": 11,
    "start_time": "2022-02-26T09:20:15.681Z"
   },
   {
    "duration": 24,
    "start_time": "2022-02-26T09:20:16.280Z"
   },
   {
    "duration": 29,
    "start_time": "2022-02-26T09:21:10.892Z"
   },
   {
    "duration": 29,
    "start_time": "2022-02-26T09:21:13.822Z"
   },
   {
    "duration": 9,
    "start_time": "2022-02-26T09:21:48.013Z"
   },
   {
    "duration": 10,
    "start_time": "2022-02-26T09:21:49.198Z"
   },
   {
    "duration": 9,
    "start_time": "2022-02-26T09:22:13.341Z"
   },
   {
    "duration": 13,
    "start_time": "2022-02-26T09:22:19.194Z"
   },
   {
    "duration": 15,
    "start_time": "2022-02-26T09:22:24.209Z"
   },
   {
    "duration": 7,
    "start_time": "2022-02-26T09:22:25.651Z"
   },
   {
    "duration": 1148,
    "start_time": "2022-02-26T09:22:32.610Z"
   },
   {
    "duration": 2,
    "start_time": "2022-02-26T09:22:33.760Z"
   },
   {
    "duration": 27,
    "start_time": "2022-02-26T09:22:33.764Z"
   },
   {
    "duration": 49,
    "start_time": "2022-02-26T09:22:33.793Z"
   },
   {
    "duration": 762,
    "start_time": "2022-02-26T09:22:33.844Z"
   },
   {
    "duration": 12,
    "start_time": "2022-02-26T09:22:34.612Z"
   },
   {
    "duration": 10,
    "start_time": "2022-02-26T09:22:34.626Z"
   },
   {
    "duration": 5,
    "start_time": "2022-02-26T09:22:34.638Z"
   },
   {
    "duration": 375,
    "start_time": "2022-02-26T09:22:34.645Z"
   },
   {
    "duration": 10,
    "start_time": "2022-02-26T09:22:35.022Z"
   },
   {
    "duration": 16,
    "start_time": "2022-02-26T09:22:35.034Z"
   },
   {
    "duration": 16,
    "start_time": "2022-02-26T09:22:35.051Z"
   },
   {
    "duration": 54,
    "start_time": "2022-02-26T09:22:35.069Z"
   },
   {
    "duration": 54,
    "start_time": "2022-02-26T09:22:35.125Z"
   },
   {
    "duration": 4,
    "start_time": "2022-02-26T09:22:35.181Z"
   },
   {
    "duration": 41,
    "start_time": "2022-02-26T09:22:35.187Z"
   },
   {
    "duration": 37,
    "start_time": "2022-02-26T09:22:35.229Z"
   },
   {
    "duration": 45,
    "start_time": "2022-02-26T09:22:35.267Z"
   },
   {
    "duration": 8,
    "start_time": "2022-02-26T09:22:35.314Z"
   },
   {
    "duration": 10,
    "start_time": "2022-02-26T09:22:35.324Z"
   },
   {
    "duration": 28,
    "start_time": "2022-02-26T09:22:35.335Z"
   },
   {
    "duration": 54,
    "start_time": "2022-02-26T09:22:35.367Z"
   },
   {
    "duration": 4,
    "start_time": "2022-02-26T09:22:35.424Z"
   },
   {
    "duration": 21,
    "start_time": "2022-02-26T09:22:35.429Z"
   },
   {
    "duration": 28,
    "start_time": "2022-02-26T09:22:35.451Z"
   },
   {
    "duration": 40,
    "start_time": "2022-02-26T09:22:35.481Z"
   },
   {
    "duration": 6,
    "start_time": "2022-02-26T09:22:35.523Z"
   },
   {
    "duration": 11,
    "start_time": "2022-02-26T09:22:35.531Z"
   },
   {
    "duration": 34,
    "start_time": "2022-02-26T09:22:35.544Z"
   },
   {
    "duration": 477,
    "start_time": "2022-02-26T09:22:35.580Z"
   },
   {
    "duration": 4,
    "start_time": "2022-02-26T09:22:36.058Z"
   },
   {
    "duration": 13,
    "start_time": "2022-02-26T09:22:36.063Z"
   },
   {
    "duration": 47,
    "start_time": "2022-02-26T09:22:36.078Z"
   },
   {
    "duration": 7,
    "start_time": "2022-02-26T09:22:36.127Z"
   },
   {
    "duration": 16,
    "start_time": "2022-02-26T09:22:36.136Z"
   },
   {
    "duration": 7,
    "start_time": "2022-02-26T09:22:36.153Z"
   },
   {
    "duration": 10,
    "start_time": "2022-02-26T09:22:36.162Z"
   },
   {
    "duration": 9,
    "start_time": "2022-02-26T09:22:36.174Z"
   },
   {
    "duration": 34,
    "start_time": "2022-02-26T09:22:36.185Z"
   },
   {
    "duration": 12,
    "start_time": "2022-02-26T09:22:36.221Z"
   },
   {
    "duration": 9,
    "start_time": "2022-02-26T09:22:36.235Z"
   },
   {
    "duration": 7,
    "start_time": "2022-02-26T09:22:36.246Z"
   },
   {
    "duration": 21,
    "start_time": "2022-02-26T09:22:36.255Z"
   },
   {
    "duration": 6,
    "start_time": "2022-02-26T09:22:36.278Z"
   },
   {
    "duration": 17,
    "start_time": "2022-02-26T09:22:36.312Z"
   },
   {
    "duration": 6,
    "start_time": "2022-02-26T09:22:36.330Z"
   },
   {
    "duration": 7,
    "start_time": "2022-02-26T09:22:36.337Z"
   },
   {
    "duration": 149,
    "start_time": "2022-02-26T09:22:36.346Z"
   },
   {
    "duration": 31,
    "start_time": "2022-02-26T09:22:36.497Z"
   },
   {
    "duration": 29,
    "start_time": "2022-02-26T09:22:36.530Z"
   },
   {
    "duration": 11,
    "start_time": "2022-02-26T09:22:36.561Z"
   },
   {
    "duration": 10,
    "start_time": "2022-02-26T09:22:51.854Z"
   },
   {
    "duration": 4,
    "start_time": "2022-02-26T09:23:37.290Z"
   },
   {
    "duration": 9,
    "start_time": "2022-02-26T09:23:39.161Z"
   },
   {
    "duration": 9,
    "start_time": "2022-02-26T09:24:25.517Z"
   },
   {
    "duration": 16,
    "start_time": "2022-02-26T09:24:30.380Z"
   },
   {
    "duration": 1129,
    "start_time": "2022-02-26T09:24:38.419Z"
   },
   {
    "duration": 2,
    "start_time": "2022-02-26T09:24:39.550Z"
   },
   {
    "duration": 23,
    "start_time": "2022-02-26T09:24:39.554Z"
   },
   {
    "duration": 40,
    "start_time": "2022-02-26T09:24:39.579Z"
   },
   {
    "duration": 778,
    "start_time": "2022-02-26T09:24:39.620Z"
   },
   {
    "duration": 21,
    "start_time": "2022-02-26T09:24:40.399Z"
   },
   {
    "duration": 11,
    "start_time": "2022-02-26T09:24:40.422Z"
   },
   {
    "duration": 6,
    "start_time": "2022-02-26T09:24:40.436Z"
   },
   {
    "duration": 388,
    "start_time": "2022-02-26T09:24:40.444Z"
   },
   {
    "duration": 11,
    "start_time": "2022-02-26T09:24:40.834Z"
   },
   {
    "duration": 19,
    "start_time": "2022-02-26T09:24:40.846Z"
   },
   {
    "duration": 15,
    "start_time": "2022-02-26T09:24:40.867Z"
   },
   {
    "duration": 55,
    "start_time": "2022-02-26T09:24:40.884Z"
   },
   {
    "duration": 54,
    "start_time": "2022-02-26T09:24:40.941Z"
   },
   {
    "duration": 16,
    "start_time": "2022-02-26T09:24:40.997Z"
   },
   {
    "duration": 23,
    "start_time": "2022-02-26T09:24:41.015Z"
   },
   {
    "duration": 38,
    "start_time": "2022-02-26T09:24:41.040Z"
   },
   {
    "duration": 53,
    "start_time": "2022-02-26T09:24:41.080Z"
   },
   {
    "duration": 8,
    "start_time": "2022-02-26T09:24:41.135Z"
   },
   {
    "duration": 13,
    "start_time": "2022-02-26T09:24:41.144Z"
   },
   {
    "duration": 33,
    "start_time": "2022-02-26T09:24:41.158Z"
   },
   {
    "duration": 50,
    "start_time": "2022-02-26T09:24:41.193Z"
   },
   {
    "duration": 4,
    "start_time": "2022-02-26T09:24:41.247Z"
   },
   {
    "duration": 19,
    "start_time": "2022-02-26T09:24:41.253Z"
   },
   {
    "duration": 44,
    "start_time": "2022-02-26T09:24:41.274Z"
   },
   {
    "duration": 23,
    "start_time": "2022-02-26T09:24:41.320Z"
   },
   {
    "duration": 8,
    "start_time": "2022-02-26T09:24:41.346Z"
   },
   {
    "duration": 18,
    "start_time": "2022-02-26T09:24:41.356Z"
   },
   {
    "duration": 43,
    "start_time": "2022-02-26T09:24:41.376Z"
   },
   {
    "duration": 450,
    "start_time": "2022-02-26T09:24:41.421Z"
   },
   {
    "duration": 3,
    "start_time": "2022-02-26T09:24:41.873Z"
   },
   {
    "duration": 9,
    "start_time": "2022-02-26T09:24:41.877Z"
   },
   {
    "duration": 39,
    "start_time": "2022-02-26T09:24:41.888Z"
   },
   {
    "duration": 8,
    "start_time": "2022-02-26T09:24:41.928Z"
   },
   {
    "duration": 18,
    "start_time": "2022-02-26T09:24:41.937Z"
   },
   {
    "duration": 8,
    "start_time": "2022-02-26T09:24:41.956Z"
   },
   {
    "duration": 10,
    "start_time": "2022-02-26T09:24:41.966Z"
   },
   {
    "duration": 37,
    "start_time": "2022-02-26T09:24:41.978Z"
   },
   {
    "duration": 10,
    "start_time": "2022-02-26T09:24:42.016Z"
   },
   {
    "duration": 13,
    "start_time": "2022-02-26T09:24:42.028Z"
   },
   {
    "duration": 8,
    "start_time": "2022-02-26T09:24:42.043Z"
   },
   {
    "duration": 6,
    "start_time": "2022-02-26T09:24:42.053Z"
   },
   {
    "duration": 13,
    "start_time": "2022-02-26T09:24:42.060Z"
   },
   {
    "duration": 38,
    "start_time": "2022-02-26T09:24:42.075Z"
   },
   {
    "duration": 16,
    "start_time": "2022-02-26T09:24:42.115Z"
   },
   {
    "duration": 7,
    "start_time": "2022-02-26T09:24:42.133Z"
   },
   {
    "duration": 8,
    "start_time": "2022-02-26T09:24:42.142Z"
   },
   {
    "duration": 154,
    "start_time": "2022-02-26T09:24:42.151Z"
   },
   {
    "duration": 24,
    "start_time": "2022-02-26T09:24:42.307Z"
   },
   {
    "duration": 4,
    "start_time": "2022-02-26T09:24:42.333Z"
   },
   {
    "duration": 10,
    "start_time": "2022-02-26T09:24:42.339Z"
   },
   {
    "duration": 1104,
    "start_time": "2022-02-26T09:27:50.159Z"
   },
   {
    "duration": 3,
    "start_time": "2022-02-26T09:27:51.266Z"
   },
   {
    "duration": 20,
    "start_time": "2022-02-26T09:27:51.272Z"
   },
   {
    "duration": 38,
    "start_time": "2022-02-26T09:27:51.294Z"
   },
   {
    "duration": 733,
    "start_time": "2022-02-26T09:27:51.334Z"
   },
   {
    "duration": 11,
    "start_time": "2022-02-26T09:27:52.069Z"
   },
   {
    "duration": 10,
    "start_time": "2022-02-26T09:27:52.082Z"
   },
   {
    "duration": 21,
    "start_time": "2022-02-26T09:27:52.095Z"
   },
   {
    "duration": 367,
    "start_time": "2022-02-26T09:27:52.119Z"
   },
   {
    "duration": 29,
    "start_time": "2022-02-26T09:27:52.489Z"
   },
   {
    "duration": 23,
    "start_time": "2022-02-26T09:27:52.519Z"
   },
   {
    "duration": 17,
    "start_time": "2022-02-26T09:27:52.544Z"
   },
   {
    "duration": 35,
    "start_time": "2022-02-26T09:27:52.563Z"
   },
   {
    "duration": 62,
    "start_time": "2022-02-26T09:27:52.600Z"
   },
   {
    "duration": 4,
    "start_time": "2022-02-26T09:27:52.664Z"
   },
   {
    "duration": 44,
    "start_time": "2022-02-26T09:27:52.669Z"
   },
   {
    "duration": 38,
    "start_time": "2022-02-26T09:27:52.714Z"
   },
   {
    "duration": 31,
    "start_time": "2022-02-26T09:27:52.754Z"
   },
   {
    "duration": 29,
    "start_time": "2022-02-26T09:27:52.786Z"
   },
   {
    "duration": 10,
    "start_time": "2022-02-26T09:27:52.817Z"
   },
   {
    "duration": 40,
    "start_time": "2022-02-26T09:27:52.829Z"
   },
   {
    "duration": 41,
    "start_time": "2022-02-26T09:27:52.872Z"
   },
   {
    "duration": 4,
    "start_time": "2022-02-26T09:27:52.917Z"
   },
   {
    "duration": 18,
    "start_time": "2022-02-26T09:27:52.924Z"
   },
   {
    "duration": 31,
    "start_time": "2022-02-26T09:27:52.943Z"
   },
   {
    "duration": 44,
    "start_time": "2022-02-26T09:27:52.975Z"
   },
   {
    "duration": 8,
    "start_time": "2022-02-26T09:27:53.021Z"
   },
   {
    "duration": 12,
    "start_time": "2022-02-26T09:27:53.031Z"
   },
   {
    "duration": 55,
    "start_time": "2022-02-26T09:27:53.045Z"
   },
   {
    "duration": 451,
    "start_time": "2022-02-26T09:27:53.102Z"
   },
   {
    "duration": 4,
    "start_time": "2022-02-26T09:27:53.554Z"
   },
   {
    "duration": 12,
    "start_time": "2022-02-26T09:27:53.559Z"
   },
   {
    "duration": 41,
    "start_time": "2022-02-26T09:27:53.572Z"
   },
   {
    "duration": 7,
    "start_time": "2022-02-26T09:27:53.615Z"
   },
   {
    "duration": 15,
    "start_time": "2022-02-26T09:27:53.623Z"
   },
   {
    "duration": 7,
    "start_time": "2022-02-26T09:27:53.640Z"
   },
   {
    "duration": 12,
    "start_time": "2022-02-26T09:27:53.648Z"
   },
   {
    "duration": 9,
    "start_time": "2022-02-26T09:27:53.662Z"
   },
   {
    "duration": 44,
    "start_time": "2022-02-26T09:27:53.672Z"
   },
   {
    "duration": 16,
    "start_time": "2022-02-26T09:27:53.718Z"
   },
   {
    "duration": 9,
    "start_time": "2022-02-26T09:27:53.736Z"
   },
   {
    "duration": 6,
    "start_time": "2022-02-26T09:27:53.747Z"
   },
   {
    "duration": 13,
    "start_time": "2022-02-26T09:27:53.754Z"
   },
   {
    "duration": 6,
    "start_time": "2022-02-26T09:27:53.769Z"
   },
   {
    "duration": 47,
    "start_time": "2022-02-26T09:27:53.776Z"
   },
   {
    "duration": 7,
    "start_time": "2022-02-26T09:27:53.825Z"
   },
   {
    "duration": 12,
    "start_time": "2022-02-26T09:27:53.833Z"
   },
   {
    "duration": 143,
    "start_time": "2022-02-26T09:27:53.846Z"
   },
   {
    "duration": 29,
    "start_time": "2022-02-26T09:27:53.991Z"
   },
   {
    "duration": 9,
    "start_time": "2022-02-26T09:27:54.021Z"
   },
   {
    "duration": 4,
    "start_time": "2022-02-26T09:27:54.032Z"
   },
   {
    "duration": 30,
    "start_time": "2022-02-26T09:27:54.038Z"
   },
   {
    "duration": 73,
    "start_time": "2022-02-26T09:31:08.422Z"
   },
   {
    "duration": 4,
    "start_time": "2022-02-26T09:37:17.280Z"
   },
   {
    "duration": 3,
    "start_time": "2022-02-26T09:39:12.115Z"
   },
   {
    "duration": 588,
    "start_time": "2022-02-26T09:39:13.112Z"
   },
   {
    "duration": 8,
    "start_time": "2022-02-26T09:42:19.364Z"
   },
   {
    "duration": 178,
    "start_time": "2022-02-26T09:42:25.380Z"
   },
   {
    "duration": 182,
    "start_time": "2022-02-26T09:44:02.615Z"
   },
   {
    "duration": 10,
    "start_time": "2022-02-26T09:44:25.158Z"
   },
   {
    "duration": 26,
    "start_time": "2022-02-26T09:45:14.428Z"
   },
   {
    "duration": 22,
    "start_time": "2022-02-26T09:45:23.313Z"
   },
   {
    "duration": 1240,
    "start_time": "2022-02-26T09:45:43.895Z"
   },
   {
    "duration": 23,
    "start_time": "2022-02-26T09:45:55.453Z"
   },
   {
    "duration": 13,
    "start_time": "2022-02-26T09:46:19.738Z"
   },
   {
    "duration": 12,
    "start_time": "2022-02-26T09:46:25.770Z"
   },
   {
    "duration": 7,
    "start_time": "2022-02-26T09:46:30.478Z"
   },
   {
    "duration": 80,
    "start_time": "2022-02-26T09:47:04.805Z"
   },
   {
    "duration": 71,
    "start_time": "2022-02-26T09:47:25.306Z"
   },
   {
    "duration": 25,
    "start_time": "2022-02-26T09:49:14.406Z"
   },
   {
    "duration": 5,
    "start_time": "2022-02-26T09:49:27.094Z"
   },
   {
    "duration": 8,
    "start_time": "2022-02-26T09:49:57.006Z"
   },
   {
    "duration": 8,
    "start_time": "2022-02-26T09:50:29.856Z"
   },
   {
    "duration": 5,
    "start_time": "2022-02-26T09:50:34.444Z"
   },
   {
    "duration": 4617,
    "start_time": "2022-02-26T09:54:02.657Z"
   },
   {
    "duration": 1556,
    "start_time": "2022-02-26T09:54:05.720Z"
   },
   {
    "duration": 24,
    "start_time": "2022-02-26T09:54:13.984Z"
   },
   {
    "duration": 11,
    "start_time": "2022-02-26T09:54:19.713Z"
   },
   {
    "duration": 8,
    "start_time": "2022-02-26T09:54:24.786Z"
   },
   {
    "duration": 25,
    "start_time": "2022-02-26T09:54:26.753Z"
   },
   {
    "duration": 5,
    "start_time": "2022-02-26T09:54:29.331Z"
   },
   {
    "duration": 207580,
    "start_time": "2022-02-26T09:54:32.452Z"
   },
   {
    "duration": 4,
    "start_time": "2022-02-26T09:58:08.124Z"
   },
   {
    "duration": 492,
    "start_time": "2022-02-26T09:58:20.940Z"
   },
   {
    "duration": 5,
    "start_time": "2022-02-26T09:58:28.326Z"
   },
   {
    "duration": 15,
    "start_time": "2022-02-26T10:07:20.978Z"
   },
   {
    "duration": 5,
    "start_time": "2022-02-26T10:07:39.271Z"
   },
   {
    "duration": 1171,
    "start_time": "2022-02-26T10:09:40.086Z"
   },
   {
    "duration": 3,
    "start_time": "2022-02-26T10:09:41.259Z"
   },
   {
    "duration": 24,
    "start_time": "2022-02-26T10:09:41.264Z"
   },
   {
    "duration": 39,
    "start_time": "2022-02-26T10:09:41.290Z"
   },
   {
    "duration": 782,
    "start_time": "2022-02-26T10:09:41.331Z"
   },
   {
    "duration": 14,
    "start_time": "2022-02-26T10:09:42.115Z"
   },
   {
    "duration": 12,
    "start_time": "2022-02-26T10:09:42.130Z"
   },
   {
    "duration": 7,
    "start_time": "2022-02-26T10:09:42.146Z"
   },
   {
    "duration": 386,
    "start_time": "2022-02-26T10:09:42.155Z"
   },
   {
    "duration": 13,
    "start_time": "2022-02-26T10:09:42.543Z"
   },
   {
    "duration": 31,
    "start_time": "2022-02-26T10:09:42.558Z"
   },
   {
    "duration": 26,
    "start_time": "2022-02-26T10:09:42.593Z"
   },
   {
    "duration": 42,
    "start_time": "2022-02-26T10:09:42.621Z"
   },
   {
    "duration": 50,
    "start_time": "2022-02-26T10:09:42.664Z"
   },
   {
    "duration": 4,
    "start_time": "2022-02-26T10:09:42.716Z"
   },
   {
    "duration": 22,
    "start_time": "2022-02-26T10:09:42.722Z"
   },
   {
    "duration": 35,
    "start_time": "2022-02-26T10:09:42.746Z"
   },
   {
    "duration": 49,
    "start_time": "2022-02-26T10:09:42.783Z"
   },
   {
    "duration": 7,
    "start_time": "2022-02-26T10:09:42.834Z"
   },
   {
    "duration": 11,
    "start_time": "2022-02-26T10:09:42.843Z"
   },
   {
    "duration": 27,
    "start_time": "2022-02-26T10:09:42.855Z"
   },
   {
    "duration": 52,
    "start_time": "2022-02-26T10:09:42.883Z"
   },
   {
    "duration": 4,
    "start_time": "2022-02-26T10:09:42.939Z"
   },
   {
    "duration": 17,
    "start_time": "2022-02-26T10:09:42.944Z"
   },
   {
    "duration": 27,
    "start_time": "2022-02-26T10:09:42.963Z"
   },
   {
    "duration": 37,
    "start_time": "2022-02-26T10:09:42.991Z"
   },
   {
    "duration": 13,
    "start_time": "2022-02-26T10:09:43.030Z"
   },
   {
    "duration": 11,
    "start_time": "2022-02-26T10:09:43.045Z"
   },
   {
    "duration": 44,
    "start_time": "2022-02-26T10:09:43.057Z"
   },
   {
    "duration": 445,
    "start_time": "2022-02-26T10:09:43.103Z"
   },
   {
    "duration": 4,
    "start_time": "2022-02-26T10:09:43.549Z"
   },
   {
    "duration": 11,
    "start_time": "2022-02-26T10:09:43.554Z"
   },
   {
    "duration": 31,
    "start_time": "2022-02-26T10:09:43.566Z"
   },
   {
    "duration": 21,
    "start_time": "2022-02-26T10:09:43.598Z"
   },
   {
    "duration": 14,
    "start_time": "2022-02-26T10:09:43.621Z"
   },
   {
    "duration": 8,
    "start_time": "2022-02-26T10:09:43.637Z"
   },
   {
    "duration": 11,
    "start_time": "2022-02-26T10:09:43.647Z"
   },
   {
    "duration": 10,
    "start_time": "2022-02-26T10:09:43.660Z"
   },
   {
    "duration": 41,
    "start_time": "2022-02-26T10:09:43.672Z"
   },
   {
    "duration": 14,
    "start_time": "2022-02-26T10:09:43.715Z"
   },
   {
    "duration": 10,
    "start_time": "2022-02-26T10:09:43.731Z"
   },
   {
    "duration": 7,
    "start_time": "2022-02-26T10:09:43.743Z"
   },
   {
    "duration": 14,
    "start_time": "2022-02-26T10:09:43.752Z"
   },
   {
    "duration": 6,
    "start_time": "2022-02-26T10:09:43.768Z"
   },
   {
    "duration": 42,
    "start_time": "2022-02-26T10:09:43.776Z"
   },
   {
    "duration": 6,
    "start_time": "2022-02-26T10:09:43.820Z"
   },
   {
    "duration": 15,
    "start_time": "2022-02-26T10:09:43.828Z"
   },
   {
    "duration": 141,
    "start_time": "2022-02-26T10:09:43.845Z"
   },
   {
    "duration": 4,
    "start_time": "2022-02-26T10:09:43.988Z"
   },
   {
    "duration": 36,
    "start_time": "2022-02-26T10:09:43.994Z"
   },
   {
    "duration": 9,
    "start_time": "2022-02-26T10:09:44.032Z"
   },
   {
    "duration": 11,
    "start_time": "2022-02-26T10:09:44.042Z"
   },
   {
    "duration": 23,
    "start_time": "2022-02-26T10:09:44.054Z"
   },
   {
    "duration": 31,
    "start_time": "2022-02-26T10:09:51.892Z"
   },
   {
    "duration": 107,
    "start_time": "2022-02-26T10:10:22.049Z"
   },
   {
    "duration": 31,
    "start_time": "2022-02-26T10:10:40.137Z"
   },
   {
    "duration": 9,
    "start_time": "2022-02-26T10:12:46.961Z"
   },
   {
    "duration": 22,
    "start_time": "2022-02-26T10:13:13.273Z"
   },
   {
    "duration": 4,
    "start_time": "2022-02-26T10:21:54.725Z"
   },
   {
    "duration": 126,
    "start_time": "2022-02-26T10:23:13.485Z"
   },
   {
    "duration": 417,
    "start_time": "2022-02-26T10:27:46.105Z"
   },
   {
    "duration": 136,
    "start_time": "2022-02-26T10:27:54.941Z"
   },
   {
    "duration": 107,
    "start_time": "2022-02-26T10:32:25.221Z"
   },
   {
    "duration": 119,
    "start_time": "2022-02-26T10:35:03.508Z"
   },
   {
    "duration": 455,
    "start_time": "2022-02-26T10:35:36.870Z"
   },
   {
    "duration": 117,
    "start_time": "2022-02-26T10:35:48.252Z"
   },
   {
    "duration": 35,
    "start_time": "2022-02-26T10:36:02.042Z"
   },
   {
    "duration": 9,
    "start_time": "2022-02-26T10:36:03.295Z"
   },
   {
    "duration": 8,
    "start_time": "2022-02-26T10:36:07.085Z"
   },
   {
    "duration": 22,
    "start_time": "2022-02-26T10:36:07.674Z"
   },
   {
    "duration": 129,
    "start_time": "2022-02-26T10:36:10.032Z"
   },
   {
    "duration": 197,
    "start_time": "2022-02-26T10:37:38.574Z"
   },
   {
    "duration": 4,
    "start_time": "2022-02-26T10:37:41.990Z"
   },
   {
    "duration": 1086,
    "start_time": "2022-02-28T16:11:30.377Z"
   },
   {
    "duration": 3,
    "start_time": "2022-02-28T16:11:32.053Z"
   },
   {
    "duration": 21,
    "start_time": "2022-02-28T16:11:32.709Z"
   },
   {
    "duration": 49,
    "start_time": "2022-02-28T16:11:39.955Z"
   },
   {
    "duration": 703,
    "start_time": "2022-02-28T16:11:49.535Z"
   },
   {
    "duration": 13,
    "start_time": "2022-02-28T16:11:51.872Z"
   },
   {
    "duration": 11,
    "start_time": "2022-02-28T16:11:52.962Z"
   },
   {
    "duration": 7,
    "start_time": "2022-02-28T16:11:56.335Z"
   },
   {
    "duration": 322,
    "start_time": "2022-02-28T16:11:57.270Z"
   },
   {
    "duration": 12,
    "start_time": "2022-02-28T16:11:58.049Z"
   },
   {
    "duration": 14,
    "start_time": "2022-02-28T16:11:58.227Z"
   },
   {
    "duration": 7,
    "start_time": "2022-02-28T16:11:58.381Z"
   },
   {
    "duration": 4,
    "start_time": "2022-02-28T16:11:58.758Z"
   },
   {
    "duration": 14,
    "start_time": "2022-02-28T16:11:59.199Z"
   },
   {
    "duration": 37,
    "start_time": "2022-02-28T16:12:01.697Z"
   },
   {
    "duration": 51,
    "start_time": "2022-02-28T16:12:02.377Z"
   },
   {
    "duration": 5,
    "start_time": "2022-02-28T16:12:04.142Z"
   },
   {
    "duration": 17,
    "start_time": "2022-02-28T16:12:07.726Z"
   },
   {
    "duration": 124,
    "start_time": "2022-02-28T16:12:08.740Z"
   },
   {
    "duration": 39,
    "start_time": "2022-02-28T16:12:10.906Z"
   },
   {
    "duration": 33,
    "start_time": "2022-02-28T16:12:11.899Z"
   },
   {
    "duration": 8,
    "start_time": "2022-02-28T16:12:12.584Z"
   },
   {
    "duration": 10,
    "start_time": "2022-02-28T16:12:13.576Z"
   },
   {
    "duration": 28,
    "start_time": "2022-02-28T16:12:15.232Z"
   },
   {
    "duration": 118,
    "start_time": "2022-02-28T16:12:15.439Z"
   },
   {
    "duration": 5,
    "start_time": "2022-02-28T16:12:15.808Z"
   },
   {
    "duration": 16,
    "start_time": "2022-02-28T16:12:16.224Z"
   },
   {
    "duration": 96,
    "start_time": "2022-02-28T16:12:16.627Z"
   },
   {
    "duration": 34,
    "start_time": "2022-02-28T16:12:17.577Z"
   },
   {
    "duration": 19,
    "start_time": "2022-02-28T16:12:17.837Z"
   },
   {
    "duration": 7,
    "start_time": "2022-02-28T16:12:18.116Z"
   },
   {
    "duration": 10,
    "start_time": "2022-02-28T16:12:18.432Z"
   },
   {
    "duration": 39,
    "start_time": "2022-02-28T16:12:18.943Z"
   },
   {
    "duration": 326,
    "start_time": "2022-02-28T16:12:19.122Z"
   },
   {
    "duration": 3,
    "start_time": "2022-02-28T16:12:19.462Z"
   },
   {
    "duration": 7,
    "start_time": "2022-02-28T16:12:19.635Z"
   },
   {
    "duration": 33,
    "start_time": "2022-02-28T16:12:20.147Z"
   },
   {
    "duration": 8,
    "start_time": "2022-02-28T16:12:20.488Z"
   },
   {
    "duration": 11,
    "start_time": "2022-02-28T16:12:20.661Z"
   },
   {
    "duration": 8,
    "start_time": "2022-02-28T16:12:22.025Z"
   },
   {
    "duration": 10,
    "start_time": "2022-02-28T16:12:22.035Z"
   },
   {
    "duration": 9,
    "start_time": "2022-02-28T16:12:23.381Z"
   },
   {
    "duration": 11,
    "start_time": "2022-02-28T16:12:23.823Z"
   },
   {
    "duration": 12,
    "start_time": "2022-02-28T16:12:24.167Z"
   },
   {
    "duration": 8,
    "start_time": "2022-02-28T16:12:24.326Z"
   },
   {
    "duration": 6,
    "start_time": "2022-02-28T16:12:24.652Z"
   },
   {
    "duration": 14,
    "start_time": "2022-02-28T16:12:24.806Z"
   },
   {
    "duration": 6,
    "start_time": "2022-02-28T16:12:24.978Z"
   },
   {
    "duration": 14,
    "start_time": "2022-02-28T16:12:25.682Z"
   },
   {
    "duration": 6,
    "start_time": "2022-02-28T16:12:25.972Z"
   },
   {
    "duration": 8,
    "start_time": "2022-02-28T16:12:26.290Z"
   },
   {
    "duration": 120,
    "start_time": "2022-02-28T16:12:26.478Z"
   },
   {
    "duration": 3,
    "start_time": "2022-02-28T16:12:27.226Z"
   },
   {
    "duration": 24,
    "start_time": "2022-02-28T16:12:27.902Z"
   },
   {
    "duration": 9,
    "start_time": "2022-02-28T16:12:28.069Z"
   },
   {
    "duration": 7,
    "start_time": "2022-02-28T16:12:28.398Z"
   },
   {
    "duration": 22,
    "start_time": "2022-02-28T16:12:28.589Z"
   },
   {
    "duration": 109,
    "start_time": "2022-02-28T16:12:28.935Z"
   },
   {
    "duration": 212,
    "start_time": "2022-03-01T11:32:42.407Z"
   },
   {
    "duration": 1123,
    "start_time": "2022-03-01T11:32:48.234Z"
   },
   {
    "duration": 3,
    "start_time": "2022-03-01T11:32:49.358Z"
   },
   {
    "duration": 34,
    "start_time": "2022-03-01T11:32:49.364Z"
   },
   {
    "duration": 41,
    "start_time": "2022-03-01T11:32:49.401Z"
   },
   {
    "duration": 666,
    "start_time": "2022-03-01T11:32:49.443Z"
   },
   {
    "duration": 23,
    "start_time": "2022-03-01T11:32:50.110Z"
   },
   {
    "duration": 9,
    "start_time": "2022-03-01T11:32:50.135Z"
   },
   {
    "duration": 6,
    "start_time": "2022-03-01T11:32:50.147Z"
   },
   {
    "duration": 321,
    "start_time": "2022-03-01T11:32:50.155Z"
   },
   {
    "duration": 9,
    "start_time": "2022-03-01T11:32:50.478Z"
   },
   {
    "duration": 12,
    "start_time": "2022-03-01T11:32:50.489Z"
   },
   {
    "duration": 7,
    "start_time": "2022-03-01T11:32:50.503Z"
   },
   {
    "duration": 4,
    "start_time": "2022-03-01T11:32:50.533Z"
   },
   {
    "duration": 18,
    "start_time": "2022-03-01T11:32:50.538Z"
   },
   {
    "duration": 34,
    "start_time": "2022-03-01T11:32:50.557Z"
   },
   {
    "duration": 68,
    "start_time": "2022-03-01T11:32:50.593Z"
   },
   {
    "duration": 5,
    "start_time": "2022-03-01T11:32:50.663Z"
   },
   {
    "duration": 19,
    "start_time": "2022-03-01T11:32:50.670Z"
   },
   {
    "duration": 142,
    "start_time": "2022-03-01T11:32:50.691Z"
   },
   {
    "duration": 34,
    "start_time": "2022-03-01T11:32:50.835Z"
   },
   {
    "duration": 32,
    "start_time": "2022-03-01T11:32:50.871Z"
   },
   {
    "duration": 29,
    "start_time": "2022-03-01T11:32:50.905Z"
   },
   {
    "duration": 9,
    "start_time": "2022-03-01T11:32:50.939Z"
   },
   {
    "duration": 22,
    "start_time": "2022-03-01T11:32:50.951Z"
   },
   {
    "duration": 131,
    "start_time": "2022-03-01T11:32:50.975Z"
   },
   {
    "duration": 5,
    "start_time": "2022-03-01T11:32:51.108Z"
   },
   {
    "duration": 28,
    "start_time": "2022-03-01T11:32:51.115Z"
   },
   {
    "duration": 106,
    "start_time": "2022-03-01T11:32:51.145Z"
   },
   {
    "duration": 27,
    "start_time": "2022-03-01T11:32:51.253Z"
   },
   {
    "duration": 21,
    "start_time": "2022-03-01T11:32:51.282Z"
   },
   {
    "duration": 28,
    "start_time": "2022-03-01T11:32:51.305Z"
   },
   {
    "duration": 10,
    "start_time": "2022-03-01T11:32:51.335Z"
   },
   {
    "duration": 36,
    "start_time": "2022-03-01T11:32:51.347Z"
   },
   {
    "duration": 316,
    "start_time": "2022-03-01T11:32:51.384Z"
   },
   {
    "duration": 3,
    "start_time": "2022-03-01T11:32:51.701Z"
   },
   {
    "duration": 10,
    "start_time": "2022-03-01T11:32:51.705Z"
   },
   {
    "duration": 36,
    "start_time": "2022-03-01T11:32:51.716Z"
   },
   {
    "duration": 7,
    "start_time": "2022-03-01T11:32:51.753Z"
   },
   {
    "duration": 12,
    "start_time": "2022-03-01T11:32:51.761Z"
   },
   {
    "duration": 6,
    "start_time": "2022-03-01T11:32:51.775Z"
   },
   {
    "duration": 9,
    "start_time": "2022-03-01T11:32:51.782Z"
   },
   {
    "duration": 8,
    "start_time": "2022-03-01T11:32:51.792Z"
   },
   {
    "duration": 41,
    "start_time": "2022-03-01T11:32:51.802Z"
   },
   {
    "duration": 12,
    "start_time": "2022-03-01T11:32:51.845Z"
   },
   {
    "duration": 8,
    "start_time": "2022-03-01T11:32:51.858Z"
   },
   {
    "duration": 6,
    "start_time": "2022-03-01T11:32:51.867Z"
   },
   {
    "duration": 12,
    "start_time": "2022-03-01T11:32:51.875Z"
   },
   {
    "duration": 6,
    "start_time": "2022-03-01T11:32:51.888Z"
   },
   {
    "duration": 50,
    "start_time": "2022-03-01T11:32:51.895Z"
   },
   {
    "duration": 7,
    "start_time": "2022-03-01T11:32:51.947Z"
   },
   {
    "duration": 8,
    "start_time": "2022-03-01T11:32:51.956Z"
   },
   {
    "duration": 159,
    "start_time": "2022-03-01T11:32:51.966Z"
   },
   {
    "duration": 8,
    "start_time": "2022-03-01T11:32:52.127Z"
   },
   {
    "duration": 25,
    "start_time": "2022-03-01T11:32:52.136Z"
   },
   {
    "duration": 9,
    "start_time": "2022-03-01T11:32:52.163Z"
   },
   {
    "duration": 7,
    "start_time": "2022-03-01T11:32:52.174Z"
   },
   {
    "duration": 52,
    "start_time": "2022-03-01T11:32:52.183Z"
   },
   {
    "duration": 110,
    "start_time": "2022-03-01T11:32:52.237Z"
   },
   {
    "duration": 277,
    "start_time": "2022-03-01T11:32:52.349Z"
   },
   {
    "duration": 307,
    "start_time": "2022-03-01T11:33:43.224Z"
   }
  ],
  "kernelspec": {
   "display_name": "Python 3 (ipykernel)",
   "language": "python",
   "name": "python3"
  },
  "language_info": {
   "codemirror_mode": {
    "name": "ipython",
    "version": 3
   },
   "file_extension": ".py",
   "mimetype": "text/x-python",
   "name": "python",
   "nbconvert_exporter": "python",
   "pygments_lexer": "ipython3",
   "version": "3.9.7"
  },
  "toc": {
   "base_numbering": 1,
   "nav_menu": {},
   "number_sections": true,
   "sideBar": true,
   "skip_h1_title": true,
   "title_cell": "Table of Contents",
   "title_sidebar": "Contents",
   "toc_cell": false,
   "toc_position": {},
   "toc_section_display": true,
   "toc_window_display": false
  }
 },
 "nbformat": 4,
 "nbformat_minor": 5
}
