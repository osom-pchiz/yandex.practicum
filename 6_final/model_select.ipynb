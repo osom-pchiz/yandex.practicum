{
 "cells": [
  {
   "cell_type": "markdown",
   "metadata": {},
   "source": [
    "# Введение"
   ]
  },
  {
   "cell_type": "markdown",
   "metadata": {},
   "source": [
    "В этой части работы я использую таблицу ```steel_features.csv```, полученную из предобработанных данных в прошлом задании для обучения и исследования разных моделей. Оснавная задача на этом этапе: подобрать модель лучше всего работающую на имеющихся данных. Целевой метрикой у нас будет MAE. \n",
    "\n",
    "Задача проекта — получить величину MAE ≤ 6.8. \n",
    "\n",
    "В качестве содержания для в данной части работы я буду использовать план, составленный в прошлой части, добавив в него пару дополнительных пунктов."
   ]
  },
  {
   "cell_type": "markdown",
   "metadata": {},
   "source": [
    "# Содержание\n",
    "\n",
    "1. <b>[Подготовка признаков.](#Подготовка-признаков)</b> Полученные данные я разделю на обучающие признаки и целевой. Целевым признаком будет являться окончательная температура стали перед розливом.\n",
    "2. <b>[Выбор набора моделей.](#Выбор-набора-моделей)</b> Я возьму несколько регрессионных моделей, использующих разные алгоритмы (линейные, древо решений, ансамблевые модели, метод ближайших соседей). Так же попробую модели с применением градиентного бустинга.\n",
    "3. <b>[Подбор оптимальных гиперпараметров моделей и определение их качества.](#Подбор-оптимальных-гиперпараметров-моделей-и-определение-их-качества)</b> Используя кросс-валидацию, подберу оптимальные гиперпараметры каждой модели и определю качество каждой модели согласно требуемой метрики.\n",
    "4. <b>[Выбор и анализ наилучшей модели.](#Выбор-и-анализ-наилучшей-модели)</b> Сравню качесвто моделей используя требуемую метрику и выберу модель наиболее подходящую к задаче. Проанализирую веса признаков, определенные моделью, сделаю выводы, возможно оптимизирую процесс обработки признаков.\n",
    "5. <b>[Доработка модели для применения бизнесом.](#Доработка-модели-для-применения-бизнесом)</b>\n",
    "6.  <b>[Отчет по решению.](#Отчет-по-решению)</b>"
   ]
  },
  {
   "cell_type": "markdown",
   "metadata": {},
   "source": [
    "# Импорты"
   ]
  },
  {
   "cell_type": "code",
   "execution_count": 1,
   "metadata": {},
   "outputs": [],
   "source": [
    "#библиотеки\n",
    "import pandas as pd\n",
    "import numpy as np\n",
    "import lightgbm as lgb\n",
    "import matplotlib.pyplot as plt\n",
    "#всякое\n",
    "from sklearn.model_selection import train_test_split\n",
    "from sklearn.model_selection import GridSearchCV\n",
    "#модели\n",
    "from sklearn.dummy import DummyRegressor\n",
    "from sklearn.linear_model import LinearRegression\n",
    "from sklearn.tree import DecisionTreeRegressor\n",
    "from sklearn.ensemble import RandomForestRegressor\n",
    "from sklearn.neighbors import KNeighborsRegressor\n",
    "from lightgbm import LGBMRegressor\n",
    "#метрики\n",
    "from sklearn.metrics import mean_absolute_error\n",
    "#константы\n",
    "RS = 12345"
   ]
  },
  {
   "cell_type": "markdown",
   "metadata": {},
   "source": [
    "---"
   ]
  },
  {
   "cell_type": "markdown",
   "metadata": {},
   "source": [
    "## Подготовка признаков\n",
    "[вернуться к содержанию](#Содержание)"
   ]
  },
  {
   "cell_type": "code",
   "execution_count": null,
   "metadata": {},
   "outputs": [],
   "source": [
    "data = pd.read_csv('steel_features.csv')"
   ]
  },
  {
   "cell_type": "code",
   "execution_count": 3,
   "metadata": {},
   "outputs": [
    {
     "data": {
      "text/html": [
       "<div>\n",
       "<style scoped>\n",
       "    .dataframe tbody tr th:only-of-type {\n",
       "        vertical-align: middle;\n",
       "    }\n",
       "\n",
       "    .dataframe tbody tr th {\n",
       "        vertical-align: top;\n",
       "    }\n",
       "\n",
       "    .dataframe thead th {\n",
       "        text-align: right;\n",
       "    }\n",
       "</style>\n",
       "<table border=\"1\" class=\"dataframe\">\n",
       "  <thead>\n",
       "    <tr style=\"text-align: right;\">\n",
       "      <th></th>\n",
       "      <th>key</th>\n",
       "      <th>active_power</th>\n",
       "      <th>bulk_1</th>\n",
       "      <th>bulk_2</th>\n",
       "      <th>bulk_3</th>\n",
       "      <th>bulk_4</th>\n",
       "      <th>bulk_5</th>\n",
       "      <th>bulk_6</th>\n",
       "      <th>bulk_7</th>\n",
       "      <th>bulk_8</th>\n",
       "      <th>...</th>\n",
       "      <th>wire_3</th>\n",
       "      <th>wire_4</th>\n",
       "      <th>wire_5</th>\n",
       "      <th>wire_6</th>\n",
       "      <th>wire_7</th>\n",
       "      <th>wire_8</th>\n",
       "      <th>wire_9</th>\n",
       "      <th>gas_1</th>\n",
       "      <th>start_temp</th>\n",
       "      <th>target_temp</th>\n",
       "    </tr>\n",
       "  </thead>\n",
       "  <tbody>\n",
       "    <tr>\n",
       "      <td>0</td>\n",
       "      <td>1</td>\n",
       "      <td>4.878147</td>\n",
       "      <td>0.0</td>\n",
       "      <td>0.0</td>\n",
       "      <td>0.0</td>\n",
       "      <td>43.0</td>\n",
       "      <td>0.0</td>\n",
       "      <td>0.0</td>\n",
       "      <td>0.0</td>\n",
       "      <td>0.0</td>\n",
       "      <td>...</td>\n",
       "      <td>0.0</td>\n",
       "      <td>0.0</td>\n",
       "      <td>0.0</td>\n",
       "      <td>0.0</td>\n",
       "      <td>0.0</td>\n",
       "      <td>0.0</td>\n",
       "      <td>0.0</td>\n",
       "      <td>29.749986</td>\n",
       "      <td>1571.0</td>\n",
       "      <td>1613.0</td>\n",
       "    </tr>\n",
       "    <tr>\n",
       "      <td>1</td>\n",
       "      <td>2</td>\n",
       "      <td>3.052598</td>\n",
       "      <td>0.0</td>\n",
       "      <td>0.0</td>\n",
       "      <td>0.0</td>\n",
       "      <td>73.0</td>\n",
       "      <td>0.0</td>\n",
       "      <td>0.0</td>\n",
       "      <td>0.0</td>\n",
       "      <td>0.0</td>\n",
       "      <td>...</td>\n",
       "      <td>0.0</td>\n",
       "      <td>0.0</td>\n",
       "      <td>0.0</td>\n",
       "      <td>0.0</td>\n",
       "      <td>0.0</td>\n",
       "      <td>0.0</td>\n",
       "      <td>0.0</td>\n",
       "      <td>12.555561</td>\n",
       "      <td>1581.0</td>\n",
       "      <td>1602.0</td>\n",
       "    </tr>\n",
       "    <tr>\n",
       "      <td>2</td>\n",
       "      <td>3</td>\n",
       "      <td>2.525882</td>\n",
       "      <td>0.0</td>\n",
       "      <td>0.0</td>\n",
       "      <td>0.0</td>\n",
       "      <td>34.0</td>\n",
       "      <td>0.0</td>\n",
       "      <td>0.0</td>\n",
       "      <td>0.0</td>\n",
       "      <td>0.0</td>\n",
       "      <td>...</td>\n",
       "      <td>0.0</td>\n",
       "      <td>0.0</td>\n",
       "      <td>0.0</td>\n",
       "      <td>0.0</td>\n",
       "      <td>0.0</td>\n",
       "      <td>0.0</td>\n",
       "      <td>0.0</td>\n",
       "      <td>28.554793</td>\n",
       "      <td>1596.0</td>\n",
       "      <td>1599.0</td>\n",
       "    </tr>\n",
       "    <tr>\n",
       "      <td>3</td>\n",
       "      <td>4</td>\n",
       "      <td>3.209250</td>\n",
       "      <td>0.0</td>\n",
       "      <td>0.0</td>\n",
       "      <td>0.0</td>\n",
       "      <td>81.0</td>\n",
       "      <td>0.0</td>\n",
       "      <td>0.0</td>\n",
       "      <td>0.0</td>\n",
       "      <td>0.0</td>\n",
       "      <td>...</td>\n",
       "      <td>0.0</td>\n",
       "      <td>0.0</td>\n",
       "      <td>0.0</td>\n",
       "      <td>0.0</td>\n",
       "      <td>0.0</td>\n",
       "      <td>0.0</td>\n",
       "      <td>0.0</td>\n",
       "      <td>18.841219</td>\n",
       "      <td>1601.0</td>\n",
       "      <td>1625.0</td>\n",
       "    </tr>\n",
       "    <tr>\n",
       "      <td>4</td>\n",
       "      <td>5</td>\n",
       "      <td>3.347173</td>\n",
       "      <td>0.0</td>\n",
       "      <td>0.0</td>\n",
       "      <td>0.0</td>\n",
       "      <td>78.0</td>\n",
       "      <td>0.0</td>\n",
       "      <td>0.0</td>\n",
       "      <td>0.0</td>\n",
       "      <td>0.0</td>\n",
       "      <td>...</td>\n",
       "      <td>0.0</td>\n",
       "      <td>0.0</td>\n",
       "      <td>0.0</td>\n",
       "      <td>0.0</td>\n",
       "      <td>0.0</td>\n",
       "      <td>0.0</td>\n",
       "      <td>0.0</td>\n",
       "      <td>5.413692</td>\n",
       "      <td>1576.0</td>\n",
       "      <td>1602.0</td>\n",
       "    </tr>\n",
       "    <tr>\n",
       "      <td>...</td>\n",
       "      <td>...</td>\n",
       "      <td>...</td>\n",
       "      <td>...</td>\n",
       "      <td>...</td>\n",
       "      <td>...</td>\n",
       "      <td>...</td>\n",
       "      <td>...</td>\n",
       "      <td>...</td>\n",
       "      <td>...</td>\n",
       "      <td>...</td>\n",
       "      <td>...</td>\n",
       "      <td>...</td>\n",
       "      <td>...</td>\n",
       "      <td>...</td>\n",
       "      <td>...</td>\n",
       "      <td>...</td>\n",
       "      <td>...</td>\n",
       "      <td>...</td>\n",
       "      <td>...</td>\n",
       "      <td>...</td>\n",
       "      <td>...</td>\n",
       "    </tr>\n",
       "    <tr>\n",
       "      <td>2201</td>\n",
       "      <td>2495</td>\n",
       "      <td>3.210690</td>\n",
       "      <td>0.0</td>\n",
       "      <td>0.0</td>\n",
       "      <td>21.0</td>\n",
       "      <td>0.0</td>\n",
       "      <td>0.0</td>\n",
       "      <td>0.0</td>\n",
       "      <td>0.0</td>\n",
       "      <td>0.0</td>\n",
       "      <td>...</td>\n",
       "      <td>0.0</td>\n",
       "      <td>0.0</td>\n",
       "      <td>0.0</td>\n",
       "      <td>0.0</td>\n",
       "      <td>0.0</td>\n",
       "      <td>0.0</td>\n",
       "      <td>0.0</td>\n",
       "      <td>7.125735</td>\n",
       "      <td>1570.0</td>\n",
       "      <td>1591.0</td>\n",
       "    </tr>\n",
       "    <tr>\n",
       "      <td>2202</td>\n",
       "      <td>2496</td>\n",
       "      <td>4.203064</td>\n",
       "      <td>0.0</td>\n",
       "      <td>0.0</td>\n",
       "      <td>0.0</td>\n",
       "      <td>63.0</td>\n",
       "      <td>0.0</td>\n",
       "      <td>0.0</td>\n",
       "      <td>0.0</td>\n",
       "      <td>0.0</td>\n",
       "      <td>...</td>\n",
       "      <td>0.0</td>\n",
       "      <td>0.0</td>\n",
       "      <td>0.0</td>\n",
       "      <td>0.0</td>\n",
       "      <td>0.0</td>\n",
       "      <td>0.0</td>\n",
       "      <td>0.0</td>\n",
       "      <td>9.412616</td>\n",
       "      <td>1554.0</td>\n",
       "      <td>1591.0</td>\n",
       "    </tr>\n",
       "    <tr>\n",
       "      <td>2203</td>\n",
       "      <td>2497</td>\n",
       "      <td>2.212379</td>\n",
       "      <td>0.0</td>\n",
       "      <td>0.0</td>\n",
       "      <td>0.0</td>\n",
       "      <td>85.0</td>\n",
       "      <td>0.0</td>\n",
       "      <td>0.0</td>\n",
       "      <td>0.0</td>\n",
       "      <td>0.0</td>\n",
       "      <td>...</td>\n",
       "      <td>0.0</td>\n",
       "      <td>0.0</td>\n",
       "      <td>0.0</td>\n",
       "      <td>0.0</td>\n",
       "      <td>0.0</td>\n",
       "      <td>0.0</td>\n",
       "      <td>0.0</td>\n",
       "      <td>6.271699</td>\n",
       "      <td>1571.0</td>\n",
       "      <td>1589.0</td>\n",
       "    </tr>\n",
       "    <tr>\n",
       "      <td>2204</td>\n",
       "      <td>2498</td>\n",
       "      <td>3.408725</td>\n",
       "      <td>0.0</td>\n",
       "      <td>0.0</td>\n",
       "      <td>90.0</td>\n",
       "      <td>0.0</td>\n",
       "      <td>0.0</td>\n",
       "      <td>0.0</td>\n",
       "      <td>0.0</td>\n",
       "      <td>0.0</td>\n",
       "      <td>...</td>\n",
       "      <td>0.0</td>\n",
       "      <td>0.0</td>\n",
       "      <td>0.0</td>\n",
       "      <td>0.0</td>\n",
       "      <td>0.0</td>\n",
       "      <td>0.0</td>\n",
       "      <td>0.0</td>\n",
       "      <td>14.953657</td>\n",
       "      <td>1591.0</td>\n",
       "      <td>1594.0</td>\n",
       "    </tr>\n",
       "    <tr>\n",
       "      <td>2205</td>\n",
       "      <td>2499</td>\n",
       "      <td>4.098431</td>\n",
       "      <td>0.0</td>\n",
       "      <td>0.0</td>\n",
       "      <td>47.0</td>\n",
       "      <td>0.0</td>\n",
       "      <td>0.0</td>\n",
       "      <td>0.0</td>\n",
       "      <td>0.0</td>\n",
       "      <td>0.0</td>\n",
       "      <td>...</td>\n",
       "      <td>0.0</td>\n",
       "      <td>0.0</td>\n",
       "      <td>0.0</td>\n",
       "      <td>0.0</td>\n",
       "      <td>0.0</td>\n",
       "      <td>0.0</td>\n",
       "      <td>0.0</td>\n",
       "      <td>11.336151</td>\n",
       "      <td>1569.0</td>\n",
       "      <td>1603.0</td>\n",
       "    </tr>\n",
       "  </tbody>\n",
       "</table>\n",
       "<p>2206 rows × 29 columns</p>\n",
       "</div>"
      ],
      "text/plain": [
       "       key  active_power  bulk_1  bulk_2  bulk_3  bulk_4  bulk_5  bulk_6  \\\n",
       "0        1      4.878147     0.0     0.0     0.0    43.0     0.0     0.0   \n",
       "1        2      3.052598     0.0     0.0     0.0    73.0     0.0     0.0   \n",
       "2        3      2.525882     0.0     0.0     0.0    34.0     0.0     0.0   \n",
       "3        4      3.209250     0.0     0.0     0.0    81.0     0.0     0.0   \n",
       "4        5      3.347173     0.0     0.0     0.0    78.0     0.0     0.0   \n",
       "...    ...           ...     ...     ...     ...     ...     ...     ...   \n",
       "2201  2495      3.210690     0.0     0.0    21.0     0.0     0.0     0.0   \n",
       "2202  2496      4.203064     0.0     0.0     0.0    63.0     0.0     0.0   \n",
       "2203  2497      2.212379     0.0     0.0     0.0    85.0     0.0     0.0   \n",
       "2204  2498      3.408725     0.0     0.0    90.0     0.0     0.0     0.0   \n",
       "2205  2499      4.098431     0.0     0.0    47.0     0.0     0.0     0.0   \n",
       "\n",
       "      bulk_7  bulk_8  ...  wire_3  wire_4  wire_5  wire_6  wire_7  wire_8  \\\n",
       "0        0.0     0.0  ...     0.0     0.0     0.0     0.0     0.0     0.0   \n",
       "1        0.0     0.0  ...     0.0     0.0     0.0     0.0     0.0     0.0   \n",
       "2        0.0     0.0  ...     0.0     0.0     0.0     0.0     0.0     0.0   \n",
       "3        0.0     0.0  ...     0.0     0.0     0.0     0.0     0.0     0.0   \n",
       "4        0.0     0.0  ...     0.0     0.0     0.0     0.0     0.0     0.0   \n",
       "...      ...     ...  ...     ...     ...     ...     ...     ...     ...   \n",
       "2201     0.0     0.0  ...     0.0     0.0     0.0     0.0     0.0     0.0   \n",
       "2202     0.0     0.0  ...     0.0     0.0     0.0     0.0     0.0     0.0   \n",
       "2203     0.0     0.0  ...     0.0     0.0     0.0     0.0     0.0     0.0   \n",
       "2204     0.0     0.0  ...     0.0     0.0     0.0     0.0     0.0     0.0   \n",
       "2205     0.0     0.0  ...     0.0     0.0     0.0     0.0     0.0     0.0   \n",
       "\n",
       "      wire_9      gas_1  start_temp  target_temp  \n",
       "0        0.0  29.749986      1571.0       1613.0  \n",
       "1        0.0  12.555561      1581.0       1602.0  \n",
       "2        0.0  28.554793      1596.0       1599.0  \n",
       "3        0.0  18.841219      1601.0       1625.0  \n",
       "4        0.0   5.413692      1576.0       1602.0  \n",
       "...      ...        ...         ...          ...  \n",
       "2201     0.0   7.125735      1570.0       1591.0  \n",
       "2202     0.0   9.412616      1554.0       1591.0  \n",
       "2203     0.0   6.271699      1571.0       1589.0  \n",
       "2204     0.0  14.953657      1591.0       1594.0  \n",
       "2205     0.0  11.336151      1569.0       1603.0  \n",
       "\n",
       "[2206 rows x 29 columns]"
      ]
     },
     "execution_count": 3,
     "metadata": {},
     "output_type": "execute_result"
    }
   ],
   "source": [
    "data"
   ]
  },
  {
   "cell_type": "markdown",
   "metadata": {},
   "source": [
    "Разобьем набор данных на признаки и целевой признак. Кроме того из обучающих признаков необходимо удалить номер партии (столбец \"key\"), так как этот признак не даст модели полезной для обучения информации."
   ]
  },
  {
   "cell_type": "code",
   "execution_count": 4,
   "metadata": {},
   "outputs": [],
   "source": [
    "X = data.drop(['key', 'target_temp'], axis=1)\n",
    "y = data['target_temp']"
   ]
  },
  {
   "cell_type": "markdown",
   "metadata": {},
   "source": [
    "Теперь уже полученные фичи и таргеты поделим на обучающие и тестовые, на которых будем проверять эффективность подобранной модели."
   ]
  },
  {
   "cell_type": "code",
   "execution_count": 5,
   "metadata": {},
   "outputs": [],
   "source": [
    "X_train, X_test, y_train, y_test = train_test_split(X, y, test_size=0.25, random_state=RS)"
   ]
  },
  {
   "cell_type": "markdown",
   "metadata": {},
   "source": [
    "---"
   ]
  },
  {
   "cell_type": "markdown",
   "metadata": {},
   "source": [
    "## Выбор набора моделей\n",
    "[вернуться к содержанию](#Содержание)"
   ]
  },
  {
   "cell_type": "markdown",
   "metadata": {},
   "source": [
    "Я собираюсь использовать несколько регрессионных моделей для того чтобы выбрать лучшую для нашей задачи. Вот те модели, которые я собираюсь проверить:\n",
    "* DummyRegressor - медианная модель, результаты ее предсказаний я буду использовать для оценки адекватности остальных моделей.\n",
    "* LinearRegression - классическая модель линейной регрессии\n",
    "* DecisionTreeRegressor - модель дерева решений\n",
    "* RandomForestRegressor - модель случайного леса\n",
    "* KNeighborsRegressor - регрессионная модель k ближайших соседей\n",
    "* LGBMRegressor - модель, использующая градиентный бустинг\n",
    "\n",
    "Подготовим модели. Создадим словарь, в который внесем все модели и гиперпараметры, с которыми хотим исследовать модели. Этот словарь будем использовать при кросс-валидации в следующем разделе. Формат записи в словаре следующий:  \n",
    "```'Наимнование модели': [Сама модель со статичными параметрами, {словарь диапазонами подбираемых гиперпараметров}]```"
   ]
  },
  {
   "cell_type": "code",
   "execution_count": 6,
   "metadata": {},
   "outputs": [],
   "source": [
    "models = {'DummyRegressor': [DummyRegressor(strategy='median'), {}],\n",
    "          'LinearRegression': [LinearRegression(n_jobs=-1), {}],\n",
    "          'DecisionTreeRegressor': [DecisionTreeRegressor(random_state=RS), {'max_depth': range(3, 12)}],\n",
    "          'RandomForestRegressor': [RandomForestRegressor(random_state=RS, n_jobs=-1), {'max_depth': range(3, 12),\n",
    "                                                                                        'n_estimators': range(100, 501, 100)}],\n",
    "          'KNeighborsRegressor': [KNeighborsRegressor(n_jobs=-1), {'n_neighbors' : [5,7,11,13],\n",
    "                                                                   'weights' : ['uniform','distance'],\n",
    "                                                                   'metric' : ['minkowski','euclidean','manhattan']}],\n",
    "          'LGBMRegressor': [LGBMRegressor(random_state=RS, n_jobs=-1), {'max_depth': range(3, 12),\n",
    "                                                                        'n_estimators': range(100, 501, 100),\n",
    "                                                                        'num_leaves': range(16, 47, 15),\n",
    "                                                                        'learning_rate': np.arange(0.01, 0.20, 0.05)}]}"
   ]
  },
  {
   "cell_type": "markdown",
   "metadata": {},
   "source": [
    "---"
   ]
  },
  {
   "cell_type": "markdown",
   "metadata": {},
   "source": [
    "## Подбор оптимальных гиперпараметров моделей и определение их качества\n",
    "[вернуться к содержанию](#Содержание)"
   ]
  },
  {
   "cell_type": "markdown",
   "metadata": {},
   "source": [
    "Напишем цикл, который будет перебирать все модели в словаре выше и отправлять их и сетку гиперпараметров на кросс-валидацию. По каждой модели цикл будет выводить наилучшую достигнутую метрику и гиперпараметры, позволившие достигнуть эту метрику."
   ]
  },
  {
   "cell_type": "code",
   "execution_count": 7,
   "metadata": {},
   "outputs": [
    {
     "name": "stdout",
     "output_type": "stream",
     "text": [
      "Применяемая модель: DummyRegressor\n",
      "Наилучшая величина MAE на кросс-валидации: 8.00\n",
      "Гиперпараметры, при которых был достигнут наилучший размер метрики:\n",
      "{}\n",
      "\n",
      "Применяемая модель: LinearRegression\n",
      "Наилучшая величина MAE на кросс-валидации: 6.35\n",
      "Гиперпараметры, при которых был достигнут наилучший размер метрики:\n",
      "{}\n",
      "\n",
      "Применяемая модель: DecisionTreeRegressor\n",
      "Наилучшая величина MAE на кросс-валидации: 6.88\n",
      "Гиперпараметры, при которых был достигнут наилучший размер метрики:\n",
      "{'max_depth': 6}\n",
      "\n",
      "Применяемая модель: RandomForestRegressor\n",
      "Наилучшая величина MAE на кросс-валидации: 5.89\n",
      "Гиперпараметры, при которых был достигнут наилучший размер метрики:\n",
      "{'max_depth': 10, 'n_estimators': 100}\n",
      "\n",
      "Применяемая модель: KNeighborsRegressor\n",
      "Наилучшая величина MAE на кросс-валидации: 7.32\n",
      "Гиперпараметры, при которых был достигнут наилучший размер метрики:\n",
      "{'metric': 'manhattan', 'n_neighbors': 13, 'weights': 'distance'}\n",
      "\n",
      "Применяемая модель: LGBMRegressor\n",
      "Наилучшая величина MAE на кросс-валидации: 5.88\n",
      "Гиперпараметры, при которых был достигнут наилучший размер метрики:\n",
      "{'learning_rate': 0.01, 'max_depth': 8, 'n_estimators': 500, 'num_leaves': 16}\n",
      "\n"
     ]
    }
   ],
   "source": [
    "for key in models.keys():\n",
    "    cv = GridSearchCV(models[key][0], models[key][1], scoring='neg_mean_absolute_error', cv=5)\n",
    "    cv.fit(X_train, y_train)\n",
    "    print('Применяемая модель: {}'.format(key))\n",
    "    print('Наилучшая величина MAE на кросс-валидации: {:.2f}'.format(-cv.best_score_))\n",
    "    print('Гиперпараметры, при которых был достигнут наилучший размер метрики:')\n",
    "    print(cv.best_params_)\n",
    "    print()"
   ]
  },
  {
   "cell_type": "markdown",
   "metadata": {},
   "source": [
    "---"
   ]
  },
  {
   "cell_type": "markdown",
   "metadata": {},
   "source": [
    "## Выбор и анализ наилучшей модели\n",
    "[вернуться к содержанию](#Содержание)"
   ]
  },
  {
   "cell_type": "markdown",
   "metadata": {},
   "source": [
    "Мы получили результаты кросс-валидации. Среди них не только наилучшие показатили небходимой метрики каждой модели, но и значения гиперпараметров, при которых получены эти значения метрик.\n",
    "\n",
    "Сразу можно заметить, что все предсказательные модели адекватны - они все дают результаты лучше медианной модели.\n",
    "\n",
    "Из всех результатов можно выделить две модели: модель случайного леса, и регрессионная модель библиотеки LightGBM. Их результаты заметно лучше всех остальных, и очень близки друг к другу.\n",
    "\n",
    "Проверим две эти модели на тестовых данных, чтобы принять окончательное решение."
   ]
  },
  {
   "cell_type": "code",
   "execution_count": 14,
   "metadata": {
    "scrolled": true
   },
   "outputs": [
    {
     "data": {
      "text/plain": [
       "6.145715276494771"
      ]
     },
     "execution_count": 14,
     "metadata": {},
     "output_type": "execute_result"
    }
   ],
   "source": [
    "forest = RandomForestRegressor(random_state=RS, n_jobs=-1, max_depth=10, n_estimators=100)\n",
    "forest.fit(X_train, y_train)\n",
    "forest_pred = forest.predict(X_test)\n",
    "mae_forest = mean_absolute_error(forest_pred, y_test)\n",
    "mae_forest"
   ]
  },
  {
   "cell_type": "code",
   "execution_count": 15,
   "metadata": {},
   "outputs": [
    {
     "data": {
      "text/plain": [
       "6.0664978910562555"
      ]
     },
     "execution_count": 15,
     "metadata": {},
     "output_type": "execute_result"
    }
   ],
   "source": [
    "lgbm = LGBMRegressor(random_state=RS, n_jobs=-1, max_depth=8, n_estimators=500, num_leaves=16, learning_rate=0.01)\n",
    "lgbm.fit(X_train, y_train)\n",
    "lgbm_pred = lgbm.predict(X_test)\n",
    "mae_lgbm = mean_absolute_error(lgbm_pred, y_test)\n",
    "mae_lgbm"
   ]
  },
  {
   "cell_type": "markdown",
   "metadata": {},
   "source": [
    "На тестовых данных с заметным перевесом по качеству лидирует модель с градиентным бустингом. Изучим ее. Посмотрим на важности признаков, которые модель присвоила. По сути это это вектор ввесов w каждого из признаков. Для удобства сранения переведем веса в проценты, где сто процентов - суммарное влияние всех признаков."
   ]
  },
  {
   "cell_type": "code",
   "execution_count": 100,
   "metadata": {},
   "outputs": [
    {
     "data": {
      "text/plain": [
       "array([20.,  3.,  0.,  3.,  2.,  1.,  5.,  0.,  0.,  0.,  0.,  2.,  6.,\n",
       "        0.,  7.,  4., 10.,  7.,  1.,  0.,  0.,  0.,  0.,  0.,  0.,  8.,\n",
       "       21.])"
      ]
     },
     "execution_count": 100,
     "metadata": {},
     "output_type": "execute_result"
    }
   ],
   "source": [
    "lgbm_importances = np.around(lgbm.feature_importances_/lgbm.feature_importances_.sum(), 2)*100\n",
    "lgbm_importances"
   ]
  },
  {
   "cell_type": "code",
   "execution_count": 103,
   "metadata": {},
   "outputs": [
    {
     "data": {
      "image/png": "[encoded data removed]",
      "text/plain": [
       "<Figure size 1008x432 with 1 Axes>"
      ]
     },
     "metadata": {
      "needs_background": "light"
     },
     "output_type": "display_data"
    }
   ],
   "source": [
    "plt.figure(figsize=(14, 6))\n",
    "plt.bar(X.columns, lgbm_importances)\n",
    "plt.title('Вес признаков в процентах', size=13)\n",
    "plt.xticks(rotation=60)\n",
    "plt.grid()\n",
    "plt.show()"
   ]
  },
  {
   "cell_type": "markdown",
   "metadata": {},
   "source": [
    "На графике видно, что выбранной модели для определения итоговой температуры партии наиболее важны начальная температура и количество затрачиваемой на подогрев мощности. В меньшей степени влияют подаваемые присадки. Тем не менее, тройка признаков, сильнее всего влияющих на итоговую температуру партии выглядит так:\n",
    "* Начальная температура партии (start_temp);\n",
    "* Активная мощность, затраченная на подогрев (active_power);\n",
    "* Объем подвнной проводной присадки №1 (wire_1).\n",
    "\n",
    "У выбранной модели часть признаков (11 штук) вообще не влияет на предсказания модели. Это признаки, описывающие объем некоторых из поданных присадок. Скорее всего это произошло из-за малого количества наблюдений, в которых применялись эти присадки. В дальнейшем хотелось бы иметь наблюдения за более длительный срок, возможно это изменило бы баланс весов в выбраной модели. Не исключено, что больший объем данных приведет к выбору другой модели с иным набором гиперпараметров.\n",
    "\n",
    "Для улучшения качества предсказаний можно отдельно выполнить кросс-валидацию уже выбранной модели с более широкими диапазонами гиперпараметров. Таким образом, я уверен, на этой модели можно досчитчь величины МАЕ <6 на тестовых данных. Делать это нужно исходя из ресурсо- и времязатрат и потребности бизнеса. В настоящем проекте я остановлюсь на достигнутом результате."
   ]
  },
  {
   "cell_type": "markdown",
   "metadata": {},
   "source": [
    "---"
   ]
  },
  {
   "cell_type": "markdown",
   "metadata": {},
   "source": [
    "## Доработка модели для применения бизнесом\n",
    "[вернуться к содержанию](#Содержание)"
   ]
  },
  {
   "cell_type": "markdown",
   "metadata": {},
   "source": [
    "Для применения модели в бизнесс-процессах необходимо обучить полученную модель на всём наборе имеющихся данных."
   ]
  },
  {
   "cell_type": "code",
   "execution_count": 106,
   "metadata": {},
   "outputs": [],
   "source": [
    "steel_model_final = lgbm.fit(X, y)"
   ]
  },
  {
   "cell_type": "markdown",
   "metadata": {},
   "source": [
    "Модель готова. Теперь, передавая в нее исходные данные, предобработанные по той же схеме, что была в первом разделе этого проекта, заказчик будет получать прогнозируемую температуру партии. Заказчик может привести окончательную температуру партии к оптимальной, подбирая входные параметры, к примеру, активную мощность, начальную температуру партии, объем инертного газа.\n",
    "\n",
    "```target_temp = steel_model_final.predict(X_to_predict)```"
   ]
  },
  {
   "cell_type": "markdown",
   "metadata": {},
   "source": [
    "## Отчет по решению\n",
    "[вернуться к содержанию](#Содержание)"
   ]
  },
  {
   "cell_type": "markdown",
   "metadata": {},
   "source": [
    "Для отчета я воспользуюсь планом работы, который составил ранее, и который служит тут содержанием. Все пункты плана были успешно выполнены. По каждой части плана дам развернутый комментарий, что было сделано, какие инструменты применены, чего удалось достичь."
   ]
  },
  {
   "cell_type": "markdown",
   "metadata": {},
   "source": [
    "0. <b>Подготовка данных и создание набора данных для дальнейшей работы.</b>  \n",
    "На данном этапе мной были получены сырые данные, выгруженные из разных таблиц базы данных техпроцесса. Данные содержали в себе пропуски, ошибки. Информация по некоторым партиям не подходила для нашей задачи совершенно. Каждая из таблиц была очищена от пропусков и ошибок, данные были статистически исследованы. По большинству таблиц была проверена корреляция имеющихся признаков. Так же, был отобран список подходящих для анализа партий, по которому в результате был составлен набор данных для обработки инструментами машинного обучения. Набор данных был сохранен в отдельный csv-файл.  \n",
    "\n",
    "\n",
    "1. <b>Подготовка признаков.</b>  \n",
    "Полученный на прошлом этапе набор данных был загружен из csv-файла. Поделён на признаки и целевой признак. Кроме того, на этом этапе был удален столбец с номером партии, по недосмотру оставшийся в данных. Инструментом ```train_test_split``` библиотеки scikit-learn  признаки и целевой признак были поделены на обучающую-валидационную и тестовую выборки в пропорции 75%/25%.  \n",
    "\n",
    "\n",
    "2. <b>Выбор набора моделей.</b>  \n",
    "Для использования мной был выбран набор регрессионных моделей разных принципов действия из библиотек scikit-learn и lightgbm. Модели были собраны в отдельную переменную-словарь, где помимо самих моделей были отобраны гиперпараметры и заданы диапазоны  внутри которых будет осуществляться подбор оптимальных гиперпараметров. Помимо реальных моделей я добавил в набор медианную модель, показания которой использовал для проверки адекватности модели.  \n",
    "\n",
    "\n",
    "3. <b>Подбор оптимальных гиперпараметров моделей и определение их качества.</b>  \n",
    "На данном этапе был выполнен подбор оптимальных гиперпараметров каждой модели из словаря из прошлого пункта. Подбор выполнялся инструментом ```GridSearchCV``` из библиотеки scikit-learn. Был выполнен перебор по сетке гиперпараметров всех моделей и подобраны гиперпараметры дающие лучший размер требуемой метрики МАЕ. На данном этапе у меня возникла единственная серьезная проблема на весь проект. Изначально выбранные диапазоны гиперпараметров были очень большими, и поэтому кросс-валидация заняла у меня больше суток. Не дождавшись окончания перебора, я отменил рассчет и уменьшил разброс диапазонов гиперпараметров. Так же время выполнения могло бы снизить уменьшение числа блоков для кросс-валидации (параметр ```cv```). После уменьшения диапазонов, подбор гиперпараметров занял около 4 часов. В результате я получил наилучший размер МАЕ для каждой из моделей в выбранных диапазонах гиперпараметров. Тут я так же сравнил значения метрики с результатами медианной модели, чтобы проверить адекватность модели. Все выбраные модели оказались адекватны.\n",
    " \n",
    " \n",
    "4. <b>Выбор и анализ наилучшей модели.</b>  \n",
    "В результате наилучшие значения метрик были получены на модели случайного леса из библиотеки scikit-learn и регрессионной модели из библиотеки lightgbm. Кстати, я не указал на это в самой работе, но по сути модель lightgbm представляет из себя модель случайного леса, но использует градиентный бустинг. Так что в финал вышли две модели, имеющие один принцип работы.  \n",
    "Итоговую проверку я выполнял уже на тестовых данных. И здесь модель библиотеки lightgbm показала лучший результат (МАЕ 6.06 против 6.14 у обычного случайного леса).  \n",
    "Выбрав лучшую модель, я проанализировал веса, которые модель присвоила признакам. На основе весов, я сделал предложения по предобработке данных. Так же указал возможные направления для повышения качества модели.  \n",
    "В самом конце я подготовил модель для использования бизнесом, обучив ее на всём имеющемся наборе данных.\n",
    "\n",
    "<b>В результате выполнения работы была выбрана модель и гиперпараметры:</b>  \n",
    "\n",
    "```LGBMRegressor(random_state=12345, n_jobs=-1, max_depth=8, n_estimators=500, num_leaves=16, learning_rate=0.01)```\n",
    "\n",
    "<b> Размер целевой метрики составил: МАЕ = 6.06</b> "
   ]
  }
 ],
 "metadata": {
  "ExecuteTimeLog": [
   {
    "duration": 212,
    "start_time": "2022-03-01T11:44:00.867Z"
   },
   {
    "duration": 972,
    "start_time": "2022-03-01T11:44:05.597Z"
   },
   {
    "duration": 120,
    "start_time": "2022-03-01T11:44:09.618Z"
   },
   {
    "duration": 29,
    "start_time": "2022-03-01T11:44:10.915Z"
   },
   {
    "duration": 1017,
    "start_time": "2022-03-01T12:54:52.250Z"
   },
   {
    "duration": 94,
    "start_time": "2022-03-01T12:54:53.268Z"
   },
   {
    "duration": 30,
    "start_time": "2022-03-01T12:54:53.364Z"
   },
   {
    "duration": 4,
    "start_time": "2022-03-01T12:54:53.395Z"
   },
   {
    "duration": 4,
    "start_time": "2022-03-01T12:55:54.186Z"
   },
   {
    "duration": 985,
    "start_time": "2022-03-01T12:56:13.484Z"
   },
   {
    "duration": 65,
    "start_time": "2022-03-01T12:56:14.471Z"
   },
   {
    "duration": 30,
    "start_time": "2022-03-01T12:56:14.538Z"
   },
   {
    "duration": 4,
    "start_time": "2022-03-01T12:56:14.569Z"
   },
   {
    "duration": 9,
    "start_time": "2022-03-01T12:56:14.575Z"
   },
   {
    "duration": 256,
    "start_time": "2022-03-01T13:29:14.169Z"
   },
   {
    "duration": 166,
    "start_time": "2022-03-01T13:29:21.071Z"
   },
   {
    "duration": 8,
    "start_time": "2022-03-01T13:29:28.456Z"
   },
   {
    "duration": 238,
    "start_time": "2022-03-01T13:29:50.013Z"
   },
   {
    "duration": 305,
    "start_time": "2022-03-01T13:29:59.201Z"
   },
   {
    "duration": 7,
    "start_time": "2022-03-01T13:30:38.143Z"
   },
   {
    "duration": 1731,
    "start_time": "2022-03-01T13:31:01.486Z"
   },
   {
    "duration": 602,
    "start_time": "2022-03-01T13:31:08.727Z"
   },
   {
    "duration": 539,
    "start_time": "2022-03-01T13:31:14.008Z"
   },
   {
    "duration": 307,
    "start_time": "2022-03-01T13:31:19.447Z"
   },
   {
    "duration": 174,
    "start_time": "2022-03-01T13:40:21.206Z"
   },
   {
    "duration": 1405,
    "start_time": "2022-03-01T13:40:29.241Z"
   },
   {
    "duration": 1952,
    "start_time": "2022-03-01T13:40:28.696Z"
   },
   {
    "duration": 1950,
    "start_time": "2022-03-01T13:40:28.699Z"
   },
   {
    "duration": 1918,
    "start_time": "2022-03-01T13:40:28.732Z"
   },
   {
    "duration": 1913,
    "start_time": "2022-03-01T13:40:28.738Z"
   },
   {
    "duration": 1907,
    "start_time": "2022-03-01T13:40:28.745Z"
   },
   {
    "duration": 1131,
    "start_time": "2022-03-01T13:40:56.292Z"
   },
   {
    "duration": 136,
    "start_time": "2022-03-01T13:40:57.426Z"
   },
   {
    "duration": 29,
    "start_time": "2022-03-01T13:40:57.565Z"
   },
   {
    "duration": 4,
    "start_time": "2022-03-01T13:40:57.596Z"
   },
   {
    "duration": 9,
    "start_time": "2022-03-01T13:40:57.602Z"
   },
   {
    "duration": 274,
    "start_time": "2022-03-01T13:40:57.612Z"
   },
   {
    "duration": 3,
    "start_time": "2022-03-01T13:41:26.076Z"
   },
   {
    "duration": 1079,
    "start_time": "2022-03-01T13:41:30.429Z"
   },
   {
    "duration": 67,
    "start_time": "2022-03-01T13:41:31.510Z"
   },
   {
    "duration": 31,
    "start_time": "2022-03-01T13:41:31.579Z"
   },
   {
    "duration": 3,
    "start_time": "2022-03-01T13:41:31.612Z"
   },
   {
    "duration": 8,
    "start_time": "2022-03-01T13:41:31.617Z"
   },
   {
    "duration": 9,
    "start_time": "2022-03-01T13:41:31.627Z"
   },
   {
    "duration": 4,
    "start_time": "2022-03-01T13:44:40.217Z"
   },
   {
    "duration": 5,
    "start_time": "2022-03-01T14:21:45.268Z"
   },
   {
    "duration": 56,
    "start_time": "2022-03-01T14:21:50.810Z"
   },
   {
    "duration": 5,
    "start_time": "2022-03-01T14:21:55.121Z"
   },
   {
    "duration": 258,
    "start_time": "2022-03-01T14:22:01.616Z"
   },
   {
    "duration": 5,
    "start_time": "2022-03-01T14:22:05.945Z"
   },
   {
    "duration": 189,
    "start_time": "2022-03-01T14:23:00.856Z"
   },
   {
    "duration": 4,
    "start_time": "2022-03-01T14:23:04.147Z"
   },
   {
    "duration": 191,
    "start_time": "2022-03-01T14:23:37.615Z"
   },
   {
    "duration": 6,
    "start_time": "2022-03-01T14:23:47.172Z"
   },
   {
    "duration": 3,
    "start_time": "2022-03-01T14:23:57.909Z"
   },
   {
    "duration": 4,
    "start_time": "2022-03-01T14:25:21.425Z"
   },
   {
    "duration": 3,
    "start_time": "2022-03-01T14:28:37.331Z"
   },
   {
    "duration": 322,
    "start_time": "2022-03-01T14:28:38.615Z"
   },
   {
    "duration": 2,
    "start_time": "2022-03-01T14:30:48.246Z"
   },
   {
    "duration": 254,
    "start_time": "2022-03-01T14:30:49.888Z"
   },
   {
    "duration": 3,
    "start_time": "2022-03-01T14:33:02.570Z"
   },
   {
    "duration": 395,
    "start_time": "2022-03-01T14:33:04.839Z"
   },
   {
    "duration": 467,
    "start_time": "2022-03-01T14:33:25.973Z"
   },
   {
    "duration": 378,
    "start_time": "2022-03-01T14:33:49.763Z"
   },
   {
    "duration": 677,
    "start_time": "2022-03-01T14:34:54.861Z"
   },
   {
    "duration": 194,
    "start_time": "2022-03-01T14:35:27.232Z"
   },
   {
    "duration": 467,
    "start_time": "2022-03-01T14:36:13.272Z"
   },
   {
    "duration": 1028,
    "start_time": "2022-03-01T14:40:09.641Z"
   },
   {
    "duration": 90,
    "start_time": "2022-03-01T14:40:10.671Z"
   },
   {
    "duration": 29,
    "start_time": "2022-03-01T14:40:10.763Z"
   },
   {
    "duration": 4,
    "start_time": "2022-03-01T14:40:10.795Z"
   },
   {
    "duration": 7,
    "start_time": "2022-03-01T14:40:10.801Z"
   },
   {
    "duration": 6,
    "start_time": "2022-03-01T14:40:10.809Z"
   },
   {
    "duration": 6070227,
    "start_time": "2022-03-01T14:40:10.817Z"
   },
   {
    "duration": 4,
    "start_time": "2022-03-01T17:22:10.100Z"
   },
   {
    "duration": 785,
    "start_time": "2022-03-01T17:22:47.255Z"
   },
   {
    "duration": 617,
    "start_time": "2022-03-01T17:26:00.835Z"
   },
   {
    "duration": 4,
    "start_time": "2022-03-01T17:41:48.012Z"
   },
   {
    "duration": 4,
    "start_time": "2022-03-01T17:43:19.526Z"
   },
   {
    "duration": 4,
    "start_time": "2022-03-01T17:43:26.098Z"
   },
   {
    "duration": 12,
    "start_time": "2022-03-01T17:44:10.899Z"
   },
   {
    "duration": 13,
    "start_time": "2022-03-01T17:44:18.386Z"
   },
   {
    "duration": 11,
    "start_time": "2022-03-01T17:44:33.201Z"
   },
   {
    "duration": 5,
    "start_time": "2022-03-01T17:44:52.542Z"
   },
   {
    "duration": 4,
    "start_time": "2022-03-01T17:46:43.558Z"
   },
   {
    "duration": 251,
    "start_time": "2022-03-01T17:46:49.211Z"
   },
   {
    "duration": 179,
    "start_time": "2022-03-01T17:46:57.276Z"
   },
   {
    "duration": 4,
    "start_time": "2022-03-01T17:47:33.230Z"
   },
   {
    "duration": 3,
    "start_time": "2022-03-01T17:47:39.525Z"
   },
   {
    "duration": 169,
    "start_time": "2022-03-01T17:48:02.212Z"
   },
   {
    "duration": 2,
    "start_time": "2022-03-01T17:48:17.395Z"
   },
   {
    "duration": 4,
    "start_time": "2022-03-01T17:48:23.688Z"
   },
   {
    "duration": 186,
    "start_time": "2022-03-01T17:48:33.693Z"
   },
   {
    "duration": 987,
    "start_time": "2022-03-01T17:52:35.585Z"
   },
   {
    "duration": 137,
    "start_time": "2022-03-01T17:52:36.574Z"
   },
   {
    "duration": 29,
    "start_time": "2022-03-01T17:52:36.713Z"
   },
   {
    "duration": 4,
    "start_time": "2022-03-01T17:52:36.744Z"
   },
   {
    "duration": 7,
    "start_time": "2022-03-01T17:52:36.750Z"
   },
   {
    "duration": 5,
    "start_time": "2022-03-01T17:52:36.759Z"
   },
   {
    "duration": 4960569,
    "start_time": "2022-03-01T17:52:36.765Z"
   },
   {
    "duration": 714,
    "start_time": "2022-03-01T19:15:17.337Z"
   },
   {
    "duration": 11,
    "start_time": "2022-03-01T19:15:18.053Z"
   },
   {
    "duration": 589,
    "start_time": "2022-03-01T19:15:18.065Z"
   },
   {
    "duration": 81,
    "start_time": "2022-03-01T19:15:18.656Z"
   },
   {
    "duration": 647,
    "start_time": "2022-03-02T05:11:54.949Z"
   },
   {
    "duration": 699,
    "start_time": "2022-03-02T05:12:02.716Z"
   },
   {
    "duration": 651,
    "start_time": "2022-03-02T05:12:06.227Z"
   },
   {
    "duration": 2948,
    "start_time": "2022-03-02T05:12:27.186Z"
   },
   {
    "duration": 5,
    "start_time": "2022-03-02T05:12:41.336Z"
   },
   {
    "duration": 259,
    "start_time": "2022-03-02T05:13:19.686Z"
   },
   {
    "duration": 179,
    "start_time": "2022-03-02T05:13:45.434Z"
   },
   {
    "duration": 19,
    "start_time": "2022-03-02T05:14:13.190Z"
   },
   {
    "duration": 189,
    "start_time": "2022-03-02T05:14:51.910Z"
   },
   {
    "duration": 17,
    "start_time": "2022-03-02T05:15:28.033Z"
   },
   {
    "duration": 5,
    "start_time": "2022-03-02T05:16:28.681Z"
   },
   {
    "duration": 17,
    "start_time": "2022-03-02T05:16:30.968Z"
   },
   {
    "duration": 398,
    "start_time": "2022-03-02T05:17:52.058Z"
   },
   {
    "duration": 2823,
    "start_time": "2022-03-02T05:18:03.693Z"
   },
   {
    "duration": 182,
    "start_time": "2022-03-02T05:18:20.363Z"
   },
   {
    "duration": 316,
    "start_time": "2022-03-02T05:18:45.921Z"
   },
   {
    "duration": 195,
    "start_time": "2022-03-02T05:19:05.390Z"
   },
   {
    "duration": 341,
    "start_time": "2022-03-02T05:19:22.253Z"
   },
   {
    "duration": 327,
    "start_time": "2022-03-02T05:19:30.709Z"
   },
   {
    "duration": 325,
    "start_time": "2022-03-02T05:19:38.372Z"
   },
   {
    "duration": 352,
    "start_time": "2022-03-02T05:19:44.854Z"
   },
   {
    "duration": 4380,
    "start_time": "2022-03-02T05:19:52.236Z"
   },
   {
    "duration": 180,
    "start_time": "2022-03-02T05:20:15.378Z"
   },
   {
    "duration": 191,
    "start_time": "2022-03-02T05:20:22.087Z"
   },
   {
    "duration": 175,
    "start_time": "2022-03-02T05:20:47.086Z"
   },
   {
    "duration": 178,
    "start_time": "2022-03-02T05:23:51.865Z"
   },
   {
    "duration": 4,
    "start_time": "2022-03-02T05:24:08.848Z"
   },
   {
    "duration": 144,
    "start_time": "2022-03-02T05:24:13.323Z"
   },
   {
    "duration": 213,
    "start_time": "2022-03-02T05:24:25.382Z"
   },
   {
    "duration": 133,
    "start_time": "2022-03-02T05:24:32.901Z"
   },
   {
    "duration": 305,
    "start_time": "2022-03-02T05:25:06.649Z"
   },
   {
    "duration": 121,
    "start_time": "2022-03-02T05:26:51.630Z"
   },
   {
    "duration": 138,
    "start_time": "2022-03-02T05:26:59.767Z"
   },
   {
    "duration": 1821,
    "start_time": "2022-03-02T05:27:15.216Z"
   },
   {
    "duration": 304,
    "start_time": "2022-03-02T05:27:20.704Z"
   },
   {
    "duration": 135,
    "start_time": "2022-03-02T05:27:25.604Z"
   },
   {
    "duration": 142,
    "start_time": "2022-03-02T05:27:57.863Z"
   },
   {
    "duration": 147,
    "start_time": "2022-03-02T05:28:04.566Z"
   },
   {
    "duration": 143,
    "start_time": "2022-03-02T05:28:09.457Z"
   },
   {
    "duration": 142,
    "start_time": "2022-03-02T05:28:17.837Z"
   },
   {
    "duration": 152,
    "start_time": "2022-03-02T05:29:03.880Z"
   },
   {
    "duration": 158,
    "start_time": "2022-03-02T05:29:26.509Z"
   },
   {
    "duration": 153,
    "start_time": "2022-03-02T05:29:37.260Z"
   },
   {
    "duration": 160,
    "start_time": "2022-03-02T05:30:47.934Z"
   },
   {
    "duration": 156,
    "start_time": "2022-03-02T05:30:55.028Z"
   },
   {
    "duration": 150,
    "start_time": "2022-03-02T05:31:06.297Z"
   },
   {
    "duration": 145,
    "start_time": "2022-03-02T05:32:16.149Z"
   },
   {
    "duration": 158,
    "start_time": "2022-03-02T05:32:20.810Z"
   },
   {
    "duration": 145,
    "start_time": "2022-03-02T05:32:29.465Z"
   },
   {
    "duration": 287,
    "start_time": "2022-03-02T05:33:32.707Z"
   },
   {
    "duration": 151,
    "start_time": "2022-03-02T05:33:38.565Z"
   },
   {
    "duration": 146,
    "start_time": "2022-03-02T05:33:49.593Z"
   },
   {
    "duration": 154,
    "start_time": "2022-03-02T05:34:00.448Z"
   },
   {
    "duration": 148,
    "start_time": "2022-03-02T05:34:06.881Z"
   },
   {
    "duration": 151,
    "start_time": "2022-03-02T05:34:12.075Z"
   },
   {
    "duration": 147,
    "start_time": "2022-03-02T05:34:17.159Z"
   },
   {
    "duration": 159,
    "start_time": "2022-03-02T05:34:25.336Z"
   },
   {
    "duration": 152,
    "start_time": "2022-03-02T05:34:30.254Z"
   },
   {
    "duration": 157,
    "start_time": "2022-03-02T05:34:46.892Z"
   },
   {
    "duration": 155,
    "start_time": "2022-03-02T05:34:51.195Z"
   },
   {
    "duration": 154,
    "start_time": "2022-03-02T05:34:59.873Z"
   },
   {
    "duration": 192,
    "start_time": "2022-03-02T05:36:19.548Z"
   },
   {
    "duration": 313,
    "start_time": "2022-03-02T05:36:33.761Z"
   },
   {
    "duration": 175,
    "start_time": "2022-03-02T05:37:14.550Z"
   },
   {
    "duration": 259,
    "start_time": "2022-03-02T05:37:34.894Z"
   },
   {
    "duration": 438,
    "start_time": "2022-03-02T05:38:59.154Z"
   },
   {
    "duration": 414,
    "start_time": "2022-03-02T05:39:18.832Z"
   },
   {
    "duration": 586,
    "start_time": "2022-03-02T05:39:27.662Z"
   },
   {
    "duration": 339,
    "start_time": "2022-03-02T05:39:39.677Z"
   },
   {
    "duration": 471,
    "start_time": "2022-03-02T05:39:47.023Z"
   },
   {
    "duration": 433,
    "start_time": "2022-03-02T05:39:53.243Z"
   },
   {
    "duration": 418,
    "start_time": "2022-03-02T05:40:00.446Z"
   },
   {
    "duration": 366,
    "start_time": "2022-03-02T05:40:06.937Z"
   },
   {
    "duration": 5433,
    "start_time": "2022-03-02T05:40:36.687Z"
   },
   {
    "duration": 339,
    "start_time": "2022-03-02T05:40:56.205Z"
   },
   {
    "duration": 315,
    "start_time": "2022-03-02T05:41:16.805Z"
   },
   {
    "duration": 326,
    "start_time": "2022-03-02T05:41:52.109Z"
   },
   {
    "duration": 331,
    "start_time": "2022-03-02T05:41:58.051Z"
   },
   {
    "duration": 497,
    "start_time": "2022-03-02T05:42:20.899Z"
   },
   {
    "duration": 323,
    "start_time": "2022-03-02T05:42:51.752Z"
   },
   {
    "duration": 328,
    "start_time": "2022-03-02T05:43:28.949Z"
   },
   {
    "duration": 321,
    "start_time": "2022-03-02T05:43:34.373Z"
   },
   {
    "duration": 324,
    "start_time": "2022-03-02T05:44:37.615Z"
   },
   {
    "duration": 11,
    "start_time": "2022-03-02T05:45:59.432Z"
   },
   {
    "duration": 329,
    "start_time": "2022-03-02T05:46:17.659Z"
   },
   {
    "duration": 6,
    "start_time": "2022-03-02T05:50:37.504Z"
   },
   {
    "duration": 320,
    "start_time": "2022-03-02T05:51:07.604Z"
   },
   {
    "duration": 475,
    "start_time": "2022-03-02T05:51:13.325Z"
   },
   {
    "duration": 5,
    "start_time": "2022-03-02T05:51:40.617Z"
   },
   {
    "duration": 323,
    "start_time": "2022-03-02T05:51:41.175Z"
   },
   {
    "duration": 328,
    "start_time": "2022-03-02T06:12:50.003Z"
   },
   {
    "duration": 325,
    "start_time": "2022-03-02T06:12:55.919Z"
   },
   {
    "duration": 85414766,
    "start_time": "2022-03-02T07:06:07.428Z"
   },
   {
    "duration": 184,
    "start_time": "2022-03-03T06:51:04.603Z"
   },
   {
    "duration": 3098,
    "start_time": "2022-03-03T06:51:13.435Z"
   },
   {
    "duration": 1364,
    "start_time": "2022-03-03T08:00:15.832Z"
   },
   {
    "duration": 1885,
    "start_time": "2022-03-03T08:00:43.235Z"
   }
  ],
  "kernelspec": {
   "display_name": "Python 3 (ipykernel)",
   "language": "python",
   "name": "python3"
  },
  "language_info": {
   "codemirror_mode": {
    "name": "ipython",
    "version": 3
   },
   "file_extension": ".py",
   "mimetype": "text/x-python",
   "name": "python",
   "nbconvert_exporter": "python",
   "pygments_lexer": "ipython3",
   "version": "3.9.7"
  },
  "toc": {
   "base_numbering": 1,
   "nav_menu": {},
   "number_sections": true,
   "sideBar": true,
   "skip_h1_title": true,
   "title_cell": "Table of Contents",
   "title_sidebar": "Contents",
   "toc_cell": false,
   "toc_position": {},
   "toc_section_display": true,
   "toc_window_display": false
  }
 },
 "nbformat": 4,
 "nbformat_minor": 2
}
