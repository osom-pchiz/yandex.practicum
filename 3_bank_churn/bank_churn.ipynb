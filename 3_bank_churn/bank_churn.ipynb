{
 "cells": [
  {
   "cell_type": "markdown",
   "metadata": {
    "toc": true
   },
   "source": [
    "<h1>Содержание<span class=\"tocSkip\"></span></h1>\n",
    "<div class=\"toc\"><ul class=\"toc-item\"><li><span><a href=\"#Подготовка-данных\" data-toc-modified-id=\"Подготовка-данных-1\"><span class=\"toc-item-num\">1&nbsp;&nbsp;</span>Подготовка данных</a></span></li><li><span><a href=\"#Исследование-задачи\" data-toc-modified-id=\"Исследование-задачи-2\"><span class=\"toc-item-num\">2&nbsp;&nbsp;</span>Исследование задачи</a></span></li><li><span><a href=\"#Борьба-с-дисбалансом\" data-toc-modified-id=\"Борьба-с-дисбалансом-3\"><span class=\"toc-item-num\">3&nbsp;&nbsp;</span>Борьба с дисбалансом</a></span><ul class=\"toc-item\"><li><span><a href=\"#Балансирование-классов\" data-toc-modified-id=\"Балансирование-классов-3.1\"><span class=\"toc-item-num\">3.1&nbsp;&nbsp;</span>Балансирование классов</a></span></li><li><span><a href=\"#Увеличение-выборки\" data-toc-modified-id=\"Увеличение-выборки-3.2\"><span class=\"toc-item-num\">3.2&nbsp;&nbsp;</span>Увеличение выборки</a></span></li><li><span><a href=\"#Уменьшение-выборки\" data-toc-modified-id=\"Уменьшение-выборки-3.3\"><span class=\"toc-item-num\">3.3&nbsp;&nbsp;</span>Уменьшение выборки</a></span></li><li><span><a href=\"#Эксперименты\" data-toc-modified-id=\"Эксперименты-3.4\"><span class=\"toc-item-num\">3.4&nbsp;&nbsp;</span>Эксперименты</a></span></li></ul></li><li><span><a href=\"#Тестирование-модели\" data-toc-modified-id=\"Тестирование-модели-4\"><span class=\"toc-item-num\">4&nbsp;&nbsp;</span>Тестирование модели</a></span><ul class=\"toc-item\"><li><span><a href=\"#Балансирование-классов-параметром-class_weight='balanced'\" data-toc-modified-id=\"Балансирование-классов-параметром-class_weight='balanced'-4.1\"><span class=\"toc-item-num\">4.1&nbsp;&nbsp;</span>Балансирование классов параметром class_weight='balanced'</a></span></li><li><span><a href=\"#Увеличение-выборки-на-множитель-4\" data-toc-modified-id=\"Увеличение-выборки-на-множитель-4-4.2\"><span class=\"toc-item-num\">4.2&nbsp;&nbsp;</span>Увеличение выборки на множитель 4</a></span></li><li><span><a href=\"#Уменьшение-выборки-на-множитель-0.25\" data-toc-modified-id=\"Уменьшение-выборки-на-множитель-0.25-4.3\"><span class=\"toc-item-num\">4.3&nbsp;&nbsp;</span>Уменьшение выборки на множитель 0.25</a></span></li><li><span><a href=\"#Увеличение-выборки-на-множитель-4-и-параметр-class_weight='balanced'\" data-toc-modified-id=\"Увеличение-выборки-на-множитель-4-и-параметр-class_weight='balanced'-4.4\"><span class=\"toc-item-num\">4.4&nbsp;&nbsp;</span>Увеличение выборки на множитель 4 и параметр class_weight='balanced'</a></span></li><li><span><a href=\"#Подобранный-оптимальный-множитель-для-увеличения-выборки\" data-toc-modified-id=\"Подобранный-оптимальный-множитель-для-увеличения-выборки-4.5\"><span class=\"toc-item-num\">4.5&nbsp;&nbsp;</span>Подобранный оптимальный множитель для увеличения выборки</a></span></li></ul></li><li><span><a href=\"#Общий-вывод-по-работе\" data-toc-modified-id=\"Общий-вывод-по-работе-5\"><span class=\"toc-item-num\">5&nbsp;&nbsp;</span>Общий вывод по работе</a></span></li><li><span><a href=\"#Чек-лист-готовности-проекта\" data-toc-modified-id=\"Чек-лист-готовности-проекта-6\"><span class=\"toc-item-num\">6&nbsp;&nbsp;</span>Чек-лист готовности проекта</a></span></li></ul></div>"
   ]
  },
  {
   "cell_type": "markdown",
   "metadata": {},
   "source": [
    "# Отток клиентов"
   ]
  },
  {
   "cell_type": "markdown",
   "metadata": {},
   "source": [
    "Из «Бета-Банка» стали уходить клиенты. Каждый месяц. Немного, но заметно. Банковские маркетологи посчитали: сохранять текущих клиентов дешевле, чем привлекать новых.\n",
    "\n",
    "Нужно спрогнозировать, уйдёт клиент из банка в ближайшее время или нет. Вам предоставлены исторические данные о поведении клиентов и расторжении договоров с банком. \n",
    "\n",
    "Постройте модель с предельно большим значением *F1*-меры. Чтобы сдать проект успешно, нужно довести метрику до 0.59. Проверьте *F1*-меру на тестовой выборке самостоятельно.\n",
    "\n",
    "Дополнительно измеряйте *AUC-ROC*, сравнивайте её значение с *F1*-мерой.\n",
    "\n",
    "Источник данных: [https://www.kaggle.com/barelydedicated/bank-customer-churn-modeling](https://www.kaggle.com/barelydedicated/bank-customer-churn-modeling)"
   ]
  },
  {
   "cell_type": "markdown",
   "metadata": {},
   "source": [
    "<b>Что-то вроде дисклеймсера:</b>\n",
    "\n",
    "В этой раблоте значения большинства гиперпараметров подбираются в циклах, когда модель раз за разом обучается с новыми гиперпараметрами. От этого тетрадь достаточно долго подсчитывается. Прошу понять и простить. :)"
   ]
  },
  {
   "cell_type": "markdown",
   "metadata": {},
   "source": [
    "## Подготовка данных\n",
    "<sup>[Перейти к содержанию](#Содержание)</sup>"
   ]
  },
  {
   "cell_type": "code",
   "execution_count": 1,
   "metadata": {},
   "outputs": [],
   "source": [
    "#библиотеки\n",
    "import pandas as pd\n",
    "import numpy as np\n",
    "import matplotlib.pyplot as plt\n",
    "#всякое\n",
    "from sklearn.preprocessing import OrdinalEncoder\n",
    "from sklearn.model_selection import train_test_split\n",
    "from sklearn.utils import shuffle\n",
    "#модели\n",
    "from sklearn.tree import DecisionTreeClassifier\n",
    "from sklearn.ensemble import RandomForestClassifier\n",
    "from sklearn.linear_model import LogisticRegression\n",
    "#метрики\n",
    "from sklearn.metrics import f1_score\n",
    "from sklearn.metrics import roc_auc_score\n",
    "from sklearn.metrics import recall_score\n",
    "from sklearn.metrics import precision_score\n",
    "\n",
    "rs = 12345\n",
    "\n",
    "data = pd.read_csv('/datasets/Churn.csv')"
   ]
  },
  {
   "cell_type": "markdown",
   "metadata": {},
   "source": [
    "Для начала посмотрим на сами данные."
   ]
  },
  {
   "cell_type": "code",
   "execution_count": 2,
   "metadata": {
    "scrolled": false
   },
   "outputs": [
    {
     "name": "stdout",
     "output_type": "stream",
     "text": [
      "<class 'pandas.core.frame.DataFrame'>\n",
      "RangeIndex: 10000 entries, 0 to 9999\n",
      "Data columns (total 14 columns):\n",
      "RowNumber          10000 non-null int64\n",
      "CustomerId         10000 non-null int64\n",
      "Surname            10000 non-null object\n",
      "CreditScore        10000 non-null int64\n",
      "Geography          10000 non-null object\n",
      "Gender             10000 non-null object\n",
      "Age                10000 non-null int64\n",
      "Tenure             9091 non-null float64\n",
      "Balance            10000 non-null float64\n",
      "NumOfProducts      10000 non-null int64\n",
      "HasCrCard          10000 non-null int64\n",
      "IsActiveMember     10000 non-null int64\n",
      "EstimatedSalary    10000 non-null float64\n",
      "Exited             10000 non-null int64\n",
      "dtypes: float64(3), int64(8), object(3)\n",
      "memory usage: 1.1+ MB\n"
     ]
    },
    {
     "data": {
      "text/html": [
       "<div>\n",
       "<style scoped>\n",
       "    .dataframe tbody tr th:only-of-type {\n",
       "        vertical-align: middle;\n",
       "    }\n",
       "\n",
       "    .dataframe tbody tr th {\n",
       "        vertical-align: top;\n",
       "    }\n",
       "\n",
       "    .dataframe thead th {\n",
       "        text-align: right;\n",
       "    }\n",
       "</style>\n",
       "<table border=\"1\" class=\"dataframe\">\n",
       "  <thead>\n",
       "    <tr style=\"text-align: right;\">\n",
       "      <th></th>\n",
       "      <th>RowNumber</th>\n",
       "      <th>CustomerId</th>\n",
       "      <th>Surname</th>\n",
       "      <th>CreditScore</th>\n",
       "      <th>Geography</th>\n",
       "      <th>Gender</th>\n",
       "      <th>Age</th>\n",
       "      <th>Tenure</th>\n",
       "      <th>Balance</th>\n",
       "      <th>NumOfProducts</th>\n",
       "      <th>HasCrCard</th>\n",
       "      <th>IsActiveMember</th>\n",
       "      <th>EstimatedSalary</th>\n",
       "      <th>Exited</th>\n",
       "    </tr>\n",
       "  </thead>\n",
       "  <tbody>\n",
       "    <tr>\n",
       "      <td>0</td>\n",
       "      <td>1</td>\n",
       "      <td>15634602</td>\n",
       "      <td>Hargrave</td>\n",
       "      <td>619</td>\n",
       "      <td>France</td>\n",
       "      <td>Female</td>\n",
       "      <td>42</td>\n",
       "      <td>2.0</td>\n",
       "      <td>0.00</td>\n",
       "      <td>1</td>\n",
       "      <td>1</td>\n",
       "      <td>1</td>\n",
       "      <td>101348.88</td>\n",
       "      <td>1</td>\n",
       "    </tr>\n",
       "    <tr>\n",
       "      <td>1</td>\n",
       "      <td>2</td>\n",
       "      <td>15647311</td>\n",
       "      <td>Hill</td>\n",
       "      <td>608</td>\n",
       "      <td>Spain</td>\n",
       "      <td>Female</td>\n",
       "      <td>41</td>\n",
       "      <td>1.0</td>\n",
       "      <td>83807.86</td>\n",
       "      <td>1</td>\n",
       "      <td>0</td>\n",
       "      <td>1</td>\n",
       "      <td>112542.58</td>\n",
       "      <td>0</td>\n",
       "    </tr>\n",
       "    <tr>\n",
       "      <td>2</td>\n",
       "      <td>3</td>\n",
       "      <td>15619304</td>\n",
       "      <td>Onio</td>\n",
       "      <td>502</td>\n",
       "      <td>France</td>\n",
       "      <td>Female</td>\n",
       "      <td>42</td>\n",
       "      <td>8.0</td>\n",
       "      <td>159660.80</td>\n",
       "      <td>3</td>\n",
       "      <td>1</td>\n",
       "      <td>0</td>\n",
       "      <td>113931.57</td>\n",
       "      <td>1</td>\n",
       "    </tr>\n",
       "    <tr>\n",
       "      <td>3</td>\n",
       "      <td>4</td>\n",
       "      <td>15701354</td>\n",
       "      <td>Boni</td>\n",
       "      <td>699</td>\n",
       "      <td>France</td>\n",
       "      <td>Female</td>\n",
       "      <td>39</td>\n",
       "      <td>1.0</td>\n",
       "      <td>0.00</td>\n",
       "      <td>2</td>\n",
       "      <td>0</td>\n",
       "      <td>0</td>\n",
       "      <td>93826.63</td>\n",
       "      <td>0</td>\n",
       "    </tr>\n",
       "    <tr>\n",
       "      <td>4</td>\n",
       "      <td>5</td>\n",
       "      <td>15737888</td>\n",
       "      <td>Mitchell</td>\n",
       "      <td>850</td>\n",
       "      <td>Spain</td>\n",
       "      <td>Female</td>\n",
       "      <td>43</td>\n",
       "      <td>2.0</td>\n",
       "      <td>125510.82</td>\n",
       "      <td>1</td>\n",
       "      <td>1</td>\n",
       "      <td>1</td>\n",
       "      <td>79084.10</td>\n",
       "      <td>0</td>\n",
       "    </tr>\n",
       "  </tbody>\n",
       "</table>\n",
       "</div>"
      ],
      "text/plain": [
       "   RowNumber  CustomerId   Surname  CreditScore Geography  Gender  Age  \\\n",
       "0          1    15634602  Hargrave          619    France  Female   42   \n",
       "1          2    15647311      Hill          608     Spain  Female   41   \n",
       "2          3    15619304      Onio          502    France  Female   42   \n",
       "3          4    15701354      Boni          699    France  Female   39   \n",
       "4          5    15737888  Mitchell          850     Spain  Female   43   \n",
       "\n",
       "   Tenure    Balance  NumOfProducts  HasCrCard  IsActiveMember  \\\n",
       "0     2.0       0.00              1          1               1   \n",
       "1     1.0   83807.86              1          0               1   \n",
       "2     8.0  159660.80              3          1               0   \n",
       "3     1.0       0.00              2          0               0   \n",
       "4     2.0  125510.82              1          1               1   \n",
       "\n",
       "   EstimatedSalary  Exited  \n",
       "0        101348.88       1  \n",
       "1        112542.58       0  \n",
       "2        113931.57       1  \n",
       "3         93826.63       0  \n",
       "4         79084.10       0  "
      ]
     },
     "execution_count": 2,
     "metadata": {},
     "output_type": "execute_result"
    }
   ],
   "source": [
    "data.info()\n",
    "data.head()"
   ]
  },
  {
   "cell_type": "markdown",
   "metadata": {},
   "source": [
    "В представленных данных зачем-то есть признак, дублирующий индексы. При построении модели он определенно не нужен и будет мешать, так как модель будет пытаться использовать его для предсказания. Поэтому удалим его. "
   ]
  },
  {
   "cell_type": "code",
   "execution_count": 3,
   "metadata": {},
   "outputs": [],
   "source": [
    "data = data.drop(axis=1, columns='RowNumber')"
   ]
  },
  {
   "cell_type": "markdown",
   "metadata": {},
   "source": [
    "В данных у нас есть ID каждого конкретного клиента и его фамилия. Вероятность ухода клиента из банка не может зависеть от индивидуального номера или от фамилии. Так что эти признаки тоже необходимо будет исключить, чтобы модель не пыталась строить на них свои предположения."
   ]
  },
  {
   "cell_type": "code",
   "execution_count": 4,
   "metadata": {},
   "outputs": [],
   "source": [
    "data = data.drop(axis=1, columns=['CustomerId', 'Surname'])"
   ]
  },
  {
   "cell_type": "markdown",
   "metadata": {},
   "source": [
    "Кроме того, в датасете представлены два категориальных признака: Geography и Gender. Сначала посомтрим, какие значения принимают эти признаки."
   ]
  },
  {
   "cell_type": "code",
   "execution_count": 5,
   "metadata": {},
   "outputs": [
    {
     "data": {
      "text/plain": [
       "Male      5457\n",
       "Female    4543\n",
       "Name: Gender, dtype: int64"
      ]
     },
     "execution_count": 5,
     "metadata": {},
     "output_type": "execute_result"
    }
   ],
   "source": [
    "data['Gender'].value_counts()"
   ]
  },
  {
   "cell_type": "markdown",
   "metadata": {},
   "source": [
    "Соотношение мужчин к женщинам 55/45, почти поровну."
   ]
  },
  {
   "cell_type": "code",
   "execution_count": 6,
   "metadata": {
    "scrolled": true
   },
   "outputs": [
    {
     "data": {
      "text/plain": [
       "France     5014\n",
       "Germany    2509\n",
       "Spain      2477\n",
       "Name: Geography, dtype: int64"
      ]
     },
     "execution_count": 6,
     "metadata": {},
     "output_type": "execute_result"
    }
   ],
   "source": [
    "data['Geography'].value_counts()"
   ]
  },
  {
   "cell_type": "markdown",
   "metadata": {},
   "source": [
    "Французов 50%, немцев и испанцев примерно по 25%. хоть французов больше, нельзя сказать, что данные слишком перекошены."
   ]
  },
  {
   "cell_type": "markdown",
   "metadata": {},
   "source": [
    "Категориальные параметры Geography и Gender можно преобразовать в численные с помощью техники OrdinalEncoder. Однако, из-за пропусков в признаке Tenure (сколько лет человек является клиентом банка), эта техника не работает. Проанализируем, сколько пропусков и как они представлены."
   ]
  },
  {
   "cell_type": "code",
   "execution_count": 7,
   "metadata": {
    "scrolled": true
   },
   "outputs": [
    {
     "data": {
      "text/plain": [
       "1.0     952\n",
       "2.0     950\n",
       "8.0     933\n",
       "3.0     928\n",
       "5.0     927\n",
       "7.0     925\n",
       "NaN     909\n",
       "4.0     885\n",
       "9.0     882\n",
       "6.0     881\n",
       "10.0    446\n",
       "0.0     382\n",
       "Name: Tenure, dtype: int64"
      ]
     },
     "execution_count": 7,
     "metadata": {},
     "output_type": "execute_result"
    }
   ],
   "source": [
    "data['Tenure'].value_counts(dropna=False)"
   ]
  },
  {
   "cell_type": "markdown",
   "metadata": {},
   "source": [
    "Пропусков практически столько же, сколько данных в каждой из групп. Разве что 0 и 10 лет выбиваются. Можно предположить, что часть данных 0 и 10 лет по ошибке выгрузилась пропуском, однако мы не можем знать этого наверняка. Восстановить эти данные нам неоткуда, а этот признак чисто интуитивно может сильно влиять на результат. Так что придется удалить 10% датасета с пропусками."
   ]
  },
  {
   "cell_type": "code",
   "execution_count": 8,
   "metadata": {},
   "outputs": [],
   "source": [
    "data = data.dropna()"
   ]
  },
  {
   "cell_type": "markdown",
   "metadata": {},
   "source": [
    "После чего наконец преобразуем категориальные данные в численные."
   ]
  },
  {
   "cell_type": "code",
   "execution_count": 9,
   "metadata": {},
   "outputs": [],
   "source": [
    "encoder = OrdinalEncoder()\n",
    "\n",
    "encoder.fit(data) \n",
    "\n",
    "data = pd.DataFrame(encoder.transform(data), columns=data.columns)"
   ]
  },
  {
   "cell_type": "markdown",
   "metadata": {},
   "source": [
    "Ну и наконец изучим соотношение значений ключевого признака."
   ]
  },
  {
   "cell_type": "code",
   "execution_count": 10,
   "metadata": {
    "scrolled": true
   },
   "outputs": [
    {
     "data": {
      "text/plain": [
       "0.2039379606203938"
      ]
     },
     "execution_count": 10,
     "metadata": {},
     "output_type": "execute_result"
    }
   ],
   "source": [
    "len(data[data['Exited'] == 1])/len(data)"
   ]
  },
  {
   "cell_type": "markdown",
   "metadata": {},
   "source": [
    "В представленных данных всего 20% значений ключевого признака равны 1. Это может создать проблемы при обучении модели. Далее в проекте мы проанализируем дисбаланс и решим, что будем с ним делать."
   ]
  },
  {
   "cell_type": "markdown",
   "metadata": {},
   "source": [
    "## Исследование задачи\n",
    "<sup>[Перейти к содержанию](#Содержание)</sup>"
   ]
  },
  {
   "cell_type": "markdown",
   "metadata": {},
   "source": [
    "Для начала, разобьем имеющиеся данные на датасет с целевыми и прочими признаками. А затем разобьем эти датасеты на три части: учебную, валидационную и тестовую. Так как функции для разбивки на три части мне найти не удалось, просто применим разбивку на две части дважды.\n",
    "\n",
    "Сначала разобьем датасет на две части в 20% и 80% от исходного датасета. Затем разобьем полученные 80% в пропорции 25% и 75%.  \n",
    "Таким образом мы получим три выборки:\n",
    "\n",
    "* учебную, составляющую 60% от исходного датасета\n",
    "* валидационную, 20% от исходного датасета\n",
    "* тестовую, 20% от исходного датасета"
   ]
  },
  {
   "cell_type": "code",
   "execution_count": 11,
   "metadata": {
    "scrolled": true
   },
   "outputs": [
    {
     "name": "stdout",
     "output_type": "stream",
     "text": [
      "Размер обучающей выборки относительно всего датасета 60.0% \n",
      "Размер валидационной выборки относительно всего датасета 20.0% \n",
      "Размер тестовой выборки относительно всего датасета 20.0% \n"
     ]
    }
   ],
   "source": [
    "target = data['Exited']\n",
    "features = data.drop('Exited', axis=1)\n",
    "\n",
    "features_train_test, features_valid, target_train_test, target_valid = train_test_split(\n",
    "    features,\n",
    "    target,\n",
    "    test_size=.20,\n",
    "    random_state=rs)\n",
    "\n",
    "features_train, features_test, target_train, target_test = train_test_split(\n",
    "    features_train_test,\n",
    "    target_train_test,\n",
    "    test_size=.25,\n",
    "    random_state=rs)\n",
    "\n",
    "print('Размер обучающей выборки относительно всего датасета {:.1%} '.format(len(features_train)/len(data)))\n",
    "print('Размер валидационной выборки относительно всего датасета {:.1%} '.format(len(features_valid)/len(data)))\n",
    "print('Размер тестовой выборки относительно всего датасета {:.1%} '.format(len(features_test)/len(data)))"
   ]
  },
  {
   "cell_type": "markdown",
   "metadata": {},
   "source": [
    "Для начала обучим на несбалансированной выборке модель древа решений. В цикле подберем оптимальную глубину древа, при которой F1-метрика будет максимальной."
   ]
  },
  {
   "cell_type": "code",
   "execution_count": 12,
   "metadata": {},
   "outputs": [
    {
     "name": "stdout",
     "output_type": "stream",
     "text": [
      "Оптимальная глубина дерева, дающая максимальное значение метрики F1, равное 0.5580589254766031\n",
      "max_depth = 5\n",
      "CPU times: user 234 ms, sys: 589 µs, total: 234 ms\n",
      "Wall time: 233 ms\n"
     ]
    }
   ],
   "source": [
    "%%time\n",
    "\n",
    "max_f1 = 0\n",
    "best_depth_tree = 0\n",
    "for depth in range(2, 16):\n",
    "    model_tree = DecisionTreeClassifier(random_state=rs, max_depth=depth)\n",
    "    model_tree.fit(features_train, target_train)\n",
    "    predicted_tree_valid = model_tree.predict(features_valid)\n",
    "    if f1_score(target_valid, predicted_tree_valid) > max_f1:\n",
    "        max_f1 = f1_score(target_valid, predicted_tree_valid)\n",
    "        best_depth_tree = depth\n",
    "\n",
    "print('Оптимальная глубина дерева, дающая максимальное значение метрики F1, равное', max_f1)\n",
    "print('max_depth =',best_depth_tree)"
   ]
  },
  {
   "cell_type": "markdown",
   "metadata": {},
   "source": [
    "Размер F1-метрики ниже требуемого. Нужно исследовать другие модели."
   ]
  },
  {
   "cell_type": "markdown",
   "metadata": {},
   "source": [
    "Попробуем модель случайного леса. Сразу переберем гиперпараметры в цикле, с целью подобрать оптимальные."
   ]
  },
  {
   "cell_type": "code",
   "execution_count": 13,
   "metadata": {
    "scrolled": false
   },
   "outputs": [
    {
     "name": "stdout",
     "output_type": "stream",
     "text": [
      "Оптимальные параметры, дающие максимальное значение метрики F1, равное 0.5513698630136986\n",
      "n_estimators = 11 , max_depth = 12\n",
      "CPU times: user 14.8 s, sys: 21.7 ms, total: 14.8 s\n",
      "Wall time: 14.8 s\n"
     ]
    }
   ],
   "source": [
    "%%time\n",
    "\n",
    "max_f1 = 0\n",
    "best_estimators_forest = 0\n",
    "best_depth_forest = 0\n",
    "for estimators in range(1, 51, 5):\n",
    "    for depth in range(2, 16, 1):\n",
    "        model_forest = RandomForestClassifier(random_state=rs, n_estimators=estimators, max_depth=depth)\n",
    "        model_forest.fit(features_train, target_train)\n",
    "        predicted_forest_valid = model_forest.predict(features_valid)\n",
    "        if f1_score(target_valid, predicted_forest_valid) > max_f1:\n",
    "            max_f1 = f1_score(target_valid, predicted_forest_valid)\n",
    "            best_estimators_forest = estimators\n",
    "            best_depth_forest = depth\n",
    "print('Оптимальные параметры, дающие максимальное значение метрики F1, равное', max_f1)\n",
    "print('n_estimators =',best_estimators_forest,', max_depth =',best_depth_forest)"
   ]
  },
  {
   "cell_type": "markdown",
   "metadata": {},
   "source": [
    "Необходимая нам метрика почти не выросла."
   ]
  },
  {
   "cell_type": "markdown",
   "metadata": {},
   "source": [
    "Попробуем третий изученный в курсе метод - метод логистической регрессии."
   ]
  },
  {
   "cell_type": "code",
   "execution_count": 14,
   "metadata": {},
   "outputs": [
    {
     "name": "stdout",
     "output_type": "stream",
     "text": [
      "Значение F1-метрики для модели 0.2803347280334728\n"
     ]
    }
   ],
   "source": [
    "model_lr = LogisticRegression(random_state=rs, solver='liblinear')\n",
    "model_lr.fit(features_train, target_train)\n",
    "predicted_lr_valid = model_lr.predict(features_valid)\n",
    "print('Значение F1-метрики для модели', f1_score(target_valid, predicted_lr_valid))"
   ]
  },
  {
   "cell_type": "markdown",
   "metadata": {},
   "source": [
    "Тут значение F1-метрики совсем уж низкое. "
   ]
  },
  {
   "cell_type": "markdown",
   "metadata": {},
   "source": [
    "<b>Вывод</b>\n",
    "\n",
    "Как бы мы не перебирали модели и их гиперпараметры, достичь необходимого значения метрики в 0,59 у нас не получается. Возможно, это связано с дисбалансом классов в исходных данных.\n",
    "\n",
    "Попробуем несколько методов борьбы с дисбалансом, и проанализируем, какой окажется эффективнее."
   ]
  },
  {
   "cell_type": "markdown",
   "metadata": {},
   "source": [
    "___\n",
    "## Борьба с дисбалансом"
   ]
  },
  {
   "cell_type": "markdown",
   "metadata": {},
   "source": [
    "### Балансирование классов\n",
    "<sup>[Перейти к содержанию](#Содержание)</sup>"
   ]
  },
  {
   "cell_type": "markdown",
   "metadata": {},
   "source": [
    "Для борьбы с дисбалансом классов добавим в каждую обучаемую модель параметр class_weight='balanced'. Для начала, как и в прошлом разделе, рассмотрим модель древа решений."
   ]
  },
  {
   "cell_type": "code",
   "execution_count": 15,
   "metadata": {},
   "outputs": [
    {
     "name": "stdout",
     "output_type": "stream",
     "text": [
      "Оптимальная глубина дерева, дающая максимальное значение метрики F1, равное 0.5762273901808785\n",
      "max_depth = 5\n",
      "CPU times: user 270 ms, sys: 51.1 ms, total: 321 ms\n",
      "Wall time: 345 ms\n"
     ]
    }
   ],
   "source": [
    "%%time\n",
    "\n",
    "max_f1 = 0\n",
    "best_depth_b = 0\n",
    "for depth in range(2, 16):\n",
    "    model_tree_b = DecisionTreeClassifier(random_state=rs, max_depth=depth, class_weight='balanced')\n",
    "    model_tree_b.fit(features_train, target_train)\n",
    "    predicted_tree_valid_b = model_tree_b.predict(features_valid)\n",
    "    if f1_score(target_valid, predicted_tree_valid_b) > max_f1:\n",
    "        max_f1 = f1_score(target_valid, predicted_tree_valid_b)\n",
    "        best_depth_b = depth\n",
    "\n",
    "print('Оптимальная глубина дерева, дающая максимальное значение метрики F1, равное', max_f1)\n",
    "print('max_depth =',best_depth_b)"
   ]
  },
  {
   "cell_type": "markdown",
   "metadata": {},
   "source": [
    "Размер F1-метрики на отбалансированной выборке на 2% выше, чем на обычной. Не много, но все равно прогресс. Площадь под кривой при этом практически такая же, как и была. Теперь так же попробуем отбалансированные классы на случайном лесу."
   ]
  },
  {
   "cell_type": "code",
   "execution_count": 16,
   "metadata": {},
   "outputs": [
    {
     "name": "stdout",
     "output_type": "stream",
     "text": [
      "Оптимальные параметры, дающие максимальное значение метрики F1, равное 0.6185819070904646\n",
      "n_estimators = 26 , max_depth = 8\n",
      "CPU times: user 14.6 s, sys: 36.9 ms, total: 14.6 s\n",
      "Wall time: 14.6 s\n"
     ]
    }
   ],
   "source": [
    "%%time\n",
    "\n",
    "max_f1 = 0\n",
    "best_estimators_forest_b = 0\n",
    "best_depth_forest_b = 0\n",
    "for estimators in range(1, 51, 5):\n",
    "    for depth in range(2, 16, 1):\n",
    "        model_forest_b = RandomForestClassifier(random_state=rs, n_estimators=estimators, max_depth=depth, class_weight='balanced')\n",
    "        model_forest_b.fit(features_train, target_train)\n",
    "        predicted_forest_valid_b = model_forest_b.predict(features_valid)\n",
    "        if f1_score(target_valid, predicted_forest_valid_b) > max_f1:\n",
    "            max_f1 = f1_score(target_valid, predicted_forest_valid_b)\n",
    "            best_estimators_forest_b = estimators\n",
    "            best_depth_forest_b = depth\n",
    "print('Оптимальные параметры, дающие максимальное значение метрики F1, равное', max_f1)\n",
    "print('n_estimators =',best_estimators_forest_b,', max_depth =',best_depth_forest_b)"
   ]
  },
  {
   "cell_type": "markdown",
   "metadata": {},
   "source": [
    "Тут всё уже гораздо лучше. Требуемый показатель F1-метрики у модели достигнут, AUC-ROC тоже на довольно высоком уровне. Посмотрим, поможет ли балансирование классов методу логистической регрессии."
   ]
  },
  {
   "cell_type": "code",
   "execution_count": 17,
   "metadata": {},
   "outputs": [
    {
     "name": "stdout",
     "output_type": "stream",
     "text": [
      "Значение F1-метрики для модели 0.4975984630163305\n"
     ]
    }
   ],
   "source": [
    "model_lr = LogisticRegression(random_state=rs, solver='liblinear', class_weight='balanced')\n",
    "model_lr.fit(features_train, target_train)\n",
    "predicted_lr_valid = model_lr.predict(features_valid)\n",
    "print('Значение F1-метрики для модели', f1_score(target_valid, predicted_lr_valid))"
   ]
  },
  {
   "cell_type": "markdown",
   "metadata": {},
   "source": [
    "Тут тоже пригресс. Однако значение метрики всё еще силшком низко.\n",
    "\n",
    "Изучим другие методы борьбы с дисбалансом классов, возможно, они окажутся еще более эффективными."
   ]
  },
  {
   "cell_type": "markdown",
   "metadata": {},
   "source": [
    "___\n",
    "### Увеличение выборки\n",
    "<sup>[Перейти к содержанию](#Содержание)</sup>\n",
    "\n",
    "Попробуем увеличить выборку чтобы сбалансировать наши классы. Напишем функцию, которая будет увеличивать в выборках количество необходимых классов в нужное количество раз."
   ]
  },
  {
   "cell_type": "code",
   "execution_count": 18,
   "metadata": {},
   "outputs": [],
   "source": [
    "def upsample(features, target, repeat):\n",
    "    features_zeros = features[target == 0]\n",
    "    features_ones = features[target == 1]\n",
    "    target_zeros = target[target == 0]\n",
    "    target_ones = target[target == 1]\n",
    "\n",
    "    features_upsampled = pd.concat([features_zeros] + [features_ones] * repeat)\n",
    "    target_upsampled = pd.concat([target_zeros] + [target_ones] * repeat)\n",
    "    \n",
    "    features_upsampled, target_upsampled = shuffle(\n",
    "        features_upsampled, target_upsampled, random_state=rs)\n",
    "    \n",
    "    return features_upsampled, target_upsampled"
   ]
  },
  {
   "cell_type": "markdown",
   "metadata": {},
   "source": [
    "Теперь мы можем увеличить размер обучающих выборок таким образом, чтобы в них был достигнут баланс классов. Как мы помним, соотношение классов в выборке у нас было примерно 80/20. Следовательно увеличивать меньшую выборку мы будем в 4 раза."
   ]
  },
  {
   "cell_type": "code",
   "execution_count": 19,
   "metadata": {},
   "outputs": [],
   "source": [
    "features_upsampled, target_upsampled = upsample(features_train, target_train, 4)"
   ]
  },
  {
   "cell_type": "markdown",
   "metadata": {},
   "source": [
    "Теперь на этих выборках можно обучить те же самые модели и иосмотреть, какой результат это дало. Так же как и ранее, делаем это в цикле, подбирая оптимальные параметры модели."
   ]
  },
  {
   "cell_type": "code",
   "execution_count": 20,
   "metadata": {},
   "outputs": [
    {
     "name": "stdout",
     "output_type": "stream",
     "text": [
      "Максимальное значение метрики F1, равное 0.5762273901808785\n",
      "max_depth = 5\n",
      "CPU times: user 313 ms, sys: 0 ns, total: 313 ms\n",
      "Wall time: 327 ms\n"
     ]
    }
   ],
   "source": [
    "%%time\n",
    "\n",
    "max_f1 = 0\n",
    "best_depth_u = 0\n",
    "for depth in range(2, 16):\n",
    "    model_tree_u = DecisionTreeClassifier(random_state=rs, max_depth=depth)\n",
    "    model_tree_u.fit(features_upsampled, target_upsampled)\n",
    "    predicted_tree_valid_u = model_tree_u.predict(features_valid)\n",
    "    if f1_score(target_valid, predicted_tree_valid_u) > max_f1:\n",
    "        max_f1 = f1_score(target_valid, predicted_tree_valid_u)\n",
    "        best_depth_u = depth\n",
    "\n",
    "print('Максимальное значение метрики F1, равное', max_f1)\n",
    "print('max_depth =',best_depth_u)"
   ]
  },
  {
   "cell_type": "markdown",
   "metadata": {},
   "source": [
    "F1-метрика не дотягивает."
   ]
  },
  {
   "cell_type": "code",
   "execution_count": 21,
   "metadata": {},
   "outputs": [
    {
     "name": "stdout",
     "output_type": "stream",
     "text": [
      "Оптимальные параметры, дающие максимальное значение метрики F1, равное 0.5984251968503936\n",
      "n_estimators = 41 , max_depth = 5\n",
      "CPU times: user 20.9 s, sys: 88.1 ms, total: 21 s\n",
      "Wall time: 21.2 s\n"
     ]
    }
   ],
   "source": [
    "%%time\n",
    "\n",
    "max_f1 = 0\n",
    "best_estimators_forest_u = 0\n",
    "best_depth_forest_u = 0\n",
    "for estimators in range(1, 51, 5):\n",
    "    for depth in range(2, 16, 1):\n",
    "        model_forest_u = RandomForestClassifier(random_state=rs, n_estimators=estimators, max_depth=depth)\n",
    "        model_forest_u.fit(features_upsampled, target_upsampled)\n",
    "        predicted_forest_valid_u = model_forest_u.predict(features_valid)\n",
    "        if f1_score(target_valid, predicted_forest_valid_u) > max_f1:\n",
    "            max_f1 = f1_score(target_valid, predicted_forest_valid_u)\n",
    "            best_estimators_forest_u = estimators\n",
    "            best_depth_forest_u = depth\n",
    "print('Оптимальные параметры, дающие максимальное значение метрики F1, равное', max_f1)\n",
    "print('n_estimators =',best_estimators_forest_u,', max_depth =',best_depth_forest_u)"
   ]
  },
  {
   "cell_type": "markdown",
   "metadata": {},
   "source": [
    "Тут уже необходимая метрика достигла требуемых параметров, однако значение ниже, чем при балансировании классов."
   ]
  },
  {
   "cell_type": "code",
   "execution_count": 22,
   "metadata": {},
   "outputs": [
    {
     "name": "stdout",
     "output_type": "stream",
     "text": [
      "Значение F1-метрики для модели 0.49663137632338783\n"
     ]
    }
   ],
   "source": [
    "model_lr = LogisticRegression(random_state=rs, solver='liblinear', class_weight='balanced')\n",
    "model_lr.fit(features_upsampled, target_upsampled)\n",
    "predicted_lr_valid = model_lr.predict(features_valid)\n",
    "print('Значение F1-метрики для модели', f1_score(target_valid, predicted_lr_valid))"
   ]
  },
  {
   "cell_type": "markdown",
   "metadata": {},
   "source": [
    "Модель логистической регрессии я продолжаю обучать уже больше по инерции. С самого начала было видно, что она плохо справляется, и надо было бы уже не перегружать работу ею. Каких либо особых комментариев по ней я оставлять не буду, бусть будет для сравнения."
   ]
  },
  {
   "cell_type": "markdown",
   "metadata": {},
   "source": [
    "<b>Вывод</b>\n",
    "\n",
    "Модель на выборке, сбалансированной увеличением дала результаты ниже, чем на сбалансированной параметром class_weight='balanced'. Возможно, увеличение выборки в данной задаче - \"не наш клиент\". Посмотрим, что даст уменьшение выборки."
   ]
  },
  {
   "cell_type": "markdown",
   "metadata": {},
   "source": [
    "___\n",
    "### Уменьшение выборки\n",
    "<sup>[Перейти к содержанию](#Содержание)</sup>\n",
    "\n",
    "В этом разделе рассмотрим метод балансировки классов уменьшением выборки. Снова напишем функцию, которая будет уменьшать в выборках преобладающий клас в необходимое количество раз."
   ]
  },
  {
   "cell_type": "code",
   "execution_count": 23,
   "metadata": {},
   "outputs": [],
   "source": [
    "def downsample(features, target, fraction):\n",
    "    features_zeros = features[target == 0]\n",
    "    features_ones = features[target == 1]\n",
    "    target_zeros = target[target == 0]\n",
    "    target_ones = target[target == 1]\n",
    "\n",
    "    features_downsampled = pd.concat(\n",
    "        [features_zeros.sample(frac=fraction, random_state=rs)] + [features_ones])\n",
    "    target_downsampled = pd.concat(\n",
    "        [target_zeros.sample(frac=fraction, random_state=rs)] + [target_ones])\n",
    "    \n",
    "    features_downsampled, target_downsampled = shuffle(\n",
    "        features_downsampled, target_downsampled, random_state=rs)\n",
    "    \n",
    "    return features_downsampled, target_downsampled"
   ]
  },
  {
   "cell_type": "code",
   "execution_count": 24,
   "metadata": {},
   "outputs": [],
   "source": [
    "features_downsampled, target_downsampled = downsample(features_train, target_train, 0.25)"
   ]
  },
  {
   "cell_type": "markdown",
   "metadata": {},
   "source": [
    "Скормим наши уменьшенные выборки поочередно всем трём моделям."
   ]
  },
  {
   "cell_type": "code",
   "execution_count": 25,
   "metadata": {},
   "outputs": [
    {
     "name": "stdout",
     "output_type": "stream",
     "text": [
      "Максимальное значение метрики F1, равное 0.5758354755784061\n",
      "max_depth = 5\n",
      "CPU times: user 132 ms, sys: 11 µs, total: 132 ms\n",
      "Wall time: 135 ms\n"
     ]
    }
   ],
   "source": [
    "%%time\n",
    "\n",
    "max_f1 = 0\n",
    "best_depth_d = 0\n",
    "for depth in range(2, 16):\n",
    "    model_tree_d = DecisionTreeClassifier(random_state=rs, max_depth=depth)\n",
    "    model_tree_d.fit(features_downsampled, target_downsampled)\n",
    "    predicted_tree_valid_d = model_tree_d.predict(features_valid)\n",
    "    if f1_score(target_valid, predicted_tree_valid_d) > max_f1:\n",
    "        max_f1 = f1_score(target_valid, predicted_tree_valid_d)\n",
    "        best_depth_d = depth\n",
    "\n",
    "print('Максимальное значение метрики F1, равное', max_f1)\n",
    "print('max_depth =',best_depth_u)"
   ]
  },
  {
   "cell_type": "markdown",
   "metadata": {},
   "source": [
    "И снова не густо. Все надежды на лес."
   ]
  },
  {
   "cell_type": "code",
   "execution_count": 26,
   "metadata": {},
   "outputs": [
    {
     "name": "stdout",
     "output_type": "stream",
     "text": [
      "Оптимальные параметры, дающие максимальное значение метрики F1, равное 0.5978260869565216\n",
      "n_estimators = 26 , max_depth = 7\n",
      "CPU times: user 8.73 s, sys: 68 ms, total: 8.8 s\n",
      "Wall time: 8.82 s\n"
     ]
    }
   ],
   "source": [
    "%%time\n",
    "\n",
    "max_f1 = 0\n",
    "best_estimators_forest_d = 0\n",
    "best_depth_forest_d = 0\n",
    "for estimators in range(1, 51, 5):\n",
    "    for depth in range(2, 16, 1):\n",
    "        model_forest_d = RandomForestClassifier(random_state=rs, n_estimators=estimators, max_depth=depth)\n",
    "        model_forest_d.fit(features_downsampled, target_downsampled)\n",
    "        predicted_forest_valid_d = model_forest_d.predict(features_valid)\n",
    "        if f1_score(target_valid, predicted_forest_valid_d) > max_f1:\n",
    "            max_f1 = f1_score(target_valid, predicted_forest_valid_d)\n",
    "            best_estimators_forest_d = estimators\n",
    "            best_depth_forest_d = depth\n",
    "print('Оптимальные параметры, дающие максимальное значение метрики F1, равное', max_f1)\n",
    "print('n_estimators =',best_estimators_forest_d,', max_depth =',best_depth_forest_d)"
   ]
  },
  {
   "cell_type": "markdown",
   "metadata": {},
   "source": [
    "И тут повторяется результат из прошлого раздела, где мы выборку увеличивали. Результат обеих метрик не плох, однако не дотягивает до результата балансирования с помощью class_weight='balanced'."
   ]
  },
  {
   "cell_type": "code",
   "execution_count": 27,
   "metadata": {},
   "outputs": [
    {
     "name": "stdout",
     "output_type": "stream",
     "text": [
      "Значение F1-метрики для модели 0.5034013605442176\n"
     ]
    }
   ],
   "source": [
    "model_lr = LogisticRegression(random_state=rs, solver='liblinear', class_weight='balanced')\n",
    "model_lr.fit(features_downsampled, target_downsampled)\n",
    "predicted_lr_valid = model_lr.predict(features_valid)\n",
    "print('Значение F1-метрики для модели', f1_score(target_valid, predicted_lr_valid))"
   ]
  },
  {
   "cell_type": "markdown",
   "metadata": {},
   "source": [
    "<b>Вывод</b>\n",
    "\n",
    "Модель на выборке, сбалансированной уменьшением дала почти такие же результаты, как и на увеличенной выборке. Попробуем скомбинировать методы."
   ]
  },
  {
   "cell_type": "markdown",
   "metadata": {},
   "source": [
    "___\n",
    "### Эксперименты\n",
    "<sup>[Перейти к содержанию](#Содержание)</sup>"
   ]
  },
  {
   "cell_type": "markdown",
   "metadata": {},
   "source": [
    "Кроме всего прочего поэкспериментируем, например, применив два метода балнсирования сразу, или попробуем в цикле подобрать оптимальную пропорцию апскейлинга.\n",
    "\n",
    "Скомбинируем метод балансирования классов и увеличения выборки (он дал немного более лучший результат, нежели уменьшение).\n",
    "\n",
    "Увеличенная выборка у нас уже подготовлена в разделе 3.2."
   ]
  },
  {
   "cell_type": "code",
   "execution_count": 28,
   "metadata": {},
   "outputs": [
    {
     "name": "stdout",
     "output_type": "stream",
     "text": [
      "Оптимальные параметры, дающие максимальное значение метрики F1, равное 0.600229095074456\n",
      "n_estimators = 41 , max_depth = 5\n",
      "CPU times: user 21.4 s, sys: 116 ms, total: 21.5 s\n",
      "Wall time: 21.6 s\n"
     ]
    }
   ],
   "source": [
    "%%time\n",
    "\n",
    "max_f1 = 0\n",
    "best_estimators_forest_ub = 0\n",
    "best_depth_forest_ub = 0\n",
    "for estimators in range(1, 51, 5):\n",
    "    for depth in range(2, 16, 1):\n",
    "        model_forest_ub = RandomForestClassifier(random_state=rs, n_estimators=estimators, max_depth=depth, class_weight='balanced')\n",
    "        model_forest_ub.fit(features_upsampled, target_upsampled)\n",
    "        predicted_forest_valid_ub = model_forest_ub.predict(features_valid)\n",
    "        if f1_score(target_valid, predicted_forest_valid_ub) > max_f1:\n",
    "            max_f1 = f1_score(target_valid, predicted_forest_valid_ub)\n",
    "            best_estimators_forest_ub = estimators\n",
    "            best_depth_forest_ub = depth\n",
    "print('Оптимальные параметры, дающие максимальное значение метрики F1, равное', max_f1)\n",
    "print('n_estimators =',best_estimators_forest_ub,', max_depth =',best_depth_forest_ub)"
   ]
  },
  {
   "cell_type": "markdown",
   "metadata": {},
   "source": [
    "Неплохой результат. Теперь попробуем добавить в цикл перебор множителей апскейлинга параметров."
   ]
  },
  {
   "cell_type": "code",
   "execution_count": 29,
   "metadata": {},
   "outputs": [
    {
     "name": "stdout",
     "output_type": "stream",
     "text": [
      "Оптимальные параметры, дающие максимальное значение метрики F1, равное 0.6035665294924554\n",
      "n_estimators = 41 , max_depth = 5 , best_iter = 5\n",
      "CPU times: user 1min 21s, sys: 320 ms, total: 1min 21s\n",
      "Wall time: 1min 21s\n"
     ]
    }
   ],
   "source": [
    "%%time\n",
    "\n",
    "max_f1 = 0\n",
    "best_estimators_rr = 0\n",
    "best_depth_rr = 0\n",
    "best_iter = 0\n",
    "for estimators in range(1, 51, 5):\n",
    "    for depth in range(2, 16, 1):\n",
    "        for ite in range(2, 6):\n",
    "            features_uprr, target_uprr = upsample(features_train, target_train, ite)\n",
    "            model_rr = RandomForestClassifier(random_state=rs, n_estimators=estimators, max_depth=depth, class_weight='balanced')\n",
    "            model_rr.fit(features_uprr, target_uprr)\n",
    "            predicted_rr = model_rr.predict(features_valid)\n",
    "            if f1_score(target_valid, predicted_rr) > max_f1:\n",
    "                max_f1 = f1_score(target_valid, predicted_rr)\n",
    "                best_estimators_rr = estimators\n",
    "                best_depth_rr = depth\n",
    "                best_iter = ite\n",
    "print('Оптимальные параметры, дающие максимальное значение метрики F1, равное', max_f1)\n",
    "print('n_estimators =',best_estimators_forest_u,', max_depth =',best_depth_forest_u,', best_iter =',best_iter)"
   ]
  },
  {
   "cell_type": "markdown",
   "metadata": {},
   "source": [
    "Тоже хороший результат.\n",
    "\n",
    "<b>Общий вывод по разделу:</b>\n",
    "\n",
    "Наилучший результат во всех случаях давала модель случайного леса. Мы подобрали параметры и обучили несколько моделей, давших необходимый результат.\n",
    "\n",
    "| Метод борьбы с дисбалансом          | Параметры модели                  | Размер F1-метрики  |\n",
    "|:------------------------------------|:----------------------------------|--------------------|\n",
    "| class_weight='balanced'             | n_estimators = 26 , max_depth = 8 | 0.6185819070904646 |\n",
    "| Увеличение выборки (множитель 4)    | n_estimators = 41 , max_depth = 5 | 0.5984251968503936 |\n",
    "| Уменьшение выборки (множитель 0.25) | n_estimators = 26 , max_depth = 7 | 0.5978260869565216 |\n",
    "| Увеличение выборки (множитель 4) + class_weight='balanced' | n_estimators = 46 , max_depth = 14 | 0.6035665294924554 |\n",
    "| Подбор оптимального множителя для увеличения выборки | n_estimators = 46 , max_depth = 14 , множитель = 5 | 0.6035665294924554 |"
   ]
  },
  {
   "cell_type": "markdown",
   "metadata": {},
   "source": [
    "## Тестирование модели\n",
    "<sup>[Перейти к содержанию](#Содержание)</sup>"
   ]
  },
  {
   "cell_type": "markdown",
   "metadata": {},
   "source": [
    "Ну и наконец, проверим наши модели на тестовой выборке. Выясним, какая из моделей даст нам наилучший результат.\n",
    "\n",
    "Проверим все пять вариантов, из таблицы в прошлом разделе."
   ]
  },
  {
   "cell_type": "markdown",
   "metadata": {},
   "source": [
    "### Балансирование классов параметром class_weight='balanced'"
   ]
  },
  {
   "cell_type": "code",
   "execution_count": 30,
   "metadata": {},
   "outputs": [
    {
     "name": "stdout",
     "output_type": "stream",
     "text": [
      "Данная модель не подходит! Значение F1: 0.5854271356783921\n",
      "Размер метрики AUC-ROC: 0.8447684746119917\n"
     ]
    }
   ],
   "source": [
    "model_test_1 = RandomForestClassifier(random_state=rs, n_estimators = 26 , max_depth = 8, class_weight='balanced')\n",
    "model_test_1.fit(features_train, target_train)\n",
    "\n",
    "predicted_test_1 = model_test_1.predict(features_test)\n",
    "\n",
    "probabilities_test_1 = model_test_1.predict_proba(features_test)\n",
    "probabilities_one_test_1 = probabilities_test_1[:, 1]\n",
    "auc_roc_test_1 = roc_auc_score(target_test, probabilities_one_test_1)\n",
    "\n",
    "if f1_score(target_test, predicted_test_1) > 0.59:\n",
    "    print('Данная модель подходит! Значение F1:', f1_score(target_test, predicted_test_1))\n",
    "    print('Размер метрики AUC-ROC:', auc_roc_test_1)\n",
    "else:\n",
    "    print('Данная модель не подходит! Значение F1:', f1_score(target_test, predicted_test_1))\n",
    "    print('Размер метрики AUC-ROC:', auc_roc_test_1)"
   ]
  },
  {
   "cell_type": "markdown",
   "metadata": {},
   "source": [
    "### Увеличение выборки на множитель 4"
   ]
  },
  {
   "cell_type": "code",
   "execution_count": 31,
   "metadata": {},
   "outputs": [
    {
     "name": "stdout",
     "output_type": "stream",
     "text": [
      "Данная модель не подходит! Значение F1: 0.5649717514124294\n",
      "Размер метрики AUC-ROC: 0.8427164717216878\n"
     ]
    }
   ],
   "source": [
    "features_up_test_2, target_up_test_2 = upsample(features_train, target_train, 4)\n",
    "model_test_2 = RandomForestClassifier(random_state=rs, n_estimators=41, max_depth=5)\n",
    "model_test_2.fit(features_up_test_2, target_up_test_2)\n",
    "\n",
    "predicted_test_2 = model_test_2.predict(features_test)\n",
    "\n",
    "probabilities_test_2 = model_test_2.predict_proba(features_test)\n",
    "probabilities_one_test_2 = probabilities_test_2[:, 1]\n",
    "auc_roc_test_2 = roc_auc_score(target_test, probabilities_one_test_2)\n",
    "\n",
    "if f1_score(target_test, predicted_test_2) > 0.59:\n",
    "    print('Данная модель подходит! Значение F1:', f1_score(target_test, predicted_test_2))\n",
    "    print('Размер метрики AUC-ROC:', auc_roc_test_2)\n",
    "else:\n",
    "    print('Данная модель не подходит! Значение F1:', f1_score(target_test, predicted_test_2))\n",
    "    print('Размер метрики AUC-ROC:', auc_roc_test_2)"
   ]
  },
  {
   "cell_type": "markdown",
   "metadata": {},
   "source": [
    "### Уменьшение выборки на множитель 0.25"
   ]
  },
  {
   "cell_type": "code",
   "execution_count": 32,
   "metadata": {},
   "outputs": [
    {
     "name": "stdout",
     "output_type": "stream",
     "text": [
      "Данная модель не подходит! Значение F1: 0.5608108108108107\n",
      "Размер метрики AUC-ROC: 0.839485578587665\n"
     ]
    }
   ],
   "source": [
    "features_dn_test_3, target_dn_test_3 = downsample(features_train, target_train, 0.25)\n",
    "model_test_3 = RandomForestClassifier(random_state=rs, n_estimators=41, max_depth=5)\n",
    "model_test_3.fit(features_dn_test_3, target_dn_test_3)\n",
    "\n",
    "predicted_test_3 = model_test_3.predict(features_test)\n",
    "\n",
    "probabilities_test_3 = model_test_3.predict_proba(features_test)\n",
    "probabilities_one_test_3 = probabilities_test_3[:, 1]\n",
    "auc_roc_test_3 = roc_auc_score(target_test, probabilities_one_test_3)\n",
    "\n",
    "if f1_score(target_test, predicted_test_3) > 0.59:\n",
    "    print('Данная модель подходит! Значение F1:', f1_score(target_test, predicted_test_3))\n",
    "    print('Размер метрики AUC-ROC:', auc_roc_test_3)\n",
    "else:\n",
    "    print('Данная модель не подходит! Значение F1:', f1_score(target_test, predicted_test_3))\n",
    "    print('Размер метрики AUC-ROC:', auc_roc_test_3)"
   ]
  },
  {
   "cell_type": "markdown",
   "metadata": {},
   "source": [
    "### Увеличение выборки на множитель 4 и параметр class_weight='balanced'"
   ]
  },
  {
   "cell_type": "code",
   "execution_count": 33,
   "metadata": {},
   "outputs": [
    {
     "name": "stdout",
     "output_type": "stream",
     "text": [
      "Данная модель не подходит! Значение F1: 0.5671641791044776\n",
      "Размер метрики AUC-ROC: 0.8422102921916632\n"
     ]
    }
   ],
   "source": [
    "features_up_test_4, target_up_test_4 = upsample(features_train, target_train, 4)\n",
    "model_test_4 = RandomForestClassifier(random_state=rs, n_estimators=41, max_depth=5, class_weight='balanced')\n",
    "model_test_4.fit(features_up_test_4, target_up_test_4)\n",
    "\n",
    "predicted_test_4 = model_test_4.predict(features_test)\n",
    "\n",
    "probabilities_test_4 = model_test_4.predict_proba(features_test)\n",
    "probabilities_one_test_4 = probabilities_test_4[:, 1]\n",
    "auc_roc_test_4 = roc_auc_score(target_test, probabilities_one_test_4)\n",
    "\n",
    "if f1_score(target_test, predicted_test_4) > 0.59:\n",
    "    print('Данная модель подходит! Значение F1:', f1_score(target_test, predicted_test_4))\n",
    "    print('Размер метрики AUC-ROC:', auc_roc_test_4)\n",
    "else:\n",
    "    print('Данная модель не подходит! Значение F1:', f1_score(target_test, predicted_test_4))\n",
    "    print('Размер метрики AUC-ROC:', auc_roc_test_4)"
   ]
  },
  {
   "cell_type": "markdown",
   "metadata": {},
   "source": [
    "### Подобранный оптимальный множитель для увеличения выборки"
   ]
  },
  {
   "cell_type": "code",
   "execution_count": 34,
   "metadata": {},
   "outputs": [
    {
     "name": "stdout",
     "output_type": "stream",
     "text": [
      "Данная модель подходит! Значение F1: 0.5949720670391061\n",
      "Размер метрики AUC-ROC: 0.8396088304806636\n"
     ]
    }
   ],
   "source": [
    "features_up_test_5, target_up_test_5 = upsample(features_train, target_train, 5)\n",
    "model_test_5 = RandomForestClassifier(random_state=rs, n_estimators=46, max_depth=14)\n",
    "model_test_5.fit(features_up_test_5, target_up_test_5)\n",
    "\n",
    "predicted_test_5 = model_test_5.predict(features_test)\n",
    "\n",
    "probabilities_test_5 = model_test_5.predict_proba(features_test)\n",
    "probabilities_one_test_5 = probabilities_test_5[:, 1]\n",
    "auc_roc_test_5 = roc_auc_score(target_test, probabilities_one_test_5)\n",
    "\n",
    "if f1_score(target_test, predicted_test_5) > 0.59:\n",
    "    print('Данная модель подходит! Значение F1:', f1_score(target_test, predicted_test_5))\n",
    "    print('Размер метрики AUC-ROC:', auc_roc_test_5)\n",
    "else:\n",
    "    print('Данная модель не подходит! Значение F1:', f1_score(target_test, predicted_test_5))\n",
    "    print('Размер метрики AUC-ROC:', auc_roc_test_5)"
   ]
  },
  {
   "cell_type": "markdown",
   "metadata": {},
   "source": [
    "___\n",
    "## Общий вывод по работе\n",
    "<sup>[Перейти к содержанию](#Содержание)</sup>"
   ]
  },
  {
   "cell_type": "markdown",
   "metadata": {},
   "source": [
    "В итоге, мы обучили модель с необходимым значеним метрики F1 более 0,59.\n",
    "\n",
    "Это модель случайного леса, обученная на увеличенной выборке. Подбор множителя увеличения и гиперпараметров модели были выполнены в циклах.\n",
    "\n",
    "Полученную модель можно использовать для анализа того, уйдет ли клиент из банка в ближайшее время.\n",
    "\n",
    "Размер метрики AUC-ROC (площадь под ROC-кривой) у всех тестируемых моделей не зависел от размера F1, и был достаточно высок, в районе 0,85. Это говорит о том, что все модели работали эффективнее случайной модели."
   ]
  },
  {
   "cell_type": "markdown",
   "metadata": {},
   "source": []
  },
  {
   "cell_type": "code",
   "execution_count": 35,
   "metadata": {},
   "outputs": [],
   "source": [
    "features_train_valid = pd.concat([features_train] + [features_valid])\n",
    "target_train_valid = pd.concat([target_train] + [target_valid])\n",
    "    \n",
    "features_tv, target_tv = shuffle(\n",
    "    features_train_valid, target_train_valid, random_state=rs)"
   ]
  },
  {
   "cell_type": "code",
   "execution_count": 36,
   "metadata": {
    "scrolled": true
   },
   "outputs": [
    {
     "name": "stdout",
     "output_type": "stream",
     "text": [
      "Значение F1: 0.5995085995085995\n"
     ]
    }
   ],
   "source": [
    "model_test_1 = RandomForestClassifier(random_state=rs, n_estimators = 26 , max_depth = 8, class_weight='balanced')\n",
    "model_test_1.fit(features_tv, target_tv)\n",
    "\n",
    "predicted_test_1 = model_test_1.predict(features_test)\n",
    "print('Значение F1:', f1_score(target_test, predicted_test_1))"
   ]
  },
  {
   "cell_type": "markdown",
   "metadata": {},
   "source": [
    "---"
   ]
  }
 ],
 "metadata": {
  "ExecuteTimeLog": [
   {
    "duration": 1108,
    "start_time": "2021-10-03T03:52:20.546Z"
   },
   {
    "duration": 10,
    "start_time": "2021-10-03T03:52:21.656Z"
   },
   {
    "duration": 454,
    "start_time": "2021-10-03T03:52:21.669Z"
   },
   {
    "duration": 22,
    "start_time": "2021-10-03T03:52:54.921Z"
   },
   {
    "duration": 67,
    "start_time": "2021-10-03T03:55:06.791Z"
   },
   {
    "duration": 21,
    "start_time": "2021-10-03T03:55:11.962Z"
   },
   {
    "duration": 20,
    "start_time": "2021-10-03T03:55:51.806Z"
   },
   {
    "duration": 6,
    "start_time": "2021-10-03T03:56:26.523Z"
   },
   {
    "duration": 5,
    "start_time": "2021-10-03T03:57:12.406Z"
   },
   {
    "duration": 21,
    "start_time": "2021-10-03T03:57:15.421Z"
   },
   {
    "duration": 6,
    "start_time": "2021-10-03T03:57:31.188Z"
   },
   {
    "duration": 22,
    "start_time": "2021-10-03T03:57:31.979Z"
   },
   {
    "duration": 31,
    "start_time": "2021-10-03T03:57:50.469Z"
   },
   {
    "duration": 11,
    "start_time": "2021-10-03T03:59:14.049Z"
   },
   {
    "duration": 5,
    "start_time": "2021-10-03T04:05:29.040Z"
   },
   {
    "duration": 16,
    "start_time": "2021-10-03T04:05:32.722Z"
   },
   {
    "duration": 30,
    "start_time": "2021-10-03T04:09:33.357Z"
   },
   {
    "duration": 17,
    "start_time": "2021-10-03T04:09:34.833Z"
   },
   {
    "duration": 4,
    "start_time": "2021-10-03T04:09:41.535Z"
   },
   {
    "duration": 17,
    "start_time": "2021-10-03T04:09:44.220Z"
   },
   {
    "duration": 37,
    "start_time": "2021-10-03T04:12:22.863Z"
   },
   {
    "duration": 27,
    "start_time": "2021-10-03T04:12:23.204Z"
   },
   {
    "duration": 8,
    "start_time": "2021-10-03T04:13:10.486Z"
   },
   {
    "duration": 173,
    "start_time": "2021-10-03T04:13:51.827Z"
   },
   {
    "duration": 6,
    "start_time": "2021-10-03T04:14:01.417Z"
   },
   {
    "duration": 54,
    "start_time": "2021-10-05T15:00:30.010Z"
   },
   {
    "duration": 1070,
    "start_time": "2021-10-05T15:17:23.382Z"
   },
   {
    "duration": 25,
    "start_time": "2021-10-05T15:17:24.454Z"
   },
   {
    "duration": 5,
    "start_time": "2021-10-05T15:17:24.481Z"
   },
   {
    "duration": 11,
    "start_time": "2021-10-05T15:17:24.488Z"
   },
   {
    "duration": 7,
    "start_time": "2021-10-05T15:17:24.501Z"
   },
   {
    "duration": 7,
    "start_time": "2021-10-05T15:17:24.510Z"
   },
   {
    "duration": 252,
    "start_time": "2021-10-05T15:17:24.519Z"
   },
   {
    "duration": -22,
    "start_time": "2021-10-05T15:17:24.795Z"
   },
   {
    "duration": -27,
    "start_time": "2021-10-05T15:17:24.802Z"
   },
   {
    "duration": -29,
    "start_time": "2021-10-05T15:17:24.805Z"
   },
   {
    "duration": 145,
    "start_time": "2021-10-05T15:17:47.473Z"
   },
   {
    "duration": 146,
    "start_time": "2021-10-05T15:18:40.905Z"
   },
   {
    "duration": 164,
    "start_time": "2021-10-05T15:19:07.311Z"
   },
   {
    "duration": 212,
    "start_time": "2021-10-05T15:19:14.959Z"
   },
   {
    "duration": 1035,
    "start_time": "2021-10-05T15:37:29.411Z"
   },
   {
    "duration": 23,
    "start_time": "2021-10-05T15:37:30.448Z"
   },
   {
    "duration": 3,
    "start_time": "2021-10-05T15:37:30.473Z"
   },
   {
    "duration": 10,
    "start_time": "2021-10-05T15:37:30.478Z"
   },
   {
    "duration": 15,
    "start_time": "2021-10-05T15:37:30.489Z"
   },
   {
    "duration": 19,
    "start_time": "2021-10-05T15:37:30.505Z"
   },
   {
    "duration": 274,
    "start_time": "2021-10-05T15:37:30.526Z"
   },
   {
    "duration": -46,
    "start_time": "2021-10-05T15:37:30.848Z"
   },
   {
    "duration": -54,
    "start_time": "2021-10-05T15:37:30.857Z"
   },
   {
    "duration": -59,
    "start_time": "2021-10-05T15:37:30.863Z"
   },
   {
    "duration": 7,
    "start_time": "2021-10-05T15:43:44.058Z"
   },
   {
    "duration": 6,
    "start_time": "2021-10-05T15:44:12.044Z"
   },
   {
    "duration": 7,
    "start_time": "2021-10-05T15:48:53.167Z"
   },
   {
    "duration": 16,
    "start_time": "2021-10-05T15:48:58.857Z"
   },
   {
    "duration": 22,
    "start_time": "2021-10-05T15:49:10.191Z"
   },
   {
    "duration": 24,
    "start_time": "2021-10-05T15:49:54.656Z"
   },
   {
    "duration": 5,
    "start_time": "2021-10-05T15:49:55.360Z"
   },
   {
    "duration": 987,
    "start_time": "2021-10-05T15:50:38.263Z"
   },
   {
    "duration": 26,
    "start_time": "2021-10-05T15:50:39.252Z"
   },
   {
    "duration": 5,
    "start_time": "2021-10-05T15:50:39.281Z"
   },
   {
    "duration": 14,
    "start_time": "2021-10-05T15:50:39.288Z"
   },
   {
    "duration": 7,
    "start_time": "2021-10-05T15:50:39.304Z"
   },
   {
    "duration": 7,
    "start_time": "2021-10-05T15:50:39.313Z"
   },
   {
    "duration": 7,
    "start_time": "2021-10-05T15:50:39.322Z"
   },
   {
    "duration": 6,
    "start_time": "2021-10-05T15:50:39.330Z"
   },
   {
    "duration": 21,
    "start_time": "2021-10-05T15:50:39.338Z"
   },
   {
    "duration": 46,
    "start_time": "2021-10-05T15:50:39.361Z"
   },
   {
    "duration": 5,
    "start_time": "2021-10-05T15:50:39.409Z"
   },
   {
    "duration": 6,
    "start_time": "2021-10-05T15:50:39.416Z"
   },
   {
    "duration": 35,
    "start_time": "2021-10-05T15:50:39.423Z"
   },
   {
    "duration": 6,
    "start_time": "2021-10-05T15:51:33.908Z"
   },
   {
    "duration": 1560,
    "start_time": "2021-10-05T15:51:41.294Z"
   },
   {
    "duration": 23,
    "start_time": "2021-10-05T15:51:42.855Z"
   },
   {
    "duration": 4,
    "start_time": "2021-10-05T15:51:42.880Z"
   },
   {
    "duration": 12,
    "start_time": "2021-10-05T15:51:42.887Z"
   },
   {
    "duration": 7,
    "start_time": "2021-10-05T15:51:42.901Z"
   },
   {
    "duration": 10,
    "start_time": "2021-10-05T15:51:42.910Z"
   },
   {
    "duration": 7,
    "start_time": "2021-10-05T15:51:42.922Z"
   },
   {
    "duration": 7,
    "start_time": "2021-10-05T15:51:42.932Z"
   },
   {
    "duration": 25,
    "start_time": "2021-10-05T15:51:42.940Z"
   },
   {
    "duration": 48,
    "start_time": "2021-10-05T15:51:42.967Z"
   },
   {
    "duration": 6,
    "start_time": "2021-10-05T15:51:43.017Z"
   },
   {
    "duration": 8,
    "start_time": "2021-10-05T15:51:43.025Z"
   },
   {
    "duration": 67,
    "start_time": "2021-10-05T15:51:43.035Z"
   },
   {
    "duration": 15,
    "start_time": "2021-10-05T15:51:47.352Z"
   },
   {
    "duration": 6,
    "start_time": "2021-10-05T15:51:54.486Z"
   },
   {
    "duration": 6,
    "start_time": "2021-10-05T15:52:02.546Z"
   },
   {
    "duration": 6,
    "start_time": "2021-10-05T15:52:13.563Z"
   },
   {
    "duration": 1041,
    "start_time": "2021-10-05T15:52:27.708Z"
   },
   {
    "duration": 22,
    "start_time": "2021-10-05T15:52:28.751Z"
   },
   {
    "duration": 11,
    "start_time": "2021-10-05T15:52:28.775Z"
   },
   {
    "duration": 19,
    "start_time": "2021-10-05T15:52:28.788Z"
   },
   {
    "duration": 28,
    "start_time": "2021-10-05T15:52:28.809Z"
   },
   {
    "duration": 28,
    "start_time": "2021-10-05T15:52:28.838Z"
   },
   {
    "duration": 27,
    "start_time": "2021-10-05T15:52:28.868Z"
   },
   {
    "duration": 42,
    "start_time": "2021-10-05T15:52:28.897Z"
   },
   {
    "duration": 35,
    "start_time": "2021-10-05T15:52:28.941Z"
   },
   {
    "duration": 18,
    "start_time": "2021-10-05T15:52:28.977Z"
   },
   {
    "duration": 19,
    "start_time": "2021-10-05T15:52:28.997Z"
   },
   {
    "duration": 21,
    "start_time": "2021-10-05T15:52:29.017Z"
   },
   {
    "duration": 49,
    "start_time": "2021-10-05T15:52:29.039Z"
   },
   {
    "duration": 272,
    "start_time": "2021-10-05T16:01:44.086Z"
   },
   {
    "duration": 1053,
    "start_time": "2021-10-05T16:01:52.193Z"
   },
   {
    "duration": 23,
    "start_time": "2021-10-05T16:01:53.248Z"
   },
   {
    "duration": 4,
    "start_time": "2021-10-05T16:01:53.274Z"
   },
   {
    "duration": 7,
    "start_time": "2021-10-05T16:01:53.280Z"
   },
   {
    "duration": 14,
    "start_time": "2021-10-05T16:01:53.289Z"
   },
   {
    "duration": 16,
    "start_time": "2021-10-05T16:01:53.305Z"
   },
   {
    "duration": 22,
    "start_time": "2021-10-05T16:01:53.322Z"
   },
   {
    "duration": 18,
    "start_time": "2021-10-05T16:01:53.347Z"
   },
   {
    "duration": 60,
    "start_time": "2021-10-05T16:01:53.366Z"
   },
   {
    "duration": 7,
    "start_time": "2021-10-05T16:01:53.427Z"
   },
   {
    "duration": 43,
    "start_time": "2021-10-05T16:01:53.435Z"
   },
   {
    "duration": 62,
    "start_time": "2021-10-05T16:01:53.480Z"
   },
   {
    "duration": 249,
    "start_time": "2021-10-05T16:01:53.544Z"
   },
   {
    "duration": 1977,
    "start_time": "2021-10-05T16:02:11.640Z"
   },
   {
    "duration": 2050,
    "start_time": "2021-10-05T16:02:35.499Z"
   },
   {
    "duration": 1930,
    "start_time": "2021-10-05T16:03:19.829Z"
   },
   {
    "duration": 1976,
    "start_time": "2021-10-05T16:06:56.469Z"
   },
   {
    "duration": 4211,
    "start_time": "2021-10-05T16:07:25.145Z"
   },
   {
    "duration": 8076,
    "start_time": "2021-10-05T16:08:05.294Z"
   },
   {
    "duration": 34875,
    "start_time": "2021-10-05T16:08:24.211Z"
   },
   {
    "duration": 72730,
    "start_time": "2021-10-05T16:09:54.550Z"
   },
   {
    "duration": 7842,
    "start_time": "2021-10-05T16:12:02.384Z"
   },
   {
    "duration": 34254,
    "start_time": "2021-10-05T16:12:23.578Z"
   },
   {
    "duration": 7805,
    "start_time": "2021-10-05T16:13:10.469Z"
   },
   {
    "duration": 72265,
    "start_time": "2021-10-05T16:15:41.381Z"
   },
   {
    "duration": 71354,
    "start_time": "2021-10-05T16:21:19.667Z"
   },
   {
    "duration": 1057,
    "start_time": "2021-10-05T16:28:36.790Z"
   },
   {
    "duration": 22,
    "start_time": "2021-10-05T16:28:37.850Z"
   },
   {
    "duration": 4,
    "start_time": "2021-10-05T16:28:37.873Z"
   },
   {
    "duration": 7,
    "start_time": "2021-10-05T16:28:37.879Z"
   },
   {
    "duration": 13,
    "start_time": "2021-10-05T16:28:37.887Z"
   },
   {
    "duration": 5,
    "start_time": "2021-10-05T16:28:37.902Z"
   },
   {
    "duration": 7,
    "start_time": "2021-10-05T16:28:37.909Z"
   },
   {
    "duration": 5,
    "start_time": "2021-10-05T16:28:37.918Z"
   },
   {
    "duration": 23,
    "start_time": "2021-10-05T16:28:37.925Z"
   },
   {
    "duration": 5,
    "start_time": "2021-10-05T16:28:37.949Z"
   },
   {
    "duration": 239,
    "start_time": "2021-10-05T16:28:37.955Z"
   },
   {
    "duration": -54,
    "start_time": "2021-10-05T16:28:38.250Z"
   },
   {
    "duration": -85,
    "start_time": "2021-10-05T16:28:38.283Z"
   },
   {
    "duration": 12,
    "start_time": "2021-10-05T16:29:09.882Z"
   },
   {
    "duration": 29,
    "start_time": "2021-10-05T16:29:12.321Z"
   },
   {
    "duration": 123,
    "start_time": "2021-10-05T16:29:16.337Z"
   },
   {
    "duration": 59979,
    "start_time": "2021-10-05T16:29:40.590Z"
   },
   {
    "duration": 272,
    "start_time": "2021-10-05T16:36:03.854Z"
   },
   {
    "duration": 488,
    "start_time": "2021-10-05T16:36:14.715Z"
   },
   {
    "duration": 1052,
    "start_time": "2021-10-05T16:36:24.649Z"
   },
   {
    "duration": 1057,
    "start_time": "2021-10-05T16:38:40.261Z"
   },
   {
    "duration": 161,
    "start_time": "2021-10-05T16:42:02.214Z"
   },
   {
    "duration": 1045,
    "start_time": "2021-10-05T16:42:10.101Z"
   },
   {
    "duration": 22,
    "start_time": "2021-10-05T16:42:11.147Z"
   },
   {
    "duration": 4,
    "start_time": "2021-10-05T16:42:11.171Z"
   },
   {
    "duration": 6,
    "start_time": "2021-10-05T16:42:11.176Z"
   },
   {
    "duration": 7,
    "start_time": "2021-10-05T16:42:11.183Z"
   },
   {
    "duration": 6,
    "start_time": "2021-10-05T16:42:11.199Z"
   },
   {
    "duration": 7,
    "start_time": "2021-10-05T16:42:11.206Z"
   },
   {
    "duration": 5,
    "start_time": "2021-10-05T16:42:11.215Z"
   },
   {
    "duration": 21,
    "start_time": "2021-10-05T16:42:11.222Z"
   },
   {
    "duration": 4,
    "start_time": "2021-10-05T16:42:11.245Z"
   },
   {
    "duration": 11,
    "start_time": "2021-10-05T16:42:11.251Z"
   },
   {
    "duration": 219,
    "start_time": "2021-10-05T16:42:11.263Z"
   },
   {
    "duration": 59826,
    "start_time": "2021-10-05T16:42:11.483Z"
   },
   {
    "duration": 92,
    "start_time": "2021-10-05T16:43:11.311Z"
   },
   {
    "duration": 1138,
    "start_time": "2021-10-05T16:43:11.405Z"
   },
   {
    "duration": 351,
    "start_time": "2021-10-05T16:43:23.797Z"
   },
   {
    "duration": 1016,
    "start_time": "2021-10-05T16:43:31.832Z"
   },
   {
    "duration": 22,
    "start_time": "2021-10-05T16:43:32.850Z"
   },
   {
    "duration": 4,
    "start_time": "2021-10-05T16:43:32.873Z"
   },
   {
    "duration": 5,
    "start_time": "2021-10-05T16:43:32.879Z"
   },
   {
    "duration": 16,
    "start_time": "2021-10-05T16:43:32.886Z"
   },
   {
    "duration": 7,
    "start_time": "2021-10-05T16:43:32.904Z"
   },
   {
    "duration": 6,
    "start_time": "2021-10-05T16:43:32.913Z"
   },
   {
    "duration": 7,
    "start_time": "2021-10-05T16:43:32.922Z"
   },
   {
    "duration": 22,
    "start_time": "2021-10-05T16:43:32.930Z"
   },
   {
    "duration": 4,
    "start_time": "2021-10-05T16:43:32.953Z"
   },
   {
    "duration": 47,
    "start_time": "2021-10-05T16:43:32.959Z"
   },
   {
    "duration": 337,
    "start_time": "2021-10-05T16:43:33.008Z"
   },
   {
    "duration": 59823,
    "start_time": "2021-10-05T16:43:33.347Z"
   },
   {
    "duration": 55,
    "start_time": "2021-10-05T16:44:33.172Z"
   },
   {
    "duration": 352,
    "start_time": "2021-10-05T16:50:53.795Z"
   },
   {
    "duration": 59195,
    "start_time": "2021-10-05T16:52:12.634Z"
   },
   {
    "duration": 48,
    "start_time": "2021-10-05T16:54:04.967Z"
   },
   {
    "duration": 37,
    "start_time": "2021-10-05T16:56:21.893Z"
   },
   {
    "duration": 125,
    "start_time": "2021-10-05T16:57:21.062Z"
   },
   {
    "duration": 59020,
    "start_time": "2021-10-05T16:58:13.267Z"
   },
   {
    "duration": 496,
    "start_time": "2021-10-05T17:05:09.343Z"
   },
   {
    "duration": 28,
    "start_time": "2021-10-05T17:05:18.311Z"
   },
   {
    "duration": 39,
    "start_time": "2021-10-05T17:05:23.728Z"
   },
   {
    "duration": 37,
    "start_time": "2021-10-05T17:06:09.098Z"
   },
   {
    "duration": 37,
    "start_time": "2021-10-05T17:06:10.866Z"
   },
   {
    "duration": 981,
    "start_time": "2021-10-05T17:07:16.261Z"
   },
   {
    "duration": 23,
    "start_time": "2021-10-05T17:07:17.245Z"
   },
   {
    "duration": 5,
    "start_time": "2021-10-05T17:07:17.270Z"
   },
   {
    "duration": 7,
    "start_time": "2021-10-05T17:07:17.276Z"
   },
   {
    "duration": 15,
    "start_time": "2021-10-05T17:07:17.285Z"
   },
   {
    "duration": 9,
    "start_time": "2021-10-05T17:07:17.301Z"
   },
   {
    "duration": 8,
    "start_time": "2021-10-05T17:07:17.312Z"
   },
   {
    "duration": 5,
    "start_time": "2021-10-05T17:07:17.323Z"
   },
   {
    "duration": 26,
    "start_time": "2021-10-05T17:07:17.330Z"
   },
   {
    "duration": 5,
    "start_time": "2021-10-05T17:07:17.357Z"
   },
   {
    "duration": 17,
    "start_time": "2021-10-05T17:07:17.363Z"
   },
   {
    "duration": 376,
    "start_time": "2021-10-05T17:07:17.381Z"
   },
   {
    "duration": 60330,
    "start_time": "2021-10-05T17:07:17.758Z"
   },
   {
    "duration": 406,
    "start_time": "2021-10-05T17:08:18.090Z"
   },
   {
    "duration": 42,
    "start_time": "2021-10-05T17:08:18.499Z"
   },
   {
    "duration": 502,
    "start_time": "2021-10-05T17:08:18.544Z"
   },
   {
    "duration": 59899,
    "start_time": "2021-10-05T17:08:19.048Z"
   },
   {
    "duration": 59416,
    "start_time": "2021-10-05T17:09:18.949Z"
   },
   {
    "duration": 344,
    "start_time": "2021-10-05T17:10:18.367Z"
   },
   {
    "duration": 24,
    "start_time": "2021-10-05T17:10:18.713Z"
   },
   {
    "duration": 23,
    "start_time": "2021-10-05T17:10:18.738Z"
   },
   {
    "duration": 124,
    "start_time": "2021-10-05T17:11:19.136Z"
   },
   {
    "duration": 1010,
    "start_time": "2021-10-06T14:27:45.654Z"
   },
   {
    "duration": 24,
    "start_time": "2021-10-06T14:27:46.665Z"
   },
   {
    "duration": 4,
    "start_time": "2021-10-06T14:27:46.691Z"
   },
   {
    "duration": 7,
    "start_time": "2021-10-06T14:27:46.696Z"
   },
   {
    "duration": 7,
    "start_time": "2021-10-06T14:27:46.705Z"
   },
   {
    "duration": 9,
    "start_time": "2021-10-06T14:27:46.713Z"
   },
   {
    "duration": 7,
    "start_time": "2021-10-06T14:27:46.723Z"
   },
   {
    "duration": 6,
    "start_time": "2021-10-06T14:27:46.732Z"
   },
   {
    "duration": 23,
    "start_time": "2021-10-06T14:27:46.739Z"
   },
   {
    "duration": 5,
    "start_time": "2021-10-06T14:27:46.763Z"
   },
   {
    "duration": 41,
    "start_time": "2021-10-06T14:27:46.769Z"
   },
   {
    "duration": 352,
    "start_time": "2021-10-06T14:27:46.812Z"
   },
   {
    "duration": 60051,
    "start_time": "2021-10-06T14:27:47.165Z"
   },
   {
    "duration": 426,
    "start_time": "2021-10-06T14:28:47.218Z"
   },
   {
    "duration": 62,
    "start_time": "2021-10-06T14:28:47.646Z"
   },
   {
    "duration": 532,
    "start_time": "2021-10-06T14:28:47.710Z"
   },
   {
    "duration": 59182,
    "start_time": "2021-10-06T14:28:48.243Z"
   },
   {
    "duration": 59166,
    "start_time": "2021-10-06T14:29:47.427Z"
   },
   {
    "duration": 132,
    "start_time": "2021-10-06T14:30:46.600Z"
   },
   {
    "duration": 13,
    "start_time": "2021-10-06T14:30:46.734Z"
   },
   {
    "duration": 13,
    "start_time": "2021-10-06T14:30:46.749Z"
   },
   {
    "duration": 6,
    "start_time": "2021-10-06T14:31:00.329Z"
   },
   {
    "duration": 1000,
    "start_time": "2021-10-06T14:31:05.842Z"
   },
   {
    "duration": 23,
    "start_time": "2021-10-06T14:31:06.844Z"
   },
   {
    "duration": 3,
    "start_time": "2021-10-06T14:31:06.869Z"
   },
   {
    "duration": 6,
    "start_time": "2021-10-06T14:31:06.874Z"
   },
   {
    "duration": 7,
    "start_time": "2021-10-06T14:31:06.882Z"
   },
   {
    "duration": 5,
    "start_time": "2021-10-06T14:31:06.900Z"
   },
   {
    "duration": 6,
    "start_time": "2021-10-06T14:31:06.907Z"
   },
   {
    "duration": 7,
    "start_time": "2021-10-06T14:31:06.915Z"
   },
   {
    "duration": 21,
    "start_time": "2021-10-06T14:31:06.923Z"
   },
   {
    "duration": 4,
    "start_time": "2021-10-06T14:31:06.945Z"
   },
   {
    "duration": 10,
    "start_time": "2021-10-06T14:31:06.951Z"
   },
   {
    "duration": 387,
    "start_time": "2021-10-06T14:31:06.962Z"
   },
   {
    "duration": 61089,
    "start_time": "2021-10-06T14:31:07.351Z"
   },
   {
    "duration": 426,
    "start_time": "2021-10-06T14:32:08.442Z"
   },
   {
    "duration": 53,
    "start_time": "2021-10-06T14:32:08.870Z"
   },
   {
    "duration": 537,
    "start_time": "2021-10-06T14:32:08.925Z"
   },
   {
    "duration": 59367,
    "start_time": "2021-10-06T14:32:09.464Z"
   },
   {
    "duration": 59406,
    "start_time": "2021-10-06T14:33:08.833Z"
   },
   {
    "duration": 131,
    "start_time": "2021-10-06T14:34:08.241Z"
   },
   {
    "duration": 12,
    "start_time": "2021-10-06T14:34:08.374Z"
   },
   {
    "duration": 22,
    "start_time": "2021-10-06T14:34:08.387Z"
   },
   {
    "duration": 349,
    "start_time": "2021-10-06T14:43:38.300Z"
   },
   {
    "duration": 1007,
    "start_time": "2021-10-06T14:44:04.033Z"
   },
   {
    "duration": 25,
    "start_time": "2021-10-06T14:44:05.042Z"
   },
   {
    "duration": 4,
    "start_time": "2021-10-06T14:44:05.069Z"
   },
   {
    "duration": 20,
    "start_time": "2021-10-06T14:44:05.075Z"
   },
   {
    "duration": 33,
    "start_time": "2021-10-06T14:44:05.097Z"
   },
   {
    "duration": 13,
    "start_time": "2021-10-06T14:44:05.132Z"
   },
   {
    "duration": 28,
    "start_time": "2021-10-06T14:44:05.147Z"
   },
   {
    "duration": 19,
    "start_time": "2021-10-06T14:44:05.177Z"
   },
   {
    "duration": 40,
    "start_time": "2021-10-06T14:44:05.198Z"
   },
   {
    "duration": 5,
    "start_time": "2021-10-06T14:44:05.240Z"
   },
   {
    "duration": 11,
    "start_time": "2021-10-06T14:44:05.247Z"
   },
   {
    "duration": 787,
    "start_time": "2021-10-06T14:44:05.260Z"
   },
   {
    "duration": 22937,
    "start_time": "2021-10-06T14:44:06.049Z"
   },
   {
    "duration": 69,
    "start_time": "2021-10-06T14:44:28.988Z"
   },
   {
    "duration": 50,
    "start_time": "2021-10-06T14:44:29.058Z"
   },
   {
    "duration": 528,
    "start_time": "2021-10-06T14:44:29.110Z"
   },
   {
    "duration": 1032,
    "start_time": "2021-10-06T14:44:38.527Z"
   },
   {
    "duration": 23,
    "start_time": "2021-10-06T14:44:39.561Z"
   },
   {
    "duration": 4,
    "start_time": "2021-10-06T14:44:39.586Z"
   },
   {
    "duration": 6,
    "start_time": "2021-10-06T14:44:39.591Z"
   },
   {
    "duration": 7,
    "start_time": "2021-10-06T14:44:39.599Z"
   },
   {
    "duration": 7,
    "start_time": "2021-10-06T14:44:39.608Z"
   },
   {
    "duration": 7,
    "start_time": "2021-10-06T14:44:39.616Z"
   },
   {
    "duration": 5,
    "start_time": "2021-10-06T14:44:39.625Z"
   },
   {
    "duration": 23,
    "start_time": "2021-10-06T14:44:39.632Z"
   },
   {
    "duration": 4,
    "start_time": "2021-10-06T14:44:39.656Z"
   },
   {
    "duration": 38,
    "start_time": "2021-10-06T14:44:39.662Z"
   },
   {
    "duration": 353,
    "start_time": "2021-10-06T14:44:39.702Z"
   },
   {
    "duration": 60533,
    "start_time": "2021-10-06T14:44:40.056Z"
   },
   {
    "duration": 416,
    "start_time": "2021-10-06T14:45:40.591Z"
   },
   {
    "duration": 90,
    "start_time": "2021-10-06T14:45:41.009Z"
   },
   {
    "duration": 463,
    "start_time": "2021-10-06T14:45:41.102Z"
   },
   {
    "duration": 59264,
    "start_time": "2021-10-06T14:45:41.566Z"
   },
   {
    "duration": 59613,
    "start_time": "2021-10-06T14:46:40.832Z"
   },
   {
    "duration": 129,
    "start_time": "2021-10-06T14:47:40.447Z"
   },
   {
    "duration": 12,
    "start_time": "2021-10-06T14:47:40.578Z"
   },
   {
    "duration": 12,
    "start_time": "2021-10-06T14:47:40.599Z"
   },
   {
    "duration": 227,
    "start_time": "2021-10-06T14:49:26.248Z"
   },
   {
    "duration": 352,
    "start_time": "2021-10-06T15:13:20.412Z"
   },
   {
    "duration": 8,
    "start_time": "2021-10-06T15:24:19.130Z"
   },
   {
    "duration": 7,
    "start_time": "2021-10-06T15:25:22.565Z"
   },
   {
    "duration": 13,
    "start_time": "2021-10-06T15:27:42.473Z"
   },
   {
    "duration": 1057,
    "start_time": "2021-10-06T15:28:33.488Z"
   },
   {
    "duration": 22,
    "start_time": "2021-10-06T15:28:34.547Z"
   },
   {
    "duration": 4,
    "start_time": "2021-10-06T15:28:34.570Z"
   },
   {
    "duration": 6,
    "start_time": "2021-10-06T15:28:34.576Z"
   },
   {
    "duration": 7,
    "start_time": "2021-10-06T15:28:34.584Z"
   },
   {
    "duration": 11,
    "start_time": "2021-10-06T15:28:34.592Z"
   },
   {
    "duration": 6,
    "start_time": "2021-10-06T15:28:34.604Z"
   },
   {
    "duration": 5,
    "start_time": "2021-10-06T15:28:34.612Z"
   },
   {
    "duration": 22,
    "start_time": "2021-10-06T15:28:34.619Z"
   },
   {
    "duration": 4,
    "start_time": "2021-10-06T15:28:34.643Z"
   },
   {
    "duration": 12,
    "start_time": "2021-10-06T15:28:34.649Z"
   },
   {
    "duration": 371,
    "start_time": "2021-10-06T15:28:34.662Z"
   },
   {
    "duration": 6,
    "start_time": "2021-10-06T15:28:35.035Z"
   },
   {
    "duration": 60900,
    "start_time": "2021-10-06T15:28:35.043Z"
   },
   {
    "duration": 426,
    "start_time": "2021-10-06T15:29:35.945Z"
   },
   {
    "duration": 35,
    "start_time": "2021-10-06T15:29:36.373Z"
   },
   {
    "duration": 93,
    "start_time": "2021-10-06T15:29:36.409Z"
   },
   {
    "duration": 458,
    "start_time": "2021-10-06T15:29:36.505Z"
   },
   {
    "duration": 59184,
    "start_time": "2021-10-06T15:29:36.965Z"
   },
   {
    "duration": 59716,
    "start_time": "2021-10-06T15:30:36.150Z"
   },
   {
    "duration": 132,
    "start_time": "2021-10-06T15:31:35.868Z"
   },
   {
    "duration": 13,
    "start_time": "2021-10-06T15:31:36.002Z"
   },
   {
    "duration": 13,
    "start_time": "2021-10-06T15:31:36.017Z"
   },
   {
    "duration": 12,
    "start_time": "2021-10-06T15:31:36.031Z"
   },
   {
    "duration": 11,
    "start_time": "2021-10-06T15:32:39.253Z"
   },
   {
    "duration": 42,
    "start_time": "2021-10-06T15:35:09.659Z"
   },
   {
    "duration": 363,
    "start_time": "2021-10-06T15:37:20.173Z"
   },
   {
    "duration": 8,
    "start_time": "2021-10-06T15:37:49.804Z"
   },
   {
    "duration": 238,
    "start_time": "2021-10-06T15:39:36.574Z"
   },
   {
    "duration": 1018,
    "start_time": "2021-10-06T15:39:42.931Z"
   },
   {
    "duration": 22,
    "start_time": "2021-10-06T15:39:43.951Z"
   },
   {
    "duration": 4,
    "start_time": "2021-10-06T15:39:43.977Z"
   },
   {
    "duration": 8,
    "start_time": "2021-10-06T15:39:43.983Z"
   },
   {
    "duration": 12,
    "start_time": "2021-10-06T15:39:43.992Z"
   },
   {
    "duration": 8,
    "start_time": "2021-10-06T15:39:44.005Z"
   },
   {
    "duration": 8,
    "start_time": "2021-10-06T15:39:44.016Z"
   },
   {
    "duration": 5,
    "start_time": "2021-10-06T15:39:44.026Z"
   },
   {
    "duration": 22,
    "start_time": "2021-10-06T15:39:44.033Z"
   },
   {
    "duration": 5,
    "start_time": "2021-10-06T15:39:44.057Z"
   },
   {
    "duration": 38,
    "start_time": "2021-10-06T15:39:44.063Z"
   },
   {
    "duration": 351,
    "start_time": "2021-10-06T15:39:44.102Z"
   },
   {
    "duration": 8,
    "start_time": "2021-10-06T15:39:44.455Z"
   },
   {
    "duration": 59802,
    "start_time": "2021-10-06T15:39:44.465Z"
   },
   {
    "duration": 44,
    "start_time": "2021-10-06T15:40:44.268Z"
   },
   {
    "duration": 90,
    "start_time": "2021-10-06T15:40:44.313Z"
   },
   {
    "duration": 101,
    "start_time": "2021-10-06T15:40:44.405Z"
   },
   {
    "duration": 475,
    "start_time": "2021-10-06T15:40:44.508Z"
   },
   {
    "duration": 15,
    "start_time": "2021-10-06T15:40:44.985Z"
   },
   {
    "duration": 59022,
    "start_time": "2021-10-06T15:40:45.002Z"
   },
   {
    "duration": 37,
    "start_time": "2021-10-06T15:41:44.026Z"
   },
   {
    "duration": 58979,
    "start_time": "2021-10-06T15:41:44.066Z"
   },
   {
    "duration": 138,
    "start_time": "2021-10-06T15:42:43.047Z"
   },
   {
    "duration": 17,
    "start_time": "2021-10-06T15:42:43.186Z"
   },
   {
    "duration": 12,
    "start_time": "2021-10-06T15:42:43.205Z"
   },
   {
    "duration": 15194,
    "start_time": "2021-10-06T16:23:35.038Z"
   },
   {
    "duration": 14687,
    "start_time": "2021-10-06T16:24:37.190Z"
   },
   {
    "duration": 1058,
    "start_time": "2021-10-06T16:29:21.388Z"
   },
   {
    "duration": 24,
    "start_time": "2021-10-06T16:29:22.448Z"
   },
   {
    "duration": 5,
    "start_time": "2021-10-06T16:29:22.473Z"
   },
   {
    "duration": 7,
    "start_time": "2021-10-06T16:29:22.479Z"
   },
   {
    "duration": 12,
    "start_time": "2021-10-06T16:29:22.488Z"
   },
   {
    "duration": 5,
    "start_time": "2021-10-06T16:29:22.502Z"
   },
   {
    "duration": 6,
    "start_time": "2021-10-06T16:29:22.509Z"
   },
   {
    "duration": 5,
    "start_time": "2021-10-06T16:29:22.518Z"
   },
   {
    "duration": 22,
    "start_time": "2021-10-06T16:29:22.525Z"
   },
   {
    "duration": 4,
    "start_time": "2021-10-06T16:29:22.549Z"
   },
   {
    "duration": 10,
    "start_time": "2021-10-06T16:29:22.555Z"
   },
   {
    "duration": 270,
    "start_time": "2021-10-06T16:29:22.600Z"
   },
   {
    "duration": 6,
    "start_time": "2021-10-06T16:29:22.872Z"
   },
   {
    "duration": 14988,
    "start_time": "2021-10-06T16:29:22.879Z"
   },
   {
    "duration": 32,
    "start_time": "2021-10-06T16:29:37.869Z"
   },
   {
    "duration": 42,
    "start_time": "2021-10-06T16:29:37.903Z"
   },
   {
    "duration": 102,
    "start_time": "2021-10-06T16:29:38.001Z"
   },
   {
    "duration": 354,
    "start_time": "2021-10-06T16:29:38.107Z"
   },
   {
    "duration": 6,
    "start_time": "2021-10-06T16:29:38.463Z"
   },
   {
    "duration": 14865,
    "start_time": "2021-10-06T16:29:38.471Z"
   },
   {
    "duration": 22,
    "start_time": "2021-10-06T16:29:53.338Z"
   },
   {
    "duration": 4,
    "start_time": "2021-10-06T16:29:53.361Z"
   },
   {
    "duration": 91,
    "start_time": "2021-10-06T16:29:53.366Z"
   },
   {
    "duration": 14785,
    "start_time": "2021-10-06T16:29:53.501Z"
   },
   {
    "duration": 130,
    "start_time": "2021-10-06T16:30:08.288Z"
   },
   {
    "duration": 9,
    "start_time": "2021-10-06T16:34:11.999Z"
   },
   {
    "duration": 355,
    "start_time": "2021-10-06T16:37:34.714Z"
   },
   {
    "duration": 352,
    "start_time": "2021-10-06T16:38:35.038Z"
   },
   {
    "duration": 15230,
    "start_time": "2021-10-06T16:39:32.829Z"
   },
   {
    "duration": 14750,
    "start_time": "2021-10-06T16:40:14.996Z"
   },
   {
    "duration": 20604,
    "start_time": "2021-10-06T16:40:58.598Z"
   },
   {
    "duration": 20562,
    "start_time": "2021-10-06T16:41:31.659Z"
   },
   {
    "duration": 4,
    "start_time": "2021-10-06T16:45:42.646Z"
   },
   {
    "duration": 10,
    "start_time": "2021-10-06T16:46:00.002Z"
   },
   {
    "duration": 130,
    "start_time": "2021-10-06T16:46:55.231Z"
   },
   {
    "duration": 8501,
    "start_time": "2021-10-06T16:48:01.247Z"
   },
   {
    "duration": 100,
    "start_time": "2021-10-06T16:49:07.402Z"
   },
   {
    "duration": 72,
    "start_time": "2021-10-06T16:49:39.241Z"
   },
   {
    "duration": 22,
    "start_time": "2021-10-06T16:50:03.964Z"
   },
   {
    "duration": 6,
    "start_time": "2021-10-11T04:37:12.229Z"
   },
   {
    "duration": 21,
    "start_time": "2021-10-11T04:38:21.453Z"
   },
   {
    "duration": 8,
    "start_time": "2021-10-11T04:55:49.472Z"
   },
   {
    "duration": 20,
    "start_time": "2021-10-11T04:56:47.897Z"
   },
   {
    "duration": 20906,
    "start_time": "2021-10-11T06:48:04.500Z"
   },
   {
    "duration": 230583,
    "start_time": "2021-10-11T06:55:25.068Z"
   },
   {
    "duration": 23,
    "start_time": "2021-10-11T07:03:37.119Z"
   },
   {
    "duration": 28364,
    "start_time": "2021-10-11T07:03:48.377Z"
   },
   {
    "duration": 23,
    "start_time": "2021-10-11T07:04:23.321Z"
   },
   {
    "duration": 515,
    "start_time": "2021-10-11T07:06:07.845Z"
   },
   {
    "duration": 367,
    "start_time": "2021-10-11T07:06:43.336Z"
   },
   {
    "duration": 226,
    "start_time": "2021-10-11T07:07:04.452Z"
   },
   {
    "duration": 81472,
    "start_time": "2021-10-11T07:08:27.096Z"
   },
   {
    "duration": 228,
    "start_time": "2021-10-11T07:21:30.644Z"
   },
   {
    "duration": 194,
    "start_time": "2021-10-11T07:38:58.165Z"
   },
   {
    "duration": 116,
    "start_time": "2021-10-11T07:40:01.217Z"
   },
   {
    "duration": 227,
    "start_time": "2021-10-11T07:40:21.693Z"
   },
   {
    "duration": 117,
    "start_time": "2021-10-11T07:41:02.432Z"
   },
   {
    "duration": 141,
    "start_time": "2021-10-11T07:41:17.328Z"
   },
   {
    "duration": 116,
    "start_time": "2021-10-11T07:41:28.029Z"
   },
   {
    "duration": 95,
    "start_time": "2021-10-11T07:41:49.181Z"
   },
   {
    "duration": 108,
    "start_time": "2021-10-11T07:42:12.626Z"
   },
   {
    "duration": 222,
    "start_time": "2021-10-11T07:42:58.605Z"
   },
   {
    "duration": 251,
    "start_time": "2021-10-11T07:43:11.485Z"
   },
   {
    "duration": 207,
    "start_time": "2021-10-11T07:43:17.304Z"
   },
   {
    "duration": 320,
    "start_time": "2021-10-11T07:43:25.071Z"
   },
   {
    "duration": 220,
    "start_time": "2021-10-11T07:43:35.342Z"
   },
   {
    "duration": 223,
    "start_time": "2021-10-11T07:44:30.137Z"
   },
   {
    "duration": 80991,
    "start_time": "2021-10-11T07:44:53.018Z"
   },
   {
    "duration": 414,
    "start_time": "2021-10-11T07:46:41.916Z"
   },
   {
    "duration": 230,
    "start_time": "2021-10-11T07:56:46.796Z"
   },
   {
    "duration": 10,
    "start_time": "2021-10-11T08:02:58.092Z"
   },
   {
    "duration": 6,
    "start_time": "2021-10-11T08:03:03.881Z"
   },
   {
    "duration": 10,
    "start_time": "2021-10-11T08:03:11.982Z"
   },
   {
    "duration": 27,
    "start_time": "2021-10-11T08:03:17.150Z"
   },
   {
    "duration": 17,
    "start_time": "2021-10-11T08:03:18.048Z"
   },
   {
    "duration": 4,
    "start_time": "2021-10-11T08:03:19.543Z"
   },
   {
    "duration": 5,
    "start_time": "2021-10-11T08:03:20.350Z"
   },
   {
    "duration": 8,
    "start_time": "2021-10-11T08:03:21.886Z"
   },
   {
    "duration": 7,
    "start_time": "2021-10-11T08:03:25.605Z"
   },
   {
    "duration": 21,
    "start_time": "2021-10-11T08:03:51.020Z"
   },
   {
    "duration": 50,
    "start_time": "2021-10-11T08:04:02.421Z"
   },
   {
    "duration": 18,
    "start_time": "2021-10-11T08:04:08.137Z"
   },
   {
    "duration": 27,
    "start_time": "2021-10-11T08:04:40.983Z"
   },
   {
    "duration": 17,
    "start_time": "2021-10-11T08:04:59.423Z"
   },
   {
    "duration": 17,
    "start_time": "2021-10-11T08:05:05.716Z"
   },
   {
    "duration": 29,
    "start_time": "2021-10-11T08:05:10.107Z"
   },
   {
    "duration": 19,
    "start_time": "2021-10-11T08:05:11.444Z"
   },
   {
    "duration": 5,
    "start_time": "2021-10-11T08:05:13.611Z"
   },
   {
    "duration": 7,
    "start_time": "2021-10-11T08:05:14.626Z"
   },
   {
    "duration": 7,
    "start_time": "2021-10-11T08:05:15.705Z"
   },
   {
    "duration": 7,
    "start_time": "2021-10-11T08:05:17.088Z"
   },
   {
    "duration": 17,
    "start_time": "2021-10-11T08:05:18.427Z"
   },
   {
    "duration": 16,
    "start_time": "2021-10-11T08:05:20.739Z"
   },
   {
    "duration": 16,
    "start_time": "2021-10-11T08:05:28.650Z"
   },
   {
    "duration": 6,
    "start_time": "2021-10-11T08:05:36.129Z"
   },
   {
    "duration": 7,
    "start_time": "2021-10-11T08:05:38.919Z"
   },
   {
    "duration": 6,
    "start_time": "2021-10-11T08:05:54.326Z"
   },
   {
    "duration": 1038,
    "start_time": "2021-10-11T08:06:03.419Z"
   },
   {
    "duration": 21,
    "start_time": "2021-10-11T08:06:04.459Z"
   },
   {
    "duration": 4,
    "start_time": "2021-10-11T08:06:04.482Z"
   },
   {
    "duration": 7,
    "start_time": "2021-10-11T08:06:04.488Z"
   },
   {
    "duration": 5,
    "start_time": "2021-10-11T08:06:04.500Z"
   },
   {
    "duration": 8,
    "start_time": "2021-10-11T08:06:04.507Z"
   },
   {
    "duration": 18,
    "start_time": "2021-10-11T08:06:04.517Z"
   },
   {
    "duration": 6,
    "start_time": "2021-10-11T08:06:04.538Z"
   },
   {
    "duration": 7,
    "start_time": "2021-10-11T08:06:04.547Z"
   },
   {
    "duration": 65,
    "start_time": "2021-10-11T08:06:04.555Z"
   },
   {
    "duration": 7,
    "start_time": "2021-10-11T08:06:04.622Z"
   },
   {
    "duration": 12,
    "start_time": "2021-10-11T08:06:04.631Z"
   },
   {
    "duration": 380,
    "start_time": "2021-10-11T08:06:04.645Z"
   },
   {
    "duration": 7,
    "start_time": "2021-10-11T08:06:05.027Z"
   },
   {
    "duration": 20622,
    "start_time": "2021-10-11T08:06:05.036Z"
   },
   {
    "duration": 27,
    "start_time": "2021-10-11T08:06:25.659Z"
   },
   {
    "duration": 111,
    "start_time": "2021-10-11T08:06:25.700Z"
   },
   {
    "duration": 10,
    "start_time": "2021-10-11T08:06:25.900Z"
   },
   {
    "duration": 576,
    "start_time": "2021-10-11T08:06:25.912Z"
   },
   {
    "duration": 14,
    "start_time": "2021-10-11T08:06:26.490Z"
   },
   {
    "duration": 20516,
    "start_time": "2021-10-11T08:06:26.505Z"
   },
   {
    "duration": 25,
    "start_time": "2021-10-11T08:06:47.023Z"
   },
   {
    "duration": 149,
    "start_time": "2021-10-11T08:06:47.051Z"
   },
   {
    "duration": 97,
    "start_time": "2021-10-11T08:06:47.203Z"
   },
   {
    "duration": 12,
    "start_time": "2021-10-11T08:06:47.302Z"
   },
   {
    "duration": 494,
    "start_time": "2021-10-11T08:06:47.315Z"
   },
   {
    "duration": 7,
    "start_time": "2021-10-11T08:06:47.811Z"
   },
   {
    "duration": 28984,
    "start_time": "2021-10-11T08:06:47.819Z"
   },
   {
    "duration": 29,
    "start_time": "2021-10-11T08:07:16.805Z"
   },
   {
    "duration": 167,
    "start_time": "2021-10-11T08:07:16.836Z"
   },
   {
    "duration": 114962,
    "start_time": "2021-10-11T08:07:17.005Z"
   },
   {
    "duration": 4,
    "start_time": "2021-10-11T08:09:11.969Z"
   },
   {
    "duration": 24,
    "start_time": "2021-10-11T08:09:11.975Z"
   },
   {
    "duration": 197,
    "start_time": "2021-10-11T08:09:12.001Z"
   },
   {
    "duration": 8,
    "start_time": "2021-10-11T08:09:12.200Z"
   },
   {
    "duration": 11294,
    "start_time": "2021-10-11T08:09:12.209Z"
   },
   {
    "duration": 27,
    "start_time": "2021-10-11T08:09:23.505Z"
   },
   {
    "duration": 166,
    "start_time": "2021-10-11T08:09:23.534Z"
   },
   {
    "duration": 31611,
    "start_time": "2021-10-11T08:09:23.702Z"
   },
   {
    "duration": 319,
    "start_time": "2021-10-11T08:09:55.315Z"
   },
   {
    "duration": 1015,
    "start_time": "2021-10-11T19:06:07.441Z"
   },
   {
    "duration": 43,
    "start_time": "2021-10-11T19:06:08.458Z"
   },
   {
    "duration": 5,
    "start_time": "2021-10-11T19:06:08.503Z"
   },
   {
    "duration": 10,
    "start_time": "2021-10-11T19:06:08.510Z"
   },
   {
    "duration": 10,
    "start_time": "2021-10-11T19:06:08.522Z"
   },
   {
    "duration": 8,
    "start_time": "2021-10-11T19:06:08.534Z"
   },
   {
    "duration": 57,
    "start_time": "2021-10-11T19:06:08.544Z"
   },
   {
    "duration": 9,
    "start_time": "2021-10-11T19:06:08.604Z"
   },
   {
    "duration": 29,
    "start_time": "2021-10-11T19:06:08.616Z"
   },
   {
    "duration": 55,
    "start_time": "2021-10-11T19:06:08.647Z"
   },
   {
    "duration": 10,
    "start_time": "2021-10-11T19:06:08.704Z"
   },
   {
    "duration": 436,
    "start_time": "2021-10-11T19:06:08.716Z"
   },
   {
    "duration": 6,
    "start_time": "2021-10-11T19:06:09.154Z"
   },
   {
    "duration": 14853,
    "start_time": "2021-10-11T19:06:09.162Z"
   },
   {
    "duration": 21,
    "start_time": "2021-10-11T19:06:24.017Z"
   },
   {
    "duration": 62,
    "start_time": "2021-10-11T19:06:24.040Z"
   },
   {
    "duration": 101,
    "start_time": "2021-10-11T19:06:24.104Z"
   },
   {
    "duration": 394,
    "start_time": "2021-10-11T19:06:24.207Z"
   },
   {
    "duration": 5,
    "start_time": "2021-10-11T19:06:24.603Z"
   },
   {
    "duration": 14713,
    "start_time": "2021-10-11T19:06:24.610Z"
   },
   {
    "duration": 20,
    "start_time": "2021-10-11T19:06:39.325Z"
   },
   {
    "duration": 67,
    "start_time": "2021-10-11T19:06:39.346Z"
   },
   {
    "duration": 91,
    "start_time": "2021-10-11T19:06:39.418Z"
   },
   {
    "duration": 11,
    "start_time": "2021-10-11T19:06:39.600Z"
   },
   {
    "duration": 344,
    "start_time": "2021-10-11T19:06:39.613Z"
   },
   {
    "duration": 7,
    "start_time": "2021-10-11T19:06:39.959Z"
   },
   {
    "duration": 20748,
    "start_time": "2021-10-11T19:06:39.968Z"
   },
   {
    "duration": 22,
    "start_time": "2021-10-11T19:07:00.717Z"
   },
   {
    "duration": 95,
    "start_time": "2021-10-11T19:07:00.741Z"
   },
   {
    "duration": 81412,
    "start_time": "2021-10-11T19:07:00.901Z"
   },
   {
    "duration": 4,
    "start_time": "2021-10-11T19:08:22.314Z"
   },
   {
    "duration": 11,
    "start_time": "2021-10-11T19:08:22.320Z"
   },
   {
    "duration": 151,
    "start_time": "2021-10-11T19:08:22.333Z"
   },
   {
    "duration": 15,
    "start_time": "2021-10-11T19:08:22.485Z"
   },
   {
    "duration": 8627,
    "start_time": "2021-10-11T19:08:22.502Z"
   },
   {
    "duration": 21,
    "start_time": "2021-10-11T19:08:31.130Z"
   },
   {
    "duration": 53,
    "start_time": "2021-10-11T19:08:31.152Z"
   },
   {
    "duration": 22309,
    "start_time": "2021-10-11T19:08:31.207Z"
   },
   {
    "duration": 247,
    "start_time": "2021-10-11T19:08:53.519Z"
   },
   {
    "duration": 81331,
    "start_time": "2021-10-11T19:12:09.402Z"
   },
   {
    "duration": 455,
    "start_time": "2021-10-11T19:14:53.711Z"
   },
   {
    "duration": 413,
    "start_time": "2021-10-11T19:43:33.964Z"
   },
   {
    "duration": 410,
    "start_time": "2021-10-11T19:43:43.112Z"
   },
   {
    "duration": 80925,
    "start_time": "2021-10-11T19:43:58.493Z"
   },
   {
    "duration": 353,
    "start_time": "2021-10-11T19:45:49.712Z"
   },
   {
    "duration": 375,
    "start_time": "2021-10-11T19:46:08.803Z"
   },
   {
    "duration": 412,
    "start_time": "2021-10-11T19:46:13.489Z"
   },
   {
    "duration": 434,
    "start_time": "2021-10-11T19:46:18.125Z"
   },
   {
    "duration": 2850,
    "start_time": "2021-10-11T19:46:23.786Z"
   },
   {
    "duration": 275,
    "start_time": "2021-10-11T19:46:34.748Z"
   },
   {
    "duration": 316,
    "start_time": "2021-10-11T19:46:39.925Z"
   },
   {
    "duration": 351,
    "start_time": "2021-10-11T19:46:44.088Z"
   },
   {
    "duration": 382,
    "start_time": "2021-10-11T19:46:47.797Z"
   },
   {
    "duration": 405,
    "start_time": "2021-10-11T19:46:51.717Z"
   },
   {
    "duration": 429,
    "start_time": "2021-10-11T19:46:55.912Z"
   },
   {
    "duration": 463,
    "start_time": "2021-10-11T19:47:00.406Z"
   },
   {
    "duration": 498,
    "start_time": "2021-10-11T19:47:04.912Z"
   },
   {
    "duration": 489,
    "start_time": "2021-10-11T19:47:08.987Z"
   },
   {
    "duration": 544,
    "start_time": "2021-10-11T19:47:14.372Z"
   },
   {
    "duration": 521,
    "start_time": "2021-10-11T19:47:18.983Z"
   },
   {
    "duration": 651,
    "start_time": "2021-10-11T19:47:23.721Z"
   },
   {
    "duration": 410,
    "start_time": "2021-10-11T19:47:28.173Z"
   },
   {
    "duration": 175,
    "start_time": "2021-10-11T19:48:48.181Z"
   },
   {
    "duration": 122,
    "start_time": "2021-10-11T19:49:55.492Z"
   },
   {
    "duration": 126,
    "start_time": "2021-10-11T19:50:36.725Z"
   },
   {
    "duration": 44,
    "start_time": "2021-10-11T19:52:11.943Z"
   },
   {
    "duration": 123,
    "start_time": "2021-10-11T19:52:20.225Z"
   },
   {
    "duration": 125,
    "start_time": "2021-10-11T19:52:30.624Z"
   },
   {
    "duration": 213,
    "start_time": "2021-10-11T19:54:16.268Z"
   },
   {
    "duration": 106,
    "start_time": "2021-10-11T19:55:56.554Z"
   },
   {
    "duration": 216,
    "start_time": "2021-10-11T19:57:10.739Z"
   },
   {
    "duration": 52,
    "start_time": "2021-10-11T19:58:24.222Z"
   },
   {
    "duration": 410,
    "start_time": "2021-10-11T19:58:30.691Z"
   },
   {
    "duration": 81679,
    "start_time": "2021-10-11T19:58:58.507Z"
   },
   {
    "duration": 151,
    "start_time": "2021-10-11T20:06:31.519Z"
   },
   {
    "duration": 215,
    "start_time": "2021-10-11T20:07:37.645Z"
   },
   {
    "duration": 111,
    "start_time": "2021-10-11T20:08:42.926Z"
   },
   {
    "duration": 219,
    "start_time": "2021-10-11T20:09:23.027Z"
   },
   {
    "duration": 218,
    "start_time": "2021-10-11T20:10:19.044Z"
   },
   {
    "duration": 434,
    "start_time": "2021-10-11T20:10:41.224Z"
   },
   {
    "duration": 988,
    "start_time": "2021-10-11T20:26:14.365Z"
   },
   {
    "duration": 22,
    "start_time": "2021-10-11T20:26:15.355Z"
   },
   {
    "duration": 4,
    "start_time": "2021-10-11T20:26:15.378Z"
   },
   {
    "duration": 17,
    "start_time": "2021-10-11T20:26:15.383Z"
   },
   {
    "duration": 7,
    "start_time": "2021-10-11T20:26:15.401Z"
   },
   {
    "duration": 7,
    "start_time": "2021-10-11T20:26:15.410Z"
   },
   {
    "duration": 9,
    "start_time": "2021-10-11T20:26:15.419Z"
   },
   {
    "duration": 6,
    "start_time": "2021-10-11T20:26:15.431Z"
   },
   {
    "duration": 23,
    "start_time": "2021-10-11T20:26:15.439Z"
   },
   {
    "duration": 37,
    "start_time": "2021-10-11T20:26:15.464Z"
   },
   {
    "duration": 11,
    "start_time": "2021-10-11T20:26:15.502Z"
   },
   {
    "duration": 256,
    "start_time": "2021-10-11T20:26:15.515Z"
   },
   {
    "duration": 15388,
    "start_time": "2021-10-11T20:26:15.773Z"
   },
   {
    "duration": 59,
    "start_time": "2021-10-11T20:26:31.162Z"
   },
   {
    "duration": 432,
    "start_time": "2021-10-11T20:26:31.223Z"
   },
   {
    "duration": 14806,
    "start_time": "2021-10-11T20:26:31.656Z"
   },
   {
    "duration": 61,
    "start_time": "2021-10-11T20:26:46.464Z"
   },
   {
    "duration": 77,
    "start_time": "2021-10-11T20:26:46.528Z"
   },
   {
    "duration": 99,
    "start_time": "2021-10-11T20:26:46.608Z"
   },
   {
    "duration": 342,
    "start_time": "2021-10-11T20:26:46.709Z"
   },
   {
    "duration": 20786,
    "start_time": "2021-10-11T20:26:47.053Z"
   },
   {
    "duration": 159,
    "start_time": "2021-10-11T20:27:07.841Z"
   },
   {
    "duration": 6,
    "start_time": "2021-10-11T20:27:08.005Z"
   },
   {
    "duration": 93,
    "start_time": "2021-10-11T20:27:08.013Z"
   },
   {
    "duration": 153,
    "start_time": "2021-10-11T20:27:08.108Z"
   },
   {
    "duration": 9032,
    "start_time": "2021-10-11T20:27:08.263Z"
   },
   {
    "duration": 20,
    "start_time": "2021-10-11T20:27:17.299Z"
   },
   {
    "duration": 21122,
    "start_time": "2021-10-11T20:27:17.321Z"
   },
   {
    "duration": 81490,
    "start_time": "2021-10-11T20:27:38.444Z"
   },
   {
    "duration": 143,
    "start_time": "2021-10-11T20:28:59.936Z"
   },
   {
    "duration": 227,
    "start_time": "2021-10-11T20:29:00.081Z"
   },
   {
    "duration": 120,
    "start_time": "2021-10-11T20:29:00.309Z"
   },
   {
    "duration": 226,
    "start_time": "2021-10-11T20:29:00.430Z"
   },
   {
    "duration": 490,
    "start_time": "2021-10-11T20:29:00.657Z"
   },
   {
    "duration": 1345,
    "start_time": "2021-10-12T04:38:24.501Z"
   },
   {
    "duration": 37,
    "start_time": "2021-10-12T04:38:26.055Z"
   },
   {
    "duration": 7,
    "start_time": "2021-10-12T04:39:14.554Z"
   },
   {
    "duration": 6,
    "start_time": "2021-10-12T04:39:15.922Z"
   },
   {
    "duration": 9,
    "start_time": "2021-10-12T04:39:51.388Z"
   },
   {
    "duration": 14,
    "start_time": "2021-10-12T04:39:51.916Z"
   },
   {
    "duration": 9,
    "start_time": "2021-10-12T04:40:16.090Z"
   },
   {
    "duration": 9,
    "start_time": "2021-10-12T04:40:17.684Z"
   },
   {
    "duration": 8,
    "start_time": "2021-10-12T04:41:16.472Z"
   },
   {
    "duration": 33,
    "start_time": "2021-10-12T04:41:19.408Z"
   },
   {
    "duration": 8,
    "start_time": "2021-10-12T04:41:19.930Z"
   },
   {
    "duration": 8,
    "start_time": "2021-10-12T04:42:40.319Z"
   },
   {
    "duration": 17,
    "start_time": "2021-10-12T04:43:03.052Z"
   },
   {
    "duration": 374,
    "start_time": "2021-10-12T04:44:26.355Z"
   },
   {
    "duration": 23925,
    "start_time": "2021-10-12T04:44:29.663Z"
   },
   {
    "duration": 95,
    "start_time": "2021-10-12T04:44:53.591Z"
   },
   {
    "duration": 402,
    "start_time": "2021-10-12T04:45:17.623Z"
   },
   {
    "duration": 23721,
    "start_time": "2021-10-12T04:45:19.015Z"
   },
   {
    "duration": 132,
    "start_time": "2021-10-12T04:45:42.739Z"
   },
   {
    "duration": 6,
    "start_time": "2021-10-12T04:46:20.854Z"
   },
   {
    "duration": 14,
    "start_time": "2021-10-12T04:46:24.164Z"
   },
   {
    "duration": 501,
    "start_time": "2021-10-12T04:46:52.873Z"
   },
   {
    "duration": 34297,
    "start_time": "2021-10-12T04:46:57.919Z"
   },
   {
    "duration": 150,
    "start_time": "2021-10-12T04:47:32.219Z"
   },
   {
    "duration": 7,
    "start_time": "2021-10-12T04:47:54.951Z"
   },
   {
    "duration": 13,
    "start_time": "2021-10-12T04:47:55.425Z"
   },
   {
    "duration": 195,
    "start_time": "2021-10-12T04:47:56.216Z"
   },
   {
    "duration": 13913,
    "start_time": "2021-10-12T04:47:56.682Z"
   },
   {
    "duration": 73,
    "start_time": "2021-10-12T04:48:10.598Z"
   },
   {
    "duration": 34673,
    "start_time": "2021-10-12T04:48:30.015Z"
   },
   {
    "duration": 138195,
    "start_time": "2021-10-12T04:49:04.691Z"
   },
   {
    "duration": 224,
    "start_time": "2021-10-12T04:51:22.889Z"
   },
   {
    "duration": 363,
    "start_time": "2021-10-12T04:51:23.116Z"
   },
   {
    "duration": 185,
    "start_time": "2021-10-12T04:51:23.482Z"
   },
   {
    "duration": 372,
    "start_time": "2021-10-12T04:51:23.670Z"
   },
   {
    "duration": 735,
    "start_time": "2021-10-12T04:51:24.045Z"
   },
   {
    "duration": 409,
    "start_time": "2021-10-12T06:59:09.854Z"
   },
   {
    "duration": 540,
    "start_time": "2021-10-12T06:59:34.241Z"
   },
   {
    "duration": 721,
    "start_time": "2021-10-12T07:00:46.470Z"
   },
   {
    "duration": 296,
    "start_time": "2021-10-12T07:02:19.955Z"
   },
   {
    "duration": 555,
    "start_time": "2021-10-12T07:02:21.447Z"
   },
   {
    "duration": 162,
    "start_time": "2021-10-12T07:02:37.521Z"
   },
   {
    "duration": 7,
    "start_time": "2021-10-12T07:07:50.888Z"
   },
   {
    "duration": 167,
    "start_time": "2021-10-12T07:07:51.566Z"
   },
   {
    "duration": 149,
    "start_time": "2021-10-12T07:18:08.281Z"
   },
   {
    "duration": 2,
    "start_time": "2021-10-12T07:27:43.343Z"
   },
   {
    "duration": 4,
    "start_time": "2021-10-12T07:27:51.439Z"
   },
   {
    "duration": 3,
    "start_time": "2021-10-12T07:28:41.345Z"
   },
   {
    "duration": 3,
    "start_time": "2021-10-12T07:28:41.945Z"
   },
   {
    "duration": 3,
    "start_time": "2021-10-12T07:28:52.280Z"
   },
   {
    "duration": 4,
    "start_time": "2021-10-12T07:28:53.985Z"
   },
   {
    "duration": 10,
    "start_time": "2021-10-12T07:30:27.479Z"
   },
   {
    "duration": 303,
    "start_time": "2021-10-12T07:30:53.355Z"
   },
   {
    "duration": 107,
    "start_time": "2021-10-12T07:31:21.689Z"
   },
   {
    "duration": 3,
    "start_time": "2021-10-12T07:31:27.686Z"
   },
   {
    "duration": 7,
    "start_time": "2021-10-12T07:31:28.233Z"
   },
   {
    "duration": 327,
    "start_time": "2021-10-12T07:31:28.778Z"
   },
   {
    "duration": 28,
    "start_time": "2021-10-12T07:32:03.128Z"
   },
   {
    "duration": 5,
    "start_time": "2021-10-12T07:32:11.908Z"
   },
   {
    "duration": 7,
    "start_time": "2021-10-12T07:32:12.381Z"
   },
   {
    "duration": 279,
    "start_time": "2021-10-12T07:32:13.354Z"
   },
   {
    "duration": 138,
    "start_time": "2021-10-12T07:33:16.340Z"
   },
   {
    "duration": 326,
    "start_time": "2021-10-12T07:33:34.836Z"
   },
   {
    "duration": 158,
    "start_time": "2021-10-12T07:37:20.331Z"
   },
   {
    "duration": 129,
    "start_time": "2021-10-12T07:38:05.454Z"
   },
   {
    "duration": 135,
    "start_time": "2021-10-12T07:38:35.555Z"
   },
   {
    "duration": 134,
    "start_time": "2021-10-12T07:38:45.527Z"
   },
   {
    "duration": 143,
    "start_time": "2021-10-12T07:40:12.655Z"
   },
   {
    "duration": 142,
    "start_time": "2021-10-12T07:40:54.858Z"
   },
   {
    "duration": 29,
    "start_time": "2021-10-12T07:40:59.267Z"
   },
   {
    "duration": 3,
    "start_time": "2021-10-12T07:41:15.800Z"
   },
   {
    "duration": 140,
    "start_time": "2021-10-12T07:41:16.460Z"
   },
   {
    "duration": 8,
    "start_time": "2021-10-12T07:41:41.584Z"
   },
   {
    "duration": 308,
    "start_time": "2021-10-12T07:41:42.692Z"
   },
   {
    "duration": 9,
    "start_time": "2021-10-12T07:42:47.054Z"
   },
   {
    "duration": 313,
    "start_time": "2021-10-12T07:42:47.774Z"
   },
   {
    "duration": 390,
    "start_time": "2021-10-12T07:43:38.318Z"
   },
   {
    "duration": 140,
    "start_time": "2021-10-12T07:45:56.406Z"
   },
   {
    "duration": 3,
    "start_time": "2021-10-12T07:46:02.896Z"
   },
   {
    "duration": 171,
    "start_time": "2021-10-12T07:46:03.600Z"
   },
   {
    "duration": 3,
    "start_time": "2021-10-12T07:46:25.338Z"
   },
   {
    "duration": 1736,
    "start_time": "2021-10-12T07:46:26.511Z"
   },
   {
    "duration": 421,
    "start_time": "2021-10-12T07:47:31.456Z"
   },
   {
    "duration": 352,
    "start_time": "2021-10-12T07:48:01.088Z"
   },
   {
    "duration": 1956,
    "start_time": "2021-10-12T07:48:18.660Z"
   },
   {
    "duration": 1827,
    "start_time": "2021-10-12T07:48:37.097Z"
   },
   {
    "duration": 37,
    "start_time": "2021-10-12T08:22:19.429Z"
   },
   {
    "duration": 34,
    "start_time": "2021-10-12T08:23:14.633Z"
   },
   {
    "duration": 2,
    "start_time": "2021-10-12T08:28:42.330Z"
   },
   {
    "duration": 25,
    "start_time": "2021-10-12T08:28:43.016Z"
   },
   {
    "duration": 35,
    "start_time": "2021-10-12T08:30:11.537Z"
   },
   {
    "duration": 27,
    "start_time": "2021-10-12T08:30:23.857Z"
   },
   {
    "duration": 25,
    "start_time": "2021-10-12T08:30:39.500Z"
   },
   {
    "duration": 27,
    "start_time": "2021-10-12T08:30:59.806Z"
   },
   {
    "duration": 25,
    "start_time": "2021-10-12T08:31:54.434Z"
   },
   {
    "duration": 1086,
    "start_time": "2021-10-12T08:41:11.189Z"
   },
   {
    "duration": 19,
    "start_time": "2021-10-12T08:41:12.277Z"
   },
   {
    "duration": 3,
    "start_time": "2021-10-12T08:41:12.298Z"
   },
   {
    "duration": 33,
    "start_time": "2021-10-12T08:41:12.303Z"
   },
   {
    "duration": 19,
    "start_time": "2021-10-12T08:41:12.338Z"
   },
   {
    "duration": 27,
    "start_time": "2021-10-12T08:41:12.359Z"
   },
   {
    "duration": 26,
    "start_time": "2021-10-12T08:41:12.388Z"
   },
   {
    "duration": 21,
    "start_time": "2021-10-12T08:41:12.416Z"
   },
   {
    "duration": 47,
    "start_time": "2021-10-12T08:41:12.439Z"
   },
   {
    "duration": 5,
    "start_time": "2021-10-12T08:41:12.488Z"
   },
   {
    "duration": 27,
    "start_time": "2021-10-12T08:41:12.495Z"
   },
   {
    "duration": 287,
    "start_time": "2021-10-12T08:41:12.523Z"
   },
   {
    "duration": 14838,
    "start_time": "2021-10-12T08:41:12.811Z"
   },
   {
    "duration": 55,
    "start_time": "2021-10-12T08:41:27.651Z"
   },
   {
    "duration": 438,
    "start_time": "2021-10-12T08:41:27.709Z"
   },
   {
    "duration": 14625,
    "start_time": "2021-10-12T08:41:28.149Z"
   },
   {
    "duration": 61,
    "start_time": "2021-10-12T08:41:42.776Z"
   },
   {
    "duration": 95,
    "start_time": "2021-10-12T08:41:42.904Z"
   },
   {
    "duration": 12,
    "start_time": "2021-10-12T08:41:43.001Z"
   },
   {
    "duration": 331,
    "start_time": "2021-10-12T08:41:43.014Z"
   },
   {
    "duration": 21182,
    "start_time": "2021-10-12T08:41:43.347Z"
   },
   {
    "duration": 94,
    "start_time": "2021-10-12T08:42:04.531Z"
   },
   {
    "duration": 76,
    "start_time": "2021-10-12T08:42:04.630Z"
   },
   {
    "duration": 110,
    "start_time": "2021-10-12T08:42:04.709Z"
   },
   {
    "duration": 140,
    "start_time": "2021-10-12T08:42:04.821Z"
   },
   {
    "duration": 8825,
    "start_time": "2021-10-12T08:42:04.963Z"
   },
   {
    "duration": 29,
    "start_time": "2021-10-12T08:42:13.790Z"
   },
   {
    "duration": 21577,
    "start_time": "2021-10-12T08:42:13.901Z"
   },
   {
    "duration": 81738,
    "start_time": "2021-10-12T08:42:35.480Z"
   },
   {
    "duration": 145,
    "start_time": "2021-10-12T08:43:57.220Z"
   },
   {
    "duration": 230,
    "start_time": "2021-10-12T08:43:57.366Z"
   },
   {
    "duration": 121,
    "start_time": "2021-10-12T08:43:57.599Z"
   },
   {
    "duration": 228,
    "start_time": "2021-10-12T08:43:57.721Z"
   },
   {
    "duration": 440,
    "start_time": "2021-10-12T08:43:57.950Z"
   },
   {
    "duration": 11,
    "start_time": "2021-10-12T08:43:58.392Z"
   },
   {
    "duration": 158,
    "start_time": "2021-10-12T08:43:58.404Z"
   },
   {
    "duration": 2,
    "start_time": "2021-10-12T08:43:58.564Z"
   },
   {
    "duration": 12,
    "start_time": "2021-10-12T08:43:58.568Z"
   },
   {
    "duration": 1766,
    "start_time": "2021-10-12T08:43:58.582Z"
   },
   {
    "duration": 2,
    "start_time": "2021-10-12T08:44:00.350Z"
   },
   {
    "duration": 43,
    "start_time": "2021-10-12T08:44:00.354Z"
   }
  ],
  "kernelspec": {
   "display_name": "Python 3 (ipykernel)",
   "language": "python",
   "name": "python3"
  },
  "language_info": {
   "codemirror_mode": {
    "name": "ipython",
    "version": 3
   },
   "file_extension": ".py",
   "mimetype": "text/x-python",
   "name": "python",
   "nbconvert_exporter": "python",
   "pygments_lexer": "ipython3",
   "version": "3.9.7"
  },
  "toc": {
   "base_numbering": 1,
   "nav_menu": {},
   "number_sections": true,
   "sideBar": false,
   "skip_h1_title": true,
   "title_cell": "Содержание",
   "title_sidebar": "Contents",
   "toc_cell": true,
   "toc_position": {
    "height": "calc(100% - 180px)",
    "left": "10px",
    "top": "150px",
    "width": "255.594px"
   },
   "toc_section_display": true,
   "toc_window_display": false
  }
 },
 "nbformat": 4,
 "nbformat_minor": 2
}
