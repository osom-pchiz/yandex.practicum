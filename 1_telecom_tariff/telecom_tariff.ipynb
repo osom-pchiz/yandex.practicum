{
 "cells": [
  {
   "cell_type": "markdown",
   "metadata": {},
   "source": [
    "<b>Описание проекта</b>\n",
    "\n",
    "Вы аналитик компании «Мегалайн» — федерального оператора сотовой связи. Клиентам предлагают два тарифных плана: «Смарт» и «Ультра». Чтобы скорректировать рекламный бюджет, коммерческий департамент хочет понять, какой тариф приносит больше денег.\n",
    "Вам предстоит сделать предварительный анализ тарифов на небольшой выборке клиентов. В вашем распоряжении данные 500 пользователей «Мегалайна»: кто они, откуда, каким тарифом пользуются, сколько звонков и сообщений каждый отправил за 2018 год. Нужно проанализировать поведение клиентов и сделать вывод — какой тариф лучше.\n",
    "\n",
    "---\n",
    "\n",
    "<b>Описание тарифов</b>\n",
    "\n",
    "<b>Тариф «Смарт»</b>  \n",
    "Ежемесячная плата: 550 рублей  \n",
    "Включено 500 минут разговора, 50 сообщений и 15 Гб интернет-трафика  \n",
    "Стоимость услуг сверх тарифного пакета: 1. минута разговора: 3 рубля («Мегалайн» всегда округляет вверх значения минут и мегабайтов. Если пользователь проговорил всего 1 секунду, в тарифе засчитывается целая минута); 2. сообщение: 3 рубля; 3. 1 Гб интернет-трафика: 200 рублей.\n",
    "\n",
    "<b>Тариф «Ультра»</b>  \n",
    "Ежемесячная плата: 1950 рублей  \n",
    "Включено 3000 минут разговора, 1000 сообщений и 30 Гб интернет-трафика  \n",
    "Стоимость услуг сверх тарифного пакета: 1. минута разговора: 1 рубль; 2. сообщение: 1 рубль; 3. 1 Гб интернет-трафика: 150 рублей."
   ]
  },
  {
   "cell_type": "markdown",
   "metadata": {},
   "source": [
    "<h1>Содержание<span class=\"tocSkip\"></span></h1>\n",
    "<div class=\"toc\"><ul class=\"toc-item\">\n",
    "<li><span><a href=\"#Изучение-тарифов-«Смарт»-и-«Ультра»-и-предобработка-данных\" data-toc-modified-id=\"Изучение-тарифов-«Смарт»-и-«Ультра»-и-предобработка-данных-1\"><span class=\"toc-item-num\">1&nbsp;&nbsp;</span>Изучение данных и предобработка</a></span>\n",
    "<ul class=\"toc-item\"><li><span><a href=\"#Подсчет-данных-для-анализа\" data-toc-modified-id=\"Подсчет-данных-для-анализа-1.1\"><span class=\"toc-item-num\">1.1&nbsp;&nbsp;</span>Подсчет данных для анализа</a></span></li></ul></li>\n",
    "<li><span><a href=\"#Анализ-данных\" data-toc-modified-id=\"Анализ-данных-2\"><span class=\"toc-item-num\">2&nbsp;&nbsp;</span>Анализ данных</a></span></li>\n",
    "<li><span><a href=\"#Проверка-гипотез\" data-toc-modified-id=\"Проверка-гипотез-3\"><span class=\"toc-item-num\">3&nbsp;&nbsp;</span>Проверка гипотез</a></span></li>\n",
    "<li><span><a href=\"#Общий-вывод\" data-toc-modified-id=\"Общий-вывод-4\"><span class=\"toc-item-num\">4&nbsp;&nbsp;</span>Общий вывод</a></span></li></ul></div>"
   ]
  },
  {
   "cell_type": "markdown",
   "metadata": {},
   "source": [
    "## Изучение тарифов «Смарт» и «Ультра» и предобработка данных\n",
    "[Содержание](#Содержание)"
   ]
  },
  {
   "cell_type": "code",
   "execution_count": 5,
   "metadata": {},
   "outputs": [],
   "source": [
    "import pandas as pd\n",
    "import numpy as np\n",
    "from math import factorial\n",
    "from scipy import stats as st"
   ]
  },
  {
   "cell_type": "code",
   "execution_count": 6,
   "metadata": {},
   "outputs": [],
   "source": [
    "calls = pd.read_csv('/datasets/calls.csv')\n",
    "internet = pd.read_csv('/datasets/internet.csv')\n",
    "messages = pd.read_csv('/datasets/messages.csv')\n",
    "tariffs = pd.read_csv('/datasets/tariffs.csv')\n",
    "users = pd.read_csv('/datasets/users.csv')"
   ]
  },
  {
   "cell_type": "markdown",
   "metadata": {},
   "source": [
    "Кроме того, создадим список названий месяцев month_names. Этот список неоднократно пригодится нам и дальше."
   ]
  },
  {
   "cell_type": "code",
   "execution_count": 7,
   "metadata": {},
   "outputs": [],
   "source": [
    "month_names = ['jan', 'feb', 'mar', 'apr', 'may', 'jun', 'jul', 'aug', 'sep', 'oct', 'nov', 'dec']"
   ]
  },
  {
   "cell_type": "markdown",
   "metadata": {},
   "source": [
    "---\n",
    "\n",
    "Поочередно пройдем по всем датасетам и изучим их на предамет пропусков и неверных типов данных. Сначала датасет с информацией о звонках — <b>calls</b>:"
   ]
  },
  {
   "cell_type": "code",
   "execution_count": 8,
   "metadata": {},
   "outputs": [
    {
     "name": "stdout",
     "output_type": "stream",
     "text": [
      "<class 'pandas.core.frame.DataFrame'>\n",
      "RangeIndex: 202607 entries, 0 to 202606\n",
      "Data columns (total 4 columns):\n",
      "id           202607 non-null object\n",
      "call_date    202607 non-null object\n",
      "duration     202607 non-null float64\n",
      "user_id      202607 non-null int64\n",
      "dtypes: float64(1), int64(1), object(2)\n",
      "memory usage: 6.2+ MB\n"
     ]
    },
    {
     "data": {
      "text/html": [
       "<div>\n",
       "<style scoped>\n",
       "    .dataframe tbody tr th:only-of-type {\n",
       "        vertical-align: middle;\n",
       "    }\n",
       "\n",
       "    .dataframe tbody tr th {\n",
       "        vertical-align: top;\n",
       "    }\n",
       "\n",
       "    .dataframe thead th {\n",
       "        text-align: right;\n",
       "    }\n",
       "</style>\n",
       "<table border=\"1\" class=\"dataframe\">\n",
       "  <thead>\n",
       "    <tr style=\"text-align: right;\">\n",
       "      <th></th>\n",
       "      <th>id</th>\n",
       "      <th>call_date</th>\n",
       "      <th>duration</th>\n",
       "      <th>user_id</th>\n",
       "    </tr>\n",
       "  </thead>\n",
       "  <tbody>\n",
       "    <tr>\n",
       "      <td>0</td>\n",
       "      <td>1000_0</td>\n",
       "      <td>2018-07-25</td>\n",
       "      <td>0.00</td>\n",
       "      <td>1000</td>\n",
       "    </tr>\n",
       "    <tr>\n",
       "      <td>1</td>\n",
       "      <td>1000_1</td>\n",
       "      <td>2018-08-17</td>\n",
       "      <td>0.00</td>\n",
       "      <td>1000</td>\n",
       "    </tr>\n",
       "    <tr>\n",
       "      <td>2</td>\n",
       "      <td>1000_2</td>\n",
       "      <td>2018-06-11</td>\n",
       "      <td>2.85</td>\n",
       "      <td>1000</td>\n",
       "    </tr>\n",
       "    <tr>\n",
       "      <td>3</td>\n",
       "      <td>1000_3</td>\n",
       "      <td>2018-09-21</td>\n",
       "      <td>13.80</td>\n",
       "      <td>1000</td>\n",
       "    </tr>\n",
       "    <tr>\n",
       "      <td>4</td>\n",
       "      <td>1000_4</td>\n",
       "      <td>2018-12-15</td>\n",
       "      <td>5.18</td>\n",
       "      <td>1000</td>\n",
       "    </tr>\n",
       "    <tr>\n",
       "      <td>5</td>\n",
       "      <td>1000_5</td>\n",
       "      <td>2018-11-02</td>\n",
       "      <td>0.00</td>\n",
       "      <td>1000</td>\n",
       "    </tr>\n",
       "    <tr>\n",
       "      <td>6</td>\n",
       "      <td>1000_6</td>\n",
       "      <td>2018-10-18</td>\n",
       "      <td>0.00</td>\n",
       "      <td>1000</td>\n",
       "    </tr>\n",
       "    <tr>\n",
       "      <td>7</td>\n",
       "      <td>1000_7</td>\n",
       "      <td>2018-08-22</td>\n",
       "      <td>18.31</td>\n",
       "      <td>1000</td>\n",
       "    </tr>\n",
       "    <tr>\n",
       "      <td>8</td>\n",
       "      <td>1000_8</td>\n",
       "      <td>2018-09-15</td>\n",
       "      <td>18.44</td>\n",
       "      <td>1000</td>\n",
       "    </tr>\n",
       "    <tr>\n",
       "      <td>9</td>\n",
       "      <td>1000_9</td>\n",
       "      <td>2018-08-15</td>\n",
       "      <td>0.00</td>\n",
       "      <td>1000</td>\n",
       "    </tr>\n",
       "    <tr>\n",
       "      <td>10</td>\n",
       "      <td>1000_10</td>\n",
       "      <td>2018-08-22</td>\n",
       "      <td>5.03</td>\n",
       "      <td>1000</td>\n",
       "    </tr>\n",
       "    <tr>\n",
       "      <td>11</td>\n",
       "      <td>1000_11</td>\n",
       "      <td>2018-05-28</td>\n",
       "      <td>18.82</td>\n",
       "      <td>1000</td>\n",
       "    </tr>\n",
       "    <tr>\n",
       "      <td>12</td>\n",
       "      <td>1000_12</td>\n",
       "      <td>2018-07-05</td>\n",
       "      <td>2.02</td>\n",
       "      <td>1000</td>\n",
       "    </tr>\n",
       "    <tr>\n",
       "      <td>13</td>\n",
       "      <td>1000_13</td>\n",
       "      <td>2018-09-29</td>\n",
       "      <td>7.15</td>\n",
       "      <td>1000</td>\n",
       "    </tr>\n",
       "    <tr>\n",
       "      <td>14</td>\n",
       "      <td>1000_14</td>\n",
       "      <td>2018-12-11</td>\n",
       "      <td>9.13</td>\n",
       "      <td>1000</td>\n",
       "    </tr>\n",
       "  </tbody>\n",
       "</table>\n",
       "</div>"
      ],
      "text/plain": [
       "         id   call_date  duration  user_id\n",
       "0    1000_0  2018-07-25      0.00     1000\n",
       "1    1000_1  2018-08-17      0.00     1000\n",
       "2    1000_2  2018-06-11      2.85     1000\n",
       "3    1000_3  2018-09-21     13.80     1000\n",
       "4    1000_4  2018-12-15      5.18     1000\n",
       "5    1000_5  2018-11-02      0.00     1000\n",
       "6    1000_6  2018-10-18      0.00     1000\n",
       "7    1000_7  2018-08-22     18.31     1000\n",
       "8    1000_8  2018-09-15     18.44     1000\n",
       "9    1000_9  2018-08-15      0.00     1000\n",
       "10  1000_10  2018-08-22      5.03     1000\n",
       "11  1000_11  2018-05-28     18.82     1000\n",
       "12  1000_12  2018-07-05      2.02     1000\n",
       "13  1000_13  2018-09-29      7.15     1000\n",
       "14  1000_14  2018-12-11      9.13     1000"
      ]
     },
     "execution_count": 8,
     "metadata": {},
     "output_type": "execute_result"
    }
   ],
   "source": [
    "calls.info()\n",
    "calls.head(15)"
   ]
  },
  {
   "cell_type": "markdown",
   "metadata": {},
   "source": [
    "Пропуски в датасете отсутствуют.\n",
    "\n",
    "Дата звонка записана строкой, приведем ее к формату datetime. Кроме того отдельным столбцом выделим месяц звонка для того, чтобы потом обрабатывать данные по месяцам.\n",
    "\n",
    "Есть нулевые значения в столбце duration, надо будет проверить их количество отностиельно всего датасета. Кроме того, дробные значения в столбце duration, согласно условий обслуживания, округлим до целых минут вверх, после чего приведем к целочисленному формату.\n",
    "\n",
    "Данные в столбце user_id приведем к строчному формату, потому что там у нас не числа, а идентификаторы пользователей.\n",
    "\n",
    "Кроме того, проеверим датасет на дубликаты."
   ]
  },
  {
   "cell_type": "code",
   "execution_count": 9,
   "metadata": {},
   "outputs": [
    {
     "name": "stdout",
     "output_type": "stream",
     "text": [
      "Дубликатов в данных о звонках: 0\n"
     ]
    }
   ],
   "source": [
    "calls['call_date'] = pd.to_datetime(calls['call_date'], format='%Y-%m-%d')\n",
    "calls['call_month'] = calls['call_date'].dt.month\n",
    "calls['duration'] = calls['duration'].apply(np.ceil).astype('int')\n",
    "calls['user_id'] = calls['user_id'].astype('object')\n",
    "print('Дубликатов в данных о звонках:', len(calls[calls['id'].duplicated() == True]))"
   ]
  },
  {
   "cell_type": "markdown",
   "metadata": {},
   "source": [
    "Дубликатов нет. Теперь взглянем на соотношение звонков длительностью в 0 минут к общему размеру датасета."
   ]
  },
  {
   "cell_type": "code",
   "execution_count": 10,
   "metadata": {},
   "outputs": [
    {
     "data": {
      "text/plain": [
       "0.19551644316336553"
      ]
     },
     "execution_count": 10,
     "metadata": {},
     "output_type": "execute_result"
    }
   ],
   "source": [
    "len(calls[calls['duration'] == 0]) / len(calls)"
   ]
  },
  {
   "cell_type": "markdown",
   "metadata": {},
   "source": [
    "Почти 20% всех записей, посмотрим, как нули распределены по пользователям."
   ]
  },
  {
   "cell_type": "code",
   "execution_count": 12,
   "metadata": {},
   "outputs": [
    {
     "data": {
      "text/plain": [
       "count    492.000000\n",
       "mean       0.196122\n",
       "std        0.029508\n",
       "min        0.087719\n",
       "25%        0.180864\n",
       "50%        0.195652\n",
       "75%        0.209269\n",
       "max        0.500000\n",
       "Name: id, dtype: float64"
      ]
     },
     "execution_count": 12,
     "metadata": {},
     "output_type": "execute_result"
    },
    {
     "data": {
      "image/png": "[encoded data removed]",
      "text/plain": [
       "<Figure size 432x288 with 1 Axes>"
      ]
     },
     "metadata": {
      "needs_background": "light"
     },
     "output_type": "display_data"
    }
   ],
   "source": [
    "(calls[calls['duration'] == 0].groupby('user_id')['id'].count() / calls.groupby('user_id')['id'].count()).hist(bins=50)\n",
    "(calls[calls['duration'] == 0].groupby('user_id')['id'].count() / calls.groupby('user_id')['id'].count()).describe()"
   ]
  },
  {
   "cell_type": "markdown",
   "metadata": {},
   "source": [
    "Получается, нулей примерно одинаковое количество у большинства пользователей. Из условия задания известно, что ноль - это неотвеченный вызов. Поэтому нули оставим как есть в данных, но в дальнейшем, при расчетах средней продолжительности разговора, не забудем исключить их из общего количества звонков.\n",
    "\n",
    "---\n",
    "\n",
    "Далее — датасет с информацией о использованном интернете <b>internet</b>:"
   ]
  },
  {
   "cell_type": "code",
   "execution_count": 8,
   "metadata": {
    "scrolled": false
   },
   "outputs": [
    {
     "name": "stdout",
     "output_type": "stream",
     "text": [
      "<class 'pandas.core.frame.DataFrame'>\n",
      "RangeIndex: 149396 entries, 0 to 149395\n",
      "Data columns (total 5 columns):\n",
      "Unnamed: 0      149396 non-null int64\n",
      "id              149396 non-null object\n",
      "mb_used         149396 non-null float64\n",
      "session_date    149396 non-null object\n",
      "user_id         149396 non-null int64\n",
      "dtypes: float64(1), int64(2), object(2)\n",
      "memory usage: 5.7+ MB\n"
     ]
    },
    {
     "data": {
      "text/html": [
       "<div>\n",
       "<style scoped>\n",
       "    .dataframe tbody tr th:only-of-type {\n",
       "        vertical-align: middle;\n",
       "    }\n",
       "\n",
       "    .dataframe tbody tr th {\n",
       "        vertical-align: top;\n",
       "    }\n",
       "\n",
       "    .dataframe thead th {\n",
       "        text-align: right;\n",
       "    }\n",
       "</style>\n",
       "<table border=\"1\" class=\"dataframe\">\n",
       "  <thead>\n",
       "    <tr style=\"text-align: right;\">\n",
       "      <th></th>\n",
       "      <th>Unnamed: 0</th>\n",
       "      <th>id</th>\n",
       "      <th>mb_used</th>\n",
       "      <th>session_date</th>\n",
       "      <th>user_id</th>\n",
       "    </tr>\n",
       "  </thead>\n",
       "  <tbody>\n",
       "    <tr>\n",
       "      <td>0</td>\n",
       "      <td>0</td>\n",
       "      <td>1000_0</td>\n",
       "      <td>112.95</td>\n",
       "      <td>2018-11-25</td>\n",
       "      <td>1000</td>\n",
       "    </tr>\n",
       "    <tr>\n",
       "      <td>1</td>\n",
       "      <td>1</td>\n",
       "      <td>1000_1</td>\n",
       "      <td>1052.81</td>\n",
       "      <td>2018-09-07</td>\n",
       "      <td>1000</td>\n",
       "    </tr>\n",
       "    <tr>\n",
       "      <td>2</td>\n",
       "      <td>2</td>\n",
       "      <td>1000_2</td>\n",
       "      <td>1197.26</td>\n",
       "      <td>2018-06-25</td>\n",
       "      <td>1000</td>\n",
       "    </tr>\n",
       "    <tr>\n",
       "      <td>3</td>\n",
       "      <td>3</td>\n",
       "      <td>1000_3</td>\n",
       "      <td>550.27</td>\n",
       "      <td>2018-08-22</td>\n",
       "      <td>1000</td>\n",
       "    </tr>\n",
       "    <tr>\n",
       "      <td>4</td>\n",
       "      <td>4</td>\n",
       "      <td>1000_4</td>\n",
       "      <td>302.56</td>\n",
       "      <td>2018-09-24</td>\n",
       "      <td>1000</td>\n",
       "    </tr>\n",
       "    <tr>\n",
       "      <td>5</td>\n",
       "      <td>5</td>\n",
       "      <td>1000_5</td>\n",
       "      <td>399.97</td>\n",
       "      <td>2018-10-02</td>\n",
       "      <td>1000</td>\n",
       "    </tr>\n",
       "    <tr>\n",
       "      <td>6</td>\n",
       "      <td>6</td>\n",
       "      <td>1000_6</td>\n",
       "      <td>540.08</td>\n",
       "      <td>2018-09-07</td>\n",
       "      <td>1000</td>\n",
       "    </tr>\n",
       "    <tr>\n",
       "      <td>7</td>\n",
       "      <td>7</td>\n",
       "      <td>1000_7</td>\n",
       "      <td>415.70</td>\n",
       "      <td>2018-07-11</td>\n",
       "      <td>1000</td>\n",
       "    </tr>\n",
       "    <tr>\n",
       "      <td>8</td>\n",
       "      <td>8</td>\n",
       "      <td>1000_8</td>\n",
       "      <td>505.40</td>\n",
       "      <td>2018-10-08</td>\n",
       "      <td>1000</td>\n",
       "    </tr>\n",
       "    <tr>\n",
       "      <td>9</td>\n",
       "      <td>9</td>\n",
       "      <td>1000_9</td>\n",
       "      <td>345.54</td>\n",
       "      <td>2018-09-03</td>\n",
       "      <td>1000</td>\n",
       "    </tr>\n",
       "    <tr>\n",
       "      <td>10</td>\n",
       "      <td>10</td>\n",
       "      <td>1000_10</td>\n",
       "      <td>385.14</td>\n",
       "      <td>2018-09-27</td>\n",
       "      <td>1000</td>\n",
       "    </tr>\n",
       "    <tr>\n",
       "      <td>11</td>\n",
       "      <td>11</td>\n",
       "      <td>1000_11</td>\n",
       "      <td>0.00</td>\n",
       "      <td>2018-08-28</td>\n",
       "      <td>1000</td>\n",
       "    </tr>\n",
       "    <tr>\n",
       "      <td>12</td>\n",
       "      <td>12</td>\n",
       "      <td>1000_12</td>\n",
       "      <td>375.87</td>\n",
       "      <td>2018-06-20</td>\n",
       "      <td>1000</td>\n",
       "    </tr>\n",
       "    <tr>\n",
       "      <td>13</td>\n",
       "      <td>13</td>\n",
       "      <td>1000_13</td>\n",
       "      <td>393.83</td>\n",
       "      <td>2018-08-09</td>\n",
       "      <td>1000</td>\n",
       "    </tr>\n",
       "    <tr>\n",
       "      <td>14</td>\n",
       "      <td>14</td>\n",
       "      <td>1000_14</td>\n",
       "      <td>180.64</td>\n",
       "      <td>2018-08-11</td>\n",
       "      <td>1000</td>\n",
       "    </tr>\n",
       "  </tbody>\n",
       "</table>\n",
       "</div>"
      ],
      "text/plain": [
       "    Unnamed: 0       id  mb_used session_date  user_id\n",
       "0            0   1000_0   112.95   2018-11-25     1000\n",
       "1            1   1000_1  1052.81   2018-09-07     1000\n",
       "2            2   1000_2  1197.26   2018-06-25     1000\n",
       "3            3   1000_3   550.27   2018-08-22     1000\n",
       "4            4   1000_4   302.56   2018-09-24     1000\n",
       "5            5   1000_5   399.97   2018-10-02     1000\n",
       "6            6   1000_6   540.08   2018-09-07     1000\n",
       "7            7   1000_7   415.70   2018-07-11     1000\n",
       "8            8   1000_8   505.40   2018-10-08     1000\n",
       "9            9   1000_9   345.54   2018-09-03     1000\n",
       "10          10  1000_10   385.14   2018-09-27     1000\n",
       "11          11  1000_11     0.00   2018-08-28     1000\n",
       "12          12  1000_12   375.87   2018-06-20     1000\n",
       "13          13  1000_13   393.83   2018-08-09     1000\n",
       "14          14  1000_14   180.64   2018-08-11     1000"
      ]
     },
     "execution_count": 8,
     "metadata": {},
     "output_type": "execute_result"
    }
   ],
   "source": [
    "internet.info()\n",
    "internet.head(15)"
   ]
  },
  {
   "cell_type": "markdown",
   "metadata": {},
   "source": [
    "Пропуски в этом датасете так же отсутствуют.\n",
    "\n",
    "В датасете присутствует столбец \"Unnamed: 0\", судя по всему, равный индексу строки, проверим это, и если это так - удалим этот столбец.\n",
    "\n",
    "Данные в столбце mb_used хочется привести к целым занчениям, однако делать этого нельзя. Так как трафик считается суммарный за каждый месяц, округлив его в каждой из сессий, мы можем получить ошибку в суммарном за месяц значении. Однако, мы можем привести траффик к гигабайтам, так как все рассчеты в итоге ведутся в гигабайтах. Траффик в гигабайтах запишем в новый столбец gb_used.\n",
    "\n",
    "Дата начала сессии, как и в таблице со звонками, записана строкой, приведем ее к формату datetime. Кроме того отдельным столбцом выделим из даты месяц для того, чтобы потом обрабатывать данные по месяцам.\n",
    "\n",
    "И снова данные в столбце user_id приведем к строчному формату, потому что там у нас не числа, а идентификаторы пользователей.\n",
    "\n",
    "Кроме того, проеверим датасет на дубликаты."
   ]
  },
  {
   "cell_type": "code",
   "execution_count": 9,
   "metadata": {},
   "outputs": [
    {
     "name": "stdout",
     "output_type": "stream",
     "text": [
      "Количество строк, в которых \"Unnamed: 0\" не совпадает с индексом строки: 0\n"
     ]
    }
   ],
   "source": [
    "print('Количество строк, в которых \"Unnamed: 0\" не совпадает с индексом строки:', len(internet[internet['Unnamed: 0'] != internet.index]))"
   ]
  },
  {
   "cell_type": "markdown",
   "metadata": {},
   "source": [
    "В датасете нет строк, в которых значение столбца \"Unnamed: 0\" не было бы равно индексу строки. Получается, этот столбец - копия индекса. Удалим этот столбец безжалостно, попутно выполнив остальные преобразования."
   ]
  },
  {
   "cell_type": "code",
   "execution_count": 10,
   "metadata": {},
   "outputs": [
    {
     "name": "stdout",
     "output_type": "stream",
     "text": [
      "Дубликатов в данных об интернете: 0\n"
     ]
    }
   ],
   "source": [
    "internet = internet.drop(columns='Unnamed: 0')\n",
    "internet['gb_used'] = internet['mb_used'] / 1024\n",
    "internet['session_date'] = pd.to_datetime(internet['session_date'], format='%Y-%m-%d')\n",
    "internet['session_month'] = internet['session_date'].dt.month\n",
    "internet['user_id'] = internet['user_id'].astype('object')\n",
    "print('Дубликатов в данных об интернете:', len(internet[internet['id'].duplicated() == True]))"
   ]
  },
  {
   "cell_type": "markdown",
   "metadata": {},
   "source": [
    "Дубликатов нет, и это замечательно.\n",
    "\n",
    "---\n",
    "\n",
    "Переходим к следующему датасету: <b>messages</b> — сообщения:"
   ]
  },
  {
   "cell_type": "code",
   "execution_count": 11,
   "metadata": {},
   "outputs": [
    {
     "name": "stdout",
     "output_type": "stream",
     "text": [
      "<class 'pandas.core.frame.DataFrame'>\n",
      "RangeIndex: 123036 entries, 0 to 123035\n",
      "Data columns (total 3 columns):\n",
      "id              123036 non-null object\n",
      "message_date    123036 non-null object\n",
      "user_id         123036 non-null int64\n",
      "dtypes: int64(1), object(2)\n",
      "memory usage: 2.8+ MB\n"
     ]
    },
    {
     "data": {
      "text/html": [
       "<div>\n",
       "<style scoped>\n",
       "    .dataframe tbody tr th:only-of-type {\n",
       "        vertical-align: middle;\n",
       "    }\n",
       "\n",
       "    .dataframe tbody tr th {\n",
       "        vertical-align: top;\n",
       "    }\n",
       "\n",
       "    .dataframe thead th {\n",
       "        text-align: right;\n",
       "    }\n",
       "</style>\n",
       "<table border=\"1\" class=\"dataframe\">\n",
       "  <thead>\n",
       "    <tr style=\"text-align: right;\">\n",
       "      <th></th>\n",
       "      <th>id</th>\n",
       "      <th>message_date</th>\n",
       "      <th>user_id</th>\n",
       "    </tr>\n",
       "  </thead>\n",
       "  <tbody>\n",
       "    <tr>\n",
       "      <td>0</td>\n",
       "      <td>1000_0</td>\n",
       "      <td>2018-06-27</td>\n",
       "      <td>1000</td>\n",
       "    </tr>\n",
       "    <tr>\n",
       "      <td>1</td>\n",
       "      <td>1000_1</td>\n",
       "      <td>2018-10-08</td>\n",
       "      <td>1000</td>\n",
       "    </tr>\n",
       "    <tr>\n",
       "      <td>2</td>\n",
       "      <td>1000_2</td>\n",
       "      <td>2018-08-04</td>\n",
       "      <td>1000</td>\n",
       "    </tr>\n",
       "    <tr>\n",
       "      <td>3</td>\n",
       "      <td>1000_3</td>\n",
       "      <td>2018-06-16</td>\n",
       "      <td>1000</td>\n",
       "    </tr>\n",
       "    <tr>\n",
       "      <td>4</td>\n",
       "      <td>1000_4</td>\n",
       "      <td>2018-12-05</td>\n",
       "      <td>1000</td>\n",
       "    </tr>\n",
       "    <tr>\n",
       "      <td>5</td>\n",
       "      <td>1000_5</td>\n",
       "      <td>2018-06-20</td>\n",
       "      <td>1000</td>\n",
       "    </tr>\n",
       "    <tr>\n",
       "      <td>6</td>\n",
       "      <td>1000_6</td>\n",
       "      <td>2018-11-19</td>\n",
       "      <td>1000</td>\n",
       "    </tr>\n",
       "    <tr>\n",
       "      <td>7</td>\n",
       "      <td>1000_7</td>\n",
       "      <td>2018-10-29</td>\n",
       "      <td>1000</td>\n",
       "    </tr>\n",
       "    <tr>\n",
       "      <td>8</td>\n",
       "      <td>1000_8</td>\n",
       "      <td>2018-06-25</td>\n",
       "      <td>1000</td>\n",
       "    </tr>\n",
       "    <tr>\n",
       "      <td>9</td>\n",
       "      <td>1000_9</td>\n",
       "      <td>2018-12-18</td>\n",
       "      <td>1000</td>\n",
       "    </tr>\n",
       "    <tr>\n",
       "      <td>10</td>\n",
       "      <td>1000_10</td>\n",
       "      <td>2018-05-30</td>\n",
       "      <td>1000</td>\n",
       "    </tr>\n",
       "    <tr>\n",
       "      <td>11</td>\n",
       "      <td>1000_11</td>\n",
       "      <td>2018-07-06</td>\n",
       "      <td>1000</td>\n",
       "    </tr>\n",
       "    <tr>\n",
       "      <td>12</td>\n",
       "      <td>1000_12</td>\n",
       "      <td>2018-08-20</td>\n",
       "      <td>1000</td>\n",
       "    </tr>\n",
       "    <tr>\n",
       "      <td>13</td>\n",
       "      <td>1000_13</td>\n",
       "      <td>2018-10-30</td>\n",
       "      <td>1000</td>\n",
       "    </tr>\n",
       "    <tr>\n",
       "      <td>14</td>\n",
       "      <td>1000_14</td>\n",
       "      <td>2018-09-14</td>\n",
       "      <td>1000</td>\n",
       "    </tr>\n",
       "  </tbody>\n",
       "</table>\n",
       "</div>"
      ],
      "text/plain": [
       "         id message_date  user_id\n",
       "0    1000_0   2018-06-27     1000\n",
       "1    1000_1   2018-10-08     1000\n",
       "2    1000_2   2018-08-04     1000\n",
       "3    1000_3   2018-06-16     1000\n",
       "4    1000_4   2018-12-05     1000\n",
       "5    1000_5   2018-06-20     1000\n",
       "6    1000_6   2018-11-19     1000\n",
       "7    1000_7   2018-10-29     1000\n",
       "8    1000_8   2018-06-25     1000\n",
       "9    1000_9   2018-12-18     1000\n",
       "10  1000_10   2018-05-30     1000\n",
       "11  1000_11   2018-07-06     1000\n",
       "12  1000_12   2018-08-20     1000\n",
       "13  1000_13   2018-10-30     1000\n",
       "14  1000_14   2018-09-14     1000"
      ]
     },
     "execution_count": 11,
     "metadata": {},
     "output_type": "execute_result"
    }
   ],
   "source": [
    "messages.info()\n",
    "messages.head(15)"
   ]
  },
  {
   "cell_type": "markdown",
   "metadata": {},
   "source": [
    "И вновь пропуски в датасете отсутствуют.\n",
    "\n",
    "Дата отправки сообщения тут тоже записана строкой, приведем ее к формату datetime. И снова отдельным столбцом выделим месяц отправки сообщения для того, чтобы потом обрабатывать данные по месяцам.\n",
    "\n",
    "Данные в столбце user_id опять же приведем к строчному формату.\n",
    "И привычно уже проеверим датасет на дубликаты."
   ]
  },
  {
   "cell_type": "code",
   "execution_count": 12,
   "metadata": {},
   "outputs": [
    {
     "name": "stdout",
     "output_type": "stream",
     "text": [
      "Дубликатов в данных о сообщениях: 0\n"
     ]
    }
   ],
   "source": [
    "messages['message_date'] = pd.to_datetime(messages['message_date'], format='%Y-%m-%d')\n",
    "messages['message_month'] = messages['message_date'].dt.month\n",
    "messages['user_id'] = messages['user_id'].astype('object')\n",
    "print('Дубликатов в данных о сообщениях:', len(messages[messages['id'].duplicated() == True]))"
   ]
  },
  {
   "cell_type": "markdown",
   "metadata": {},
   "source": [
    "Данные обработаны, дубликатов нет. Двигаемся дальше.\n",
    "\n",
    "---\n",
    "\n",
    "Датасет <b>tariffs</b> — информация о тарифах:"
   ]
  },
  {
   "cell_type": "code",
   "execution_count": 13,
   "metadata": {},
   "outputs": [
    {
     "name": "stdout",
     "output_type": "stream",
     "text": [
      "<class 'pandas.core.frame.DataFrame'>\n",
      "RangeIndex: 2 entries, 0 to 1\n",
      "Data columns (total 8 columns):\n",
      "messages_included        2 non-null int64\n",
      "mb_per_month_included    2 non-null int64\n",
      "minutes_included         2 non-null int64\n",
      "rub_monthly_fee          2 non-null int64\n",
      "rub_per_gb               2 non-null int64\n",
      "rub_per_message          2 non-null int64\n",
      "rub_per_minute           2 non-null int64\n",
      "tariff_name              2 non-null object\n",
      "dtypes: int64(7), object(1)\n",
      "memory usage: 256.0+ bytes\n"
     ]
    },
    {
     "data": {
      "text/html": [
       "<div>\n",
       "<style scoped>\n",
       "    .dataframe tbody tr th:only-of-type {\n",
       "        vertical-align: middle;\n",
       "    }\n",
       "\n",
       "    .dataframe tbody tr th {\n",
       "        vertical-align: top;\n",
       "    }\n",
       "\n",
       "    .dataframe thead th {\n",
       "        text-align: right;\n",
       "    }\n",
       "</style>\n",
       "<table border=\"1\" class=\"dataframe\">\n",
       "  <thead>\n",
       "    <tr style=\"text-align: right;\">\n",
       "      <th></th>\n",
       "      <th>messages_included</th>\n",
       "      <th>mb_per_month_included</th>\n",
       "      <th>minutes_included</th>\n",
       "      <th>rub_monthly_fee</th>\n",
       "      <th>rub_per_gb</th>\n",
       "      <th>rub_per_message</th>\n",
       "      <th>rub_per_minute</th>\n",
       "      <th>tariff_name</th>\n",
       "    </tr>\n",
       "  </thead>\n",
       "  <tbody>\n",
       "    <tr>\n",
       "      <td>0</td>\n",
       "      <td>50</td>\n",
       "      <td>15360</td>\n",
       "      <td>500</td>\n",
       "      <td>550</td>\n",
       "      <td>200</td>\n",
       "      <td>3</td>\n",
       "      <td>3</td>\n",
       "      <td>smart</td>\n",
       "    </tr>\n",
       "    <tr>\n",
       "      <td>1</td>\n",
       "      <td>1000</td>\n",
       "      <td>30720</td>\n",
       "      <td>3000</td>\n",
       "      <td>1950</td>\n",
       "      <td>150</td>\n",
       "      <td>1</td>\n",
       "      <td>1</td>\n",
       "      <td>ultra</td>\n",
       "    </tr>\n",
       "  </tbody>\n",
       "</table>\n",
       "</div>"
      ],
      "text/plain": [
       "   messages_included  mb_per_month_included  minutes_included  \\\n",
       "0                 50                  15360               500   \n",
       "1               1000                  30720              3000   \n",
       "\n",
       "   rub_monthly_fee  rub_per_gb  rub_per_message  rub_per_minute tariff_name  \n",
       "0              550         200                3               3       smart  \n",
       "1             1950         150                1               1       ultra  "
      ]
     },
     "execution_count": 13,
     "metadata": {},
     "output_type": "execute_result"
    }
   ],
   "source": [
    "tariffs.info()\n",
    "tariffs.head()"
   ]
  },
  {
   "cell_type": "markdown",
   "metadata": {},
   "source": [
    "К счастью, тут удалось обойтись без пропусков и ошибок в данных. Так как траффик везде считается в гигабайтах, изменим единицы измерения в информации о тарифе, и изменим название столбца на gb_included."
   ]
  },
  {
   "cell_type": "code",
   "execution_count": 14,
   "metadata": {},
   "outputs": [
    {
     "data": {
      "text/html": [
       "<div>\n",
       "<style scoped>\n",
       "    .dataframe tbody tr th:only-of-type {\n",
       "        vertical-align: middle;\n",
       "    }\n",
       "\n",
       "    .dataframe tbody tr th {\n",
       "        vertical-align: top;\n",
       "    }\n",
       "\n",
       "    .dataframe thead th {\n",
       "        text-align: right;\n",
       "    }\n",
       "</style>\n",
       "<table border=\"1\" class=\"dataframe\">\n",
       "  <thead>\n",
       "    <tr style=\"text-align: right;\">\n",
       "      <th></th>\n",
       "      <th>messages_included</th>\n",
       "      <th>gb_included</th>\n",
       "      <th>minutes_included</th>\n",
       "      <th>rub_monthly_fee</th>\n",
       "      <th>rub_per_gb</th>\n",
       "      <th>rub_per_message</th>\n",
       "      <th>rub_per_minute</th>\n",
       "      <th>tariff</th>\n",
       "    </tr>\n",
       "  </thead>\n",
       "  <tbody>\n",
       "    <tr>\n",
       "      <td>0</td>\n",
       "      <td>50</td>\n",
       "      <td>15</td>\n",
       "      <td>500</td>\n",
       "      <td>550</td>\n",
       "      <td>200</td>\n",
       "      <td>3</td>\n",
       "      <td>3</td>\n",
       "      <td>smart</td>\n",
       "    </tr>\n",
       "    <tr>\n",
       "      <td>1</td>\n",
       "      <td>1000</td>\n",
       "      <td>30</td>\n",
       "      <td>3000</td>\n",
       "      <td>1950</td>\n",
       "      <td>150</td>\n",
       "      <td>1</td>\n",
       "      <td>1</td>\n",
       "      <td>ultra</td>\n",
       "    </tr>\n",
       "  </tbody>\n",
       "</table>\n",
       "</div>"
      ],
      "text/plain": [
       "   messages_included  gb_included  minutes_included  rub_monthly_fee  \\\n",
       "0                 50           15               500              550   \n",
       "1               1000           30              3000             1950   \n",
       "\n",
       "   rub_per_gb  rub_per_message  rub_per_minute tariff  \n",
       "0         200                3               3  smart  \n",
       "1         150                1               1  ultra  "
      ]
     },
     "execution_count": 14,
     "metadata": {},
     "output_type": "execute_result"
    }
   ],
   "source": [
    "tariffs['mb_per_month_included'] = (tariffs['mb_per_month_included'] / 1024).astype('int')\n",
    "tariffs.columns = ['messages_included', 'gb_included', 'minutes_included', 'rub_monthly_fee', 'rub_per_gb', 'rub_per_message', 'rub_per_minute', 'tariff']\n",
    "tariffs.head()"
   ]
  },
  {
   "cell_type": "markdown",
   "metadata": {},
   "source": [
    "---\n",
    "\n",
    "Последний датасет <b>users</b> — сведения о пользователях:"
   ]
  },
  {
   "cell_type": "code",
   "execution_count": 15,
   "metadata": {},
   "outputs": [
    {
     "name": "stdout",
     "output_type": "stream",
     "text": [
      "<class 'pandas.core.frame.DataFrame'>\n",
      "RangeIndex: 500 entries, 0 to 499\n",
      "Data columns (total 8 columns):\n",
      "user_id       500 non-null int64\n",
      "age           500 non-null int64\n",
      "churn_date    38 non-null object\n",
      "city          500 non-null object\n",
      "first_name    500 non-null object\n",
      "last_name     500 non-null object\n",
      "reg_date      500 non-null object\n",
      "tariff        500 non-null object\n",
      "dtypes: int64(2), object(6)\n",
      "memory usage: 31.4+ KB\n"
     ]
    },
    {
     "data": {
      "text/html": [
       "<div>\n",
       "<style scoped>\n",
       "    .dataframe tbody tr th:only-of-type {\n",
       "        vertical-align: middle;\n",
       "    }\n",
       "\n",
       "    .dataframe tbody tr th {\n",
       "        vertical-align: top;\n",
       "    }\n",
       "\n",
       "    .dataframe thead th {\n",
       "        text-align: right;\n",
       "    }\n",
       "</style>\n",
       "<table border=\"1\" class=\"dataframe\">\n",
       "  <thead>\n",
       "    <tr style=\"text-align: right;\">\n",
       "      <th></th>\n",
       "      <th>user_id</th>\n",
       "      <th>age</th>\n",
       "      <th>churn_date</th>\n",
       "      <th>city</th>\n",
       "      <th>first_name</th>\n",
       "      <th>last_name</th>\n",
       "      <th>reg_date</th>\n",
       "      <th>tariff</th>\n",
       "    </tr>\n",
       "  </thead>\n",
       "  <tbody>\n",
       "    <tr>\n",
       "      <td>0</td>\n",
       "      <td>1000</td>\n",
       "      <td>52</td>\n",
       "      <td>NaN</td>\n",
       "      <td>Краснодар</td>\n",
       "      <td>Рафаил</td>\n",
       "      <td>Верещагин</td>\n",
       "      <td>2018-05-25</td>\n",
       "      <td>ultra</td>\n",
       "    </tr>\n",
       "    <tr>\n",
       "      <td>1</td>\n",
       "      <td>1001</td>\n",
       "      <td>41</td>\n",
       "      <td>NaN</td>\n",
       "      <td>Москва</td>\n",
       "      <td>Иван</td>\n",
       "      <td>Ежов</td>\n",
       "      <td>2018-11-01</td>\n",
       "      <td>smart</td>\n",
       "    </tr>\n",
       "    <tr>\n",
       "      <td>2</td>\n",
       "      <td>1002</td>\n",
       "      <td>59</td>\n",
       "      <td>NaN</td>\n",
       "      <td>Стерлитамак</td>\n",
       "      <td>Евгений</td>\n",
       "      <td>Абрамович</td>\n",
       "      <td>2018-06-17</td>\n",
       "      <td>smart</td>\n",
       "    </tr>\n",
       "    <tr>\n",
       "      <td>3</td>\n",
       "      <td>1003</td>\n",
       "      <td>23</td>\n",
       "      <td>NaN</td>\n",
       "      <td>Москва</td>\n",
       "      <td>Белла</td>\n",
       "      <td>Белякова</td>\n",
       "      <td>2018-08-17</td>\n",
       "      <td>ultra</td>\n",
       "    </tr>\n",
       "    <tr>\n",
       "      <td>4</td>\n",
       "      <td>1004</td>\n",
       "      <td>68</td>\n",
       "      <td>NaN</td>\n",
       "      <td>Новокузнецк</td>\n",
       "      <td>Татьяна</td>\n",
       "      <td>Авдеенко</td>\n",
       "      <td>2018-05-14</td>\n",
       "      <td>ultra</td>\n",
       "    </tr>\n",
       "    <tr>\n",
       "      <td>5</td>\n",
       "      <td>1005</td>\n",
       "      <td>67</td>\n",
       "      <td>NaN</td>\n",
       "      <td>Набережные Челны</td>\n",
       "      <td>Афанасий</td>\n",
       "      <td>Горлов</td>\n",
       "      <td>2018-01-25</td>\n",
       "      <td>smart</td>\n",
       "    </tr>\n",
       "    <tr>\n",
       "      <td>6</td>\n",
       "      <td>1006</td>\n",
       "      <td>21</td>\n",
       "      <td>NaN</td>\n",
       "      <td>Ульяновск</td>\n",
       "      <td>Леонид</td>\n",
       "      <td>Ермолаев</td>\n",
       "      <td>2018-02-26</td>\n",
       "      <td>smart</td>\n",
       "    </tr>\n",
       "    <tr>\n",
       "      <td>7</td>\n",
       "      <td>1007</td>\n",
       "      <td>65</td>\n",
       "      <td>NaN</td>\n",
       "      <td>Москва</td>\n",
       "      <td>Юна</td>\n",
       "      <td>Березина</td>\n",
       "      <td>2018-04-19</td>\n",
       "      <td>smart</td>\n",
       "    </tr>\n",
       "    <tr>\n",
       "      <td>8</td>\n",
       "      <td>1008</td>\n",
       "      <td>63</td>\n",
       "      <td>NaN</td>\n",
       "      <td>Челябинск</td>\n",
       "      <td>Рустэм</td>\n",
       "      <td>Пономарёв</td>\n",
       "      <td>2018-12-19</td>\n",
       "      <td>smart</td>\n",
       "    </tr>\n",
       "    <tr>\n",
       "      <td>9</td>\n",
       "      <td>1009</td>\n",
       "      <td>24</td>\n",
       "      <td>NaN</td>\n",
       "      <td>Пермь</td>\n",
       "      <td>Василиса</td>\n",
       "      <td>Блинова</td>\n",
       "      <td>2018-03-22</td>\n",
       "      <td>smart</td>\n",
       "    </tr>\n",
       "    <tr>\n",
       "      <td>10</td>\n",
       "      <td>1010</td>\n",
       "      <td>26</td>\n",
       "      <td>NaN</td>\n",
       "      <td>Тюмень</td>\n",
       "      <td>Эдуард</td>\n",
       "      <td>Кононов</td>\n",
       "      <td>2018-08-05</td>\n",
       "      <td>smart</td>\n",
       "    </tr>\n",
       "    <tr>\n",
       "      <td>11</td>\n",
       "      <td>1011</td>\n",
       "      <td>44</td>\n",
       "      <td>NaN</td>\n",
       "      <td>Самара</td>\n",
       "      <td>Веселина</td>\n",
       "      <td>Алёшко</td>\n",
       "      <td>2018-03-19</td>\n",
       "      <td>smart</td>\n",
       "    </tr>\n",
       "    <tr>\n",
       "      <td>12</td>\n",
       "      <td>1012</td>\n",
       "      <td>38</td>\n",
       "      <td>NaN</td>\n",
       "      <td>Санкт-Петербург</td>\n",
       "      <td>Варлам</td>\n",
       "      <td>Соловьев</td>\n",
       "      <td>2018-03-28</td>\n",
       "      <td>smart</td>\n",
       "    </tr>\n",
       "    <tr>\n",
       "      <td>13</td>\n",
       "      <td>1013</td>\n",
       "      <td>36</td>\n",
       "      <td>NaN</td>\n",
       "      <td>Иваново</td>\n",
       "      <td>Борис</td>\n",
       "      <td>Андреенко</td>\n",
       "      <td>2018-11-14</td>\n",
       "      <td>ultra</td>\n",
       "    </tr>\n",
       "    <tr>\n",
       "      <td>14</td>\n",
       "      <td>1014</td>\n",
       "      <td>64</td>\n",
       "      <td>NaN</td>\n",
       "      <td>Чебоксары</td>\n",
       "      <td>Яков</td>\n",
       "      <td>Акинфьев</td>\n",
       "      <td>2018-05-15</td>\n",
       "      <td>smart</td>\n",
       "    </tr>\n",
       "  </tbody>\n",
       "</table>\n",
       "</div>"
      ],
      "text/plain": [
       "    user_id  age churn_date              city first_name  last_name  \\\n",
       "0      1000   52        NaN         Краснодар     Рафаил  Верещагин   \n",
       "1      1001   41        NaN            Москва       Иван       Ежов   \n",
       "2      1002   59        NaN       Стерлитамак    Евгений  Абрамович   \n",
       "3      1003   23        NaN            Москва      Белла   Белякова   \n",
       "4      1004   68        NaN       Новокузнецк    Татьяна   Авдеенко   \n",
       "5      1005   67        NaN  Набережные Челны   Афанасий     Горлов   \n",
       "6      1006   21        NaN         Ульяновск     Леонид   Ермолаев   \n",
       "7      1007   65        NaN            Москва        Юна   Березина   \n",
       "8      1008   63        NaN         Челябинск     Рустэм  Пономарёв   \n",
       "9      1009   24        NaN             Пермь   Василиса    Блинова   \n",
       "10     1010   26        NaN            Тюмень     Эдуард    Кононов   \n",
       "11     1011   44        NaN            Самара   Веселина     Алёшко   \n",
       "12     1012   38        NaN   Санкт-Петербург     Варлам   Соловьев   \n",
       "13     1013   36        NaN           Иваново      Борис  Андреенко   \n",
       "14     1014   64        NaN         Чебоксары       Яков   Акинфьев   \n",
       "\n",
       "      reg_date tariff  \n",
       "0   2018-05-25  ultra  \n",
       "1   2018-11-01  smart  \n",
       "2   2018-06-17  smart  \n",
       "3   2018-08-17  ultra  \n",
       "4   2018-05-14  ultra  \n",
       "5   2018-01-25  smart  \n",
       "6   2018-02-26  smart  \n",
       "7   2018-04-19  smart  \n",
       "8   2018-12-19  smart  \n",
       "9   2018-03-22  smart  \n",
       "10  2018-08-05  smart  \n",
       "11  2018-03-19  smart  \n",
       "12  2018-03-28  smart  \n",
       "13  2018-11-14  ultra  \n",
       "14  2018-05-15  smart  "
      ]
     },
     "execution_count": 15,
     "metadata": {},
     "output_type": "execute_result"
    }
   ],
   "source": [
    "users.info()\n",
    "users.head(15)"
   ]
  },
  {
   "cell_type": "markdown",
   "metadata": {},
   "source": [
    "Тип данных в столбце user_id изменим на текст.\n",
    "\n",
    "В столбце churn_date очень много пропусков, но у нас есть информация, откуда возникли эти пропуски. Пропуск означают, что пользователь на момент выгрузки данных продолжает пользоваться услугами связи. Поэтому мы ничего не будем делать с этими пропусками.\n",
    "\n",
    "В дальнейшем в проекте нам понадобится сравнивать данные  по Москве с данными по остальным городам, так что создадим на основе столбца city новый стоблец is_moscow с булевым значением, который будет являться фильтром. \n",
    "\n",
    "Данные в столбце reg_date приведем к формату datetime.\n",
    "\n",
    "И, хоть мы и знаем, что у нас информация по 500 пользователям и строк в датасете ровно 500, на всякий случай сделаем проверку на дубликаты."
   ]
  },
  {
   "cell_type": "code",
   "execution_count": 16,
   "metadata": {},
   "outputs": [
    {
     "name": "stdout",
     "output_type": "stream",
     "text": [
      "Дубликатов в данных о пользователях: 0\n"
     ]
    }
   ],
   "source": [
    "users['user_id'] = users['user_id'].astype('object')\n",
    "users['reg_date'] = pd.to_datetime(users['reg_date'], format='%Y-%m-%d')\n",
    "users['churn_date'] = pd.to_datetime(users['churn_date'], format='%Y-%m-%d')\n",
    "users['is_moscow'] = users['city'] == 'Москва'\n",
    "\n",
    "print('Дубликатов в данных о пользователях:', len(users[users['user_id'].duplicated() == True]))"
   ]
  },
  {
   "cell_type": "markdown",
   "metadata": {},
   "source": [
    "Для подсчета выручки с каждого пользователя нам понадобится знать, в какие месяцы пользователь был абонентом, а в какие не был. Для этого создадим датасет на основе users, который будет заполнен нулями и единицами. Если пользователь был абонентом хотя бы день в данном месяце, то будет стоять единица, иначе ноль. В дальнейшем, при подсчете выручки за каждый месяц, мы будем домножать выручку за месяц на единицу или ноль, в зависимости от того, обслуживался ли в данном месяце абонент. Если он не был клиентом, скажем, в марте, то при умножении на ноль мы получим выручку равную нулю."
   ]
  },
  {
   "cell_type": "code",
   "execution_count": 17,
   "metadata": {},
   "outputs": [
    {
     "data": {
      "text/html": [
       "<div>\n",
       "<style scoped>\n",
       "    .dataframe tbody tr th:only-of-type {\n",
       "        vertical-align: middle;\n",
       "    }\n",
       "\n",
       "    .dataframe tbody tr th {\n",
       "        vertical-align: top;\n",
       "    }\n",
       "\n",
       "    .dataframe thead th {\n",
       "        text-align: right;\n",
       "    }\n",
       "</style>\n",
       "<table border=\"1\" class=\"dataframe\">\n",
       "  <thead>\n",
       "    <tr style=\"text-align: right;\">\n",
       "      <th></th>\n",
       "      <th>jan</th>\n",
       "      <th>feb</th>\n",
       "      <th>mar</th>\n",
       "      <th>apr</th>\n",
       "      <th>may</th>\n",
       "      <th>jun</th>\n",
       "      <th>jul</th>\n",
       "      <th>aug</th>\n",
       "      <th>sep</th>\n",
       "      <th>oct</th>\n",
       "      <th>nov</th>\n",
       "      <th>dec</th>\n",
       "    </tr>\n",
       "  </thead>\n",
       "  <tbody>\n",
       "    <tr>\n",
       "      <td>0</td>\n",
       "      <td>0.0</td>\n",
       "      <td>0.0</td>\n",
       "      <td>0.0</td>\n",
       "      <td>0.0</td>\n",
       "      <td>1.0</td>\n",
       "      <td>1.0</td>\n",
       "      <td>1.0</td>\n",
       "      <td>1.0</td>\n",
       "      <td>1.0</td>\n",
       "      <td>1.0</td>\n",
       "      <td>1.0</td>\n",
       "      <td>1.0</td>\n",
       "    </tr>\n",
       "    <tr>\n",
       "      <td>1</td>\n",
       "      <td>0.0</td>\n",
       "      <td>0.0</td>\n",
       "      <td>0.0</td>\n",
       "      <td>0.0</td>\n",
       "      <td>0.0</td>\n",
       "      <td>0.0</td>\n",
       "      <td>0.0</td>\n",
       "      <td>0.0</td>\n",
       "      <td>0.0</td>\n",
       "      <td>0.0</td>\n",
       "      <td>1.0</td>\n",
       "      <td>1.0</td>\n",
       "    </tr>\n",
       "    <tr>\n",
       "      <td>2</td>\n",
       "      <td>0.0</td>\n",
       "      <td>0.0</td>\n",
       "      <td>0.0</td>\n",
       "      <td>0.0</td>\n",
       "      <td>0.0</td>\n",
       "      <td>1.0</td>\n",
       "      <td>1.0</td>\n",
       "      <td>1.0</td>\n",
       "      <td>1.0</td>\n",
       "      <td>1.0</td>\n",
       "      <td>1.0</td>\n",
       "      <td>1.0</td>\n",
       "    </tr>\n",
       "    <tr>\n",
       "      <td>3</td>\n",
       "      <td>0.0</td>\n",
       "      <td>0.0</td>\n",
       "      <td>0.0</td>\n",
       "      <td>0.0</td>\n",
       "      <td>0.0</td>\n",
       "      <td>0.0</td>\n",
       "      <td>0.0</td>\n",
       "      <td>1.0</td>\n",
       "      <td>1.0</td>\n",
       "      <td>1.0</td>\n",
       "      <td>1.0</td>\n",
       "      <td>1.0</td>\n",
       "    </tr>\n",
       "    <tr>\n",
       "      <td>4</td>\n",
       "      <td>0.0</td>\n",
       "      <td>0.0</td>\n",
       "      <td>0.0</td>\n",
       "      <td>0.0</td>\n",
       "      <td>1.0</td>\n",
       "      <td>1.0</td>\n",
       "      <td>1.0</td>\n",
       "      <td>1.0</td>\n",
       "      <td>1.0</td>\n",
       "      <td>1.0</td>\n",
       "      <td>1.0</td>\n",
       "      <td>1.0</td>\n",
       "    </tr>\n",
       "    <tr>\n",
       "      <td>...</td>\n",
       "      <td>...</td>\n",
       "      <td>...</td>\n",
       "      <td>...</td>\n",
       "      <td>...</td>\n",
       "      <td>...</td>\n",
       "      <td>...</td>\n",
       "      <td>...</td>\n",
       "      <td>...</td>\n",
       "      <td>...</td>\n",
       "      <td>...</td>\n",
       "      <td>...</td>\n",
       "      <td>...</td>\n",
       "    </tr>\n",
       "    <tr>\n",
       "      <td>495</td>\n",
       "      <td>0.0</td>\n",
       "      <td>0.0</td>\n",
       "      <td>0.0</td>\n",
       "      <td>0.0</td>\n",
       "      <td>0.0</td>\n",
       "      <td>0.0</td>\n",
       "      <td>0.0</td>\n",
       "      <td>1.0</td>\n",
       "      <td>1.0</td>\n",
       "      <td>1.0</td>\n",
       "      <td>1.0</td>\n",
       "      <td>1.0</td>\n",
       "    </tr>\n",
       "    <tr>\n",
       "      <td>496</td>\n",
       "      <td>1.0</td>\n",
       "      <td>1.0</td>\n",
       "      <td>1.0</td>\n",
       "      <td>1.0</td>\n",
       "      <td>1.0</td>\n",
       "      <td>1.0</td>\n",
       "      <td>1.0</td>\n",
       "      <td>1.0</td>\n",
       "      <td>1.0</td>\n",
       "      <td>1.0</td>\n",
       "      <td>1.0</td>\n",
       "      <td>1.0</td>\n",
       "    </tr>\n",
       "    <tr>\n",
       "      <td>497</td>\n",
       "      <td>0.0</td>\n",
       "      <td>0.0</td>\n",
       "      <td>0.0</td>\n",
       "      <td>0.0</td>\n",
       "      <td>0.0</td>\n",
       "      <td>0.0</td>\n",
       "      <td>0.0</td>\n",
       "      <td>0.0</td>\n",
       "      <td>0.0</td>\n",
       "      <td>1.0</td>\n",
       "      <td>1.0</td>\n",
       "      <td>1.0</td>\n",
       "    </tr>\n",
       "    <tr>\n",
       "      <td>498</td>\n",
       "      <td>0.0</td>\n",
       "      <td>0.0</td>\n",
       "      <td>0.0</td>\n",
       "      <td>0.0</td>\n",
       "      <td>0.0</td>\n",
       "      <td>0.0</td>\n",
       "      <td>1.0</td>\n",
       "      <td>1.0</td>\n",
       "      <td>1.0</td>\n",
       "      <td>1.0</td>\n",
       "      <td>0.0</td>\n",
       "      <td>0.0</td>\n",
       "    </tr>\n",
       "    <tr>\n",
       "      <td>499</td>\n",
       "      <td>0.0</td>\n",
       "      <td>0.0</td>\n",
       "      <td>0.0</td>\n",
       "      <td>0.0</td>\n",
       "      <td>0.0</td>\n",
       "      <td>0.0</td>\n",
       "      <td>0.0</td>\n",
       "      <td>0.0</td>\n",
       "      <td>1.0</td>\n",
       "      <td>1.0</td>\n",
       "      <td>1.0</td>\n",
       "      <td>1.0</td>\n",
       "    </tr>\n",
       "  </tbody>\n",
       "</table>\n",
       "<p>500 rows × 12 columns</p>\n",
       "</div>"
      ],
      "text/plain": [
       "     jan  feb  mar  apr  may  jun  jul  aug  sep  oct  nov  dec\n",
       "0    0.0  0.0  0.0  0.0  1.0  1.0  1.0  1.0  1.0  1.0  1.0  1.0\n",
       "1    0.0  0.0  0.0  0.0  0.0  0.0  0.0  0.0  0.0  0.0  1.0  1.0\n",
       "2    0.0  0.0  0.0  0.0  0.0  1.0  1.0  1.0  1.0  1.0  1.0  1.0\n",
       "3    0.0  0.0  0.0  0.0  0.0  0.0  0.0  1.0  1.0  1.0  1.0  1.0\n",
       "4    0.0  0.0  0.0  0.0  1.0  1.0  1.0  1.0  1.0  1.0  1.0  1.0\n",
       "..   ...  ...  ...  ...  ...  ...  ...  ...  ...  ...  ...  ...\n",
       "495  0.0  0.0  0.0  0.0  0.0  0.0  0.0  1.0  1.0  1.0  1.0  1.0\n",
       "496  1.0  1.0  1.0  1.0  1.0  1.0  1.0  1.0  1.0  1.0  1.0  1.0\n",
       "497  0.0  0.0  0.0  0.0  0.0  0.0  0.0  0.0  0.0  1.0  1.0  1.0\n",
       "498  0.0  0.0  0.0  0.0  0.0  0.0  1.0  1.0  1.0  1.0  0.0  0.0\n",
       "499  0.0  0.0  0.0  0.0  0.0  0.0  0.0  0.0  1.0  1.0  1.0  1.0\n",
       "\n",
       "[500 rows x 12 columns]"
      ]
     },
     "execution_count": 17,
     "metadata": {},
     "output_type": "execute_result"
    }
   ],
   "source": [
    "activity = pd.DataFrame(index=users.index)\n",
    "for row in users.index:\n",
    "    for column in range(1,13):\n",
    "        if users.loc[row, 'reg_date'].month > column:\n",
    "            activity.loc[row, column] = 0\n",
    "        elif users.loc[row, 'churn_date'].month < column:\n",
    "            activity.loc[row, column] = 0\n",
    "        else:\n",
    "            activity.loc[row, column] = 1\n",
    "activity.columns = month_names\n",
    "activity"
   ]
  },
  {
   "cell_type": "markdown",
   "metadata": {},
   "source": [
    "Дубликатов нет, исходные данные предобработаны."
   ]
  },
  {
   "cell_type": "markdown",
   "metadata": {},
   "source": [
    "### Подсчет данных для анализа\n",
    "[Содержание](#Содержание)"
   ]
  },
  {
   "cell_type": "markdown",
   "metadata": {},
   "source": [
    "Теперь нам необходимо подсчитать следуюущие данные по каждому из пользователей:\n",
    "\n",
    "* количество сделанных звонков по месяцам;\n",
    "* количество израсходованных минут разговора по месяцам;\n",
    "* количество отправленных сообщений по месяцам;\n",
    "* объем израсходованного интернет-трафика по месяцам;\n",
    "* помесячную выручку с каждого пользователя."
   ]
  },
  {
   "cell_type": "markdown",
   "metadata": {},
   "source": [
    "С помощью сводных таблиц сгруппируем данные по каждому пользователю по месяцам. Пропуски, когда пользователь не использовал услуги, заполним нулями. Добавим в данные столбец со среднемесячным значением по каждому пользователю.\n",
    "\n",
    "Считая среднее по каждому пользователю, важно не забыть, что нам нужно пропустить нулевые значения."
   ]
  },
  {
   "cell_type": "markdown",
   "metadata": {},
   "source": [
    "<b>Количество сделанных звонков:</b>"
   ]
  },
  {
   "cell_type": "code",
   "execution_count": 18,
   "metadata": {
    "scrolled": false
   },
   "outputs": [
    {
     "data": {
      "text/html": [
       "<div>\n",
       "<style scoped>\n",
       "    .dataframe tbody tr th:only-of-type {\n",
       "        vertical-align: middle;\n",
       "    }\n",
       "\n",
       "    .dataframe tbody tr th {\n",
       "        vertical-align: top;\n",
       "    }\n",
       "\n",
       "    .dataframe thead th {\n",
       "        text-align: right;\n",
       "    }\n",
       "</style>\n",
       "<table border=\"1\" class=\"dataframe\">\n",
       "  <thead>\n",
       "    <tr style=\"text-align: right;\">\n",
       "      <th></th>\n",
       "      <th>jan</th>\n",
       "      <th>feb</th>\n",
       "      <th>mar</th>\n",
       "      <th>apr</th>\n",
       "      <th>may</th>\n",
       "      <th>jun</th>\n",
       "      <th>jul</th>\n",
       "      <th>aug</th>\n",
       "      <th>sep</th>\n",
       "      <th>oct</th>\n",
       "      <th>nov</th>\n",
       "      <th>dec</th>\n",
       "      <th>mean</th>\n",
       "    </tr>\n",
       "    <tr>\n",
       "      <th>user_id</th>\n",
       "      <th></th>\n",
       "      <th></th>\n",
       "      <th></th>\n",
       "      <th></th>\n",
       "      <th></th>\n",
       "      <th></th>\n",
       "      <th></th>\n",
       "      <th></th>\n",
       "      <th></th>\n",
       "      <th></th>\n",
       "      <th></th>\n",
       "      <th></th>\n",
       "      <th></th>\n",
       "    </tr>\n",
       "  </thead>\n",
       "  <tbody>\n",
       "    <tr>\n",
       "      <td>1000</td>\n",
       "      <td>0</td>\n",
       "      <td>0</td>\n",
       "      <td>0</td>\n",
       "      <td>0</td>\n",
       "      <td>17</td>\n",
       "      <td>28</td>\n",
       "      <td>41</td>\n",
       "      <td>42</td>\n",
       "      <td>46</td>\n",
       "      <td>44</td>\n",
       "      <td>37</td>\n",
       "      <td>38</td>\n",
       "      <td>36.625000</td>\n",
       "    </tr>\n",
       "    <tr>\n",
       "      <td>1001</td>\n",
       "      <td>0</td>\n",
       "      <td>0</td>\n",
       "      <td>0</td>\n",
       "      <td>0</td>\n",
       "      <td>0</td>\n",
       "      <td>0</td>\n",
       "      <td>0</td>\n",
       "      <td>0</td>\n",
       "      <td>0</td>\n",
       "      <td>0</td>\n",
       "      <td>45</td>\n",
       "      <td>47</td>\n",
       "      <td>46.000000</td>\n",
       "    </tr>\n",
       "    <tr>\n",
       "      <td>1002</td>\n",
       "      <td>0</td>\n",
       "      <td>0</td>\n",
       "      <td>0</td>\n",
       "      <td>0</td>\n",
       "      <td>0</td>\n",
       "      <td>14</td>\n",
       "      <td>21</td>\n",
       "      <td>37</td>\n",
       "      <td>25</td>\n",
       "      <td>24</td>\n",
       "      <td>25</td>\n",
       "      <td>27</td>\n",
       "      <td>24.714286</td>\n",
       "    </tr>\n",
       "    <tr>\n",
       "      <td>1003</td>\n",
       "      <td>0</td>\n",
       "      <td>0</td>\n",
       "      <td>0</td>\n",
       "      <td>0</td>\n",
       "      <td>0</td>\n",
       "      <td>0</td>\n",
       "      <td>0</td>\n",
       "      <td>43</td>\n",
       "      <td>105</td>\n",
       "      <td>97</td>\n",
       "      <td>95</td>\n",
       "      <td>88</td>\n",
       "      <td>85.600000</td>\n",
       "    </tr>\n",
       "    <tr>\n",
       "      <td>1004</td>\n",
       "      <td>0</td>\n",
       "      <td>0</td>\n",
       "      <td>0</td>\n",
       "      <td>0</td>\n",
       "      <td>7</td>\n",
       "      <td>25</td>\n",
       "      <td>20</td>\n",
       "      <td>18</td>\n",
       "      <td>18</td>\n",
       "      <td>21</td>\n",
       "      <td>15</td>\n",
       "      <td>15</td>\n",
       "      <td>17.375000</td>\n",
       "    </tr>\n",
       "    <tr>\n",
       "      <td>...</td>\n",
       "      <td>...</td>\n",
       "      <td>...</td>\n",
       "      <td>...</td>\n",
       "      <td>...</td>\n",
       "      <td>...</td>\n",
       "      <td>...</td>\n",
       "      <td>...</td>\n",
       "      <td>...</td>\n",
       "      <td>...</td>\n",
       "      <td>...</td>\n",
       "      <td>...</td>\n",
       "      <td>...</td>\n",
       "      <td>...</td>\n",
       "    </tr>\n",
       "    <tr>\n",
       "      <td>1495</td>\n",
       "      <td>0</td>\n",
       "      <td>0</td>\n",
       "      <td>0</td>\n",
       "      <td>0</td>\n",
       "      <td>0</td>\n",
       "      <td>0</td>\n",
       "      <td>0</td>\n",
       "      <td>13</td>\n",
       "      <td>95</td>\n",
       "      <td>126</td>\n",
       "      <td>112</td>\n",
       "      <td>120</td>\n",
       "      <td>93.200000</td>\n",
       "    </tr>\n",
       "    <tr>\n",
       "      <td>1496</td>\n",
       "      <td>6</td>\n",
       "      <td>65</td>\n",
       "      <td>67</td>\n",
       "      <td>52</td>\n",
       "      <td>50</td>\n",
       "      <td>57</td>\n",
       "      <td>63</td>\n",
       "      <td>62</td>\n",
       "      <td>58</td>\n",
       "      <td>56</td>\n",
       "      <td>66</td>\n",
       "      <td>65</td>\n",
       "      <td>55.583333</td>\n",
       "    </tr>\n",
       "    <tr>\n",
       "      <td>1497</td>\n",
       "      <td>0</td>\n",
       "      <td>0</td>\n",
       "      <td>0</td>\n",
       "      <td>0</td>\n",
       "      <td>0</td>\n",
       "      <td>0</td>\n",
       "      <td>0</td>\n",
       "      <td>0</td>\n",
       "      <td>0</td>\n",
       "      <td>50</td>\n",
       "      <td>48</td>\n",
       "      <td>58</td>\n",
       "      <td>52.000000</td>\n",
       "    </tr>\n",
       "    <tr>\n",
       "      <td>1498</td>\n",
       "      <td>0</td>\n",
       "      <td>0</td>\n",
       "      <td>0</td>\n",
       "      <td>0</td>\n",
       "      <td>0</td>\n",
       "      <td>0</td>\n",
       "      <td>20</td>\n",
       "      <td>43</td>\n",
       "      <td>53</td>\n",
       "      <td>30</td>\n",
       "      <td>0</td>\n",
       "      <td>0</td>\n",
       "      <td>36.500000</td>\n",
       "    </tr>\n",
       "    <tr>\n",
       "      <td>1499</td>\n",
       "      <td>0</td>\n",
       "      <td>0</td>\n",
       "      <td>0</td>\n",
       "      <td>0</td>\n",
       "      <td>0</td>\n",
       "      <td>0</td>\n",
       "      <td>0</td>\n",
       "      <td>0</td>\n",
       "      <td>8</td>\n",
       "      <td>44</td>\n",
       "      <td>62</td>\n",
       "      <td>56</td>\n",
       "      <td>42.500000</td>\n",
       "    </tr>\n",
       "  </tbody>\n",
       "</table>\n",
       "<p>492 rows × 13 columns</p>\n",
       "</div>"
      ],
      "text/plain": [
       "         jan  feb  mar  apr  may  jun  jul  aug  sep  oct  nov  dec       mean\n",
       "user_id                                                                       \n",
       "1000       0    0    0    0   17   28   41   42   46   44   37   38  36.625000\n",
       "1001       0    0    0    0    0    0    0    0    0    0   45   47  46.000000\n",
       "1002       0    0    0    0    0   14   21   37   25   24   25   27  24.714286\n",
       "1003       0    0    0    0    0    0    0   43  105   97   95   88  85.600000\n",
       "1004       0    0    0    0    7   25   20   18   18   21   15   15  17.375000\n",
       "...      ...  ...  ...  ...  ...  ...  ...  ...  ...  ...  ...  ...        ...\n",
       "1495       0    0    0    0    0    0    0   13   95  126  112  120  93.200000\n",
       "1496       6   65   67   52   50   57   63   62   58   56   66   65  55.583333\n",
       "1497       0    0    0    0    0    0    0    0    0   50   48   58  52.000000\n",
       "1498       0    0    0    0    0    0   20   43   53   30    0    0  36.500000\n",
       "1499       0    0    0    0    0    0    0    0    8   44   62   56  42.500000\n",
       "\n",
       "[492 rows x 13 columns]"
      ]
     },
     "execution_count": 18,
     "metadata": {},
     "output_type": "execute_result"
    }
   ],
   "source": [
    "calls_monthly = calls[calls['duration'] != 0].pivot_table(index='user_id', values='duration', columns='call_month', aggfunc=['count']).fillna(0).astype('int')\n",
    "calls_monthly.columns = month_names\n",
    "calls_monthly['mean'] = calls_monthly[calls_monthly.loc[:, 'jan':'dec'] != 0].mean(axis=1)\n",
    "calls_monthly"
   ]
  },
  {
   "cell_type": "markdown",
   "metadata": {},
   "source": [
    "<b>Количество израсходованных минут:</b>"
   ]
  },
  {
   "cell_type": "code",
   "execution_count": 19,
   "metadata": {
    "scrolled": false
   },
   "outputs": [
    {
     "data": {
      "text/html": [
       "<div>\n",
       "<style scoped>\n",
       "    .dataframe tbody tr th:only-of-type {\n",
       "        vertical-align: middle;\n",
       "    }\n",
       "\n",
       "    .dataframe tbody tr th {\n",
       "        vertical-align: top;\n",
       "    }\n",
       "\n",
       "    .dataframe thead th {\n",
       "        text-align: right;\n",
       "    }\n",
       "</style>\n",
       "<table border=\"1\" class=\"dataframe\">\n",
       "  <thead>\n",
       "    <tr style=\"text-align: right;\">\n",
       "      <th></th>\n",
       "      <th>jan</th>\n",
       "      <th>feb</th>\n",
       "      <th>mar</th>\n",
       "      <th>apr</th>\n",
       "      <th>may</th>\n",
       "      <th>jun</th>\n",
       "      <th>jul</th>\n",
       "      <th>aug</th>\n",
       "      <th>sep</th>\n",
       "      <th>oct</th>\n",
       "      <th>nov</th>\n",
       "      <th>dec</th>\n",
       "      <th>mean</th>\n",
       "    </tr>\n",
       "    <tr>\n",
       "      <th>user_id</th>\n",
       "      <th></th>\n",
       "      <th></th>\n",
       "      <th></th>\n",
       "      <th></th>\n",
       "      <th></th>\n",
       "      <th></th>\n",
       "      <th></th>\n",
       "      <th></th>\n",
       "      <th></th>\n",
       "      <th></th>\n",
       "      <th></th>\n",
       "      <th></th>\n",
       "      <th></th>\n",
       "    </tr>\n",
       "  </thead>\n",
       "  <tbody>\n",
       "    <tr>\n",
       "      <td>1000</td>\n",
       "      <td>0</td>\n",
       "      <td>0</td>\n",
       "      <td>0</td>\n",
       "      <td>0</td>\n",
       "      <td>159</td>\n",
       "      <td>172</td>\n",
       "      <td>340</td>\n",
       "      <td>408</td>\n",
       "      <td>466</td>\n",
       "      <td>350</td>\n",
       "      <td>338</td>\n",
       "      <td>333</td>\n",
       "      <td>320.750000</td>\n",
       "    </tr>\n",
       "    <tr>\n",
       "      <td>1001</td>\n",
       "      <td>0</td>\n",
       "      <td>0</td>\n",
       "      <td>0</td>\n",
       "      <td>0</td>\n",
       "      <td>0</td>\n",
       "      <td>0</td>\n",
       "      <td>0</td>\n",
       "      <td>0</td>\n",
       "      <td>0</td>\n",
       "      <td>0</td>\n",
       "      <td>430</td>\n",
       "      <td>414</td>\n",
       "      <td>422.000000</td>\n",
       "    </tr>\n",
       "    <tr>\n",
       "      <td>1002</td>\n",
       "      <td>0</td>\n",
       "      <td>0</td>\n",
       "      <td>0</td>\n",
       "      <td>0</td>\n",
       "      <td>0</td>\n",
       "      <td>117</td>\n",
       "      <td>214</td>\n",
       "      <td>289</td>\n",
       "      <td>206</td>\n",
       "      <td>212</td>\n",
       "      <td>243</td>\n",
       "      <td>236</td>\n",
       "      <td>216.714286</td>\n",
       "    </tr>\n",
       "    <tr>\n",
       "      <td>1003</td>\n",
       "      <td>0</td>\n",
       "      <td>0</td>\n",
       "      <td>0</td>\n",
       "      <td>0</td>\n",
       "      <td>0</td>\n",
       "      <td>0</td>\n",
       "      <td>0</td>\n",
       "      <td>380</td>\n",
       "      <td>961</td>\n",
       "      <td>855</td>\n",
       "      <td>824</td>\n",
       "      <td>802</td>\n",
       "      <td>764.400000</td>\n",
       "    </tr>\n",
       "    <tr>\n",
       "      <td>1004</td>\n",
       "      <td>0</td>\n",
       "      <td>0</td>\n",
       "      <td>0</td>\n",
       "      <td>0</td>\n",
       "      <td>35</td>\n",
       "      <td>171</td>\n",
       "      <td>135</td>\n",
       "      <td>137</td>\n",
       "      <td>117</td>\n",
       "      <td>145</td>\n",
       "      <td>117</td>\n",
       "      <td>130</td>\n",
       "      <td>123.375000</td>\n",
       "    </tr>\n",
       "    <tr>\n",
       "      <td>...</td>\n",
       "      <td>...</td>\n",
       "      <td>...</td>\n",
       "      <td>...</td>\n",
       "      <td>...</td>\n",
       "      <td>...</td>\n",
       "      <td>...</td>\n",
       "      <td>...</td>\n",
       "      <td>...</td>\n",
       "      <td>...</td>\n",
       "      <td>...</td>\n",
       "      <td>...</td>\n",
       "      <td>...</td>\n",
       "      <td>...</td>\n",
       "    </tr>\n",
       "    <tr>\n",
       "      <td>1495</td>\n",
       "      <td>0</td>\n",
       "      <td>0</td>\n",
       "      <td>0</td>\n",
       "      <td>0</td>\n",
       "      <td>0</td>\n",
       "      <td>0</td>\n",
       "      <td>0</td>\n",
       "      <td>92</td>\n",
       "      <td>813</td>\n",
       "      <td>1030</td>\n",
       "      <td>954</td>\n",
       "      <td>1031</td>\n",
       "      <td>784.000000</td>\n",
       "    </tr>\n",
       "    <tr>\n",
       "      <td>1496</td>\n",
       "      <td>48</td>\n",
       "      <td>594</td>\n",
       "      <td>557</td>\n",
       "      <td>521</td>\n",
       "      <td>484</td>\n",
       "      <td>555</td>\n",
       "      <td>582</td>\n",
       "      <td>527</td>\n",
       "      <td>486</td>\n",
       "      <td>450</td>\n",
       "      <td>662</td>\n",
       "      <td>518</td>\n",
       "      <td>498.666667</td>\n",
       "    </tr>\n",
       "    <tr>\n",
       "      <td>1497</td>\n",
       "      <td>0</td>\n",
       "      <td>0</td>\n",
       "      <td>0</td>\n",
       "      <td>0</td>\n",
       "      <td>0</td>\n",
       "      <td>0</td>\n",
       "      <td>0</td>\n",
       "      <td>0</td>\n",
       "      <td>0</td>\n",
       "      <td>490</td>\n",
       "      <td>371</td>\n",
       "      <td>545</td>\n",
       "      <td>468.666667</td>\n",
       "    </tr>\n",
       "    <tr>\n",
       "      <td>1498</td>\n",
       "      <td>0</td>\n",
       "      <td>0</td>\n",
       "      <td>0</td>\n",
       "      <td>0</td>\n",
       "      <td>0</td>\n",
       "      <td>0</td>\n",
       "      <td>175</td>\n",
       "      <td>400</td>\n",
       "      <td>471</td>\n",
       "      <td>247</td>\n",
       "      <td>0</td>\n",
       "      <td>0</td>\n",
       "      <td>323.250000</td>\n",
       "    </tr>\n",
       "    <tr>\n",
       "      <td>1499</td>\n",
       "      <td>0</td>\n",
       "      <td>0</td>\n",
       "      <td>0</td>\n",
       "      <td>0</td>\n",
       "      <td>0</td>\n",
       "      <td>0</td>\n",
       "      <td>0</td>\n",
       "      <td>0</td>\n",
       "      <td>70</td>\n",
       "      <td>449</td>\n",
       "      <td>612</td>\n",
       "      <td>492</td>\n",
       "      <td>405.750000</td>\n",
       "    </tr>\n",
       "  </tbody>\n",
       "</table>\n",
       "<p>492 rows × 13 columns</p>\n",
       "</div>"
      ],
      "text/plain": [
       "         jan  feb  mar  apr  may  jun  jul  aug  sep   oct  nov   dec  \\\n",
       "user_id                                                                 \n",
       "1000       0    0    0    0  159  172  340  408  466   350  338   333   \n",
       "1001       0    0    0    0    0    0    0    0    0     0  430   414   \n",
       "1002       0    0    0    0    0  117  214  289  206   212  243   236   \n",
       "1003       0    0    0    0    0    0    0  380  961   855  824   802   \n",
       "1004       0    0    0    0   35  171  135  137  117   145  117   130   \n",
       "...      ...  ...  ...  ...  ...  ...  ...  ...  ...   ...  ...   ...   \n",
       "1495       0    0    0    0    0    0    0   92  813  1030  954  1031   \n",
       "1496      48  594  557  521  484  555  582  527  486   450  662   518   \n",
       "1497       0    0    0    0    0    0    0    0    0   490  371   545   \n",
       "1498       0    0    0    0    0    0  175  400  471   247    0     0   \n",
       "1499       0    0    0    0    0    0    0    0   70   449  612   492   \n",
       "\n",
       "               mean  \n",
       "user_id              \n",
       "1000     320.750000  \n",
       "1001     422.000000  \n",
       "1002     216.714286  \n",
       "1003     764.400000  \n",
       "1004     123.375000  \n",
       "...             ...  \n",
       "1495     784.000000  \n",
       "1496     498.666667  \n",
       "1497     468.666667  \n",
       "1498     323.250000  \n",
       "1499     405.750000  \n",
       "\n",
       "[492 rows x 13 columns]"
      ]
     },
     "execution_count": 19,
     "metadata": {},
     "output_type": "execute_result"
    }
   ],
   "source": [
    "duration_monthly = calls[calls['duration'] != 0].pivot_table(index='user_id', values='duration', columns='call_month', aggfunc=['sum']).fillna(0).astype('int')\n",
    "duration_monthly.columns = month_names\n",
    "duration_monthly['mean'] = duration_monthly[duration_monthly.loc[:, 'jan':'dec'] != 0].mean(axis=1)\n",
    "duration_monthly"
   ]
  },
  {
   "cell_type": "markdown",
   "metadata": {},
   "source": [
    "<b>Количество отправленных сообщений:</b>"
   ]
  },
  {
   "cell_type": "code",
   "execution_count": 20,
   "metadata": {
    "scrolled": false
   },
   "outputs": [
    {
     "data": {
      "text/html": [
       "<div>\n",
       "<style scoped>\n",
       "    .dataframe tbody tr th:only-of-type {\n",
       "        vertical-align: middle;\n",
       "    }\n",
       "\n",
       "    .dataframe tbody tr th {\n",
       "        vertical-align: top;\n",
       "    }\n",
       "\n",
       "    .dataframe thead th {\n",
       "        text-align: right;\n",
       "    }\n",
       "</style>\n",
       "<table border=\"1\" class=\"dataframe\">\n",
       "  <thead>\n",
       "    <tr style=\"text-align: right;\">\n",
       "      <th></th>\n",
       "      <th>jan</th>\n",
       "      <th>feb</th>\n",
       "      <th>mar</th>\n",
       "      <th>apr</th>\n",
       "      <th>may</th>\n",
       "      <th>jun</th>\n",
       "      <th>jul</th>\n",
       "      <th>aug</th>\n",
       "      <th>sep</th>\n",
       "      <th>oct</th>\n",
       "      <th>nov</th>\n",
       "      <th>dec</th>\n",
       "      <th>mean</th>\n",
       "    </tr>\n",
       "    <tr>\n",
       "      <th>user_id</th>\n",
       "      <th></th>\n",
       "      <th></th>\n",
       "      <th></th>\n",
       "      <th></th>\n",
       "      <th></th>\n",
       "      <th></th>\n",
       "      <th></th>\n",
       "      <th></th>\n",
       "      <th></th>\n",
       "      <th></th>\n",
       "      <th></th>\n",
       "      <th></th>\n",
       "      <th></th>\n",
       "    </tr>\n",
       "  </thead>\n",
       "  <tbody>\n",
       "    <tr>\n",
       "      <td>1000</td>\n",
       "      <td>0</td>\n",
       "      <td>0</td>\n",
       "      <td>0</td>\n",
       "      <td>0</td>\n",
       "      <td>22</td>\n",
       "      <td>60</td>\n",
       "      <td>75</td>\n",
       "      <td>81</td>\n",
       "      <td>57</td>\n",
       "      <td>73</td>\n",
       "      <td>58</td>\n",
       "      <td>70</td>\n",
       "      <td>62.0</td>\n",
       "    </tr>\n",
       "    <tr>\n",
       "      <td>1002</td>\n",
       "      <td>0</td>\n",
       "      <td>0</td>\n",
       "      <td>0</td>\n",
       "      <td>0</td>\n",
       "      <td>0</td>\n",
       "      <td>4</td>\n",
       "      <td>11</td>\n",
       "      <td>13</td>\n",
       "      <td>4</td>\n",
       "      <td>10</td>\n",
       "      <td>16</td>\n",
       "      <td>12</td>\n",
       "      <td>10.0</td>\n",
       "    </tr>\n",
       "    <tr>\n",
       "      <td>1003</td>\n",
       "      <td>0</td>\n",
       "      <td>0</td>\n",
       "      <td>0</td>\n",
       "      <td>0</td>\n",
       "      <td>0</td>\n",
       "      <td>0</td>\n",
       "      <td>0</td>\n",
       "      <td>37</td>\n",
       "      <td>91</td>\n",
       "      <td>83</td>\n",
       "      <td>94</td>\n",
       "      <td>75</td>\n",
       "      <td>76.0</td>\n",
       "    </tr>\n",
       "    <tr>\n",
       "      <td>1004</td>\n",
       "      <td>0</td>\n",
       "      <td>0</td>\n",
       "      <td>0</td>\n",
       "      <td>0</td>\n",
       "      <td>95</td>\n",
       "      <td>134</td>\n",
       "      <td>181</td>\n",
       "      <td>151</td>\n",
       "      <td>146</td>\n",
       "      <td>165</td>\n",
       "      <td>158</td>\n",
       "      <td>162</td>\n",
       "      <td>149.0</td>\n",
       "    </tr>\n",
       "    <tr>\n",
       "      <td>1005</td>\n",
       "      <td>7</td>\n",
       "      <td>38</td>\n",
       "      <td>56</td>\n",
       "      <td>41</td>\n",
       "      <td>42</td>\n",
       "      <td>47</td>\n",
       "      <td>56</td>\n",
       "      <td>64</td>\n",
       "      <td>52</td>\n",
       "      <td>44</td>\n",
       "      <td>51</td>\n",
       "      <td>54</td>\n",
       "      <td>46.0</td>\n",
       "    </tr>\n",
       "    <tr>\n",
       "      <td>...</td>\n",
       "      <td>...</td>\n",
       "      <td>...</td>\n",
       "      <td>...</td>\n",
       "      <td>...</td>\n",
       "      <td>...</td>\n",
       "      <td>...</td>\n",
       "      <td>...</td>\n",
       "      <td>...</td>\n",
       "      <td>...</td>\n",
       "      <td>...</td>\n",
       "      <td>...</td>\n",
       "      <td>...</td>\n",
       "      <td>...</td>\n",
       "    </tr>\n",
       "    <tr>\n",
       "      <td>1495</td>\n",
       "      <td>0</td>\n",
       "      <td>0</td>\n",
       "      <td>0</td>\n",
       "      <td>0</td>\n",
       "      <td>0</td>\n",
       "      <td>0</td>\n",
       "      <td>0</td>\n",
       "      <td>13</td>\n",
       "      <td>82</td>\n",
       "      <td>82</td>\n",
       "      <td>79</td>\n",
       "      <td>84</td>\n",
       "      <td>68.0</td>\n",
       "    </tr>\n",
       "    <tr>\n",
       "      <td>1496</td>\n",
       "      <td>9</td>\n",
       "      <td>45</td>\n",
       "      <td>46</td>\n",
       "      <td>49</td>\n",
       "      <td>40</td>\n",
       "      <td>35</td>\n",
       "      <td>42</td>\n",
       "      <td>41</td>\n",
       "      <td>29</td>\n",
       "      <td>35</td>\n",
       "      <td>46</td>\n",
       "      <td>51</td>\n",
       "      <td>39.0</td>\n",
       "    </tr>\n",
       "    <tr>\n",
       "      <td>1497</td>\n",
       "      <td>0</td>\n",
       "      <td>0</td>\n",
       "      <td>0</td>\n",
       "      <td>0</td>\n",
       "      <td>0</td>\n",
       "      <td>0</td>\n",
       "      <td>0</td>\n",
       "      <td>0</td>\n",
       "      <td>0</td>\n",
       "      <td>20</td>\n",
       "      <td>14</td>\n",
       "      <td>17</td>\n",
       "      <td>17.0</td>\n",
       "    </tr>\n",
       "    <tr>\n",
       "      <td>1498</td>\n",
       "      <td>0</td>\n",
       "      <td>0</td>\n",
       "      <td>0</td>\n",
       "      <td>0</td>\n",
       "      <td>0</td>\n",
       "      <td>0</td>\n",
       "      <td>20</td>\n",
       "      <td>62</td>\n",
       "      <td>44</td>\n",
       "      <td>42</td>\n",
       "      <td>0</td>\n",
       "      <td>0</td>\n",
       "      <td>42.0</td>\n",
       "    </tr>\n",
       "    <tr>\n",
       "      <td>1499</td>\n",
       "      <td>0</td>\n",
       "      <td>0</td>\n",
       "      <td>0</td>\n",
       "      <td>0</td>\n",
       "      <td>0</td>\n",
       "      <td>0</td>\n",
       "      <td>0</td>\n",
       "      <td>0</td>\n",
       "      <td>11</td>\n",
       "      <td>48</td>\n",
       "      <td>59</td>\n",
       "      <td>66</td>\n",
       "      <td>46.0</td>\n",
       "    </tr>\n",
       "  </tbody>\n",
       "</table>\n",
       "<p>426 rows × 13 columns</p>\n",
       "</div>"
      ],
      "text/plain": [
       "         jan  feb  mar  apr  may  jun  jul  aug  sep  oct  nov  dec   mean\n",
       "user_id                                                                   \n",
       "1000       0    0    0    0   22   60   75   81   57   73   58   70   62.0\n",
       "1002       0    0    0    0    0    4   11   13    4   10   16   12   10.0\n",
       "1003       0    0    0    0    0    0    0   37   91   83   94   75   76.0\n",
       "1004       0    0    0    0   95  134  181  151  146  165  158  162  149.0\n",
       "1005       7   38   56   41   42   47   56   64   52   44   51   54   46.0\n",
       "...      ...  ...  ...  ...  ...  ...  ...  ...  ...  ...  ...  ...    ...\n",
       "1495       0    0    0    0    0    0    0   13   82   82   79   84   68.0\n",
       "1496       9   45   46   49   40   35   42   41   29   35   46   51   39.0\n",
       "1497       0    0    0    0    0    0    0    0    0   20   14   17   17.0\n",
       "1498       0    0    0    0    0    0   20   62   44   42    0    0   42.0\n",
       "1499       0    0    0    0    0    0    0    0   11   48   59   66   46.0\n",
       "\n",
       "[426 rows x 13 columns]"
      ]
     },
     "execution_count": 20,
     "metadata": {},
     "output_type": "execute_result"
    }
   ],
   "source": [
    "messages_monthly = messages.pivot_table(index='user_id', values='id', columns='message_month', aggfunc=['count']).fillna(0).astype('int')\n",
    "messages_monthly.columns = month_names\n",
    "messages_monthly['mean'] = messages_monthly[messages_monthly.loc[:, 'jan':'dec'] != 0].mean(axis=1)\n",
    "messages_monthly"
   ]
  },
  {
   "cell_type": "markdown",
   "metadata": {},
   "source": [
    "<b>Объем израсходованного интернет-трафика:</b>"
   ]
  },
  {
   "cell_type": "code",
   "execution_count": 21,
   "metadata": {
    "scrolled": false
   },
   "outputs": [
    {
     "data": {
      "text/html": [
       "<div>\n",
       "<style scoped>\n",
       "    .dataframe tbody tr th:only-of-type {\n",
       "        vertical-align: middle;\n",
       "    }\n",
       "\n",
       "    .dataframe tbody tr th {\n",
       "        vertical-align: top;\n",
       "    }\n",
       "\n",
       "    .dataframe thead th {\n",
       "        text-align: right;\n",
       "    }\n",
       "</style>\n",
       "<table border=\"1\" class=\"dataframe\">\n",
       "  <thead>\n",
       "    <tr style=\"text-align: right;\">\n",
       "      <th></th>\n",
       "      <th>jan</th>\n",
       "      <th>feb</th>\n",
       "      <th>mar</th>\n",
       "      <th>apr</th>\n",
       "      <th>may</th>\n",
       "      <th>jun</th>\n",
       "      <th>jul</th>\n",
       "      <th>aug</th>\n",
       "      <th>sep</th>\n",
       "      <th>oct</th>\n",
       "      <th>nov</th>\n",
       "      <th>dec</th>\n",
       "      <th>mean</th>\n",
       "    </tr>\n",
       "    <tr>\n",
       "      <th>user_id</th>\n",
       "      <th></th>\n",
       "      <th></th>\n",
       "      <th></th>\n",
       "      <th></th>\n",
       "      <th></th>\n",
       "      <th></th>\n",
       "      <th></th>\n",
       "      <th></th>\n",
       "      <th></th>\n",
       "      <th></th>\n",
       "      <th></th>\n",
       "      <th></th>\n",
       "      <th></th>\n",
       "    </tr>\n",
       "  </thead>\n",
       "  <tbody>\n",
       "    <tr>\n",
       "      <td>1000</td>\n",
       "      <td>0</td>\n",
       "      <td>0</td>\n",
       "      <td>0</td>\n",
       "      <td>0</td>\n",
       "      <td>3</td>\n",
       "      <td>23</td>\n",
       "      <td>14</td>\n",
       "      <td>14</td>\n",
       "      <td>15</td>\n",
       "      <td>15</td>\n",
       "      <td>15</td>\n",
       "      <td>10</td>\n",
       "      <td>13.625000</td>\n",
       "    </tr>\n",
       "    <tr>\n",
       "      <td>1001</td>\n",
       "      <td>0</td>\n",
       "      <td>0</td>\n",
       "      <td>0</td>\n",
       "      <td>0</td>\n",
       "      <td>0</td>\n",
       "      <td>0</td>\n",
       "      <td>0</td>\n",
       "      <td>0</td>\n",
       "      <td>0</td>\n",
       "      <td>0</td>\n",
       "      <td>18</td>\n",
       "      <td>14</td>\n",
       "      <td>16.000000</td>\n",
       "    </tr>\n",
       "    <tr>\n",
       "      <td>1002</td>\n",
       "      <td>0</td>\n",
       "      <td>0</td>\n",
       "      <td>0</td>\n",
       "      <td>0</td>\n",
       "      <td>0</td>\n",
       "      <td>11</td>\n",
       "      <td>18</td>\n",
       "      <td>20</td>\n",
       "      <td>17</td>\n",
       "      <td>14</td>\n",
       "      <td>19</td>\n",
       "      <td>18</td>\n",
       "      <td>16.714286</td>\n",
       "    </tr>\n",
       "    <tr>\n",
       "      <td>1003</td>\n",
       "      <td>0</td>\n",
       "      <td>0</td>\n",
       "      <td>0</td>\n",
       "      <td>0</td>\n",
       "      <td>0</td>\n",
       "      <td>0</td>\n",
       "      <td>0</td>\n",
       "      <td>9</td>\n",
       "      <td>13</td>\n",
       "      <td>15</td>\n",
       "      <td>12</td>\n",
       "      <td>10</td>\n",
       "      <td>11.800000</td>\n",
       "    </tr>\n",
       "    <tr>\n",
       "      <td>1004</td>\n",
       "      <td>0</td>\n",
       "      <td>0</td>\n",
       "      <td>0</td>\n",
       "      <td>0</td>\n",
       "      <td>14</td>\n",
       "      <td>18</td>\n",
       "      <td>22</td>\n",
       "      <td>28</td>\n",
       "      <td>15</td>\n",
       "      <td>19</td>\n",
       "      <td>16</td>\n",
       "      <td>18</td>\n",
       "      <td>18.750000</td>\n",
       "    </tr>\n",
       "    <tr>\n",
       "      <td>...</td>\n",
       "      <td>...</td>\n",
       "      <td>...</td>\n",
       "      <td>...</td>\n",
       "      <td>...</td>\n",
       "      <td>...</td>\n",
       "      <td>...</td>\n",
       "      <td>...</td>\n",
       "      <td>...</td>\n",
       "      <td>...</td>\n",
       "      <td>...</td>\n",
       "      <td>...</td>\n",
       "      <td>...</td>\n",
       "      <td>...</td>\n",
       "    </tr>\n",
       "    <tr>\n",
       "      <td>1495</td>\n",
       "      <td>0</td>\n",
       "      <td>0</td>\n",
       "      <td>0</td>\n",
       "      <td>0</td>\n",
       "      <td>0</td>\n",
       "      <td>0</td>\n",
       "      <td>0</td>\n",
       "      <td>3</td>\n",
       "      <td>33</td>\n",
       "      <td>29</td>\n",
       "      <td>39</td>\n",
       "      <td>23</td>\n",
       "      <td>25.400000</td>\n",
       "    </tr>\n",
       "    <tr>\n",
       "      <td>1496</td>\n",
       "      <td>4</td>\n",
       "      <td>28</td>\n",
       "      <td>25</td>\n",
       "      <td>21</td>\n",
       "      <td>24</td>\n",
       "      <td>20</td>\n",
       "      <td>24</td>\n",
       "      <td>23</td>\n",
       "      <td>27</td>\n",
       "      <td>28</td>\n",
       "      <td>25</td>\n",
       "      <td>21</td>\n",
       "      <td>22.500000</td>\n",
       "    </tr>\n",
       "    <tr>\n",
       "      <td>1497</td>\n",
       "      <td>0</td>\n",
       "      <td>0</td>\n",
       "      <td>0</td>\n",
       "      <td>0</td>\n",
       "      <td>0</td>\n",
       "      <td>0</td>\n",
       "      <td>0</td>\n",
       "      <td>0</td>\n",
       "      <td>0</td>\n",
       "      <td>12</td>\n",
       "      <td>14</td>\n",
       "      <td>20</td>\n",
       "      <td>15.333333</td>\n",
       "    </tr>\n",
       "    <tr>\n",
       "      <td>1498</td>\n",
       "      <td>0</td>\n",
       "      <td>0</td>\n",
       "      <td>0</td>\n",
       "      <td>0</td>\n",
       "      <td>0</td>\n",
       "      <td>0</td>\n",
       "      <td>8</td>\n",
       "      <td>24</td>\n",
       "      <td>22</td>\n",
       "      <td>21</td>\n",
       "      <td>0</td>\n",
       "      <td>0</td>\n",
       "      <td>18.750000</td>\n",
       "    </tr>\n",
       "    <tr>\n",
       "      <td>1499</td>\n",
       "      <td>0</td>\n",
       "      <td>0</td>\n",
       "      <td>0</td>\n",
       "      <td>0</td>\n",
       "      <td>0</td>\n",
       "      <td>0</td>\n",
       "      <td>0</td>\n",
       "      <td>0</td>\n",
       "      <td>2</td>\n",
       "      <td>18</td>\n",
       "      <td>18</td>\n",
       "      <td>13</td>\n",
       "      <td>12.750000</td>\n",
       "    </tr>\n",
       "  </tbody>\n",
       "</table>\n",
       "<p>497 rows × 13 columns</p>\n",
       "</div>"
      ],
      "text/plain": [
       "         jan  feb  mar  apr  may  jun  jul  aug  sep  oct  nov  dec       mean\n",
       "user_id                                                                       \n",
       "1000       0    0    0    0    3   23   14   14   15   15   15   10  13.625000\n",
       "1001       0    0    0    0    0    0    0    0    0    0   18   14  16.000000\n",
       "1002       0    0    0    0    0   11   18   20   17   14   19   18  16.714286\n",
       "1003       0    0    0    0    0    0    0    9   13   15   12   10  11.800000\n",
       "1004       0    0    0    0   14   18   22   28   15   19   16   18  18.750000\n",
       "...      ...  ...  ...  ...  ...  ...  ...  ...  ...  ...  ...  ...        ...\n",
       "1495       0    0    0    0    0    0    0    3   33   29   39   23  25.400000\n",
       "1496       4   28   25   21   24   20   24   23   27   28   25   21  22.500000\n",
       "1497       0    0    0    0    0    0    0    0    0   12   14   20  15.333333\n",
       "1498       0    0    0    0    0    0    8   24   22   21    0    0  18.750000\n",
       "1499       0    0    0    0    0    0    0    0    2   18   18   13  12.750000\n",
       "\n",
       "[497 rows x 13 columns]"
      ]
     },
     "execution_count": 21,
     "metadata": {},
     "output_type": "execute_result"
    }
   ],
   "source": [
    "internet_monthly = internet.pivot_table(index='user_id', values='gb_used', columns='session_month', aggfunc=['sum']).fillna(0).apply(np.ceil).astype('int')\n",
    "internet_monthly.columns = month_names\n",
    "internet_monthly['mean'] = internet_monthly[internet_monthly.loc[:, 'jan':'dec'] != 0].mean(axis=1)\n",
    "internet_monthly"
   ]
  },
  {
   "cell_type": "markdown",
   "metadata": {},
   "source": [
    "Эти датасеты пригодятся нам для анализа расхода минут/сообщений/гигабайт траффика в дальнейшем.\n",
    "\n",
    "Имея датасеты использования минут, сообщений и гигабайт по месяцам по каждому пользователю, мы можем посчитать, какую выручку принес каждый пользователь в каждый конкретный месяц.\n",
    "\n",
    "---\n",
    "\n",
    "<b>Посчитаем расходы каждого пользователя на минуты разговоров сверх лимита, заложенного в тарифе.</b>\n",
    "\n",
    "Создадим новый датасет duration_monthly_tariffed.\n",
    "\n",
    "Сначала к датасету duration_monthly с общими продолжительностями разговоров добавим информацию о тарифе каждого пользователя. Для этого мы объеденим датасеты duration_monthly и users, а затем удалим ненужные нам столбцы (все, кроме названия тарифа)."
   ]
  },
  {
   "cell_type": "code",
   "execution_count": 22,
   "metadata": {},
   "outputs": [],
   "source": [
    "duration_monthly_tariffed = duration_monthly.merge(users, right_index=True, on='user_id').drop(columns=['mean', 'age', 'churn_date', 'city', 'first_name', 'last_name', 'reg_date', 'is_moscow'])"
   ]
  },
  {
   "cell_type": "code",
   "execution_count": 23,
   "metadata": {},
   "outputs": [
    {
     "data": {
      "text/html": [
       "<div>\n",
       "<style scoped>\n",
       "    .dataframe tbody tr th:only-of-type {\n",
       "        vertical-align: middle;\n",
       "    }\n",
       "\n",
       "    .dataframe tbody tr th {\n",
       "        vertical-align: top;\n",
       "    }\n",
       "\n",
       "    .dataframe thead th {\n",
       "        text-align: right;\n",
       "    }\n",
       "</style>\n",
       "<table border=\"1\" class=\"dataframe\">\n",
       "  <thead>\n",
       "    <tr style=\"text-align: right;\">\n",
       "      <th></th>\n",
       "      <th>jan</th>\n",
       "      <th>feb</th>\n",
       "      <th>mar</th>\n",
       "      <th>apr</th>\n",
       "      <th>may</th>\n",
       "      <th>jun</th>\n",
       "      <th>jul</th>\n",
       "      <th>aug</th>\n",
       "      <th>sep</th>\n",
       "      <th>oct</th>\n",
       "      <th>nov</th>\n",
       "      <th>dec</th>\n",
       "      <th>tariff</th>\n",
       "    </tr>\n",
       "    <tr>\n",
       "      <th>user_id</th>\n",
       "      <th></th>\n",
       "      <th></th>\n",
       "      <th></th>\n",
       "      <th></th>\n",
       "      <th></th>\n",
       "      <th></th>\n",
       "      <th></th>\n",
       "      <th></th>\n",
       "      <th></th>\n",
       "      <th></th>\n",
       "      <th></th>\n",
       "      <th></th>\n",
       "      <th></th>\n",
       "    </tr>\n",
       "  </thead>\n",
       "  <tbody>\n",
       "    <tr>\n",
       "      <td>1000</td>\n",
       "      <td>0</td>\n",
       "      <td>0</td>\n",
       "      <td>0</td>\n",
       "      <td>0</td>\n",
       "      <td>159</td>\n",
       "      <td>172</td>\n",
       "      <td>340</td>\n",
       "      <td>408</td>\n",
       "      <td>466</td>\n",
       "      <td>350</td>\n",
       "      <td>338</td>\n",
       "      <td>333</td>\n",
       "      <td>ultra</td>\n",
       "    </tr>\n",
       "    <tr>\n",
       "      <td>1001</td>\n",
       "      <td>0</td>\n",
       "      <td>0</td>\n",
       "      <td>0</td>\n",
       "      <td>0</td>\n",
       "      <td>0</td>\n",
       "      <td>0</td>\n",
       "      <td>0</td>\n",
       "      <td>0</td>\n",
       "      <td>0</td>\n",
       "      <td>0</td>\n",
       "      <td>430</td>\n",
       "      <td>414</td>\n",
       "      <td>smart</td>\n",
       "    </tr>\n",
       "    <tr>\n",
       "      <td>1002</td>\n",
       "      <td>0</td>\n",
       "      <td>0</td>\n",
       "      <td>0</td>\n",
       "      <td>0</td>\n",
       "      <td>0</td>\n",
       "      <td>117</td>\n",
       "      <td>214</td>\n",
       "      <td>289</td>\n",
       "      <td>206</td>\n",
       "      <td>212</td>\n",
       "      <td>243</td>\n",
       "      <td>236</td>\n",
       "      <td>smart</td>\n",
       "    </tr>\n",
       "    <tr>\n",
       "      <td>1003</td>\n",
       "      <td>0</td>\n",
       "      <td>0</td>\n",
       "      <td>0</td>\n",
       "      <td>0</td>\n",
       "      <td>0</td>\n",
       "      <td>0</td>\n",
       "      <td>0</td>\n",
       "      <td>380</td>\n",
       "      <td>961</td>\n",
       "      <td>855</td>\n",
       "      <td>824</td>\n",
       "      <td>802</td>\n",
       "      <td>ultra</td>\n",
       "    </tr>\n",
       "    <tr>\n",
       "      <td>1004</td>\n",
       "      <td>0</td>\n",
       "      <td>0</td>\n",
       "      <td>0</td>\n",
       "      <td>0</td>\n",
       "      <td>35</td>\n",
       "      <td>171</td>\n",
       "      <td>135</td>\n",
       "      <td>137</td>\n",
       "      <td>117</td>\n",
       "      <td>145</td>\n",
       "      <td>117</td>\n",
       "      <td>130</td>\n",
       "      <td>ultra</td>\n",
       "    </tr>\n",
       "    <tr>\n",
       "      <td>...</td>\n",
       "      <td>...</td>\n",
       "      <td>...</td>\n",
       "      <td>...</td>\n",
       "      <td>...</td>\n",
       "      <td>...</td>\n",
       "      <td>...</td>\n",
       "      <td>...</td>\n",
       "      <td>...</td>\n",
       "      <td>...</td>\n",
       "      <td>...</td>\n",
       "      <td>...</td>\n",
       "      <td>...</td>\n",
       "      <td>...</td>\n",
       "    </tr>\n",
       "    <tr>\n",
       "      <td>1495</td>\n",
       "      <td>0</td>\n",
       "      <td>0</td>\n",
       "      <td>0</td>\n",
       "      <td>0</td>\n",
       "      <td>0</td>\n",
       "      <td>0</td>\n",
       "      <td>0</td>\n",
       "      <td>92</td>\n",
       "      <td>813</td>\n",
       "      <td>1030</td>\n",
       "      <td>954</td>\n",
       "      <td>1031</td>\n",
       "      <td>ultra</td>\n",
       "    </tr>\n",
       "    <tr>\n",
       "      <td>1496</td>\n",
       "      <td>48</td>\n",
       "      <td>594</td>\n",
       "      <td>557</td>\n",
       "      <td>521</td>\n",
       "      <td>484</td>\n",
       "      <td>555</td>\n",
       "      <td>582</td>\n",
       "      <td>527</td>\n",
       "      <td>486</td>\n",
       "      <td>450</td>\n",
       "      <td>662</td>\n",
       "      <td>518</td>\n",
       "      <td>smart</td>\n",
       "    </tr>\n",
       "    <tr>\n",
       "      <td>1497</td>\n",
       "      <td>0</td>\n",
       "      <td>0</td>\n",
       "      <td>0</td>\n",
       "      <td>0</td>\n",
       "      <td>0</td>\n",
       "      <td>0</td>\n",
       "      <td>0</td>\n",
       "      <td>0</td>\n",
       "      <td>0</td>\n",
       "      <td>490</td>\n",
       "      <td>371</td>\n",
       "      <td>545</td>\n",
       "      <td>smart</td>\n",
       "    </tr>\n",
       "    <tr>\n",
       "      <td>1498</td>\n",
       "      <td>0</td>\n",
       "      <td>0</td>\n",
       "      <td>0</td>\n",
       "      <td>0</td>\n",
       "      <td>0</td>\n",
       "      <td>0</td>\n",
       "      <td>175</td>\n",
       "      <td>400</td>\n",
       "      <td>471</td>\n",
       "      <td>247</td>\n",
       "      <td>0</td>\n",
       "      <td>0</td>\n",
       "      <td>smart</td>\n",
       "    </tr>\n",
       "    <tr>\n",
       "      <td>1499</td>\n",
       "      <td>0</td>\n",
       "      <td>0</td>\n",
       "      <td>0</td>\n",
       "      <td>0</td>\n",
       "      <td>0</td>\n",
       "      <td>0</td>\n",
       "      <td>0</td>\n",
       "      <td>0</td>\n",
       "      <td>70</td>\n",
       "      <td>449</td>\n",
       "      <td>612</td>\n",
       "      <td>492</td>\n",
       "      <td>smart</td>\n",
       "    </tr>\n",
       "  </tbody>\n",
       "</table>\n",
       "<p>492 rows × 13 columns</p>\n",
       "</div>"
      ],
      "text/plain": [
       "         jan  feb  mar  apr  may  jun  jul  aug  sep   oct  nov   dec tariff\n",
       "user_id                                                                     \n",
       "1000       0    0    0    0  159  172  340  408  466   350  338   333  ultra\n",
       "1001       0    0    0    0    0    0    0    0    0     0  430   414  smart\n",
       "1002       0    0    0    0    0  117  214  289  206   212  243   236  smart\n",
       "1003       0    0    0    0    0    0    0  380  961   855  824   802  ultra\n",
       "1004       0    0    0    0   35  171  135  137  117   145  117   130  ultra\n",
       "...      ...  ...  ...  ...  ...  ...  ...  ...  ...   ...  ...   ...    ...\n",
       "1495       0    0    0    0    0    0    0   92  813  1030  954  1031  ultra\n",
       "1496      48  594  557  521  484  555  582  527  486   450  662   518  smart\n",
       "1497       0    0    0    0    0    0    0    0    0   490  371   545  smart\n",
       "1498       0    0    0    0    0    0  175  400  471   247    0     0  smart\n",
       "1499       0    0    0    0    0    0    0    0   70   449  612   492  smart\n",
       "\n",
       "[492 rows x 13 columns]"
      ]
     },
     "execution_count": 23,
     "metadata": {},
     "output_type": "execute_result"
    }
   ],
   "source": [
    "duration_monthly_tariffed"
   ]
  },
  {
   "cell_type": "markdown",
   "metadata": {},
   "source": [
    "После этого, уже имея название тарифа, добавим информацию о лимите количества минут входящих в тариф и стоимости минут сверх лимита для каждого пользователя. Удалим информацию о названии тарифа и о количестве и стоимости сообщений и гигабайтов, ведь сейчас мы считаем перерасход минут звонков и эти данные нам не понадобятся."
   ]
  },
  {
   "cell_type": "code",
   "execution_count": 24,
   "metadata": {},
   "outputs": [],
   "source": [
    "duration_monthly_tariffed =  duration_monthly_tariffed.merge(tariffs, right_index=True, on='tariff').drop(columns=['tariff', 'messages_included', 'gb_included', 'rub_monthly_fee', 'rub_per_gb', 'rub_per_message'])"
   ]
  },
  {
   "cell_type": "code",
   "execution_count": 25,
   "metadata": {
    "scrolled": false
   },
   "outputs": [
    {
     "data": {
      "text/html": [
       "<div>\n",
       "<style scoped>\n",
       "    .dataframe tbody tr th:only-of-type {\n",
       "        vertical-align: middle;\n",
       "    }\n",
       "\n",
       "    .dataframe tbody tr th {\n",
       "        vertical-align: top;\n",
       "    }\n",
       "\n",
       "    .dataframe thead th {\n",
       "        text-align: right;\n",
       "    }\n",
       "</style>\n",
       "<table border=\"1\" class=\"dataframe\">\n",
       "  <thead>\n",
       "    <tr style=\"text-align: right;\">\n",
       "      <th></th>\n",
       "      <th>jan</th>\n",
       "      <th>feb</th>\n",
       "      <th>mar</th>\n",
       "      <th>apr</th>\n",
       "      <th>may</th>\n",
       "      <th>jun</th>\n",
       "      <th>jul</th>\n",
       "      <th>aug</th>\n",
       "      <th>sep</th>\n",
       "      <th>oct</th>\n",
       "      <th>nov</th>\n",
       "      <th>dec</th>\n",
       "      <th>minutes_included</th>\n",
       "      <th>rub_per_minute</th>\n",
       "    </tr>\n",
       "    <tr>\n",
       "      <th>user_id</th>\n",
       "      <th></th>\n",
       "      <th></th>\n",
       "      <th></th>\n",
       "      <th></th>\n",
       "      <th></th>\n",
       "      <th></th>\n",
       "      <th></th>\n",
       "      <th></th>\n",
       "      <th></th>\n",
       "      <th></th>\n",
       "      <th></th>\n",
       "      <th></th>\n",
       "      <th></th>\n",
       "      <th></th>\n",
       "    </tr>\n",
       "  </thead>\n",
       "  <tbody>\n",
       "    <tr>\n",
       "      <td>1000</td>\n",
       "      <td>0</td>\n",
       "      <td>0</td>\n",
       "      <td>0</td>\n",
       "      <td>0</td>\n",
       "      <td>159</td>\n",
       "      <td>172</td>\n",
       "      <td>340</td>\n",
       "      <td>408</td>\n",
       "      <td>466</td>\n",
       "      <td>350</td>\n",
       "      <td>338</td>\n",
       "      <td>333</td>\n",
       "      <td>3000</td>\n",
       "      <td>1</td>\n",
       "    </tr>\n",
       "    <tr>\n",
       "      <td>1003</td>\n",
       "      <td>0</td>\n",
       "      <td>0</td>\n",
       "      <td>0</td>\n",
       "      <td>0</td>\n",
       "      <td>0</td>\n",
       "      <td>0</td>\n",
       "      <td>0</td>\n",
       "      <td>380</td>\n",
       "      <td>961</td>\n",
       "      <td>855</td>\n",
       "      <td>824</td>\n",
       "      <td>802</td>\n",
       "      <td>3000</td>\n",
       "      <td>1</td>\n",
       "    </tr>\n",
       "    <tr>\n",
       "      <td>1004</td>\n",
       "      <td>0</td>\n",
       "      <td>0</td>\n",
       "      <td>0</td>\n",
       "      <td>0</td>\n",
       "      <td>35</td>\n",
       "      <td>171</td>\n",
       "      <td>135</td>\n",
       "      <td>137</td>\n",
       "      <td>117</td>\n",
       "      <td>145</td>\n",
       "      <td>117</td>\n",
       "      <td>130</td>\n",
       "      <td>3000</td>\n",
       "      <td>1</td>\n",
       "    </tr>\n",
       "    <tr>\n",
       "      <td>1013</td>\n",
       "      <td>0</td>\n",
       "      <td>0</td>\n",
       "      <td>0</td>\n",
       "      <td>0</td>\n",
       "      <td>0</td>\n",
       "      <td>0</td>\n",
       "      <td>0</td>\n",
       "      <td>0</td>\n",
       "      <td>0</td>\n",
       "      <td>0</td>\n",
       "      <td>369</td>\n",
       "      <td>567</td>\n",
       "      <td>3000</td>\n",
       "      <td>1</td>\n",
       "    </tr>\n",
       "    <tr>\n",
       "      <td>1016</td>\n",
       "      <td>0</td>\n",
       "      <td>0</td>\n",
       "      <td>0</td>\n",
       "      <td>0</td>\n",
       "      <td>0</td>\n",
       "      <td>0</td>\n",
       "      <td>0</td>\n",
       "      <td>0</td>\n",
       "      <td>0</td>\n",
       "      <td>0</td>\n",
       "      <td>28</td>\n",
       "      <td>94</td>\n",
       "      <td>3000</td>\n",
       "      <td>1</td>\n",
       "    </tr>\n",
       "    <tr>\n",
       "      <td>...</td>\n",
       "      <td>...</td>\n",
       "      <td>...</td>\n",
       "      <td>...</td>\n",
       "      <td>...</td>\n",
       "      <td>...</td>\n",
       "      <td>...</td>\n",
       "      <td>...</td>\n",
       "      <td>...</td>\n",
       "      <td>...</td>\n",
       "      <td>...</td>\n",
       "      <td>...</td>\n",
       "      <td>...</td>\n",
       "      <td>...</td>\n",
       "      <td>...</td>\n",
       "    </tr>\n",
       "    <tr>\n",
       "      <td>1494</td>\n",
       "      <td>0</td>\n",
       "      <td>0</td>\n",
       "      <td>0</td>\n",
       "      <td>0</td>\n",
       "      <td>0</td>\n",
       "      <td>0</td>\n",
       "      <td>0</td>\n",
       "      <td>262</td>\n",
       "      <td>501</td>\n",
       "      <td>354</td>\n",
       "      <td>411</td>\n",
       "      <td>418</td>\n",
       "      <td>500</td>\n",
       "      <td>3</td>\n",
       "    </tr>\n",
       "    <tr>\n",
       "      <td>1496</td>\n",
       "      <td>48</td>\n",
       "      <td>594</td>\n",
       "      <td>557</td>\n",
       "      <td>521</td>\n",
       "      <td>484</td>\n",
       "      <td>555</td>\n",
       "      <td>582</td>\n",
       "      <td>527</td>\n",
       "      <td>486</td>\n",
       "      <td>450</td>\n",
       "      <td>662</td>\n",
       "      <td>518</td>\n",
       "      <td>500</td>\n",
       "      <td>3</td>\n",
       "    </tr>\n",
       "    <tr>\n",
       "      <td>1497</td>\n",
       "      <td>0</td>\n",
       "      <td>0</td>\n",
       "      <td>0</td>\n",
       "      <td>0</td>\n",
       "      <td>0</td>\n",
       "      <td>0</td>\n",
       "      <td>0</td>\n",
       "      <td>0</td>\n",
       "      <td>0</td>\n",
       "      <td>490</td>\n",
       "      <td>371</td>\n",
       "      <td>545</td>\n",
       "      <td>500</td>\n",
       "      <td>3</td>\n",
       "    </tr>\n",
       "    <tr>\n",
       "      <td>1498</td>\n",
       "      <td>0</td>\n",
       "      <td>0</td>\n",
       "      <td>0</td>\n",
       "      <td>0</td>\n",
       "      <td>0</td>\n",
       "      <td>0</td>\n",
       "      <td>175</td>\n",
       "      <td>400</td>\n",
       "      <td>471</td>\n",
       "      <td>247</td>\n",
       "      <td>0</td>\n",
       "      <td>0</td>\n",
       "      <td>500</td>\n",
       "      <td>3</td>\n",
       "    </tr>\n",
       "    <tr>\n",
       "      <td>1499</td>\n",
       "      <td>0</td>\n",
       "      <td>0</td>\n",
       "      <td>0</td>\n",
       "      <td>0</td>\n",
       "      <td>0</td>\n",
       "      <td>0</td>\n",
       "      <td>0</td>\n",
       "      <td>0</td>\n",
       "      <td>70</td>\n",
       "      <td>449</td>\n",
       "      <td>612</td>\n",
       "      <td>492</td>\n",
       "      <td>500</td>\n",
       "      <td>3</td>\n",
       "    </tr>\n",
       "  </tbody>\n",
       "</table>\n",
       "<p>492 rows × 14 columns</p>\n",
       "</div>"
      ],
      "text/plain": [
       "         jan  feb  mar  apr  may  jun  jul  aug  sep  oct  nov  dec  \\\n",
       "user_id                                                               \n",
       "1000       0    0    0    0  159  172  340  408  466  350  338  333   \n",
       "1003       0    0    0    0    0    0    0  380  961  855  824  802   \n",
       "1004       0    0    0    0   35  171  135  137  117  145  117  130   \n",
       "1013       0    0    0    0    0    0    0    0    0    0  369  567   \n",
       "1016       0    0    0    0    0    0    0    0    0    0   28   94   \n",
       "...      ...  ...  ...  ...  ...  ...  ...  ...  ...  ...  ...  ...   \n",
       "1494       0    0    0    0    0    0    0  262  501  354  411  418   \n",
       "1496      48  594  557  521  484  555  582  527  486  450  662  518   \n",
       "1497       0    0    0    0    0    0    0    0    0  490  371  545   \n",
       "1498       0    0    0    0    0    0  175  400  471  247    0    0   \n",
       "1499       0    0    0    0    0    0    0    0   70  449  612  492   \n",
       "\n",
       "         minutes_included  rub_per_minute  \n",
       "user_id                                    \n",
       "1000                 3000               1  \n",
       "1003                 3000               1  \n",
       "1004                 3000               1  \n",
       "1013                 3000               1  \n",
       "1016                 3000               1  \n",
       "...                   ...             ...  \n",
       "1494                  500               3  \n",
       "1496                  500               3  \n",
       "1497                  500               3  \n",
       "1498                  500               3  \n",
       "1499                  500               3  \n",
       "\n",
       "[492 rows x 14 columns]"
      ]
     },
     "execution_count": 25,
     "metadata": {},
     "output_type": "execute_result"
    }
   ],
   "source": [
    "duration_monthly_tariffed"
   ]
  },
  {
   "cell_type": "markdown",
   "metadata": {},
   "source": [
    "Далее создадим цикл, который будет перебирать каждую ячейку (расход минут в конкретный месяц для каждого конкретного пользователя) и сравнивать значение с количеством минут, входящим в тарифный план данного пользователя. После сравнения цикл будет перезаписывать в ячейку объем использованных данных сверх лимита. \n",
    "\n",
    "Логика заполнения датасета следующая:  \n",
    "Если пользователь не вышел за лимит минут в этом месяце, то в новую ячейку будет записан 0, если же у пользователя произошел перерасход, то в ячейку будет записано количество минут, которые пользователь израсходовал сверх лимита.\n",
    "\n",
    "После этого отбросим столбец с ежемесячным лимитом минут, далее он нам не понадобится."
   ]
  },
  {
   "cell_type": "code",
   "execution_count": 26,
   "metadata": {},
   "outputs": [],
   "source": [
    "for row in duration_monthly_tariffed.index:\n",
    "    for column in month_names:\n",
    "        if duration_monthly_tariffed.loc[row, 'minutes_included'] - duration_monthly_tariffed.loc[row, column] >= 0:\n",
    "            duration_monthly_tariffed.loc[row, column] = 0\n",
    "        if duration_monthly_tariffed.loc[row, 'minutes_included'] - duration_monthly_tariffed.loc[row, column] < 0:\n",
    "            duration_monthly_tariffed.loc[row, column] = duration_monthly_tariffed.loc[row, 'minutes_included'] - duration_monthly_tariffed.loc[row, column]\n",
    "duration_monthly_tariffed.loc[:, 'jan':'dec'] = duration_monthly_tariffed.loc[:, 'jan':'dec'].abs()\n",
    "duration_monthly_tariffed = duration_monthly_tariffed.drop(columns='minutes_included')"
   ]
  },
  {
   "cell_type": "code",
   "execution_count": 27,
   "metadata": {},
   "outputs": [
    {
     "data": {
      "text/html": [
       "<div>\n",
       "<style scoped>\n",
       "    .dataframe tbody tr th:only-of-type {\n",
       "        vertical-align: middle;\n",
       "    }\n",
       "\n",
       "    .dataframe tbody tr th {\n",
       "        vertical-align: top;\n",
       "    }\n",
       "\n",
       "    .dataframe thead th {\n",
       "        text-align: right;\n",
       "    }\n",
       "</style>\n",
       "<table border=\"1\" class=\"dataframe\">\n",
       "  <thead>\n",
       "    <tr style=\"text-align: right;\">\n",
       "      <th></th>\n",
       "      <th>jan</th>\n",
       "      <th>feb</th>\n",
       "      <th>mar</th>\n",
       "      <th>apr</th>\n",
       "      <th>may</th>\n",
       "      <th>jun</th>\n",
       "      <th>jul</th>\n",
       "      <th>aug</th>\n",
       "      <th>sep</th>\n",
       "      <th>oct</th>\n",
       "      <th>nov</th>\n",
       "      <th>dec</th>\n",
       "      <th>rub_per_minute</th>\n",
       "    </tr>\n",
       "    <tr>\n",
       "      <th>user_id</th>\n",
       "      <th></th>\n",
       "      <th></th>\n",
       "      <th></th>\n",
       "      <th></th>\n",
       "      <th></th>\n",
       "      <th></th>\n",
       "      <th></th>\n",
       "      <th></th>\n",
       "      <th></th>\n",
       "      <th></th>\n",
       "      <th></th>\n",
       "      <th></th>\n",
       "      <th></th>\n",
       "    </tr>\n",
       "  </thead>\n",
       "  <tbody>\n",
       "    <tr>\n",
       "      <td>1000</td>\n",
       "      <td>0</td>\n",
       "      <td>0</td>\n",
       "      <td>0</td>\n",
       "      <td>0</td>\n",
       "      <td>0</td>\n",
       "      <td>0</td>\n",
       "      <td>0</td>\n",
       "      <td>0</td>\n",
       "      <td>0</td>\n",
       "      <td>0</td>\n",
       "      <td>0</td>\n",
       "      <td>0</td>\n",
       "      <td>1</td>\n",
       "    </tr>\n",
       "    <tr>\n",
       "      <td>1003</td>\n",
       "      <td>0</td>\n",
       "      <td>0</td>\n",
       "      <td>0</td>\n",
       "      <td>0</td>\n",
       "      <td>0</td>\n",
       "      <td>0</td>\n",
       "      <td>0</td>\n",
       "      <td>0</td>\n",
       "      <td>0</td>\n",
       "      <td>0</td>\n",
       "      <td>0</td>\n",
       "      <td>0</td>\n",
       "      <td>1</td>\n",
       "    </tr>\n",
       "    <tr>\n",
       "      <td>1004</td>\n",
       "      <td>0</td>\n",
       "      <td>0</td>\n",
       "      <td>0</td>\n",
       "      <td>0</td>\n",
       "      <td>0</td>\n",
       "      <td>0</td>\n",
       "      <td>0</td>\n",
       "      <td>0</td>\n",
       "      <td>0</td>\n",
       "      <td>0</td>\n",
       "      <td>0</td>\n",
       "      <td>0</td>\n",
       "      <td>1</td>\n",
       "    </tr>\n",
       "    <tr>\n",
       "      <td>1013</td>\n",
       "      <td>0</td>\n",
       "      <td>0</td>\n",
       "      <td>0</td>\n",
       "      <td>0</td>\n",
       "      <td>0</td>\n",
       "      <td>0</td>\n",
       "      <td>0</td>\n",
       "      <td>0</td>\n",
       "      <td>0</td>\n",
       "      <td>0</td>\n",
       "      <td>0</td>\n",
       "      <td>0</td>\n",
       "      <td>1</td>\n",
       "    </tr>\n",
       "    <tr>\n",
       "      <td>1016</td>\n",
       "      <td>0</td>\n",
       "      <td>0</td>\n",
       "      <td>0</td>\n",
       "      <td>0</td>\n",
       "      <td>0</td>\n",
       "      <td>0</td>\n",
       "      <td>0</td>\n",
       "      <td>0</td>\n",
       "      <td>0</td>\n",
       "      <td>0</td>\n",
       "      <td>0</td>\n",
       "      <td>0</td>\n",
       "      <td>1</td>\n",
       "    </tr>\n",
       "    <tr>\n",
       "      <td>...</td>\n",
       "      <td>...</td>\n",
       "      <td>...</td>\n",
       "      <td>...</td>\n",
       "      <td>...</td>\n",
       "      <td>...</td>\n",
       "      <td>...</td>\n",
       "      <td>...</td>\n",
       "      <td>...</td>\n",
       "      <td>...</td>\n",
       "      <td>...</td>\n",
       "      <td>...</td>\n",
       "      <td>...</td>\n",
       "      <td>...</td>\n",
       "    </tr>\n",
       "    <tr>\n",
       "      <td>1494</td>\n",
       "      <td>0</td>\n",
       "      <td>0</td>\n",
       "      <td>0</td>\n",
       "      <td>0</td>\n",
       "      <td>0</td>\n",
       "      <td>0</td>\n",
       "      <td>0</td>\n",
       "      <td>0</td>\n",
       "      <td>1</td>\n",
       "      <td>0</td>\n",
       "      <td>0</td>\n",
       "      <td>0</td>\n",
       "      <td>3</td>\n",
       "    </tr>\n",
       "    <tr>\n",
       "      <td>1496</td>\n",
       "      <td>0</td>\n",
       "      <td>94</td>\n",
       "      <td>57</td>\n",
       "      <td>21</td>\n",
       "      <td>0</td>\n",
       "      <td>55</td>\n",
       "      <td>82</td>\n",
       "      <td>27</td>\n",
       "      <td>0</td>\n",
       "      <td>0</td>\n",
       "      <td>162</td>\n",
       "      <td>18</td>\n",
       "      <td>3</td>\n",
       "    </tr>\n",
       "    <tr>\n",
       "      <td>1497</td>\n",
       "      <td>0</td>\n",
       "      <td>0</td>\n",
       "      <td>0</td>\n",
       "      <td>0</td>\n",
       "      <td>0</td>\n",
       "      <td>0</td>\n",
       "      <td>0</td>\n",
       "      <td>0</td>\n",
       "      <td>0</td>\n",
       "      <td>0</td>\n",
       "      <td>0</td>\n",
       "      <td>45</td>\n",
       "      <td>3</td>\n",
       "    </tr>\n",
       "    <tr>\n",
       "      <td>1498</td>\n",
       "      <td>0</td>\n",
       "      <td>0</td>\n",
       "      <td>0</td>\n",
       "      <td>0</td>\n",
       "      <td>0</td>\n",
       "      <td>0</td>\n",
       "      <td>0</td>\n",
       "      <td>0</td>\n",
       "      <td>0</td>\n",
       "      <td>0</td>\n",
       "      <td>0</td>\n",
       "      <td>0</td>\n",
       "      <td>3</td>\n",
       "    </tr>\n",
       "    <tr>\n",
       "      <td>1499</td>\n",
       "      <td>0</td>\n",
       "      <td>0</td>\n",
       "      <td>0</td>\n",
       "      <td>0</td>\n",
       "      <td>0</td>\n",
       "      <td>0</td>\n",
       "      <td>0</td>\n",
       "      <td>0</td>\n",
       "      <td>0</td>\n",
       "      <td>0</td>\n",
       "      <td>112</td>\n",
       "      <td>0</td>\n",
       "      <td>3</td>\n",
       "    </tr>\n",
       "  </tbody>\n",
       "</table>\n",
       "<p>492 rows × 13 columns</p>\n",
       "</div>"
      ],
      "text/plain": [
       "         jan  feb  mar  apr  may  jun  jul  aug  sep  oct  nov  dec  \\\n",
       "user_id                                                               \n",
       "1000       0    0    0    0    0    0    0    0    0    0    0    0   \n",
       "1003       0    0    0    0    0    0    0    0    0    0    0    0   \n",
       "1004       0    0    0    0    0    0    0    0    0    0    0    0   \n",
       "1013       0    0    0    0    0    0    0    0    0    0    0    0   \n",
       "1016       0    0    0    0    0    0    0    0    0    0    0    0   \n",
       "...      ...  ...  ...  ...  ...  ...  ...  ...  ...  ...  ...  ...   \n",
       "1494       0    0    0    0    0    0    0    0    1    0    0    0   \n",
       "1496       0   94   57   21    0   55   82   27    0    0  162   18   \n",
       "1497       0    0    0    0    0    0    0    0    0    0    0   45   \n",
       "1498       0    0    0    0    0    0    0    0    0    0    0    0   \n",
       "1499       0    0    0    0    0    0    0    0    0    0  112    0   \n",
       "\n",
       "         rub_per_minute  \n",
       "user_id                  \n",
       "1000                  1  \n",
       "1003                  1  \n",
       "1004                  1  \n",
       "1013                  1  \n",
       "1016                  1  \n",
       "...                 ...  \n",
       "1494                  3  \n",
       "1496                  3  \n",
       "1497                  3  \n",
       "1498                  3  \n",
       "1499                  3  \n",
       "\n",
       "[492 rows x 13 columns]"
      ]
     },
     "execution_count": 27,
     "metadata": {},
     "output_type": "execute_result"
    }
   ],
   "source": [
    "duration_monthly_tariffed"
   ]
  },
  {
   "cell_type": "markdown",
   "metadata": {},
   "source": [
    "Создадим новый цикл, в котором посчитаем, сколько рублей каждый пользователь ежемесячно заплатил за минуты, израсходованные сверх лимита. Для этого перемножим количество минут сверх лимита со стоимостью минуты для каждого пользователя, согласно его тарифа. \n",
    "\n",
    "После выполнения цикла удалим столбец со стоимостью минуты сверх лимита."
   ]
  },
  {
   "cell_type": "code",
   "execution_count": 28,
   "metadata": {},
   "outputs": [],
   "source": [
    "for row in duration_monthly_tariffed.index:\n",
    "    for column in month_names:\n",
    "        duration_monthly_tariffed.loc[row, column] = duration_monthly_tariffed.loc[row, 'rub_per_minute'] * duration_monthly_tariffed.loc[row, column]\n",
    "duration_monthly_tariffed = duration_monthly_tariffed.drop(columns='rub_per_minute')"
   ]
  },
  {
   "cell_type": "code",
   "execution_count": 29,
   "metadata": {},
   "outputs": [
    {
     "data": {
      "text/html": [
       "<div>\n",
       "<style scoped>\n",
       "    .dataframe tbody tr th:only-of-type {\n",
       "        vertical-align: middle;\n",
       "    }\n",
       "\n",
       "    .dataframe tbody tr th {\n",
       "        vertical-align: top;\n",
       "    }\n",
       "\n",
       "    .dataframe thead th {\n",
       "        text-align: right;\n",
       "    }\n",
       "</style>\n",
       "<table border=\"1\" class=\"dataframe\">\n",
       "  <thead>\n",
       "    <tr style=\"text-align: right;\">\n",
       "      <th></th>\n",
       "      <th>jan</th>\n",
       "      <th>feb</th>\n",
       "      <th>mar</th>\n",
       "      <th>apr</th>\n",
       "      <th>may</th>\n",
       "      <th>jun</th>\n",
       "      <th>jul</th>\n",
       "      <th>aug</th>\n",
       "      <th>sep</th>\n",
       "      <th>oct</th>\n",
       "      <th>nov</th>\n",
       "      <th>dec</th>\n",
       "    </tr>\n",
       "    <tr>\n",
       "      <th>user_id</th>\n",
       "      <th></th>\n",
       "      <th></th>\n",
       "      <th></th>\n",
       "      <th></th>\n",
       "      <th></th>\n",
       "      <th></th>\n",
       "      <th></th>\n",
       "      <th></th>\n",
       "      <th></th>\n",
       "      <th></th>\n",
       "      <th></th>\n",
       "      <th></th>\n",
       "    </tr>\n",
       "  </thead>\n",
       "  <tbody>\n",
       "    <tr>\n",
       "      <td>1000</td>\n",
       "      <td>0</td>\n",
       "      <td>0</td>\n",
       "      <td>0</td>\n",
       "      <td>0</td>\n",
       "      <td>0</td>\n",
       "      <td>0</td>\n",
       "      <td>0</td>\n",
       "      <td>0</td>\n",
       "      <td>0</td>\n",
       "      <td>0</td>\n",
       "      <td>0</td>\n",
       "      <td>0</td>\n",
       "    </tr>\n",
       "    <tr>\n",
       "      <td>1003</td>\n",
       "      <td>0</td>\n",
       "      <td>0</td>\n",
       "      <td>0</td>\n",
       "      <td>0</td>\n",
       "      <td>0</td>\n",
       "      <td>0</td>\n",
       "      <td>0</td>\n",
       "      <td>0</td>\n",
       "      <td>0</td>\n",
       "      <td>0</td>\n",
       "      <td>0</td>\n",
       "      <td>0</td>\n",
       "    </tr>\n",
       "    <tr>\n",
       "      <td>1004</td>\n",
       "      <td>0</td>\n",
       "      <td>0</td>\n",
       "      <td>0</td>\n",
       "      <td>0</td>\n",
       "      <td>0</td>\n",
       "      <td>0</td>\n",
       "      <td>0</td>\n",
       "      <td>0</td>\n",
       "      <td>0</td>\n",
       "      <td>0</td>\n",
       "      <td>0</td>\n",
       "      <td>0</td>\n",
       "    </tr>\n",
       "    <tr>\n",
       "      <td>1013</td>\n",
       "      <td>0</td>\n",
       "      <td>0</td>\n",
       "      <td>0</td>\n",
       "      <td>0</td>\n",
       "      <td>0</td>\n",
       "      <td>0</td>\n",
       "      <td>0</td>\n",
       "      <td>0</td>\n",
       "      <td>0</td>\n",
       "      <td>0</td>\n",
       "      <td>0</td>\n",
       "      <td>0</td>\n",
       "    </tr>\n",
       "    <tr>\n",
       "      <td>1016</td>\n",
       "      <td>0</td>\n",
       "      <td>0</td>\n",
       "      <td>0</td>\n",
       "      <td>0</td>\n",
       "      <td>0</td>\n",
       "      <td>0</td>\n",
       "      <td>0</td>\n",
       "      <td>0</td>\n",
       "      <td>0</td>\n",
       "      <td>0</td>\n",
       "      <td>0</td>\n",
       "      <td>0</td>\n",
       "    </tr>\n",
       "    <tr>\n",
       "      <td>...</td>\n",
       "      <td>...</td>\n",
       "      <td>...</td>\n",
       "      <td>...</td>\n",
       "      <td>...</td>\n",
       "      <td>...</td>\n",
       "      <td>...</td>\n",
       "      <td>...</td>\n",
       "      <td>...</td>\n",
       "      <td>...</td>\n",
       "      <td>...</td>\n",
       "      <td>...</td>\n",
       "      <td>...</td>\n",
       "    </tr>\n",
       "    <tr>\n",
       "      <td>1494</td>\n",
       "      <td>0</td>\n",
       "      <td>0</td>\n",
       "      <td>0</td>\n",
       "      <td>0</td>\n",
       "      <td>0</td>\n",
       "      <td>0</td>\n",
       "      <td>0</td>\n",
       "      <td>0</td>\n",
       "      <td>3</td>\n",
       "      <td>0</td>\n",
       "      <td>0</td>\n",
       "      <td>0</td>\n",
       "    </tr>\n",
       "    <tr>\n",
       "      <td>1496</td>\n",
       "      <td>0</td>\n",
       "      <td>282</td>\n",
       "      <td>171</td>\n",
       "      <td>63</td>\n",
       "      <td>0</td>\n",
       "      <td>165</td>\n",
       "      <td>246</td>\n",
       "      <td>81</td>\n",
       "      <td>0</td>\n",
       "      <td>0</td>\n",
       "      <td>486</td>\n",
       "      <td>54</td>\n",
       "    </tr>\n",
       "    <tr>\n",
       "      <td>1497</td>\n",
       "      <td>0</td>\n",
       "      <td>0</td>\n",
       "      <td>0</td>\n",
       "      <td>0</td>\n",
       "      <td>0</td>\n",
       "      <td>0</td>\n",
       "      <td>0</td>\n",
       "      <td>0</td>\n",
       "      <td>0</td>\n",
       "      <td>0</td>\n",
       "      <td>0</td>\n",
       "      <td>135</td>\n",
       "    </tr>\n",
       "    <tr>\n",
       "      <td>1498</td>\n",
       "      <td>0</td>\n",
       "      <td>0</td>\n",
       "      <td>0</td>\n",
       "      <td>0</td>\n",
       "      <td>0</td>\n",
       "      <td>0</td>\n",
       "      <td>0</td>\n",
       "      <td>0</td>\n",
       "      <td>0</td>\n",
       "      <td>0</td>\n",
       "      <td>0</td>\n",
       "      <td>0</td>\n",
       "    </tr>\n",
       "    <tr>\n",
       "      <td>1499</td>\n",
       "      <td>0</td>\n",
       "      <td>0</td>\n",
       "      <td>0</td>\n",
       "      <td>0</td>\n",
       "      <td>0</td>\n",
       "      <td>0</td>\n",
       "      <td>0</td>\n",
       "      <td>0</td>\n",
       "      <td>0</td>\n",
       "      <td>0</td>\n",
       "      <td>336</td>\n",
       "      <td>0</td>\n",
       "    </tr>\n",
       "  </tbody>\n",
       "</table>\n",
       "<p>492 rows × 12 columns</p>\n",
       "</div>"
      ],
      "text/plain": [
       "         jan  feb  mar  apr  may  jun  jul  aug  sep  oct  nov  dec\n",
       "user_id                                                            \n",
       "1000       0    0    0    0    0    0    0    0    0    0    0    0\n",
       "1003       0    0    0    0    0    0    0    0    0    0    0    0\n",
       "1004       0    0    0    0    0    0    0    0    0    0    0    0\n",
       "1013       0    0    0    0    0    0    0    0    0    0    0    0\n",
       "1016       0    0    0    0    0    0    0    0    0    0    0    0\n",
       "...      ...  ...  ...  ...  ...  ...  ...  ...  ...  ...  ...  ...\n",
       "1494       0    0    0    0    0    0    0    0    3    0    0    0\n",
       "1496       0  282  171   63    0  165  246   81    0    0  486   54\n",
       "1497       0    0    0    0    0    0    0    0    0    0    0  135\n",
       "1498       0    0    0    0    0    0    0    0    0    0    0    0\n",
       "1499       0    0    0    0    0    0    0    0    0    0  336    0\n",
       "\n",
       "[492 rows x 12 columns]"
      ]
     },
     "execution_count": 29,
     "metadata": {},
     "output_type": "execute_result"
    }
   ],
   "source": [
    "duration_monthly_tariffed"
   ]
  },
  {
   "cell_type": "markdown",
   "metadata": {},
   "source": [
    "Из-за того, что не все пользователи за период измерения совершали хоть какие-то звонки, датасет duration_monthly_tariffed короче датасета users.\n",
    "\n",
    "Это помешает нам при рассчете выручки с каждого пользователя. Поэтому отбросим из датасета users всё кроме индекса и user_id, а затем объединим наш датасет с этим \"списком абонентов\". У нас образуются пропуски, которые мы заполним нулями. Суммы приведем к целочисленному типу."
   ]
  },
  {
   "cell_type": "code",
   "execution_count": 30,
   "metadata": {},
   "outputs": [],
   "source": [
    "duration_monthly_tariffed = users.drop(columns=['age', 'churn_date', 'city', 'first_name', 'last_name', 'reg_date', 'tariff', 'is_moscow']).merge(duration_monthly_tariffed, how='left', on='user_id').fillna(0)\n",
    "duration_monthly_tariffed.loc[:, 'jan':'dec'] = duration_monthly_tariffed.loc[:, 'jan':'dec'].astype('int')"
   ]
  },
  {
   "cell_type": "code",
   "execution_count": 31,
   "metadata": {
    "scrolled": false
   },
   "outputs": [
    {
     "data": {
      "text/html": [
       "<div>\n",
       "<style scoped>\n",
       "    .dataframe tbody tr th:only-of-type {\n",
       "        vertical-align: middle;\n",
       "    }\n",
       "\n",
       "    .dataframe tbody tr th {\n",
       "        vertical-align: top;\n",
       "    }\n",
       "\n",
       "    .dataframe thead th {\n",
       "        text-align: right;\n",
       "    }\n",
       "</style>\n",
       "<table border=\"1\" class=\"dataframe\">\n",
       "  <thead>\n",
       "    <tr style=\"text-align: right;\">\n",
       "      <th></th>\n",
       "      <th>user_id</th>\n",
       "      <th>jan</th>\n",
       "      <th>feb</th>\n",
       "      <th>mar</th>\n",
       "      <th>apr</th>\n",
       "      <th>may</th>\n",
       "      <th>jun</th>\n",
       "      <th>jul</th>\n",
       "      <th>aug</th>\n",
       "      <th>sep</th>\n",
       "      <th>oct</th>\n",
       "      <th>nov</th>\n",
       "      <th>dec</th>\n",
       "    </tr>\n",
       "  </thead>\n",
       "  <tbody>\n",
       "    <tr>\n",
       "      <td>0</td>\n",
       "      <td>1000</td>\n",
       "      <td>0</td>\n",
       "      <td>0</td>\n",
       "      <td>0</td>\n",
       "      <td>0</td>\n",
       "      <td>0</td>\n",
       "      <td>0</td>\n",
       "      <td>0</td>\n",
       "      <td>0</td>\n",
       "      <td>0</td>\n",
       "      <td>0</td>\n",
       "      <td>0</td>\n",
       "      <td>0</td>\n",
       "    </tr>\n",
       "    <tr>\n",
       "      <td>1</td>\n",
       "      <td>1001</td>\n",
       "      <td>0</td>\n",
       "      <td>0</td>\n",
       "      <td>0</td>\n",
       "      <td>0</td>\n",
       "      <td>0</td>\n",
       "      <td>0</td>\n",
       "      <td>0</td>\n",
       "      <td>0</td>\n",
       "      <td>0</td>\n",
       "      <td>0</td>\n",
       "      <td>0</td>\n",
       "      <td>0</td>\n",
       "    </tr>\n",
       "    <tr>\n",
       "      <td>2</td>\n",
       "      <td>1002</td>\n",
       "      <td>0</td>\n",
       "      <td>0</td>\n",
       "      <td>0</td>\n",
       "      <td>0</td>\n",
       "      <td>0</td>\n",
       "      <td>0</td>\n",
       "      <td>0</td>\n",
       "      <td>0</td>\n",
       "      <td>0</td>\n",
       "      <td>0</td>\n",
       "      <td>0</td>\n",
       "      <td>0</td>\n",
       "    </tr>\n",
       "    <tr>\n",
       "      <td>3</td>\n",
       "      <td>1003</td>\n",
       "      <td>0</td>\n",
       "      <td>0</td>\n",
       "      <td>0</td>\n",
       "      <td>0</td>\n",
       "      <td>0</td>\n",
       "      <td>0</td>\n",
       "      <td>0</td>\n",
       "      <td>0</td>\n",
       "      <td>0</td>\n",
       "      <td>0</td>\n",
       "      <td>0</td>\n",
       "      <td>0</td>\n",
       "    </tr>\n",
       "    <tr>\n",
       "      <td>4</td>\n",
       "      <td>1004</td>\n",
       "      <td>0</td>\n",
       "      <td>0</td>\n",
       "      <td>0</td>\n",
       "      <td>0</td>\n",
       "      <td>0</td>\n",
       "      <td>0</td>\n",
       "      <td>0</td>\n",
       "      <td>0</td>\n",
       "      <td>0</td>\n",
       "      <td>0</td>\n",
       "      <td>0</td>\n",
       "      <td>0</td>\n",
       "    </tr>\n",
       "    <tr>\n",
       "      <td>...</td>\n",
       "      <td>...</td>\n",
       "      <td>...</td>\n",
       "      <td>...</td>\n",
       "      <td>...</td>\n",
       "      <td>...</td>\n",
       "      <td>...</td>\n",
       "      <td>...</td>\n",
       "      <td>...</td>\n",
       "      <td>...</td>\n",
       "      <td>...</td>\n",
       "      <td>...</td>\n",
       "      <td>...</td>\n",
       "      <td>...</td>\n",
       "    </tr>\n",
       "    <tr>\n",
       "      <td>495</td>\n",
       "      <td>1495</td>\n",
       "      <td>0</td>\n",
       "      <td>0</td>\n",
       "      <td>0</td>\n",
       "      <td>0</td>\n",
       "      <td>0</td>\n",
       "      <td>0</td>\n",
       "      <td>0</td>\n",
       "      <td>0</td>\n",
       "      <td>0</td>\n",
       "      <td>0</td>\n",
       "      <td>0</td>\n",
       "      <td>0</td>\n",
       "    </tr>\n",
       "    <tr>\n",
       "      <td>496</td>\n",
       "      <td>1496</td>\n",
       "      <td>0</td>\n",
       "      <td>282</td>\n",
       "      <td>171</td>\n",
       "      <td>63</td>\n",
       "      <td>0</td>\n",
       "      <td>165</td>\n",
       "      <td>246</td>\n",
       "      <td>81</td>\n",
       "      <td>0</td>\n",
       "      <td>0</td>\n",
       "      <td>486</td>\n",
       "      <td>54</td>\n",
       "    </tr>\n",
       "    <tr>\n",
       "      <td>497</td>\n",
       "      <td>1497</td>\n",
       "      <td>0</td>\n",
       "      <td>0</td>\n",
       "      <td>0</td>\n",
       "      <td>0</td>\n",
       "      <td>0</td>\n",
       "      <td>0</td>\n",
       "      <td>0</td>\n",
       "      <td>0</td>\n",
       "      <td>0</td>\n",
       "      <td>0</td>\n",
       "      <td>0</td>\n",
       "      <td>135</td>\n",
       "    </tr>\n",
       "    <tr>\n",
       "      <td>498</td>\n",
       "      <td>1498</td>\n",
       "      <td>0</td>\n",
       "      <td>0</td>\n",
       "      <td>0</td>\n",
       "      <td>0</td>\n",
       "      <td>0</td>\n",
       "      <td>0</td>\n",
       "      <td>0</td>\n",
       "      <td>0</td>\n",
       "      <td>0</td>\n",
       "      <td>0</td>\n",
       "      <td>0</td>\n",
       "      <td>0</td>\n",
       "    </tr>\n",
       "    <tr>\n",
       "      <td>499</td>\n",
       "      <td>1499</td>\n",
       "      <td>0</td>\n",
       "      <td>0</td>\n",
       "      <td>0</td>\n",
       "      <td>0</td>\n",
       "      <td>0</td>\n",
       "      <td>0</td>\n",
       "      <td>0</td>\n",
       "      <td>0</td>\n",
       "      <td>0</td>\n",
       "      <td>0</td>\n",
       "      <td>336</td>\n",
       "      <td>0</td>\n",
       "    </tr>\n",
       "  </tbody>\n",
       "</table>\n",
       "<p>500 rows × 13 columns</p>\n",
       "</div>"
      ],
      "text/plain": [
       "     user_id  jan  feb  mar  apr  may  jun  jul  aug  sep  oct  nov  dec\n",
       "0       1000    0    0    0    0    0    0    0    0    0    0    0    0\n",
       "1       1001    0    0    0    0    0    0    0    0    0    0    0    0\n",
       "2       1002    0    0    0    0    0    0    0    0    0    0    0    0\n",
       "3       1003    0    0    0    0    0    0    0    0    0    0    0    0\n",
       "4       1004    0    0    0    0    0    0    0    0    0    0    0    0\n",
       "..       ...  ...  ...  ...  ...  ...  ...  ...  ...  ...  ...  ...  ...\n",
       "495     1495    0    0    0    0    0    0    0    0    0    0    0    0\n",
       "496     1496    0  282  171   63    0  165  246   81    0    0  486   54\n",
       "497     1497    0    0    0    0    0    0    0    0    0    0    0  135\n",
       "498     1498    0    0    0    0    0    0    0    0    0    0    0    0\n",
       "499     1499    0    0    0    0    0    0    0    0    0    0  336    0\n",
       "\n",
       "[500 rows x 13 columns]"
      ]
     },
     "execution_count": 31,
     "metadata": {},
     "output_type": "execute_result"
    }
   ],
   "source": [
    "duration_monthly_tariffed"
   ]
  },
  {
   "cell_type": "markdown",
   "metadata": {},
   "source": [
    "Теперь у нас есть датасет по выручке со звонков сверх заложенного в тариф лимита по всем пользователям, даже тем, которые эти звонки не совершали вовсе.\n",
    "\n",
    "Аналогичным образом создадим датасеты с информацией о расходах пользователей на сообщения и интернет-траффик сверх лимитов. Циклы и логика будут похожими, отличаться будут только названия столбцов, которые мы будем оставлять и отбрасывать.\n",
    "\n",
    "<b>Примечание:</b> Досчитав два датасета ниже, я подумал о том, что можно было бы выполнить рассчеты этих трех датасетов в одном цикле, так как логика в них идентичная, а изменящиеся значения можно описать в словаре. Но дело в том, что эту работу я делал в конце второй недели спринта и решил не затягивать сдачу. :)\n",
    "\n",
    "---\n",
    "\n",
    "<b>Посчитаем стоимость сообщений, израсходованных сверх лимита.</b>"
   ]
  },
  {
   "cell_type": "code",
   "execution_count": 32,
   "metadata": {},
   "outputs": [],
   "source": [
    "messages_monthly_tariffed = messages_monthly.merge(users, right_index=True, on='user_id').drop(columns=['mean', 'age', 'churn_date', 'city', 'first_name', 'last_name', 'reg_date', 'is_moscow'])"
   ]
  },
  {
   "cell_type": "code",
   "execution_count": 33,
   "metadata": {},
   "outputs": [],
   "source": [
    "messages_monthly_tariffed =  messages_monthly_tariffed.merge(tariffs, right_index=True, on='tariff').drop(columns=['tariff', 'minutes_included', 'gb_included', 'rub_monthly_fee', 'rub_per_gb', 'rub_per_minute'])"
   ]
  },
  {
   "cell_type": "code",
   "execution_count": 34,
   "metadata": {},
   "outputs": [],
   "source": [
    "for row in messages_monthly_tariffed.index:\n",
    "    for column in month_names:\n",
    "        if messages_monthly_tariffed.loc[row, 'messages_included'] - messages_monthly_tariffed.loc[row, column] >= 0:\n",
    "            messages_monthly_tariffed.loc[row, column] = 0\n",
    "        if messages_monthly_tariffed.loc[row, 'messages_included'] - messages_monthly_tariffed.loc[row, column] < 0:\n",
    "            messages_monthly_tariffed.loc[row, column] = messages_monthly_tariffed.loc[row, 'messages_included'] - messages_monthly_tariffed.loc[row, column]\n",
    "messages_monthly_tariffed.loc[:, 'jan':'dec'] = messages_monthly_tariffed.loc[:, 'jan':'dec'].abs()\n",
    "messages_monthly_tariffed = messages_monthly_tariffed.drop(columns='messages_included')"
   ]
  },
  {
   "cell_type": "code",
   "execution_count": 35,
   "metadata": {},
   "outputs": [],
   "source": [
    "for row in messages_monthly_tariffed.index:\n",
    "    for column in month_names:\n",
    "        messages_monthly_tariffed.loc[row, column] = messages_monthly_tariffed.loc[row, 'rub_per_message'] * messages_monthly_tariffed.loc[row, column]\n",
    "messages_monthly_tariffed = messages_monthly_tariffed.drop(columns='rub_per_message')"
   ]
  },
  {
   "cell_type": "code",
   "execution_count": 36,
   "metadata": {},
   "outputs": [
    {
     "data": {
      "text/html": [
       "<div>\n",
       "<style scoped>\n",
       "    .dataframe tbody tr th:only-of-type {\n",
       "        vertical-align: middle;\n",
       "    }\n",
       "\n",
       "    .dataframe tbody tr th {\n",
       "        vertical-align: top;\n",
       "    }\n",
       "\n",
       "    .dataframe thead th {\n",
       "        text-align: right;\n",
       "    }\n",
       "</style>\n",
       "<table border=\"1\" class=\"dataframe\">\n",
       "  <thead>\n",
       "    <tr style=\"text-align: right;\">\n",
       "      <th></th>\n",
       "      <th>user_id</th>\n",
       "      <th>jan</th>\n",
       "      <th>feb</th>\n",
       "      <th>mar</th>\n",
       "      <th>apr</th>\n",
       "      <th>may</th>\n",
       "      <th>jun</th>\n",
       "      <th>jul</th>\n",
       "      <th>aug</th>\n",
       "      <th>sep</th>\n",
       "      <th>oct</th>\n",
       "      <th>nov</th>\n",
       "      <th>dec</th>\n",
       "    </tr>\n",
       "  </thead>\n",
       "  <tbody>\n",
       "    <tr>\n",
       "      <td>0</td>\n",
       "      <td>1000</td>\n",
       "      <td>0</td>\n",
       "      <td>0</td>\n",
       "      <td>0</td>\n",
       "      <td>0</td>\n",
       "      <td>0</td>\n",
       "      <td>0</td>\n",
       "      <td>0</td>\n",
       "      <td>0</td>\n",
       "      <td>0</td>\n",
       "      <td>0</td>\n",
       "      <td>0</td>\n",
       "      <td>0</td>\n",
       "    </tr>\n",
       "    <tr>\n",
       "      <td>1</td>\n",
       "      <td>1001</td>\n",
       "      <td>0</td>\n",
       "      <td>0</td>\n",
       "      <td>0</td>\n",
       "      <td>0</td>\n",
       "      <td>0</td>\n",
       "      <td>0</td>\n",
       "      <td>0</td>\n",
       "      <td>0</td>\n",
       "      <td>0</td>\n",
       "      <td>0</td>\n",
       "      <td>0</td>\n",
       "      <td>0</td>\n",
       "    </tr>\n",
       "    <tr>\n",
       "      <td>2</td>\n",
       "      <td>1002</td>\n",
       "      <td>0</td>\n",
       "      <td>0</td>\n",
       "      <td>0</td>\n",
       "      <td>0</td>\n",
       "      <td>0</td>\n",
       "      <td>0</td>\n",
       "      <td>0</td>\n",
       "      <td>0</td>\n",
       "      <td>0</td>\n",
       "      <td>0</td>\n",
       "      <td>0</td>\n",
       "      <td>0</td>\n",
       "    </tr>\n",
       "    <tr>\n",
       "      <td>3</td>\n",
       "      <td>1003</td>\n",
       "      <td>0</td>\n",
       "      <td>0</td>\n",
       "      <td>0</td>\n",
       "      <td>0</td>\n",
       "      <td>0</td>\n",
       "      <td>0</td>\n",
       "      <td>0</td>\n",
       "      <td>0</td>\n",
       "      <td>0</td>\n",
       "      <td>0</td>\n",
       "      <td>0</td>\n",
       "      <td>0</td>\n",
       "    </tr>\n",
       "    <tr>\n",
       "      <td>4</td>\n",
       "      <td>1004</td>\n",
       "      <td>0</td>\n",
       "      <td>0</td>\n",
       "      <td>0</td>\n",
       "      <td>0</td>\n",
       "      <td>0</td>\n",
       "      <td>0</td>\n",
       "      <td>0</td>\n",
       "      <td>0</td>\n",
       "      <td>0</td>\n",
       "      <td>0</td>\n",
       "      <td>0</td>\n",
       "      <td>0</td>\n",
       "    </tr>\n",
       "    <tr>\n",
       "      <td>...</td>\n",
       "      <td>...</td>\n",
       "      <td>...</td>\n",
       "      <td>...</td>\n",
       "      <td>...</td>\n",
       "      <td>...</td>\n",
       "      <td>...</td>\n",
       "      <td>...</td>\n",
       "      <td>...</td>\n",
       "      <td>...</td>\n",
       "      <td>...</td>\n",
       "      <td>...</td>\n",
       "      <td>...</td>\n",
       "      <td>...</td>\n",
       "    </tr>\n",
       "    <tr>\n",
       "      <td>495</td>\n",
       "      <td>1495</td>\n",
       "      <td>0</td>\n",
       "      <td>0</td>\n",
       "      <td>0</td>\n",
       "      <td>0</td>\n",
       "      <td>0</td>\n",
       "      <td>0</td>\n",
       "      <td>0</td>\n",
       "      <td>0</td>\n",
       "      <td>0</td>\n",
       "      <td>0</td>\n",
       "      <td>0</td>\n",
       "      <td>0</td>\n",
       "    </tr>\n",
       "    <tr>\n",
       "      <td>496</td>\n",
       "      <td>1496</td>\n",
       "      <td>0</td>\n",
       "      <td>0</td>\n",
       "      <td>0</td>\n",
       "      <td>0</td>\n",
       "      <td>0</td>\n",
       "      <td>0</td>\n",
       "      <td>0</td>\n",
       "      <td>0</td>\n",
       "      <td>0</td>\n",
       "      <td>0</td>\n",
       "      <td>0</td>\n",
       "      <td>3</td>\n",
       "    </tr>\n",
       "    <tr>\n",
       "      <td>497</td>\n",
       "      <td>1497</td>\n",
       "      <td>0</td>\n",
       "      <td>0</td>\n",
       "      <td>0</td>\n",
       "      <td>0</td>\n",
       "      <td>0</td>\n",
       "      <td>0</td>\n",
       "      <td>0</td>\n",
       "      <td>0</td>\n",
       "      <td>0</td>\n",
       "      <td>0</td>\n",
       "      <td>0</td>\n",
       "      <td>0</td>\n",
       "    </tr>\n",
       "    <tr>\n",
       "      <td>498</td>\n",
       "      <td>1498</td>\n",
       "      <td>0</td>\n",
       "      <td>0</td>\n",
       "      <td>0</td>\n",
       "      <td>0</td>\n",
       "      <td>0</td>\n",
       "      <td>0</td>\n",
       "      <td>0</td>\n",
       "      <td>36</td>\n",
       "      <td>0</td>\n",
       "      <td>0</td>\n",
       "      <td>0</td>\n",
       "      <td>0</td>\n",
       "    </tr>\n",
       "    <tr>\n",
       "      <td>499</td>\n",
       "      <td>1499</td>\n",
       "      <td>0</td>\n",
       "      <td>0</td>\n",
       "      <td>0</td>\n",
       "      <td>0</td>\n",
       "      <td>0</td>\n",
       "      <td>0</td>\n",
       "      <td>0</td>\n",
       "      <td>0</td>\n",
       "      <td>0</td>\n",
       "      <td>0</td>\n",
       "      <td>27</td>\n",
       "      <td>48</td>\n",
       "    </tr>\n",
       "  </tbody>\n",
       "</table>\n",
       "<p>500 rows × 13 columns</p>\n",
       "</div>"
      ],
      "text/plain": [
       "     user_id  jan  feb  mar  apr  may  jun  jul  aug  sep  oct  nov  dec\n",
       "0       1000    0    0    0    0    0    0    0    0    0    0    0    0\n",
       "1       1001    0    0    0    0    0    0    0    0    0    0    0    0\n",
       "2       1002    0    0    0    0    0    0    0    0    0    0    0    0\n",
       "3       1003    0    0    0    0    0    0    0    0    0    0    0    0\n",
       "4       1004    0    0    0    0    0    0    0    0    0    0    0    0\n",
       "..       ...  ...  ...  ...  ...  ...  ...  ...  ...  ...  ...  ...  ...\n",
       "495     1495    0    0    0    0    0    0    0    0    0    0    0    0\n",
       "496     1496    0    0    0    0    0    0    0    0    0    0    0    3\n",
       "497     1497    0    0    0    0    0    0    0    0    0    0    0    0\n",
       "498     1498    0    0    0    0    0    0    0   36    0    0    0    0\n",
       "499     1499    0    0    0    0    0    0    0    0    0    0   27   48\n",
       "\n",
       "[500 rows x 13 columns]"
      ]
     },
     "execution_count": 36,
     "metadata": {},
     "output_type": "execute_result"
    }
   ],
   "source": [
    "messages_monthly_tariffed = users.drop(columns=['age', 'churn_date', 'city', 'first_name', 'last_name', 'reg_date', 'tariff', 'is_moscow']).merge(messages_monthly_tariffed, how='left', on='user_id').fillna(0)\n",
    "messages_monthly_tariffed.loc[:, 'jan':'dec'] = messages_monthly_tariffed.loc[:, 'jan':'dec'].astype('int')\n",
    "messages_monthly_tariffed"
   ]
  },
  {
   "cell_type": "markdown",
   "metadata": {},
   "source": [
    "<b>Посчитаем стоимость интернет-траффика, израсходованного сверх лимита.</b>"
   ]
  },
  {
   "cell_type": "code",
   "execution_count": 37,
   "metadata": {},
   "outputs": [],
   "source": [
    "internet_monthly_tariffed = internet_monthly.merge(users, right_index=True, on='user_id').drop(columns=['mean', 'age', 'churn_date', 'city', 'first_name', 'last_name', 'reg_date', 'is_moscow'])"
   ]
  },
  {
   "cell_type": "code",
   "execution_count": 38,
   "metadata": {},
   "outputs": [],
   "source": [
    "internet_monthly_tariffed =  internet_monthly_tariffed.merge(tariffs, right_index=True, on='tariff').drop(columns=['tariff', 'minutes_included', 'messages_included', 'rub_monthly_fee', 'rub_per_message', 'rub_per_minute'])"
   ]
  },
  {
   "cell_type": "code",
   "execution_count": 39,
   "metadata": {},
   "outputs": [],
   "source": [
    "for row in internet_monthly_tariffed.index:\n",
    "    for column in month_names:\n",
    "        if internet_monthly_tariffed.loc[row, 'gb_included'] - internet_monthly_tariffed.loc[row, column] >= 0:\n",
    "            internet_monthly_tariffed.loc[row, column] = 0\n",
    "        if internet_monthly_tariffed.loc[row, 'gb_included'] - internet_monthly_tariffed.loc[row, column] < 0:\n",
    "            internet_monthly_tariffed.loc[row, column] = internet_monthly_tariffed.loc[row, 'gb_included'] - internet_monthly_tariffed.loc[row, column]\n",
    "internet_monthly_tariffed.loc[:, 'jan':'dec'] = internet_monthly_tariffed.loc[:, 'jan':'dec'].abs()\n",
    "internet_monthly_tariffed = internet_monthly_tariffed.drop(columns='gb_included')"
   ]
  },
  {
   "cell_type": "code",
   "execution_count": 40,
   "metadata": {},
   "outputs": [],
   "source": [
    "for row in internet_monthly_tariffed.index:\n",
    "    for column in month_names:\n",
    "        internet_monthly_tariffed.loc[row, column] = internet_monthly_tariffed.loc[row, 'rub_per_gb'] * internet_monthly_tariffed.loc[row, column]\n",
    "internet_monthly_tariffed = internet_monthly_tariffed.drop(columns='rub_per_gb')"
   ]
  },
  {
   "cell_type": "code",
   "execution_count": 41,
   "metadata": {
    "scrolled": false
   },
   "outputs": [
    {
     "data": {
      "text/html": [
       "<div>\n",
       "<style scoped>\n",
       "    .dataframe tbody tr th:only-of-type {\n",
       "        vertical-align: middle;\n",
       "    }\n",
       "\n",
       "    .dataframe tbody tr th {\n",
       "        vertical-align: top;\n",
       "    }\n",
       "\n",
       "    .dataframe thead th {\n",
       "        text-align: right;\n",
       "    }\n",
       "</style>\n",
       "<table border=\"1\" class=\"dataframe\">\n",
       "  <thead>\n",
       "    <tr style=\"text-align: right;\">\n",
       "      <th></th>\n",
       "      <th>user_id</th>\n",
       "      <th>jan</th>\n",
       "      <th>feb</th>\n",
       "      <th>mar</th>\n",
       "      <th>apr</th>\n",
       "      <th>may</th>\n",
       "      <th>jun</th>\n",
       "      <th>jul</th>\n",
       "      <th>aug</th>\n",
       "      <th>sep</th>\n",
       "      <th>oct</th>\n",
       "      <th>nov</th>\n",
       "      <th>dec</th>\n",
       "    </tr>\n",
       "  </thead>\n",
       "  <tbody>\n",
       "    <tr>\n",
       "      <td>0</td>\n",
       "      <td>1000</td>\n",
       "      <td>0</td>\n",
       "      <td>0</td>\n",
       "      <td>0</td>\n",
       "      <td>0</td>\n",
       "      <td>0</td>\n",
       "      <td>0</td>\n",
       "      <td>0</td>\n",
       "      <td>0</td>\n",
       "      <td>0</td>\n",
       "      <td>0</td>\n",
       "      <td>0</td>\n",
       "      <td>0</td>\n",
       "    </tr>\n",
       "    <tr>\n",
       "      <td>1</td>\n",
       "      <td>1001</td>\n",
       "      <td>0</td>\n",
       "      <td>0</td>\n",
       "      <td>0</td>\n",
       "      <td>0</td>\n",
       "      <td>0</td>\n",
       "      <td>0</td>\n",
       "      <td>0</td>\n",
       "      <td>0</td>\n",
       "      <td>0</td>\n",
       "      <td>0</td>\n",
       "      <td>600</td>\n",
       "      <td>0</td>\n",
       "    </tr>\n",
       "    <tr>\n",
       "      <td>2</td>\n",
       "      <td>1002</td>\n",
       "      <td>0</td>\n",
       "      <td>0</td>\n",
       "      <td>0</td>\n",
       "      <td>0</td>\n",
       "      <td>0</td>\n",
       "      <td>0</td>\n",
       "      <td>600</td>\n",
       "      <td>1000</td>\n",
       "      <td>400</td>\n",
       "      <td>0</td>\n",
       "      <td>800</td>\n",
       "      <td>600</td>\n",
       "    </tr>\n",
       "    <tr>\n",
       "      <td>3</td>\n",
       "      <td>1003</td>\n",
       "      <td>0</td>\n",
       "      <td>0</td>\n",
       "      <td>0</td>\n",
       "      <td>0</td>\n",
       "      <td>0</td>\n",
       "      <td>0</td>\n",
       "      <td>0</td>\n",
       "      <td>0</td>\n",
       "      <td>0</td>\n",
       "      <td>0</td>\n",
       "      <td>0</td>\n",
       "      <td>0</td>\n",
       "    </tr>\n",
       "    <tr>\n",
       "      <td>4</td>\n",
       "      <td>1004</td>\n",
       "      <td>0</td>\n",
       "      <td>0</td>\n",
       "      <td>0</td>\n",
       "      <td>0</td>\n",
       "      <td>0</td>\n",
       "      <td>0</td>\n",
       "      <td>0</td>\n",
       "      <td>0</td>\n",
       "      <td>0</td>\n",
       "      <td>0</td>\n",
       "      <td>0</td>\n",
       "      <td>0</td>\n",
       "    </tr>\n",
       "    <tr>\n",
       "      <td>...</td>\n",
       "      <td>...</td>\n",
       "      <td>...</td>\n",
       "      <td>...</td>\n",
       "      <td>...</td>\n",
       "      <td>...</td>\n",
       "      <td>...</td>\n",
       "      <td>...</td>\n",
       "      <td>...</td>\n",
       "      <td>...</td>\n",
       "      <td>...</td>\n",
       "      <td>...</td>\n",
       "      <td>...</td>\n",
       "      <td>...</td>\n",
       "    </tr>\n",
       "    <tr>\n",
       "      <td>495</td>\n",
       "      <td>1495</td>\n",
       "      <td>0</td>\n",
       "      <td>0</td>\n",
       "      <td>0</td>\n",
       "      <td>0</td>\n",
       "      <td>0</td>\n",
       "      <td>0</td>\n",
       "      <td>0</td>\n",
       "      <td>0</td>\n",
       "      <td>450</td>\n",
       "      <td>0</td>\n",
       "      <td>1350</td>\n",
       "      <td>0</td>\n",
       "    </tr>\n",
       "    <tr>\n",
       "      <td>496</td>\n",
       "      <td>1496</td>\n",
       "      <td>0</td>\n",
       "      <td>2600</td>\n",
       "      <td>2000</td>\n",
       "      <td>1200</td>\n",
       "      <td>1800</td>\n",
       "      <td>1000</td>\n",
       "      <td>1800</td>\n",
       "      <td>1600</td>\n",
       "      <td>2400</td>\n",
       "      <td>2600</td>\n",
       "      <td>2000</td>\n",
       "      <td>1200</td>\n",
       "    </tr>\n",
       "    <tr>\n",
       "      <td>497</td>\n",
       "      <td>1497</td>\n",
       "      <td>0</td>\n",
       "      <td>0</td>\n",
       "      <td>0</td>\n",
       "      <td>0</td>\n",
       "      <td>0</td>\n",
       "      <td>0</td>\n",
       "      <td>0</td>\n",
       "      <td>0</td>\n",
       "      <td>0</td>\n",
       "      <td>0</td>\n",
       "      <td>0</td>\n",
       "      <td>1000</td>\n",
       "    </tr>\n",
       "    <tr>\n",
       "      <td>498</td>\n",
       "      <td>1498</td>\n",
       "      <td>0</td>\n",
       "      <td>0</td>\n",
       "      <td>0</td>\n",
       "      <td>0</td>\n",
       "      <td>0</td>\n",
       "      <td>0</td>\n",
       "      <td>0</td>\n",
       "      <td>1800</td>\n",
       "      <td>1400</td>\n",
       "      <td>1200</td>\n",
       "      <td>0</td>\n",
       "      <td>0</td>\n",
       "    </tr>\n",
       "    <tr>\n",
       "      <td>499</td>\n",
       "      <td>1499</td>\n",
       "      <td>0</td>\n",
       "      <td>0</td>\n",
       "      <td>0</td>\n",
       "      <td>0</td>\n",
       "      <td>0</td>\n",
       "      <td>0</td>\n",
       "      <td>0</td>\n",
       "      <td>0</td>\n",
       "      <td>0</td>\n",
       "      <td>600</td>\n",
       "      <td>600</td>\n",
       "      <td>0</td>\n",
       "    </tr>\n",
       "  </tbody>\n",
       "</table>\n",
       "<p>500 rows × 13 columns</p>\n",
       "</div>"
      ],
      "text/plain": [
       "     user_id  jan   feb   mar   apr   may   jun   jul   aug   sep   oct   nov  \\\n",
       "0       1000    0     0     0     0     0     0     0     0     0     0     0   \n",
       "1       1001    0     0     0     0     0     0     0     0     0     0   600   \n",
       "2       1002    0     0     0     0     0     0   600  1000   400     0   800   \n",
       "3       1003    0     0     0     0     0     0     0     0     0     0     0   \n",
       "4       1004    0     0     0     0     0     0     0     0     0     0     0   \n",
       "..       ...  ...   ...   ...   ...   ...   ...   ...   ...   ...   ...   ...   \n",
       "495     1495    0     0     0     0     0     0     0     0   450     0  1350   \n",
       "496     1496    0  2600  2000  1200  1800  1000  1800  1600  2400  2600  2000   \n",
       "497     1497    0     0     0     0     0     0     0     0     0     0     0   \n",
       "498     1498    0     0     0     0     0     0     0  1800  1400  1200     0   \n",
       "499     1499    0     0     0     0     0     0     0     0     0   600   600   \n",
       "\n",
       "      dec  \n",
       "0       0  \n",
       "1       0  \n",
       "2     600  \n",
       "3       0  \n",
       "4       0  \n",
       "..    ...  \n",
       "495     0  \n",
       "496  1200  \n",
       "497  1000  \n",
       "498     0  \n",
       "499     0  \n",
       "\n",
       "[500 rows x 13 columns]"
      ]
     },
     "execution_count": 41,
     "metadata": {},
     "output_type": "execute_result"
    }
   ],
   "source": [
    "internet_monthly_tariffed = users.drop(columns=['age', 'churn_date', 'city', 'first_name', 'last_name', 'reg_date', 'tariff', 'is_moscow']).merge(internet_monthly_tariffed, how='left', on='user_id').fillna(0)\n",
    "internet_monthly_tariffed.loc[:, 'jan':'dec'] = internet_monthly_tariffed.loc[:, 'jan':'dec'].astype('int')\n",
    "internet_monthly_tariffed"
   ]
  },
  {
   "cell_type": "markdown",
   "metadata": {},
   "source": [
    "<b>Подсчет помесячной выручки с каждого пользователя</b>"
   ]
  },
  {
   "cell_type": "markdown",
   "metadata": {},
   "source": [
    "На базе датасетов users и tariffs создадим новый датасет revenue, в котором оставим только индексы и столбцы user_id, tariff, rub_monthly_fee и is_moscow. Они понадабятся нам для того, чтобы сравнить выручку по пользователям разных тарифов и москвичам с остальными жителями страны."
   ]
  },
  {
   "cell_type": "code",
   "execution_count": 42,
   "metadata": {},
   "outputs": [],
   "source": [
    "revenue = users.merge(tariffs, how='left', on='tariff').drop(columns=['age', 'churn_date', 'city', 'first_name', 'last_name', 'reg_date', 'messages_included', 'gb_included', 'minutes_included', 'rub_per_gb', 'rub_per_message', 'rub_per_minute'])"
   ]
  },
  {
   "cell_type": "markdown",
   "metadata": {},
   "source": [
    "В цикле сложим базовую стоимость тарифа, значение доходов сверх тарифа по каждому пользователю из трех датаестов (по минутам разговора, отправленым сообщениям и интернет-траффику), после чего помножим сумму на соответствующее значение из датасета activity. \n",
    "\n",
    "Результат вычисления допишем в датасет revenue. После выполнения цикла отбросим столбец с размером ежемесячного платежа, он в этом датасете нам больше не понадобится."
   ]
  },
  {
   "cell_type": "code",
   "execution_count": 43,
   "metadata": {},
   "outputs": [],
   "source": [
    "for row in revenue.index:\n",
    "    for column in month_names:\n",
    "        revenue.loc[row, column] = (revenue.loc[row, 'rub_monthly_fee'] + duration_monthly_tariffed.loc[row, column] + messages_monthly_tariffed.loc[row, column] + internet_monthly_tariffed.loc[row, column]) * activity.loc[row, column]\n",
    "revenue = revenue.drop(columns='rub_monthly_fee')"
   ]
  },
  {
   "cell_type": "markdown",
   "metadata": {},
   "source": [
    "В итоге получим датасет revenue с помесячной выручкой с каждого пользователя. Данные о доходах приведем к целочисленному типу и добавим столбец со средним значением по каждому пользователю."
   ]
  },
  {
   "cell_type": "code",
   "execution_count": 44,
   "metadata": {},
   "outputs": [
    {
     "data": {
      "text/html": [
       "<div>\n",
       "<style scoped>\n",
       "    .dataframe tbody tr th:only-of-type {\n",
       "        vertical-align: middle;\n",
       "    }\n",
       "\n",
       "    .dataframe tbody tr th {\n",
       "        vertical-align: top;\n",
       "    }\n",
       "\n",
       "    .dataframe thead th {\n",
       "        text-align: right;\n",
       "    }\n",
       "</style>\n",
       "<table border=\"1\" class=\"dataframe\">\n",
       "  <thead>\n",
       "    <tr style=\"text-align: right;\">\n",
       "      <th></th>\n",
       "      <th>user_id</th>\n",
       "      <th>tariff</th>\n",
       "      <th>is_moscow</th>\n",
       "      <th>jan</th>\n",
       "      <th>feb</th>\n",
       "      <th>mar</th>\n",
       "      <th>apr</th>\n",
       "      <th>may</th>\n",
       "      <th>jun</th>\n",
       "      <th>jul</th>\n",
       "      <th>aug</th>\n",
       "      <th>sep</th>\n",
       "      <th>oct</th>\n",
       "      <th>nov</th>\n",
       "      <th>dec</th>\n",
       "      <th>mean</th>\n",
       "    </tr>\n",
       "  </thead>\n",
       "  <tbody>\n",
       "    <tr>\n",
       "      <td>0</td>\n",
       "      <td>1000</td>\n",
       "      <td>ultra</td>\n",
       "      <td>False</td>\n",
       "      <td>0</td>\n",
       "      <td>0</td>\n",
       "      <td>0</td>\n",
       "      <td>0</td>\n",
       "      <td>1950</td>\n",
       "      <td>1950</td>\n",
       "      <td>1950</td>\n",
       "      <td>1950</td>\n",
       "      <td>1950</td>\n",
       "      <td>1950</td>\n",
       "      <td>1950</td>\n",
       "      <td>1950</td>\n",
       "      <td>1950.000000</td>\n",
       "    </tr>\n",
       "    <tr>\n",
       "      <td>1</td>\n",
       "      <td>1001</td>\n",
       "      <td>smart</td>\n",
       "      <td>True</td>\n",
       "      <td>0</td>\n",
       "      <td>0</td>\n",
       "      <td>0</td>\n",
       "      <td>0</td>\n",
       "      <td>0</td>\n",
       "      <td>0</td>\n",
       "      <td>0</td>\n",
       "      <td>0</td>\n",
       "      <td>0</td>\n",
       "      <td>0</td>\n",
       "      <td>1150</td>\n",
       "      <td>550</td>\n",
       "      <td>850.000000</td>\n",
       "    </tr>\n",
       "    <tr>\n",
       "      <td>2</td>\n",
       "      <td>1002</td>\n",
       "      <td>smart</td>\n",
       "      <td>False</td>\n",
       "      <td>0</td>\n",
       "      <td>0</td>\n",
       "      <td>0</td>\n",
       "      <td>0</td>\n",
       "      <td>0</td>\n",
       "      <td>550</td>\n",
       "      <td>1150</td>\n",
       "      <td>1550</td>\n",
       "      <td>950</td>\n",
       "      <td>550</td>\n",
       "      <td>1350</td>\n",
       "      <td>1150</td>\n",
       "      <td>1035.714286</td>\n",
       "    </tr>\n",
       "    <tr>\n",
       "      <td>3</td>\n",
       "      <td>1003</td>\n",
       "      <td>ultra</td>\n",
       "      <td>True</td>\n",
       "      <td>0</td>\n",
       "      <td>0</td>\n",
       "      <td>0</td>\n",
       "      <td>0</td>\n",
       "      <td>0</td>\n",
       "      <td>0</td>\n",
       "      <td>0</td>\n",
       "      <td>1950</td>\n",
       "      <td>1950</td>\n",
       "      <td>1950</td>\n",
       "      <td>1950</td>\n",
       "      <td>1950</td>\n",
       "      <td>1950.000000</td>\n",
       "    </tr>\n",
       "    <tr>\n",
       "      <td>4</td>\n",
       "      <td>1004</td>\n",
       "      <td>ultra</td>\n",
       "      <td>False</td>\n",
       "      <td>0</td>\n",
       "      <td>0</td>\n",
       "      <td>0</td>\n",
       "      <td>0</td>\n",
       "      <td>1950</td>\n",
       "      <td>1950</td>\n",
       "      <td>1950</td>\n",
       "      <td>1950</td>\n",
       "      <td>1950</td>\n",
       "      <td>1950</td>\n",
       "      <td>1950</td>\n",
       "      <td>1950</td>\n",
       "      <td>1950.000000</td>\n",
       "    </tr>\n",
       "    <tr>\n",
       "      <td>...</td>\n",
       "      <td>...</td>\n",
       "      <td>...</td>\n",
       "      <td>...</td>\n",
       "      <td>...</td>\n",
       "      <td>...</td>\n",
       "      <td>...</td>\n",
       "      <td>...</td>\n",
       "      <td>...</td>\n",
       "      <td>...</td>\n",
       "      <td>...</td>\n",
       "      <td>...</td>\n",
       "      <td>...</td>\n",
       "      <td>...</td>\n",
       "      <td>...</td>\n",
       "      <td>...</td>\n",
       "      <td>...</td>\n",
       "    </tr>\n",
       "    <tr>\n",
       "      <td>495</td>\n",
       "      <td>1495</td>\n",
       "      <td>ultra</td>\n",
       "      <td>False</td>\n",
       "      <td>0</td>\n",
       "      <td>0</td>\n",
       "      <td>0</td>\n",
       "      <td>0</td>\n",
       "      <td>0</td>\n",
       "      <td>0</td>\n",
       "      <td>0</td>\n",
       "      <td>1950</td>\n",
       "      <td>2400</td>\n",
       "      <td>1950</td>\n",
       "      <td>3300</td>\n",
       "      <td>1950</td>\n",
       "      <td>2310.000000</td>\n",
       "    </tr>\n",
       "    <tr>\n",
       "      <td>496</td>\n",
       "      <td>1496</td>\n",
       "      <td>smart</td>\n",
       "      <td>False</td>\n",
       "      <td>550</td>\n",
       "      <td>3432</td>\n",
       "      <td>2721</td>\n",
       "      <td>1813</td>\n",
       "      <td>2350</td>\n",
       "      <td>1715</td>\n",
       "      <td>2596</td>\n",
       "      <td>2231</td>\n",
       "      <td>2950</td>\n",
       "      <td>3150</td>\n",
       "      <td>3036</td>\n",
       "      <td>1807</td>\n",
       "      <td>2362.583333</td>\n",
       "    </tr>\n",
       "    <tr>\n",
       "      <td>497</td>\n",
       "      <td>1497</td>\n",
       "      <td>smart</td>\n",
       "      <td>False</td>\n",
       "      <td>0</td>\n",
       "      <td>0</td>\n",
       "      <td>0</td>\n",
       "      <td>0</td>\n",
       "      <td>0</td>\n",
       "      <td>0</td>\n",
       "      <td>0</td>\n",
       "      <td>0</td>\n",
       "      <td>0</td>\n",
       "      <td>550</td>\n",
       "      <td>550</td>\n",
       "      <td>1685</td>\n",
       "      <td>928.333333</td>\n",
       "    </tr>\n",
       "    <tr>\n",
       "      <td>498</td>\n",
       "      <td>1498</td>\n",
       "      <td>smart</td>\n",
       "      <td>False</td>\n",
       "      <td>0</td>\n",
       "      <td>0</td>\n",
       "      <td>0</td>\n",
       "      <td>0</td>\n",
       "      <td>0</td>\n",
       "      <td>0</td>\n",
       "      <td>550</td>\n",
       "      <td>2386</td>\n",
       "      <td>1950</td>\n",
       "      <td>1750</td>\n",
       "      <td>0</td>\n",
       "      <td>0</td>\n",
       "      <td>1659.000000</td>\n",
       "    </tr>\n",
       "    <tr>\n",
       "      <td>499</td>\n",
       "      <td>1499</td>\n",
       "      <td>smart</td>\n",
       "      <td>False</td>\n",
       "      <td>0</td>\n",
       "      <td>0</td>\n",
       "      <td>0</td>\n",
       "      <td>0</td>\n",
       "      <td>0</td>\n",
       "      <td>0</td>\n",
       "      <td>0</td>\n",
       "      <td>0</td>\n",
       "      <td>550</td>\n",
       "      <td>1150</td>\n",
       "      <td>1513</td>\n",
       "      <td>598</td>\n",
       "      <td>952.750000</td>\n",
       "    </tr>\n",
       "  </tbody>\n",
       "</table>\n",
       "<p>500 rows × 16 columns</p>\n",
       "</div>"
      ],
      "text/plain": [
       "    user_id tariff  is_moscow  jan   feb   mar   apr   may   jun   jul   aug  \\\n",
       "0      1000  ultra      False    0     0     0     0  1950  1950  1950  1950   \n",
       "1      1001  smart       True    0     0     0     0     0     0     0     0   \n",
       "2      1002  smart      False    0     0     0     0     0   550  1150  1550   \n",
       "3      1003  ultra       True    0     0     0     0     0     0     0  1950   \n",
       "4      1004  ultra      False    0     0     0     0  1950  1950  1950  1950   \n",
       "..      ...    ...        ...  ...   ...   ...   ...   ...   ...   ...   ...   \n",
       "495    1495  ultra      False    0     0     0     0     0     0     0  1950   \n",
       "496    1496  smart      False  550  3432  2721  1813  2350  1715  2596  2231   \n",
       "497    1497  smart      False    0     0     0     0     0     0     0     0   \n",
       "498    1498  smart      False    0     0     0     0     0     0   550  2386   \n",
       "499    1499  smart      False    0     0     0     0     0     0     0     0   \n",
       "\n",
       "      sep   oct   nov   dec         mean  \n",
       "0    1950  1950  1950  1950  1950.000000  \n",
       "1       0     0  1150   550   850.000000  \n",
       "2     950   550  1350  1150  1035.714286  \n",
       "3    1950  1950  1950  1950  1950.000000  \n",
       "4    1950  1950  1950  1950  1950.000000  \n",
       "..    ...   ...   ...   ...          ...  \n",
       "495  2400  1950  3300  1950  2310.000000  \n",
       "496  2950  3150  3036  1807  2362.583333  \n",
       "497     0   550   550  1685   928.333333  \n",
       "498  1950  1750     0     0  1659.000000  \n",
       "499   550  1150  1513   598   952.750000  \n",
       "\n",
       "[500 rows x 16 columns]"
      ]
     },
     "execution_count": 44,
     "metadata": {},
     "output_type": "execute_result"
    }
   ],
   "source": [
    "revenue.loc[:, 'jan':'dec'] = revenue.loc[:, 'jan':'dec'].astype('int')\n",
    "revenue['mean'] = revenue[revenue.loc[:, 'jan':'dec'] != 0].mean(axis=1)\n",
    "revenue"
   ]
  },
  {
   "cell_type": "markdown",
   "metadata": {},
   "source": [
    "## Анализ данных\n",
    "[Содержание](#Содержание)"
   ]
  },
  {
   "cell_type": "markdown",
   "metadata": {},
   "source": [
    "<b>Анализ израсходованных пользователями минут разговоров</b>\n",
    "\n",
    "Создадим специалььный датасет, по которому и будем проводить анализ и делать выводы. Для этого добавим к датасету duration_monthly информацию о тарифе каждого пользователя. Далее аналогичным же образом создадим датасету для сообщений и интернет-траффика."
   ]
  },
  {
   "cell_type": "code",
   "execution_count": 45,
   "metadata": {},
   "outputs": [],
   "source": [
    "duration_analysys = duration_monthly.merge(users, right_index=True, on='user_id').drop(columns=['age', 'churn_date', 'city', 'first_name', 'last_name', 'reg_date', 'is_moscow'])"
   ]
  },
  {
   "cell_type": "code",
   "execution_count": 46,
   "metadata": {},
   "outputs": [
    {
     "name": "stdout",
     "output_type": "stream",
     "text": [
      "Cреднемесячное количество использованных минут пользователями тарифа \"Смарт\"\n",
      "\n",
      "Среднее значение: 420.8480194908561\n",
      "Дисперсия: 20519.31269910389\n",
      "Стандартное отклонение: 143.24563762678392\n"
     ]
    }
   ],
   "source": [
    "print('Cреднемесячное количество использованных минут пользователями тарифа \"Смарт\"')\n",
    "print()\n",
    "print('Среднее значение:', duration_analysys[duration_analysys['tariff'] == 'smart']['mean'].mean())\n",
    "print('Дисперсия:', np.var(duration_analysys[duration_analysys['tariff'] == 'smart']['mean']))\n",
    "print('Стандартное отклонение:', np.std(duration_analysys[duration_analysys['tariff'] == 'smart']['mean']))"
   ]
  },
  {
   "cell_type": "code",
   "execution_count": 47,
   "metadata": {},
   "outputs": [
    {
     "name": "stdout",
     "output_type": "stream",
     "text": [
      "Cреднемесячное количество использованных минут пользователями тарифа \"Ультра\"\n",
      "\n",
      "Среднее значение: 546.9984013461286\n",
      "Дисперсия: 71369.465258898\n",
      "Стандартное отклонение: 267.1506415094263\n"
     ]
    }
   ],
   "source": [
    "print('Cреднемесячное количество использованных минут пользователями тарифа \"Ультра\"')\n",
    "print()\n",
    "print('Среднее значение:', duration_analysys[duration_analysys['tariff'] == 'ultra']['mean'].mean())\n",
    "print('Дисперсия:', np.var(duration_analysys[duration_analysys['tariff'] == 'ultra']['mean']))\n",
    "print('Стандартное отклонение:', np.std(duration_analysys[duration_analysys['tariff'] == 'ultra']['mean']))"
   ]
  },
  {
   "cell_type": "code",
   "execution_count": 48,
   "metadata": {},
   "outputs": [
    {
     "data": {
      "image/png": "[encoded data removed]",
      "text/plain": [
       "<Figure size 432x288 with 1 Axes>"
      ]
     },
     "metadata": {
      "needs_background": "light"
     },
     "output_type": "display_data"
    }
   ],
   "source": [
    "ax = duration_analysys[duration_analysys['tariff'] == 'smart'].plot(title='Гистограмма среднего использования минут', kind='hist', y='mean', histtype='step', linewidth=2, label='Smart', bins=20)\n",
    "duration_analysys[duration_analysys['tariff'] == 'ultra'].plot(kind='hist', y='mean', ax=ax, histtype='step', linewidth=2, label='Ultra', bins=20);"
   ]
  },
  {
   "cell_type": "markdown",
   "metadata": {},
   "source": [
    "<b>Вывод:</b> Из гистрограмм видно, что оба распределения нормальные. В среднем, пользователь тарифа \"Смарт\" в месяц использует 420 минут разговоров, а пользователь тарифа \"Ультра\" — 546 минут. Дисперсия этого показателя у пользователей тарифа \"Ультра\" выше, чем у пользователей тарифа \"Смарт\". Это значит, что пользователи тарифа \"Смарт\" более постоянны в количестве израсходованных минут, и стараются держаться в пределах заложенного в тарифе количества. Пользователи более дорогого тарифа \"Ультра\" наоборот, похоже, менее склонны следить за количеством израсходованных минут, благо в тариф их входит предостаточно.\n",
    "\n",
    "В тариф \"Ультра\" входит 3000 минут разговоров, однако в среднем никто в гнеральной выборке не израсходовал более 1200 минут в месяц. В данной работе нам как представителю оператора сотовой связи это выгодно, мы ежемесячно продаем пользователям количество минут более чем в два раза превышающее их потребности."
   ]
  },
  {
   "cell_type": "markdown",
   "metadata": {},
   "source": [
    "<b>Анализ израсходованных пользователями сообщений</b>"
   ]
  },
  {
   "cell_type": "code",
   "execution_count": 49,
   "metadata": {},
   "outputs": [],
   "source": [
    "messages_analysys = messages_monthly.merge(users, right_index=True, on='user_id').drop(columns=['age', 'churn_date', 'city', 'first_name', 'last_name', 'reg_date', 'is_moscow'])"
   ]
  },
  {
   "cell_type": "code",
   "execution_count": 50,
   "metadata": {},
   "outputs": [
    {
     "name": "stdout",
     "output_type": "stream",
     "text": [
      "Cреднемесячное количество отправленных сообщений пользователями тарифа \"Смарт\"\n",
      "\n",
      "Среднее значение: 37.57560563057251\n",
      "Дисперсия: 615.4647631537796\n",
      "Стандартное отклонение: 24.80856229517905\n"
     ]
    }
   ],
   "source": [
    "print('Cреднемесячное количество отправленных сообщений пользователями тарифа \"Смарт\"')\n",
    "print()\n",
    "print('Среднее значение:', messages_analysys[messages_analysys['tariff'] == 'smart']['mean'].mean())\n",
    "print('Дисперсия:', np.var(messages_analysys[messages_analysys['tariff'] == 'smart']['mean']))\n",
    "print('Стандартное отклонение:', np.std(messages_analysys[messages_analysys['tariff'] == 'smart']['mean']))"
   ]
  },
  {
   "cell_type": "code",
   "execution_count": 51,
   "metadata": {},
   "outputs": [
    {
     "name": "stdout",
     "output_type": "stream",
     "text": [
      "Cреднемесячное количество отправленных сообщений пользователями тарифа \"Ультра\"\n",
      "\n",
      "Среднее значение: 64.55580197132616\n",
      "Дисперсия: 1867.5617883826283\n",
      "Стандартное отклонение: 43.21529576877414\n"
     ]
    }
   ],
   "source": [
    "print('Cреднемесячное количество отправленных сообщений пользователями тарифа \"Ультра\"')\n",
    "print()\n",
    "print('Среднее значение:', messages_analysys[messages_analysys['tariff'] == 'ultra']['mean'].mean())\n",
    "print('Дисперсия:', np.var(messages_analysys[messages_analysys['tariff'] == 'ultra']['mean']))\n",
    "print('Стандартное отклонение:', np.std(messages_analysys[messages_analysys['tariff'] == 'ultra']['mean']))"
   ]
  },
  {
   "cell_type": "code",
   "execution_count": 52,
   "metadata": {},
   "outputs": [
    {
     "data": {
      "image/png": "[encoded data removed]",
      "text/plain": [
       "<Figure size 432x288 with 1 Axes>"
      ]
     },
     "metadata": {
      "needs_background": "light"
     },
     "output_type": "display_data"
    }
   ],
   "source": [
    "ax = messages_analysys[messages_analysys['tariff'] == 'smart'].plot(title='Гистограмма количества отправленных сообщений ', kind='hist', y='mean', histtype='step', linewidth=2, label='Smart', bins=20)\n",
    "messages_analysys[messages_analysys['tariff'] == 'ultra'].plot(kind='hist', y='mean', ax=ax, histtype='step', linewidth=2, label='Ultra', bins=20);"
   ]
  },
  {
   "cell_type": "markdown",
   "metadata": {},
   "source": [
    "<b>Вывод:</b> В данном случае у пользователей обоих тарифов количество использованных сообщений распределяется согласно распределения Пуассона.\n",
    "\n",
    "В среднем, пользователь тарифа \"Смарт\" в месяц отправляет 37, а пользователь тарифа \"Ультра\" — 64 сообщений. Дисперсия этого показателя у пользователей тарифа \"Ультра\"  в два раза выше, чем у пользователей тарифа \"Смарт\", это происходит из-за того, что имея в запасе аж 1000 сообщений, пользователи тарифа \"Ультра\" не следят, сколько сообщений они используют, иногда больше, иногда меньше.\n",
    "\n",
    "Пользователи же тарифа \"Смарт\" наоборот стараются держаться в пределах заложенных в тарифе 50 сообщений. И у многих это даже получается. Однако, довольно много пользователей (порядка 25%) не хватает объема, заложенного в тарифе.\n",
    "\n",
    "Вообще, я искренне удивлен, что в 2018 году так популярны сообщения, мне казалось, месссенджеры к тому моменту уже окончательно победили СМС-сообщения."
   ]
  },
  {
   "cell_type": "markdown",
   "metadata": {},
   "source": [
    "<b>Анализ израсходованного пользователямии интернет-траффика</b>"
   ]
  },
  {
   "cell_type": "code",
   "execution_count": 53,
   "metadata": {},
   "outputs": [],
   "source": [
    "internet_analysys = internet_monthly.merge(users, right_index=True, on='user_id').drop(columns=['age', 'churn_date', 'city', 'first_name', 'last_name', 'reg_date', 'is_moscow'])"
   ]
  },
  {
   "cell_type": "code",
   "execution_count": 54,
   "metadata": {},
   "outputs": [
    {
     "name": "stdout",
     "output_type": "stream",
     "text": [
      "Cреднемесячное количество использованного траффика пользователями тарифа \"Смарт\"\n",
      "\n",
      "Среднее значение: 16.343947433518863\n",
      "Дисперсия: 12.524040104049512\n",
      "Стандартное отклонение: 3.5389320569982\n"
     ]
    }
   ],
   "source": [
    "print('Cреднемесячное количество использованного траффика пользователями тарифа \"Смарт\"')\n",
    "print()\n",
    "print('Среднее значение:', internet_analysys[internet_analysys['tariff'] == 'smart']['mean'].mean())\n",
    "print('Дисперсия:', np.var(internet_analysys[internet_analysys['tariff'] == 'smart']['mean']))\n",
    "print('Стандартное отклонение:', np.std(internet_analysys[internet_analysys['tariff'] == 'smart']['mean']))"
   ]
  },
  {
   "cell_type": "code",
   "execution_count": 55,
   "metadata": {},
   "outputs": [
    {
     "name": "stdout",
     "output_type": "stream",
     "text": [
      "Cреднемесячное количество использованного траффика пользователями тарифа \"Ультра\"\n",
      "\n",
      "Среднее значение: 19.758316400153138\n",
      "Дисперсия: 63.08177733555937\n",
      "Стандартное отклонение: 7.942403750475002\n"
     ]
    }
   ],
   "source": [
    "print('Cреднемесячное количество использованного траффика пользователями тарифа \"Ультра\"')\n",
    "print()\n",
    "print('Среднее значение:', internet_analysys[internet_analysys['tariff'] == 'ultra']['mean'].mean())\n",
    "print('Дисперсия:', np.var(internet_analysys[internet_analysys['tariff'] == 'ultra']['mean']))\n",
    "print('Стандартное отклонение:', np.std(internet_analysys[internet_analysys['tariff'] == 'ultra']['mean']))"
   ]
  },
  {
   "cell_type": "code",
   "execution_count": 56,
   "metadata": {},
   "outputs": [
    {
     "data": {
      "image/png": "[encoded data removed]",
      "text/plain": [
       "<Figure size 432x288 with 1 Axes>"
      ]
     },
     "metadata": {
      "needs_background": "light"
     },
     "output_type": "display_data"
    }
   ],
   "source": [
    "ax = internet_analysys[internet_analysys['tariff'] == 'smart'].plot(title='Гистограмма среднего использованного траффика', kind='hist', y='mean', histtype='step', linewidth=2, label='Smart', bins=20)\n",
    "internet_analysys[internet_analysys['tariff'] == 'ultra'].plot(kind='hist', y='mean', ax=ax, histtype='step', linewidth=2, label='Ultra', bins=20);"
   ]
  },
  {
   "cell_type": "markdown",
   "metadata": {},
   "source": [
    "<b>Вывод:</b> Распределение значений обоих показателей нормальное.\n",
    "\n",
    "Средние значения у пользователей обоих тарифов достаточно близки, учитывая, что в тарифе \"Ультра\" заложено в два раза больше гигибайт: \"Смарт\" — 16 гб/мес., \"Ультра\" — 19 гб/мес. Однако, дисперсия у пользователей тарифа \"Ультра\" выше в 5 раз. И по гистограмме видно, что расход у пользователей тарифа \"Ультра\" более размыт. \n",
    "\n",
    "Пользователи обоих тарифов достаточно часто используют больше траффика, чем заложено в тарифах. Вполне возможно, тарифы к 2018 году уже успели устареть и необходимый среднему пользователю объем данных вырос. "
   ]
  },
  {
   "cell_type": "markdown",
   "metadata": {},
   "source": [
    "## Проверка гипотез\n",
    "[Содержание](#Содержание)"
   ]
  },
  {
   "cell_type": "markdown",
   "metadata": {},
   "source": [
    "Проверим две гипотезы:\n",
    "* средняя выручка пользователей тарифов «Ультра» и «Смарт» различаются;\n",
    "* средняя выручка пользователи из Москвы отличается от выручки пользователей из других регионов.\n",
    "\n",
    "Для проверки гипотез в данном разделе мы будем использовать заранее подготовленный датасет revenue.\n",
    "\n",
    "Гипотезы формулируем таким образом, чтобы нулевая гипотеза заявляла о равенстве двух параметров, а альтернативная о неравенстве.\n",
    "\n",
    "Не смотря на то, что датасет у нас один, проверяемые выборки независимы, имеют разные размеры, поэтому будем использовать метод ttest_ind.\n",
    "\n",
    "Значение alpha возьмем 0,05."
   ]
  },
  {
   "cell_type": "markdown",
   "metadata": {},
   "source": [
    "<b>Нулевая гипотеза:</b> выручка от пользователей тарифов «Ультра» и «Смарт» равна.  \n",
    "<b>Альтернативная гипотеза:</b> выручка от пользователей тарифов «Ультра» и «Смарт» различается."
   ]
  },
  {
   "cell_type": "code",
   "execution_count": 57,
   "metadata": {
    "scrolled": false
   },
   "outputs": [
    {
     "name": "stdout",
     "output_type": "stream",
     "text": [
      "Cреднемесячная выручка от пользователя тарифа \"Смарт\"\n",
      "\n",
      "Процент пользователей тарифа \"Смарт\" в выборке: 70.2%\n",
      "Среднее значение: 1322.1947485641929\n",
      "Дисперсия: 366896.02779298875\n",
      "Стандартное отклонение: 605.7194299285675\n"
     ]
    }
   ],
   "source": [
    "print('Cреднемесячная выручка от пользователя тарифа \"Смарт\"')\n",
    "print()\n",
    "print('Процент пользователей тарифа \"Смарт\" в выборке: {:.1%}'.format(len(revenue[revenue['tariff'] == 'smart'])/len(revenue)))\n",
    "print('Среднее значение:', revenue[revenue['tariff'] == 'smart']['mean'].mean())\n",
    "print('Дисперсия:', np.var(revenue[revenue['tariff'] == 'smart']['mean']))\n",
    "print('Стандартное отклонение:', np.std(revenue[revenue['tariff'] == 'smart']['mean']))"
   ]
  },
  {
   "cell_type": "code",
   "execution_count": 58,
   "metadata": {},
   "outputs": [
    {
     "name": "stdout",
     "output_type": "stream",
     "text": [
      "Cреднемесячная выручка от пользователя тарифа \"Ультра\"\n",
      "\n",
      "Процент пользователей тарифа \"Ультра\" в выборке: 29.8%\n",
      "Среднее значение: 2085.548788459862\n",
      "Дисперсия: 88049.66450621308\n",
      "Стандартное отклонение: 296.7316371845326\n"
     ]
    }
   ],
   "source": [
    "print('Cреднемесячная выручка от пользователя тарифа \"Ультра\"')\n",
    "print()\n",
    "print('Процент пользователей тарифа \"Ультра\" в выборке: {:.1%}'.format(len(revenue[revenue['tariff'] == 'ultra'])/len(revenue)))\n",
    "print('Среднее значение:', revenue[revenue['tariff'] == 'ultra']['mean'].mean())\n",
    "print('Дисперсия:', np.var(revenue[revenue['tariff'] == 'ultra']['mean']))\n",
    "print('Стандартное отклонение:', np.std(revenue[revenue['tariff'] == 'ultra']['mean']))"
   ]
  },
  {
   "cell_type": "code",
   "execution_count": 59,
   "metadata": {},
   "outputs": [
    {
     "data": {
      "image/png": "[encoded data removed]",
      "text/plain": [
       "<Figure size 432x288 with 1 Axes>"
      ]
     },
     "metadata": {
      "needs_background": "light"
     },
     "output_type": "display_data"
    }
   ],
   "source": [
    "ax = revenue[revenue['tariff'] == 'smart'].plot(title='Гистограмма среднемесячной выручки', kind='hist', y='mean', histtype='step', linewidth=2, label='Smart', bins=30)\n",
    "revenue[revenue['tariff'] == 'ultra'].plot(kind='hist', y='mean', ax=ax, histtype='step', linewidth=2, label='Ultra', bins=30);"
   ]
  },
  {
   "cell_type": "code",
   "execution_count": 60,
   "metadata": {},
   "outputs": [
    {
     "name": "stdout",
     "output_type": "stream",
     "text": [
      "p-значение: 1.4760419872988006e-40\n",
      "Отвергаем нулевую гипотезу\n"
     ]
    }
   ],
   "source": [
    "alpha = .05\n",
    "\n",
    "results_tariffs = st.ttest_ind(revenue[revenue['tariff'] == 'smart']['mean'], revenue[revenue['tariff'] == 'ultra']['mean'])\n",
    "\n",
    "print('p-значение:', results_tariffs.pvalue)\n",
    "\n",
    "if (results_tariffs.pvalue < alpha):\n",
    "    print(\"Отвергаем нулевую гипотезу\")\n",
    "else:\n",
    "    print(\"Не получилось отвергнуть нулевую гипотезу\")"
   ]
  },
  {
   "cell_type": "markdown",
   "metadata": {},
   "source": [
    "<b>Нулевая гипотеза отвергается.</b> Средняя выручка от пользователей тарифов \"Смарт\" и \"Ультра\" различна.\n",
    "\n",
    "Кроме того, на гистограммах видно, что большинство пользователей тарифа \"Ультра\" приносит сумму около 2000 рублей в месяц, что равно размеру оплаты за сам тариф. Это значит, что большинство пользователей не выходит за пределы заложенных в тариф минут/сообщений/гигабайт траффика. У гистограммы пользователей тарифа \"Смарт\" длинный и достаточно пологий ховст, означающий, что большинство пользователей тарифа выходит за пределы заложенных в тариф пакетов."
   ]
  },
  {
   "cell_type": "markdown",
   "metadata": {},
   "source": [
    "<b>Нулевая гипотеза:</b> средняя выручка от пользователей из Москвы равна выручке от пользователей из других регионов.  \n",
    "<b>Альтернативная гипотеза:</b> средняя выручка от пользователей из Москвы отличается от выручки от пользователей из других регионов."
   ]
  },
  {
   "cell_type": "code",
   "execution_count": 61,
   "metadata": {},
   "outputs": [
    {
     "name": "stdout",
     "output_type": "stream",
     "text": [
      "Cреднемесячное количество использованного траффика пользователями тарифа \"Смарт\"\n",
      "\n",
      "Процент пользователей из Москвы в выборке: 19.8%\n",
      "Среднее значение: 1498.465851152215\n",
      "Дисперсия: 364100.0204568282\n",
      "Стандартное отклонение: 603.4070106129263\n"
     ]
    }
   ],
   "source": [
    "print('Cреднемесячное количество использованного траффика пользователями тарифа \"Смарт\"')\n",
    "print()\n",
    "print('Процент пользователей из Москвы в выборке: {:.1%}'.format(len(revenue[revenue['is_moscow'] == True])/len(revenue)))\n",
    "print('Среднее значение:', revenue[revenue['is_moscow'] == True]['mean'].mean())\n",
    "print('Дисперсия:', np.var(revenue[revenue['is_moscow'] == True]['mean']))\n",
    "print('Стандартное отклонение:', np.std(revenue[revenue['is_moscow'] == True]['mean']))"
   ]
  },
  {
   "cell_type": "code",
   "execution_count": 62,
   "metadata": {},
   "outputs": [
    {
     "name": "stdout",
     "output_type": "stream",
     "text": [
      "Cреднемесячное количество использованного траффика пользователями тарифа \"Ультра\"\n",
      "\n",
      "Процент пользователей не из Москвы в выборке: 80.2%\n",
      "Среднее значение: 1562.3167255922244\n",
      "Дисперсия: 415163.4416990662\n",
      "Стандартное отклонение: 644.3317792093342\n"
     ]
    }
   ],
   "source": [
    "print('Cреднемесячное количество использованного траффика пользователями тарифа \"Ультра\"')\n",
    "print()\n",
    "print('Процент пользователей не из Москвы в выборке: {:.1%}'.format(len(revenue[revenue['is_moscow'] == False])/len(revenue)))\n",
    "print('Среднее значение:', revenue[revenue['is_moscow'] == False]['mean'].mean())\n",
    "print('Дисперсия:', np.var(revenue[revenue['is_moscow'] == False]['mean']))\n",
    "print('Стандартное отклонение:', np.std(revenue[revenue['is_moscow'] == False]['mean']))"
   ]
  },
  {
   "cell_type": "code",
   "execution_count": 63,
   "metadata": {},
   "outputs": [
    {
     "data": {
      "image/png": "[encoded data removed]",
      "text/plain": [
       "<Figure size 432x288 with 1 Axes>"
      ]
     },
     "metadata": {
      "needs_background": "light"
     },
     "output_type": "display_data"
    }
   ],
   "source": [
    "ax = revenue[revenue['is_moscow'] == True].plot(title='Гистограмма среднемесячной выручки', kind='hist', y='mean', histtype='step', linewidth=2, label='Moscow', bins=30)\n",
    "revenue[revenue['is_moscow'] == False].plot(kind='hist', y='mean', ax=ax, histtype='step', linewidth=2, label='Other', bins=30);"
   ]
  },
  {
   "cell_type": "code",
   "execution_count": 64,
   "metadata": {},
   "outputs": [
    {
     "name": "stdout",
     "output_type": "stream",
     "text": [
      "p-значение: 0.37273509521850456\n",
      "Не получилось отвергнуть нулевую гипотезу\n"
     ]
    }
   ],
   "source": [
    "alpha = .05\n",
    "\n",
    "results_moscow = st.ttest_ind(revenue[revenue['is_moscow'] == True]['mean'], revenue[revenue['is_moscow'] == False]['mean'])\n",
    "\n",
    "print('p-значение:', results_moscow.pvalue)\n",
    "\n",
    "if (results_moscow.pvalue < alpha):\n",
    "    print(\"Отвергаем нулевую гипотезу\")\n",
    "else:\n",
    "    print(\"Не получилось отвергнуть нулевую гипотезу\")"
   ]
  },
  {
   "cell_type": "markdown",
   "metadata": {},
   "source": [
    "<b>Нулевую гипотезу не удалось отвергнуть.</b> Средняя выручка от пользователей из Москвы равна средней выручке пользователей из других регионов.\n",
    "\n",
    "Гистограммы обеих выборок похожи, только гистограмма других регионов выше, так как там в 4 раза больше данных, чем в гистограмме москвичей. Однако сами эти гистограммы очень похожи, обе имеют два пика в районе стоимостей тарифов 550 и 1950. При этом пик около 550 менее явный, так как выше мы увидели, большинство пользователей тарифа \"Смарт\" в итоге платят больше стоимости тарифа."
   ]
  },
  {
   "cell_type": "markdown",
   "metadata": {},
   "source": [
    "## Общий вывод\n",
    "[Содержание](#Содержание)"
   ]
  },
  {
   "cell_type": "markdown",
   "metadata": {},
   "source": [
    "Для начала опишем среднего пользователя каждого тарифа:\n",
    "\n",
    "<b>Средний пользователь тарифа \"Смарт\":</b>\n",
    "* использует в месяц 420 минут разговоров\n",
    "* отправляет в месяц 37 сообщений\n",
    "* расходует в месяц 16 гигабайт интернет-траффика\n",
    "* платит 1322 рублей в месяц\n",
    "* составляет 70,2% генеральной выборки пользователей\n",
    "\n",
    "<b>Средний пользователь тарифа \"Ультра\":</b>\n",
    "* использует в месяц 546 минут разговоров\n",
    "* отправляет в месяц 64 сообщений\n",
    "* расходует в месяц 19 гигабайт интернет-траффика\n",
    "* платит 2085 рублей в месяц\n",
    "* составляет 29,8% генеральной выборки пользователей\n",
    "\n",
    "Не смотря на то, что пользователь тарифа \"Смарт\" в среднем приносит меньше выручки, чем пользователи тарифа \"Ультра\", пользователи тарифа \"Смарт\" переплачивают более чем в 2 раза сверх стоимости своего тарифа. Кроме того, пользователи видимо не готовы переплачивать за лимиты тарифа \"Ультра\", которых они врядли когда либо достигнут (3000 минут разговоров и 1000 сообщений).Из предложенных двух тарифов выгоднее вложиться в рекламу тарифа \"Смарт\", чтобы привлечь туда больше пользователей.\n",
    "\n",
    "Однако, как мне показалось, представленные тарифы усатрели, особенно в части входящего в них объема интернет-траффика. Пользователи регулярно \"вылезают\" за рамки заложенные в тарифе. И хоть это и приносит нам дополнительную прибыль, постоянное ощущение у пользователя, что ему не хватает траффика может негативно сказаться на отношении пользователя к тарифу. Пользователь может начать искать тарифы с большими объемами траффика. Кроме того высокие лимиты в тарифе \"Ультра\" создают впечатление, что пользователь переплачивает за то, чем он не пользуется.\n",
    "\n",
    "Я бы предложил увеличить объемы интернет-траффика в тарифах \"Смарт\" и \"Ультра\" до 20 и 40 гигабайт соответственно, уменьшить лимиты на звонки и сообщения в тарифе \"Ультра\", преподнеся новые тарифы, как более актуальные, направленные на интернет связь.\n",
    "\n",
    "---\n",
    "\n",
    "Кроме того, были проверены две гипотезы, результаты оказались следующими:\n",
    "\n",
    "* средняя выручка пользователей тарифов «Ультра» и «Смарт» различаются\n",
    "* средняя выручка от пользователи из Москвы равна от выручке от пользователей из других регионов"
   ]
  },
  {
   "cell_type": "code",
   "execution_count": null,
   "metadata": {},
   "outputs": [],
   "source": []
  }
 ],
 "metadata": {
  "ExecuteTimeLog": [
   {
    "duration": 1349,
    "start_time": "2021-08-24T07:02:46.285Z"
   },
   {
    "duration": 1334,
    "start_time": "2021-08-24T07:04:51.304Z"
   },
   {
    "duration": 593,
    "start_time": "2021-08-24T07:05:28.219Z"
   },
   {
    "duration": 49,
    "start_time": "2021-08-24T07:08:35.711Z"
   },
   {
    "duration": 69,
    "start_time": "2021-08-24T07:22:48.089Z"
   },
   {
    "duration": 33,
    "start_time": "2021-08-24T07:22:56.842Z"
   },
   {
    "duration": 1264,
    "start_time": "2021-08-24T07:23:17.248Z"
   },
   {
    "duration": 574,
    "start_time": "2021-08-24T07:23:18.515Z"
   },
   {
    "duration": 45,
    "start_time": "2021-08-24T07:23:19.092Z"
   },
   {
    "duration": 49,
    "start_time": "2021-08-24T07:23:19.140Z"
   },
   {
    "duration": 28,
    "start_time": "2021-08-24T07:23:19.191Z"
   },
   {
    "duration": 24,
    "start_time": "2021-08-24T07:25:57.746Z"
   },
   {
    "duration": 27,
    "start_time": "2021-08-24T07:26:07.711Z"
   },
   {
    "duration": 15,
    "start_time": "2021-08-24T07:26:19.619Z"
   },
   {
    "duration": 28,
    "start_time": "2021-08-24T07:26:21.266Z"
   },
   {
    "duration": 2391,
    "start_time": "2021-08-24T07:28:06.121Z"
   },
   {
    "duration": 17,
    "start_time": "2021-08-24T07:31:16.717Z"
   },
   {
    "duration": 31,
    "start_time": "2021-08-24T07:31:18.303Z"
   },
   {
    "duration": 1291,
    "start_time": "2021-08-24T07:31:27.588Z"
   },
   {
    "duration": 603,
    "start_time": "2021-08-24T07:31:28.881Z"
   },
   {
    "duration": 47,
    "start_time": "2021-08-24T07:31:29.487Z"
   },
   {
    "duration": 56,
    "start_time": "2021-08-24T07:31:29.538Z"
   },
   {
    "duration": 27,
    "start_time": "2021-08-24T07:31:29.596Z"
   },
   {
    "duration": 18,
    "start_time": "2021-08-24T07:31:50.449Z"
   },
   {
    "duration": 29,
    "start_time": "2021-08-24T07:31:51.160Z"
   },
   {
    "duration": 42,
    "start_time": "2021-08-24T07:34:02.910Z"
   },
   {
    "duration": 35,
    "start_time": "2021-08-24T07:34:05.002Z"
   },
   {
    "duration": 1108,
    "start_time": "2021-08-24T07:38:43.322Z"
   },
   {
    "duration": 59,
    "start_time": "2021-08-24T07:38:59.088Z"
   },
   {
    "duration": 77,
    "start_time": "2021-08-24T07:39:00.967Z"
   },
   {
    "duration": 360,
    "start_time": "2021-08-24T07:40:39.405Z"
   },
   {
    "duration": 401,
    "start_time": "2021-08-24T07:40:48.724Z"
   },
   {
    "duration": 311,
    "start_time": "2021-08-24T07:41:48.869Z"
   },
   {
    "duration": 712,
    "start_time": "2021-08-24T07:42:05.212Z"
   },
   {
    "duration": 302,
    "start_time": "2021-08-24T07:42:13.894Z"
   },
   {
    "duration": 71,
    "start_time": "2021-08-24T07:42:35.112Z"
   },
   {
    "duration": 144,
    "start_time": "2021-08-24T07:43:44.835Z"
   },
   {
    "duration": 135,
    "start_time": "2021-08-24T07:44:00.094Z"
   },
   {
    "duration": 167,
    "start_time": "2021-08-24T07:45:07.710Z"
   },
   {
    "duration": 189,
    "start_time": "2021-08-24T07:45:17.586Z"
   },
   {
    "duration": 221,
    "start_time": "2021-08-24T07:45:23.942Z"
   },
   {
    "duration": 1448,
    "start_time": "2021-08-24T07:45:32.133Z"
   },
   {
    "duration": 630,
    "start_time": "2021-08-24T07:45:33.585Z"
   },
   {
    "duration": 45,
    "start_time": "2021-08-24T07:45:34.219Z"
   },
   {
    "duration": 239,
    "start_time": "2021-08-24T07:45:34.267Z"
   },
   {
    "duration": 150,
    "start_time": "2021-08-24T07:45:34.508Z"
   },
   {
    "duration": 57,
    "start_time": "2021-08-24T07:45:34.660Z"
   },
   {
    "duration": 30,
    "start_time": "2021-08-24T07:46:19.135Z"
   },
   {
    "duration": 22,
    "start_time": "2021-08-24T07:46:33.038Z"
   },
   {
    "duration": 13,
    "start_time": "2021-08-24T07:46:58.647Z"
   },
   {
    "duration": 12,
    "start_time": "2021-08-24T07:47:13.307Z"
   },
   {
    "duration": 51,
    "start_time": "2021-08-24T07:54:54.976Z"
   },
   {
    "duration": 1357,
    "start_time": "2021-08-24T08:05:32.199Z"
   },
   {
    "duration": 580,
    "start_time": "2021-08-24T08:05:33.559Z"
   },
   {
    "duration": 48,
    "start_time": "2021-08-24T08:05:34.142Z"
   },
   {
    "duration": 240,
    "start_time": "2021-08-24T08:05:34.193Z"
   },
   {
    "duration": 44,
    "start_time": "2021-08-24T08:05:34.436Z"
   },
   {
    "duration": 54,
    "start_time": "2021-08-24T08:05:34.483Z"
   },
   {
    "duration": 57,
    "start_time": "2021-08-24T08:05:34.539Z"
   },
   {
    "duration": 140,
    "start_time": "2021-08-24T08:06:50.537Z"
   },
   {
    "duration": 121,
    "start_time": "2021-08-24T08:07:07.494Z"
   },
   {
    "duration": 805,
    "start_time": "2021-08-24T08:07:23.898Z"
   },
   {
    "duration": 537,
    "start_time": "2021-08-24T08:08:26.418Z"
   },
   {
    "duration": 116,
    "start_time": "2021-08-24T08:14:12.485Z"
   },
   {
    "duration": 13,
    "start_time": "2021-08-24T08:14:18.226Z"
   },
   {
    "duration": 501,
    "start_time": "2021-08-24T08:14:30.994Z"
   },
   {
    "duration": 1244,
    "start_time": "2021-08-24T08:14:55.117Z"
   },
   {
    "duration": 575,
    "start_time": "2021-08-24T08:14:56.365Z"
   },
   {
    "duration": 49,
    "start_time": "2021-08-24T08:14:56.943Z"
   },
   {
    "duration": 208,
    "start_time": "2021-08-24T08:14:56.994Z"
   },
   {
    "duration": 12,
    "start_time": "2021-08-24T08:14:57.205Z"
   },
   {
    "duration": 685,
    "start_time": "2021-08-24T08:14:57.220Z"
   },
   {
    "duration": 53,
    "start_time": "2021-08-24T08:14:57.907Z"
   },
   {
    "duration": 33,
    "start_time": "2021-08-24T08:15:39.595Z"
   },
   {
    "duration": 37,
    "start_time": "2021-08-24T08:15:46.408Z"
   },
   {
    "duration": 32,
    "start_time": "2021-08-24T08:15:53.878Z"
   },
   {
    "duration": 38,
    "start_time": "2021-08-24T08:18:54.530Z"
   },
   {
    "duration": 8,
    "start_time": "2021-08-24T08:19:46.246Z"
   },
   {
    "duration": 15,
    "start_time": "2021-08-24T08:20:03.544Z"
   },
   {
    "duration": 12,
    "start_time": "2021-08-24T08:20:11.199Z"
   },
   {
    "duration": 41,
    "start_time": "2021-08-24T08:20:49.746Z"
   },
   {
    "duration": 50,
    "start_time": "2021-08-24T08:21:33.284Z"
   },
   {
    "duration": 30,
    "start_time": "2021-08-24T08:21:48.010Z"
   },
   {
    "duration": 6,
    "start_time": "2021-08-24T08:22:39.329Z"
   },
   {
    "duration": 10,
    "start_time": "2021-08-24T08:22:44.758Z"
   },
   {
    "duration": 14,
    "start_time": "2021-08-24T08:23:14.616Z"
   },
   {
    "duration": 33,
    "start_time": "2021-08-24T08:23:23.559Z"
   },
   {
    "duration": 23,
    "start_time": "2021-08-24T08:24:05.123Z"
   },
   {
    "duration": 1169,
    "start_time": "2021-08-24T08:26:02.096Z"
   },
   {
    "duration": 576,
    "start_time": "2021-08-24T08:26:03.268Z"
   },
   {
    "duration": 53,
    "start_time": "2021-08-24T08:26:03.846Z"
   },
   {
    "duration": 209,
    "start_time": "2021-08-24T08:26:03.902Z"
   },
   {
    "duration": 15,
    "start_time": "2021-08-24T08:26:04.114Z"
   },
   {
    "duration": 698,
    "start_time": "2021-08-24T08:26:04.132Z"
   },
   {
    "duration": 44,
    "start_time": "2021-08-24T08:26:04.832Z"
   },
   {
    "duration": 17,
    "start_time": "2021-08-24T08:26:04.879Z"
   },
   {
    "duration": 36,
    "start_time": "2021-08-24T08:26:18.902Z"
   },
   {
    "duration": 8,
    "start_time": "2021-08-24T08:35:25.636Z"
   },
   {
    "duration": 31,
    "start_time": "2021-08-24T08:36:21.087Z"
   },
   {
    "duration": 30,
    "start_time": "2021-08-24T08:36:33.602Z"
   },
   {
    "duration": 12,
    "start_time": "2021-08-24T08:40:07.156Z"
   },
   {
    "duration": 47,
    "start_time": "2021-08-24T08:40:15.766Z"
   },
   {
    "duration": 10610,
    "start_time": "2021-08-24T08:42:41.195Z"
   },
   {
    "duration": 1191,
    "start_time": "2021-08-24T08:43:06.195Z"
   },
   {
    "duration": 580,
    "start_time": "2021-08-24T08:43:07.388Z"
   },
   {
    "duration": 46,
    "start_time": "2021-08-24T08:43:07.971Z"
   },
   {
    "duration": 203,
    "start_time": "2021-08-24T08:43:08.020Z"
   },
   {
    "duration": 12,
    "start_time": "2021-08-24T08:43:08.226Z"
   },
   {
    "duration": 669,
    "start_time": "2021-08-24T08:43:08.255Z"
   },
   {
    "duration": 47,
    "start_time": "2021-08-24T08:43:08.927Z"
   },
   {
    "duration": 7,
    "start_time": "2021-08-24T08:43:08.977Z"
   },
   {
    "duration": 169,
    "start_time": "2021-08-24T08:43:08.987Z"
   },
   {
    "duration": 1203,
    "start_time": "2021-08-24T08:44:50.673Z"
   },
   {
    "duration": 590,
    "start_time": "2021-08-24T08:44:51.879Z"
   },
   {
    "duration": 44,
    "start_time": "2021-08-24T08:44:52.472Z"
   },
   {
    "duration": 219,
    "start_time": "2021-08-24T08:44:52.519Z"
   },
   {
    "duration": 20,
    "start_time": "2021-08-24T08:44:52.741Z"
   },
   {
    "duration": 661,
    "start_time": "2021-08-24T08:44:52.763Z"
   },
   {
    "duration": 45,
    "start_time": "2021-08-24T08:44:53.427Z"
   },
   {
    "duration": 7,
    "start_time": "2021-08-24T08:44:53.476Z"
   },
   {
    "duration": 11715,
    "start_time": "2021-08-24T08:44:53.486Z"
   },
   {
    "duration": 1539,
    "start_time": "2021-08-24T08:45:03.664Z"
   },
   {
    "duration": 384,
    "start_time": "2021-08-24T08:45:15.449Z"
   },
   {
    "duration": 35,
    "start_time": "2021-08-24T08:45:30.734Z"
   },
   {
    "duration": 1206,
    "start_time": "2021-08-24T08:45:35.562Z"
   },
   {
    "duration": 568,
    "start_time": "2021-08-24T08:45:36.771Z"
   },
   {
    "duration": 50,
    "start_time": "2021-08-24T08:45:37.342Z"
   },
   {
    "duration": 202,
    "start_time": "2021-08-24T08:45:37.395Z"
   },
   {
    "duration": 16,
    "start_time": "2021-08-24T08:45:37.600Z"
   },
   {
    "duration": 662,
    "start_time": "2021-08-24T08:45:37.619Z"
   },
   {
    "duration": 32,
    "start_time": "2021-08-24T08:45:38.284Z"
   },
   {
    "duration": 8,
    "start_time": "2021-08-24T08:45:38.318Z"
   },
   {
    "duration": 149,
    "start_time": "2021-08-24T08:45:38.363Z"
   },
   {
    "duration": 60,
    "start_time": "2021-08-24T08:45:38.514Z"
   },
   {
    "duration": 1310,
    "start_time": "2021-08-24T08:46:12.153Z"
   },
   {
    "duration": 538,
    "start_time": "2021-08-24T08:46:13.467Z"
   },
   {
    "duration": 44,
    "start_time": "2021-08-24T08:46:14.008Z"
   },
   {
    "duration": 201,
    "start_time": "2021-08-24T08:46:14.055Z"
   },
   {
    "duration": 16,
    "start_time": "2021-08-24T08:46:14.259Z"
   },
   {
    "duration": 667,
    "start_time": "2021-08-24T08:46:14.278Z"
   },
   {
    "duration": 43,
    "start_time": "2021-08-24T08:46:14.948Z"
   },
   {
    "duration": 6,
    "start_time": "2021-08-24T08:46:14.994Z"
   },
   {
    "duration": 128,
    "start_time": "2021-08-24T08:46:15.002Z"
   },
   {
    "duration": 45,
    "start_time": "2021-08-24T08:46:15.132Z"
   },
   {
    "duration": 1202,
    "start_time": "2021-08-24T08:48:21.256Z"
   },
   {
    "duration": 549,
    "start_time": "2021-08-24T08:48:22.461Z"
   },
   {
    "duration": 46,
    "start_time": "2021-08-24T08:48:23.013Z"
   },
   {
    "duration": 197,
    "start_time": "2021-08-24T08:48:23.063Z"
   },
   {
    "duration": 14,
    "start_time": "2021-08-24T08:48:23.263Z"
   },
   {
    "duration": 676,
    "start_time": "2021-08-24T08:48:23.280Z"
   },
   {
    "duration": 33,
    "start_time": "2021-08-24T08:48:23.964Z"
   },
   {
    "duration": 7,
    "start_time": "2021-08-24T08:48:24.000Z"
   },
   {
    "duration": 139,
    "start_time": "2021-08-24T08:48:24.009Z"
   },
   {
    "duration": 41,
    "start_time": "2021-08-24T08:48:24.150Z"
   },
   {
    "duration": 36,
    "start_time": "2021-08-24T08:50:28.607Z"
   },
   {
    "duration": 28,
    "start_time": "2021-08-24T08:50:40.170Z"
   },
   {
    "duration": 1205,
    "start_time": "2021-08-24T08:50:57.862Z"
   },
   {
    "duration": 565,
    "start_time": "2021-08-24T08:50:59.071Z"
   },
   {
    "duration": 49,
    "start_time": "2021-08-24T08:50:59.639Z"
   },
   {
    "duration": 213,
    "start_time": "2021-08-24T08:50:59.690Z"
   },
   {
    "duration": 15,
    "start_time": "2021-08-24T08:50:59.906Z"
   },
   {
    "duration": 701,
    "start_time": "2021-08-24T08:50:59.924Z"
   },
   {
    "duration": 45,
    "start_time": "2021-08-24T08:51:00.628Z"
   },
   {
    "duration": 7,
    "start_time": "2021-08-24T08:51:00.676Z"
   },
   {
    "duration": 142,
    "start_time": "2021-08-24T08:51:00.685Z"
   },
   {
    "duration": 42,
    "start_time": "2021-08-24T08:51:00.830Z"
   },
   {
    "duration": 1239,
    "start_time": "2021-08-24T08:56:11.926Z"
   },
   {
    "duration": 547,
    "start_time": "2021-08-24T08:56:13.168Z"
   },
   {
    "duration": 49,
    "start_time": "2021-08-24T08:56:13.719Z"
   },
   {
    "duration": 183,
    "start_time": "2021-08-24T08:56:13.774Z"
   },
   {
    "duration": 17,
    "start_time": "2021-08-24T08:56:13.960Z"
   },
   {
    "duration": 702,
    "start_time": "2021-08-24T08:56:13.980Z"
   },
   {
    "duration": 34,
    "start_time": "2021-08-24T08:56:14.685Z"
   },
   {
    "duration": 35,
    "start_time": "2021-08-24T08:56:14.723Z"
   },
   {
    "duration": 135,
    "start_time": "2021-08-24T08:56:14.762Z"
   },
   {
    "duration": 28,
    "start_time": "2021-08-24T08:56:14.899Z"
   },
   {
    "duration": 135,
    "start_time": "2021-08-24T08:56:14.929Z"
   },
   {
    "duration": 31,
    "start_time": "2021-08-24T08:56:15.067Z"
   },
   {
    "duration": 17,
    "start_time": "2021-08-24T08:58:20.627Z"
   },
   {
    "duration": 18,
    "start_time": "2021-08-24T08:58:29.663Z"
   },
   {
    "duration": 24,
    "start_time": "2021-08-24T09:02:20.034Z"
   },
   {
    "duration": 26,
    "start_time": "2021-08-24T09:34:40.721Z"
   },
   {
    "duration": 21,
    "start_time": "2021-08-24T09:35:00.023Z"
   },
   {
    "duration": 26,
    "start_time": "2021-08-24T09:35:06.406Z"
   },
   {
    "duration": 6,
    "start_time": "2021-08-24T09:35:35.478Z"
   },
   {
    "duration": 5,
    "start_time": "2021-08-24T09:35:44.946Z"
   },
   {
    "duration": 6,
    "start_time": "2021-08-24T09:35:56.981Z"
   },
   {
    "duration": 974,
    "start_time": "2021-08-24T09:36:45.858Z"
   },
   {
    "duration": 7,
    "start_time": "2021-08-24T09:36:55.784Z"
   },
   {
    "duration": 14,
    "start_time": "2021-08-24T09:46:25.508Z"
   },
   {
    "duration": 27,
    "start_time": "2021-08-24T09:46:33.410Z"
   },
   {
    "duration": 1251,
    "start_time": "2021-08-24T09:47:06.028Z"
   },
   {
    "duration": 586,
    "start_time": "2021-08-24T09:47:07.283Z"
   },
   {
    "duration": 47,
    "start_time": "2021-08-24T09:47:07.873Z"
   },
   {
    "duration": 200,
    "start_time": "2021-08-24T09:47:07.922Z"
   },
   {
    "duration": 13,
    "start_time": "2021-08-24T09:47:08.124Z"
   },
   {
    "duration": 669,
    "start_time": "2021-08-24T09:47:08.139Z"
   },
   {
    "duration": 44,
    "start_time": "2021-08-24T09:47:08.811Z"
   },
   {
    "duration": 6,
    "start_time": "2021-08-24T09:47:08.858Z"
   },
   {
    "duration": 125,
    "start_time": "2021-08-24T09:47:08.868Z"
   },
   {
    "duration": 26,
    "start_time": "2021-08-24T09:47:08.995Z"
   },
   {
    "duration": 107,
    "start_time": "2021-08-24T09:47:09.024Z"
   },
   {
    "duration": 29,
    "start_time": "2021-08-24T09:47:09.133Z"
   },
   {
    "duration": 29,
    "start_time": "2021-08-24T09:47:09.164Z"
   },
   {
    "duration": 14,
    "start_time": "2021-08-24T09:47:09.196Z"
   },
   {
    "duration": 73,
    "start_time": "2021-08-24T09:48:38.726Z"
   },
   {
    "duration": 11,
    "start_time": "2021-08-24T09:52:39.233Z"
   },
   {
    "duration": 21,
    "start_time": "2021-08-24T10:29:56.826Z"
   },
   {
    "duration": 15,
    "start_time": "2021-08-24T10:46:08.905Z"
   },
   {
    "duration": 84,
    "start_time": "2021-08-24T10:49:14.485Z"
   },
   {
    "duration": 37,
    "start_time": "2021-08-24T10:50:32.360Z"
   },
   {
    "duration": 8,
    "start_time": "2021-08-24T10:52:55.381Z"
   },
   {
    "duration": 22,
    "start_time": "2021-08-24T10:52:57.695Z"
   },
   {
    "duration": 8,
    "start_time": "2021-08-24T10:53:16.292Z"
   },
   {
    "duration": 24,
    "start_time": "2021-08-24T10:53:18.763Z"
   },
   {
    "duration": 1260,
    "start_time": "2021-08-24T10:53:59.814Z"
   },
   {
    "duration": 609,
    "start_time": "2021-08-24T10:54:01.077Z"
   },
   {
    "duration": 49,
    "start_time": "2021-08-24T10:54:01.688Z"
   },
   {
    "duration": 216,
    "start_time": "2021-08-24T10:54:01.740Z"
   },
   {
    "duration": 16,
    "start_time": "2021-08-24T10:54:01.959Z"
   },
   {
    "duration": 696,
    "start_time": "2021-08-24T10:54:01.977Z"
   },
   {
    "duration": 37,
    "start_time": "2021-08-24T10:54:02.675Z"
   },
   {
    "duration": 7,
    "start_time": "2021-08-24T10:54:02.717Z"
   },
   {
    "duration": 125,
    "start_time": "2021-08-24T10:54:02.756Z"
   },
   {
    "duration": 30,
    "start_time": "2021-08-24T10:54:02.884Z"
   },
   {
    "duration": 119,
    "start_time": "2021-08-24T10:54:02.917Z"
   },
   {
    "duration": 32,
    "start_time": "2021-08-24T10:54:03.040Z"
   },
   {
    "duration": 30,
    "start_time": "2021-08-24T10:54:03.075Z"
   },
   {
    "duration": 12,
    "start_time": "2021-08-24T10:54:03.107Z"
   },
   {
    "duration": 47,
    "start_time": "2021-08-24T10:54:03.122Z"
   },
   {
    "duration": 4,
    "start_time": "2021-08-24T10:54:03.172Z"
   },
   {
    "duration": 120,
    "start_time": "2021-08-24T10:54:03.179Z"
   },
   {
    "duration": 1218,
    "start_time": "2021-08-24T11:07:06.145Z"
   },
   {
    "duration": 547,
    "start_time": "2021-08-24T11:07:07.366Z"
   },
   {
    "duration": 54,
    "start_time": "2021-08-24T11:07:07.917Z"
   },
   {
    "duration": 201,
    "start_time": "2021-08-24T11:07:07.973Z"
   },
   {
    "duration": 13,
    "start_time": "2021-08-24T11:07:08.176Z"
   },
   {
    "duration": 719,
    "start_time": "2021-08-24T11:07:08.192Z"
   },
   {
    "duration": 43,
    "start_time": "2021-08-24T11:07:08.914Z"
   },
   {
    "duration": 8,
    "start_time": "2021-08-24T11:07:08.961Z"
   },
   {
    "duration": 130,
    "start_time": "2021-08-24T11:07:08.971Z"
   },
   {
    "duration": 27,
    "start_time": "2021-08-24T11:07:09.104Z"
   },
   {
    "duration": 106,
    "start_time": "2021-08-24T11:07:09.134Z"
   },
   {
    "duration": 30,
    "start_time": "2021-08-24T11:07:09.243Z"
   },
   {
    "duration": 16,
    "start_time": "2021-08-24T11:07:09.275Z"
   },
   {
    "duration": 31,
    "start_time": "2021-08-24T11:07:09.293Z"
   },
   {
    "duration": 33,
    "start_time": "2021-08-24T11:07:09.326Z"
   },
   {
    "duration": 19,
    "start_time": "2021-08-24T11:07:09.361Z"
   },
   {
    "duration": 225,
    "start_time": "2021-08-24T11:07:09.384Z"
   },
   {
    "duration": 1800,
    "start_time": "2021-08-24T11:07:07.812Z"
   },
   {
    "duration": 17,
    "start_time": "2021-08-24T11:07:38.134Z"
   },
   {
    "duration": 74,
    "start_time": "2021-08-24T11:10:40.262Z"
   },
   {
    "duration": 1179,
    "start_time": "2021-08-24T11:10:52.482Z"
   },
   {
    "duration": 547,
    "start_time": "2021-08-24T11:10:53.663Z"
   },
   {
    "duration": 45,
    "start_time": "2021-08-24T11:10:54.213Z"
   },
   {
    "duration": 213,
    "start_time": "2021-08-24T11:10:54.261Z"
   },
   {
    "duration": 13,
    "start_time": "2021-08-24T11:10:54.477Z"
   },
   {
    "duration": 655,
    "start_time": "2021-08-24T11:10:54.493Z"
   },
   {
    "duration": 33,
    "start_time": "2021-08-24T11:10:55.151Z"
   },
   {
    "duration": 7,
    "start_time": "2021-08-24T11:10:55.188Z"
   },
   {
    "duration": 141,
    "start_time": "2021-08-24T11:10:55.197Z"
   },
   {
    "duration": 30,
    "start_time": "2021-08-24T11:10:55.340Z"
   },
   {
    "duration": 110,
    "start_time": "2021-08-24T11:10:55.373Z"
   },
   {
    "duration": 17,
    "start_time": "2021-08-24T11:10:55.485Z"
   },
   {
    "duration": 8,
    "start_time": "2021-08-24T11:10:55.505Z"
   },
   {
    "duration": 49,
    "start_time": "2021-08-24T11:10:55.515Z"
   },
   {
    "duration": 12,
    "start_time": "2021-08-24T11:10:55.567Z"
   },
   {
    "duration": 25,
    "start_time": "2021-08-24T11:10:55.582Z"
   },
   {
    "duration": 131,
    "start_time": "2021-08-24T11:10:55.610Z"
   },
   {
    "duration": 52,
    "start_time": "2021-08-24T11:11:32.798Z"
   },
   {
    "duration": 85,
    "start_time": "2021-08-24T11:12:09.237Z"
   },
   {
    "duration": 80,
    "start_time": "2021-08-24T11:13:02.975Z"
   },
   {
    "duration": 148,
    "start_time": "2021-08-24T11:13:24.588Z"
   },
   {
    "duration": 192,
    "start_time": "2021-08-24T11:13:48.700Z"
   },
   {
    "duration": 88,
    "start_time": "2021-08-24T11:14:04.450Z"
   },
   {
    "duration": 149,
    "start_time": "2021-08-24T11:15:35.023Z"
   },
   {
    "duration": 86,
    "start_time": "2021-08-24T11:15:37.368Z"
   },
   {
    "duration": 89,
    "start_time": "2021-08-24T11:16:55.102Z"
   },
   {
    "duration": 83,
    "start_time": "2021-08-24T11:17:35.126Z"
   },
   {
    "duration": 90,
    "start_time": "2021-08-24T11:17:38.808Z"
   },
   {
    "duration": 610,
    "start_time": "2021-08-24T11:19:50.338Z"
   },
   {
    "duration": 1673,
    "start_time": "2021-08-24T11:20:04.683Z"
   },
   {
    "duration": 71,
    "start_time": "2021-08-24T11:20:25.490Z"
   },
   {
    "duration": 71,
    "start_time": "2021-08-24T11:25:42.933Z"
   },
   {
    "duration": 36,
    "start_time": "2021-08-24T11:27:54.647Z"
   },
   {
    "duration": 59,
    "start_time": "2021-08-24T11:28:57.233Z"
   },
   {
    "duration": 71,
    "start_time": "2021-08-24T11:29:02.248Z"
   },
   {
    "duration": 429,
    "start_time": "2021-08-24T11:35:14.784Z"
   },
   {
    "duration": 72,
    "start_time": "2021-08-24T11:35:30.462Z"
   },
   {
    "duration": 77,
    "start_time": "2021-08-24T11:35:58.128Z"
   },
   {
    "duration": 319,
    "start_time": "2021-08-26T07:54:07.167Z"
   },
   {
    "duration": 1108,
    "start_time": "2021-08-26T07:54:18.572Z"
   },
   {
    "duration": 476,
    "start_time": "2021-08-26T07:54:19.683Z"
   },
   {
    "duration": 44,
    "start_time": "2021-08-26T07:54:20.161Z"
   },
   {
    "duration": 189,
    "start_time": "2021-08-26T07:54:20.207Z"
   },
   {
    "duration": 14,
    "start_time": "2021-08-26T07:54:20.398Z"
   },
   {
    "duration": 628,
    "start_time": "2021-08-26T07:54:20.414Z"
   },
   {
    "duration": 44,
    "start_time": "2021-08-26T07:54:21.044Z"
   },
   {
    "duration": 7,
    "start_time": "2021-08-26T07:54:21.090Z"
   },
   {
    "duration": 118,
    "start_time": "2021-08-26T07:54:21.100Z"
   },
   {
    "duration": 26,
    "start_time": "2021-08-26T07:54:21.220Z"
   },
   {
    "duration": 102,
    "start_time": "2021-08-26T07:54:21.249Z"
   },
   {
    "duration": 16,
    "start_time": "2021-08-26T07:54:21.354Z"
   },
   {
    "duration": 7,
    "start_time": "2021-08-26T07:54:21.382Z"
   },
   {
    "duration": 27,
    "start_time": "2021-08-26T07:54:21.391Z"
   },
   {
    "duration": 12,
    "start_time": "2021-08-26T07:54:21.421Z"
   },
   {
    "duration": 53,
    "start_time": "2021-08-26T07:54:21.436Z"
   },
   {
    "duration": 96,
    "start_time": "2021-08-26T07:54:21.492Z"
   },
   {
    "duration": 97,
    "start_time": "2021-08-26T07:54:21.590Z"
   },
   {
    "duration": 63,
    "start_time": "2021-08-26T07:54:21.689Z"
   },
   {
    "duration": 79,
    "start_time": "2021-08-26T07:54:21.754Z"
   },
   {
    "duration": 13,
    "start_time": "2021-08-26T07:54:21.836Z"
   },
   {
    "duration": 32,
    "start_time": "2021-08-26T07:54:28.696Z"
   },
   {
    "duration": 30,
    "start_time": "2021-08-26T07:54:49.876Z"
   },
   {
    "duration": 10,
    "start_time": "2021-08-26T07:54:56.667Z"
   },
   {
    "duration": 12,
    "start_time": "2021-08-26T07:59:33.545Z"
   },
   {
    "duration": 39,
    "start_time": "2021-08-26T07:59:45.281Z"
   },
   {
    "duration": 14,
    "start_time": "2021-08-26T08:01:51.477Z"
   },
   {
    "duration": 23,
    "start_time": "2021-08-26T08:01:55.009Z"
   },
   {
    "duration": 14,
    "start_time": "2021-08-26T08:02:36.563Z"
   },
   {
    "duration": 23,
    "start_time": "2021-08-26T08:02:37.317Z"
   },
   {
    "duration": 30,
    "start_time": "2021-08-26T08:02:50.924Z"
   },
   {
    "duration": 10,
    "start_time": "2021-08-26T08:03:01.258Z"
   },
   {
    "duration": 23,
    "start_time": "2021-08-26T08:03:07.814Z"
   },
   {
    "duration": 1174,
    "start_time": "2021-08-26T08:03:11.969Z"
   },
   {
    "duration": 485,
    "start_time": "2021-08-26T08:03:13.146Z"
   },
   {
    "duration": 44,
    "start_time": "2021-08-26T08:03:13.633Z"
   },
   {
    "duration": 170,
    "start_time": "2021-08-26T08:03:13.679Z"
   },
   {
    "duration": 12,
    "start_time": "2021-08-26T08:03:13.852Z"
   },
   {
    "duration": 603,
    "start_time": "2021-08-26T08:03:13.866Z"
   },
   {
    "duration": 41,
    "start_time": "2021-08-26T08:03:14.471Z"
   },
   {
    "duration": 6,
    "start_time": "2021-08-26T08:03:14.516Z"
   },
   {
    "duration": 118,
    "start_time": "2021-08-26T08:03:14.525Z"
   },
   {
    "duration": 39,
    "start_time": "2021-08-26T08:03:14.645Z"
   },
   {
    "duration": 102,
    "start_time": "2021-08-26T08:03:14.686Z"
   },
   {
    "duration": 18,
    "start_time": "2021-08-26T08:03:14.790Z"
   },
   {
    "duration": 6,
    "start_time": "2021-08-26T08:03:14.810Z"
   },
   {
    "duration": 25,
    "start_time": "2021-08-26T08:03:14.818Z"
   },
   {
    "duration": 45,
    "start_time": "2021-08-26T08:03:14.845Z"
   },
   {
    "duration": 19,
    "start_time": "2021-08-26T08:03:14.892Z"
   },
   {
    "duration": 116,
    "start_time": "2021-08-26T08:03:14.914Z"
   },
   {
    "duration": 101,
    "start_time": "2021-08-26T08:03:15.033Z"
   },
   {
    "duration": 70,
    "start_time": "2021-08-26T08:03:15.136Z"
   },
   {
    "duration": 75,
    "start_time": "2021-08-26T08:03:15.208Z"
   },
   {
    "duration": 9,
    "start_time": "2021-08-26T08:03:15.286Z"
   },
   {
    "duration": 31,
    "start_time": "2021-08-26T08:03:15.297Z"
   },
   {
    "duration": 14,
    "start_time": "2021-08-26T08:03:15.332Z"
   },
   {
    "duration": 50,
    "start_time": "2021-08-26T08:03:15.348Z"
   },
   {
    "duration": 8,
    "start_time": "2021-08-26T08:06:43.447Z"
   },
   {
    "duration": 35,
    "start_time": "2021-08-26T08:06:49.368Z"
   },
   {
    "duration": 1119,
    "start_time": "2021-08-26T08:07:40.664Z"
   },
   {
    "duration": 487,
    "start_time": "2021-08-26T08:07:41.785Z"
   },
   {
    "duration": 46,
    "start_time": "2021-08-26T08:07:42.275Z"
   },
   {
    "duration": 199,
    "start_time": "2021-08-26T08:07:42.325Z"
   },
   {
    "duration": 15,
    "start_time": "2021-08-26T08:07:42.527Z"
   },
   {
    "duration": 632,
    "start_time": "2021-08-26T08:07:42.545Z"
   },
   {
    "duration": 34,
    "start_time": "2021-08-26T08:07:43.183Z"
   },
   {
    "duration": 8,
    "start_time": "2021-08-26T08:07:43.223Z"
   },
   {
    "duration": 137,
    "start_time": "2021-08-26T08:07:43.235Z"
   },
   {
    "duration": 32,
    "start_time": "2021-08-26T08:07:43.376Z"
   },
   {
    "duration": 117,
    "start_time": "2021-08-26T08:07:43.411Z"
   },
   {
    "duration": 17,
    "start_time": "2021-08-26T08:07:43.531Z"
   },
   {
    "duration": 7,
    "start_time": "2021-08-26T08:07:43.551Z"
   },
   {
    "duration": 45,
    "start_time": "2021-08-26T08:07:43.560Z"
   },
   {
    "duration": 13,
    "start_time": "2021-08-26T08:07:43.608Z"
   },
   {
    "duration": 27,
    "start_time": "2021-08-26T08:07:43.624Z"
   },
   {
    "duration": 113,
    "start_time": "2021-08-26T08:07:43.654Z"
   },
   {
    "duration": 88,
    "start_time": "2021-08-26T08:07:43.781Z"
   },
   {
    "duration": 72,
    "start_time": "2021-08-26T08:07:43.871Z"
   },
   {
    "duration": 82,
    "start_time": "2021-08-26T08:07:43.945Z"
   },
   {
    "duration": 9,
    "start_time": "2021-08-26T08:07:44.029Z"
   },
   {
    "duration": 56,
    "start_time": "2021-08-26T08:07:44.041Z"
   },
   {
    "duration": 15,
    "start_time": "2021-08-26T08:07:44.102Z"
   },
   {
    "duration": 437,
    "start_time": "2021-08-26T08:07:44.119Z"
   },
   {
    "duration": 1486,
    "start_time": "2021-08-26T08:07:43.072Z"
   },
   {
    "duration": 11,
    "start_time": "2021-08-26T08:08:20.452Z"
   },
   {
    "duration": 26,
    "start_time": "2021-08-26T08:08:21.630Z"
   },
   {
    "duration": 11,
    "start_time": "2021-08-26T08:08:54.224Z"
   },
   {
    "duration": 24,
    "start_time": "2021-08-26T08:08:55.987Z"
   },
   {
    "duration": 1146,
    "start_time": "2021-08-26T08:09:14.108Z"
   },
   {
    "duration": 498,
    "start_time": "2021-08-26T08:09:15.257Z"
   },
   {
    "duration": 44,
    "start_time": "2021-08-26T08:09:15.761Z"
   },
   {
    "duration": 203,
    "start_time": "2021-08-26T08:09:15.808Z"
   },
   {
    "duration": 13,
    "start_time": "2021-08-26T08:09:16.014Z"
   },
   {
    "duration": 660,
    "start_time": "2021-08-26T08:09:16.029Z"
   },
   {
    "duration": 31,
    "start_time": "2021-08-26T08:09:16.693Z"
   },
   {
    "duration": 7,
    "start_time": "2021-08-26T08:09:16.728Z"
   },
   {
    "duration": 147,
    "start_time": "2021-08-26T08:09:16.738Z"
   },
   {
    "duration": 26,
    "start_time": "2021-08-26T08:09:16.888Z"
   },
   {
    "duration": 104,
    "start_time": "2021-08-26T08:09:16.917Z"
   },
   {
    "duration": 16,
    "start_time": "2021-08-26T08:09:17.023Z"
   },
   {
    "duration": 14,
    "start_time": "2021-08-26T08:09:17.041Z"
   },
   {
    "duration": 42,
    "start_time": "2021-08-26T08:09:17.058Z"
   },
   {
    "duration": 13,
    "start_time": "2021-08-26T08:09:17.102Z"
   },
   {
    "duration": 21,
    "start_time": "2021-08-26T08:09:17.117Z"
   },
   {
    "duration": 122,
    "start_time": "2021-08-26T08:09:17.140Z"
   },
   {
    "duration": 96,
    "start_time": "2021-08-26T08:09:17.265Z"
   },
   {
    "duration": 76,
    "start_time": "2021-08-26T08:09:17.364Z"
   },
   {
    "duration": 75,
    "start_time": "2021-08-26T08:09:17.443Z"
   },
   {
    "duration": 10,
    "start_time": "2021-08-26T08:09:17.521Z"
   },
   {
    "duration": 48,
    "start_time": "2021-08-26T08:09:17.536Z"
   },
   {
    "duration": 14,
    "start_time": "2021-08-26T08:09:17.587Z"
   },
   {
    "duration": 12,
    "start_time": "2021-08-26T08:09:17.604Z"
   },
   {
    "duration": 26,
    "start_time": "2021-08-26T08:09:17.619Z"
   },
   {
    "duration": 6,
    "start_time": "2021-08-26T08:11:31.639Z"
   },
   {
    "duration": 12710,
    "start_time": "2021-08-26T08:12:29.750Z"
   },
   {
    "duration": 23,
    "start_time": "2021-08-26T08:12:49.459Z"
   },
   {
    "duration": 19,
    "start_time": "2021-08-26T08:12:59.898Z"
   },
   {
    "duration": 9,
    "start_time": "2021-08-26T08:13:41.354Z"
   },
   {
    "duration": 11,
    "start_time": "2021-08-26T08:21:02.909Z"
   },
   {
    "duration": 6,
    "start_time": "2021-08-26T08:21:58.849Z"
   },
   {
    "duration": 267,
    "start_time": "2021-08-26T08:27:53.765Z"
   },
   {
    "duration": 309,
    "start_time": "2021-08-26T08:29:45.780Z"
   },
   {
    "duration": 1425,
    "start_time": "2021-08-26T08:30:03.290Z"
   },
   {
    "duration": 515,
    "start_time": "2021-08-26T08:30:04.719Z"
   },
   {
    "duration": 62,
    "start_time": "2021-08-26T08:30:05.238Z"
   },
   {
    "duration": 183,
    "start_time": "2021-08-26T08:30:05.304Z"
   },
   {
    "duration": 12,
    "start_time": "2021-08-26T08:30:05.490Z"
   },
   {
    "duration": 650,
    "start_time": "2021-08-26T08:30:05.505Z"
   },
   {
    "duration": 46,
    "start_time": "2021-08-26T08:30:06.158Z"
   },
   {
    "duration": 7,
    "start_time": "2021-08-26T08:30:06.210Z"
   },
   {
    "duration": 148,
    "start_time": "2021-08-26T08:30:06.221Z"
   },
   {
    "duration": 31,
    "start_time": "2021-08-26T08:30:06.371Z"
   },
   {
    "duration": 109,
    "start_time": "2021-08-26T08:30:06.404Z"
   },
   {
    "duration": 18,
    "start_time": "2021-08-26T08:30:06.515Z"
   },
   {
    "duration": 7,
    "start_time": "2021-08-26T08:30:06.535Z"
   },
   {
    "duration": 53,
    "start_time": "2021-08-26T08:30:06.545Z"
   },
   {
    "duration": 14,
    "start_time": "2021-08-26T08:30:06.601Z"
   },
   {
    "duration": 23,
    "start_time": "2021-08-26T08:30:06.617Z"
   },
   {
    "duration": 115,
    "start_time": "2021-08-26T08:30:06.643Z"
   },
   {
    "duration": 101,
    "start_time": "2021-08-26T08:30:06.760Z"
   },
   {
    "duration": 69,
    "start_time": "2021-08-26T08:30:06.863Z"
   },
   {
    "duration": 78,
    "start_time": "2021-08-26T08:30:06.935Z"
   },
   {
    "duration": 10,
    "start_time": "2021-08-26T08:30:07.016Z"
   },
   {
    "duration": 37,
    "start_time": "2021-08-26T08:30:07.028Z"
   },
   {
    "duration": 15,
    "start_time": "2021-08-26T08:30:07.085Z"
   },
   {
    "duration": 10,
    "start_time": "2021-08-26T08:30:07.103Z"
   },
   {
    "duration": 27,
    "start_time": "2021-08-26T08:30:07.115Z"
   },
   {
    "duration": 40,
    "start_time": "2021-08-26T08:30:07.144Z"
   },
   {
    "duration": 6,
    "start_time": "2021-08-26T08:30:07.186Z"
   },
   {
    "duration": 783,
    "start_time": "2021-08-26T08:30:07.194Z"
   },
   {
    "duration": 6,
    "start_time": "2021-08-26T08:30:35.607Z"
   },
   {
    "duration": 33,
    "start_time": "2021-08-26T08:30:48.629Z"
   },
   {
    "duration": 8742,
    "start_time": "2021-08-26T08:32:07.081Z"
   },
   {
    "duration": 6997,
    "start_time": "2021-08-26T08:32:30.937Z"
   },
   {
    "duration": 25,
    "start_time": "2021-08-26T08:35:43.664Z"
   },
   {
    "duration": 25,
    "start_time": "2021-08-26T08:35:53.199Z"
   },
   {
    "duration": 22,
    "start_time": "2021-08-26T08:36:02.598Z"
   },
   {
    "duration": 4,
    "start_time": "2021-08-26T08:36:12.899Z"
   },
   {
    "duration": 24,
    "start_time": "2021-08-26T08:36:14.683Z"
   },
   {
    "duration": 1232,
    "start_time": "2021-08-26T08:43:15.856Z"
   },
   {
    "duration": 1109,
    "start_time": "2021-08-26T08:43:47.603Z"
   },
   {
    "duration": 4,
    "start_time": "2021-08-26T08:44:09.951Z"
   },
   {
    "duration": 19,
    "start_time": "2021-08-26T08:44:14.170Z"
   },
   {
    "duration": 1146,
    "start_time": "2021-08-26T08:45:06.065Z"
   },
   {
    "duration": 1165,
    "start_time": "2021-08-26T08:46:23.180Z"
   },
   {
    "duration": 85,
    "start_time": "2021-08-26T08:46:42.614Z"
   },
   {
    "duration": 1216,
    "start_time": "2021-08-26T08:47:09.101Z"
   },
   {
    "duration": 82,
    "start_time": "2021-08-26T08:47:24.187Z"
   },
   {
    "duration": 67,
    "start_time": "2021-08-26T08:48:06.975Z"
   },
   {
    "duration": 1190,
    "start_time": "2021-08-26T08:48:19.790Z"
   },
   {
    "duration": 494,
    "start_time": "2021-08-26T08:48:20.983Z"
   },
   {
    "duration": 41,
    "start_time": "2021-08-26T08:48:21.480Z"
   },
   {
    "duration": 190,
    "start_time": "2021-08-26T08:48:21.524Z"
   },
   {
    "duration": 14,
    "start_time": "2021-08-26T08:48:21.717Z"
   },
   {
    "duration": 612,
    "start_time": "2021-08-26T08:48:21.733Z"
   },
   {
    "duration": 45,
    "start_time": "2021-08-26T08:48:22.347Z"
   },
   {
    "duration": 6,
    "start_time": "2021-08-26T08:48:22.396Z"
   },
   {
    "duration": 123,
    "start_time": "2021-08-26T08:48:22.406Z"
   },
   {
    "duration": 25,
    "start_time": "2021-08-26T08:48:22.532Z"
   },
   {
    "duration": 103,
    "start_time": "2021-08-26T08:48:22.560Z"
   },
   {
    "duration": 30,
    "start_time": "2021-08-26T08:48:22.666Z"
   },
   {
    "duration": 11,
    "start_time": "2021-08-26T08:48:22.698Z"
   },
   {
    "duration": 25,
    "start_time": "2021-08-26T08:48:22.711Z"
   },
   {
    "duration": 45,
    "start_time": "2021-08-26T08:48:22.739Z"
   },
   {
    "duration": 19,
    "start_time": "2021-08-26T08:48:22.786Z"
   },
   {
    "duration": 101,
    "start_time": "2021-08-26T08:48:22.808Z"
   },
   {
    "duration": 95,
    "start_time": "2021-08-26T08:48:22.912Z"
   },
   {
    "duration": 83,
    "start_time": "2021-08-26T08:48:23.009Z"
   },
   {
    "duration": 61,
    "start_time": "2021-08-26T08:48:23.094Z"
   },
   {
    "duration": 28,
    "start_time": "2021-08-26T08:48:23.157Z"
   },
   {
    "duration": 31,
    "start_time": "2021-08-26T08:48:23.187Z"
   },
   {
    "duration": 14,
    "start_time": "2021-08-26T08:48:23.223Z"
   },
   {
    "duration": 11,
    "start_time": "2021-08-26T08:48:23.240Z"
   },
   {
    "duration": 46,
    "start_time": "2021-08-26T08:48:23.253Z"
   },
   {
    "duration": 9,
    "start_time": "2021-08-26T08:48:23.302Z"
   },
   {
    "duration": 4136,
    "start_time": "2021-08-26T08:48:23.313Z"
   },
   {
    "duration": 4,
    "start_time": "2021-08-26T08:48:27.451Z"
   },
   {
    "duration": 51,
    "start_time": "2021-08-26T08:48:27.458Z"
   },
   {
    "duration": 7135,
    "start_time": "2021-08-26T08:48:27.511Z"
   },
   {
    "duration": 1170,
    "start_time": "2021-08-26T08:52:04.911Z"
   },
   {
    "duration": 557,
    "start_time": "2021-08-26T08:52:06.083Z"
   },
   {
    "duration": 45,
    "start_time": "2021-08-26T08:52:06.643Z"
   },
   {
    "duration": 183,
    "start_time": "2021-08-26T08:52:06.691Z"
   },
   {
    "duration": 19,
    "start_time": "2021-08-26T08:52:06.876Z"
   },
   {
    "duration": 667,
    "start_time": "2021-08-26T08:52:06.897Z"
   },
   {
    "duration": 46,
    "start_time": "2021-08-26T08:52:07.567Z"
   },
   {
    "duration": 6,
    "start_time": "2021-08-26T08:52:07.618Z"
   },
   {
    "duration": 129,
    "start_time": "2021-08-26T08:52:07.627Z"
   },
   {
    "duration": 37,
    "start_time": "2021-08-26T08:52:07.759Z"
   },
   {
    "duration": 112,
    "start_time": "2021-08-26T08:52:07.799Z"
   },
   {
    "duration": 387,
    "start_time": "2021-08-26T08:52:07.913Z"
   },
   {
    "duration": 5,
    "start_time": "2021-08-26T08:52:08.303Z"
   },
   {
    "duration": 25,
    "start_time": "2021-08-26T08:52:08.311Z"
   },
   {
    "duration": 20,
    "start_time": "2021-08-26T08:52:08.339Z"
   },
   {
    "duration": 19,
    "start_time": "2021-08-26T08:52:08.382Z"
   },
   {
    "duration": 104,
    "start_time": "2021-08-26T08:52:08.403Z"
   },
   {
    "duration": 100,
    "start_time": "2021-08-26T08:52:08.510Z"
   },
   {
    "duration": 72,
    "start_time": "2021-08-26T08:52:08.612Z"
   },
   {
    "duration": 60,
    "start_time": "2021-08-26T08:52:08.686Z"
   },
   {
    "duration": 10,
    "start_time": "2021-08-26T08:52:08.748Z"
   },
   {
    "duration": 55,
    "start_time": "2021-08-26T08:52:08.760Z"
   },
   {
    "duration": 15,
    "start_time": "2021-08-26T08:52:08.819Z"
   },
   {
    "duration": 13,
    "start_time": "2021-08-26T08:52:08.836Z"
   },
   {
    "duration": 49,
    "start_time": "2021-08-26T08:52:08.851Z"
   },
   {
    "duration": 9,
    "start_time": "2021-08-26T08:52:08.902Z"
   },
   {
    "duration": 98,
    "start_time": "2021-08-26T08:52:08.914Z"
   },
   {
    "duration": 1551,
    "start_time": "2021-08-26T08:52:07.464Z"
   },
   {
    "duration": 415,
    "start_time": "2021-08-26T08:52:24.010Z"
   },
   {
    "duration": 2548,
    "start_time": "2021-08-26T08:52:51.143Z"
   },
   {
    "duration": 4439,
    "start_time": "2021-08-26T08:53:12.029Z"
   },
   {
    "duration": 31,
    "start_time": "2021-08-26T08:53:18.561Z"
   },
   {
    "duration": 1496,
    "start_time": "2021-08-26T08:55:35.974Z"
   },
   {
    "duration": 1139,
    "start_time": "2021-08-26T08:55:54.439Z"
   },
   {
    "duration": 490,
    "start_time": "2021-08-26T08:55:55.580Z"
   },
   {
    "duration": 45,
    "start_time": "2021-08-26T08:55:56.073Z"
   },
   {
    "duration": 192,
    "start_time": "2021-08-26T08:55:56.121Z"
   },
   {
    "duration": 13,
    "start_time": "2021-08-26T08:55:56.316Z"
   },
   {
    "duration": 632,
    "start_time": "2021-08-26T08:55:56.331Z"
   },
   {
    "duration": 40,
    "start_time": "2021-08-26T08:55:56.966Z"
   },
   {
    "duration": 7,
    "start_time": "2021-08-26T08:55:57.009Z"
   },
   {
    "duration": 117,
    "start_time": "2021-08-26T08:55:57.020Z"
   },
   {
    "duration": 41,
    "start_time": "2021-08-26T08:55:57.141Z"
   },
   {
    "duration": 81,
    "start_time": "2021-08-26T08:55:57.184Z"
   },
   {
    "duration": 27,
    "start_time": "2021-08-26T08:55:57.267Z"
   },
   {
    "duration": 12,
    "start_time": "2021-08-26T08:55:57.296Z"
   },
   {
    "duration": 24,
    "start_time": "2021-08-26T08:55:57.310Z"
   },
   {
    "duration": 13,
    "start_time": "2021-08-26T08:55:57.337Z"
   },
   {
    "duration": 46,
    "start_time": "2021-08-26T08:55:57.352Z"
   },
   {
    "duration": 97,
    "start_time": "2021-08-26T08:55:57.401Z"
   },
   {
    "duration": 87,
    "start_time": "2021-08-26T08:55:57.501Z"
   },
   {
    "duration": 61,
    "start_time": "2021-08-26T08:55:57.590Z"
   },
   {
    "duration": 82,
    "start_time": "2021-08-26T08:55:57.653Z"
   },
   {
    "duration": 9,
    "start_time": "2021-08-26T08:55:57.738Z"
   },
   {
    "duration": 52,
    "start_time": "2021-08-26T08:55:57.749Z"
   },
   {
    "duration": 15,
    "start_time": "2021-08-26T08:55:57.803Z"
   },
   {
    "duration": 10,
    "start_time": "2021-08-26T08:55:57.820Z"
   },
   {
    "duration": 27,
    "start_time": "2021-08-26T08:55:57.832Z"
   },
   {
    "duration": 24,
    "start_time": "2021-08-26T08:55:57.862Z"
   },
   {
    "duration": 4406,
    "start_time": "2021-08-26T08:55:57.890Z"
   },
   {
    "duration": 641,
    "start_time": "2021-08-26T08:56:02.298Z"
   },
   {
    "duration": 6,
    "start_time": "2021-08-26T08:56:18.867Z"
   },
   {
    "duration": 29,
    "start_time": "2021-08-26T08:56:23.835Z"
   },
   {
    "duration": 32,
    "start_time": "2021-08-26T08:56:35.702Z"
   },
   {
    "duration": 491,
    "start_time": "2021-08-26T08:56:50.361Z"
   },
   {
    "duration": 1196,
    "start_time": "2021-08-26T08:56:57.291Z"
   },
   {
    "duration": 497,
    "start_time": "2021-08-26T08:56:58.489Z"
   },
   {
    "duration": 47,
    "start_time": "2021-08-26T08:56:58.989Z"
   },
   {
    "duration": 209,
    "start_time": "2021-08-26T08:56:59.039Z"
   },
   {
    "duration": 31,
    "start_time": "2021-08-26T08:56:59.251Z"
   },
   {
    "duration": 649,
    "start_time": "2021-08-26T08:56:59.285Z"
   },
   {
    "duration": 50,
    "start_time": "2021-08-26T08:56:59.936Z"
   },
   {
    "duration": 7,
    "start_time": "2021-08-26T08:56:59.992Z"
   },
   {
    "duration": 147,
    "start_time": "2021-08-26T08:57:00.004Z"
   },
   {
    "duration": 42,
    "start_time": "2021-08-26T08:57:00.154Z"
   },
   {
    "duration": 123,
    "start_time": "2021-08-26T08:57:00.198Z"
   },
   {
    "duration": 17,
    "start_time": "2021-08-26T08:57:00.324Z"
   },
   {
    "duration": 16,
    "start_time": "2021-08-26T08:57:00.343Z"
   },
   {
    "duration": 41,
    "start_time": "2021-08-26T08:57:00.362Z"
   },
   {
    "duration": 13,
    "start_time": "2021-08-26T08:57:00.406Z"
   },
   {
    "duration": 35,
    "start_time": "2021-08-26T08:57:00.421Z"
   },
   {
    "duration": 107,
    "start_time": "2021-08-26T08:57:00.484Z"
   },
   {
    "duration": 98,
    "start_time": "2021-08-26T08:57:00.594Z"
   },
   {
    "duration": 106,
    "start_time": "2021-08-26T08:57:00.695Z"
   },
   {
    "duration": 99,
    "start_time": "2021-08-26T08:57:00.804Z"
   },
   {
    "duration": 13,
    "start_time": "2021-08-26T08:57:00.906Z"
   },
   {
    "duration": 63,
    "start_time": "2021-08-26T08:57:00.923Z"
   },
   {
    "duration": 20,
    "start_time": "2021-08-26T08:57:00.992Z"
   },
   {
    "duration": 13,
    "start_time": "2021-08-26T08:57:01.015Z"
   },
   {
    "duration": 51,
    "start_time": "2021-08-26T08:57:01.031Z"
   },
   {
    "duration": 20,
    "start_time": "2021-08-26T08:57:01.086Z"
   },
   {
    "duration": 4451,
    "start_time": "2021-08-26T08:57:01.109Z"
   },
   {
    "duration": 6,
    "start_time": "2021-08-26T08:57:05.563Z"
   },
   {
    "duration": 26,
    "start_time": "2021-08-26T08:57:05.583Z"
   },
   {
    "duration": 19,
    "start_time": "2021-08-26T08:57:26.104Z"
   },
   {
    "duration": 1134,
    "start_time": "2021-08-26T08:57:46.859Z"
   },
   {
    "duration": 518,
    "start_time": "2021-08-26T08:57:47.997Z"
   },
   {
    "duration": 54,
    "start_time": "2021-08-26T08:57:48.518Z"
   },
   {
    "duration": 172,
    "start_time": "2021-08-26T08:57:48.574Z"
   },
   {
    "duration": 11,
    "start_time": "2021-08-26T08:57:48.749Z"
   },
   {
    "duration": 694,
    "start_time": "2021-08-26T08:57:48.763Z"
   },
   {
    "duration": 41,
    "start_time": "2021-08-26T08:57:49.461Z"
   },
   {
    "duration": 8,
    "start_time": "2021-08-26T08:57:49.505Z"
   },
   {
    "duration": 137,
    "start_time": "2021-08-26T08:57:49.516Z"
   },
   {
    "duration": 40,
    "start_time": "2021-08-26T08:57:49.655Z"
   },
   {
    "duration": 104,
    "start_time": "2021-08-26T08:57:49.698Z"
   },
   {
    "duration": 19,
    "start_time": "2021-08-26T08:57:49.805Z"
   },
   {
    "duration": 14,
    "start_time": "2021-08-26T08:57:49.827Z"
   },
   {
    "duration": 54,
    "start_time": "2021-08-26T08:57:49.843Z"
   },
   {
    "duration": 16,
    "start_time": "2021-08-26T08:57:49.900Z"
   },
   {
    "duration": 25,
    "start_time": "2021-08-26T08:57:49.919Z"
   },
   {
    "duration": 140,
    "start_time": "2021-08-26T08:57:49.947Z"
   },
   {
    "duration": 121,
    "start_time": "2021-08-26T08:57:50.091Z"
   },
   {
    "duration": 98,
    "start_time": "2021-08-26T08:57:50.215Z"
   },
   {
    "duration": 82,
    "start_time": "2021-08-26T08:57:50.315Z"
   },
   {
    "duration": 10,
    "start_time": "2021-08-26T08:57:50.400Z"
   },
   {
    "duration": 36,
    "start_time": "2021-08-26T08:57:50.415Z"
   },
   {
    "duration": 42,
    "start_time": "2021-08-26T08:57:50.454Z"
   },
   {
    "duration": 11,
    "start_time": "2021-08-26T08:57:50.500Z"
   },
   {
    "duration": 23,
    "start_time": "2021-08-26T08:57:50.514Z"
   },
   {
    "duration": 6,
    "start_time": "2021-08-26T08:57:50.539Z"
   },
   {
    "duration": 5158,
    "start_time": "2021-08-26T08:57:50.547Z"
   },
   {
    "duration": 8,
    "start_time": "2021-08-26T08:57:55.708Z"
   },
   {
    "duration": 30,
    "start_time": "2021-08-26T08:57:55.719Z"
   },
   {
    "duration": 6,
    "start_time": "2021-08-26T09:03:19.858Z"
   },
   {
    "duration": 6,
    "start_time": "2021-08-26T09:04:13.051Z"
   },
   {
    "duration": 5,
    "start_time": "2021-08-26T09:04:28.112Z"
   },
   {
    "duration": 18,
    "start_time": "2021-08-26T09:04:40.699Z"
   },
   {
    "duration": 1137,
    "start_time": "2021-08-26T09:08:38.657Z"
   },
   {
    "duration": 495,
    "start_time": "2021-08-26T09:08:39.797Z"
   },
   {
    "duration": 46,
    "start_time": "2021-08-26T09:08:40.294Z"
   },
   {
    "duration": 193,
    "start_time": "2021-08-26T09:08:40.343Z"
   },
   {
    "duration": 13,
    "start_time": "2021-08-26T09:08:40.539Z"
   },
   {
    "duration": 643,
    "start_time": "2021-08-26T09:08:40.554Z"
   },
   {
    "duration": 32,
    "start_time": "2021-08-26T09:08:41.199Z"
   },
   {
    "duration": 7,
    "start_time": "2021-08-26T09:08:41.235Z"
   },
   {
    "duration": 139,
    "start_time": "2021-08-26T09:08:41.245Z"
   },
   {
    "duration": 26,
    "start_time": "2021-08-26T09:08:41.386Z"
   },
   {
    "duration": 107,
    "start_time": "2021-08-26T09:08:41.415Z"
   },
   {
    "duration": 17,
    "start_time": "2021-08-26T09:08:41.525Z"
   },
   {
    "duration": 6,
    "start_time": "2021-08-26T09:08:41.544Z"
   },
   {
    "duration": 46,
    "start_time": "2021-08-26T09:08:41.552Z"
   },
   {
    "duration": 13,
    "start_time": "2021-08-26T09:08:41.601Z"
   },
   {
    "duration": 21,
    "start_time": "2021-08-26T09:08:41.616Z"
   },
   {
    "duration": 123,
    "start_time": "2021-08-26T09:08:41.640Z"
   },
   {
    "duration": 98,
    "start_time": "2021-08-26T09:08:41.766Z"
   },
   {
    "duration": 75,
    "start_time": "2021-08-26T09:08:41.867Z"
   },
   {
    "duration": 77,
    "start_time": "2021-08-26T09:08:41.944Z"
   },
   {
    "duration": 16,
    "start_time": "2021-08-26T09:08:42.023Z"
   },
   {
    "duration": 24,
    "start_time": "2021-08-26T09:08:42.041Z"
   },
   {
    "duration": 30,
    "start_time": "2021-08-26T09:08:42.069Z"
   },
   {
    "duration": 4238,
    "start_time": "2021-08-26T09:08:42.102Z"
   },
   {
    "duration": 6,
    "start_time": "2021-08-26T09:08:46.342Z"
   },
   {
    "duration": 37,
    "start_time": "2021-08-26T09:08:46.351Z"
   },
   {
    "duration": 63988,
    "start_time": "2021-08-26T09:08:46.390Z"
   },
   {
    "duration": 1562,
    "start_time": "2021-08-26T09:09:48.818Z"
   },
   {
    "duration": 1557,
    "start_time": "2021-08-26T09:09:48.825Z"
   },
   {
    "duration": 125453,
    "start_time": "2021-08-26T09:10:00.175Z"
   },
   {
    "duration": 1120,
    "start_time": "2021-08-26T09:13:19.168Z"
   },
   {
    "duration": 508,
    "start_time": "2021-08-26T09:13:20.291Z"
   },
   {
    "duration": 43,
    "start_time": "2021-08-26T09:13:20.801Z"
   },
   {
    "duration": 185,
    "start_time": "2021-08-26T09:13:20.847Z"
   },
   {
    "duration": 12,
    "start_time": "2021-08-26T09:13:21.035Z"
   },
   {
    "duration": 622,
    "start_time": "2021-08-26T09:13:21.050Z"
   },
   {
    "duration": 39,
    "start_time": "2021-08-26T09:13:21.674Z"
   },
   {
    "duration": 7,
    "start_time": "2021-08-26T09:13:21.717Z"
   },
   {
    "duration": 129,
    "start_time": "2021-08-26T09:13:21.727Z"
   },
   {
    "duration": 34,
    "start_time": "2021-08-26T09:13:21.859Z"
   },
   {
    "duration": 100,
    "start_time": "2021-08-26T09:13:21.895Z"
   },
   {
    "duration": 16,
    "start_time": "2021-08-26T09:13:21.997Z"
   },
   {
    "duration": 12,
    "start_time": "2021-08-26T09:13:22.015Z"
   },
   {
    "duration": 54,
    "start_time": "2021-08-26T09:13:22.030Z"
   },
   {
    "duration": 13,
    "start_time": "2021-08-26T09:13:22.086Z"
   },
   {
    "duration": 27,
    "start_time": "2021-08-26T09:13:22.101Z"
   },
   {
    "duration": 109,
    "start_time": "2021-08-26T09:13:22.130Z"
   },
   {
    "duration": 92,
    "start_time": "2021-08-26T09:13:22.241Z"
   },
   {
    "duration": 76,
    "start_time": "2021-08-26T09:13:22.335Z"
   },
   {
    "duration": 72,
    "start_time": "2021-08-26T09:13:22.413Z"
   },
   {
    "duration": 13,
    "start_time": "2021-08-26T09:13:22.488Z"
   },
   {
    "duration": 17,
    "start_time": "2021-08-26T09:13:22.503Z"
   },
   {
    "duration": 27,
    "start_time": "2021-08-26T09:13:22.524Z"
   },
   {
    "duration": 4119,
    "start_time": "2021-08-26T09:13:22.554Z"
   },
   {
    "duration": 8,
    "start_time": "2021-08-26T09:13:26.676Z"
   },
   {
    "duration": 33,
    "start_time": "2021-08-26T09:13:26.687Z"
   },
   {
    "duration": 22265,
    "start_time": "2021-08-26T09:13:26.723Z"
   },
   {
    "duration": 1556,
    "start_time": "2021-08-26T09:13:47.434Z"
   },
   {
    "duration": 1550,
    "start_time": "2021-08-26T09:13:47.442Z"
   },
   {
    "duration": 6,
    "start_time": "2021-08-26T09:13:59.804Z"
   },
   {
    "duration": 6,
    "start_time": "2021-08-26T09:14:15.123Z"
   },
   {
    "duration": 35,
    "start_time": "2021-08-26T09:14:24.882Z"
   },
   {
    "duration": 1176,
    "start_time": "2021-08-26T09:15:00.895Z"
   },
   {
    "duration": 503,
    "start_time": "2021-08-26T09:15:02.074Z"
   },
   {
    "duration": 44,
    "start_time": "2021-08-26T09:15:02.580Z"
   },
   {
    "duration": 195,
    "start_time": "2021-08-26T09:15:02.627Z"
   },
   {
    "duration": 13,
    "start_time": "2021-08-26T09:15:02.824Z"
   },
   {
    "duration": 630,
    "start_time": "2021-08-26T09:15:02.839Z"
   },
   {
    "duration": 40,
    "start_time": "2021-08-26T09:15:03.471Z"
   },
   {
    "duration": 8,
    "start_time": "2021-08-26T09:15:03.514Z"
   },
   {
    "duration": 132,
    "start_time": "2021-08-26T09:15:03.526Z"
   },
   {
    "duration": 29,
    "start_time": "2021-08-26T09:15:03.661Z"
   },
   {
    "duration": 103,
    "start_time": "2021-08-26T09:15:03.693Z"
   },
   {
    "duration": 16,
    "start_time": "2021-08-26T09:15:03.798Z"
   },
   {
    "duration": 9,
    "start_time": "2021-08-26T09:15:03.816Z"
   },
   {
    "duration": 53,
    "start_time": "2021-08-26T09:15:03.828Z"
   },
   {
    "duration": 12,
    "start_time": "2021-08-26T09:15:03.884Z"
   },
   {
    "duration": 26,
    "start_time": "2021-08-26T09:15:03.899Z"
   },
   {
    "duration": 100,
    "start_time": "2021-08-26T09:15:03.928Z"
   },
   {
    "duration": 92,
    "start_time": "2021-08-26T09:15:04.030Z"
   },
   {
    "duration": 78,
    "start_time": "2021-08-26T09:15:04.125Z"
   },
   {
    "duration": 77,
    "start_time": "2021-08-26T09:15:04.207Z"
   },
   {
    "duration": 15,
    "start_time": "2021-08-26T09:15:04.287Z"
   },
   {
    "duration": 11,
    "start_time": "2021-08-26T09:15:04.304Z"
   },
   {
    "duration": 22,
    "start_time": "2021-08-26T09:15:04.320Z"
   },
   {
    "duration": 4245,
    "start_time": "2021-08-26T09:15:04.345Z"
   },
   {
    "duration": 6,
    "start_time": "2021-08-26T09:15:08.592Z"
   },
   {
    "duration": 28,
    "start_time": "2021-08-26T09:15:08.601Z"
   },
   {
    "duration": 7,
    "start_time": "2021-08-26T09:15:08.632Z"
   },
   {
    "duration": 14,
    "start_time": "2021-08-26T09:15:08.641Z"
   },
   {
    "duration": 32,
    "start_time": "2021-08-26T09:15:08.657Z"
   },
   {
    "duration": 350,
    "start_time": "2021-08-26T09:17:39.650Z"
   },
   {
    "duration": 4,
    "start_time": "2021-08-26T09:17:44.825Z"
   },
   {
    "duration": 3748,
    "start_time": "2021-08-26T09:17:45.561Z"
   },
   {
    "duration": 33,
    "start_time": "2021-08-26T09:17:56.570Z"
   },
   {
    "duration": 7,
    "start_time": "2021-08-26T09:18:04.637Z"
   },
   {
    "duration": 18,
    "start_time": "2021-08-26T09:18:05.833Z"
   },
   {
    "duration": 18,
    "start_time": "2021-08-26T09:33:54.232Z"
   },
   {
    "duration": 1128,
    "start_time": "2021-08-26T09:33:58.764Z"
   },
   {
    "duration": 511,
    "start_time": "2021-08-26T09:33:59.895Z"
   },
   {
    "duration": 45,
    "start_time": "2021-08-26T09:34:00.412Z"
   },
   {
    "duration": 195,
    "start_time": "2021-08-26T09:34:00.459Z"
   },
   {
    "duration": 27,
    "start_time": "2021-08-26T09:34:00.656Z"
   },
   {
    "duration": 641,
    "start_time": "2021-08-26T09:34:00.686Z"
   },
   {
    "duration": 34,
    "start_time": "2021-08-26T09:34:01.331Z"
   },
   {
    "duration": 7,
    "start_time": "2021-08-26T09:34:01.384Z"
   },
   {
    "duration": 125,
    "start_time": "2021-08-26T09:34:01.394Z"
   },
   {
    "duration": 25,
    "start_time": "2021-08-26T09:34:01.521Z"
   },
   {
    "duration": 134,
    "start_time": "2021-08-26T09:34:01.549Z"
   },
   {
    "duration": 17,
    "start_time": "2021-08-26T09:34:01.686Z"
   },
   {
    "duration": 20,
    "start_time": "2021-08-26T09:34:01.706Z"
   },
   {
    "duration": 47,
    "start_time": "2021-08-26T09:34:01.728Z"
   },
   {
    "duration": 13,
    "start_time": "2021-08-26T09:34:01.778Z"
   },
   {
    "duration": 49,
    "start_time": "2021-08-26T09:34:01.793Z"
   },
   {
    "duration": 97,
    "start_time": "2021-08-26T09:34:01.846Z"
   },
   {
    "duration": 101,
    "start_time": "2021-08-26T09:34:01.946Z"
   },
   {
    "duration": 77,
    "start_time": "2021-08-26T09:34:02.050Z"
   },
   {
    "duration": 79,
    "start_time": "2021-08-26T09:34:02.130Z"
   },
   {
    "duration": 16,
    "start_time": "2021-08-26T09:34:02.212Z"
   },
   {
    "duration": 29,
    "start_time": "2021-08-26T09:34:02.233Z"
   },
   {
    "duration": 26,
    "start_time": "2021-08-26T09:34:02.264Z"
   },
   {
    "duration": 36,
    "start_time": "2021-08-26T09:34:02.292Z"
   },
   {
    "duration": 4141,
    "start_time": "2021-08-26T09:34:02.330Z"
   },
   {
    "duration": 11,
    "start_time": "2021-08-26T09:34:06.474Z"
   },
   {
    "duration": 21,
    "start_time": "2021-08-26T09:34:06.487Z"
   },
   {
    "duration": 5,
    "start_time": "2021-08-26T09:34:06.511Z"
   },
   {
    "duration": 3689,
    "start_time": "2021-08-26T09:34:06.518Z"
   },
   {
    "duration": 6,
    "start_time": "2021-08-26T09:34:10.210Z"
   },
   {
    "duration": 24,
    "start_time": "2021-08-26T09:34:10.219Z"
   },
   {
    "duration": 18,
    "start_time": "2021-08-26T09:35:46.873Z"
   },
   {
    "duration": 1121,
    "start_time": "2021-08-26T09:36:27.960Z"
   },
   {
    "duration": 521,
    "start_time": "2021-08-26T09:36:29.084Z"
   },
   {
    "duration": 44,
    "start_time": "2021-08-26T09:36:29.607Z"
   },
   {
    "duration": 181,
    "start_time": "2021-08-26T09:36:29.654Z"
   },
   {
    "duration": 12,
    "start_time": "2021-08-26T09:36:29.837Z"
   },
   {
    "duration": 638,
    "start_time": "2021-08-26T09:36:29.852Z"
   },
   {
    "duration": 31,
    "start_time": "2021-08-26T09:36:30.493Z"
   },
   {
    "duration": 36,
    "start_time": "2021-08-26T09:36:30.528Z"
   },
   {
    "duration": 125,
    "start_time": "2021-08-26T09:36:30.568Z"
   },
   {
    "duration": 28,
    "start_time": "2021-08-26T09:36:30.695Z"
   },
   {
    "duration": 118,
    "start_time": "2021-08-26T09:36:30.726Z"
   },
   {
    "duration": 17,
    "start_time": "2021-08-26T09:36:30.847Z"
   },
   {
    "duration": 21,
    "start_time": "2021-08-26T09:36:30.867Z"
   },
   {
    "duration": 36,
    "start_time": "2021-08-26T09:36:30.891Z"
   },
   {
    "duration": 26,
    "start_time": "2021-08-26T09:36:30.931Z"
   },
   {
    "duration": 28,
    "start_time": "2021-08-26T09:36:30.983Z"
   },
   {
    "duration": 111,
    "start_time": "2021-08-26T09:36:31.014Z"
   },
   {
    "duration": 108,
    "start_time": "2021-08-26T09:36:31.128Z"
   },
   {
    "duration": 80,
    "start_time": "2021-08-26T09:36:31.239Z"
   },
   {
    "duration": 83,
    "start_time": "2021-08-26T09:36:31.322Z"
   },
   {
    "duration": 17,
    "start_time": "2021-08-26T09:36:31.408Z"
   },
   {
    "duration": 43,
    "start_time": "2021-08-26T09:36:31.428Z"
   },
   {
    "duration": 24,
    "start_time": "2021-08-26T09:36:31.476Z"
   },
   {
    "duration": 46,
    "start_time": "2021-08-26T09:36:31.503Z"
   },
   {
    "duration": 4093,
    "start_time": "2021-08-26T09:36:31.552Z"
   },
   {
    "duration": 6,
    "start_time": "2021-08-26T09:36:35.647Z"
   },
   {
    "duration": 34,
    "start_time": "2021-08-26T09:36:35.656Z"
   },
   {
    "duration": 7,
    "start_time": "2021-08-26T09:36:35.693Z"
   },
   {
    "duration": 3700,
    "start_time": "2021-08-26T09:36:35.702Z"
   },
   {
    "duration": 6,
    "start_time": "2021-08-26T09:36:39.404Z"
   },
   {
    "duration": 24,
    "start_time": "2021-08-26T09:36:39.412Z"
   },
   {
    "duration": 1140,
    "start_time": "2021-08-26T09:43:58.539Z"
   },
   {
    "duration": 498,
    "start_time": "2021-08-26T09:43:59.682Z"
   },
   {
    "duration": 45,
    "start_time": "2021-08-26T09:44:00.183Z"
   },
   {
    "duration": 203,
    "start_time": "2021-08-26T09:44:00.230Z"
   },
   {
    "duration": 15,
    "start_time": "2021-08-26T09:44:00.435Z"
   },
   {
    "duration": 654,
    "start_time": "2021-08-26T09:44:00.452Z"
   },
   {
    "duration": 31,
    "start_time": "2021-08-26T09:44:01.109Z"
   },
   {
    "duration": 15,
    "start_time": "2021-08-26T09:44:01.144Z"
   },
   {
    "duration": 111,
    "start_time": "2021-08-26T09:44:01.182Z"
   },
   {
    "duration": 26,
    "start_time": "2021-08-26T09:44:01.296Z"
   },
   {
    "duration": 109,
    "start_time": "2021-08-26T09:44:01.325Z"
   },
   {
    "duration": 17,
    "start_time": "2021-08-26T09:44:01.437Z"
   },
   {
    "duration": 26,
    "start_time": "2021-08-26T09:44:01.457Z"
   },
   {
    "duration": 31,
    "start_time": "2021-08-26T09:44:01.485Z"
   },
   {
    "duration": 35,
    "start_time": "2021-08-26T09:44:01.519Z"
   },
   {
    "duration": 51,
    "start_time": "2021-08-26T09:44:01.557Z"
   },
   {
    "duration": 122,
    "start_time": "2021-08-26T09:44:01.610Z"
   },
   {
    "duration": 105,
    "start_time": "2021-08-26T09:44:01.736Z"
   },
   {
    "duration": 69,
    "start_time": "2021-08-26T09:44:01.843Z"
   },
   {
    "duration": 72,
    "start_time": "2021-08-26T09:44:01.915Z"
   },
   {
    "duration": 15,
    "start_time": "2021-08-26T09:44:01.990Z"
   },
   {
    "duration": 54,
    "start_time": "2021-08-26T09:44:02.007Z"
   },
   {
    "duration": 14,
    "start_time": "2021-08-26T09:44:02.065Z"
   },
   {
    "duration": 41,
    "start_time": "2021-08-26T09:44:02.082Z"
   },
   {
    "duration": 4372,
    "start_time": "2021-08-26T09:44:02.125Z"
   },
   {
    "duration": 8,
    "start_time": "2021-08-26T09:44:06.500Z"
   },
   {
    "duration": 25,
    "start_time": "2021-08-26T09:44:06.510Z"
   },
   {
    "duration": 7,
    "start_time": "2021-08-26T09:44:06.537Z"
   },
   {
    "duration": 3822,
    "start_time": "2021-08-26T09:44:06.547Z"
   },
   {
    "duration": 2215,
    "start_time": "2021-08-26T09:44:10.371Z"
   },
   {
    "duration": 1615,
    "start_time": "2021-08-26T09:44:10.974Z"
   },
   {
    "duration": 6,
    "start_time": "2021-08-26T09:44:40.536Z"
   },
   {
    "duration": 18,
    "start_time": "2021-08-26T09:44:41.906Z"
   },
   {
    "duration": 1202,
    "start_time": "2021-08-26T09:45:05.891Z"
   },
   {
    "duration": 482,
    "start_time": "2021-08-26T09:45:07.095Z"
   },
   {
    "duration": 44,
    "start_time": "2021-08-26T09:45:07.580Z"
   },
   {
    "duration": 202,
    "start_time": "2021-08-26T09:45:07.627Z"
   },
   {
    "duration": 13,
    "start_time": "2021-08-26T09:45:07.831Z"
   },
   {
    "duration": 705,
    "start_time": "2021-08-26T09:45:07.846Z"
   },
   {
    "duration": 42,
    "start_time": "2021-08-26T09:45:08.553Z"
   },
   {
    "duration": 7,
    "start_time": "2021-08-26T09:45:08.598Z"
   },
   {
    "duration": 114,
    "start_time": "2021-08-26T09:45:08.608Z"
   },
   {
    "duration": 26,
    "start_time": "2021-08-26T09:45:08.725Z"
   },
   {
    "duration": 98,
    "start_time": "2021-08-26T09:45:08.754Z"
   },
   {
    "duration": 30,
    "start_time": "2021-08-26T09:45:08.854Z"
   },
   {
    "duration": 6,
    "start_time": "2021-08-26T09:45:08.887Z"
   },
   {
    "duration": 30,
    "start_time": "2021-08-26T09:45:08.895Z"
   },
   {
    "duration": 12,
    "start_time": "2021-08-26T09:45:08.928Z"
   },
   {
    "duration": 55,
    "start_time": "2021-08-26T09:45:08.943Z"
   },
   {
    "duration": 102,
    "start_time": "2021-08-26T09:45:09.001Z"
   },
   {
    "duration": 94,
    "start_time": "2021-08-26T09:45:09.106Z"
   },
   {
    "duration": 60,
    "start_time": "2021-08-26T09:45:09.204Z"
   },
   {
    "duration": 57,
    "start_time": "2021-08-26T09:45:09.283Z"
   },
   {
    "duration": 13,
    "start_time": "2021-08-26T09:45:09.343Z"
   },
   {
    "duration": 48,
    "start_time": "2021-08-26T09:45:09.358Z"
   },
   {
    "duration": 9,
    "start_time": "2021-08-26T09:45:09.411Z"
   },
   {
    "duration": 24,
    "start_time": "2021-08-26T09:45:09.422Z"
   },
   {
    "duration": 4369,
    "start_time": "2021-08-26T09:45:09.448Z"
   },
   {
    "duration": 7,
    "start_time": "2021-08-26T09:45:13.820Z"
   },
   {
    "duration": 24,
    "start_time": "2021-08-26T09:45:13.829Z"
   },
   {
    "duration": 7,
    "start_time": "2021-08-26T09:45:13.855Z"
   },
   {
    "duration": 3858,
    "start_time": "2021-08-26T09:45:13.865Z"
   },
   {
    "duration": 382,
    "start_time": "2021-08-26T09:45:17.725Z"
   },
   {
    "duration": 1636,
    "start_time": "2021-08-26T09:45:16.474Z"
   },
   {
    "duration": 32,
    "start_time": "2021-08-26T09:45:23.945Z"
   },
   {
    "duration": 2199,
    "start_time": "2021-08-26T09:45:31.585Z"
   },
   {
    "duration": 1977,
    "start_time": "2021-08-26T09:45:54.440Z"
   },
   {
    "duration": 7,
    "start_time": "2021-08-26T09:46:57.131Z"
   },
   {
    "duration": 20,
    "start_time": "2021-08-26T09:47:00.284Z"
   },
   {
    "duration": 1114,
    "start_time": "2021-08-26T09:47:28.371Z"
   },
   {
    "duration": 502,
    "start_time": "2021-08-26T09:47:29.488Z"
   },
   {
    "duration": 46,
    "start_time": "2021-08-26T09:47:29.993Z"
   },
   {
    "duration": 207,
    "start_time": "2021-08-26T09:47:30.041Z"
   },
   {
    "duration": 13,
    "start_time": "2021-08-26T09:47:30.251Z"
   },
   {
    "duration": 645,
    "start_time": "2021-08-26T09:47:30.282Z"
   },
   {
    "duration": 52,
    "start_time": "2021-08-26T09:47:30.930Z"
   },
   {
    "duration": 8,
    "start_time": "2021-08-26T09:47:30.986Z"
   },
   {
    "duration": 128,
    "start_time": "2021-08-26T09:47:30.997Z"
   },
   {
    "duration": 26,
    "start_time": "2021-08-26T09:47:31.128Z"
   },
   {
    "duration": 127,
    "start_time": "2021-08-26T09:47:31.157Z"
   },
   {
    "duration": 18,
    "start_time": "2021-08-26T09:47:31.286Z"
   },
   {
    "duration": 27,
    "start_time": "2021-08-26T09:47:31.307Z"
   },
   {
    "duration": 45,
    "start_time": "2021-08-26T09:47:31.337Z"
   },
   {
    "duration": 13,
    "start_time": "2021-08-26T09:47:31.385Z"
   },
   {
    "duration": 33,
    "start_time": "2021-08-26T09:47:31.400Z"
   },
   {
    "duration": 105,
    "start_time": "2021-08-26T09:47:31.436Z"
   },
   {
    "duration": 100,
    "start_time": "2021-08-26T09:47:31.544Z"
   },
   {
    "duration": 84,
    "start_time": "2021-08-26T09:47:31.647Z"
   },
   {
    "duration": 73,
    "start_time": "2021-08-26T09:47:31.733Z"
   },
   {
    "duration": 13,
    "start_time": "2021-08-26T09:47:31.809Z"
   },
   {
    "duration": 23,
    "start_time": "2021-08-26T09:47:31.824Z"
   },
   {
    "duration": 38,
    "start_time": "2021-08-26T09:47:31.853Z"
   },
   {
    "duration": 24,
    "start_time": "2021-08-26T09:47:31.894Z"
   },
   {
    "duration": 4370,
    "start_time": "2021-08-26T09:47:31.921Z"
   },
   {
    "duration": 8,
    "start_time": "2021-08-26T09:47:36.293Z"
   },
   {
    "duration": 25,
    "start_time": "2021-08-26T09:47:36.304Z"
   },
   {
    "duration": 5,
    "start_time": "2021-08-26T09:47:36.332Z"
   },
   {
    "duration": 3922,
    "start_time": "2021-08-26T09:47:36.340Z"
   },
   {
    "duration": 17,
    "start_time": "2021-08-26T09:47:40.265Z"
   },
   {
    "duration": 20,
    "start_time": "2021-08-26T09:47:40.285Z"
   },
   {
    "duration": 1183,
    "start_time": "2021-08-26T09:48:58.512Z"
   },
   {
    "duration": 520,
    "start_time": "2021-08-26T09:48:59.697Z"
   },
   {
    "duration": 45,
    "start_time": "2021-08-26T09:49:00.221Z"
   },
   {
    "duration": 190,
    "start_time": "2021-08-26T09:49:00.268Z"
   },
   {
    "duration": 26,
    "start_time": "2021-08-26T09:49:00.461Z"
   },
   {
    "duration": 662,
    "start_time": "2021-08-26T09:49:00.490Z"
   },
   {
    "duration": 45,
    "start_time": "2021-08-26T09:49:01.155Z"
   },
   {
    "duration": 7,
    "start_time": "2021-08-26T09:49:01.205Z"
   },
   {
    "duration": 143,
    "start_time": "2021-08-26T09:49:01.215Z"
   },
   {
    "duration": 34,
    "start_time": "2021-08-26T09:49:01.361Z"
   },
   {
    "duration": 112,
    "start_time": "2021-08-26T09:49:01.397Z"
   },
   {
    "duration": 18,
    "start_time": "2021-08-26T09:49:01.512Z"
   },
   {
    "duration": 25,
    "start_time": "2021-08-26T09:49:01.532Z"
   },
   {
    "duration": 57,
    "start_time": "2021-08-26T09:49:01.560Z"
   },
   {
    "duration": 34,
    "start_time": "2021-08-26T09:49:01.620Z"
   },
   {
    "duration": 58,
    "start_time": "2021-08-26T09:49:01.657Z"
   },
   {
    "duration": 114,
    "start_time": "2021-08-26T09:49:01.718Z"
   },
   {
    "duration": 139,
    "start_time": "2021-08-26T09:49:01.835Z"
   },
   {
    "duration": 109,
    "start_time": "2021-08-26T09:49:01.981Z"
   },
   {
    "duration": 110,
    "start_time": "2021-08-26T09:49:02.093Z"
   },
   {
    "duration": 20,
    "start_time": "2021-08-26T09:49:02.206Z"
   },
   {
    "duration": 52,
    "start_time": "2021-08-26T09:49:02.230Z"
   },
   {
    "duration": 15,
    "start_time": "2021-08-26T09:49:02.289Z"
   },
   {
    "duration": 45,
    "start_time": "2021-08-26T09:49:02.307Z"
   },
   {
    "duration": 7408,
    "start_time": "2021-08-26T09:49:02.355Z"
   },
   {
    "duration": 17,
    "start_time": "2021-08-26T09:49:09.766Z"
   },
   {
    "duration": 21,
    "start_time": "2021-08-26T09:49:09.786Z"
   },
   {
    "duration": 5,
    "start_time": "2021-08-26T09:49:09.809Z"
   },
   {
    "duration": 4345,
    "start_time": "2021-08-26T09:49:09.816Z"
   },
   {
    "duration": 7,
    "start_time": "2021-08-26T09:49:14.163Z"
   },
   {
    "duration": 18,
    "start_time": "2021-08-26T09:49:14.183Z"
   },
   {
    "duration": 1356,
    "start_time": "2021-08-26T09:54:20.526Z"
   },
   {
    "duration": 518,
    "start_time": "2021-08-26T09:54:21.885Z"
   },
   {
    "duration": 64,
    "start_time": "2021-08-26T09:54:22.407Z"
   },
   {
    "duration": 195,
    "start_time": "2021-08-26T09:54:22.474Z"
   },
   {
    "duration": 17,
    "start_time": "2021-08-26T09:54:22.671Z"
   },
   {
    "duration": 672,
    "start_time": "2021-08-26T09:54:22.691Z"
   },
   {
    "duration": 43,
    "start_time": "2021-08-26T09:54:23.365Z"
   },
   {
    "duration": 7,
    "start_time": "2021-08-26T09:54:23.412Z"
   },
   {
    "duration": 134,
    "start_time": "2021-08-26T09:54:23.423Z"
   },
   {
    "duration": 36,
    "start_time": "2021-08-26T09:54:23.560Z"
   },
   {
    "duration": 118,
    "start_time": "2021-08-26T09:54:23.599Z"
   },
   {
    "duration": 18,
    "start_time": "2021-08-26T09:54:23.720Z"
   },
   {
    "duration": 10,
    "start_time": "2021-08-26T09:54:23.741Z"
   },
   {
    "duration": 49,
    "start_time": "2021-08-26T09:54:23.754Z"
   },
   {
    "duration": 13,
    "start_time": "2021-08-26T09:54:23.805Z"
   },
   {
    "duration": 20,
    "start_time": "2021-08-26T09:54:23.821Z"
   },
   {
    "duration": 129,
    "start_time": "2021-08-26T09:54:23.843Z"
   },
   {
    "duration": 100,
    "start_time": "2021-08-26T09:54:23.982Z"
   },
   {
    "duration": 67,
    "start_time": "2021-08-26T09:54:24.085Z"
   },
   {
    "duration": 77,
    "start_time": "2021-08-26T09:54:24.154Z"
   },
   {
    "duration": 14,
    "start_time": "2021-08-26T09:54:24.233Z"
   },
   {
    "duration": 42,
    "start_time": "2021-08-26T09:54:24.250Z"
   },
   {
    "duration": 12,
    "start_time": "2021-08-26T09:54:24.297Z"
   },
   {
    "duration": 19,
    "start_time": "2021-08-26T09:54:24.312Z"
   },
   {
    "duration": 4543,
    "start_time": "2021-08-26T09:54:24.334Z"
   },
   {
    "duration": 7,
    "start_time": "2021-08-26T09:54:28.882Z"
   },
   {
    "duration": 31,
    "start_time": "2021-08-26T09:54:28.891Z"
   },
   {
    "duration": 3031,
    "start_time": "2021-08-26T09:54:28.924Z"
   },
   {
    "duration": 781,
    "start_time": "2021-08-26T09:54:31.957Z"
   },
   {
    "duration": 1660,
    "start_time": "2021-08-26T09:54:31.081Z"
   },
   {
    "duration": 19,
    "start_time": "2021-08-26T09:54:38.669Z"
   },
   {
    "duration": 1276,
    "start_time": "2021-08-26T09:57:20.827Z"
   },
   {
    "duration": 759,
    "start_time": "2021-08-26T09:57:22.106Z"
   },
   {
    "duration": 45,
    "start_time": "2021-08-26T09:57:22.868Z"
   },
   {
    "duration": 201,
    "start_time": "2021-08-26T09:57:22.916Z"
   },
   {
    "duration": 15,
    "start_time": "2021-08-26T09:57:23.119Z"
   },
   {
    "duration": 765,
    "start_time": "2021-08-26T09:57:23.137Z"
   },
   {
    "duration": 33,
    "start_time": "2021-08-26T09:57:23.904Z"
   },
   {
    "duration": 7,
    "start_time": "2021-08-26T09:57:23.941Z"
   },
   {
    "duration": 165,
    "start_time": "2021-08-26T09:57:23.951Z"
   },
   {
    "duration": 35,
    "start_time": "2021-08-26T09:57:24.120Z"
   },
   {
    "duration": 133,
    "start_time": "2021-08-26T09:57:24.158Z"
   },
   {
    "duration": 21,
    "start_time": "2021-08-26T09:57:24.294Z"
   },
   {
    "duration": 7,
    "start_time": "2021-08-26T09:57:24.318Z"
   },
   {
    "duration": 57,
    "start_time": "2021-08-26T09:57:24.327Z"
   },
   {
    "duration": 19,
    "start_time": "2021-08-26T09:57:24.388Z"
   },
   {
    "duration": 33,
    "start_time": "2021-08-26T09:57:24.410Z"
   },
   {
    "duration": 162,
    "start_time": "2021-08-26T09:57:24.447Z"
   },
   {
    "duration": 138,
    "start_time": "2021-08-26T09:57:24.612Z"
   },
   {
    "duration": 112,
    "start_time": "2021-08-26T09:57:24.754Z"
   },
   {
    "duration": 77,
    "start_time": "2021-08-26T09:57:24.868Z"
   },
   {
    "duration": 36,
    "start_time": "2021-08-26T09:57:24.948Z"
   },
   {
    "duration": 29,
    "start_time": "2021-08-26T09:57:24.987Z"
   },
   {
    "duration": 14,
    "start_time": "2021-08-26T09:57:25.022Z"
   },
   {
    "duration": 54,
    "start_time": "2021-08-26T09:57:25.039Z"
   },
   {
    "duration": 4720,
    "start_time": "2021-08-26T09:57:25.096Z"
   },
   {
    "duration": 7,
    "start_time": "2021-08-26T09:57:29.819Z"
   },
   {
    "duration": 36,
    "start_time": "2021-08-26T09:57:29.829Z"
   },
   {
    "duration": 3364,
    "start_time": "2021-08-26T09:57:29.883Z"
   },
   {
    "duration": 32,
    "start_time": "2021-08-26T09:57:33.250Z"
   },
   {
    "duration": 5,
    "start_time": "2021-08-26T10:00:50.612Z"
   },
   {
    "duration": 19,
    "start_time": "2021-08-26T10:00:51.722Z"
   },
   {
    "duration": 1252,
    "start_time": "2021-08-26T10:06:02.662Z"
   },
   {
    "duration": 631,
    "start_time": "2021-08-26T10:06:03.917Z"
   },
   {
    "duration": 71,
    "start_time": "2021-08-26T10:06:04.552Z"
   },
   {
    "duration": 254,
    "start_time": "2021-08-26T10:06:04.627Z"
   },
   {
    "duration": 17,
    "start_time": "2021-08-26T10:06:04.884Z"
   },
   {
    "duration": 924,
    "start_time": "2021-08-26T10:06:04.905Z"
   },
   {
    "duration": 49,
    "start_time": "2021-08-26T10:06:05.832Z"
   },
   {
    "duration": 7,
    "start_time": "2021-08-26T10:06:05.885Z"
   },
   {
    "duration": 120,
    "start_time": "2021-08-26T10:06:05.895Z"
   },
   {
    "duration": 26,
    "start_time": "2021-08-26T10:06:06.017Z"
   },
   {
    "duration": 104,
    "start_time": "2021-08-26T10:06:06.045Z"
   },
   {
    "duration": 34,
    "start_time": "2021-08-26T10:06:06.151Z"
   },
   {
    "duration": 8,
    "start_time": "2021-08-26T10:06:06.188Z"
   },
   {
    "duration": 27,
    "start_time": "2021-08-26T10:06:06.199Z"
   },
   {
    "duration": 13,
    "start_time": "2021-08-26T10:06:06.228Z"
   },
   {
    "duration": 56,
    "start_time": "2021-08-26T10:06:06.243Z"
   },
   {
    "duration": 94,
    "start_time": "2021-08-26T10:06:06.302Z"
   },
   {
    "duration": 90,
    "start_time": "2021-08-26T10:06:06.398Z"
   },
   {
    "duration": 62,
    "start_time": "2021-08-26T10:06:06.491Z"
   },
   {
    "duration": 81,
    "start_time": "2021-08-26T10:06:06.555Z"
   },
   {
    "duration": 13,
    "start_time": "2021-08-26T10:06:06.639Z"
   },
   {
    "duration": 48,
    "start_time": "2021-08-26T10:06:06.655Z"
   },
   {
    "duration": 11,
    "start_time": "2021-08-26T10:06:06.707Z"
   },
   {
    "duration": 22,
    "start_time": "2021-08-26T10:06:06.721Z"
   },
   {
    "duration": 4260,
    "start_time": "2021-08-26T10:06:06.745Z"
   },
   {
    "duration": 7,
    "start_time": "2021-08-26T10:06:11.007Z"
   },
   {
    "duration": 21,
    "start_time": "2021-08-26T10:06:11.017Z"
   },
   {
    "duration": 2715,
    "start_time": "2021-08-26T10:06:11.040Z"
   },
   {
    "duration": 5,
    "start_time": "2021-08-26T10:06:13.757Z"
   },
   {
    "duration": 33,
    "start_time": "2021-08-26T10:06:13.781Z"
   },
   {
    "duration": 28,
    "start_time": "2021-08-26T10:06:13.817Z"
   },
   {
    "duration": 42,
    "start_time": "2021-08-26T10:06:13.848Z"
   },
   {
    "duration": 11,
    "start_time": "2021-08-26T10:07:39.507Z"
   },
   {
    "duration": 18,
    "start_time": "2021-08-26T10:07:40.580Z"
   },
   {
    "duration": 1423,
    "start_time": "2021-08-26T10:08:28.883Z"
   },
   {
    "duration": 671,
    "start_time": "2021-08-26T10:08:30.310Z"
   },
   {
    "duration": 47,
    "start_time": "2021-08-26T10:08:30.984Z"
   },
   {
    "duration": 276,
    "start_time": "2021-08-26T10:08:31.033Z"
   },
   {
    "duration": 15,
    "start_time": "2021-08-26T10:08:31.312Z"
   },
   {
    "duration": 737,
    "start_time": "2021-08-26T10:08:31.329Z"
   },
   {
    "duration": 40,
    "start_time": "2021-08-26T10:08:32.068Z"
   },
   {
    "duration": 15,
    "start_time": "2021-08-26T10:08:32.112Z"
   },
   {
    "duration": 124,
    "start_time": "2021-08-26T10:08:32.131Z"
   },
   {
    "duration": 40,
    "start_time": "2021-08-26T10:08:32.258Z"
   },
   {
    "duration": 114,
    "start_time": "2021-08-26T10:08:32.302Z"
   },
   {
    "duration": 26,
    "start_time": "2021-08-26T10:08:32.419Z"
   },
   {
    "duration": 13,
    "start_time": "2021-08-26T10:08:32.449Z"
   },
   {
    "duration": 34,
    "start_time": "2021-08-26T10:08:32.484Z"
   },
   {
    "duration": 29,
    "start_time": "2021-08-26T10:08:32.521Z"
   },
   {
    "duration": 44,
    "start_time": "2021-08-26T10:08:32.553Z"
   },
   {
    "duration": 132,
    "start_time": "2021-08-26T10:08:32.601Z"
   },
   {
    "duration": 109,
    "start_time": "2021-08-26T10:08:32.735Z"
   },
   {
    "duration": 88,
    "start_time": "2021-08-26T10:08:32.847Z"
   },
   {
    "duration": 84,
    "start_time": "2021-08-26T10:08:32.939Z"
   },
   {
    "duration": 17,
    "start_time": "2021-08-26T10:08:33.026Z"
   },
   {
    "duration": 47,
    "start_time": "2021-08-26T10:08:33.046Z"
   },
   {
    "duration": 19,
    "start_time": "2021-08-26T10:08:33.100Z"
   },
   {
    "duration": 32,
    "start_time": "2021-08-26T10:08:33.123Z"
   },
   {
    "duration": 4985,
    "start_time": "2021-08-26T10:08:33.158Z"
   },
   {
    "duration": 39,
    "start_time": "2021-08-26T10:08:38.145Z"
   },
   {
    "duration": 2991,
    "start_time": "2021-08-26T10:08:38.187Z"
   },
   {
    "duration": 6,
    "start_time": "2021-08-26T10:08:41.181Z"
   },
   {
    "duration": 24,
    "start_time": "2021-08-26T10:08:41.190Z"
   },
   {
    "duration": 18,
    "start_time": "2021-08-26T10:08:41.217Z"
   },
   {
    "duration": 45,
    "start_time": "2021-08-26T10:08:41.237Z"
   },
   {
    "duration": 19,
    "start_time": "2021-08-26T10:08:41.285Z"
   },
   {
    "duration": 1148,
    "start_time": "2021-08-26T10:13:24.266Z"
   },
   {
    "duration": 615,
    "start_time": "2021-08-26T10:13:25.421Z"
   },
   {
    "duration": 44,
    "start_time": "2021-08-26T10:13:26.039Z"
   },
   {
    "duration": 215,
    "start_time": "2021-08-26T10:13:26.086Z"
   },
   {
    "duration": 13,
    "start_time": "2021-08-26T10:13:26.303Z"
   },
   {
    "duration": 684,
    "start_time": "2021-08-26T10:13:26.319Z"
   },
   {
    "duration": 35,
    "start_time": "2021-08-26T10:13:27.005Z"
   },
   {
    "duration": 7,
    "start_time": "2021-08-26T10:13:27.042Z"
   },
   {
    "duration": 105,
    "start_time": "2021-08-26T10:13:27.083Z"
   },
   {
    "duration": 26,
    "start_time": "2021-08-26T10:13:27.191Z"
   },
   {
    "duration": 108,
    "start_time": "2021-08-26T10:13:27.220Z"
   },
   {
    "duration": 17,
    "start_time": "2021-08-26T10:13:27.330Z"
   },
   {
    "duration": 7,
    "start_time": "2021-08-26T10:13:27.349Z"
   },
   {
    "duration": 42,
    "start_time": "2021-08-26T10:13:27.358Z"
   },
   {
    "duration": 14,
    "start_time": "2021-08-26T10:13:27.402Z"
   },
   {
    "duration": 21,
    "start_time": "2021-08-26T10:13:27.419Z"
   },
   {
    "duration": 141,
    "start_time": "2021-08-26T10:13:27.442Z"
   },
   {
    "duration": 127,
    "start_time": "2021-08-26T10:13:27.585Z"
   },
   {
    "duration": 99,
    "start_time": "2021-08-26T10:13:27.714Z"
   },
   {
    "duration": 104,
    "start_time": "2021-08-26T10:13:27.816Z"
   },
   {
    "duration": 15,
    "start_time": "2021-08-26T10:13:27.923Z"
   },
   {
    "duration": 43,
    "start_time": "2021-08-26T10:13:27.940Z"
   },
   {
    "duration": 13,
    "start_time": "2021-08-26T10:13:27.986Z"
   },
   {
    "duration": 27,
    "start_time": "2021-08-26T10:13:28.002Z"
   },
   {
    "duration": 4508,
    "start_time": "2021-08-26T10:13:28.032Z"
   },
   {
    "duration": 20,
    "start_time": "2021-08-26T10:13:32.542Z"
   },
   {
    "duration": 2898,
    "start_time": "2021-08-26T10:13:32.584Z"
   },
   {
    "duration": 20,
    "start_time": "2021-08-26T10:13:35.485Z"
   },
   {
    "duration": 14,
    "start_time": "2021-08-26T10:13:35.508Z"
   },
   {
    "duration": 10,
    "start_time": "2021-08-26T10:13:35.525Z"
   },
   {
    "duration": 3607,
    "start_time": "2021-08-26T10:13:35.538Z"
   },
   {
    "duration": 18,
    "start_time": "2021-08-26T10:13:39.147Z"
   },
   {
    "duration": 2374,
    "start_time": "2021-08-26T10:15:21.829Z"
   },
   {
    "duration": 34,
    "start_time": "2021-08-26T10:15:25.892Z"
   },
   {
    "duration": 1095,
    "start_time": "2021-08-26T10:21:17.992Z"
   },
   {
    "duration": 481,
    "start_time": "2021-08-26T10:21:19.089Z"
   },
   {
    "duration": 42,
    "start_time": "2021-08-26T10:21:19.573Z"
   },
   {
    "duration": 183,
    "start_time": "2021-08-26T10:21:19.618Z"
   },
   {
    "duration": 11,
    "start_time": "2021-08-26T10:21:19.804Z"
   },
   {
    "duration": 626,
    "start_time": "2021-08-26T10:21:19.818Z"
   },
   {
    "duration": 45,
    "start_time": "2021-08-26T10:21:20.446Z"
   },
   {
    "duration": 7,
    "start_time": "2021-08-26T10:21:20.495Z"
   },
   {
    "duration": 124,
    "start_time": "2021-08-26T10:21:20.506Z"
   },
   {
    "duration": 27,
    "start_time": "2021-08-26T10:21:20.632Z"
   },
   {
    "duration": 96,
    "start_time": "2021-08-26T10:21:20.662Z"
   },
   {
    "duration": 30,
    "start_time": "2021-08-26T10:21:20.760Z"
   },
   {
    "duration": 8,
    "start_time": "2021-08-26T10:21:20.792Z"
   },
   {
    "duration": 24,
    "start_time": "2021-08-26T10:21:20.802Z"
   },
   {
    "duration": 11,
    "start_time": "2021-08-26T10:21:20.828Z"
   },
   {
    "duration": 58,
    "start_time": "2021-08-26T10:21:20.841Z"
   },
   {
    "duration": 99,
    "start_time": "2021-08-26T10:21:20.902Z"
   },
   {
    "duration": 91,
    "start_time": "2021-08-26T10:21:21.004Z"
   },
   {
    "duration": 63,
    "start_time": "2021-08-26T10:21:21.098Z"
   },
   {
    "duration": 73,
    "start_time": "2021-08-26T10:21:21.163Z"
   },
   {
    "duration": 15,
    "start_time": "2021-08-26T10:21:21.238Z"
   },
   {
    "duration": 42,
    "start_time": "2021-08-26T10:21:21.256Z"
   },
   {
    "duration": 10,
    "start_time": "2021-08-26T10:21:21.303Z"
   },
   {
    "duration": 21,
    "start_time": "2021-08-26T10:21:21.315Z"
   },
   {
    "duration": 4223,
    "start_time": "2021-08-26T10:21:21.339Z"
   },
   {
    "duration": 28,
    "start_time": "2021-08-26T10:21:25.565Z"
   },
   {
    "duration": 3094,
    "start_time": "2021-08-26T10:21:25.596Z"
   },
   {
    "duration": 18,
    "start_time": "2021-08-26T10:21:28.693Z"
   },
   {
    "duration": 13,
    "start_time": "2021-08-26T10:21:28.714Z"
   },
   {
    "duration": 10,
    "start_time": "2021-08-26T10:21:28.729Z"
   },
   {
    "duration": 3736,
    "start_time": "2021-08-26T10:21:28.741Z"
   },
   {
    "duration": 2360,
    "start_time": "2021-08-26T10:21:32.479Z"
   },
   {
    "duration": 19,
    "start_time": "2021-08-26T10:21:34.841Z"
   },
   {
    "duration": 16,
    "start_time": "2021-08-26T10:21:34.882Z"
   },
   {
    "duration": 23,
    "start_time": "2021-08-26T10:21:34.900Z"
   },
   {
    "duration": 4113,
    "start_time": "2021-08-26T10:21:34.926Z"
   },
   {
    "duration": 2704,
    "start_time": "2021-08-26T10:21:39.041Z"
   },
   {
    "duration": 17,
    "start_time": "2021-08-26T10:21:41.748Z"
   },
   {
    "duration": 409,
    "start_time": "2021-08-26T10:30:55.587Z"
   },
   {
    "duration": 1141,
    "start_time": "2021-08-26T10:31:20.032Z"
   },
   {
    "duration": 496,
    "start_time": "2021-08-26T10:31:21.175Z"
   },
   {
    "duration": 44,
    "start_time": "2021-08-26T10:31:21.674Z"
   },
   {
    "duration": 189,
    "start_time": "2021-08-26T10:31:21.720Z"
   },
   {
    "duration": 13,
    "start_time": "2021-08-26T10:31:21.912Z"
   },
   {
    "duration": 629,
    "start_time": "2021-08-26T10:31:21.927Z"
   },
   {
    "duration": 43,
    "start_time": "2021-08-26T10:31:22.558Z"
   },
   {
    "duration": 6,
    "start_time": "2021-08-26T10:31:22.605Z"
   },
   {
    "duration": 124,
    "start_time": "2021-08-26T10:31:22.614Z"
   },
   {
    "duration": 28,
    "start_time": "2021-08-26T10:31:22.740Z"
   },
   {
    "duration": 100,
    "start_time": "2021-08-26T10:31:22.783Z"
   },
   {
    "duration": 17,
    "start_time": "2021-08-26T10:31:22.885Z"
   },
   {
    "duration": 5,
    "start_time": "2021-08-26T10:31:22.905Z"
   },
   {
    "duration": 29,
    "start_time": "2021-08-26T10:31:22.913Z"
   },
   {
    "duration": 46,
    "start_time": "2021-08-26T10:31:22.944Z"
   },
   {
    "duration": 50,
    "start_time": "2021-08-26T10:31:22.992Z"
   },
   {
    "duration": 83,
    "start_time": "2021-08-26T10:31:23.045Z"
   },
   {
    "duration": 91,
    "start_time": "2021-08-26T10:31:23.131Z"
   },
   {
    "duration": 74,
    "start_time": "2021-08-26T10:31:23.224Z"
   },
   {
    "duration": 61,
    "start_time": "2021-08-26T10:31:23.300Z"
   },
   {
    "duration": 30,
    "start_time": "2021-08-26T10:31:23.363Z"
   },
   {
    "duration": 37,
    "start_time": "2021-08-26T10:31:23.395Z"
   },
   {
    "duration": 12,
    "start_time": "2021-08-26T10:31:23.437Z"
   },
   {
    "duration": 30,
    "start_time": "2021-08-26T10:31:23.452Z"
   },
   {
    "duration": 4338,
    "start_time": "2021-08-26T10:31:23.484Z"
   },
   {
    "duration": 26,
    "start_time": "2021-08-26T10:31:27.825Z"
   },
   {
    "duration": 3004,
    "start_time": "2021-08-26T10:31:27.854Z"
   },
   {
    "duration": 27,
    "start_time": "2021-08-26T10:31:30.860Z"
   },
   {
    "duration": 40,
    "start_time": "2021-08-26T10:31:30.889Z"
   },
   {
    "duration": 27,
    "start_time": "2021-08-26T10:31:30.932Z"
   },
   {
    "duration": 3745,
    "start_time": "2021-08-26T10:31:30.961Z"
   },
   {
    "duration": 2329,
    "start_time": "2021-08-26T10:31:34.708Z"
   },
   {
    "duration": 19,
    "start_time": "2021-08-26T10:31:37.039Z"
   },
   {
    "duration": 33,
    "start_time": "2021-08-26T10:31:37.060Z"
   },
   {
    "duration": 9,
    "start_time": "2021-08-26T10:31:37.096Z"
   },
   {
    "duration": 4250,
    "start_time": "2021-08-26T10:31:37.107Z"
   },
   {
    "duration": 2723,
    "start_time": "2021-08-26T10:31:41.359Z"
   },
   {
    "duration": 17,
    "start_time": "2021-08-26T10:31:44.085Z"
   },
   {
    "duration": 417,
    "start_time": "2021-08-26T10:31:44.105Z"
   },
   {
    "duration": 1702,
    "start_time": "2021-08-26T10:31:42.823Z"
   },
   {
    "duration": 13,
    "start_time": "2021-08-26T10:32:16.034Z"
   },
   {
    "duration": 14,
    "start_time": "2021-08-26T10:32:18.046Z"
   },
   {
    "duration": 3,
    "start_time": "2021-08-26T10:35:15.314Z"
   },
   {
    "duration": 82,
    "start_time": "2021-08-26T10:35:22.580Z"
   },
   {
    "duration": 84,
    "start_time": "2021-08-26T10:35:30.356Z"
   },
   {
    "duration": 63,
    "start_time": "2021-08-26T10:35:37.520Z"
   },
   {
    "duration": 59,
    "start_time": "2021-08-26T10:35:42.783Z"
   },
   {
    "duration": 1172,
    "start_time": "2021-08-26T10:39:12.700Z"
   },
   {
    "duration": 491,
    "start_time": "2021-08-26T10:39:13.875Z"
   },
   {
    "duration": 43,
    "start_time": "2021-08-26T10:39:14.369Z"
   },
   {
    "duration": 186,
    "start_time": "2021-08-26T10:39:14.415Z"
   },
   {
    "duration": 13,
    "start_time": "2021-08-26T10:39:14.603Z"
   },
   {
    "duration": 622,
    "start_time": "2021-08-26T10:39:14.618Z"
   },
   {
    "duration": 49,
    "start_time": "2021-08-26T10:39:15.242Z"
   },
   {
    "duration": 7,
    "start_time": "2021-08-26T10:39:15.293Z"
   },
   {
    "duration": 121,
    "start_time": "2021-08-26T10:39:15.303Z"
   },
   {
    "duration": 27,
    "start_time": "2021-08-26T10:39:15.427Z"
   },
   {
    "duration": 97,
    "start_time": "2021-08-26T10:39:15.457Z"
   },
   {
    "duration": 29,
    "start_time": "2021-08-26T10:39:15.557Z"
   },
   {
    "duration": 13,
    "start_time": "2021-08-26T10:39:15.589Z"
   },
   {
    "duration": 27,
    "start_time": "2021-08-26T10:39:15.605Z"
   },
   {
    "duration": 20,
    "start_time": "2021-08-26T10:39:15.634Z"
   },
   {
    "duration": 46,
    "start_time": "2021-08-26T10:39:15.657Z"
   },
   {
    "duration": 4,
    "start_time": "2021-08-26T10:39:15.705Z"
   },
   {
    "duration": 105,
    "start_time": "2021-08-26T10:39:15.712Z"
   },
   {
    "duration": 95,
    "start_time": "2021-08-26T10:39:15.819Z"
   },
   {
    "duration": 77,
    "start_time": "2021-08-26T10:39:15.916Z"
   },
   {
    "duration": 62,
    "start_time": "2021-08-26T10:39:15.996Z"
   },
   {
    "duration": 30,
    "start_time": "2021-08-26T10:39:16.061Z"
   },
   {
    "duration": 21,
    "start_time": "2021-08-26T10:39:16.094Z"
   },
   {
    "duration": 11,
    "start_time": "2021-08-26T10:39:16.118Z"
   },
   {
    "duration": 53,
    "start_time": "2021-08-26T10:39:16.132Z"
   },
   {
    "duration": 4324,
    "start_time": "2021-08-26T10:39:16.187Z"
   },
   {
    "duration": 20,
    "start_time": "2021-08-26T10:39:20.517Z"
   },
   {
    "duration": 2727,
    "start_time": "2021-08-26T10:39:20.539Z"
   },
   {
    "duration": 23,
    "start_time": "2021-08-26T10:39:23.269Z"
   },
   {
    "duration": 14,
    "start_time": "2021-08-26T10:39:23.294Z"
   },
   {
    "duration": 10,
    "start_time": "2021-08-26T10:39:23.311Z"
   },
   {
    "duration": 3827,
    "start_time": "2021-08-26T10:39:23.324Z"
   },
   {
    "duration": 2419,
    "start_time": "2021-08-26T10:39:27.153Z"
   },
   {
    "duration": 19,
    "start_time": "2021-08-26T10:39:29.574Z"
   },
   {
    "duration": 14,
    "start_time": "2021-08-26T10:39:29.596Z"
   },
   {
    "duration": 11,
    "start_time": "2021-08-26T10:39:29.612Z"
   },
   {
    "duration": 4718,
    "start_time": "2021-08-26T10:39:29.626Z"
   },
   {
    "duration": 2839,
    "start_time": "2021-08-26T10:39:34.346Z"
   },
   {
    "duration": 18,
    "start_time": "2021-08-26T10:39:37.187Z"
   },
   {
    "duration": 14,
    "start_time": "2021-08-26T10:39:37.208Z"
   },
   {
    "duration": 13,
    "start_time": "2021-08-26T10:39:37.225Z"
   },
   {
    "duration": 1130,
    "start_time": "2021-08-26T10:41:50.047Z"
   },
   {
    "duration": 496,
    "start_time": "2021-08-26T10:41:51.180Z"
   },
   {
    "duration": 44,
    "start_time": "2021-08-26T10:41:51.679Z"
   },
   {
    "duration": 188,
    "start_time": "2021-08-26T10:41:51.726Z"
   },
   {
    "duration": 15,
    "start_time": "2021-08-26T10:41:51.918Z"
   },
   {
    "duration": 623,
    "start_time": "2021-08-26T10:41:51.935Z"
   },
   {
    "duration": 39,
    "start_time": "2021-08-26T10:41:52.561Z"
   },
   {
    "duration": 7,
    "start_time": "2021-08-26T10:41:52.603Z"
   },
   {
    "duration": 129,
    "start_time": "2021-08-26T10:41:52.613Z"
   },
   {
    "duration": 44,
    "start_time": "2021-08-26T10:41:52.744Z"
   },
   {
    "duration": 94,
    "start_time": "2021-08-26T10:41:52.790Z"
   },
   {
    "duration": 17,
    "start_time": "2021-08-26T10:41:52.887Z"
   },
   {
    "duration": 8,
    "start_time": "2021-08-26T10:41:52.907Z"
   },
   {
    "duration": 26,
    "start_time": "2021-08-26T10:41:52.917Z"
   },
   {
    "duration": 42,
    "start_time": "2021-08-26T10:41:52.946Z"
   },
   {
    "duration": 22,
    "start_time": "2021-08-26T10:41:52.990Z"
   },
   {
    "duration": 9,
    "start_time": "2021-08-26T10:41:53.015Z"
   },
   {
    "duration": 99,
    "start_time": "2021-08-26T10:41:53.027Z"
   },
   {
    "duration": 90,
    "start_time": "2021-08-26T10:41:53.129Z"
   },
   {
    "duration": 76,
    "start_time": "2021-08-26T10:41:53.222Z"
   },
   {
    "duration": 58,
    "start_time": "2021-08-26T10:41:53.300Z"
   },
   {
    "duration": 33,
    "start_time": "2021-08-26T10:41:53.361Z"
   },
   {
    "duration": 19,
    "start_time": "2021-08-26T10:41:53.399Z"
   },
   {
    "duration": 9,
    "start_time": "2021-08-26T10:41:53.421Z"
   },
   {
    "duration": 53,
    "start_time": "2021-08-26T10:41:53.433Z"
   },
   {
    "duration": 4839,
    "start_time": "2021-08-26T10:41:53.489Z"
   },
   {
    "duration": 18,
    "start_time": "2021-08-26T10:41:58.330Z"
   },
   {
    "duration": 2739,
    "start_time": "2021-08-26T10:41:58.351Z"
   },
   {
    "duration": 19,
    "start_time": "2021-08-26T10:42:01.092Z"
   },
   {
    "duration": 67,
    "start_time": "2021-08-26T10:42:01.113Z"
   },
   {
    "duration": 21,
    "start_time": "2021-08-26T10:42:01.182Z"
   },
   {
    "duration": 3615,
    "start_time": "2021-08-26T10:42:01.206Z"
   },
   {
    "duration": 2321,
    "start_time": "2021-08-26T10:42:04.824Z"
   },
   {
    "duration": 17,
    "start_time": "2021-08-26T10:42:07.147Z"
   },
   {
    "duration": 27,
    "start_time": "2021-08-26T10:42:07.166Z"
   },
   {
    "duration": 10,
    "start_time": "2021-08-26T10:42:07.195Z"
   },
   {
    "duration": 4326,
    "start_time": "2021-08-26T10:42:07.207Z"
   },
   {
    "duration": 2722,
    "start_time": "2021-08-26T10:42:11.536Z"
   },
   {
    "duration": 22,
    "start_time": "2021-08-26T10:42:14.260Z"
   },
   {
    "duration": 16,
    "start_time": "2021-08-26T10:42:14.285Z"
   },
   {
    "duration": 22,
    "start_time": "2021-08-26T10:42:14.302Z"
   },
   {
    "duration": 6,
    "start_time": "2021-08-26T10:43:20.118Z"
   },
   {
    "duration": 6,
    "start_time": "2021-08-26T10:43:29.426Z"
   },
   {
    "duration": 1243,
    "start_time": "2021-08-26T10:44:08.037Z"
   },
   {
    "duration": 501,
    "start_time": "2021-08-26T10:44:09.283Z"
   },
   {
    "duration": 44,
    "start_time": "2021-08-26T10:44:09.787Z"
   },
   {
    "duration": 213,
    "start_time": "2021-08-26T10:44:09.833Z"
   },
   {
    "duration": 14,
    "start_time": "2021-08-26T10:44:10.049Z"
   },
   {
    "duration": 641,
    "start_time": "2021-08-26T10:44:10.082Z"
   },
   {
    "duration": 32,
    "start_time": "2021-08-26T10:44:10.725Z"
   },
   {
    "duration": 24,
    "start_time": "2021-08-26T10:44:10.760Z"
   },
   {
    "duration": 122,
    "start_time": "2021-08-26T10:44:10.789Z"
   },
   {
    "duration": 27,
    "start_time": "2021-08-26T10:44:10.915Z"
   },
   {
    "duration": 108,
    "start_time": "2021-08-26T10:44:10.945Z"
   },
   {
    "duration": 17,
    "start_time": "2021-08-26T10:44:11.055Z"
   },
   {
    "duration": 20,
    "start_time": "2021-08-26T10:44:11.083Z"
   },
   {
    "duration": 41,
    "start_time": "2021-08-26T10:44:11.105Z"
   },
   {
    "duration": 26,
    "start_time": "2021-08-26T10:44:11.149Z"
   },
   {
    "duration": 42,
    "start_time": "2021-08-26T10:44:11.177Z"
   },
   {
    "duration": 30,
    "start_time": "2021-08-26T10:44:11.221Z"
   },
   {
    "duration": 94,
    "start_time": "2021-08-26T10:44:11.254Z"
   },
   {
    "duration": 89,
    "start_time": "2021-08-26T10:44:11.350Z"
   },
   {
    "duration": 74,
    "start_time": "2021-08-26T10:44:11.441Z"
   },
   {
    "duration": 73,
    "start_time": "2021-08-26T10:44:11.517Z"
   },
   {
    "duration": 12,
    "start_time": "2021-08-26T10:44:11.592Z"
   },
   {
    "duration": 38,
    "start_time": "2021-08-26T10:44:11.606Z"
   },
   {
    "duration": 24,
    "start_time": "2021-08-26T10:44:11.647Z"
   },
   {
    "duration": 41,
    "start_time": "2021-08-26T10:44:11.674Z"
   },
   {
    "duration": 4719,
    "start_time": "2021-08-26T10:44:11.717Z"
   },
   {
    "duration": 19,
    "start_time": "2021-08-26T10:44:16.441Z"
   },
   {
    "duration": 2830,
    "start_time": "2021-08-26T10:44:16.463Z"
   },
   {
    "duration": 18,
    "start_time": "2021-08-26T10:44:19.295Z"
   },
   {
    "duration": 33,
    "start_time": "2021-08-26T10:44:19.315Z"
   },
   {
    "duration": 9,
    "start_time": "2021-08-26T10:44:19.350Z"
   },
   {
    "duration": 3991,
    "start_time": "2021-08-26T10:44:19.361Z"
   },
   {
    "duration": 2431,
    "start_time": "2021-08-26T10:44:23.354Z"
   },
   {
    "duration": 18,
    "start_time": "2021-08-26T10:44:25.787Z"
   },
   {
    "duration": 18,
    "start_time": "2021-08-26T10:44:25.807Z"
   },
   {
    "duration": 9,
    "start_time": "2021-08-26T10:44:25.828Z"
   },
   {
    "duration": 4268,
    "start_time": "2021-08-26T10:44:25.839Z"
   },
   {
    "duration": 2969,
    "start_time": "2021-08-26T10:44:30.110Z"
   },
   {
    "duration": 19,
    "start_time": "2021-08-26T10:44:33.082Z"
   },
   {
    "duration": 27,
    "start_time": "2021-08-26T10:44:33.103Z"
   },
   {
    "duration": 14,
    "start_time": "2021-08-26T10:44:33.132Z"
   },
   {
    "duration": 25,
    "start_time": "2021-08-26T10:58:32.388Z"
   },
   {
    "duration": 13,
    "start_time": "2021-08-26T10:59:17.896Z"
   },
   {
    "duration": 40,
    "start_time": "2021-08-26T11:00:00.612Z"
   },
   {
    "duration": 34,
    "start_time": "2021-08-26T11:00:59.574Z"
   },
   {
    "duration": 20,
    "start_time": "2021-08-26T11:01:21.484Z"
   },
   {
    "duration": 381,
    "start_time": "2021-08-26T11:01:46.146Z"
   },
   {
    "duration": 27,
    "start_time": "2021-08-26T11:02:08.433Z"
   },
   {
    "duration": 26,
    "start_time": "2021-08-26T11:03:12.571Z"
   },
   {
    "duration": 1134,
    "start_time": "2021-08-26T11:07:37.452Z"
   },
   {
    "duration": 501,
    "start_time": "2021-08-26T11:07:38.589Z"
   },
   {
    "duration": 45,
    "start_time": "2021-08-26T11:07:39.093Z"
   },
   {
    "duration": 210,
    "start_time": "2021-08-26T11:07:39.142Z"
   },
   {
    "duration": 28,
    "start_time": "2021-08-26T11:07:39.354Z"
   },
   {
    "duration": 634,
    "start_time": "2021-08-26T11:07:39.384Z"
   },
   {
    "duration": 32,
    "start_time": "2021-08-26T11:07:40.020Z"
   },
   {
    "duration": 28,
    "start_time": "2021-08-26T11:07:40.056Z"
   },
   {
    "duration": 113,
    "start_time": "2021-08-26T11:07:40.087Z"
   },
   {
    "duration": 26,
    "start_time": "2021-08-26T11:07:40.203Z"
   },
   {
    "duration": 108,
    "start_time": "2021-08-26T11:07:40.231Z"
   },
   {
    "duration": 18,
    "start_time": "2021-08-26T11:07:40.341Z"
   },
   {
    "duration": 24,
    "start_time": "2021-08-26T11:07:40.362Z"
   },
   {
    "duration": 26,
    "start_time": "2021-08-26T11:07:40.389Z"
   },
   {
    "duration": 14,
    "start_time": "2021-08-26T11:07:40.418Z"
   },
   {
    "duration": 62,
    "start_time": "2021-08-26T11:07:40.435Z"
   },
   {
    "duration": 6,
    "start_time": "2021-08-26T11:07:40.500Z"
   },
   {
    "duration": 113,
    "start_time": "2021-08-26T11:07:40.509Z"
   },
   {
    "duration": 96,
    "start_time": "2021-08-26T11:07:40.625Z"
   },
   {
    "duration": 96,
    "start_time": "2021-08-26T11:07:40.724Z"
   },
   {
    "duration": 90,
    "start_time": "2021-08-26T11:07:40.823Z"
   },
   {
    "duration": 14,
    "start_time": "2021-08-26T11:07:40.915Z"
   },
   {
    "duration": 19,
    "start_time": "2021-08-26T11:07:40.935Z"
   },
   {
    "duration": 10,
    "start_time": "2021-08-26T11:07:40.982Z"
   },
   {
    "duration": 23,
    "start_time": "2021-08-26T11:07:40.995Z"
   },
   {
    "duration": 4762,
    "start_time": "2021-08-26T11:07:41.020Z"
   },
   {
    "duration": 20,
    "start_time": "2021-08-26T11:07:45.785Z"
   },
   {
    "duration": 2699,
    "start_time": "2021-08-26T11:07:45.808Z"
   },
   {
    "duration": 18,
    "start_time": "2021-08-26T11:07:48.509Z"
   },
   {
    "duration": 54,
    "start_time": "2021-08-26T11:07:48.530Z"
   },
   {
    "duration": 16,
    "start_time": "2021-08-26T11:07:48.587Z"
   },
   {
    "duration": 10,
    "start_time": "2021-08-26T11:07:48.606Z"
   },
   {
    "duration": 3796,
    "start_time": "2021-08-26T11:07:48.619Z"
   },
   {
    "duration": 2397,
    "start_time": "2021-08-26T11:07:52.418Z"
   },
   {
    "duration": 19,
    "start_time": "2021-08-26T11:07:54.818Z"
   },
   {
    "duration": 24,
    "start_time": "2021-08-26T11:07:54.840Z"
   },
   {
    "duration": 23,
    "start_time": "2021-08-26T11:07:54.866Z"
   },
   {
    "duration": 4390,
    "start_time": "2021-08-26T11:07:54.892Z"
   },
   {
    "duration": 2787,
    "start_time": "2021-08-26T11:07:59.285Z"
   },
   {
    "duration": 22,
    "start_time": "2021-08-26T11:08:02.075Z"
   },
   {
    "duration": 32,
    "start_time": "2021-08-26T11:08:02.099Z"
   },
   {
    "duration": 34,
    "start_time": "2021-08-26T11:08:02.133Z"
   },
   {
    "duration": 29,
    "start_time": "2021-08-26T11:09:31.378Z"
   },
   {
    "duration": 26,
    "start_time": "2021-08-26T11:10:14.654Z"
   },
   {
    "duration": 1219,
    "start_time": "2021-08-26T11:10:43.455Z"
   },
   {
    "duration": 497,
    "start_time": "2021-08-26T11:10:44.676Z"
   },
   {
    "duration": 44,
    "start_time": "2021-08-26T11:10:45.176Z"
   },
   {
    "duration": 195,
    "start_time": "2021-08-26T11:10:45.222Z"
   },
   {
    "duration": 15,
    "start_time": "2021-08-26T11:10:45.419Z"
   },
   {
    "duration": 635,
    "start_time": "2021-08-26T11:10:45.436Z"
   },
   {
    "duration": 32,
    "start_time": "2021-08-26T11:10:46.073Z"
   },
   {
    "duration": 9,
    "start_time": "2021-08-26T11:10:46.109Z"
   },
   {
    "duration": 132,
    "start_time": "2021-08-26T11:10:46.122Z"
   },
   {
    "duration": 34,
    "start_time": "2021-08-26T11:10:46.257Z"
   },
   {
    "duration": 114,
    "start_time": "2021-08-26T11:10:46.294Z"
   },
   {
    "duration": 25,
    "start_time": "2021-08-26T11:10:46.411Z"
   },
   {
    "duration": 9,
    "start_time": "2021-08-26T11:10:46.439Z"
   },
   {
    "duration": 49,
    "start_time": "2021-08-26T11:10:46.451Z"
   },
   {
    "duration": 15,
    "start_time": "2021-08-26T11:10:46.503Z"
   },
   {
    "duration": 20,
    "start_time": "2021-08-26T11:10:46.520Z"
   },
   {
    "duration": 39,
    "start_time": "2021-08-26T11:10:46.543Z"
   },
   {
    "duration": 107,
    "start_time": "2021-08-26T11:10:46.586Z"
   },
   {
    "duration": 95,
    "start_time": "2021-08-26T11:10:46.696Z"
   },
   {
    "duration": 62,
    "start_time": "2021-08-26T11:10:46.795Z"
   },
   {
    "duration": 82,
    "start_time": "2021-08-26T11:10:46.859Z"
   },
   {
    "duration": 15,
    "start_time": "2021-08-26T11:10:46.943Z"
   },
   {
    "duration": 35,
    "start_time": "2021-08-26T11:10:46.964Z"
   },
   {
    "duration": 26,
    "start_time": "2021-08-26T11:10:47.002Z"
   },
   {
    "duration": 21,
    "start_time": "2021-08-26T11:10:47.030Z"
   },
   {
    "duration": 4892,
    "start_time": "2021-08-26T11:10:47.053Z"
   },
   {
    "duration": 18,
    "start_time": "2021-08-26T11:10:51.947Z"
   },
   {
    "duration": 2611,
    "start_time": "2021-08-26T11:10:51.983Z"
   },
   {
    "duration": 16,
    "start_time": "2021-08-26T11:10:54.596Z"
   },
   {
    "duration": 29,
    "start_time": "2021-08-26T11:10:54.614Z"
   },
   {
    "duration": 39,
    "start_time": "2021-08-26T11:10:54.645Z"
   },
   {
    "duration": 9,
    "start_time": "2021-08-26T11:10:54.686Z"
   },
   {
    "duration": 3696,
    "start_time": "2021-08-26T11:10:54.697Z"
   },
   {
    "duration": 2288,
    "start_time": "2021-08-26T11:10:58.395Z"
   },
   {
    "duration": 26,
    "start_time": "2021-08-26T11:11:00.686Z"
   },
   {
    "duration": 15,
    "start_time": "2021-08-26T11:11:00.715Z"
   },
   {
    "duration": 15,
    "start_time": "2021-08-26T11:11:00.732Z"
   },
   {
    "duration": 4363,
    "start_time": "2021-08-26T11:11:00.750Z"
   },
   {
    "duration": 2860,
    "start_time": "2021-08-26T11:11:05.116Z"
   },
   {
    "duration": 22,
    "start_time": "2021-08-26T11:11:07.979Z"
   },
   {
    "duration": 43,
    "start_time": "2021-08-26T11:11:08.004Z"
   },
   {
    "duration": 32,
    "start_time": "2021-08-26T11:11:08.050Z"
   },
   {
    "duration": 13,
    "start_time": "2021-08-26T11:11:08.084Z"
   },
   {
    "duration": 28,
    "start_time": "2021-08-26T11:15:40.472Z"
   },
   {
    "duration": 10,
    "start_time": "2021-08-26T11:16:07.778Z"
   },
   {
    "duration": 500,
    "start_time": "2021-08-26T11:17:11.906Z"
   },
   {
    "duration": 17,
    "start_time": "2021-08-26T11:17:38.719Z"
   },
   {
    "duration": 31,
    "start_time": "2021-08-26T11:18:52.724Z"
   },
   {
    "duration": 16,
    "start_time": "2021-08-26T11:19:01.983Z"
   },
   {
    "duration": 24,
    "start_time": "2021-08-26T11:19:39.306Z"
   },
   {
    "duration": 1138,
    "start_time": "2021-08-26T11:20:36.546Z"
   },
   {
    "duration": 490,
    "start_time": "2021-08-26T11:20:37.687Z"
   },
   {
    "duration": 44,
    "start_time": "2021-08-26T11:20:38.180Z"
   },
   {
    "duration": 205,
    "start_time": "2021-08-26T11:20:38.228Z"
   },
   {
    "duration": 13,
    "start_time": "2021-08-26T11:20:38.435Z"
   },
   {
    "duration": 609,
    "start_time": "2021-08-26T11:20:38.450Z"
   },
   {
    "duration": 39,
    "start_time": "2021-08-26T11:20:39.062Z"
   },
   {
    "duration": 6,
    "start_time": "2021-08-26T11:20:39.105Z"
   },
   {
    "duration": 123,
    "start_time": "2021-08-26T11:20:39.114Z"
   },
   {
    "duration": 28,
    "start_time": "2021-08-26T11:20:39.240Z"
   },
   {
    "duration": 88,
    "start_time": "2021-08-26T11:20:39.270Z"
   },
   {
    "duration": 36,
    "start_time": "2021-08-26T11:20:39.360Z"
   },
   {
    "duration": 6,
    "start_time": "2021-08-26T11:20:39.399Z"
   },
   {
    "duration": 26,
    "start_time": "2021-08-26T11:20:39.407Z"
   },
   {
    "duration": 47,
    "start_time": "2021-08-26T11:20:39.435Z"
   },
   {
    "duration": 20,
    "start_time": "2021-08-26T11:20:39.485Z"
   },
   {
    "duration": 4,
    "start_time": "2021-08-26T11:20:39.508Z"
   },
   {
    "duration": 101,
    "start_time": "2021-08-26T11:20:39.514Z"
   },
   {
    "duration": 87,
    "start_time": "2021-08-26T11:20:39.618Z"
   },
   {
    "duration": 60,
    "start_time": "2021-08-26T11:20:39.708Z"
   },
   {
    "duration": 59,
    "start_time": "2021-08-26T11:20:39.782Z"
   },
   {
    "duration": 15,
    "start_time": "2021-08-26T11:20:39.843Z"
   },
   {
    "duration": 20,
    "start_time": "2021-08-26T11:20:39.886Z"
   },
   {
    "duration": 15,
    "start_time": "2021-08-26T11:20:39.909Z"
   },
   {
    "duration": 23,
    "start_time": "2021-08-26T11:20:39.927Z"
   },
   {
    "duration": 4773,
    "start_time": "2021-08-26T11:20:39.952Z"
   },
   {
    "duration": 21,
    "start_time": "2021-08-26T11:20:44.727Z"
   },
   {
    "duration": 2614,
    "start_time": "2021-08-26T11:20:44.751Z"
   },
   {
    "duration": 29,
    "start_time": "2021-08-26T11:20:47.367Z"
   },
   {
    "duration": 36,
    "start_time": "2021-08-26T11:20:47.399Z"
   },
   {
    "duration": 47,
    "start_time": "2021-08-26T11:20:47.438Z"
   },
   {
    "duration": 9,
    "start_time": "2021-08-26T11:20:47.487Z"
   },
   {
    "duration": 3697,
    "start_time": "2021-08-26T11:20:47.499Z"
   },
   {
    "duration": 2313,
    "start_time": "2021-08-26T11:20:51.198Z"
   },
   {
    "duration": 28,
    "start_time": "2021-08-26T11:20:53.514Z"
   },
   {
    "duration": 43,
    "start_time": "2021-08-26T11:20:53.545Z"
   },
   {
    "duration": 11,
    "start_time": "2021-08-26T11:20:53.590Z"
   },
   {
    "duration": 4143,
    "start_time": "2021-08-26T11:20:53.604Z"
   },
   {
    "duration": 2594,
    "start_time": "2021-08-26T11:20:57.749Z"
   },
   {
    "duration": 17,
    "start_time": "2021-08-26T11:21:00.346Z"
   },
   {
    "duration": 48,
    "start_time": "2021-08-26T11:21:00.365Z"
   },
   {
    "duration": 12,
    "start_time": "2021-08-26T11:21:00.415Z"
   },
   {
    "duration": 24,
    "start_time": "2021-08-26T11:21:00.429Z"
   },
   {
    "duration": 12,
    "start_time": "2021-08-26T11:29:57.562Z"
   },
   {
    "duration": 19,
    "start_time": "2021-08-26T11:31:26.260Z"
   },
   {
    "duration": 9,
    "start_time": "2021-08-26T11:32:33.389Z"
   },
   {
    "duration": 1162,
    "start_time": "2021-08-26T11:32:49.820Z"
   },
   {
    "duration": 501,
    "start_time": "2021-08-26T11:32:50.985Z"
   },
   {
    "duration": 44,
    "start_time": "2021-08-26T11:32:51.488Z"
   },
   {
    "duration": 187,
    "start_time": "2021-08-26T11:32:51.534Z"
   },
   {
    "duration": 13,
    "start_time": "2021-08-26T11:32:51.723Z"
   },
   {
    "duration": 604,
    "start_time": "2021-08-26T11:32:51.739Z"
   },
   {
    "duration": 44,
    "start_time": "2021-08-26T11:32:52.345Z"
   },
   {
    "duration": 6,
    "start_time": "2021-08-26T11:32:52.392Z"
   },
   {
    "duration": 115,
    "start_time": "2021-08-26T11:32:52.401Z"
   },
   {
    "duration": 26,
    "start_time": "2021-08-26T11:32:52.518Z"
   },
   {
    "duration": 105,
    "start_time": "2021-08-26T11:32:52.546Z"
   },
   {
    "duration": 29,
    "start_time": "2021-08-26T11:32:52.653Z"
   },
   {
    "duration": 5,
    "start_time": "2021-08-26T11:32:52.685Z"
   },
   {
    "duration": 42,
    "start_time": "2021-08-26T11:32:52.692Z"
   },
   {
    "duration": 17,
    "start_time": "2021-08-26T11:32:52.736Z"
   },
   {
    "duration": 45,
    "start_time": "2021-08-26T11:32:52.755Z"
   },
   {
    "duration": 11,
    "start_time": "2021-08-26T11:32:52.802Z"
   },
   {
    "duration": 109,
    "start_time": "2021-08-26T11:32:52.815Z"
   },
   {
    "duration": 110,
    "start_time": "2021-08-26T11:32:52.926Z"
   },
   {
    "duration": 71,
    "start_time": "2021-08-26T11:32:53.038Z"
   },
   {
    "duration": 57,
    "start_time": "2021-08-26T11:32:53.111Z"
   },
   {
    "duration": 13,
    "start_time": "2021-08-26T11:32:53.183Z"
   },
   {
    "duration": 20,
    "start_time": "2021-08-26T11:32:53.201Z"
   },
   {
    "duration": 15,
    "start_time": "2021-08-26T11:32:53.224Z"
   },
   {
    "duration": 44,
    "start_time": "2021-08-26T11:32:53.241Z"
   },
   {
    "duration": 4544,
    "start_time": "2021-08-26T11:32:53.288Z"
   },
   {
    "duration": 19,
    "start_time": "2021-08-26T11:32:57.834Z"
   },
   {
    "duration": 2707,
    "start_time": "2021-08-26T11:32:57.856Z"
   },
   {
    "duration": 25,
    "start_time": "2021-08-26T11:33:00.566Z"
   },
   {
    "duration": 43,
    "start_time": "2021-08-26T11:33:00.594Z"
   },
   {
    "duration": 13,
    "start_time": "2021-08-26T11:33:00.639Z"
   },
   {
    "duration": 32,
    "start_time": "2021-08-26T11:33:00.654Z"
   },
   {
    "duration": 3831,
    "start_time": "2021-08-26T11:33:00.689Z"
   },
   {
    "duration": 2359,
    "start_time": "2021-08-26T11:33:04.523Z"
   },
   {
    "duration": 29,
    "start_time": "2021-08-26T11:33:06.884Z"
   },
   {
    "duration": 16,
    "start_time": "2021-08-26T11:33:06.916Z"
   },
   {
    "duration": 18,
    "start_time": "2021-08-26T11:33:06.934Z"
   },
   {
    "duration": 4261,
    "start_time": "2021-08-26T11:33:06.954Z"
   },
   {
    "duration": 2965,
    "start_time": "2021-08-26T11:33:11.217Z"
   },
   {
    "duration": 19,
    "start_time": "2021-08-26T11:33:14.185Z"
   },
   {
    "duration": 12,
    "start_time": "2021-08-26T11:33:14.206Z"
   },
   {
    "duration": 61,
    "start_time": "2021-08-26T11:33:14.221Z"
   },
   {
    "duration": 14,
    "start_time": "2021-08-26T11:33:14.285Z"
   },
   {
    "duration": 14,
    "start_time": "2021-08-26T11:33:14.301Z"
   },
   {
    "duration": 1196,
    "start_time": "2021-08-26T11:34:16.185Z"
   },
   {
    "duration": 504,
    "start_time": "2021-08-26T11:34:17.383Z"
   },
   {
    "duration": 45,
    "start_time": "2021-08-26T11:34:17.890Z"
   },
   {
    "duration": 204,
    "start_time": "2021-08-26T11:34:17.939Z"
   },
   {
    "duration": 14,
    "start_time": "2021-08-26T11:34:18.145Z"
   },
   {
    "duration": 1033,
    "start_time": "2021-08-26T11:34:18.183Z"
   },
   {
    "duration": 67,
    "start_time": "2021-08-26T11:34:19.219Z"
   },
   {
    "duration": 9,
    "start_time": "2021-08-26T11:34:19.292Z"
   },
   {
    "duration": 168,
    "start_time": "2021-08-26T11:34:19.305Z"
   },
   {
    "duration": 43,
    "start_time": "2021-08-26T11:34:19.476Z"
   },
   {
    "duration": 149,
    "start_time": "2021-08-26T11:34:19.522Z"
   },
   {
    "duration": 30,
    "start_time": "2021-08-26T11:34:19.675Z"
   },
   {
    "duration": 8,
    "start_time": "2021-08-26T11:34:19.708Z"
   },
   {
    "duration": 65,
    "start_time": "2021-08-26T11:34:19.719Z"
   },
   {
    "duration": 19,
    "start_time": "2021-08-26T11:34:19.788Z"
   },
   {
    "duration": 31,
    "start_time": "2021-08-26T11:34:19.810Z"
   },
   {
    "duration": 39,
    "start_time": "2021-08-26T11:34:19.844Z"
   },
   {
    "duration": 83,
    "start_time": "2021-08-26T11:34:19.886Z"
   },
   {
    "duration": 83,
    "start_time": "2021-08-26T11:34:19.982Z"
   },
   {
    "duration": 81,
    "start_time": "2021-08-26T11:34:20.068Z"
   },
   {
    "duration": 81,
    "start_time": "2021-08-26T11:34:20.152Z"
   },
   {
    "duration": 14,
    "start_time": "2021-08-26T11:34:20.235Z"
   },
   {
    "duration": 44,
    "start_time": "2021-08-26T11:34:20.255Z"
   },
   {
    "duration": 10,
    "start_time": "2021-08-26T11:34:20.302Z"
   },
   {
    "duration": 22,
    "start_time": "2021-08-26T11:34:20.314Z"
   },
   {
    "duration": 4907,
    "start_time": "2021-08-26T11:34:20.339Z"
   },
   {
    "duration": 19,
    "start_time": "2021-08-26T11:34:25.249Z"
   },
   {
    "duration": 2953,
    "start_time": "2021-08-26T11:34:25.271Z"
   },
   {
    "duration": 18,
    "start_time": "2021-08-26T11:34:28.226Z"
   },
   {
    "duration": 52,
    "start_time": "2021-08-26T11:34:28.246Z"
   },
   {
    "duration": 12,
    "start_time": "2021-08-26T11:34:28.301Z"
   },
   {
    "duration": 12,
    "start_time": "2021-08-26T11:34:28.315Z"
   },
   {
    "duration": 3958,
    "start_time": "2021-08-26T11:34:28.329Z"
   },
   {
    "duration": 2332,
    "start_time": "2021-08-26T11:34:32.289Z"
   },
   {
    "duration": 28,
    "start_time": "2021-08-26T11:34:34.624Z"
   },
   {
    "duration": 38,
    "start_time": "2021-08-26T11:34:34.655Z"
   },
   {
    "duration": 10,
    "start_time": "2021-08-26T11:34:34.695Z"
   },
   {
    "duration": 4306,
    "start_time": "2021-08-26T11:34:34.707Z"
   },
   {
    "duration": 2753,
    "start_time": "2021-08-26T11:34:39.016Z"
   },
   {
    "duration": 17,
    "start_time": "2021-08-26T11:34:41.772Z"
   },
   {
    "duration": 19,
    "start_time": "2021-08-26T11:34:41.791Z"
   },
   {
    "duration": 11,
    "start_time": "2021-08-26T11:34:41.812Z"
   },
   {
    "duration": 80,
    "start_time": "2021-08-26T11:34:41.826Z"
   },
   {
    "duration": 20,
    "start_time": "2021-08-26T11:34:41.908Z"
   },
   {
    "duration": 12,
    "start_time": "2021-08-26T11:34:41.931Z"
   },
   {
    "duration": 39,
    "start_time": "2021-08-26T11:34:41.945Z"
   },
   {
    "duration": 10,
    "start_time": "2021-08-26T11:36:43.806Z"
   },
   {
    "duration": 421,
    "start_time": "2021-08-26T11:37:10.115Z"
   },
   {
    "duration": 20,
    "start_time": "2021-08-26T11:37:27.874Z"
   },
   {
    "duration": 1147,
    "start_time": "2021-08-26T11:39:13.435Z"
   },
   {
    "duration": 508,
    "start_time": "2021-08-26T11:39:14.585Z"
   },
   {
    "duration": 46,
    "start_time": "2021-08-26T11:39:15.097Z"
   },
   {
    "duration": 207,
    "start_time": "2021-08-26T11:39:15.147Z"
   },
   {
    "duration": 31,
    "start_time": "2021-08-26T11:39:15.357Z"
   },
   {
    "duration": 647,
    "start_time": "2021-08-26T11:39:15.391Z"
   },
   {
    "duration": 50,
    "start_time": "2021-08-26T11:39:16.041Z"
   },
   {
    "duration": 7,
    "start_time": "2021-08-26T11:39:16.094Z"
   },
   {
    "duration": 127,
    "start_time": "2021-08-26T11:39:16.104Z"
   },
   {
    "duration": 28,
    "start_time": "2021-08-26T11:39:16.233Z"
   },
   {
    "duration": 84,
    "start_time": "2021-08-26T11:39:16.283Z"
   },
   {
    "duration": 18,
    "start_time": "2021-08-26T11:39:16.381Z"
   },
   {
    "duration": 11,
    "start_time": "2021-08-26T11:39:16.401Z"
   },
   {
    "duration": 43,
    "start_time": "2021-08-26T11:39:16.414Z"
   },
   {
    "duration": 26,
    "start_time": "2021-08-26T11:39:16.459Z"
   },
   {
    "duration": 19,
    "start_time": "2021-08-26T11:39:16.487Z"
   },
   {
    "duration": 4,
    "start_time": "2021-08-26T11:39:16.509Z"
   },
   {
    "duration": 125,
    "start_time": "2021-08-26T11:39:16.515Z"
   },
   {
    "duration": 132,
    "start_time": "2021-08-26T11:39:16.643Z"
   },
   {
    "duration": 106,
    "start_time": "2021-08-26T11:39:16.782Z"
   },
   {
    "duration": 106,
    "start_time": "2021-08-26T11:39:16.892Z"
   },
   {
    "duration": 21,
    "start_time": "2021-08-26T11:39:17.002Z"
   },
   {
    "duration": 54,
    "start_time": "2021-08-26T11:39:17.030Z"
   },
   {
    "duration": 11,
    "start_time": "2021-08-26T11:39:17.086Z"
   },
   {
    "duration": 21,
    "start_time": "2021-08-26T11:39:17.099Z"
   },
   {
    "duration": 7787,
    "start_time": "2021-08-26T11:39:17.123Z"
   },
   {
    "duration": 29,
    "start_time": "2021-08-26T11:39:24.913Z"
   },
   {
    "duration": 4671,
    "start_time": "2021-08-26T11:39:24.945Z"
   },
   {
    "duration": 29,
    "start_time": "2021-08-26T11:39:29.619Z"
   },
   {
    "duration": 65,
    "start_time": "2021-08-26T11:39:29.652Z"
   },
   {
    "duration": 21,
    "start_time": "2021-08-26T11:39:29.720Z"
   },
   {
    "duration": 39,
    "start_time": "2021-08-26T11:39:29.744Z"
   },
   {
    "duration": 6467,
    "start_time": "2021-08-26T11:39:29.787Z"
   },
   {
    "duration": 2525,
    "start_time": "2021-08-26T11:39:36.257Z"
   },
   {
    "duration": 27,
    "start_time": "2021-08-26T11:39:38.785Z"
   },
   {
    "duration": 14,
    "start_time": "2021-08-26T11:39:38.814Z"
   },
   {
    "duration": 17,
    "start_time": "2021-08-26T11:39:38.831Z"
   },
   {
    "duration": 4727,
    "start_time": "2021-08-26T11:39:38.850Z"
   },
   {
    "duration": 2769,
    "start_time": "2021-08-26T11:39:43.579Z"
   },
   {
    "duration": 39,
    "start_time": "2021-08-26T11:39:46.350Z"
   },
   {
    "duration": 14,
    "start_time": "2021-08-26T11:39:46.392Z"
   },
   {
    "duration": 15,
    "start_time": "2021-08-26T11:39:46.408Z"
   },
   {
    "duration": 1601,
    "start_time": "2021-08-26T11:43:34.155Z"
   },
   {
    "duration": 747,
    "start_time": "2021-08-26T11:43:35.759Z"
   },
   {
    "duration": 69,
    "start_time": "2021-08-26T11:43:36.509Z"
   },
   {
    "duration": 252,
    "start_time": "2021-08-26T11:43:36.581Z"
   },
   {
    "duration": 16,
    "start_time": "2021-08-26T11:43:36.836Z"
   },
   {
    "duration": 886,
    "start_time": "2021-08-26T11:43:36.855Z"
   },
   {
    "duration": 65,
    "start_time": "2021-08-26T11:43:37.744Z"
   },
   {
    "duration": 8,
    "start_time": "2021-08-26T11:43:37.814Z"
   },
   {
    "duration": 189,
    "start_time": "2021-08-26T11:43:37.826Z"
   },
   {
    "duration": 45,
    "start_time": "2021-08-26T11:43:38.018Z"
   },
   {
    "duration": 117,
    "start_time": "2021-08-26T11:43:38.066Z"
   },
   {
    "duration": 19,
    "start_time": "2021-08-26T11:43:38.186Z"
   },
   {
    "duration": 6,
    "start_time": "2021-08-26T11:43:38.208Z"
   },
   {
    "duration": 26,
    "start_time": "2021-08-26T11:43:38.217Z"
   },
   {
    "duration": 15,
    "start_time": "2021-08-26T11:43:38.282Z"
   },
   {
    "duration": 26,
    "start_time": "2021-08-26T11:43:38.300Z"
   },
   {
    "duration": 10,
    "start_time": "2021-08-26T11:43:38.329Z"
   },
   {
    "duration": 112,
    "start_time": "2021-08-26T11:43:38.342Z"
   },
   {
    "duration": 96,
    "start_time": "2021-08-26T11:43:38.457Z"
   },
   {
    "duration": 68,
    "start_time": "2021-08-26T11:43:38.556Z"
   },
   {
    "duration": 79,
    "start_time": "2021-08-26T11:43:38.626Z"
   },
   {
    "duration": 15,
    "start_time": "2021-08-26T11:43:38.707Z"
   },
   {
    "duration": 19,
    "start_time": "2021-08-26T11:43:38.727Z"
   },
   {
    "duration": 39,
    "start_time": "2021-08-26T11:43:38.749Z"
   },
   {
    "duration": 25,
    "start_time": "2021-08-26T11:43:38.791Z"
   },
   {
    "duration": 5302,
    "start_time": "2021-08-26T11:43:38.820Z"
   },
   {
    "duration": 21,
    "start_time": "2021-08-26T11:43:44.124Z"
   },
   {
    "duration": 2890,
    "start_time": "2021-08-26T11:43:44.148Z"
   },
   {
    "duration": 17,
    "start_time": "2021-08-26T11:43:47.040Z"
   },
   {
    "duration": 42,
    "start_time": "2021-08-26T11:43:47.060Z"
   },
   {
    "duration": 15,
    "start_time": "2021-08-26T11:43:47.104Z"
   },
   {
    "duration": 10,
    "start_time": "2021-08-26T11:43:47.122Z"
   },
   {
    "duration": 3933,
    "start_time": "2021-08-26T11:43:47.135Z"
   },
   {
    "duration": 2552,
    "start_time": "2021-08-26T11:43:51.071Z"
   },
   {
    "duration": 26,
    "start_time": "2021-08-26T11:43:53.625Z"
   },
   {
    "duration": 38,
    "start_time": "2021-08-26T11:43:53.653Z"
   },
   {
    "duration": 15,
    "start_time": "2021-08-26T11:43:53.693Z"
   },
   {
    "duration": 4371,
    "start_time": "2021-08-26T11:43:53.711Z"
   },
   {
    "duration": 2762,
    "start_time": "2021-08-26T11:43:58.085Z"
   },
   {
    "duration": 38,
    "start_time": "2021-08-26T11:44:00.850Z"
   },
   {
    "duration": 12,
    "start_time": "2021-08-26T11:44:00.890Z"
   },
   {
    "duration": 3965,
    "start_time": "2021-08-26T11:44:00.905Z"
   },
   {
    "duration": 36,
    "start_time": "2021-08-26T11:44:04.872Z"
   },
   {
    "duration": 1786,
    "start_time": "2021-08-26T11:48:08.005Z"
   },
   {
    "duration": 514,
    "start_time": "2021-08-26T11:48:09.795Z"
   },
   {
    "duration": 46,
    "start_time": "2021-08-26T11:48:10.312Z"
   },
   {
    "duration": 182,
    "start_time": "2021-08-26T11:48:10.361Z"
   },
   {
    "duration": 12,
    "start_time": "2021-08-26T11:48:10.546Z"
   },
   {
    "duration": 626,
    "start_time": "2021-08-26T11:48:10.561Z"
   },
   {
    "duration": 34,
    "start_time": "2021-08-26T11:48:11.189Z"
   },
   {
    "duration": 7,
    "start_time": "2021-08-26T11:48:11.227Z"
   },
   {
    "duration": 136,
    "start_time": "2021-08-26T11:48:11.237Z"
   },
   {
    "duration": 30,
    "start_time": "2021-08-26T11:48:11.383Z"
   },
   {
    "duration": 105,
    "start_time": "2021-08-26T11:48:11.416Z"
   },
   {
    "duration": 17,
    "start_time": "2021-08-26T11:48:11.524Z"
   },
   {
    "duration": 16,
    "start_time": "2021-08-26T11:48:11.543Z"
   },
   {
    "duration": 41,
    "start_time": "2021-08-26T11:48:11.562Z"
   },
   {
    "duration": 13,
    "start_time": "2021-08-26T11:48:11.605Z"
   },
   {
    "duration": 22,
    "start_time": "2021-08-26T11:48:11.621Z"
   },
   {
    "duration": 37,
    "start_time": "2021-08-26T11:48:11.646Z"
   },
   {
    "duration": 105,
    "start_time": "2021-08-26T11:48:11.686Z"
   },
   {
    "duration": 91,
    "start_time": "2021-08-26T11:48:11.793Z"
   },
   {
    "duration": 106,
    "start_time": "2021-08-26T11:48:11.887Z"
   },
   {
    "duration": 104,
    "start_time": "2021-08-26T11:48:11.996Z"
   },
   {
    "duration": 20,
    "start_time": "2021-08-26T11:48:12.103Z"
   },
   {
    "duration": 21,
    "start_time": "2021-08-26T11:48:12.129Z"
   },
   {
    "duration": 10,
    "start_time": "2021-08-26T11:48:12.182Z"
   },
   {
    "duration": 30,
    "start_time": "2021-08-26T11:48:12.195Z"
   },
   {
    "duration": 4931,
    "start_time": "2021-08-26T11:48:12.227Z"
   },
   {
    "duration": 24,
    "start_time": "2021-08-26T11:48:17.161Z"
   },
   {
    "duration": 2714,
    "start_time": "2021-08-26T11:48:17.187Z"
   },
   {
    "duration": 19,
    "start_time": "2021-08-26T11:48:19.903Z"
   },
   {
    "duration": 26,
    "start_time": "2021-08-26T11:48:19.925Z"
   },
   {
    "duration": 39,
    "start_time": "2021-08-26T11:48:19.953Z"
   },
   {
    "duration": 10,
    "start_time": "2021-08-26T11:48:19.994Z"
   },
   {
    "duration": 3813,
    "start_time": "2021-08-26T11:48:20.007Z"
   },
   {
    "duration": 2490,
    "start_time": "2021-08-26T11:48:23.822Z"
   },
   {
    "duration": 29,
    "start_time": "2021-08-26T11:48:26.315Z"
   },
   {
    "duration": 37,
    "start_time": "2021-08-26T11:48:26.347Z"
   },
   {
    "duration": 12,
    "start_time": "2021-08-26T11:48:26.387Z"
   },
   {
    "duration": 4954,
    "start_time": "2021-08-26T11:48:26.402Z"
   },
   {
    "duration": 2784,
    "start_time": "2021-08-26T11:48:31.359Z"
   },
   {
    "duration": 39,
    "start_time": "2021-08-26T11:48:34.145Z"
   },
   {
    "duration": 13,
    "start_time": "2021-08-26T11:48:34.187Z"
   },
   {
    "duration": 5292,
    "start_time": "2021-08-26T11:48:34.203Z"
   },
   {
    "duration": 1820,
    "start_time": "2021-08-26T11:48:37.678Z"
   },
   {
    "duration": 3875,
    "start_time": "2021-08-26T11:49:37.072Z"
   },
   {
    "duration": 40,
    "start_time": "2021-08-26T11:49:53.639Z"
   },
   {
    "duration": 32,
    "start_time": "2021-08-26T11:54:26.332Z"
   },
   {
    "duration": 50,
    "start_time": "2021-08-26T11:54:57.980Z"
   },
   {
    "duration": 38,
    "start_time": "2021-08-26T11:55:46.130Z"
   },
   {
    "duration": 1239,
    "start_time": "2021-08-26T11:59:29.142Z"
   },
   {
    "duration": 560,
    "start_time": "2021-08-26T11:59:30.384Z"
   },
   {
    "duration": 55,
    "start_time": "2021-08-26T11:59:30.948Z"
   },
   {
    "duration": 217,
    "start_time": "2021-08-26T11:59:31.006Z"
   },
   {
    "duration": 13,
    "start_time": "2021-08-26T11:59:31.226Z"
   },
   {
    "duration": 684,
    "start_time": "2021-08-26T11:59:31.242Z"
   },
   {
    "duration": 34,
    "start_time": "2021-08-26T11:59:31.928Z"
   },
   {
    "duration": 7,
    "start_time": "2021-08-26T11:59:31.983Z"
   },
   {
    "duration": 130,
    "start_time": "2021-08-26T11:59:31.994Z"
   },
   {
    "duration": 27,
    "start_time": "2021-08-26T11:59:32.127Z"
   },
   {
    "duration": 114,
    "start_time": "2021-08-26T11:59:32.156Z"
   },
   {
    "duration": 25,
    "start_time": "2021-08-26T11:59:32.273Z"
   },
   {
    "duration": 6,
    "start_time": "2021-08-26T11:59:32.301Z"
   },
   {
    "duration": 27,
    "start_time": "2021-08-26T11:59:32.309Z"
   },
   {
    "duration": 56,
    "start_time": "2021-08-26T11:59:32.338Z"
   },
   {
    "duration": 31,
    "start_time": "2021-08-26T11:59:32.397Z"
   },
   {
    "duration": 15,
    "start_time": "2021-08-26T11:59:32.431Z"
   },
   {
    "duration": 145,
    "start_time": "2021-08-26T11:59:32.449Z"
   },
   {
    "duration": 134,
    "start_time": "2021-08-26T11:59:32.597Z"
   },
   {
    "duration": 79,
    "start_time": "2021-08-26T11:59:32.734Z"
   },
   {
    "duration": 76,
    "start_time": "2021-08-26T11:59:32.816Z"
   },
   {
    "duration": 13,
    "start_time": "2021-08-26T11:59:32.894Z"
   },
   {
    "duration": 28,
    "start_time": "2021-08-26T11:59:32.910Z"
   },
   {
    "duration": 14,
    "start_time": "2021-08-26T11:59:32.940Z"
   },
   {
    "duration": 37,
    "start_time": "2021-08-26T11:59:32.957Z"
   },
   {
    "duration": 4926,
    "start_time": "2021-08-26T11:59:32.996Z"
   },
   {
    "duration": 19,
    "start_time": "2021-08-26T11:59:37.927Z"
   },
   {
    "duration": 2769,
    "start_time": "2021-08-26T11:59:37.948Z"
   },
   {
    "duration": 18,
    "start_time": "2021-08-26T11:59:40.719Z"
   },
   {
    "duration": 47,
    "start_time": "2021-08-26T11:59:40.739Z"
   },
   {
    "duration": 14,
    "start_time": "2021-08-26T11:59:40.789Z"
   },
   {
    "duration": 10,
    "start_time": "2021-08-26T11:59:40.805Z"
   },
   {
    "duration": 4089,
    "start_time": "2021-08-26T11:59:40.818Z"
   },
   {
    "duration": 2464,
    "start_time": "2021-08-26T11:59:44.909Z"
   },
   {
    "duration": 33,
    "start_time": "2021-08-26T11:59:47.375Z"
   },
   {
    "duration": 15,
    "start_time": "2021-08-26T11:59:47.410Z"
   },
   {
    "duration": 11,
    "start_time": "2021-08-26T11:59:47.427Z"
   },
   {
    "duration": 4474,
    "start_time": "2021-08-26T11:59:47.441Z"
   },
   {
    "duration": 3476,
    "start_time": "2021-08-26T11:59:51.918Z"
   },
   {
    "duration": 38,
    "start_time": "2021-08-26T11:59:55.398Z"
   },
   {
    "duration": 18,
    "start_time": "2021-08-26T11:59:55.438Z"
   },
   {
    "duration": 4060,
    "start_time": "2021-08-26T11:59:55.484Z"
   },
   {
    "duration": 39,
    "start_time": "2021-08-26T11:59:59.546Z"
   },
   {
    "duration": 1203,
    "start_time": "2021-08-26T11:59:59.588Z"
   },
   {
    "duration": 38,
    "start_time": "2021-08-26T12:00:21.156Z"
   },
   {
    "duration": 330,
    "start_time": "2021-08-26T12:03:01.003Z"
   },
   {
    "duration": 7072,
    "start_time": "2021-08-26T12:03:35.607Z"
   },
   {
    "duration": 9759,
    "start_time": "2021-08-26T12:04:04.216Z"
   },
   {
    "duration": 64,
    "start_time": "2021-08-26T12:04:28.898Z"
   },
   {
    "duration": 314,
    "start_time": "2021-08-26T12:04:42.179Z"
   },
   {
    "duration": 389,
    "start_time": "2021-08-26T12:05:33.832Z"
   },
   {
    "duration": 70,
    "start_time": "2021-08-26T12:08:58.339Z"
   },
   {
    "duration": 15,
    "start_time": "2021-08-28T03:44:38.150Z"
   },
   {
    "duration": 19,
    "start_time": "2021-08-28T03:44:41.653Z"
   },
   {
    "duration": 22,
    "start_time": "2021-08-28T03:44:55.853Z"
   },
   {
    "duration": 1132,
    "start_time": "2021-08-28T03:45:17.163Z"
   },
   {
    "duration": 519,
    "start_time": "2021-08-28T03:45:18.298Z"
   },
   {
    "duration": 42,
    "start_time": "2021-08-28T03:45:18.819Z"
   },
   {
    "duration": 178,
    "start_time": "2021-08-28T03:45:18.864Z"
   },
   {
    "duration": 13,
    "start_time": "2021-08-28T03:45:19.044Z"
   },
   {
    "duration": 629,
    "start_time": "2021-08-28T03:45:19.059Z"
   },
   {
    "duration": 32,
    "start_time": "2021-08-28T03:45:19.691Z"
   },
   {
    "duration": 7,
    "start_time": "2021-08-28T03:45:19.727Z"
   },
   {
    "duration": 138,
    "start_time": "2021-08-28T03:45:19.737Z"
   },
   {
    "duration": 34,
    "start_time": "2021-08-28T03:45:19.877Z"
   },
   {
    "duration": 106,
    "start_time": "2021-08-28T03:45:19.914Z"
   },
   {
    "duration": 16,
    "start_time": "2021-08-28T03:45:20.023Z"
   },
   {
    "duration": 10,
    "start_time": "2021-08-28T03:45:20.042Z"
   },
   {
    "duration": 53,
    "start_time": "2021-08-28T03:45:20.054Z"
   },
   {
    "duration": 13,
    "start_time": "2021-08-28T03:45:20.109Z"
   },
   {
    "duration": 25,
    "start_time": "2021-08-28T03:45:20.125Z"
   },
   {
    "duration": 33,
    "start_time": "2021-08-28T03:45:20.152Z"
   },
   {
    "duration": 84,
    "start_time": "2021-08-28T03:45:20.187Z"
   },
   {
    "duration": 91,
    "start_time": "2021-08-28T03:45:20.274Z"
   },
   {
    "duration": 65,
    "start_time": "2021-08-28T03:45:20.384Z"
   },
   {
    "duration": 83,
    "start_time": "2021-08-28T03:45:20.452Z"
   },
   {
    "duration": 13,
    "start_time": "2021-08-28T03:45:20.538Z"
   },
   {
    "duration": 52,
    "start_time": "2021-08-28T03:45:20.556Z"
   },
   {
    "duration": 13,
    "start_time": "2021-08-28T03:45:20.611Z"
   },
   {
    "duration": 23,
    "start_time": "2021-08-28T03:45:20.626Z"
   },
   {
    "duration": 4821,
    "start_time": "2021-08-28T03:45:20.651Z"
   },
   {
    "duration": 31,
    "start_time": "2021-08-28T03:45:25.475Z"
   },
   {
    "duration": 2601,
    "start_time": "2021-08-28T03:45:25.508Z"
   },
   {
    "duration": 19,
    "start_time": "2021-08-28T03:45:28.111Z"
   },
   {
    "duration": 34,
    "start_time": "2021-08-28T03:45:28.133Z"
   },
   {
    "duration": 17,
    "start_time": "2021-08-28T03:45:28.182Z"
   },
   {
    "duration": 9,
    "start_time": "2021-08-28T03:45:28.201Z"
   },
   {
    "duration": 3891,
    "start_time": "2021-08-28T03:45:28.213Z"
   },
   {
    "duration": 2266,
    "start_time": "2021-08-28T03:45:32.107Z"
   },
   {
    "duration": 33,
    "start_time": "2021-08-28T03:45:34.375Z"
   },
   {
    "duration": 14,
    "start_time": "2021-08-28T03:45:34.410Z"
   },
   {
    "duration": 12,
    "start_time": "2021-08-28T03:45:34.427Z"
   },
   {
    "duration": 4352,
    "start_time": "2021-08-28T03:45:34.442Z"
   },
   {
    "duration": 2643,
    "start_time": "2021-08-28T03:45:38.796Z"
   },
   {
    "duration": 27,
    "start_time": "2021-08-28T03:45:41.441Z"
   },
   {
    "duration": 14,
    "start_time": "2021-08-28T03:45:41.486Z"
   },
   {
    "duration": 3821,
    "start_time": "2021-08-28T03:45:41.502Z"
   },
   {
    "duration": 30,
    "start_time": "2021-08-28T03:45:45.325Z"
   },
   {
    "duration": 1339,
    "start_time": "2021-08-28T03:45:45.358Z"
   },
   {
    "duration": 20,
    "start_time": "2021-08-28T03:47:27.541Z"
   },
   {
    "duration": 1180,
    "start_time": "2021-08-28T03:47:56.638Z"
   },
   {
    "duration": 520,
    "start_time": "2021-08-28T03:47:57.821Z"
   },
   {
    "duration": 48,
    "start_time": "2021-08-28T03:47:58.344Z"
   },
   {
    "duration": 181,
    "start_time": "2021-08-28T03:47:58.395Z"
   },
   {
    "duration": 14,
    "start_time": "2021-08-28T03:47:58.578Z"
   },
   {
    "duration": 623,
    "start_time": "2021-08-28T03:47:58.595Z"
   },
   {
    "duration": 31,
    "start_time": "2021-08-28T03:47:59.221Z"
   },
   {
    "duration": 27,
    "start_time": "2021-08-28T03:47:59.256Z"
   },
   {
    "duration": 117,
    "start_time": "2021-08-28T03:47:59.288Z"
   },
   {
    "duration": 25,
    "start_time": "2021-08-28T03:47:59.407Z"
   },
   {
    "duration": 109,
    "start_time": "2021-08-28T03:47:59.434Z"
   },
   {
    "duration": 16,
    "start_time": "2021-08-28T03:47:59.546Z"
   },
   {
    "duration": 26,
    "start_time": "2021-08-28T03:47:59.564Z"
   },
   {
    "duration": 26,
    "start_time": "2021-08-28T03:47:59.593Z"
   },
   {
    "duration": 12,
    "start_time": "2021-08-28T03:47:59.622Z"
   },
   {
    "duration": 52,
    "start_time": "2021-08-28T03:47:59.636Z"
   },
   {
    "duration": 5,
    "start_time": "2021-08-28T03:47:59.691Z"
   },
   {
    "duration": 103,
    "start_time": "2021-08-28T03:47:59.698Z"
   },
   {
    "duration": 99,
    "start_time": "2021-08-28T03:47:59.804Z"
   },
   {
    "duration": 60,
    "start_time": "2021-08-28T03:47:59.906Z"
   },
   {
    "duration": 87,
    "start_time": "2021-08-28T03:47:59.969Z"
   },
   {
    "duration": 35,
    "start_time": "2021-08-28T03:48:00.058Z"
   },
   {
    "duration": 23,
    "start_time": "2021-08-28T03:48:00.101Z"
   },
   {
    "duration": 15,
    "start_time": "2021-08-28T03:48:00.128Z"
   },
   {
    "duration": 51,
    "start_time": "2021-08-28T03:48:00.146Z"
   },
   {
    "duration": 4878,
    "start_time": "2021-08-28T03:48:00.199Z"
   },
   {
    "duration": 20,
    "start_time": "2021-08-28T03:48:05.082Z"
   },
   {
    "duration": 2581,
    "start_time": "2021-08-28T03:48:05.105Z"
   },
   {
    "duration": 27,
    "start_time": "2021-08-28T03:48:07.691Z"
   },
   {
    "duration": 30,
    "start_time": "2021-08-28T03:48:07.722Z"
   },
   {
    "duration": 15,
    "start_time": "2021-08-28T03:48:07.786Z"
   },
   {
    "duration": 9,
    "start_time": "2021-08-28T03:48:07.804Z"
   },
   {
    "duration": 3825,
    "start_time": "2021-08-28T03:48:07.815Z"
   },
   {
    "duration": 2235,
    "start_time": "2021-08-28T03:48:11.643Z"
   },
   {
    "duration": 29,
    "start_time": "2021-08-28T03:48:13.880Z"
   },
   {
    "duration": 13,
    "start_time": "2021-08-28T03:48:13.911Z"
   },
   {
    "duration": 13,
    "start_time": "2021-08-28T03:48:13.927Z"
   },
   {
    "duration": 4397,
    "start_time": "2021-08-28T03:48:13.943Z"
   },
   {
    "duration": 2695,
    "start_time": "2021-08-28T03:48:18.342Z"
   },
   {
    "duration": 44,
    "start_time": "2021-08-28T03:48:21.039Z"
   },
   {
    "duration": 15,
    "start_time": "2021-08-28T03:48:21.088Z"
   },
   {
    "duration": 3772,
    "start_time": "2021-08-28T03:48:21.106Z"
   },
   {
    "duration": 32,
    "start_time": "2021-08-28T03:48:24.887Z"
   },
   {
    "duration": 1198,
    "start_time": "2021-08-28T03:48:24.922Z"
   },
   {
    "duration": 1182,
    "start_time": "2021-08-28T03:50:51.386Z"
   },
   {
    "duration": 544,
    "start_time": "2021-08-28T03:50:52.570Z"
   },
   {
    "duration": 43,
    "start_time": "2021-08-28T03:50:53.117Z"
   },
   {
    "duration": 189,
    "start_time": "2021-08-28T03:50:53.162Z"
   },
   {
    "duration": 28,
    "start_time": "2021-08-28T03:50:53.354Z"
   },
   {
    "duration": 653,
    "start_time": "2021-08-28T03:50:53.384Z"
   },
   {
    "duration": 46,
    "start_time": "2021-08-28T03:50:54.039Z"
   },
   {
    "duration": 9,
    "start_time": "2021-08-28T03:50:54.090Z"
   },
   {
    "duration": 131,
    "start_time": "2021-08-28T03:50:54.104Z"
   },
   {
    "duration": 25,
    "start_time": "2021-08-28T03:50:54.238Z"
   },
   {
    "duration": 119,
    "start_time": "2021-08-28T03:50:54.266Z"
   },
   {
    "duration": 20,
    "start_time": "2021-08-28T03:50:54.388Z"
   },
   {
    "duration": 6,
    "start_time": "2021-08-28T03:50:54.410Z"
   },
   {
    "duration": 24,
    "start_time": "2021-08-28T03:50:54.418Z"
   },
   {
    "duration": 49,
    "start_time": "2021-08-28T03:50:54.444Z"
   },
   {
    "duration": 31,
    "start_time": "2021-08-28T03:50:54.496Z"
   },
   {
    "duration": 12,
    "start_time": "2021-08-28T03:50:54.529Z"
   },
   {
    "duration": 104,
    "start_time": "2021-08-28T03:50:54.543Z"
   },
   {
    "duration": 96,
    "start_time": "2021-08-28T03:50:54.649Z"
   },
   {
    "duration": 79,
    "start_time": "2021-08-28T03:50:54.748Z"
   },
   {
    "duration": 78,
    "start_time": "2021-08-28T03:50:54.829Z"
   },
   {
    "duration": 400,
    "start_time": "2021-08-28T03:50:54.909Z"
   },
   {
    "duration": 793,
    "start_time": "2021-08-28T03:50:54.521Z"
   },
   {
    "duration": 783,
    "start_time": "2021-08-28T03:50:54.532Z"
   },
   {
    "duration": 771,
    "start_time": "2021-08-28T03:50:54.546Z"
   },
   {
    "duration": 765,
    "start_time": "2021-08-28T03:50:54.554Z"
   },
   {
    "duration": 759,
    "start_time": "2021-08-28T03:50:54.562Z"
   },
   {
    "duration": 712,
    "start_time": "2021-08-28T03:50:54.610Z"
   },
   {
    "duration": 706,
    "start_time": "2021-08-28T03:50:54.618Z"
   },
   {
    "duration": 698,
    "start_time": "2021-08-28T03:50:54.628Z"
   },
   {
    "duration": 691,
    "start_time": "2021-08-28T03:50:54.636Z"
   },
   {
    "duration": 683,
    "start_time": "2021-08-28T03:50:54.646Z"
   },
   {
    "duration": 675,
    "start_time": "2021-08-28T03:50:54.655Z"
   },
   {
    "duration": 670,
    "start_time": "2021-08-28T03:50:54.661Z"
   },
   {
    "duration": 659,
    "start_time": "2021-08-28T03:50:54.673Z"
   },
   {
    "duration": 648,
    "start_time": "2021-08-28T03:50:54.685Z"
   },
   {
    "duration": 619,
    "start_time": "2021-08-28T03:50:54.716Z"
   },
   {
    "duration": 569,
    "start_time": "2021-08-28T03:50:54.767Z"
   },
   {
    "duration": 539,
    "start_time": "2021-08-28T03:50:54.798Z"
   },
   {
    "duration": 530,
    "start_time": "2021-08-28T03:50:54.808Z"
   },
   {
    "duration": 523,
    "start_time": "2021-08-28T03:50:54.816Z"
   },
   {
    "duration": 513,
    "start_time": "2021-08-28T03:50:54.827Z"
   },
   {
    "duration": 503,
    "start_time": "2021-08-28T03:50:54.839Z"
   },
   {
    "duration": 495,
    "start_time": "2021-08-28T03:50:54.848Z"
   },
   {
    "duration": 486,
    "start_time": "2021-08-28T03:50:54.858Z"
   },
   {
    "duration": 18,
    "start_time": "2021-08-28T03:52:01.596Z"
   },
   {
    "duration": 22,
    "start_time": "2021-08-28T03:52:04.285Z"
   },
   {
    "duration": 1178,
    "start_time": "2021-08-28T03:53:16.554Z"
   },
   {
    "duration": 521,
    "start_time": "2021-08-28T03:53:17.734Z"
   },
   {
    "duration": 49,
    "start_time": "2021-08-28T03:53:18.258Z"
   },
   {
    "duration": 204,
    "start_time": "2021-08-28T03:53:18.309Z"
   },
   {
    "duration": 12,
    "start_time": "2021-08-28T03:53:18.516Z"
   },
   {
    "duration": 647,
    "start_time": "2021-08-28T03:53:18.531Z"
   },
   {
    "duration": 40,
    "start_time": "2021-08-28T03:53:19.180Z"
   },
   {
    "duration": 6,
    "start_time": "2021-08-28T03:53:19.223Z"
   },
   {
    "duration": 138,
    "start_time": "2021-08-28T03:53:19.232Z"
   },
   {
    "duration": 38,
    "start_time": "2021-08-28T03:53:19.372Z"
   },
   {
    "duration": 110,
    "start_time": "2021-08-28T03:53:19.413Z"
   },
   {
    "duration": 19,
    "start_time": "2021-08-28T03:53:19.526Z"
   },
   {
    "duration": 10,
    "start_time": "2021-08-28T03:53:19.548Z"
   },
   {
    "duration": 26,
    "start_time": "2021-08-28T03:53:19.585Z"
   },
   {
    "duration": 13,
    "start_time": "2021-08-28T03:53:19.613Z"
   },
   {
    "duration": 20,
    "start_time": "2021-08-28T03:53:19.629Z"
   },
   {
    "duration": 4,
    "start_time": "2021-08-28T03:53:19.692Z"
   },
   {
    "duration": 92,
    "start_time": "2021-08-28T03:53:19.699Z"
   },
   {
    "duration": 92,
    "start_time": "2021-08-28T03:53:19.794Z"
   },
   {
    "duration": 57,
    "start_time": "2021-08-28T03:53:19.889Z"
   },
   {
    "duration": 93,
    "start_time": "2021-08-28T03:53:19.949Z"
   },
   {
    "duration": 419,
    "start_time": "2021-08-28T03:53:20.044Z"
   },
   {
    "duration": 763,
    "start_time": "2021-08-28T03:53:19.705Z"
   },
   {
    "duration": 731,
    "start_time": "2021-08-28T03:53:19.739Z"
   },
   {
    "duration": 721,
    "start_time": "2021-08-28T03:53:19.751Z"
   },
   {
    "duration": 690,
    "start_time": "2021-08-28T03:53:19.784Z"
   },
   {
    "duration": 673,
    "start_time": "2021-08-28T03:53:19.803Z"
   },
   {
    "duration": 653,
    "start_time": "2021-08-28T03:53:19.826Z"
   },
   {
    "duration": 624,
    "start_time": "2021-08-28T03:53:19.857Z"
   },
   {
    "duration": 611,
    "start_time": "2021-08-28T03:53:19.871Z"
   },
   {
    "duration": 607,
    "start_time": "2021-08-28T03:53:19.877Z"
   },
   {
    "duration": 600,
    "start_time": "2021-08-28T03:53:19.887Z"
   },
   {
    "duration": 596,
    "start_time": "2021-08-28T03:53:19.893Z"
   },
   {
    "duration": 589,
    "start_time": "2021-08-28T03:53:19.903Z"
   },
   {
    "duration": 585,
    "start_time": "2021-08-28T03:53:19.909Z"
   },
   {
    "duration": 577,
    "start_time": "2021-08-28T03:53:19.919Z"
   },
   {
    "duration": 558,
    "start_time": "2021-08-28T03:53:19.940Z"
   },
   {
    "duration": 551,
    "start_time": "2021-08-28T03:53:19.950Z"
   },
   {
    "duration": 547,
    "start_time": "2021-08-28T03:53:19.956Z"
   },
   {
    "duration": 533,
    "start_time": "2021-08-28T03:53:19.972Z"
   },
   {
    "duration": 525,
    "start_time": "2021-08-28T03:53:19.982Z"
   },
   {
    "duration": 514,
    "start_time": "2021-08-28T03:53:19.995Z"
   },
   {
    "duration": 494,
    "start_time": "2021-08-28T03:53:20.017Z"
   },
   {
    "duration": 488,
    "start_time": "2021-08-28T03:53:20.025Z"
   },
   {
    "duration": 477,
    "start_time": "2021-08-28T03:53:20.038Z"
   },
   {
    "duration": 10,
    "start_time": "2021-08-28T03:53:34.410Z"
   },
   {
    "duration": 11,
    "start_time": "2021-08-28T03:53:37.297Z"
   },
   {
    "duration": 14,
    "start_time": "2021-08-28T03:53:49.632Z"
   },
   {
    "duration": 4,
    "start_time": "2021-08-28T03:53:51.224Z"
   },
   {
    "duration": 22,
    "start_time": "2021-08-28T03:53:51.383Z"
   },
   {
    "duration": 14,
    "start_time": "2021-08-28T03:54:03.306Z"
   },
   {
    "duration": 3,
    "start_time": "2021-08-28T03:54:03.932Z"
   },
   {
    "duration": 24,
    "start_time": "2021-08-28T03:54:04.582Z"
   },
   {
    "duration": 13,
    "start_time": "2021-08-28T03:54:14.602Z"
   },
   {
    "duration": 3,
    "start_time": "2021-08-28T03:54:15.157Z"
   },
   {
    "duration": 20,
    "start_time": "2021-08-28T03:54:15.742Z"
   },
   {
    "duration": 17,
    "start_time": "2021-08-28T03:54:57.086Z"
   },
   {
    "duration": 29,
    "start_time": "2021-08-28T03:54:57.686Z"
   },
   {
    "duration": 10,
    "start_time": "2021-08-28T03:55:08.647Z"
   },
   {
    "duration": 20,
    "start_time": "2021-08-28T03:55:09.338Z"
   },
   {
    "duration": 4595,
    "start_time": "2021-08-28T03:55:15.557Z"
   },
   {
    "duration": 18,
    "start_time": "2021-08-28T03:55:22.545Z"
   },
   {
    "duration": 2655,
    "start_time": "2021-08-28T03:55:30.786Z"
   },
   {
    "duration": 18,
    "start_time": "2021-08-28T03:55:34.820Z"
   },
   {
    "duration": 11,
    "start_time": "2021-08-28T03:56:49.630Z"
   },
   {
    "duration": 18,
    "start_time": "2021-08-28T03:56:50.506Z"
   },
   {
    "duration": 14,
    "start_time": "2021-08-28T03:57:46.482Z"
   },
   {
    "duration": 19,
    "start_time": "2021-08-28T03:57:47.095Z"
   },
   {
    "duration": 11,
    "start_time": "2021-08-28T03:57:53.075Z"
   },
   {
    "duration": 19,
    "start_time": "2021-08-28T03:57:53.930Z"
   },
   {
    "duration": 4858,
    "start_time": "2021-08-28T03:57:57.821Z"
   },
   {
    "duration": 21,
    "start_time": "2021-08-28T03:58:02.681Z"
   },
   {
    "duration": 2501,
    "start_time": "2021-08-28T03:58:05.063Z"
   },
   {
    "duration": 17,
    "start_time": "2021-08-28T03:58:10.346Z"
   },
   {
    "duration": 13,
    "start_time": "2021-08-28T08:24:37.833Z"
   },
   {
    "duration": 18,
    "start_time": "2021-08-28T08:24:39.122Z"
   },
   {
    "duration": 1124,
    "start_time": "2021-08-28T08:24:56.351Z"
   },
   {
    "duration": 511,
    "start_time": "2021-08-28T08:24:57.478Z"
   },
   {
    "duration": 43,
    "start_time": "2021-08-28T08:24:57.992Z"
   },
   {
    "duration": 190,
    "start_time": "2021-08-28T08:24:58.038Z"
   },
   {
    "duration": 13,
    "start_time": "2021-08-28T08:24:58.230Z"
   },
   {
    "duration": 637,
    "start_time": "2021-08-28T08:24:58.245Z"
   },
   {
    "duration": 34,
    "start_time": "2021-08-28T08:24:58.885Z"
   },
   {
    "duration": 6,
    "start_time": "2021-08-28T08:24:58.921Z"
   },
   {
    "duration": 133,
    "start_time": "2021-08-28T08:24:58.931Z"
   },
   {
    "duration": 35,
    "start_time": "2021-08-28T08:24:59.068Z"
   },
   {
    "duration": 101,
    "start_time": "2021-08-28T08:24:59.105Z"
   },
   {
    "duration": 16,
    "start_time": "2021-08-28T08:24:59.208Z"
   },
   {
    "duration": 9,
    "start_time": "2021-08-28T08:24:59.226Z"
   },
   {
    "duration": 52,
    "start_time": "2021-08-28T08:24:59.237Z"
   },
   {
    "duration": 13,
    "start_time": "2021-08-28T08:24:59.291Z"
   },
   {
    "duration": 25,
    "start_time": "2021-08-28T08:24:59.306Z"
   },
   {
    "duration": 5,
    "start_time": "2021-08-28T08:24:59.333Z"
   },
   {
    "duration": 114,
    "start_time": "2021-08-28T08:24:59.340Z"
   },
   {
    "duration": 95,
    "start_time": "2021-08-28T08:24:59.457Z"
   },
   {
    "duration": 70,
    "start_time": "2021-08-28T08:24:59.554Z"
   },
   {
    "duration": 68,
    "start_time": "2021-08-28T08:24:59.626Z"
   },
   {
    "duration": 12,
    "start_time": "2021-08-28T08:24:59.697Z"
   },
   {
    "duration": 21,
    "start_time": "2021-08-28T08:24:59.711Z"
   },
   {
    "duration": 9,
    "start_time": "2021-08-28T08:24:59.734Z"
   },
   {
    "duration": 49,
    "start_time": "2021-08-28T08:24:59.745Z"
   },
   {
    "duration": 4852,
    "start_time": "2021-08-28T08:24:59.796Z"
   },
   {
    "duration": 17,
    "start_time": "2021-08-28T08:25:04.653Z"
   },
   {
    "duration": 2827,
    "start_time": "2021-08-28T08:25:04.683Z"
   },
   {
    "duration": 18,
    "start_time": "2021-08-28T08:25:07.512Z"
   },
   {
    "duration": 13,
    "start_time": "2021-08-28T08:25:07.532Z"
   },
   {
    "duration": 42,
    "start_time": "2021-08-28T08:25:07.547Z"
   },
   {
    "duration": 14,
    "start_time": "2021-08-28T08:25:07.591Z"
   },
   {
    "duration": 11,
    "start_time": "2021-08-28T08:25:07.607Z"
   },
   {
    "duration": 3708,
    "start_time": "2021-08-28T08:25:07.620Z"
   },
   {
    "duration": 2349,
    "start_time": "2021-08-28T08:25:11.330Z"
   },
   {
    "duration": 25,
    "start_time": "2021-08-28T08:25:13.683Z"
   },
   {
    "duration": 14,
    "start_time": "2021-08-28T08:25:13.710Z"
   },
   {
    "duration": 13,
    "start_time": "2021-08-28T08:25:13.726Z"
   },
   {
    "duration": 4561,
    "start_time": "2021-08-28T08:25:13.742Z"
   },
   {
    "duration": 2712,
    "start_time": "2021-08-28T08:25:18.306Z"
   },
   {
    "duration": 27,
    "start_time": "2021-08-28T08:25:21.020Z"
   },
   {
    "duration": 33,
    "start_time": "2021-08-28T08:25:21.049Z"
   },
   {
    "duration": 8179,
    "start_time": "2021-08-28T08:25:21.085Z"
   },
   {
    "duration": 1438,
    "start_time": "2021-08-28T08:25:27.829Z"
   },
   {
    "duration": 1414,
    "start_time": "2021-08-28T08:25:27.855Z"
   },
   {
    "duration": 1156,
    "start_time": "2021-08-28T08:27:47.932Z"
   },
   {
    "duration": 526,
    "start_time": "2021-08-28T08:27:49.091Z"
   },
   {
    "duration": 44,
    "start_time": "2021-08-28T08:27:49.620Z"
   },
   {
    "duration": 173,
    "start_time": "2021-08-28T08:27:49.667Z"
   },
   {
    "duration": 12,
    "start_time": "2021-08-28T08:27:49.843Z"
   },
   {
    "duration": 780,
    "start_time": "2021-08-28T08:27:49.857Z"
   },
   {
    "duration": 49,
    "start_time": "2021-08-28T08:27:50.640Z"
   },
   {
    "duration": 7,
    "start_time": "2021-08-28T08:27:50.695Z"
   },
   {
    "duration": 127,
    "start_time": "2021-08-28T08:27:50.706Z"
   },
   {
    "duration": 27,
    "start_time": "2021-08-28T08:27:50.836Z"
   },
   {
    "duration": 101,
    "start_time": "2021-08-28T08:27:50.882Z"
   },
   {
    "duration": 16,
    "start_time": "2021-08-28T08:27:50.985Z"
   },
   {
    "duration": 14,
    "start_time": "2021-08-28T08:27:51.004Z"
   },
   {
    "duration": 28,
    "start_time": "2021-08-28T08:27:51.020Z"
   },
   {
    "duration": 39,
    "start_time": "2021-08-28T08:27:51.050Z"
   },
   {
    "duration": 19,
    "start_time": "2021-08-28T08:27:51.092Z"
   },
   {
    "duration": 4,
    "start_time": "2021-08-28T08:27:51.114Z"
   },
   {
    "duration": 106,
    "start_time": "2021-08-28T08:27:51.120Z"
   },
   {
    "duration": 93,
    "start_time": "2021-08-28T08:27:51.228Z"
   },
   {
    "duration": 71,
    "start_time": "2021-08-28T08:27:51.323Z"
   },
   {
    "duration": 59,
    "start_time": "2021-08-28T08:27:51.397Z"
   },
   {
    "duration": 30,
    "start_time": "2021-08-28T08:27:51.458Z"
   },
   {
    "duration": 19,
    "start_time": "2021-08-28T08:27:51.493Z"
   },
   {
    "duration": 10,
    "start_time": "2021-08-28T08:27:51.515Z"
   },
   {
    "duration": 18,
    "start_time": "2021-08-28T08:27:51.527Z"
   },
   {
    "duration": 4513,
    "start_time": "2021-08-28T08:27:51.582Z"
   },
   {
    "duration": 18,
    "start_time": "2021-08-28T08:27:56.098Z"
   },
   {
    "duration": 2659,
    "start_time": "2021-08-28T08:27:56.118Z"
   },
   {
    "duration": 19,
    "start_time": "2021-08-28T08:27:58.779Z"
   },
   {
    "duration": 17,
    "start_time": "2021-08-28T08:27:58.801Z"
   },
   {
    "duration": 35,
    "start_time": "2021-08-28T08:27:58.820Z"
   },
   {
    "duration": 91,
    "start_time": "2021-08-28T08:27:58.857Z"
   },
   {
    "duration": 1514,
    "start_time": "2021-08-28T08:27:57.437Z"
   },
   {
    "duration": 1507,
    "start_time": "2021-08-28T08:27:57.445Z"
   },
   {
    "duration": 1503,
    "start_time": "2021-08-28T08:27:57.451Z"
   },
   {
    "duration": 1497,
    "start_time": "2021-08-28T08:27:57.458Z"
   },
   {
    "duration": 1494,
    "start_time": "2021-08-28T08:27:57.463Z"
   },
   {
    "duration": 1453,
    "start_time": "2021-08-28T08:27:57.505Z"
   },
   {
    "duration": 1447,
    "start_time": "2021-08-28T08:27:57.512Z"
   },
   {
    "duration": 1442,
    "start_time": "2021-08-28T08:27:57.519Z"
   },
   {
    "duration": 1427,
    "start_time": "2021-08-28T08:27:57.535Z"
   },
   {
    "duration": 1413,
    "start_time": "2021-08-28T08:27:57.550Z"
   },
   {
    "duration": 1396,
    "start_time": "2021-08-28T08:27:57.569Z"
   },
   {
    "duration": 1364,
    "start_time": "2021-08-28T08:27:57.602Z"
   },
   {
    "duration": 1328,
    "start_time": "2021-08-28T08:27:57.639Z"
   },
   {
    "duration": 15,
    "start_time": "2021-08-28T08:28:27.517Z"
   },
   {
    "duration": 11,
    "start_time": "2021-08-28T08:28:28.463Z"
   },
   {
    "duration": 3666,
    "start_time": "2021-08-28T08:28:29.894Z"
   },
   {
    "duration": 2491,
    "start_time": "2021-08-28T08:28:33.562Z"
   },
   {
    "duration": 36,
    "start_time": "2021-08-28T08:28:36.056Z"
   },
   {
    "duration": 1163,
    "start_time": "2021-08-28T08:29:47.315Z"
   },
   {
    "duration": 502,
    "start_time": "2021-08-28T08:29:48.480Z"
   },
   {
    "duration": 45,
    "start_time": "2021-08-28T08:29:48.985Z"
   },
   {
    "duration": 203,
    "start_time": "2021-08-28T08:29:49.033Z"
   },
   {
    "duration": 12,
    "start_time": "2021-08-28T08:29:49.239Z"
   },
   {
    "duration": 630,
    "start_time": "2021-08-28T08:29:49.254Z"
   },
   {
    "duration": 32,
    "start_time": "2021-08-28T08:29:49.886Z"
   },
   {
    "duration": 6,
    "start_time": "2021-08-28T08:29:49.922Z"
   },
   {
    "duration": 135,
    "start_time": "2021-08-28T08:29:49.931Z"
   },
   {
    "duration": 29,
    "start_time": "2021-08-28T08:29:50.069Z"
   },
   {
    "duration": 108,
    "start_time": "2021-08-28T08:29:50.101Z"
   },
   {
    "duration": 17,
    "start_time": "2021-08-28T08:29:50.211Z"
   },
   {
    "duration": 6,
    "start_time": "2021-08-28T08:29:50.230Z"
   },
   {
    "duration": 53,
    "start_time": "2021-08-28T08:29:50.239Z"
   },
   {
    "duration": 17,
    "start_time": "2021-08-28T08:29:50.294Z"
   },
   {
    "duration": 21,
    "start_time": "2021-08-28T08:29:50.314Z"
   },
   {
    "duration": 20,
    "start_time": "2021-08-28T08:29:50.338Z"
   },
   {
    "duration": 202,
    "start_time": "2021-08-28T08:29:50.361Z"
   },
   {
    "duration": 135,
    "start_time": "2021-08-28T08:29:50.571Z"
   },
   {
    "duration": 78,
    "start_time": "2021-08-28T08:29:50.709Z"
   },
   {
    "duration": 58,
    "start_time": "2021-08-28T08:29:50.790Z"
   },
   {
    "duration": 36,
    "start_time": "2021-08-28T08:29:50.851Z"
   },
   {
    "duration": 18,
    "start_time": "2021-08-28T08:29:50.892Z"
   },
   {
    "duration": 10,
    "start_time": "2021-08-28T08:29:50.913Z"
   },
   {
    "duration": 24,
    "start_time": "2021-08-28T08:29:50.926Z"
   },
   {
    "duration": 4580,
    "start_time": "2021-08-28T08:29:50.952Z"
   },
   {
    "duration": 19,
    "start_time": "2021-08-28T08:29:55.534Z"
   },
   {
    "duration": 2706,
    "start_time": "2021-08-28T08:29:55.555Z"
   },
   {
    "duration": 22,
    "start_time": "2021-08-28T08:29:58.263Z"
   },
   {
    "duration": 26,
    "start_time": "2021-08-28T08:29:58.288Z"
   },
   {
    "duration": 29,
    "start_time": "2021-08-28T08:29:58.316Z"
   },
   {
    "duration": 26,
    "start_time": "2021-08-28T08:29:58.347Z"
   },
   {
    "duration": 20,
    "start_time": "2021-08-28T08:29:58.375Z"
   },
   {
    "duration": 3679,
    "start_time": "2021-08-28T08:29:58.397Z"
   },
   {
    "duration": 2485,
    "start_time": "2021-08-28T08:30:02.078Z"
   },
   {
    "duration": 33,
    "start_time": "2021-08-28T08:30:04.565Z"
   },
   {
    "duration": 12,
    "start_time": "2021-08-28T08:30:04.601Z"
   },
   {
    "duration": 9,
    "start_time": "2021-08-28T08:30:04.616Z"
   },
   {
    "duration": 4154,
    "start_time": "2021-08-28T08:30:04.628Z"
   },
   {
    "duration": 2742,
    "start_time": "2021-08-28T08:30:08.784Z"
   },
   {
    "duration": 26,
    "start_time": "2021-08-28T08:30:11.528Z"
   },
   {
    "duration": 28,
    "start_time": "2021-08-28T08:30:11.556Z"
   },
   {
    "duration": 8063,
    "start_time": "2021-08-28T08:30:11.587Z"
   },
   {
    "duration": 1514,
    "start_time": "2021-08-28T08:30:18.139Z"
   },
   {
    "duration": 1503,
    "start_time": "2021-08-28T08:30:18.152Z"
   },
   {
    "duration": 1194,
    "start_time": "2021-08-28T08:34:39.388Z"
   },
   {
    "duration": 497,
    "start_time": "2021-08-28T08:34:40.585Z"
   },
   {
    "duration": 43,
    "start_time": "2021-08-28T08:34:41.085Z"
   },
   {
    "duration": 205,
    "start_time": "2021-08-28T08:34:41.131Z"
   },
   {
    "duration": 13,
    "start_time": "2021-08-28T08:34:41.339Z"
   },
   {
    "duration": 630,
    "start_time": "2021-08-28T08:34:41.354Z"
   },
   {
    "duration": 33,
    "start_time": "2021-08-28T08:34:41.986Z"
   },
   {
    "duration": 6,
    "start_time": "2021-08-28T08:34:42.023Z"
   },
   {
    "duration": 136,
    "start_time": "2021-08-28T08:34:42.033Z"
   },
   {
    "duration": 27,
    "start_time": "2021-08-28T08:34:42.182Z"
   },
   {
    "duration": 108,
    "start_time": "2021-08-28T08:34:42.211Z"
   },
   {
    "duration": 17,
    "start_time": "2021-08-28T08:34:42.321Z"
   },
   {
    "duration": 14,
    "start_time": "2021-08-28T08:34:42.341Z"
   },
   {
    "duration": 41,
    "start_time": "2021-08-28T08:34:42.358Z"
   },
   {
    "duration": 13,
    "start_time": "2021-08-28T08:34:42.401Z"
   },
   {
    "duration": 22,
    "start_time": "2021-08-28T08:34:42.417Z"
   },
   {
    "duration": 8,
    "start_time": "2021-08-28T08:34:42.441Z"
   },
   {
    "duration": 88,
    "start_time": "2021-08-28T08:34:42.483Z"
   },
   {
    "duration": 104,
    "start_time": "2021-08-28T08:34:42.583Z"
   },
   {
    "duration": 105,
    "start_time": "2021-08-28T08:34:42.690Z"
   },
   {
    "duration": 97,
    "start_time": "2021-08-28T08:34:42.798Z"
   },
   {
    "duration": 15,
    "start_time": "2021-08-28T08:34:42.898Z"
   },
   {
    "duration": 20,
    "start_time": "2021-08-28T08:34:42.920Z"
   },
   {
    "duration": 44,
    "start_time": "2021-08-28T08:34:42.943Z"
   },
   {
    "duration": 20,
    "start_time": "2021-08-28T08:34:42.990Z"
   },
   {
    "duration": 4633,
    "start_time": "2021-08-28T08:34:43.013Z"
   },
   {
    "duration": 19,
    "start_time": "2021-08-28T08:34:47.648Z"
   },
   {
    "duration": 2637,
    "start_time": "2021-08-28T08:34:47.670Z"
   },
   {
    "duration": 17,
    "start_time": "2021-08-28T08:34:50.309Z"
   },
   {
    "duration": 18,
    "start_time": "2021-08-28T08:34:50.328Z"
   },
   {
    "duration": 36,
    "start_time": "2021-08-28T08:34:50.348Z"
   },
   {
    "duration": 13,
    "start_time": "2021-08-28T08:34:50.387Z"
   },
   {
    "duration": 10,
    "start_time": "2021-08-28T08:34:50.402Z"
   },
   {
    "duration": 5520,
    "start_time": "2021-08-28T08:34:50.415Z"
   },
   {
    "duration": 2387,
    "start_time": "2021-08-28T08:34:55.938Z"
   },
   {
    "duration": 96,
    "start_time": "2021-08-28T08:34:58.327Z"
   },
   {
    "duration": 1536,
    "start_time": "2021-08-28T08:34:56.890Z"
   },
   {
    "duration": 1529,
    "start_time": "2021-08-28T08:34:56.898Z"
   },
   {
    "duration": 1524,
    "start_time": "2021-08-28T08:34:56.904Z"
   },
   {
    "duration": 1518,
    "start_time": "2021-08-28T08:34:56.911Z"
   },
   {
    "duration": 1491,
    "start_time": "2021-08-28T08:34:56.939Z"
   },
   {
    "duration": 1484,
    "start_time": "2021-08-28T08:34:56.947Z"
   },
   {
    "duration": 1478,
    "start_time": "2021-08-28T08:34:56.955Z"
   },
   {
    "duration": 1472,
    "start_time": "2021-08-28T08:34:56.962Z"
   },
   {
    "duration": 1466,
    "start_time": "2021-08-28T08:34:56.969Z"
   },
   {
    "duration": 27,
    "start_time": "2021-08-28T08:35:06.712Z"
   },
   {
    "duration": 1105,
    "start_time": "2021-08-28T08:36:02.582Z"
   },
   {
    "duration": 515,
    "start_time": "2021-08-28T08:36:03.690Z"
   },
   {
    "duration": 44,
    "start_time": "2021-08-28T08:36:04.208Z"
   },
   {
    "duration": 176,
    "start_time": "2021-08-28T08:36:04.256Z"
   },
   {
    "duration": 14,
    "start_time": "2021-08-28T08:36:04.435Z"
   },
   {
    "duration": 671,
    "start_time": "2021-08-28T08:36:04.452Z"
   },
   {
    "duration": 34,
    "start_time": "2021-08-28T08:36:05.126Z"
   },
   {
    "duration": 23,
    "start_time": "2021-08-28T08:36:05.164Z"
   },
   {
    "duration": 120,
    "start_time": "2021-08-28T08:36:05.190Z"
   },
   {
    "duration": 24,
    "start_time": "2021-08-28T08:36:05.313Z"
   },
   {
    "duration": 100,
    "start_time": "2021-08-28T08:36:05.340Z"
   },
   {
    "duration": 17,
    "start_time": "2021-08-28T08:36:05.443Z"
   },
   {
    "duration": 20,
    "start_time": "2021-08-28T08:36:05.463Z"
   },
   {
    "duration": 30,
    "start_time": "2021-08-28T08:36:05.485Z"
   },
   {
    "duration": 13,
    "start_time": "2021-08-28T08:36:05.517Z"
   },
   {
    "duration": 55,
    "start_time": "2021-08-28T08:36:05.532Z"
   },
   {
    "duration": 4,
    "start_time": "2021-08-28T08:36:05.590Z"
   },
   {
    "duration": 112,
    "start_time": "2021-08-28T08:36:05.596Z"
   },
   {
    "duration": 92,
    "start_time": "2021-08-28T08:36:05.710Z"
   },
   {
    "duration": 58,
    "start_time": "2021-08-28T08:36:05.805Z"
   },
   {
    "duration": 56,
    "start_time": "2021-08-28T08:36:05.882Z"
   },
   {
    "duration": 14,
    "start_time": "2021-08-28T08:36:05.940Z"
   },
   {
    "duration": 19,
    "start_time": "2021-08-28T08:36:05.985Z"
   },
   {
    "duration": 11,
    "start_time": "2021-08-28T08:36:06.006Z"
   },
   {
    "duration": 19,
    "start_time": "2021-08-28T08:36:06.019Z"
   },
   {
    "duration": 4474,
    "start_time": "2021-08-28T08:36:06.041Z"
   },
   {
    "duration": 18,
    "start_time": "2021-08-28T08:36:10.518Z"
   },
   {
    "duration": 2621,
    "start_time": "2021-08-28T08:36:10.539Z"
   },
   {
    "duration": 26,
    "start_time": "2021-08-28T08:36:13.163Z"
   },
   {
    "duration": 11,
    "start_time": "2021-08-28T08:36:13.191Z"
   },
   {
    "duration": 17,
    "start_time": "2021-08-28T08:36:13.205Z"
   },
   {
    "duration": 13,
    "start_time": "2021-08-28T08:36:13.225Z"
   },
   {
    "duration": 45,
    "start_time": "2021-08-28T08:36:13.240Z"
   },
   {
    "duration": 3702,
    "start_time": "2021-08-28T08:36:13.287Z"
   },
   {
    "duration": 2532,
    "start_time": "2021-08-28T08:36:16.991Z"
   },
   {
    "duration": 404,
    "start_time": "2021-08-28T08:36:19.526Z"
   },
   {
    "duration": 1516,
    "start_time": "2021-08-28T08:36:18.417Z"
   },
   {
    "duration": 1505,
    "start_time": "2021-08-28T08:36:18.429Z"
   },
   {
    "duration": 1494,
    "start_time": "2021-08-28T08:36:18.441Z"
   },
   {
    "duration": 1488,
    "start_time": "2021-08-28T08:36:18.449Z"
   },
   {
    "duration": 1479,
    "start_time": "2021-08-28T08:36:18.459Z"
   },
   {
    "duration": 1472,
    "start_time": "2021-08-28T08:36:18.467Z"
   },
   {
    "duration": 1465,
    "start_time": "2021-08-28T08:36:18.475Z"
   },
   {
    "duration": 1460,
    "start_time": "2021-08-28T08:36:18.482Z"
   },
   {
    "duration": 1442,
    "start_time": "2021-08-28T08:36:18.501Z"
   },
   {
    "duration": 293,
    "start_time": "2021-08-28T08:37:01.230Z"
   },
   {
    "duration": 26,
    "start_time": "2021-08-28T08:37:36.265Z"
   },
   {
    "duration": 1434,
    "start_time": "2021-08-28T08:38:16.373Z"
   },
   {
    "duration": 520,
    "start_time": "2021-08-28T08:38:17.810Z"
   },
   {
    "duration": 65,
    "start_time": "2021-08-28T08:38:18.334Z"
   },
   {
    "duration": 214,
    "start_time": "2021-08-28T08:38:18.402Z"
   },
   {
    "duration": 14,
    "start_time": "2021-08-28T08:38:18.619Z"
   },
   {
    "duration": 673,
    "start_time": "2021-08-28T08:38:18.635Z"
   },
   {
    "duration": 33,
    "start_time": "2021-08-28T08:38:19.311Z"
   },
   {
    "duration": 39,
    "start_time": "2021-08-28T08:38:19.348Z"
   },
   {
    "duration": 152,
    "start_time": "2021-08-28T08:38:19.390Z"
   },
   {
    "duration": 41,
    "start_time": "2021-08-28T08:38:19.545Z"
   },
   {
    "duration": 133,
    "start_time": "2021-08-28T08:38:19.589Z"
   },
   {
    "duration": 20,
    "start_time": "2021-08-28T08:38:19.724Z"
   },
   {
    "duration": 6,
    "start_time": "2021-08-28T08:38:19.747Z"
   },
   {
    "duration": 58,
    "start_time": "2021-08-28T08:38:19.755Z"
   },
   {
    "duration": 17,
    "start_time": "2021-08-28T08:38:19.815Z"
   },
   {
    "duration": 22,
    "start_time": "2021-08-28T08:38:19.834Z"
   },
   {
    "duration": 25,
    "start_time": "2021-08-28T08:38:19.859Z"
   },
   {
    "duration": 89,
    "start_time": "2021-08-28T08:38:19.886Z"
   },
   {
    "duration": 99,
    "start_time": "2021-08-28T08:38:19.983Z"
   },
   {
    "duration": 65,
    "start_time": "2021-08-28T08:38:20.084Z"
   },
   {
    "duration": 82,
    "start_time": "2021-08-28T08:38:20.151Z"
   },
   {
    "duration": 14,
    "start_time": "2021-08-28T08:38:20.236Z"
   },
   {
    "duration": 40,
    "start_time": "2021-08-28T08:38:20.255Z"
   },
   {
    "duration": 13,
    "start_time": "2021-08-28T08:38:20.298Z"
   },
   {
    "duration": 23,
    "start_time": "2021-08-28T08:38:20.313Z"
   },
   {
    "duration": 5026,
    "start_time": "2021-08-28T08:38:20.338Z"
   },
   {
    "duration": 27,
    "start_time": "2021-08-28T08:38:25.366Z"
   },
   {
    "duration": 2973,
    "start_time": "2021-08-28T08:38:25.396Z"
   },
   {
    "duration": 28,
    "start_time": "2021-08-28T08:38:28.371Z"
   },
   {
    "duration": 16,
    "start_time": "2021-08-28T08:38:28.402Z"
   },
   {
    "duration": 25,
    "start_time": "2021-08-28T08:38:28.421Z"
   },
   {
    "duration": 45,
    "start_time": "2021-08-28T08:38:28.449Z"
   },
   {
    "duration": 13,
    "start_time": "2021-08-28T08:38:28.497Z"
   },
   {
    "duration": 4527,
    "start_time": "2021-08-28T08:38:28.513Z"
   },
   {
    "duration": 2591,
    "start_time": "2021-08-28T08:38:33.043Z"
   },
   {
    "duration": 26,
    "start_time": "2021-08-28T08:38:35.636Z"
   },
   {
    "duration": 17,
    "start_time": "2021-08-28T08:38:35.682Z"
   },
   {
    "duration": 12,
    "start_time": "2021-08-28T08:38:35.701Z"
   },
   {
    "duration": 4568,
    "start_time": "2021-08-28T08:38:35.715Z"
   },
   {
    "duration": 2792,
    "start_time": "2021-08-28T08:38:40.285Z"
   },
   {
    "duration": 28,
    "start_time": "2021-08-28T08:38:43.082Z"
   },
   {
    "duration": 15,
    "start_time": "2021-08-28T08:38:43.113Z"
   },
   {
    "duration": 8234,
    "start_time": "2021-08-28T08:38:43.130Z"
   },
   {
    "duration": 1513,
    "start_time": "2021-08-28T08:38:49.854Z"
   },
   {
    "duration": 1507,
    "start_time": "2021-08-28T08:38:49.861Z"
   },
   {
    "duration": 1184,
    "start_time": "2021-08-28T08:39:49.902Z"
   },
   {
    "duration": 509,
    "start_time": "2021-08-28T08:39:51.089Z"
   },
   {
    "duration": 47,
    "start_time": "2021-08-28T08:39:51.601Z"
   },
   {
    "duration": 200,
    "start_time": "2021-08-28T08:39:51.651Z"
   },
   {
    "duration": 32,
    "start_time": "2021-08-28T08:39:51.854Z"
   },
   {
    "duration": 750,
    "start_time": "2021-08-28T08:39:51.889Z"
   },
   {
    "duration": 44,
    "start_time": "2021-08-28T08:39:52.642Z"
   },
   {
    "duration": 8,
    "start_time": "2021-08-28T08:39:52.690Z"
   },
   {
    "duration": 129,
    "start_time": "2021-08-28T08:39:52.701Z"
   },
   {
    "duration": 26,
    "start_time": "2021-08-28T08:39:52.833Z"
   },
   {
    "duration": 95,
    "start_time": "2021-08-28T08:39:52.862Z"
   },
   {
    "duration": 29,
    "start_time": "2021-08-28T08:39:52.959Z"
   },
   {
    "duration": 8,
    "start_time": "2021-08-28T08:39:52.990Z"
   },
   {
    "duration": 27,
    "start_time": "2021-08-28T08:39:53.001Z"
   },
   {
    "duration": 13,
    "start_time": "2021-08-28T08:39:53.031Z"
   },
   {
    "duration": 48,
    "start_time": "2021-08-28T08:39:53.046Z"
   },
   {
    "duration": 5,
    "start_time": "2021-08-28T08:39:53.096Z"
   },
   {
    "duration": 103,
    "start_time": "2021-08-28T08:39:53.103Z"
   },
   {
    "duration": 92,
    "start_time": "2021-08-28T08:39:53.209Z"
   },
   {
    "duration": 59,
    "start_time": "2021-08-28T08:39:53.303Z"
   },
   {
    "duration": 71,
    "start_time": "2021-08-28T08:39:53.364Z"
   },
   {
    "duration": 14,
    "start_time": "2021-08-28T08:39:53.437Z"
   },
   {
    "duration": 39,
    "start_time": "2021-08-28T08:39:53.456Z"
   },
   {
    "duration": 11,
    "start_time": "2021-08-28T08:39:53.498Z"
   },
   {
    "duration": 22,
    "start_time": "2021-08-28T08:39:53.511Z"
   },
   {
    "duration": 4483,
    "start_time": "2021-08-28T08:39:53.536Z"
   },
   {
    "duration": 17,
    "start_time": "2021-08-28T08:39:58.021Z"
   },
   {
    "duration": 2658,
    "start_time": "2021-08-28T08:39:58.040Z"
   },
   {
    "duration": 18,
    "start_time": "2021-08-28T08:40:00.701Z"
   },
   {
    "duration": 17,
    "start_time": "2021-08-28T08:40:00.721Z"
   },
   {
    "duration": 43,
    "start_time": "2021-08-28T08:40:00.740Z"
   },
   {
    "duration": 13,
    "start_time": "2021-08-28T08:40:00.786Z"
   },
   {
    "duration": 16,
    "start_time": "2021-08-28T08:40:00.801Z"
   },
   {
    "duration": 3748,
    "start_time": "2021-08-28T08:40:00.819Z"
   },
   {
    "duration": 2464,
    "start_time": "2021-08-28T08:40:04.569Z"
   },
   {
    "duration": 25,
    "start_time": "2021-08-28T08:40:07.035Z"
   },
   {
    "duration": 30,
    "start_time": "2021-08-28T08:40:07.063Z"
   },
   {
    "duration": 10,
    "start_time": "2021-08-28T08:40:07.095Z"
   },
   {
    "duration": 4211,
    "start_time": "2021-08-28T08:40:07.107Z"
   },
   {
    "duration": 2662,
    "start_time": "2021-08-28T08:40:11.320Z"
   },
   {
    "duration": 25,
    "start_time": "2021-08-28T08:40:13.984Z"
   },
   {
    "duration": 11,
    "start_time": "2021-08-28T08:40:14.012Z"
   },
   {
    "duration": 7880,
    "start_time": "2021-08-28T08:40:14.026Z"
   },
   {
    "duration": 1506,
    "start_time": "2021-08-28T08:40:20.403Z"
   },
   {
    "duration": 1499,
    "start_time": "2021-08-28T08:40:20.412Z"
   },
   {
    "duration": 1132,
    "start_time": "2021-08-28T08:41:05.983Z"
   },
   {
    "duration": 493,
    "start_time": "2021-08-28T08:41:07.117Z"
   },
   {
    "duration": 44,
    "start_time": "2021-08-28T08:41:07.613Z"
   },
   {
    "duration": 182,
    "start_time": "2021-08-28T08:41:07.660Z"
   },
   {
    "duration": 13,
    "start_time": "2021-08-28T08:41:07.845Z"
   },
   {
    "duration": 604,
    "start_time": "2021-08-28T08:41:07.861Z"
   },
   {
    "duration": 39,
    "start_time": "2021-08-28T08:41:08.467Z"
   },
   {
    "duration": 6,
    "start_time": "2021-08-28T08:41:08.510Z"
   },
   {
    "duration": 126,
    "start_time": "2021-08-28T08:41:08.519Z"
   },
   {
    "duration": 36,
    "start_time": "2021-08-28T08:41:08.648Z"
   },
   {
    "duration": 103,
    "start_time": "2021-08-28T08:41:08.686Z"
   },
   {
    "duration": 18,
    "start_time": "2021-08-28T08:41:08.792Z"
   },
   {
    "duration": 9,
    "start_time": "2021-08-28T08:41:08.813Z"
   },
   {
    "duration": 59,
    "start_time": "2021-08-28T08:41:08.824Z"
   },
   {
    "duration": 14,
    "start_time": "2021-08-28T08:41:08.886Z"
   },
   {
    "duration": 23,
    "start_time": "2021-08-28T08:41:08.903Z"
   },
   {
    "duration": 10,
    "start_time": "2021-08-28T08:41:08.929Z"
   },
   {
    "duration": 116,
    "start_time": "2021-08-28T08:41:08.941Z"
   },
   {
    "duration": 95,
    "start_time": "2021-08-28T08:41:09.060Z"
   },
   {
    "duration": 70,
    "start_time": "2021-08-28T08:41:09.158Z"
   },
   {
    "duration": 69,
    "start_time": "2021-08-28T08:41:09.230Z"
   },
   {
    "duration": 13,
    "start_time": "2021-08-28T08:41:09.302Z"
   },
   {
    "duration": 18,
    "start_time": "2021-08-28T08:41:09.320Z"
   },
   {
    "duration": 9,
    "start_time": "2021-08-28T08:41:09.341Z"
   },
   {
    "duration": 18,
    "start_time": "2021-08-28T08:41:09.383Z"
   },
   {
    "duration": 4379,
    "start_time": "2021-08-28T08:41:09.404Z"
   },
   {
    "duration": 17,
    "start_time": "2021-08-28T08:41:13.785Z"
   },
   {
    "duration": 2913,
    "start_time": "2021-08-28T08:41:13.804Z"
   },
   {
    "duration": 19,
    "start_time": "2021-08-28T08:41:16.719Z"
   },
   {
    "duration": 15,
    "start_time": "2021-08-28T08:41:16.740Z"
   },
   {
    "duration": 36,
    "start_time": "2021-08-28T08:41:16.757Z"
   },
   {
    "duration": 13,
    "start_time": "2021-08-28T08:41:16.796Z"
   },
   {
    "duration": 10,
    "start_time": "2021-08-28T08:41:16.811Z"
   },
   {
    "duration": 3631,
    "start_time": "2021-08-28T08:41:16.824Z"
   },
   {
    "duration": 2410,
    "start_time": "2021-08-28T08:41:20.458Z"
   },
   {
    "duration": 30,
    "start_time": "2021-08-28T08:41:22.870Z"
   },
   {
    "duration": 11,
    "start_time": "2021-08-28T08:41:22.902Z"
   },
   {
    "duration": 13,
    "start_time": "2021-08-28T08:41:22.915Z"
   },
   {
    "duration": 4204,
    "start_time": "2021-08-28T08:41:22.930Z"
   },
   {
    "duration": 2737,
    "start_time": "2021-08-28T08:41:27.136Z"
   },
   {
    "duration": 27,
    "start_time": "2021-08-28T08:41:29.875Z"
   },
   {
    "duration": 12,
    "start_time": "2021-08-28T08:41:29.905Z"
   },
   {
    "duration": 3843,
    "start_time": "2021-08-28T08:41:29.920Z"
   },
   {
    "duration": 39,
    "start_time": "2021-08-28T08:41:33.765Z"
   },
   {
    "duration": 1173,
    "start_time": "2021-08-28T08:41:33.806Z"
   },
   {
    "duration": 29,
    "start_time": "2021-08-28T08:43:51.841Z"
   },
   {
    "duration": 21,
    "start_time": "2021-08-28T08:44:42.930Z"
   },
   {
    "duration": 32,
    "start_time": "2021-08-28T08:44:58.557Z"
   },
   {
    "duration": 1283,
    "start_time": "2021-08-28T08:46:24.835Z"
   },
   {
    "duration": 511,
    "start_time": "2021-08-28T08:46:26.121Z"
   },
   {
    "duration": 47,
    "start_time": "2021-08-28T08:46:26.635Z"
   },
   {
    "duration": 310,
    "start_time": "2021-08-28T08:46:26.684Z"
   },
   {
    "duration": 13,
    "start_time": "2021-08-28T08:46:26.997Z"
   },
   {
    "duration": 679,
    "start_time": "2021-08-28T08:46:27.012Z"
   },
   {
    "duration": 33,
    "start_time": "2021-08-28T08:46:27.695Z"
   },
   {
    "duration": 6,
    "start_time": "2021-08-28T08:46:27.731Z"
   },
   {
    "duration": 143,
    "start_time": "2021-08-28T08:46:27.740Z"
   },
   {
    "duration": 28,
    "start_time": "2021-08-28T08:46:27.886Z"
   },
   {
    "duration": 121,
    "start_time": "2021-08-28T08:46:27.916Z"
   },
   {
    "duration": 18,
    "start_time": "2021-08-28T08:46:28.040Z"
   },
   {
    "duration": 23,
    "start_time": "2021-08-28T08:46:28.060Z"
   },
   {
    "duration": 27,
    "start_time": "2021-08-28T08:46:28.085Z"
   },
   {
    "duration": 12,
    "start_time": "2021-08-28T08:46:28.115Z"
   },
   {
    "duration": 54,
    "start_time": "2021-08-28T08:46:28.130Z"
   },
   {
    "duration": 4,
    "start_time": "2021-08-28T08:46:28.186Z"
   },
   {
    "duration": 102,
    "start_time": "2021-08-28T08:46:28.194Z"
   },
   {
    "duration": 102,
    "start_time": "2021-08-28T08:46:28.299Z"
   },
   {
    "duration": 63,
    "start_time": "2021-08-28T08:46:28.403Z"
   },
   {
    "duration": 59,
    "start_time": "2021-08-28T08:46:28.482Z"
   },
   {
    "duration": 36,
    "start_time": "2021-08-28T08:46:28.546Z"
   },
   {
    "duration": 22,
    "start_time": "2021-08-28T08:46:28.586Z"
   },
   {
    "duration": 10,
    "start_time": "2021-08-28T08:46:28.611Z"
   },
   {
    "duration": 21,
    "start_time": "2021-08-28T08:46:28.623Z"
   },
   {
    "duration": 5123,
    "start_time": "2021-08-28T08:46:28.646Z"
   },
   {
    "duration": 23,
    "start_time": "2021-08-28T08:46:33.771Z"
   },
   {
    "duration": 2866,
    "start_time": "2021-08-28T08:46:33.796Z"
   },
   {
    "duration": 23,
    "start_time": "2021-08-28T08:46:36.665Z"
   },
   {
    "duration": 13,
    "start_time": "2021-08-28T08:46:36.691Z"
   },
   {
    "duration": 17,
    "start_time": "2021-08-28T08:46:36.707Z"
   },
   {
    "duration": 15,
    "start_time": "2021-08-28T08:46:36.727Z"
   },
   {
    "duration": 46,
    "start_time": "2021-08-28T08:46:36.744Z"
   },
   {
    "duration": 4239,
    "start_time": "2021-08-28T08:46:36.793Z"
   },
   {
    "duration": 2503,
    "start_time": "2021-08-28T08:46:41.034Z"
   },
   {
    "duration": 26,
    "start_time": "2021-08-28T08:46:43.540Z"
   },
   {
    "duration": 12,
    "start_time": "2021-08-28T08:46:43.582Z"
   },
   {
    "duration": 13,
    "start_time": "2021-08-28T08:46:43.597Z"
   },
   {
    "duration": 4385,
    "start_time": "2021-08-28T08:46:43.613Z"
   },
   {
    "duration": 2946,
    "start_time": "2021-08-28T08:46:48.000Z"
   },
   {
    "duration": 34,
    "start_time": "2021-08-28T08:46:50.949Z"
   },
   {
    "duration": 12,
    "start_time": "2021-08-28T08:46:50.986Z"
   },
   {
    "duration": 16,
    "start_time": "2021-08-28T08:46:51.000Z"
   },
   {
    "duration": 3779,
    "start_time": "2021-08-28T08:46:51.018Z"
   },
   {
    "duration": 30,
    "start_time": "2021-08-28T08:46:54.800Z"
   },
   {
    "duration": 1248,
    "start_time": "2021-08-28T08:46:54.833Z"
   },
   {
    "duration": 13,
    "start_time": "2021-08-28T08:48:26.520Z"
   },
   {
    "duration": 1230,
    "start_time": "2021-08-28T08:48:55.599Z"
   },
   {
    "duration": 1135,
    "start_time": "2021-08-28T08:51:08.474Z"
   },
   {
    "duration": 495,
    "start_time": "2021-08-28T08:51:09.612Z"
   },
   {
    "duration": 44,
    "start_time": "2021-08-28T08:51:10.110Z"
   },
   {
    "duration": 178,
    "start_time": "2021-08-28T08:51:10.156Z"
   },
   {
    "duration": 14,
    "start_time": "2021-08-28T08:51:10.336Z"
   },
   {
    "duration": 625,
    "start_time": "2021-08-28T08:51:10.353Z"
   },
   {
    "duration": 31,
    "start_time": "2021-08-28T08:51:10.982Z"
   },
   {
    "duration": 7,
    "start_time": "2021-08-28T08:51:11.017Z"
   },
   {
    "duration": 131,
    "start_time": "2021-08-28T08:51:11.027Z"
   },
   {
    "duration": 30,
    "start_time": "2021-08-28T08:51:11.161Z"
   },
   {
    "duration": 101,
    "start_time": "2021-08-28T08:51:11.194Z"
   },
   {
    "duration": 16,
    "start_time": "2021-08-28T08:51:11.298Z"
   },
   {
    "duration": 11,
    "start_time": "2021-08-28T08:51:11.316Z"
   },
   {
    "duration": 25,
    "start_time": "2021-08-28T08:51:11.329Z"
   },
   {
    "duration": 12,
    "start_time": "2021-08-28T08:51:11.383Z"
   },
   {
    "duration": 24,
    "start_time": "2021-08-28T08:51:11.397Z"
   },
   {
    "duration": 5,
    "start_time": "2021-08-28T08:51:11.423Z"
   },
   {
    "duration": 110,
    "start_time": "2021-08-28T08:51:11.431Z"
   },
   {
    "duration": 92,
    "start_time": "2021-08-28T08:51:11.543Z"
   },
   {
    "duration": 73,
    "start_time": "2021-08-28T08:51:11.637Z"
   },
   {
    "duration": 70,
    "start_time": "2021-08-28T08:51:11.713Z"
   },
   {
    "duration": 12,
    "start_time": "2021-08-28T08:51:11.786Z"
   },
   {
    "duration": 21,
    "start_time": "2021-08-28T08:51:11.803Z"
   },
   {
    "duration": 9,
    "start_time": "2021-08-28T08:51:11.827Z"
   },
   {
    "duration": 51,
    "start_time": "2021-08-28T08:51:11.838Z"
   },
   {
    "duration": 5015,
    "start_time": "2021-08-28T08:51:11.891Z"
   },
   {
    "duration": 18,
    "start_time": "2021-08-28T08:51:16.909Z"
   },
   {
    "duration": 2731,
    "start_time": "2021-08-28T08:51:16.929Z"
   },
   {
    "duration": 21,
    "start_time": "2021-08-28T08:51:19.662Z"
   },
   {
    "duration": 12,
    "start_time": "2021-08-28T08:51:19.686Z"
   },
   {
    "duration": 29,
    "start_time": "2021-08-28T08:51:19.700Z"
   },
   {
    "duration": 11,
    "start_time": "2021-08-28T08:51:19.732Z"
   },
   {
    "duration": 37,
    "start_time": "2021-08-28T08:51:19.746Z"
   },
   {
    "duration": 12,
    "start_time": "2021-08-28T08:51:19.786Z"
   },
   {
    "duration": 9,
    "start_time": "2021-08-28T08:51:19.800Z"
   },
   {
    "duration": 3758,
    "start_time": "2021-08-28T08:51:19.811Z"
   },
   {
    "duration": 2256,
    "start_time": "2021-08-28T08:51:23.572Z"
   },
   {
    "duration": 26,
    "start_time": "2021-08-28T08:51:25.831Z"
   },
   {
    "duration": 34,
    "start_time": "2021-08-28T08:51:25.859Z"
   },
   {
    "duration": 14,
    "start_time": "2021-08-28T08:51:25.895Z"
   },
   {
    "duration": 5024,
    "start_time": "2021-08-28T08:51:25.911Z"
   },
   {
    "duration": 2862,
    "start_time": "2021-08-28T08:51:30.937Z"
   },
   {
    "duration": 25,
    "start_time": "2021-08-28T08:51:33.801Z"
   },
   {
    "duration": 12,
    "start_time": "2021-08-28T08:51:33.828Z"
   },
   {
    "duration": 42,
    "start_time": "2021-08-28T08:51:33.843Z"
   },
   {
    "duration": 4058,
    "start_time": "2021-08-28T08:51:33.888Z"
   },
   {
    "duration": 43,
    "start_time": "2021-08-28T08:51:37.949Z"
   },
   {
    "duration": 1207,
    "start_time": "2021-08-28T08:51:37.994Z"
   },
   {
    "duration": 1189,
    "start_time": "2021-08-28T08:57:40.561Z"
   },
   {
    "duration": 537,
    "start_time": "2021-08-28T08:57:41.753Z"
   },
   {
    "duration": 46,
    "start_time": "2021-08-28T08:57:42.293Z"
   },
   {
    "duration": 206,
    "start_time": "2021-08-28T08:57:42.342Z"
   },
   {
    "duration": 13,
    "start_time": "2021-08-28T08:57:42.550Z"
   },
   {
    "duration": 612,
    "start_time": "2021-08-28T08:57:42.566Z"
   },
   {
    "duration": 32,
    "start_time": "2021-08-28T08:57:43.183Z"
   },
   {
    "duration": 6,
    "start_time": "2021-08-28T08:57:43.219Z"
   },
   {
    "duration": 127,
    "start_time": "2021-08-28T08:57:43.228Z"
   },
   {
    "duration": 33,
    "start_time": "2021-08-28T08:57:43.357Z"
   },
   {
    "duration": 92,
    "start_time": "2021-08-28T08:57:43.392Z"
   },
   {
    "duration": 17,
    "start_time": "2021-08-28T08:57:43.486Z"
   },
   {
    "duration": 7,
    "start_time": "2021-08-28T08:57:43.506Z"
   },
   {
    "duration": 24,
    "start_time": "2021-08-28T08:57:43.515Z"
   },
   {
    "duration": 45,
    "start_time": "2021-08-28T08:57:43.542Z"
   },
   {
    "duration": 19,
    "start_time": "2021-08-28T08:57:43.590Z"
   },
   {
    "duration": 4,
    "start_time": "2021-08-28T08:57:43.612Z"
   },
   {
    "duration": 105,
    "start_time": "2021-08-28T08:57:43.619Z"
   },
   {
    "duration": 87,
    "start_time": "2021-08-28T08:57:43.726Z"
   },
   {
    "duration": 67,
    "start_time": "2021-08-28T08:57:43.816Z"
   },
   {
    "duration": 61,
    "start_time": "2021-08-28T08:57:43.886Z"
   },
   {
    "duration": 33,
    "start_time": "2021-08-28T08:57:43.949Z"
   },
   {
    "duration": 19,
    "start_time": "2021-08-28T08:57:43.988Z"
   },
   {
    "duration": 11,
    "start_time": "2021-08-28T08:57:44.010Z"
   },
   {
    "duration": 17,
    "start_time": "2021-08-28T08:57:44.024Z"
   },
   {
    "duration": 4545,
    "start_time": "2021-08-28T08:57:44.043Z"
   },
   {
    "duration": 18,
    "start_time": "2021-08-28T08:57:48.590Z"
   },
   {
    "duration": 2703,
    "start_time": "2021-08-28T08:57:48.611Z"
   },
   {
    "duration": 16,
    "start_time": "2021-08-28T08:57:51.316Z"
   },
   {
    "duration": 17,
    "start_time": "2021-08-28T08:57:51.334Z"
   },
   {
    "duration": 36,
    "start_time": "2021-08-28T08:57:51.353Z"
   },
   {
    "duration": 40,
    "start_time": "2021-08-28T08:57:51.391Z"
   },
   {
    "duration": 25,
    "start_time": "2021-08-28T08:57:51.433Z"
   },
   {
    "duration": 3641,
    "start_time": "2021-08-28T08:57:51.460Z"
   },
   {
    "duration": 2715,
    "start_time": "2021-08-28T08:57:55.103Z"
   },
   {
    "duration": 36,
    "start_time": "2021-08-28T08:57:57.820Z"
   },
   {
    "duration": 55,
    "start_time": "2021-08-28T08:57:57.859Z"
   },
   {
    "duration": 39,
    "start_time": "2021-08-28T08:57:57.917Z"
   },
   {
    "duration": 4501,
    "start_time": "2021-08-28T08:57:57.983Z"
   },
   {
    "duration": 2744,
    "start_time": "2021-08-28T08:58:02.487Z"
   },
   {
    "duration": 25,
    "start_time": "2021-08-28T08:58:05.234Z"
   },
   {
    "duration": 29,
    "start_time": "2021-08-28T08:58:05.262Z"
   },
   {
    "duration": 29,
    "start_time": "2021-08-28T08:58:05.294Z"
   },
   {
    "duration": 3836,
    "start_time": "2021-08-28T08:58:05.325Z"
   },
   {
    "duration": 40,
    "start_time": "2021-08-28T08:58:09.163Z"
   },
   {
    "duration": 1180,
    "start_time": "2021-08-28T08:58:09.206Z"
   },
   {
    "duration": 11,
    "start_time": "2021-08-28T09:04:10.273Z"
   },
   {
    "duration": 24,
    "start_time": "2021-08-28T09:04:16.570Z"
   },
   {
    "duration": 1141,
    "start_time": "2021-08-28T09:06:56.249Z"
   },
   {
    "duration": 523,
    "start_time": "2021-08-28T09:06:57.393Z"
   },
   {
    "duration": 45,
    "start_time": "2021-08-28T09:06:57.918Z"
   },
   {
    "duration": 176,
    "start_time": "2021-08-28T09:06:57.965Z"
   },
   {
    "duration": 13,
    "start_time": "2021-08-28T09:06:58.143Z"
   },
   {
    "duration": 598,
    "start_time": "2021-08-28T09:06:58.158Z"
   },
   {
    "duration": 40,
    "start_time": "2021-08-28T09:06:58.758Z"
   },
   {
    "duration": 6,
    "start_time": "2021-08-28T09:06:58.802Z"
   },
   {
    "duration": 121,
    "start_time": "2021-08-28T09:06:58.811Z"
   },
   {
    "duration": 27,
    "start_time": "2021-08-28T09:06:58.934Z"
   },
   {
    "duration": 108,
    "start_time": "2021-08-28T09:06:58.963Z"
   },
   {
    "duration": 18,
    "start_time": "2021-08-28T09:06:59.083Z"
   },
   {
    "duration": 7,
    "start_time": "2021-08-28T09:06:59.103Z"
   },
   {
    "duration": 69,
    "start_time": "2021-08-28T09:06:59.113Z"
   },
   {
    "duration": 13,
    "start_time": "2021-08-28T09:06:59.185Z"
   },
   {
    "duration": 23,
    "start_time": "2021-08-28T09:06:59.200Z"
   },
   {
    "duration": 5,
    "start_time": "2021-08-28T09:06:59.225Z"
   },
   {
    "duration": 115,
    "start_time": "2021-08-28T09:06:59.232Z"
   },
   {
    "duration": 96,
    "start_time": "2021-08-28T09:06:59.350Z"
   },
   {
    "duration": 76,
    "start_time": "2021-08-28T09:06:59.449Z"
   },
   {
    "duration": 71,
    "start_time": "2021-08-28T09:06:59.527Z"
   },
   {
    "duration": 13,
    "start_time": "2021-08-28T09:06:59.601Z"
   },
   {
    "duration": 19,
    "start_time": "2021-08-28T09:06:59.619Z"
   },
   {
    "duration": 41,
    "start_time": "2021-08-28T09:06:59.641Z"
   },
   {
    "duration": 19,
    "start_time": "2021-08-28T09:06:59.684Z"
   },
   {
    "duration": 4646,
    "start_time": "2021-08-28T09:06:59.705Z"
   },
   {
    "duration": 18,
    "start_time": "2021-08-28T09:07:04.354Z"
   },
   {
    "duration": 2588,
    "start_time": "2021-08-28T09:07:04.383Z"
   },
   {
    "duration": 20,
    "start_time": "2021-08-28T09:07:06.974Z"
   },
   {
    "duration": 13,
    "start_time": "2021-08-28T09:07:06.996Z"
   },
   {
    "duration": 19,
    "start_time": "2021-08-28T09:07:07.011Z"
   },
   {
    "duration": 55,
    "start_time": "2021-08-28T09:07:07.032Z"
   },
   {
    "duration": 24,
    "start_time": "2021-08-28T09:07:07.089Z"
   },
   {
    "duration": 3635,
    "start_time": "2021-08-28T09:07:07.115Z"
   },
   {
    "duration": 2293,
    "start_time": "2021-08-28T09:07:10.752Z"
   },
   {
    "duration": 40,
    "start_time": "2021-08-28T09:07:13.048Z"
   },
   {
    "duration": 26,
    "start_time": "2021-08-28T09:07:13.091Z"
   },
   {
    "duration": 23,
    "start_time": "2021-08-28T09:07:13.120Z"
   },
   {
    "duration": 4537,
    "start_time": "2021-08-28T09:07:13.145Z"
   },
   {
    "duration": 2766,
    "start_time": "2021-08-28T09:07:17.684Z"
   },
   {
    "duration": 38,
    "start_time": "2021-08-28T09:07:20.452Z"
   },
   {
    "duration": 12,
    "start_time": "2021-08-28T09:07:20.492Z"
   },
   {
    "duration": 19,
    "start_time": "2021-08-28T09:07:20.506Z"
   },
   {
    "duration": 3717,
    "start_time": "2021-08-28T09:07:20.527Z"
   },
   {
    "duration": 37,
    "start_time": "2021-08-28T09:07:24.247Z"
   },
   {
    "duration": 1146,
    "start_time": "2021-08-28T09:07:24.287Z"
   },
   {
    "duration": 28,
    "start_time": "2021-08-28T09:09:59.712Z"
   },
   {
    "duration": 5,
    "start_time": "2021-08-28T09:12:10.761Z"
   },
   {
    "duration": 27,
    "start_time": "2021-08-28T09:12:12.782Z"
   },
   {
    "duration": 280,
    "start_time": "2021-08-28T09:13:00.944Z"
   },
   {
    "duration": 1142,
    "start_time": "2021-08-28T09:13:12.237Z"
   },
   {
    "duration": 484,
    "start_time": "2021-08-28T09:13:13.381Z"
   },
   {
    "duration": 45,
    "start_time": "2021-08-28T09:13:13.867Z"
   },
   {
    "duration": 202,
    "start_time": "2021-08-28T09:13:13.915Z"
   },
   {
    "duration": 14,
    "start_time": "2021-08-28T09:13:14.119Z"
   },
   {
    "duration": 615,
    "start_time": "2021-08-28T09:13:14.135Z"
   },
   {
    "duration": 48,
    "start_time": "2021-08-28T09:13:14.753Z"
   },
   {
    "duration": 6,
    "start_time": "2021-08-28T09:13:14.804Z"
   },
   {
    "duration": 151,
    "start_time": "2021-08-28T09:13:14.813Z"
   },
   {
    "duration": 26,
    "start_time": "2021-08-28T09:13:14.966Z"
   },
   {
    "duration": 95,
    "start_time": "2021-08-28T09:13:14.994Z"
   },
   {
    "duration": 15,
    "start_time": "2021-08-28T09:13:15.092Z"
   },
   {
    "duration": 7,
    "start_time": "2021-08-28T09:13:15.110Z"
   },
   {
    "duration": 23,
    "start_time": "2021-08-28T09:13:15.120Z"
   },
   {
    "duration": 12,
    "start_time": "2021-08-28T09:13:15.145Z"
   },
   {
    "duration": 31,
    "start_time": "2021-08-28T09:13:15.159Z"
   },
   {
    "duration": 5,
    "start_time": "2021-08-28T09:13:15.192Z"
   },
   {
    "duration": 86,
    "start_time": "2021-08-28T09:13:15.199Z"
   },
   {
    "duration": 82,
    "start_time": "2021-08-28T09:13:15.287Z"
   },
   {
    "duration": 70,
    "start_time": "2021-08-28T09:13:15.372Z"
   },
   {
    "duration": 66,
    "start_time": "2021-08-28T09:13:15.444Z"
   },
   {
    "duration": 13,
    "start_time": "2021-08-28T09:13:15.512Z"
   },
   {
    "duration": 32,
    "start_time": "2021-08-28T09:13:15.530Z"
   },
   {
    "duration": 12,
    "start_time": "2021-08-28T09:13:15.564Z"
   },
   {
    "duration": 17,
    "start_time": "2021-08-28T09:13:15.578Z"
   },
   {
    "duration": 4820,
    "start_time": "2021-08-28T09:13:15.597Z"
   },
   {
    "duration": 18,
    "start_time": "2021-08-28T09:13:20.419Z"
   },
   {
    "duration": 2687,
    "start_time": "2021-08-28T09:13:20.440Z"
   },
   {
    "duration": 17,
    "start_time": "2021-08-28T09:13:23.129Z"
   },
   {
    "duration": 33,
    "start_time": "2021-08-28T09:13:23.149Z"
   },
   {
    "duration": 18,
    "start_time": "2021-08-28T09:13:23.184Z"
   },
   {
    "duration": 17,
    "start_time": "2021-08-28T09:13:23.204Z"
   },
   {
    "duration": 9,
    "start_time": "2021-08-28T09:13:23.223Z"
   },
   {
    "duration": 4079,
    "start_time": "2021-08-28T09:13:23.234Z"
   },
   {
    "duration": 2485,
    "start_time": "2021-08-28T09:13:27.316Z"
   },
   {
    "duration": 25,
    "start_time": "2021-08-28T09:13:29.803Z"
   },
   {
    "duration": 13,
    "start_time": "2021-08-28T09:13:29.831Z"
   },
   {
    "duration": 40,
    "start_time": "2021-08-28T09:13:29.846Z"
   },
   {
    "duration": 4226,
    "start_time": "2021-08-28T09:13:29.889Z"
   },
   {
    "duration": 2601,
    "start_time": "2021-08-28T09:13:34.118Z"
   },
   {
    "duration": 25,
    "start_time": "2021-08-28T09:13:36.721Z"
   },
   {
    "duration": 34,
    "start_time": "2021-08-28T09:13:36.749Z"
   },
   {
    "duration": 3911,
    "start_time": "2021-08-28T09:13:36.785Z"
   },
   {
    "duration": 5610,
    "start_time": "2021-08-28T09:13:40.698Z"
   },
   {
    "duration": 1582,
    "start_time": "2021-08-28T09:13:44.729Z"
   },
   {
    "duration": 8,
    "start_time": "2021-08-28T09:14:34.553Z"
   },
   {
    "duration": 11,
    "start_time": "2021-08-28T09:14:36.181Z"
   },
   {
    "duration": 1191,
    "start_time": "2021-08-28T09:14:49.685Z"
   },
   {
    "duration": 517,
    "start_time": "2021-08-28T09:14:50.878Z"
   },
   {
    "duration": 48,
    "start_time": "2021-08-28T09:14:51.398Z"
   },
   {
    "duration": 203,
    "start_time": "2021-08-28T09:14:51.449Z"
   },
   {
    "duration": 31,
    "start_time": "2021-08-28T09:14:51.655Z"
   },
   {
    "duration": 627,
    "start_time": "2021-08-28T09:14:51.689Z"
   },
   {
    "duration": 32,
    "start_time": "2021-08-28T09:14:52.318Z"
   },
   {
    "duration": 29,
    "start_time": "2021-08-28T09:14:52.354Z"
   },
   {
    "duration": 108,
    "start_time": "2021-08-28T09:14:52.386Z"
   },
   {
    "duration": 26,
    "start_time": "2021-08-28T09:14:52.496Z"
   },
   {
    "duration": 106,
    "start_time": "2021-08-28T09:14:52.525Z"
   },
   {
    "duration": 17,
    "start_time": "2021-08-28T09:14:52.634Z"
   },
   {
    "duration": 12,
    "start_time": "2021-08-28T09:14:52.653Z"
   },
   {
    "duration": 24,
    "start_time": "2021-08-28T09:14:52.683Z"
   },
   {
    "duration": 13,
    "start_time": "2021-08-28T09:14:52.710Z"
   },
   {
    "duration": 59,
    "start_time": "2021-08-28T09:14:52.725Z"
   },
   {
    "duration": 4,
    "start_time": "2021-08-28T09:14:52.786Z"
   },
   {
    "duration": 98,
    "start_time": "2021-08-28T09:14:52.792Z"
   },
   {
    "duration": 90,
    "start_time": "2021-08-28T09:14:52.892Z"
   },
   {
    "duration": 61,
    "start_time": "2021-08-28T09:14:52.984Z"
   },
   {
    "duration": 77,
    "start_time": "2021-08-28T09:14:53.048Z"
   },
   {
    "duration": 15,
    "start_time": "2021-08-28T09:14:53.128Z"
   },
   {
    "duration": 43,
    "start_time": "2021-08-28T09:14:53.147Z"
   },
   {
    "duration": 12,
    "start_time": "2021-08-28T09:14:53.193Z"
   },
   {
    "duration": 20,
    "start_time": "2021-08-28T09:14:53.207Z"
   },
   {
    "duration": 4467,
    "start_time": "2021-08-28T09:14:53.229Z"
   },
   {
    "duration": 17,
    "start_time": "2021-08-28T09:14:57.699Z"
   },
   {
    "duration": 2690,
    "start_time": "2021-08-28T09:14:57.718Z"
   },
   {
    "duration": 21,
    "start_time": "2021-08-28T09:15:00.410Z"
   },
   {
    "duration": 23,
    "start_time": "2021-08-28T09:15:00.433Z"
   },
   {
    "duration": 33,
    "start_time": "2021-08-28T09:15:00.458Z"
   },
   {
    "duration": 24,
    "start_time": "2021-08-28T09:15:00.493Z"
   },
   {
    "duration": 17,
    "start_time": "2021-08-28T09:15:00.520Z"
   },
   {
    "duration": 3949,
    "start_time": "2021-08-28T09:15:00.539Z"
   },
   {
    "duration": 2543,
    "start_time": "2021-08-28T09:15:04.490Z"
   },
   {
    "duration": 26,
    "start_time": "2021-08-28T09:15:07.035Z"
   },
   {
    "duration": 29,
    "start_time": "2021-08-28T09:15:07.064Z"
   },
   {
    "duration": 9,
    "start_time": "2021-08-28T09:15:07.096Z"
   },
   {
    "duration": 4197,
    "start_time": "2021-08-28T09:15:07.107Z"
   },
   {
    "duration": 2898,
    "start_time": "2021-08-28T09:15:11.306Z"
   },
   {
    "duration": 28,
    "start_time": "2021-08-28T09:15:14.206Z"
   },
   {
    "duration": 11,
    "start_time": "2021-08-28T09:15:14.236Z"
   },
   {
    "duration": 4123,
    "start_time": "2021-08-28T09:15:14.249Z"
   },
   {
    "duration": 10,
    "start_time": "2021-08-28T09:15:18.375Z"
   },
   {
    "duration": 13,
    "start_time": "2021-08-28T09:15:18.388Z"
   },
   {
    "duration": 13,
    "start_time": "2021-08-28T09:16:39.446Z"
   },
   {
    "duration": 3812,
    "start_time": "2021-08-28T09:16:39.991Z"
   },
   {
    "duration": 399,
    "start_time": "2021-08-28T09:16:45.799Z"
   },
   {
    "duration": 29,
    "start_time": "2021-08-28T09:16:59.229Z"
   },
   {
    "duration": 248,
    "start_time": "2021-08-28T09:17:08.517Z"
   },
   {
    "duration": 5,
    "start_time": "2021-08-28T09:17:19.765Z"
   },
   {
    "duration": 17,
    "start_time": "2021-08-28T09:17:20.976Z"
   },
   {
    "duration": 14,
    "start_time": "2021-08-28T09:17:38.258Z"
   },
   {
    "duration": 3892,
    "start_time": "2021-08-28T09:17:38.781Z"
   },
   {
    "duration": 7,
    "start_time": "2021-08-28T09:17:42.675Z"
   },
   {
    "duration": 14,
    "start_time": "2021-08-28T09:17:45.184Z"
   },
   {
    "duration": 3788,
    "start_time": "2021-08-28T09:17:45.385Z"
   },
   {
    "duration": 29,
    "start_time": "2021-08-28T09:17:49.792Z"
   },
   {
    "duration": 18,
    "start_time": "2021-08-28T09:18:11.692Z"
   },
   {
    "duration": 30,
    "start_time": "2021-08-28T09:18:18.156Z"
   },
   {
    "duration": 5050,
    "start_time": "2021-08-28T09:18:50.124Z"
   },
   {
    "duration": 8,
    "start_time": "2021-08-28T09:18:56.912Z"
   },
   {
    "duration": 29,
    "start_time": "2021-08-28T09:18:59.103Z"
   },
   {
    "duration": 299,
    "start_time": "2021-08-28T09:19:18.069Z"
   },
   {
    "duration": 6544,
    "start_time": "2021-08-28T09:19:32.941Z"
   },
   {
    "duration": 29,
    "start_time": "2021-08-28T09:19:43.795Z"
   },
   {
    "duration": 16,
    "start_time": "2021-08-28T09:23:45.771Z"
   },
   {
    "duration": 23,
    "start_time": "2021-08-28T09:23:46.873Z"
   },
   {
    "duration": 14,
    "start_time": "2021-08-28T09:24:45.069Z"
   },
   {
    "duration": 20,
    "start_time": "2021-08-28T09:24:46.764Z"
   },
   {
    "duration": 96,
    "start_time": "2021-08-28T09:28:53.048Z"
   },
   {
    "duration": 292,
    "start_time": "2021-08-28T09:29:10.422Z"
   },
   {
    "duration": 14,
    "start_time": "2021-08-28T09:29:22.871Z"
   },
   {
    "duration": 32,
    "start_time": "2021-08-28T09:29:27.830Z"
   },
   {
    "duration": 15,
    "start_time": "2021-08-28T09:30:13.380Z"
   },
   {
    "duration": 4154,
    "start_time": "2021-08-28T09:30:21.470Z"
   },
   {
    "duration": 1144,
    "start_time": "2021-08-28T09:30:40.543Z"
   },
   {
    "duration": 483,
    "start_time": "2021-08-28T09:30:41.690Z"
   },
   {
    "duration": 44,
    "start_time": "2021-08-28T09:30:42.176Z"
   },
   {
    "duration": 197,
    "start_time": "2021-08-28T09:30:42.223Z"
   },
   {
    "duration": 14,
    "start_time": "2021-08-28T09:30:42.422Z"
   },
   {
    "duration": 731,
    "start_time": "2021-08-28T09:30:42.438Z"
   },
   {
    "duration": 44,
    "start_time": "2021-08-28T09:30:43.172Z"
   },
   {
    "duration": 8,
    "start_time": "2021-08-28T09:30:43.222Z"
   },
   {
    "duration": 135,
    "start_time": "2021-08-28T09:30:43.234Z"
   },
   {
    "duration": 32,
    "start_time": "2021-08-28T09:30:43.371Z"
   },
   {
    "duration": 110,
    "start_time": "2021-08-28T09:30:43.405Z"
   },
   {
    "duration": 16,
    "start_time": "2021-08-28T09:30:43.518Z"
   },
   {
    "duration": 10,
    "start_time": "2021-08-28T09:30:43.537Z"
   },
   {
    "duration": 48,
    "start_time": "2021-08-28T09:30:43.550Z"
   },
   {
    "duration": 13,
    "start_time": "2021-08-28T09:30:43.600Z"
   },
   {
    "duration": 18,
    "start_time": "2021-08-28T09:30:43.616Z"
   },
   {
    "duration": 9,
    "start_time": "2021-08-28T09:30:43.636Z"
   },
   {
    "duration": 113,
    "start_time": "2021-08-28T09:30:43.648Z"
   },
   {
    "duration": 125,
    "start_time": "2021-08-28T09:30:43.763Z"
   },
   {
    "duration": 69,
    "start_time": "2021-08-28T09:30:43.891Z"
   },
   {
    "duration": 80,
    "start_time": "2021-08-28T09:30:43.962Z"
   },
   {
    "duration": 41,
    "start_time": "2021-08-28T09:30:44.044Z"
   },
   {
    "duration": 20,
    "start_time": "2021-08-28T09:30:44.091Z"
   },
   {
    "duration": 14,
    "start_time": "2021-08-28T09:30:44.114Z"
   },
   {
    "duration": 59,
    "start_time": "2021-08-28T09:30:44.131Z"
   },
   {
    "duration": 5255,
    "start_time": "2021-08-28T09:30:44.193Z"
   },
   {
    "duration": 33,
    "start_time": "2021-08-28T09:30:49.452Z"
   },
   {
    "duration": 2957,
    "start_time": "2021-08-28T09:30:49.489Z"
   },
   {
    "duration": 19,
    "start_time": "2021-08-28T09:30:52.449Z"
   },
   {
    "duration": 13,
    "start_time": "2021-08-28T09:30:52.483Z"
   },
   {
    "duration": 30,
    "start_time": "2021-08-28T09:30:52.499Z"
   },
   {
    "duration": 13,
    "start_time": "2021-08-28T09:30:52.532Z"
   },
   {
    "duration": 43,
    "start_time": "2021-08-28T09:30:52.547Z"
   },
   {
    "duration": 3953,
    "start_time": "2021-08-28T09:30:52.593Z"
   },
   {
    "duration": 2684,
    "start_time": "2021-08-28T09:30:56.548Z"
   },
   {
    "duration": 26,
    "start_time": "2021-08-28T09:30:59.235Z"
   },
   {
    "duration": 395,
    "start_time": "2021-08-28T09:30:59.284Z"
   },
   {
    "duration": 12,
    "start_time": "2021-08-28T09:30:59.682Z"
   },
   {
    "duration": 4367,
    "start_time": "2021-08-28T09:30:59.697Z"
   },
   {
    "duration": 2816,
    "start_time": "2021-08-28T09:31:04.066Z"
   },
   {
    "duration": 25,
    "start_time": "2021-08-28T09:31:06.884Z"
   },
   {
    "duration": 12,
    "start_time": "2021-08-28T09:31:06.912Z"
   },
   {
    "duration": 4562,
    "start_time": "2021-08-28T09:31:06.927Z"
   },
   {
    "duration": 1623,
    "start_time": "2021-08-28T09:31:09.869Z"
   },
   {
    "duration": 1607,
    "start_time": "2021-08-28T09:31:09.887Z"
   },
   {
    "duration": 4163,
    "start_time": "2021-08-28T09:31:51.430Z"
   },
   {
    "duration": 4016,
    "start_time": "2021-08-28T09:32:04.988Z"
   },
   {
    "duration": 16,
    "start_time": "2021-08-28T09:32:15.516Z"
   },
   {
    "duration": 1158,
    "start_time": "2021-08-28T09:32:51.626Z"
   },
   {
    "duration": 509,
    "start_time": "2021-08-28T09:32:52.787Z"
   },
   {
    "duration": 44,
    "start_time": "2021-08-28T09:32:53.299Z"
   },
   {
    "duration": 183,
    "start_time": "2021-08-28T09:32:53.346Z"
   },
   {
    "duration": 14,
    "start_time": "2021-08-28T09:32:53.531Z"
   },
   {
    "duration": 641,
    "start_time": "2021-08-28T09:32:53.548Z"
   },
   {
    "duration": 30,
    "start_time": "2021-08-28T09:32:54.191Z"
   },
   {
    "duration": 6,
    "start_time": "2021-08-28T09:32:54.225Z"
   },
   {
    "duration": 131,
    "start_time": "2021-08-28T09:32:54.234Z"
   },
   {
    "duration": 28,
    "start_time": "2021-08-28T09:32:54.368Z"
   },
   {
    "duration": 100,
    "start_time": "2021-08-28T09:32:54.398Z"
   },
   {
    "duration": 16,
    "start_time": "2021-08-28T09:32:54.500Z"
   },
   {
    "duration": 6,
    "start_time": "2021-08-28T09:32:54.519Z"
   },
   {
    "duration": 26,
    "start_time": "2021-08-28T09:32:54.527Z"
   },
   {
    "duration": 12,
    "start_time": "2021-08-28T09:32:54.583Z"
   },
   {
    "duration": 21,
    "start_time": "2021-08-28T09:32:54.598Z"
   },
   {
    "duration": 7,
    "start_time": "2021-08-28T09:32:54.621Z"
   },
   {
    "duration": 108,
    "start_time": "2021-08-28T09:32:54.630Z"
   },
   {
    "duration": 87,
    "start_time": "2021-08-28T09:32:54.740Z"
   },
   {
    "duration": 77,
    "start_time": "2021-08-28T09:32:54.829Z"
   },
   {
    "duration": 57,
    "start_time": "2021-08-28T09:32:54.909Z"
   },
   {
    "duration": 25,
    "start_time": "2021-08-28T09:32:54.968Z"
   },
   {
    "duration": 20,
    "start_time": "2021-08-28T09:32:54.999Z"
   },
   {
    "duration": 12,
    "start_time": "2021-08-28T09:32:55.023Z"
   },
   {
    "duration": 53,
    "start_time": "2021-08-28T09:32:55.037Z"
   },
   {
    "duration": 4822,
    "start_time": "2021-08-28T09:32:55.093Z"
   },
   {
    "duration": 17,
    "start_time": "2021-08-28T09:32:59.917Z"
   },
   {
    "duration": 2833,
    "start_time": "2021-08-28T09:32:59.937Z"
   },
   {
    "duration": 28,
    "start_time": "2021-08-28T09:33:02.772Z"
   },
   {
    "duration": 19,
    "start_time": "2021-08-28T09:33:02.802Z"
   },
   {
    "duration": 29,
    "start_time": "2021-08-28T09:33:02.823Z"
   },
   {
    "duration": 32,
    "start_time": "2021-08-28T09:33:02.855Z"
   },
   {
    "duration": 9,
    "start_time": "2021-08-28T09:33:02.889Z"
   },
   {
    "duration": 3643,
    "start_time": "2021-08-28T09:33:02.901Z"
   },
   {
    "duration": 2346,
    "start_time": "2021-08-28T09:33:06.546Z"
   },
   {
    "duration": 25,
    "start_time": "2021-08-28T09:33:08.894Z"
   },
   {
    "duration": 20,
    "start_time": "2021-08-28T09:33:08.921Z"
   },
   {
    "duration": 9,
    "start_time": "2021-08-28T09:33:08.943Z"
   },
   {
    "duration": 4237,
    "start_time": "2021-08-28T09:33:08.955Z"
   },
   {
    "duration": 2903,
    "start_time": "2021-08-28T09:33:13.195Z"
   },
   {
    "duration": 82,
    "start_time": "2021-08-28T09:33:16.100Z"
   },
   {
    "duration": 12,
    "start_time": "2021-08-28T09:33:16.185Z"
   },
   {
    "duration": 4345,
    "start_time": "2021-08-28T09:33:16.199Z"
   },
   {
    "duration": 19,
    "start_time": "2021-08-28T09:33:20.546Z"
   },
   {
    "duration": 482,
    "start_time": "2021-08-28T09:33:20.582Z"
   },
   {
    "duration": 25,
    "start_time": "2021-08-28T09:33:26.276Z"
   },
   {
    "duration": 9,
    "start_time": "2021-08-28T09:34:22.917Z"
   },
   {
    "duration": 9,
    "start_time": "2021-08-28T09:35:32.099Z"
   },
   {
    "duration": 8,
    "start_time": "2021-08-28T09:35:41.846Z"
   },
   {
    "duration": 6780,
    "start_time": "2021-08-28T09:38:39.790Z"
   },
   {
    "duration": 21,
    "start_time": "2021-08-28T09:39:15.056Z"
   },
   {
    "duration": 18,
    "start_time": "2021-08-28T09:39:16.791Z"
   },
   {
    "duration": 21,
    "start_time": "2021-08-28T09:39:16.812Z"
   },
   {
    "duration": 20,
    "start_time": "2021-08-28T09:39:16.836Z"
   },
   {
    "duration": 1205,
    "start_time": "2021-08-28T09:40:29.085Z"
   },
   {
    "duration": 506,
    "start_time": "2021-08-28T09:40:30.292Z"
   },
   {
    "duration": 46,
    "start_time": "2021-08-28T09:40:30.801Z"
   },
   {
    "duration": 198,
    "start_time": "2021-08-28T09:40:30.850Z"
   },
   {
    "duration": 14,
    "start_time": "2021-08-28T09:40:31.051Z"
   },
   {
    "duration": 680,
    "start_time": "2021-08-28T09:40:31.083Z"
   },
   {
    "duration": 40,
    "start_time": "2021-08-28T09:40:31.766Z"
   },
   {
    "duration": 7,
    "start_time": "2021-08-28T09:40:31.810Z"
   },
   {
    "duration": 131,
    "start_time": "2021-08-28T09:40:31.820Z"
   },
   {
    "duration": 34,
    "start_time": "2021-08-28T09:40:31.954Z"
   },
   {
    "duration": 114,
    "start_time": "2021-08-28T09:40:31.990Z"
   },
   {
    "duration": 17,
    "start_time": "2021-08-28T09:40:32.107Z"
   },
   {
    "duration": 10,
    "start_time": "2021-08-28T09:40:32.126Z"
   },
   {
    "duration": 49,
    "start_time": "2021-08-28T09:40:32.138Z"
   },
   {
    "duration": 19,
    "start_time": "2021-08-28T09:40:32.190Z"
   },
   {
    "duration": 37,
    "start_time": "2021-08-28T09:40:32.211Z"
   },
   {
    "duration": 12,
    "start_time": "2021-08-28T09:40:32.250Z"
   },
   {
    "duration": 99,
    "start_time": "2021-08-28T09:40:32.264Z"
   },
   {
    "duration": 92,
    "start_time": "2021-08-28T09:40:32.365Z"
   },
   {
    "duration": 69,
    "start_time": "2021-08-28T09:40:32.459Z"
   },
   {
    "duration": 76,
    "start_time": "2021-08-28T09:40:32.530Z"
   },
   {
    "duration": 14,
    "start_time": "2021-08-28T09:40:32.608Z"
   },
   {
    "duration": 27,
    "start_time": "2021-08-28T09:40:32.627Z"
   },
   {
    "duration": 29,
    "start_time": "2021-08-28T09:40:32.658Z"
   },
   {
    "duration": 21,
    "start_time": "2021-08-28T09:40:32.690Z"
   },
   {
    "duration": 4750,
    "start_time": "2021-08-28T09:40:32.714Z"
   },
   {
    "duration": 1613,
    "start_time": "2021-08-28T09:40:35.853Z"
   },
   {
    "duration": 1599,
    "start_time": "2021-08-28T09:40:35.869Z"
   },
   {
    "duration": 1594,
    "start_time": "2021-08-28T09:40:35.875Z"
   },
   {
    "duration": 1585,
    "start_time": "2021-08-28T09:40:35.885Z"
   },
   {
    "duration": 1580,
    "start_time": "2021-08-28T09:40:35.891Z"
   },
   {
    "duration": 1573,
    "start_time": "2021-08-28T09:40:35.900Z"
   },
   {
    "duration": 1567,
    "start_time": "2021-08-28T09:40:35.907Z"
   },
   {
    "duration": 1560,
    "start_time": "2021-08-28T09:40:35.916Z"
   },
   {
    "duration": 1555,
    "start_time": "2021-08-28T09:40:35.922Z"
   },
   {
    "duration": 1545,
    "start_time": "2021-08-28T09:40:35.933Z"
   },
   {
    "duration": 1540,
    "start_time": "2021-08-28T09:40:35.939Z"
   },
   {
    "duration": 1523,
    "start_time": "2021-08-28T09:40:35.958Z"
   },
   {
    "duration": 1515,
    "start_time": "2021-08-28T09:40:35.967Z"
   },
   {
    "duration": 1508,
    "start_time": "2021-08-28T09:40:35.975Z"
   },
   {
    "duration": 1500,
    "start_time": "2021-08-28T09:40:35.984Z"
   },
   {
    "duration": 1494,
    "start_time": "2021-08-28T09:40:35.992Z"
   },
   {
    "duration": 1486,
    "start_time": "2021-08-28T09:40:36.001Z"
   },
   {
    "duration": 1480,
    "start_time": "2021-08-28T09:40:36.008Z"
   },
   {
    "duration": 1473,
    "start_time": "2021-08-28T09:40:36.017Z"
   },
   {
    "duration": 1467,
    "start_time": "2021-08-28T09:40:36.024Z"
   },
   {
    "duration": 1461,
    "start_time": "2021-08-28T09:40:36.031Z"
   },
   {
    "duration": 1455,
    "start_time": "2021-08-28T09:40:36.038Z"
   },
   {
    "duration": 1449,
    "start_time": "2021-08-28T09:40:36.045Z"
   },
   {
    "duration": 4532,
    "start_time": "2021-08-28T09:42:10.381Z"
   },
   {
    "duration": 21,
    "start_time": "2021-08-28T09:42:19.874Z"
   },
   {
    "duration": 1107,
    "start_time": "2021-08-28T09:42:26.894Z"
   },
   {
    "duration": 550,
    "start_time": "2021-08-28T09:42:28.003Z"
   },
   {
    "duration": 73,
    "start_time": "2021-08-28T09:42:28.557Z"
   },
   {
    "duration": 192,
    "start_time": "2021-08-28T09:42:28.633Z"
   },
   {
    "duration": 14,
    "start_time": "2021-08-28T09:42:28.827Z"
   },
   {
    "duration": 624,
    "start_time": "2021-08-28T09:42:28.843Z"
   },
   {
    "duration": 40,
    "start_time": "2021-08-28T09:42:29.470Z"
   },
   {
    "duration": 6,
    "start_time": "2021-08-28T09:42:29.514Z"
   },
   {
    "duration": 121,
    "start_time": "2021-08-28T09:42:29.523Z"
   },
   {
    "duration": 38,
    "start_time": "2021-08-28T09:42:29.647Z"
   },
   {
    "duration": 96,
    "start_time": "2021-08-28T09:42:29.687Z"
   },
   {
    "duration": 16,
    "start_time": "2021-08-28T09:42:29.786Z"
   },
   {
    "duration": 23,
    "start_time": "2021-08-28T09:42:29.804Z"
   },
   {
    "duration": 60,
    "start_time": "2021-08-28T09:42:29.829Z"
   },
   {
    "duration": 19,
    "start_time": "2021-08-28T09:42:29.891Z"
   },
   {
    "duration": 31,
    "start_time": "2021-08-28T09:42:29.912Z"
   },
   {
    "duration": 16,
    "start_time": "2021-08-28T09:42:29.945Z"
   },
   {
    "duration": 96,
    "start_time": "2021-08-28T09:42:29.963Z"
   },
   {
    "duration": 91,
    "start_time": "2021-08-28T09:42:30.061Z"
   },
   {
    "duration": 81,
    "start_time": "2021-08-28T09:42:30.154Z"
   },
   {
    "duration": 74,
    "start_time": "2021-08-28T09:42:30.237Z"
   },
   {
    "duration": 14,
    "start_time": "2021-08-28T09:42:30.313Z"
   },
   {
    "duration": 34,
    "start_time": "2021-08-28T09:42:30.331Z"
   },
   {
    "duration": 20,
    "start_time": "2021-08-28T09:42:30.368Z"
   },
   {
    "duration": 37,
    "start_time": "2021-08-28T09:42:30.390Z"
   },
   {
    "duration": 4382,
    "start_time": "2021-08-28T09:42:30.429Z"
   },
   {
    "duration": 21,
    "start_time": "2021-08-28T09:42:34.813Z"
   },
   {
    "duration": 3745,
    "start_time": "2021-08-28T09:42:34.837Z"
   },
   {
    "duration": 18,
    "start_time": "2021-08-28T09:42:38.585Z"
   },
   {
    "duration": 1337,
    "start_time": "2021-08-28T09:42:38.605Z"
   },
   {
    "duration": 1585,
    "start_time": "2021-08-28T09:42:38.360Z"
   },
   {
    "duration": 1576,
    "start_time": "2021-08-28T09:42:38.370Z"
   },
   {
    "duration": 1567,
    "start_time": "2021-08-28T09:42:38.381Z"
   },
   {
    "duration": 1560,
    "start_time": "2021-08-28T09:42:38.390Z"
   },
   {
    "duration": 1555,
    "start_time": "2021-08-28T09:42:38.396Z"
   },
   {
    "duration": 1548,
    "start_time": "2021-08-28T09:42:38.404Z"
   },
   {
    "duration": 1532,
    "start_time": "2021-08-28T09:42:38.422Z"
   },
   {
    "duration": 1523,
    "start_time": "2021-08-28T09:42:38.432Z"
   },
   {
    "duration": 1512,
    "start_time": "2021-08-28T09:42:38.444Z"
   },
   {
    "duration": 1507,
    "start_time": "2021-08-28T09:42:38.451Z"
   },
   {
    "duration": 1499,
    "start_time": "2021-08-28T09:42:38.460Z"
   },
   {
    "duration": 1494,
    "start_time": "2021-08-28T09:42:38.467Z"
   },
   {
    "duration": 1486,
    "start_time": "2021-08-28T09:42:38.476Z"
   },
   {
    "duration": 1479,
    "start_time": "2021-08-28T09:42:38.484Z"
   },
   {
    "duration": 1471,
    "start_time": "2021-08-28T09:42:38.493Z"
   },
   {
    "duration": 1466,
    "start_time": "2021-08-28T09:42:38.500Z"
   },
   {
    "duration": 1459,
    "start_time": "2021-08-28T09:42:38.508Z"
   },
   {
    "duration": 1453,
    "start_time": "2021-08-28T09:42:38.515Z"
   },
   {
    "duration": 1434,
    "start_time": "2021-08-28T09:42:38.536Z"
   },
   {
    "duration": 13,
    "start_time": "2021-08-28T09:43:07.991Z"
   },
   {
    "duration": 28,
    "start_time": "2021-08-28T09:43:08.882Z"
   },
   {
    "duration": 1168,
    "start_time": "2021-08-28T09:43:50.218Z"
   },
   {
    "duration": 514,
    "start_time": "2021-08-28T09:43:51.389Z"
   },
   {
    "duration": 46,
    "start_time": "2021-08-28T09:43:51.907Z"
   },
   {
    "duration": 196,
    "start_time": "2021-08-28T09:43:51.956Z"
   },
   {
    "duration": 29,
    "start_time": "2021-08-28T09:43:52.154Z"
   },
   {
    "duration": 617,
    "start_time": "2021-08-28T09:43:52.185Z"
   },
   {
    "duration": 32,
    "start_time": "2021-08-28T09:43:52.805Z"
   },
   {
    "duration": 7,
    "start_time": "2021-08-28T09:43:52.840Z"
   },
   {
    "duration": 131,
    "start_time": "2021-08-28T09:43:52.851Z"
   },
   {
    "duration": 28,
    "start_time": "2021-08-28T09:43:52.984Z"
   },
   {
    "duration": 119,
    "start_time": "2021-08-28T09:43:53.015Z"
   },
   {
    "duration": 15,
    "start_time": "2021-08-28T09:43:53.137Z"
   },
   {
    "duration": 7,
    "start_time": "2021-08-28T09:43:53.155Z"
   },
   {
    "duration": 24,
    "start_time": "2021-08-28T09:43:53.183Z"
   },
   {
    "duration": 17,
    "start_time": "2021-08-28T09:43:53.210Z"
   },
   {
    "duration": 56,
    "start_time": "2021-08-28T09:43:53.230Z"
   },
   {
    "duration": 10,
    "start_time": "2021-08-28T09:43:53.288Z"
   },
   {
    "duration": 94,
    "start_time": "2021-08-28T09:43:53.300Z"
   },
   {
    "duration": 89,
    "start_time": "2021-08-28T09:43:53.397Z"
   },
   {
    "duration": 60,
    "start_time": "2021-08-28T09:43:53.489Z"
   },
   {
    "duration": 78,
    "start_time": "2021-08-28T09:43:53.551Z"
   },
   {
    "duration": 12,
    "start_time": "2021-08-28T09:43:53.632Z"
   },
   {
    "duration": 36,
    "start_time": "2021-08-28T09:43:53.648Z"
   },
   {
    "duration": 11,
    "start_time": "2021-08-28T09:43:53.687Z"
   },
   {
    "duration": 22,
    "start_time": "2021-08-28T09:43:53.700Z"
   },
   {
    "duration": 4497,
    "start_time": "2021-08-28T09:43:53.724Z"
   },
   {
    "duration": 21,
    "start_time": "2021-08-28T09:43:58.223Z"
   },
   {
    "duration": 3816,
    "start_time": "2021-08-28T09:43:58.247Z"
   },
   {
    "duration": 28,
    "start_time": "2021-08-28T09:44:02.066Z"
   },
   {
    "duration": 26,
    "start_time": "2021-08-28T09:44:02.097Z"
   },
   {
    "duration": 57,
    "start_time": "2021-08-28T09:44:02.125Z"
   },
   {
    "duration": 47,
    "start_time": "2021-08-28T09:44:02.185Z"
   },
   {
    "duration": 21,
    "start_time": "2021-08-28T09:44:02.234Z"
   },
   {
    "duration": 3861,
    "start_time": "2021-08-28T09:44:02.257Z"
   },
   {
    "duration": 2384,
    "start_time": "2021-08-28T09:44:06.120Z"
   },
   {
    "duration": 24,
    "start_time": "2021-08-28T09:44:08.507Z"
   },
   {
    "duration": 12,
    "start_time": "2021-08-28T09:44:08.534Z"
   },
   {
    "duration": 40,
    "start_time": "2021-08-28T09:44:08.548Z"
   },
   {
    "duration": 4086,
    "start_time": "2021-08-28T09:44:08.590Z"
   },
   {
    "duration": 2633,
    "start_time": "2021-08-28T09:44:12.682Z"
   },
   {
    "duration": 26,
    "start_time": "2021-08-28T09:44:15.318Z"
   },
   {
    "duration": 12,
    "start_time": "2021-08-28T09:44:15.347Z"
   },
   {
    "duration": 4044,
    "start_time": "2021-08-28T09:44:15.361Z"
   },
   {
    "duration": 17,
    "start_time": "2021-08-28T09:44:19.407Z"
   },
   {
    "duration": 25,
    "start_time": "2021-08-28T09:44:19.427Z"
   },
   {
    "duration": 46,
    "start_time": "2021-08-28T09:44:19.454Z"
   },
   {
    "duration": 27,
    "start_time": "2021-08-28T09:44:19.502Z"
   },
   {
    "duration": 19,
    "start_time": "2021-08-28T09:44:19.531Z"
   },
   {
    "duration": 46,
    "start_time": "2021-08-28T09:44:19.552Z"
   },
   {
    "duration": 1252,
    "start_time": "2021-08-28T09:45:55.348Z"
   },
   {
    "duration": 504,
    "start_time": "2021-08-28T09:45:56.602Z"
   },
   {
    "duration": 46,
    "start_time": "2021-08-28T09:45:57.109Z"
   },
   {
    "duration": 188,
    "start_time": "2021-08-28T09:45:57.158Z"
   },
   {
    "duration": 14,
    "start_time": "2021-08-28T09:45:57.348Z"
   },
   {
    "duration": 645,
    "start_time": "2021-08-28T09:45:57.382Z"
   },
   {
    "duration": 53,
    "start_time": "2021-08-28T09:45:58.029Z"
   },
   {
    "duration": 8,
    "start_time": "2021-08-28T09:45:58.087Z"
   },
   {
    "duration": 122,
    "start_time": "2021-08-28T09:45:58.099Z"
   },
   {
    "duration": 30,
    "start_time": "2021-08-28T09:45:58.224Z"
   },
   {
    "duration": 102,
    "start_time": "2021-08-28T09:45:58.257Z"
   },
   {
    "duration": 35,
    "start_time": "2021-08-28T09:45:58.362Z"
   },
   {
    "duration": 6,
    "start_time": "2021-08-28T09:45:58.400Z"
   },
   {
    "duration": 27,
    "start_time": "2021-08-28T09:45:58.409Z"
   },
   {
    "duration": 50,
    "start_time": "2021-08-28T09:45:58.438Z"
   },
   {
    "duration": 20,
    "start_time": "2021-08-28T09:45:58.491Z"
   },
   {
    "duration": 5,
    "start_time": "2021-08-28T09:45:58.513Z"
   },
   {
    "duration": 105,
    "start_time": "2021-08-28T09:45:58.520Z"
   },
   {
    "duration": 97,
    "start_time": "2021-08-28T09:45:58.627Z"
   },
   {
    "duration": 69,
    "start_time": "2021-08-28T09:45:58.727Z"
   },
   {
    "duration": 58,
    "start_time": "2021-08-28T09:45:58.799Z"
   },
   {
    "duration": 38,
    "start_time": "2021-08-28T09:45:58.859Z"
   },
   {
    "duration": 21,
    "start_time": "2021-08-28T09:45:58.902Z"
   },
   {
    "duration": 13,
    "start_time": "2021-08-28T09:45:58.926Z"
   },
   {
    "duration": 51,
    "start_time": "2021-08-28T09:45:58.942Z"
   },
   {
    "duration": 4912,
    "start_time": "2021-08-28T09:45:58.996Z"
   },
   {
    "duration": 22,
    "start_time": "2021-08-28T09:46:03.910Z"
   },
   {
    "duration": 3789,
    "start_time": "2021-08-28T09:46:03.934Z"
   },
   {
    "duration": 20,
    "start_time": "2021-08-28T09:46:07.725Z"
   },
   {
    "duration": 44,
    "start_time": "2021-08-28T09:46:07.747Z"
   },
   {
    "duration": 23,
    "start_time": "2021-08-28T09:46:07.794Z"
   },
   {
    "duration": 12,
    "start_time": "2021-08-28T09:46:07.820Z"
   },
   {
    "duration": 11,
    "start_time": "2021-08-28T09:46:07.834Z"
   },
   {
    "duration": 3647,
    "start_time": "2021-08-28T09:46:07.847Z"
   },
   {
    "duration": 2447,
    "start_time": "2021-08-28T09:46:11.496Z"
   },
   {
    "duration": 37,
    "start_time": "2021-08-28T09:46:13.945Z"
   },
   {
    "duration": 15,
    "start_time": "2021-08-28T09:46:13.984Z"
   },
   {
    "duration": 31,
    "start_time": "2021-08-28T09:46:14.001Z"
   },
   {
    "duration": 4264,
    "start_time": "2021-08-28T09:46:14.035Z"
   },
   {
    "duration": 2694,
    "start_time": "2021-08-28T09:46:18.301Z"
   },
   {
    "duration": 28,
    "start_time": "2021-08-28T09:46:20.997Z"
   },
   {
    "duration": 14,
    "start_time": "2021-08-28T09:46:21.028Z"
   },
   {
    "duration": 3779,
    "start_time": "2021-08-28T09:46:21.044Z"
   },
   {
    "duration": 16,
    "start_time": "2021-08-28T09:46:24.826Z"
   },
   {
    "duration": 43,
    "start_time": "2021-08-28T09:46:24.844Z"
   },
   {
    "duration": 22,
    "start_time": "2021-08-28T09:46:24.889Z"
   },
   {
    "duration": 21,
    "start_time": "2021-08-28T09:46:24.914Z"
   },
   {
    "duration": 44,
    "start_time": "2021-08-28T09:46:24.937Z"
   },
   {
    "duration": 19,
    "start_time": "2021-08-28T09:46:24.984Z"
   },
   {
    "duration": 1210,
    "start_time": "2021-08-28T09:49:39.784Z"
   },
   {
    "duration": 523,
    "start_time": "2021-08-28T09:49:40.996Z"
   },
   {
    "duration": 42,
    "start_time": "2021-08-28T09:49:41.522Z"
   },
   {
    "duration": 176,
    "start_time": "2021-08-28T09:49:41.567Z"
   },
   {
    "duration": 12,
    "start_time": "2021-08-28T09:49:41.746Z"
   },
   {
    "duration": 628,
    "start_time": "2021-08-28T09:49:41.760Z"
   },
   {
    "duration": 32,
    "start_time": "2021-08-28T09:49:42.391Z"
   },
   {
    "duration": 7,
    "start_time": "2021-08-28T09:49:42.429Z"
   },
   {
    "duration": 135,
    "start_time": "2021-08-28T09:49:42.440Z"
   },
   {
    "duration": 36,
    "start_time": "2021-08-28T09:49:42.583Z"
   },
   {
    "duration": 141,
    "start_time": "2021-08-28T09:49:42.622Z"
   },
   {
    "duration": 29,
    "start_time": "2021-08-28T09:49:42.766Z"
   },
   {
    "duration": 5,
    "start_time": "2021-08-28T09:49:42.798Z"
   },
   {
    "duration": 26,
    "start_time": "2021-08-28T09:49:42.806Z"
   },
   {
    "duration": 53,
    "start_time": "2021-08-28T09:49:42.834Z"
   },
   {
    "duration": 20,
    "start_time": "2021-08-28T09:49:42.890Z"
   },
   {
    "duration": 4,
    "start_time": "2021-08-28T09:49:42.913Z"
   },
   {
    "duration": 103,
    "start_time": "2021-08-28T09:49:42.920Z"
   },
   {
    "duration": 92,
    "start_time": "2021-08-28T09:49:43.025Z"
   },
   {
    "duration": 70,
    "start_time": "2021-08-28T09:49:43.119Z"
   },
   {
    "duration": 56,
    "start_time": "2021-08-28T09:49:43.191Z"
   },
   {
    "duration": 35,
    "start_time": "2021-08-28T09:49:43.249Z"
   },
   {
    "duration": 18,
    "start_time": "2021-08-28T09:49:43.290Z"
   },
   {
    "duration": 9,
    "start_time": "2021-08-28T09:49:43.311Z"
   },
   {
    "duration": 22,
    "start_time": "2021-08-28T09:49:43.322Z"
   },
   {
    "duration": 4452,
    "start_time": "2021-08-28T09:49:43.347Z"
   },
   {
    "duration": 22,
    "start_time": "2021-08-28T09:49:47.802Z"
   },
   {
    "duration": 3778,
    "start_time": "2021-08-28T09:49:47.827Z"
   },
   {
    "duration": 19,
    "start_time": "2021-08-28T09:49:51.607Z"
   },
   {
    "duration": 28,
    "start_time": "2021-08-28T09:49:51.628Z"
   },
   {
    "duration": 37,
    "start_time": "2021-08-28T09:49:51.659Z"
   },
   {
    "duration": 15,
    "start_time": "2021-08-28T09:49:51.699Z"
   },
   {
    "duration": 13,
    "start_time": "2021-08-28T09:49:51.716Z"
   },
   {
    "duration": 3640,
    "start_time": "2021-08-28T09:49:51.731Z"
   },
   {
    "duration": 2262,
    "start_time": "2021-08-28T09:49:55.374Z"
   },
   {
    "duration": 45,
    "start_time": "2021-08-28T09:49:57.639Z"
   },
   {
    "duration": 15,
    "start_time": "2021-08-28T09:49:57.687Z"
   },
   {
    "duration": 14,
    "start_time": "2021-08-28T09:49:57.704Z"
   },
   {
    "duration": 4166,
    "start_time": "2021-08-28T09:49:57.721Z"
   },
   {
    "duration": 2862,
    "start_time": "2021-08-28T09:50:01.889Z"
   },
   {
    "duration": 38,
    "start_time": "2021-08-28T09:50:04.753Z"
   },
   {
    "duration": 13,
    "start_time": "2021-08-28T09:50:04.793Z"
   },
   {
    "duration": 3800,
    "start_time": "2021-08-28T09:50:04.808Z"
   },
   {
    "duration": 16,
    "start_time": "2021-08-28T09:50:08.610Z"
   },
   {
    "duration": 24,
    "start_time": "2021-08-28T09:50:08.629Z"
   },
   {
    "duration": 25,
    "start_time": "2021-08-28T09:50:08.682Z"
   },
   {
    "duration": 22,
    "start_time": "2021-08-28T09:50:08.710Z"
   },
   {
    "duration": 51,
    "start_time": "2021-08-28T09:50:08.735Z"
   },
   {
    "duration": 16,
    "start_time": "2021-08-28T09:50:08.789Z"
   },
   {
    "duration": 1188,
    "start_time": "2021-08-28T09:50:42.201Z"
   },
   {
    "duration": 491,
    "start_time": "2021-08-28T09:50:43.392Z"
   },
   {
    "duration": 44,
    "start_time": "2021-08-28T09:50:43.886Z"
   },
   {
    "duration": 208,
    "start_time": "2021-08-28T09:50:43.933Z"
   },
   {
    "duration": 13,
    "start_time": "2021-08-28T09:50:44.143Z"
   },
   {
    "duration": 658,
    "start_time": "2021-08-28T09:50:44.159Z"
   },
   {
    "duration": 33,
    "start_time": "2021-08-28T09:50:44.819Z"
   },
   {
    "duration": 29,
    "start_time": "2021-08-28T09:50:44.856Z"
   },
   {
    "duration": 113,
    "start_time": "2021-08-28T09:50:44.889Z"
   },
   {
    "duration": 30,
    "start_time": "2021-08-28T09:50:45.006Z"
   },
   {
    "duration": 109,
    "start_time": "2021-08-28T09:50:45.039Z"
   },
   {
    "duration": 32,
    "start_time": "2021-08-28T09:50:45.150Z"
   },
   {
    "duration": 5,
    "start_time": "2021-08-28T09:50:45.185Z"
   },
   {
    "duration": 23,
    "start_time": "2021-08-28T09:50:45.193Z"
   },
   {
    "duration": 11,
    "start_time": "2021-08-28T09:50:45.218Z"
   },
   {
    "duration": 57,
    "start_time": "2021-08-28T09:50:45.232Z"
   },
   {
    "duration": 5,
    "start_time": "2021-08-28T09:50:45.291Z"
   },
   {
    "duration": 98,
    "start_time": "2021-08-28T09:50:45.298Z"
   },
   {
    "duration": 94,
    "start_time": "2021-08-28T09:50:45.399Z"
   },
   {
    "duration": 62,
    "start_time": "2021-08-28T09:50:45.495Z"
   },
   {
    "duration": 76,
    "start_time": "2021-08-28T09:50:45.559Z"
   },
   {
    "duration": 12,
    "start_time": "2021-08-28T09:50:45.638Z"
   },
   {
    "duration": 43,
    "start_time": "2021-08-28T09:50:45.655Z"
   },
   {
    "duration": 12,
    "start_time": "2021-08-28T09:50:45.701Z"
   },
   {
    "duration": 38,
    "start_time": "2021-08-28T09:50:45.716Z"
   },
   {
    "duration": 4558,
    "start_time": "2021-08-28T09:50:45.756Z"
   },
   {
    "duration": 22,
    "start_time": "2021-08-28T09:50:50.317Z"
   },
   {
    "duration": 3817,
    "start_time": "2021-08-28T09:50:50.343Z"
   },
   {
    "duration": 24,
    "start_time": "2021-08-28T09:50:54.162Z"
   },
   {
    "duration": 12,
    "start_time": "2021-08-28T09:50:54.188Z"
   },
   {
    "duration": 37,
    "start_time": "2021-08-28T09:50:54.202Z"
   },
   {
    "duration": 13,
    "start_time": "2021-08-28T09:50:54.241Z"
   },
   {
    "duration": 11,
    "start_time": "2021-08-28T09:50:54.283Z"
   },
   {
    "duration": 3706,
    "start_time": "2021-08-28T09:50:54.296Z"
   },
   {
    "duration": 2229,
    "start_time": "2021-08-28T09:50:58.004Z"
   },
   {
    "duration": 24,
    "start_time": "2021-08-28T09:51:00.236Z"
   },
   {
    "duration": 28,
    "start_time": "2021-08-28T09:51:00.263Z"
   },
   {
    "duration": 27,
    "start_time": "2021-08-28T09:51:00.293Z"
   },
   {
    "duration": 4391,
    "start_time": "2021-08-28T09:51:00.322Z"
   },
   {
    "duration": 2769,
    "start_time": "2021-08-28T09:51:04.715Z"
   },
   {
    "duration": 25,
    "start_time": "2021-08-28T09:51:07.486Z"
   },
   {
    "duration": 12,
    "start_time": "2021-08-28T09:51:07.513Z"
   },
   {
    "duration": 4013,
    "start_time": "2021-08-28T09:51:07.528Z"
   },
   {
    "duration": 15,
    "start_time": "2021-08-28T09:51:11.544Z"
   },
   {
    "duration": 46,
    "start_time": "2021-08-28T09:51:11.561Z"
   },
   {
    "duration": 25,
    "start_time": "2021-08-28T09:51:11.609Z"
   },
   {
    "duration": 46,
    "start_time": "2021-08-28T09:51:11.637Z"
   },
   {
    "duration": 19,
    "start_time": "2021-08-28T09:51:11.686Z"
   },
   {
    "duration": 20,
    "start_time": "2021-08-28T09:51:11.707Z"
   },
   {
    "duration": 1210,
    "start_time": "2021-08-28T09:54:01.577Z"
   },
   {
    "duration": 505,
    "start_time": "2021-08-28T09:54:02.790Z"
   },
   {
    "duration": 46,
    "start_time": "2021-08-28T09:54:03.299Z"
   },
   {
    "duration": 220,
    "start_time": "2021-08-28T09:54:03.349Z"
   },
   {
    "duration": 12,
    "start_time": "2021-08-28T09:54:03.583Z"
   },
   {
    "duration": 657,
    "start_time": "2021-08-28T09:54:03.598Z"
   },
   {
    "duration": 47,
    "start_time": "2021-08-28T09:54:04.258Z"
   },
   {
    "duration": 6,
    "start_time": "2021-08-28T09:54:04.309Z"
   },
   {
    "duration": 130,
    "start_time": "2021-08-28T09:54:04.320Z"
   },
   {
    "duration": 39,
    "start_time": "2021-08-28T09:54:04.453Z"
   },
   {
    "duration": 111,
    "start_time": "2021-08-28T09:54:04.495Z"
   },
   {
    "duration": 17,
    "start_time": "2021-08-28T09:54:04.608Z"
   },
   {
    "duration": 13,
    "start_time": "2021-08-28T09:54:04.627Z"
   },
   {
    "duration": 46,
    "start_time": "2021-08-28T09:54:04.642Z"
   },
   {
    "duration": 14,
    "start_time": "2021-08-28T09:54:04.691Z"
   },
   {
    "duration": 27,
    "start_time": "2021-08-28T09:54:04.707Z"
   },
   {
    "duration": 6,
    "start_time": "2021-08-28T09:54:04.737Z"
   },
   {
    "duration": 99,
    "start_time": "2021-08-28T09:54:04.746Z"
   },
   {
    "duration": 139,
    "start_time": "2021-08-28T09:54:04.848Z"
   },
   {
    "duration": 118,
    "start_time": "2021-08-28T09:54:04.990Z"
   },
   {
    "duration": 118,
    "start_time": "2021-08-28T09:54:05.115Z"
   },
   {
    "duration": 21,
    "start_time": "2021-08-28T09:54:05.236Z"
   },
   {
    "duration": 29,
    "start_time": "2021-08-28T09:54:05.266Z"
   },
   {
    "duration": 14,
    "start_time": "2021-08-28T09:54:05.298Z"
   },
   {
    "duration": 27,
    "start_time": "2021-08-28T09:54:05.314Z"
   },
   {
    "duration": 4508,
    "start_time": "2021-08-28T09:54:05.343Z"
   },
   {
    "duration": 32,
    "start_time": "2021-08-28T09:54:09.853Z"
   },
   {
    "duration": 3915,
    "start_time": "2021-08-28T09:54:09.887Z"
   },
   {
    "duration": 19,
    "start_time": "2021-08-28T09:54:13.805Z"
   },
   {
    "duration": 21,
    "start_time": "2021-08-28T09:54:13.827Z"
   },
   {
    "duration": 49,
    "start_time": "2021-08-28T09:54:13.850Z"
   },
   {
    "duration": 15,
    "start_time": "2021-08-28T09:54:13.902Z"
   },
   {
    "duration": 10,
    "start_time": "2021-08-28T09:54:13.920Z"
   },
   {
    "duration": 3700,
    "start_time": "2021-08-28T09:54:13.932Z"
   },
   {
    "duration": 2398,
    "start_time": "2021-08-28T09:54:17.634Z"
   },
   {
    "duration": 29,
    "start_time": "2021-08-28T09:54:20.035Z"
   },
   {
    "duration": 25,
    "start_time": "2021-08-28T09:54:20.067Z"
   },
   {
    "duration": 13,
    "start_time": "2021-08-28T09:54:20.095Z"
   },
   {
    "duration": 4328,
    "start_time": "2021-08-28T09:54:20.111Z"
   },
   {
    "duration": 2743,
    "start_time": "2021-08-28T09:54:24.441Z"
   },
   {
    "duration": 29,
    "start_time": "2021-08-28T09:54:27.187Z"
   },
   {
    "duration": 13,
    "start_time": "2021-08-28T09:54:27.218Z"
   },
   {
    "duration": 4326,
    "start_time": "2021-08-28T09:54:27.234Z"
   },
   {
    "duration": 24,
    "start_time": "2021-08-28T09:54:31.563Z"
   },
   {
    "duration": 61,
    "start_time": "2021-08-28T09:54:31.590Z"
   },
   {
    "duration": 31,
    "start_time": "2021-08-28T09:54:31.655Z"
   },
   {
    "duration": 41,
    "start_time": "2021-08-28T09:54:31.688Z"
   },
   {
    "duration": 37,
    "start_time": "2021-08-28T09:54:31.731Z"
   },
   {
    "duration": 50,
    "start_time": "2021-08-28T09:54:31.770Z"
   },
   {
    "duration": 1190,
    "start_time": "2021-08-28T09:55:01.889Z"
   },
   {
    "duration": 494,
    "start_time": "2021-08-28T09:55:03.082Z"
   },
   {
    "duration": 45,
    "start_time": "2021-08-28T09:55:03.579Z"
   },
   {
    "duration": 195,
    "start_time": "2021-08-28T09:55:03.628Z"
   },
   {
    "duration": 14,
    "start_time": "2021-08-28T09:55:03.826Z"
   },
   {
    "duration": 645,
    "start_time": "2021-08-28T09:55:03.843Z"
   },
   {
    "duration": 35,
    "start_time": "2021-08-28T09:55:04.492Z"
   },
   {
    "duration": 7,
    "start_time": "2021-08-28T09:55:04.531Z"
   },
   {
    "duration": 153,
    "start_time": "2021-08-28T09:55:04.541Z"
   },
   {
    "duration": 28,
    "start_time": "2021-08-28T09:55:04.696Z"
   },
   {
    "duration": 114,
    "start_time": "2021-08-28T09:55:04.727Z"
   },
   {
    "duration": 17,
    "start_time": "2021-08-28T09:55:04.844Z"
   },
   {
    "duration": 5,
    "start_time": "2021-08-28T09:55:04.883Z"
   },
   {
    "duration": 23,
    "start_time": "2021-08-28T09:55:04.891Z"
   },
   {
    "duration": 18,
    "start_time": "2021-08-28T09:55:04.916Z"
   },
   {
    "duration": 47,
    "start_time": "2021-08-28T09:55:04.936Z"
   },
   {
    "duration": 3,
    "start_time": "2021-08-28T09:55:04.986Z"
   },
   {
    "duration": 95,
    "start_time": "2021-08-28T09:55:04.991Z"
   },
   {
    "duration": 93,
    "start_time": "2021-08-28T09:55:05.089Z"
   },
   {
    "duration": 60,
    "start_time": "2021-08-28T09:55:05.184Z"
   },
   {
    "duration": 81,
    "start_time": "2021-08-28T09:55:05.246Z"
   },
   {
    "duration": 13,
    "start_time": "2021-08-28T09:55:05.329Z"
   },
   {
    "duration": 41,
    "start_time": "2021-08-28T09:55:05.347Z"
   },
   {
    "duration": 16,
    "start_time": "2021-08-28T09:55:05.391Z"
   },
   {
    "duration": 27,
    "start_time": "2021-08-28T09:55:05.409Z"
   },
   {
    "duration": 4483,
    "start_time": "2021-08-28T09:55:05.439Z"
   },
   {
    "duration": 20,
    "start_time": "2021-08-28T09:55:09.924Z"
   },
   {
    "duration": 3720,
    "start_time": "2021-08-28T09:55:09.947Z"
   },
   {
    "duration": 23,
    "start_time": "2021-08-28T09:55:13.670Z"
   },
   {
    "duration": 29,
    "start_time": "2021-08-28T09:55:13.696Z"
   },
   {
    "duration": 39,
    "start_time": "2021-08-28T09:55:13.727Z"
   },
   {
    "duration": 42,
    "start_time": "2021-08-28T09:55:13.768Z"
   },
   {
    "duration": 15,
    "start_time": "2021-08-28T09:55:13.812Z"
   },
   {
    "duration": 4209,
    "start_time": "2021-08-28T09:55:13.829Z"
   },
   {
    "duration": 3397,
    "start_time": "2021-08-28T09:55:18.040Z"
   },
   {
    "duration": 1334,
    "start_time": "2021-08-28T09:55:21.439Z"
   },
   {
    "duration": 1642,
    "start_time": "2021-08-28T09:55:21.134Z"
   },
   {
    "duration": 1636,
    "start_time": "2021-08-28T09:55:21.142Z"
   },
   {
    "duration": 1589,
    "start_time": "2021-08-28T09:55:21.192Z"
   },
   {
    "duration": 1572,
    "start_time": "2021-08-28T09:55:21.211Z"
   },
   {
    "duration": 1555,
    "start_time": "2021-08-28T09:55:21.229Z"
   },
   {
    "duration": 1545,
    "start_time": "2021-08-28T09:55:21.241Z"
   },
   {
    "duration": 1539,
    "start_time": "2021-08-28T09:55:21.249Z"
   },
   {
    "duration": 1534,
    "start_time": "2021-08-28T09:55:21.256Z"
   },
   {
    "duration": 1528,
    "start_time": "2021-08-28T09:55:21.265Z"
   },
   {
    "duration": 1522,
    "start_time": "2021-08-28T09:55:21.273Z"
   },
   {
    "duration": 1504,
    "start_time": "2021-08-28T09:55:21.293Z"
   },
   {
    "duration": 1495,
    "start_time": "2021-08-28T09:55:21.304Z"
   },
   {
    "duration": 1490,
    "start_time": "2021-08-28T09:55:21.311Z"
   },
   {
    "duration": 1310,
    "start_time": "2021-08-28T09:56:16.377Z"
   },
   {
    "duration": 549,
    "start_time": "2021-08-28T09:56:17.690Z"
   },
   {
    "duration": 44,
    "start_time": "2021-08-28T09:56:18.242Z"
   },
   {
    "duration": 192,
    "start_time": "2021-08-28T09:56:18.290Z"
   },
   {
    "duration": 13,
    "start_time": "2021-08-28T09:56:18.485Z"
   },
   {
    "duration": 635,
    "start_time": "2021-08-28T09:56:18.500Z"
   },
   {
    "duration": 46,
    "start_time": "2021-08-28T09:56:19.138Z"
   },
   {
    "duration": 6,
    "start_time": "2021-08-28T09:56:19.188Z"
   },
   {
    "duration": 120,
    "start_time": "2021-08-28T09:56:19.197Z"
   },
   {
    "duration": 26,
    "start_time": "2021-08-28T09:56:19.319Z"
   },
   {
    "duration": 99,
    "start_time": "2021-08-28T09:56:19.347Z"
   },
   {
    "duration": 17,
    "start_time": "2021-08-28T09:56:19.448Z"
   },
   {
    "duration": 18,
    "start_time": "2021-08-28T09:56:19.467Z"
   },
   {
    "duration": 25,
    "start_time": "2021-08-28T09:56:19.487Z"
   },
   {
    "duration": 12,
    "start_time": "2021-08-28T09:56:19.515Z"
   },
   {
    "duration": 60,
    "start_time": "2021-08-28T09:56:19.529Z"
   },
   {
    "duration": 9,
    "start_time": "2021-08-28T09:56:19.592Z"
   },
   {
    "duration": 93,
    "start_time": "2021-08-28T09:56:19.603Z"
   },
   {
    "duration": 99,
    "start_time": "2021-08-28T09:56:19.699Z"
   },
   {
    "duration": 64,
    "start_time": "2021-08-28T09:56:19.800Z"
   },
   {
    "duration": 72,
    "start_time": "2021-08-28T09:56:19.866Z"
   },
   {
    "duration": 13,
    "start_time": "2021-08-28T09:56:19.941Z"
   },
   {
    "duration": 20,
    "start_time": "2021-08-28T09:56:19.984Z"
   },
   {
    "duration": 34,
    "start_time": "2021-08-28T09:56:20.007Z"
   },
   {
    "duration": 27,
    "start_time": "2021-08-28T09:56:20.044Z"
   },
   {
    "duration": 5088,
    "start_time": "2021-08-28T09:56:20.073Z"
   },
   {
    "duration": 27,
    "start_time": "2021-08-28T09:56:25.163Z"
   },
   {
    "duration": 4227,
    "start_time": "2021-08-28T09:56:25.193Z"
   },
   {
    "duration": 21,
    "start_time": "2021-08-28T09:56:29.423Z"
   },
   {
    "duration": 45,
    "start_time": "2021-08-28T09:56:29.447Z"
   },
   {
    "duration": 23,
    "start_time": "2021-08-28T09:56:29.495Z"
   },
   {
    "duration": 19,
    "start_time": "2021-08-28T09:56:29.521Z"
   },
   {
    "duration": 40,
    "start_time": "2021-08-28T09:56:29.542Z"
   },
   {
    "duration": 4288,
    "start_time": "2021-08-28T09:56:29.585Z"
   },
   {
    "duration": 3661,
    "start_time": "2021-08-28T09:56:33.875Z"
   },
   {
    "duration": 58,
    "start_time": "2021-08-28T09:56:37.539Z"
   },
   {
    "duration": 14,
    "start_time": "2021-08-28T09:56:37.600Z"
   },
   {
    "duration": 11,
    "start_time": "2021-08-28T09:56:37.617Z"
   },
   {
    "duration": 4835,
    "start_time": "2021-08-28T09:56:37.630Z"
   },
   {
    "duration": 4085,
    "start_time": "2021-08-28T09:56:42.467Z"
   },
   {
    "duration": 60,
    "start_time": "2021-08-28T09:56:46.554Z"
   },
   {
    "duration": 16,
    "start_time": "2021-08-28T09:56:46.616Z"
   },
   {
    "duration": 3925,
    "start_time": "2021-08-28T09:56:46.634Z"
   },
   {
    "duration": 26,
    "start_time": "2021-08-28T09:56:50.561Z"
   },
   {
    "duration": 30,
    "start_time": "2021-08-28T09:56:50.589Z"
   },
   {
    "duration": 24,
    "start_time": "2021-08-28T09:56:50.621Z"
   },
   {
    "duration": 48,
    "start_time": "2021-08-28T09:56:50.647Z"
   },
   {
    "duration": 23,
    "start_time": "2021-08-28T09:56:50.697Z"
   },
   {
    "duration": 21,
    "start_time": "2021-08-28T09:56:50.723Z"
   },
   {
    "duration": 1167,
    "start_time": "2021-08-28T09:58:14.605Z"
   },
   {
    "duration": 509,
    "start_time": "2021-08-28T09:58:15.775Z"
   },
   {
    "duration": 47,
    "start_time": "2021-08-28T09:58:16.288Z"
   },
   {
    "duration": 213,
    "start_time": "2021-08-28T09:58:16.339Z"
   },
   {
    "duration": 32,
    "start_time": "2021-08-28T09:58:16.555Z"
   },
   {
    "duration": 682,
    "start_time": "2021-08-28T09:58:16.591Z"
   },
   {
    "duration": 36,
    "start_time": "2021-08-28T09:58:17.275Z"
   },
   {
    "duration": 7,
    "start_time": "2021-08-28T09:58:17.315Z"
   },
   {
    "duration": 133,
    "start_time": "2021-08-28T09:58:17.326Z"
   },
   {
    "duration": 36,
    "start_time": "2021-08-28T09:58:17.462Z"
   },
   {
    "duration": 138,
    "start_time": "2021-08-28T09:58:17.500Z"
   },
   {
    "duration": 19,
    "start_time": "2021-08-28T09:58:17.641Z"
   },
   {
    "duration": 23,
    "start_time": "2021-08-28T09:58:17.662Z"
   },
   {
    "duration": 36,
    "start_time": "2021-08-28T09:58:17.688Z"
   },
   {
    "duration": 16,
    "start_time": "2021-08-28T09:58:17.726Z"
   },
   {
    "duration": 51,
    "start_time": "2021-08-28T09:58:17.745Z"
   },
   {
    "duration": 12,
    "start_time": "2021-08-28T09:58:17.799Z"
   },
   {
    "duration": 107,
    "start_time": "2021-08-28T09:58:17.814Z"
   },
   {
    "duration": 101,
    "start_time": "2021-08-28T09:58:17.924Z"
   },
   {
    "duration": 79,
    "start_time": "2021-08-28T09:58:18.027Z"
   },
   {
    "duration": 81,
    "start_time": "2021-08-28T09:58:18.108Z"
   },
   {
    "duration": 19,
    "start_time": "2021-08-28T09:58:18.192Z"
   },
   {
    "duration": 38,
    "start_time": "2021-08-28T09:58:18.219Z"
   },
   {
    "duration": 22,
    "start_time": "2021-08-28T09:58:18.260Z"
   },
   {
    "duration": 23,
    "start_time": "2021-08-28T09:58:18.285Z"
   },
   {
    "duration": 5379,
    "start_time": "2021-08-28T09:58:18.311Z"
   },
   {
    "duration": 24,
    "start_time": "2021-08-28T09:58:23.693Z"
   },
   {
    "duration": 2996,
    "start_time": "2021-08-28T09:58:23.720Z"
   },
   {
    "duration": 19,
    "start_time": "2021-08-28T09:58:26.719Z"
   },
   {
    "duration": 43,
    "start_time": "2021-08-28T09:58:26.740Z"
   },
   {
    "duration": 30,
    "start_time": "2021-08-28T09:58:26.786Z"
   },
   {
    "duration": 17,
    "start_time": "2021-08-28T09:58:26.819Z"
   },
   {
    "duration": 12,
    "start_time": "2021-08-28T09:58:26.838Z"
   },
   {
    "duration": 4236,
    "start_time": "2021-08-28T09:58:26.853Z"
   },
   {
    "duration": 2566,
    "start_time": "2021-08-28T09:58:31.091Z"
   },
   {
    "duration": 52,
    "start_time": "2021-08-28T09:58:33.659Z"
   },
   {
    "duration": 13,
    "start_time": "2021-08-28T09:58:33.714Z"
   },
   {
    "duration": 10,
    "start_time": "2021-08-28T09:58:33.730Z"
   },
   {
    "duration": 4353,
    "start_time": "2021-08-28T09:58:33.743Z"
   },
   {
    "duration": 2668,
    "start_time": "2021-08-28T09:58:38.099Z"
   },
   {
    "duration": 42,
    "start_time": "2021-08-28T09:58:40.770Z"
   },
   {
    "duration": 13,
    "start_time": "2021-08-28T09:58:40.814Z"
   },
   {
    "duration": 3913,
    "start_time": "2021-08-28T09:58:40.830Z"
   },
   {
    "duration": 15,
    "start_time": "2021-08-28T09:58:44.746Z"
   },
   {
    "duration": 39,
    "start_time": "2021-08-28T09:58:44.763Z"
   },
   {
    "duration": 24,
    "start_time": "2021-08-28T09:58:44.804Z"
   },
   {
    "duration": 51,
    "start_time": "2021-08-28T09:58:44.831Z"
   },
   {
    "duration": 22,
    "start_time": "2021-08-28T09:58:44.885Z"
   },
   {
    "duration": 30,
    "start_time": "2021-08-28T09:58:44.910Z"
   },
   {
    "duration": 1189,
    "start_time": "2021-08-28T09:58:51.787Z"
   },
   {
    "duration": 502,
    "start_time": "2021-08-28T09:58:52.982Z"
   },
   {
    "duration": 65,
    "start_time": "2021-08-28T09:58:53.488Z"
   },
   {
    "duration": 246,
    "start_time": "2021-08-28T09:58:53.557Z"
   },
   {
    "duration": 15,
    "start_time": "2021-08-28T09:58:53.806Z"
   },
   {
    "duration": 899,
    "start_time": "2021-08-28T09:58:53.823Z"
   },
   {
    "duration": 58,
    "start_time": "2021-08-28T09:58:54.725Z"
   },
   {
    "duration": 8,
    "start_time": "2021-08-28T09:58:54.788Z"
   },
   {
    "duration": 147,
    "start_time": "2021-08-28T09:58:54.800Z"
   },
   {
    "duration": 46,
    "start_time": "2021-08-28T09:58:54.950Z"
   },
   {
    "duration": 128,
    "start_time": "2021-08-28T09:58:54.998Z"
   },
   {
    "duration": 18,
    "start_time": "2021-08-28T09:58:55.129Z"
   },
   {
    "duration": 33,
    "start_time": "2021-08-28T09:58:55.150Z"
   },
   {
    "duration": 25,
    "start_time": "2021-08-28T09:58:55.185Z"
   },
   {
    "duration": 18,
    "start_time": "2021-08-28T09:58:55.212Z"
   },
   {
    "duration": 19,
    "start_time": "2021-08-28T09:58:55.232Z"
   },
   {
    "duration": 29,
    "start_time": "2021-08-28T09:58:55.255Z"
   },
   {
    "duration": 84,
    "start_time": "2021-08-28T09:58:55.286Z"
   },
   {
    "duration": 82,
    "start_time": "2021-08-28T09:58:55.383Z"
   },
   {
    "duration": 60,
    "start_time": "2021-08-28T09:58:55.483Z"
   },
   {
    "duration": 73,
    "start_time": "2021-08-28T09:58:55.546Z"
   },
   {
    "duration": 13,
    "start_time": "2021-08-28T09:58:55.621Z"
   },
   {
    "duration": 50,
    "start_time": "2021-08-28T09:58:55.640Z"
   },
   {
    "duration": 22,
    "start_time": "2021-08-28T09:58:55.693Z"
   },
   {
    "duration": 21,
    "start_time": "2021-08-28T09:58:55.717Z"
   },
   {
    "duration": 4737,
    "start_time": "2021-08-28T09:58:55.740Z"
   },
   {
    "duration": 19,
    "start_time": "2021-08-28T09:59:00.479Z"
   },
   {
    "duration": 3613,
    "start_time": "2021-08-28T09:59:00.500Z"
   },
   {
    "duration": 26,
    "start_time": "2021-08-28T09:59:04.116Z"
   },
   {
    "duration": 50,
    "start_time": "2021-08-28T09:59:04.145Z"
   },
   {
    "duration": 28,
    "start_time": "2021-08-28T09:59:04.198Z"
   },
   {
    "duration": 16,
    "start_time": "2021-08-28T09:59:04.229Z"
   },
   {
    "duration": 37,
    "start_time": "2021-08-28T09:59:04.247Z"
   },
   {
    "duration": 3727,
    "start_time": "2021-08-28T09:59:04.286Z"
   },
   {
    "duration": 2552,
    "start_time": "2021-08-28T09:59:08.015Z"
   },
   {
    "duration": 41,
    "start_time": "2021-08-28T09:59:10.570Z"
   },
   {
    "duration": 13,
    "start_time": "2021-08-28T09:59:10.614Z"
   },
   {
    "duration": 11,
    "start_time": "2021-08-28T09:59:10.630Z"
   },
   {
    "duration": 4207,
    "start_time": "2021-08-28T09:59:10.644Z"
   },
   {
    "duration": 2940,
    "start_time": "2021-08-28T09:59:14.854Z"
   },
   {
    "duration": 35,
    "start_time": "2021-08-28T09:59:17.797Z"
   },
   {
    "duration": 13,
    "start_time": "2021-08-28T09:59:17.835Z"
   },
   {
    "duration": 3873,
    "start_time": "2021-08-28T09:59:17.850Z"
   },
   {
    "duration": 16,
    "start_time": "2021-08-28T09:59:21.725Z"
   },
   {
    "duration": 47,
    "start_time": "2021-08-28T09:59:21.744Z"
   },
   {
    "duration": 3,
    "start_time": "2021-08-28T09:59:21.794Z"
   },
   {
    "duration": 5,
    "start_time": "2021-08-28T09:59:21.800Z"
   },
   {
    "duration": 9,
    "start_time": "2021-08-28T09:59:21.807Z"
   },
   {
    "duration": 8,
    "start_time": "2021-08-28T09:59:21.818Z"
   },
   {
    "duration": 25,
    "start_time": "2021-08-28T10:01:30.576Z"
   },
   {
    "duration": 39,
    "start_time": "2021-08-28T10:02:16.284Z"
   },
   {
    "duration": 7521,
    "start_time": "2021-08-28T10:04:15.816Z"
   },
   {
    "duration": 1205,
    "start_time": "2021-08-28T10:04:57.458Z"
   },
   {
    "duration": 491,
    "start_time": "2021-08-28T10:04:58.666Z"
   },
   {
    "duration": 45,
    "start_time": "2021-08-28T10:04:59.160Z"
   },
   {
    "duration": 183,
    "start_time": "2021-08-28T10:04:59.207Z"
   },
   {
    "duration": 13,
    "start_time": "2021-08-28T10:04:59.392Z"
   },
   {
    "duration": 624,
    "start_time": "2021-08-28T10:04:59.407Z"
   },
   {
    "duration": 32,
    "start_time": "2021-08-28T10:05:00.034Z"
   },
   {
    "duration": 7,
    "start_time": "2021-08-28T10:05:00.082Z"
   },
   {
    "duration": 128,
    "start_time": "2021-08-28T10:05:00.093Z"
   },
   {
    "duration": 25,
    "start_time": "2021-08-28T10:05:00.224Z"
   },
   {
    "duration": 105,
    "start_time": "2021-08-28T10:05:00.251Z"
   },
   {
    "duration": 25,
    "start_time": "2021-08-28T10:05:00.358Z"
   },
   {
    "duration": 24,
    "start_time": "2021-08-28T10:05:00.386Z"
   },
   {
    "duration": 42,
    "start_time": "2021-08-28T10:05:00.413Z"
   },
   {
    "duration": 25,
    "start_time": "2021-08-28T10:05:00.458Z"
   },
   {
    "duration": 44,
    "start_time": "2021-08-28T10:05:00.485Z"
   },
   {
    "duration": 11,
    "start_time": "2021-08-28T10:05:00.531Z"
   },
   {
    "duration": 122,
    "start_time": "2021-08-28T10:05:00.544Z"
   },
   {
    "duration": 83,
    "start_time": "2021-08-28T10:05:00.668Z"
   },
   {
    "duration": 78,
    "start_time": "2021-08-28T10:05:00.754Z"
   },
   {
    "duration": 70,
    "start_time": "2021-08-28T10:05:00.834Z"
   },
   {
    "duration": 13,
    "start_time": "2021-08-28T10:05:00.906Z"
   },
   {
    "duration": 64,
    "start_time": "2021-08-28T10:05:00.922Z"
   },
   {
    "duration": 40,
    "start_time": "2021-08-28T10:05:00.988Z"
   },
   {
    "duration": 27,
    "start_time": "2021-08-28T10:05:01.030Z"
   },
   {
    "duration": 4589,
    "start_time": "2021-08-28T10:05:01.059Z"
   },
   {
    "duration": 29,
    "start_time": "2021-08-28T10:05:05.653Z"
   },
   {
    "duration": 2664,
    "start_time": "2021-08-28T10:05:05.686Z"
   },
   {
    "duration": 17,
    "start_time": "2021-08-28T10:05:08.352Z"
   },
   {
    "duration": 19,
    "start_time": "2021-08-28T10:05:08.383Z"
   },
   {
    "duration": 20,
    "start_time": "2021-08-28T10:05:08.405Z"
   },
   {
    "duration": 14,
    "start_time": "2021-08-28T10:05:08.427Z"
   },
   {
    "duration": 42,
    "start_time": "2021-08-28T10:05:08.444Z"
   },
   {
    "duration": 3655,
    "start_time": "2021-08-28T10:05:08.488Z"
   },
   {
    "duration": 2652,
    "start_time": "2021-08-28T10:05:12.146Z"
   },
   {
    "duration": 39,
    "start_time": "2021-08-28T10:05:14.801Z"
   },
   {
    "duration": 39,
    "start_time": "2021-08-28T10:05:14.843Z"
   },
   {
    "duration": 12,
    "start_time": "2021-08-28T10:05:14.885Z"
   },
   {
    "duration": 4860,
    "start_time": "2021-08-28T10:05:14.900Z"
   },
   {
    "duration": 2887,
    "start_time": "2021-08-28T10:05:19.763Z"
   },
   {
    "duration": 46,
    "start_time": "2021-08-28T10:05:22.652Z"
   },
   {
    "duration": 13,
    "start_time": "2021-08-28T10:05:22.701Z"
   },
   {
    "duration": 3798,
    "start_time": "2021-08-28T10:05:22.718Z"
   },
   {
    "duration": 14,
    "start_time": "2021-08-28T10:05:26.518Z"
   },
   {
    "duration": 32,
    "start_time": "2021-08-28T10:05:26.535Z"
   },
   {
    "duration": 3,
    "start_time": "2021-08-28T10:05:26.581Z"
   },
   {
    "duration": 42,
    "start_time": "2021-08-28T10:05:26.587Z"
   },
   {
    "duration": 28,
    "start_time": "2021-08-28T10:05:33.783Z"
   },
   {
    "duration": 391,
    "start_time": "2021-08-28T10:08:16.450Z"
   },
   {
    "duration": 21,
    "start_time": "2021-08-28T10:22:29.097Z"
   },
   {
    "duration": 11,
    "start_time": "2021-08-28T10:23:14.747Z"
   },
   {
    "duration": 23,
    "start_time": "2021-08-28T10:23:15.680Z"
   },
   {
    "duration": 19,
    "start_time": "2021-08-28T10:23:35.738Z"
   },
   {
    "duration": 1251,
    "start_time": "2021-08-28T10:25:04.166Z"
   },
   {
    "duration": 512,
    "start_time": "2021-08-28T10:25:05.420Z"
   },
   {
    "duration": 46,
    "start_time": "2021-08-28T10:25:05.935Z"
   },
   {
    "duration": 204,
    "start_time": "2021-08-28T10:25:05.984Z"
   },
   {
    "duration": 15,
    "start_time": "2021-08-28T10:25:06.191Z"
   },
   {
    "duration": 623,
    "start_time": "2021-08-28T10:25:06.209Z"
   },
   {
    "duration": 47,
    "start_time": "2021-08-28T10:25:06.835Z"
   },
   {
    "duration": 7,
    "start_time": "2021-08-28T10:25:06.886Z"
   },
   {
    "duration": 120,
    "start_time": "2021-08-28T10:25:06.896Z"
   },
   {
    "duration": 27,
    "start_time": "2021-08-28T10:25:07.018Z"
   },
   {
    "duration": 101,
    "start_time": "2021-08-28T10:25:07.047Z"
   },
   {
    "duration": 31,
    "start_time": "2021-08-28T10:25:07.151Z"
   },
   {
    "duration": 5,
    "start_time": "2021-08-28T10:25:07.185Z"
   },
   {
    "duration": 27,
    "start_time": "2021-08-28T10:25:07.193Z"
   },
   {
    "duration": 14,
    "start_time": "2021-08-28T10:25:07.222Z"
   },
   {
    "duration": 51,
    "start_time": "2021-08-28T10:25:07.238Z"
   },
   {
    "duration": 5,
    "start_time": "2021-08-28T10:25:07.292Z"
   },
   {
    "duration": 100,
    "start_time": "2021-08-28T10:25:07.299Z"
   },
   {
    "duration": 100,
    "start_time": "2021-08-28T10:25:07.402Z"
   },
   {
    "duration": 58,
    "start_time": "2021-08-28T10:25:07.505Z"
   },
   {
    "duration": 57,
    "start_time": "2021-08-28T10:25:07.581Z"
   },
   {
    "duration": 13,
    "start_time": "2021-08-28T10:25:07.641Z"
   },
   {
    "duration": 40,
    "start_time": "2021-08-28T10:25:07.659Z"
   },
   {
    "duration": 10,
    "start_time": "2021-08-28T10:25:07.702Z"
   },
   {
    "duration": 21,
    "start_time": "2021-08-28T10:25:07.714Z"
   },
   {
    "duration": 4469,
    "start_time": "2021-08-28T10:25:07.738Z"
   },
   {
    "duration": 17,
    "start_time": "2021-08-28T10:25:12.209Z"
   },
   {
    "duration": 2620,
    "start_time": "2021-08-28T10:25:12.228Z"
   },
   {
    "duration": 17,
    "start_time": "2021-08-28T10:25:14.851Z"
   },
   {
    "duration": 32,
    "start_time": "2021-08-28T10:25:14.870Z"
   },
   {
    "duration": 8,
    "start_time": "2021-08-28T10:25:14.904Z"
   },
   {
    "duration": 25,
    "start_time": "2021-08-28T10:25:14.915Z"
   },
   {
    "duration": 49,
    "start_time": "2021-08-28T10:25:14.943Z"
   },
   {
    "duration": 12,
    "start_time": "2021-08-28T10:25:14.995Z"
   },
   {
    "duration": 3619,
    "start_time": "2021-08-28T10:25:15.009Z"
   },
   {
    "duration": 2292,
    "start_time": "2021-08-28T10:25:18.630Z"
   },
   {
    "duration": 36,
    "start_time": "2021-08-28T10:25:20.924Z"
   },
   {
    "duration": 30,
    "start_time": "2021-08-28T10:25:20.962Z"
   },
   {
    "duration": 17,
    "start_time": "2021-08-28T10:25:20.995Z"
   },
   {
    "duration": 4118,
    "start_time": "2021-08-28T10:25:21.015Z"
   },
   {
    "duration": 2686,
    "start_time": "2021-08-28T10:25:25.135Z"
   },
   {
    "duration": 37,
    "start_time": "2021-08-28T10:25:27.823Z"
   },
   {
    "duration": 30,
    "start_time": "2021-08-28T10:25:27.862Z"
   },
   {
    "duration": 3868,
    "start_time": "2021-08-28T10:25:27.894Z"
   },
   {
    "duration": 23,
    "start_time": "2021-08-28T10:25:31.765Z"
   },
   {
    "duration": 32,
    "start_time": "2021-08-28T10:25:31.790Z"
   },
   {
    "duration": 10,
    "start_time": "2021-08-28T10:25:31.824Z"
   },
   {
    "duration": 26,
    "start_time": "2021-08-28T10:25:31.836Z"
   },
   {
    "duration": 406,
    "start_time": "2021-08-28T10:25:31.865Z"
   },
   {
    "duration": 8,
    "start_time": "2021-08-28T10:25:52.143Z"
   },
   {
    "duration": 24,
    "start_time": "2021-08-28T10:25:53.618Z"
   },
   {
    "duration": 6413,
    "start_time": "2021-08-28T10:26:21.274Z"
   },
   {
    "duration": 10,
    "start_time": "2021-08-28T10:26:41.485Z"
   },
   {
    "duration": 273,
    "start_time": "2021-08-28T10:27:01.195Z"
   },
   {
    "duration": 7,
    "start_time": "2021-08-28T10:27:06.835Z"
   },
   {
    "duration": 8,
    "start_time": "2021-08-28T10:27:15.170Z"
   },
   {
    "duration": 7,
    "start_time": "2021-08-28T10:27:29.783Z"
   },
   {
    "duration": 7,
    "start_time": "2021-08-28T10:27:45.175Z"
   },
   {
    "duration": 8,
    "start_time": "2021-08-28T10:27:55.256Z"
   },
   {
    "duration": 9,
    "start_time": "2021-08-28T10:28:15.469Z"
   },
   {
    "duration": 11,
    "start_time": "2021-08-28T10:29:21.232Z"
   },
   {
    "duration": 6,
    "start_time": "2021-08-28T10:29:31.217Z"
   },
   {
    "duration": 21,
    "start_time": "2021-08-28T10:29:32.179Z"
   },
   {
    "duration": 6,
    "start_time": "2021-08-28T10:30:27.268Z"
   },
   {
    "duration": 20,
    "start_time": "2021-08-28T10:30:28.115Z"
   },
   {
    "duration": 8,
    "start_time": "2021-08-28T10:30:37.846Z"
   },
   {
    "duration": 6,
    "start_time": "2021-08-28T10:30:45.866Z"
   },
   {
    "duration": 20,
    "start_time": "2021-08-28T10:30:47.617Z"
   },
   {
    "duration": 7,
    "start_time": "2021-08-28T10:31:08.895Z"
   },
   {
    "duration": 21,
    "start_time": "2021-08-28T10:31:09.914Z"
   },
   {
    "duration": 9,
    "start_time": "2021-08-28T10:31:40.697Z"
   },
   {
    "duration": 31,
    "start_time": "2021-08-28T10:31:41.532Z"
   },
   {
    "duration": 8,
    "start_time": "2021-08-28T10:32:11.003Z"
   },
   {
    "duration": 14,
    "start_time": "2021-08-28T10:32:23.175Z"
   },
   {
    "duration": 8,
    "start_time": "2021-08-28T10:32:31.336Z"
   },
   {
    "duration": 7,
    "start_time": "2021-08-28T10:32:38.300Z"
   },
   {
    "duration": 6,
    "start_time": "2021-08-28T10:32:58.680Z"
   },
   {
    "duration": 20,
    "start_time": "2021-08-28T10:33:00.093Z"
   },
   {
    "duration": 7,
    "start_time": "2021-08-28T10:35:15.777Z"
   },
   {
    "duration": 20,
    "start_time": "2021-08-28T10:35:16.382Z"
   },
   {
    "duration": 7,
    "start_time": "2021-08-28T10:35:22.711Z"
   },
   {
    "duration": 19,
    "start_time": "2021-08-28T10:35:23.549Z"
   },
   {
    "duration": 1176,
    "start_time": "2021-08-28T10:36:22.742Z"
   },
   {
    "duration": 516,
    "start_time": "2021-08-28T10:36:23.920Z"
   },
   {
    "duration": 45,
    "start_time": "2021-08-28T10:36:24.439Z"
   },
   {
    "duration": 197,
    "start_time": "2021-08-28T10:36:24.487Z"
   },
   {
    "duration": 13,
    "start_time": "2021-08-28T10:36:24.686Z"
   },
   {
    "duration": 624,
    "start_time": "2021-08-28T10:36:24.702Z"
   },
   {
    "duration": 33,
    "start_time": "2021-08-28T10:36:25.329Z"
   },
   {
    "duration": 6,
    "start_time": "2021-08-28T10:36:25.389Z"
   },
   {
    "duration": 117,
    "start_time": "2021-08-28T10:36:25.398Z"
   },
   {
    "duration": 27,
    "start_time": "2021-08-28T10:36:25.518Z"
   },
   {
    "duration": 107,
    "start_time": "2021-08-28T10:36:25.547Z"
   },
   {
    "duration": 30,
    "start_time": "2021-08-28T10:36:25.657Z"
   },
   {
    "duration": 8,
    "start_time": "2021-08-28T10:36:25.689Z"
   },
   {
    "duration": 37,
    "start_time": "2021-08-28T10:36:25.700Z"
   },
   {
    "duration": 18,
    "start_time": "2021-08-28T10:36:25.739Z"
   },
   {
    "duration": 20,
    "start_time": "2021-08-28T10:36:25.783Z"
   },
   {
    "duration": 14,
    "start_time": "2021-08-28T10:36:25.805Z"
   },
   {
    "duration": 95,
    "start_time": "2021-08-28T10:36:25.822Z"
   },
   {
    "duration": 98,
    "start_time": "2021-08-28T10:36:25.920Z"
   },
   {
    "duration": 76,
    "start_time": "2021-08-28T10:36:26.021Z"
   },
   {
    "duration": 60,
    "start_time": "2021-08-28T10:36:26.099Z"
   },
   {
    "duration": 29,
    "start_time": "2021-08-28T10:36:26.162Z"
   },
   {
    "duration": 22,
    "start_time": "2021-08-28T10:36:26.197Z"
   },
   {
    "duration": 22,
    "start_time": "2021-08-28T10:36:26.222Z"
   },
   {
    "duration": 22,
    "start_time": "2021-08-28T10:36:26.246Z"
   },
   {
    "duration": 4637,
    "start_time": "2021-08-28T10:36:26.282Z"
   },
   {
    "duration": 19,
    "start_time": "2021-08-28T10:36:30.922Z"
   },
   {
    "duration": 2822,
    "start_time": "2021-08-28T10:36:30.944Z"
   },
   {
    "duration": 28,
    "start_time": "2021-08-28T10:36:33.769Z"
   },
   {
    "duration": 21,
    "start_time": "2021-08-28T10:36:33.800Z"
   },
   {
    "duration": 28,
    "start_time": "2021-08-28T10:36:33.824Z"
   },
   {
    "duration": 37,
    "start_time": "2021-08-28T10:36:33.854Z"
   },
   {
    "duration": 14,
    "start_time": "2021-08-28T10:36:33.894Z"
   },
   {
    "duration": 5906,
    "start_time": "2021-08-28T10:36:33.911Z"
   },
   {
    "duration": 3825,
    "start_time": "2021-08-28T10:36:39.820Z"
   },
   {
    "duration": 66,
    "start_time": "2021-08-28T10:36:43.648Z"
   },
   {
    "duration": 17,
    "start_time": "2021-08-28T10:36:43.717Z"
   },
   {
    "duration": 13,
    "start_time": "2021-08-28T10:36:43.738Z"
   },
   {
    "duration": 6928,
    "start_time": "2021-08-28T10:36:43.754Z"
   },
   {
    "duration": 2760,
    "start_time": "2021-08-28T10:36:50.685Z"
   },
   {
    "duration": 46,
    "start_time": "2021-08-28T10:36:53.447Z"
   },
   {
    "duration": 11,
    "start_time": "2021-08-28T10:36:53.495Z"
   },
   {
    "duration": 3842,
    "start_time": "2021-08-28T10:36:53.509Z"
   },
   {
    "duration": 16,
    "start_time": "2021-08-28T10:36:57.353Z"
   },
   {
    "duration": 33,
    "start_time": "2021-08-28T10:36:57.371Z"
   },
   {
    "duration": 7,
    "start_time": "2021-08-28T10:36:57.407Z"
   },
   {
    "duration": 15,
    "start_time": "2021-08-28T10:36:57.416Z"
   },
   {
    "duration": 360,
    "start_time": "2021-08-28T10:36:57.434Z"
   },
   {
    "duration": 68,
    "start_time": "2021-08-28T10:38:07.291Z"
   },
   {
    "duration": 82,
    "start_time": "2021-08-28T10:38:14.683Z"
   },
   {
    "duration": 82,
    "start_time": "2021-08-28T10:38:41.362Z"
   },
   {
    "duration": 83,
    "start_time": "2021-08-28T10:38:47.525Z"
   },
   {
    "duration": 87,
    "start_time": "2021-08-28T10:39:09.935Z"
   },
   {
    "duration": 68,
    "start_time": "2021-08-28T10:39:23.442Z"
   },
   {
    "duration": 62,
    "start_time": "2021-08-28T10:39:45.419Z"
   },
   {
    "duration": 1219,
    "start_time": "2021-08-28T10:40:17.946Z"
   },
   {
    "duration": 535,
    "start_time": "2021-08-28T10:40:19.168Z"
   },
   {
    "duration": 45,
    "start_time": "2021-08-28T10:40:19.707Z"
   },
   {
    "duration": 195,
    "start_time": "2021-08-28T10:40:19.755Z"
   },
   {
    "duration": 14,
    "start_time": "2021-08-28T10:40:19.952Z"
   },
   {
    "duration": 647,
    "start_time": "2021-08-28T10:40:19.968Z"
   },
   {
    "duration": 34,
    "start_time": "2021-08-28T10:40:20.618Z"
   },
   {
    "duration": 33,
    "start_time": "2021-08-28T10:40:20.656Z"
   },
   {
    "duration": 123,
    "start_time": "2021-08-28T10:40:20.694Z"
   },
   {
    "duration": 28,
    "start_time": "2021-08-28T10:40:20.819Z"
   },
   {
    "duration": 105,
    "start_time": "2021-08-28T10:40:20.850Z"
   },
   {
    "duration": 34,
    "start_time": "2021-08-28T10:40:20.958Z"
   },
   {
    "duration": 7,
    "start_time": "2021-08-28T10:40:20.995Z"
   },
   {
    "duration": 36,
    "start_time": "2021-08-28T10:40:21.005Z"
   },
   {
    "duration": 50,
    "start_time": "2021-08-28T10:40:21.044Z"
   },
   {
    "duration": 23,
    "start_time": "2021-08-28T10:40:21.096Z"
   },
   {
    "duration": 5,
    "start_time": "2021-08-28T10:40:21.121Z"
   },
   {
    "duration": 115,
    "start_time": "2021-08-28T10:40:21.128Z"
   },
   {
    "duration": 100,
    "start_time": "2021-08-28T10:40:21.246Z"
   },
   {
    "duration": 78,
    "start_time": "2021-08-28T10:40:21.348Z"
   },
   {
    "duration": 82,
    "start_time": "2021-08-28T10:40:21.429Z"
   },
   {
    "duration": 14,
    "start_time": "2021-08-28T10:40:21.514Z"
   },
   {
    "duration": 45,
    "start_time": "2021-08-28T10:40:21.534Z"
   },
   {
    "duration": 15,
    "start_time": "2021-08-28T10:40:21.582Z"
   },
   {
    "duration": 31,
    "start_time": "2021-08-28T10:40:21.600Z"
   },
   {
    "duration": 4736,
    "start_time": "2021-08-28T10:40:21.633Z"
   },
   {
    "duration": 21,
    "start_time": "2021-08-28T10:40:26.371Z"
   },
   {
    "duration": 4084,
    "start_time": "2021-08-28T10:40:26.395Z"
   },
   {
    "duration": 21,
    "start_time": "2021-08-28T10:40:30.482Z"
   },
   {
    "duration": 38,
    "start_time": "2021-08-28T10:40:30.506Z"
   },
   {
    "duration": 46,
    "start_time": "2021-08-28T10:40:30.547Z"
   },
   {
    "duration": 19,
    "start_time": "2021-08-28T10:40:30.596Z"
   },
   {
    "duration": 24,
    "start_time": "2021-08-28T10:40:30.618Z"
   },
   {
    "duration": 5155,
    "start_time": "2021-08-28T10:40:30.645Z"
   },
   {
    "duration": 4663,
    "start_time": "2021-08-28T10:40:35.803Z"
   },
   {
    "duration": 59,
    "start_time": "2021-08-28T10:40:40.469Z"
   },
   {
    "duration": 17,
    "start_time": "2021-08-28T10:40:40.530Z"
   },
   {
    "duration": 36,
    "start_time": "2021-08-28T10:40:40.550Z"
   },
   {
    "duration": 4650,
    "start_time": "2021-08-28T10:40:40.589Z"
   },
   {
    "duration": 4379,
    "start_time": "2021-08-28T10:40:45.241Z"
   },
   {
    "duration": 38,
    "start_time": "2021-08-28T10:40:49.622Z"
   },
   {
    "duration": 29,
    "start_time": "2021-08-28T10:40:49.662Z"
   },
   {
    "duration": 3974,
    "start_time": "2021-08-28T10:40:49.694Z"
   },
   {
    "duration": 21,
    "start_time": "2021-08-28T10:40:53.671Z"
   },
   {
    "duration": 27,
    "start_time": "2021-08-28T10:40:53.694Z"
   },
   {
    "duration": 3,
    "start_time": "2021-08-28T10:40:53.724Z"
   },
   {
    "duration": 14,
    "start_time": "2021-08-28T10:40:53.730Z"
   },
   {
    "duration": 420,
    "start_time": "2021-08-28T10:40:53.747Z"
   },
   {
    "duration": 13,
    "start_time": "2021-08-28T10:41:37.127Z"
   },
   {
    "duration": 20,
    "start_time": "2021-08-28T10:41:38.159Z"
   },
   {
    "duration": 1141,
    "start_time": "2021-08-28T10:41:58.836Z"
   },
   {
    "duration": 528,
    "start_time": "2021-08-28T10:41:59.983Z"
   },
   {
    "duration": 45,
    "start_time": "2021-08-28T10:42:00.514Z"
   },
   {
    "duration": 197,
    "start_time": "2021-08-28T10:42:00.563Z"
   },
   {
    "duration": 29,
    "start_time": "2021-08-28T10:42:00.763Z"
   },
   {
    "duration": 937,
    "start_time": "2021-08-28T10:42:00.795Z"
   },
   {
    "duration": 53,
    "start_time": "2021-08-28T10:42:01.734Z"
   },
   {
    "duration": 8,
    "start_time": "2021-08-28T10:42:01.793Z"
   },
   {
    "duration": 135,
    "start_time": "2021-08-28T10:42:01.804Z"
   },
   {
    "duration": 43,
    "start_time": "2021-08-28T10:42:01.941Z"
   },
   {
    "duration": 104,
    "start_time": "2021-08-28T10:42:01.986Z"
   },
   {
    "duration": 17,
    "start_time": "2021-08-28T10:42:02.093Z"
   },
   {
    "duration": 22,
    "start_time": "2021-08-28T10:42:02.112Z"
   },
   {
    "duration": 46,
    "start_time": "2021-08-28T10:42:02.136Z"
   },
   {
    "duration": 26,
    "start_time": "2021-08-28T10:42:02.185Z"
   },
   {
    "duration": 47,
    "start_time": "2021-08-28T10:42:02.214Z"
   },
   {
    "duration": 15,
    "start_time": "2021-08-28T10:42:02.265Z"
   },
   {
    "duration": 155,
    "start_time": "2021-08-28T10:42:02.283Z"
   },
   {
    "duration": 141,
    "start_time": "2021-08-28T10:42:02.441Z"
   },
   {
    "duration": 118,
    "start_time": "2021-08-28T10:42:02.585Z"
   },
   {
    "duration": 111,
    "start_time": "2021-08-28T10:42:02.706Z"
   },
   {
    "duration": 14,
    "start_time": "2021-08-28T10:42:02.820Z"
   },
   {
    "duration": 43,
    "start_time": "2021-08-28T10:42:02.840Z"
   },
   {
    "duration": 13,
    "start_time": "2021-08-28T10:42:02.887Z"
   },
   {
    "duration": 37,
    "start_time": "2021-08-28T10:42:02.903Z"
   },
   {
    "duration": 4712,
    "start_time": "2021-08-28T10:42:02.943Z"
   },
   {
    "duration": 24,
    "start_time": "2021-08-28T10:42:07.658Z"
   },
   {
    "duration": 2677,
    "start_time": "2021-08-28T10:42:07.685Z"
   },
   {
    "duration": 25,
    "start_time": "2021-08-28T10:42:10.364Z"
   },
   {
    "duration": 44,
    "start_time": "2021-08-28T10:42:10.391Z"
   },
   {
    "duration": 20,
    "start_time": "2021-08-28T10:42:10.438Z"
   },
   {
    "duration": 22,
    "start_time": "2021-08-28T10:42:10.460Z"
   },
   {
    "duration": 10,
    "start_time": "2021-08-28T10:42:10.484Z"
   },
   {
    "duration": 4051,
    "start_time": "2021-08-28T10:42:10.497Z"
   },
   {
    "duration": 2454,
    "start_time": "2021-08-28T10:42:14.551Z"
   },
   {
    "duration": 40,
    "start_time": "2021-08-28T10:42:17.007Z"
   },
   {
    "duration": 36,
    "start_time": "2021-08-28T10:42:17.049Z"
   },
   {
    "duration": 11,
    "start_time": "2021-08-28T10:42:17.088Z"
   },
   {
    "duration": 4764,
    "start_time": "2021-08-28T10:42:17.101Z"
   },
   {
    "duration": 2775,
    "start_time": "2021-08-28T10:42:21.868Z"
   },
   {
    "duration": 50,
    "start_time": "2021-08-28T10:42:24.645Z"
   },
   {
    "duration": 13,
    "start_time": "2021-08-28T10:42:24.698Z"
   },
   {
    "duration": 3920,
    "start_time": "2021-08-28T10:42:24.713Z"
   },
   {
    "duration": 15,
    "start_time": "2021-08-28T10:42:28.636Z"
   },
   {
    "duration": 53,
    "start_time": "2021-08-28T10:42:28.654Z"
   },
   {
    "duration": 3,
    "start_time": "2021-08-28T10:42:28.710Z"
   },
   {
    "duration": 21,
    "start_time": "2021-08-28T10:42:28.716Z"
   },
   {
    "duration": 500,
    "start_time": "2021-08-28T10:42:28.740Z"
   },
   {
    "duration": 30,
    "start_time": "2021-08-28T10:43:02.545Z"
   },
   {
    "duration": 22,
    "start_time": "2021-08-28T10:43:08.819Z"
   },
   {
    "duration": 10,
    "start_time": "2021-08-28T10:44:11.651Z"
   },
   {
    "duration": 14,
    "start_time": "2021-08-28T10:46:02.839Z"
   },
   {
    "duration": 13,
    "start_time": "2021-08-28T10:46:37.580Z"
   },
   {
    "duration": 14,
    "start_time": "2021-08-28T10:46:56.678Z"
   },
   {
    "duration": 13,
    "start_time": "2021-08-28T10:47:47.589Z"
   },
   {
    "duration": 14,
    "start_time": "2021-08-28T10:47:48.512Z"
   },
   {
    "duration": 275,
    "start_time": "2021-08-28T10:50:35.303Z"
   },
   {
    "duration": 14,
    "start_time": "2021-08-28T10:52:23.375Z"
   },
   {
    "duration": 361,
    "start_time": "2021-08-28T10:54:16.020Z"
   },
   {
    "duration": 15,
    "start_time": "2021-08-28T10:55:23.545Z"
   },
   {
    "duration": 13,
    "start_time": "2021-08-28T10:55:24.119Z"
   },
   {
    "duration": 303,
    "start_time": "2021-08-28T10:55:24.711Z"
   },
   {
    "duration": 14,
    "start_time": "2021-08-28T10:57:41.674Z"
   },
   {
    "duration": 13,
    "start_time": "2021-08-28T10:57:42.243Z"
   },
   {
    "duration": 13,
    "start_time": "2021-08-28T10:57:42.763Z"
   },
   {
    "duration": 434,
    "start_time": "2021-08-28T10:57:43.307Z"
   },
   {
    "duration": 1214,
    "start_time": "2021-08-28T10:58:47.765Z"
   },
   {
    "duration": 498,
    "start_time": "2021-08-28T10:58:48.982Z"
   },
   {
    "duration": 46,
    "start_time": "2021-08-28T10:58:49.483Z"
   },
   {
    "duration": 202,
    "start_time": "2021-08-28T10:58:49.532Z"
   },
   {
    "duration": 14,
    "start_time": "2021-08-28T10:58:49.736Z"
   },
   {
    "duration": 618,
    "start_time": "2021-08-28T10:58:49.753Z"
   },
   {
    "duration": 39,
    "start_time": "2021-08-28T10:58:50.373Z"
   },
   {
    "duration": 7,
    "start_time": "2021-08-28T10:58:50.418Z"
   },
   {
    "duration": 135,
    "start_time": "2021-08-28T10:58:50.429Z"
   },
   {
    "duration": 29,
    "start_time": "2021-08-28T10:58:50.567Z"
   },
   {
    "duration": 106,
    "start_time": "2021-08-28T10:58:50.598Z"
   },
   {
    "duration": 16,
    "start_time": "2021-08-28T10:58:50.707Z"
   },
   {
    "duration": 13,
    "start_time": "2021-08-28T10:58:50.726Z"
   },
   {
    "duration": 43,
    "start_time": "2021-08-28T10:58:50.742Z"
   },
   {
    "duration": 27,
    "start_time": "2021-08-28T10:58:50.787Z"
   },
   {
    "duration": 34,
    "start_time": "2021-08-28T10:58:50.817Z"
   },
   {
    "duration": 10,
    "start_time": "2021-08-28T10:58:50.853Z"
   },
   {
    "duration": 137,
    "start_time": "2021-08-28T10:58:50.865Z"
   },
   {
    "duration": 125,
    "start_time": "2021-08-28T10:58:51.005Z"
   },
   {
    "duration": 75,
    "start_time": "2021-08-28T10:58:51.132Z"
   },
   {
    "duration": 74,
    "start_time": "2021-08-28T10:58:51.210Z"
   },
   {
    "duration": 13,
    "start_time": "2021-08-28T10:58:51.287Z"
   },
   {
    "duration": 23,
    "start_time": "2021-08-28T10:58:51.305Z"
   },
   {
    "duration": 10,
    "start_time": "2021-08-28T10:58:51.332Z"
   },
   {
    "duration": 48,
    "start_time": "2021-08-28T10:58:51.344Z"
   },
   {
    "duration": 4904,
    "start_time": "2021-08-28T10:58:51.395Z"
   },
   {
    "duration": 20,
    "start_time": "2021-08-28T10:58:56.302Z"
   },
   {
    "duration": 2639,
    "start_time": "2021-08-28T10:58:56.324Z"
   },
   {
    "duration": 21,
    "start_time": "2021-08-28T10:58:58.965Z"
   },
   {
    "duration": 25,
    "start_time": "2021-08-28T10:58:58.988Z"
   },
   {
    "duration": 20,
    "start_time": "2021-08-28T10:58:59.015Z"
   },
   {
    "duration": 12,
    "start_time": "2021-08-28T10:58:59.037Z"
   },
   {
    "duration": 38,
    "start_time": "2021-08-28T10:58:59.051Z"
   },
   {
    "duration": 4123,
    "start_time": "2021-08-28T10:58:59.092Z"
   },
   {
    "duration": 2444,
    "start_time": "2021-08-28T10:59:03.218Z"
   },
   {
    "duration": 44,
    "start_time": "2021-08-28T10:59:05.664Z"
   },
   {
    "duration": 14,
    "start_time": "2021-08-28T10:59:05.710Z"
   },
   {
    "duration": 19,
    "start_time": "2021-08-28T10:59:05.726Z"
   },
   {
    "duration": 4503,
    "start_time": "2021-08-28T10:59:05.748Z"
   },
   {
    "duration": 2792,
    "start_time": "2021-08-28T10:59:10.254Z"
   },
   {
    "duration": 47,
    "start_time": "2021-08-28T10:59:13.048Z"
   },
   {
    "duration": 13,
    "start_time": "2021-08-28T10:59:13.098Z"
   },
   {
    "duration": 3910,
    "start_time": "2021-08-28T10:59:13.113Z"
   },
   {
    "duration": 17,
    "start_time": "2021-08-28T10:59:17.025Z"
   },
   {
    "duration": 54,
    "start_time": "2021-08-28T10:59:17.045Z"
   },
   {
    "duration": 3,
    "start_time": "2021-08-28T10:59:17.102Z"
   },
   {
    "duration": 17,
    "start_time": "2021-08-28T10:59:17.107Z"
   },
   {
    "duration": 14,
    "start_time": "2021-08-28T10:59:17.126Z"
   },
   {
    "duration": 49,
    "start_time": "2021-08-28T10:59:17.142Z"
   },
   {
    "duration": 309,
    "start_time": "2021-08-28T10:59:17.193Z"
   },
   {
    "duration": 13,
    "start_time": "2021-08-28T10:59:17.505Z"
   },
   {
    "duration": 14,
    "start_time": "2021-08-28T10:59:17.521Z"
   },
   {
    "duration": 21,
    "start_time": "2021-08-28T10:59:17.538Z"
   },
   {
    "duration": 307,
    "start_time": "2021-08-28T10:59:17.583Z"
   },
   {
    "duration": 13,
    "start_time": "2021-08-28T10:59:17.892Z"
   },
   {
    "duration": 14,
    "start_time": "2021-08-28T10:59:17.908Z"
   },
   {
    "duration": 15,
    "start_time": "2021-08-28T10:59:17.924Z"
   },
   {
    "duration": 328,
    "start_time": "2021-08-28T10:59:17.942Z"
   },
   {
    "duration": 24,
    "start_time": "2021-08-28T11:03:41.820Z"
   },
   {
    "duration": 14,
    "start_time": "2021-08-28T11:04:44.244Z"
   },
   {
    "duration": 3846,
    "start_time": "2021-08-28T11:04:45.321Z"
   },
   {
    "duration": 20,
    "start_time": "2021-08-28T11:04:52.074Z"
   },
   {
    "duration": 28,
    "start_time": "2021-08-28T11:04:52.974Z"
   },
   {
    "duration": 12,
    "start_time": "2021-08-28T11:05:13.699Z"
   },
   {
    "duration": 24,
    "start_time": "2021-08-28T11:05:24.970Z"
   },
   {
    "duration": 15,
    "start_time": "2021-08-28T11:06:05.666Z"
   },
   {
    "duration": 26,
    "start_time": "2021-08-28T11:06:05.883Z"
   },
   {
    "duration": 13,
    "start_time": "2021-08-28T11:08:24.691Z"
   },
   {
    "duration": 17,
    "start_time": "2021-08-28T11:08:27.828Z"
   },
   {
    "duration": 282,
    "start_time": "2021-08-28T11:08:44.536Z"
   },
   {
    "duration": 13,
    "start_time": "2021-08-28T11:09:18.737Z"
   },
   {
    "duration": 13,
    "start_time": "2021-08-28T11:09:19.883Z"
   },
   {
    "duration": 323,
    "start_time": "2021-08-28T11:09:31.932Z"
   },
   {
    "duration": 1279,
    "start_time": "2021-08-28T17:50:04.997Z"
   },
   {
    "duration": 1087,
    "start_time": "2021-08-28T17:50:06.279Z"
   },
   {
    "duration": 45,
    "start_time": "2021-08-28T17:50:07.369Z"
   },
   {
    "duration": 199,
    "start_time": "2021-08-28T17:50:07.417Z"
   },
   {
    "duration": 13,
    "start_time": "2021-08-28T17:50:07.618Z"
   },
   {
    "duration": 622,
    "start_time": "2021-08-28T17:50:07.634Z"
   },
   {
    "duration": 43,
    "start_time": "2021-08-28T17:50:08.258Z"
   },
   {
    "duration": 6,
    "start_time": "2021-08-28T17:50:08.303Z"
   },
   {
    "duration": 128,
    "start_time": "2021-08-28T17:50:08.314Z"
   },
   {
    "duration": 38,
    "start_time": "2021-08-28T17:50:08.446Z"
   },
   {
    "duration": 98,
    "start_time": "2021-08-28T17:50:08.486Z"
   },
   {
    "duration": 16,
    "start_time": "2021-08-28T17:50:08.587Z"
   },
   {
    "duration": 14,
    "start_time": "2021-08-28T17:50:08.604Z"
   },
   {
    "duration": 31,
    "start_time": "2021-08-28T17:50:08.620Z"
   },
   {
    "duration": 13,
    "start_time": "2021-08-28T17:50:08.682Z"
   },
   {
    "duration": 34,
    "start_time": "2021-08-28T17:50:08.697Z"
   },
   {
    "duration": 6,
    "start_time": "2021-08-28T17:50:08.734Z"
   },
   {
    "duration": 107,
    "start_time": "2021-08-28T17:50:08.742Z"
   },
   {
    "duration": 99,
    "start_time": "2021-08-28T17:50:08.852Z"
   },
   {
    "duration": 76,
    "start_time": "2021-08-28T17:50:08.953Z"
   },
   {
    "duration": 76,
    "start_time": "2021-08-28T17:50:09.031Z"
   },
   {
    "duration": 14,
    "start_time": "2021-08-28T17:50:09.109Z"
   },
   {
    "duration": 18,
    "start_time": "2021-08-28T17:50:09.125Z"
   },
   {
    "duration": 42,
    "start_time": "2021-08-28T17:50:09.145Z"
   },
   {
    "duration": 26,
    "start_time": "2021-08-28T17:50:09.189Z"
   },
   {
    "duration": 4568,
    "start_time": "2021-08-28T17:50:09.217Z"
   },
   {
    "duration": 17,
    "start_time": "2021-08-28T17:50:13.790Z"
   },
   {
    "duration": 2672,
    "start_time": "2021-08-28T17:50:13.810Z"
   },
   {
    "duration": 18,
    "start_time": "2021-08-28T17:50:16.485Z"
   },
   {
    "duration": 43,
    "start_time": "2021-08-28T17:50:16.505Z"
   },
   {
    "duration": 37,
    "start_time": "2021-08-28T17:50:16.550Z"
   },
   {
    "duration": 22,
    "start_time": "2021-08-28T17:50:16.590Z"
   },
   {
    "duration": 13,
    "start_time": "2021-08-28T17:50:16.616Z"
   },
   {
    "duration": 3821,
    "start_time": "2021-08-28T17:50:16.631Z"
   },
   {
    "duration": 2546,
    "start_time": "2021-08-28T17:50:20.455Z"
   },
   {
    "duration": 39,
    "start_time": "2021-08-28T17:50:23.003Z"
   },
   {
    "duration": 44,
    "start_time": "2021-08-28T17:50:23.044Z"
   },
   {
    "duration": 11,
    "start_time": "2021-08-28T17:50:23.090Z"
   },
   {
    "duration": 4202,
    "start_time": "2021-08-28T17:50:23.103Z"
   },
   {
    "duration": 2768,
    "start_time": "2021-08-28T17:50:27.307Z"
   },
   {
    "duration": 38,
    "start_time": "2021-08-28T17:50:30.078Z"
   },
   {
    "duration": 13,
    "start_time": "2021-08-28T17:50:30.119Z"
   },
   {
    "duration": 4024,
    "start_time": "2021-08-28T17:50:30.134Z"
   },
   {
    "duration": 27,
    "start_time": "2021-08-28T17:50:34.160Z"
   },
   {
    "duration": 31,
    "start_time": "2021-08-28T17:50:34.190Z"
   },
   {
    "duration": 14,
    "start_time": "2021-08-28T17:50:34.224Z"
   },
   {
    "duration": 45,
    "start_time": "2021-08-28T17:50:34.240Z"
   },
   {
    "duration": 14,
    "start_time": "2021-08-28T17:50:34.288Z"
   },
   {
    "duration": 361,
    "start_time": "2021-08-28T17:50:34.305Z"
   },
   {
    "duration": 23,
    "start_time": "2021-08-28T17:50:34.670Z"
   },
   {
    "duration": 14,
    "start_time": "2021-08-28T17:50:34.695Z"
   },
   {
    "duration": 17,
    "start_time": "2021-08-28T17:50:34.711Z"
   },
   {
    "duration": 352,
    "start_time": "2021-08-28T17:50:34.730Z"
   },
   {
    "duration": 14,
    "start_time": "2021-08-28T17:50:35.085Z"
   },
   {
    "duration": 14,
    "start_time": "2021-08-28T17:50:35.101Z"
   },
   {
    "duration": 14,
    "start_time": "2021-08-28T17:50:35.117Z"
   },
   {
    "duration": 380,
    "start_time": "2021-08-28T17:50:35.133Z"
   },
   {
    "duration": 32,
    "start_time": "2021-08-28T17:50:35.516Z"
   },
   {
    "duration": 1313,
    "start_time": "2021-08-28T17:57:29.956Z"
   },
   {
    "duration": 562,
    "start_time": "2021-08-28T17:57:31.272Z"
   },
   {
    "duration": 47,
    "start_time": "2021-08-28T17:57:31.840Z"
   },
   {
    "duration": 240,
    "start_time": "2021-08-28T17:57:31.890Z"
   },
   {
    "duration": 18,
    "start_time": "2021-08-28T17:57:32.134Z"
   },
   {
    "duration": 752,
    "start_time": "2021-08-28T17:57:32.155Z"
   },
   {
    "duration": 33,
    "start_time": "2021-08-28T17:57:32.912Z"
   },
   {
    "duration": 42,
    "start_time": "2021-08-28T17:57:32.948Z"
   },
   {
    "duration": 146,
    "start_time": "2021-08-28T17:57:32.994Z"
   },
   {
    "duration": 42,
    "start_time": "2021-08-28T17:57:33.143Z"
   },
   {
    "duration": 161,
    "start_time": "2021-08-28T17:57:33.188Z"
   },
   {
    "duration": 31,
    "start_time": "2021-08-28T17:57:33.352Z"
   },
   {
    "duration": 11,
    "start_time": "2021-08-28T17:57:33.387Z"
   },
   {
    "duration": 33,
    "start_time": "2021-08-28T17:57:33.402Z"
   },
   {
    "duration": 67,
    "start_time": "2021-08-28T17:57:33.437Z"
   },
   {
    "duration": 14,
    "start_time": "2021-08-28T17:57:33.508Z"
   },
   {
    "duration": 57,
    "start_time": "2021-08-28T17:57:33.526Z"
   },
   {
    "duration": 5,
    "start_time": "2021-08-28T17:57:33.587Z"
   },
   {
    "duration": 177,
    "start_time": "2021-08-28T17:57:33.596Z"
   },
   {
    "duration": 154,
    "start_time": "2021-08-28T17:57:33.782Z"
   },
   {
    "duration": 109,
    "start_time": "2021-08-28T17:57:33.940Z"
   },
   {
    "duration": 109,
    "start_time": "2021-08-28T17:57:34.055Z"
   },
   {
    "duration": 37,
    "start_time": "2021-08-28T17:57:34.169Z"
   },
   {
    "duration": 24,
    "start_time": "2021-08-28T17:57:34.209Z"
   },
   {
    "duration": 47,
    "start_time": "2021-08-28T17:57:34.236Z"
   },
   {
    "duration": 22,
    "start_time": "2021-08-28T17:57:34.285Z"
   },
   {
    "duration": 5228,
    "start_time": "2021-08-28T17:57:34.309Z"
   },
   {
    "duration": 19,
    "start_time": "2021-08-28T17:57:39.540Z"
   },
   {
    "duration": 3065,
    "start_time": "2021-08-28T17:57:39.562Z"
   },
   {
    "duration": 18,
    "start_time": "2021-08-28T17:57:42.630Z"
   },
   {
    "duration": 47,
    "start_time": "2021-08-28T17:57:42.651Z"
   },
   {
    "duration": 30,
    "start_time": "2021-08-28T17:57:42.700Z"
   },
   {
    "duration": 50,
    "start_time": "2021-08-28T17:57:42.733Z"
   },
   {
    "duration": 11,
    "start_time": "2021-08-28T17:57:42.786Z"
   },
   {
    "duration": 3914,
    "start_time": "2021-08-28T17:57:42.800Z"
   },
   {
    "duration": 2472,
    "start_time": "2021-08-28T17:57:46.716Z"
   },
   {
    "duration": 40,
    "start_time": "2021-08-28T17:57:49.191Z"
   },
   {
    "duration": 13,
    "start_time": "2021-08-28T17:57:49.233Z"
   },
   {
    "duration": 42,
    "start_time": "2021-08-28T17:57:49.249Z"
   },
   {
    "duration": 4589,
    "start_time": "2021-08-28T17:57:49.293Z"
   },
   {
    "duration": 3369,
    "start_time": "2021-08-28T17:57:53.884Z"
   },
   {
    "duration": 52,
    "start_time": "2021-08-28T17:57:57.256Z"
   },
   {
    "duration": 13,
    "start_time": "2021-08-28T17:57:57.311Z"
   },
   {
    "duration": 3863,
    "start_time": "2021-08-28T17:57:57.326Z"
   },
   {
    "duration": 21,
    "start_time": "2021-08-28T17:58:01.192Z"
   },
   {
    "duration": 37,
    "start_time": "2021-08-28T17:58:01.217Z"
   },
   {
    "duration": 35,
    "start_time": "2021-08-28T17:58:01.257Z"
   },
   {
    "duration": 18,
    "start_time": "2021-08-28T17:58:01.295Z"
   },
   {
    "duration": 42,
    "start_time": "2021-08-28T17:58:01.316Z"
   },
   {
    "duration": 345,
    "start_time": "2021-08-28T17:58:01.361Z"
   },
   {
    "duration": 17,
    "start_time": "2021-08-28T17:58:01.708Z"
   },
   {
    "duration": 22,
    "start_time": "2021-08-28T17:58:01.727Z"
   },
   {
    "duration": 40,
    "start_time": "2021-08-28T17:58:01.752Z"
   },
   {
    "duration": 340,
    "start_time": "2021-08-28T17:58:01.795Z"
   },
   {
    "duration": 15,
    "start_time": "2021-08-28T17:58:02.137Z"
   },
   {
    "duration": 42,
    "start_time": "2021-08-28T17:58:02.154Z"
   },
   {
    "duration": 47,
    "start_time": "2021-08-28T17:58:02.199Z"
   },
   {
    "duration": 311,
    "start_time": "2021-08-28T17:58:02.249Z"
   },
   {
    "duration": 36,
    "start_time": "2021-08-28T17:58:02.563Z"
   },
   {
    "duration": 10,
    "start_time": "2021-08-28T17:58:02.603Z"
   },
   {
    "duration": 27,
    "start_time": "2021-08-28T18:09:14.017Z"
   },
   {
    "duration": 366,
    "start_time": "2021-08-28T18:15:18.484Z"
   },
   {
    "duration": 279,
    "start_time": "2021-08-28T18:15:56.579Z"
   },
   {
    "duration": 95,
    "start_time": "2021-08-28T18:16:46.908Z"
   },
   {
    "duration": 298,
    "start_time": "2021-08-28T18:16:53.520Z"
   },
   {
    "duration": 5,
    "start_time": "2021-08-28T18:17:36.566Z"
   },
   {
    "duration": 6,
    "start_time": "2021-08-28T18:17:47.135Z"
   },
   {
    "duration": 3103,
    "start_time": "2021-08-28T18:19:35.439Z"
   },
   {
    "duration": 8,
    "start_time": "2021-08-28T18:19:40.802Z"
   },
   {
    "duration": 3078,
    "start_time": "2021-08-28T18:22:27.513Z"
   },
   {
    "duration": 7,
    "start_time": "2021-08-28T18:22:36.538Z"
   },
   {
    "duration": 2647,
    "start_time": "2021-08-28T18:25:28.474Z"
   },
   {
    "duration": 8,
    "start_time": "2021-08-28T18:25:33.339Z"
   },
   {
    "duration": 324,
    "start_time": "2021-08-28T18:25:44.275Z"
   },
   {
    "duration": 1451,
    "start_time": "2021-08-28T18:26:38.096Z"
   },
   {
    "duration": 9,
    "start_time": "2021-08-28T18:26:42.485Z"
   },
   {
    "duration": 26,
    "start_time": "2021-08-28T18:26:54.520Z"
   },
   {
    "duration": 1958,
    "start_time": "2021-08-28T18:27:08.698Z"
   },
   {
    "duration": 23,
    "start_time": "2021-08-28T18:27:11.623Z"
   },
   {
    "duration": 1857,
    "start_time": "2021-08-28T18:34:44.599Z"
   },
   {
    "duration": 23,
    "start_time": "2021-08-28T18:34:48.146Z"
   },
   {
    "duration": 19,
    "start_time": "2021-08-28T18:36:46.365Z"
   },
   {
    "duration": 20,
    "start_time": "2021-08-28T18:37:23.898Z"
   },
   {
    "duration": 1818,
    "start_time": "2021-08-28T18:40:29.047Z"
   },
   {
    "duration": 36,
    "start_time": "2021-08-28T18:40:30.868Z"
   },
   {
    "duration": 1155,
    "start_time": "2021-08-28T18:42:31.227Z"
   },
   {
    "duration": 515,
    "start_time": "2021-08-28T18:42:32.385Z"
   },
   {
    "duration": 4,
    "start_time": "2021-08-28T18:42:32.903Z"
   },
   {
    "duration": 52,
    "start_time": "2021-08-28T18:42:32.910Z"
   },
   {
    "duration": 200,
    "start_time": "2021-08-28T18:42:32.964Z"
   },
   {
    "duration": 21,
    "start_time": "2021-08-28T18:42:33.166Z"
   },
   {
    "duration": 614,
    "start_time": "2021-08-28T18:42:33.190Z"
   },
   {
    "duration": 36,
    "start_time": "2021-08-28T18:42:33.809Z"
   },
   {
    "duration": 38,
    "start_time": "2021-08-28T18:42:33.849Z"
   },
   {
    "duration": 131,
    "start_time": "2021-08-28T18:42:33.890Z"
   },
   {
    "duration": 31,
    "start_time": "2021-08-28T18:42:34.024Z"
   },
   {
    "duration": 84,
    "start_time": "2021-08-28T18:42:34.083Z"
   },
   {
    "duration": 21,
    "start_time": "2021-08-28T18:42:34.183Z"
   },
   {
    "duration": 7,
    "start_time": "2021-08-28T18:42:34.207Z"
   },
   {
    "duration": 76,
    "start_time": "2021-08-28T18:42:34.217Z"
   },
   {
    "duration": 18,
    "start_time": "2021-08-28T18:42:34.296Z"
   },
   {
    "duration": 1959,
    "start_time": "2021-08-28T18:42:34.316Z"
   },
   {
    "duration": 21,
    "start_time": "2021-08-28T18:42:36.278Z"
   },
   {
    "duration": 118,
    "start_time": "2021-08-28T18:42:36.302Z"
   },
   {
    "duration": 99,
    "start_time": "2021-08-28T18:42:36.422Z"
   },
   {
    "duration": 80,
    "start_time": "2021-08-28T18:42:36.524Z"
   },
   {
    "duration": 78,
    "start_time": "2021-08-28T18:42:36.606Z"
   },
   {
    "duration": 14,
    "start_time": "2021-08-28T18:42:36.690Z"
   },
   {
    "duration": 21,
    "start_time": "2021-08-28T18:42:36.707Z"
   },
   {
    "duration": 10,
    "start_time": "2021-08-28T18:42:36.731Z"
   },
   {
    "duration": 20,
    "start_time": "2021-08-28T18:42:36.783Z"
   },
   {
    "duration": 6264,
    "start_time": "2021-08-28T18:44:23.069Z"
   },
   {
    "duration": 14,
    "start_time": "2021-08-28T18:44:45.379Z"
   },
   {
    "duration": 22,
    "start_time": "2021-08-28T18:44:46.502Z"
   },
   {
    "duration": 11,
    "start_time": "2021-08-28T18:44:51.829Z"
   },
   {
    "duration": 19,
    "start_time": "2021-08-28T18:44:52.458Z"
   },
   {
    "duration": 4761,
    "start_time": "2021-08-28T18:45:01.588Z"
   },
   {
    "duration": 18,
    "start_time": "2021-08-28T18:45:08.570Z"
   },
   {
    "duration": 2683,
    "start_time": "2021-08-28T18:45:18.919Z"
   },
   {
    "duration": 19,
    "start_time": "2021-08-28T18:45:22.884Z"
   },
   {
    "duration": 24,
    "start_time": "2021-08-28T18:45:26.854Z"
   },
   {
    "duration": 23,
    "start_time": "2021-08-28T18:45:27.598Z"
   },
   {
    "duration": 16,
    "start_time": "2021-08-28T18:45:31.276Z"
   },
   {
    "duration": 12,
    "start_time": "2021-08-28T18:45:31.763Z"
   },
   {
    "duration": 3953,
    "start_time": "2021-08-28T18:45:32.931Z"
   },
   {
    "duration": 2501,
    "start_time": "2021-08-28T18:45:39.190Z"
   },
   {
    "duration": 38,
    "start_time": "2021-08-28T18:45:42.677Z"
   },
   {
    "duration": 18,
    "start_time": "2021-08-28T18:45:46.983Z"
   },
   {
    "duration": 11,
    "start_time": "2021-08-28T18:45:47.171Z"
   },
   {
    "duration": 4202,
    "start_time": "2021-08-28T18:45:47.313Z"
   },
   {
    "duration": 2872,
    "start_time": "2021-08-28T18:45:54.172Z"
   },
   {
    "duration": 52,
    "start_time": "2021-08-28T18:45:57.046Z"
   },
   {
    "duration": 15,
    "start_time": "2021-08-28T18:46:01.103Z"
   },
   {
    "duration": 3972,
    "start_time": "2021-08-28T18:46:23.937Z"
   },
   {
    "duration": 20,
    "start_time": "2021-08-28T18:46:30.723Z"
   },
   {
    "duration": 27,
    "start_time": "2021-08-28T18:46:32.279Z"
   },
   {
    "duration": 15,
    "start_time": "2021-08-28T18:46:56.327Z"
   },
   {
    "duration": 12,
    "start_time": "2021-08-28T18:46:57.113Z"
   },
   {
    "duration": 13,
    "start_time": "2021-08-28T18:46:58.096Z"
   },
   {
    "duration": 283,
    "start_time": "2021-08-28T18:46:58.384Z"
   },
   {
    "duration": 15,
    "start_time": "2021-08-28T18:47:00.216Z"
   },
   {
    "duration": 13,
    "start_time": "2021-08-28T18:47:00.440Z"
   },
   {
    "duration": 13,
    "start_time": "2021-08-28T18:47:00.658Z"
   },
   {
    "duration": 306,
    "start_time": "2021-08-28T18:47:00.855Z"
   },
   {
    "duration": 14,
    "start_time": "2021-08-28T18:47:02.371Z"
   },
   {
    "duration": 13,
    "start_time": "2021-08-28T18:47:02.551Z"
   },
   {
    "duration": 13,
    "start_time": "2021-08-28T18:47:02.760Z"
   },
   {
    "duration": 302,
    "start_time": "2021-08-28T18:47:02.961Z"
   },
   {
    "duration": 233,
    "start_time": "2021-08-28T18:58:45.306Z"
   },
   {
    "duration": 293,
    "start_time": "2021-08-28T18:59:12.471Z"
   },
   {
    "duration": 33,
    "start_time": "2021-08-28T18:59:31.466Z"
   },
   {
    "duration": 1060,
    "start_time": "2021-08-28T19:01:53.018Z"
   },
   {
    "duration": 492,
    "start_time": "2021-08-28T19:01:54.081Z"
   },
   {
    "duration": 5,
    "start_time": "2021-08-28T19:01:54.577Z"
   },
   {
    "duration": 48,
    "start_time": "2021-08-28T19:01:54.586Z"
   },
   {
    "duration": 222,
    "start_time": "2021-08-28T19:01:54.638Z"
   },
   {
    "duration": 22,
    "start_time": "2021-08-28T19:01:54.862Z"
   },
   {
    "duration": 609,
    "start_time": "2021-08-28T19:01:54.886Z"
   },
   {
    "duration": 33,
    "start_time": "2021-08-28T19:01:55.498Z"
   },
   {
    "duration": 6,
    "start_time": "2021-08-28T19:01:55.535Z"
   },
   {
    "duration": 115,
    "start_time": "2021-08-28T19:01:55.582Z"
   },
   {
    "duration": 29,
    "start_time": "2021-08-28T19:01:55.700Z"
   },
   {
    "duration": 123,
    "start_time": "2021-08-28T19:01:55.733Z"
   },
   {
    "duration": 34,
    "start_time": "2021-08-28T19:01:55.859Z"
   },
   {
    "duration": 9,
    "start_time": "2021-08-28T19:01:55.895Z"
   },
   {
    "duration": 25,
    "start_time": "2021-08-28T19:01:55.907Z"
   },
   {
    "duration": 53,
    "start_time": "2021-08-28T19:01:55.934Z"
   },
   {
    "duration": 1874,
    "start_time": "2021-08-28T19:01:55.990Z"
   },
   {
    "duration": 31,
    "start_time": "2021-08-28T19:01:57.868Z"
   },
   {
    "duration": 116,
    "start_time": "2021-08-28T19:01:57.902Z"
   },
   {
    "duration": 113,
    "start_time": "2021-08-28T19:01:58.020Z"
   },
   {
    "duration": 90,
    "start_time": "2021-08-28T19:01:58.136Z"
   },
   {
    "duration": 87,
    "start_time": "2021-08-28T19:01:58.229Z"
   },
   {
    "duration": 13,
    "start_time": "2021-08-28T19:01:58.318Z"
   },
   {
    "duration": 19,
    "start_time": "2021-08-28T19:01:58.334Z"
   },
   {
    "duration": 35,
    "start_time": "2021-08-28T19:01:58.355Z"
   },
   {
    "duration": 19,
    "start_time": "2021-08-28T19:01:58.392Z"
   },
   {
    "duration": 4712,
    "start_time": "2021-08-28T19:01:58.417Z"
   },
   {
    "duration": 18,
    "start_time": "2021-08-28T19:02:03.132Z"
   },
   {
    "duration": 2638,
    "start_time": "2021-08-28T19:02:03.153Z"
   },
   {
    "duration": 17,
    "start_time": "2021-08-28T19:02:05.793Z"
   },
   {
    "duration": 23,
    "start_time": "2021-08-28T19:02:05.813Z"
   },
   {
    "duration": 52,
    "start_time": "2021-08-28T19:02:05.838Z"
   },
   {
    "duration": 13,
    "start_time": "2021-08-28T19:02:05.892Z"
   },
   {
    "duration": 15,
    "start_time": "2021-08-28T19:02:05.908Z"
   },
   {
    "duration": 3585,
    "start_time": "2021-08-28T19:02:05.925Z"
   },
   {
    "duration": 2409,
    "start_time": "2021-08-28T19:02:09.513Z"
   },
   {
    "duration": 62,
    "start_time": "2021-08-28T19:02:11.924Z"
   },
   {
    "duration": 18,
    "start_time": "2021-08-28T19:02:11.989Z"
   },
   {
    "duration": 13,
    "start_time": "2021-08-28T19:02:12.010Z"
   },
   {
    "duration": 4280,
    "start_time": "2021-08-28T19:02:12.026Z"
   },
   {
    "duration": 2746,
    "start_time": "2021-08-28T19:02:16.308Z"
   },
   {
    "duration": 48,
    "start_time": "2021-08-28T19:02:19.057Z"
   },
   {
    "duration": 12,
    "start_time": "2021-08-28T19:02:19.108Z"
   },
   {
    "duration": 3972,
    "start_time": "2021-08-28T19:02:19.123Z"
   },
   {
    "duration": 20,
    "start_time": "2021-08-28T19:02:23.097Z"
   },
   {
    "duration": 36,
    "start_time": "2021-08-28T19:02:23.119Z"
   },
   {
    "duration": 36,
    "start_time": "2021-08-28T19:02:23.158Z"
   },
   {
    "duration": 17,
    "start_time": "2021-08-28T19:02:23.197Z"
   },
   {
    "duration": 22,
    "start_time": "2021-08-28T19:02:23.216Z"
   },
   {
    "duration": 314,
    "start_time": "2021-08-28T19:02:23.241Z"
   },
   {
    "duration": 27,
    "start_time": "2021-08-28T19:02:23.557Z"
   },
   {
    "duration": 12,
    "start_time": "2021-08-28T19:02:23.586Z"
   },
   {
    "duration": 20,
    "start_time": "2021-08-28T19:02:23.601Z"
   },
   {
    "duration": 339,
    "start_time": "2021-08-28T19:02:23.624Z"
   },
   {
    "duration": 27,
    "start_time": "2021-08-28T19:02:23.965Z"
   },
   {
    "duration": 13,
    "start_time": "2021-08-28T19:02:23.994Z"
   },
   {
    "duration": 18,
    "start_time": "2021-08-28T19:02:24.009Z"
   },
   {
    "duration": 325,
    "start_time": "2021-08-28T19:02:24.029Z"
   },
   {
    "duration": 39,
    "start_time": "2021-08-28T19:02:24.357Z"
   },
   {
    "duration": 7489,
    "start_time": "2021-08-28T19:07:03.100Z"
   },
   {
    "duration": 6,
    "start_time": "2021-08-28T19:07:23.311Z"
   },
   {
    "duration": 11,
    "start_time": "2021-08-28T19:40:51.487Z"
   },
   {
    "duration": 12,
    "start_time": "2021-08-28T19:41:10.940Z"
   },
   {
    "duration": 105,
    "start_time": "2021-08-28T20:05:23.319Z"
   },
   {
    "duration": 12,
    "start_time": "2021-08-28T20:05:31.689Z"
   },
   {
    "duration": 14,
    "start_time": "2021-08-28T20:12:17.516Z"
   },
   {
    "duration": 13,
    "start_time": "2021-08-28T20:12:32.467Z"
   },
   {
    "duration": 297,
    "start_time": "2021-08-28T20:12:59.039Z"
   },
   {
    "duration": 321,
    "start_time": "2021-08-28T20:13:34.768Z"
   },
   {
    "duration": 277,
    "start_time": "2021-08-28T20:13:47.139Z"
   },
   {
    "duration": 397,
    "start_time": "2021-08-28T20:14:02.689Z"
   },
   {
    "duration": 36,
    "start_time": "2021-08-28T20:15:13.901Z"
   },
   {
    "duration": 24,
    "start_time": "2021-08-28T20:15:15.350Z"
   },
   {
    "duration": 51,
    "start_time": "2021-08-28T20:15:26.573Z"
   },
   {
    "duration": 14,
    "start_time": "2021-08-28T20:15:36.992Z"
   },
   {
    "duration": 13,
    "start_time": "2021-08-28T20:15:38.035Z"
   },
   {
    "duration": 297,
    "start_time": "2021-08-28T20:15:38.753Z"
   },
   {
    "duration": 25,
    "start_time": "2021-08-28T20:16:39.769Z"
   },
   {
    "duration": 16,
    "start_time": "2021-08-28T20:19:46.173Z"
   },
   {
    "duration": 11,
    "start_time": "2021-08-28T20:20:20.468Z"
   },
   {
    "duration": 306,
    "start_time": "2021-08-28T20:21:26.629Z"
   },
   {
    "duration": 10,
    "start_time": "2021-08-28T20:35:26.197Z"
   },
   {
    "duration": 11,
    "start_time": "2021-08-28T20:36:39.740Z"
   },
   {
    "duration": 10,
    "start_time": "2021-08-28T20:36:59.546Z"
   },
   {
    "duration": 10,
    "start_time": "2021-08-28T20:37:23.044Z"
   },
   {
    "duration": 1159,
    "start_time": "2021-08-28T20:38:18.820Z"
   },
   {
    "duration": 518,
    "start_time": "2021-08-28T20:38:19.983Z"
   },
   {
    "duration": 5,
    "start_time": "2021-08-28T20:38:20.505Z"
   },
   {
    "duration": 57,
    "start_time": "2021-08-28T20:38:20.513Z"
   },
   {
    "duration": 209,
    "start_time": "2021-08-28T20:38:20.573Z"
   },
   {
    "duration": 13,
    "start_time": "2021-08-28T20:38:20.784Z"
   },
   {
    "duration": 624,
    "start_time": "2021-08-28T20:38:20.800Z"
   },
   {
    "duration": 32,
    "start_time": "2021-08-28T20:38:21.428Z"
   },
   {
    "duration": 23,
    "start_time": "2021-08-28T20:38:21.463Z"
   },
   {
    "duration": 126,
    "start_time": "2021-08-28T20:38:21.488Z"
   },
   {
    "duration": 26,
    "start_time": "2021-08-28T20:38:21.616Z"
   },
   {
    "duration": 105,
    "start_time": "2021-08-28T20:38:21.644Z"
   },
   {
    "duration": 34,
    "start_time": "2021-08-28T20:38:21.752Z"
   },
   {
    "duration": 6,
    "start_time": "2021-08-28T20:38:21.788Z"
   },
   {
    "duration": 23,
    "start_time": "2021-08-28T20:38:21.796Z"
   },
   {
    "duration": 61,
    "start_time": "2021-08-28T20:38:21.822Z"
   },
   {
    "duration": 1852,
    "start_time": "2021-08-28T20:38:21.886Z"
   },
   {
    "duration": 19,
    "start_time": "2021-08-28T20:38:23.740Z"
   },
   {
    "duration": 122,
    "start_time": "2021-08-28T20:38:23.762Z"
   },
   {
    "duration": 108,
    "start_time": "2021-08-28T20:38:23.886Z"
   },
   {
    "duration": 70,
    "start_time": "2021-08-28T20:38:23.996Z"
   },
   {
    "duration": 68,
    "start_time": "2021-08-28T20:38:24.083Z"
   },
   {
    "duration": 16,
    "start_time": "2021-08-28T20:38:24.182Z"
   },
   {
    "duration": 20,
    "start_time": "2021-08-28T20:38:24.202Z"
   },
   {
    "duration": 9,
    "start_time": "2021-08-28T20:38:24.224Z"
   },
   {
    "duration": 57,
    "start_time": "2021-08-28T20:38:24.236Z"
   },
   {
    "duration": 22,
    "start_time": "2021-08-28T20:42:56.391Z"
   },
   {
    "duration": 6446,
    "start_time": "2021-08-28T20:43:13.704Z"
   },
   {
    "duration": 16,
    "start_time": "2021-08-28T20:43:24.058Z"
   },
   {
    "duration": 20,
    "start_time": "2021-08-28T20:43:25.466Z"
   },
   {
    "duration": 10,
    "start_time": "2021-08-28T20:43:27.093Z"
   },
   {
    "duration": 20,
    "start_time": "2021-08-28T20:43:27.745Z"
   },
   {
    "duration": 4532,
    "start_time": "2021-08-28T20:43:37.220Z"
   },
   {
    "duration": 19,
    "start_time": "2021-08-28T20:43:43.816Z"
   },
   {
    "duration": 2589,
    "start_time": "2021-08-28T20:43:47.697Z"
   },
   {
    "duration": 17,
    "start_time": "2021-08-28T20:43:50.289Z"
   },
   {
    "duration": 24,
    "start_time": "2021-08-28T20:43:52.383Z"
   },
   {
    "duration": 21,
    "start_time": "2021-08-28T20:43:53.205Z"
   },
   {
    "duration": 32,
    "start_time": "2021-08-28T20:43:54.902Z"
   },
   {
    "duration": 12,
    "start_time": "2021-08-28T20:43:55.544Z"
   },
   {
    "duration": 3598,
    "start_time": "2021-08-28T20:43:56.109Z"
   },
   {
    "duration": 2474,
    "start_time": "2021-08-28T20:43:59.709Z"
   },
   {
    "duration": 41,
    "start_time": "2021-08-28T20:44:02.884Z"
   },
   {
    "duration": 17,
    "start_time": "2021-08-28T20:44:06.071Z"
   },
   {
    "duration": 10,
    "start_time": "2021-08-28T20:44:06.890Z"
   },
   {
    "duration": 4263,
    "start_time": "2021-08-28T20:44:07.692Z"
   },
   {
    "duration": 2750,
    "start_time": "2021-08-28T20:44:11.958Z"
   },
   {
    "duration": 40,
    "start_time": "2021-08-28T20:44:15.350Z"
   },
   {
    "duration": 16,
    "start_time": "2021-08-28T20:44:17.529Z"
   },
   {
    "duration": 4011,
    "start_time": "2021-08-28T20:44:19.082Z"
   },
   {
    "duration": 55,
    "start_time": "2021-08-28T20:44:25.005Z"
   },
   {
    "duration": 17,
    "start_time": "2021-08-28T20:44:35.015Z"
   },
   {
    "duration": 13,
    "start_time": "2021-08-28T20:44:36.142Z"
   },
   {
    "duration": 13,
    "start_time": "2021-08-28T20:44:37.096Z"
   },
   {
    "duration": 299,
    "start_time": "2021-08-28T20:44:38.111Z"
   },
   {
    "duration": 16,
    "start_time": "2021-08-28T20:44:40.974Z"
   },
   {
    "duration": 15,
    "start_time": "2021-08-28T20:44:41.630Z"
   },
   {
    "duration": 14,
    "start_time": "2021-08-28T20:44:42.207Z"
   },
   {
    "duration": 379,
    "start_time": "2021-08-28T20:44:42.966Z"
   },
   {
    "duration": 15,
    "start_time": "2021-08-28T20:44:45.719Z"
   },
   {
    "duration": 12,
    "start_time": "2021-08-28T20:44:46.024Z"
   },
   {
    "duration": 12,
    "start_time": "2021-08-28T20:44:46.230Z"
   },
   {
    "duration": 300,
    "start_time": "2021-08-28T20:44:46.972Z"
   },
   {
    "duration": 26,
    "start_time": "2021-08-28T20:44:49.848Z"
   },
   {
    "duration": 13,
    "start_time": "2021-08-28T20:44:51.816Z"
   },
   {
    "duration": 13,
    "start_time": "2021-08-28T20:44:52.369Z"
   },
   {
    "duration": 294,
    "start_time": "2021-08-28T20:44:53.245Z"
   },
   {
    "duration": 11,
    "start_time": "2021-08-28T20:44:54.752Z"
   },
   {
    "duration": 12,
    "start_time": "2021-08-28T20:44:58.026Z"
   },
   {
    "duration": 14,
    "start_time": "2021-08-28T20:44:58.412Z"
   },
   {
    "duration": 292,
    "start_time": "2021-08-28T20:44:59.157Z"
   },
   {
    "duration": 11,
    "start_time": "2021-08-28T20:45:00.490Z"
   },
   {
    "duration": 436,
    "start_time": "2021-08-29T07:07:13.166Z"
   },
   {
    "duration": 1932,
    "start_time": "2021-08-29T07:20:06.994Z"
   },
   {
    "duration": 542,
    "start_time": "2021-08-29T07:20:08.929Z"
   },
   {
    "duration": 4,
    "start_time": "2021-08-29T07:20:09.474Z"
   },
   {
    "duration": 52,
    "start_time": "2021-08-29T07:20:09.480Z"
   },
   {
    "duration": 206,
    "start_time": "2021-08-29T07:20:09.535Z"
   },
   {
    "duration": 13,
    "start_time": "2021-08-29T07:20:09.744Z"
   },
   {
    "duration": 658,
    "start_time": "2021-08-29T07:20:09.760Z"
   },
   {
    "duration": 32,
    "start_time": "2021-08-29T07:20:10.422Z"
   },
   {
    "duration": 6,
    "start_time": "2021-08-29T07:20:10.458Z"
   },
   {
    "duration": 133,
    "start_time": "2021-08-29T07:20:10.466Z"
   },
   {
    "duration": 31,
    "start_time": "2021-08-29T07:20:10.601Z"
   },
   {
    "duration": 117,
    "start_time": "2021-08-29T07:20:10.634Z"
   },
   {
    "duration": 16,
    "start_time": "2021-08-29T07:20:10.754Z"
   },
   {
    "duration": 5,
    "start_time": "2021-08-29T07:20:10.772Z"
   },
   {
    "duration": 53,
    "start_time": "2021-08-29T07:20:10.780Z"
   },
   {
    "duration": 14,
    "start_time": "2021-08-29T07:20:10.835Z"
   },
   {
    "duration": 1905,
    "start_time": "2021-08-29T07:20:10.851Z"
   },
   {
    "duration": 19,
    "start_time": "2021-08-29T07:20:12.758Z"
   },
   {
    "duration": 118,
    "start_time": "2021-08-29T07:20:12.780Z"
   },
   {
    "duration": 103,
    "start_time": "2021-08-29T07:20:12.901Z"
   },
   {
    "duration": 82,
    "start_time": "2021-08-29T07:20:13.006Z"
   },
   {
    "duration": 86,
    "start_time": "2021-08-29T07:20:13.091Z"
   },
   {
    "duration": 14,
    "start_time": "2021-08-29T07:20:13.183Z"
   },
   {
    "duration": 21,
    "start_time": "2021-08-29T07:20:13.217Z"
   },
   {
    "duration": 12,
    "start_time": "2021-08-29T07:20:13.240Z"
   },
   {
    "duration": 19,
    "start_time": "2021-08-29T07:20:13.255Z"
   },
   {
    "duration": 4844,
    "start_time": "2021-08-29T07:20:13.276Z"
   },
   {
    "duration": 18,
    "start_time": "2021-08-29T07:20:18.122Z"
   },
   {
    "duration": 2667,
    "start_time": "2021-08-29T07:20:18.143Z"
   },
   {
    "duration": 17,
    "start_time": "2021-08-29T07:20:20.812Z"
   },
   {
    "duration": 21,
    "start_time": "2021-08-29T07:20:20.831Z"
   },
   {
    "duration": 21,
    "start_time": "2021-08-29T07:20:20.854Z"
   },
   {
    "duration": 46,
    "start_time": "2021-08-29T07:20:20.877Z"
   },
   {
    "duration": 11,
    "start_time": "2021-08-29T07:20:20.926Z"
   },
   {
    "duration": 3876,
    "start_time": "2021-08-29T07:20:20.940Z"
   },
   {
    "duration": 2798,
    "start_time": "2021-08-29T07:20:24.818Z"
   },
   {
    "duration": 41,
    "start_time": "2021-08-29T07:20:27.618Z"
   },
   {
    "duration": 14,
    "start_time": "2021-08-29T07:20:27.662Z"
   },
   {
    "duration": 10,
    "start_time": "2021-08-29T07:20:27.679Z"
   },
   {
    "duration": 4479,
    "start_time": "2021-08-29T07:20:27.691Z"
   },
   {
    "duration": 2883,
    "start_time": "2021-08-29T07:20:32.172Z"
   },
   {
    "duration": 39,
    "start_time": "2021-08-29T07:20:35.058Z"
   },
   {
    "duration": 27,
    "start_time": "2021-08-29T07:20:35.099Z"
   },
   {
    "duration": 4109,
    "start_time": "2021-08-29T07:20:35.129Z"
   },
   {
    "duration": 55,
    "start_time": "2021-08-29T07:20:39.241Z"
   },
   {
    "duration": 17,
    "start_time": "2021-08-29T07:20:39.316Z"
   },
   {
    "duration": 15,
    "start_time": "2021-08-29T07:20:39.335Z"
   },
   {
    "duration": 14,
    "start_time": "2021-08-29T07:20:39.353Z"
   },
   {
    "duration": 418,
    "start_time": "2021-08-29T07:20:39.370Z"
   },
   {
    "duration": 28,
    "start_time": "2021-08-29T07:20:39.792Z"
   },
   {
    "duration": 13,
    "start_time": "2021-08-29T07:20:39.823Z"
   },
   {
    "duration": 15,
    "start_time": "2021-08-29T07:20:39.839Z"
   },
   {
    "duration": 372,
    "start_time": "2021-08-29T07:20:39.857Z"
   },
   {
    "duration": 14,
    "start_time": "2021-08-29T07:20:40.232Z"
   },
   {
    "duration": 12,
    "start_time": "2021-08-29T07:20:40.249Z"
   },
   {
    "duration": 15,
    "start_time": "2021-08-29T07:20:40.264Z"
   },
   {
    "duration": 343,
    "start_time": "2021-08-29T07:20:40.281Z"
   },
   {
    "duration": 13,
    "start_time": "2021-08-29T07:20:40.627Z"
   },
   {
    "duration": 13,
    "start_time": "2021-08-29T07:20:40.642Z"
   },
   {
    "duration": 342,
    "start_time": "2021-08-29T07:20:40.657Z"
   },
   {
    "duration": 16,
    "start_time": "2021-08-29T07:20:41.001Z"
   },
   {
    "duration": 14,
    "start_time": "2021-08-29T07:20:41.020Z"
   },
   {
    "duration": 14,
    "start_time": "2021-08-29T07:20:41.036Z"
   },
   {
    "duration": 350,
    "start_time": "2021-08-29T07:20:41.052Z"
   },
   {
    "duration": 16,
    "start_time": "2021-08-29T07:20:41.404Z"
   },
   {
    "duration": 512,
    "start_time": "2021-08-29T07:37:37.786Z"
   },
   {
    "duration": 1236,
    "start_time": "2021-08-29T07:37:49.774Z"
   },
   {
    "duration": 514,
    "start_time": "2021-08-29T07:37:51.013Z"
   },
   {
    "duration": 4,
    "start_time": "2021-08-29T07:37:51.530Z"
   },
   {
    "duration": 51,
    "start_time": "2021-08-29T07:37:51.537Z"
   },
   {
    "duration": 191,
    "start_time": "2021-08-29T07:37:51.590Z"
   },
   {
    "duration": 13,
    "start_time": "2021-08-29T07:37:51.784Z"
   },
   {
    "duration": 637,
    "start_time": "2021-08-29T07:37:51.816Z"
   },
   {
    "duration": 34,
    "start_time": "2021-08-29T07:37:52.457Z"
   },
   {
    "duration": 23,
    "start_time": "2021-08-29T07:37:52.494Z"
   },
   {
    "duration": 119,
    "start_time": "2021-08-29T07:37:52.520Z"
   },
   {
    "duration": 27,
    "start_time": "2021-08-29T07:37:52.642Z"
   },
   {
    "duration": 110,
    "start_time": "2021-08-29T07:37:52.671Z"
   },
   {
    "duration": 33,
    "start_time": "2021-08-29T07:37:52.783Z"
   },
   {
    "duration": 5,
    "start_time": "2021-08-29T07:37:52.818Z"
   },
   {
    "duration": 26,
    "start_time": "2021-08-29T07:37:52.826Z"
   },
   {
    "duration": 16,
    "start_time": "2021-08-29T07:37:52.854Z"
   },
   {
    "duration": 2063,
    "start_time": "2021-08-29T07:37:52.873Z"
   },
   {
    "duration": 18,
    "start_time": "2021-08-29T07:37:54.939Z"
   },
   {
    "duration": 156,
    "start_time": "2021-08-29T07:37:54.960Z"
   },
   {
    "duration": 113,
    "start_time": "2021-08-29T07:37:55.119Z"
   },
   {
    "duration": 92,
    "start_time": "2021-08-29T07:37:55.236Z"
   },
   {
    "duration": 91,
    "start_time": "2021-08-29T07:37:55.330Z"
   },
   {
    "duration": 16,
    "start_time": "2021-08-29T07:37:55.429Z"
   },
   {
    "duration": 25,
    "start_time": "2021-08-29T07:37:55.449Z"
   },
   {
    "duration": 42,
    "start_time": "2021-08-29T07:37:55.477Z"
   },
   {
    "duration": 22,
    "start_time": "2021-08-29T07:37:55.521Z"
   },
   {
    "duration": 4800,
    "start_time": "2021-08-29T07:37:55.546Z"
   },
   {
    "duration": 19,
    "start_time": "2021-08-29T07:38:00.348Z"
   },
   {
    "duration": 2814,
    "start_time": "2021-08-29T07:38:00.370Z"
   },
   {
    "duration": 18,
    "start_time": "2021-08-29T07:38:03.186Z"
   },
   {
    "duration": 22,
    "start_time": "2021-08-29T07:38:03.216Z"
   },
   {
    "duration": 21,
    "start_time": "2021-08-29T07:38:03.240Z"
   },
   {
    "duration": 14,
    "start_time": "2021-08-29T07:38:03.263Z"
   },
   {
    "duration": 38,
    "start_time": "2021-08-29T07:38:03.280Z"
   },
   {
    "duration": 3843,
    "start_time": "2021-08-29T07:38:03.320Z"
   },
   {
    "duration": 2702,
    "start_time": "2021-08-29T07:38:07.166Z"
   },
   {
    "duration": 55,
    "start_time": "2021-08-29T07:38:09.871Z"
   },
   {
    "duration": 15,
    "start_time": "2021-08-29T07:38:09.929Z"
   },
   {
    "duration": 11,
    "start_time": "2021-08-29T07:38:09.946Z"
   },
   {
    "duration": 4334,
    "start_time": "2021-08-29T07:38:09.960Z"
   },
   {
    "duration": 2903,
    "start_time": "2021-08-29T07:38:14.297Z"
   },
   {
    "duration": 44,
    "start_time": "2021-08-29T07:38:17.203Z"
   },
   {
    "duration": 13,
    "start_time": "2021-08-29T07:38:17.249Z"
   },
   {
    "duration": 4079,
    "start_time": "2021-08-29T07:38:17.265Z"
   },
   {
    "duration": 73,
    "start_time": "2021-08-29T07:38:21.346Z"
   },
   {
    "duration": 15,
    "start_time": "2021-08-29T07:38:21.421Z"
   },
   {
    "duration": 15,
    "start_time": "2021-08-29T07:38:21.438Z"
   },
   {
    "duration": 16,
    "start_time": "2021-08-29T07:38:21.455Z"
   },
   {
    "duration": 325,
    "start_time": "2021-08-29T07:38:21.473Z"
   },
   {
    "duration": 25,
    "start_time": "2021-08-29T07:38:21.801Z"
   },
   {
    "duration": 13,
    "start_time": "2021-08-29T07:38:21.829Z"
   },
   {
    "duration": 17,
    "start_time": "2021-08-29T07:38:21.844Z"
   },
   {
    "duration": 368,
    "start_time": "2021-08-29T07:38:21.864Z"
   },
   {
    "duration": 15,
    "start_time": "2021-08-29T07:38:22.234Z"
   },
   {
    "duration": 13,
    "start_time": "2021-08-29T07:38:22.251Z"
   },
   {
    "duration": 19,
    "start_time": "2021-08-29T07:38:22.266Z"
   },
   {
    "duration": 327,
    "start_time": "2021-08-29T07:38:22.316Z"
   },
   {
    "duration": 13,
    "start_time": "2021-08-29T07:38:22.645Z"
   },
   {
    "duration": 15,
    "start_time": "2021-08-29T07:38:22.661Z"
   },
   {
    "duration": 341,
    "start_time": "2021-08-29T07:38:22.678Z"
   },
   {
    "duration": 10,
    "start_time": "2021-08-29T07:38:23.021Z"
   },
   {
    "duration": 14,
    "start_time": "2021-08-29T07:38:23.033Z"
   },
   {
    "duration": 16,
    "start_time": "2021-08-29T07:38:23.050Z"
   },
   {
    "duration": 358,
    "start_time": "2021-08-29T07:38:23.069Z"
   },
   {
    "duration": 510,
    "start_time": "2021-08-29T07:38:23.430Z"
   },
   {
    "duration": 11,
    "start_time": "2021-08-29T07:38:54.985Z"
   },
   {
    "duration": 393,
    "start_time": "2021-08-29T07:39:01.185Z"
   },
   {
    "duration": 11,
    "start_time": "2021-08-29T07:39:24.988Z"
   },
   {
    "duration": 18,
    "start_time": "2021-08-29T08:21:35.355Z"
   },
   {
    "duration": 1220,
    "start_time": "2021-08-29T08:22:07.009Z"
   },
   {
    "duration": 564,
    "start_time": "2021-08-29T08:22:08.232Z"
   },
   {
    "duration": 4,
    "start_time": "2021-08-29T08:22:08.799Z"
   },
   {
    "duration": 48,
    "start_time": "2021-08-29T08:22:08.806Z"
   },
   {
    "duration": 214,
    "start_time": "2021-08-29T08:22:08.857Z"
   },
   {
    "duration": 13,
    "start_time": "2021-08-29T08:22:09.073Z"
   },
   {
    "duration": 669,
    "start_time": "2021-08-29T08:22:09.088Z"
   },
   {
    "duration": 33,
    "start_time": "2021-08-29T08:22:09.761Z"
   },
   {
    "duration": 24,
    "start_time": "2021-08-29T08:22:09.797Z"
   },
   {
    "duration": 133,
    "start_time": "2021-08-29T08:22:09.824Z"
   },
   {
    "duration": 57,
    "start_time": "2021-08-29T08:22:09.959Z"
   },
   {
    "duration": 103,
    "start_time": "2021-08-29T08:22:10.018Z"
   },
   {
    "duration": 17,
    "start_time": "2021-08-29T08:22:10.123Z"
   },
   {
    "duration": 24,
    "start_time": "2021-08-29T08:22:10.143Z"
   },
   {
    "duration": 49,
    "start_time": "2021-08-29T08:22:10.169Z"
   },
   {
    "duration": 17,
    "start_time": "2021-08-29T08:22:10.220Z"
   },
   {
    "duration": 2096,
    "start_time": "2021-08-29T08:22:10.240Z"
   },
   {
    "duration": 19,
    "start_time": "2021-08-29T08:22:12.338Z"
   },
   {
    "duration": 115,
    "start_time": "2021-08-29T08:22:12.359Z"
   },
   {
    "duration": 110,
    "start_time": "2021-08-29T08:22:12.476Z"
   },
   {
    "duration": 93,
    "start_time": "2021-08-29T08:22:12.588Z"
   },
   {
    "duration": 78,
    "start_time": "2021-08-29T08:22:12.684Z"
   },
   {
    "duration": 15,
    "start_time": "2021-08-29T08:22:12.768Z"
   },
   {
    "duration": 41,
    "start_time": "2021-08-29T08:22:12.787Z"
   },
   {
    "duration": 12,
    "start_time": "2021-08-29T08:22:12.830Z"
   },
   {
    "duration": 19,
    "start_time": "2021-08-29T08:22:12.844Z"
   },
   {
    "duration": 5016,
    "start_time": "2021-08-29T08:22:12.866Z"
   },
   {
    "duration": 18,
    "start_time": "2021-08-29T08:22:17.885Z"
   },
   {
    "duration": 2700,
    "start_time": "2021-08-29T08:22:17.916Z"
   },
   {
    "duration": 18,
    "start_time": "2021-08-29T08:22:20.618Z"
   },
   {
    "duration": 29,
    "start_time": "2021-08-29T08:22:20.638Z"
   },
   {
    "duration": 19,
    "start_time": "2021-08-29T08:22:20.670Z"
   },
   {
    "duration": 35,
    "start_time": "2021-08-29T08:22:20.692Z"
   },
   {
    "duration": 10,
    "start_time": "2021-08-29T08:22:20.730Z"
   },
   {
    "duration": 3742,
    "start_time": "2021-08-29T08:22:20.742Z"
   },
   {
    "duration": 2414,
    "start_time": "2021-08-29T08:22:24.487Z"
   },
   {
    "duration": 42,
    "start_time": "2021-08-29T08:22:26.904Z"
   },
   {
    "duration": 14,
    "start_time": "2021-08-29T08:22:26.949Z"
   },
   {
    "duration": 10,
    "start_time": "2021-08-29T08:22:26.966Z"
   },
   {
    "duration": 4325,
    "start_time": "2021-08-29T08:22:26.979Z"
   },
   {
    "duration": 3697,
    "start_time": "2021-08-29T08:22:31.306Z"
   },
   {
    "duration": 51,
    "start_time": "2021-08-29T08:22:35.005Z"
   },
   {
    "duration": 15,
    "start_time": "2021-08-29T08:22:35.060Z"
   },
   {
    "duration": 4178,
    "start_time": "2021-08-29T08:22:35.077Z"
   },
   {
    "duration": 67,
    "start_time": "2021-08-29T08:22:39.257Z"
   },
   {
    "duration": 15,
    "start_time": "2021-08-29T08:22:39.326Z"
   },
   {
    "duration": 14,
    "start_time": "2021-08-29T08:22:39.343Z"
   },
   {
    "duration": 14,
    "start_time": "2021-08-29T08:22:39.359Z"
   },
   {
    "duration": 422,
    "start_time": "2021-08-29T08:22:39.376Z"
   },
   {
    "duration": 20,
    "start_time": "2021-08-29T08:22:39.800Z"
   },
   {
    "duration": 13,
    "start_time": "2021-08-29T08:22:39.822Z"
   },
   {
    "duration": 15,
    "start_time": "2021-08-29T08:22:39.838Z"
   },
   {
    "duration": 385,
    "start_time": "2021-08-29T08:22:39.855Z"
   },
   {
    "duration": 14,
    "start_time": "2021-08-29T08:22:40.242Z"
   },
   {
    "duration": 15,
    "start_time": "2021-08-29T08:22:40.258Z"
   },
   {
    "duration": 43,
    "start_time": "2021-08-29T08:22:40.275Z"
   },
   {
    "duration": 324,
    "start_time": "2021-08-29T08:22:40.320Z"
   },
   {
    "duration": 13,
    "start_time": "2021-08-29T08:22:40.646Z"
   },
   {
    "duration": 13,
    "start_time": "2021-08-29T08:22:40.662Z"
   },
   {
    "duration": 337,
    "start_time": "2021-08-29T08:22:40.677Z"
   },
   {
    "duration": 10,
    "start_time": "2021-08-29T08:22:41.017Z"
   },
   {
    "duration": 14,
    "start_time": "2021-08-29T08:22:41.029Z"
   },
   {
    "duration": 13,
    "start_time": "2021-08-29T08:22:41.045Z"
   },
   {
    "duration": 355,
    "start_time": "2021-08-29T08:22:41.061Z"
   },
   {
    "duration": 10,
    "start_time": "2021-08-29T08:22:41.418Z"
   },
   {
    "duration": 1442,
    "start_time": "2021-08-29T09:20:09.385Z"
   },
   {
    "duration": 542,
    "start_time": "2021-08-29T09:20:10.830Z"
   },
   {
    "duration": 4,
    "start_time": "2021-08-29T09:20:11.375Z"
   },
   {
    "duration": 55,
    "start_time": "2021-08-29T09:20:11.382Z"
   },
   {
    "duration": 203,
    "start_time": "2021-08-29T09:20:11.440Z"
   },
   {
    "duration": 12,
    "start_time": "2021-08-29T09:20:11.646Z"
   },
   {
    "duration": 658,
    "start_time": "2021-08-29T09:20:11.661Z"
   },
   {
    "duration": 35,
    "start_time": "2021-08-29T09:20:12.323Z"
   },
   {
    "duration": 7,
    "start_time": "2021-08-29T09:20:12.361Z"
   },
   {
    "duration": 153,
    "start_time": "2021-08-29T09:20:12.371Z"
   },
   {
    "duration": 26,
    "start_time": "2021-08-29T09:20:12.526Z"
   },
   {
    "duration": 122,
    "start_time": "2021-08-29T09:20:12.555Z"
   },
   {
    "duration": 37,
    "start_time": "2021-08-29T09:20:12.680Z"
   },
   {
    "duration": 20,
    "start_time": "2021-08-29T09:20:12.720Z"
   },
   {
    "duration": 33,
    "start_time": "2021-08-29T09:20:12.743Z"
   },
   {
    "duration": 52,
    "start_time": "2021-08-29T09:20:12.779Z"
   },
   {
    "duration": 3154,
    "start_time": "2021-08-29T09:20:12.834Z"
   },
   {
    "duration": 157,
    "start_time": "2021-08-29T09:20:15.992Z"
   },
   {
    "duration": 153,
    "start_time": "2021-08-29T09:20:16.152Z"
   },
   {
    "duration": 124,
    "start_time": "2021-08-29T09:20:16.308Z"
   },
   {
    "duration": 128,
    "start_time": "2021-08-29T09:20:16.435Z"
   },
   {
    "duration": 20,
    "start_time": "2021-08-29T09:20:16.566Z"
   },
   {
    "duration": 46,
    "start_time": "2021-08-29T09:20:16.596Z"
   },
   {
    "duration": 13,
    "start_time": "2021-08-29T09:20:16.646Z"
   },
   {
    "duration": 57,
    "start_time": "2021-08-29T09:20:16.662Z"
   },
   {
    "duration": 7361,
    "start_time": "2021-08-29T09:20:16.722Z"
   },
   {
    "duration": 34,
    "start_time": "2021-08-29T09:20:24.086Z"
   },
   {
    "duration": 4235,
    "start_time": "2021-08-29T09:20:24.123Z"
   },
   {
    "duration": 27,
    "start_time": "2021-08-29T09:20:28.361Z"
   },
   {
    "duration": 48,
    "start_time": "2021-08-29T09:20:28.391Z"
   },
   {
    "duration": 31,
    "start_time": "2021-08-29T09:20:28.442Z"
   },
   {
    "duration": 48,
    "start_time": "2021-08-29T09:20:28.476Z"
   },
   {
    "duration": 12,
    "start_time": "2021-08-29T09:20:28.528Z"
   },
   {
    "duration": 3917,
    "start_time": "2021-08-29T09:20:28.542Z"
   },
   {
    "duration": 2589,
    "start_time": "2021-08-29T09:20:32.461Z"
   },
   {
    "duration": 38,
    "start_time": "2021-08-29T09:20:35.052Z"
   },
   {
    "duration": 34,
    "start_time": "2021-08-29T09:20:35.092Z"
   },
   {
    "duration": 15,
    "start_time": "2021-08-29T09:20:35.129Z"
   },
   {
    "duration": 4427,
    "start_time": "2021-08-29T09:20:35.146Z"
   },
   {
    "duration": 3277,
    "start_time": "2021-08-29T09:20:39.575Z"
   },
   {
    "duration": 47,
    "start_time": "2021-08-29T09:20:42.855Z"
   },
   {
    "duration": 18,
    "start_time": "2021-08-29T09:20:42.905Z"
   },
   {
    "duration": 4617,
    "start_time": "2021-08-29T09:20:42.925Z"
   },
   {
    "duration": 97,
    "start_time": "2021-08-29T09:20:47.546Z"
   },
   {
    "duration": 21,
    "start_time": "2021-08-29T09:20:47.646Z"
   },
   {
    "duration": 20,
    "start_time": "2021-08-29T09:20:47.670Z"
   },
   {
    "duration": 18,
    "start_time": "2021-08-29T09:20:47.718Z"
   },
   {
    "duration": 419,
    "start_time": "2021-08-29T09:20:47.739Z"
   },
   {
    "duration": 14,
    "start_time": "2021-08-29T09:20:48.161Z"
   },
   {
    "duration": 14,
    "start_time": "2021-08-29T09:20:48.178Z"
   },
   {
    "duration": 14,
    "start_time": "2021-08-29T09:20:48.217Z"
   },
   {
    "duration": 364,
    "start_time": "2021-08-29T09:20:48.233Z"
   },
   {
    "duration": 26,
    "start_time": "2021-08-29T09:20:48.599Z"
   },
   {
    "duration": 16,
    "start_time": "2021-08-29T09:20:48.628Z"
   },
   {
    "duration": 14,
    "start_time": "2021-08-29T09:20:48.646Z"
   },
   {
    "duration": 358,
    "start_time": "2021-08-29T09:20:48.662Z"
   },
   {
    "duration": 13,
    "start_time": "2021-08-29T09:20:49.022Z"
   },
   {
    "duration": 25,
    "start_time": "2021-08-29T09:20:49.037Z"
   },
   {
    "duration": 338,
    "start_time": "2021-08-29T09:20:49.064Z"
   },
   {
    "duration": 19,
    "start_time": "2021-08-29T09:20:49.404Z"
   },
   {
    "duration": 26,
    "start_time": "2021-08-29T09:20:49.426Z"
   },
   {
    "duration": 24,
    "start_time": "2021-08-29T09:20:49.456Z"
   },
   {
    "duration": 342,
    "start_time": "2021-08-29T09:20:49.482Z"
   },
   {
    "duration": 11,
    "start_time": "2021-08-29T09:20:49.826Z"
   },
   {
    "duration": 16,
    "start_time": "2021-08-29T09:29:06.413Z"
   },
   {
    "duration": 21,
    "start_time": "2021-08-29T09:29:30.584Z"
   },
   {
    "duration": 20,
    "start_time": "2021-08-29T09:30:05.118Z"
   },
   {
    "duration": 16,
    "start_time": "2021-08-29T09:30:36.442Z"
   },
   {
    "duration": 16,
    "start_time": "2021-08-29T09:30:42.526Z"
   },
   {
    "duration": 10428,
    "start_time": "2021-08-29T09:30:59.781Z"
   },
   {
    "duration": 147,
    "start_time": "2021-08-29T09:32:01.355Z"
   },
   {
    "duration": 16,
    "start_time": "2021-08-29T09:32:11.057Z"
   },
   {
    "duration": 17,
    "start_time": "2021-08-29T09:32:37.821Z"
   },
   {
    "duration": 17,
    "start_time": "2021-08-29T09:32:57.613Z"
   },
   {
    "duration": 16,
    "start_time": "2021-08-29T09:33:17.688Z"
   },
   {
    "duration": 1557,
    "start_time": "2021-08-29T10:01:22.926Z"
   },
   {
    "duration": 584,
    "start_time": "2021-08-29T10:01:24.485Z"
   },
   {
    "duration": 5,
    "start_time": "2021-08-29T10:01:25.074Z"
   },
   {
    "duration": 65,
    "start_time": "2021-08-29T10:01:25.081Z"
   },
   {
    "duration": 190,
    "start_time": "2021-08-29T10:01:25.148Z"
   },
   {
    "duration": 12,
    "start_time": "2021-08-29T10:01:25.340Z"
   },
   {
    "duration": 671,
    "start_time": "2021-08-29T10:01:25.354Z"
   },
   {
    "duration": 33,
    "start_time": "2021-08-29T10:01:26.029Z"
   },
   {
    "duration": 7,
    "start_time": "2021-08-29T10:01:26.065Z"
   },
   {
    "duration": 142,
    "start_time": "2021-08-29T10:01:26.075Z"
   },
   {
    "duration": 27,
    "start_time": "2021-08-29T10:01:26.219Z"
   },
   {
    "duration": 112,
    "start_time": "2021-08-29T10:01:26.249Z"
   },
   {
    "duration": 17,
    "start_time": "2021-08-29T10:01:26.363Z"
   },
   {
    "duration": 35,
    "start_time": "2021-08-29T10:01:26.382Z"
   },
   {
    "duration": 40,
    "start_time": "2021-08-29T10:01:26.420Z"
   },
   {
    "duration": 26,
    "start_time": "2021-08-29T10:01:26.463Z"
   },
   {
    "duration": 1982,
    "start_time": "2021-08-29T10:01:26.492Z"
   },
   {
    "duration": 111,
    "start_time": "2021-08-29T10:01:28.476Z"
   },
   {
    "duration": 111,
    "start_time": "2021-08-29T10:01:28.589Z"
   },
   {
    "duration": 83,
    "start_time": "2021-08-29T10:01:28.702Z"
   },
   {
    "duration": 92,
    "start_time": "2021-08-29T10:01:28.787Z"
   },
   {
    "duration": 35,
    "start_time": "2021-08-29T10:01:28.881Z"
   },
   {
    "duration": 20,
    "start_time": "2021-08-29T10:01:28.922Z"
   },
   {
    "duration": 17,
    "start_time": "2021-08-29T10:01:28.945Z"
   },
   {
    "duration": 28,
    "start_time": "2021-08-29T10:01:28.964Z"
   },
   {
    "duration": 4864,
    "start_time": "2021-08-29T10:01:28.995Z"
   },
   {
    "duration": 18,
    "start_time": "2021-08-29T10:01:33.861Z"
   },
   {
    "duration": 2949,
    "start_time": "2021-08-29T10:01:33.881Z"
   },
   {
    "duration": 18,
    "start_time": "2021-08-29T10:01:36.832Z"
   },
   {
    "duration": 22,
    "start_time": "2021-08-29T10:01:36.853Z"
   },
   {
    "duration": 51,
    "start_time": "2021-08-29T10:01:36.877Z"
   },
   {
    "duration": 15,
    "start_time": "2021-08-29T10:01:36.930Z"
   },
   {
    "duration": 10,
    "start_time": "2021-08-29T10:01:36.948Z"
   },
   {
    "duration": 4127,
    "start_time": "2021-08-29T10:01:36.961Z"
   },
   {
    "duration": 2442,
    "start_time": "2021-08-29T10:01:41.091Z"
   },
   {
    "duration": 37,
    "start_time": "2021-08-29T10:01:43.536Z"
   },
   {
    "duration": 15,
    "start_time": "2021-08-29T10:01:43.575Z"
   },
   {
    "duration": 31,
    "start_time": "2021-08-29T10:01:43.592Z"
   },
   {
    "duration": 4695,
    "start_time": "2021-08-29T10:01:43.626Z"
   },
   {
    "duration": 2892,
    "start_time": "2021-08-29T10:01:48.324Z"
   },
   {
    "duration": 39,
    "start_time": "2021-08-29T10:01:51.218Z"
   },
   {
    "duration": 14,
    "start_time": "2021-08-29T10:01:51.259Z"
   },
   {
    "duration": 4244,
    "start_time": "2021-08-29T10:01:51.275Z"
   },
   {
    "duration": 54,
    "start_time": "2021-08-29T10:01:55.521Z"
   },
   {
    "duration": 42,
    "start_time": "2021-08-29T10:01:55.577Z"
   },
   {
    "duration": 21,
    "start_time": "2021-08-29T10:01:55.621Z"
   },
   {
    "duration": 16,
    "start_time": "2021-08-29T10:01:55.644Z"
   },
   {
    "duration": 330,
    "start_time": "2021-08-29T10:01:55.662Z"
   },
   {
    "duration": 28,
    "start_time": "2021-08-29T10:01:55.994Z"
   },
   {
    "duration": 12,
    "start_time": "2021-08-29T10:01:56.025Z"
   },
   {
    "duration": 15,
    "start_time": "2021-08-29T10:01:56.039Z"
   },
   {
    "duration": 387,
    "start_time": "2021-08-29T10:01:56.056Z"
   },
   {
    "duration": 23,
    "start_time": "2021-08-29T10:01:56.446Z"
   },
   {
    "duration": 18,
    "start_time": "2021-08-29T10:01:56.472Z"
   },
   {
    "duration": 38,
    "start_time": "2021-08-29T10:01:56.493Z"
   },
   {
    "duration": 327,
    "start_time": "2021-08-29T10:01:56.534Z"
   },
   {
    "duration": 16,
    "start_time": "2021-08-29T10:01:56.863Z"
   },
   {
    "duration": 40,
    "start_time": "2021-08-29T10:01:56.881Z"
   },
   {
    "duration": 325,
    "start_time": "2021-08-29T10:01:56.923Z"
   },
   {
    "duration": 10,
    "start_time": "2021-08-29T10:01:57.251Z"
   },
   {
    "duration": 18,
    "start_time": "2021-08-29T10:01:57.265Z"
   },
   {
    "duration": 46,
    "start_time": "2021-08-29T10:01:57.286Z"
   },
   {
    "duration": 333,
    "start_time": "2021-08-29T10:01:57.335Z"
   },
   {
    "duration": 11,
    "start_time": "2021-08-29T10:01:57.671Z"
   },
   {
    "duration": 1616,
    "start_time": "2021-08-29T10:02:45.920Z"
   },
   {
    "duration": 683,
    "start_time": "2021-08-29T10:02:47.540Z"
   },
   {
    "duration": 5,
    "start_time": "2021-08-29T10:02:48.228Z"
   },
   {
    "duration": 90,
    "start_time": "2021-08-29T10:02:48.238Z"
   },
   {
    "duration": 290,
    "start_time": "2021-08-29T10:02:48.331Z"
   },
   {
    "duration": 18,
    "start_time": "2021-08-29T10:02:48.624Z"
   },
   {
    "duration": 1059,
    "start_time": "2021-08-29T10:02:48.646Z"
   },
   {
    "duration": 54,
    "start_time": "2021-08-29T10:02:49.715Z"
   },
   {
    "duration": 10,
    "start_time": "2021-08-29T10:02:49.773Z"
   },
   {
    "duration": 150,
    "start_time": "2021-08-29T10:02:49.785Z"
   },
   {
    "duration": 28,
    "start_time": "2021-08-29T10:02:49.938Z"
   },
   {
    "duration": 162,
    "start_time": "2021-08-29T10:02:49.969Z"
   },
   {
    "duration": 18,
    "start_time": "2021-08-29T10:02:50.134Z"
   },
   {
    "duration": 29,
    "start_time": "2021-08-29T10:02:50.154Z"
   },
   {
    "duration": 46,
    "start_time": "2021-08-29T10:02:50.186Z"
   },
   {
    "duration": 30,
    "start_time": "2021-08-29T10:02:50.234Z"
   },
   {
    "duration": 2121,
    "start_time": "2021-08-29T10:02:50.266Z"
   },
   {
    "duration": 120,
    "start_time": "2021-08-29T10:02:52.389Z"
   },
   {
    "duration": 112,
    "start_time": "2021-08-29T10:02:52.511Z"
   },
   {
    "duration": 91,
    "start_time": "2021-08-29T10:02:52.626Z"
   },
   {
    "duration": 97,
    "start_time": "2021-08-29T10:02:52.721Z"
   },
   {
    "duration": 18,
    "start_time": "2021-08-29T10:02:52.821Z"
   },
   {
    "duration": 69,
    "start_time": "2021-08-29T10:02:52.847Z"
   },
   {
    "duration": 294,
    "start_time": "2021-08-29T10:02:52.921Z"
   },
   {
    "duration": 120,
    "start_time": "2021-08-29T10:02:53.218Z"
   },
   {
    "duration": 4845,
    "start_time": "2021-08-29T10:02:53.341Z"
   },
   {
    "duration": 17,
    "start_time": "2021-08-29T10:02:58.189Z"
   },
   {
    "duration": 2942,
    "start_time": "2021-08-29T10:02:58.217Z"
   },
   {
    "duration": 29,
    "start_time": "2021-08-29T10:03:01.163Z"
   },
   {
    "duration": 56,
    "start_time": "2021-08-29T10:03:01.195Z"
   },
   {
    "duration": 34,
    "start_time": "2021-08-29T10:03:01.254Z"
   },
   {
    "duration": 38,
    "start_time": "2021-08-29T10:03:01.292Z"
   },
   {
    "duration": 29,
    "start_time": "2021-08-29T10:03:01.333Z"
   },
   {
    "duration": 6442,
    "start_time": "2021-08-29T10:03:01.365Z"
   },
   {
    "duration": 3929,
    "start_time": "2021-08-29T10:03:07.810Z"
   },
   {
    "duration": 74,
    "start_time": "2021-08-29T10:03:11.742Z"
   },
   {
    "duration": 21,
    "start_time": "2021-08-29T10:03:11.819Z"
   },
   {
    "duration": 15,
    "start_time": "2021-08-29T10:03:11.843Z"
   },
   {
    "duration": 6157,
    "start_time": "2021-08-29T10:03:11.861Z"
   },
   {
    "duration": 2989,
    "start_time": "2021-08-29T10:03:18.021Z"
   },
   {
    "duration": 39,
    "start_time": "2021-08-29T10:03:21.013Z"
   },
   {
    "duration": 15,
    "start_time": "2021-08-29T10:03:21.054Z"
   },
   {
    "duration": 4165,
    "start_time": "2021-08-29T10:03:21.071Z"
   },
   {
    "duration": 82,
    "start_time": "2021-08-29T10:03:25.238Z"
   },
   {
    "duration": 15,
    "start_time": "2021-08-29T10:03:25.323Z"
   },
   {
    "duration": 16,
    "start_time": "2021-08-29T10:03:25.342Z"
   },
   {
    "duration": 14,
    "start_time": "2021-08-29T10:03:25.361Z"
   },
   {
    "duration": 310,
    "start_time": "2021-08-29T10:03:25.416Z"
   },
   {
    "duration": 15,
    "start_time": "2021-08-29T10:03:25.728Z"
   },
   {
    "duration": 13,
    "start_time": "2021-08-29T10:03:25.746Z"
   },
   {
    "duration": 12,
    "start_time": "2021-08-29T10:03:25.761Z"
   },
   {
    "duration": 356,
    "start_time": "2021-08-29T10:03:25.776Z"
   },
   {
    "duration": 15,
    "start_time": "2021-08-29T10:03:26.134Z"
   },
   {
    "duration": 18,
    "start_time": "2021-08-29T10:03:26.152Z"
   },
   {
    "duration": 12,
    "start_time": "2021-08-29T10:03:26.173Z"
   },
   {
    "duration": 329,
    "start_time": "2021-08-29T10:03:26.218Z"
   },
   {
    "duration": 18,
    "start_time": "2021-08-29T10:03:26.549Z"
   },
   {
    "duration": 18,
    "start_time": "2021-08-29T10:03:26.569Z"
   },
   {
    "duration": 339,
    "start_time": "2021-08-29T10:03:26.589Z"
   },
   {
    "duration": 11,
    "start_time": "2021-08-29T10:03:26.931Z"
   },
   {
    "duration": 16,
    "start_time": "2021-08-29T10:03:26.945Z"
   },
   {
    "duration": 21,
    "start_time": "2021-08-29T10:03:26.963Z"
   },
   {
    "duration": 325,
    "start_time": "2021-08-29T10:03:27.017Z"
   },
   {
    "duration": 11,
    "start_time": "2021-08-29T10:03:27.345Z"
   },
   {
    "duration": 1217,
    "start_time": "2021-08-30T06:09:33.103Z"
   },
   {
    "duration": 512,
    "start_time": "2021-08-30T06:09:34.323Z"
   },
   {
    "duration": 5,
    "start_time": "2021-08-30T06:09:34.838Z"
   },
   {
    "duration": 47,
    "start_time": "2021-08-30T06:09:34.845Z"
   },
   {
    "duration": 193,
    "start_time": "2021-08-30T06:09:34.894Z"
   },
   {
    "duration": 12,
    "start_time": "2021-08-30T06:09:35.090Z"
   },
   {
    "duration": 626,
    "start_time": "2021-08-30T06:09:35.105Z"
   },
   {
    "duration": 31,
    "start_time": "2021-08-30T06:09:35.734Z"
   },
   {
    "duration": 7,
    "start_time": "2021-08-30T06:09:35.784Z"
   },
   {
    "duration": 126,
    "start_time": "2021-08-30T06:09:35.794Z"
   },
   {
    "duration": 29,
    "start_time": "2021-08-30T06:09:35.922Z"
   },
   {
    "duration": 109,
    "start_time": "2021-08-30T06:09:35.954Z"
   },
   {
    "duration": 30,
    "start_time": "2021-08-30T06:09:36.066Z"
   },
   {
    "duration": 18,
    "start_time": "2021-08-30T06:09:36.099Z"
   },
   {
    "duration": 28,
    "start_time": "2021-08-30T06:09:36.119Z"
   },
   {
    "duration": 43,
    "start_time": "2021-08-30T06:09:36.150Z"
   },
   {
    "duration": 1989,
    "start_time": "2021-08-30T06:09:36.196Z"
   },
   {
    "duration": 117,
    "start_time": "2021-08-30T06:09:38.187Z"
   },
   {
    "duration": 111,
    "start_time": "2021-08-30T06:09:38.307Z"
   },
   {
    "duration": 102,
    "start_time": "2021-08-30T06:09:38.421Z"
   },
   {
    "duration": 111,
    "start_time": "2021-08-30T06:09:38.526Z"
   },
   {
    "duration": 15,
    "start_time": "2021-08-30T06:09:38.639Z"
   },
   {
    "duration": 37,
    "start_time": "2021-08-30T06:09:38.657Z"
   },
   {
    "duration": 10,
    "start_time": "2021-08-30T06:09:38.696Z"
   },
   {
    "duration": 20,
    "start_time": "2021-08-30T06:09:38.709Z"
   },
   {
    "duration": 4579,
    "start_time": "2021-08-30T06:09:38.731Z"
   },
   {
    "duration": 22,
    "start_time": "2021-08-30T06:09:43.315Z"
   },
   {
    "duration": 2664,
    "start_time": "2021-08-30T06:09:43.340Z"
   },
   {
    "duration": 17,
    "start_time": "2021-08-30T06:09:46.006Z"
   },
   {
    "duration": 22,
    "start_time": "2021-08-30T06:09:46.025Z"
   },
   {
    "duration": 47,
    "start_time": "2021-08-30T06:09:46.050Z"
   },
   {
    "duration": 14,
    "start_time": "2021-08-30T06:09:46.100Z"
   },
   {
    "duration": 10,
    "start_time": "2021-08-30T06:09:46.116Z"
   },
   {
    "duration": 3670,
    "start_time": "2021-08-30T06:09:46.129Z"
   },
   {
    "duration": 2343,
    "start_time": "2021-08-30T06:09:49.802Z"
   },
   {
    "duration": 54,
    "start_time": "2021-08-30T06:09:52.148Z"
   },
   {
    "duration": 14,
    "start_time": "2021-08-30T06:09:52.204Z"
   },
   {
    "duration": 9,
    "start_time": "2021-08-30T06:09:52.221Z"
   },
   {
    "duration": 4236,
    "start_time": "2021-08-30T06:09:52.232Z"
   },
   {
    "duration": 2732,
    "start_time": "2021-08-30T06:09:56.470Z"
   },
   {
    "duration": 38,
    "start_time": "2021-08-30T06:09:59.204Z"
   },
   {
    "duration": 37,
    "start_time": "2021-08-30T06:09:59.245Z"
   },
   {
    "duration": 4051,
    "start_time": "2021-08-30T06:09:59.284Z"
   },
   {
    "duration": 65,
    "start_time": "2021-08-30T06:10:03.338Z"
   },
   {
    "duration": 12,
    "start_time": "2021-08-30T06:10:03.406Z"
   },
   {
    "duration": 23,
    "start_time": "2021-08-30T06:10:03.421Z"
   },
   {
    "duration": 18,
    "start_time": "2021-08-30T06:10:03.446Z"
   },
   {
    "duration": 305,
    "start_time": "2021-08-30T06:10:03.483Z"
   },
   {
    "duration": 12,
    "start_time": "2021-08-30T06:10:03.791Z"
   },
   {
    "duration": 15,
    "start_time": "2021-08-30T06:10:03.806Z"
   },
   {
    "duration": 30,
    "start_time": "2021-08-30T06:10:03.823Z"
   },
   {
    "duration": 327,
    "start_time": "2021-08-30T06:10:03.855Z"
   },
   {
    "duration": 15,
    "start_time": "2021-08-30T06:10:04.185Z"
   },
   {
    "duration": 18,
    "start_time": "2021-08-30T06:10:04.203Z"
   },
   {
    "duration": 15,
    "start_time": "2021-08-30T06:10:04.223Z"
   },
   {
    "duration": 337,
    "start_time": "2021-08-30T06:10:04.240Z"
   },
   {
    "duration": 15,
    "start_time": "2021-08-30T06:10:04.583Z"
   },
   {
    "duration": 16,
    "start_time": "2021-08-30T06:10:04.600Z"
   },
   {
    "duration": 332,
    "start_time": "2021-08-30T06:10:04.618Z"
   },
   {
    "duration": 10,
    "start_time": "2021-08-30T06:10:04.953Z"
   },
   {
    "duration": 28,
    "start_time": "2021-08-30T06:10:04.966Z"
   },
   {
    "duration": 27,
    "start_time": "2021-08-30T06:10:04.996Z"
   },
   {
    "duration": 338,
    "start_time": "2021-08-30T06:10:05.026Z"
   },
   {
    "duration": 16,
    "start_time": "2021-08-30T06:10:05.367Z"
   },
   {
    "duration": 27,
    "start_time": "2021-08-30T06:19:16.951Z"
   },
   {
    "duration": 34,
    "start_time": "2021-08-30T06:20:10.651Z"
   },
   {
    "duration": 22,
    "start_time": "2021-08-30T06:20:52.483Z"
   },
   {
    "duration": 30,
    "start_time": "2021-08-30T06:21:36.431Z"
   },
   {
    "duration": 28,
    "start_time": "2021-08-30T06:24:01.953Z"
   },
   {
    "duration": 5524,
    "start_time": "2021-08-30T06:28:34.338Z"
   },
   {
    "duration": 708,
    "start_time": "2021-08-30T06:28:50.675Z"
   },
   {
    "duration": 735,
    "start_time": "2021-08-30T06:29:21.788Z"
   },
   {
    "duration": 1591,
    "start_time": "2021-08-30T06:30:46.138Z"
   },
   {
    "duration": 223,
    "start_time": "2021-08-30T06:31:10.974Z"
   },
   {
    "duration": 45,
    "start_time": "2021-08-30T06:31:16.086Z"
   },
   {
    "duration": 58,
    "start_time": "2021-08-30T06:32:06.184Z"
   },
   {
    "duration": 36,
    "start_time": "2021-08-30T06:32:18.338Z"
   },
   {
    "duration": 23,
    "start_time": "2021-08-30T06:32:26.683Z"
   },
   {
    "duration": 935,
    "start_time": "2021-08-30T17:23:58.122Z"
   },
   {
    "duration": 484,
    "start_time": "2021-08-30T17:24:15.162Z"
   },
   {
    "duration": 424,
    "start_time": "2021-08-30T17:24:21.961Z"
   },
   {
    "duration": 4,
    "start_time": "2021-08-30T17:24:23.095Z"
   },
   {
    "duration": 1261,
    "start_time": "2021-08-30T17:24:27.272Z"
   },
   {
    "duration": 838,
    "start_time": "2021-08-30T17:24:28.536Z"
   },
   {
    "duration": 4,
    "start_time": "2021-08-30T17:24:30.566Z"
   },
   {
    "duration": 48,
    "start_time": "2021-08-30T17:24:36.478Z"
   },
   {
    "duration": 202,
    "start_time": "2021-08-30T17:24:39.943Z"
   },
   {
    "duration": 18,
    "start_time": "2021-08-30T17:24:44.022Z"
   },
   {
    "duration": 1480,
    "start_time": "2021-08-30T17:24:45.280Z"
   },
   {
    "duration": 824,
    "start_time": "2021-08-30T17:25:16.096Z"
   }
  ],
  "kernelspec": {
   "display_name": "Python 3 (ipykernel)",
   "language": "python",
   "name": "python3"
  },
  "language_info": {
   "codemirror_mode": {
    "name": "ipython",
    "version": 3
   },
   "file_extension": ".py",
   "mimetype": "text/x-python",
   "name": "python",
   "nbconvert_exporter": "python",
   "pygments_lexer": "ipython3",
   "version": "3.9.7"
  },
  "toc": {
   "base_numbering": 1,
   "nav_menu": {},
   "number_sections": true,
   "sideBar": true,
   "skip_h1_title": true,
   "title_cell": "Table of Contents",
   "title_sidebar": "Contents",
   "toc_cell": false,
   "toc_position": {},
   "toc_section_display": true,
   "toc_window_display": false
  }
 },
 "nbformat": 4,
 "nbformat_minor": 2
}
