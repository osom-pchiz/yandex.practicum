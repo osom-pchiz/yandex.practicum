{
 "cells": [
  {
   "cell_type": "markdown",
   "metadata": {},
   "source": [
    "# Определение стоимости автомобилей"
   ]
  },
  {
   "cell_type": "markdown",
   "metadata": {},
   "source": [
    "Сервис по продаже автомобилей с пробегом «Не бит, не крашен» разрабатывает приложение для привлечения новых клиентов. В нём можно быстро узнать рыночную стоимость своего автомобиля. В вашем распоряжении исторические данные: технические характеристики, комплектации и цены автомобилей. Вам нужно построить модель для определения стоимости. \n",
    "\n",
    "Заказчику важны:\n",
    "\n",
    "- качество предсказания;\n",
    "- скорость предсказания;\n",
    "- время обучения."
   ]
  },
  {
   "cell_type": "markdown",
   "metadata": {},
   "source": [
    "<h1>Содержание</h1>\n",
    "<li><span><a href=\"#Подготовка-данных\" data-toc-modified-id=\"Подготовка-данных-1\"><span class=\"toc-item-num\">1&nbsp;&nbsp;</span>Подготовка данных</a></span></li>\n",
    "<li><span><a href=\"#Анализ-датасета\" data-toc-modified-id=\"Анализ-датасета-1.1\"><span class=\"toc-item-num\">1.1&nbsp;&nbsp;</span>Анализ датасета</a></span></li>\n",
    "<li><span><a href=\"#Предобработка-данных\" data-toc-modified-id=\"Предобработка-данных-1.2\"><span class=\"toc-item-num\">1.2&nbsp;&nbsp;</span>Предобработка данных</a></span></li>\n",
    "<li><span><a href=\"#Предобработка-данных-для-модели\" data-toc-modified-id=\"Предобработка-данных-для-модели-1.3\"><span class=\"toc-item-num\">1.3&nbsp;&nbsp;</span>Предобработка данных для модели</a></span></li>\n",
    "<li><span><a href=\"#Вывод-по-разделу\" data-toc-modified-id=\"Вывод-по-разделу-1.4\"><span class=\"toc-item-num\">1.4&nbsp;&nbsp;</span>Вывод по разделу</a></span></li>\n",
    "<li><span><a href=\"#Обучение-моделей\" data-toc-modified-id=\"Обучение-моделей-2\"><span class=\"toc-item-num\">2&nbsp;&nbsp;</span>Обучение моделей</a></span></li>\n",
    "<li><span><a href=\"#Разбивка-данных-на-выборки\" data-toc-modified-id=\"Разбивка-данных-на-выборки-2.1\"><span class=\"toc-item-num\">2.1&nbsp;&nbsp;</span>Разбивка данных на выборки</a></span></li>\n",
    "<li><span><a href=\"#Обучение-простых-моделей\" data-toc-modified-id=\"Обучение-простых-моделей-2.2\"><span class=\"toc-item-num\">2.2&nbsp;&nbsp;</span>Обучение простых моделей</a></span></li>\n",
    "<li><span><a href=\"#Обучение-простых-моделей\" data-toc-modified-id=\"Обучение-простых-моделей-2.2\"><span class=\"toc-item-num\">2.2&nbsp;&nbsp;</span>Обучение простых моделей</a></span></li>\n",
    "<li><span><a href=\"#Обучение-модели-градиентного-бустинга\" data-toc-modified-id=\"Обучение-модели-градиентного-бустинга-2.3\"><span class=\"toc-item-num\">2.3&nbsp;&nbsp;</span>Обучение модели градиентного бустинга</a></span></li>\n",
    "<li><span><a href=\"#Анализ-моделей\" data-toc-modified-id=\"Анализ-моделей-3\"><span class=\"toc-item-num\">3&nbsp;&nbsp;</span>Анализ моделей</a></span></li>\n",
    "<li><span><a href=\"#Анализ-важности-признаков\" data-toc-modified-id=\"Анализ-важности-признаков-3.1\"><span class=\"toc-item-num\">3.1&nbsp;&nbsp;</span>Анализ важности признаков</a></span></li>\n",
    "<li><span><a href=\"#Чек-лист-проверки\" data-toc-modified-id=\"Чек-лист-проверки-4\"><span class=\"toc-item-num\">4&nbsp;&nbsp;</span>Чек-лист проверки</a></span></li>"
   ]
  },
  {
   "cell_type": "markdown",
   "metadata": {},
   "source": [
    "## Подготовка данных\n",
    "[К содержанию](#Содержание)"
   ]
  },
  {
   "cell_type": "code",
   "execution_count": 1,
   "metadata": {},
   "outputs": [],
   "source": [
    "#библиотеки\n",
    "import pandas as pd\n",
    "import numpy as np\n",
    "import lightgbm as lgb\n",
    "#всякое\n",
    "from sklearn.preprocessing import OrdinalEncoder\n",
    "from sklearn.model_selection import train_test_split\n",
    "from sklearn.model_selection import GridSearchCV\n",
    "#модели\n",
    "from sklearn.tree import DecisionTreeRegressor\n",
    "from sklearn.ensemble import RandomForestRegressor\n",
    "from sklearn.linear_model import LinearRegression\n",
    "from lightgbm import LGBMRegressor\n",
    "#метрики\n",
    "from sklearn.metrics import mean_squared_error\n",
    "#константы\n",
    "RS = 12345"
   ]
  },
  {
   "cell_type": "markdown",
   "metadata": {},
   "source": [
    "### Анализ датасета\n",
    "[К содержанию](#Содержание)"
   ]
  },
  {
   "cell_type": "code",
   "execution_count": 2,
   "metadata": {},
   "outputs": [
    {
     "name": "stdout",
     "output_type": "stream",
     "text": [
      "<class 'pandas.core.frame.DataFrame'>\n",
      "RangeIndex: 354369 entries, 0 to 354368\n",
      "Data columns (total 16 columns):\n",
      "DateCrawled          354369 non-null object\n",
      "Price                354369 non-null int64\n",
      "VehicleType          316879 non-null object\n",
      "RegistrationYear     354369 non-null int64\n",
      "Gearbox              334536 non-null object\n",
      "Power                354369 non-null int64\n",
      "Model                334664 non-null object\n",
      "Kilometer            354369 non-null int64\n",
      "RegistrationMonth    354369 non-null int64\n",
      "FuelType             321474 non-null object\n",
      "Brand                354369 non-null object\n",
      "NotRepaired          283215 non-null object\n",
      "DateCreated          354369 non-null object\n",
      "NumberOfPictures     354369 non-null int64\n",
      "PostalCode           354369 non-null int64\n",
      "LastSeen             354369 non-null object\n",
      "dtypes: int64(7), object(9)\n",
      "memory usage: 43.3+ MB\n"
     ]
    }
   ],
   "source": [
    "data = pd.read_csv('/datasets/autos.csv')\n",
    "data.info()"
   ]
  },
  {
   "cell_type": "code",
   "execution_count": 3,
   "metadata": {},
   "outputs": [
    {
     "data": {
      "text/html": [
       "<div>\n",
       "<style scoped>\n",
       "    .dataframe tbody tr th:only-of-type {\n",
       "        vertical-align: middle;\n",
       "    }\n",
       "\n",
       "    .dataframe tbody tr th {\n",
       "        vertical-align: top;\n",
       "    }\n",
       "\n",
       "    .dataframe thead th {\n",
       "        text-align: right;\n",
       "    }\n",
       "</style>\n",
       "<table border=\"1\" class=\"dataframe\">\n",
       "  <thead>\n",
       "    <tr style=\"text-align: right;\">\n",
       "      <th></th>\n",
       "      <th>DateCrawled</th>\n",
       "      <th>Price</th>\n",
       "      <th>VehicleType</th>\n",
       "      <th>RegistrationYear</th>\n",
       "      <th>Gearbox</th>\n",
       "      <th>Power</th>\n",
       "      <th>Model</th>\n",
       "      <th>Kilometer</th>\n",
       "      <th>RegistrationMonth</th>\n",
       "      <th>FuelType</th>\n",
       "      <th>Brand</th>\n",
       "      <th>NotRepaired</th>\n",
       "      <th>DateCreated</th>\n",
       "      <th>NumberOfPictures</th>\n",
       "      <th>PostalCode</th>\n",
       "      <th>LastSeen</th>\n",
       "    </tr>\n",
       "  </thead>\n",
       "  <tbody>\n",
       "    <tr>\n",
       "      <td>0</td>\n",
       "      <td>2016-03-24 11:52:17</td>\n",
       "      <td>480</td>\n",
       "      <td>NaN</td>\n",
       "      <td>1993</td>\n",
       "      <td>manual</td>\n",
       "      <td>0</td>\n",
       "      <td>golf</td>\n",
       "      <td>150000</td>\n",
       "      <td>0</td>\n",
       "      <td>petrol</td>\n",
       "      <td>volkswagen</td>\n",
       "      <td>NaN</td>\n",
       "      <td>2016-03-24 00:00:00</td>\n",
       "      <td>0</td>\n",
       "      <td>70435</td>\n",
       "      <td>2016-04-07 03:16:57</td>\n",
       "    </tr>\n",
       "    <tr>\n",
       "      <td>1</td>\n",
       "      <td>2016-03-24 10:58:45</td>\n",
       "      <td>18300</td>\n",
       "      <td>coupe</td>\n",
       "      <td>2011</td>\n",
       "      <td>manual</td>\n",
       "      <td>190</td>\n",
       "      <td>NaN</td>\n",
       "      <td>125000</td>\n",
       "      <td>5</td>\n",
       "      <td>gasoline</td>\n",
       "      <td>audi</td>\n",
       "      <td>yes</td>\n",
       "      <td>2016-03-24 00:00:00</td>\n",
       "      <td>0</td>\n",
       "      <td>66954</td>\n",
       "      <td>2016-04-07 01:46:50</td>\n",
       "    </tr>\n",
       "    <tr>\n",
       "      <td>2</td>\n",
       "      <td>2016-03-14 12:52:21</td>\n",
       "      <td>9800</td>\n",
       "      <td>suv</td>\n",
       "      <td>2004</td>\n",
       "      <td>auto</td>\n",
       "      <td>163</td>\n",
       "      <td>grand</td>\n",
       "      <td>125000</td>\n",
       "      <td>8</td>\n",
       "      <td>gasoline</td>\n",
       "      <td>jeep</td>\n",
       "      <td>NaN</td>\n",
       "      <td>2016-03-14 00:00:00</td>\n",
       "      <td>0</td>\n",
       "      <td>90480</td>\n",
       "      <td>2016-04-05 12:47:46</td>\n",
       "    </tr>\n",
       "    <tr>\n",
       "      <td>3</td>\n",
       "      <td>2016-03-17 16:54:04</td>\n",
       "      <td>1500</td>\n",
       "      <td>small</td>\n",
       "      <td>2001</td>\n",
       "      <td>manual</td>\n",
       "      <td>75</td>\n",
       "      <td>golf</td>\n",
       "      <td>150000</td>\n",
       "      <td>6</td>\n",
       "      <td>petrol</td>\n",
       "      <td>volkswagen</td>\n",
       "      <td>no</td>\n",
       "      <td>2016-03-17 00:00:00</td>\n",
       "      <td>0</td>\n",
       "      <td>91074</td>\n",
       "      <td>2016-03-17 17:40:17</td>\n",
       "    </tr>\n",
       "    <tr>\n",
       "      <td>4</td>\n",
       "      <td>2016-03-31 17:25:20</td>\n",
       "      <td>3600</td>\n",
       "      <td>small</td>\n",
       "      <td>2008</td>\n",
       "      <td>manual</td>\n",
       "      <td>69</td>\n",
       "      <td>fabia</td>\n",
       "      <td>90000</td>\n",
       "      <td>7</td>\n",
       "      <td>gasoline</td>\n",
       "      <td>skoda</td>\n",
       "      <td>no</td>\n",
       "      <td>2016-03-31 00:00:00</td>\n",
       "      <td>0</td>\n",
       "      <td>60437</td>\n",
       "      <td>2016-04-06 10:17:21</td>\n",
       "    </tr>\n",
       "    <tr>\n",
       "      <td>...</td>\n",
       "      <td>...</td>\n",
       "      <td>...</td>\n",
       "      <td>...</td>\n",
       "      <td>...</td>\n",
       "      <td>...</td>\n",
       "      <td>...</td>\n",
       "      <td>...</td>\n",
       "      <td>...</td>\n",
       "      <td>...</td>\n",
       "      <td>...</td>\n",
       "      <td>...</td>\n",
       "      <td>...</td>\n",
       "      <td>...</td>\n",
       "      <td>...</td>\n",
       "      <td>...</td>\n",
       "      <td>...</td>\n",
       "    </tr>\n",
       "    <tr>\n",
       "      <td>354364</td>\n",
       "      <td>2016-03-21 09:50:58</td>\n",
       "      <td>0</td>\n",
       "      <td>NaN</td>\n",
       "      <td>2005</td>\n",
       "      <td>manual</td>\n",
       "      <td>0</td>\n",
       "      <td>colt</td>\n",
       "      <td>150000</td>\n",
       "      <td>7</td>\n",
       "      <td>petrol</td>\n",
       "      <td>mitsubishi</td>\n",
       "      <td>yes</td>\n",
       "      <td>2016-03-21 00:00:00</td>\n",
       "      <td>0</td>\n",
       "      <td>2694</td>\n",
       "      <td>2016-03-21 10:42:49</td>\n",
       "    </tr>\n",
       "    <tr>\n",
       "      <td>354365</td>\n",
       "      <td>2016-03-14 17:48:27</td>\n",
       "      <td>2200</td>\n",
       "      <td>NaN</td>\n",
       "      <td>2005</td>\n",
       "      <td>NaN</td>\n",
       "      <td>0</td>\n",
       "      <td>NaN</td>\n",
       "      <td>20000</td>\n",
       "      <td>1</td>\n",
       "      <td>NaN</td>\n",
       "      <td>sonstige_autos</td>\n",
       "      <td>NaN</td>\n",
       "      <td>2016-03-14 00:00:00</td>\n",
       "      <td>0</td>\n",
       "      <td>39576</td>\n",
       "      <td>2016-04-06 00:46:52</td>\n",
       "    </tr>\n",
       "    <tr>\n",
       "      <td>354366</td>\n",
       "      <td>2016-03-05 19:56:21</td>\n",
       "      <td>1199</td>\n",
       "      <td>convertible</td>\n",
       "      <td>2000</td>\n",
       "      <td>auto</td>\n",
       "      <td>101</td>\n",
       "      <td>fortwo</td>\n",
       "      <td>125000</td>\n",
       "      <td>3</td>\n",
       "      <td>petrol</td>\n",
       "      <td>smart</td>\n",
       "      <td>no</td>\n",
       "      <td>2016-03-05 00:00:00</td>\n",
       "      <td>0</td>\n",
       "      <td>26135</td>\n",
       "      <td>2016-03-11 18:17:12</td>\n",
       "    </tr>\n",
       "    <tr>\n",
       "      <td>354367</td>\n",
       "      <td>2016-03-19 18:57:12</td>\n",
       "      <td>9200</td>\n",
       "      <td>bus</td>\n",
       "      <td>1996</td>\n",
       "      <td>manual</td>\n",
       "      <td>102</td>\n",
       "      <td>transporter</td>\n",
       "      <td>150000</td>\n",
       "      <td>3</td>\n",
       "      <td>gasoline</td>\n",
       "      <td>volkswagen</td>\n",
       "      <td>no</td>\n",
       "      <td>2016-03-19 00:00:00</td>\n",
       "      <td>0</td>\n",
       "      <td>87439</td>\n",
       "      <td>2016-04-07 07:15:26</td>\n",
       "    </tr>\n",
       "    <tr>\n",
       "      <td>354368</td>\n",
       "      <td>2016-03-20 19:41:08</td>\n",
       "      <td>3400</td>\n",
       "      <td>wagon</td>\n",
       "      <td>2002</td>\n",
       "      <td>manual</td>\n",
       "      <td>100</td>\n",
       "      <td>golf</td>\n",
       "      <td>150000</td>\n",
       "      <td>6</td>\n",
       "      <td>gasoline</td>\n",
       "      <td>volkswagen</td>\n",
       "      <td>NaN</td>\n",
       "      <td>2016-03-20 00:00:00</td>\n",
       "      <td>0</td>\n",
       "      <td>40764</td>\n",
       "      <td>2016-03-24 12:45:21</td>\n",
       "    </tr>\n",
       "  </tbody>\n",
       "</table>\n",
       "<p>354369 rows × 16 columns</p>\n",
       "</div>"
      ],
      "text/plain": [
       "                DateCrawled  Price  VehicleType  RegistrationYear Gearbox  \\\n",
       "0       2016-03-24 11:52:17    480          NaN              1993  manual   \n",
       "1       2016-03-24 10:58:45  18300        coupe              2011  manual   \n",
       "2       2016-03-14 12:52:21   9800          suv              2004    auto   \n",
       "3       2016-03-17 16:54:04   1500        small              2001  manual   \n",
       "4       2016-03-31 17:25:20   3600        small              2008  manual   \n",
       "...                     ...    ...          ...               ...     ...   \n",
       "354364  2016-03-21 09:50:58      0          NaN              2005  manual   \n",
       "354365  2016-03-14 17:48:27   2200          NaN              2005     NaN   \n",
       "354366  2016-03-05 19:56:21   1199  convertible              2000    auto   \n",
       "354367  2016-03-19 18:57:12   9200          bus              1996  manual   \n",
       "354368  2016-03-20 19:41:08   3400        wagon              2002  manual   \n",
       "\n",
       "        Power        Model  Kilometer  RegistrationMonth  FuelType  \\\n",
       "0           0         golf     150000                  0    petrol   \n",
       "1         190          NaN     125000                  5  gasoline   \n",
       "2         163        grand     125000                  8  gasoline   \n",
       "3          75         golf     150000                  6    petrol   \n",
       "4          69        fabia      90000                  7  gasoline   \n",
       "...       ...          ...        ...                ...       ...   \n",
       "354364      0         colt     150000                  7    petrol   \n",
       "354365      0          NaN      20000                  1       NaN   \n",
       "354366    101       fortwo     125000                  3    petrol   \n",
       "354367    102  transporter     150000                  3  gasoline   \n",
       "354368    100         golf     150000                  6  gasoline   \n",
       "\n",
       "                 Brand NotRepaired          DateCreated  NumberOfPictures  \\\n",
       "0           volkswagen         NaN  2016-03-24 00:00:00                 0   \n",
       "1                 audi         yes  2016-03-24 00:00:00                 0   \n",
       "2                 jeep         NaN  2016-03-14 00:00:00                 0   \n",
       "3           volkswagen          no  2016-03-17 00:00:00                 0   \n",
       "4                skoda          no  2016-03-31 00:00:00                 0   \n",
       "...                ...         ...                  ...               ...   \n",
       "354364      mitsubishi         yes  2016-03-21 00:00:00                 0   \n",
       "354365  sonstige_autos         NaN  2016-03-14 00:00:00                 0   \n",
       "354366           smart          no  2016-03-05 00:00:00                 0   \n",
       "354367      volkswagen          no  2016-03-19 00:00:00                 0   \n",
       "354368      volkswagen         NaN  2016-03-20 00:00:00                 0   \n",
       "\n",
       "        PostalCode             LastSeen  \n",
       "0            70435  2016-04-07 03:16:57  \n",
       "1            66954  2016-04-07 01:46:50  \n",
       "2            90480  2016-04-05 12:47:46  \n",
       "3            91074  2016-03-17 17:40:17  \n",
       "4            60437  2016-04-06 10:17:21  \n",
       "...            ...                  ...  \n",
       "354364        2694  2016-03-21 10:42:49  \n",
       "354365       39576  2016-04-06 00:46:52  \n",
       "354366       26135  2016-03-11 18:17:12  \n",
       "354367       87439  2016-04-07 07:15:26  \n",
       "354368       40764  2016-03-24 12:45:21  \n",
       "\n",
       "[354369 rows x 16 columns]"
      ]
     },
     "execution_count": 3,
     "metadata": {},
     "output_type": "execute_result"
    }
   ],
   "source": [
    "data"
   ]
  },
  {
   "cell_type": "markdown",
   "metadata": {},
   "source": [
    "В данных много пропусков, необходима предобработка данных. Перед предобработкой сохраним исходный размер датасета чтобы сравнить, сколько данных мы в итоге потеряли."
   ]
  },
  {
   "cell_type": "code",
   "execution_count": 4,
   "metadata": {},
   "outputs": [],
   "source": [
    "data_init_shape = data.shape"
   ]
  },
  {
   "cell_type": "code",
   "execution_count": 5,
   "metadata": {},
   "outputs": [
    {
     "data": {
      "text/plain": [
       "(354369, 16)"
      ]
     },
     "execution_count": 5,
     "metadata": {},
     "output_type": "execute_result"
    }
   ],
   "source": [
    "data_init_shape"
   ]
  },
  {
   "cell_type": "markdown",
   "metadata": {},
   "source": [
    "### Предобработка данных\n",
    "[К содержанию](#Содержание)"
   ]
  },
  {
   "cell_type": "markdown",
   "metadata": {},
   "source": [
    "Сначала проанализируем иимеющиеся признаки и обработаем их. Некоторым признакам уделим особое внимание и разберем досконально.\n",
    "\n",
    "---\n",
    "<i>DateCrawled — дата скачивания анкеты из базы</i> — никак не влияющий на цену признак, необходимый скорее для администрирования базы данных, мы его из нашего набора удалим."
   ]
  },
  {
   "cell_type": "code",
   "execution_count": 6,
   "metadata": {},
   "outputs": [],
   "source": [
    "data = data.drop(['DateCrawled'], axis=1)"
   ]
  },
  {
   "cell_type": "markdown",
   "metadata": {},
   "source": [
    "---\n",
    "<i>VehicleType — тип автомобильного кузова</i> — безусловно влияющий на цену признак."
   ]
  },
  {
   "cell_type": "code",
   "execution_count": 7,
   "metadata": {},
   "outputs": [
    {
     "data": {
      "text/plain": [
       "sedan          91457\n",
       "small          79831\n",
       "wagon          65166\n",
       "NaN            37490\n",
       "bus            28775\n",
       "convertible    20203\n",
       "coupe          16163\n",
       "suv            11996\n",
       "other           3288\n",
       "Name: VehicleType, dtype: int64"
      ]
     },
     "execution_count": 7,
     "metadata": {},
     "output_type": "execute_result"
    }
   ],
   "source": [
    "data['VehicleType'].value_counts(dropna=False)"
   ]
  },
  {
   "cell_type": "markdown",
   "metadata": {},
   "source": [
    "Больше 10 процентов от всего набора данных это пропуски. Мне кажется, оптимальным решением будет поместить все неопределенные автомобили в категорию 'other'. Да, туда попадут разные автомобили вперемешку, но если наш пользователь захочет более точного определения стоимости, то ему придется немного потрудиться, точнее описывая своё авто. \n",
    "\n",
    "Изначально я думал, что можно будет восстановить часть данных ориентируясь на модель автомобиля. Однако, возможна ситуация, когда автомобиль одной и той же модели (к примеру, Форд Фокус) может быть и седаном и купе и кабриалетом."
   ]
  },
  {
   "cell_type": "code",
   "execution_count": 8,
   "metadata": {},
   "outputs": [],
   "source": [
    "data['VehicleType'] = data['VehicleType'].fillna('other')"
   ]
  },
  {
   "cell_type": "markdown",
   "metadata": {},
   "source": [
    "---\n",
    "<i>RegistrationYear — год регистрации автомобиля</i> — год и месяц регистрации автомобиля разумеется важны при определении цены, необходимо будет объеденить оба этих признака и изменить тип данных на Datetime. Однако, когда мы дойдем до <i>RegistrationMonth</i>, мы увидим, что у десяти процентов датасета вместо номера месяца стоит значение 0. Распределение регистраций по месяцам тоже не дает много информации."
   ]
  },
  {
   "cell_type": "code",
   "execution_count": 9,
   "metadata": {
    "scrolled": false
   },
   "outputs": [
    {
     "data": {
      "text/plain": [
       "0     37352\n",
       "3     34373\n",
       "6     31508\n",
       "4     29270\n",
       "5     29153\n",
       "7     27213\n",
       "10    26099\n",
       "12    24289\n",
       "11    24186\n",
       "9     23813\n",
       "1     23219\n",
       "8     22627\n",
       "2     21267\n",
       "Name: RegistrationMonth, dtype: int64"
      ]
     },
     "execution_count": 9,
     "metadata": {},
     "output_type": "execute_result"
    },
    {
     "data": {
      "image/png": "[encoded data removed]",
      "text/plain": [
       "<Figure size 432x288 with 1 Axes>"
      ]
     },
     "metadata": {
      "needs_background": "light"
     },
     "output_type": "display_data"
    }
   ],
   "source": [
    "data['RegistrationMonth'].value_counts(dropna=False).plot(kind='bar')\n",
    "data['RegistrationMonth'].value_counts(dropna=False)"
   ]
  },
  {
   "cell_type": "markdown",
   "metadata": {},
   "source": [
    "Я вижу, что большая часть регистраций происходит с марта по июль. Не вижу особого смысла задумываться, с чем это связано, это не поможет нам распределить данные \"нулевого\" месяца верно. Так что я решил игнорировать месяц регистрации полностью. Мы отбросим этот признак из набора данных."
   ]
  },
  {
   "cell_type": "code",
   "execution_count": 10,
   "metadata": {},
   "outputs": [],
   "source": [
    "data = data.drop(['RegistrationMonth'], axis=1)"
   ]
  },
  {
   "cell_type": "markdown",
   "metadata": {},
   "source": [
    "Теперь вернемся к году регистрации, с ним тоже не все так просто. Пропусков в этом признаке у нас, к счастью, не было. Однако надо проверить на ошибочно введенные года. Регистрация автомобилей в принципе началась а начале 20 века, посмотрим, на всё, что указывали пользователи, что было раньше."
   ]
  },
  {
   "cell_type": "code",
   "execution_count": 11,
   "metadata": {
    "scrolled": true
   },
   "outputs": [
    {
     "data": {
      "text/plain": [
       "1000    37\n",
       "1500     5\n",
       "1800     5\n",
       "1234     4\n",
       "1111     3\n",
       "1600     2\n",
       "1300     2\n",
       "1400     1\n",
       "1001     1\n",
       "1255     1\n",
       "1253     1\n",
       "1602     1\n",
       "1200     1\n",
       "1688     1\n",
       "1039     1\n",
       "Name: RegistrationYear, dtype: int64"
      ]
     },
     "execution_count": 11,
     "metadata": {},
     "output_type": "execute_result"
    }
   ],
   "source": [
    "data[data['RegistrationYear'] < 1900]['RegistrationYear'].value_counts(dropna=False)"
   ]
  },
  {
   "cell_type": "markdown",
   "metadata": {},
   "source": [
    "Очевидно, это не года регистрации. Люди просто не знали год и писали ерунду. Всего у нас таких годов 66. на фоне нашего набора данных их очень мало, я считаю, их можно просто отбросить. Теперь к чрезвычайно высоким годам. Посмоторим, когда была создана самая последняя анкета в нашем наборе данных."
   ]
  },
  {
   "cell_type": "code",
   "execution_count": 12,
   "metadata": {
    "scrolled": true
   },
   "outputs": [
    {
     "data": {
      "text/plain": [
       "'2016-04-07 00:00:00'"
      ]
     },
     "execution_count": 12,
     "metadata": {},
     "output_type": "execute_result"
    }
   ],
   "source": [
    "data['DateCreated'].max()"
   ]
  },
  {
   "cell_type": "markdown",
   "metadata": {},
   "source": [
    "2016 год. По хорошему, после этого года у нас не может быть зарегистрированных автомобилей в наборе данных."
   ]
  },
  {
   "cell_type": "code",
   "execution_count": 13,
   "metadata": {},
   "outputs": [
    {
     "data": {
      "text/plain": [
       "2017    10441\n",
       "2018     3959\n",
       "9999       26\n",
       "2019       25\n",
       "5000       17\n",
       "3000        7\n",
       "6000        5\n",
       "7000        4\n",
       "2500        4\n",
       "4000        3\n",
       "9000        3\n",
       "5911        2\n",
       "5555        2\n",
       "4500        2\n",
       "2800        2\n",
       "2222        2\n",
       "8000        2\n",
       "4800        1\n",
       "5600        1\n",
       "7500        1\n",
       "3200        1\n",
       "9229        1\n",
       "2200        1\n",
       "9996        1\n",
       "3800        1\n",
       "7800        1\n",
       "2066        1\n",
       "2290        1\n",
       "8455        1\n",
       "7100        1\n",
       "8200        1\n",
       "8888        1\n",
       "2900        1\n",
       "3500        1\n",
       "3700        1\n",
       "4100        1\n",
       "5300        1\n",
       "9450        1\n",
       "5900        1\n",
       "6500        1\n",
       "8500        1\n",
       "Name: RegistrationYear, dtype: int64"
      ]
     },
     "execution_count": 13,
     "metadata": {},
     "output_type": "execute_result"
    }
   ],
   "source": [
    "data[data['RegistrationYear'] > 2016]['RegistrationYear'].value_counts(dropna=False)"
   ]
  },
  {
   "cell_type": "markdown",
   "metadata": {},
   "source": [
    "Однако, мы видим ощутимое количество автомобилей, зарегистрированных в 2017 году и даже в 2018. Данные по 2019 году уже выглядят как погрешность.\n",
    "\n",
    "Автомобили с 2017-2018 годами регистрации могли возникнуть по многим причинам. Например, могла элементарно на 1 или 2 года сбиться дата на сервере с базой данных. Тогда все регистрационные данные вносились бы со сдвигом на размер сбоя. Об этом лучше уточнить у команды, собирающей данные, чтобы они проверили время на той машине.\n",
    "\n",
    "Кроме того, пользователи по тем или иным причинам могли указывать более поздние года например, если автомобиль планировался к выпуску на будущий год. Как мы выясним далее, достаточно большое количество сделок судя по всему будет выполняться диллерами Opel, и возможно в таком случае автомобиль еще не зарегистрирован, но уже продается по предзаказу.\n",
    "\n",
    "Точно проверить мы это не можем, однако я считаю отказываться от куска данных за 2017-2018 года нельзя, слишком он большой. Поэтому отбросим данные после них."
   ]
  },
  {
   "cell_type": "code",
   "execution_count": 14,
   "metadata": {},
   "outputs": [],
   "source": [
    "data = data.drop(data[(data['RegistrationYear'] < 1900) | (data['RegistrationYear'] > 2018)].index, axis=0)"
   ]
  },
  {
   "cell_type": "markdown",
   "metadata": {},
   "source": [
    "---\n",
    "<i>Gearbox — тип коробки передач</i> — важный параметр автомобиля, влияющий на стоимость. В нем были пропуски, посмотрим, сколько их."
   ]
  },
  {
   "cell_type": "code",
   "execution_count": 15,
   "metadata": {},
   "outputs": [
    {
     "data": {
      "text/plain": [
       "manual    268211\n",
       "auto       66273\n",
       "NaN        19689\n",
       "Name: Gearbox, dtype: int64"
      ]
     },
     "execution_count": 15,
     "metadata": {},
     "output_type": "execute_result"
    }
   ],
   "source": [
    "data['Gearbox'].value_counts(dropna=False)"
   ]
  },
  {
   "cell_type": "markdown",
   "metadata": {},
   "source": [
    "К сожалению, заполнить пропуски будет проблематично, на автомобиль одной и той же модели могли уставиться оба вида коробки передач. Поэтому тут я предлагаю сделать что-то похожее на то, как я поступил с типом кузова — поместить неопределенные данные в общую категорию 'undefined'. Таком образом если пользователь уточнит тип коробки передач, то модель сможет точнее подсказать ему цену. Но если этот признак будет неуказан, модель всё еще сможет дать предсказание, хоть и менее точное."
   ]
  },
  {
   "cell_type": "code",
   "execution_count": 16,
   "metadata": {},
   "outputs": [],
   "source": [
    "data['Gearbox'] = data['Gearbox'].fillna('undefined')"
   ]
  },
  {
   "cell_type": "markdown",
   "metadata": {},
   "source": [
    "---\n",
    "<i>Power — мощность (л. с.)</i> — важный параметр автомобиля, влияющий на стоимость. И хоть тут не было пропусков, надо проверить данные на ошибочность. Максимальная мощность современных серийных автомобилей в районе 1000 лошадиных сил. Однако, средняя мощность автомобиля в РФ всего 117 лошадинных сил ([источник](https://mag.auto.ru/article/statengpower/)). Я считаю, что можно взять как отметку 500 л. с. Так мы отбросим совсем сверхмощные ракетомобили, однако оставим место просто для очень мощных авто. Посмотрим, сколько строк данных мы теряем в таком случае."
   ]
  },
  {
   "cell_type": "code",
   "execution_count": 17,
   "metadata": {},
   "outputs": [
    {
     "data": {
      "text/plain": [
       "448"
      ]
     },
     "execution_count": 17,
     "metadata": {},
     "output_type": "execute_result"
    }
   ],
   "source": [
    "data[data['Power'] > 500]['Power'].value_counts(dropna=False).sum()"
   ]
  },
  {
   "cell_type": "markdown",
   "metadata": {},
   "source": [
    "Что ж, я готов списать менее 500 строк на ошибочные данные.\n",
    "\n",
    "Теперь проверим, нижний предел. У меня отец ездит на старенькой Ниве, у которой что-то около 50 лошадиных сил. Предположим, что существуют автомобили в половину менее мощные и посмотрим на все, что останется."
   ]
  },
  {
   "cell_type": "code",
   "execution_count": 18,
   "metadata": {},
   "outputs": [
    {
     "data": {
      "text/plain": [
       "0     40085\n",
       "5       103\n",
       "18       51\n",
       "1        32\n",
       "4        30\n",
       "11       28\n",
       "12       22\n",
       "15       20\n",
       "14       20\n",
       "10       15\n",
       "19       14\n",
       "7        11\n",
       "6        11\n",
       "16       10\n",
       "2        10\n",
       "3         8\n",
       "17        8\n",
       "8         7\n",
       "13        7\n",
       "9         5\n",
       "Name: Power, dtype: int64"
      ]
     },
     "execution_count": 18,
     "metadata": {},
     "output_type": "execute_result"
    }
   ],
   "source": [
    "data[data['Power'] < 20]['Power'].value_counts(dropna=False)"
   ]
  },
  {
   "cell_type": "markdown",
   "metadata": {},
   "source": [
    "Сорок тысяч автомобилей с нулем вместо мощности и около 5 сотен автомобилей с мощностью менее 25 лошадиных сил. Я думаю, что тут надо поступить так же, как и с коробкой передач. Только чтобы не делать из числового признака категориальный, мы приравняем признак этих автомобилей к 0."
   ]
  },
  {
   "cell_type": "markdown",
   "metadata": {},
   "source": [
    "---\n",
    "<i>Model — модель автомобиля</i> — важный параметр автомобиля, влияющий на стоимость, оставляем."
   ]
  },
  {
   "cell_type": "code",
   "execution_count": 19,
   "metadata": {},
   "outputs": [
    {
     "data": {
      "text/plain": [
       "golf                  29218\n",
       "other                 24402\n",
       "3er                   19756\n",
       "NaN                   19625\n",
       "polo                  13062\n",
       "                      ...  \n",
       "serie_2                   8\n",
       "serie_3                   4\n",
       "rangerover                4\n",
       "serie_1                   2\n",
       "range_rover_evoque        2\n",
       "Name: Model, Length: 251, dtype: int64"
      ]
     },
     "execution_count": 19,
     "metadata": {},
     "output_type": "execute_result"
    }
   ],
   "source": [
    "data['Model'].value_counts(dropna=False)"
   ]
  },
  {
   "cell_type": "markdown",
   "metadata": {},
   "source": [
    "И снова одна из лидирующих категорий 'other'. А кроме нее еще и 5% датасета пропусков. Прилепим пропуски в прочие, так как не имеем возможности установить модель автомобиля. "
   ]
  },
  {
   "cell_type": "code",
   "execution_count": 20,
   "metadata": {},
   "outputs": [],
   "source": [
    "data['Model'] = data['Model'].fillna('other')"
   ]
  },
  {
   "cell_type": "markdown",
   "metadata": {},
   "source": [
    "---\n",
    "<i>Kilometer — пробег (км)</i> — важный параметр автомобиля, влияющий на стоимость, оставляем. Кроме того обратим внимание, как написано слово \"километр\". Быстрое гугление говорит, что:\n",
    "> The British spelling is kilometre. The American spelling is kilometer.\n",
    "\n",
    "Однако, в США применяется не метрическая система, и в описании автомобиля там скорее были бы мили. Возможно, слово в заголовке столбца написано не на английском языке. Пропусков тут не было, однако необходимо проверить данные на ошибочные."
   ]
  },
  {
   "cell_type": "code",
   "execution_count": 21,
   "metadata": {},
   "outputs": [
    {
     "data": {
      "text/plain": [
       "150000    238192\n",
       "125000     36451\n",
       "100000     14880\n",
       "90000      11566\n",
       "80000      10047\n",
       "70000       8592\n",
       "60000       7444\n",
       "5000        6286\n",
       "50000       6232\n",
       "40000       4911\n",
       "30000       4435\n",
       "20000       3973\n",
       "10000       1164\n",
       "Name: Kilometer, dtype: int64"
      ]
     },
     "execution_count": 21,
     "metadata": {},
     "output_type": "execute_result"
    }
   ],
   "source": [
    "data['Kilometer'].value_counts(dropna=False)"
   ]
  },
  {
   "cell_type": "markdown",
   "metadata": {},
   "source": [
    "Очень интересное распределение по возрастанию. Выбивается только значение 5000. Возможно, в этой категории как раз новые салонные автомобили.\n",
    "\n",
    "---\n",
    "<i>RegistrationMonth — месяц регистрации автомобиля</i> — Этот параметр мы обработали и удалили ранее, смотри <i>RegistrationYear</i>.\n"
   ]
  },
  {
   "cell_type": "markdown",
   "metadata": {},
   "source": [
    "---\n",
    "<i>FuelType — тип топлива</i> — важный параметр автомобиля, влияющий на стоимость. Посомтрим на то, какие типы топлива имеем."
   ]
  },
  {
   "cell_type": "code",
   "execution_count": 22,
   "metadata": {},
   "outputs": [
    {
     "data": {
      "text/plain": [
       "petrol      216311\n",
       "gasoline     98708\n",
       "NaN          32757\n",
       "lpg           5310\n",
       "cng            563\n",
       "hybrid         233\n",
       "other          201\n",
       "electric        90\n",
       "Name: FuelType, dtype: int64"
      ]
     },
     "execution_count": 22,
     "metadata": {},
     "output_type": "execute_result"
    }
   ],
   "source": [
    "data['FuelType'].value_counts(dropna=False)"
   ]
  },
  {
   "cell_type": "markdown",
   "metadata": {},
   "source": [
    "Интнресно. Интересного так много, что распишем по пунктам:\n",
    "* Первые два вида топлива, petrol и gasoline это британское и американское названия одного и того же бензина, здесь они прописаны отдельно и доля каждого значительна.\n",
    "* Я ожидал увидеть третьим пунктом дизельное топливо, однако его вообще нет, похоже, что оно попало в одну из первый двух категорий. Однако гугление на эту тему мне не помогло, petrol и gasoline это одно и то же топливо, disel — совершенно другое. У меня есть версия, что дизельные топлива попали в категорию petrol, так как наиболее популярный источник дизтоплива это нефть (англ. petroleum). Хорошо бы связаться с источником датасета и уточнить, куда они записывали дизельные автомобили.\n",
    "* Снова у нас огромное число пропусков. Там может быть что угодно, в том числе и пропавшее дизтопливо. Однако, не зная наверняка, мы можем только записать пропуски в 'other'.\n",
    "* Так мало электромобилей и гибридов. Датасет не самый новый. Я уверен в аналогичном датасете текущего года доля гибридных и электроавтомобилей будет гораздо выше. Для того, чтобы актуально оценивать стоимость нашим клиентам сейчас, нам нужен будет более свежий датасет.\n",
    "\n",
    "Итак, выполним все, о чем проговорили выше. Объеденим 'petrol' и 'gasoline' в одну категорию, пусть это будет 'petrol', она изначально больше. Все пропуски передадим в категорию 'other'."
   ]
  },
  {
   "cell_type": "code",
   "execution_count": 23,
   "metadata": {},
   "outputs": [],
   "source": [
    "data.loc[data.loc[data.loc[:,'FuelType'] == 'gasoline'].index,'FuelType'] = 'petrol'\n",
    "data['FuelType'] = data['FuelType'].fillna('other')"
   ]
  },
  {
   "cell_type": "markdown",
   "metadata": {},
   "source": [
    "---\n",
    "<i>Brand — марка автомобиля</i> — Один из самых важных параметров, определяющих стоимость. Пропусков в этом признаке не было, посмотрим, с чем имеем дело."
   ]
  },
  {
   "cell_type": "code",
   "execution_count": 24,
   "metadata": {},
   "outputs": [
    {
     "data": {
      "text/plain": [
       "volkswagen        76972\n",
       "opel              39913\n",
       "bmw               36899\n",
       "mercedes_benz     32031\n",
       "audi              29450\n",
       "ford              25173\n",
       "renault           17922\n",
       "peugeot           10996\n",
       "fiat               9636\n",
       "seat               6906\n",
       "mazda              5609\n",
       "skoda              5498\n",
       "smart              5246\n",
       "citroen            5145\n",
       "nissan             4941\n",
       "toyota             4606\n",
       "hyundai            3585\n",
       "sonstige_autos     3333\n",
       "volvo              3210\n",
       "mini               3201\n",
       "mitsubishi         3019\n",
       "honda              2816\n",
       "kia                2464\n",
       "suzuki             2323\n",
       "alfa_romeo         2310\n",
       "chevrolet          1752\n",
       "chrysler           1438\n",
       "dacia               900\n",
       "daihatsu            806\n",
       "subaru              759\n",
       "porsche             756\n",
       "jeep                676\n",
       "trabant             585\n",
       "land_rover          544\n",
       "daewoo              542\n",
       "saab                525\n",
       "jaguar              505\n",
       "rover               485\n",
       "lancia              471\n",
       "lada                225\n",
       "Name: Brand, dtype: int64"
      ]
     },
     "execution_count": 24,
     "metadata": {},
     "output_type": "execute_result"
    }
   ],
   "source": [
    "data['Brand'].value_counts(dropna=False)"
   ]
  },
  {
   "cell_type": "markdown",
   "metadata": {},
   "source": [
    "Ну, во-первых, первые пять позицией и 60% всего датасета — немецкие автопроизводители. Американцев и японцев почти нет. Уж не на немецком авторынке составлен датасет? Все марки более-менее понятны и знакомы, кроме 'sonstige_autos'. Гугл-переводчик подсказывает, что 'sonstiges' с немецкого 'разные, прочие'. Что ж, дело раскрыто. Перед нами действительно датасет некоего немецкого сайта автообъявлений. Ничего особенного со списком марок автомобилей сделать нельзя, разве что изменим 'sonstige_autos' на интуитивно более понятное 'other'."
   ]
  },
  {
   "cell_type": "code",
   "execution_count": 25,
   "metadata": {},
   "outputs": [],
   "source": [
    "data.loc[data.loc[data.loc[:,'Brand'] == 'sonstige_autos'].index,'Brand'] = 'other'"
   ]
  },
  {
   "cell_type": "markdown",
   "metadata": {},
   "source": [
    "---\n",
    "<i>NotRepaired — была машина в ремонте или нет</i> — важный параметр автомобиля, влияющий на стоимость. Посомтрим, как распределены значения."
   ]
  },
  {
   "cell_type": "code",
   "execution_count": 26,
   "metadata": {},
   "outputs": [
    {
     "data": {
      "text/plain": [
       "no     247132\n",
       "NaN     70998\n",
       "yes     36043\n",
       "Name: NotRepaired, dtype: int64"
      ]
     },
     "execution_count": 26,
     "metadata": {},
     "output_type": "execute_result"
    }
   ],
   "source": [
    "data['NotRepaired'].value_counts(dropna=False)"
   ]
  },
  {
   "cell_type": "markdown",
   "metadata": {},
   "source": [
    "И снова пропуски, почти 20% датасета. Прийдется присвоить им третью категорию 'undefined', аналогично тому, как мы поступили с коробкой передач."
   ]
  },
  {
   "cell_type": "code",
   "execution_count": 27,
   "metadata": {},
   "outputs": [],
   "source": [
    "data['NotRepaired'] = data['NotRepaired'].fillna('undefined')"
   ]
  },
  {
   "cell_type": "markdown",
   "metadata": {},
   "source": [
    "---\n",
    "<i>DateCreated — дата создания анкеты</i> — важный параметры, непосредственно не влияющий на стоимость конкретного автомобиля, но отражающий ситуацию на автомобильном рынке на момент создания анкеты. Два одинаковых автомобиля сейчас и пять лет назад будут стоить по разному. Самым правильным вариантом по моему мнению будет оставить из этих данных только год, модель регулярно дообучать на актуальных данных, а при использовании модели пользователем, автоматически использовать текущий год."
   ]
  },
  {
   "cell_type": "code",
   "execution_count": 28,
   "metadata": {},
   "outputs": [],
   "source": [
    "data['DateCreated'] = pd.to_datetime(data['DateCreated'], format='%Y-%m-%d %H:%M:%S')\n",
    "data['DateCreated'] = data['DateCreated'].dt.year"
   ]
  },
  {
   "cell_type": "markdown",
   "metadata": {},
   "source": [
    "---\n",
    "<i>NumberOfPictures — количество фотографий автомобиля</i> — параметр, возможно влияющий на скорость продажи автомобиля, популярность объявления, но никак не определяющий стоимость, удалить"
   ]
  },
  {
   "cell_type": "code",
   "execution_count": 29,
   "metadata": {},
   "outputs": [],
   "source": [
    "data = data.drop(['NumberOfPictures'], axis=1)"
   ]
  },
  {
   "cell_type": "markdown",
   "metadata": {},
   "source": [
    "---\n",
    "<i>PostalCode — почтовый индекс владельца анкеты (пользователя)</i> — интересный признак,  может указывать на место продажи автомобиля, а значит косвенно влиять на цену. Во-первых, в каком-то конкретном месте может быть большое предложение, а следовательно цена ниже. Во-вторых, место может быть ближе к месту поставки авто. Чтобы было понятнее, приведу пример: некая абстрактная Toyota продаваемая во Владивостоке будет стоить дешевле, чем идентичная по всем остальным параметрам машина, продаваемая во Владикавказе.\n",
    "Взглянем на то, как у нас распределены признаки"
   ]
  },
  {
   "cell_type": "code",
   "execution_count": 30,
   "metadata": {},
   "outputs": [
    {
     "data": {
      "text/plain": [
       "10115    818\n",
       "65428    613\n",
       "66333    343\n",
       "32257    317\n",
       "44145    317\n",
       "        ... \n",
       "94359      1\n",
       "82279      1\n",
       "4685       1\n",
       "91801      1\n",
       "31096      1\n",
       "Name: PostalCode, Length: 8143, dtype: int64"
      ]
     },
     "execution_count": 30,
     "metadata": {},
     "output_type": "execute_result"
    },
    {
     "data": {
      "image/png": "[encoded data removed]",
      "text/plain": [
       "<Figure size 432x288 with 1 Axes>"
      ]
     },
     "metadata": {
      "needs_background": "light"
     },
     "output_type": "display_data"
    }
   ],
   "source": [
    "data['PostalCode'].value_counts().plot(kind='hist', bins=100)\n",
    "data['PostalCode'].value_counts()"
   ]
  },
  {
   "cell_type": "markdown",
   "metadata": {},
   "source": [
    "Есть некоторое количество индексов, по которым продается довольно много автомобилей. Погуглим их. Как мы помним, датасет у нас был немецким, так что скорее всего индексы будут находиться именно в Германии.\n",
    "10115 — гугл выдает два адреса - офисное здание на Манхэттене и целый район в центре Берлина.\n",
    "Попробуем следующий индекс.\n",
    "65428 — первая же ссылка на википедию, на статью о населенном пункте Rüsselsheim am Main. Читаем.\n",
    ">Rüsselsheim has attained international recognition through the presence of the German car company Opel.\n",
    "\n",
    "Дело раскрыто, в Рюссельсхайме расположена штаб-квартира автокомпании Opel. Следовательно, большинство авто, продаваемых по данному индексу будут автомобили этой марки. Проверим эту гипотезу."
   ]
  },
  {
   "cell_type": "code",
   "execution_count": 31,
   "metadata": {},
   "outputs": [
    {
     "data": {
      "text/plain": [
       "opel             200\n",
       "volkswagen       105\n",
       "bmw               78\n",
       "mercedes_benz     58\n",
       "audi              28\n",
       "fiat              23\n",
       "ford              20\n",
       "renault           17\n",
       "peugeot           15\n",
       "smart              9\n",
       "Name: Brand, dtype: int64"
      ]
     },
     "execution_count": 31,
     "metadata": {},
     "output_type": "execute_result"
    }
   ],
   "source": [
    "data[data['PostalCode'] == 65428]['Brand'].value_counts().head(10)"
   ]
  },
  {
   "cell_type": "markdown",
   "metadata": {},
   "source": [
    "Не подавляющее большинство, но всё же марка самая популярная. Из этого делаю вывод, что большинство популярных почтовых кодов продавцов соответствуют штабквартирам производителей, крупным авторынкам или просто крупным населенным пунктам, где идет активная торговля автомобилями. Как я уже писал, этот признак мог бы иметь большую важность, если бы в датасете была представлена протяженная страна, в которой в разных регионах преобладают авто разных марок, например в России. Однако В Германии место продажи авто не так сильно влияет на его стоимость. Кроме того, если мы планируем использовать модель для пользователей из РФ с местными почтовыми индексами, модель и вовсе будет \"показывать погоду\". Поэтому, признак лучше всё же удалить."
   ]
  },
  {
   "cell_type": "code",
   "execution_count": 32,
   "metadata": {},
   "outputs": [],
   "source": [
    "data = data.drop(['PostalCode'], axis=1)"
   ]
  },
  {
   "cell_type": "markdown",
   "metadata": {},
   "source": [
    "---\n",
    "<i>LastSeen — дата последней активности пользователя</i> — признак, совершенно нам не нужный. Удалить!"
   ]
  },
  {
   "cell_type": "code",
   "execution_count": 33,
   "metadata": {},
   "outputs": [],
   "source": [
    "data = data.drop(['LastSeen'], axis=1)"
   ]
  },
  {
   "cell_type": "markdown",
   "metadata": {},
   "source": [
    "---\n",
    "И конечно рассмотрим целевой признак.\n",
    "\n",
    "<i>Price — цена (евро)</i> — так как это цена и вариантов цен может быть очень много, используем гистограму, чтобы понять, как у нас распределены цены."
   ]
  },
  {
   "cell_type": "code",
   "execution_count": 34,
   "metadata": {
    "scrolled": true
   },
   "outputs": [
    {
     "data": {
      "text/plain": [
       "<matplotlib.axes._subplots.AxesSubplot at 0x7f4b9f451110>"
      ]
     },
     "execution_count": 34,
     "metadata": {},
     "output_type": "execute_result"
    },
    {
     "data": {
      "image/png": "[encoded data removed]",
      "text/plain": [
       "<Figure size 432x288 with 1 Axes>"
      ]
     },
     "metadata": {
      "needs_background": "light"
     },
     "output_type": "display_data"
    }
   ],
   "source": [
    "data['Price'].plot(kind='hist', bins=100)"
   ]
  },
  {
   "cell_type": "markdown",
   "metadata": {},
   "source": [
    "Вполне ожидаемое распределение, больше всего на рынке дешевых машин, чем выше цена, тем меньше автомобилей представлено. Выдающиеся над графиком \"пики\" это какие-то круглые цены, к которым люди округляют свою цену (напр. 5000, 10 000, 11 500).\n",
    "\n",
    "Верхний предел цен в датасете 20 000 евро. На самом деле не так то и много, для автомобиля. Вряд ли тут есть какие-то люксовые очень мощные автомобили. Возможно, если бы я лучше разбирался в авторынке, нужно было бы пересмотреть признак 'Power' - 'Мощность'. Врядли автомобили мощностью в 500 лошадиных сил будут стоить 20 000 евро и меньше.\n",
    "\n",
    "Кроме того, очень много автомобилей выставлено за цену в 0 евро. Вряд ли на авторынке германии столько меценатов, и сомневаюсь, что так много людей ошибались в таком важном моменте, как указание цены на продаваемое авто. Скорее всего цена или еще не определена или устанавливалась в ходе торгов. Нам эти данные будут только мешать. Кроме того, попробуем отсеять самые дешевые автомобили, так как я уверен, там или автомобили в совсем плачевном состоянии или ошибочные цены. Отбросим, к примеру 5% самых дешевых авто. Для начала найдем соответствующий процентиль."
   ]
  },
  {
   "cell_type": "code",
   "execution_count": 35,
   "metadata": {
    "scrolled": true
   },
   "outputs": [
    {
     "data": {
      "text/plain": [
       "count    354173.000000\n",
       "mean       4417.739698\n",
       "std        4514.026054\n",
       "min           0.000000\n",
       "5%          200.000000\n",
       "25%        1050.000000\n",
       "50%        2700.000000\n",
       "75%        6400.000000\n",
       "95%       14600.000000\n",
       "max       20000.000000\n",
       "Name: Price, dtype: float64"
      ]
     },
     "execution_count": 35,
     "metadata": {},
     "output_type": "execute_result"
    }
   ],
   "source": [
    "data['Price'].describe(percentiles=[.05, .25, .5, .75, .95])"
   ]
  },
  {
   "cell_type": "markdown",
   "metadata": {},
   "source": [
    "Ровно 200 евро. Теперь удалим из датасета записи с автомобилями такой цены."
   ]
  },
  {
   "cell_type": "code",
   "execution_count": 36,
   "metadata": {},
   "outputs": [],
   "source": [
    "data = data.drop(data[data['Price'] <= 200].index, axis=0)"
   ]
  },
  {
   "cell_type": "markdown",
   "metadata": {},
   "source": [
    "И после всех удалений сбросим индексы датасета."
   ]
  },
  {
   "cell_type": "code",
   "execution_count": 37,
   "metadata": {},
   "outputs": [],
   "source": [
    "data = data.reset_index(drop=True)"
   ]
  },
  {
   "cell_type": "markdown",
   "metadata": {},
   "source": [
    "### Предобработка данных для модели\n",
    "[К содержанию](#Содержание)"
   ]
  },
  {
   "cell_type": "markdown",
   "metadata": {},
   "source": [
    "Для того, чтобы модели могли обрабатывать категориальные признаки, преобразуем их, используя OrdinalEncoder(). Именно его потому, что в некоторых признаках у нас много очень много категорий (напр. марка и модель авто) и OHE раскукожит нам набор данных до безобразия."
   ]
  },
  {
   "cell_type": "code",
   "execution_count": 38,
   "metadata": {
    "scrolled": true
   },
   "outputs": [
    {
     "name": "stdout",
     "output_type": "stream",
     "text": [
      "<class 'pandas.core.frame.DataFrame'>\n",
      "RangeIndex: 334807 entries, 0 to 334806\n",
      "Data columns (total 11 columns):\n",
      "Price               334807 non-null int64\n",
      "VehicleType         334807 non-null object\n",
      "RegistrationYear    334807 non-null int64\n",
      "Gearbox             334807 non-null object\n",
      "Power               334807 non-null int64\n",
      "Model               334807 non-null object\n",
      "Kilometer           334807 non-null int64\n",
      "FuelType            334807 non-null object\n",
      "Brand               334807 non-null object\n",
      "NotRepaired         334807 non-null object\n",
      "DateCreated         334807 non-null int64\n",
      "dtypes: int64(5), object(6)\n",
      "memory usage: 28.1+ MB\n"
     ]
    }
   ],
   "source": [
    "data.info()"
   ]
  },
  {
   "cell_type": "code",
   "execution_count": 39,
   "metadata": {},
   "outputs": [],
   "source": [
    "categorial = ['VehicleType', 'Gearbox','Model','FuelType','Brand','NotRepaired']"
   ]
  },
  {
   "cell_type": "code",
   "execution_count": 40,
   "metadata": {},
   "outputs": [],
   "source": [
    "data_lgbm = data\n",
    "data_lgbm[categorial] = data_lgbm[categorial].astype('category')"
   ]
  },
  {
   "cell_type": "code",
   "execution_count": 41,
   "metadata": {},
   "outputs": [],
   "source": [
    "encoder = OrdinalEncoder()\n",
    "\n",
    "encoder.fit(data[categorial]) \n",
    "\n",
    "data[categorial] = pd.DataFrame(encoder.transform(data[categorial]), columns=categorial)"
   ]
  },
  {
   "cell_type": "markdown",
   "metadata": {},
   "source": [
    "### Вывод по разделу\n",
    "[К содержанию](#Содержание)"
   ]
  },
  {
   "cell_type": "markdown",
   "metadata": {},
   "source": [
    "Мы подготовили датасет работе с моделями и попутно выяснили много полезной информации.\n",
    "\n",
    "1. Датасет подготовлен на данных, собранных в одной конкретной локации (Германия), и не подойдет для применения в коммерческих целях в другой локации (Россия).\n",
    "2. Кроме того, в датасете была информация о почтовом индексе продавца, которая могла бы быть актуальна в России из-за высокой протяженности и как следствие ощутимого разброса цен в разных концах страны. Однако, данные по германии для этих целей увы применять нельзя.\n",
    "3. Датасет выгружен весной 2016 года и содержит не актуальные на сегодняшний день данные.\n",
    "\n",
    "Всё это простительно, так как проект у нас учебный.\n",
    "\n",
    "Посомтрим, какие данные мы получили после предобработки."
   ]
  },
  {
   "cell_type": "code",
   "execution_count": 42,
   "metadata": {
    "scrolled": false
   },
   "outputs": [
    {
     "data": {
      "text/html": [
       "<div>\n",
       "<style scoped>\n",
       "    .dataframe tbody tr th:only-of-type {\n",
       "        vertical-align: middle;\n",
       "    }\n",
       "\n",
       "    .dataframe tbody tr th {\n",
       "        vertical-align: top;\n",
       "    }\n",
       "\n",
       "    .dataframe thead th {\n",
       "        text-align: right;\n",
       "    }\n",
       "</style>\n",
       "<table border=\"1\" class=\"dataframe\">\n",
       "  <thead>\n",
       "    <tr style=\"text-align: right;\">\n",
       "      <th></th>\n",
       "      <th>Price</th>\n",
       "      <th>VehicleType</th>\n",
       "      <th>RegistrationYear</th>\n",
       "      <th>Gearbox</th>\n",
       "      <th>Power</th>\n",
       "      <th>Model</th>\n",
       "      <th>Kilometer</th>\n",
       "      <th>FuelType</th>\n",
       "      <th>Brand</th>\n",
       "      <th>NotRepaired</th>\n",
       "      <th>DateCreated</th>\n",
       "    </tr>\n",
       "  </thead>\n",
       "  <tbody>\n",
       "    <tr>\n",
       "      <td>0</td>\n",
       "      <td>480</td>\n",
       "      <td>3.0</td>\n",
       "      <td>1993</td>\n",
       "      <td>1.0</td>\n",
       "      <td>0</td>\n",
       "      <td>116.0</td>\n",
       "      <td>150000</td>\n",
       "      <td>5.0</td>\n",
       "      <td>38.0</td>\n",
       "      <td>1.0</td>\n",
       "      <td>2016</td>\n",
       "    </tr>\n",
       "    <tr>\n",
       "      <td>1</td>\n",
       "      <td>18300</td>\n",
       "      <td>2.0</td>\n",
       "      <td>2011</td>\n",
       "      <td>1.0</td>\n",
       "      <td>190</td>\n",
       "      <td>166.0</td>\n",
       "      <td>125000</td>\n",
       "      <td>5.0</td>\n",
       "      <td>1.0</td>\n",
       "      <td>2.0</td>\n",
       "      <td>2016</td>\n",
       "    </tr>\n",
       "    <tr>\n",
       "      <td>2</td>\n",
       "      <td>9800</td>\n",
       "      <td>6.0</td>\n",
       "      <td>2004</td>\n",
       "      <td>0.0</td>\n",
       "      <td>163</td>\n",
       "      <td>117.0</td>\n",
       "      <td>125000</td>\n",
       "      <td>5.0</td>\n",
       "      <td>14.0</td>\n",
       "      <td>1.0</td>\n",
       "      <td>2016</td>\n",
       "    </tr>\n",
       "    <tr>\n",
       "      <td>3</td>\n",
       "      <td>1500</td>\n",
       "      <td>5.0</td>\n",
       "      <td>2001</td>\n",
       "      <td>1.0</td>\n",
       "      <td>75</td>\n",
       "      <td>116.0</td>\n",
       "      <td>150000</td>\n",
       "      <td>5.0</td>\n",
       "      <td>38.0</td>\n",
       "      <td>0.0</td>\n",
       "      <td>2016</td>\n",
       "    </tr>\n",
       "    <tr>\n",
       "      <td>4</td>\n",
       "      <td>3600</td>\n",
       "      <td>5.0</td>\n",
       "      <td>2008</td>\n",
       "      <td>1.0</td>\n",
       "      <td>69</td>\n",
       "      <td>101.0</td>\n",
       "      <td>90000</td>\n",
       "      <td>5.0</td>\n",
       "      <td>32.0</td>\n",
       "      <td>0.0</td>\n",
       "      <td>2016</td>\n",
       "    </tr>\n",
       "    <tr>\n",
       "      <td>...</td>\n",
       "      <td>...</td>\n",
       "      <td>...</td>\n",
       "      <td>...</td>\n",
       "      <td>...</td>\n",
       "      <td>...</td>\n",
       "      <td>...</td>\n",
       "      <td>...</td>\n",
       "      <td>...</td>\n",
       "      <td>...</td>\n",
       "      <td>...</td>\n",
       "      <td>...</td>\n",
       "    </tr>\n",
       "    <tr>\n",
       "      <td>334802</td>\n",
       "      <td>1150</td>\n",
       "      <td>0.0</td>\n",
       "      <td>2000</td>\n",
       "      <td>1.0</td>\n",
       "      <td>0</td>\n",
       "      <td>249.0</td>\n",
       "      <td>150000</td>\n",
       "      <td>5.0</td>\n",
       "      <td>24.0</td>\n",
       "      <td>0.0</td>\n",
       "      <td>2016</td>\n",
       "    </tr>\n",
       "    <tr>\n",
       "      <td>334803</td>\n",
       "      <td>2200</td>\n",
       "      <td>3.0</td>\n",
       "      <td>2005</td>\n",
       "      <td>2.0</td>\n",
       "      <td>0</td>\n",
       "      <td>166.0</td>\n",
       "      <td>20000</td>\n",
       "      <td>4.0</td>\n",
       "      <td>25.0</td>\n",
       "      <td>1.0</td>\n",
       "      <td>2016</td>\n",
       "    </tr>\n",
       "    <tr>\n",
       "      <td>334804</td>\n",
       "      <td>1199</td>\n",
       "      <td>1.0</td>\n",
       "      <td>2000</td>\n",
       "      <td>0.0</td>\n",
       "      <td>101</td>\n",
       "      <td>106.0</td>\n",
       "      <td>125000</td>\n",
       "      <td>5.0</td>\n",
       "      <td>33.0</td>\n",
       "      <td>0.0</td>\n",
       "      <td>2016</td>\n",
       "    </tr>\n",
       "    <tr>\n",
       "      <td>334805</td>\n",
       "      <td>9200</td>\n",
       "      <td>0.0</td>\n",
       "      <td>1996</td>\n",
       "      <td>1.0</td>\n",
       "      <td>102</td>\n",
       "      <td>224.0</td>\n",
       "      <td>150000</td>\n",
       "      <td>5.0</td>\n",
       "      <td>38.0</td>\n",
       "      <td>0.0</td>\n",
       "      <td>2016</td>\n",
       "    </tr>\n",
       "    <tr>\n",
       "      <td>334806</td>\n",
       "      <td>3400</td>\n",
       "      <td>7.0</td>\n",
       "      <td>2002</td>\n",
       "      <td>1.0</td>\n",
       "      <td>100</td>\n",
       "      <td>116.0</td>\n",
       "      <td>150000</td>\n",
       "      <td>5.0</td>\n",
       "      <td>38.0</td>\n",
       "      <td>1.0</td>\n",
       "      <td>2016</td>\n",
       "    </tr>\n",
       "  </tbody>\n",
       "</table>\n",
       "<p>334807 rows × 11 columns</p>\n",
       "</div>"
      ],
      "text/plain": [
       "        Price  VehicleType  RegistrationYear  Gearbox  Power  Model  \\\n",
       "0         480          3.0              1993      1.0      0  116.0   \n",
       "1       18300          2.0              2011      1.0    190  166.0   \n",
       "2        9800          6.0              2004      0.0    163  117.0   \n",
       "3        1500          5.0              2001      1.0     75  116.0   \n",
       "4        3600          5.0              2008      1.0     69  101.0   \n",
       "...       ...          ...               ...      ...    ...    ...   \n",
       "334802   1150          0.0              2000      1.0      0  249.0   \n",
       "334803   2200          3.0              2005      2.0      0  166.0   \n",
       "334804   1199          1.0              2000      0.0    101  106.0   \n",
       "334805   9200          0.0              1996      1.0    102  224.0   \n",
       "334806   3400          7.0              2002      1.0    100  116.0   \n",
       "\n",
       "        Kilometer  FuelType  Brand  NotRepaired  DateCreated  \n",
       "0          150000       5.0   38.0          1.0         2016  \n",
       "1          125000       5.0    1.0          2.0         2016  \n",
       "2          125000       5.0   14.0          1.0         2016  \n",
       "3          150000       5.0   38.0          0.0         2016  \n",
       "4           90000       5.0   32.0          0.0         2016  \n",
       "...           ...       ...    ...          ...          ...  \n",
       "334802     150000       5.0   24.0          0.0         2016  \n",
       "334803      20000       4.0   25.0          1.0         2016  \n",
       "334804     125000       5.0   33.0          0.0         2016  \n",
       "334805     150000       5.0   38.0          0.0         2016  \n",
       "334806     150000       5.0   38.0          1.0         2016  \n",
       "\n",
       "[334807 rows x 11 columns]"
      ]
     },
     "execution_count": 42,
     "metadata": {},
     "output_type": "execute_result"
    }
   ],
   "source": [
    "data"
   ]
  },
  {
   "cell_type": "code",
   "execution_count": 43,
   "metadata": {},
   "outputs": [
    {
     "name": "stdout",
     "output_type": "stream",
     "text": [
      "<class 'pandas.core.frame.DataFrame'>\n",
      "RangeIndex: 334807 entries, 0 to 334806\n",
      "Data columns (total 11 columns):\n",
      "Price               334807 non-null int64\n",
      "VehicleType         334807 non-null float64\n",
      "RegistrationYear    334807 non-null int64\n",
      "Gearbox             334807 non-null float64\n",
      "Power               334807 non-null int64\n",
      "Model               334807 non-null float64\n",
      "Kilometer           334807 non-null int64\n",
      "FuelType            334807 non-null float64\n",
      "Brand               334807 non-null float64\n",
      "NotRepaired         334807 non-null float64\n",
      "DateCreated         334807 non-null int64\n",
      "dtypes: float64(6), int64(5)\n",
      "memory usage: 28.1 MB\n"
     ]
    }
   ],
   "source": [
    "data.info()"
   ]
  },
  {
   "cell_type": "markdown",
   "metadata": {},
   "source": [
    "Посмотрим, какую часть данных потеряли при предобработке."
   ]
  },
  {
   "cell_type": "code",
   "execution_count": 44,
   "metadata": {},
   "outputs": [
    {
     "data": {
      "text/plain": [
       "5.520234557763237"
      ]
     },
     "execution_count": 44,
     "metadata": {},
     "output_type": "execute_result"
    }
   ],
   "source": [
    "(1 - data.shape[0] / data_init_shape[0]) * 100"
   ]
  },
  {
   "cell_type": "markdown",
   "metadata": {},
   "source": [
    "Всего около пяти с половиной процентов данных. Кроме того, размер нашего датасета уменьшился с 43.3 мегабайт до 28.1 мегабайта."
   ]
  },
  {
   "cell_type": "markdown",
   "metadata": {},
   "source": [
    "## Обучение моделей\n",
    "[К содержанию](#Содержание)"
   ]
  },
  {
   "cell_type": "markdown",
   "metadata": {},
   "source": [
    "### Разбивка данных на выборки\n",
    "[К содержанию](#Содержание)"
   ]
  },
  {
   "cell_type": "markdown",
   "metadata": {},
   "source": [
    "Для работы с моделями нам необходимо сначала разбить данные на признаки и целевой признак."
   ]
  },
  {
   "cell_type": "code",
   "execution_count": 45,
   "metadata": {},
   "outputs": [],
   "source": [
    "features = data.drop(['Price'], axis=1)\n",
    "target = data['Price']"
   ]
  },
  {
   "cell_type": "markdown",
   "metadata": {},
   "source": [
    "А теперь поделить наборы данных их на учебный и валидационный."
   ]
  },
  {
   "cell_type": "code",
   "execution_count": 46,
   "metadata": {},
   "outputs": [],
   "source": [
    "features_train_valid, features_test, target_train_valid, target_test = train_test_split(\n",
    "    features,\n",
    "    target,\n",
    "    test_size=.20,\n",
    "    random_state=RS)"
   ]
  },
  {
   "cell_type": "code",
   "execution_count": 47,
   "metadata": {},
   "outputs": [],
   "source": [
    "features_train, features_valid, target_train, target_valid = train_test_split(\n",
    "    features_train_valid,\n",
    "    target_train_valid,\n",
    "    test_size=.25,\n",
    "    random_state=RS)"
   ]
  },
  {
   "cell_type": "markdown",
   "metadata": {},
   "source": [
    "### Обучение простых моделей\n",
    "[К содержанию](#Содержание)"
   ]
  },
  {
   "cell_type": "markdown",
   "metadata": {},
   "source": [
    "Прежде чем применять градиентный бустинг, обучим простые модели и посомтрим, как они себя покажут. Там, где это возможно, обучать модели будем в циклах, подбирая оптимальные гиперпараметры. Перед подбором гиперпараметров, обучим модели без подбора, чтобы понять сколько времени займет обучение и предсказание каждой из моделей."
   ]
  },
  {
   "cell_type": "markdown",
   "metadata": {},
   "source": [
    "#### Модель линейной регрессии"
   ]
  },
  {
   "cell_type": "code",
   "execution_count": 48,
   "metadata": {},
   "outputs": [],
   "source": [
    "model_linreg = LinearRegression()"
   ]
  },
  {
   "cell_type": "code",
   "execution_count": 49,
   "metadata": {},
   "outputs": [
    {
     "name": "stdout",
     "output_type": "stream",
     "text": [
      "CPU times: user 74.2 ms, sys: 41.7 ms, total: 116 ms\n",
      "Wall time: 87.5 ms\n"
     ]
    },
    {
     "data": {
      "text/plain": [
       "LinearRegression(copy_X=True, fit_intercept=True, n_jobs=None, normalize=False)"
      ]
     },
     "execution_count": 49,
     "metadata": {},
     "output_type": "execute_result"
    }
   ],
   "source": [
    "%%time\n",
    "\n",
    "model_linreg.fit(features_train_valid, target_train_valid)"
   ]
  },
  {
   "cell_type": "code",
   "execution_count": 50,
   "metadata": {},
   "outputs": [
    {
     "name": "stdout",
     "output_type": "stream",
     "text": [
      "CPU times: user 13.2 ms, sys: 4.26 ms, total: 17.5 ms\n",
      "Wall time: 74.1 ms\n"
     ]
    }
   ],
   "source": [
    "%%time\n",
    "\n",
    "predictions = model_linreg.predict(features_test)"
   ]
  },
  {
   "cell_type": "code",
   "execution_count": 51,
   "metadata": {},
   "outputs": [
    {
     "name": "stdout",
     "output_type": "stream",
     "text": [
      "При использовании модели линейной регрессии, результат метрики RMSE: 3633.4.\n"
     ]
    }
   ],
   "source": [
    "rmse = np.sqrt(mean_squared_error(target_test, predictions))\n",
    "print('При использовании модели линейной регрессии, результат метрики RMSE: {:.1f}.'.format(rmse))"
   ]
  },
  {
   "cell_type": "markdown",
   "metadata": {},
   "source": [
    "Время обучения модели линейной регрессии на наших данных: 87.5 ms  \n",
    "Время предсказаний модели линейной регрессии: 74.1 ms"
   ]
  },
  {
   "cell_type": "markdown",
   "metadata": {},
   "source": [
    "#### Модель древа решений"
   ]
  },
  {
   "cell_type": "code",
   "execution_count": 52,
   "metadata": {},
   "outputs": [],
   "source": [
    "model_tree = DecisionTreeRegressor(random_state = RS)"
   ]
  },
  {
   "cell_type": "code",
   "execution_count": 53,
   "metadata": {},
   "outputs": [
    {
     "name": "stdout",
     "output_type": "stream",
     "text": [
      "CPU times: user 1.07 s, sys: 870 µs, total: 1.07 s\n",
      "Wall time: 1.08 s\n"
     ]
    },
    {
     "data": {
      "text/plain": [
       "DecisionTreeRegressor(criterion='mse', max_depth=None, max_features=None,\n",
       "                      max_leaf_nodes=None, min_impurity_decrease=0.0,\n",
       "                      min_impurity_split=None, min_samples_leaf=1,\n",
       "                      min_samples_split=2, min_weight_fraction_leaf=0.0,\n",
       "                      presort=False, random_state=12345, splitter='best')"
      ]
     },
     "execution_count": 53,
     "metadata": {},
     "output_type": "execute_result"
    }
   ],
   "source": [
    "%%time\n",
    "\n",
    "model_tree.fit(features_train_valid, target_train_valid)"
   ]
  },
  {
   "cell_type": "code",
   "execution_count": 54,
   "metadata": {},
   "outputs": [
    {
     "name": "stdout",
     "output_type": "stream",
     "text": [
      "CPU times: user 40.5 ms, sys: 517 µs, total: 41 ms\n",
      "Wall time: 39.2 ms\n"
     ]
    }
   ],
   "source": [
    "%%time\n",
    "\n",
    "predictions = model_tree.predict(features_test)"
   ]
  },
  {
   "cell_type": "code",
   "execution_count": 55,
   "metadata": {},
   "outputs": [
    {
     "data": {
      "text/plain": [
       "2019.3475617080824"
      ]
     },
     "execution_count": 55,
     "metadata": {},
     "output_type": "execute_result"
    }
   ],
   "source": [
    "rmse = np.sqrt(mean_squared_error(target_test, predictions))\n",
    "rmse"
   ]
  },
  {
   "cell_type": "markdown",
   "metadata": {},
   "source": [
    "Время обучения модели древа решений на наших данных: 1.08 s  \n",
    "Время предсказаний модели древа решений: 39.2 ms"
   ]
  },
  {
   "cell_type": "code",
   "execution_count": 56,
   "metadata": {},
   "outputs": [
    {
     "name": "stdout",
     "output_type": "stream",
     "text": [
      "При использовании модели древа решений, наилучший результат метрики RMSE: 1961.3\n",
      "при значении гиперпараметра модели \"max_depth=14\".\n",
      "CPU times: user 7.41 s, sys: 0 ns, total: 7.41 s\n",
      "Wall time: 7.74 s\n"
     ]
    }
   ],
   "source": [
    "%%time\n",
    "\n",
    "best_depth = 0\n",
    "best_rmse = 10000\n",
    "for depth in range(5, 20):\n",
    "    model_tree = DecisionTreeRegressor(max_depth = depth, random_state = RS)\n",
    "    model_tree.fit(features_train, target_train)\n",
    "    predictions = model_tree.predict(features_valid)\n",
    "    rmse = np.sqrt(mean_squared_error(target_valid, predictions))\n",
    "    if rmse < best_rmse:\n",
    "        best_rmse = rmse\n",
    "        best_depth = depth\n",
    "        \n",
    "model_tree = DecisionTreeRegressor(max_depth = best_depth, random_state = RS)\n",
    "model_tree.fit(features_train, target_train)\n",
    "predictions = model_tree.predict(features_test)\n",
    "rmse = np.sqrt(mean_squared_error(target_test, predictions))\n",
    "print('При использовании модели древа решений, наилучший результат метрики RMSE: {:.1f}\\nпри значении гиперпараметра модели \"max_depth={:.0f}\".'.format(rmse, best_depth))"
   ]
  },
  {
   "cell_type": "code",
   "execution_count": 57,
   "metadata": {},
   "outputs": [
    {
     "name": "stdout",
     "output_type": "stream",
     "text": [
      "{'max_depth': 14}\n",
      "RMSE равен 1933.7844754252167\n",
      "CPU times: user 39.4 s, sys: 526 ms, total: 39.9 s\n",
      "Wall time: 40.3 s\n"
     ]
    }
   ],
   "source": [
    "%%time\n",
    "\n",
    "parameters = {'max_depth': range(5,20)}\n",
    "clf = GridSearchCV(DecisionTreeRegressor(), parameters, cv=5, scoring='neg_mean_squared_error')\n",
    "clf.fit(features_train_valid, target_train_valid)\n",
    "print(clf.best_params_)\n",
    "\n",
    "model_tree = DecisionTreeRegressor(max_depth = clf.best_params_['max_depth'], random_state = RS)\n",
    "model_tree.fit(features_train_valid, target_train_valid)\n",
    "predictions = model_tree.predict(features_test)\n",
    "rmse = np.sqrt(mean_squared_error(target_test, predictions))\n",
    "    \n",
    "print('RMSE равен', rmse)"
   ]
  },
  {
   "cell_type": "markdown",
   "metadata": {},
   "source": [
    "#### Модель случайного леса"
   ]
  },
  {
   "cell_type": "code",
   "execution_count": 58,
   "metadata": {
    "scrolled": true
   },
   "outputs": [],
   "source": [
    "model_forest = RandomForestRegressor(random_state = RS)"
   ]
  },
  {
   "cell_type": "code",
   "execution_count": 59,
   "metadata": {},
   "outputs": [
    {
     "name": "stderr",
     "output_type": "stream",
     "text": [
      "/opt/conda/lib/python3.7/site-packages/sklearn/ensemble/forest.py:245: FutureWarning: The default value of n_estimators will change from 10 in version 0.20 to 100 in 0.22.\n",
      "  \"10 in version 0.20 to 100 in 0.22.\", FutureWarning)\n"
     ]
    },
    {
     "name": "stdout",
     "output_type": "stream",
     "text": [
      "CPU times: user 6.9 s, sys: 55.7 ms, total: 6.96 s\n",
      "Wall time: 6.98 s\n"
     ]
    },
    {
     "data": {
      "text/plain": [
       "RandomForestRegressor(bootstrap=True, criterion='mse', max_depth=None,\n",
       "                      max_features='auto', max_leaf_nodes=None,\n",
       "                      min_impurity_decrease=0.0, min_impurity_split=None,\n",
       "                      min_samples_leaf=1, min_samples_split=2,\n",
       "                      min_weight_fraction_leaf=0.0, n_estimators=10,\n",
       "                      n_jobs=None, oob_score=False, random_state=12345,\n",
       "                      verbose=0, warm_start=False)"
      ]
     },
     "execution_count": 59,
     "metadata": {},
     "output_type": "execute_result"
    }
   ],
   "source": [
    "%%time\n",
    "\n",
    "model_forest.fit(features_train_valid, target_train_valid)"
   ]
  },
  {
   "cell_type": "code",
   "execution_count": 60,
   "metadata": {},
   "outputs": [
    {
     "name": "stdout",
     "output_type": "stream",
     "text": [
      "CPU times: user 329 ms, sys: 0 ns, total: 329 ms\n",
      "Wall time: 340 ms\n"
     ]
    }
   ],
   "source": [
    "%%time\n",
    "\n",
    "predictions = model_forest.predict(features_test)"
   ]
  },
  {
   "cell_type": "code",
   "execution_count": 61,
   "metadata": {},
   "outputs": [
    {
     "data": {
      "text/plain": [
       "1697.4706818558889"
      ]
     },
     "execution_count": 61,
     "metadata": {},
     "output_type": "execute_result"
    }
   ],
   "source": [
    "rmse = np.sqrt(mean_squared_error(target_test, predictions))\n",
    "rmse"
   ]
  },
  {
   "cell_type": "markdown",
   "metadata": {},
   "source": [
    "Время обучения модели случайного леса на наших данных: 6.98 s  \n",
    "Время предсказаний модели случайного леса: 340 ms"
   ]
  },
  {
   "cell_type": "code",
   "execution_count": 62,
   "metadata": {},
   "outputs": [
    {
     "name": "stdout",
     "output_type": "stream",
     "text": [
      "При использовании модели случайного леса, наилучший результат метрики RMSE: 1705.4\n",
      "при значении гиперпараметров модели \"max_depth=18\", \"n_estimators=14\".\n",
      "CPU times: user 7min 30s, sys: 1.59 s, total: 7min 31s\n",
      "Wall time: 7min 33s\n"
     ]
    }
   ],
   "source": [
    "%%time\n",
    "\n",
    "best_depth = 0\n",
    "best_es = 0\n",
    "best_rmse = 10000\n",
    "for depth in range(15, 25):\n",
    "    for es in range(5, 15):\n",
    "        model_forest = RandomForestRegressor(max_depth = depth, n_estimators = es, random_state = RS)\n",
    "        model_forest.fit(features_train, target_train)\n",
    "        predictions = model_forest.predict(features_valid)\n",
    "        rmse = np.sqrt(mean_squared_error(target_valid, predictions))\n",
    "        if rmse < best_rmse:\n",
    "            best_rmse = rmse\n",
    "            best_depth = depth\n",
    "            best_es = es\n",
    "\n",
    "model_forest = RandomForestRegressor(max_depth = best_depth, n_estimators = best_es, random_state = RS)\n",
    "model_forest.fit(features_train, target_train)\n",
    "predictions = model_forest.predict(features_test)\n",
    "rmse = np.sqrt(mean_squared_error(target_test, predictions))\n",
    "\n",
    "print('При использовании модели случайного леса, наилучший результат метрики RMSE: {:.1f}\\nпри значении гиперпараметров модели \"max_depth={:.0f}\", \"n_estimators={:.0f}\".'.format(rmse, best_depth, best_es))"
   ]
  },
  {
   "cell_type": "markdown",
   "metadata": {},
   "source": [
    "### Обучение модели градиентного бустинга\n",
    "[К содержанию](#Содержание)"
   ]
  },
  {
   "cell_type": "markdown",
   "metadata": {},
   "source": [
    "В этом проекте предлагается искользовать модели градиентного бустинга из библиотеки LightGBM."
   ]
  },
  {
   "cell_type": "code",
   "execution_count": 63,
   "metadata": {},
   "outputs": [],
   "source": [
    "features_lgbm = data_lgbm.drop(['Price'], axis=1)\n",
    "target_lgbm = data_lgbm['Price']"
   ]
  },
  {
   "cell_type": "code",
   "execution_count": 64,
   "metadata": {},
   "outputs": [],
   "source": [
    "features_lgbm_train_valid, features_lgbm_test, target_lgbm_train_valid, target_lgbm_test = train_test_split(\n",
    "    features_lgbm,\n",
    "    target_lgbm,\n",
    "    test_size=.20,\n",
    "    random_state=RS)"
   ]
  },
  {
   "cell_type": "code",
   "execution_count": 65,
   "metadata": {},
   "outputs": [],
   "source": [
    "features_lgbm_train, features_lgbm_test, target_lgbm_train, target_lgbm_test = train_test_split(\n",
    "    features_lgbm_train_valid,\n",
    "    target_lgbm_train_valid,\n",
    "    test_size=.25,\n",
    "    random_state=RS)"
   ]
  },
  {
   "cell_type": "markdown",
   "metadata": {},
   "source": [
    "#### LGBMRegressor"
   ]
  },
  {
   "cell_type": "code",
   "execution_count": 66,
   "metadata": {},
   "outputs": [],
   "source": [
    "model_lgb = LGBMRegressor(random_state=RS)"
   ]
  },
  {
   "cell_type": "code",
   "execution_count": 67,
   "metadata": {},
   "outputs": [
    {
     "name": "stdout",
     "output_type": "stream",
     "text": [
      "CPU times: user 8.74 s, sys: 74.4 ms, total: 8.81 s\n",
      "Wall time: 8.91 s\n"
     ]
    },
    {
     "data": {
      "text/plain": [
       "LGBMRegressor(boosting_type='gbdt', class_weight=None, colsample_bytree=1.0,\n",
       "              importance_type='split', learning_rate=0.1, max_depth=-1,\n",
       "              min_child_samples=20, min_child_weight=0.001, min_split_gain=0.0,\n",
       "              n_estimators=100, n_jobs=-1, num_leaves=31, objective=None,\n",
       "              random_state=12345, reg_alpha=0.0, reg_lambda=0.0, silent=True,\n",
       "              subsample=1.0, subsample_for_bin=200000, subsample_freq=0)"
      ]
     },
     "execution_count": 67,
     "metadata": {},
     "output_type": "execute_result"
    }
   ],
   "source": [
    "%%time\n",
    "\n",
    "model_lgb.fit(features_lgbm_train_valid, target_lgbm_train_valid)"
   ]
  },
  {
   "cell_type": "code",
   "execution_count": 68,
   "metadata": {},
   "outputs": [
    {
     "name": "stdout",
     "output_type": "stream",
     "text": [
      "CPU times: user 519 ms, sys: 46 µs, total: 519 ms\n",
      "Wall time: 586 ms\n"
     ]
    }
   ],
   "source": [
    "%%time\n",
    "\n",
    "predictions = model_lgb.predict(features_lgbm_test)"
   ]
  },
  {
   "cell_type": "code",
   "execution_count": 69,
   "metadata": {
    "scrolled": true
   },
   "outputs": [
    {
     "data": {
      "text/plain": [
       "1757.2974135516313"
      ]
     },
     "execution_count": 69,
     "metadata": {},
     "output_type": "execute_result"
    }
   ],
   "source": [
    "rmse = np.sqrt(mean_squared_error(target_lgbm_test, predictions))\n",
    "rmse"
   ]
  },
  {
   "cell_type": "markdown",
   "metadata": {},
   "source": [
    "Время обучения модели градиентного бустинга LGBMRegressor на наших данных: 8.91 s  \n",
    "Время предсказаний модели градиентного бустинга LGBMRegressor: 586 ms"
   ]
  },
  {
   "cell_type": "code",
   "execution_count": 70,
   "metadata": {
    "scrolled": true
   },
   "outputs": [
    {
     "name": "stdout",
     "output_type": "stream",
     "text": [
      "При использовании модели градиентного бустинга из библиотеки LightGBM, наилучший результат метрики RMSE: 1633.2\n",
      "при значении гиперпараметров модели \"learning_rate=0.25\", \"n_estimators=400\".\n",
      "CPU times: user 2min 1s, sys: 710 ms, total: 2min 2s\n",
      "Wall time: 2min 4s\n"
     ]
    }
   ],
   "source": [
    "%%time\n",
    "\n",
    "best_rate = 0\n",
    "best_es = 0\n",
    "best_rmse = 10000\n",
    "for rate in range(25, 35, 5):\n",
    "    for es in range(200, 401, 100):\n",
    "        model_lgb = LGBMRegressor(n_estimators=es, learning_rate = rate/100,random_state=RS)\n",
    "        model_lgb.fit(features_train, target_train)\n",
    "        predictions = model_lgb.predict(features_valid)\n",
    "        rmse = np.sqrt(mean_squared_error(target_valid, predictions))\n",
    "        if rmse < best_rmse:\n",
    "                best_rmse = rmse\n",
    "                best_rate = rate\n",
    "                best_es = es\n",
    "\n",
    "model_lgb = LGBMRegressor(n_estimators=best_es, learning_rate = best_rate/100, random_state=RS)\n",
    "model_lgb.fit(features_train, target_train)\n",
    "predictions = model_lgb.predict(features_test)\n",
    "rmse = np.sqrt(mean_squared_error(target_test, predictions))\n",
    "\n",
    "print('При использовании модели градиентного бустинга из библиотеки LightGBM, наилучший результат метрики RMSE: {:.1f}\\nпри значении гиперпараметров модели \"learning_rate={:.2f}\", \"n_estimators={:.0f}\".'.format(rmse, best_rate/100, best_es))"
   ]
  },
  {
   "cell_type": "markdown",
   "metadata": {},
   "source": [
    "## Анализ моделей\n",
    "[К содержанию](#Содержание)"
   ]
  },
  {
   "cell_type": "markdown",
   "metadata": {},
   "source": [
    "Сведем результаты работы всех моделей в таблицу. Очевидно, что время работы может отличаться на разных машинах и при разной загружености. Поэтому фиксирую его здесь и сеййчас чтобы сделать какие-то выводы. \n",
    "\n",
    "Для того, чтобы было справедливо сравнивать время работы моделей, модели обучались и проверялись на одном и том же наборе данных train_valid и test. Единственное отличие — у модели градиентного бустинга иначе были обработаны категориальные признаки.\n",
    "\n",
    "| Применяемая модель     | Время обучения | Время предсказания |  RMSE  |\n",
    "|:-----------------------|---------------:|-------------------:|-------:|\n",
    "| LinearRegression()     | 87.5 ms        | 74.1 ms            | 3633.4 |\n",
    "| DecisionTreeRegressor()| 1.08 s         | 39.2 ms            | 2019.3 |\n",
    "| RandomForestRegressor()| 6.98 s         | 340 ms             | 1697.4 |\n",
    "| LGBMRegressor()        | 8.91 s         | 586 ms             | 1757.3 |\n",
    "\n",
    "\n",
    "Из таблицы видно, что у более простых моделей гораздо меньше и время обучения и предсказания, однако при этом гораздо хуже метрика — больше ошибка. Тогда как ансамбль и модель градиентного бустинга дают гораздо меньшую ошибку, но время на обучение на одних и тех же данных может отличаться в десятки раз.\n",
    "    \n",
    "Однако, мы можем запустить те же самые алгоритмы на более производительных машинах. Это даст нам ту же самую ошибку за меньшее, приемлимое время.\n",
    "\n",
    "В результате, без подбора гиперпараметров модель случайного леса и модель градиентного бустинга дают близкие результаты по качеству и скорости работы. \n",
    "\n",
    "При самом поверхностном переборе гиперпараметров, модель градинетного бустинга улучшает свои результаты и заметно опережает модель случайного леса.\n",
    "\n",
    "Однако, перебор параметров для модели градинетного бустинга занимает гораздо больше времени. Когда в модели случайного леса было перебрано 100 возможных комбинаций двух гиперпараметров, модель градиентного бустинга примерно за то же время перебрала только 30 возможных комбинаций."
   ]
  },
  {
   "cell_type": "markdown",
   "metadata": {},
   "source": [
    "### Анализ важности признаков\n",
    "[К содержанию](#Содержание)"
   ]
  },
  {
   "cell_type": "markdown",
   "metadata": {},
   "source": [
    "Выполним анализ важности признаков у тех моделей, у которых это возможно сделать."
   ]
  },
  {
   "cell_type": "code",
   "execution_count": 71,
   "metadata": {
    "scrolled": true
   },
   "outputs": [
    {
     "data": {
      "text/html": [
       "<div>\n",
       "<style scoped>\n",
       "    .dataframe tbody tr th:only-of-type {\n",
       "        vertical-align: middle;\n",
       "    }\n",
       "\n",
       "    .dataframe tbody tr th {\n",
       "        vertical-align: top;\n",
       "    }\n",
       "\n",
       "    .dataframe thead th {\n",
       "        text-align: right;\n",
       "    }\n",
       "</style>\n",
       "<table border=\"1\" class=\"dataframe\">\n",
       "  <thead>\n",
       "    <tr style=\"text-align: right;\">\n",
       "      <th></th>\n",
       "      <th>VehicleType</th>\n",
       "      <th>RegistrationYear</th>\n",
       "      <th>Gearbox</th>\n",
       "      <th>Power</th>\n",
       "      <th>Model</th>\n",
       "      <th>Kilometer</th>\n",
       "      <th>FuelType</th>\n",
       "      <th>Brand</th>\n",
       "      <th>NotRepaired</th>\n",
       "      <th>DateCreated</th>\n",
       "    </tr>\n",
       "  </thead>\n",
       "  <tbody>\n",
       "    <tr>\n",
       "      <td>RandomTree</td>\n",
       "      <td>0.030253</td>\n",
       "      <td>0.531229</td>\n",
       "      <td>0.006373</td>\n",
       "      <td>0.301524</td>\n",
       "      <td>0.023698</td>\n",
       "      <td>0.054453</td>\n",
       "      <td>0.001695</td>\n",
       "      <td>0.036212</td>\n",
       "      <td>0.014551</td>\n",
       "      <td>0.000013</td>\n",
       "    </tr>\n",
       "    <tr>\n",
       "      <td>RandomForest</td>\n",
       "      <td>0.034375</td>\n",
       "      <td>0.498147</td>\n",
       "      <td>0.010305</td>\n",
       "      <td>0.292953</td>\n",
       "      <td>0.039661</td>\n",
       "      <td>0.059836</td>\n",
       "      <td>0.004014</td>\n",
       "      <td>0.043883</td>\n",
       "      <td>0.016814</td>\n",
       "      <td>0.000011</td>\n",
       "    </tr>\n",
       "    <tr>\n",
       "      <td>LightGBM</td>\n",
       "      <td>0.077667</td>\n",
       "      <td>0.234750</td>\n",
       "      <td>0.031583</td>\n",
       "      <td>0.239250</td>\n",
       "      <td>0.154250</td>\n",
       "      <td>0.106250</td>\n",
       "      <td>0.014583</td>\n",
       "      <td>0.112750</td>\n",
       "      <td>0.028917</td>\n",
       "      <td>0.000000</td>\n",
       "    </tr>\n",
       "  </tbody>\n",
       "</table>\n",
       "</div>"
      ],
      "text/plain": [
       "              VehicleType  RegistrationYear   Gearbox     Power     Model  \\\n",
       "RandomTree       0.030253          0.531229  0.006373  0.301524  0.023698   \n",
       "RandomForest     0.034375          0.498147  0.010305  0.292953  0.039661   \n",
       "LightGBM         0.077667          0.234750  0.031583  0.239250  0.154250   \n",
       "\n",
       "              Kilometer  FuelType     Brand  NotRepaired  DateCreated  \n",
       "RandomTree     0.054453  0.001695  0.036212     0.014551     0.000013  \n",
       "RandomForest   0.059836  0.004014  0.043883     0.016814     0.000011  \n",
       "LightGBM       0.106250  0.014583  0.112750     0.028917     0.000000  "
      ]
     },
     "execution_count": 71,
     "metadata": {},
     "output_type": "execute_result"
    }
   ],
   "source": [
    "imp_tree = model_tree.feature_importances_\n",
    "imp_forest = model_forest.feature_importances_\n",
    "imp_lgb = model_lgb.feature_importances_\n",
    "imp_lgb = imp_lgb/imp_lgb.sum()\n",
    "importances = pd.DataFrame(index=['RandomTree', 'RandomForest', 'LightGBM'], columns=features_train.columns, data=[imp_tree, imp_forest, imp_lgb])\n",
    "importances"
   ]
  },
  {
   "cell_type": "markdown",
   "metadata": {},
   "source": [
    "В итоге, как видим, наибольшее влияние на стоимость автомобиля оказывает именно год регистрации автомобиля и мощность. Затем идут пробег и марка. Зная это, можно было бы вернуться к обработке данных и уделить больше внимания именно этим четырем признакам.\n",
    "\n",
    "Дата создания почти никак не влияет на предсказания так как у нас датасет с очень малым диапазоном категорий в этом признаке. Думаю, если бы у нас были данные за десять лет, важность данного признака была бы выше.\n",
    "\n",
    "Отдельно отметим на результаты модели градиентного бустинга. Она отвела гораздо больше веса таким признакам, как тип коробки передач и модель авто. Следовательно при предсказании данная модель ориентируется в том числе и на эти признаки. По идее это должно увеличивать качество предсказаний."
   ]
  },
  {
   "cell_type": "code",
   "execution_count": null,
   "metadata": {},
   "outputs": [],
   "source": []
  }
 ],
 "metadata": {
  "ExecuteTimeLog": [
   {
    "duration": 831,
    "start_time": "2021-11-30T09:36:01.571Z"
   },
   {
    "duration": 1222,
    "start_time": "2021-11-30T09:36:28.349Z"
   },
   {
    "duration": 1448,
    "start_time": "2021-11-30T09:37:01.763Z"
   },
   {
    "duration": 1308,
    "start_time": "2021-11-30T09:38:38.773Z"
   },
   {
    "duration": 1187,
    "start_time": "2021-11-30T09:38:51.853Z"
   },
   {
    "duration": 1271,
    "start_time": "2021-11-30T09:39:40.008Z"
   },
   {
    "duration": 35,
    "start_time": "2021-11-30T10:42:51.115Z"
   },
   {
    "duration": 78745,
    "start_time": "2021-11-30T10:43:39.794Z"
   },
   {
    "duration": 7,
    "start_time": "2021-11-30T10:45:08.311Z"
   },
   {
    "duration": 48,
    "start_time": "2021-11-30T10:45:39.438Z"
   },
   {
    "duration": 18,
    "start_time": "2021-11-30T10:46:21.081Z"
   },
   {
    "duration": 8,
    "start_time": "2021-11-30T10:46:26.709Z"
   },
   {
    "duration": 18,
    "start_time": "2021-11-30T10:46:34.094Z"
   },
   {
    "duration": 325,
    "start_time": "2021-11-30T11:11:15.986Z"
   },
   {
    "duration": 625,
    "start_time": "2021-11-30T11:11:21.951Z"
   },
   {
    "duration": 642,
    "start_time": "2021-11-30T11:12:18.908Z"
   },
   {
    "duration": 597,
    "start_time": "2021-11-30T11:12:29.782Z"
   },
   {
    "duration": 614,
    "start_time": "2021-11-30T11:13:31.146Z"
   },
   {
    "duration": 579,
    "start_time": "2021-11-30T11:13:46.633Z"
   },
   {
    "duration": 59,
    "start_time": "2021-11-30T11:42:15.279Z"
   },
   {
    "duration": 16,
    "start_time": "2021-11-30T11:42:36.981Z"
   },
   {
    "duration": 412,
    "start_time": "2021-11-30T11:42:53.716Z"
   },
   {
    "duration": 47,
    "start_time": "2021-11-30T11:43:05.217Z"
   },
   {
    "duration": 12,
    "start_time": "2021-11-30T11:43:14.622Z"
   },
   {
    "duration": 12,
    "start_time": "2021-11-30T11:45:57.744Z"
   },
   {
    "duration": 588,
    "start_time": "2021-12-02T05:01:54.000Z"
   },
   {
    "duration": 852,
    "start_time": "2021-12-02T05:01:55.651Z"
   },
   {
    "duration": 56,
    "start_time": "2021-12-02T05:01:58.925Z"
   },
   {
    "duration": 25,
    "start_time": "2021-12-02T05:02:44.444Z"
   },
   {
    "duration": 9,
    "start_time": "2021-12-02T05:03:46.823Z"
   },
   {
    "duration": 8,
    "start_time": "2021-12-02T05:04:16.215Z"
   },
   {
    "duration": 9,
    "start_time": "2021-12-02T05:04:26.199Z"
   },
   {
    "duration": 9,
    "start_time": "2021-12-02T05:04:51.599Z"
   },
   {
    "duration": 351,
    "start_time": "2021-12-02T05:05:25.532Z"
   },
   {
    "duration": 25,
    "start_time": "2021-12-02T05:05:39.700Z"
   },
   {
    "duration": 7,
    "start_time": "2021-12-02T05:06:01.928Z"
   },
   {
    "duration": 8,
    "start_time": "2021-12-02T05:06:29.676Z"
   },
   {
    "duration": 7,
    "start_time": "2021-12-02T05:07:00.177Z"
   },
   {
    "duration": 7,
    "start_time": "2021-12-02T05:07:08.425Z"
   },
   {
    "duration": 33,
    "start_time": "2021-12-02T05:07:51.955Z"
   },
   {
    "duration": 35,
    "start_time": "2021-12-02T05:08:01.395Z"
   },
   {
    "duration": 18,
    "start_time": "2021-12-02T05:18:58.245Z"
   },
   {
    "duration": 41,
    "start_time": "2021-12-02T05:19:02.140Z"
   },
   {
    "duration": 8,
    "start_time": "2021-12-02T05:21:33.291Z"
   },
   {
    "duration": 859,
    "start_time": "2021-12-02T05:21:47.721Z"
   },
   {
    "duration": 21,
    "start_time": "2021-12-02T05:21:48.582Z"
   },
   {
    "duration": 25,
    "start_time": "2021-12-02T05:21:51.882Z"
   },
   {
    "duration": 30,
    "start_time": "2021-12-02T05:21:53.352Z"
   },
   {
    "duration": 240,
    "start_time": "2021-12-02T05:23:23.751Z"
   },
   {
    "duration": 178,
    "start_time": "2021-12-02T05:23:36.285Z"
   },
   {
    "duration": 8,
    "start_time": "2021-12-02T05:23:43.493Z"
   },
   {
    "duration": 158,
    "start_time": "2021-12-02T05:23:56.572Z"
   },
   {
    "duration": 207,
    "start_time": "2021-12-02T05:25:37.618Z"
   },
   {
    "duration": 41,
    "start_time": "2021-12-02T05:31:24.683Z"
   },
   {
    "duration": 265,
    "start_time": "2021-12-02T05:32:13.551Z"
   },
   {
    "duration": 22,
    "start_time": "2021-12-02T05:32:26.364Z"
   },
   {
    "duration": 9,
    "start_time": "2021-12-02T05:33:05.854Z"
   },
   {
    "duration": 8,
    "start_time": "2021-12-02T05:36:10.223Z"
   },
   {
    "duration": 6,
    "start_time": "2021-12-02T05:36:24.604Z"
   },
   {
    "duration": 7,
    "start_time": "2021-12-02T05:36:32.046Z"
   },
   {
    "duration": 19,
    "start_time": "2021-12-02T05:38:17.910Z"
   },
   {
    "duration": 14,
    "start_time": "2021-12-02T05:40:56.606Z"
   },
   {
    "duration": 8,
    "start_time": "2021-12-02T05:41:12.909Z"
   },
   {
    "duration": 7,
    "start_time": "2021-12-02T05:43:22.518Z"
   },
   {
    "duration": 8,
    "start_time": "2021-12-02T05:43:28.990Z"
   },
   {
    "duration": 6393,
    "start_time": "2021-12-02T05:45:53.488Z"
   },
   {
    "duration": 6973,
    "start_time": "2021-12-02T05:46:31.193Z"
   },
   {
    "duration": 20,
    "start_time": "2021-12-02T05:47:11.584Z"
   },
   {
    "duration": 18,
    "start_time": "2021-12-02T05:47:18.681Z"
   },
   {
    "duration": 55,
    "start_time": "2021-12-02T05:47:38.301Z"
   },
   {
    "duration": 46,
    "start_time": "2021-12-02T05:47:51.171Z"
   },
   {
    "duration": 57,
    "start_time": "2021-12-02T05:48:02.306Z"
   },
   {
    "duration": 23,
    "start_time": "2021-12-02T05:48:14.948Z"
   },
   {
    "duration": 14,
    "start_time": "2021-12-02T05:48:41.132Z"
   },
   {
    "duration": 25,
    "start_time": "2021-12-02T05:49:06.052Z"
   },
   {
    "duration": 269,
    "start_time": "2021-12-02T05:50:47.232Z"
   },
   {
    "duration": 17,
    "start_time": "2021-12-02T05:53:27.149Z"
   },
   {
    "duration": 25,
    "start_time": "2021-12-02T06:01:14.999Z"
   },
   {
    "duration": 17,
    "start_time": "2021-12-02T06:03:51.323Z"
   },
   {
    "duration": 6,
    "start_time": "2021-12-02T06:05:53.044Z"
   },
   {
    "duration": 10,
    "start_time": "2021-12-02T06:06:04.204Z"
   },
   {
    "duration": 811,
    "start_time": "2021-12-02T06:06:13.921Z"
   },
   {
    "duration": 24,
    "start_time": "2021-12-02T06:06:14.734Z"
   },
   {
    "duration": 10,
    "start_time": "2021-12-02T06:06:20.673Z"
   },
   {
    "duration": 23,
    "start_time": "2021-12-02T06:06:32.272Z"
   },
   {
    "duration": 1188,
    "start_time": "2021-12-02T06:06:46.488Z"
   },
   {
    "duration": 8,
    "start_time": "2021-12-02T06:06:51.734Z"
   },
   {
    "duration": 61,
    "start_time": "2021-12-02T06:07:09.294Z"
   },
   {
    "duration": 8,
    "start_time": "2021-12-02T06:07:15.155Z"
   },
   {
    "duration": 15,
    "start_time": "2021-12-02T06:07:18.955Z"
   },
   {
    "duration": 23,
    "start_time": "2021-12-02T06:07:32.107Z"
   },
   {
    "duration": 85,
    "start_time": "2021-12-02T06:09:01.247Z"
   },
   {
    "duration": 860,
    "start_time": "2021-12-02T06:11:47.150Z"
   },
   {
    "duration": 22,
    "start_time": "2021-12-02T06:11:48.012Z"
   },
   {
    "duration": 24,
    "start_time": "2021-12-02T06:11:50.157Z"
   },
   {
    "duration": 32,
    "start_time": "2021-12-02T06:11:50.669Z"
   },
   {
    "duration": 19,
    "start_time": "2021-12-02T06:11:52.140Z"
   },
   {
    "duration": 182,
    "start_time": "2021-12-02T06:11:53.516Z"
   },
   {
    "duration": 30,
    "start_time": "2021-12-02T06:11:55.124Z"
   },
   {
    "duration": 8,
    "start_time": "2021-12-02T06:11:56.246Z"
   },
   {
    "duration": 26,
    "start_time": "2021-12-02T06:11:58.804Z"
   },
   {
    "duration": 14,
    "start_time": "2021-12-02T06:12:18.714Z"
   },
   {
    "duration": 32,
    "start_time": "2021-12-02T06:15:34.645Z"
   },
   {
    "duration": 35,
    "start_time": "2021-12-02T06:15:45.798Z"
   },
   {
    "duration": 10,
    "start_time": "2021-12-02T06:16:10.259Z"
   },
   {
    "duration": 12,
    "start_time": "2021-12-02T06:17:08.455Z"
   },
   {
    "duration": 8,
    "start_time": "2021-12-02T06:17:17.922Z"
   },
   {
    "duration": 9,
    "start_time": "2021-12-02T06:25:47.968Z"
   },
   {
    "duration": 18,
    "start_time": "2021-12-02T06:31:34.011Z"
   },
   {
    "duration": 32,
    "start_time": "2021-12-02T06:31:36.328Z"
   },
   {
    "duration": 10,
    "start_time": "2021-12-02T06:34:02.070Z"
   },
   {
    "duration": 15,
    "start_time": "2021-12-02T06:39:02.545Z"
   },
   {
    "duration": 14,
    "start_time": "2021-12-02T06:39:25.130Z"
   },
   {
    "duration": 21,
    "start_time": "2021-12-02T06:39:50.411Z"
   },
   {
    "duration": 17,
    "start_time": "2021-12-02T06:47:41.673Z"
   },
   {
    "duration": 16,
    "start_time": "2021-12-02T06:47:58.573Z"
   },
   {
    "duration": 8,
    "start_time": "2021-12-02T06:48:03.485Z"
   },
   {
    "duration": 7,
    "start_time": "2021-12-02T06:48:09.492Z"
   },
   {
    "duration": 8,
    "start_time": "2021-12-02T06:49:41.227Z"
   },
   {
    "duration": 8,
    "start_time": "2021-12-02T06:50:06.857Z"
   },
   {
    "duration": 9,
    "start_time": "2021-12-02T06:50:25.375Z"
   },
   {
    "duration": 9,
    "start_time": "2021-12-02T06:52:56.941Z"
   },
   {
    "duration": 8,
    "start_time": "2021-12-02T06:53:22.723Z"
   },
   {
    "duration": 17,
    "start_time": "2021-12-02T07:18:25.345Z"
   },
   {
    "duration": 16,
    "start_time": "2021-12-02T07:18:46.230Z"
   },
   {
    "duration": 17,
    "start_time": "2021-12-02T07:22:46.852Z"
   },
   {
    "duration": 17,
    "start_time": "2021-12-02T07:27:03.776Z"
   },
   {
    "duration": 17,
    "start_time": "2021-12-02T07:27:14.021Z"
   },
   {
    "duration": 17,
    "start_time": "2021-12-02T07:27:32.277Z"
   },
   {
    "duration": 48,
    "start_time": "2021-12-02T07:28:29.429Z"
   },
   {
    "duration": 782,
    "start_time": "2021-12-02T07:31:20.076Z"
   },
   {
    "duration": 21,
    "start_time": "2021-12-02T07:31:20.860Z"
   },
   {
    "duration": 18,
    "start_time": "2021-12-02T07:33:40.149Z"
   },
   {
    "duration": 7,
    "start_time": "2021-12-02T07:51:54.872Z"
   },
   {
    "duration": 13,
    "start_time": "2021-12-02T08:03:27.445Z"
   },
   {
    "duration": 14,
    "start_time": "2021-12-02T08:03:48.170Z"
   },
   {
    "duration": 42,
    "start_time": "2021-12-02T08:04:04.304Z"
   },
   {
    "duration": 14,
    "start_time": "2021-12-02T08:04:10.535Z"
   },
   {
    "duration": 32,
    "start_time": "2021-12-02T08:33:04.077Z"
   },
   {
    "duration": 53,
    "start_time": "2021-12-02T09:07:45.238Z"
   },
   {
    "duration": 55,
    "start_time": "2021-12-02T09:08:13.185Z"
   },
   {
    "duration": 56,
    "start_time": "2021-12-02T09:09:04.419Z"
   },
   {
    "duration": 21,
    "start_time": "2021-12-02T09:09:12.630Z"
   },
   {
    "duration": 299,
    "start_time": "2021-12-02T09:12:16.342Z"
   },
   {
    "duration": 59,
    "start_time": "2021-12-02T09:12:25.295Z"
   },
   {
    "duration": 52,
    "start_time": "2021-12-02T09:12:53.707Z"
   },
   {
    "duration": 50,
    "start_time": "2021-12-02T09:13:42.326Z"
   },
   {
    "duration": 1911,
    "start_time": "2021-12-02T09:13:58.951Z"
   },
   {
    "duration": 35,
    "start_time": "2021-12-02T09:14:09.555Z"
   },
   {
    "duration": 47,
    "start_time": "2021-12-02T09:14:19.196Z"
   },
   {
    "duration": 36,
    "start_time": "2021-12-02T09:14:27.136Z"
   },
   {
    "duration": 38,
    "start_time": "2021-12-02T09:15:42.569Z"
   },
   {
    "duration": 55,
    "start_time": "2021-12-02T09:16:08.951Z"
   },
   {
    "duration": 23,
    "start_time": "2021-12-02T09:16:12.493Z"
   },
   {
    "duration": 23,
    "start_time": "2021-12-02T09:16:24.228Z"
   },
   {
    "duration": 21,
    "start_time": "2021-12-02T09:16:24.837Z"
   },
   {
    "duration": 33,
    "start_time": "2021-12-02T09:16:30.557Z"
   },
   {
    "duration": 51,
    "start_time": "2021-12-02T09:16:48.377Z"
   },
   {
    "duration": 22,
    "start_time": "2021-12-02T09:16:54.860Z"
   },
   {
    "duration": 33,
    "start_time": "2021-12-02T09:16:58.001Z"
   },
   {
    "duration": 40,
    "start_time": "2021-12-02T09:17:10.713Z"
   },
   {
    "duration": 605,
    "start_time": "2021-12-02T09:17:43.115Z"
   },
   {
    "duration": 866,
    "start_time": "2021-12-02T09:17:43.722Z"
   },
   {
    "duration": 26,
    "start_time": "2021-12-02T09:17:44.590Z"
   },
   {
    "duration": 50,
    "start_time": "2021-12-02T09:17:44.618Z"
   },
   {
    "duration": 34,
    "start_time": "2021-12-02T09:17:44.670Z"
   },
   {
    "duration": 18,
    "start_time": "2021-12-02T09:17:44.705Z"
   },
   {
    "duration": 249,
    "start_time": "2021-12-02T09:17:44.725Z"
   },
   {
    "duration": 44,
    "start_time": "2021-12-02T09:17:44.976Z"
   },
   {
    "duration": 16,
    "start_time": "2021-12-02T09:17:45.022Z"
   },
   {
    "duration": 22,
    "start_time": "2021-12-02T09:17:45.044Z"
   },
   {
    "duration": 14,
    "start_time": "2021-12-02T09:17:45.068Z"
   },
   {
    "duration": 72,
    "start_time": "2021-12-02T09:17:45.083Z"
   },
   {
    "duration": 30,
    "start_time": "2021-12-02T09:17:45.157Z"
   },
   {
    "duration": 18,
    "start_time": "2021-12-02T09:17:45.188Z"
   },
   {
    "duration": 7,
    "start_time": "2021-12-02T09:17:45.207Z"
   },
   {
    "duration": 40,
    "start_time": "2021-12-02T09:17:45.215Z"
   },
   {
    "duration": 34,
    "start_time": "2021-12-02T09:17:45.257Z"
   },
   {
    "duration": 19,
    "start_time": "2021-12-02T09:17:45.293Z"
   },
   {
    "duration": 8,
    "start_time": "2021-12-02T09:17:45.314Z"
   },
   {
    "duration": 33,
    "start_time": "2021-12-02T09:17:45.345Z"
   },
   {
    "duration": 90,
    "start_time": "2021-12-02T09:17:45.380Z"
   },
   {
    "duration": 19,
    "start_time": "2021-12-02T09:17:45.472Z"
   },
   {
    "duration": 330,
    "start_time": "2021-12-02T09:17:45.493Z"
   },
   {
    "duration": 8,
    "start_time": "2021-12-02T09:17:45.824Z"
   },
   {
    "duration": 38,
    "start_time": "2021-12-02T09:17:45.833Z"
   },
   {
    "duration": 85,
    "start_time": "2021-12-02T09:17:45.872Z"
   },
   {
    "duration": 19,
    "start_time": "2021-12-02T09:30:48.954Z"
   },
   {
    "duration": 587,
    "start_time": "2021-12-02T09:37:30.190Z"
   },
   {
    "duration": 935,
    "start_time": "2021-12-02T09:37:30.779Z"
   },
   {
    "duration": 36,
    "start_time": "2021-12-02T09:37:31.716Z"
   },
   {
    "duration": 38,
    "start_time": "2021-12-02T09:37:31.754Z"
   },
   {
    "duration": 51,
    "start_time": "2021-12-02T09:37:31.794Z"
   },
   {
    "duration": 19,
    "start_time": "2021-12-02T09:37:31.847Z"
   },
   {
    "duration": 254,
    "start_time": "2021-12-02T09:37:31.868Z"
   },
   {
    "duration": 49,
    "start_time": "2021-12-02T09:37:32.125Z"
   },
   {
    "duration": 12,
    "start_time": "2021-12-02T09:37:32.177Z"
   },
   {
    "duration": 57,
    "start_time": "2021-12-02T09:37:32.191Z"
   },
   {
    "duration": 14,
    "start_time": "2021-12-02T09:37:32.250Z"
   },
   {
    "duration": 54,
    "start_time": "2021-12-02T09:37:32.266Z"
   },
   {
    "duration": 48,
    "start_time": "2021-12-02T09:37:32.322Z"
   },
   {
    "duration": 20,
    "start_time": "2021-12-02T09:37:32.372Z"
   },
   {
    "duration": 8,
    "start_time": "2021-12-02T09:37:32.393Z"
   },
   {
    "duration": 43,
    "start_time": "2021-12-02T09:37:32.402Z"
   },
   {
    "duration": 37,
    "start_time": "2021-12-02T09:37:32.447Z"
   },
   {
    "duration": 26,
    "start_time": "2021-12-02T09:37:32.486Z"
   },
   {
    "duration": 12,
    "start_time": "2021-12-02T09:37:32.514Z"
   },
   {
    "duration": 49,
    "start_time": "2021-12-02T09:37:32.528Z"
   },
   {
    "duration": 93,
    "start_time": "2021-12-02T09:37:32.579Z"
   },
   {
    "duration": 21,
    "start_time": "2021-12-02T09:37:32.674Z"
   },
   {
    "duration": 48,
    "start_time": "2021-12-02T09:37:32.697Z"
   },
   {
    "duration": 351,
    "start_time": "2021-12-02T09:37:32.747Z"
   },
   {
    "duration": 8,
    "start_time": "2021-12-02T09:37:33.100Z"
   },
   {
    "duration": 49,
    "start_time": "2021-12-02T09:37:33.110Z"
   },
   {
    "duration": 21,
    "start_time": "2021-12-02T09:37:33.160Z"
   },
   {
    "duration": 80,
    "start_time": "2021-12-02T09:40:07.778Z"
   },
   {
    "duration": 20,
    "start_time": "2021-12-02T09:40:11.591Z"
   },
   {
    "duration": 89,
    "start_time": "2021-12-02T09:40:40.525Z"
   },
   {
    "duration": 18,
    "start_time": "2021-12-02T09:41:58.618Z"
   },
   {
    "duration": 83,
    "start_time": "2021-12-02T09:42:05.262Z"
   },
   {
    "duration": 32,
    "start_time": "2021-12-02T09:43:24.028Z"
   },
   {
    "duration": 18,
    "start_time": "2021-12-02T09:51:02.467Z"
   },
   {
    "duration": 31,
    "start_time": "2021-12-02T09:51:04.095Z"
   },
   {
    "duration": 20,
    "start_time": "2021-12-02T09:51:13.214Z"
   },
   {
    "duration": 32,
    "start_time": "2021-12-02T09:51:15.184Z"
   },
   {
    "duration": 35,
    "start_time": "2021-12-02T09:51:52.096Z"
   },
   {
    "duration": 78,
    "start_time": "2021-12-02T09:54:59.046Z"
   },
   {
    "duration": 30,
    "start_time": "2021-12-02T10:07:16.768Z"
   },
   {
    "duration": 43,
    "start_time": "2021-12-02T10:07:21.105Z"
   },
   {
    "duration": 573,
    "start_time": "2021-12-02T10:15:16.306Z"
   },
   {
    "duration": 916,
    "start_time": "2021-12-02T10:15:16.881Z"
   },
   {
    "duration": 27,
    "start_time": "2021-12-02T10:15:17.799Z"
   },
   {
    "duration": 40,
    "start_time": "2021-12-02T10:15:17.828Z"
   },
   {
    "duration": 34,
    "start_time": "2021-12-02T10:15:17.870Z"
   },
   {
    "duration": 18,
    "start_time": "2021-12-02T10:15:17.905Z"
   },
   {
    "duration": 246,
    "start_time": "2021-12-02T10:15:17.925Z"
   },
   {
    "duration": 44,
    "start_time": "2021-12-02T10:15:18.174Z"
   },
   {
    "duration": 7,
    "start_time": "2021-12-02T10:15:18.220Z"
   },
   {
    "duration": 31,
    "start_time": "2021-12-02T10:15:18.229Z"
   },
   {
    "duration": 14,
    "start_time": "2021-12-02T10:15:18.262Z"
   },
   {
    "duration": 56,
    "start_time": "2021-12-02T10:15:18.278Z"
   },
   {
    "duration": 39,
    "start_time": "2021-12-02T10:15:18.336Z"
   },
   {
    "duration": 22,
    "start_time": "2021-12-02T10:15:18.377Z"
   },
   {
    "duration": 7,
    "start_time": "2021-12-02T10:15:18.401Z"
   },
   {
    "duration": 37,
    "start_time": "2021-12-02T10:15:18.410Z"
   },
   {
    "duration": 35,
    "start_time": "2021-12-02T10:15:18.449Z"
   },
   {
    "duration": 17,
    "start_time": "2021-12-02T10:15:18.486Z"
   },
   {
    "duration": 10,
    "start_time": "2021-12-02T10:15:18.504Z"
   },
   {
    "duration": 44,
    "start_time": "2021-12-02T10:15:18.515Z"
   },
   {
    "duration": 105,
    "start_time": "2021-12-02T10:15:18.561Z"
   },
   {
    "duration": 87,
    "start_time": "2021-12-02T10:15:18.668Z"
   },
   {
    "duration": 31,
    "start_time": "2021-12-02T10:15:18.758Z"
   },
   {
    "duration": 30,
    "start_time": "2021-12-02T10:15:18.791Z"
   },
   {
    "duration": 40,
    "start_time": "2021-12-02T10:15:18.823Z"
   },
   {
    "duration": 103,
    "start_time": "2021-12-02T10:15:18.864Z"
   },
   {
    "duration": 39,
    "start_time": "2021-12-02T10:15:18.969Z"
   },
   {
    "duration": 338,
    "start_time": "2021-12-02T10:15:19.010Z"
   },
   {
    "duration": 10,
    "start_time": "2021-12-02T10:15:19.350Z"
   },
   {
    "duration": 43,
    "start_time": "2021-12-02T10:15:19.362Z"
   },
   {
    "duration": 45,
    "start_time": "2021-12-02T10:15:19.407Z"
   },
   {
    "duration": 109,
    "start_time": "2021-12-02T10:15:19.454Z"
   },
   {
    "duration": 9,
    "start_time": "2021-12-02T10:17:25.215Z"
   },
   {
    "duration": 284,
    "start_time": "2021-12-02T10:19:05.752Z"
   },
   {
    "duration": 386,
    "start_time": "2021-12-02T10:19:14.807Z"
   },
   {
    "duration": 1807,
    "start_time": "2021-12-02T10:19:30.061Z"
   },
   {
    "duration": 952,
    "start_time": "2021-12-02T10:19:42.422Z"
   },
   {
    "duration": 367,
    "start_time": "2021-12-02T10:19:55.234Z"
   },
   {
    "duration": 267,
    "start_time": "2021-12-02T10:20:08.840Z"
   },
   {
    "duration": 449,
    "start_time": "2021-12-02T10:20:23.391Z"
   },
   {
    "duration": 27,
    "start_time": "2021-12-02T10:29:27.037Z"
   },
   {
    "duration": 315,
    "start_time": "2021-12-02T10:30:01.660Z"
   },
   {
    "duration": 193,
    "start_time": "2021-12-02T10:30:08.522Z"
   },
   {
    "duration": 23,
    "start_time": "2021-12-02T10:31:03.969Z"
   },
   {
    "duration": 21,
    "start_time": "2021-12-02T10:32:14.878Z"
   },
   {
    "duration": 23,
    "start_time": "2021-12-02T10:32:22.490Z"
   },
   {
    "duration": 22,
    "start_time": "2021-12-02T10:32:32.920Z"
   },
   {
    "duration": 23,
    "start_time": "2021-12-02T10:32:41.048Z"
   },
   {
    "duration": 22,
    "start_time": "2021-12-02T10:32:44.615Z"
   },
   {
    "duration": 21,
    "start_time": "2021-12-02T10:33:04.989Z"
   },
   {
    "duration": 22,
    "start_time": "2021-12-02T10:33:12.613Z"
   },
   {
    "duration": 23,
    "start_time": "2021-12-02T10:33:17.584Z"
   },
   {
    "duration": 98,
    "start_time": "2021-12-02T10:34:12.445Z"
   },
   {
    "duration": 18,
    "start_time": "2021-12-02T10:34:19.558Z"
   },
   {
    "duration": 14,
    "start_time": "2021-12-02T10:34:53.601Z"
   },
   {
    "duration": 18,
    "start_time": "2021-12-02T10:35:04.746Z"
   },
   {
    "duration": 20,
    "start_time": "2021-12-02T10:35:36.053Z"
   },
   {
    "duration": 24,
    "start_time": "2021-12-02T10:37:17.727Z"
   },
   {
    "duration": 93,
    "start_time": "2021-12-02T10:39:28.836Z"
   },
   {
    "duration": 46,
    "start_time": "2021-12-02T10:39:35.378Z"
   },
   {
    "duration": 73,
    "start_time": "2021-12-02T10:39:38.457Z"
   },
   {
    "duration": 7,
    "start_time": "2021-12-02T10:41:24.103Z"
   },
   {
    "duration": 388,
    "start_time": "2021-12-02T10:41:25.606Z"
   },
   {
    "duration": 732,
    "start_time": "2021-12-02T10:41:31.553Z"
   },
   {
    "duration": 2,
    "start_time": "2021-12-02T10:41:36.263Z"
   },
   {
    "duration": 729,
    "start_time": "2021-12-02T10:41:48.583Z"
   },
   {
    "duration": 900,
    "start_time": "2021-12-02T10:41:49.315Z"
   },
   {
    "duration": 36,
    "start_time": "2021-12-02T10:41:50.217Z"
   },
   {
    "duration": 35,
    "start_time": "2021-12-02T10:41:50.255Z"
   },
   {
    "duration": 53,
    "start_time": "2021-12-02T10:41:50.292Z"
   },
   {
    "duration": 20,
    "start_time": "2021-12-02T10:41:50.347Z"
   },
   {
    "duration": 260,
    "start_time": "2021-12-02T10:41:50.368Z"
   },
   {
    "duration": 50,
    "start_time": "2021-12-02T10:41:50.630Z"
   },
   {
    "duration": 24,
    "start_time": "2021-12-02T10:41:50.682Z"
   },
   {
    "duration": 30,
    "start_time": "2021-12-02T10:41:50.707Z"
   },
   {
    "duration": 13,
    "start_time": "2021-12-02T10:41:50.739Z"
   },
   {
    "duration": 54,
    "start_time": "2021-12-02T10:41:50.754Z"
   },
   {
    "duration": 49,
    "start_time": "2021-12-02T10:41:50.810Z"
   },
   {
    "duration": 19,
    "start_time": "2021-12-02T10:41:50.861Z"
   },
   {
    "duration": 8,
    "start_time": "2021-12-02T10:41:50.882Z"
   },
   {
    "duration": 19,
    "start_time": "2021-12-02T10:41:50.892Z"
   },
   {
    "duration": 59,
    "start_time": "2021-12-02T10:41:50.913Z"
   },
   {
    "duration": 18,
    "start_time": "2021-12-02T10:41:50.974Z"
   },
   {
    "duration": 8,
    "start_time": "2021-12-02T10:41:50.994Z"
   },
   {
    "duration": 55,
    "start_time": "2021-12-02T10:41:51.004Z"
   },
   {
    "duration": 83,
    "start_time": "2021-12-02T10:41:51.061Z"
   },
   {
    "duration": 34,
    "start_time": "2021-12-02T10:41:51.146Z"
   },
   {
    "duration": 44,
    "start_time": "2021-12-02T10:41:51.183Z"
   },
   {
    "duration": 32,
    "start_time": "2021-12-02T10:41:51.229Z"
   },
   {
    "duration": 22,
    "start_time": "2021-12-02T10:41:51.263Z"
   },
   {
    "duration": 116,
    "start_time": "2021-12-02T10:41:51.287Z"
   },
   {
    "duration": 46,
    "start_time": "2021-12-02T10:41:51.405Z"
   },
   {
    "duration": 363,
    "start_time": "2021-12-02T10:41:51.453Z"
   },
   {
    "duration": 8,
    "start_time": "2021-12-02T10:41:51.818Z"
   },
   {
    "duration": 47,
    "start_time": "2021-12-02T10:41:51.828Z"
   },
   {
    "duration": 50,
    "start_time": "2021-12-02T10:41:51.877Z"
   },
   {
    "duration": 622,
    "start_time": "2021-12-02T10:41:51.930Z"
   },
   {
    "duration": 20,
    "start_time": "2021-12-02T10:41:52.554Z"
   },
   {
    "duration": 41,
    "start_time": "2021-12-02T10:41:52.576Z"
   },
   {
    "duration": 48,
    "start_time": "2021-12-02T10:41:52.619Z"
   },
   {
    "duration": 18,
    "start_time": "2021-12-02T10:41:52.669Z"
   },
   {
    "duration": 84,
    "start_time": "2021-12-02T10:42:07.952Z"
   },
   {
    "duration": 376,
    "start_time": "2021-12-02T10:43:56.893Z"
   },
   {
    "duration": 297,
    "start_time": "2021-12-02T10:43:57.473Z"
   },
   {
    "duration": 582,
    "start_time": "2021-12-02T10:44:04.387Z"
   },
   {
    "duration": 936,
    "start_time": "2021-12-02T10:44:04.971Z"
   },
   {
    "duration": 40,
    "start_time": "2021-12-02T10:44:05.909Z"
   },
   {
    "duration": 3,
    "start_time": "2021-12-02T10:44:05.952Z"
   },
   {
    "duration": 6,
    "start_time": "2021-12-02T10:44:05.957Z"
   },
   {
    "duration": 46,
    "start_time": "2021-12-02T10:44:05.965Z"
   },
   {
    "duration": 75,
    "start_time": "2021-12-02T10:44:06.014Z"
   },
   {
    "duration": 32,
    "start_time": "2021-12-02T10:44:06.093Z"
   },
   {
    "duration": 408,
    "start_time": "2021-12-02T10:44:06.127Z"
   },
   {
    "duration": 56,
    "start_time": "2021-12-02T10:44:06.538Z"
   },
   {
    "duration": 7,
    "start_time": "2021-12-02T10:44:06.596Z"
   },
   {
    "duration": 51,
    "start_time": "2021-12-02T10:44:06.605Z"
   },
   {
    "duration": 26,
    "start_time": "2021-12-02T10:44:06.658Z"
   },
   {
    "duration": 59,
    "start_time": "2021-12-02T10:44:06.685Z"
   },
   {
    "duration": 33,
    "start_time": "2021-12-02T10:44:06.746Z"
   },
   {
    "duration": 33,
    "start_time": "2021-12-02T10:44:06.781Z"
   },
   {
    "duration": 9,
    "start_time": "2021-12-02T10:44:06.815Z"
   },
   {
    "duration": 30,
    "start_time": "2021-12-02T10:44:06.825Z"
   },
   {
    "duration": 35,
    "start_time": "2021-12-02T10:44:06.857Z"
   },
   {
    "duration": 23,
    "start_time": "2021-12-02T10:44:06.893Z"
   },
   {
    "duration": 26,
    "start_time": "2021-12-02T10:44:06.918Z"
   },
   {
    "duration": 33,
    "start_time": "2021-12-02T10:44:06.946Z"
   },
   {
    "duration": 88,
    "start_time": "2021-12-02T10:44:06.984Z"
   },
   {
    "duration": 36,
    "start_time": "2021-12-02T10:44:07.075Z"
   },
   {
    "duration": 45,
    "start_time": "2021-12-02T10:44:07.113Z"
   },
   {
    "duration": 32,
    "start_time": "2021-12-02T10:44:07.160Z"
   },
   {
    "duration": 21,
    "start_time": "2021-12-02T10:44:07.193Z"
   },
   {
    "duration": 109,
    "start_time": "2021-12-02T10:44:07.216Z"
   },
   {
    "duration": 43,
    "start_time": "2021-12-02T10:44:07.327Z"
   },
   {
    "duration": 355,
    "start_time": "2021-12-02T10:44:07.372Z"
   },
   {
    "duration": 15,
    "start_time": "2021-12-02T10:44:07.729Z"
   },
   {
    "duration": 38,
    "start_time": "2021-12-02T10:44:07.746Z"
   },
   {
    "duration": 26,
    "start_time": "2021-12-02T10:44:07.786Z"
   },
   {
    "duration": 432,
    "start_time": "2021-12-02T10:44:07.814Z"
   },
   {
    "duration": 25,
    "start_time": "2021-12-02T10:44:08.248Z"
   },
   {
    "duration": 74,
    "start_time": "2021-12-02T10:44:08.276Z"
   },
   {
    "duration": 35,
    "start_time": "2021-12-02T10:44:08.352Z"
   },
   {
    "duration": 154,
    "start_time": "2021-12-02T10:44:08.390Z"
   },
   {
    "duration": 5,
    "start_time": "2021-12-02T10:44:19.015Z"
   },
   {
    "duration": 5,
    "start_time": "2021-12-02T10:45:06.442Z"
   },
   {
    "duration": 5,
    "start_time": "2021-12-02T10:45:36.590Z"
   },
   {
    "duration": 19,
    "start_time": "2021-12-02T10:46:42.255Z"
   },
   {
    "duration": 13,
    "start_time": "2021-12-02T10:47:46.106Z"
   },
   {
    "duration": 69,
    "start_time": "2021-12-02T10:47:47.194Z"
   },
   {
    "duration": 20,
    "start_time": "2021-12-02T10:47:50.807Z"
   },
   {
    "duration": 609,
    "start_time": "2021-12-02T10:47:55.252Z"
   },
   {
    "duration": 896,
    "start_time": "2021-12-02T10:47:55.863Z"
   },
   {
    "duration": 28,
    "start_time": "2021-12-02T10:47:56.761Z"
   },
   {
    "duration": 2,
    "start_time": "2021-12-02T10:47:56.791Z"
   },
   {
    "duration": 6,
    "start_time": "2021-12-02T10:47:56.795Z"
   },
   {
    "duration": 66,
    "start_time": "2021-12-02T10:47:56.803Z"
   },
   {
    "duration": 34,
    "start_time": "2021-12-02T10:47:56.871Z"
   },
   {
    "duration": 18,
    "start_time": "2021-12-02T10:47:56.908Z"
   },
   {
    "duration": 264,
    "start_time": "2021-12-02T10:47:56.928Z"
   },
   {
    "duration": 42,
    "start_time": "2021-12-02T10:47:57.193Z"
   },
   {
    "duration": 8,
    "start_time": "2021-12-02T10:47:57.244Z"
   },
   {
    "duration": 23,
    "start_time": "2021-12-02T10:47:57.254Z"
   },
   {
    "duration": 14,
    "start_time": "2021-12-02T10:47:57.278Z"
   },
   {
    "duration": 77,
    "start_time": "2021-12-02T10:47:57.293Z"
   },
   {
    "duration": 34,
    "start_time": "2021-12-02T10:47:57.372Z"
   },
   {
    "duration": 19,
    "start_time": "2021-12-02T10:47:57.408Z"
   },
   {
    "duration": 7,
    "start_time": "2021-12-02T10:47:57.445Z"
   },
   {
    "duration": 16,
    "start_time": "2021-12-02T10:47:57.454Z"
   },
   {
    "duration": 34,
    "start_time": "2021-12-02T10:47:57.472Z"
   },
   {
    "duration": 38,
    "start_time": "2021-12-02T10:47:57.508Z"
   },
   {
    "duration": 8,
    "start_time": "2021-12-02T10:47:57.548Z"
   },
   {
    "duration": 33,
    "start_time": "2021-12-02T10:47:57.558Z"
   },
   {
    "duration": 95,
    "start_time": "2021-12-02T10:47:57.594Z"
   },
   {
    "duration": 32,
    "start_time": "2021-12-02T10:47:57.691Z"
   },
   {
    "duration": 38,
    "start_time": "2021-12-02T10:47:57.724Z"
   },
   {
    "duration": 29,
    "start_time": "2021-12-02T10:47:57.764Z"
   },
   {
    "duration": 19,
    "start_time": "2021-12-02T10:47:57.795Z"
   },
   {
    "duration": 106,
    "start_time": "2021-12-02T10:47:57.816Z"
   },
   {
    "duration": 47,
    "start_time": "2021-12-02T10:47:57.924Z"
   },
   {
    "duration": 577,
    "start_time": "2021-12-02T10:47:57.972Z"
   },
   {
    "duration": 12,
    "start_time": "2021-12-02T10:47:58.551Z"
   },
   {
    "duration": 46,
    "start_time": "2021-12-02T10:47:58.565Z"
   },
   {
    "duration": 50,
    "start_time": "2021-12-02T10:47:58.613Z"
   },
   {
    "duration": 657,
    "start_time": "2021-12-02T10:47:58.665Z"
   },
   {
    "duration": 33,
    "start_time": "2021-12-02T10:47:59.324Z"
   },
   {
    "duration": 51,
    "start_time": "2021-12-02T10:47:59.359Z"
   },
   {
    "duration": 47,
    "start_time": "2021-12-02T10:47:59.412Z"
   },
   {
    "duration": 124,
    "start_time": "2021-12-02T10:47:59.461Z"
   },
   {
    "duration": 5,
    "start_time": "2021-12-02T10:47:59.587Z"
   },
   {
    "duration": 39,
    "start_time": "2021-12-02T10:47:59.594Z"
   },
   {
    "duration": 103,
    "start_time": "2021-12-02T10:48:42.427Z"
   },
   {
    "duration": 1215,
    "start_time": "2021-12-02T10:48:48.945Z"
   },
   {
    "duration": 582,
    "start_time": "2021-12-02T10:48:53.781Z"
   },
   {
    "duration": 872,
    "start_time": "2021-12-02T10:48:54.365Z"
   },
   {
    "duration": 31,
    "start_time": "2021-12-02T10:48:55.239Z"
   },
   {
    "duration": 2,
    "start_time": "2021-12-02T10:48:55.272Z"
   },
   {
    "duration": 8,
    "start_time": "2021-12-02T10:48:55.276Z"
   },
   {
    "duration": 48,
    "start_time": "2021-12-02T10:48:55.285Z"
   },
   {
    "duration": 45,
    "start_time": "2021-12-02T10:48:55.335Z"
   },
   {
    "duration": 18,
    "start_time": "2021-12-02T10:48:55.383Z"
   },
   {
    "duration": 259,
    "start_time": "2021-12-02T10:48:55.404Z"
   },
   {
    "duration": 42,
    "start_time": "2021-12-02T10:48:55.665Z"
   },
   {
    "duration": 9,
    "start_time": "2021-12-02T10:48:55.709Z"
   },
   {
    "duration": 38,
    "start_time": "2021-12-02T10:48:55.719Z"
   },
   {
    "duration": 15,
    "start_time": "2021-12-02T10:48:55.758Z"
   },
   {
    "duration": 75,
    "start_time": "2021-12-02T10:48:55.774Z"
   },
   {
    "duration": 35,
    "start_time": "2021-12-02T10:48:55.851Z"
   },
   {
    "duration": 19,
    "start_time": "2021-12-02T10:48:55.887Z"
   },
   {
    "duration": 17,
    "start_time": "2021-12-02T10:48:55.908Z"
   },
   {
    "duration": 28,
    "start_time": "2021-12-02T10:48:55.927Z"
   },
   {
    "duration": 35,
    "start_time": "2021-12-02T10:48:55.958Z"
   },
   {
    "duration": 31,
    "start_time": "2021-12-02T10:48:55.995Z"
   },
   {
    "duration": 20,
    "start_time": "2021-12-02T10:48:56.028Z"
   },
   {
    "duration": 50,
    "start_time": "2021-12-02T10:48:56.050Z"
   },
   {
    "duration": 77,
    "start_time": "2021-12-02T10:48:56.104Z"
   },
   {
    "duration": 35,
    "start_time": "2021-12-02T10:48:56.183Z"
   },
   {
    "duration": 41,
    "start_time": "2021-12-02T10:48:56.220Z"
   },
   {
    "duration": 34,
    "start_time": "2021-12-02T10:48:56.263Z"
   },
   {
    "duration": 40,
    "start_time": "2021-12-02T10:48:56.299Z"
   },
   {
    "duration": 116,
    "start_time": "2021-12-02T10:48:56.341Z"
   },
   {
    "duration": 40,
    "start_time": "2021-12-02T10:48:56.458Z"
   },
   {
    "duration": 349,
    "start_time": "2021-12-02T10:48:56.500Z"
   },
   {
    "duration": 9,
    "start_time": "2021-12-02T10:48:56.851Z"
   },
   {
    "duration": 41,
    "start_time": "2021-12-02T10:48:56.861Z"
   },
   {
    "duration": 42,
    "start_time": "2021-12-02T10:48:56.904Z"
   },
   {
    "duration": 431,
    "start_time": "2021-12-02T10:48:56.948Z"
   },
   {
    "duration": 21,
    "start_time": "2021-12-02T10:48:57.381Z"
   },
   {
    "duration": 54,
    "start_time": "2021-12-02T10:48:57.404Z"
   },
   {
    "duration": 27,
    "start_time": "2021-12-02T10:48:57.460Z"
   },
   {
    "duration": 85,
    "start_time": "2021-12-02T10:48:57.489Z"
   },
   {
    "duration": 5,
    "start_time": "2021-12-02T10:48:57.576Z"
   },
   {
    "duration": 18,
    "start_time": "2021-12-02T10:48:57.583Z"
   },
   {
    "duration": 1207,
    "start_time": "2021-12-02T18:42:42.682Z"
   },
   {
    "duration": 909,
    "start_time": "2021-12-02T18:42:43.891Z"
   },
   {
    "duration": 26,
    "start_time": "2021-12-02T18:42:44.803Z"
   },
   {
    "duration": 3,
    "start_time": "2021-12-02T18:42:44.845Z"
   },
   {
    "duration": 7,
    "start_time": "2021-12-02T18:42:44.850Z"
   },
   {
    "duration": 36,
    "start_time": "2021-12-02T18:42:44.860Z"
   },
   {
    "duration": 57,
    "start_time": "2021-12-02T18:42:44.897Z"
   },
   {
    "duration": 22,
    "start_time": "2021-12-02T18:42:44.957Z"
   },
   {
    "duration": 225,
    "start_time": "2021-12-02T18:42:44.981Z"
   },
   {
    "duration": 50,
    "start_time": "2021-12-02T18:42:45.208Z"
   },
   {
    "duration": 8,
    "start_time": "2021-12-02T18:42:45.259Z"
   },
   {
    "duration": 23,
    "start_time": "2021-12-02T18:42:45.269Z"
   },
   {
    "duration": 15,
    "start_time": "2021-12-02T18:42:45.293Z"
   },
   {
    "duration": 91,
    "start_time": "2021-12-02T18:42:45.310Z"
   },
   {
    "duration": 49,
    "start_time": "2021-12-02T18:42:45.403Z"
   },
   {
    "duration": 21,
    "start_time": "2021-12-02T18:42:45.454Z"
   },
   {
    "duration": 7,
    "start_time": "2021-12-02T18:42:45.477Z"
   },
   {
    "duration": 17,
    "start_time": "2021-12-02T18:42:45.485Z"
   },
   {
    "duration": 69,
    "start_time": "2021-12-02T18:42:45.504Z"
   },
   {
    "duration": 20,
    "start_time": "2021-12-02T18:42:45.575Z"
   },
   {
    "duration": 11,
    "start_time": "2021-12-02T18:42:45.596Z"
   },
   {
    "duration": 60,
    "start_time": "2021-12-02T18:42:45.608Z"
   },
   {
    "duration": 86,
    "start_time": "2021-12-02T18:42:45.672Z"
   },
   {
    "duration": 34,
    "start_time": "2021-12-02T18:42:45.760Z"
   },
   {
    "duration": 32,
    "start_time": "2021-12-02T18:42:45.795Z"
   },
   {
    "duration": 45,
    "start_time": "2021-12-02T18:42:45.828Z"
   },
   {
    "duration": 21,
    "start_time": "2021-12-02T18:42:45.875Z"
   },
   {
    "duration": 134,
    "start_time": "2021-12-02T18:42:45.898Z"
   },
   {
    "duration": 44,
    "start_time": "2021-12-02T18:42:46.033Z"
   },
   {
    "duration": 361,
    "start_time": "2021-12-02T18:42:46.079Z"
   },
   {
    "duration": 10,
    "start_time": "2021-12-02T18:42:46.444Z"
   },
   {
    "duration": 28,
    "start_time": "2021-12-02T18:42:46.456Z"
   },
   {
    "duration": 61,
    "start_time": "2021-12-02T18:42:46.486Z"
   },
   {
    "duration": 362,
    "start_time": "2021-12-02T18:42:46.549Z"
   },
   {
    "duration": 38,
    "start_time": "2021-12-02T18:42:46.913Z"
   },
   {
    "duration": 36,
    "start_time": "2021-12-02T18:42:46.953Z"
   },
   {
    "duration": 16,
    "start_time": "2021-12-02T18:42:46.991Z"
   },
   {
    "duration": 88,
    "start_time": "2021-12-02T18:42:47.009Z"
   },
   {
    "duration": 4,
    "start_time": "2021-12-02T18:42:47.099Z"
   },
   {
    "duration": 653,
    "start_time": "2021-12-02T18:42:47.104Z"
   },
   {
    "duration": 14,
    "start_time": "2021-12-02T18:42:47.759Z"
   },
   {
    "duration": 4,
    "start_time": "2021-12-02T18:49:29.951Z"
   },
   {
    "duration": 3,
    "start_time": "2021-12-02T18:52:50.762Z"
   },
   {
    "duration": 647,
    "start_time": "2021-12-02T18:59:59.727Z"
   },
   {
    "duration": 16,
    "start_time": "2021-12-02T19:00:01.628Z"
   },
   {
    "duration": 17,
    "start_time": "2021-12-02T19:00:13.068Z"
   },
   {
    "duration": 363,
    "start_time": "2021-12-02T19:54:57.016Z"
   },
   {
    "duration": 15,
    "start_time": "2021-12-02T19:55:14.109Z"
   },
   {
    "duration": 266,
    "start_time": "2021-12-02T19:55:37.811Z"
   },
   {
    "duration": 1127,
    "start_time": "2021-12-02T19:55:47.026Z"
   },
   {
    "duration": 872,
    "start_time": "2021-12-02T19:55:48.155Z"
   },
   {
    "duration": 36,
    "start_time": "2021-12-02T19:55:49.029Z"
   },
   {
    "duration": 2,
    "start_time": "2021-12-02T19:55:49.067Z"
   },
   {
    "duration": 5,
    "start_time": "2021-12-02T19:55:49.071Z"
   },
   {
    "duration": 35,
    "start_time": "2021-12-02T19:55:49.078Z"
   },
   {
    "duration": 63,
    "start_time": "2021-12-02T19:55:49.114Z"
   },
   {
    "duration": 19,
    "start_time": "2021-12-02T19:55:49.180Z"
   },
   {
    "duration": 214,
    "start_time": "2021-12-02T19:55:49.201Z"
   },
   {
    "duration": 46,
    "start_time": "2021-12-02T19:55:49.417Z"
   },
   {
    "duration": 9,
    "start_time": "2021-12-02T19:55:49.465Z"
   },
   {
    "duration": 33,
    "start_time": "2021-12-02T19:55:49.476Z"
   },
   {
    "duration": 44,
    "start_time": "2021-12-02T19:55:49.511Z"
   },
   {
    "duration": 55,
    "start_time": "2021-12-02T19:55:49.556Z"
   },
   {
    "duration": 52,
    "start_time": "2021-12-02T19:55:49.612Z"
   },
   {
    "duration": 19,
    "start_time": "2021-12-02T19:55:49.667Z"
   },
   {
    "duration": 8,
    "start_time": "2021-12-02T19:55:49.687Z"
   },
   {
    "duration": 15,
    "start_time": "2021-12-02T19:55:49.697Z"
   },
   {
    "duration": 40,
    "start_time": "2021-12-02T19:55:49.746Z"
   },
   {
    "duration": 17,
    "start_time": "2021-12-02T19:55:49.787Z"
   },
   {
    "duration": 8,
    "start_time": "2021-12-02T19:55:49.806Z"
   },
   {
    "duration": 65,
    "start_time": "2021-12-02T19:55:49.815Z"
   },
   {
    "duration": 88,
    "start_time": "2021-12-02T19:55:49.884Z"
   },
   {
    "duration": 37,
    "start_time": "2021-12-02T19:55:49.974Z"
   },
   {
    "duration": 50,
    "start_time": "2021-12-02T19:55:50.013Z"
   },
   {
    "duration": 32,
    "start_time": "2021-12-02T19:55:50.065Z"
   },
   {
    "duration": 18,
    "start_time": "2021-12-02T19:55:50.099Z"
   },
   {
    "duration": 124,
    "start_time": "2021-12-02T19:55:50.119Z"
   },
   {
    "duration": 37,
    "start_time": "2021-12-02T19:55:50.245Z"
   },
   {
    "duration": 344,
    "start_time": "2021-12-02T19:55:50.283Z"
   },
   {
    "duration": 20,
    "start_time": "2021-12-02T19:55:50.629Z"
   },
   {
    "duration": 34,
    "start_time": "2021-12-02T19:55:50.651Z"
   },
   {
    "duration": 23,
    "start_time": "2021-12-02T19:55:50.687Z"
   },
   {
    "duration": 387,
    "start_time": "2021-12-02T19:55:50.711Z"
   },
   {
    "duration": 17,
    "start_time": "2021-12-02T19:55:51.100Z"
   },
   {
    "duration": 65,
    "start_time": "2021-12-02T19:55:51.119Z"
   },
   {
    "duration": 25,
    "start_time": "2021-12-02T19:55:51.186Z"
   },
   {
    "duration": 699,
    "start_time": "2021-12-02T19:55:51.212Z"
   },
   {
    "duration": 15,
    "start_time": "2021-12-02T19:55:51.913Z"
   },
   {
    "duration": 26,
    "start_time": "2021-12-02T19:55:51.929Z"
   },
   {
    "duration": 5,
    "start_time": "2021-12-02T19:55:51.957Z"
   },
   {
    "duration": 16,
    "start_time": "2021-12-02T19:55:51.964Z"
   },
   {
    "duration": 56,
    "start_time": "2021-12-02T19:55:51.982Z"
   },
   {
    "duration": 360,
    "start_time": "2021-12-02T20:04:09.003Z"
   },
   {
    "duration": 339,
    "start_time": "2021-12-02T20:04:16.781Z"
   },
   {
    "duration": 347,
    "start_time": "2021-12-02T20:04:25.712Z"
   },
   {
    "duration": 2961,
    "start_time": "2021-12-02T20:05:40.335Z"
   },
   {
    "duration": 43647,
    "start_time": "2021-12-02T20:05:59.335Z"
   },
   {
    "duration": 8896,
    "start_time": "2021-12-02T20:10:37.433Z"
   },
   {
    "duration": 9055,
    "start_time": "2021-12-02T20:11:49.408Z"
   },
   {
    "duration": 8890,
    "start_time": "2021-12-02T20:13:30.464Z"
   },
   {
    "duration": 9375,
    "start_time": "2021-12-02T20:14:01.415Z"
   },
   {
    "duration": 203471,
    "start_time": "2021-12-02T20:19:17.005Z"
   },
   {
    "duration": 190112,
    "start_time": "2021-12-02T20:23:48.269Z"
   },
   {
    "duration": 233,
    "start_time": "2021-12-02T20:33:05.710Z"
   },
   {
    "duration": 270,
    "start_time": "2021-12-02T20:33:25.166Z"
   },
   {
    "duration": 3,
    "start_time": "2021-12-02T20:33:39.423Z"
   },
   {
    "duration": 20,
    "start_time": "2021-12-02T20:33:56.660Z"
   },
   {
    "duration": 4,
    "start_time": "2021-12-02T20:34:05.622Z"
   },
   {
    "duration": 4,
    "start_time": "2021-12-02T20:34:32.646Z"
   },
   {
    "duration": 4,
    "start_time": "2021-12-02T20:34:36.761Z"
   },
   {
    "duration": 4,
    "start_time": "2021-12-02T20:35:46.402Z"
   },
   {
    "duration": 7,
    "start_time": "2021-12-02T20:38:34.036Z"
   },
   {
    "duration": 6,
    "start_time": "2021-12-02T20:38:40.982Z"
   },
   {
    "duration": 4,
    "start_time": "2021-12-02T20:39:12.532Z"
   },
   {
    "duration": 10,
    "start_time": "2021-12-02T20:39:14.186Z"
   },
   {
    "duration": 4,
    "start_time": "2021-12-02T20:40:09.386Z"
   },
   {
    "duration": 10,
    "start_time": "2021-12-02T20:40:09.930Z"
   },
   {
    "duration": 22,
    "start_time": "2021-12-02T20:40:34.862Z"
   },
   {
    "duration": 10,
    "start_time": "2021-12-02T20:40:35.455Z"
   },
   {
    "duration": 28,
    "start_time": "2021-12-02T20:41:24.141Z"
   },
   {
    "duration": 3,
    "start_time": "2021-12-02T20:52:53.447Z"
   },
   {
    "duration": 5,
    "start_time": "2021-12-02T20:52:59.943Z"
   },
   {
    "duration": 29,
    "start_time": "2021-12-02T20:53:30.230Z"
   },
   {
    "duration": 29,
    "start_time": "2021-12-02T20:58:31.998Z"
   },
   {
    "duration": 21,
    "start_time": "2021-12-02T21:00:14.462Z"
   },
   {
    "duration": 1022,
    "start_time": "2021-12-02T21:00:46.263Z"
   },
   {
    "duration": 862,
    "start_time": "2021-12-02T21:00:47.287Z"
   },
   {
    "duration": 27,
    "start_time": "2021-12-02T21:00:48.151Z"
   },
   {
    "duration": 2,
    "start_time": "2021-12-02T21:00:48.180Z"
   },
   {
    "duration": 6,
    "start_time": "2021-12-02T21:00:48.184Z"
   },
   {
    "duration": 66,
    "start_time": "2021-12-02T21:00:48.192Z"
   },
   {
    "duration": 35,
    "start_time": "2021-12-02T21:00:48.260Z"
   },
   {
    "duration": 18,
    "start_time": "2021-12-02T21:00:48.298Z"
   },
   {
    "duration": 263,
    "start_time": "2021-12-02T21:00:48.318Z"
   },
   {
    "duration": 44,
    "start_time": "2021-12-02T21:00:48.582Z"
   },
   {
    "duration": 20,
    "start_time": "2021-12-02T21:00:48.627Z"
   },
   {
    "duration": 24,
    "start_time": "2021-12-02T21:00:48.648Z"
   },
   {
    "duration": 14,
    "start_time": "2021-12-02T21:00:48.674Z"
   },
   {
    "duration": 87,
    "start_time": "2021-12-02T21:00:48.690Z"
   },
   {
    "duration": 34,
    "start_time": "2021-12-02T21:00:48.779Z"
   },
   {
    "duration": 38,
    "start_time": "2021-12-02T21:00:48.815Z"
   },
   {
    "duration": 9,
    "start_time": "2021-12-02T21:00:48.855Z"
   },
   {
    "duration": 18,
    "start_time": "2021-12-02T21:00:48.866Z"
   },
   {
    "duration": 69,
    "start_time": "2021-12-02T21:00:48.886Z"
   },
   {
    "duration": 19,
    "start_time": "2021-12-02T21:00:48.957Z"
   },
   {
    "duration": 9,
    "start_time": "2021-12-02T21:00:48.978Z"
   },
   {
    "duration": 63,
    "start_time": "2021-12-02T21:00:48.989Z"
   },
   {
    "duration": 68,
    "start_time": "2021-12-02T21:00:49.056Z"
   },
   {
    "duration": 33,
    "start_time": "2021-12-02T21:00:49.144Z"
   },
   {
    "duration": 36,
    "start_time": "2021-12-02T21:00:49.179Z"
   },
   {
    "duration": 49,
    "start_time": "2021-12-02T21:00:49.218Z"
   },
   {
    "duration": 21,
    "start_time": "2021-12-02T21:00:49.269Z"
   },
   {
    "duration": 121,
    "start_time": "2021-12-02T21:00:49.291Z"
   },
   {
    "duration": 44,
    "start_time": "2021-12-02T21:00:49.414Z"
   },
   {
    "duration": 326,
    "start_time": "2021-12-02T21:00:49.459Z"
   },
   {
    "duration": 8,
    "start_time": "2021-12-02T21:00:49.787Z"
   },
   {
    "duration": 52,
    "start_time": "2021-12-02T21:00:49.797Z"
   },
   {
    "duration": 25,
    "start_time": "2021-12-02T21:00:49.852Z"
   },
   {
    "duration": 379,
    "start_time": "2021-12-02T21:00:49.879Z"
   },
   {
    "duration": 18,
    "start_time": "2021-12-02T21:00:50.259Z"
   },
   {
    "duration": 38,
    "start_time": "2021-12-02T21:00:50.278Z"
   },
   {
    "duration": 51,
    "start_time": "2021-12-02T21:00:50.317Z"
   },
   {
    "duration": 621,
    "start_time": "2021-12-02T21:00:50.370Z"
   },
   {
    "duration": 15,
    "start_time": "2021-12-02T21:00:50.992Z"
   },
   {
    "duration": 36,
    "start_time": "2021-12-02T21:00:51.008Z"
   },
   {
    "duration": 4,
    "start_time": "2021-12-02T21:00:51.046Z"
   },
   {
    "duration": 16,
    "start_time": "2021-12-02T21:00:51.051Z"
   },
   {
    "duration": 53,
    "start_time": "2021-12-02T21:00:51.069Z"
   },
   {
    "duration": 132,
    "start_time": "2021-12-02T21:00:51.123Z"
   },
   {
    "duration": 9499,
    "start_time": "2021-12-02T21:00:51.346Z"
   },
   {
    "duration": 564450,
    "start_time": "2021-12-02T21:01:00.847Z"
   },
   {
    "duration": 46,
    "start_time": "2021-12-02T21:10:25.298Z"
   },
   {
    "duration": 6,
    "start_time": "2021-12-02T21:11:00.950Z"
   },
   {
    "duration": 3,
    "start_time": "2021-12-02T21:11:43.819Z"
   },
   {
    "duration": 45151,
    "start_time": "2021-12-02T21:12:09.995Z"
   },
   {
    "duration": 5,
    "start_time": "2021-12-02T21:13:51.569Z"
   },
   {
    "duration": 19519,
    "start_time": "2021-12-02T21:13:57.075Z"
   },
   {
    "duration": 4,
    "start_time": "2021-12-02T21:16:08.876Z"
   },
   {
    "duration": 247,
    "start_time": "2021-12-02T21:16:11.169Z"
   },
   {
    "duration": 5,
    "start_time": "2021-12-02T21:17:01.485Z"
   },
   {
    "duration": 1278,
    "start_time": "2021-12-02T21:17:02.377Z"
   },
   {
    "duration": 26,
    "start_time": "2021-12-02T21:17:07.820Z"
   },
   {
    "duration": 5,
    "start_time": "2021-12-02T21:17:10.537Z"
   },
   {
    "duration": 4,
    "start_time": "2021-12-02T21:17:22.977Z"
   },
   {
    "duration": 4942,
    "start_time": "2021-12-02T21:17:23.713Z"
   },
   {
    "duration": 328,
    "start_time": "2021-12-02T21:17:31.817Z"
   },
   {
    "duration": 6,
    "start_time": "2021-12-02T21:17:33.806Z"
   },
   {
    "duration": 3,
    "start_time": "2021-12-02T21:17:45.981Z"
   },
   {
    "duration": 4706,
    "start_time": "2021-12-02T21:17:46.740Z"
   },
   {
    "duration": 365,
    "start_time": "2021-12-02T21:17:53.285Z"
   },
   {
    "duration": 6,
    "start_time": "2021-12-02T21:17:54.506Z"
   },
   {
    "duration": 4,
    "start_time": "2021-12-02T21:18:08.163Z"
   },
   {
    "duration": 8579,
    "start_time": "2021-12-02T21:18:09.069Z"
   },
   {
    "duration": 643,
    "start_time": "2021-12-02T21:18:20.403Z"
   },
   {
    "duration": 5,
    "start_time": "2021-12-02T21:18:22.291Z"
   },
   {
    "duration": 4,
    "start_time": "2021-12-02T21:18:47.604Z"
   },
   {
    "duration": 7107,
    "start_time": "2021-12-02T21:18:48.444Z"
   },
   {
    "duration": 4,
    "start_time": "2021-12-02T21:19:00.817Z"
   },
   {
    "duration": 12104,
    "start_time": "2021-12-02T21:19:01.451Z"
   },
   {
    "duration": 848,
    "start_time": "2021-12-02T21:19:15.507Z"
   },
   {
    "duration": 6,
    "start_time": "2021-12-02T21:19:17.677Z"
   },
   {
    "duration": 4,
    "start_time": "2021-12-02T21:19:30.770Z"
   },
   {
    "duration": 28296,
    "start_time": "2021-12-02T21:19:31.558Z"
   },
   {
    "duration": 2243,
    "start_time": "2021-12-02T21:20:05.116Z"
   },
   {
    "duration": 6,
    "start_time": "2021-12-02T21:20:08.009Z"
   },
   {
    "duration": 291,
    "start_time": "2021-12-02T21:22:20.756Z"
   },
   {
    "duration": 4,
    "start_time": "2021-12-02T21:22:26.539Z"
   },
   {
    "duration": 30052,
    "start_time": "2021-12-02T21:22:27.108Z"
   },
   {
    "duration": 2483,
    "start_time": "2021-12-02T21:22:57.162Z"
   },
   {
    "duration": 5,
    "start_time": "2021-12-02T21:22:59.647Z"
   },
   {
    "duration": 39,
    "start_time": "2021-12-02T21:23:04.171Z"
   },
   {
    "duration": 4,
    "start_time": "2021-12-02T21:24:09.317Z"
   },
   {
    "duration": 37,
    "start_time": "2021-12-02T21:24:52.814Z"
   },
   {
    "duration": 5,
    "start_time": "2021-12-02T21:25:24.428Z"
   },
   {
    "duration": 4,
    "start_time": "2021-12-02T21:28:36.488Z"
   },
   {
    "duration": 7669,
    "start_time": "2021-12-02T21:28:36.982Z"
   },
   {
    "duration": 684,
    "start_time": "2021-12-02T21:28:45.466Z"
   },
   {
    "duration": 4,
    "start_time": "2021-12-02T21:28:46.152Z"
   },
   {
    "duration": 4,
    "start_time": "2021-12-02T21:29:16.373Z"
   },
   {
    "duration": 9266,
    "start_time": "2021-12-02T21:29:16.992Z"
   },
   {
    "duration": 639,
    "start_time": "2021-12-02T21:29:29.627Z"
   },
   {
    "duration": 6,
    "start_time": "2021-12-02T21:29:30.831Z"
   },
   {
    "duration": 4,
    "start_time": "2021-12-02T21:29:37.317Z"
   },
   {
    "duration": 6820,
    "start_time": "2021-12-02T21:29:37.928Z"
   },
   {
    "duration": 595,
    "start_time": "2021-12-02T21:29:44.750Z"
   },
   {
    "duration": 5,
    "start_time": "2021-12-02T21:29:45.348Z"
   },
   {
    "duration": 4,
    "start_time": "2021-12-02T21:29:53.109Z"
   },
   {
    "duration": 25733,
    "start_time": "2021-12-02T21:29:53.116Z"
   },
   {
    "duration": 2012,
    "start_time": "2021-12-02T21:30:18.851Z"
   },
   {
    "duration": 80,
    "start_time": "2021-12-02T21:30:20.865Z"
   },
   {
    "duration": 4,
    "start_time": "2021-12-02T21:30:53.117Z"
   },
   {
    "duration": 22753,
    "start_time": "2021-12-02T21:30:53.694Z"
   },
   {
    "duration": 1803,
    "start_time": "2021-12-02T21:31:16.450Z"
   },
   {
    "duration": 5,
    "start_time": "2021-12-02T21:31:18.255Z"
   },
   {
    "duration": 4,
    "start_time": "2021-12-02T21:31:30.269Z"
   },
   {
    "duration": 27129,
    "start_time": "2021-12-02T21:31:30.824Z"
   },
   {
    "duration": 1904,
    "start_time": "2021-12-02T21:31:57.955Z"
   },
   {
    "duration": 5,
    "start_time": "2021-12-02T21:31:59.861Z"
   },
   {
    "duration": 4,
    "start_time": "2021-12-02T21:32:09.345Z"
   },
   {
    "duration": 27735,
    "start_time": "2021-12-02T21:32:09.519Z"
   },
   {
    "duration": 1893,
    "start_time": "2021-12-02T21:32:37.256Z"
   },
   {
    "duration": 6,
    "start_time": "2021-12-02T21:32:39.152Z"
   },
   {
    "duration": 3,
    "start_time": "2021-12-02T21:33:09.766Z"
   },
   {
    "duration": 26676,
    "start_time": "2021-12-02T21:33:11.780Z"
   },
   {
    "duration": 1889,
    "start_time": "2021-12-02T21:33:38.458Z"
   },
   {
    "duration": 6,
    "start_time": "2021-12-02T21:33:40.349Z"
   },
   {
    "duration": 331,
    "start_time": "2021-12-02T21:34:52.811Z"
   },
   {
    "duration": 282,
    "start_time": "2021-12-02T21:37:25.845Z"
   },
   {
    "duration": 64806,
    "start_time": "2021-12-02T21:41:26.852Z"
   },
   {
    "duration": 3,
    "start_time": "2021-12-02T21:50:09.857Z"
   },
   {
    "duration": 4193,
    "start_time": "2021-12-02T21:54:42.215Z"
   },
   {
    "duration": 4,
    "start_time": "2021-12-02T21:55:12.180Z"
   },
   {
    "duration": 4414,
    "start_time": "2021-12-02T21:55:26.301Z"
   },
   {
    "duration": 4,
    "start_time": "2021-12-02T21:55:32.263Z"
   },
   {
    "duration": 5,
    "start_time": "2021-12-02T21:55:56.227Z"
   },
   {
    "duration": 3938,
    "start_time": "2021-12-02T21:56:34.402Z"
   },
   {
    "duration": 6725,
    "start_time": "2021-12-02T21:57:02.955Z"
   },
   {
    "duration": 6,
    "start_time": "2021-12-02T21:57:10.763Z"
   },
   {
    "duration": 6322,
    "start_time": "2021-12-02T21:57:36.326Z"
   },
   {
    "duration": 4,
    "start_time": "2021-12-02T21:59:17.070Z"
   },
   {
    "duration": 4,
    "start_time": "2021-12-02T22:00:17.786Z"
   },
   {
    "duration": 4,
    "start_time": "2021-12-02T22:00:53.558Z"
   },
   {
    "duration": 3,
    "start_time": "2021-12-02T22:01:07.190Z"
   },
   {
    "duration": 184,
    "start_time": "2021-12-02T22:01:57.928Z"
   },
   {
    "duration": 183,
    "start_time": "2021-12-02T22:02:07.086Z"
   },
   {
    "duration": 181,
    "start_time": "2021-12-02T22:02:21.177Z"
   },
   {
    "duration": 8558,
    "start_time": "2021-12-02T22:02:23.268Z"
   },
   {
    "duration": 176,
    "start_time": "2021-12-02T22:02:35.186Z"
   },
   {
    "duration": 96,
    "start_time": "2021-12-02T22:04:51.705Z"
   },
   {
    "duration": 6601,
    "start_time": "2021-12-02T22:05:05.347Z"
   },
   {
    "duration": 3,
    "start_time": "2021-12-02T22:05:19.233Z"
   },
   {
    "duration": 3,
    "start_time": "2021-12-02T22:05:50.420Z"
   },
   {
    "duration": 4,
    "start_time": "2021-12-02T22:06:39.527Z"
   },
   {
    "duration": 4,
    "start_time": "2021-12-02T22:06:59.674Z"
   },
   {
    "duration": 7472,
    "start_time": "2021-12-02T22:07:21.888Z"
   },
   {
    "duration": 4,
    "start_time": "2021-12-02T22:07:31.081Z"
   },
   {
    "duration": 53881,
    "start_time": "2021-12-02T22:20:20.720Z"
   },
   {
    "duration": 4,
    "start_time": "2021-12-02T22:21:56.913Z"
   },
   {
    "duration": 49954,
    "start_time": "2021-12-02T22:22:13.756Z"
   },
   {
    "duration": 3,
    "start_time": "2021-12-02T22:23:06.944Z"
   },
   {
    "duration": 4,
    "start_time": "2021-12-02T22:23:08.020Z"
   },
   {
    "duration": 8,
    "start_time": "2021-12-02T22:23:44.362Z"
   },
   {
    "duration": 49679,
    "start_time": "2021-12-02T22:24:19.575Z"
   },
   {
    "duration": 49862,
    "start_time": "2021-12-02T22:29:05.385Z"
   },
   {
    "duration": 49675,
    "start_time": "2021-12-02T22:33:58.786Z"
   },
   {
    "duration": 541673,
    "start_time": "2021-12-02T22:38:27.893Z"
   },
   {
    "duration": 531640,
    "start_time": "2021-12-02T22:49:48.021Z"
   },
   {
    "duration": 6921,
    "start_time": "2021-12-02T23:02:38.653Z"
   },
   {
    "duration": 28165,
    "start_time": "2021-12-02T23:03:09.193Z"
   },
   {
    "duration": 965,
    "start_time": "2021-12-02T23:08:35.287Z"
   },
   {
    "duration": 8666,
    "start_time": "2021-12-02T23:08:38.544Z"
   },
   {
    "duration": 6667,
    "start_time": "2021-12-02T23:09:12.704Z"
   },
   {
    "duration": 32718,
    "start_time": "2021-12-02T23:09:27.041Z"
   },
   {
    "duration": 8088,
    "start_time": "2021-12-02T23:10:09.069Z"
   },
   {
    "duration": 20418,
    "start_time": "2021-12-02T23:28:50.317Z"
   },
   {
    "duration": 139,
    "start_time": "2021-12-02T23:29:22.612Z"
   },
   {
    "duration": 1025,
    "start_time": "2021-12-02T23:36:23.551Z"
   },
   {
    "duration": 887,
    "start_time": "2021-12-02T23:36:24.578Z"
   },
   {
    "duration": 27,
    "start_time": "2021-12-02T23:36:25.467Z"
   },
   {
    "duration": 3,
    "start_time": "2021-12-02T23:36:25.496Z"
   },
   {
    "duration": 6,
    "start_time": "2021-12-02T23:36:25.500Z"
   },
   {
    "duration": 74,
    "start_time": "2021-12-02T23:36:25.507Z"
   },
   {
    "duration": 34,
    "start_time": "2021-12-02T23:36:25.583Z"
   },
   {
    "duration": 30,
    "start_time": "2021-12-02T23:36:25.619Z"
   },
   {
    "duration": 260,
    "start_time": "2021-12-02T23:36:25.652Z"
   },
   {
    "duration": 48,
    "start_time": "2021-12-02T23:36:25.914Z"
   },
   {
    "duration": 10,
    "start_time": "2021-12-02T23:36:25.964Z"
   },
   {
    "duration": 25,
    "start_time": "2021-12-02T23:36:25.976Z"
   },
   {
    "duration": 15,
    "start_time": "2021-12-02T23:36:26.003Z"
   },
   {
    "duration": 58,
    "start_time": "2021-12-02T23:36:26.045Z"
   },
   {
    "duration": 43,
    "start_time": "2021-12-02T23:36:26.105Z"
   },
   {
    "duration": 20,
    "start_time": "2021-12-02T23:36:26.150Z"
   },
   {
    "duration": 7,
    "start_time": "2021-12-02T23:36:26.172Z"
   },
   {
    "duration": 16,
    "start_time": "2021-12-02T23:36:26.181Z"
   },
   {
    "duration": 62,
    "start_time": "2021-12-02T23:36:26.198Z"
   },
   {
    "duration": 18,
    "start_time": "2021-12-02T23:36:26.261Z"
   },
   {
    "duration": 7,
    "start_time": "2021-12-02T23:36:26.281Z"
   },
   {
    "duration": 58,
    "start_time": "2021-12-02T23:36:26.290Z"
   },
   {
    "duration": 74,
    "start_time": "2021-12-02T23:36:26.349Z"
   },
   {
    "duration": 50,
    "start_time": "2021-12-02T23:36:26.425Z"
   },
   {
    "duration": 30,
    "start_time": "2021-12-02T23:36:26.477Z"
   },
   {
    "duration": 43,
    "start_time": "2021-12-02T23:36:26.508Z"
   },
   {
    "duration": 19,
    "start_time": "2021-12-02T23:36:26.555Z"
   },
   {
    "duration": 120,
    "start_time": "2021-12-02T23:36:26.576Z"
   },
   {
    "duration": 46,
    "start_time": "2021-12-02T23:36:26.698Z"
   },
   {
    "duration": 333,
    "start_time": "2021-12-02T23:36:26.746Z"
   },
   {
    "duration": 8,
    "start_time": "2021-12-02T23:36:27.081Z"
   },
   {
    "duration": 54,
    "start_time": "2021-12-02T23:36:27.091Z"
   },
   {
    "duration": 28,
    "start_time": "2021-12-02T23:36:27.146Z"
   },
   {
    "duration": 362,
    "start_time": "2021-12-02T23:36:27.176Z"
   },
   {
    "duration": 18,
    "start_time": "2021-12-02T23:36:27.544Z"
   },
   {
    "duration": 37,
    "start_time": "2021-12-02T23:36:27.564Z"
   },
   {
    "duration": 48,
    "start_time": "2021-12-02T23:36:27.603Z"
   },
   {
    "duration": 626,
    "start_time": "2021-12-02T23:36:27.653Z"
   },
   {
    "duration": 15,
    "start_time": "2021-12-02T23:36:28.281Z"
   },
   {
    "duration": 20,
    "start_time": "2021-12-02T23:36:28.297Z"
   },
   {
    "duration": 4,
    "start_time": "2021-12-02T23:36:28.318Z"
   },
   {
    "duration": 33,
    "start_time": "2021-12-02T23:36:28.323Z"
   },
   {
    "duration": 52,
    "start_time": "2021-12-02T23:36:28.358Z"
   },
   {
    "duration": 141,
    "start_time": "2021-12-02T23:36:28.412Z"
   },
   {
    "duration": 991,
    "start_time": "2021-12-02T23:36:28.645Z"
   },
   {
    "duration": 8646,
    "start_time": "2021-12-02T23:36:29.637Z"
   },
   {
    "duration": 51130,
    "start_time": "2021-12-02T23:36:38.285Z"
   },
   {
    "duration": 6534,
    "start_time": "2021-12-02T23:37:29.417Z"
   },
   {
    "duration": 544776,
    "start_time": "2021-12-02T23:37:35.953Z"
   },
   {
    "duration": 7621,
    "start_time": "2021-12-02T23:46:40.731Z"
   },
   {
    "duration": 481400,
    "start_time": "2021-12-02T23:46:48.354Z"
   },
   {
    "duration": 37,
    "start_time": "2021-12-02T23:54:49.756Z"
   },
   {
    "duration": 4,
    "start_time": "2021-12-04T08:53:30.159Z"
   },
   {
    "duration": 871,
    "start_time": "2021-12-04T08:53:30.781Z"
   },
   {
    "duration": 23,
    "start_time": "2021-12-04T08:53:31.654Z"
   },
   {
    "duration": 3,
    "start_time": "2021-12-04T08:53:31.678Z"
   },
   {
    "duration": 5,
    "start_time": "2021-12-04T08:53:31.683Z"
   },
   {
    "duration": 25,
    "start_time": "2021-12-04T08:53:32.226Z"
   },
   {
    "duration": 35,
    "start_time": "2021-12-04T08:53:32.663Z"
   },
   {
    "duration": 19,
    "start_time": "2021-12-04T08:53:33.109Z"
   },
   {
    "duration": 232,
    "start_time": "2021-12-04T08:53:33.454Z"
   },
   {
    "duration": 42,
    "start_time": "2021-12-04T08:53:33.831Z"
   },
   {
    "duration": 8,
    "start_time": "2021-12-04T08:53:34.224Z"
   },
   {
    "duration": 26,
    "start_time": "2021-12-04T08:53:34.782Z"
   },
   {
    "duration": 15,
    "start_time": "2021-12-04T08:53:35.930Z"
   },
   {
    "duration": 43,
    "start_time": "2021-12-04T08:53:37.408Z"
   },
   {
    "duration": 36,
    "start_time": "2021-12-04T08:53:38.345Z"
   },
   {
    "duration": 20,
    "start_time": "2021-12-04T08:53:38.702Z"
   },
   {
    "duration": 9,
    "start_time": "2021-12-04T08:53:39.167Z"
   },
   {
    "duration": 18,
    "start_time": "2021-12-04T08:53:39.603Z"
   },
   {
    "duration": 38,
    "start_time": "2021-12-04T08:53:40.283Z"
   },
   {
    "duration": 21,
    "start_time": "2021-12-04T08:53:40.733Z"
   },
   {
    "duration": 10,
    "start_time": "2021-12-04T08:53:41.140Z"
   },
   {
    "duration": 34,
    "start_time": "2021-12-04T08:53:41.730Z"
   },
   {
    "duration": 73,
    "start_time": "2021-12-04T08:53:42.138Z"
   },
   {
    "duration": 36,
    "start_time": "2021-12-04T08:53:42.567Z"
   },
   {
    "duration": 31,
    "start_time": "2021-12-04T08:53:43.269Z"
   },
   {
    "duration": 34,
    "start_time": "2021-12-04T08:53:43.701Z"
   },
   {
    "duration": 20,
    "start_time": "2021-12-04T08:53:44.213Z"
   },
   {
    "duration": 89,
    "start_time": "2021-12-04T08:53:44.684Z"
   },
   {
    "duration": 36,
    "start_time": "2021-12-04T08:53:45.137Z"
   },
   {
    "duration": 342,
    "start_time": "2021-12-04T08:53:45.616Z"
   },
   {
    "duration": 10,
    "start_time": "2021-12-04T08:53:46.324Z"
   },
   {
    "duration": 26,
    "start_time": "2021-12-04T08:53:46.836Z"
   },
   {
    "duration": 23,
    "start_time": "2021-12-04T08:53:47.380Z"
   },
   {
    "duration": 376,
    "start_time": "2021-12-04T08:53:47.893Z"
   },
   {
    "duration": 23,
    "start_time": "2021-12-04T08:53:48.696Z"
   },
   {
    "duration": 41,
    "start_time": "2021-12-04T08:53:50.079Z"
   },
   {
    "duration": 15,
    "start_time": "2021-12-04T08:53:51.214Z"
   },
   {
    "duration": 76,
    "start_time": "2021-12-04T08:53:56.162Z"
   },
   {
    "duration": 7122,
    "start_time": "2021-12-04T08:59:25.828Z"
   },
   {
    "duration": 263,
    "start_time": "2021-12-04T09:02:16.571Z"
   },
   {
    "duration": 411,
    "start_time": "2021-12-04T09:02:25.986Z"
   },
   {
    "duration": 535,
    "start_time": "2021-12-04T09:02:45.809Z"
   },
   {
    "duration": 410,
    "start_time": "2021-12-04T09:03:13.804Z"
   },
   {
    "duration": 442,
    "start_time": "2021-12-04T09:04:03.429Z"
   },
   {
    "duration": 21,
    "start_time": "2021-12-04T09:04:09.350Z"
   },
   {
    "duration": 20,
    "start_time": "2021-12-04T09:04:20.396Z"
   },
   {
    "duration": 13,
    "start_time": "2021-12-04T09:04:28.334Z"
   },
   {
    "duration": 4,
    "start_time": "2021-12-04T09:05:35.217Z"
   },
   {
    "duration": 836,
    "start_time": "2021-12-04T09:05:35.739Z"
   },
   {
    "duration": 22,
    "start_time": "2021-12-04T09:05:36.577Z"
   },
   {
    "duration": 40,
    "start_time": "2021-12-04T09:05:36.601Z"
   },
   {
    "duration": 39,
    "start_time": "2021-12-04T09:05:36.643Z"
   },
   {
    "duration": 24,
    "start_time": "2021-12-04T09:05:37.216Z"
   },
   {
    "duration": 32,
    "start_time": "2021-12-04T09:05:37.660Z"
   },
   {
    "duration": 20,
    "start_time": "2021-12-04T09:05:38.082Z"
   },
   {
    "duration": 184,
    "start_time": "2021-12-04T09:05:38.505Z"
   },
   {
    "duration": 42,
    "start_time": "2021-12-04T09:05:38.892Z"
   },
   {
    "duration": 8,
    "start_time": "2021-12-04T09:05:39.297Z"
   },
   {
    "duration": 25,
    "start_time": "2021-12-04T09:05:39.721Z"
   },
   {
    "duration": 16,
    "start_time": "2021-12-04T09:05:40.162Z"
   },
   {
    "duration": 43,
    "start_time": "2021-12-04T09:05:40.563Z"
   },
   {
    "duration": 33,
    "start_time": "2021-12-04T09:05:41.012Z"
   },
   {
    "duration": 19,
    "start_time": "2021-12-04T09:05:41.461Z"
   },
   {
    "duration": 8,
    "start_time": "2021-12-04T09:05:41.914Z"
   },
   {
    "duration": 17,
    "start_time": "2021-12-04T09:05:42.282Z"
   },
   {
    "duration": 34,
    "start_time": "2021-12-04T09:05:42.857Z"
   },
   {
    "duration": 20,
    "start_time": "2021-12-04T09:05:43.257Z"
   },
   {
    "duration": 8,
    "start_time": "2021-12-04T09:05:43.673Z"
   },
   {
    "duration": 35,
    "start_time": "2021-12-04T09:05:44.319Z"
   },
   {
    "duration": 71,
    "start_time": "2021-12-04T09:05:44.780Z"
   },
   {
    "duration": 38,
    "start_time": "2021-12-04T09:05:45.430Z"
   },
   {
    "duration": 31,
    "start_time": "2021-12-04T09:05:45.875Z"
   },
   {
    "duration": 35,
    "start_time": "2021-12-04T09:05:46.318Z"
   },
   {
    "duration": 21,
    "start_time": "2021-12-04T09:05:46.992Z"
   },
   {
    "duration": 89,
    "start_time": "2021-12-04T09:05:47.375Z"
   },
   {
    "duration": 38,
    "start_time": "2021-12-04T09:05:47.822Z"
   },
   {
    "duration": 349,
    "start_time": "2021-12-04T09:05:48.291Z"
   },
   {
    "duration": 9,
    "start_time": "2021-12-04T09:05:48.744Z"
   },
   {
    "duration": 26,
    "start_time": "2021-12-04T09:05:49.214Z"
   },
   {
    "duration": 23,
    "start_time": "2021-12-04T09:05:49.694Z"
   },
   {
    "duration": 364,
    "start_time": "2021-12-04T09:05:50.162Z"
   },
   {
    "duration": 21,
    "start_time": "2021-12-04T09:05:51.518Z"
   },
   {
    "duration": 40,
    "start_time": "2021-12-04T09:05:52.008Z"
   },
   {
    "duration": 21,
    "start_time": "2021-12-04T09:05:52.465Z"
   },
   {
    "duration": 72,
    "start_time": "2021-12-04T09:05:56.663Z"
   },
   {
    "duration": 3,
    "start_time": "2021-12-04T09:05:58.022Z"
   },
   {
    "duration": 19,
    "start_time": "2021-12-04T09:06:00.197Z"
   },
   {
    "duration": 578,
    "start_time": "2021-12-04T09:06:04.070Z"
   },
   {
    "duration": 21,
    "start_time": "2021-12-04T09:06:05.230Z"
   },
   {
    "duration": 23,
    "start_time": "2021-12-04T09:07:39.386Z"
   },
   {
    "duration": 293,
    "start_time": "2021-12-04T09:07:48.282Z"
   },
   {
    "duration": 20,
    "start_time": "2021-12-04T09:07:50.698Z"
   },
   {
    "duration": 14,
    "start_time": "2021-12-04T09:07:52.409Z"
   },
   {
    "duration": 4,
    "start_time": "2021-12-04T09:07:55.203Z"
   },
   {
    "duration": 10,
    "start_time": "2021-12-04T09:07:57.969Z"
   },
   {
    "duration": 52,
    "start_time": "2021-12-04T09:07:58.783Z"
   },
   {
    "duration": 124,
    "start_time": "2021-12-04T09:08:05.735Z"
   },
   {
    "duration": 967,
    "start_time": "2021-12-04T09:08:10.953Z"
   },
   {
    "duration": 8638,
    "start_time": "2021-12-04T09:08:13.778Z"
   },
   {
    "duration": 49759,
    "start_time": "2021-12-04T09:08:41.797Z"
   },
   {
    "duration": 49876,
    "start_time": "2021-12-04T09:10:39.834Z"
   },
   {
    "duration": 93,
    "start_time": "2021-12-04T09:12:10.990Z"
   },
   {
    "duration": 236,
    "start_time": "2021-12-04T09:12:27.628Z"
   },
   {
    "duration": 50377,
    "start_time": "2021-12-04T09:17:38.069Z"
   },
   {
    "duration": 220,
    "start_time": "2021-12-04T09:19:36.392Z"
   },
   {
    "duration": 50567,
    "start_time": "2021-12-04T09:19:49.220Z"
   },
   {
    "duration": 253,
    "start_time": "2021-12-04T09:23:41.293Z"
   },
   {
    "duration": 4,
    "start_time": "2021-12-04T09:24:31.867Z"
   },
   {
    "duration": 87,
    "start_time": "2021-12-04T09:27:51.835Z"
   },
   {
    "duration": 54868,
    "start_time": "2021-12-04T09:28:02.675Z"
   },
   {
    "duration": 28627,
    "start_time": "2021-12-04T09:30:22.987Z"
   },
   {
    "duration": 200,
    "start_time": "2021-12-04T09:31:26.566Z"
   },
   {
    "duration": 14433,
    "start_time": "2021-12-04T09:31:33.685Z"
   },
   {
    "duration": 54102,
    "start_time": "2021-12-04T09:32:06.189Z"
   },
   {
    "duration": 1683086,
    "start_time": "2021-12-04T09:34:46.941Z"
   },
   {
    "duration": 67,
    "start_time": "2021-12-04T10:03:10.331Z"
   },
   {
    "duration": 44,
    "start_time": "2021-12-04T10:03:11.100Z"
   },
   {
    "duration": 2,
    "start_time": "2021-12-04T10:03:14.639Z"
   },
   {
    "duration": 69,
    "start_time": "2021-12-04T10:03:15.439Z"
   },
   {
    "duration": 11,
    "start_time": "2021-12-04T10:03:16.110Z"
   },
   {
    "duration": 5,
    "start_time": "2021-12-04T10:03:19.453Z"
   },
   {
    "duration": 2,
    "start_time": "2021-12-04T10:03:25.737Z"
   },
   {
    "duration": 1115,
    "start_time": "2021-12-04T10:03:26.342Z"
   },
   {
    "duration": 51,
    "start_time": "2021-12-04T10:03:27.460Z"
   },
   {
    "duration": 5,
    "start_time": "2021-12-04T10:03:27.514Z"
   },
   {
    "duration": 4,
    "start_time": "2021-12-04T10:03:44.242Z"
   },
   {
    "duration": 7639,
    "start_time": "2021-12-04T10:03:45.275Z"
   },
   {
    "duration": 409,
    "start_time": "2021-12-04T10:03:52.916Z"
   },
   {
    "duration": 5,
    "start_time": "2021-12-04T10:03:53.327Z"
   },
   {
    "duration": 3,
    "start_time": "2021-12-04T10:04:02.134Z"
   },
   {
    "duration": 7676,
    "start_time": "2021-12-04T10:04:02.985Z"
   },
   {
    "duration": 433,
    "start_time": "2021-12-04T10:04:10.664Z"
   },
   {
    "duration": 5,
    "start_time": "2021-12-04T10:04:11.099Z"
   },
   {
    "duration": 4,
    "start_time": "2021-12-04T10:04:41.810Z"
   },
   {
    "duration": 4,
    "start_time": "2021-12-04T10:06:52.207Z"
   },
   {
    "duration": 934,
    "start_time": "2021-12-04T10:06:52.688Z"
   },
   {
    "duration": 33,
    "start_time": "2021-12-04T10:06:53.624Z"
   },
   {
    "duration": 1143,
    "start_time": "2021-12-04T10:07:00.977Z"
   },
   {
    "duration": 1040,
    "start_time": "2021-12-04T10:07:02.122Z"
   },
   {
    "duration": 27,
    "start_time": "2021-12-04T10:07:03.164Z"
   },
   {
    "duration": 29,
    "start_time": "2021-12-04T10:07:03.193Z"
   },
   {
    "duration": 28,
    "start_time": "2021-12-04T10:07:03.224Z"
   },
   {
    "duration": 78,
    "start_time": "2021-12-04T10:07:03.255Z"
   },
   {
    "duration": 54,
    "start_time": "2021-12-04T10:07:03.334Z"
   },
   {
    "duration": 21,
    "start_time": "2021-12-04T10:07:03.391Z"
   },
   {
    "duration": 317,
    "start_time": "2021-12-04T10:07:03.414Z"
   },
   {
    "duration": 91,
    "start_time": "2021-12-04T10:07:03.745Z"
   },
   {
    "duration": 46,
    "start_time": "2021-12-04T10:07:03.845Z"
   },
   {
    "duration": 47,
    "start_time": "2021-12-04T10:07:03.893Z"
   },
   {
    "duration": 39,
    "start_time": "2021-12-04T10:07:03.942Z"
   },
   {
    "duration": 129,
    "start_time": "2021-12-04T10:07:03.991Z"
   },
   {
    "duration": 86,
    "start_time": "2021-12-04T10:07:04.129Z"
   },
   {
    "duration": 54,
    "start_time": "2021-12-04T10:07:04.218Z"
   },
   {
    "duration": 20,
    "start_time": "2021-12-04T10:07:04.275Z"
   },
   {
    "duration": 20,
    "start_time": "2021-12-04T10:07:04.297Z"
   },
   {
    "duration": 49,
    "start_time": "2021-12-04T10:07:04.318Z"
   },
   {
    "duration": 19,
    "start_time": "2021-12-04T10:07:04.369Z"
   },
   {
    "duration": 9,
    "start_time": "2021-12-04T10:07:04.389Z"
   },
   {
    "duration": 67,
    "start_time": "2021-12-04T10:07:04.399Z"
   },
   {
    "duration": 105,
    "start_time": "2021-12-04T10:07:04.471Z"
   },
   {
    "duration": 38,
    "start_time": "2021-12-04T10:07:04.580Z"
   },
   {
    "duration": 47,
    "start_time": "2021-12-04T10:07:04.619Z"
   },
   {
    "duration": 34,
    "start_time": "2021-12-04T10:07:04.668Z"
   },
   {
    "duration": 42,
    "start_time": "2021-12-04T10:07:04.704Z"
   },
   {
    "duration": 122,
    "start_time": "2021-12-04T10:07:04.749Z"
   },
   {
    "duration": 43,
    "start_time": "2021-12-04T10:07:04.873Z"
   },
   {
    "duration": 420,
    "start_time": "2021-12-04T10:07:04.918Z"
   },
   {
    "duration": 11,
    "start_time": "2021-12-04T10:07:05.339Z"
   },
   {
    "duration": 41,
    "start_time": "2021-12-04T10:07:05.352Z"
   },
   {
    "duration": 28,
    "start_time": "2021-12-04T10:07:05.395Z"
   },
   {
    "duration": 441,
    "start_time": "2021-12-04T10:07:05.424Z"
   },
   {
    "duration": 21,
    "start_time": "2021-12-04T10:07:05.866Z"
   },
   {
    "duration": 67,
    "start_time": "2021-12-04T10:07:05.889Z"
   },
   {
    "duration": 31,
    "start_time": "2021-12-04T10:07:05.958Z"
   },
   {
    "duration": 101,
    "start_time": "2021-12-04T10:07:05.990Z"
   },
   {
    "duration": 2,
    "start_time": "2021-12-04T10:07:06.093Z"
   },
   {
    "duration": 524,
    "start_time": "2021-12-04T10:07:06.097Z"
   },
   {
    "duration": 31,
    "start_time": "2021-12-04T10:07:06.622Z"
   },
   {
    "duration": 24,
    "start_time": "2021-12-04T10:07:06.655Z"
   },
   {
    "duration": 4,
    "start_time": "2021-12-04T10:07:06.681Z"
   },
   {
    "duration": 11,
    "start_time": "2021-12-04T10:07:06.687Z"
   },
   {
    "duration": 89,
    "start_time": "2021-12-04T10:07:06.700Z"
   },
   {
    "duration": 3,
    "start_time": "2021-12-04T10:07:06.790Z"
   },
   {
    "duration": 86,
    "start_time": "2021-12-04T10:07:06.795Z"
   },
   {
    "duration": 165,
    "start_time": "2021-12-04T10:07:06.883Z"
   },
   {
    "duration": 5,
    "start_time": "2021-12-04T10:07:07.050Z"
   },
   {
    "duration": 105,
    "start_time": "2021-12-04T10:07:07.057Z"
   },
   {
    "duration": 1137,
    "start_time": "2021-12-04T10:07:07.165Z"
   },
   {
    "duration": 71,
    "start_time": "2021-12-04T10:07:08.304Z"
   },
   {
    "duration": 5,
    "start_time": "2021-12-04T10:07:08.377Z"
   },
   {
    "duration": 10193,
    "start_time": "2021-12-04T10:07:08.384Z"
   },
   {
    "duration": 55195,
    "start_time": "2021-12-04T10:07:18.579Z"
   },
   {
    "duration": 2,
    "start_time": "2021-12-04T10:08:13.776Z"
   },
   {
    "duration": 7102,
    "start_time": "2021-12-04T10:08:13.780Z"
   },
   {
    "duration": 415,
    "start_time": "2021-12-04T10:08:20.883Z"
   },
   {
    "duration": 4,
    "start_time": "2021-12-04T10:08:21.300Z"
   },
   {
    "duration": 611233,
    "start_time": "2021-12-04T10:08:21.306Z"
   },
   {
    "duration": 3,
    "start_time": "2021-12-04T10:18:32.544Z"
   },
   {
    "duration": 29510,
    "start_time": "2021-12-04T10:18:32.549Z"
   },
   {
    "duration": 707,
    "start_time": "2021-12-04T10:19:02.061Z"
   },
   {
    "duration": 5,
    "start_time": "2021-12-04T10:19:02.770Z"
   },
   {
    "duration": 1340987,
    "start_time": "2021-12-04T10:19:02.777Z"
   },
   {
    "duration": 359,
    "start_time": "2021-12-04T10:41:23.766Z"
   },
   {
    "duration": 1556,
    "start_time": "2021-12-04T10:42:26.385Z"
   },
   {
    "duration": 1433,
    "start_time": "2021-12-04T10:42:26.513Z"
   },
   {
    "duration": 1419,
    "start_time": "2021-12-04T10:42:26.528Z"
   },
   {
    "duration": 1395,
    "start_time": "2021-12-04T10:42:26.553Z"
   },
   {
    "duration": 1383,
    "start_time": "2021-12-04T10:42:26.566Z"
   },
   {
    "duration": 1372,
    "start_time": "2021-12-04T10:42:26.578Z"
   },
   {
    "duration": 1364,
    "start_time": "2021-12-04T10:42:26.587Z"
   },
   {
    "duration": 1349,
    "start_time": "2021-12-04T10:42:26.603Z"
   },
   {
    "duration": 1339,
    "start_time": "2021-12-04T10:42:26.614Z"
   },
   {
    "duration": 1325,
    "start_time": "2021-12-04T10:42:26.629Z"
   },
   {
    "duration": 1317,
    "start_time": "2021-12-04T10:42:26.638Z"
   },
   {
    "duration": 1307,
    "start_time": "2021-12-04T10:42:26.649Z"
   },
   {
    "duration": 1283,
    "start_time": "2021-12-04T10:42:26.674Z"
   },
   {
    "duration": 1271,
    "start_time": "2021-12-04T10:42:26.687Z"
   },
   {
    "duration": 1262,
    "start_time": "2021-12-04T10:42:26.697Z"
   },
   {
    "duration": 1251,
    "start_time": "2021-12-04T10:42:26.709Z"
   },
   {
    "duration": 1160,
    "start_time": "2021-12-04T10:42:26.801Z"
   },
   {
    "duration": 1119,
    "start_time": "2021-12-04T10:42:26.843Z"
   },
   {
    "duration": 1075,
    "start_time": "2021-12-04T10:42:26.888Z"
   },
   {
    "duration": 1061,
    "start_time": "2021-12-04T10:42:26.903Z"
   },
   {
    "duration": 1051,
    "start_time": "2021-12-04T10:42:26.914Z"
   },
   {
    "duration": 1041,
    "start_time": "2021-12-04T10:42:26.925Z"
   },
   {
    "duration": 1033,
    "start_time": "2021-12-04T10:42:26.934Z"
   },
   {
    "duration": 1022,
    "start_time": "2021-12-04T10:42:26.946Z"
   },
   {
    "duration": 1013,
    "start_time": "2021-12-04T10:42:26.956Z"
   },
   {
    "duration": 1001,
    "start_time": "2021-12-04T10:42:26.969Z"
   },
   {
    "duration": 883,
    "start_time": "2021-12-04T10:42:27.088Z"
   },
   {
    "duration": 686,
    "start_time": "2021-12-04T10:42:27.286Z"
   },
   {
    "duration": 676,
    "start_time": "2021-12-04T10:42:27.297Z"
   },
   {
    "duration": 646,
    "start_time": "2021-12-04T10:42:27.328Z"
   },
   {
    "duration": 639,
    "start_time": "2021-12-04T10:42:27.337Z"
   },
   {
    "duration": 627,
    "start_time": "2021-12-04T10:42:27.350Z"
   },
   {
    "duration": 618,
    "start_time": "2021-12-04T10:42:27.360Z"
   },
   {
    "duration": 607,
    "start_time": "2021-12-04T10:42:27.371Z"
   },
   {
    "duration": 596,
    "start_time": "2021-12-04T10:42:27.384Z"
   },
   {
    "duration": 581,
    "start_time": "2021-12-04T10:42:27.400Z"
   },
   {
    "duration": 572,
    "start_time": "2021-12-04T10:42:27.410Z"
   },
   {
    "duration": 564,
    "start_time": "2021-12-04T10:42:27.419Z"
   },
   {
    "duration": 536,
    "start_time": "2021-12-04T10:42:27.448Z"
   },
   {
    "duration": 524,
    "start_time": "2021-12-04T10:42:27.461Z"
   },
   {
    "duration": 516,
    "start_time": "2021-12-04T10:42:27.470Z"
   },
   {
    "duration": 490,
    "start_time": "2021-12-04T10:42:27.496Z"
   },
   {
    "duration": 170,
    "start_time": "2021-12-04T10:42:27.817Z"
   },
   {
    "duration": 160,
    "start_time": "2021-12-04T10:42:27.828Z"
   },
   {
    "duration": 152,
    "start_time": "2021-12-04T10:42:27.837Z"
   },
   {
    "duration": 124,
    "start_time": "2021-12-04T10:42:27.866Z"
   },
   {
    "duration": 114,
    "start_time": "2021-12-04T10:42:27.876Z"
   },
   {
    "duration": 104,
    "start_time": "2021-12-04T10:42:27.887Z"
   },
   {
    "duration": 147,
    "start_time": "2021-12-04T10:42:27.898Z"
   },
   {
    "duration": 137,
    "start_time": "2021-12-04T10:42:27.909Z"
   },
   {
    "duration": 129,
    "start_time": "2021-12-04T10:42:27.918Z"
   },
   {
    "duration": 119,
    "start_time": "2021-12-04T10:42:27.929Z"
   },
   {
    "duration": 111,
    "start_time": "2021-12-04T10:42:27.938Z"
   },
   {
    "duration": 101,
    "start_time": "2021-12-04T10:42:27.949Z"
   },
   {
    "duration": 91,
    "start_time": "2021-12-04T10:42:27.960Z"
   },
   {
    "duration": 64,
    "start_time": "2021-12-04T10:42:27.987Z"
   },
   {
    "duration": 55,
    "start_time": "2021-12-04T10:42:27.997Z"
   },
   {
    "duration": 46,
    "start_time": "2021-12-04T10:42:28.007Z"
   },
   {
    "duration": 37,
    "start_time": "2021-12-04T10:42:28.017Z"
   },
   {
    "duration": 11,
    "start_time": "2021-12-04T10:42:28.043Z"
   },
   {
    "duration": -29,
    "start_time": "2021-12-04T10:42:28.084Z"
   },
   {
    "duration": -42,
    "start_time": "2021-12-04T10:42:28.098Z"
   },
   {
    "duration": -92,
    "start_time": "2021-12-04T10:42:28.149Z"
   },
   {
    "duration": -158,
    "start_time": "2021-12-04T10:42:28.216Z"
   },
   {
    "duration": -221,
    "start_time": "2021-12-04T10:42:28.280Z"
   },
   {
    "duration": -349,
    "start_time": "2021-12-04T10:42:28.409Z"
   },
   {
    "duration": -357,
    "start_time": "2021-12-04T10:42:28.417Z"
   },
   {
    "duration": -387,
    "start_time": "2021-12-04T10:42:28.448Z"
   },
   {
    "duration": -397,
    "start_time": "2021-12-04T10:42:28.459Z"
   },
   {
    "duration": -405,
    "start_time": "2021-12-04T10:42:28.468Z"
   },
   {
    "duration": 5,
    "start_time": "2021-12-04T10:45:07.636Z"
   },
   {
    "duration": 323,
    "start_time": "2021-12-04T10:47:35.022Z"
   },
   {
    "duration": 288,
    "start_time": "2021-12-04T10:47:47.083Z"
   },
   {
    "duration": 313,
    "start_time": "2021-12-04T10:48:36.862Z"
   },
   {
    "duration": 1082,
    "start_time": "2021-12-04T10:49:09.708Z"
   },
   {
    "duration": 944,
    "start_time": "2021-12-04T10:49:10.792Z"
   },
   {
    "duration": 30,
    "start_time": "2021-12-04T10:49:11.739Z"
   },
   {
    "duration": 3,
    "start_time": "2021-12-04T10:49:11.771Z"
   },
   {
    "duration": 5,
    "start_time": "2021-12-04T10:49:11.776Z"
   },
   {
    "duration": 38,
    "start_time": "2021-12-04T10:49:11.782Z"
   },
   {
    "duration": 51,
    "start_time": "2021-12-04T10:49:11.821Z"
   },
   {
    "duration": 18,
    "start_time": "2021-12-04T10:49:11.875Z"
   },
   {
    "duration": 277,
    "start_time": "2021-12-04T10:49:11.895Z"
   },
   {
    "duration": 41,
    "start_time": "2021-12-04T10:49:12.174Z"
   },
   {
    "duration": 28,
    "start_time": "2021-12-04T10:49:12.217Z"
   },
   {
    "duration": 24,
    "start_time": "2021-12-04T10:49:12.247Z"
   },
   {
    "duration": 14,
    "start_time": "2021-12-04T10:49:12.273Z"
   },
   {
    "duration": 76,
    "start_time": "2021-12-04T10:49:12.288Z"
   },
   {
    "duration": 33,
    "start_time": "2021-12-04T10:49:12.366Z"
   },
   {
    "duration": 22,
    "start_time": "2021-12-04T10:49:12.400Z"
   },
   {
    "duration": 21,
    "start_time": "2021-12-04T10:49:12.424Z"
   },
   {
    "duration": 16,
    "start_time": "2021-12-04T10:49:12.447Z"
   },
   {
    "duration": 36,
    "start_time": "2021-12-04T10:49:12.464Z"
   },
   {
    "duration": 49,
    "start_time": "2021-12-04T10:49:12.501Z"
   },
   {
    "duration": 8,
    "start_time": "2021-12-04T10:49:12.551Z"
   },
   {
    "duration": 32,
    "start_time": "2021-12-04T10:49:12.561Z"
   },
   {
    "duration": 92,
    "start_time": "2021-12-04T10:49:12.597Z"
   },
   {
    "duration": 35,
    "start_time": "2021-12-04T10:49:12.691Z"
   },
   {
    "duration": 43,
    "start_time": "2021-12-04T10:49:12.728Z"
   },
   {
    "duration": 32,
    "start_time": "2021-12-04T10:49:12.773Z"
   },
   {
    "duration": 38,
    "start_time": "2021-12-04T10:49:12.807Z"
   },
   {
    "duration": 106,
    "start_time": "2021-12-04T10:49:12.846Z"
   },
   {
    "duration": 39,
    "start_time": "2021-12-04T10:49:12.954Z"
   },
   {
    "duration": 352,
    "start_time": "2021-12-04T10:49:12.994Z"
   },
   {
    "duration": 8,
    "start_time": "2021-12-04T10:49:13.348Z"
   },
   {
    "duration": 36,
    "start_time": "2021-12-04T10:49:13.358Z"
   },
   {
    "duration": 30,
    "start_time": "2021-12-04T10:49:13.396Z"
   },
   {
    "duration": 388,
    "start_time": "2021-12-04T10:49:13.427Z"
   },
   {
    "duration": 28,
    "start_time": "2021-12-04T10:49:13.817Z"
   },
   {
    "duration": 40,
    "start_time": "2021-12-04T10:49:13.847Z"
   },
   {
    "duration": 27,
    "start_time": "2021-12-04T10:49:13.889Z"
   },
   {
    "duration": 92,
    "start_time": "2021-12-04T10:49:13.918Z"
   },
   {
    "duration": 3,
    "start_time": "2021-12-04T10:49:14.012Z"
   },
   {
    "duration": 476,
    "start_time": "2021-12-04T10:49:14.016Z"
   },
   {
    "duration": 23,
    "start_time": "2021-12-04T10:49:14.495Z"
   },
   {
    "duration": 40,
    "start_time": "2021-12-04T10:49:14.519Z"
   },
   {
    "duration": 3,
    "start_time": "2021-12-04T10:49:14.561Z"
   },
   {
    "duration": 17,
    "start_time": "2021-12-04T10:49:14.566Z"
   },
   {
    "duration": 75,
    "start_time": "2021-12-04T10:49:14.584Z"
   },
   {
    "duration": 2,
    "start_time": "2021-12-04T10:49:14.661Z"
   },
   {
    "duration": 95,
    "start_time": "2021-12-04T10:49:14.665Z"
   },
   {
    "duration": 183,
    "start_time": "2021-12-04T10:49:14.762Z"
   },
   {
    "duration": 7,
    "start_time": "2021-12-04T10:49:14.947Z"
   },
   {
    "duration": 18,
    "start_time": "2021-12-04T10:49:14.956Z"
   },
   {
    "duration": 994,
    "start_time": "2021-12-04T10:49:15.044Z"
   },
   {
    "duration": 52,
    "start_time": "2021-12-04T10:49:16.039Z"
   },
   {
    "duration": 5,
    "start_time": "2021-12-04T10:49:16.092Z"
   },
   {
    "duration": 9423,
    "start_time": "2021-12-04T10:49:16.099Z"
   },
   {
    "duration": 51985,
    "start_time": "2021-12-04T10:49:25.524Z"
   },
   {
    "duration": 3,
    "start_time": "2021-12-04T10:50:17.511Z"
   },
   {
    "duration": 6740,
    "start_time": "2021-12-04T10:50:17.515Z"
   },
   {
    "duration": 382,
    "start_time": "2021-12-04T10:50:24.257Z"
   },
   {
    "duration": 5,
    "start_time": "2021-12-04T10:50:24.644Z"
   },
   {
    "duration": 4,
    "start_time": "2021-12-04T10:50:24.650Z"
   },
   {
    "duration": 16,
    "start_time": "2021-12-04T10:50:24.656Z"
   },
   {
    "duration": 7776,
    "start_time": "2021-12-04T10:50:24.674Z"
   },
   {
    "duration": 692,
    "start_time": "2021-12-04T10:50:32.452Z"
   },
   {
    "duration": 5,
    "start_time": "2021-12-04T10:50:33.146Z"
   },
   {
    "duration": 19,
    "start_time": "2021-12-04T10:50:33.152Z"
   },
   {
    "duration": 389,
    "start_time": "2021-12-04T10:50:33.173Z"
   },
   {
    "duration": 290,
    "start_time": "2021-12-04T10:50:41.578Z"
   },
   {
    "duration": 36,
    "start_time": "2021-12-04T10:50:51.801Z"
   },
   {
    "duration": 1108,
    "start_time": "2021-12-04T10:51:32.974Z"
   },
   {
    "duration": 909,
    "start_time": "2021-12-04T10:51:34.085Z"
   },
   {
    "duration": 31,
    "start_time": "2021-12-04T10:51:34.997Z"
   },
   {
    "duration": 15,
    "start_time": "2021-12-04T10:51:35.030Z"
   },
   {
    "duration": 3,
    "start_time": "2021-12-04T10:51:35.047Z"
   },
   {
    "duration": 37,
    "start_time": "2021-12-04T10:51:35.052Z"
   },
   {
    "duration": 56,
    "start_time": "2021-12-04T10:51:35.091Z"
   },
   {
    "duration": 21,
    "start_time": "2021-12-04T10:51:35.149Z"
   },
   {
    "duration": 277,
    "start_time": "2021-12-04T10:51:35.172Z"
   },
   {
    "duration": 42,
    "start_time": "2021-12-04T10:51:35.451Z"
   },
   {
    "duration": 23,
    "start_time": "2021-12-04T10:51:35.494Z"
   },
   {
    "duration": 33,
    "start_time": "2021-12-04T10:51:35.519Z"
   },
   {
    "duration": 14,
    "start_time": "2021-12-04T10:51:35.554Z"
   },
   {
    "duration": 57,
    "start_time": "2021-12-04T10:51:35.570Z"
   },
   {
    "duration": 34,
    "start_time": "2021-12-04T10:51:35.645Z"
   },
   {
    "duration": 22,
    "start_time": "2021-12-04T10:51:35.681Z"
   },
   {
    "duration": 12,
    "start_time": "2021-12-04T10:51:35.705Z"
   },
   {
    "duration": 36,
    "start_time": "2021-12-04T10:51:35.719Z"
   },
   {
    "duration": 37,
    "start_time": "2021-12-04T10:51:35.757Z"
   },
   {
    "duration": 19,
    "start_time": "2021-12-04T10:51:35.796Z"
   },
   {
    "duration": 28,
    "start_time": "2021-12-04T10:51:35.817Z"
   },
   {
    "duration": 36,
    "start_time": "2021-12-04T10:51:35.847Z"
   },
   {
    "duration": 89,
    "start_time": "2021-12-04T10:51:35.887Z"
   },
   {
    "duration": 36,
    "start_time": "2021-12-04T10:51:35.979Z"
   },
   {
    "duration": 44,
    "start_time": "2021-12-04T10:51:36.017Z"
   },
   {
    "duration": 32,
    "start_time": "2021-12-04T10:51:36.062Z"
   },
   {
    "duration": 21,
    "start_time": "2021-12-04T10:51:36.097Z"
   },
   {
    "duration": 124,
    "start_time": "2021-12-04T10:51:36.120Z"
   },
   {
    "duration": 39,
    "start_time": "2021-12-04T10:51:36.246Z"
   },
   {
    "duration": 457,
    "start_time": "2021-12-04T10:51:36.287Z"
   },
   {
    "duration": 9,
    "start_time": "2021-12-04T10:51:36.746Z"
   },
   {
    "duration": 34,
    "start_time": "2021-12-04T10:51:36.757Z"
   },
   {
    "duration": 25,
    "start_time": "2021-12-04T10:51:36.793Z"
   },
   {
    "duration": 402,
    "start_time": "2021-12-04T10:51:36.820Z"
   },
   {
    "duration": 28,
    "start_time": "2021-12-04T10:51:37.223Z"
   },
   {
    "duration": 38,
    "start_time": "2021-12-04T10:51:37.253Z"
   },
   {
    "duration": 27,
    "start_time": "2021-12-04T10:51:37.293Z"
   },
   {
    "duration": 90,
    "start_time": "2021-12-04T10:51:37.322Z"
   },
   {
    "duration": 3,
    "start_time": "2021-12-04T10:51:37.414Z"
   },
   {
    "duration": 501,
    "start_time": "2021-12-04T10:51:37.418Z"
   },
   {
    "duration": 29,
    "start_time": "2021-12-04T10:51:37.921Z"
   },
   {
    "duration": 20,
    "start_time": "2021-12-04T10:51:37.952Z"
   },
   {
    "duration": 4,
    "start_time": "2021-12-04T10:51:37.974Z"
   },
   {
    "duration": 10,
    "start_time": "2021-12-04T10:51:37.980Z"
   },
   {
    "duration": 76,
    "start_time": "2021-12-04T10:51:37.992Z"
   },
   {
    "duration": 3,
    "start_time": "2021-12-04T10:51:38.070Z"
   },
   {
    "duration": 85,
    "start_time": "2021-12-04T10:51:38.075Z"
   },
   {
    "duration": 96,
    "start_time": "2021-12-04T10:51:38.162Z"
   },
   {
    "duration": 4,
    "start_time": "2021-12-04T10:51:38.345Z"
   },
   {
    "duration": 3,
    "start_time": "2021-12-04T10:51:38.351Z"
   },
   {
    "duration": 1007,
    "start_time": "2021-12-04T10:51:38.356Z"
   },
   {
    "duration": 52,
    "start_time": "2021-12-04T10:51:39.365Z"
   },
   {
    "duration": 26,
    "start_time": "2021-12-04T10:51:39.420Z"
   },
   {
    "duration": 9444,
    "start_time": "2021-12-04T10:51:39.448Z"
   },
   {
    "duration": 51053,
    "start_time": "2021-12-04T10:51:48.893Z"
   },
   {
    "duration": 3,
    "start_time": "2021-12-04T10:52:39.948Z"
   },
   {
    "duration": 6515,
    "start_time": "2021-12-04T10:52:39.952Z"
   },
   {
    "duration": 376,
    "start_time": "2021-12-04T10:52:46.469Z"
   },
   {
    "duration": 5,
    "start_time": "2021-12-04T10:52:46.847Z"
   },
   {
    "duration": 4,
    "start_time": "2021-12-04T10:52:46.853Z"
   },
   {
    "duration": 6,
    "start_time": "2021-12-04T10:52:46.859Z"
   },
   {
    "duration": 10586,
    "start_time": "2021-12-04T10:52:46.867Z"
   },
   {
    "duration": 703,
    "start_time": "2021-12-04T10:52:57.455Z"
   },
   {
    "duration": 5,
    "start_time": "2021-12-04T10:52:58.160Z"
   },
   {
    "duration": 4,
    "start_time": "2021-12-04T10:52:58.166Z"
   },
   {
    "duration": 77,
    "start_time": "2021-12-04T10:52:58.172Z"
   },
   {
    "duration": 4,
    "start_time": "2021-12-04T10:57:22.638Z"
   },
   {
    "duration": 808,
    "start_time": "2021-12-04T10:57:23.162Z"
   },
   {
    "duration": 20,
    "start_time": "2021-12-04T10:57:23.972Z"
   },
   {
    "duration": 5,
    "start_time": "2021-12-04T10:57:23.994Z"
   },
   {
    "duration": 5,
    "start_time": "2021-12-04T10:57:24.001Z"
   },
   {
    "duration": 28,
    "start_time": "2021-12-04T10:57:24.553Z"
   },
   {
    "duration": 36,
    "start_time": "2021-12-04T10:57:25.437Z"
   },
   {
    "duration": 19,
    "start_time": "2021-12-04T10:57:25.828Z"
   },
   {
    "duration": 181,
    "start_time": "2021-12-04T10:57:26.206Z"
   },
   {
    "duration": 40,
    "start_time": "2021-12-04T10:57:27.237Z"
   },
   {
    "duration": 8,
    "start_time": "2021-12-04T10:57:27.658Z"
   },
   {
    "duration": 26,
    "start_time": "2021-12-04T10:57:28.059Z"
   },
   {
    "duration": 16,
    "start_time": "2021-12-04T10:57:28.484Z"
   },
   {
    "duration": 41,
    "start_time": "2021-12-04T10:57:28.889Z"
   },
   {
    "duration": 34,
    "start_time": "2021-12-04T10:57:29.306Z"
   },
   {
    "duration": 19,
    "start_time": "2021-12-04T10:57:29.699Z"
   },
   {
    "duration": 7,
    "start_time": "2021-12-04T10:57:30.562Z"
   },
   {
    "duration": 16,
    "start_time": "2021-12-04T10:57:30.963Z"
   },
   {
    "duration": 35,
    "start_time": "2021-12-04T10:57:31.651Z"
   },
   {
    "duration": 18,
    "start_time": "2021-12-04T10:57:32.103Z"
   },
   {
    "duration": 8,
    "start_time": "2021-12-04T10:57:32.616Z"
   },
   {
    "duration": 37,
    "start_time": "2021-12-04T10:57:33.182Z"
   },
   {
    "duration": 97,
    "start_time": "2021-12-04T10:57:35.938Z"
   },
   {
    "duration": 61,
    "start_time": "2021-12-04T10:57:36.841Z"
   },
   {
    "duration": 34,
    "start_time": "2021-12-04T10:57:37.277Z"
   },
   {
    "duration": 33,
    "start_time": "2021-12-04T10:57:37.718Z"
   },
   {
    "duration": 22,
    "start_time": "2021-12-04T10:58:28.253Z"
   },
   {
    "duration": 86,
    "start_time": "2021-12-04T10:58:29.014Z"
   },
   {
    "duration": 36,
    "start_time": "2021-12-04T10:58:29.434Z"
   },
   {
    "duration": 418,
    "start_time": "2021-12-04T10:58:29.792Z"
   },
   {
    "duration": 9,
    "start_time": "2021-12-04T10:58:30.212Z"
   },
   {
    "duration": 26,
    "start_time": "2021-12-04T10:58:30.606Z"
   },
   {
    "duration": 22,
    "start_time": "2021-12-04T10:58:31.056Z"
   },
   {
    "duration": 370,
    "start_time": "2021-12-04T10:58:31.509Z"
   },
   {
    "duration": 22,
    "start_time": "2021-12-04T10:58:32.185Z"
   },
   {
    "duration": 38,
    "start_time": "2021-12-04T10:58:33.053Z"
   },
   {
    "duration": 14,
    "start_time": "2021-12-04T10:58:35.153Z"
   },
   {
    "duration": 75,
    "start_time": "2021-12-04T10:58:48.159Z"
   },
   {
    "duration": 3,
    "start_time": "2021-12-04T10:58:50.119Z"
   },
   {
    "duration": 88,
    "start_time": "2021-12-04T10:58:51.669Z"
   },
   {
    "duration": 126,
    "start_time": "2021-12-04T11:00:19.195Z"
   },
   {
    "duration": 129,
    "start_time": "2021-12-04T11:00:46.308Z"
   },
   {
    "duration": 27,
    "start_time": "2021-12-04T11:00:56.609Z"
   },
   {
    "duration": 13,
    "start_time": "2021-12-04T11:01:09.911Z"
   },
   {
    "duration": 400,
    "start_time": "2021-12-04T11:01:29.478Z"
   },
   {
    "duration": 20,
    "start_time": "2021-12-04T11:01:35.845Z"
   },
   {
    "duration": 16,
    "start_time": "2021-12-04T11:06:11.308Z"
   },
   {
    "duration": 51,
    "start_time": "2021-12-04T11:06:12.107Z"
   },
   {
    "duration": 3,
    "start_time": "2021-12-04T11:07:08.921Z"
   },
   {
    "duration": 7229,
    "start_time": "2021-12-04T11:07:09.729Z"
   },
   {
    "duration": 384,
    "start_time": "2021-12-04T11:07:16.960Z"
   },
   {
    "duration": 264,
    "start_time": "2021-12-04T11:07:17.346Z"
   },
   {
    "duration": 61,
    "start_time": "2021-12-04T11:07:28.194Z"
   },
   {
    "duration": 3,
    "start_time": "2021-12-04T11:07:29.982Z"
   },
   {
    "duration": 8793,
    "start_time": "2021-12-04T11:07:32.864Z"
   },
   {
    "duration": 701,
    "start_time": "2021-12-04T11:07:41.659Z"
   },
   {
    "duration": 6,
    "start_time": "2021-12-04T11:07:42.362Z"
   },
   {
    "duration": 9,
    "start_time": "2021-12-04T11:53:28.170Z"
   },
   {
    "duration": 53,
    "start_time": "2021-12-04T11:53:28.964Z"
   },
   {
    "duration": 3,
    "start_time": "2021-12-04T11:53:35.085Z"
   },
   {
    "duration": 8014,
    "start_time": "2021-12-04T11:53:35.632Z"
   },
   {
    "duration": 612,
    "start_time": "2021-12-04T11:53:43.648Z"
   },
   {
    "duration": 86,
    "start_time": "2021-12-04T11:53:44.262Z"
   },
   {
    "duration": 53,
    "start_time": "2021-12-04T12:05:00.879Z"
   },
   {
    "duration": 45,
    "start_time": "2021-12-04T12:05:01.382Z"
   },
   {
    "duration": 4,
    "start_time": "2021-12-04T12:05:02.030Z"
   },
   {
    "duration": 4,
    "start_time": "2021-12-04T12:05:20.257Z"
   },
   {
    "duration": 4,
    "start_time": "2021-12-04T12:05:25.787Z"
   },
   {
    "duration": 4,
    "start_time": "2021-12-04T12:05:29.463Z"
   },
   {
    "duration": 2,
    "start_time": "2021-12-04T12:08:26.321Z"
   },
   {
    "duration": 75,
    "start_time": "2021-12-04T12:08:26.883Z"
   },
   {
    "duration": 8,
    "start_time": "2021-12-04T12:08:27.731Z"
   },
   {
    "duration": 5,
    "start_time": "2021-12-04T12:08:28.795Z"
   },
   {
    "duration": 2,
    "start_time": "2021-12-04T12:09:46.689Z"
   },
   {
    "duration": 758,
    "start_time": "2021-12-04T12:09:47.634Z"
   },
   {
    "duration": 38,
    "start_time": "2021-12-04T12:09:51.741Z"
   },
   {
    "duration": 5,
    "start_time": "2021-12-04T12:09:53.762Z"
   },
   {
    "duration": 7875,
    "start_time": "2021-12-04T12:12:34.674Z"
   },
   {
    "duration": 4,
    "start_time": "2021-12-04T12:29:51.267Z"
   },
   {
    "duration": 4,
    "start_time": "2021-12-04T12:30:13.237Z"
   },
   {
    "duration": 4,
    "start_time": "2021-12-04T12:30:19.992Z"
   },
   {
    "duration": 265,
    "start_time": "2021-12-04T12:30:31.848Z"
   },
   {
    "duration": 4,
    "start_time": "2021-12-04T12:30:49.491Z"
   },
   {
    "duration": 40796,
    "start_time": "2021-12-04T12:31:50.160Z"
   },
   {
    "duration": 9,
    "start_time": "2021-12-04T12:38:33.586Z"
   },
   {
    "duration": 52,
    "start_time": "2021-12-04T12:38:34.114Z"
   },
   {
    "duration": 40,
    "start_time": "2021-12-04T12:38:34.721Z"
   },
   {
    "duration": 68527,
    "start_time": "2021-12-04T12:38:58.761Z"
   },
   {
    "duration": 497,
    "start_time": "2021-12-04T12:40:07.290Z"
   },
   {
    "duration": 6,
    "start_time": "2021-12-04T12:40:07.790Z"
   },
   {
    "duration": 1140,
    "start_time": "2021-12-04T12:40:11.846Z"
   },
   {
    "duration": 1494,
    "start_time": "2021-12-04T12:40:12.988Z"
   },
   {
    "duration": 42,
    "start_time": "2021-12-04T12:40:14.486Z"
   },
   {
    "duration": 3,
    "start_time": "2021-12-04T12:40:14.546Z"
   },
   {
    "duration": 7,
    "start_time": "2021-12-04T12:40:14.551Z"
   },
   {
    "duration": 36,
    "start_time": "2021-12-04T12:40:14.560Z"
   },
   {
    "duration": 55,
    "start_time": "2021-12-04T12:40:14.598Z"
   },
   {
    "duration": 23,
    "start_time": "2021-12-04T12:40:14.655Z"
   },
   {
    "duration": 270,
    "start_time": "2021-12-04T12:40:14.680Z"
   },
   {
    "duration": 43,
    "start_time": "2021-12-04T12:40:14.952Z"
   },
   {
    "duration": 16,
    "start_time": "2021-12-04T12:40:14.998Z"
   },
   {
    "duration": 73,
    "start_time": "2021-12-04T12:40:15.016Z"
   },
   {
    "duration": 15,
    "start_time": "2021-12-04T12:40:15.091Z"
   },
   {
    "duration": 68,
    "start_time": "2021-12-04T12:40:15.107Z"
   },
   {
    "duration": 35,
    "start_time": "2021-12-04T12:40:15.177Z"
   },
   {
    "duration": 39,
    "start_time": "2021-12-04T12:40:15.215Z"
   },
   {
    "duration": 8,
    "start_time": "2021-12-04T12:40:15.256Z"
   },
   {
    "duration": 16,
    "start_time": "2021-12-04T12:40:15.266Z"
   },
   {
    "duration": 35,
    "start_time": "2021-12-04T12:40:15.284Z"
   },
   {
    "duration": 18,
    "start_time": "2021-12-04T12:40:15.345Z"
   },
   {
    "duration": 10,
    "start_time": "2021-12-04T12:40:15.366Z"
   },
   {
    "duration": 38,
    "start_time": "2021-12-04T12:40:15.377Z"
   },
   {
    "duration": 101,
    "start_time": "2021-12-04T12:40:15.419Z"
   },
   {
    "duration": 44,
    "start_time": "2021-12-04T12:40:15.523Z"
   },
   {
    "duration": 33,
    "start_time": "2021-12-04T12:40:15.569Z"
   },
   {
    "duration": 46,
    "start_time": "2021-12-04T12:40:15.604Z"
   },
   {
    "duration": 23,
    "start_time": "2021-12-04T12:40:15.652Z"
   },
   {
    "duration": 114,
    "start_time": "2021-12-04T12:40:15.676Z"
   },
   {
    "duration": 39,
    "start_time": "2021-12-04T12:40:15.792Z"
   },
   {
    "duration": 363,
    "start_time": "2021-12-04T12:40:15.844Z"
   },
   {
    "duration": 8,
    "start_time": "2021-12-04T12:40:16.209Z"
   },
   {
    "duration": 51,
    "start_time": "2021-12-04T12:40:16.219Z"
   },
   {
    "duration": 26,
    "start_time": "2021-12-04T12:40:16.272Z"
   },
   {
    "duration": 398,
    "start_time": "2021-12-04T12:40:16.300Z"
   },
   {
    "duration": 20,
    "start_time": "2021-12-04T12:40:16.700Z"
   },
   {
    "duration": 55,
    "start_time": "2021-12-04T12:40:16.721Z"
   },
   {
    "duration": 28,
    "start_time": "2021-12-04T12:40:16.779Z"
   },
   {
    "duration": 97,
    "start_time": "2021-12-04T12:40:16.809Z"
   },
   {
    "duration": 25,
    "start_time": "2021-12-04T12:40:16.908Z"
   },
   {
    "duration": 147,
    "start_time": "2021-12-04T12:40:16.935Z"
   },
   {
    "duration": 419,
    "start_time": "2021-12-04T12:40:17.085Z"
   },
   {
    "duration": 23,
    "start_time": "2021-12-04T12:40:17.506Z"
   },
   {
    "duration": 29,
    "start_time": "2021-12-04T12:40:17.531Z"
   },
   {
    "duration": 31,
    "start_time": "2021-12-04T12:40:17.562Z"
   },
   {
    "duration": 33,
    "start_time": "2021-12-04T12:40:17.595Z"
   },
   {
    "duration": 65,
    "start_time": "2021-12-04T12:40:17.630Z"
   },
   {
    "duration": 62,
    "start_time": "2021-12-04T12:40:17.698Z"
   },
   {
    "duration": 2,
    "start_time": "2021-12-04T12:40:17.762Z"
   },
   {
    "duration": 106,
    "start_time": "2021-12-04T12:40:17.766Z"
   },
   {
    "duration": 73,
    "start_time": "2021-12-04T12:40:17.875Z"
   },
   {
    "duration": 6,
    "start_time": "2021-12-04T12:40:17.951Z"
   },
   {
    "duration": 101,
    "start_time": "2021-12-04T12:40:17.959Z"
   },
   {
    "duration": 891,
    "start_time": "2021-12-04T12:40:18.062Z"
   },
   {
    "duration": 41,
    "start_time": "2021-12-04T12:40:18.955Z"
   },
   {
    "duration": 5,
    "start_time": "2021-12-04T12:40:18.998Z"
   },
   {
    "duration": 7918,
    "start_time": "2021-12-04T12:40:19.005Z"
   },
   {
    "duration": 44977,
    "start_time": "2021-12-04T12:40:26.925Z"
   },
   {
    "duration": 2,
    "start_time": "2021-12-04T12:41:11.904Z"
   },
   {
    "duration": 6060,
    "start_time": "2021-12-04T12:41:11.908Z"
   },
   {
    "duration": 332,
    "start_time": "2021-12-04T12:41:17.970Z"
   },
   {
    "duration": 5,
    "start_time": "2021-12-04T12:41:18.304Z"
   },
   {
    "duration": 22,
    "start_time": "2021-12-04T12:41:18.311Z"
   },
   {
    "duration": 24,
    "start_time": "2021-12-04T12:41:18.335Z"
   },
   {
    "duration": 63,
    "start_time": "2021-12-04T12:41:18.361Z"
   },
   {
    "duration": 60,
    "start_time": "2021-12-04T12:41:18.426Z"
   },
   {
    "duration": 3,
    "start_time": "2021-12-04T12:41:18.488Z"
   },
   {
    "duration": 341658,
    "start_time": "2021-12-04T12:41:18.493Z"
   },
   {
    "duration": 644,
    "start_time": "2021-12-04T12:47:00.156Z"
   },
   {
    "duration": 6,
    "start_time": "2021-12-04T12:47:00.802Z"
   },
   {
    "duration": 25,
    "start_time": "2021-12-04T12:47:00.810Z"
   },
   {
    "duration": 59,
    "start_time": "2021-12-04T12:47:00.845Z"
   },
   {
    "duration": 8231,
    "start_time": "2021-12-04T12:48:49.650Z"
   },
   {
    "duration": 479216,
    "start_time": "2021-12-04T12:50:39.729Z"
   },
   {
    "duration": 3,
    "start_time": "2021-12-04T13:02:32.551Z"
   },
   {
    "duration": 36454,
    "start_time": "2021-12-04T13:02:33.153Z"
   },
   {
    "duration": 333,
    "start_time": "2021-12-04T13:03:09.610Z"
   },
   {
    "duration": 5,
    "start_time": "2021-12-04T13:03:09.945Z"
   },
   {
    "duration": 1267,
    "start_time": "2021-12-04T13:03:14.028Z"
   },
   {
    "duration": 1068,
    "start_time": "2021-12-04T13:03:15.297Z"
   },
   {
    "duration": 30,
    "start_time": "2021-12-04T13:03:16.367Z"
   },
   {
    "duration": 2,
    "start_time": "2021-12-04T13:03:16.399Z"
   },
   {
    "duration": 6,
    "start_time": "2021-12-04T13:03:16.403Z"
   },
   {
    "duration": 64,
    "start_time": "2021-12-04T13:03:16.411Z"
   },
   {
    "duration": 39,
    "start_time": "2021-12-04T13:03:16.477Z"
   },
   {
    "duration": 35,
    "start_time": "2021-12-04T13:03:16.518Z"
   },
   {
    "duration": 279,
    "start_time": "2021-12-04T13:03:16.555Z"
   },
   {
    "duration": 50,
    "start_time": "2021-12-04T13:03:16.835Z"
   },
   {
    "duration": 26,
    "start_time": "2021-12-04T13:03:16.887Z"
   },
   {
    "duration": 30,
    "start_time": "2021-12-04T13:03:16.915Z"
   },
   {
    "duration": 32,
    "start_time": "2021-12-04T13:03:16.948Z"
   },
   {
    "duration": 63,
    "start_time": "2021-12-04T13:03:16.982Z"
   },
   {
    "duration": 36,
    "start_time": "2021-12-04T13:03:17.047Z"
   },
   {
    "duration": 35,
    "start_time": "2021-12-04T13:03:17.085Z"
   },
   {
    "duration": 16,
    "start_time": "2021-12-04T13:03:17.121Z"
   },
   {
    "duration": 40,
    "start_time": "2021-12-04T13:03:17.138Z"
   },
   {
    "duration": 64,
    "start_time": "2021-12-04T13:03:17.181Z"
   },
   {
    "duration": 28,
    "start_time": "2021-12-04T13:03:17.247Z"
   },
   {
    "duration": 25,
    "start_time": "2021-12-04T13:03:17.277Z"
   },
   {
    "duration": 62,
    "start_time": "2021-12-04T13:03:17.304Z"
   },
   {
    "duration": 98,
    "start_time": "2021-12-04T13:03:17.369Z"
   },
   {
    "duration": 43,
    "start_time": "2021-12-04T13:03:17.470Z"
   },
   {
    "duration": 62,
    "start_time": "2021-12-04T13:03:17.515Z"
   },
   {
    "duration": 44,
    "start_time": "2021-12-04T13:03:17.579Z"
   },
   {
    "duration": 47,
    "start_time": "2021-12-04T13:03:17.625Z"
   },
   {
    "duration": 126,
    "start_time": "2021-12-04T13:03:17.673Z"
   },
   {
    "duration": 52,
    "start_time": "2021-12-04T13:03:17.801Z"
   },
   {
    "duration": 351,
    "start_time": "2021-12-04T13:03:17.854Z"
   },
   {
    "duration": 10,
    "start_time": "2021-12-04T13:03:18.206Z"
   },
   {
    "duration": 50,
    "start_time": "2021-12-04T13:03:18.217Z"
   },
   {
    "duration": 46,
    "start_time": "2021-12-04T13:03:18.269Z"
   },
   {
    "duration": 363,
    "start_time": "2021-12-04T13:03:18.317Z"
   },
   {
    "duration": 19,
    "start_time": "2021-12-04T13:03:18.682Z"
   },
   {
    "duration": 53,
    "start_time": "2021-12-04T13:03:18.702Z"
   },
   {
    "duration": 28,
    "start_time": "2021-12-04T13:03:18.756Z"
   },
   {
    "duration": 86,
    "start_time": "2021-12-04T13:03:18.786Z"
   },
   {
    "duration": 20,
    "start_time": "2021-12-04T13:03:18.874Z"
   },
   {
    "duration": 159,
    "start_time": "2021-12-04T13:03:18.895Z"
   },
   {
    "duration": 397,
    "start_time": "2021-12-04T13:03:19.056Z"
   },
   {
    "duration": 22,
    "start_time": "2021-12-04T13:03:19.455Z"
   },
   {
    "duration": 25,
    "start_time": "2021-12-04T13:03:19.479Z"
   },
   {
    "duration": 17,
    "start_time": "2021-12-04T13:03:19.506Z"
   },
   {
    "duration": 14,
    "start_time": "2021-12-04T13:03:19.545Z"
   },
   {
    "duration": 82,
    "start_time": "2021-12-04T13:03:19.562Z"
   },
   {
    "duration": 53,
    "start_time": "2021-12-04T13:03:19.646Z"
   },
   {
    "duration": 2,
    "start_time": "2021-12-04T13:03:19.701Z"
   },
   {
    "duration": 145,
    "start_time": "2021-12-04T13:03:19.705Z"
   },
   {
    "duration": 102,
    "start_time": "2021-12-04T13:03:19.852Z"
   },
   {
    "duration": 90,
    "start_time": "2021-12-04T13:03:19.957Z"
   },
   {
    "duration": 8,
    "start_time": "2021-12-04T13:03:20.049Z"
   },
   {
    "duration": 795,
    "start_time": "2021-12-04T13:03:20.058Z"
   },
   {
    "duration": 35,
    "start_time": "2021-12-04T13:03:20.854Z"
   },
   {
    "duration": 5,
    "start_time": "2021-12-04T13:03:20.890Z"
   },
   {
    "duration": 7812,
    "start_time": "2021-12-04T13:03:20.896Z"
   },
   {
    "duration": 41838,
    "start_time": "2021-12-04T13:03:28.711Z"
   },
   {
    "duration": 2,
    "start_time": "2021-12-04T13:04:10.551Z"
   },
   {
    "duration": 7518,
    "start_time": "2021-12-04T13:04:10.555Z"
   },
   {
    "duration": 454,
    "start_time": "2021-12-04T13:04:18.075Z"
   },
   {
    "duration": 15,
    "start_time": "2021-12-04T13:04:18.532Z"
   },
   {
    "duration": 495021,
    "start_time": "2021-12-04T13:04:18.549Z"
   },
   {
    "duration": 14,
    "start_time": "2021-12-04T13:12:33.572Z"
   },
   {
    "duration": 80,
    "start_time": "2021-12-04T13:12:33.588Z"
   },
   {
    "duration": 49,
    "start_time": "2021-12-04T13:12:33.670Z"
   },
   {
    "duration": 3,
    "start_time": "2021-12-04T13:12:33.721Z"
   },
   {
    "duration": 175530,
    "start_time": "2021-12-04T13:12:33.725Z"
   },
   {
    "duration": 607,
    "start_time": "2021-12-04T13:15:29.260Z"
   },
   {
    "duration": 6,
    "start_time": "2021-12-04T13:15:29.869Z"
   },
   {
    "duration": 1167385,
    "start_time": "2021-12-04T13:15:29.877Z"
   },
   {
    "duration": 23,
    "start_time": "2021-12-04T13:34:57.263Z"
   },
   {
    "duration": 1142,
    "start_time": "2021-12-04T13:38:38.740Z"
   },
   {
    "duration": 1022,
    "start_time": "2021-12-04T13:38:39.884Z"
   },
   {
    "duration": 41,
    "start_time": "2021-12-04T13:38:40.908Z"
   },
   {
    "duration": 3,
    "start_time": "2021-12-04T13:38:40.951Z"
   },
   {
    "duration": 16,
    "start_time": "2021-12-04T13:38:40.955Z"
   },
   {
    "duration": 39,
    "start_time": "2021-12-04T13:38:40.972Z"
   },
   {
    "duration": 39,
    "start_time": "2021-12-04T13:38:41.013Z"
   },
   {
    "duration": 18,
    "start_time": "2021-12-04T13:38:41.055Z"
   },
   {
    "duration": 259,
    "start_time": "2021-12-04T13:38:41.075Z"
   },
   {
    "duration": 47,
    "start_time": "2021-12-04T13:38:41.336Z"
   },
   {
    "duration": 11,
    "start_time": "2021-12-04T13:38:41.385Z"
   },
   {
    "duration": 24,
    "start_time": "2021-12-04T13:38:41.398Z"
   },
   {
    "duration": 33,
    "start_time": "2021-12-04T13:38:41.424Z"
   },
   {
    "duration": 60,
    "start_time": "2021-12-04T13:38:41.459Z"
   },
   {
    "duration": 49,
    "start_time": "2021-12-04T13:38:41.520Z"
   },
   {
    "duration": 30,
    "start_time": "2021-12-04T13:38:41.570Z"
   },
   {
    "duration": 28,
    "start_time": "2021-12-04T13:38:41.602Z"
   },
   {
    "duration": 22,
    "start_time": "2021-12-04T13:38:41.632Z"
   },
   {
    "duration": 36,
    "start_time": "2021-12-04T13:38:41.655Z"
   },
   {
    "duration": 19,
    "start_time": "2021-12-04T13:38:41.693Z"
   },
   {
    "duration": 9,
    "start_time": "2021-12-04T13:38:41.714Z"
   },
   {
    "duration": 58,
    "start_time": "2021-12-04T13:38:41.724Z"
   },
   {
    "duration": 79,
    "start_time": "2021-12-04T13:38:41.787Z"
   },
   {
    "duration": 34,
    "start_time": "2021-12-04T13:38:41.869Z"
   },
   {
    "duration": 46,
    "start_time": "2021-12-04T13:38:41.905Z"
   },
   {
    "duration": 33,
    "start_time": "2021-12-04T13:38:41.953Z"
   },
   {
    "duration": 28,
    "start_time": "2021-12-04T13:38:41.988Z"
   },
   {
    "duration": 111,
    "start_time": "2021-12-04T13:38:42.018Z"
   },
   {
    "duration": 55,
    "start_time": "2021-12-04T13:38:42.130Z"
   },
   {
    "duration": 354,
    "start_time": "2021-12-04T13:38:42.187Z"
   },
   {
    "duration": 8,
    "start_time": "2021-12-04T13:38:42.544Z"
   },
   {
    "duration": 37,
    "start_time": "2021-12-04T13:38:42.554Z"
   },
   {
    "duration": 43,
    "start_time": "2021-12-04T13:38:42.593Z"
   },
   {
    "duration": 380,
    "start_time": "2021-12-04T13:38:42.638Z"
   },
   {
    "duration": 26,
    "start_time": "2021-12-04T13:38:43.019Z"
   },
   {
    "duration": 42,
    "start_time": "2021-12-04T13:38:43.048Z"
   },
   {
    "duration": 30,
    "start_time": "2021-12-04T13:38:43.092Z"
   },
   {
    "duration": 93,
    "start_time": "2021-12-04T13:38:43.124Z"
   },
   {
    "duration": 26,
    "start_time": "2021-12-04T13:38:43.219Z"
   },
   {
    "duration": 166,
    "start_time": "2021-12-04T13:38:43.246Z"
   },
   {
    "duration": 442,
    "start_time": "2021-12-04T13:38:43.414Z"
   },
   {
    "duration": 20,
    "start_time": "2021-12-04T13:38:43.865Z"
   },
   {
    "duration": 22,
    "start_time": "2021-12-04T13:38:43.886Z"
   },
   {
    "duration": 3,
    "start_time": "2021-12-04T13:38:43.910Z"
   },
   {
    "duration": 16,
    "start_time": "2021-12-04T13:38:43.915Z"
   },
   {
    "duration": 60,
    "start_time": "2021-12-04T13:38:43.932Z"
   },
   {
    "duration": 67,
    "start_time": "2021-12-04T13:38:43.994Z"
   },
   {
    "duration": 3,
    "start_time": "2021-12-04T13:38:44.062Z"
   },
   {
    "duration": 98,
    "start_time": "2021-12-04T13:38:44.067Z"
   },
   {
    "duration": 79,
    "start_time": "2021-12-04T13:38:44.168Z"
   },
   {
    "duration": 123,
    "start_time": "2021-12-04T13:38:44.249Z"
   },
   {
    "duration": 71,
    "start_time": "2021-12-04T13:38:44.374Z"
   },
   {
    "duration": 1091,
    "start_time": "2021-12-04T13:38:44.448Z"
   },
   {
    "duration": 45,
    "start_time": "2021-12-04T13:38:45.540Z"
   },
   {
    "duration": 4,
    "start_time": "2021-12-04T13:38:45.587Z"
   },
   {
    "duration": 7748,
    "start_time": "2021-12-04T13:38:45.593Z"
   },
   {
    "duration": 40328,
    "start_time": "2021-12-04T13:38:53.345Z"
   },
   {
    "duration": 3,
    "start_time": "2021-12-04T13:39:33.674Z"
   },
   {
    "duration": 6988,
    "start_time": "2021-12-04T13:39:33.678Z"
   },
   {
    "duration": 343,
    "start_time": "2021-12-04T13:39:40.668Z"
   },
   {
    "duration": 5,
    "start_time": "2021-12-04T13:39:41.013Z"
   },
   {
    "duration": 453461,
    "start_time": "2021-12-04T13:39:41.019Z"
   },
   {
    "duration": 14,
    "start_time": "2021-12-04T13:47:14.482Z"
   },
   {
    "duration": 75,
    "start_time": "2021-12-04T13:47:14.498Z"
   },
   {
    "duration": 49,
    "start_time": "2021-12-04T13:47:14.575Z"
   },
   {
    "duration": 3,
    "start_time": "2021-12-04T13:47:14.626Z"
   },
   {
    "duration": 8924,
    "start_time": "2021-12-04T13:47:14.630Z"
   },
   {
    "duration": 590,
    "start_time": "2021-12-04T13:47:23.559Z"
   },
   {
    "duration": 5,
    "start_time": "2021-12-04T13:47:24.151Z"
   },
   {
    "duration": 124313,
    "start_time": "2021-12-04T13:47:24.158Z"
   },
   {
    "duration": 22,
    "start_time": "2021-12-04T13:49:28.473Z"
   }
  ],
  "kernelspec": {
   "display_name": "Python 3 (ipykernel)",
   "language": "python",
   "name": "python3"
  },
  "language_info": {
   "codemirror_mode": {
    "name": "ipython",
    "version": 3
   },
   "file_extension": ".py",
   "mimetype": "text/x-python",
   "name": "python",
   "nbconvert_exporter": "python",
   "pygments_lexer": "ipython3",
   "version": "3.9.7"
  },
  "toc": {
   "base_numbering": 1,
   "nav_menu": {},
   "number_sections": true,
   "sideBar": true,
   "skip_h1_title": true,
   "title_cell": "Table of Contents",
   "title_sidebar": "Contents",
   "toc_cell": false,
   "toc_position": {},
   "toc_section_display": true,
   "toc_window_display": false
  }
 },
 "nbformat": 4,
 "nbformat_minor": 2
}
