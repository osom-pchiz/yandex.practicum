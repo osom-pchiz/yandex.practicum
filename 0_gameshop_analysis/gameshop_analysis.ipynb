{
 "cells": [
  {
   "cell_type": "markdown",
   "metadata": {},
   "source": [
    "# Описание проекта\n",
    "Вы работаете в интернет-магазине «Стримчик», который продаёт по всему миру компьютерные игры. Из открытых источников доступны исторические данные о продажах игр, оценки пользователей и экспертов, жанры и платформы (например, Xbox или PlayStation). Вам нужно выявить определяющие успешность игры закономерности. Это позволит сделать ставку на потенциально популярный продукт и спланировать рекламные кампании.  \n",
    "Перед вами данные до 2016 года. Представим, что сейчас декабрь 2016 г., и вы планируете кампанию на 2017-й. Нужно отработать принцип работы с данными. Неважно, прогнозируете ли вы продажи на 2017 год по данным 2016-го или же 2027-й — по данным 2026 года.  \n",
    "В наборе данных попадается аббревиатура ESRB (Entertainment Software Rating Board) — это ассоциация, определяющая возрастной рейтинг компьютерных игр. ESRB оценивает игровой контент и присваивает ему подходящую возрастную категорию, например, «Для взрослых», «Для детей младшего возраста» или «Для подростков»."
   ]
  },
  {
   "cell_type": "markdown",
   "metadata": {},
   "source": [
    "<h1>Содержание</h1>\n",
    "<li><span><a href=\"#Изучение-данных-и-предобработка\" data-toc-modified-id=\"Изучение-данных-и-предобработка-1\"><span class=\"toc-item-num\">1&nbsp;&nbsp;</span>Изучение данных и предобработка</a></span></li>\n",
    "<li><span><a href=\"#Анализ-данных\" data-toc-modified-id=\"Анализ-данных-2\"><span class=\"toc-item-num\">2&nbsp;&nbsp;</span>Анализ данных</a></span></li>\n",
    "<li><span><a href=\"#Портрет-пользователя-для-каждого-региона\" data-toc-modified-id=\"Портрет-пользователя-для-каждого-региона-3\"><span class=\"toc-item-num\">3&nbsp;&nbsp;</span>Портрет пользователя для каждого региона</a></span></li>\n",
    "<li><span><a href=\"#Проверка-гипотез\" data-toc-modified-id=\"Проверка-гипотез-4\"><span class=\"toc-item-num\">4&nbsp;&nbsp;</span>Проверка гипотез</a></span></li></ul></div>\n",
    "<li><span><a href=\"#Общий-вывод\" data-toc-modified-id=\"Общий-вывод-5\"><span class=\"toc-item-num\">5&nbsp;&nbsp;</span>Общий вывод</a></span></li>"
   ]
  },
  {
   "cell_type": "markdown",
   "metadata": {},
   "source": [
    "## Изучение данных и предобработка\n",
    "[Содержание](#Содержание)"
   ]
  },
  {
   "cell_type": "code",
   "execution_count": 1,
   "metadata": {},
   "outputs": [],
   "source": [
    "import pandas as pd\n",
    "import numpy as np\n",
    "import seaborn as sns\n",
    "from scipy import stats as st\n",
    "import matplotlib.pyplot as plt\n",
    "\n",
    "df = pd.read_csv('/datasets/games.csv')"
   ]
  },
  {
   "cell_type": "code",
   "execution_count": 2,
   "metadata": {},
   "outputs": [
    {
     "name": "stdout",
     "output_type": "stream",
     "text": [
      "<class 'pandas.core.frame.DataFrame'>\n",
      "RangeIndex: 16715 entries, 0 to 16714\n",
      "Data columns (total 11 columns):\n",
      "Name               16713 non-null object\n",
      "Platform           16715 non-null object\n",
      "Year_of_Release    16446 non-null float64\n",
      "Genre              16713 non-null object\n",
      "NA_sales           16715 non-null float64\n",
      "EU_sales           16715 non-null float64\n",
      "JP_sales           16715 non-null float64\n",
      "Other_sales        16715 non-null float64\n",
      "Critic_Score       8137 non-null float64\n",
      "User_Score         10014 non-null object\n",
      "Rating             9949 non-null object\n",
      "dtypes: float64(6), object(5)\n",
      "memory usage: 1.4+ MB\n"
     ]
    }
   ],
   "source": [
    "df.info()"
   ]
  },
  {
   "cell_type": "markdown",
   "metadata": {},
   "source": [
    "Что мы видим из проблем.\n",
    "\n",
    "В названиях столбцов есть буквы в верхнем регистре, от этого нам надо будет избавиться.\n",
    "\n",
    "В столбцах Name, Year_of_Release, Genre, Critic_Score, User_Score и Rating есть пропуски, их мы проанализируем отдельно для каждого столбца."
   ]
  },
  {
   "cell_type": "markdown",
   "metadata": {},
   "source": [
    "---\n",
    "Изменим написание названий столбцов на нижний регистр:"
   ]
  },
  {
   "cell_type": "code",
   "execution_count": 3,
   "metadata": {},
   "outputs": [],
   "source": [
    "df.columns = df.columns.str.lower()"
   ]
  },
  {
   "cell_type": "markdown",
   "metadata": {},
   "source": [
    "---\n",
    "Взглянем на пропуски в столбце name, благо их всего два."
   ]
  },
  {
   "cell_type": "code",
   "execution_count": 4,
   "metadata": {},
   "outputs": [
    {
     "data": {
      "text/html": [
       "<div>\n",
       "<style scoped>\n",
       "    .dataframe tbody tr th:only-of-type {\n",
       "        vertical-align: middle;\n",
       "    }\n",
       "\n",
       "    .dataframe tbody tr th {\n",
       "        vertical-align: top;\n",
       "    }\n",
       "\n",
       "    .dataframe thead th {\n",
       "        text-align: right;\n",
       "    }\n",
       "</style>\n",
       "<table border=\"1\" class=\"dataframe\">\n",
       "  <thead>\n",
       "    <tr style=\"text-align: right;\">\n",
       "      <th></th>\n",
       "      <th>name</th>\n",
       "      <th>platform</th>\n",
       "      <th>year_of_release</th>\n",
       "      <th>genre</th>\n",
       "      <th>na_sales</th>\n",
       "      <th>eu_sales</th>\n",
       "      <th>jp_sales</th>\n",
       "      <th>other_sales</th>\n",
       "      <th>critic_score</th>\n",
       "      <th>user_score</th>\n",
       "      <th>rating</th>\n",
       "    </tr>\n",
       "  </thead>\n",
       "  <tbody>\n",
       "    <tr>\n",
       "      <td>659</td>\n",
       "      <td>NaN</td>\n",
       "      <td>GEN</td>\n",
       "      <td>1993.0</td>\n",
       "      <td>NaN</td>\n",
       "      <td>1.78</td>\n",
       "      <td>0.53</td>\n",
       "      <td>0.00</td>\n",
       "      <td>0.08</td>\n",
       "      <td>NaN</td>\n",
       "      <td>NaN</td>\n",
       "      <td>NaN</td>\n",
       "    </tr>\n",
       "    <tr>\n",
       "      <td>14244</td>\n",
       "      <td>NaN</td>\n",
       "      <td>GEN</td>\n",
       "      <td>1993.0</td>\n",
       "      <td>NaN</td>\n",
       "      <td>0.00</td>\n",
       "      <td>0.00</td>\n",
       "      <td>0.03</td>\n",
       "      <td>0.00</td>\n",
       "      <td>NaN</td>\n",
       "      <td>NaN</td>\n",
       "      <td>NaN</td>\n",
       "    </tr>\n",
       "  </tbody>\n",
       "</table>\n",
       "</div>"
      ],
      "text/plain": [
       "      name platform  year_of_release genre  na_sales  eu_sales  jp_sales  \\\n",
       "659    NaN      GEN           1993.0   NaN      1.78      0.53      0.00   \n",
       "14244  NaN      GEN           1993.0   NaN      0.00      0.00      0.03   \n",
       "\n",
       "       other_sales  critic_score user_score rating  \n",
       "659           0.08           NaN        NaN    NaN  \n",
       "14244         0.00           NaN        NaN    NaN  "
      ]
     },
     "execution_count": 4,
     "metadata": {},
     "output_type": "execute_result"
    }
   ],
   "source": [
    "df[df['name'].isna()]"
   ]
  },
  {
   "cell_type": "markdown",
   "metadata": {},
   "source": [
    "Оказывается в этих же строках находятся оба пропуска в столбце genre.  \n",
    "Выглядит так, будто это одна и та же игра в двух версиях, для японского рынка и для всего остального мира. На это намекают совпадающие платформа, год выпуска, и значения в столбцах продаж. К сожалению, на Sega Genesis, она же Sega Mega Drive в 1993 году выходило очень много игр, итак что пропуски в названии мы восстановить не сможем, так что удалим эти 2 строки"
   ]
  },
  {
   "cell_type": "code",
   "execution_count": 5,
   "metadata": {},
   "outputs": [],
   "source": [
    "df = df.drop(index=[659, 14244])"
   ]
  },
  {
   "cell_type": "markdown",
   "metadata": {},
   "source": [
    "---\n",
    "Посмотрим на то, какие у нас есть платформы и сколько на них игр."
   ]
  },
  {
   "cell_type": "code",
   "execution_count": 6,
   "metadata": {},
   "outputs": [
    {
     "data": {
      "text/plain": [
       "PS2     2161\n",
       "DS      2151\n",
       "PS3     1331\n",
       "Wii     1320\n",
       "X360    1262\n",
       "PSP     1209\n",
       "PS      1197\n",
       "PC       974\n",
       "XB       824\n",
       "GBA      822\n",
       "GC       556\n",
       "3DS      520\n",
       "PSV      430\n",
       "PS4      392\n",
       "N64      319\n",
       "XOne     247\n",
       "SNES     239\n",
       "SAT      173\n",
       "WiiU     147\n",
       "2600     133\n",
       "NES       98\n",
       "GB        98\n",
       "DC        52\n",
       "GEN       27\n",
       "NG        12\n",
       "WS         6\n",
       "SCD        6\n",
       "3DO        3\n",
       "TG16       2\n",
       "GG         1\n",
       "PCFX       1\n",
       "Name: platform, dtype: int64"
      ]
     },
     "execution_count": 6,
     "metadata": {},
     "output_type": "execute_result"
    }
   ],
   "source": [
    "df['platform'].value_counts(dropna=False)"
   ]
  },
  {
   "cell_type": "markdown",
   "metadata": {},
   "source": [
    "Есть несколько малопопулярных платформ, которые однако имели место быть (3DO даже была у меня в детстве). Мы их оставим, нам они не помешают."
   ]
  },
  {
   "cell_type": "markdown",
   "metadata": {},
   "source": [
    "---\n",
    "Проанализируем пропуски в годах выпуска."
   ]
  },
  {
   "cell_type": "code",
   "execution_count": 7,
   "metadata": {
    "scrolled": false
   },
   "outputs": [
    {
     "data": {
      "text/html": [
       "<div>\n",
       "<style scoped>\n",
       "    .dataframe tbody tr th:only-of-type {\n",
       "        vertical-align: middle;\n",
       "    }\n",
       "\n",
       "    .dataframe tbody tr th {\n",
       "        vertical-align: top;\n",
       "    }\n",
       "\n",
       "    .dataframe thead th {\n",
       "        text-align: right;\n",
       "    }\n",
       "</style>\n",
       "<table border=\"1\" class=\"dataframe\">\n",
       "  <thead>\n",
       "    <tr style=\"text-align: right;\">\n",
       "      <th></th>\n",
       "      <th>name</th>\n",
       "      <th>platform</th>\n",
       "      <th>year_of_release</th>\n",
       "      <th>genre</th>\n",
       "      <th>na_sales</th>\n",
       "      <th>eu_sales</th>\n",
       "      <th>jp_sales</th>\n",
       "      <th>other_sales</th>\n",
       "      <th>critic_score</th>\n",
       "      <th>user_score</th>\n",
       "      <th>rating</th>\n",
       "    </tr>\n",
       "  </thead>\n",
       "  <tbody>\n",
       "    <tr>\n",
       "      <td>183</td>\n",
       "      <td>Madden NFL 2004</td>\n",
       "      <td>PS2</td>\n",
       "      <td>NaN</td>\n",
       "      <td>Sports</td>\n",
       "      <td>4.26</td>\n",
       "      <td>0.26</td>\n",
       "      <td>0.01</td>\n",
       "      <td>0.71</td>\n",
       "      <td>94.0</td>\n",
       "      <td>8.5</td>\n",
       "      <td>E</td>\n",
       "    </tr>\n",
       "    <tr>\n",
       "      <td>377</td>\n",
       "      <td>FIFA Soccer 2004</td>\n",
       "      <td>PS2</td>\n",
       "      <td>NaN</td>\n",
       "      <td>Sports</td>\n",
       "      <td>0.59</td>\n",
       "      <td>2.36</td>\n",
       "      <td>0.04</td>\n",
       "      <td>0.51</td>\n",
       "      <td>84.0</td>\n",
       "      <td>6.4</td>\n",
       "      <td>E</td>\n",
       "    </tr>\n",
       "    <tr>\n",
       "      <td>456</td>\n",
       "      <td>LEGO Batman: The Videogame</td>\n",
       "      <td>Wii</td>\n",
       "      <td>NaN</td>\n",
       "      <td>Action</td>\n",
       "      <td>1.80</td>\n",
       "      <td>0.97</td>\n",
       "      <td>0.00</td>\n",
       "      <td>0.29</td>\n",
       "      <td>74.0</td>\n",
       "      <td>7.9</td>\n",
       "      <td>E10+</td>\n",
       "    </tr>\n",
       "    <tr>\n",
       "      <td>475</td>\n",
       "      <td>wwe Smackdown vs. Raw 2006</td>\n",
       "      <td>PS2</td>\n",
       "      <td>NaN</td>\n",
       "      <td>Fighting</td>\n",
       "      <td>1.57</td>\n",
       "      <td>1.02</td>\n",
       "      <td>0.00</td>\n",
       "      <td>0.41</td>\n",
       "      <td>NaN</td>\n",
       "      <td>NaN</td>\n",
       "      <td>NaN</td>\n",
       "    </tr>\n",
       "    <tr>\n",
       "      <td>609</td>\n",
       "      <td>Space Invaders</td>\n",
       "      <td>2600</td>\n",
       "      <td>NaN</td>\n",
       "      <td>Shooter</td>\n",
       "      <td>2.36</td>\n",
       "      <td>0.14</td>\n",
       "      <td>0.00</td>\n",
       "      <td>0.03</td>\n",
       "      <td>NaN</td>\n",
       "      <td>NaN</td>\n",
       "      <td>NaN</td>\n",
       "    </tr>\n",
       "    <tr>\n",
       "      <td>...</td>\n",
       "      <td>...</td>\n",
       "      <td>...</td>\n",
       "      <td>...</td>\n",
       "      <td>...</td>\n",
       "      <td>...</td>\n",
       "      <td>...</td>\n",
       "      <td>...</td>\n",
       "      <td>...</td>\n",
       "      <td>...</td>\n",
       "      <td>...</td>\n",
       "      <td>...</td>\n",
       "    </tr>\n",
       "    <tr>\n",
       "      <td>16373</td>\n",
       "      <td>PDC World Championship Darts 2008</td>\n",
       "      <td>PSP</td>\n",
       "      <td>NaN</td>\n",
       "      <td>Sports</td>\n",
       "      <td>0.01</td>\n",
       "      <td>0.00</td>\n",
       "      <td>0.00</td>\n",
       "      <td>0.00</td>\n",
       "      <td>43.0</td>\n",
       "      <td>tbd</td>\n",
       "      <td>E10+</td>\n",
       "    </tr>\n",
       "    <tr>\n",
       "      <td>16405</td>\n",
       "      <td>Freaky Flyers</td>\n",
       "      <td>GC</td>\n",
       "      <td>NaN</td>\n",
       "      <td>Racing</td>\n",
       "      <td>0.01</td>\n",
       "      <td>0.00</td>\n",
       "      <td>0.00</td>\n",
       "      <td>0.00</td>\n",
       "      <td>69.0</td>\n",
       "      <td>6.5</td>\n",
       "      <td>T</td>\n",
       "    </tr>\n",
       "    <tr>\n",
       "      <td>16448</td>\n",
       "      <td>Inversion</td>\n",
       "      <td>PC</td>\n",
       "      <td>NaN</td>\n",
       "      <td>Shooter</td>\n",
       "      <td>0.01</td>\n",
       "      <td>0.00</td>\n",
       "      <td>0.00</td>\n",
       "      <td>0.00</td>\n",
       "      <td>59.0</td>\n",
       "      <td>6.7</td>\n",
       "      <td>M</td>\n",
       "    </tr>\n",
       "    <tr>\n",
       "      <td>16458</td>\n",
       "      <td>Hakuouki: Shinsengumi Kitan</td>\n",
       "      <td>PS3</td>\n",
       "      <td>NaN</td>\n",
       "      <td>Adventure</td>\n",
       "      <td>0.01</td>\n",
       "      <td>0.00</td>\n",
       "      <td>0.00</td>\n",
       "      <td>0.00</td>\n",
       "      <td>NaN</td>\n",
       "      <td>NaN</td>\n",
       "      <td>NaN</td>\n",
       "    </tr>\n",
       "    <tr>\n",
       "      <td>16522</td>\n",
       "      <td>Virtua Quest</td>\n",
       "      <td>GC</td>\n",
       "      <td>NaN</td>\n",
       "      <td>Role-Playing</td>\n",
       "      <td>0.01</td>\n",
       "      <td>0.00</td>\n",
       "      <td>0.00</td>\n",
       "      <td>0.00</td>\n",
       "      <td>55.0</td>\n",
       "      <td>5.5</td>\n",
       "      <td>T</td>\n",
       "    </tr>\n",
       "  </tbody>\n",
       "</table>\n",
       "<p>269 rows × 11 columns</p>\n",
       "</div>"
      ],
      "text/plain": [
       "                                    name platform  year_of_release  \\\n",
       "183                      Madden NFL 2004      PS2              NaN   \n",
       "377                     FIFA Soccer 2004      PS2              NaN   \n",
       "456           LEGO Batman: The Videogame      Wii              NaN   \n",
       "475           wwe Smackdown vs. Raw 2006      PS2              NaN   \n",
       "609                       Space Invaders     2600              NaN   \n",
       "...                                  ...      ...              ...   \n",
       "16373  PDC World Championship Darts 2008      PSP              NaN   \n",
       "16405                      Freaky Flyers       GC              NaN   \n",
       "16448                          Inversion       PC              NaN   \n",
       "16458        Hakuouki: Shinsengumi Kitan      PS3              NaN   \n",
       "16522                       Virtua Quest       GC              NaN   \n",
       "\n",
       "              genre  na_sales  eu_sales  jp_sales  other_sales  critic_score  \\\n",
       "183          Sports      4.26      0.26      0.01         0.71          94.0   \n",
       "377          Sports      0.59      2.36      0.04         0.51          84.0   \n",
       "456          Action      1.80      0.97      0.00         0.29          74.0   \n",
       "475        Fighting      1.57      1.02      0.00         0.41           NaN   \n",
       "609         Shooter      2.36      0.14      0.00         0.03           NaN   \n",
       "...             ...       ...       ...       ...          ...           ...   \n",
       "16373        Sports      0.01      0.00      0.00         0.00          43.0   \n",
       "16405        Racing      0.01      0.00      0.00         0.00          69.0   \n",
       "16448       Shooter      0.01      0.00      0.00         0.00          59.0   \n",
       "16458     Adventure      0.01      0.00      0.00         0.00           NaN   \n",
       "16522  Role-Playing      0.01      0.00      0.00         0.00          55.0   \n",
       "\n",
       "      user_score rating  \n",
       "183          8.5      E  \n",
       "377          6.4      E  \n",
       "456          7.9   E10+  \n",
       "475          NaN    NaN  \n",
       "609          NaN    NaN  \n",
       "...          ...    ...  \n",
       "16373        tbd   E10+  \n",
       "16405        6.5      T  \n",
       "16448        6.7      M  \n",
       "16458        NaN    NaN  \n",
       "16522        5.5      T  \n",
       "\n",
       "[269 rows x 11 columns]"
      ]
     },
     "execution_count": 7,
     "metadata": {},
     "output_type": "execute_result"
    }
   ],
   "source": [
    "df[df['year_of_release'].isna()]"
   ]
  },
  {
   "cell_type": "code",
   "execution_count": 8,
   "metadata": {},
   "outputs": [
    {
     "data": {
      "text/plain": [
       "0.016095255190570215"
      ]
     },
     "execution_count": 8,
     "metadata": {},
     "output_type": "execute_result"
    }
   ],
   "source": [
    "len(df[df['year_of_release'].isna()]) / len(df)"
   ]
  },
  {
   "cell_type": "markdown",
   "metadata": {},
   "source": [
    "В целом, их не так уж и много, всего около полутора процентов от всего датасета. Однако дата выхода будет очень важна для выбора актуального преиода, так что избавимся от них, а столбец приведем к целочисленному типу."
   ]
  },
  {
   "cell_type": "code",
   "execution_count": 9,
   "metadata": {},
   "outputs": [],
   "source": [
    "df = df.dropna(subset=['year_of_release'])\n",
    "df['year_of_release'] = df['year_of_release'].astype('int')"
   ]
  },
  {
   "cell_type": "markdown",
   "metadata": {},
   "source": [
    "---\n",
    "Посмотрим, сколько у нас иг по жанрам. От двух пропусков в этом столбце мы уже избавились."
   ]
  },
  {
   "cell_type": "code",
   "execution_count": 10,
   "metadata": {
    "scrolled": true
   },
   "outputs": [
    {
     "data": {
      "text/plain": [
       "Action          3307\n",
       "Sports          2306\n",
       "Misc            1721\n",
       "Role-Playing    1481\n",
       "Shooter         1296\n",
       "Adventure       1293\n",
       "Racing          1226\n",
       "Platform         878\n",
       "Simulation       857\n",
       "Fighting         837\n",
       "Strategy         673\n",
       "Puzzle           569\n",
       "Name: genre, dtype: int64"
      ]
     },
     "execution_count": 10,
     "metadata": {},
     "output_type": "execute_result"
    }
   ],
   "source": [
    "df['genre'].value_counts()"
   ]
  },
  {
   "cell_type": "markdown",
   "metadata": {},
   "source": [
    "Ничего необычного. Разве что жанр Misc немного смущает. обычно так отмечают  всё, что не попало в остальные категории. Тут могут быть довольно разные игры. Но других данных у нас нет, так что оставим этот жанр как есть."
   ]
  },
  {
   "cell_type": "markdown",
   "metadata": {},
   "source": [
    "---\n",
    "Имея столбцы продаж по регионам, добавим столбец суммарных продаж каждой игры во всех регионах."
   ]
  },
  {
   "cell_type": "code",
   "execution_count": 11,
   "metadata": {},
   "outputs": [],
   "source": [
    "df['total_sales'] = df['na_sales'] + df['eu_sales'] + df['jp_sales'] + df['other_sales']"
   ]
  },
  {
   "cell_type": "markdown",
   "metadata": {},
   "source": [
    "---\n",
    "Изучим оценки критиков.  \n",
    "Оценка критиков есть только у половины игр в датасете. Отсутствие рейтинга у игры обычно означает, либо что или игра не очень популярная, нишевая, или что на момент выгрузки оценка еще не проставлена. Попробуем проверить теорию о том, что игры без рейтинга в нашем датасете не очень популярны, воспользуемся для этого столбцом с сумарными продажами."
   ]
  },
  {
   "cell_type": "code",
   "execution_count": 12,
   "metadata": {},
   "outputs": [
    {
     "data": {
      "text/plain": [
       "<matplotlib.axes._subplots.AxesSubplot at 0x7f1724df6890>"
      ]
     },
     "execution_count": 12,
     "metadata": {},
     "output_type": "execute_result"
    },
    {
     "data": {
      "image/png": "[encoded data removed]",
      "text/plain": [
       "<Figure size 432x288 with 1 Axes>"
      ]
     },
     "metadata": {
      "needs_background": "light"
     },
     "output_type": "display_data"
    }
   ],
   "source": [
    "df[df['critic_score'].isna()].plot(y='total_sales', title='Гистограмма распределения продаж игр без оценок критиков', kind='hist', bins=100)"
   ]
  },
  {
   "cell_type": "markdown",
   "metadata": {},
   "source": [
    "Большая часть таких игр действительно не очень хорошо продалась, хотя есть и игра (игры) с продажами в 40 миллионов копий по всему миру."
   ]
  },
  {
   "cell_type": "markdown",
   "metadata": {},
   "source": [
    "---\n",
    "Теперь взглянем на оценки игроков.  \n",
    "Таких оценок больше, чем оценок игровых журналистов и критиков. Это логично, простых игроков гораздо больше, а значит гораздо больше шансов, что в какую-то редкую и не очень популярную игру кто-то сыграет и поставит ей оценку.  \n",
    "Аббревиатура tbd в оценках пользователей означает to be determined, это означает или что пользовательских оценок нет вовсе, или что их слишком мало, и итоговая оценка может быть \"перекошена\" в ту или иную сторону. В нашем случае такая оценка аналогична пропуску. Можно было бы оставить как есть, но tbd не дает нам проводить математические операции над столбцом, в отличие от nan, поэтому мы заменим tbd на nan, создадим пропуски, чтобы иметь возможность обрабатывать столбец с рейтингом. После этого приведем столбец к численнорму типу."
   ]
  },
  {
   "cell_type": "code",
   "execution_count": 13,
   "metadata": {
    "scrolled": false
   },
   "outputs": [],
   "source": [
    "df.loc[df[df['user_score'] == 'tbd'].index, 'user_score'] = np.nan"
   ]
  },
  {
   "cell_type": "code",
   "execution_count": 14,
   "metadata": {},
   "outputs": [],
   "source": [
    "df['user_score'] = df['user_score'].astype('float64')"
   ]
  },
  {
   "cell_type": "markdown",
   "metadata": {},
   "source": [
    "---\n",
    "Посмотрим, какие возрастные рейтинги есть в датасете."
   ]
  },
  {
   "cell_type": "code",
   "execution_count": 15,
   "metadata": {
    "scrolled": false
   },
   "outputs": [
    {
     "data": {
      "text/plain": [
       "NaN     6676\n",
       "E       3921\n",
       "T       2905\n",
       "M       1536\n",
       "E10+    1393\n",
       "EC         8\n",
       "K-A        3\n",
       "RP         1\n",
       "AO         1\n",
       "Name: rating, dtype: int64"
      ]
     },
     "execution_count": 15,
     "metadata": {},
     "output_type": "execute_result"
    }
   ],
   "source": [
    "df['rating'].value_counts(dropna=False)"
   ]
  },
  {
   "cell_type": "markdown",
   "metadata": {},
   "source": [
    "Больше трети датасета пропусков. С ними придется смириться, восстановить или посчитать рейтинг мы никак не можем. Отсутствовать рейтинг опять же может из-за того, что игра не очень популярная.\n",
    "\n",
    "Проанализируем распределение продаж игр без возрастных рейтингов."
   ]
  },
  {
   "cell_type": "code",
   "execution_count": 16,
   "metadata": {},
   "outputs": [
    {
     "data": {
      "text/plain": [
       "<matplotlib.axes._subplots.AxesSubplot at 0x7f169c90a310>"
      ]
     },
     "execution_count": 16,
     "metadata": {},
     "output_type": "execute_result"
    },
    {
     "data": {
      "image/png": "[encoded data removed]",
      "text/plain": [
       "<Figure size 432x288 with 1 Axes>"
      ]
     },
     "metadata": {
      "needs_background": "light"
     },
     "output_type": "display_data"
    }
   ],
   "source": [
    "df[df['rating'].isna()].plot(y='total_sales', title='Гистограмма распределения продаж игр без возрастного рейтинга', kind='hist', bins=100)"
   ]
  },
  {
   "cell_type": "markdown",
   "metadata": {},
   "source": [
    "Оказывается, основная масса таких игр не очень кассовая/популярная.\n",
    "\n",
    "Кроме пропусков у игр в датасете есть следующие рейтинги:\n",
    "\n",
    "* E — Everyone, Для всех\n",
    "* T — Teen, Для подростков\n",
    "* M — Mature 17+, Для взрослых\n",
    "* E10+ — Everyone 10+, Для всех от 10 лет и старше\n",
    "* EC — Early Childhood, Для детей младшего возраста\n",
    "* K-A — Kids to Adults, От детей до взрослых\n",
    "* RP — Rating Pending, Рейтинг ожидается\n",
    "* AO — Adults Only 18+, Только для взрослых\n",
    "\n",
    "Мы не можем проверить правильно ли указан каждый конкретный рейтинг, так что примем их как есть. Однако, некоторые рейтинги использованы очень мало раз, взглянем на них поближе."
   ]
  },
  {
   "cell_type": "markdown",
   "metadata": {},
   "source": [
    "---\n",
    "На весь датасет у нас всего одна игра с рейтингом AO - Adults Only. Взглянем, что это за игра:"
   ]
  },
  {
   "cell_type": "code",
   "execution_count": 17,
   "metadata": {},
   "outputs": [
    {
     "data": {
      "text/html": [
       "<div>\n",
       "<style scoped>\n",
       "    .dataframe tbody tr th:only-of-type {\n",
       "        vertical-align: middle;\n",
       "    }\n",
       "\n",
       "    .dataframe tbody tr th {\n",
       "        vertical-align: top;\n",
       "    }\n",
       "\n",
       "    .dataframe thead th {\n",
       "        text-align: right;\n",
       "    }\n",
       "</style>\n",
       "<table border=\"1\" class=\"dataframe\">\n",
       "  <thead>\n",
       "    <tr style=\"text-align: right;\">\n",
       "      <th></th>\n",
       "      <th>name</th>\n",
       "      <th>platform</th>\n",
       "      <th>year_of_release</th>\n",
       "      <th>genre</th>\n",
       "      <th>na_sales</th>\n",
       "      <th>eu_sales</th>\n",
       "      <th>jp_sales</th>\n",
       "      <th>other_sales</th>\n",
       "      <th>critic_score</th>\n",
       "      <th>user_score</th>\n",
       "      <th>rating</th>\n",
       "      <th>total_sales</th>\n",
       "    </tr>\n",
       "  </thead>\n",
       "  <tbody>\n",
       "    <tr>\n",
       "      <td>875</td>\n",
       "      <td>Grand Theft Auto: San Andreas</td>\n",
       "      <td>XB</td>\n",
       "      <td>2005</td>\n",
       "      <td>Action</td>\n",
       "      <td>1.26</td>\n",
       "      <td>0.61</td>\n",
       "      <td>0.0</td>\n",
       "      <td>0.09</td>\n",
       "      <td>93.0</td>\n",
       "      <td>8.6</td>\n",
       "      <td>AO</td>\n",
       "      <td>1.96</td>\n",
       "    </tr>\n",
       "  </tbody>\n",
       "</table>\n",
       "</div>"
      ],
      "text/plain": [
       "                              name platform  year_of_release   genre  \\\n",
       "875  Grand Theft Auto: San Andreas       XB             2005  Action   \n",
       "\n",
       "     na_sales  eu_sales  jp_sales  other_sales  critic_score  user_score  \\\n",
       "875      1.26      0.61       0.0         0.09          93.0         8.6   \n",
       "\n",
       "    rating  total_sales  \n",
       "875     AO         1.96  "
      ]
     },
     "execution_count": 17,
     "metadata": {},
     "output_type": "execute_result"
    }
   ],
   "source": [
    "df[df['rating'] == 'AO']"
   ]
  },
  {
   "cell_type": "markdown",
   "metadata": {},
   "source": [
    "Это версия Grand Theft Auto: San Andreas для самого первого XBox. Посмотрим на версии этой игры для других платформ."
   ]
  },
  {
   "cell_type": "code",
   "execution_count": 18,
   "metadata": {},
   "outputs": [
    {
     "data": {
      "text/html": [
       "<div>\n",
       "<style scoped>\n",
       "    .dataframe tbody tr th:only-of-type {\n",
       "        vertical-align: middle;\n",
       "    }\n",
       "\n",
       "    .dataframe tbody tr th {\n",
       "        vertical-align: top;\n",
       "    }\n",
       "\n",
       "    .dataframe thead th {\n",
       "        text-align: right;\n",
       "    }\n",
       "</style>\n",
       "<table border=\"1\" class=\"dataframe\">\n",
       "  <thead>\n",
       "    <tr style=\"text-align: right;\">\n",
       "      <th></th>\n",
       "      <th>name</th>\n",
       "      <th>platform</th>\n",
       "      <th>year_of_release</th>\n",
       "      <th>genre</th>\n",
       "      <th>na_sales</th>\n",
       "      <th>eu_sales</th>\n",
       "      <th>jp_sales</th>\n",
       "      <th>other_sales</th>\n",
       "      <th>critic_score</th>\n",
       "      <th>user_score</th>\n",
       "      <th>rating</th>\n",
       "      <th>total_sales</th>\n",
       "    </tr>\n",
       "  </thead>\n",
       "  <tbody>\n",
       "    <tr>\n",
       "      <td>17</td>\n",
       "      <td>Grand Theft Auto: San Andreas</td>\n",
       "      <td>PS2</td>\n",
       "      <td>2004</td>\n",
       "      <td>Action</td>\n",
       "      <td>9.43</td>\n",
       "      <td>0.40</td>\n",
       "      <td>0.41</td>\n",
       "      <td>10.57</td>\n",
       "      <td>95.0</td>\n",
       "      <td>9.0</td>\n",
       "      <td>M</td>\n",
       "      <td>20.81</td>\n",
       "    </tr>\n",
       "    <tr>\n",
       "      <td>875</td>\n",
       "      <td>Grand Theft Auto: San Andreas</td>\n",
       "      <td>XB</td>\n",
       "      <td>2005</td>\n",
       "      <td>Action</td>\n",
       "      <td>1.26</td>\n",
       "      <td>0.61</td>\n",
       "      <td>0.00</td>\n",
       "      <td>0.09</td>\n",
       "      <td>93.0</td>\n",
       "      <td>8.6</td>\n",
       "      <td>AO</td>\n",
       "      <td>1.96</td>\n",
       "    </tr>\n",
       "    <tr>\n",
       "      <td>2115</td>\n",
       "      <td>Grand Theft Auto: San Andreas</td>\n",
       "      <td>PC</td>\n",
       "      <td>2005</td>\n",
       "      <td>Action</td>\n",
       "      <td>0.00</td>\n",
       "      <td>0.93</td>\n",
       "      <td>0.00</td>\n",
       "      <td>0.04</td>\n",
       "      <td>93.0</td>\n",
       "      <td>8.9</td>\n",
       "      <td>M</td>\n",
       "      <td>0.97</td>\n",
       "    </tr>\n",
       "    <tr>\n",
       "      <td>10311</td>\n",
       "      <td>Grand Theft Auto: San Andreas</td>\n",
       "      <td>X360</td>\n",
       "      <td>2008</td>\n",
       "      <td>Action</td>\n",
       "      <td>0.08</td>\n",
       "      <td>0.02</td>\n",
       "      <td>0.00</td>\n",
       "      <td>0.01</td>\n",
       "      <td>NaN</td>\n",
       "      <td>7.5</td>\n",
       "      <td>M</td>\n",
       "      <td>0.11</td>\n",
       "    </tr>\n",
       "  </tbody>\n",
       "</table>\n",
       "</div>"
      ],
      "text/plain": [
       "                                name platform  year_of_release   genre  \\\n",
       "17     Grand Theft Auto: San Andreas      PS2             2004  Action   \n",
       "875    Grand Theft Auto: San Andreas       XB             2005  Action   \n",
       "2115   Grand Theft Auto: San Andreas       PC             2005  Action   \n",
       "10311  Grand Theft Auto: San Andreas     X360             2008  Action   \n",
       "\n",
       "       na_sales  eu_sales  jp_sales  other_sales  critic_score  user_score  \\\n",
       "17         9.43      0.40      0.41        10.57          95.0         9.0   \n",
       "875        1.26      0.61      0.00         0.09          93.0         8.6   \n",
       "2115       0.00      0.93      0.00         0.04          93.0         8.9   \n",
       "10311      0.08      0.02      0.00         0.01           NaN         7.5   \n",
       "\n",
       "      rating  total_sales  \n",
       "17         M        20.81  \n",
       "875       AO         1.96  \n",
       "2115       M         0.97  \n",
       "10311      M         0.11  "
      ]
     },
     "execution_count": 18,
     "metadata": {},
     "output_type": "execute_result"
    }
   ],
   "source": [
    "df[df['name'] == 'Grand Theft Auto: San Andreas']"
   ]
  },
  {
   "cell_type": "markdown",
   "metadata": {},
   "source": [
    "Изначальный рейтинг игры был M - Mature. Рейтинг AO  появился у этой игры после появлния спорной модификации Hot Coffee, которая разблокировала деактивированный, но оставленный разработчиками в ресурсах игры контент для взрослых. После появления модификации, на издателя игры Rockstar North обрушился шквал критики, а ESRB изменила оценку игры с  M на AO. Такой рейтинг накладывал очень строгие ограничения на распространение игры, например, она могла продаваться только в специализированных магазинах для взрослых. Игра ставилась в один ряд с порнографией.  \n",
    "Издатель отозвал из продажи все копии игры с контентом для взрослых, а через некоторое время выпустил официальный патч, удаляющий этот контент из ресурсов уже установленной игры. После этого рейтинг был смягчен.  \n",
    "Поэтому считаю данный рейтинг в нашем датасете ошибочным. Изменим его на M, как у других версий игры."
   ]
  },
  {
   "cell_type": "code",
   "execution_count": 19,
   "metadata": {},
   "outputs": [],
   "source": [
    "df.loc[875, 'rating'] = 'M'"
   ]
  },
  {
   "cell_type": "markdown",
   "metadata": {},
   "source": [
    "---\n",
    "Следующим разберем RP - Rating Pending. Эта отметка означает, что игра еще не была оценена ESRB, обычно такая отметка ставится на пре-релизныйх рекламных материалах. Посмотрим, что это за игры."
   ]
  },
  {
   "cell_type": "code",
   "execution_count": 20,
   "metadata": {},
   "outputs": [
    {
     "data": {
      "text/html": [
       "<div>\n",
       "<style scoped>\n",
       "    .dataframe tbody tr th:only-of-type {\n",
       "        vertical-align: middle;\n",
       "    }\n",
       "\n",
       "    .dataframe tbody tr th {\n",
       "        vertical-align: top;\n",
       "    }\n",
       "\n",
       "    .dataframe thead th {\n",
       "        text-align: right;\n",
       "    }\n",
       "</style>\n",
       "<table border=\"1\" class=\"dataframe\">\n",
       "  <thead>\n",
       "    <tr style=\"text-align: right;\">\n",
       "      <th></th>\n",
       "      <th>name</th>\n",
       "      <th>platform</th>\n",
       "      <th>year_of_release</th>\n",
       "      <th>genre</th>\n",
       "      <th>na_sales</th>\n",
       "      <th>eu_sales</th>\n",
       "      <th>jp_sales</th>\n",
       "      <th>other_sales</th>\n",
       "      <th>critic_score</th>\n",
       "      <th>user_score</th>\n",
       "      <th>rating</th>\n",
       "      <th>total_sales</th>\n",
       "    </tr>\n",
       "  </thead>\n",
       "  <tbody>\n",
       "    <tr>\n",
       "      <td>14270</td>\n",
       "      <td>Supreme Ruler: Cold War</td>\n",
       "      <td>PC</td>\n",
       "      <td>2011</td>\n",
       "      <td>Strategy</td>\n",
       "      <td>0.0</td>\n",
       "      <td>0.03</td>\n",
       "      <td>0.0</td>\n",
       "      <td>0.01</td>\n",
       "      <td>63.0</td>\n",
       "      <td>6.8</td>\n",
       "      <td>RP</td>\n",
       "      <td>0.04</td>\n",
       "    </tr>\n",
       "  </tbody>\n",
       "</table>\n",
       "</div>"
      ],
      "text/plain": [
       "                          name platform  year_of_release     genre  na_sales  \\\n",
       "14270  Supreme Ruler: Cold War       PC             2011  Strategy       0.0   \n",
       "\n",
       "       eu_sales  jp_sales  other_sales  critic_score  user_score rating  \\\n",
       "14270      0.03       0.0         0.01          63.0         6.8     RP   \n",
       "\n",
       "       total_sales  \n",
       "14270         0.04  "
      ]
     },
     "execution_count": 20,
     "metadata": {},
     "output_type": "execute_result"
    }
   ],
   "source": [
    "df[df['rating'] == 'RP']"
   ]
  },
  {
   "cell_type": "markdown",
   "metadata": {},
   "source": [
    "Всего одна игра, очень маленькие продажи. Мы без особых сожалений можем удалить её, это не сильно повлияют на наш анализ."
   ]
  },
  {
   "cell_type": "code",
   "execution_count": 21,
   "metadata": {},
   "outputs": [],
   "source": [
    "df = df.drop(index=df[df['rating'] == 'RP'].index)"
   ]
  },
  {
   "cell_type": "markdown",
   "metadata": {},
   "source": [
    "---\n",
    "Следующим разберем  'K–A' - Kids to Adults. Это устаревший рейтинг, который в 1998 году был заменен рейтингом E. Так же поступим и мы."
   ]
  },
  {
   "cell_type": "code",
   "execution_count": 22,
   "metadata": {},
   "outputs": [
    {
     "data": {
      "text/html": [
       "<div>\n",
       "<style scoped>\n",
       "    .dataframe tbody tr th:only-of-type {\n",
       "        vertical-align: middle;\n",
       "    }\n",
       "\n",
       "    .dataframe tbody tr th {\n",
       "        vertical-align: top;\n",
       "    }\n",
       "\n",
       "    .dataframe thead th {\n",
       "        text-align: right;\n",
       "    }\n",
       "</style>\n",
       "<table border=\"1\" class=\"dataframe\">\n",
       "  <thead>\n",
       "    <tr style=\"text-align: right;\">\n",
       "      <th></th>\n",
       "      <th>name</th>\n",
       "      <th>platform</th>\n",
       "      <th>year_of_release</th>\n",
       "      <th>genre</th>\n",
       "      <th>na_sales</th>\n",
       "      <th>eu_sales</th>\n",
       "      <th>jp_sales</th>\n",
       "      <th>other_sales</th>\n",
       "      <th>critic_score</th>\n",
       "      <th>user_score</th>\n",
       "      <th>rating</th>\n",
       "      <th>total_sales</th>\n",
       "    </tr>\n",
       "  </thead>\n",
       "  <tbody>\n",
       "    <tr>\n",
       "      <td>656</td>\n",
       "      <td>Theme Hospital</td>\n",
       "      <td>PC</td>\n",
       "      <td>1997</td>\n",
       "      <td>Strategy</td>\n",
       "      <td>2.30</td>\n",
       "      <td>0.10</td>\n",
       "      <td>0.00</td>\n",
       "      <td>0.00</td>\n",
       "      <td>NaN</td>\n",
       "      <td>9.0</td>\n",
       "      <td>K-A</td>\n",
       "      <td>2.40</td>\n",
       "    </tr>\n",
       "    <tr>\n",
       "      <td>903</td>\n",
       "      <td>PaRappa The Rapper</td>\n",
       "      <td>PS</td>\n",
       "      <td>1996</td>\n",
       "      <td>Misc</td>\n",
       "      <td>0.26</td>\n",
       "      <td>0.16</td>\n",
       "      <td>1.46</td>\n",
       "      <td>0.03</td>\n",
       "      <td>92.0</td>\n",
       "      <td>7.4</td>\n",
       "      <td>K-A</td>\n",
       "      <td>1.91</td>\n",
       "    </tr>\n",
       "    <tr>\n",
       "      <td>16681</td>\n",
       "      <td>Worms 2</td>\n",
       "      <td>PC</td>\n",
       "      <td>1997</td>\n",
       "      <td>Strategy</td>\n",
       "      <td>0.00</td>\n",
       "      <td>0.01</td>\n",
       "      <td>0.00</td>\n",
       "      <td>0.00</td>\n",
       "      <td>NaN</td>\n",
       "      <td>8.1</td>\n",
       "      <td>K-A</td>\n",
       "      <td>0.01</td>\n",
       "    </tr>\n",
       "  </tbody>\n",
       "</table>\n",
       "</div>"
      ],
      "text/plain": [
       "                     name platform  year_of_release     genre  na_sales  \\\n",
       "656        Theme Hospital       PC             1997  Strategy      2.30   \n",
       "903    PaRappa The Rapper       PS             1996      Misc      0.26   \n",
       "16681             Worms 2       PC             1997  Strategy      0.00   \n",
       "\n",
       "       eu_sales  jp_sales  other_sales  critic_score  user_score rating  \\\n",
       "656        0.10      0.00         0.00           NaN         9.0    K-A   \n",
       "903        0.16      1.46         0.03          92.0         7.4    K-A   \n",
       "16681      0.01      0.00         0.00           NaN         8.1    K-A   \n",
       "\n",
       "       total_sales  \n",
       "656           2.40  \n",
       "903           1.91  \n",
       "16681         0.01  "
      ]
     },
     "execution_count": 22,
     "metadata": {},
     "output_type": "execute_result"
    }
   ],
   "source": [
    "df[df['rating'] == 'K-A']"
   ]
  },
  {
   "cell_type": "code",
   "execution_count": 23,
   "metadata": {},
   "outputs": [],
   "source": [
    "df.loc[df[df['rating'] == 'K-A'].index, 'rating'] = 'E'"
   ]
  },
  {
   "cell_type": "markdown",
   "metadata": {},
   "source": [
    "---\n",
    "И наконец EC - Early Childhood, игры для малышей, развивающие, обущающие игры. Тоже на настоящий момент устаревшая маркировка. От нее было решено отказаться в 2018 году из-за того, что так маркировалось очень малое количество проектов. Вот и в нашем датасете игры с таким рейтингом составляют менее 0,05 процента. Я считаю, что мы можем безопасно объеденить ее с E."
   ]
  },
  {
   "cell_type": "code",
   "execution_count": 24,
   "metadata": {},
   "outputs": [
    {
     "data": {
      "text/html": [
       "<div>\n",
       "<style scoped>\n",
       "    .dataframe tbody tr th:only-of-type {\n",
       "        vertical-align: middle;\n",
       "    }\n",
       "\n",
       "    .dataframe tbody tr th {\n",
       "        vertical-align: top;\n",
       "    }\n",
       "\n",
       "    .dataframe thead th {\n",
       "        text-align: right;\n",
       "    }\n",
       "</style>\n",
       "<table border=\"1\" class=\"dataframe\">\n",
       "  <thead>\n",
       "    <tr style=\"text-align: right;\">\n",
       "      <th></th>\n",
       "      <th>name</th>\n",
       "      <th>platform</th>\n",
       "      <th>year_of_release</th>\n",
       "      <th>genre</th>\n",
       "      <th>na_sales</th>\n",
       "      <th>eu_sales</th>\n",
       "      <th>jp_sales</th>\n",
       "      <th>other_sales</th>\n",
       "      <th>critic_score</th>\n",
       "      <th>user_score</th>\n",
       "      <th>rating</th>\n",
       "      <th>total_sales</th>\n",
       "    </tr>\n",
       "  </thead>\n",
       "  <tbody>\n",
       "    <tr>\n",
       "      <td>4297</td>\n",
       "      <td>Nickelodeon Team Umizoomi</td>\n",
       "      <td>DS</td>\n",
       "      <td>2011</td>\n",
       "      <td>Action</td>\n",
       "      <td>0.42</td>\n",
       "      <td>0.00</td>\n",
       "      <td>0.0</td>\n",
       "      <td>0.03</td>\n",
       "      <td>NaN</td>\n",
       "      <td>NaN</td>\n",
       "      <td>EC</td>\n",
       "      <td>0.45</td>\n",
       "    </tr>\n",
       "    <tr>\n",
       "      <td>5034</td>\n",
       "      <td>Sesame Street: Elmo's A-to-Zoo Adventure</td>\n",
       "      <td>Wii</td>\n",
       "      <td>2010</td>\n",
       "      <td>Misc</td>\n",
       "      <td>0.35</td>\n",
       "      <td>0.00</td>\n",
       "      <td>0.0</td>\n",
       "      <td>0.02</td>\n",
       "      <td>NaN</td>\n",
       "      <td>NaN</td>\n",
       "      <td>EC</td>\n",
       "      <td>0.37</td>\n",
       "    </tr>\n",
       "    <tr>\n",
       "      <td>6046</td>\n",
       "      <td>Sesame Street: Cookie's Counting Carnival</td>\n",
       "      <td>Wii</td>\n",
       "      <td>2010</td>\n",
       "      <td>Misc</td>\n",
       "      <td>0.27</td>\n",
       "      <td>0.00</td>\n",
       "      <td>0.0</td>\n",
       "      <td>0.02</td>\n",
       "      <td>NaN</td>\n",
       "      <td>NaN</td>\n",
       "      <td>EC</td>\n",
       "      <td>0.29</td>\n",
       "    </tr>\n",
       "    <tr>\n",
       "      <td>6764</td>\n",
       "      <td>Dora the Explorer: Journey to the Purple Planet</td>\n",
       "      <td>PS2</td>\n",
       "      <td>2005</td>\n",
       "      <td>Adventure</td>\n",
       "      <td>0.12</td>\n",
       "      <td>0.09</td>\n",
       "      <td>0.0</td>\n",
       "      <td>0.03</td>\n",
       "      <td>NaN</td>\n",
       "      <td>7.0</td>\n",
       "      <td>EC</td>\n",
       "      <td>0.24</td>\n",
       "    </tr>\n",
       "    <tr>\n",
       "      <td>7586</td>\n",
       "      <td>Ni Hao, Kai-lan: New Year's Celebration</td>\n",
       "      <td>DS</td>\n",
       "      <td>2009</td>\n",
       "      <td>Misc</td>\n",
       "      <td>0.19</td>\n",
       "      <td>0.00</td>\n",
       "      <td>0.0</td>\n",
       "      <td>0.01</td>\n",
       "      <td>NaN</td>\n",
       "      <td>NaN</td>\n",
       "      <td>EC</td>\n",
       "      <td>0.20</td>\n",
       "    </tr>\n",
       "    <tr>\n",
       "      <td>9960</td>\n",
       "      <td>Dora the Explorer: Journey to the Purple Planet</td>\n",
       "      <td>GC</td>\n",
       "      <td>2005</td>\n",
       "      <td>Adventure</td>\n",
       "      <td>0.09</td>\n",
       "      <td>0.02</td>\n",
       "      <td>0.0</td>\n",
       "      <td>0.00</td>\n",
       "      <td>NaN</td>\n",
       "      <td>NaN</td>\n",
       "      <td>EC</td>\n",
       "      <td>0.11</td>\n",
       "    </tr>\n",
       "    <tr>\n",
       "      <td>13065</td>\n",
       "      <td>Sesame Street: Cookie's Counting Carnival</td>\n",
       "      <td>PC</td>\n",
       "      <td>2010</td>\n",
       "      <td>Misc</td>\n",
       "      <td>0.05</td>\n",
       "      <td>0.00</td>\n",
       "      <td>0.0</td>\n",
       "      <td>0.00</td>\n",
       "      <td>NaN</td>\n",
       "      <td>NaN</td>\n",
       "      <td>EC</td>\n",
       "      <td>0.05</td>\n",
       "    </tr>\n",
       "    <tr>\n",
       "      <td>13455</td>\n",
       "      <td>Sesame Street: Elmo's A-to-Zoo Adventure</td>\n",
       "      <td>PC</td>\n",
       "      <td>2010</td>\n",
       "      <td>Misc</td>\n",
       "      <td>0.04</td>\n",
       "      <td>0.00</td>\n",
       "      <td>0.0</td>\n",
       "      <td>0.00</td>\n",
       "      <td>NaN</td>\n",
       "      <td>NaN</td>\n",
       "      <td>EC</td>\n",
       "      <td>0.04</td>\n",
       "    </tr>\n",
       "  </tbody>\n",
       "</table>\n",
       "</div>"
      ],
      "text/plain": [
       "                                                  name platform  \\\n",
       "4297                         Nickelodeon Team Umizoomi       DS   \n",
       "5034          Sesame Street: Elmo's A-to-Zoo Adventure      Wii   \n",
       "6046         Sesame Street: Cookie's Counting Carnival      Wii   \n",
       "6764   Dora the Explorer: Journey to the Purple Planet      PS2   \n",
       "7586           Ni Hao, Kai-lan: New Year's Celebration       DS   \n",
       "9960   Dora the Explorer: Journey to the Purple Planet       GC   \n",
       "13065        Sesame Street: Cookie's Counting Carnival       PC   \n",
       "13455         Sesame Street: Elmo's A-to-Zoo Adventure       PC   \n",
       "\n",
       "       year_of_release      genre  na_sales  eu_sales  jp_sales  other_sales  \\\n",
       "4297              2011     Action      0.42      0.00       0.0         0.03   \n",
       "5034              2010       Misc      0.35      0.00       0.0         0.02   \n",
       "6046              2010       Misc      0.27      0.00       0.0         0.02   \n",
       "6764              2005  Adventure      0.12      0.09       0.0         0.03   \n",
       "7586              2009       Misc      0.19      0.00       0.0         0.01   \n",
       "9960              2005  Adventure      0.09      0.02       0.0         0.00   \n",
       "13065             2010       Misc      0.05      0.00       0.0         0.00   \n",
       "13455             2010       Misc      0.04      0.00       0.0         0.00   \n",
       "\n",
       "       critic_score  user_score rating  total_sales  \n",
       "4297            NaN         NaN     EC         0.45  \n",
       "5034            NaN         NaN     EC         0.37  \n",
       "6046            NaN         NaN     EC         0.29  \n",
       "6764            NaN         7.0     EC         0.24  \n",
       "7586            NaN         NaN     EC         0.20  \n",
       "9960            NaN         NaN     EC         0.11  \n",
       "13065           NaN         NaN     EC         0.05  \n",
       "13455           NaN         NaN     EC         0.04  "
      ]
     },
     "execution_count": 24,
     "metadata": {},
     "output_type": "execute_result"
    }
   ],
   "source": [
    "df[df['rating'] == 'EC']"
   ]
  },
  {
   "cell_type": "code",
   "execution_count": 25,
   "metadata": {},
   "outputs": [],
   "source": [
    "df.loc[df[df['rating'] == 'EC'].index, 'rating'] = 'E'"
   ]
  },
  {
   "cell_type": "code",
   "execution_count": 26,
   "metadata": {},
   "outputs": [
    {
     "name": "stdout",
     "output_type": "stream",
     "text": [
      "<class 'pandas.core.frame.DataFrame'>\n",
      "Int64Index: 16443 entries, 0 to 16714\n",
      "Data columns (total 12 columns):\n",
      "name               16443 non-null object\n",
      "platform           16443 non-null object\n",
      "year_of_release    16443 non-null int64\n",
      "genre              16443 non-null object\n",
      "na_sales           16443 non-null float64\n",
      "eu_sales           16443 non-null float64\n",
      "jp_sales           16443 non-null float64\n",
      "other_sales        16443 non-null float64\n",
      "critic_score       7982 non-null float64\n",
      "user_score         7462 non-null float64\n",
      "rating             9767 non-null object\n",
      "total_sales        16443 non-null float64\n",
      "dtypes: float64(7), int64(1), object(4)\n",
      "memory usage: 2.3+ MB\n"
     ]
    }
   ],
   "source": [
    "df.info()"
   ]
  },
  {
   "cell_type": "markdown",
   "metadata": {},
   "source": [
    "## Анализ данных\n",
    "[Содержание](#Содержание)"
   ]
  },
  {
   "cell_type": "markdown",
   "metadata": {},
   "source": [
    "Посмотрим, сколько игр выпускалось в разные годы."
   ]
  },
  {
   "cell_type": "code",
   "execution_count": 27,
   "metadata": {},
   "outputs": [
    {
     "data": {
      "text/plain": [
       "(array([ 0,  1,  2,  3,  4,  5,  6,  7,  8,  9, 10, 11, 12, 13, 14, 15, 16,\n",
       "        17, 18, 19, 20, 21, 22, 23, 24, 25, 26, 27, 28, 29, 30, 31, 32, 33,\n",
       "        34, 35, 36]),\n",
       " <a list of 37 Text xticklabel objects>)"
      ]
     },
     "execution_count": 27,
     "metadata": {},
     "output_type": "execute_result"
    },
    {
     "data": {
      "image/png": "[encoded data removed]",
      "text/plain": [
       "<Figure size 864x432 with 1 Axes>"
      ]
     },
     "metadata": {
      "needs_background": "light"
     },
     "output_type": "display_data"
    }
   ],
   "source": [
    "df['year_of_release'].value_counts().sort_index().plot(title='Количество вышедших игр по годам выпуска', kind='bar', grid=True, figsize=(12, 6))\n",
    "plt.xticks(rotation=45)"
   ]
  },
  {
   "cell_type": "markdown",
   "metadata": {},
   "source": [
    "Игорвая индустрия начала активно расти в 90-х годах. В 00-х рост продолжился. Я затрудняюсь предположить, почему по данному датасету во второй половине 10-х годов произошел такой спад. Это может быть сокращение числа доступных платформ, кризис 2008 года. А может быть и вовсе особенность данных, например данные не полные.\n",
    "\n",
    "Для магазина не важна история индустрии. При всем желании, магазин не сможет продавать игры восьмидесятых-девяностых годов на ставшие уже антикварными платформы. Нам имеет смысл рассматривать игры, вышедшие 1-3 года назад. Это игры на актуальные платформы, эти игры всё ещё могут заинтересовать пользователей. А кроме того, эти игры адекватнее демонстрируют картину на рынке: какие жанры покупают, о чем говорят оценки пользователей и критиков, и т.д."
   ]
  },
  {
   "cell_type": "markdown",
   "metadata": {},
   "source": [
    "---\n",
    "Посчитаем суммарные продажи по каждой платформе и отсортируем их по убыванию. Возьмем 10 платформ с максимальным количеством продаж."
   ]
  },
  {
   "cell_type": "code",
   "execution_count": 28,
   "metadata": {},
   "outputs": [
    {
     "data": {
      "text/html": [
       "<div>\n",
       "<style scoped>\n",
       "    .dataframe tbody tr th:only-of-type {\n",
       "        vertical-align: middle;\n",
       "    }\n",
       "\n",
       "    .dataframe tbody tr th {\n",
       "        vertical-align: top;\n",
       "    }\n",
       "\n",
       "    .dataframe thead th {\n",
       "        text-align: right;\n",
       "    }\n",
       "</style>\n",
       "<table border=\"1\" class=\"dataframe\">\n",
       "  <thead>\n",
       "    <tr style=\"text-align: right;\">\n",
       "      <th></th>\n",
       "      <th>total_sales</th>\n",
       "    </tr>\n",
       "    <tr>\n",
       "      <th>platform</th>\n",
       "      <th></th>\n",
       "    </tr>\n",
       "  </thead>\n",
       "  <tbody>\n",
       "    <tr>\n",
       "      <td>PS2</td>\n",
       "      <td>1233.56</td>\n",
       "    </tr>\n",
       "    <tr>\n",
       "      <td>X360</td>\n",
       "      <td>961.24</td>\n",
       "    </tr>\n",
       "    <tr>\n",
       "      <td>PS3</td>\n",
       "      <td>931.34</td>\n",
       "    </tr>\n",
       "    <tr>\n",
       "      <td>Wii</td>\n",
       "      <td>891.18</td>\n",
       "    </tr>\n",
       "    <tr>\n",
       "      <td>DS</td>\n",
       "      <td>802.78</td>\n",
       "    </tr>\n",
       "    <tr>\n",
       "      <td>PS</td>\n",
       "      <td>727.58</td>\n",
       "    </tr>\n",
       "    <tr>\n",
       "      <td>PS4</td>\n",
       "      <td>314.14</td>\n",
       "    </tr>\n",
       "    <tr>\n",
       "      <td>GBA</td>\n",
       "      <td>312.88</td>\n",
       "    </tr>\n",
       "    <tr>\n",
       "      <td>PSP</td>\n",
       "      <td>289.53</td>\n",
       "    </tr>\n",
       "    <tr>\n",
       "      <td>3DS</td>\n",
       "      <td>257.81</td>\n",
       "    </tr>\n",
       "  </tbody>\n",
       "</table>\n",
       "</div>"
      ],
      "text/plain": [
       "          total_sales\n",
       "platform             \n",
       "PS2           1233.56\n",
       "X360           961.24\n",
       "PS3            931.34\n",
       "Wii            891.18\n",
       "DS             802.78\n",
       "PS             727.58\n",
       "PS4            314.14\n",
       "GBA            312.88\n",
       "PSP            289.53\n",
       "3DS            257.81"
      ]
     },
     "execution_count": 28,
     "metadata": {},
     "output_type": "execute_result"
    }
   ],
   "source": [
    "df.pivot_table(index='platform', values='total_sales', aggfunc='sum').sort_values(by='total_sales', ascending=False).head(10)"
   ]
  },
  {
   "cell_type": "markdown",
   "metadata": {},
   "source": [
    "Что интересно, в этот список не попала самая последняя на тот момент игровая консоль от Microsoft — Xbox One. По данным этого датасета на момент его выгрузки, эта актуальная и продолжающая набирать популярность консоль не догнала по продажам игр даже вышедшие в начале нулевых Sony PlayStation (PS) Game Boy Advance (GBA). Разумеется, как представители магазина, мы не будем пытаться продавать игры на платформы 15-летней давности, нам важны актуальные платформы с растущим количеством пользователей.\n",
    "\n",
    "Построим графики продаж игр по десяти наиболее прибыльным платформам."
   ]
  },
  {
   "cell_type": "code",
   "execution_count": 29,
   "metadata": {
    "scrolled": false
   },
   "outputs": [
    {
     "data": {
      "image/png": "[encoded data removed]",
      "text/plain": [
       "<Figure size 432x288 with 1 Axes>"
      ]
     },
     "metadata": {
      "needs_background": "light"
     },
     "output_type": "display_data"
    },
    {
     "data": {
      "image/png": "[encoded data removed]",
      "text/plain": [
       "<Figure size 432x288 with 1 Axes>"
      ]
     },
     "metadata": {
      "needs_background": "light"
     },
     "output_type": "display_data"
    },
    {
     "data": {
      "image/png": "[encoded data removed]",
      "text/plain": [
       "<Figure size 432x288 with 1 Axes>"
      ]
     },
     "metadata": {
      "needs_background": "light"
     },
     "output_type": "display_data"
    },
    {
     "data": {
      "image/png": "[encoded data removed]",
      "text/plain": [
       "<Figure size 432x288 with 1 Axes>"
      ]
     },
     "metadata": {
      "needs_background": "light"
     },
     "output_type": "display_data"
    },
    {
     "data": {
      "image/png": "[encoded data removed]",
      "text/plain": [
       "<Figure size 432x288 with 1 Axes>"
      ]
     },
     "metadata": {
      "needs_background": "light"
     },
     "output_type": "display_data"
    },
    {
     "data": {
      "image/png": "[encoded data removed]",
      "text/plain": [
       "<Figure size 432x288 with 1 Axes>"
      ]
     },
     "metadata": {
      "needs_background": "light"
     },
     "output_type": "display_data"
    },
    {
     "data": {
      "image/png": "[encoded data removed]",
      "text/plain": [
       "<Figure size 432x288 with 1 Axes>"
      ]
     },
     "metadata": {
      "needs_background": "light"
     },
     "output_type": "display_data"
    },
    {
     "data": {
      "image/png": "[encoded data removed]",
      "text/plain": [
       "<Figure size 432x288 with 1 Axes>"
      ]
     },
     "metadata": {
      "needs_background": "light"
     },
     "output_type": "display_data"
    },
    {
     "data": {
      "image/png": "[encoded data removed]",
      "text/plain": [
       "<Figure size 432x288 with 1 Axes>"
      ]
     },
     "metadata": {
      "needs_background": "light"
     },
     "output_type": "display_data"
    },
    {
     "data": {
      "image/png": "[encoded data removed]",
      "text/plain": [
       "<Figure size 432x288 with 1 Axes>"
      ]
     },
     "metadata": {
      "needs_background": "light"
     },
     "output_type": "display_data"
    }
   ],
   "source": [
    "best_selling_platforms = df.pivot_table(index='platform', values='total_sales', aggfunc='sum').sort_values(by='total_sales', ascending=False).head(10).index\n",
    "for platform in best_selling_platforms:\n",
    "    df[df['platform'] == platform]['year_of_release'].value_counts().sort_index().plot(title='Продажи игр по годам на '+platform+' (млн. экз.)', kind='bar', grid=True)\n",
    "    plt.show()"
   ]
  },
  {
   "cell_type": "markdown",
   "metadata": {},
   "source": [
    "Почти все графики выглядят как горка - сначала подъем, затем спад. Года подъема и спада и есть начало и конец цикла жизни платформы. Судя по десяти наиболее прибыльным платформам, срок жизни платформы 8-10 лет. Из десяти графиков необычно ведут себя только графики Wii, DS, PS4, 3DS. Но и тут все странности легко объяснимы.\n",
    "\n",
    "Популярность Wii начала снижаться в связи с выходом следуюущей домашней консоли от Nintendo — WiiU. Однако у Nintendo довольно верные фанаты, поэтому игры продалжают продаваться и в последующие года, хоть и гораздо в меньших объемах. Отсюда и \"хвост\" на графике.\n",
    "\n",
    "Nintendo DS вышла в 2004 году, когда и начался рост продаж. Проверим, откуда на графике возникли данные за 1985 год."
   ]
  },
  {
   "cell_type": "code",
   "execution_count": 30,
   "metadata": {},
   "outputs": [
    {
     "data": {
      "text/html": [
       "<div>\n",
       "<style scoped>\n",
       "    .dataframe tbody tr th:only-of-type {\n",
       "        vertical-align: middle;\n",
       "    }\n",
       "\n",
       "    .dataframe tbody tr th {\n",
       "        vertical-align: top;\n",
       "    }\n",
       "\n",
       "    .dataframe thead th {\n",
       "        text-align: right;\n",
       "    }\n",
       "</style>\n",
       "<table border=\"1\" class=\"dataframe\">\n",
       "  <thead>\n",
       "    <tr style=\"text-align: right;\">\n",
       "      <th></th>\n",
       "      <th>name</th>\n",
       "      <th>platform</th>\n",
       "      <th>year_of_release</th>\n",
       "      <th>genre</th>\n",
       "      <th>na_sales</th>\n",
       "      <th>eu_sales</th>\n",
       "      <th>jp_sales</th>\n",
       "      <th>other_sales</th>\n",
       "      <th>critic_score</th>\n",
       "      <th>user_score</th>\n",
       "      <th>rating</th>\n",
       "      <th>total_sales</th>\n",
       "    </tr>\n",
       "  </thead>\n",
       "  <tbody>\n",
       "    <tr>\n",
       "      <td>15957</td>\n",
       "      <td>Strongest Tokyo University Shogi DS</td>\n",
       "      <td>DS</td>\n",
       "      <td>1985</td>\n",
       "      <td>Action</td>\n",
       "      <td>0.0</td>\n",
       "      <td>0.0</td>\n",
       "      <td>0.02</td>\n",
       "      <td>0.0</td>\n",
       "      <td>NaN</td>\n",
       "      <td>NaN</td>\n",
       "      <td>NaN</td>\n",
       "      <td>0.02</td>\n",
       "    </tr>\n",
       "  </tbody>\n",
       "</table>\n",
       "</div>"
      ],
      "text/plain": [
       "                                      name platform  year_of_release   genre  \\\n",
       "15957  Strongest Tokyo University Shogi DS       DS             1985  Action   \n",
       "\n",
       "       na_sales  eu_sales  jp_sales  other_sales  critic_score  user_score  \\\n",
       "15957       0.0       0.0      0.02          0.0           NaN         NaN   \n",
       "\n",
       "      rating  total_sales  \n",
       "15957    NaN         0.02  "
      ]
     },
     "execution_count": 30,
     "metadata": {},
     "output_type": "execute_result"
    }
   ],
   "source": [
    "df[(df['platform'] == 'DS') & (df['year_of_release'] < 2004)]"
   ]
  },
  {
   "cell_type": "markdown",
   "metadata": {},
   "source": [
    "Тут ошибка или в платформе или в годе выпуска. Но не смотря на этот артефакт, остальной график информативен и правдив.\n",
    "\n",
    "Отсутствие спада на графике PS4 объясняется тем, что консоль вышла только в 2013 году и еще не достигла пика своей популярности.\n",
    "\n",
    "Ситуация с Nintendo 3DS самая интересная. Традиционно игровые консоли выпускаются в конце года, перед праздничным новогодне-рождественским сезоном. От того в первый год существования консоли продажи игр не велики. Однако Nintendo 3DS была выпущена в феврале-марте 2011 года. Поэтому к концу 2011 года приставка успела набрать продаж. От того и график продаж на ней не начинается с \"подъема в горку\"."
   ]
  },
  {
   "cell_type": "markdown",
   "metadata": {},
   "source": [
    "---\n",
    "Исходя из всего этого, я считаю, что актуальным периодом нужно взять 3 предыдущих года (2014, 2015 и 2016). На таком промежутке видно, набирает ли платформа популярность, находится на пике своей популярности или же отживает последние годы.\n",
    "\n",
    "Создадим новый датасет, в который войдут данные за три последних года."
   ]
  },
  {
   "cell_type": "code",
   "execution_count": 31,
   "metadata": {},
   "outputs": [],
   "source": [
    "df_new = df[df['year_of_release'] >= 2014]"
   ]
  },
  {
   "cell_type": "code",
   "execution_count": 32,
   "metadata": {
    "scrolled": false
   },
   "outputs": [
    {
     "data": {
      "image/png": "[encoded data removed]",
      "text/plain": [
       "<Figure size 432x288 with 1 Axes>"
      ]
     },
     "metadata": {
      "needs_background": "light"
     },
     "output_type": "display_data"
    },
    {
     "data": {
      "image/png": "[encoded data removed]",
      "text/plain": [
       "<Figure size 432x288 with 1 Axes>"
      ]
     },
     "metadata": {
      "needs_background": "light"
     },
     "output_type": "display_data"
    },
    {
     "data": {
      "image/png": "[encoded data removed]",
      "text/plain": [
       "<Figure size 432x288 with 1 Axes>"
      ]
     },
     "metadata": {
      "needs_background": "light"
     },
     "output_type": "display_data"
    },
    {
     "data": {
      "image/png": "[encoded data removed]",
      "text/plain": [
       "<Figure size 432x288 with 1 Axes>"
      ]
     },
     "metadata": {
      "needs_background": "light"
     },
     "output_type": "display_data"
    },
    {
     "data": {
      "image/png": "[encoded data removed]",
      "text/plain": [
       "<Figure size 432x288 with 1 Axes>"
      ]
     },
     "metadata": {
      "needs_background": "light"
     },
     "output_type": "display_data"
    },
    {
     "data": {
      "image/png": "[encoded data removed]",
      "text/plain": [
       "<Figure size 432x288 with 1 Axes>"
      ]
     },
     "metadata": {
      "needs_background": "light"
     },
     "output_type": "display_data"
    },
    {
     "data": {
      "image/png": "[encoded data removed]",
      "text/plain": [
       "<Figure size 432x288 with 1 Axes>"
      ]
     },
     "metadata": {
      "needs_background": "light"
     },
     "output_type": "display_data"
    },
    {
     "data": {
      "image/png": "[encoded data removed]",
      "text/plain": [
       "<Figure size 432x288 with 1 Axes>"
      ]
     },
     "metadata": {
      "needs_background": "light"
     },
     "output_type": "display_data"
    },
    {
     "data": {
      "image/png": "[encoded data removed]",
      "text/plain": [
       "<Figure size 432x288 with 1 Axes>"
      ]
     },
     "metadata": {
      "needs_background": "light"
     },
     "output_type": "display_data"
    },
    {
     "data": {
      "image/png": "[encoded data removed]",
      "text/plain": [
       "<Figure size 432x288 with 1 Axes>"
      ]
     },
     "metadata": {
      "needs_background": "light"
     },
     "output_type": "display_data"
    }
   ],
   "source": [
    "platforms = df_new['platform'].unique()\n",
    "for platform in platforms:\n",
    "    df_new[df_new['platform'] == platform]['year_of_release'].value_counts().sort_index().plot(title='Продажи игр на '+platform+' за предыдущие три года (млн. экз.)', kind='bar', grid=True)\n",
    "    plt.show()"
   ]
  },
  {
   "cell_type": "markdown",
   "metadata": {},
   "source": [
    "Потенциально прибыльные платформы это те, продажи у которых в последние три года растут или как мининимум не перешли в этап снижения.\n",
    "\n",
    "Исходя из этого, потенциально прибыльные платформы:\n",
    "* PS4 (Sony PlayStation 4)\n",
    "* PSV (Sony PlayStation Vita)\n",
    "* XONE (Microsoft Xbox One)\n",
    "* 3DS (Nintendo 3DS)\n",
    "* PC\n",
    "\n",
    "Кроме того, все эти платформы (кроме очевидной PC) являются самыми актуальными у своих производителей."
   ]
  },
  {
   "cell_type": "markdown",
   "metadata": {},
   "source": [
    "---\n",
    "Создадим список популярных платформ и в цикле построим графики распределения продаж на каждой платформе."
   ]
  },
  {
   "cell_type": "code",
   "execution_count": 39,
   "metadata": {
    "scrolled": false
   },
   "outputs": [
    {
     "data": {
      "text/plain": [
       "(0, 3.5)"
      ]
     },
     "execution_count": 39,
     "metadata": {},
     "output_type": "execute_result"
    },
    {
     "data": {
      "image/png": "[encoded data removed]",
      "text/plain": [
       "<Figure size 720x576 with 1 Axes>"
      ]
     },
     "metadata": {
      "needs_background": "light"
     },
     "output_type": "display_data"
    }
   ],
   "source": [
    "dimport warnings\n",
    "warnings.filterwarnings('ignore')\n",
    "\n",
    "df_new.boxplot('total_sales', by='platform', figsize=(10,8))\n",
    "\n",
    "plt.ylim(0,3.5)"
   ]
  },
  {
   "cell_type": "markdown",
   "metadata": {},
   "source": [
    "На всех платформах одна и та же картина. Большинство игр продаются в области среднего, но на каждой платформе есть игры, которые продаются значительно лучше остальных, хиты, ААА-игры.  \n",
    "При чем на почти всех выбранных нами потенциально прибыльных платформах (PS4, PC, XONE, 3DS) эти игры продаются на столько лучше, что среднее значение продаж отличается от медианного в 2-4 раза.\n",
    "\n",
    "---\n",
    "Посмотрим, что за игры так хорошо продаются. Для этого возьмем игры, продавшиеся лучше 99 % всех остальных игр в датасете."
   ]
  },
  {
   "cell_type": "code",
   "execution_count": 36,
   "metadata": {},
   "outputs": [
    {
     "data": {
      "text/plain": [
       "count    1689.000000\n",
       "mean        0.431883\n",
       "std         1.056109\n",
       "min         0.010000\n",
       "1%          0.010000\n",
       "5%          0.010000\n",
       "25%         0.030000\n",
       "50%         0.100000\n",
       "75%         0.350000\n",
       "95%         1.916000\n",
       "99%         5.261200\n",
       "max        14.630000\n",
       "Name: total_sales, dtype: float64"
      ]
     },
     "execution_count": 36,
     "metadata": {},
     "output_type": "execute_result"
    }
   ],
   "source": [
    " df_new['total_sales'].describe(percentiles = [.01, .05, .25, .5, .75, .95, .99])"
   ]
  },
  {
   "cell_type": "code",
   "execution_count": 37,
   "metadata": {},
   "outputs": [
    {
     "data": {
      "text/html": [
       "<div>\n",
       "<style scoped>\n",
       "    .dataframe tbody tr th:only-of-type {\n",
       "        vertical-align: middle;\n",
       "    }\n",
       "\n",
       "    .dataframe tbody tr th {\n",
       "        vertical-align: top;\n",
       "    }\n",
       "\n",
       "    .dataframe thead th {\n",
       "        text-align: right;\n",
       "    }\n",
       "</style>\n",
       "<table border=\"1\" class=\"dataframe\">\n",
       "  <thead>\n",
       "    <tr style=\"text-align: right;\">\n",
       "      <th></th>\n",
       "      <th>name</th>\n",
       "      <th>platform</th>\n",
       "      <th>year_of_release</th>\n",
       "      <th>genre</th>\n",
       "      <th>na_sales</th>\n",
       "      <th>eu_sales</th>\n",
       "      <th>jp_sales</th>\n",
       "      <th>other_sales</th>\n",
       "      <th>critic_score</th>\n",
       "      <th>user_score</th>\n",
       "      <th>rating</th>\n",
       "      <th>total_sales</th>\n",
       "    </tr>\n",
       "  </thead>\n",
       "  <tbody>\n",
       "    <tr>\n",
       "      <td>31</td>\n",
       "      <td>Call of Duty: Black Ops 3</td>\n",
       "      <td>PS4</td>\n",
       "      <td>2015</td>\n",
       "      <td>Shooter</td>\n",
       "      <td>6.03</td>\n",
       "      <td>5.86</td>\n",
       "      <td>0.36</td>\n",
       "      <td>2.38</td>\n",
       "      <td>NaN</td>\n",
       "      <td>NaN</td>\n",
       "      <td>NaN</td>\n",
       "      <td>14.63</td>\n",
       "    </tr>\n",
       "    <tr>\n",
       "      <td>42</td>\n",
       "      <td>Grand Theft Auto V</td>\n",
       "      <td>PS4</td>\n",
       "      <td>2014</td>\n",
       "      <td>Action</td>\n",
       "      <td>3.96</td>\n",
       "      <td>6.31</td>\n",
       "      <td>0.38</td>\n",
       "      <td>1.97</td>\n",
       "      <td>97.0</td>\n",
       "      <td>8.3</td>\n",
       "      <td>M</td>\n",
       "      <td>12.62</td>\n",
       "    </tr>\n",
       "    <tr>\n",
       "      <td>47</td>\n",
       "      <td>Pokemon Omega Ruby/Pokemon Alpha Sapphire</td>\n",
       "      <td>3DS</td>\n",
       "      <td>2014</td>\n",
       "      <td>Role-Playing</td>\n",
       "      <td>4.35</td>\n",
       "      <td>3.49</td>\n",
       "      <td>3.10</td>\n",
       "      <td>0.74</td>\n",
       "      <td>NaN</td>\n",
       "      <td>NaN</td>\n",
       "      <td>NaN</td>\n",
       "      <td>11.68</td>\n",
       "    </tr>\n",
       "    <tr>\n",
       "      <td>77</td>\n",
       "      <td>FIFA 16</td>\n",
       "      <td>PS4</td>\n",
       "      <td>2015</td>\n",
       "      <td>Sports</td>\n",
       "      <td>1.12</td>\n",
       "      <td>6.12</td>\n",
       "      <td>0.06</td>\n",
       "      <td>1.28</td>\n",
       "      <td>82.0</td>\n",
       "      <td>4.3</td>\n",
       "      <td>E</td>\n",
       "      <td>8.58</td>\n",
       "    </tr>\n",
       "    <tr>\n",
       "      <td>87</td>\n",
       "      <td>Star Wars Battlefront (2015)</td>\n",
       "      <td>PS4</td>\n",
       "      <td>2015</td>\n",
       "      <td>Shooter</td>\n",
       "      <td>2.99</td>\n",
       "      <td>3.49</td>\n",
       "      <td>0.22</td>\n",
       "      <td>1.28</td>\n",
       "      <td>NaN</td>\n",
       "      <td>NaN</td>\n",
       "      <td>NaN</td>\n",
       "      <td>7.98</td>\n",
       "    </tr>\n",
       "    <tr>\n",
       "      <td>92</td>\n",
       "      <td>Call of Duty: Advanced Warfare</td>\n",
       "      <td>PS4</td>\n",
       "      <td>2014</td>\n",
       "      <td>Shooter</td>\n",
       "      <td>2.81</td>\n",
       "      <td>3.48</td>\n",
       "      <td>0.14</td>\n",
       "      <td>1.23</td>\n",
       "      <td>83.0</td>\n",
       "      <td>5.7</td>\n",
       "      <td>M</td>\n",
       "      <td>7.66</td>\n",
       "    </tr>\n",
       "    <tr>\n",
       "      <td>94</td>\n",
       "      <td>FIFA 17</td>\n",
       "      <td>PS4</td>\n",
       "      <td>2016</td>\n",
       "      <td>Sports</td>\n",
       "      <td>0.66</td>\n",
       "      <td>5.75</td>\n",
       "      <td>0.08</td>\n",
       "      <td>1.11</td>\n",
       "      <td>85.0</td>\n",
       "      <td>5.0</td>\n",
       "      <td>E</td>\n",
       "      <td>7.60</td>\n",
       "    </tr>\n",
       "    <tr>\n",
       "      <td>96</td>\n",
       "      <td>Super Smash Bros. for Wii U and 3DS</td>\n",
       "      <td>3DS</td>\n",
       "      <td>2014</td>\n",
       "      <td>Fighting</td>\n",
       "      <td>3.27</td>\n",
       "      <td>1.37</td>\n",
       "      <td>2.43</td>\n",
       "      <td>0.48</td>\n",
       "      <td>NaN</td>\n",
       "      <td>NaN</td>\n",
       "      <td>NaN</td>\n",
       "      <td>7.55</td>\n",
       "    </tr>\n",
       "    <tr>\n",
       "      <td>99</td>\n",
       "      <td>Call of Duty: Black Ops 3</td>\n",
       "      <td>XOne</td>\n",
       "      <td>2015</td>\n",
       "      <td>Shooter</td>\n",
       "      <td>4.59</td>\n",
       "      <td>2.11</td>\n",
       "      <td>0.01</td>\n",
       "      <td>0.68</td>\n",
       "      <td>NaN</td>\n",
       "      <td>NaN</td>\n",
       "      <td>NaN</td>\n",
       "      <td>7.39</td>\n",
       "    </tr>\n",
       "    <tr>\n",
       "      <td>105</td>\n",
       "      <td>Fallout 4</td>\n",
       "      <td>PS4</td>\n",
       "      <td>2015</td>\n",
       "      <td>Role-Playing</td>\n",
       "      <td>2.53</td>\n",
       "      <td>3.27</td>\n",
       "      <td>0.24</td>\n",
       "      <td>1.13</td>\n",
       "      <td>87.0</td>\n",
       "      <td>6.5</td>\n",
       "      <td>M</td>\n",
       "      <td>7.17</td>\n",
       "    </tr>\n",
       "    <tr>\n",
       "      <td>108</td>\n",
       "      <td>Pokemon Sun/Moon</td>\n",
       "      <td>3DS</td>\n",
       "      <td>2016</td>\n",
       "      <td>Role-Playing</td>\n",
       "      <td>2.98</td>\n",
       "      <td>1.45</td>\n",
       "      <td>2.26</td>\n",
       "      <td>0.45</td>\n",
       "      <td>NaN</td>\n",
       "      <td>NaN</td>\n",
       "      <td>NaN</td>\n",
       "      <td>7.14</td>\n",
       "    </tr>\n",
       "    <tr>\n",
       "      <td>110</td>\n",
       "      <td>Mario Kart 8</td>\n",
       "      <td>WiiU</td>\n",
       "      <td>2014</td>\n",
       "      <td>Racing</td>\n",
       "      <td>3.15</td>\n",
       "      <td>2.15</td>\n",
       "      <td>1.28</td>\n",
       "      <td>0.51</td>\n",
       "      <td>88.0</td>\n",
       "      <td>9.1</td>\n",
       "      <td>E</td>\n",
       "      <td>7.09</td>\n",
       "    </tr>\n",
       "    <tr>\n",
       "      <td>143</td>\n",
       "      <td>FIFA 15</td>\n",
       "      <td>PS4</td>\n",
       "      <td>2014</td>\n",
       "      <td>Sports</td>\n",
       "      <td>0.80</td>\n",
       "      <td>4.33</td>\n",
       "      <td>0.05</td>\n",
       "      <td>0.90</td>\n",
       "      <td>82.0</td>\n",
       "      <td>5.7</td>\n",
       "      <td>E</td>\n",
       "      <td>6.08</td>\n",
       "    </tr>\n",
       "    <tr>\n",
       "      <td>154</td>\n",
       "      <td>Destiny</td>\n",
       "      <td>PS4</td>\n",
       "      <td>2014</td>\n",
       "      <td>Shooter</td>\n",
       "      <td>2.49</td>\n",
       "      <td>2.07</td>\n",
       "      <td>0.16</td>\n",
       "      <td>0.92</td>\n",
       "      <td>76.0</td>\n",
       "      <td>6.1</td>\n",
       "      <td>T</td>\n",
       "      <td>5.64</td>\n",
       "    </tr>\n",
       "    <tr>\n",
       "      <td>165</td>\n",
       "      <td>Grand Theft Auto V</td>\n",
       "      <td>XOne</td>\n",
       "      <td>2014</td>\n",
       "      <td>Action</td>\n",
       "      <td>2.81</td>\n",
       "      <td>2.19</td>\n",
       "      <td>0.00</td>\n",
       "      <td>0.47</td>\n",
       "      <td>97.0</td>\n",
       "      <td>7.9</td>\n",
       "      <td>M</td>\n",
       "      <td>5.47</td>\n",
       "    </tr>\n",
       "    <tr>\n",
       "      <td>171</td>\n",
       "      <td>Uncharted 4: A Thief's End</td>\n",
       "      <td>PS4</td>\n",
       "      <td>2016</td>\n",
       "      <td>Shooter</td>\n",
       "      <td>1.85</td>\n",
       "      <td>2.50</td>\n",
       "      <td>0.19</td>\n",
       "      <td>0.85</td>\n",
       "      <td>93.0</td>\n",
       "      <td>7.9</td>\n",
       "      <td>T</td>\n",
       "      <td>5.39</td>\n",
       "    </tr>\n",
       "    <tr>\n",
       "      <td>179</td>\n",
       "      <td>Call of Duty: Advanced Warfare</td>\n",
       "      <td>XOne</td>\n",
       "      <td>2014</td>\n",
       "      <td>Shooter</td>\n",
       "      <td>3.22</td>\n",
       "      <td>1.55</td>\n",
       "      <td>0.01</td>\n",
       "      <td>0.48</td>\n",
       "      <td>81.0</td>\n",
       "      <td>5.4</td>\n",
       "      <td>M</td>\n",
       "      <td>5.26</td>\n",
       "    </tr>\n",
       "    <tr>\n",
       "      <td>180</td>\n",
       "      <td>Minecraft</td>\n",
       "      <td>PS3</td>\n",
       "      <td>2014</td>\n",
       "      <td>Misc</td>\n",
       "      <td>2.03</td>\n",
       "      <td>2.37</td>\n",
       "      <td>0.00</td>\n",
       "      <td>0.87</td>\n",
       "      <td>NaN</td>\n",
       "      <td>NaN</td>\n",
       "      <td>NaN</td>\n",
       "      <td>5.27</td>\n",
       "    </tr>\n",
       "  </tbody>\n",
       "</table>\n",
       "</div>"
      ],
      "text/plain": [
       "                                          name platform  year_of_release  \\\n",
       "31                   Call of Duty: Black Ops 3      PS4             2015   \n",
       "42                          Grand Theft Auto V      PS4             2014   \n",
       "47   Pokemon Omega Ruby/Pokemon Alpha Sapphire      3DS             2014   \n",
       "77                                     FIFA 16      PS4             2015   \n",
       "87                Star Wars Battlefront (2015)      PS4             2015   \n",
       "92              Call of Duty: Advanced Warfare      PS4             2014   \n",
       "94                                     FIFA 17      PS4             2016   \n",
       "96         Super Smash Bros. for Wii U and 3DS      3DS             2014   \n",
       "99                   Call of Duty: Black Ops 3     XOne             2015   \n",
       "105                                  Fallout 4      PS4             2015   \n",
       "108                           Pokemon Sun/Moon      3DS             2016   \n",
       "110                               Mario Kart 8     WiiU             2014   \n",
       "143                                    FIFA 15      PS4             2014   \n",
       "154                                    Destiny      PS4             2014   \n",
       "165                         Grand Theft Auto V     XOne             2014   \n",
       "171                 Uncharted 4: A Thief's End      PS4             2016   \n",
       "179             Call of Duty: Advanced Warfare     XOne             2014   \n",
       "180                                  Minecraft      PS3             2014   \n",
       "\n",
       "            genre  na_sales  eu_sales  jp_sales  other_sales  critic_score  \\\n",
       "31        Shooter      6.03      5.86      0.36         2.38           NaN   \n",
       "42         Action      3.96      6.31      0.38         1.97          97.0   \n",
       "47   Role-Playing      4.35      3.49      3.10         0.74           NaN   \n",
       "77         Sports      1.12      6.12      0.06         1.28          82.0   \n",
       "87        Shooter      2.99      3.49      0.22         1.28           NaN   \n",
       "92        Shooter      2.81      3.48      0.14         1.23          83.0   \n",
       "94         Sports      0.66      5.75      0.08         1.11          85.0   \n",
       "96       Fighting      3.27      1.37      2.43         0.48           NaN   \n",
       "99        Shooter      4.59      2.11      0.01         0.68           NaN   \n",
       "105  Role-Playing      2.53      3.27      0.24         1.13          87.0   \n",
       "108  Role-Playing      2.98      1.45      2.26         0.45           NaN   \n",
       "110        Racing      3.15      2.15      1.28         0.51          88.0   \n",
       "143        Sports      0.80      4.33      0.05         0.90          82.0   \n",
       "154       Shooter      2.49      2.07      0.16         0.92          76.0   \n",
       "165        Action      2.81      2.19      0.00         0.47          97.0   \n",
       "171       Shooter      1.85      2.50      0.19         0.85          93.0   \n",
       "179       Shooter      3.22      1.55      0.01         0.48          81.0   \n",
       "180          Misc      2.03      2.37      0.00         0.87           NaN   \n",
       "\n",
       "     user_score rating  total_sales  \n",
       "31          NaN    NaN        14.63  \n",
       "42          8.3      M        12.62  \n",
       "47          NaN    NaN        11.68  \n",
       "77          4.3      E         8.58  \n",
       "87          NaN    NaN         7.98  \n",
       "92          5.7      M         7.66  \n",
       "94          5.0      E         7.60  \n",
       "96          NaN    NaN         7.55  \n",
       "99          NaN    NaN         7.39  \n",
       "105         6.5      M         7.17  \n",
       "108         NaN    NaN         7.14  \n",
       "110         9.1      E         7.09  \n",
       "143         5.7      E         6.08  \n",
       "154         6.1      T         5.64  \n",
       "165         7.9      M         5.47  \n",
       "171         7.9      T         5.39  \n",
       "179         5.4      M         5.26  \n",
       "180         NaN    NaN         5.27  "
      ]
     },
     "execution_count": 37,
     "metadata": {},
     "output_type": "execute_result"
    }
   ],
   "source": [
    "top_sales = df_new[df_new['total_sales'] > 5.2]\n",
    "top_sales"
   ]
  },
  {
   "cell_type": "markdown",
   "metadata": {},
   "source": [
    "Проанализируем средние значения оценок критиков и пользователей, а так же возрастной рейтинг этих игр, к каким жанрам они относятся и на каких плтформах представлены."
   ]
  },
  {
   "cell_type": "code",
   "execution_count": 38,
   "metadata": {},
   "outputs": [
    {
     "data": {
      "text/plain": [
       "PS4     10\n",
       "XOne     3\n",
       "3DS      3\n",
       "WiiU     1\n",
       "PS3      1\n",
       "Name: platform, dtype: int64"
      ]
     },
     "execution_count": 38,
     "metadata": {},
     "output_type": "execute_result"
    }
   ],
   "source": [
    "top_sales['platform'].value_counts()"
   ]
  },
  {
   "cell_type": "code",
   "execution_count": 39,
   "metadata": {},
   "outputs": [
    {
     "data": {
      "text/plain": [
       "Shooter         7\n",
       "Sports          3\n",
       "Role-Playing    3\n",
       "Action          2\n",
       "Misc            1\n",
       "Racing          1\n",
       "Fighting        1\n",
       "Name: genre, dtype: int64"
      ]
     },
     "execution_count": 39,
     "metadata": {},
     "output_type": "execute_result"
    }
   ],
   "source": [
    "top_sales['genre'].value_counts()"
   ]
  },
  {
   "cell_type": "code",
   "execution_count": 40,
   "metadata": {},
   "outputs": [
    {
     "data": {
      "text/plain": [
       "86.45454545454545"
      ]
     },
     "execution_count": 40,
     "metadata": {},
     "output_type": "execute_result"
    }
   ],
   "source": [
    "top_sales['critic_score'].mean()"
   ]
  },
  {
   "cell_type": "code",
   "execution_count": 41,
   "metadata": {},
   "outputs": [
    {
     "data": {
      "text/plain": [
       "6.536363636363637"
      ]
     },
     "execution_count": 41,
     "metadata": {},
     "output_type": "execute_result"
    }
   ],
   "source": [
    "top_sales['user_score'].mean()"
   ]
  },
  {
   "cell_type": "code",
   "execution_count": 42,
   "metadata": {},
   "outputs": [
    {
     "data": {
      "text/plain": [
       "M    5\n",
       "E    4\n",
       "T    2\n",
       "Name: rating, dtype: int64"
      ]
     },
     "execution_count": 42,
     "metadata": {},
     "output_type": "execute_result"
    }
   ],
   "source": [
    "top_sales['rating'].value_counts()"
   ]
  },
  {
   "cell_type": "markdown",
   "metadata": {},
   "source": [
    "Получается, самые продаваемые игры это преимущественно игры, выходящие на PS4, в жанре Shooter, для возрастной категории M — Mature 17+. В среднем эти игры имеют достаточно хороший рейтинг у критиков, но посредственный рейтинг у игроков."
   ]
  },
  {
   "cell_type": "markdown",
   "metadata": {},
   "source": [
    "---\n",
    "В цикле для каждой платформы проанализируем корреляцию между продажами игр и оценками критиков и пользователей. Кроме того построим диаграммы рассеяния по этим параметрам."
   ]
  },
  {
   "cell_type": "code",
   "execution_count": 43,
   "metadata": {
    "scrolled": false
   },
   "outputs": [
    {
     "name": "stdout",
     "output_type": "stream",
     "text": [
      "Корреляция между оценками пользователей и продажами на PS4 равна: -0.04\n",
      "Корреляция между оценками критиков и продажами на PS4 равна: 0.40\n"
     ]
    },
    {
     "data": {
      "image/png": "[encoded data removed]",
      "text/plain": [
       "<Figure size 432x288 with 1 Axes>"
      ]
     },
     "metadata": {
      "needs_background": "light"
     },
     "output_type": "display_data"
    },
    {
     "data": {
      "image/png": "[encoded data removed]",
      "text/plain": [
       "<Figure size 432x288 with 1 Axes>"
      ]
     },
     "metadata": {
      "needs_background": "light"
     },
     "output_type": "display_data"
    },
    {
     "name": "stdout",
     "output_type": "stream",
     "text": [
      "Корреляция между оценками пользователей и продажами на PSV равна: -0.17\n",
      "Корреляция между оценками критиков и продажами на PSV равна: 0.04\n"
     ]
    },
    {
     "data": {
      "image/png": "[encoded data removed]",
      "text/plain": [
       "<Figure size 432x288 with 1 Axes>"
      ]
     },
     "metadata": {
      "needs_background": "light"
     },
     "output_type": "display_data"
    },
    {
     "data": {
      "image/png": "[encoded data removed]",
      "text/plain": [
       "<Figure size 432x288 with 1 Axes>"
      ]
     },
     "metadata": {
      "needs_background": "light"
     },
     "output_type": "display_data"
    },
    {
     "name": "stdout",
     "output_type": "stream",
     "text": [
      "Корреляция между оценками пользователей и продажами на XOne равна: -0.07\n",
      "Корреляция между оценками критиков и продажами на XOne равна: 0.43\n"
     ]
    },
    {
     "data": {
      "image/png": "[encoded data removed]",
      "text/plain": [
       "<Figure size 432x288 with 1 Axes>"
      ]
     },
     "metadata": {
      "needs_background": "light"
     },
     "output_type": "display_data"
    },
    {
     "data": {
      "image/png": "[encoded data removed]",
      "text/plain": [
       "<Figure size 432x288 with 1 Axes>"
      ]
     },
     "metadata": {
      "needs_background": "light"
     },
     "output_type": "display_data"
    },
    {
     "name": "stdout",
     "output_type": "stream",
     "text": [
      "Корреляция между оценками пользователей и продажами на 3DS равна: 0.22\n",
      "Корреляция между оценками критиков и продажами на 3DS равна: 0.31\n"
     ]
    },
    {
     "data": {
      "image/png": "[encoded data removed]",
      "text/plain": [
       "<Figure size 432x288 with 1 Axes>"
      ]
     },
     "metadata": {
      "needs_background": "light"
     },
     "output_type": "display_data"
    },
    {
     "data": {
      "image/png": "[encoded data removed]",
      "text/plain": [
       "<Figure size 432x288 with 1 Axes>"
      ]
     },
     "metadata": {
      "needs_background": "light"
     },
     "output_type": "display_data"
    },
    {
     "name": "stdout",
     "output_type": "stream",
     "text": [
      "Корреляция между оценками пользователей и продажами на PC равна: -0.07\n",
      "Корреляция между оценками критиков и продажами на PC равна: 0.17\n"
     ]
    },
    {
     "data": {
      "image/png": "[encoded data removed]",
      "text/plain": [
       "<Figure size 432x288 with 1 Axes>"
      ]
     },
     "metadata": {
      "needs_background": "light"
     },
     "output_type": "display_data"
    },
    {
     "data": {
      "image/png": "[encoded data removed]",
      "text/plain": [
       "<Figure size 432x288 with 1 Axes>"
      ]
     },
     "metadata": {
      "needs_background": "light"
     },
     "output_type": "display_data"
    }
   ],
   "source": [
    "for platform in pop_platforms:   \n",
    "    df_new[df_new['platform'] == platform].plot(y='user_score', x='total_sales', title='Корреляция между оценками пользователей и продажами на '+platform, kind='scatter', grid=True, color='cornflowerblue')\n",
    "    df_new[df_new['platform'] == platform].plot(y='critic_score', x='total_sales', title='Корреляция между оценками критиков и продажами на '+platform, kind='scatter', grid=True, color='indianred')\n",
    "    print('Корреляция между оценками пользователей и продажами на '+platform+' равна: {:.2f}'.format(df_new[df_new['platform'] == platform]['user_score'].corr(df_new[df_new['platform'] == platform]['total_sales'])))\n",
    "    print('Корреляция между оценками критиков и продажами на '+platform+' равна: {:.2f}'.format(df_new[df_new['platform'] == platform]['critic_score'].corr(df_new[df_new['platform'] == platform]['total_sales'])))\n",
    "    plt.show()"
   ]
  },
  {
   "cell_type": "markdown",
   "metadata": {},
   "source": [
    "Корреляции между продажами и оценками критиков или пользователей слабая, а часто её нет вовсе. Честно говоря, мне это показалось странным.\n",
    "\n",
    "Если низкую корреляцию продаж и отзывов критиков я бы мог объяснить купленными отзывами, то низкая корреляция продаж и оценок пользователей очень неожиданна. Пользователи в первую очередь голосуют своим кошельком и оценки, как мне казалось, должны соответствовать.\n",
    "\n",
    "Можно было бы предположить, что у издателей игр очень хорошо работают маркетологи, которые обеспечивают хорошие продажи, а потом пользователи разочаровываются в купленных играх. Однако, на горизонте трех лет, который мы выбрали, эффект хороших стартовых продаж должен выравниваться."
   ]
  },
  {
   "cell_type": "markdown",
   "metadata": {},
   "source": [
    "---\n",
    "Посмотрим, какие жанры являются наиболее и наименее прибыльными."
   ]
  },
  {
   "cell_type": "code",
   "execution_count": 44,
   "metadata": {
    "scrolled": false
   },
   "outputs": [
    {
     "data": {
      "text/html": [
       "<div>\n",
       "<style scoped>\n",
       "    .dataframe tbody tr th:only-of-type {\n",
       "        vertical-align: middle;\n",
       "    }\n",
       "\n",
       "    .dataframe tbody tr th {\n",
       "        vertical-align: top;\n",
       "    }\n",
       "\n",
       "    .dataframe thead th {\n",
       "        text-align: right;\n",
       "    }\n",
       "</style>\n",
       "<table border=\"1\" class=\"dataframe\">\n",
       "  <thead>\n",
       "    <tr style=\"text-align: right;\">\n",
       "      <th></th>\n",
       "      <th>total_sales</th>\n",
       "    </tr>\n",
       "    <tr>\n",
       "      <th>genre</th>\n",
       "      <th></th>\n",
       "    </tr>\n",
       "  </thead>\n",
       "  <tbody>\n",
       "    <tr>\n",
       "      <td>Action</td>\n",
       "      <td>199.36</td>\n",
       "    </tr>\n",
       "    <tr>\n",
       "      <td>Shooter</td>\n",
       "      <td>170.94</td>\n",
       "    </tr>\n",
       "    <tr>\n",
       "      <td>Sports</td>\n",
       "      <td>109.48</td>\n",
       "    </tr>\n",
       "    <tr>\n",
       "      <td>Role-Playing</td>\n",
       "      <td>101.44</td>\n",
       "    </tr>\n",
       "    <tr>\n",
       "      <td>Misc</td>\n",
       "      <td>37.55</td>\n",
       "    </tr>\n",
       "    <tr>\n",
       "      <td>Fighting</td>\n",
       "      <td>28.22</td>\n",
       "    </tr>\n",
       "    <tr>\n",
       "      <td>Racing</td>\n",
       "      <td>27.52</td>\n",
       "    </tr>\n",
       "    <tr>\n",
       "      <td>Platform</td>\n",
       "      <td>18.09</td>\n",
       "    </tr>\n",
       "    <tr>\n",
       "      <td>Adventure</td>\n",
       "      <td>17.55</td>\n",
       "    </tr>\n",
       "    <tr>\n",
       "      <td>Simulation</td>\n",
       "      <td>13.13</td>\n",
       "    </tr>\n",
       "    <tr>\n",
       "      <td>Strategy</td>\n",
       "      <td>3.96</td>\n",
       "    </tr>\n",
       "    <tr>\n",
       "      <td>Puzzle</td>\n",
       "      <td>2.21</td>\n",
       "    </tr>\n",
       "  </tbody>\n",
       "</table>\n",
       "</div>"
      ],
      "text/plain": [
       "              total_sales\n",
       "genre                    \n",
       "Action             199.36\n",
       "Shooter            170.94\n",
       "Sports             109.48\n",
       "Role-Playing       101.44\n",
       "Misc                37.55\n",
       "Fighting            28.22\n",
       "Racing              27.52\n",
       "Platform            18.09\n",
       "Adventure           17.55\n",
       "Simulation          13.13\n",
       "Strategy             3.96\n",
       "Puzzle               2.21"
      ]
     },
     "execution_count": 44,
     "metadata": {},
     "output_type": "execute_result"
    }
   ],
   "source": [
    "genres_sales = df_new.pivot_table(index='genre',\n",
    "                                  values='total_sales',\n",
    "                                  aggfunc='sum').sort_values(by='total_sales', ascending=False)\n",
    "genres_sales"
   ]
  },
  {
   "cell_type": "markdown",
   "metadata": {},
   "source": [
    "Три самых прибыльных жарна это Action, Shooter, Sports.  \n",
    "При чем жарн Action лидирует в том числе и потому, что является по сути собирательным для многих поджанров. Иногда в поджанры Action даже относят такие вполне самостоятельные и популярные жанры как Shooter, Fighting.  \n",
    "Игры жанра Sports выпускаются по лицензиям, в них используются внешности популярных спортсменов, названия реальных команд, да и сам по себе спорт вполне популярен.  \n",
    "Ну, а жанр Shooter популярен за счет своей иммерсивности с момента появления.\n",
    "\n",
    "В аутсайдерах жанры Simulation, Strategy и Puzzle. "
   ]
  },
  {
   "cell_type": "code",
   "execution_count": 45,
   "metadata": {},
   "outputs": [
    {
     "data": {
      "text/html": [
       "<div>\n",
       "<style scoped>\n",
       "    .dataframe tbody tr th:only-of-type {\n",
       "        vertical-align: middle;\n",
       "    }\n",
       "\n",
       "    .dataframe tbody tr th {\n",
       "        vertical-align: top;\n",
       "    }\n",
       "\n",
       "    .dataframe thead tr th {\n",
       "        text-align: left;\n",
       "    }\n",
       "\n",
       "    .dataframe thead tr:last-of-type th {\n",
       "        text-align: right;\n",
       "    }\n",
       "</style>\n",
       "<table border=\"1\" class=\"dataframe\">\n",
       "  <thead>\n",
       "    <tr>\n",
       "      <th></th>\n",
       "      <th>mean</th>\n",
       "      <th>median</th>\n",
       "    </tr>\n",
       "    <tr>\n",
       "      <th></th>\n",
       "      <th>total_sales</th>\n",
       "      <th>total_sales</th>\n",
       "    </tr>\n",
       "    <tr>\n",
       "      <th>genre</th>\n",
       "      <th></th>\n",
       "      <th></th>\n",
       "    </tr>\n",
       "  </thead>\n",
       "  <tbody>\n",
       "    <tr>\n",
       "      <td>Action</td>\n",
       "      <td>0.322068</td>\n",
       "      <td>0.090</td>\n",
       "    </tr>\n",
       "    <tr>\n",
       "      <td>Adventure</td>\n",
       "      <td>0.094865</td>\n",
       "      <td>0.030</td>\n",
       "    </tr>\n",
       "    <tr>\n",
       "      <td>Fighting</td>\n",
       "      <td>0.470333</td>\n",
       "      <td>0.125</td>\n",
       "    </tr>\n",
       "    <tr>\n",
       "      <td>Misc</td>\n",
       "      <td>0.332301</td>\n",
       "      <td>0.090</td>\n",
       "    </tr>\n",
       "    <tr>\n",
       "      <td>Platform</td>\n",
       "      <td>0.476053</td>\n",
       "      <td>0.140</td>\n",
       "    </tr>\n",
       "    <tr>\n",
       "      <td>Puzzle</td>\n",
       "      <td>0.157857</td>\n",
       "      <td>0.045</td>\n",
       "    </tr>\n",
       "    <tr>\n",
       "      <td>Racing</td>\n",
       "      <td>0.398841</td>\n",
       "      <td>0.090</td>\n",
       "    </tr>\n",
       "    <tr>\n",
       "      <td>Role-Playing</td>\n",
       "      <td>0.459005</td>\n",
       "      <td>0.110</td>\n",
       "    </tr>\n",
       "    <tr>\n",
       "      <td>Shooter</td>\n",
       "      <td>1.335469</td>\n",
       "      <td>0.515</td>\n",
       "    </tr>\n",
       "    <tr>\n",
       "      <td>Simulation</td>\n",
       "      <td>0.298409</td>\n",
       "      <td>0.100</td>\n",
       "    </tr>\n",
       "    <tr>\n",
       "      <td>Sports</td>\n",
       "      <td>0.680000</td>\n",
       "      <td>0.180</td>\n",
       "    </tr>\n",
       "    <tr>\n",
       "      <td>Strategy</td>\n",
       "      <td>0.107027</td>\n",
       "      <td>0.060</td>\n",
       "    </tr>\n",
       "  </tbody>\n",
       "</table>\n",
       "</div>"
      ],
      "text/plain": [
       "                    mean      median\n",
       "             total_sales total_sales\n",
       "genre                               \n",
       "Action          0.322068       0.090\n",
       "Adventure       0.094865       0.030\n",
       "Fighting        0.470333       0.125\n",
       "Misc            0.332301       0.090\n",
       "Platform        0.476053       0.140\n",
       "Puzzle          0.157857       0.045\n",
       "Racing          0.398841       0.090\n",
       "Role-Playing    0.459005       0.110\n",
       "Shooter         1.335469       0.515\n",
       "Simulation      0.298409       0.100\n",
       "Sports          0.680000       0.180\n",
       "Strategy        0.107027       0.060"
      ]
     },
     "execution_count": 45,
     "metadata": {},
     "output_type": "execute_result"
    }
   ],
   "source": [
    "genres_sales_mm = df_new.pivot_table(index='genre',\n",
    "                                  values='total_sales',\n",
    "                                  aggfunc=['mean','median'])\n",
    "genres_sales_mm"
   ]
  },
  {
   "cell_type": "code",
   "execution_count": 46,
   "metadata": {},
   "outputs": [
    {
     "data": {
      "text/html": [
       "<div>\n",
       "<style scoped>\n",
       "    .dataframe tbody tr th:only-of-type {\n",
       "        vertical-align: middle;\n",
       "    }\n",
       "\n",
       "    .dataframe tbody tr th {\n",
       "        vertical-align: top;\n",
       "    }\n",
       "\n",
       "    .dataframe thead tr th {\n",
       "        text-align: left;\n",
       "    }\n",
       "</style>\n",
       "<table border=\"1\" class=\"dataframe\">\n",
       "  <thead>\n",
       "    <tr>\n",
       "      <th></th>\n",
       "      <th></th>\n",
       "      <th>mean</th>\n",
       "      <th>median</th>\n",
       "    </tr>\n",
       "    <tr>\n",
       "      <th></th>\n",
       "      <th></th>\n",
       "      <th>total_sales</th>\n",
       "      <th>total_sales</th>\n",
       "    </tr>\n",
       "  </thead>\n",
       "  <tbody>\n",
       "    <tr>\n",
       "      <td>mean</td>\n",
       "      <td>total_sales</td>\n",
       "      <td>1.000000</td>\n",
       "      <td>0.971443</td>\n",
       "    </tr>\n",
       "    <tr>\n",
       "      <td>median</td>\n",
       "      <td>total_sales</td>\n",
       "      <td>0.971443</td>\n",
       "      <td>1.000000</td>\n",
       "    </tr>\n",
       "  </tbody>\n",
       "</table>\n",
       "</div>"
      ],
      "text/plain": [
       "                          mean      median\n",
       "                   total_sales total_sales\n",
       "mean   total_sales    1.000000    0.971443\n",
       "median total_sales    0.971443    1.000000"
      ]
     },
     "execution_count": 46,
     "metadata": {},
     "output_type": "execute_result"
    }
   ],
   "source": [
    "genres_sales_mm.corr()"
   ]
  },
  {
   "cell_type": "markdown",
   "metadata": {},
   "source": [
    "## Портрет пользователя для каждого региона\n",
    "[Содержание](#Содержание)"
   ]
  },
  {
   "cell_type": "markdown",
   "metadata": {},
   "source": [
    "Опишем портрет среднего пользователя каждого региона (NA — Северная Америка, EU — Европа, JP — Япония).\n",
    "\n",
    "Для этого в цикле подсчитаем следующие датасеты:\n",
    "\n",
    "* какую долю всех продаж в регионе занимает пять самых популярных платформ \n",
    "* продажи по пяти самым популярным жанрам в регионе\n",
    "* продажи в каждом регионе в зависимости от рейтинга"
   ]
  },
  {
   "cell_type": "code",
   "execution_count": 47,
   "metadata": {},
   "outputs": [],
   "source": [
    "df_new = df_new.fillna({'rating':'NO DATA'})"
   ]
  },
  {
   "cell_type": "code",
   "execution_count": 48,
   "metadata": {},
   "outputs": [],
   "source": [
    "regions = ['na_sales', 'eu_sales', 'jp_sales']"
   ]
  },
  {
   "cell_type": "code",
   "execution_count": 49,
   "metadata": {},
   "outputs": [
    {
     "name": "stdout",
     "output_type": "stream",
     "text": [
      "              part\n",
      "platform          \n",
      "PS4       0.347145\n",
      "XOne      0.286102\n",
      "X360      0.099627\n",
      "3DS       0.079701\n",
      "PS3       0.077624\n",
      "              na_sales\n",
      "genre                 \n",
      "Shooter          79.02\n",
      "Action           72.53\n",
      "Sports           46.13\n",
      "Role-Playing     33.47\n",
      "Misc             15.05\n",
      "         na_sales\n",
      "rating           \n",
      "M           96.42\n",
      "NO DATA     64.72\n",
      "E           50.74\n",
      "T           38.95\n",
      "E10+        33.23\n",
      "----------------\n",
      "              part\n",
      "platform          \n",
      "PS4       0.480420\n",
      "XOne      0.170866\n",
      "PS3       0.094355\n",
      "PC        0.066388\n",
      "3DS       0.059554\n",
      "              eu_sales\n",
      "genre                 \n",
      "Action           74.68\n",
      "Shooter          65.52\n",
      "Sports           45.73\n",
      "Role-Playing     28.17\n",
      "Racing           14.13\n",
      "         eu_sales\n",
      "rating           \n",
      "M           93.44\n",
      "NO DATA     58.95\n",
      "E           58.06\n",
      "T           34.07\n",
      "E10+        26.16\n",
      "----------------\n",
      "              part\n",
      "platform          \n",
      "3DS       0.475239\n",
      "PS4       0.161349\n",
      "PSV       0.156193\n",
      "PS3       0.120529\n",
      "WiiU      0.078526\n",
      "              jp_sales\n",
      "genre                 \n",
      "Role-Playing     31.16\n",
      "Action           29.58\n",
      "Fighting          6.37\n",
      "Misc              5.61\n",
      "Shooter           4.87\n",
      "         jp_sales\n",
      "rating           \n",
      "NO DATA     56.90\n",
      "T           14.78\n",
      "E            8.94\n",
      "M            8.01\n",
      "E10+         4.46\n",
      "----------------\n"
     ]
    }
   ],
   "source": [
    "for reg in regions:\n",
    "    pl_sum = df_new.pivot_table(index='platform', values=reg, aggfunc='sum').sort_values(by=reg, ascending=False).head(5)\n",
    "    pl_sum['part'] = (pl_sum[reg] / df_new.pivot_table(index='platform', values=reg, aggfunc='sum').sort_values(by=reg, ascending=False)[reg].sum())\n",
    "    print(pl_sum.drop(columns=reg))\n",
    "    print(df_new.pivot_table(index='genre', values=reg, aggfunc='sum').sort_values(by=reg, ascending=False).head(5))\n",
    "    print(df_new.pivot_table(index='rating', values=reg, aggfunc='sum').sort_values(by=reg, ascending=False))\n",
    "    print('----------------')"
   ]
  },
  {
   "cell_type": "markdown",
   "metadata": {},
   "source": [
    "Игры с пропусками в возрастных рейтингах на очень высоких позициях по продажам. Таких игр много в каждом регионе. Значительное количество игр не получает возрастных рейтингов. Кроме того, картина в Северной Америке и Европе одинаковая.\n",
    "    \n",
    "Но на общем фоне выделяется японский рынок, где игр без возрастного рейтинга больше половины. Это происходит из-за того, что ESRB — североамериканская организация, и локальные японские игры очень часто не получают возрастных рейтингов. И кроме того, возрастные рейтинги ESRB не сильно влияют на распространение игр в Японии."
   ]
  },
  {
   "cell_type": "markdown",
   "metadata": {},
   "source": [
    "Теперь по этим данным опишем портреты пользователей каждого региона:\n",
    "\n",
    "<b>Пользователи региона NA — Северная Америка.</b>\n",
    "\n",
    "* В регионе активно борются две самые актуальные на тот момент платформы Xbox One и PS4. PS4 лидирует, но перевес не большой. Консоли прошлого поколения Xbox 360 и PS3 постепенно теряют свои позиции.\n",
    "* У среднего пользователя региона почти с двукратным отрывом лидируют игры жанров Shooter и Action. Предпочтения в жанрах похожи на средние по всему датасету.\n",
    "* Пользователи предпочитают игры возрастной категории M — Mature 17+.\n",
    "\n",
    "<b>Пользователи региона EU — Европа.</b>\n",
    "\n",
    "* PS4 в этом регионе почти троекратно опережает Xbox One. Кроме того, консоль Microsoft прошлого поколения вообще не попала в пятерку. Вместо нее в пятерке лидеров PC.\n",
    "* Касательно жанров, предпочтения игроков данного региона в целом тоже соответствуют общемировным.\n",
    "* По возрастному рейтингу игроки региона так же предпочитают игры для взрослых, возрастной категории M — Mature 17+.\n",
    "\n",
    "<b>Пользователи региона EU — Европа.</b>\n",
    "\n",
    "* В отличие от всего мира, на японском рынке лидируют японские консоли. Платформы американцев из Microsoft вообще не попали в пятерку. Кроме того, в пятерке целых две платформы - портативные консоли. А 3DS и вовсе лидирует с огромным отрывом.\n",
    "* Жанровые предпочтения тоже заметно отличаются. В лидерах тут Role-Playing, при чем, если бы мы делали более подробный анализ, я уверен, что лидировали бы именно JRPG - японские ролевые игры, имеющие свои характерные отличия. Кроме того, в отличие от других регионов, в японии в пятерку популярных попал жанр Fighting, что не удивительно, для жанра, там и зародившегося.\n",
    "* Не смотря на популярность игр про единоборства и мордобой, в регионе лидируют по продажам игры для подростковой возрастной категории T — Teen."
   ]
  },
  {
   "cell_type": "markdown",
   "metadata": {},
   "source": [
    "## Проверка гипотез\n",
    "[Содержание](#Содержание)"
   ]
  },
  {
   "cell_type": "markdown",
   "metadata": {},
   "source": [
    "Проверим две гипотезы:\n",
    "\n",
    "* средние пользовательские рейтинги платформ Xbox One и PC одинаковые;\n",
    "* средние пользовательские рейтинги жанров Action и Sports разные.\n",
    "\n",
    "Для проверки гипотез мы будем использовать оригинальный датасет df.\n",
    "\n",
    "Гипотезы сформулируем таким образом, чтобы нулевая гипотеза заявляла о равенстве двух параметров, а альтернативная о неравенстве.\n",
    "\n",
    "Не смотря на то, что датасет у нас один, проверяемые выборки независимы, имеют разные размеры, поэтому будем использовать метод ttest_ind.\n",
    "\n",
    "Значение alpha возьмем 0,05."
   ]
  },
  {
   "cell_type": "markdown",
   "metadata": {},
   "source": [
    "Проверим первую гипотезу.  \n",
    "Нулевая гипотеза звучит так: \"<b>средние пользовательские рейтинги платформ Xbox One и PC одинаковые</b>\".  \n",
    "Альтернативная гипотеза будет звучать так: \"<b>средние пользовательские рейтинги платформ Xbox One и PC различны</b>\"."
   ]
  },
  {
   "cell_type": "code",
   "execution_count": 50,
   "metadata": {},
   "outputs": [
    {
     "name": "stdout",
     "output_type": "stream",
     "text": [
      "Пользовательские оценки игр на Xbox One\n",
      "\n",
      "Среднее значение: 6.594545454545454\n",
      "Дисперсия: 1.879546005509642\n",
      "Стандартное отклонение: 1.3709653553280046\n"
     ]
    }
   ],
   "source": [
    "print('Пользовательские оценки игр на Xbox One')\n",
    "print()\n",
    "print('Среднее значение:', df_new[df_new['platform'] == 'XOne']['user_score'].mean(skipna=True))\n",
    "print('Дисперсия:', np.var(df_new[df_new['platform'] == 'XOne']['user_score']))\n",
    "print('Стандартное отклонение:', np.std(df_new[df_new['platform'] == 'XOne']['user_score']))"
   ]
  },
  {
   "cell_type": "code",
   "execution_count": 51,
   "metadata": {},
   "outputs": [
    {
     "name": "stdout",
     "output_type": "stream",
     "text": [
      "Пользовательские оценки игр на PC\n",
      "\n",
      "Среднее значение: 6.298360655737704\n",
      "Дисперсия: 2.8773743617307175\n",
      "Стандартное отклонение: 1.6962825123577492\n"
     ]
    }
   ],
   "source": [
    "print('Пользовательские оценки игр на PC')\n",
    "print()\n",
    "print('Среднее значение:', df_new[df_new['platform'] == 'PC']['user_score'].mean(skipna=True))\n",
    "print('Дисперсия:', np.var(df_new[df_new['platform'] == 'PC']['user_score']))\n",
    "print('Стандартное отклонение:', np.std(df_new[df_new['platform'] == 'PC']['user_score']))"
   ]
  },
  {
   "cell_type": "code",
   "execution_count": 52,
   "metadata": {
    "scrolled": true
   },
   "outputs": [
    {
     "name": "stdout",
     "output_type": "stream",
     "text": [
      "Недостаточно оснований чтобы отвергнуть нулевую гипотезу, значение p-value: 0.11601398086668827\n"
     ]
    }
   ],
   "source": [
    "alpha = .05\n",
    "\n",
    "platform_diff = st.stats.ttest_ind(df_new[df_new['platform'] == 'XOne']['user_score'].dropna(), df_new[df_new['platform'] == 'PC']['user_score'].dropna(), equal_var=False)\n",
    "\n",
    "if platform_diff.pvalue <= alpha:\n",
    "    print('Нулевая гипотеза отклоняется, значение p-value:', platform_diff.pvalue)\n",
    "else:\n",
    "    print('Недостаточно оснований чтобы отвергнуть нулевую гипотезу, значение p-value:', platform_diff.pvalue)"
   ]
  },
  {
   "cell_type": "markdown",
   "metadata": {},
   "source": [
    "Полученное в результате применения критерия Стьюдента p-value позволяет отвергнуть нулевую гипотезу о том, что средние пользовательские рейтинги платформ Xbox One и PC равны."
   ]
  },
  {
   "cell_type": "markdown",
   "metadata": {},
   "source": [
    "Проверим вторую гипотезу.  \n",
    "Нулевая гипотеза звучит так: \"<b>средние пользовательские рейтинги жанров Action и Sports равны</b>\".  \n",
    "Альтернативная гипотеза будет звучать так: \"<b>средние пользовательские рейтинги жанров Action и Sports разные</b>\"."
   ]
  },
  {
   "cell_type": "code",
   "execution_count": 53,
   "metadata": {},
   "outputs": [
    {
     "name": "stdout",
     "output_type": "stream",
     "text": [
      "Пользовательские оценки игр жанра Action\n",
      "\n",
      "Среднее значение: 6.760606060606061\n",
      "Дисперсия: 1.89208448117539\n",
      "Стандартное отклонение: 1.3755306180435933\n"
     ]
    }
   ],
   "source": [
    "print('Пользовательские оценки игр жанра Action')\n",
    "print()\n",
    "print('Среднее значение:', df_new[df_new['genre'] == 'Action']['user_score'].mean(skipna=True))\n",
    "print('Дисперсия:', np.var(df_new[df_new['genre'] == 'Action']['user_score']))\n",
    "print('Стандартное отклонение:', np.std(df_new[df_new['genre'] == 'Action']['user_score']))"
   ]
  },
  {
   "cell_type": "code",
   "execution_count": 54,
   "metadata": {},
   "outputs": [
    {
     "name": "stdout",
     "output_type": "stream",
     "text": [
      "Пользовательские оценки игр жанра Sports\n",
      "\n",
      "Среднее значение: 5.225196850393701\n",
      "Дисперсия: 3.419837559675119\n",
      "Стандартное отклонение: 1.849280281535257\n"
     ]
    }
   ],
   "source": [
    "print('Пользовательские оценки игр жанра Sports')\n",
    "print()\n",
    "print('Среднее значение:', df_new[df_new['genre'] == 'Sports']['user_score'].mean(skipna=True))\n",
    "print('Дисперсия:', np.var(df_new[df_new['genre'] == 'Sports']['user_score']))\n",
    "print('Стандартное отклонение:', np.std(df_new[df_new['genre'] == 'Sports']['user_score']))"
   ]
  },
  {
   "cell_type": "code",
   "execution_count": 55,
   "metadata": {},
   "outputs": [
    {
     "name": "stdout",
     "output_type": "stream",
     "text": [
      "Нулевая гипотеза отклоняется, значение p-value: 1.1825550382644557e-14\n"
     ]
    }
   ],
   "source": [
    "genre_diff = st.stats.ttest_ind(df_new[df_new['genre'] == 'Action']['user_score'].dropna(), df_new[df_new['genre'] == 'Sports']['user_score'].dropna(), equal_var=False)\n",
    "\n",
    "if genre_diff.pvalue <= alpha:\n",
    "    print('Нулевая гипотеза отклоняется, значение p-value:', genre_diff.pvalue)\n",
    "else:\n",
    "    print('Недостаточно оснований чтобы отвергнуть нулевую гипотезу, значение p-value:', genre_diff.pvalue)"
   ]
  },
  {
   "cell_type": "markdown",
   "metadata": {},
   "source": [
    "Полученное в результате применения критерия Стьюдента p-value не позволяет отвергнуть гипотезу о том, что средние оценки равны. Недостаточно оснований считать, что средние оценки игр этих жанров отличаются."
   ]
  },
  {
   "cell_type": "markdown",
   "metadata": {},
   "source": [
    "## Общий вывод\n",
    "[Содержание](#Содержание)"
   ]
  },
  {
   "cell_type": "markdown",
   "metadata": {},
   "source": [
    "<b>Самые прибыльные игры</b>  \n",
    "Самое главное — имеет смысл рассматривать только актуальные свежепоявившиеся или набравшие популярность платформы. Платформы, существующие уже 8 и более лет скорее всего отживают свой срок и продажи игр на них будут только снижаться. Разумеется, это не касается PC, который как игровая платформа существует и здравствует уже не один десяток лет. Однако и продажи на этой платформе ощутимо ниже остальных.\n",
    "\n",
    "В проанализированом периоде лучше всего продавались игры жанра Shooter для PS4, предназначенные для возрастной категории M. Эти игры получают относительно неплохие оценки критиков. Именно на них и стоит сделать ставку в будущем году.\n",
    "\n",
    "Помимо того, были составлены [портреты пользователей для каждого из представленных регионов](#Портрет-пользователя-для-каждого-региона)\n",
    "\n",
    "Помимо этого были выполнены проверки гипотез [проверки гипотез](#Проверка-гипотез)"
   ]
  },
  {
   "cell_type": "markdown",
   "metadata": {},
   "source": [
    "Наиболее перспективными по итогам исследования выглядлят платформы Sony PS4, Microsoft Xbox One, Nintendo 3DS и отдельным пунктом PC.\n",
    "\n",
    "Если мы хотим ориентировать магазин на какие-то отдельные рынки, то нам стоит смотреть на портреты пользователей.\n",
    "    \n",
    "В Северной Америке и Европе стоит сконцентрироваться на платформах PS4, XOne и на играх жанров Action, Shooter, с возрастным рейтингом M. Кроме того, такие игры чаще всего оказываются хитами.\n",
    "\n",
    "Для японского региона необходмо будет сделать корректировку, уделив больше внимания портативным консолям, и консолям японского производства. В жанрах стоит сделать акцент на более харасктерных для региона жанрах Role-Playing и Fighting. Возрастной рейтинг ESRB в этом регионе не очень влияет на продажи."
   ]
  }
 ],
 "metadata": {
  "ExecuteTimeLog": [
   {
    "duration": 770,
    "start_time": "2021-08-31T08:51:47.604Z"
   },
   {
    "duration": 39,
    "start_time": "2021-08-31T08:51:54.557Z"
   },
   {
    "duration": 25,
    "start_time": "2021-08-31T08:51:56.481Z"
   },
   {
    "duration": 5,
    "start_time": "2021-08-31T08:52:44.584Z"
   },
   {
    "duration": 203,
    "start_time": "2021-08-31T08:54:28.104Z"
   },
   {
    "duration": 4,
    "start_time": "2021-08-31T08:54:55.950Z"
   },
   {
    "duration": 4,
    "start_time": "2021-08-31T08:56:04.354Z"
   },
   {
    "duration": 3,
    "start_time": "2021-08-31T08:56:12.493Z"
   },
   {
    "duration": 17,
    "start_time": "2021-08-31T08:56:18.119Z"
   },
   {
    "duration": 10,
    "start_time": "2021-08-31T08:56:47.789Z"
   },
   {
    "duration": 12,
    "start_time": "2021-08-31T08:57:48.270Z"
   },
   {
    "duration": 21,
    "start_time": "2021-08-31T09:03:02.939Z"
   },
   {
    "duration": 195,
    "start_time": "2021-08-31T09:05:47.829Z"
   },
   {
    "duration": 21,
    "start_time": "2021-08-31T09:06:26.741Z"
   },
   {
    "duration": 21,
    "start_time": "2021-08-31T09:07:42.958Z"
   },
   {
    "duration": 7,
    "start_time": "2021-08-31T09:08:02.430Z"
   },
   {
    "duration": 8,
    "start_time": "2021-08-31T09:08:12.831Z"
   },
   {
    "duration": 9,
    "start_time": "2021-08-31T09:08:21.680Z"
   },
   {
    "duration": 6,
    "start_time": "2021-08-31T09:08:40.835Z"
   },
   {
    "duration": 8,
    "start_time": "2021-08-31T09:08:52.514Z"
   },
   {
    "duration": 7,
    "start_time": "2021-08-31T09:09:02.297Z"
   },
   {
    "duration": 9,
    "start_time": "2021-08-31T09:09:22.381Z"
   },
   {
    "duration": 19,
    "start_time": "2021-08-31T09:09:35.712Z"
   },
   {
    "duration": 6,
    "start_time": "2021-08-31T09:13:02.858Z"
   },
   {
    "duration": 9,
    "start_time": "2021-08-31T09:13:16.434Z"
   },
   {
    "duration": 17,
    "start_time": "2021-08-31T09:14:33.957Z"
   },
   {
    "duration": 17,
    "start_time": "2021-08-31T09:18:40.275Z"
   },
   {
    "duration": 8,
    "start_time": "2021-08-31T09:18:45.420Z"
   },
   {
    "duration": 21,
    "start_time": "2021-08-31T09:19:30.156Z"
   },
   {
    "duration": 18,
    "start_time": "2021-08-31T09:19:36.557Z"
   },
   {
    "duration": 4,
    "start_time": "2021-08-31T09:20:41.536Z"
   },
   {
    "duration": 115,
    "start_time": "2021-08-31T09:23:17.243Z"
   },
   {
    "duration": 239,
    "start_time": "2021-08-31T09:23:41.001Z"
   },
   {
    "duration": 372,
    "start_time": "2021-08-31T09:23:48.296Z"
   },
   {
    "duration": 364,
    "start_time": "2021-08-31T09:24:02.062Z"
   },
   {
    "duration": 18,
    "start_time": "2021-08-31T09:24:13.423Z"
   },
   {
    "duration": 550,
    "start_time": "2021-08-31T09:24:29.115Z"
   },
   {
    "duration": 9,
    "start_time": "2021-08-31T09:24:29.666Z"
   },
   {
    "duration": 17,
    "start_time": "2021-08-31T09:24:29.677Z"
   },
   {
    "duration": 13,
    "start_time": "2021-08-31T09:24:29.695Z"
   },
   {
    "duration": 22,
    "start_time": "2021-08-31T09:24:29.709Z"
   },
   {
    "duration": 376,
    "start_time": "2021-08-31T09:24:29.732Z"
   },
   {
    "duration": 21,
    "start_time": "2021-08-31T09:24:30.109Z"
   },
   {
    "duration": 30,
    "start_time": "2021-08-31T09:24:30.132Z"
   },
   {
    "duration": 241,
    "start_time": "2021-08-31T09:24:30.164Z"
   },
   {
    "duration": 329,
    "start_time": "2021-08-31T09:25:11.366Z"
   },
   {
    "duration": 59,
    "start_time": "2021-08-31T09:25:36.872Z"
   },
   {
    "duration": 110,
    "start_time": "2021-08-31T09:25:51.592Z"
   },
   {
    "duration": 17,
    "start_time": "2021-08-31T09:25:54.847Z"
   },
   {
    "duration": 18,
    "start_time": "2021-08-31T09:26:04.478Z"
   },
   {
    "duration": 562,
    "start_time": "2021-08-31T09:26:10.054Z"
   },
   {
    "duration": 11,
    "start_time": "2021-08-31T09:26:10.617Z"
   },
   {
    "duration": 22,
    "start_time": "2021-08-31T09:26:10.629Z"
   },
   {
    "duration": 17,
    "start_time": "2021-08-31T09:26:10.653Z"
   },
   {
    "duration": 20,
    "start_time": "2021-08-31T09:26:10.671Z"
   },
   {
    "duration": 118,
    "start_time": "2021-08-31T09:26:10.693Z"
   },
   {
    "duration": 24,
    "start_time": "2021-08-31T09:26:10.813Z"
   },
   {
    "duration": 20,
    "start_time": "2021-08-31T09:26:10.839Z"
   },
   {
    "duration": 235,
    "start_time": "2021-08-31T09:26:10.860Z"
   },
   {
    "duration": 110,
    "start_time": "2021-08-31T09:26:32.750Z"
   },
   {
    "duration": 18,
    "start_time": "2021-08-31T09:26:34.885Z"
   },
   {
    "duration": 527,
    "start_time": "2021-08-31T09:26:55.946Z"
   },
   {
    "duration": 9,
    "start_time": "2021-08-31T09:26:56.474Z"
   },
   {
    "duration": 3,
    "start_time": "2021-08-31T09:26:56.485Z"
   },
   {
    "duration": 7,
    "start_time": "2021-08-31T09:26:56.490Z"
   },
   {
    "duration": 11,
    "start_time": "2021-08-31T09:26:56.499Z"
   },
   {
    "duration": 116,
    "start_time": "2021-08-31T09:26:56.511Z"
   },
   {
    "duration": 25,
    "start_time": "2021-08-31T09:26:56.628Z"
   },
   {
    "duration": 40,
    "start_time": "2021-08-31T09:26:56.655Z"
   },
   {
    "duration": 228,
    "start_time": "2021-08-31T09:26:56.697Z"
   },
   {
    "duration": 61,
    "start_time": "2021-08-31T09:27:35.074Z"
   },
   {
    "duration": 61,
    "start_time": "2021-08-31T09:28:11.542Z"
   },
   {
    "duration": 65,
    "start_time": "2021-08-31T09:30:50.249Z"
   },
   {
    "duration": 61,
    "start_time": "2021-08-31T09:30:56.707Z"
   },
   {
    "duration": 114,
    "start_time": "2021-08-31T09:33:27.214Z"
   },
   {
    "duration": 108,
    "start_time": "2021-08-31T09:33:29.673Z"
   },
   {
    "duration": 20,
    "start_time": "2021-08-31T09:33:31.275Z"
   },
   {
    "duration": 572,
    "start_time": "2021-08-31T09:33:38.088Z"
   },
   {
    "duration": 9,
    "start_time": "2021-08-31T09:33:38.662Z"
   },
   {
    "duration": 3,
    "start_time": "2021-08-31T09:33:38.673Z"
   },
   {
    "duration": 9,
    "start_time": "2021-08-31T09:33:38.678Z"
   },
   {
    "duration": 10,
    "start_time": "2021-08-31T09:33:38.688Z"
   },
   {
    "duration": 118,
    "start_time": "2021-08-31T09:33:38.699Z"
   },
   {
    "duration": 23,
    "start_time": "2021-08-31T09:33:38.818Z"
   },
   {
    "duration": 21,
    "start_time": "2021-08-31T09:33:38.843Z"
   },
   {
    "duration": 273,
    "start_time": "2021-08-31T09:33:38.866Z"
   },
   {
    "duration": 109,
    "start_time": "2021-08-31T09:34:14.671Z"
   },
   {
    "duration": 19,
    "start_time": "2021-08-31T09:34:15.667Z"
   },
   {
    "duration": 635,
    "start_time": "2021-08-31T09:37:42.589Z"
   },
   {
    "duration": 10,
    "start_time": "2021-08-31T09:37:43.226Z"
   },
   {
    "duration": 3,
    "start_time": "2021-08-31T09:37:43.238Z"
   },
   {
    "duration": 9,
    "start_time": "2021-08-31T09:37:43.243Z"
   },
   {
    "duration": 12,
    "start_time": "2021-08-31T09:37:43.253Z"
   },
   {
    "duration": 135,
    "start_time": "2021-08-31T09:37:43.267Z"
   },
   {
    "duration": 24,
    "start_time": "2021-08-31T09:37:43.404Z"
   },
   {
    "duration": 2,
    "start_time": "2021-08-31T09:37:43.431Z"
   },
   {
    "duration": 7,
    "start_time": "2021-08-31T09:38:30.024Z"
   },
   {
    "duration": 7,
    "start_time": "2021-08-31T09:38:49.860Z"
   },
   {
    "duration": 13,
    "start_time": "2021-08-31T09:39:46.334Z"
   },
   {
    "duration": 21,
    "start_time": "2021-08-31T09:40:23.902Z"
   },
   {
    "duration": 15,
    "start_time": "2021-08-31T09:41:16.313Z"
   },
   {
    "duration": 12,
    "start_time": "2021-08-31T09:42:14.691Z"
   },
   {
    "duration": 12,
    "start_time": "2021-08-31T09:44:12.047Z"
   },
   {
    "duration": 29,
    "start_time": "2021-08-31T10:02:56.111Z"
   },
   {
    "duration": 21,
    "start_time": "2021-08-31T10:03:24.589Z"
   },
   {
    "duration": 14,
    "start_time": "2021-08-31T10:06:21.650Z"
   },
   {
    "duration": 6,
    "start_time": "2021-08-31T10:07:13.052Z"
   },
   {
    "duration": 27,
    "start_time": "2021-08-31T10:07:34.510Z"
   },
   {
    "duration": 9,
    "start_time": "2021-08-31T11:27:23.586Z"
   },
   {
    "duration": 632,
    "start_time": "2021-08-31T11:27:30.886Z"
   },
   {
    "duration": 11,
    "start_time": "2021-08-31T11:27:31.521Z"
   },
   {
    "duration": 8,
    "start_time": "2021-08-31T11:27:31.534Z"
   },
   {
    "duration": 39,
    "start_time": "2021-08-31T11:27:31.543Z"
   },
   {
    "duration": 5,
    "start_time": "2021-08-31T11:27:31.584Z"
   },
   {
    "duration": 17,
    "start_time": "2021-08-31T11:27:31.591Z"
   },
   {
    "duration": 124,
    "start_time": "2021-08-31T11:27:31.610Z"
   },
   {
    "duration": 18,
    "start_time": "2021-08-31T11:27:31.737Z"
   },
   {
    "duration": 7,
    "start_time": "2021-08-31T11:27:31.757Z"
   },
   {
    "duration": 22,
    "start_time": "2021-08-31T11:27:31.766Z"
   },
   {
    "duration": 15,
    "start_time": "2021-08-31T11:27:31.790Z"
   },
   {
    "duration": 16,
    "start_time": "2021-08-31T11:27:31.807Z"
   },
   {
    "duration": 29,
    "start_time": "2021-08-31T11:27:31.825Z"
   },
   {
    "duration": 5,
    "start_time": "2021-08-31T11:29:05.207Z"
   },
   {
    "duration": 8,
    "start_time": "2021-08-31T11:31:21.410Z"
   },
   {
    "duration": 587,
    "start_time": "2021-08-31T11:52:38.477Z"
   },
   {
    "duration": 10,
    "start_time": "2021-08-31T11:52:39.065Z"
   },
   {
    "duration": 20,
    "start_time": "2021-08-31T11:52:39.078Z"
   },
   {
    "duration": 21,
    "start_time": "2021-08-31T11:52:39.100Z"
   },
   {
    "duration": 13,
    "start_time": "2021-08-31T11:52:39.122Z"
   },
   {
    "duration": 15,
    "start_time": "2021-08-31T11:52:39.136Z"
   },
   {
    "duration": 18,
    "start_time": "2021-08-31T11:52:39.153Z"
   },
   {
    "duration": 19,
    "start_time": "2021-08-31T11:52:39.173Z"
   },
   {
    "duration": 2,
    "start_time": "2021-08-31T11:52:39.193Z"
   },
   {
    "duration": 16,
    "start_time": "2021-08-31T11:52:39.196Z"
   },
   {
    "duration": 24,
    "start_time": "2021-08-31T11:52:39.213Z"
   },
   {
    "duration": 5,
    "start_time": "2021-08-31T11:52:39.238Z"
   },
   {
    "duration": 27,
    "start_time": "2021-08-31T11:52:39.245Z"
   },
   {
    "duration": 14,
    "start_time": "2021-08-31T11:55:00.996Z"
   },
   {
    "duration": 4,
    "start_time": "2021-08-31T12:03:22.973Z"
   },
   {
    "duration": 15,
    "start_time": "2021-08-31T12:03:29.284Z"
   },
   {
    "duration": 9,
    "start_time": "2021-08-31T12:10:14.252Z"
   },
   {
    "duration": 14,
    "start_time": "2021-08-31T12:10:27.303Z"
   },
   {
    "duration": 5,
    "start_time": "2021-08-31T12:14:51.021Z"
   },
   {
    "duration": 9,
    "start_time": "2021-08-31T12:14:54.538Z"
   },
   {
    "duration": 6,
    "start_time": "2021-08-31T12:14:58.967Z"
   },
   {
    "duration": 12,
    "start_time": "2021-08-31T12:17:42.630Z"
   },
   {
    "duration": 4,
    "start_time": "2021-08-31T12:18:38.168Z"
   },
   {
    "duration": 8,
    "start_time": "2021-08-31T12:18:41.501Z"
   },
   {
    "duration": 7,
    "start_time": "2021-08-31T12:18:45.336Z"
   },
   {
    "duration": 6,
    "start_time": "2021-08-31T12:25:13.452Z"
   },
   {
    "duration": 23,
    "start_time": "2021-08-31T12:25:15.743Z"
   },
   {
    "duration": 6,
    "start_time": "2021-08-31T12:26:28.387Z"
   },
   {
    "duration": 16,
    "start_time": "2021-08-31T12:26:38.960Z"
   },
   {
    "duration": 6,
    "start_time": "2021-08-31T12:26:47.604Z"
   },
   {
    "duration": 9,
    "start_time": "2021-08-31T12:26:51.252Z"
   },
   {
    "duration": 616,
    "start_time": "2021-08-31T12:27:38.461Z"
   },
   {
    "duration": 9,
    "start_time": "2021-08-31T12:27:39.079Z"
   },
   {
    "duration": 9,
    "start_time": "2021-08-31T12:27:39.090Z"
   },
   {
    "duration": 28,
    "start_time": "2021-08-31T12:27:39.101Z"
   },
   {
    "duration": 9,
    "start_time": "2021-08-31T12:27:39.130Z"
   },
   {
    "duration": 16,
    "start_time": "2021-08-31T12:27:39.141Z"
   },
   {
    "duration": 20,
    "start_time": "2021-08-31T12:27:39.159Z"
   },
   {
    "duration": 20,
    "start_time": "2021-08-31T12:27:39.181Z"
   },
   {
    "duration": 19,
    "start_time": "2021-08-31T12:27:39.203Z"
   },
   {
    "duration": 6,
    "start_time": "2021-08-31T12:27:39.223Z"
   },
   {
    "duration": 24,
    "start_time": "2021-08-31T12:27:39.231Z"
   },
   {
    "duration": 6,
    "start_time": "2021-08-31T12:27:39.257Z"
   },
   {
    "duration": 17,
    "start_time": "2021-08-31T12:27:39.264Z"
   },
   {
    "duration": 19,
    "start_time": "2021-08-31T12:27:39.282Z"
   },
   {
    "duration": 12,
    "start_time": "2021-08-31T12:27:39.302Z"
   },
   {
    "duration": 22,
    "start_time": "2021-08-31T12:27:39.316Z"
   },
   {
    "duration": 28,
    "start_time": "2021-08-31T12:27:39.339Z"
   },
   {
    "duration": 16,
    "start_time": "2021-08-31T12:27:39.368Z"
   },
   {
    "duration": 23,
    "start_time": "2021-08-31T12:27:39.385Z"
   },
   {
    "duration": 10,
    "start_time": "2021-08-31T12:27:39.410Z"
   },
   {
    "duration": 17,
    "start_time": "2021-08-31T12:27:39.421Z"
   },
   {
    "duration": 5,
    "start_time": "2021-08-31T12:27:39.440Z"
   },
   {
    "duration": 7,
    "start_time": "2021-08-31T12:27:49.258Z"
   },
   {
    "duration": 563,
    "start_time": "2021-08-31T12:27:54.937Z"
   },
   {
    "duration": 10,
    "start_time": "2021-08-31T12:27:55.501Z"
   },
   {
    "duration": 2,
    "start_time": "2021-08-31T12:27:55.513Z"
   },
   {
    "duration": 24,
    "start_time": "2021-08-31T12:27:55.517Z"
   },
   {
    "duration": 7,
    "start_time": "2021-08-31T12:27:55.542Z"
   },
   {
    "duration": 7,
    "start_time": "2021-08-31T12:27:55.551Z"
   },
   {
    "duration": 31,
    "start_time": "2021-08-31T12:27:55.560Z"
   },
   {
    "duration": 18,
    "start_time": "2021-08-31T12:27:55.594Z"
   },
   {
    "duration": 5,
    "start_time": "2021-08-31T12:27:55.615Z"
   },
   {
    "duration": 9,
    "start_time": "2021-08-31T12:27:55.622Z"
   },
   {
    "duration": 24,
    "start_time": "2021-08-31T12:27:55.633Z"
   },
   {
    "duration": 6,
    "start_time": "2021-08-31T12:27:55.659Z"
   },
   {
    "duration": 25,
    "start_time": "2021-08-31T12:27:55.667Z"
   },
   {
    "duration": 23,
    "start_time": "2021-08-31T12:27:55.693Z"
   },
   {
    "duration": 10,
    "start_time": "2021-08-31T12:27:55.718Z"
   },
   {
    "duration": 19,
    "start_time": "2021-08-31T12:27:55.730Z"
   },
   {
    "duration": 33,
    "start_time": "2021-08-31T12:27:55.751Z"
   },
   {
    "duration": 9,
    "start_time": "2021-08-31T12:27:55.786Z"
   },
   {
    "duration": 17,
    "start_time": "2021-08-31T12:27:55.797Z"
   },
   {
    "duration": 9,
    "start_time": "2021-08-31T12:27:55.816Z"
   },
   {
    "duration": 19,
    "start_time": "2021-08-31T12:27:55.826Z"
   },
   {
    "duration": 8,
    "start_time": "2021-08-31T12:27:55.847Z"
   },
   {
    "duration": 8,
    "start_time": "2021-08-31T12:37:53.379Z"
   },
   {
    "duration": 542,
    "start_time": "2021-08-31T12:38:07.530Z"
   },
   {
    "duration": 9,
    "start_time": "2021-08-31T12:38:08.074Z"
   },
   {
    "duration": 3,
    "start_time": "2021-08-31T12:38:08.085Z"
   },
   {
    "duration": 19,
    "start_time": "2021-08-31T12:38:08.090Z"
   },
   {
    "duration": 5,
    "start_time": "2021-08-31T12:38:08.111Z"
   },
   {
    "duration": 7,
    "start_time": "2021-08-31T12:38:08.117Z"
   },
   {
    "duration": 10,
    "start_time": "2021-08-31T12:38:08.126Z"
   },
   {
    "duration": 51,
    "start_time": "2021-08-31T12:38:08.139Z"
   },
   {
    "duration": 6,
    "start_time": "2021-08-31T12:38:08.193Z"
   },
   {
    "duration": 7,
    "start_time": "2021-08-31T12:38:08.201Z"
   },
   {
    "duration": 20,
    "start_time": "2021-08-31T12:38:08.209Z"
   },
   {
    "duration": 5,
    "start_time": "2021-08-31T12:38:08.231Z"
   },
   {
    "duration": 14,
    "start_time": "2021-08-31T12:38:08.238Z"
   },
   {
    "duration": 38,
    "start_time": "2021-08-31T12:38:08.254Z"
   },
   {
    "duration": 7,
    "start_time": "2021-08-31T12:38:08.293Z"
   },
   {
    "duration": 16,
    "start_time": "2021-08-31T12:38:08.301Z"
   },
   {
    "duration": 12,
    "start_time": "2021-08-31T12:38:08.319Z"
   },
   {
    "duration": 9,
    "start_time": "2021-08-31T12:38:08.333Z"
   },
   {
    "duration": 13,
    "start_time": "2021-08-31T12:38:08.343Z"
   },
   {
    "duration": 28,
    "start_time": "2021-08-31T12:38:08.358Z"
   },
   {
    "duration": 14,
    "start_time": "2021-08-31T12:38:08.388Z"
   },
   {
    "duration": 6,
    "start_time": "2021-08-31T12:38:08.404Z"
   },
   {
    "duration": 569,
    "start_time": "2021-08-31T12:56:06.914Z"
   },
   {
    "duration": 9,
    "start_time": "2021-08-31T12:56:07.485Z"
   },
   {
    "duration": 4,
    "start_time": "2021-08-31T12:56:07.496Z"
   },
   {
    "duration": 20,
    "start_time": "2021-08-31T12:56:07.501Z"
   },
   {
    "duration": 4,
    "start_time": "2021-08-31T12:56:07.523Z"
   },
   {
    "duration": 9,
    "start_time": "2021-08-31T12:56:07.528Z"
   },
   {
    "duration": 14,
    "start_time": "2021-08-31T12:56:07.538Z"
   },
   {
    "duration": 38,
    "start_time": "2021-08-31T12:56:07.554Z"
   },
   {
    "duration": 6,
    "start_time": "2021-08-31T12:56:07.593Z"
   },
   {
    "duration": 5,
    "start_time": "2021-08-31T12:56:07.601Z"
   },
   {
    "duration": 21,
    "start_time": "2021-08-31T12:56:07.607Z"
   },
   {
    "duration": 5,
    "start_time": "2021-08-31T12:56:07.630Z"
   },
   {
    "duration": 13,
    "start_time": "2021-08-31T12:56:07.637Z"
   },
   {
    "duration": 36,
    "start_time": "2021-08-31T12:56:07.651Z"
   },
   {
    "duration": 6,
    "start_time": "2021-08-31T12:56:07.688Z"
   },
   {
    "duration": 14,
    "start_time": "2021-08-31T12:56:07.695Z"
   },
   {
    "duration": 13,
    "start_time": "2021-08-31T12:56:07.711Z"
   },
   {
    "duration": 6,
    "start_time": "2021-08-31T12:56:07.726Z"
   },
   {
    "duration": 13,
    "start_time": "2021-08-31T12:56:07.733Z"
   },
   {
    "duration": 17,
    "start_time": "2021-08-31T12:56:07.747Z"
   },
   {
    "duration": 28,
    "start_time": "2021-08-31T12:56:07.766Z"
   },
   {
    "duration": 11,
    "start_time": "2021-08-31T12:56:07.796Z"
   },
   {
    "duration": 453,
    "start_time": "2021-09-01T12:43:46.270Z"
   },
   {
    "duration": 766,
    "start_time": "2021-09-01T12:43:51.090Z"
   },
   {
    "duration": 14,
    "start_time": "2021-09-01T12:43:51.858Z"
   },
   {
    "duration": 12,
    "start_time": "2021-09-01T12:43:51.875Z"
   },
   {
    "duration": 38,
    "start_time": "2021-09-01T12:43:51.890Z"
   },
   {
    "duration": 13,
    "start_time": "2021-09-01T12:43:51.930Z"
   },
   {
    "duration": 22,
    "start_time": "2021-09-01T12:43:51.946Z"
   },
   {
    "duration": 27,
    "start_time": "2021-09-01T12:43:51.971Z"
   },
   {
    "duration": 54,
    "start_time": "2021-09-01T12:43:52.002Z"
   },
   {
    "duration": 9,
    "start_time": "2021-09-01T12:43:52.059Z"
   },
   {
    "duration": 10,
    "start_time": "2021-09-01T12:43:52.070Z"
   },
   {
    "duration": 37,
    "start_time": "2021-09-01T12:43:52.083Z"
   },
   {
    "duration": 26,
    "start_time": "2021-09-01T12:43:52.122Z"
   },
   {
    "duration": 26,
    "start_time": "2021-09-01T12:43:52.151Z"
   },
   {
    "duration": 32,
    "start_time": "2021-09-01T12:43:52.179Z"
   },
   {
    "duration": 23,
    "start_time": "2021-09-01T12:43:52.213Z"
   },
   {
    "duration": 35,
    "start_time": "2021-09-01T12:43:52.239Z"
   },
   {
    "duration": 21,
    "start_time": "2021-09-01T12:43:52.277Z"
   },
   {
    "duration": 23,
    "start_time": "2021-09-01T12:43:52.300Z"
   },
   {
    "duration": 36,
    "start_time": "2021-09-01T12:43:52.326Z"
   },
   {
    "duration": 26,
    "start_time": "2021-09-01T12:43:52.364Z"
   },
   {
    "duration": 29,
    "start_time": "2021-09-01T12:43:52.393Z"
   },
   {
    "duration": 17,
    "start_time": "2021-09-01T12:43:52.425Z"
   },
   {
    "duration": 139,
    "start_time": "2021-09-01T12:47:04.159Z"
   },
   {
    "duration": 11403,
    "start_time": "2021-09-01T12:47:10.181Z"
   },
   {
    "duration": 822,
    "start_time": "2021-09-02T13:09:24.216Z"
   },
   {
    "duration": 12,
    "start_time": "2021-09-02T13:09:25.040Z"
   },
   {
    "duration": 8,
    "start_time": "2021-09-02T13:09:25.054Z"
   },
   {
    "duration": 22,
    "start_time": "2021-09-02T13:09:25.064Z"
   },
   {
    "duration": 5,
    "start_time": "2021-09-02T13:09:25.088Z"
   },
   {
    "duration": 8,
    "start_time": "2021-09-02T13:09:25.095Z"
   },
   {
    "duration": 40,
    "start_time": "2021-09-02T13:09:25.105Z"
   },
   {
    "duration": 20,
    "start_time": "2021-09-02T13:09:25.148Z"
   },
   {
    "duration": 21917,
    "start_time": "2021-09-02T13:09:25.170Z"
   },
   {
    "duration": 1882,
    "start_time": "2021-09-02T13:09:45.207Z"
   },
   {
    "duration": 1867,
    "start_time": "2021-09-02T13:09:45.223Z"
   },
   {
    "duration": 1852,
    "start_time": "2021-09-02T13:09:45.239Z"
   },
   {
    "duration": 1847,
    "start_time": "2021-09-02T13:09:45.245Z"
   },
   {
    "duration": 1844,
    "start_time": "2021-09-02T13:09:45.249Z"
   },
   {
    "duration": 1841,
    "start_time": "2021-09-02T13:09:45.254Z"
   },
   {
    "duration": 1836,
    "start_time": "2021-09-02T13:09:45.260Z"
   },
   {
    "duration": 1833,
    "start_time": "2021-09-02T13:09:45.264Z"
   },
   {
    "duration": 1830,
    "start_time": "2021-09-02T13:09:45.268Z"
   },
   {
    "duration": 1826,
    "start_time": "2021-09-02T13:09:45.273Z"
   },
   {
    "duration": 1823,
    "start_time": "2021-09-02T13:09:45.277Z"
   },
   {
    "duration": 1820,
    "start_time": "2021-09-02T13:09:45.281Z"
   },
   {
    "duration": 1817,
    "start_time": "2021-09-02T13:09:45.285Z"
   },
   {
    "duration": 1813,
    "start_time": "2021-09-02T13:09:45.290Z"
   },
   {
    "duration": 6,
    "start_time": "2021-09-02T13:09:54.545Z"
   },
   {
    "duration": 3,
    "start_time": "2021-09-02T13:09:55.048Z"
   },
   {
    "duration": 20,
    "start_time": "2021-09-02T13:09:55.658Z"
   },
   {
    "duration": 8,
    "start_time": "2021-09-02T13:09:56.007Z"
   },
   {
    "duration": 12,
    "start_time": "2021-09-02T13:09:56.624Z"
   },
   {
    "duration": 14,
    "start_time": "2021-09-02T13:09:57.033Z"
   },
   {
    "duration": 4,
    "start_time": "2021-09-02T13:09:57.474Z"
   },
   {
    "duration": 14,
    "start_time": "2021-09-02T13:09:57.689Z"
   },
   {
    "duration": 13,
    "start_time": "2021-09-02T13:09:58.163Z"
   },
   {
    "duration": 6,
    "start_time": "2021-09-02T13:09:58.552Z"
   },
   {
    "duration": 13,
    "start_time": "2021-09-02T13:09:58.998Z"
   },
   {
    "duration": 6,
    "start_time": "2021-09-02T13:09:59.207Z"
   },
   {
    "duration": 13,
    "start_time": "2021-09-02T13:09:59.665Z"
   },
   {
    "duration": 6,
    "start_time": "2021-09-02T13:09:59.865Z"
   },
   {
    "duration": 4,
    "start_time": "2021-09-02T13:22:30.745Z"
   },
   {
    "duration": 4,
    "start_time": "2021-09-02T13:24:14.758Z"
   },
   {
    "duration": 4,
    "start_time": "2021-09-02T13:24:29.877Z"
   },
   {
    "duration": 6,
    "start_time": "2021-09-02T13:29:13.580Z"
   },
   {
    "duration": 5,
    "start_time": "2021-09-02T13:29:33.966Z"
   },
   {
    "duration": 6,
    "start_time": "2021-09-02T13:29:46.976Z"
   },
   {
    "duration": 693,
    "start_time": "2021-09-02T13:29:59.728Z"
   },
   {
    "duration": 5,
    "start_time": "2021-09-02T13:30:08.713Z"
   },
   {
    "duration": 4,
    "start_time": "2021-09-02T13:30:23.622Z"
   },
   {
    "duration": 6,
    "start_time": "2021-09-02T13:30:32.727Z"
   },
   {
    "duration": 5,
    "start_time": "2021-09-02T13:35:08.346Z"
   },
   {
    "duration": 6,
    "start_time": "2021-09-02T13:35:41.387Z"
   },
   {
    "duration": 5,
    "start_time": "2021-09-02T13:36:15.599Z"
   },
   {
    "duration": 5,
    "start_time": "2021-09-02T13:36:31.317Z"
   },
   {
    "duration": 4,
    "start_time": "2021-09-02T13:37:59.981Z"
   },
   {
    "duration": 10,
    "start_time": "2021-09-02T13:38:16.228Z"
   },
   {
    "duration": 4,
    "start_time": "2021-09-02T13:38:34.177Z"
   },
   {
    "duration": 1084,
    "start_time": "2021-09-02T13:38:58.071Z"
   },
   {
    "duration": 6,
    "start_time": "2021-09-02T13:39:13.932Z"
   },
   {
    "duration": 8,
    "start_time": "2021-09-02T13:39:30.013Z"
   },
   {
    "duration": 6,
    "start_time": "2021-09-02T13:39:44.400Z"
   },
   {
    "duration": 6,
    "start_time": "2021-09-02T13:39:55.975Z"
   },
   {
    "duration": 10,
    "start_time": "2021-09-02T13:40:04.889Z"
   },
   {
    "duration": 1021,
    "start_time": "2021-09-02T13:41:11.784Z"
   },
   {
    "duration": 980,
    "start_time": "2021-09-02T13:42:02.316Z"
   },
   {
    "duration": 7,
    "start_time": "2021-09-02T13:42:13.681Z"
   },
   {
    "duration": 7,
    "start_time": "2021-09-02T13:42:27.774Z"
   },
   {
    "duration": 10,
    "start_time": "2021-09-02T13:42:35.511Z"
   },
   {
    "duration": 7,
    "start_time": "2021-09-02T13:52:32.886Z"
   },
   {
    "duration": 825,
    "start_time": "2021-09-02T14:01:36.569Z"
   },
   {
    "duration": 11,
    "start_time": "2021-09-02T14:01:37.396Z"
   },
   {
    "duration": 13,
    "start_time": "2021-09-02T14:01:37.409Z"
   },
   {
    "duration": 40,
    "start_time": "2021-09-02T14:01:37.424Z"
   },
   {
    "duration": 7,
    "start_time": "2021-09-02T14:01:37.466Z"
   },
   {
    "duration": 25,
    "start_time": "2021-09-02T14:01:37.475Z"
   },
   {
    "duration": 40,
    "start_time": "2021-09-02T14:01:37.502Z"
   },
   {
    "duration": 10,
    "start_time": "2021-09-02T14:01:37.546Z"
   },
   {
    "duration": 18,
    "start_time": "2021-09-02T14:01:37.559Z"
   },
   {
    "duration": 37,
    "start_time": "2021-09-02T14:01:37.580Z"
   },
   {
    "duration": 26,
    "start_time": "2021-09-02T14:01:37.619Z"
   },
   {
    "duration": 14,
    "start_time": "2021-09-02T14:01:37.647Z"
   },
   {
    "duration": 19,
    "start_time": "2021-09-02T14:01:37.662Z"
   },
   {
    "duration": 7,
    "start_time": "2021-09-02T14:01:37.682Z"
   },
   {
    "duration": 20,
    "start_time": "2021-09-02T14:01:37.691Z"
   },
   {
    "duration": 40,
    "start_time": "2021-09-02T14:01:37.713Z"
   },
   {
    "duration": 13,
    "start_time": "2021-09-02T14:01:37.755Z"
   },
   {
    "duration": 21,
    "start_time": "2021-09-02T14:01:37.770Z"
   },
   {
    "duration": 11,
    "start_time": "2021-09-02T14:01:37.793Z"
   },
   {
    "duration": 37,
    "start_time": "2021-09-02T14:01:37.806Z"
   },
   {
    "duration": 11,
    "start_time": "2021-09-02T14:01:37.845Z"
   },
   {
    "duration": 22,
    "start_time": "2021-09-02T14:04:14.021Z"
   },
   {
    "duration": 9,
    "start_time": "2021-09-02T14:04:28.028Z"
   },
   {
    "duration": 10,
    "start_time": "2021-09-02T14:04:57.032Z"
   },
   {
    "duration": 379,
    "start_time": "2021-09-02T14:06:41.381Z"
   },
   {
    "duration": 221,
    "start_time": "2021-09-02T14:06:47.964Z"
   },
   {
    "duration": 440,
    "start_time": "2021-09-02T14:06:53.052Z"
   },
   {
    "duration": 407,
    "start_time": "2021-09-02T14:07:50.535Z"
   },
   {
    "duration": 9,
    "start_time": "2021-09-02T14:15:46.819Z"
   },
   {
    "duration": 297,
    "start_time": "2021-09-02T14:17:43.662Z"
   },
   {
    "duration": 7,
    "start_time": "2021-09-02T14:28:41.650Z"
   },
   {
    "duration": 7,
    "start_time": "2021-09-02T14:29:17.414Z"
   },
   {
    "duration": 7,
    "start_time": "2021-09-02T14:29:29.019Z"
   },
   {
    "duration": 12,
    "start_time": "2021-09-02T14:29:38.866Z"
   },
   {
    "duration": 1013,
    "start_time": "2021-09-02T14:29:54.533Z"
   },
   {
    "duration": 14,
    "start_time": "2021-09-02T14:29:55.548Z"
   },
   {
    "duration": 4,
    "start_time": "2021-09-02T14:29:55.564Z"
   },
   {
    "duration": 27,
    "start_time": "2021-09-02T14:29:55.570Z"
   },
   {
    "duration": 7,
    "start_time": "2021-09-02T14:29:55.599Z"
   },
   {
    "duration": 39,
    "start_time": "2021-09-02T14:29:55.608Z"
   },
   {
    "duration": 22,
    "start_time": "2021-09-02T14:29:55.649Z"
   },
   {
    "duration": 10,
    "start_time": "2021-09-02T14:29:55.675Z"
   },
   {
    "duration": 8,
    "start_time": "2021-09-02T14:29:55.687Z"
   },
   {
    "duration": 531,
    "start_time": "2021-09-02T14:29:55.697Z"
   },
   {
    "duration": 13,
    "start_time": "2021-09-02T14:29:56.230Z"
   },
   {
    "duration": 13,
    "start_time": "2021-09-02T14:29:56.245Z"
   },
   {
    "duration": 34,
    "start_time": "2021-09-02T14:29:56.260Z"
   },
   {
    "duration": 20,
    "start_time": "2021-09-02T14:29:56.296Z"
   },
   {
    "duration": 12,
    "start_time": "2021-09-02T14:29:56.318Z"
   },
   {
    "duration": 22,
    "start_time": "2021-09-02T14:29:56.332Z"
   },
   {
    "duration": 19,
    "start_time": "2021-09-02T14:29:56.356Z"
   },
   {
    "duration": 10,
    "start_time": "2021-09-02T14:29:56.377Z"
   },
   {
    "duration": 22,
    "start_time": "2021-09-02T14:29:56.389Z"
   },
   {
    "duration": 8,
    "start_time": "2021-09-02T14:29:56.413Z"
   },
   {
    "duration": 34,
    "start_time": "2021-09-02T14:29:56.423Z"
   },
   {
    "duration": 12,
    "start_time": "2021-09-02T14:29:56.459Z"
   },
   {
    "duration": 7,
    "start_time": "2021-09-02T14:30:26.295Z"
   },
   {
    "duration": 959,
    "start_time": "2021-09-02T14:30:32.319Z"
   },
   {
    "duration": 10,
    "start_time": "2021-09-02T14:30:33.280Z"
   },
   {
    "duration": 14,
    "start_time": "2021-09-02T14:30:33.293Z"
   },
   {
    "duration": 27,
    "start_time": "2021-09-02T14:30:33.309Z"
   },
   {
    "duration": 27,
    "start_time": "2021-09-02T14:30:33.338Z"
   },
   {
    "duration": 20,
    "start_time": "2021-09-02T14:30:33.366Z"
   },
   {
    "duration": 38,
    "start_time": "2021-09-02T14:30:33.389Z"
   },
   {
    "duration": 9,
    "start_time": "2021-09-02T14:30:33.429Z"
   },
   {
    "duration": 20,
    "start_time": "2021-09-02T14:30:33.442Z"
   },
   {
    "duration": 568,
    "start_time": "2021-09-02T14:30:33.464Z"
   },
   {
    "duration": 15,
    "start_time": "2021-09-02T14:30:34.035Z"
   },
   {
    "duration": 24,
    "start_time": "2021-09-02T14:30:34.052Z"
   },
   {
    "duration": 25,
    "start_time": "2021-09-02T14:30:34.078Z"
   },
   {
    "duration": 29,
    "start_time": "2021-09-02T14:30:34.105Z"
   },
   {
    "duration": 14,
    "start_time": "2021-09-02T14:30:34.136Z"
   },
   {
    "duration": 21,
    "start_time": "2021-09-02T14:30:34.153Z"
   },
   {
    "duration": 24,
    "start_time": "2021-09-02T14:30:34.176Z"
   },
   {
    "duration": 16,
    "start_time": "2021-09-02T14:30:34.203Z"
   },
   {
    "duration": 29,
    "start_time": "2021-09-02T14:30:34.221Z"
   },
   {
    "duration": 15,
    "start_time": "2021-09-02T14:30:34.253Z"
   },
   {
    "duration": 20,
    "start_time": "2021-09-02T14:30:34.269Z"
   },
   {
    "duration": 16,
    "start_time": "2021-09-02T14:30:34.291Z"
   },
   {
    "duration": 11,
    "start_time": "2021-09-02T14:31:04.739Z"
   },
   {
    "duration": 8,
    "start_time": "2021-09-02T14:32:19.972Z"
   },
   {
    "duration": 823,
    "start_time": "2021-09-02T14:32:26.206Z"
   },
   {
    "duration": 10,
    "start_time": "2021-09-02T14:32:27.032Z"
   },
   {
    "duration": 13,
    "start_time": "2021-09-02T14:32:27.045Z"
   },
   {
    "duration": 29,
    "start_time": "2021-09-02T14:32:27.061Z"
   },
   {
    "duration": 5,
    "start_time": "2021-09-02T14:32:27.092Z"
   },
   {
    "duration": 11,
    "start_time": "2021-09-02T14:32:27.099Z"
   },
   {
    "duration": 39,
    "start_time": "2021-09-02T14:32:27.112Z"
   },
   {
    "duration": 7,
    "start_time": "2021-09-02T14:32:27.155Z"
   },
   {
    "duration": 25,
    "start_time": "2021-09-02T14:32:27.164Z"
   },
   {
    "duration": 520,
    "start_time": "2021-09-02T14:32:27.191Z"
   },
   {
    "duration": 8,
    "start_time": "2021-09-02T14:32:27.713Z"
   },
   {
    "duration": 23,
    "start_time": "2021-09-02T14:32:27.723Z"
   },
   {
    "duration": 24,
    "start_time": "2021-09-02T14:32:27.748Z"
   },
   {
    "duration": 26,
    "start_time": "2021-09-02T14:32:27.774Z"
   },
   {
    "duration": 17,
    "start_time": "2021-09-02T14:32:27.802Z"
   },
   {
    "duration": 34,
    "start_time": "2021-09-02T14:32:27.821Z"
   },
   {
    "duration": 26,
    "start_time": "2021-09-02T14:32:27.857Z"
   },
   {
    "duration": 17,
    "start_time": "2021-09-02T14:32:27.885Z"
   },
   {
    "duration": 24,
    "start_time": "2021-09-02T14:32:27.903Z"
   },
   {
    "duration": 12,
    "start_time": "2021-09-02T14:32:27.929Z"
   },
   {
    "duration": 23,
    "start_time": "2021-09-02T14:32:27.944Z"
   },
   {
    "duration": 19,
    "start_time": "2021-09-02T14:32:27.969Z"
   },
   {
    "duration": 11,
    "start_time": "2021-09-02T14:32:38.656Z"
   },
   {
    "duration": 10,
    "start_time": "2021-09-02T14:33:50.879Z"
   },
   {
    "duration": 871,
    "start_time": "2021-09-02T14:33:58.168Z"
   },
   {
    "duration": 12,
    "start_time": "2021-09-02T14:33:59.041Z"
   },
   {
    "duration": 3,
    "start_time": "2021-09-02T14:33:59.055Z"
   },
   {
    "duration": 30,
    "start_time": "2021-09-02T14:33:59.060Z"
   },
   {
    "duration": 5,
    "start_time": "2021-09-02T14:33:59.092Z"
   },
   {
    "duration": 11,
    "start_time": "2021-09-02T14:33:59.099Z"
   },
   {
    "duration": 44,
    "start_time": "2021-09-02T14:33:59.112Z"
   },
   {
    "duration": 7,
    "start_time": "2021-09-02T14:33:59.159Z"
   },
   {
    "duration": 8,
    "start_time": "2021-09-02T14:33:59.169Z"
   },
   {
    "duration": 499,
    "start_time": "2021-09-02T14:33:59.179Z"
   },
   {
    "duration": 8,
    "start_time": "2021-09-02T14:33:59.680Z"
   },
   {
    "duration": 23,
    "start_time": "2021-09-02T14:33:59.689Z"
   },
   {
    "duration": 35,
    "start_time": "2021-09-02T14:33:59.714Z"
   },
   {
    "duration": 22,
    "start_time": "2021-09-02T14:33:59.751Z"
   },
   {
    "duration": 11,
    "start_time": "2021-09-02T14:33:59.775Z"
   },
   {
    "duration": 20,
    "start_time": "2021-09-02T14:33:59.787Z"
   },
   {
    "duration": 17,
    "start_time": "2021-09-02T14:33:59.809Z"
   },
   {
    "duration": 13,
    "start_time": "2021-09-02T14:33:59.828Z"
   },
   {
    "duration": 13,
    "start_time": "2021-09-02T14:33:59.843Z"
   },
   {
    "duration": 9,
    "start_time": "2021-09-02T14:33:59.858Z"
   },
   {
    "duration": 16,
    "start_time": "2021-09-02T14:33:59.869Z"
   },
   {
    "duration": 10,
    "start_time": "2021-09-02T14:33:59.887Z"
   },
   {
    "duration": 22,
    "start_time": "2021-09-02T14:33:59.900Z"
   },
   {
    "duration": 500,
    "start_time": "2021-09-02T14:36:30.547Z"
   },
   {
    "duration": 37,
    "start_time": "2021-09-02T14:36:53.528Z"
   },
   {
    "duration": 13,
    "start_time": "2021-09-02T14:37:17.853Z"
   },
   {
    "duration": 12,
    "start_time": "2021-09-02T14:38:18.822Z"
   },
   {
    "duration": 8,
    "start_time": "2021-09-02T14:38:57.907Z"
   },
   {
    "duration": 11,
    "start_time": "2021-09-02T14:39:04.095Z"
   },
   {
    "duration": 16,
    "start_time": "2021-09-02T14:39:15.436Z"
   },
   {
    "duration": 17,
    "start_time": "2021-09-02T14:39:28.099Z"
   },
   {
    "duration": 16,
    "start_time": "2021-09-02T14:39:51.824Z"
   },
   {
    "duration": 22,
    "start_time": "2021-09-02T14:40:04.389Z"
   },
   {
    "duration": 821,
    "start_time": "2021-09-02T14:43:07.148Z"
   },
   {
    "duration": 11,
    "start_time": "2021-09-02T14:43:07.971Z"
   },
   {
    "duration": 13,
    "start_time": "2021-09-02T14:43:07.984Z"
   },
   {
    "duration": 32,
    "start_time": "2021-09-02T14:43:07.999Z"
   },
   {
    "duration": 15,
    "start_time": "2021-09-02T14:43:08.033Z"
   },
   {
    "duration": 23,
    "start_time": "2021-09-02T14:43:08.052Z"
   },
   {
    "duration": 30,
    "start_time": "2021-09-02T14:43:08.077Z"
   },
   {
    "duration": 7,
    "start_time": "2021-09-02T14:43:08.110Z"
   },
   {
    "duration": 19,
    "start_time": "2021-09-02T14:43:08.119Z"
   },
   {
    "duration": 510,
    "start_time": "2021-09-02T14:43:08.142Z"
   },
   {
    "duration": 9,
    "start_time": "2021-09-02T14:43:08.656Z"
   },
   {
    "duration": 18,
    "start_time": "2021-09-02T14:43:08.666Z"
   },
   {
    "duration": 540,
    "start_time": "2021-09-02T14:43:08.686Z"
   },
   {
    "duration": 23,
    "start_time": "2021-09-02T14:43:09.228Z"
   },
   {
    "duration": 24,
    "start_time": "2021-09-02T14:43:09.253Z"
   },
   {
    "duration": 23,
    "start_time": "2021-09-02T14:43:09.278Z"
   },
   {
    "duration": 33,
    "start_time": "2021-09-02T14:43:09.303Z"
   },
   {
    "duration": 27,
    "start_time": "2021-09-02T14:43:09.338Z"
   },
   {
    "duration": 29,
    "start_time": "2021-09-02T14:43:09.366Z"
   },
   {
    "duration": 29,
    "start_time": "2021-09-02T14:43:09.396Z"
   },
   {
    "duration": 15,
    "start_time": "2021-09-02T14:43:09.427Z"
   },
   {
    "duration": 37,
    "start_time": "2021-09-02T14:43:09.445Z"
   },
   {
    "duration": 13,
    "start_time": "2021-09-02T14:43:09.486Z"
   },
   {
    "duration": 15,
    "start_time": "2021-09-02T14:43:09.501Z"
   },
   {
    "duration": 1019,
    "start_time": "2021-09-02T14:46:09.139Z"
   },
   {
    "duration": 11,
    "start_time": "2021-09-02T14:46:10.160Z"
   },
   {
    "duration": 4,
    "start_time": "2021-09-02T14:46:10.173Z"
   },
   {
    "duration": 23,
    "start_time": "2021-09-02T14:46:10.179Z"
   },
   {
    "duration": 5,
    "start_time": "2021-09-02T14:46:10.204Z"
   },
   {
    "duration": 10,
    "start_time": "2021-09-02T14:46:10.211Z"
   },
   {
    "duration": 25,
    "start_time": "2021-09-02T14:46:10.242Z"
   },
   {
    "duration": 15,
    "start_time": "2021-09-02T14:46:10.270Z"
   },
   {
    "duration": 12,
    "start_time": "2021-09-02T14:46:10.287Z"
   },
   {
    "duration": 528,
    "start_time": "2021-09-02T14:46:10.301Z"
   },
   {
    "duration": 18,
    "start_time": "2021-09-02T14:46:10.831Z"
   },
   {
    "duration": 11,
    "start_time": "2021-09-02T14:46:10.852Z"
   },
   {
    "duration": 488,
    "start_time": "2021-09-02T14:46:10.865Z"
   },
   {
    "duration": 14,
    "start_time": "2021-09-02T14:46:11.355Z"
   },
   {
    "duration": 27,
    "start_time": "2021-09-02T14:46:11.370Z"
   },
   {
    "duration": 26,
    "start_time": "2021-09-02T14:46:11.398Z"
   },
   {
    "duration": 36,
    "start_time": "2021-09-02T14:46:11.425Z"
   },
   {
    "duration": 19,
    "start_time": "2021-09-02T14:46:11.463Z"
   },
   {
    "duration": 21,
    "start_time": "2021-09-02T14:46:11.483Z"
   },
   {
    "duration": 24,
    "start_time": "2021-09-02T14:46:11.506Z"
   },
   {
    "duration": 37,
    "start_time": "2021-09-02T14:46:11.532Z"
   },
   {
    "duration": 25,
    "start_time": "2021-09-02T14:46:11.571Z"
   },
   {
    "duration": 13,
    "start_time": "2021-09-02T14:46:11.599Z"
   },
   {
    "duration": 14,
    "start_time": "2021-09-02T14:47:55.843Z"
   },
   {
    "duration": 1073,
    "start_time": "2021-09-02T14:48:58.692Z"
   },
   {
    "duration": 23,
    "start_time": "2021-09-02T14:49:14.977Z"
   },
   {
    "duration": 10,
    "start_time": "2021-09-02T14:49:24.415Z"
   },
   {
    "duration": 11,
    "start_time": "2021-09-02T14:49:41.173Z"
   },
   {
    "duration": 11,
    "start_time": "2021-09-02T14:51:14.301Z"
   },
   {
    "duration": 796,
    "start_time": "2021-09-02T14:51:25.277Z"
   },
   {
    "duration": 11,
    "start_time": "2021-09-02T14:51:26.075Z"
   },
   {
    "duration": 4,
    "start_time": "2021-09-02T14:51:26.088Z"
   },
   {
    "duration": 24,
    "start_time": "2021-09-02T14:51:26.094Z"
   },
   {
    "duration": 27,
    "start_time": "2021-09-02T14:51:26.120Z"
   },
   {
    "duration": 17,
    "start_time": "2021-09-02T14:51:26.150Z"
   },
   {
    "duration": 23,
    "start_time": "2021-09-02T14:51:26.169Z"
   },
   {
    "duration": 21,
    "start_time": "2021-09-02T14:51:26.195Z"
   },
   {
    "duration": 32,
    "start_time": "2021-09-02T14:51:26.218Z"
   },
   {
    "duration": 9,
    "start_time": "2021-09-02T14:51:26.253Z"
   },
   {
    "duration": 20,
    "start_time": "2021-09-02T14:51:26.263Z"
   },
   {
    "duration": 531,
    "start_time": "2021-09-02T14:51:26.285Z"
   },
   {
    "duration": 7,
    "start_time": "2021-09-02T14:51:26.818Z"
   },
   {
    "duration": 20,
    "start_time": "2021-09-02T14:51:26.828Z"
   },
   {
    "duration": 492,
    "start_time": "2021-09-02T14:51:26.851Z"
   },
   {
    "duration": 20,
    "start_time": "2021-09-02T14:51:27.346Z"
   },
   {
    "duration": 19,
    "start_time": "2021-09-02T14:51:27.368Z"
   },
   {
    "duration": 8,
    "start_time": "2021-09-02T14:51:27.389Z"
   },
   {
    "duration": 16,
    "start_time": "2021-09-02T14:51:27.398Z"
   },
   {
    "duration": 9,
    "start_time": "2021-09-02T14:51:27.441Z"
   },
   {
    "duration": 20,
    "start_time": "2021-09-02T14:51:27.453Z"
   },
   {
    "duration": 9,
    "start_time": "2021-09-02T14:51:27.475Z"
   },
   {
    "duration": 14,
    "start_time": "2021-09-02T14:51:27.487Z"
   },
   {
    "duration": 11,
    "start_time": "2021-09-02T14:51:27.503Z"
   },
   {
    "duration": 40,
    "start_time": "2021-09-02T14:51:27.516Z"
   },
   {
    "duration": 21,
    "start_time": "2021-09-02T14:51:45.677Z"
   },
   {
    "duration": 27,
    "start_time": "2021-09-02T14:51:53.436Z"
   },
   {
    "duration": 844,
    "start_time": "2021-09-02T15:05:07.555Z"
   },
   {
    "duration": 11,
    "start_time": "2021-09-02T15:05:08.402Z"
   },
   {
    "duration": 10,
    "start_time": "2021-09-02T15:05:08.415Z"
   },
   {
    "duration": 27,
    "start_time": "2021-09-02T15:05:08.427Z"
   },
   {
    "duration": 5,
    "start_time": "2021-09-02T15:05:08.456Z"
   },
   {
    "duration": 10,
    "start_time": "2021-09-02T15:05:08.462Z"
   },
   {
    "duration": 30,
    "start_time": "2021-09-02T15:05:08.473Z"
   },
   {
    "duration": 39,
    "start_time": "2021-09-02T15:05:08.507Z"
   },
   {
    "duration": 7,
    "start_time": "2021-09-02T15:05:08.548Z"
   },
   {
    "duration": 12,
    "start_time": "2021-09-02T15:05:08.557Z"
   },
   {
    "duration": 504,
    "start_time": "2021-09-02T15:05:08.571Z"
   },
   {
    "duration": 9,
    "start_time": "2021-09-02T15:05:09.077Z"
   },
   {
    "duration": 9,
    "start_time": "2021-09-02T15:05:09.088Z"
   },
   {
    "duration": 471,
    "start_time": "2021-09-02T15:05:09.099Z"
   },
   {
    "duration": 15,
    "start_time": "2021-09-02T15:05:09.571Z"
   },
   {
    "duration": 16,
    "start_time": "2021-09-02T15:05:09.588Z"
   },
   {
    "duration": 12,
    "start_time": "2021-09-02T15:05:09.606Z"
   },
   {
    "duration": 31,
    "start_time": "2021-09-02T15:05:09.620Z"
   },
   {
    "duration": 7,
    "start_time": "2021-09-02T15:05:09.653Z"
   },
   {
    "duration": 15,
    "start_time": "2021-09-02T15:05:09.662Z"
   },
   {
    "duration": 8,
    "start_time": "2021-09-02T15:05:09.678Z"
   },
   {
    "duration": 26,
    "start_time": "2021-09-02T15:05:09.688Z"
   },
   {
    "duration": 6,
    "start_time": "2021-09-02T15:05:09.741Z"
   },
   {
    "duration": 12,
    "start_time": "2021-09-02T15:05:09.750Z"
   },
   {
    "duration": 433,
    "start_time": "2021-09-02T15:08:16.686Z"
   },
   {
    "duration": 1119,
    "start_time": "2021-09-02T15:09:11.715Z"
   },
   {
    "duration": 290,
    "start_time": "2021-09-02T15:09:18.400Z"
   },
   {
    "duration": 7,
    "start_time": "2021-09-02T15:19:42.326Z"
   },
   {
    "duration": 310,
    "start_time": "2021-09-02T15:20:58.647Z"
   },
   {
    "duration": 1048,
    "start_time": "2021-09-02T15:30:17.377Z"
   },
   {
    "duration": 156,
    "start_time": "2021-09-02T15:30:32.553Z"
   },
   {
    "duration": 37725,
    "start_time": "2021-09-02T15:30:43.608Z"
   },
   {
    "duration": 1115,
    "start_time": "2021-09-02T15:32:21.465Z"
   },
   {
    "duration": 552,
    "start_time": "2021-09-02T15:32:33.749Z"
   },
   {
    "duration": 602,
    "start_time": "2021-09-02T15:34:00.999Z"
   },
   {
    "duration": 548,
    "start_time": "2021-09-02T15:35:29.159Z"
   },
   {
    "duration": 2110,
    "start_time": "2021-09-02T15:35:58.089Z"
   },
   {
    "duration": 1212,
    "start_time": "2021-09-02T15:36:34.562Z"
   },
   {
    "duration": 346,
    "start_time": "2021-09-02T15:36:43.215Z"
   },
   {
    "duration": 351,
    "start_time": "2021-09-02T15:37:08.731Z"
   },
   {
    "duration": 1331,
    "start_time": "2021-09-02T15:38:03.471Z"
   },
   {
    "duration": 344,
    "start_time": "2021-09-02T15:38:09.705Z"
   },
   {
    "duration": 353,
    "start_time": "2021-09-02T15:39:00.622Z"
   },
   {
    "duration": 594,
    "start_time": "2021-09-02T15:39:56.947Z"
   },
   {
    "duration": 365,
    "start_time": "2021-09-02T15:41:02.394Z"
   },
   {
    "duration": 1399,
    "start_time": "2021-09-02T15:43:32.737Z"
   },
   {
    "duration": 360,
    "start_time": "2021-09-02T15:43:52.034Z"
   },
   {
    "duration": 294,
    "start_time": "2021-09-02T15:44:32.373Z"
   },
   {
    "duration": 14,
    "start_time": "2021-09-02T15:47:00.199Z"
   },
   {
    "duration": 16,
    "start_time": "2021-09-02T15:47:07.047Z"
   },
   {
    "duration": 15,
    "start_time": "2021-09-02T15:47:22.669Z"
   },
   {
    "duration": 17,
    "start_time": "2021-09-02T15:48:04.062Z"
   },
   {
    "duration": 15,
    "start_time": "2021-09-02T15:48:21.244Z"
   },
   {
    "duration": 809,
    "start_time": "2021-09-02T15:49:33.707Z"
   },
   {
    "duration": 17,
    "start_time": "2021-09-02T15:49:47.428Z"
   },
   {
    "duration": 22,
    "start_time": "2021-09-02T15:50:13.858Z"
   },
   {
    "duration": 20,
    "start_time": "2021-09-02T15:51:43.863Z"
   },
   {
    "duration": 19,
    "start_time": "2021-09-02T15:53:08.260Z"
   },
   {
    "duration": 16,
    "start_time": "2021-09-02T15:53:17.971Z"
   },
   {
    "duration": 536,
    "start_time": "2021-09-02T15:56:03.482Z"
   },
   {
    "duration": 5,
    "start_time": "2021-09-02T15:56:20.586Z"
   },
   {
    "duration": 535,
    "start_time": "2021-09-02T15:56:52.132Z"
   },
   {
    "duration": 534,
    "start_time": "2021-09-02T15:56:58.952Z"
   },
   {
    "duration": 558,
    "start_time": "2021-09-02T15:57:18.833Z"
   },
   {
    "duration": 555,
    "start_time": "2021-09-02T15:57:59.470Z"
   },
   {
    "duration": 1064,
    "start_time": "2021-09-02T16:02:34.614Z"
   },
   {
    "duration": 12,
    "start_time": "2021-09-02T16:02:35.680Z"
   },
   {
    "duration": 4,
    "start_time": "2021-09-02T16:02:35.695Z"
   },
   {
    "duration": 25,
    "start_time": "2021-09-02T16:02:35.701Z"
   },
   {
    "duration": 12,
    "start_time": "2021-09-02T16:02:35.729Z"
   },
   {
    "duration": 12,
    "start_time": "2021-09-02T16:02:35.743Z"
   },
   {
    "duration": 37,
    "start_time": "2021-09-02T16:02:35.757Z"
   },
   {
    "duration": 23,
    "start_time": "2021-09-02T16:02:35.798Z"
   },
   {
    "duration": 18,
    "start_time": "2021-09-02T16:02:35.824Z"
   },
   {
    "duration": 7,
    "start_time": "2021-09-02T16:02:35.845Z"
   },
   {
    "duration": 441,
    "start_time": "2021-09-02T16:02:35.854Z"
   },
   {
    "duration": 11,
    "start_time": "2021-09-02T16:02:36.298Z"
   },
   {
    "duration": 31,
    "start_time": "2021-09-02T16:02:36.311Z"
   },
   {
    "duration": 418,
    "start_time": "2021-09-02T16:02:36.345Z"
   },
   {
    "duration": 15,
    "start_time": "2021-09-02T16:02:36.765Z"
   },
   {
    "duration": 30,
    "start_time": "2021-09-02T16:02:36.782Z"
   },
   {
    "duration": 16,
    "start_time": "2021-09-02T16:02:36.814Z"
   },
   {
    "duration": 37,
    "start_time": "2021-09-02T16:02:36.833Z"
   },
   {
    "duration": 23,
    "start_time": "2021-09-02T16:02:36.872Z"
   },
   {
    "duration": 33,
    "start_time": "2021-09-02T16:02:36.897Z"
   },
   {
    "duration": 11,
    "start_time": "2021-09-02T16:02:36.933Z"
   },
   {
    "duration": 70,
    "start_time": "2021-09-02T16:02:36.946Z"
   },
   {
    "duration": 12,
    "start_time": "2021-09-02T16:02:37.020Z"
   },
   {
    "duration": 18,
    "start_time": "2021-09-02T16:02:37.034Z"
   },
   {
    "duration": 391,
    "start_time": "2021-09-02T16:02:37.055Z"
   },
   {
    "duration": 15,
    "start_time": "2021-09-02T16:02:37.448Z"
   },
   {
    "duration": 2206,
    "start_time": "2021-09-02T16:02:37.466Z"
   },
   {
    "duration": 5,
    "start_time": "2021-09-02T16:02:39.675Z"
   },
   {
    "duration": 2073,
    "start_time": "2021-09-02T16:04:54.427Z"
   },
   {
    "duration": 2135,
    "start_time": "2021-09-02T16:05:09.874Z"
   },
   {
    "duration": 2069,
    "start_time": "2021-09-02T16:06:20.601Z"
   },
   {
    "duration": 1006,
    "start_time": "2021-09-02T16:06:53.337Z"
   },
   {
    "duration": 930,
    "start_time": "2021-09-02T16:07:06.821Z"
   },
   {
    "duration": 1086,
    "start_time": "2021-09-02T16:07:43.848Z"
   },
   {
    "duration": 2089,
    "start_time": "2021-09-02T16:07:53.648Z"
   },
   {
    "duration": 2049,
    "start_time": "2021-09-02T16:08:28.309Z"
   },
   {
    "duration": 2163,
    "start_time": "2021-09-02T16:08:38.338Z"
   },
   {
    "duration": 6,
    "start_time": "2021-09-02T16:12:17.488Z"
   },
   {
    "duration": 5,
    "start_time": "2021-09-02T16:12:37.577Z"
   },
   {
    "duration": 939,
    "start_time": "2021-09-02T16:12:43.272Z"
   },
   {
    "duration": 11,
    "start_time": "2021-09-02T16:12:44.213Z"
   },
   {
    "duration": 5,
    "start_time": "2021-09-02T16:12:44.226Z"
   },
   {
    "duration": 22,
    "start_time": "2021-09-02T16:12:44.233Z"
   },
   {
    "duration": 6,
    "start_time": "2021-09-02T16:12:44.256Z"
   },
   {
    "duration": 12,
    "start_time": "2021-09-02T16:12:44.264Z"
   },
   {
    "duration": 297,
    "start_time": "2021-09-02T16:12:44.278Z"
   },
   {
    "duration": 2208,
    "start_time": "2021-09-02T16:12:42.370Z"
   },
   {
    "duration": 2199,
    "start_time": "2021-09-02T16:12:42.380Z"
   },
   {
    "duration": 2181,
    "start_time": "2021-09-02T16:12:42.399Z"
   },
   {
    "duration": 2169,
    "start_time": "2021-09-02T16:12:42.412Z"
   },
   {
    "duration": 2163,
    "start_time": "2021-09-02T16:12:42.419Z"
   },
   {
    "duration": 2159,
    "start_time": "2021-09-02T16:12:42.424Z"
   },
   {
    "duration": 2142,
    "start_time": "2021-09-02T16:12:42.442Z"
   },
   {
    "duration": 2135,
    "start_time": "2021-09-02T16:12:42.450Z"
   },
   {
    "duration": 2130,
    "start_time": "2021-09-02T16:12:42.456Z"
   },
   {
    "duration": 2124,
    "start_time": "2021-09-02T16:12:42.463Z"
   },
   {
    "duration": 2118,
    "start_time": "2021-09-02T16:12:42.469Z"
   },
   {
    "duration": 2113,
    "start_time": "2021-09-02T16:12:42.475Z"
   },
   {
    "duration": 2107,
    "start_time": "2021-09-02T16:12:42.482Z"
   },
   {
    "duration": 2103,
    "start_time": "2021-09-02T16:12:42.487Z"
   },
   {
    "duration": 2096,
    "start_time": "2021-09-02T16:12:42.495Z"
   },
   {
    "duration": 2093,
    "start_time": "2021-09-02T16:12:42.500Z"
   },
   {
    "duration": 2087,
    "start_time": "2021-09-02T16:12:42.506Z"
   },
   {
    "duration": 2082,
    "start_time": "2021-09-02T16:12:42.512Z"
   },
   {
    "duration": 2077,
    "start_time": "2021-09-02T16:12:42.518Z"
   },
   {
    "duration": 2072,
    "start_time": "2021-09-02T16:12:42.524Z"
   },
   {
    "duration": 2066,
    "start_time": "2021-09-02T16:12:42.531Z"
   },
   {
    "duration": 2062,
    "start_time": "2021-09-02T16:12:42.536Z"
   },
   {
    "duration": 985,
    "start_time": "2021-09-02T16:13:06.422Z"
   },
   {
    "duration": 11,
    "start_time": "2021-09-02T16:13:07.409Z"
   },
   {
    "duration": 3,
    "start_time": "2021-09-02T16:13:07.423Z"
   },
   {
    "duration": 23,
    "start_time": "2021-09-02T16:13:07.428Z"
   },
   {
    "duration": 5,
    "start_time": "2021-09-02T16:13:07.453Z"
   },
   {
    "duration": 9,
    "start_time": "2021-09-02T16:13:07.460Z"
   },
   {
    "duration": 24,
    "start_time": "2021-09-02T16:13:07.471Z"
   },
   {
    "duration": 4,
    "start_time": "2021-09-02T16:13:07.498Z"
   },
   {
    "duration": 38,
    "start_time": "2021-09-02T16:13:07.504Z"
   },
   {
    "duration": 5,
    "start_time": "2021-09-02T16:13:07.544Z"
   },
   {
    "duration": 433,
    "start_time": "2021-09-02T16:13:07.551Z"
   },
   {
    "duration": 8,
    "start_time": "2021-09-02T16:13:07.986Z"
   },
   {
    "duration": 22,
    "start_time": "2021-09-02T16:13:07.995Z"
   },
   {
    "duration": 414,
    "start_time": "2021-09-02T16:13:08.019Z"
   },
   {
    "duration": 19,
    "start_time": "2021-09-02T16:13:08.435Z"
   },
   {
    "duration": 20,
    "start_time": "2021-09-02T16:13:08.456Z"
   },
   {
    "duration": 4,
    "start_time": "2021-09-02T16:13:08.478Z"
   },
   {
    "duration": 18,
    "start_time": "2021-09-02T16:13:08.484Z"
   },
   {
    "duration": 7,
    "start_time": "2021-09-02T16:13:08.504Z"
   },
   {
    "duration": 40,
    "start_time": "2021-09-02T16:13:08.513Z"
   },
   {
    "duration": 11,
    "start_time": "2021-09-02T16:13:08.555Z"
   },
   {
    "duration": 79,
    "start_time": "2021-09-02T16:13:08.567Z"
   },
   {
    "duration": 20,
    "start_time": "2021-09-02T16:13:08.649Z"
   },
   {
    "duration": 22,
    "start_time": "2021-09-02T16:13:08.671Z"
   },
   {
    "duration": 363,
    "start_time": "2021-09-02T16:13:08.695Z"
   },
   {
    "duration": 18,
    "start_time": "2021-09-02T16:13:09.060Z"
   },
   {
    "duration": 2113,
    "start_time": "2021-09-02T16:13:09.080Z"
   },
   {
    "duration": 5,
    "start_time": "2021-09-02T16:13:11.194Z"
   },
   {
    "duration": 983,
    "start_time": "2021-09-02T16:13:31.254Z"
   },
   {
    "duration": 11,
    "start_time": "2021-09-02T16:13:32.239Z"
   },
   {
    "duration": 3,
    "start_time": "2021-09-02T16:13:32.252Z"
   },
   {
    "duration": 29,
    "start_time": "2021-09-02T16:13:32.257Z"
   },
   {
    "duration": 7,
    "start_time": "2021-09-02T16:13:32.287Z"
   },
   {
    "duration": 8,
    "start_time": "2021-09-02T16:13:32.296Z"
   },
   {
    "duration": 42,
    "start_time": "2021-09-02T16:13:32.306Z"
   },
   {
    "duration": 6,
    "start_time": "2021-09-02T16:13:32.351Z"
   },
   {
    "duration": 10,
    "start_time": "2021-09-02T16:13:32.359Z"
   },
   {
    "duration": 12,
    "start_time": "2021-09-02T16:13:32.371Z"
   },
   {
    "duration": 434,
    "start_time": "2021-09-02T16:13:32.384Z"
   },
   {
    "duration": 8,
    "start_time": "2021-09-02T16:13:32.820Z"
   },
   {
    "duration": 8,
    "start_time": "2021-09-02T16:13:32.840Z"
   },
   {
    "duration": 415,
    "start_time": "2021-09-02T16:13:32.850Z"
   },
   {
    "duration": 13,
    "start_time": "2021-09-02T16:13:33.266Z"
   },
   {
    "duration": 19,
    "start_time": "2021-09-02T16:13:33.281Z"
   },
   {
    "duration": 9,
    "start_time": "2021-09-02T16:13:33.302Z"
   },
   {
    "duration": 30,
    "start_time": "2021-09-02T16:13:33.312Z"
   },
   {
    "duration": 8,
    "start_time": "2021-09-02T16:13:33.344Z"
   },
   {
    "duration": 15,
    "start_time": "2021-09-02T16:13:33.354Z"
   },
   {
    "duration": 9,
    "start_time": "2021-09-02T16:13:33.371Z"
   },
   {
    "duration": 88,
    "start_time": "2021-09-02T16:13:33.382Z"
   },
   {
    "duration": 7,
    "start_time": "2021-09-02T16:13:33.474Z"
   },
   {
    "duration": 20,
    "start_time": "2021-09-02T16:13:33.483Z"
   },
   {
    "duration": 359,
    "start_time": "2021-09-02T16:13:33.505Z"
   },
   {
    "duration": 15,
    "start_time": "2021-09-02T16:13:33.866Z"
   },
   {
    "duration": 2196,
    "start_time": "2021-09-02T16:13:33.883Z"
   },
   {
    "duration": 4,
    "start_time": "2021-09-02T16:13:36.080Z"
   },
   {
    "duration": 957,
    "start_time": "2021-09-02T16:14:07.151Z"
   },
   {
    "duration": 10,
    "start_time": "2021-09-02T16:14:28.062Z"
   },
   {
    "duration": 4,
    "start_time": "2021-09-02T16:14:36.692Z"
   },
   {
    "duration": 11,
    "start_time": "2021-09-02T16:14:41.201Z"
   },
   {
    "duration": 4,
    "start_time": "2021-09-02T16:15:07.724Z"
   },
   {
    "duration": 940,
    "start_time": "2021-09-02T16:15:13.927Z"
   },
   {
    "duration": 12,
    "start_time": "2021-09-02T16:15:14.872Z"
   },
   {
    "duration": 5,
    "start_time": "2021-09-02T16:15:14.886Z"
   },
   {
    "duration": 23,
    "start_time": "2021-09-02T16:15:14.893Z"
   },
   {
    "duration": 5,
    "start_time": "2021-09-02T16:15:14.918Z"
   },
   {
    "duration": 8,
    "start_time": "2021-09-02T16:15:14.941Z"
   },
   {
    "duration": 23,
    "start_time": "2021-09-02T16:15:14.952Z"
   },
   {
    "duration": 5,
    "start_time": "2021-09-02T16:15:14.977Z"
   },
   {
    "duration": 13223,
    "start_time": "2021-09-02T16:15:14.984Z"
   },
   {
    "duration": 2116,
    "start_time": "2021-09-02T16:15:26.093Z"
   },
   {
    "duration": 2100,
    "start_time": "2021-09-02T16:15:26.110Z"
   },
   {
    "duration": 2091,
    "start_time": "2021-09-02T16:15:26.120Z"
   },
   {
    "duration": 2087,
    "start_time": "2021-09-02T16:15:26.125Z"
   },
   {
    "duration": 2082,
    "start_time": "2021-09-02T16:15:26.131Z"
   },
   {
    "duration": 2074,
    "start_time": "2021-09-02T16:15:26.140Z"
   },
   {
    "duration": 2069,
    "start_time": "2021-09-02T16:15:26.146Z"
   },
   {
    "duration": 2063,
    "start_time": "2021-09-02T16:15:26.153Z"
   },
   {
    "duration": 2058,
    "start_time": "2021-09-02T16:15:26.159Z"
   },
   {
    "duration": 2053,
    "start_time": "2021-09-02T16:15:26.164Z"
   },
   {
    "duration": 2048,
    "start_time": "2021-09-02T16:15:26.170Z"
   },
   {
    "duration": 2044,
    "start_time": "2021-09-02T16:15:26.175Z"
   },
   {
    "duration": 2038,
    "start_time": "2021-09-02T16:15:26.182Z"
   },
   {
    "duration": 2032,
    "start_time": "2021-09-02T16:15:26.189Z"
   },
   {
    "duration": 2025,
    "start_time": "2021-09-02T16:15:26.196Z"
   },
   {
    "duration": 2020,
    "start_time": "2021-09-02T16:15:26.202Z"
   },
   {
    "duration": 2000,
    "start_time": "2021-09-02T16:15:26.223Z"
   },
   {
    "duration": 1995,
    "start_time": "2021-09-02T16:15:26.229Z"
   },
   {
    "duration": 1991,
    "start_time": "2021-09-02T16:15:26.234Z"
   },
   {
    "duration": 872,
    "start_time": "2021-09-02T16:18:34.349Z"
   },
   {
    "duration": 11,
    "start_time": "2021-09-02T16:18:35.223Z"
   },
   {
    "duration": 4,
    "start_time": "2021-09-02T16:18:35.237Z"
   },
   {
    "duration": 19,
    "start_time": "2021-09-02T16:18:35.243Z"
   },
   {
    "duration": 13,
    "start_time": "2021-09-02T16:18:35.264Z"
   },
   {
    "duration": 8,
    "start_time": "2021-09-02T16:18:35.279Z"
   },
   {
    "duration": 22,
    "start_time": "2021-09-02T16:18:35.288Z"
   },
   {
    "duration": 32,
    "start_time": "2021-09-02T16:18:35.313Z"
   },
   {
    "duration": 8,
    "start_time": "2021-09-02T16:18:35.347Z"
   },
   {
    "duration": 12,
    "start_time": "2021-09-02T16:18:35.356Z"
   },
   {
    "duration": 415,
    "start_time": "2021-09-02T16:18:35.370Z"
   },
   {
    "duration": 8,
    "start_time": "2021-09-02T16:18:35.787Z"
   },
   {
    "duration": 10,
    "start_time": "2021-09-02T16:18:35.797Z"
   },
   {
    "duration": 411,
    "start_time": "2021-09-02T16:18:35.809Z"
   },
   {
    "duration": 23,
    "start_time": "2021-09-02T16:18:36.222Z"
   },
   {
    "duration": 16,
    "start_time": "2021-09-02T16:18:36.247Z"
   },
   {
    "duration": 6,
    "start_time": "2021-09-02T16:18:36.265Z"
   },
   {
    "duration": 19,
    "start_time": "2021-09-02T16:18:36.273Z"
   },
   {
    "duration": 10,
    "start_time": "2021-09-02T16:18:36.294Z"
   },
   {
    "duration": 41,
    "start_time": "2021-09-02T16:18:36.306Z"
   },
   {
    "duration": 8,
    "start_time": "2021-09-02T16:18:36.349Z"
   },
   {
    "duration": 67,
    "start_time": "2021-09-02T16:18:36.359Z"
   },
   {
    "duration": 7,
    "start_time": "2021-09-02T16:18:36.442Z"
   },
   {
    "duration": 13,
    "start_time": "2021-09-02T16:18:36.451Z"
   },
   {
    "duration": 374,
    "start_time": "2021-09-02T16:18:36.466Z"
   },
   {
    "duration": 17,
    "start_time": "2021-09-02T16:18:36.842Z"
   },
   {
    "duration": 1928,
    "start_time": "2021-09-02T16:18:36.861Z"
   },
   {
    "duration": 4,
    "start_time": "2021-09-02T16:18:38.791Z"
   },
   {
    "duration": 10,
    "start_time": "2021-09-02T16:18:50.086Z"
   },
   {
    "duration": 10,
    "start_time": "2021-09-02T16:18:55.126Z"
   },
   {
    "duration": 1131,
    "start_time": "2021-09-02T16:19:00.141Z"
   },
   {
    "duration": 11,
    "start_time": "2021-09-02T16:19:01.274Z"
   },
   {
    "duration": 8,
    "start_time": "2021-09-02T16:19:01.290Z"
   },
   {
    "duration": 44,
    "start_time": "2021-09-02T16:19:01.300Z"
   },
   {
    "duration": 17,
    "start_time": "2021-09-02T16:19:01.346Z"
   },
   {
    "duration": 31,
    "start_time": "2021-09-02T16:19:01.365Z"
   },
   {
    "duration": 50,
    "start_time": "2021-09-02T16:19:01.399Z"
   },
   {
    "duration": 20,
    "start_time": "2021-09-02T16:19:01.451Z"
   },
   {
    "duration": 33,
    "start_time": "2021-09-02T16:19:01.473Z"
   },
   {
    "duration": 29,
    "start_time": "2021-09-02T16:19:01.508Z"
   },
   {
    "duration": 476,
    "start_time": "2021-09-02T16:19:01.539Z"
   },
   {
    "duration": 8,
    "start_time": "2021-09-02T16:19:02.017Z"
   },
   {
    "duration": 58,
    "start_time": "2021-09-02T16:19:02.027Z"
   },
   {
    "duration": 465,
    "start_time": "2021-09-02T16:19:02.087Z"
   },
   {
    "duration": 15,
    "start_time": "2021-09-02T16:19:02.554Z"
   },
   {
    "duration": 98,
    "start_time": "2021-09-02T16:19:02.571Z"
   },
   {
    "duration": 15,
    "start_time": "2021-09-02T16:19:02.670Z"
   },
   {
    "duration": 49,
    "start_time": "2021-09-02T16:19:02.687Z"
   },
   {
    "duration": 37,
    "start_time": "2021-09-02T16:19:02.738Z"
   },
   {
    "duration": 33,
    "start_time": "2021-09-02T16:19:02.777Z"
   },
   {
    "duration": 24,
    "start_time": "2021-09-02T16:19:02.812Z"
   },
   {
    "duration": 29,
    "start_time": "2021-09-02T16:19:02.840Z"
   },
   {
    "duration": 20,
    "start_time": "2021-09-02T16:19:02.872Z"
   },
   {
    "duration": 32,
    "start_time": "2021-09-02T16:19:02.894Z"
   },
   {
    "duration": 439,
    "start_time": "2021-09-02T16:19:02.928Z"
   },
   {
    "duration": 17,
    "start_time": "2021-09-02T16:19:03.370Z"
   },
   {
    "duration": 2054,
    "start_time": "2021-09-02T16:19:03.390Z"
   },
   {
    "duration": 4,
    "start_time": "2021-09-02T16:19:05.446Z"
   },
   {
    "duration": 9,
    "start_time": "2021-09-02T16:19:38.908Z"
   },
   {
    "duration": 11,
    "start_time": "2021-09-02T16:19:46.983Z"
   },
   {
    "duration": 966,
    "start_time": "2021-09-02T16:19:54.244Z"
   },
   {
    "duration": 10,
    "start_time": "2021-09-02T16:19:55.212Z"
   },
   {
    "duration": 6,
    "start_time": "2021-09-02T16:19:55.224Z"
   },
   {
    "duration": 24,
    "start_time": "2021-09-02T16:19:55.232Z"
   },
   {
    "duration": 7,
    "start_time": "2021-09-02T16:19:55.257Z"
   },
   {
    "duration": 15,
    "start_time": "2021-09-02T16:19:55.266Z"
   },
   {
    "duration": 24,
    "start_time": "2021-09-02T16:19:55.284Z"
   },
   {
    "duration": 8,
    "start_time": "2021-09-02T16:19:55.311Z"
   },
   {
    "duration": 24,
    "start_time": "2021-09-02T16:19:55.322Z"
   },
   {
    "duration": 8,
    "start_time": "2021-09-02T16:19:55.348Z"
   },
   {
    "duration": 645,
    "start_time": "2021-09-02T16:19:55.358Z"
   },
   {
    "duration": 7,
    "start_time": "2021-09-02T16:19:56.005Z"
   },
   {
    "duration": 10,
    "start_time": "2021-09-02T16:19:56.014Z"
   },
   {
    "duration": 455,
    "start_time": "2021-09-02T16:19:56.040Z"
   },
   {
    "duration": 14,
    "start_time": "2021-09-02T16:19:56.497Z"
   },
   {
    "duration": 29,
    "start_time": "2021-09-02T16:19:56.513Z"
   },
   {
    "duration": 7,
    "start_time": "2021-09-02T16:19:56.544Z"
   },
   {
    "duration": 28,
    "start_time": "2021-09-02T16:19:56.553Z"
   },
   {
    "duration": 12,
    "start_time": "2021-09-02T16:19:56.583Z"
   },
   {
    "duration": 36,
    "start_time": "2021-09-02T16:19:56.597Z"
   },
   {
    "duration": 15,
    "start_time": "2021-09-02T16:19:56.635Z"
   },
   {
    "duration": 74,
    "start_time": "2021-09-02T16:19:56.652Z"
   },
   {
    "duration": 18,
    "start_time": "2021-09-02T16:19:56.729Z"
   },
   {
    "duration": 20,
    "start_time": "2021-09-02T16:19:56.749Z"
   },
   {
    "duration": 352,
    "start_time": "2021-09-02T16:19:56.771Z"
   },
   {
    "duration": 24,
    "start_time": "2021-09-02T16:19:57.125Z"
   },
   {
    "duration": 2077,
    "start_time": "2021-09-02T16:19:57.151Z"
   },
   {
    "duration": 13,
    "start_time": "2021-09-02T16:19:59.230Z"
   },
   {
    "duration": 397,
    "start_time": "2021-09-02T16:23:44.712Z"
   },
   {
    "duration": 1935,
    "start_time": "2021-09-02T16:23:50.791Z"
   },
   {
    "duration": 1829,
    "start_time": "2021-09-02T16:24:27.177Z"
   },
   {
    "duration": 41,
    "start_time": "2021-09-02T16:27:59.250Z"
   },
   {
    "duration": 43,
    "start_time": "2021-09-02T16:28:17.603Z"
   },
   {
    "duration": 558,
    "start_time": "2021-09-02T16:29:17.965Z"
   },
   {
    "duration": 754,
    "start_time": "2021-09-02T16:29:36.504Z"
   },
   {
    "duration": 491,
    "start_time": "2021-09-02T16:30:18.190Z"
   },
   {
    "duration": 1912,
    "start_time": "2021-09-02T16:30:44.122Z"
   },
   {
    "duration": 798,
    "start_time": "2021-09-02T16:30:51.374Z"
   },
   {
    "duration": 1391,
    "start_time": "2021-09-02T16:31:01.552Z"
   },
   {
    "duration": 43,
    "start_time": "2021-09-02T16:31:47.660Z"
   },
   {
    "duration": 40,
    "start_time": "2021-09-02T16:32:47.378Z"
   },
   {
    "duration": 45,
    "start_time": "2021-09-02T16:33:19.504Z"
   },
   {
    "duration": 36,
    "start_time": "2021-09-02T16:34:37.533Z"
   },
   {
    "duration": 500,
    "start_time": "2021-09-02T16:34:52.127Z"
   },
   {
    "duration": 17229,
    "start_time": "2021-09-02T16:35:20.403Z"
   },
   {
    "duration": 1156,
    "start_time": "2021-09-02T16:35:43.577Z"
   },
   {
    "duration": 1667,
    "start_time": "2021-09-02T16:36:31.902Z"
   },
   {
    "duration": 2142,
    "start_time": "2021-09-02T16:37:12.887Z"
   },
   {
    "duration": 1819,
    "start_time": "2021-09-02T16:37:25.423Z"
   },
   {
    "duration": 1980,
    "start_time": "2021-09-02T16:41:38.067Z"
   },
   {
    "duration": 1926,
    "start_time": "2021-09-02T16:42:06.864Z"
   },
   {
    "duration": 1822,
    "start_time": "2021-09-02T16:42:23.208Z"
   },
   {
    "duration": 1005,
    "start_time": "2021-09-02T16:43:37.279Z"
   },
   {
    "duration": 1149,
    "start_time": "2021-09-02T16:43:55.392Z"
   },
   {
    "duration": 851,
    "start_time": "2021-09-02T16:44:40.910Z"
   },
   {
    "duration": 1754,
    "start_time": "2021-09-02T16:45:25.435Z"
   },
   {
    "duration": 356,
    "start_time": "2021-09-02T16:49:27.577Z"
   },
   {
    "duration": 342,
    "start_time": "2021-09-02T16:50:03.759Z"
   },
   {
    "duration": 349,
    "start_time": "2021-09-02T16:50:39.960Z"
   },
   {
    "duration": 23,
    "start_time": "2021-09-02T17:02:22.619Z"
   },
   {
    "duration": 16,
    "start_time": "2021-09-02T17:02:50.602Z"
   },
   {
    "duration": 15,
    "start_time": "2021-09-02T17:04:08.880Z"
   },
   {
    "duration": 11,
    "start_time": "2021-09-02T17:08:58.330Z"
   },
   {
    "duration": 23,
    "start_time": "2021-09-02T17:09:06.232Z"
   },
   {
    "duration": 1988,
    "start_time": "2021-09-02T17:10:57.355Z"
   },
   {
    "duration": 767,
    "start_time": "2021-09-02T17:12:22.885Z"
   },
   {
    "duration": 16,
    "start_time": "2021-09-02T17:12:29.339Z"
   },
   {
    "duration": 16,
    "start_time": "2021-09-02T17:18:52.482Z"
   },
   {
    "duration": 929,
    "start_time": "2021-09-02T17:18:57.868Z"
   },
   {
    "duration": 11,
    "start_time": "2021-09-02T17:18:58.799Z"
   },
   {
    "duration": 9,
    "start_time": "2021-09-02T17:18:58.813Z"
   },
   {
    "duration": 30,
    "start_time": "2021-09-02T17:18:58.824Z"
   },
   {
    "duration": 5,
    "start_time": "2021-09-02T17:18:58.856Z"
   },
   {
    "duration": 11,
    "start_time": "2021-09-02T17:18:58.863Z"
   },
   {
    "duration": 29,
    "start_time": "2021-09-02T17:18:58.876Z"
   },
   {
    "duration": 9,
    "start_time": "2021-09-02T17:18:58.907Z"
   },
   {
    "duration": 26,
    "start_time": "2021-09-02T17:18:58.918Z"
   },
   {
    "duration": 15,
    "start_time": "2021-09-02T17:18:58.945Z"
   },
   {
    "duration": 404,
    "start_time": "2021-09-02T17:18:58.962Z"
   },
   {
    "duration": 8,
    "start_time": "2021-09-02T17:18:59.368Z"
   },
   {
    "duration": 9,
    "start_time": "2021-09-02T17:18:59.378Z"
   },
   {
    "duration": 410,
    "start_time": "2021-09-02T17:18:59.389Z"
   },
   {
    "duration": 14,
    "start_time": "2021-09-02T17:18:59.801Z"
   },
   {
    "duration": 35,
    "start_time": "2021-09-02T17:18:59.816Z"
   },
   {
    "duration": 4,
    "start_time": "2021-09-02T17:18:59.852Z"
   },
   {
    "duration": 18,
    "start_time": "2021-09-02T17:18:59.858Z"
   },
   {
    "duration": 11,
    "start_time": "2021-09-02T17:18:59.878Z"
   },
   {
    "duration": 15,
    "start_time": "2021-09-02T17:18:59.891Z"
   },
   {
    "duration": 10,
    "start_time": "2021-09-02T17:18:59.908Z"
   },
   {
    "duration": 85,
    "start_time": "2021-09-02T17:18:59.919Z"
   },
   {
    "duration": 27,
    "start_time": "2021-09-02T17:19:00.007Z"
   },
   {
    "duration": 22,
    "start_time": "2021-09-02T17:19:00.036Z"
   },
   {
    "duration": 367,
    "start_time": "2021-09-02T17:19:00.060Z"
   },
   {
    "duration": 23,
    "start_time": "2021-09-02T17:19:00.430Z"
   },
   {
    "duration": 1961,
    "start_time": "2021-09-02T17:19:00.455Z"
   },
   {
    "duration": 14,
    "start_time": "2021-09-02T17:19:02.418Z"
   },
   {
    "duration": 1882,
    "start_time": "2021-09-02T17:21:04.808Z"
   },
   {
    "duration": 428,
    "start_time": "2021-09-02T17:24:25.145Z"
   },
   {
    "duration": 7,
    "start_time": "2021-09-02T17:28:47.726Z"
   },
   {
    "duration": 11,
    "start_time": "2021-09-02T17:29:05.650Z"
   },
   {
    "duration": 1513,
    "start_time": "2021-09-02T17:30:54.511Z"
   },
   {
    "duration": 1032,
    "start_time": "2021-09-02T17:36:06.665Z"
   },
   {
    "duration": 1031,
    "start_time": "2021-09-02T17:36:17.214Z"
   },
   {
    "duration": 1111,
    "start_time": "2021-09-02T17:36:37.378Z"
   },
   {
    "duration": 22,
    "start_time": "2021-09-02T17:36:52.049Z"
   },
   {
    "duration": 323,
    "start_time": "2021-09-02T17:37:05.464Z"
   },
   {
    "duration": 19,
    "start_time": "2021-09-02T17:37:18.600Z"
   },
   {
    "duration": 34,
    "start_time": "2021-09-02T17:37:44.642Z"
   },
   {
    "duration": 22,
    "start_time": "2021-09-02T17:37:52.788Z"
   },
   {
    "duration": 435,
    "start_time": "2021-09-02T17:37:58.314Z"
   },
   {
    "duration": 529,
    "start_time": "2021-09-02T17:38:39.301Z"
   },
   {
    "duration": 275,
    "start_time": "2021-09-02T17:39:04.298Z"
   },
   {
    "duration": 995,
    "start_time": "2021-09-02T17:39:27.704Z"
   },
   {
    "duration": 289,
    "start_time": "2021-09-02T17:39:40.040Z"
   },
   {
    "duration": 738,
    "start_time": "2021-09-02T17:40:04.604Z"
   },
   {
    "duration": 288,
    "start_time": "2021-09-02T17:40:31.490Z"
   },
   {
    "duration": 310,
    "start_time": "2021-09-02T17:40:50.815Z"
   },
   {
    "duration": 291,
    "start_time": "2021-09-02T17:41:09.537Z"
   },
   {
    "duration": 452,
    "start_time": "2021-09-02T17:41:26.998Z"
   },
   {
    "duration": 2193,
    "start_time": "2021-09-02T17:41:36.221Z"
   },
   {
    "duration": 704,
    "start_time": "2021-09-04T07:03:27.229Z"
   },
   {
    "duration": 11,
    "start_time": "2021-09-04T07:03:27.934Z"
   },
   {
    "duration": 31,
    "start_time": "2021-09-04T07:03:27.947Z"
   },
   {
    "duration": 31,
    "start_time": "2021-09-04T07:03:27.980Z"
   },
   {
    "duration": 24,
    "start_time": "2021-09-04T07:03:28.013Z"
   },
   {
    "duration": 17,
    "start_time": "2021-09-04T07:03:28.039Z"
   },
   {
    "duration": 45,
    "start_time": "2021-09-04T07:03:28.058Z"
   },
   {
    "duration": 11,
    "start_time": "2021-09-04T07:03:28.107Z"
   },
   {
    "duration": 26,
    "start_time": "2021-09-04T07:03:28.120Z"
   },
   {
    "duration": 17,
    "start_time": "2021-09-04T07:03:28.148Z"
   },
   {
    "duration": 363,
    "start_time": "2021-09-04T07:03:28.166Z"
   },
   {
    "duration": 14,
    "start_time": "2021-09-04T07:03:28.531Z"
   },
   {
    "duration": 28,
    "start_time": "2021-09-04T07:03:28.547Z"
   },
   {
    "duration": 366,
    "start_time": "2021-09-04T07:03:28.577Z"
   },
   {
    "duration": 11,
    "start_time": "2021-09-04T07:03:28.945Z"
   },
   {
    "duration": 35,
    "start_time": "2021-09-04T07:03:28.958Z"
   },
   {
    "duration": 18,
    "start_time": "2021-09-04T07:03:28.995Z"
   },
   {
    "duration": 30,
    "start_time": "2021-09-04T07:03:29.015Z"
   },
   {
    "duration": 16,
    "start_time": "2021-09-04T07:03:29.047Z"
   },
   {
    "duration": 23,
    "start_time": "2021-09-04T07:03:29.065Z"
   },
   {
    "duration": 15,
    "start_time": "2021-09-04T07:03:29.090Z"
   },
   {
    "duration": 77,
    "start_time": "2021-09-04T07:03:29.107Z"
   },
   {
    "duration": 28,
    "start_time": "2021-09-04T07:03:29.188Z"
   },
   {
    "duration": 14,
    "start_time": "2021-09-04T07:03:29.218Z"
   },
   {
    "duration": 320,
    "start_time": "2021-09-04T07:03:29.234Z"
   },
   {
    "duration": 14,
    "start_time": "2021-09-04T07:03:29.556Z"
   },
   {
    "duration": 1710,
    "start_time": "2021-09-04T07:03:29.572Z"
   },
   {
    "duration": 14,
    "start_time": "2021-09-04T07:03:31.285Z"
   },
   {
    "duration": 11,
    "start_time": "2021-09-04T07:03:31.301Z"
   },
   {
    "duration": 253,
    "start_time": "2021-09-04T07:03:31.313Z"
   },
   {
    "duration": 1309,
    "start_time": "2021-09-04T07:03:31.569Z"
   },
   {
    "duration": 1290,
    "start_time": "2021-09-04T07:16:05.475Z"
   },
   {
    "duration": 328,
    "start_time": "2021-09-04T07:28:32.244Z"
   },
   {
    "duration": 1374,
    "start_time": "2021-09-04T07:28:48.836Z"
   },
   {
    "duration": 3,
    "start_time": "2021-09-04T07:32:27.844Z"
   },
   {
    "duration": 917,
    "start_time": "2021-09-04T07:32:37.132Z"
   },
   {
    "duration": 345,
    "start_time": "2021-09-04T07:33:02.953Z"
   },
   {
    "duration": 1401,
    "start_time": "2021-09-04T07:33:15.866Z"
   },
   {
    "duration": 6817,
    "start_time": "2021-09-04T07:35:38.415Z"
   },
   {
    "duration": 271,
    "start_time": "2021-09-04T07:36:04.390Z"
   },
   {
    "duration": 682,
    "start_time": "2021-09-04T07:36:14.463Z"
   },
   {
    "duration": 10,
    "start_time": "2021-09-04T07:36:15.147Z"
   },
   {
    "duration": 9,
    "start_time": "2021-09-04T07:36:15.159Z"
   },
   {
    "duration": 26,
    "start_time": "2021-09-04T07:36:15.170Z"
   },
   {
    "duration": 7,
    "start_time": "2021-09-04T07:36:15.198Z"
   },
   {
    "duration": 11,
    "start_time": "2021-09-04T07:36:15.207Z"
   },
   {
    "duration": 30,
    "start_time": "2021-09-04T07:36:15.219Z"
   },
   {
    "duration": 13,
    "start_time": "2021-09-04T07:36:15.251Z"
   },
   {
    "duration": 6,
    "start_time": "2021-09-04T07:36:15.267Z"
   },
   {
    "duration": 26,
    "start_time": "2021-09-04T07:36:15.275Z"
   },
   {
    "duration": 438,
    "start_time": "2021-09-04T07:36:15.303Z"
   },
   {
    "duration": 8,
    "start_time": "2021-09-04T07:36:15.742Z"
   },
   {
    "duration": 25,
    "start_time": "2021-09-04T07:36:15.751Z"
   },
   {
    "duration": 380,
    "start_time": "2021-09-04T07:36:15.778Z"
   },
   {
    "duration": 13,
    "start_time": "2021-09-04T07:36:16.160Z"
   },
   {
    "duration": 35,
    "start_time": "2021-09-04T07:36:16.174Z"
   },
   {
    "duration": 19,
    "start_time": "2021-09-04T07:36:16.211Z"
   },
   {
    "duration": 18,
    "start_time": "2021-09-04T07:36:16.232Z"
   },
   {
    "duration": 16,
    "start_time": "2021-09-04T07:36:16.252Z"
   },
   {
    "duration": 31,
    "start_time": "2021-09-04T07:36:16.270Z"
   },
   {
    "duration": 27,
    "start_time": "2021-09-04T07:36:16.303Z"
   },
   {
    "duration": 88,
    "start_time": "2021-09-04T07:36:16.332Z"
   },
   {
    "duration": 21,
    "start_time": "2021-09-04T07:36:16.423Z"
   },
   {
    "duration": 15,
    "start_time": "2021-09-04T07:36:16.447Z"
   },
   {
    "duration": 312,
    "start_time": "2021-09-04T07:36:16.464Z"
   },
   {
    "duration": 15,
    "start_time": "2021-09-04T07:36:16.777Z"
   },
   {
    "duration": 1719,
    "start_time": "2021-09-04T07:36:16.794Z"
   },
   {
    "duration": 13,
    "start_time": "2021-09-04T07:36:18.515Z"
   },
   {
    "duration": 7,
    "start_time": "2021-09-04T07:36:18.541Z"
   },
   {
    "duration": 1335,
    "start_time": "2021-09-04T07:36:18.550Z"
   },
   {
    "duration": 2,
    "start_time": "2021-09-04T07:36:19.887Z"
   },
   {
    "duration": 1512,
    "start_time": "2021-09-04T07:36:19.891Z"
   },
   {
    "duration": 340,
    "start_time": "2021-09-04T07:36:21.405Z"
   },
   {
    "duration": 349,
    "start_time": "2021-09-04T07:37:25.227Z"
   },
   {
    "duration": 6594,
    "start_time": "2021-09-04T07:37:33.072Z"
   },
   {
    "duration": 283,
    "start_time": "2021-09-04T07:38:37.573Z"
   },
   {
    "duration": 263,
    "start_time": "2021-09-04T07:38:51.870Z"
   },
   {
    "duration": 6848,
    "start_time": "2021-09-04T07:39:01.797Z"
   },
   {
    "duration": 10,
    "start_time": "2021-09-04T08:27:03.415Z"
   },
   {
    "duration": 12,
    "start_time": "2021-09-04T08:27:34.059Z"
   },
   {
    "duration": 10,
    "start_time": "2021-09-04T08:27:42.419Z"
   },
   {
    "duration": 4,
    "start_time": "2021-09-04T08:31:43.214Z"
   },
   {
    "duration": 653,
    "start_time": "2021-09-04T08:31:47.184Z"
   },
   {
    "duration": 11,
    "start_time": "2021-09-04T08:31:47.839Z"
   },
   {
    "duration": 3,
    "start_time": "2021-09-04T08:31:47.852Z"
   },
   {
    "duration": 24,
    "start_time": "2021-09-04T08:31:47.857Z"
   },
   {
    "duration": 6,
    "start_time": "2021-09-04T08:31:47.882Z"
   },
   {
    "duration": 8,
    "start_time": "2021-09-04T08:31:47.889Z"
   },
   {
    "duration": 21,
    "start_time": "2021-09-04T08:31:47.898Z"
   },
   {
    "duration": 25,
    "start_time": "2021-09-04T08:31:47.921Z"
   },
   {
    "duration": 6,
    "start_time": "2021-09-04T08:31:47.949Z"
   },
   {
    "duration": 11,
    "start_time": "2021-09-04T08:31:47.957Z"
   },
   {
    "duration": 371,
    "start_time": "2021-09-04T08:31:47.969Z"
   },
   {
    "duration": 7,
    "start_time": "2021-09-04T08:31:48.342Z"
   },
   {
    "duration": 14,
    "start_time": "2021-09-04T08:31:48.350Z"
   },
   {
    "duration": 19,
    "start_time": "2021-09-04T08:31:48.366Z"
   },
   {
    "duration": 349,
    "start_time": "2021-09-04T08:31:48.387Z"
   },
   {
    "duration": 13,
    "start_time": "2021-09-04T08:31:48.737Z"
   },
   {
    "duration": 15,
    "start_time": "2021-09-04T08:31:48.751Z"
   },
   {
    "duration": 6,
    "start_time": "2021-09-04T08:31:48.768Z"
   },
   {
    "duration": 14,
    "start_time": "2021-09-04T08:31:48.776Z"
   },
   {
    "duration": 9,
    "start_time": "2021-09-04T08:31:48.792Z"
   },
   {
    "duration": 14,
    "start_time": "2021-09-04T08:31:48.802Z"
   },
   {
    "duration": 27,
    "start_time": "2021-09-04T08:31:48.817Z"
   },
   {
    "duration": 19,
    "start_time": "2021-09-04T08:31:48.848Z"
   },
   {
    "duration": 8,
    "start_time": "2021-09-04T08:31:48.869Z"
   },
   {
    "duration": 12,
    "start_time": "2021-09-04T08:31:48.879Z"
   },
   {
    "duration": 487,
    "start_time": "2021-09-04T08:31:48.892Z"
   },
   {
    "duration": 13,
    "start_time": "2021-09-04T08:31:49.381Z"
   },
   {
    "duration": 1706,
    "start_time": "2021-09-04T08:31:49.395Z"
   },
   {
    "duration": 13,
    "start_time": "2021-09-04T08:31:51.102Z"
   },
   {
    "duration": 6,
    "start_time": "2021-09-04T08:31:51.117Z"
   },
   {
    "duration": 1270,
    "start_time": "2021-09-04T08:31:51.125Z"
   },
   {
    "duration": 2,
    "start_time": "2021-09-04T08:31:52.397Z"
   },
   {
    "duration": 1359,
    "start_time": "2021-09-04T08:31:52.401Z"
   },
   {
    "duration": 10,
    "start_time": "2021-09-04T08:31:53.762Z"
   },
   {
    "duration": 338,
    "start_time": "2021-09-04T08:33:39.513Z"
   },
   {
    "duration": 1523,
    "start_time": "2021-09-04T08:34:51.497Z"
   },
   {
    "duration": 1511,
    "start_time": "2021-09-04T08:39:09.212Z"
   },
   {
    "duration": 1506,
    "start_time": "2021-09-04T08:40:01.921Z"
   },
   {
    "duration": 3064,
    "start_time": "2021-09-04T08:40:25.057Z"
   },
   {
    "duration": 1565,
    "start_time": "2021-09-04T08:41:13.060Z"
   },
   {
    "duration": 1491,
    "start_time": "2021-09-04T08:42:47.357Z"
   },
   {
    "duration": 1646,
    "start_time": "2021-09-04T08:43:26.004Z"
   },
   {
    "duration": 290,
    "start_time": "2021-09-04T08:44:33.085Z"
   },
   {
    "duration": 1929,
    "start_time": "2021-09-04T08:45:07.727Z"
   },
   {
    "duration": 1531,
    "start_time": "2021-09-04T08:45:38.635Z"
   },
   {
    "duration": 1626,
    "start_time": "2021-09-04T08:45:59.426Z"
   },
   {
    "duration": 2547,
    "start_time": "2021-09-04T08:47:26.942Z"
   },
   {
    "duration": 1731,
    "start_time": "2021-09-04T08:51:14.636Z"
   },
   {
    "duration": 1561,
    "start_time": "2021-09-04T08:51:27.401Z"
   },
   {
    "duration": 1891,
    "start_time": "2021-09-04T08:51:43.490Z"
   },
   {
    "duration": 1635,
    "start_time": "2021-09-04T08:52:06.624Z"
   },
   {
    "duration": 1551,
    "start_time": "2021-09-04T08:52:26.000Z"
   },
   {
    "duration": 1641,
    "start_time": "2021-09-04T08:53:45.519Z"
   },
   {
    "duration": 1550,
    "start_time": "2021-09-04T08:54:20.013Z"
   },
   {
    "duration": 1481,
    "start_time": "2021-09-04T08:57:05.674Z"
   },
   {
    "duration": 2723,
    "start_time": "2021-09-04T08:59:19.159Z"
   },
   {
    "duration": 103,
    "start_time": "2021-09-04T09:00:53.219Z"
   },
   {
    "duration": 2776,
    "start_time": "2021-09-04T09:01:06.791Z"
   },
   {
    "duration": 2615,
    "start_time": "2021-09-04T09:02:41.484Z"
   },
   {
    "duration": 2802,
    "start_time": "2021-09-04T09:02:56.803Z"
   },
   {
    "duration": 3198,
    "start_time": "2021-09-04T09:05:12.439Z"
   },
   {
    "duration": 16,
    "start_time": "2021-09-05T10:40:31.950Z"
   },
   {
    "duration": 15,
    "start_time": "2021-09-05T10:40:57.339Z"
   },
   {
    "duration": 301,
    "start_time": "2021-09-05T10:44:08.299Z"
   },
   {
    "duration": 303,
    "start_time": "2021-09-05T10:44:30.510Z"
   },
   {
    "duration": 16,
    "start_time": "2021-09-05T10:44:42.317Z"
   },
   {
    "duration": 767,
    "start_time": "2021-09-05T10:44:49.018Z"
   },
   {
    "duration": 11,
    "start_time": "2021-09-05T10:44:49.788Z"
   },
   {
    "duration": 3,
    "start_time": "2021-09-05T10:44:49.802Z"
   },
   {
    "duration": 19,
    "start_time": "2021-09-05T10:44:49.808Z"
   },
   {
    "duration": 12,
    "start_time": "2021-09-05T10:44:49.829Z"
   },
   {
    "duration": 12,
    "start_time": "2021-09-05T10:44:49.843Z"
   },
   {
    "duration": 23,
    "start_time": "2021-09-05T10:44:49.857Z"
   },
   {
    "duration": 9,
    "start_time": "2021-09-05T10:44:49.883Z"
   },
   {
    "duration": 11,
    "start_time": "2021-09-05T10:44:49.894Z"
   },
   {
    "duration": 37,
    "start_time": "2021-09-05T10:44:49.907Z"
   },
   {
    "duration": 433,
    "start_time": "2021-09-05T10:44:49.946Z"
   },
   {
    "duration": 11,
    "start_time": "2021-09-05T10:44:50.382Z"
   },
   {
    "duration": 17,
    "start_time": "2021-09-05T10:44:50.395Z"
   },
   {
    "duration": 12,
    "start_time": "2021-09-05T10:44:50.415Z"
   },
   {
    "duration": 668,
    "start_time": "2021-09-05T10:44:50.442Z"
   },
   {
    "duration": 20,
    "start_time": "2021-09-05T10:44:51.113Z"
   },
   {
    "duration": 23,
    "start_time": "2021-09-05T10:44:51.142Z"
   },
   {
    "duration": 7,
    "start_time": "2021-09-05T10:44:51.167Z"
   },
   {
    "duration": 21,
    "start_time": "2021-09-05T10:44:51.177Z"
   },
   {
    "duration": 43,
    "start_time": "2021-09-05T10:44:51.201Z"
   },
   {
    "duration": 24,
    "start_time": "2021-09-05T10:44:51.247Z"
   },
   {
    "duration": 13,
    "start_time": "2021-09-05T10:44:51.274Z"
   },
   {
    "duration": 26,
    "start_time": "2021-09-05T10:44:51.292Z"
   },
   {
    "duration": 24,
    "start_time": "2021-09-05T10:44:51.321Z"
   },
   {
    "duration": 19,
    "start_time": "2021-09-05T10:44:51.347Z"
   },
   {
    "duration": 622,
    "start_time": "2021-09-05T10:44:51.368Z"
   },
   {
    "duration": 21,
    "start_time": "2021-09-05T10:44:51.992Z"
   },
   {
    "duration": 2574,
    "start_time": "2021-09-05T10:44:52.015Z"
   },
   {
    "duration": 15,
    "start_time": "2021-09-05T10:44:54.591Z"
   },
   {
    "duration": 9,
    "start_time": "2021-09-05T10:44:54.608Z"
   },
   {
    "duration": 2181,
    "start_time": "2021-09-05T10:44:54.619Z"
   },
   {
    "duration": 3,
    "start_time": "2021-09-05T10:44:56.802Z"
   },
   {
    "duration": 1590,
    "start_time": "2021-09-05T10:44:56.807Z"
   },
   {
    "duration": 3050,
    "start_time": "2021-09-05T10:44:58.399Z"
   },
   {
    "duration": 17,
    "start_time": "2021-09-05T10:45:01.453Z"
   },
   {
    "duration": 354,
    "start_time": "2021-09-05T10:56:59.824Z"
   },
   {
    "duration": 16,
    "start_time": "2021-09-05T10:57:13.894Z"
   },
   {
    "duration": 825,
    "start_time": "2021-09-05T10:57:51.036Z"
   },
   {
    "duration": 26,
    "start_time": "2021-09-05T10:58:15.735Z"
   },
   {
    "duration": 28,
    "start_time": "2021-09-05T10:58:25.718Z"
   },
   {
    "duration": 26,
    "start_time": "2021-09-05T10:58:46.709Z"
   },
   {
    "duration": 332,
    "start_time": "2021-09-05T11:03:28.704Z"
   },
   {
    "duration": 16,
    "start_time": "2021-09-05T11:03:41.067Z"
   },
   {
    "duration": 16,
    "start_time": "2021-09-05T11:03:58.667Z"
   },
   {
    "duration": 928,
    "start_time": "2021-09-05T11:07:41.936Z"
   },
   {
    "duration": 38,
    "start_time": "2021-09-05T11:07:42.866Z"
   },
   {
    "duration": 14,
    "start_time": "2021-09-05T11:07:42.906Z"
   },
   {
    "duration": 86,
    "start_time": "2021-09-05T11:07:42.922Z"
   },
   {
    "duration": 34,
    "start_time": "2021-09-05T11:07:43.010Z"
   },
   {
    "duration": 26,
    "start_time": "2021-09-05T11:07:43.046Z"
   },
   {
    "duration": 86,
    "start_time": "2021-09-05T11:07:43.074Z"
   },
   {
    "duration": 21,
    "start_time": "2021-09-05T11:07:43.163Z"
   },
   {
    "duration": 29,
    "start_time": "2021-09-05T11:07:43.187Z"
   },
   {
    "duration": 34,
    "start_time": "2021-09-05T11:07:43.218Z"
   },
   {
    "duration": 451,
    "start_time": "2021-09-05T11:07:43.254Z"
   },
   {
    "duration": 9,
    "start_time": "2021-09-05T11:07:43.707Z"
   },
   {
    "duration": 24,
    "start_time": "2021-09-05T11:07:43.718Z"
   },
   {
    "duration": 25,
    "start_time": "2021-09-05T11:07:43.744Z"
   },
   {
    "duration": 774,
    "start_time": "2021-09-05T11:07:43.771Z"
   },
   {
    "duration": 20,
    "start_time": "2021-09-05T11:07:44.548Z"
   },
   {
    "duration": 30,
    "start_time": "2021-09-05T11:07:44.570Z"
   },
   {
    "duration": 16,
    "start_time": "2021-09-05T11:07:44.602Z"
   },
   {
    "duration": 32,
    "start_time": "2021-09-05T11:07:44.620Z"
   },
   {
    "duration": 17,
    "start_time": "2021-09-05T11:07:44.654Z"
   },
   {
    "duration": 24,
    "start_time": "2021-09-05T11:07:44.673Z"
   },
   {
    "duration": 17,
    "start_time": "2021-09-05T11:07:44.699Z"
   },
   {
    "duration": 25,
    "start_time": "2021-09-05T11:07:44.720Z"
   },
   {
    "duration": 9,
    "start_time": "2021-09-05T11:07:44.748Z"
   },
   {
    "duration": 13,
    "start_time": "2021-09-05T11:07:44.759Z"
   },
   {
    "duration": 633,
    "start_time": "2021-09-05T11:07:44.775Z"
   },
   {
    "duration": 37,
    "start_time": "2021-09-05T11:07:45.411Z"
   },
   {
    "duration": 2073,
    "start_time": "2021-09-05T11:07:45.450Z"
   },
   {
    "duration": 27,
    "start_time": "2021-09-05T11:07:47.525Z"
   },
   {
    "duration": 9,
    "start_time": "2021-09-05T11:07:47.554Z"
   },
   {
    "duration": 2228,
    "start_time": "2021-09-05T11:07:47.566Z"
   },
   {
    "duration": 3,
    "start_time": "2021-09-05T11:07:49.796Z"
   },
   {
    "duration": 1706,
    "start_time": "2021-09-05T11:07:49.801Z"
   },
   {
    "duration": 3340,
    "start_time": "2021-09-05T11:07:51.509Z"
   },
   {
    "duration": 16,
    "start_time": "2021-09-05T11:07:54.851Z"
   },
   {
    "duration": 17,
    "start_time": "2021-09-05T11:07:54.869Z"
   },
   {
    "duration": 8,
    "start_time": "2021-09-05T11:07:54.888Z"
   },
   {
    "duration": 73,
    "start_time": "2021-09-05T11:07:54.898Z"
   },
   {
    "duration": 55,
    "start_time": "2021-09-05T11:08:21.560Z"
   },
   {
    "duration": 57,
    "start_time": "2021-09-05T11:08:49.147Z"
   },
   {
    "duration": 57,
    "start_time": "2021-09-05T11:09:28.160Z"
   },
   {
    "duration": 118,
    "start_time": "2021-09-05T11:11:31.292Z"
   },
   {
    "duration": 85,
    "start_time": "2021-09-05T11:11:39.986Z"
   },
   {
    "duration": 86,
    "start_time": "2021-09-05T11:11:51.489Z"
   },
   {
    "duration": 89,
    "start_time": "2021-09-05T11:12:02.398Z"
   },
   {
    "duration": 86,
    "start_time": "2021-09-05T11:12:11.400Z"
   },
   {
    "duration": 86,
    "start_time": "2021-09-05T11:12:35.379Z"
   },
   {
    "duration": 1786,
    "start_time": "2021-09-05T12:01:19.460Z"
   },
   {
    "duration": 1955,
    "start_time": "2021-09-05T12:01:46.452Z"
   },
   {
    "duration": 2307,
    "start_time": "2021-09-05T12:02:09.454Z"
   },
   {
    "duration": 2150,
    "start_time": "2021-09-05T12:03:08.633Z"
   },
   {
    "duration": 1825,
    "start_time": "2021-09-05T12:03:26.231Z"
   },
   {
    "duration": 1772,
    "start_time": "2021-09-05T12:18:13.150Z"
   },
   {
    "duration": 19,
    "start_time": "2021-09-05T12:18:14.925Z"
   },
   {
    "duration": 5,
    "start_time": "2021-09-05T12:18:14.946Z"
   },
   {
    "duration": 27,
    "start_time": "2021-09-05T12:18:14.954Z"
   },
   {
    "duration": 7,
    "start_time": "2021-09-05T12:18:14.984Z"
   },
   {
    "duration": 21,
    "start_time": "2021-09-05T12:18:14.994Z"
   },
   {
    "duration": 36,
    "start_time": "2021-09-05T12:18:15.041Z"
   },
   {
    "duration": 13,
    "start_time": "2021-09-05T12:18:15.081Z"
   },
   {
    "duration": 11,
    "start_time": "2021-09-05T12:18:15.098Z"
   },
   {
    "duration": 7,
    "start_time": "2021-09-05T12:18:15.142Z"
   },
   {
    "duration": 692,
    "start_time": "2021-09-05T12:18:15.152Z"
   },
   {
    "duration": 11,
    "start_time": "2021-09-05T12:18:15.847Z"
   },
   {
    "duration": 23,
    "start_time": "2021-09-05T12:18:15.860Z"
   },
   {
    "duration": 37,
    "start_time": "2021-09-05T12:18:15.885Z"
   },
   {
    "duration": 438,
    "start_time": "2021-09-05T12:18:15.925Z"
   },
   {
    "duration": 15,
    "start_time": "2021-09-05T12:18:16.366Z"
   },
   {
    "duration": 37,
    "start_time": "2021-09-05T12:18:16.383Z"
   },
   {
    "duration": 19,
    "start_time": "2021-09-05T12:18:16.422Z"
   },
   {
    "duration": 31,
    "start_time": "2021-09-05T12:18:16.443Z"
   },
   {
    "duration": 13,
    "start_time": "2021-09-05T12:18:16.476Z"
   },
   {
    "duration": 26,
    "start_time": "2021-09-05T12:18:16.490Z"
   },
   {
    "duration": 13,
    "start_time": "2021-09-05T12:18:16.518Z"
   },
   {
    "duration": 21,
    "start_time": "2021-09-05T12:18:16.535Z"
   },
   {
    "duration": 15,
    "start_time": "2021-09-05T12:18:16.559Z"
   },
   {
    "duration": 23,
    "start_time": "2021-09-05T12:18:16.576Z"
   },
   {
    "duration": 618,
    "start_time": "2021-09-05T12:18:16.602Z"
   },
   {
    "duration": 36,
    "start_time": "2021-09-05T12:18:17.222Z"
   },
   {
    "duration": 3249,
    "start_time": "2021-09-05T12:18:17.261Z"
   },
   {
    "duration": 32,
    "start_time": "2021-09-05T12:18:20.512Z"
   },
   {
    "duration": 13,
    "start_time": "2021-09-05T12:18:20.547Z"
   },
   {
    "duration": 2432,
    "start_time": "2021-09-05T12:18:20.563Z"
   },
   {
    "duration": 3,
    "start_time": "2021-09-05T12:18:22.997Z"
   },
   {
    "duration": 1750,
    "start_time": "2021-09-05T12:18:23.002Z"
   },
   {
    "duration": 1896,
    "start_time": "2021-09-05T12:18:24.754Z"
   },
   {
    "duration": 4379,
    "start_time": "2021-09-05T12:18:26.653Z"
   },
   {
    "duration": 26,
    "start_time": "2021-09-05T12:18:31.034Z"
   },
   {
    "duration": 3,
    "start_time": "2021-09-05T12:18:31.063Z"
   },
   {
    "duration": 145,
    "start_time": "2021-09-05T12:18:31.068Z"
   },
   {
    "duration": 32,
    "start_time": "2021-09-05T12:18:31.216Z"
   },
   {
    "duration": 18,
    "start_time": "2021-09-05T12:57:11.993Z"
   },
   {
    "duration": 20,
    "start_time": "2021-09-05T12:57:28.292Z"
   },
   {
    "duration": 15,
    "start_time": "2021-09-05T12:57:44.550Z"
   },
   {
    "duration": 365,
    "start_time": "2021-09-05T13:05:46.242Z"
   },
   {
    "duration": 1525,
    "start_time": "2021-09-05T13:05:51.829Z"
   },
   {
    "duration": 14,
    "start_time": "2021-09-05T13:05:53.357Z"
   },
   {
    "duration": 3,
    "start_time": "2021-09-05T13:05:53.374Z"
   },
   {
    "duration": 25,
    "start_time": "2021-09-05T13:05:53.380Z"
   },
   {
    "duration": 6,
    "start_time": "2021-09-05T13:05:53.407Z"
   },
   {
    "duration": 31,
    "start_time": "2021-09-05T13:05:53.415Z"
   },
   {
    "duration": 39,
    "start_time": "2021-09-05T13:05:53.449Z"
   },
   {
    "duration": 11,
    "start_time": "2021-09-05T13:05:53.491Z"
   },
   {
    "duration": 9,
    "start_time": "2021-09-05T13:05:53.505Z"
   },
   {
    "duration": 25,
    "start_time": "2021-09-05T13:05:53.516Z"
   },
   {
    "duration": 587,
    "start_time": "2021-09-05T13:05:53.543Z"
   },
   {
    "duration": 14,
    "start_time": "2021-09-05T13:05:54.132Z"
   },
   {
    "duration": 11,
    "start_time": "2021-09-05T13:05:54.147Z"
   },
   {
    "duration": 13,
    "start_time": "2021-09-05T13:05:54.160Z"
   },
   {
    "duration": 379,
    "start_time": "2021-09-05T13:05:54.175Z"
   },
   {
    "duration": 12,
    "start_time": "2021-09-05T13:05:54.556Z"
   },
   {
    "duration": 21,
    "start_time": "2021-09-05T13:05:54.570Z"
   },
   {
    "duration": 8,
    "start_time": "2021-09-05T13:05:54.593Z"
   },
   {
    "duration": 20,
    "start_time": "2021-09-05T13:05:54.602Z"
   },
   {
    "duration": 22,
    "start_time": "2021-09-05T13:05:54.624Z"
   },
   {
    "duration": 13,
    "start_time": "2021-09-05T13:05:54.648Z"
   },
   {
    "duration": 8,
    "start_time": "2021-09-05T13:05:54.663Z"
   },
   {
    "duration": 15,
    "start_time": "2021-09-05T13:05:54.674Z"
   },
   {
    "duration": 6,
    "start_time": "2021-09-05T13:05:54.692Z"
   },
   {
    "duration": 46,
    "start_time": "2021-09-05T13:05:54.700Z"
   },
   {
    "duration": 323,
    "start_time": "2021-09-05T13:05:54.748Z"
   },
   {
    "duration": 15,
    "start_time": "2021-09-05T13:05:55.074Z"
   },
   {
    "duration": 1740,
    "start_time": "2021-09-05T13:05:55.090Z"
   },
   {
    "duration": 21,
    "start_time": "2021-09-05T13:05:56.831Z"
   },
   {
    "duration": 8,
    "start_time": "2021-09-05T13:05:56.853Z"
   },
   {
    "duration": 1496,
    "start_time": "2021-09-05T13:05:56.863Z"
   },
   {
    "duration": 3,
    "start_time": "2021-09-05T13:05:58.362Z"
   },
   {
    "duration": 1799,
    "start_time": "2021-09-05T13:05:58.367Z"
   },
   {
    "duration": 3702,
    "start_time": "2021-09-05T13:06:00.168Z"
   },
   {
    "duration": 428,
    "start_time": "2021-09-05T13:06:03.872Z"
   },
   {
    "duration": 1869,
    "start_time": "2021-09-05T13:06:02.433Z"
   },
   {
    "duration": 1852,
    "start_time": "2021-09-05T13:06:02.452Z"
   },
   {
    "duration": 1844,
    "start_time": "2021-09-05T13:06:02.461Z"
   },
   {
    "duration": 18,
    "start_time": "2021-09-05T13:08:50.232Z"
   },
   {
    "duration": 300,
    "start_time": "2021-09-05T13:09:29.796Z"
   },
   {
    "duration": 710,
    "start_time": "2021-09-05T13:09:37.627Z"
   },
   {
    "duration": 291,
    "start_time": "2021-09-05T13:14:14.899Z"
   },
   {
    "duration": 291,
    "start_time": "2021-09-05T13:14:23.293Z"
   },
   {
    "duration": 276,
    "start_time": "2021-09-05T13:15:40.514Z"
   },
   {
    "duration": 15,
    "start_time": "2021-09-05T13:15:48.362Z"
   },
   {
    "duration": 18,
    "start_time": "2021-09-05T13:15:59.226Z"
   },
   {
    "duration": 14,
    "start_time": "2021-09-05T13:16:27.707Z"
   },
   {
    "duration": 297,
    "start_time": "2021-09-05T13:21:12.984Z"
   },
   {
    "duration": 269,
    "start_time": "2021-09-05T13:21:20.126Z"
   },
   {
    "duration": 17,
    "start_time": "2021-09-05T13:21:26.589Z"
   },
   {
    "duration": 15,
    "start_time": "2021-09-05T13:21:33.997Z"
   },
   {
    "duration": 6709,
    "start_time": "2021-09-05T13:21:42.690Z"
   },
   {
    "duration": 14,
    "start_time": "2021-09-05T13:22:22.363Z"
   },
   {
    "duration": 13,
    "start_time": "2021-09-05T14:12:39.697Z"
   },
   {
    "duration": 12,
    "start_time": "2021-09-05T15:49:56.641Z"
   },
   {
    "duration": 12,
    "start_time": "2021-09-05T15:50:56.760Z"
   },
   {
    "duration": 269,
    "start_time": "2021-09-05T15:53:22.881Z"
   },
   {
    "duration": 1215,
    "start_time": "2021-09-05T16:05:23.021Z"
   },
   {
    "duration": 11,
    "start_time": "2021-09-05T16:05:24.238Z"
   },
   {
    "duration": 5,
    "start_time": "2021-09-05T16:05:24.252Z"
   },
   {
    "duration": 18,
    "start_time": "2021-09-05T16:05:24.259Z"
   },
   {
    "duration": 4,
    "start_time": "2021-09-05T16:05:24.279Z"
   },
   {
    "duration": 10,
    "start_time": "2021-09-05T16:05:24.284Z"
   },
   {
    "duration": 22,
    "start_time": "2021-09-05T16:05:24.296Z"
   },
   {
    "duration": 21,
    "start_time": "2021-09-05T16:05:24.320Z"
   },
   {
    "duration": 6,
    "start_time": "2021-09-05T16:05:24.343Z"
   },
   {
    "duration": 24,
    "start_time": "2021-09-05T16:05:24.350Z"
   },
   {
    "duration": 354,
    "start_time": "2021-09-05T16:05:24.376Z"
   },
   {
    "duration": 8,
    "start_time": "2021-09-05T16:05:24.732Z"
   },
   {
    "duration": 11,
    "start_time": "2021-09-05T16:05:24.742Z"
   },
   {
    "duration": 9,
    "start_time": "2021-09-05T16:05:24.755Z"
   },
   {
    "duration": 362,
    "start_time": "2021-09-05T16:05:24.765Z"
   },
   {
    "duration": 17,
    "start_time": "2021-09-05T16:05:25.129Z"
   },
   {
    "duration": 21,
    "start_time": "2021-09-05T16:05:25.148Z"
   },
   {
    "duration": 9,
    "start_time": "2021-09-05T16:05:25.171Z"
   },
   {
    "duration": 21,
    "start_time": "2021-09-05T16:05:25.182Z"
   },
   {
    "duration": 9,
    "start_time": "2021-09-05T16:05:25.205Z"
   },
   {
    "duration": 20,
    "start_time": "2021-09-05T16:05:25.216Z"
   },
   {
    "duration": 15,
    "start_time": "2021-09-05T16:05:25.237Z"
   },
   {
    "duration": 17,
    "start_time": "2021-09-05T16:05:25.255Z"
   },
   {
    "duration": 12,
    "start_time": "2021-09-05T16:05:25.274Z"
   },
   {
    "duration": 19,
    "start_time": "2021-09-05T16:05:25.288Z"
   },
   {
    "duration": 310,
    "start_time": "2021-09-05T16:05:25.308Z"
   },
   {
    "duration": 14,
    "start_time": "2021-09-05T16:05:25.620Z"
   },
   {
    "duration": 1791,
    "start_time": "2021-09-05T16:05:25.640Z"
   },
   {
    "duration": 18,
    "start_time": "2021-09-05T16:05:27.433Z"
   },
   {
    "duration": 10,
    "start_time": "2021-09-05T16:05:27.452Z"
   },
   {
    "duration": 1380,
    "start_time": "2021-09-05T16:05:27.463Z"
   },
   {
    "duration": 3,
    "start_time": "2021-09-05T16:05:28.844Z"
   },
   {
    "duration": 1432,
    "start_time": "2021-09-05T16:05:28.848Z"
   },
   {
    "duration": 2621,
    "start_time": "2021-09-05T16:05:30.281Z"
   },
   {
    "duration": 12,
    "start_time": "2021-09-05T16:05:32.904Z"
   },
   {
    "duration": 18,
    "start_time": "2021-09-05T16:05:32.918Z"
   },
   {
    "duration": 88,
    "start_time": "2021-09-05T16:05:32.937Z"
   },
   {
    "duration": 13,
    "start_time": "2021-09-05T16:05:33.026Z"
   },
   {
    "duration": 24,
    "start_time": "2021-09-05T16:05:33.040Z"
   },
   {
    "duration": 24,
    "start_time": "2021-09-05T16:05:33.066Z"
   },
   {
    "duration": 17,
    "start_time": "2021-09-05T16:05:33.092Z"
   },
   {
    "duration": 11,
    "start_time": "2021-09-05T16:07:01.526Z"
   },
   {
    "duration": 14,
    "start_time": "2021-09-05T16:10:52.165Z"
   },
   {
    "duration": 13,
    "start_time": "2021-09-05T16:10:53.429Z"
   },
   {
    "duration": 11,
    "start_time": "2021-09-05T16:11:43.385Z"
   },
   {
    "duration": 68,
    "start_time": "2021-09-05T16:22:49.005Z"
   },
   {
    "duration": 8750,
    "start_time": "2021-09-05T17:22:42.583Z"
   },
   {
    "duration": 71,
    "start_time": "2021-09-05T17:23:34.108Z"
   },
   {
    "duration": 72,
    "start_time": "2021-09-05T17:24:08.700Z"
   },
   {
    "duration": 100,
    "start_time": "2021-09-05T17:25:04.832Z"
   },
   {
    "duration": 83,
    "start_time": "2021-09-05T17:27:19.188Z"
   },
   {
    "duration": 97,
    "start_time": "2021-09-05T17:32:44.010Z"
   },
   {
    "duration": 98,
    "start_time": "2021-09-05T17:34:32.489Z"
   },
   {
    "duration": 109,
    "start_time": "2021-09-05T17:39:12.716Z"
   },
   {
    "duration": 90,
    "start_time": "2021-09-05T17:39:18.746Z"
   },
   {
    "duration": 85,
    "start_time": "2021-09-05T17:42:19.265Z"
   },
   {
    "duration": 1268,
    "start_time": "2021-09-07T14:55:14.306Z"
   },
   {
    "duration": 13,
    "start_time": "2021-09-07T14:55:15.577Z"
   },
   {
    "duration": 13,
    "start_time": "2021-09-07T14:55:15.593Z"
   },
   {
    "duration": 25,
    "start_time": "2021-09-07T14:55:15.609Z"
   },
   {
    "duration": 4,
    "start_time": "2021-09-07T14:55:15.636Z"
   },
   {
    "duration": 18,
    "start_time": "2021-09-07T14:55:15.642Z"
   },
   {
    "duration": 32,
    "start_time": "2021-09-07T14:55:15.661Z"
   },
   {
    "duration": 19,
    "start_time": "2021-09-07T14:55:15.695Z"
   },
   {
    "duration": 19,
    "start_time": "2021-09-07T14:55:15.716Z"
   },
   {
    "duration": 15,
    "start_time": "2021-09-07T14:55:15.736Z"
   },
   {
    "duration": 359,
    "start_time": "2021-09-07T14:55:15.752Z"
   },
   {
    "duration": 7,
    "start_time": "2021-09-07T14:55:16.112Z"
   },
   {
    "duration": 8,
    "start_time": "2021-09-07T14:55:16.121Z"
   },
   {
    "duration": 13,
    "start_time": "2021-09-07T14:55:16.131Z"
   },
   {
    "duration": 356,
    "start_time": "2021-09-07T14:55:16.145Z"
   },
   {
    "duration": 12,
    "start_time": "2021-09-07T14:55:16.503Z"
   },
   {
    "duration": 33,
    "start_time": "2021-09-07T14:55:16.517Z"
   },
   {
    "duration": 4,
    "start_time": "2021-09-07T14:55:16.551Z"
   },
   {
    "duration": 16,
    "start_time": "2021-09-07T14:55:16.556Z"
   },
   {
    "duration": 12,
    "start_time": "2021-09-07T14:55:16.573Z"
   },
   {
    "duration": 13,
    "start_time": "2021-09-07T14:55:16.586Z"
   },
   {
    "duration": 9,
    "start_time": "2021-09-07T14:55:16.601Z"
   },
   {
    "duration": 39,
    "start_time": "2021-09-07T14:55:16.614Z"
   },
   {
    "duration": 8,
    "start_time": "2021-09-07T14:55:16.655Z"
   },
   {
    "duration": 12,
    "start_time": "2021-09-07T14:55:16.665Z"
   },
   {
    "duration": 318,
    "start_time": "2021-09-07T14:55:16.678Z"
   },
   {
    "duration": 13,
    "start_time": "2021-09-07T14:55:16.997Z"
   },
   {
    "duration": 1794,
    "start_time": "2021-09-07T14:55:17.011Z"
   },
   {
    "duration": 14,
    "start_time": "2021-09-07T14:55:18.807Z"
   },
   {
    "duration": 19,
    "start_time": "2021-09-07T14:55:18.822Z"
   },
   {
    "duration": 1388,
    "start_time": "2021-09-07T14:55:18.843Z"
   },
   {
    "duration": 8,
    "start_time": "2021-09-07T14:55:20.233Z"
   },
   {
    "duration": 1478,
    "start_time": "2021-09-07T14:55:20.243Z"
   },
   {
    "duration": 2798,
    "start_time": "2021-09-07T14:55:21.723Z"
   },
   {
    "duration": 22,
    "start_time": "2021-09-07T14:55:24.523Z"
   },
   {
    "duration": 8,
    "start_time": "2021-09-07T14:55:24.547Z"
   },
   {
    "duration": 99,
    "start_time": "2021-09-07T14:55:24.557Z"
   },
   {
    "duration": 11,
    "start_time": "2021-09-07T14:55:24.658Z"
   },
   {
    "duration": 11,
    "start_time": "2021-09-07T14:55:24.670Z"
   },
   {
    "duration": 11,
    "start_time": "2021-09-07T14:55:24.683Z"
   },
   {
    "duration": 45,
    "start_time": "2021-09-07T14:55:24.696Z"
   },
   {
    "duration": 13,
    "start_time": "2021-09-07T14:55:24.742Z"
   },
   {
    "duration": 9,
    "start_time": "2021-09-07T14:55:24.757Z"
   },
   {
    "duration": 753,
    "start_time": "2021-09-07T15:02:05.497Z"
   },
   {
    "duration": 1195,
    "start_time": "2021-09-07T15:09:04.807Z"
   },
   {
    "duration": 10,
    "start_time": "2021-09-07T15:09:06.003Z"
   },
   {
    "duration": 10,
    "start_time": "2021-09-07T15:09:06.016Z"
   },
   {
    "duration": 19,
    "start_time": "2021-09-07T15:09:06.028Z"
   },
   {
    "duration": 4,
    "start_time": "2021-09-07T15:09:06.049Z"
   },
   {
    "duration": 16,
    "start_time": "2021-09-07T15:09:06.054Z"
   },
   {
    "duration": 19,
    "start_time": "2021-09-07T15:09:06.072Z"
   },
   {
    "duration": 7,
    "start_time": "2021-09-07T15:09:06.094Z"
   },
   {
    "duration": 9,
    "start_time": "2021-09-07T15:09:06.103Z"
   },
   {
    "duration": 27,
    "start_time": "2021-09-07T15:09:06.114Z"
   },
   {
    "duration": 373,
    "start_time": "2021-09-07T15:09:06.142Z"
   },
   {
    "duration": 7,
    "start_time": "2021-09-07T15:09:06.517Z"
   },
   {
    "duration": 16,
    "start_time": "2021-09-07T15:09:06.525Z"
   },
   {
    "duration": 10,
    "start_time": "2021-09-07T15:09:06.543Z"
   },
   {
    "duration": 370,
    "start_time": "2021-09-07T15:09:06.555Z"
   },
   {
    "duration": 20,
    "start_time": "2021-09-07T15:09:06.927Z"
   },
   {
    "duration": 15,
    "start_time": "2021-09-07T15:09:06.949Z"
   },
   {
    "duration": 6,
    "start_time": "2021-09-07T15:09:06.965Z"
   },
   {
    "duration": 15,
    "start_time": "2021-09-07T15:09:06.973Z"
   },
   {
    "duration": 17,
    "start_time": "2021-09-07T15:09:06.990Z"
   },
   {
    "duration": 36,
    "start_time": "2021-09-07T15:09:07.008Z"
   },
   {
    "duration": 7,
    "start_time": "2021-09-07T15:09:07.046Z"
   },
   {
    "duration": 14,
    "start_time": "2021-09-07T15:09:07.057Z"
   },
   {
    "duration": 10,
    "start_time": "2021-09-07T15:09:07.073Z"
   },
   {
    "duration": 12,
    "start_time": "2021-09-07T15:09:07.084Z"
   },
   {
    "duration": 318,
    "start_time": "2021-09-07T15:09:07.097Z"
   },
   {
    "duration": 13,
    "start_time": "2021-09-07T15:09:07.417Z"
   },
   {
    "duration": 1664,
    "start_time": "2021-09-07T15:09:07.441Z"
   },
   {
    "duration": 13,
    "start_time": "2021-09-07T15:09:09.106Z"
   },
   {
    "duration": 9,
    "start_time": "2021-09-07T15:09:09.121Z"
   },
   {
    "duration": 1464,
    "start_time": "2021-09-07T15:09:09.132Z"
   },
   {
    "duration": 3,
    "start_time": "2021-09-07T15:09:10.598Z"
   },
   {
    "duration": 677,
    "start_time": "2021-09-07T15:09:10.603Z"
   },
   {
    "duration": 2621,
    "start_time": "2021-09-07T15:09:11.282Z"
   },
   {
    "duration": 13,
    "start_time": "2021-09-07T15:09:13.905Z"
   },
   {
    "duration": 14,
    "start_time": "2021-09-07T15:09:13.920Z"
   },
   {
    "duration": 98,
    "start_time": "2021-09-07T15:09:13.935Z"
   },
   {
    "duration": 15,
    "start_time": "2021-09-07T15:09:14.035Z"
   },
   {
    "duration": 27,
    "start_time": "2021-09-07T15:09:14.052Z"
   },
   {
    "duration": 15,
    "start_time": "2021-09-07T15:09:14.081Z"
   },
   {
    "duration": 17,
    "start_time": "2021-09-07T15:09:14.098Z"
   },
   {
    "duration": 13,
    "start_time": "2021-09-07T15:09:14.116Z"
   },
   {
    "duration": 16,
    "start_time": "2021-09-07T15:09:14.130Z"
   },
   {
    "duration": 81,
    "start_time": "2021-09-07T15:10:24.879Z"
   },
   {
    "duration": 80,
    "start_time": "2021-09-07T15:11:35.393Z"
   },
   {
    "duration": 80,
    "start_time": "2021-09-07T15:11:46.198Z"
   },
   {
    "duration": 3504,
    "start_time": "2021-09-07T16:03:25.666Z"
   },
   {
    "duration": 3627,
    "start_time": "2021-09-07T16:03:59.839Z"
   },
   {
    "duration": 3668,
    "start_time": "2021-09-07T16:04:26.522Z"
   },
   {
    "duration": 2627,
    "start_time": "2021-09-07T16:04:51.869Z"
   },
   {
    "duration": 366,
    "start_time": "2021-09-07T16:11:01.502Z"
   },
   {
    "duration": 5,
    "start_time": "2021-09-07T16:11:16.017Z"
   },
   {
    "duration": 8,
    "start_time": "2021-09-07T16:11:46.776Z"
   },
   {
    "duration": 9,
    "start_time": "2021-09-07T16:11:59.183Z"
   },
   {
    "duration": 9,
    "start_time": "2021-09-07T16:12:50.082Z"
   },
   {
    "duration": 16,
    "start_time": "2021-09-07T16:13:24.679Z"
   },
   {
    "duration": 272,
    "start_time": "2021-09-07T16:16:16.424Z"
   },
   {
    "duration": 8,
    "start_time": "2021-09-07T16:16:22.741Z"
   },
   {
    "duration": 19,
    "start_time": "2021-09-07T16:20:39.774Z"
   },
   {
    "duration": 29,
    "start_time": "2021-09-07T16:21:09.324Z"
   },
   {
    "duration": 22,
    "start_time": "2021-09-07T16:22:33.853Z"
   },
   {
    "duration": 30,
    "start_time": "2021-09-07T16:22:54.570Z"
   },
   {
    "duration": 6,
    "start_time": "2021-09-07T16:23:56.459Z"
   },
   {
    "duration": 6,
    "start_time": "2021-09-07T16:24:21.874Z"
   },
   {
    "duration": 4,
    "start_time": "2021-09-07T16:25:20.489Z"
   },
   {
    "duration": 4,
    "start_time": "2021-09-07T16:25:34.569Z"
   },
   {
    "duration": 8,
    "start_time": "2021-09-07T16:25:53.532Z"
   },
   {
    "duration": 264,
    "start_time": "2021-09-07T16:28:16.131Z"
   },
   {
    "duration": 5,
    "start_time": "2021-09-07T16:28:21.488Z"
   },
   {
    "duration": 1124,
    "start_time": "2021-09-07T16:45:49.778Z"
   },
   {
    "duration": 11,
    "start_time": "2021-09-07T16:45:50.904Z"
   },
   {
    "duration": 10,
    "start_time": "2021-09-07T16:45:50.917Z"
   },
   {
    "duration": 24,
    "start_time": "2021-09-07T16:45:50.929Z"
   },
   {
    "duration": 14,
    "start_time": "2021-09-07T16:45:50.954Z"
   },
   {
    "duration": 22,
    "start_time": "2021-09-07T16:45:50.970Z"
   },
   {
    "duration": 31,
    "start_time": "2021-09-07T16:45:50.994Z"
   },
   {
    "duration": 20,
    "start_time": "2021-09-07T16:45:51.027Z"
   },
   {
    "duration": 13,
    "start_time": "2021-09-07T16:45:51.050Z"
   },
   {
    "duration": 14,
    "start_time": "2021-09-07T16:45:51.065Z"
   },
   {
    "duration": 419,
    "start_time": "2021-09-07T16:45:51.081Z"
   },
   {
    "duration": 7,
    "start_time": "2021-09-07T16:45:51.502Z"
   },
   {
    "duration": 15,
    "start_time": "2021-09-07T16:45:51.510Z"
   },
   {
    "duration": 26,
    "start_time": "2021-09-07T16:45:51.526Z"
   },
   {
    "duration": 379,
    "start_time": "2021-09-07T16:45:51.553Z"
   },
   {
    "duration": 17,
    "start_time": "2021-09-07T16:45:51.933Z"
   },
   {
    "duration": 26,
    "start_time": "2021-09-07T16:45:51.952Z"
   },
   {
    "duration": 12,
    "start_time": "2021-09-07T16:45:51.980Z"
   },
   {
    "duration": 25,
    "start_time": "2021-09-07T16:45:51.993Z"
   },
   {
    "duration": 17,
    "start_time": "2021-09-07T16:45:52.020Z"
   },
   {
    "duration": 33,
    "start_time": "2021-09-07T16:45:52.039Z"
   },
   {
    "duration": 14,
    "start_time": "2021-09-07T16:45:52.074Z"
   },
   {
    "duration": 21,
    "start_time": "2021-09-07T16:45:52.093Z"
   },
   {
    "duration": 20,
    "start_time": "2021-09-07T16:45:52.116Z"
   },
   {
    "duration": 32,
    "start_time": "2021-09-07T16:45:52.138Z"
   },
   {
    "duration": 322,
    "start_time": "2021-09-07T16:45:52.171Z"
   },
   {
    "duration": 16,
    "start_time": "2021-09-07T16:45:52.495Z"
   },
   {
    "duration": 1711,
    "start_time": "2021-09-07T16:45:52.513Z"
   },
   {
    "duration": 24,
    "start_time": "2021-09-07T16:45:54.226Z"
   },
   {
    "duration": 8,
    "start_time": "2021-09-07T16:45:54.251Z"
   },
   {
    "duration": 1418,
    "start_time": "2021-09-07T16:45:54.261Z"
   },
   {
    "duration": 3,
    "start_time": "2021-09-07T16:45:55.680Z"
   },
   {
    "duration": 686,
    "start_time": "2021-09-07T16:45:55.684Z"
   },
   {
    "duration": 7,
    "start_time": "2021-09-07T16:45:56.371Z"
   },
   {
    "duration": 18,
    "start_time": "2021-09-07T16:45:56.380Z"
   },
   {
    "duration": 9,
    "start_time": "2021-09-07T16:45:56.399Z"
   },
   {
    "duration": 12,
    "start_time": "2021-09-07T16:45:56.409Z"
   },
   {
    "duration": 21,
    "start_time": "2021-09-07T16:45:56.422Z"
   },
   {
    "duration": 6,
    "start_time": "2021-09-07T16:45:56.445Z"
   },
   {
    "duration": 10,
    "start_time": "2021-09-07T16:45:56.452Z"
   },
   {
    "duration": 2634,
    "start_time": "2021-09-07T16:45:56.463Z"
   },
   {
    "duration": 12,
    "start_time": "2021-09-07T16:45:59.098Z"
   },
   {
    "duration": 14,
    "start_time": "2021-09-07T16:45:59.111Z"
   },
   {
    "duration": 87,
    "start_time": "2021-09-07T16:45:59.127Z"
   },
   {
    "duration": 10,
    "start_time": "2021-09-07T16:45:59.216Z"
   },
   {
    "duration": 22,
    "start_time": "2021-09-07T16:45:59.228Z"
   },
   {
    "duration": 12,
    "start_time": "2021-09-07T16:45:59.252Z"
   },
   {
    "duration": 19,
    "start_time": "2021-09-07T16:45:59.265Z"
   },
   {
    "duration": 16,
    "start_time": "2021-09-07T16:45:59.285Z"
   },
   {
    "duration": 9,
    "start_time": "2021-09-07T16:45:59.302Z"
   },
   {
    "duration": 8,
    "start_time": "2021-09-07T16:51:04.642Z"
   },
   {
    "duration": 10,
    "start_time": "2021-09-07T16:51:04.652Z"
   },
   {
    "duration": 14,
    "start_time": "2021-09-07T16:51:04.664Z"
   },
   {
    "duration": 7,
    "start_time": "2021-09-07T16:51:04.681Z"
   },
   {
    "duration": 396,
    "start_time": "2021-09-07T16:51:04.689Z"
   },
   {
    "duration": 6,
    "start_time": "2021-09-07T16:51:05.088Z"
   },
   {
    "duration": 6,
    "start_time": "2021-09-07T16:51:05.095Z"
   },
   {
    "duration": 9,
    "start_time": "2021-09-07T16:51:05.102Z"
   },
   {
    "duration": 451,
    "start_time": "2021-09-07T16:51:05.112Z"
   },
   {
    "duration": 8,
    "start_time": "2021-09-07T16:51:05.565Z"
   },
   {
    "duration": 16,
    "start_time": "2021-09-07T16:51:05.575Z"
   },
   {
    "duration": 9,
    "start_time": "2021-09-07T16:51:05.593Z"
   },
   {
    "duration": 13,
    "start_time": "2021-09-07T16:51:05.604Z"
   },
   {
    "duration": 7,
    "start_time": "2021-09-07T16:51:05.641Z"
   },
   {
    "duration": 9,
    "start_time": "2021-09-07T16:51:05.650Z"
   },
   {
    "duration": 8,
    "start_time": "2021-09-07T16:51:05.661Z"
   },
   {
    "duration": 11,
    "start_time": "2021-09-07T16:51:05.670Z"
   },
   {
    "duration": 12,
    "start_time": "2021-09-07T16:51:05.682Z"
   },
   {
    "duration": 18,
    "start_time": "2021-09-07T16:51:05.696Z"
   },
   {
    "duration": 311,
    "start_time": "2021-09-07T16:51:05.716Z"
   },
   {
    "duration": 20,
    "start_time": "2021-09-07T16:51:06.029Z"
   },
   {
    "duration": 1715,
    "start_time": "2021-09-07T16:51:06.050Z"
   },
   {
    "duration": 14,
    "start_time": "2021-09-07T16:51:07.766Z"
   },
   {
    "duration": 9,
    "start_time": "2021-09-07T16:51:07.782Z"
   },
   {
    "duration": 1276,
    "start_time": "2021-09-07T16:51:07.793Z"
   },
   {
    "duration": 2,
    "start_time": "2021-09-07T16:51:09.071Z"
   },
   {
    "duration": 693,
    "start_time": "2021-09-07T16:51:09.074Z"
   },
   {
    "duration": 8,
    "start_time": "2021-09-07T16:51:09.768Z"
   },
   {
    "duration": 16,
    "start_time": "2021-09-07T16:51:09.778Z"
   },
   {
    "duration": 10,
    "start_time": "2021-09-07T16:51:09.796Z"
   },
   {
    "duration": 8,
    "start_time": "2021-09-07T16:51:09.808Z"
   },
   {
    "duration": 5,
    "start_time": "2021-09-07T16:51:09.841Z"
   },
   {
    "duration": 11,
    "start_time": "2021-09-07T16:51:09.847Z"
   },
   {
    "duration": 13,
    "start_time": "2021-09-07T16:51:09.859Z"
   },
   {
    "duration": 3121,
    "start_time": "2021-09-07T16:51:09.874Z"
   },
   {
    "duration": 12,
    "start_time": "2021-09-07T16:51:12.997Z"
   },
   {
    "duration": 11,
    "start_time": "2021-09-07T16:51:13.011Z"
   },
   {
    "duration": 89,
    "start_time": "2021-09-07T16:51:13.025Z"
   },
   {
    "duration": 10,
    "start_time": "2021-09-07T16:51:13.115Z"
   },
   {
    "duration": 23,
    "start_time": "2021-09-07T16:51:13.127Z"
   },
   {
    "duration": 10,
    "start_time": "2021-09-07T16:51:13.151Z"
   },
   {
    "duration": 13,
    "start_time": "2021-09-07T16:51:13.163Z"
   },
   {
    "duration": 11,
    "start_time": "2021-09-07T16:51:13.178Z"
   },
   {
    "duration": 10,
    "start_time": "2021-09-07T16:51:13.191Z"
   },
   {
    "duration": 1131,
    "start_time": "2021-09-07T16:51:18.775Z"
   },
   {
    "duration": 10,
    "start_time": "2021-09-07T16:51:19.908Z"
   },
   {
    "duration": 15,
    "start_time": "2021-09-07T16:51:19.919Z"
   },
   {
    "duration": 18,
    "start_time": "2021-09-07T16:51:19.936Z"
   },
   {
    "duration": 6,
    "start_time": "2021-09-07T16:51:19.956Z"
   },
   {
    "duration": 10,
    "start_time": "2021-09-07T16:51:19.964Z"
   },
   {
    "duration": 27,
    "start_time": "2021-09-07T16:51:19.976Z"
   },
   {
    "duration": 8,
    "start_time": "2021-09-07T16:51:20.006Z"
   },
   {
    "duration": 8,
    "start_time": "2021-09-07T16:51:20.016Z"
   },
   {
    "duration": 22,
    "start_time": "2021-09-07T16:51:20.026Z"
   },
   {
    "duration": 376,
    "start_time": "2021-09-07T16:51:20.049Z"
   },
   {
    "duration": 16,
    "start_time": "2021-09-07T16:51:20.427Z"
   },
   {
    "duration": 7,
    "start_time": "2021-09-07T16:51:20.445Z"
   },
   {
    "duration": 14,
    "start_time": "2021-09-07T16:51:20.454Z"
   },
   {
    "duration": 374,
    "start_time": "2021-09-07T16:51:20.470Z"
   },
   {
    "duration": 13,
    "start_time": "2021-09-07T16:51:20.845Z"
   },
   {
    "duration": 17,
    "start_time": "2021-09-07T16:51:20.860Z"
   },
   {
    "duration": 6,
    "start_time": "2021-09-07T16:51:20.879Z"
   },
   {
    "duration": 16,
    "start_time": "2021-09-07T16:51:20.887Z"
   },
   {
    "duration": 9,
    "start_time": "2021-09-07T16:51:20.904Z"
   },
   {
    "duration": 36,
    "start_time": "2021-09-07T16:51:20.915Z"
   },
   {
    "duration": 8,
    "start_time": "2021-09-07T16:51:20.953Z"
   },
   {
    "duration": 14,
    "start_time": "2021-09-07T16:51:20.964Z"
   },
   {
    "duration": 9,
    "start_time": "2021-09-07T16:51:20.980Z"
   },
   {
    "duration": 20,
    "start_time": "2021-09-07T16:51:20.991Z"
   },
   {
    "duration": 335,
    "start_time": "2021-09-07T16:51:21.012Z"
   },
   {
    "duration": 18,
    "start_time": "2021-09-07T16:51:21.348Z"
   },
   {
    "duration": 2147,
    "start_time": "2021-09-07T16:51:21.367Z"
   },
   {
    "duration": 29,
    "start_time": "2021-09-07T16:51:23.516Z"
   },
   {
    "duration": 7,
    "start_time": "2021-09-07T16:51:23.547Z"
   },
   {
    "duration": 1787,
    "start_time": "2021-09-07T16:51:23.556Z"
   },
   {
    "duration": 2,
    "start_time": "2021-09-07T16:51:25.345Z"
   },
   {
    "duration": 713,
    "start_time": "2021-09-07T16:51:25.349Z"
   },
   {
    "duration": 7,
    "start_time": "2021-09-07T16:51:26.064Z"
   },
   {
    "duration": 18,
    "start_time": "2021-09-07T16:51:26.073Z"
   },
   {
    "duration": 8,
    "start_time": "2021-09-07T16:51:26.093Z"
   },
   {
    "duration": 13,
    "start_time": "2021-09-07T16:51:26.102Z"
   },
   {
    "duration": 25,
    "start_time": "2021-09-07T16:51:26.116Z"
   },
   {
    "duration": 5,
    "start_time": "2021-09-07T16:51:26.142Z"
   },
   {
    "duration": 12,
    "start_time": "2021-09-07T16:51:26.148Z"
   },
   {
    "duration": 2647,
    "start_time": "2021-09-07T16:51:26.162Z"
   },
   {
    "duration": 13,
    "start_time": "2021-09-07T16:51:28.811Z"
   },
   {
    "duration": 14,
    "start_time": "2021-09-07T16:51:28.826Z"
   },
   {
    "duration": 101,
    "start_time": "2021-09-07T16:51:28.842Z"
   },
   {
    "duration": 11,
    "start_time": "2021-09-07T16:51:28.945Z"
   },
   {
    "duration": 15,
    "start_time": "2021-09-07T16:51:28.957Z"
   },
   {
    "duration": 10,
    "start_time": "2021-09-07T16:51:28.974Z"
   },
   {
    "duration": 13,
    "start_time": "2021-09-07T16:51:28.985Z"
   },
   {
    "duration": 11,
    "start_time": "2021-09-07T16:51:29.000Z"
   },
   {
    "duration": 10,
    "start_time": "2021-09-07T16:51:29.042Z"
   },
   {
    "duration": 1148,
    "start_time": "2021-09-07T16:52:14.145Z"
   },
   {
    "duration": 10,
    "start_time": "2021-09-07T16:52:15.295Z"
   },
   {
    "duration": 3,
    "start_time": "2021-09-07T16:52:15.307Z"
   },
   {
    "duration": 19,
    "start_time": "2021-09-07T16:52:15.312Z"
   },
   {
    "duration": 11,
    "start_time": "2021-09-07T16:52:15.333Z"
   },
   {
    "duration": 31,
    "start_time": "2021-09-07T16:52:15.346Z"
   },
   {
    "duration": 26,
    "start_time": "2021-09-07T16:52:15.380Z"
   },
   {
    "duration": 7,
    "start_time": "2021-09-07T16:52:15.409Z"
   },
   {
    "duration": 16,
    "start_time": "2021-09-07T16:52:15.418Z"
   },
   {
    "duration": 7,
    "start_time": "2021-09-07T16:52:15.436Z"
   },
   {
    "duration": 7,
    "start_time": "2021-09-07T16:52:15.445Z"
   },
   {
    "duration": 375,
    "start_time": "2021-09-07T16:52:15.454Z"
   },
   {
    "duration": 13,
    "start_time": "2021-09-07T16:52:15.830Z"
   },
   {
    "duration": 7,
    "start_time": "2021-09-07T16:52:15.845Z"
   },
   {
    "duration": 14,
    "start_time": "2021-09-07T16:52:15.853Z"
   },
   {
    "duration": 353,
    "start_time": "2021-09-07T16:52:15.869Z"
   },
   {
    "duration": 22,
    "start_time": "2021-09-07T16:52:16.224Z"
   },
   {
    "duration": 17,
    "start_time": "2021-09-07T16:52:16.247Z"
   },
   {
    "duration": 15,
    "start_time": "2021-09-07T16:52:16.266Z"
   },
   {
    "duration": 18,
    "start_time": "2021-09-07T16:52:16.283Z"
   },
   {
    "duration": 8,
    "start_time": "2021-09-07T16:52:16.303Z"
   },
   {
    "duration": 13,
    "start_time": "2021-09-07T16:52:16.313Z"
   },
   {
    "duration": 14,
    "start_time": "2021-09-07T16:52:16.330Z"
   },
   {
    "duration": 16,
    "start_time": "2021-09-07T16:52:16.347Z"
   },
   {
    "duration": 14,
    "start_time": "2021-09-07T16:52:16.364Z"
   },
   {
    "duration": 15,
    "start_time": "2021-09-07T16:52:16.380Z"
   },
   {
    "duration": 308,
    "start_time": "2021-09-07T16:52:16.397Z"
   },
   {
    "duration": 13,
    "start_time": "2021-09-07T16:52:16.707Z"
   },
   {
    "duration": 1671,
    "start_time": "2021-09-07T16:52:16.721Z"
   },
   {
    "duration": 14,
    "start_time": "2021-09-07T16:52:18.393Z"
   },
   {
    "duration": 6,
    "start_time": "2021-09-07T16:52:18.409Z"
   },
   {
    "duration": 1358,
    "start_time": "2021-09-07T16:52:18.416Z"
   },
   {
    "duration": 3,
    "start_time": "2021-09-07T16:52:19.775Z"
   },
   {
    "duration": 687,
    "start_time": "2021-09-07T16:52:19.779Z"
   },
   {
    "duration": 7,
    "start_time": "2021-09-07T16:52:20.468Z"
   },
   {
    "duration": 21,
    "start_time": "2021-09-07T16:52:20.477Z"
   },
   {
    "duration": 12,
    "start_time": "2021-09-07T16:52:20.499Z"
   },
   {
    "duration": 16,
    "start_time": "2021-09-07T16:52:20.512Z"
   },
   {
    "duration": 14,
    "start_time": "2021-09-07T16:52:20.530Z"
   },
   {
    "duration": 14,
    "start_time": "2021-09-07T16:52:20.546Z"
   },
   {
    "duration": 14,
    "start_time": "2021-09-07T16:52:20.562Z"
   },
   {
    "duration": 2617,
    "start_time": "2021-09-07T16:52:20.577Z"
   },
   {
    "duration": 15,
    "start_time": "2021-09-07T16:52:23.196Z"
   },
   {
    "duration": 10,
    "start_time": "2021-09-07T16:52:23.213Z"
   },
   {
    "duration": 96,
    "start_time": "2021-09-07T16:52:23.225Z"
   },
   {
    "duration": 26,
    "start_time": "2021-09-07T16:52:23.323Z"
   },
   {
    "duration": 13,
    "start_time": "2021-09-07T16:52:23.351Z"
   },
   {
    "duration": 11,
    "start_time": "2021-09-07T16:52:23.366Z"
   },
   {
    "duration": 18,
    "start_time": "2021-09-07T16:52:23.379Z"
   },
   {
    "duration": 45,
    "start_time": "2021-09-07T16:52:23.399Z"
   },
   {
    "duration": 12,
    "start_time": "2021-09-07T16:52:23.445Z"
   },
   {
    "duration": 1120,
    "start_time": "2021-09-07T16:57:56.677Z"
   },
   {
    "duration": 10,
    "start_time": "2021-09-07T16:57:57.799Z"
   },
   {
    "duration": 6,
    "start_time": "2021-09-07T16:57:57.811Z"
   },
   {
    "duration": 21,
    "start_time": "2021-09-07T16:57:57.819Z"
   },
   {
    "duration": 5,
    "start_time": "2021-09-07T16:57:57.841Z"
   },
   {
    "duration": 15,
    "start_time": "2021-09-07T16:57:57.847Z"
   },
   {
    "duration": 20,
    "start_time": "2021-09-07T16:57:57.864Z"
   },
   {
    "duration": 5,
    "start_time": "2021-09-07T16:57:57.885Z"
   },
   {
    "duration": 9,
    "start_time": "2021-09-07T16:57:57.893Z"
   },
   {
    "duration": 7,
    "start_time": "2021-09-07T16:57:57.904Z"
   },
   {
    "duration": 30,
    "start_time": "2021-09-07T16:57:57.913Z"
   },
   {
    "duration": 380,
    "start_time": "2021-09-07T16:57:57.945Z"
   },
   {
    "duration": 16,
    "start_time": "2021-09-07T16:57:58.327Z"
   },
   {
    "duration": 4,
    "start_time": "2021-09-07T16:57:58.345Z"
   },
   {
    "duration": 15,
    "start_time": "2021-09-07T16:57:58.351Z"
   },
   {
    "duration": 360,
    "start_time": "2021-09-07T16:57:58.368Z"
   },
   {
    "duration": 20,
    "start_time": "2021-09-07T16:57:58.730Z"
   },
   {
    "duration": 17,
    "start_time": "2021-09-07T16:57:58.752Z"
   },
   {
    "duration": 12,
    "start_time": "2021-09-07T16:57:58.771Z"
   },
   {
    "duration": 21,
    "start_time": "2021-09-07T16:57:58.784Z"
   },
   {
    "duration": 15,
    "start_time": "2021-09-07T16:57:58.807Z"
   },
   {
    "duration": 23,
    "start_time": "2021-09-07T16:57:58.824Z"
   },
   {
    "duration": 23,
    "start_time": "2021-09-07T16:57:58.849Z"
   },
   {
    "duration": 27,
    "start_time": "2021-09-07T16:57:58.874Z"
   },
   {
    "duration": 18,
    "start_time": "2021-09-07T16:57:58.903Z"
   },
   {
    "duration": 16,
    "start_time": "2021-09-07T16:57:58.923Z"
   },
   {
    "duration": 339,
    "start_time": "2021-09-07T16:57:58.943Z"
   },
   {
    "duration": 13,
    "start_time": "2021-09-07T16:57:59.284Z"
   },
   {
    "duration": 1721,
    "start_time": "2021-09-07T16:57:59.299Z"
   },
   {
    "duration": 23,
    "start_time": "2021-09-07T16:58:01.022Z"
   },
   {
    "duration": 11,
    "start_time": "2021-09-07T16:58:01.047Z"
   },
   {
    "duration": 1383,
    "start_time": "2021-09-07T16:58:01.059Z"
   },
   {
    "duration": 3,
    "start_time": "2021-09-07T16:58:02.444Z"
   },
   {
    "duration": 663,
    "start_time": "2021-09-07T16:58:02.449Z"
   },
   {
    "duration": 7,
    "start_time": "2021-09-07T16:58:03.113Z"
   },
   {
    "duration": 31,
    "start_time": "2021-09-07T16:58:03.122Z"
   },
   {
    "duration": 23,
    "start_time": "2021-09-07T16:58:03.155Z"
   },
   {
    "duration": 15,
    "start_time": "2021-09-07T16:58:03.179Z"
   },
   {
    "duration": 13,
    "start_time": "2021-09-07T16:58:03.196Z"
   },
   {
    "duration": 7,
    "start_time": "2021-09-07T16:58:03.211Z"
   },
   {
    "duration": 13,
    "start_time": "2021-09-07T16:58:03.220Z"
   },
   {
    "duration": 2863,
    "start_time": "2021-09-07T16:58:03.234Z"
   },
   {
    "duration": 13,
    "start_time": "2021-09-07T16:58:06.099Z"
   },
   {
    "duration": 5,
    "start_time": "2021-09-07T16:58:06.114Z"
   },
   {
    "duration": 94,
    "start_time": "2021-09-07T16:58:06.120Z"
   },
   {
    "duration": 25,
    "start_time": "2021-09-07T16:58:06.216Z"
   },
   {
    "duration": 12,
    "start_time": "2021-09-07T16:58:06.243Z"
   },
   {
    "duration": 10,
    "start_time": "2021-09-07T16:58:06.256Z"
   },
   {
    "duration": 13,
    "start_time": "2021-09-07T16:58:06.268Z"
   },
   {
    "duration": 12,
    "start_time": "2021-09-07T16:58:06.282Z"
   },
   {
    "duration": 46,
    "start_time": "2021-09-07T16:58:06.295Z"
   },
   {
    "duration": 67,
    "start_time": "2021-09-07T17:17:18.304Z"
   },
   {
    "duration": 121,
    "start_time": "2021-09-07T17:17:50.788Z"
   },
   {
    "duration": 1125,
    "start_time": "2021-09-07T19:25:33.597Z"
   },
   {
    "duration": 11,
    "start_time": "2021-09-07T19:25:34.724Z"
   },
   {
    "duration": 3,
    "start_time": "2021-09-07T19:25:34.737Z"
   },
   {
    "duration": 21,
    "start_time": "2021-09-07T19:25:34.741Z"
   },
   {
    "duration": 7,
    "start_time": "2021-09-07T19:25:34.764Z"
   },
   {
    "duration": 7,
    "start_time": "2021-09-07T19:25:34.773Z"
   },
   {
    "duration": 19,
    "start_time": "2021-09-07T19:25:34.781Z"
   },
   {
    "duration": 5,
    "start_time": "2021-09-07T19:25:34.803Z"
   },
   {
    "duration": 32,
    "start_time": "2021-09-07T19:25:34.810Z"
   },
   {
    "duration": 7,
    "start_time": "2021-09-07T19:25:34.844Z"
   },
   {
    "duration": 9,
    "start_time": "2021-09-07T19:25:34.852Z"
   },
   {
    "duration": 387,
    "start_time": "2021-09-07T19:25:34.864Z"
   },
   {
    "duration": 8,
    "start_time": "2021-09-07T19:25:35.253Z"
   },
   {
    "duration": 6,
    "start_time": "2021-09-07T19:25:35.262Z"
   },
   {
    "duration": 16,
    "start_time": "2021-09-07T19:25:35.270Z"
   },
   {
    "duration": 365,
    "start_time": "2021-09-07T19:25:35.288Z"
   },
   {
    "duration": 12,
    "start_time": "2021-09-07T19:25:35.654Z"
   },
   {
    "duration": 16,
    "start_time": "2021-09-07T19:25:35.668Z"
   },
   {
    "duration": 7,
    "start_time": "2021-09-07T19:25:35.685Z"
   },
   {
    "duration": 24,
    "start_time": "2021-09-07T19:25:35.694Z"
   },
   {
    "duration": 11,
    "start_time": "2021-09-07T19:25:35.720Z"
   },
   {
    "duration": 24,
    "start_time": "2021-09-07T19:25:35.732Z"
   },
   {
    "duration": 12,
    "start_time": "2021-09-07T19:25:35.759Z"
   },
   {
    "duration": 21,
    "start_time": "2021-09-07T19:25:35.773Z"
   },
   {
    "duration": 8,
    "start_time": "2021-09-07T19:25:35.795Z"
   },
   {
    "duration": 20,
    "start_time": "2021-09-07T19:25:35.804Z"
   },
   {
    "duration": 313,
    "start_time": "2021-09-07T19:25:35.825Z"
   },
   {
    "duration": 14,
    "start_time": "2021-09-07T19:25:36.140Z"
   },
   {
    "duration": 1681,
    "start_time": "2021-09-07T19:25:36.156Z"
   },
   {
    "duration": 14,
    "start_time": "2021-09-07T19:25:37.840Z"
   },
   {
    "duration": 12,
    "start_time": "2021-09-07T19:25:37.856Z"
   },
   {
    "duration": 1390,
    "start_time": "2021-09-07T19:25:37.870Z"
   },
   {
    "duration": 3,
    "start_time": "2021-09-07T19:25:39.261Z"
   },
   {
    "duration": 694,
    "start_time": "2021-09-07T19:25:39.265Z"
   },
   {
    "duration": 7,
    "start_time": "2021-09-07T19:25:39.960Z"
   },
   {
    "duration": 22,
    "start_time": "2021-09-07T19:25:39.968Z"
   },
   {
    "duration": 7,
    "start_time": "2021-09-07T19:25:39.992Z"
   },
   {
    "duration": 18,
    "start_time": "2021-09-07T19:25:40.001Z"
   },
   {
    "duration": 24,
    "start_time": "2021-09-07T19:25:40.020Z"
   },
   {
    "duration": 17,
    "start_time": "2021-09-07T19:25:40.046Z"
   },
   {
    "duration": 15,
    "start_time": "2021-09-07T19:25:40.065Z"
   },
   {
    "duration": 2627,
    "start_time": "2021-09-07T19:25:40.082Z"
   },
   {
    "duration": 14,
    "start_time": "2021-09-07T19:25:42.710Z"
   },
   {
    "duration": 16,
    "start_time": "2021-09-07T19:25:42.725Z"
   },
   {
    "duration": 99,
    "start_time": "2021-09-07T19:25:42.743Z"
   },
   {
    "duration": 12,
    "start_time": "2021-09-07T19:25:42.843Z"
   },
   {
    "duration": 34,
    "start_time": "2021-09-07T19:25:42.857Z"
   },
   {
    "duration": 13,
    "start_time": "2021-09-07T19:25:42.893Z"
   },
   {
    "duration": 23,
    "start_time": "2021-09-07T19:25:42.907Z"
   },
   {
    "duration": 17,
    "start_time": "2021-09-07T19:25:42.932Z"
   },
   {
    "duration": 18,
    "start_time": "2021-09-07T19:25:42.951Z"
   },
   {
    "duration": 23,
    "start_time": "2021-09-07T19:32:15.325Z"
   },
   {
    "duration": 20,
    "start_time": "2021-09-07T19:32:51.139Z"
   },
   {
    "duration": 21,
    "start_time": "2021-09-07T19:32:55.820Z"
   },
   {
    "duration": 642,
    "start_time": "2021-09-08T15:37:33.163Z"
   },
   {
    "duration": 1255,
    "start_time": "2021-09-08T15:37:40.241Z"
   },
   {
    "duration": 11,
    "start_time": "2021-09-08T15:37:41.498Z"
   },
   {
    "duration": 3,
    "start_time": "2021-09-08T15:37:41.513Z"
   },
   {
    "duration": 21,
    "start_time": "2021-09-08T15:37:41.518Z"
   },
   {
    "duration": 11,
    "start_time": "2021-09-08T15:37:41.540Z"
   },
   {
    "duration": 12,
    "start_time": "2021-09-08T15:37:41.552Z"
   },
   {
    "duration": 45,
    "start_time": "2021-09-08T15:37:41.566Z"
   },
   {
    "duration": 5,
    "start_time": "2021-09-08T15:37:41.613Z"
   },
   {
    "duration": 12,
    "start_time": "2021-09-08T15:37:41.619Z"
   },
   {
    "duration": 9,
    "start_time": "2021-09-08T15:37:41.633Z"
   },
   {
    "duration": 12,
    "start_time": "2021-09-08T15:37:41.644Z"
   },
   {
    "duration": 409,
    "start_time": "2021-09-08T15:37:41.658Z"
   },
   {
    "duration": 21,
    "start_time": "2021-09-08T15:37:42.070Z"
   },
   {
    "duration": 7,
    "start_time": "2021-09-08T15:37:42.093Z"
   },
   {
    "duration": 12,
    "start_time": "2021-09-08T15:37:42.102Z"
   },
   {
    "duration": 376,
    "start_time": "2021-09-08T15:37:42.116Z"
   },
   {
    "duration": 13,
    "start_time": "2021-09-08T15:37:42.495Z"
   },
   {
    "duration": 16,
    "start_time": "2021-09-08T15:37:42.511Z"
   },
   {
    "duration": 12,
    "start_time": "2021-09-08T15:37:42.529Z"
   },
   {
    "duration": 15,
    "start_time": "2021-09-08T15:37:42.543Z"
   },
   {
    "duration": 31,
    "start_time": "2021-09-08T15:37:42.560Z"
   },
   {
    "duration": 14,
    "start_time": "2021-09-08T15:37:42.596Z"
   },
   {
    "duration": 9,
    "start_time": "2021-09-08T15:37:42.613Z"
   },
   {
    "duration": 17,
    "start_time": "2021-09-08T15:37:42.623Z"
   },
   {
    "duration": 8,
    "start_time": "2021-09-08T15:37:42.642Z"
   },
   {
    "duration": 12,
    "start_time": "2021-09-08T15:37:42.651Z"
   },
   {
    "duration": 411,
    "start_time": "2021-09-08T15:37:42.691Z"
   },
   {
    "duration": 15,
    "start_time": "2021-09-08T15:37:43.104Z"
   },
   {
    "duration": 1774,
    "start_time": "2021-09-08T15:37:43.120Z"
   },
   {
    "duration": 13,
    "start_time": "2021-09-08T15:37:44.896Z"
   },
   {
    "duration": 10,
    "start_time": "2021-09-08T15:37:44.911Z"
   },
   {
    "duration": 1486,
    "start_time": "2021-09-08T15:37:44.922Z"
   },
   {
    "duration": 21,
    "start_time": "2021-09-08T15:37:46.410Z"
   },
   {
    "duration": 2,
    "start_time": "2021-09-08T15:37:46.433Z"
   },
   {
    "duration": 735,
    "start_time": "2021-09-08T15:37:46.437Z"
   },
   {
    "duration": 20,
    "start_time": "2021-09-08T15:37:47.173Z"
   },
   {
    "duration": 19,
    "start_time": "2021-09-08T15:37:47.195Z"
   },
   {
    "duration": 9,
    "start_time": "2021-09-08T15:37:47.215Z"
   },
   {
    "duration": 7,
    "start_time": "2021-09-08T15:37:47.225Z"
   },
   {
    "duration": 5,
    "start_time": "2021-09-08T15:37:47.234Z"
   },
   {
    "duration": 6,
    "start_time": "2021-09-08T15:37:47.240Z"
   },
   {
    "duration": 12,
    "start_time": "2021-09-08T15:37:47.247Z"
   },
   {
    "duration": 2601,
    "start_time": "2021-09-08T15:37:47.261Z"
   },
   {
    "duration": 15,
    "start_time": "2021-09-08T15:37:49.864Z"
   },
   {
    "duration": 2,
    "start_time": "2021-09-08T15:37:49.892Z"
   },
   {
    "duration": 83,
    "start_time": "2021-09-08T15:37:49.896Z"
   },
   {
    "duration": 19,
    "start_time": "2021-09-08T15:37:49.980Z"
   },
   {
    "duration": 17,
    "start_time": "2021-09-08T15:37:50.001Z"
   },
   {
    "duration": 10,
    "start_time": "2021-09-08T15:37:50.019Z"
   },
   {
    "duration": 11,
    "start_time": "2021-09-08T15:37:50.031Z"
   },
   {
    "duration": 11,
    "start_time": "2021-09-08T15:37:50.043Z"
   },
   {
    "duration": 44,
    "start_time": "2021-09-08T15:37:50.056Z"
   },
   {
    "duration": 411,
    "start_time": "2021-09-08T15:38:03.884Z"
   },
   {
    "duration": 510,
    "start_time": "2021-09-08T15:38:12.341Z"
   },
   {
    "duration": 405,
    "start_time": "2021-09-08T15:38:30.963Z"
   },
   {
    "duration": 761,
    "start_time": "2021-09-08T16:01:14.298Z"
   },
   {
    "duration": 604,
    "start_time": "2021-09-08T16:02:49.079Z"
   },
   {
    "duration": 2573,
    "start_time": "2021-09-08T16:03:10.307Z"
   },
   {
    "duration": 281,
    "start_time": "2021-09-08T16:07:20.349Z"
   },
   {
    "duration": 13,
    "start_time": "2021-09-08T16:07:38.574Z"
   },
   {
    "duration": 370,
    "start_time": "2021-09-08T16:08:45.757Z"
   },
   {
    "duration": 121,
    "start_time": "2021-09-08T16:09:10.884Z"
   },
   {
    "duration": 14,
    "start_time": "2021-09-08T16:09:18.546Z"
   },
   {
    "duration": 13,
    "start_time": "2021-09-08T16:09:37.724Z"
   },
   {
    "duration": 14,
    "start_time": "2021-09-08T16:10:10.399Z"
   },
   {
    "duration": 21,
    "start_time": "2021-09-08T16:10:20.708Z"
   },
   {
    "duration": 20,
    "start_time": "2021-09-08T16:10:46.371Z"
   },
   {
    "duration": 14,
    "start_time": "2021-09-08T16:11:00.481Z"
   },
   {
    "duration": 18,
    "start_time": "2021-09-08T16:11:51.436Z"
   },
   {
    "duration": 21,
    "start_time": "2021-09-08T16:12:14.832Z"
   },
   {
    "duration": 20,
    "start_time": "2021-09-08T16:12:53.700Z"
   },
   {
    "duration": 10,
    "start_time": "2021-09-08T16:14:24.528Z"
   },
   {
    "duration": 8,
    "start_time": "2021-09-08T16:25:02.078Z"
   },
   {
    "duration": 5,
    "start_time": "2021-09-08T16:26:38.229Z"
   },
   {
    "duration": 6,
    "start_time": "2021-09-08T16:32:01.860Z"
   },
   {
    "duration": 85,
    "start_time": "2021-09-08T16:32:18.500Z"
   },
   {
    "duration": 5,
    "start_time": "2021-09-08T16:32:25.817Z"
   },
   {
    "duration": 5,
    "start_time": "2021-09-08T16:32:51.024Z"
   },
   {
    "duration": 3,
    "start_time": "2021-09-08T16:32:57.533Z"
   },
   {
    "duration": 83,
    "start_time": "2021-09-08T16:32:58.379Z"
   },
   {
    "duration": 7,
    "start_time": "2021-09-08T16:33:27.010Z"
   },
   {
    "duration": 6,
    "start_time": "2021-09-08T16:33:33.772Z"
   },
   {
    "duration": 7,
    "start_time": "2021-09-08T16:33:34.656Z"
   },
   {
    "duration": 6,
    "start_time": "2021-09-08T16:35:25.371Z"
   },
   {
    "duration": 7,
    "start_time": "2021-09-08T16:35:30.461Z"
   },
   {
    "duration": 4,
    "start_time": "2021-09-08T16:35:42.957Z"
   },
   {
    "duration": 5,
    "start_time": "2021-09-08T16:36:29.430Z"
   },
   {
    "duration": 7,
    "start_time": "2021-09-08T16:37:00.169Z"
   },
   {
    "duration": 4,
    "start_time": "2021-09-08T16:38:31.610Z"
   },
   {
    "duration": 8,
    "start_time": "2021-09-08T16:38:32.343Z"
   },
   {
    "duration": 2,
    "start_time": "2021-09-08T16:38:36.012Z"
   },
   {
    "duration": 80,
    "start_time": "2021-09-08T16:38:36.729Z"
   },
   {
    "duration": 9,
    "start_time": "2021-09-08T16:57:11.879Z"
   },
   {
    "duration": 9,
    "start_time": "2021-09-08T16:57:14.064Z"
   },
   {
    "duration": 10,
    "start_time": "2021-09-08T16:57:14.994Z"
   },
   {
    "duration": 9,
    "start_time": "2021-09-08T16:57:33.068Z"
   },
   {
    "duration": 9,
    "start_time": "2021-09-08T16:58:17.792Z"
   },
   {
    "duration": 9,
    "start_time": "2021-09-08T16:58:28.191Z"
   },
   {
    "duration": 9,
    "start_time": "2021-09-08T16:58:47.477Z"
   },
   {
    "duration": 11,
    "start_time": "2021-09-08T16:59:19.937Z"
   },
   {
    "duration": 347,
    "start_time": "2021-09-08T17:20:24.185Z"
   },
   {
    "duration": 312,
    "start_time": "2021-09-08T17:29:58.556Z"
   },
   {
    "duration": 134,
    "start_time": "2021-09-08T17:33:10.391Z"
   },
   {
    "duration": 130,
    "start_time": "2021-09-08T17:33:20.597Z"
   },
   {
    "duration": 150,
    "start_time": "2021-09-08T17:33:35.174Z"
   },
   {
    "duration": 17,
    "start_time": "2021-09-08T17:33:47.011Z"
   },
   {
    "duration": 23,
    "start_time": "2021-09-08T17:35:36.503Z"
   },
   {
    "duration": 132,
    "start_time": "2021-09-08T17:35:51.596Z"
   },
   {
    "duration": 955,
    "start_time": "2021-09-08T17:36:43.629Z"
   },
   {
    "duration": 251,
    "start_time": "2021-09-08T17:43:11.111Z"
   },
   {
    "duration": 246,
    "start_time": "2021-09-08T17:43:36.288Z"
   },
   {
    "duration": 250,
    "start_time": "2021-09-08T17:43:47.249Z"
   },
   {
    "duration": 20,
    "start_time": "2021-09-08T17:49:55.318Z"
   },
   {
    "duration": 94,
    "start_time": "2021-09-08T17:50:15.957Z"
   },
   {
    "duration": 122,
    "start_time": "2021-09-08T17:50:24.145Z"
   },
   {
    "duration": 24,
    "start_time": "2021-09-08T17:52:00.664Z"
   },
   {
    "duration": 25,
    "start_time": "2021-09-08T17:52:24.454Z"
   },
   {
    "duration": 34738,
    "start_time": "2021-09-08T17:52:58.178Z"
   },
   {
    "duration": 32932,
    "start_time": "2021-09-08T17:53:53.716Z"
   },
   {
    "duration": 252,
    "start_time": "2021-09-08T17:59:31.863Z"
   },
   {
    "duration": 4,
    "start_time": "2021-09-08T17:59:42.551Z"
   },
   {
    "duration": 4,
    "start_time": "2021-09-08T18:01:32.634Z"
   },
   {
    "duration": 4,
    "start_time": "2021-09-08T18:01:42.818Z"
   },
   {
    "duration": 275,
    "start_time": "2021-09-08T18:02:23.206Z"
   },
   {
    "duration": 4,
    "start_time": "2021-09-08T18:03:17.732Z"
   },
   {
    "duration": 4,
    "start_time": "2021-09-08T18:03:24.978Z"
   },
   {
    "duration": 4,
    "start_time": "2021-09-08T18:04:05.433Z"
   },
   {
    "duration": 83,
    "start_time": "2021-09-08T18:06:33.869Z"
   },
   {
    "duration": 251,
    "start_time": "2021-09-08T18:06:45.575Z"
   },
   {
    "duration": 254,
    "start_time": "2021-09-08T18:07:15.333Z"
   },
   {
    "duration": 269,
    "start_time": "2021-09-08T18:07:44.869Z"
   },
   {
    "duration": 252,
    "start_time": "2021-09-08T18:09:23.581Z"
   },
   {
    "duration": 5,
    "start_time": "2021-09-08T18:09:37.306Z"
   },
   {
    "duration": 250,
    "start_time": "2021-09-08T18:10:09.811Z"
   },
   {
    "duration": 346,
    "start_time": "2021-09-08T18:11:13.163Z"
   },
   {
    "duration": 381,
    "start_time": "2021-09-08T18:11:22.984Z"
   },
   {
    "duration": 396,
    "start_time": "2021-09-08T18:11:30.034Z"
   },
   {
    "duration": 382,
    "start_time": "2021-09-08T18:11:39.288Z"
   },
   {
    "duration": 5,
    "start_time": "2021-09-08T18:12:22.920Z"
   },
   {
    "duration": 381,
    "start_time": "2021-09-08T18:19:05.661Z"
   },
   {
    "duration": 87,
    "start_time": "2021-09-08T18:19:16.697Z"
   },
   {
    "duration": 311,
    "start_time": "2021-09-08T18:19:30.194Z"
   },
   {
    "duration": 1182,
    "start_time": "2021-09-08T18:36:34.876Z"
   },
   {
    "duration": 10,
    "start_time": "2021-09-08T18:36:36.059Z"
   },
   {
    "duration": 4,
    "start_time": "2021-09-08T18:36:36.071Z"
   },
   {
    "duration": 19,
    "start_time": "2021-09-08T18:36:36.077Z"
   },
   {
    "duration": 6,
    "start_time": "2021-09-08T18:36:36.098Z"
   },
   {
    "duration": 9,
    "start_time": "2021-09-08T18:36:36.106Z"
   },
   {
    "duration": 22,
    "start_time": "2021-09-08T18:36:36.116Z"
   },
   {
    "duration": 6,
    "start_time": "2021-09-08T18:36:36.142Z"
   },
   {
    "duration": 12,
    "start_time": "2021-09-08T18:36:36.150Z"
   },
   {
    "duration": 7,
    "start_time": "2021-09-08T18:36:36.192Z"
   },
   {
    "duration": 8,
    "start_time": "2021-09-08T18:36:36.201Z"
   },
   {
    "duration": 374,
    "start_time": "2021-09-08T18:36:36.211Z"
   },
   {
    "duration": 8,
    "start_time": "2021-09-08T18:36:36.591Z"
   },
   {
    "duration": 8,
    "start_time": "2021-09-08T18:36:36.600Z"
   },
   {
    "duration": 10,
    "start_time": "2021-09-08T18:36:36.610Z"
   },
   {
    "duration": 401,
    "start_time": "2021-09-08T18:36:36.622Z"
   },
   {
    "duration": 13,
    "start_time": "2021-09-08T18:36:37.026Z"
   },
   {
    "duration": 20,
    "start_time": "2021-09-08T18:36:37.041Z"
   },
   {
    "duration": 15,
    "start_time": "2021-09-08T18:36:37.063Z"
   },
   {
    "duration": 14,
    "start_time": "2021-09-08T18:36:37.080Z"
   },
   {
    "duration": 7,
    "start_time": "2021-09-08T18:36:37.096Z"
   },
   {
    "duration": 13,
    "start_time": "2021-09-08T18:36:37.105Z"
   },
   {
    "duration": 8,
    "start_time": "2021-09-08T18:36:37.121Z"
   },
   {
    "duration": 15,
    "start_time": "2021-09-08T18:36:37.131Z"
   },
   {
    "duration": 15,
    "start_time": "2021-09-08T18:36:37.148Z"
   },
   {
    "duration": 35,
    "start_time": "2021-09-08T18:36:37.164Z"
   },
   {
    "duration": 381,
    "start_time": "2021-09-08T18:36:37.201Z"
   },
   {
    "duration": 17,
    "start_time": "2021-09-08T18:36:37.584Z"
   },
   {
    "duration": 1804,
    "start_time": "2021-09-08T18:36:37.602Z"
   },
   {
    "duration": 15,
    "start_time": "2021-09-08T18:36:39.407Z"
   },
   {
    "duration": 9,
    "start_time": "2021-09-08T18:36:39.424Z"
   },
   {
    "duration": 1399,
    "start_time": "2021-09-08T18:36:39.434Z"
   },
   {
    "duration": 21,
    "start_time": "2021-09-08T18:36:40.835Z"
   },
   {
    "duration": 2,
    "start_time": "2021-09-08T18:36:40.858Z"
   },
   {
    "duration": 737,
    "start_time": "2021-09-08T18:36:40.861Z"
   },
   {
    "duration": 8,
    "start_time": "2021-09-08T18:36:41.600Z"
   },
   {
    "duration": 22,
    "start_time": "2021-09-08T18:36:41.609Z"
   },
   {
    "duration": 5,
    "start_time": "2021-09-08T18:36:41.633Z"
   },
   {
    "duration": 13,
    "start_time": "2021-09-08T18:36:41.640Z"
   },
   {
    "duration": 8,
    "start_time": "2021-09-08T18:36:41.655Z"
   },
   {
    "duration": 28,
    "start_time": "2021-09-08T18:36:41.664Z"
   },
   {
    "duration": 5,
    "start_time": "2021-09-08T18:36:41.694Z"
   },
   {
    "duration": 2778,
    "start_time": "2021-09-08T18:36:41.700Z"
   },
   {
    "duration": 18,
    "start_time": "2021-09-08T18:36:44.480Z"
   },
   {
    "duration": 31,
    "start_time": "2021-09-08T18:36:44.499Z"
   },
   {
    "duration": 12,
    "start_time": "2021-09-08T18:36:44.532Z"
   },
   {
    "duration": 9,
    "start_time": "2021-09-08T18:36:44.546Z"
   },
   {
    "duration": 10,
    "start_time": "2021-09-08T18:36:44.557Z"
   },
   {
    "duration": 98,
    "start_time": "2021-09-08T18:36:44.569Z"
   },
   {
    "duration": 8,
    "start_time": "2021-09-08T18:36:44.669Z"
   },
   {
    "duration": 20,
    "start_time": "2021-09-08T18:36:44.678Z"
   },
   {
    "duration": 9,
    "start_time": "2021-09-08T18:36:44.700Z"
   },
   {
    "duration": 15,
    "start_time": "2021-09-08T18:36:44.711Z"
   },
   {
    "duration": 17,
    "start_time": "2021-09-08T18:36:44.728Z"
   },
   {
    "duration": 12,
    "start_time": "2021-09-08T18:36:44.747Z"
   },
   {
    "duration": 1291,
    "start_time": "2021-09-09T11:13:39.900Z"
   },
   {
    "duration": 12,
    "start_time": "2021-09-09T11:13:41.193Z"
   },
   {
    "duration": 3,
    "start_time": "2021-09-09T11:13:41.207Z"
   },
   {
    "duration": 19,
    "start_time": "2021-09-09T11:13:41.212Z"
   },
   {
    "duration": 5,
    "start_time": "2021-09-09T11:13:41.232Z"
   },
   {
    "duration": 8,
    "start_time": "2021-09-09T11:13:41.239Z"
   },
   {
    "duration": 22,
    "start_time": "2021-09-09T11:13:41.277Z"
   },
   {
    "duration": 6,
    "start_time": "2021-09-09T11:13:41.300Z"
   },
   {
    "duration": 8,
    "start_time": "2021-09-09T11:13:41.309Z"
   },
   {
    "duration": 8,
    "start_time": "2021-09-09T11:13:41.320Z"
   },
   {
    "duration": 9,
    "start_time": "2021-09-09T11:13:41.330Z"
   },
   {
    "duration": 466,
    "start_time": "2021-09-09T11:13:41.341Z"
   },
   {
    "duration": 10,
    "start_time": "2021-09-09T11:13:41.810Z"
   },
   {
    "duration": 7,
    "start_time": "2021-09-09T11:13:41.822Z"
   },
   {
    "duration": 10,
    "start_time": "2021-09-09T11:13:41.831Z"
   },
   {
    "duration": 468,
    "start_time": "2021-09-09T11:13:41.843Z"
   },
   {
    "duration": 15,
    "start_time": "2021-09-09T11:13:42.313Z"
   },
   {
    "duration": 35,
    "start_time": "2021-09-09T11:13:42.330Z"
   },
   {
    "duration": 13,
    "start_time": "2021-09-09T11:13:42.367Z"
   },
   {
    "duration": 23,
    "start_time": "2021-09-09T11:13:42.382Z"
   },
   {
    "duration": 19,
    "start_time": "2021-09-09T11:13:42.407Z"
   },
   {
    "duration": 28,
    "start_time": "2021-09-09T11:13:42.428Z"
   },
   {
    "duration": 25,
    "start_time": "2021-09-09T11:13:42.458Z"
   },
   {
    "duration": 32,
    "start_time": "2021-09-09T11:13:42.485Z"
   },
   {
    "duration": 10,
    "start_time": "2021-09-09T11:13:42.519Z"
   },
   {
    "duration": 15,
    "start_time": "2021-09-09T11:13:42.531Z"
   },
   {
    "duration": 424,
    "start_time": "2021-09-09T11:13:42.550Z"
   },
   {
    "duration": 15,
    "start_time": "2021-09-09T11:13:42.976Z"
   },
   {
    "duration": 2029,
    "start_time": "2021-09-09T11:13:42.993Z"
   },
   {
    "duration": 15,
    "start_time": "2021-09-09T11:13:45.024Z"
   },
   {
    "duration": 6,
    "start_time": "2021-09-09T11:13:45.041Z"
   },
   {
    "duration": 1627,
    "start_time": "2021-09-09T11:13:45.049Z"
   },
   {
    "duration": 24,
    "start_time": "2021-09-09T11:13:46.678Z"
   },
   {
    "duration": 3,
    "start_time": "2021-09-09T11:13:46.705Z"
   },
   {
    "duration": 820,
    "start_time": "2021-09-09T11:13:46.710Z"
   },
   {
    "duration": 429,
    "start_time": "2021-09-09T11:14:18.534Z"
   },
   {
    "duration": 399,
    "start_time": "2021-09-09T11:14:26.281Z"
   },
   {
    "duration": 395,
    "start_time": "2021-09-09T11:14:47.527Z"
   },
   {
    "duration": 387,
    "start_time": "2021-09-09T11:15:50.815Z"
   }
  ],
  "kernelspec": {
   "display_name": "Python 3 (ipykernel)",
   "language": "python",
   "name": "python3"
  },
  "language_info": {
   "codemirror_mode": {
    "name": "ipython",
    "version": 3
   },
   "file_extension": ".py",
   "mimetype": "text/x-python",
   "name": "python",
   "nbconvert_exporter": "python",
   "pygments_lexer": "ipython3",
   "version": "3.9.7"
  },
  "toc": {
   "base_numbering": 1,
   "nav_menu": {},
   "number_sections": true,
   "sideBar": true,
   "skip_h1_title": true,
   "title_cell": "Table of Contents",
   "title_sidebar": "Contents",
   "toc_cell": false,
   "toc_position": {},
   "toc_section_display": true,
   "toc_window_display": false
  }
 },
 "nbformat": 4,
 "nbformat_minor": 2
}
